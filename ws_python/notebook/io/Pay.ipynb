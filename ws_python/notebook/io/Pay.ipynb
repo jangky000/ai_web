{
 "cells": [
  {
   "cell_type": "code",
   "execution_count": 1,
   "metadata": {},
   "outputs": [],
   "source": [
    "import os\n",
    " \n",
    "os.chdir('C:/ai6/ws_python/notebook/io')  # 현재 기준 폴더 변경"
   ]
  },
  {
   "cell_type": "code",
   "execution_count": 2,
   "metadata": {},
   "outputs": [
    {
     "name": "stdout",
     "output_type": "stream",
     "text": [
      "왕눈이,1800000    ,1 \n",
      "<class 'list'>\n",
      "['왕눈이', '1800000    ', '1 \\n']\n",
      "\n",
      "아로미,2000000,2\n",
      "<class 'list'>\n",
      "['아로미', '2000000', '2\\n']\n",
      "\n",
      "홍길동,2500000,3\n",
      "<class 'list'>\n",
      "['홍길동', '2500000', '3\\n']\n",
      "\n",
      "가길순,3000000,5\n",
      "<class 'list'>\n",
      "['가길순', '3000000', '5\\n']\n",
      "\n",
      "나길순,3800000,9<class 'list'>\n",
      "['나길순', '3800000', '9']\n",
      "\n"
     ]
    }
   ],
   "source": [
    "# fr = open('pay.csv', 'r')       # ANSI\n",
    "# fw = open('pay_proc.txt', 'w')  # ANSI\n",
    "fr = open('pay.csv', 'r', encoding='utf-8')       \n",
    "fw = open('pay_proc.txt', 'w', encoding='utf-8')  \n",
    "\n",
    "while True:\n",
    "    line = fr.readline() # 한 라인 읽기\n",
    "    if not line: # 파일의 마지막인지 검사\n",
    "        break    # while문 종료\n",
    "\n",
    "    print(line, end='') # 라인의 줄바꿈 기호가 존재함\n",
    "    values = line.split(',')  # ','로 문장 분할    \n",
    "    print(type(values))\n",
    "    print(values)\n",
    "    print()"
   ]
  },
  {
   "cell_type": "code",
   "execution_count": 3,
   "metadata": {},
   "outputs": [
    {
     "name": "stdout",
     "output_type": "stream",
     "text": [
      "왕눈이 직원의 급여를 처리했습니다.\n",
      "아로미 직원의 급여를 처리했습니다.\n",
      "홍길동 직원의 급여를 처리했습니다.\n",
      "가길순 직원의 급여를 처리했습니다.\n",
      "나길순 직원의 급여를 처리했습니다.\n"
     ]
    }
   ],
   "source": [
    "fr = open('pay.csv', 'r', encoding='utf-8')       \n",
    "fw = open('pay_proc.txt', 'w', encoding='utf-8')  \n",
    "\n",
    "while True:\n",
    "    line = fr.readline()\n",
    "    if not line: # 파일의 마지막인지 검사\n",
    "        break    # while문 종료\n",
    " \n",
    "    values = line.split(',')# ','로 문장 분할\n",
    "    name = values[0]        # 성명 \n",
    "    basic = int(values[1])  # 기본급, 공백 자동 삭제\n",
    "    year = int(values[2])   # 경력\n",
    "    total = basic * 13      # 기본급 * 13\n",
    " \n",
    "    fw.write(\"성명: \" + name + '\\n')\n",
    "    fw.write(\"기본급: \" + format(basic, ',') + '\\n') # 천단의 구분자\n",
    "    fw.write(\"경력: \" + str(year) + '\\n')\n",
    "    fw.write(\"연봉: \" + format(total, ',') + '\\n')\n",
    "    fw.write(\"-------------------------\" + '\\n')\n",
    "    print(name + ' 직원의 급여를 처리했습니다.')\n",
    "\n",
    "fr.close()\n",
    "fw.close()"
   ]
  },
  {
   "cell_type": "code",
   "execution_count": null,
   "metadata": {},
   "outputs": [],
   "source": []
  }
 ],
 "metadata": {
  "kernelspec": {
   "display_name": "ai",
   "language": "python",
   "name": "ai"
  },
  "language_info": {
   "codemirror_mode": {
    "name": "ipython",
    "version": 3
   },
   "file_extension": ".py",
   "mimetype": "text/x-python",
   "name": "python",
   "nbconvert_exporter": "python",
   "pygments_lexer": "ipython3",
   "version": "3.6.10"
  }
 },
 "nbformat": 4,
 "nbformat_minor": 2
}
