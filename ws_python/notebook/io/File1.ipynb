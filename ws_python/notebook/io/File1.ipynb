{
 "cells": [
  {
   "cell_type": "code",
   "execution_count": 1,
   "metadata": {},
   "outputs": [],
   "source": [
    "import os"
   ]
  },
  {
   "cell_type": "code",
   "execution_count": 2,
   "metadata": {},
   "outputs": [
    {
     "name": "stdout",
     "output_type": "stream",
     "text": [
      "1. 파일 존재\n"
     ]
    }
   ],
   "source": [
    "f = 'c:/ai6/sw_images/spring/spring01.jpg'\n",
    "if os.path.exists(f):\n",
    "    print('1. 파일 존재')"
   ]
  },
  {
   "cell_type": "code",
   "execution_count": 6,
   "metadata": {},
   "outputs": [
    {
     "name": "stdout",
     "output_type": "stream",
     "text": [
      "2. 파일명: c:/ai6/sw_images/spring/spring01\n",
      "3. 확장자: .jpg\n"
     ]
    }
   ],
   "source": [
    "# 파일명 확장자(ext) 분리\n",
    "fname, fext = os.path.splitext(f)\n",
    "print('2. 파일명: ' + fname)\n",
    "print('3. 확장자: ' + fext)"
   ]
  },
  {
   "cell_type": "code",
   "execution_count": 7,
   "metadata": {},
   "outputs": [
    {
     "name": "stdout",
     "output_type": "stream",
     "text": [
      "4. 파일 크기: 607 KB\n",
      "5. 파일인지 검사: True\n"
     ]
    }
   ],
   "source": [
    "fsize = os.path.getsize(f) # byte\n",
    "# print(type(fsize))   # <class 'int'>\n",
    "print('4. 파일 크기:', int(fsize / 1024), \"KB\")\n",
    "print('5. 파일인지 검사:', os.path.isfile(f))"
   ]
  },
  {
   "cell_type": "code",
   "execution_count": 8,
   "metadata": {},
   "outputs": [
    {
     "name": "stdout",
     "output_type": "stream",
     "text": [
      "\n",
      "6. 현재 폴더: C:\\ai6\\ws_python\\notebook\\iotest\n"
     ]
    }
   ],
   "source": [
    "print()\n",
    "print('6. 현재 폴더: ' + os.getcwd())\n",
    "# C:\\py_202004\\ws_python\\notebook\\io> python File1.py\n",
    "# print(__file__)  # C:/py_202004/ws_python/notebook/io/File.py\n",
    "# print('7. 절대 경로: ' + os.path.abspath(__file__)) # Jupyter는 에러"
   ]
  },
  {
   "cell_type": "code",
   "execution_count": 10,
   "metadata": {},
   "outputs": [
    {
     "name": "stdout",
     "output_type": "stream",
     "text": [
      "8. 파일명 변경: None\n"
     ]
    }
   ],
   "source": [
    "newf = 'C:/ai6/sw_images/spring/spring_new.jpg'\n",
    "# success시 None 출력, \n",
    "# 파일 존재시 에러\n",
    "print('8. 파일명 변경: ' + str(os.rename(f, newf)))"
   ]
  },
  {
   "cell_type": "code",
   "execution_count": 17,
   "metadata": {},
   "outputs": [
    {
     "name": "stdout",
     "output_type": "stream",
     "text": [
      "9. 파일 삭제\n"
     ]
    }
   ],
   "source": [
    "print('9. 파일 삭제')\n",
    "newf = 'C:/ai6/sw_images/spring/spring_new.jpg'\n",
    "try:\n",
    "    os.remove(newf)\n",
    "except Exception as e:\n",
    "    print(e)"
   ]
  },
  {
   "cell_type": "code",
   "execution_count": 11,
   "metadata": {},
   "outputs": [
    {
     "name": "stdout",
     "output_type": "stream",
     "text": [
      "10. 파일 생성\n"
     ]
    }
   ],
   "source": [
    "print('10. 파일 생성')\n",
    "f = open('./test1.txt', 'w') # 폴더는 미리 생성되어 있어야함.\n",
    "f.close()"
   ]
  },
  {
   "cell_type": "code",
   "execution_count": 13,
   "metadata": {},
   "outputs": [
    {
     "name": "stdout",
     "output_type": "stream",
     "text": [
      "11. 파일 이동\n",
      "None\n"
     ]
    }
   ],
   "source": [
    "print('11. 파일 이동')\n",
    "src='C:/ai6/sw_images/spring/spring03.jpg'\n",
    "dest = 'C:/ai6/tmp/spring03.jpg' \n",
    "print(str(os.rename(src, dest)))"
   ]
  },
  {
   "cell_type": "code",
   "execution_count": 14,
   "metadata": {},
   "outputs": [
    {
     "name": "stdout",
     "output_type": "stream",
     "text": [
      "11-2. 파일 이동 + 이름 변경\n",
      "None\n"
     ]
    }
   ],
   "source": [
    "print('11-2. 파일 이동 + 이름 변경')\n",
    "src='C:/ai6/sw_images/spring/spring05.jpg'\n",
    "dest = 'C:/ai6/tmp/spring05_new.jpg' \n",
    "print(str(os.rename(src, dest)))"
   ]
  },
  {
   "cell_type": "code",
   "execution_count": null,
   "metadata": {},
   "outputs": [],
   "source": []
  },
  {
   "cell_type": "code",
   "execution_count": null,
   "metadata": {},
   "outputs": [],
   "source": []
  },
  {
   "cell_type": "code",
   "execution_count": null,
   "metadata": {},
   "outputs": [],
   "source": []
  },
  {
   "cell_type": "code",
   "execution_count": null,
   "metadata": {},
   "outputs": [],
   "source": []
  },
  {
   "cell_type": "code",
   "execution_count": null,
   "metadata": {},
   "outputs": [],
   "source": []
  },
  {
   "cell_type": "code",
   "execution_count": null,
   "metadata": {},
   "outputs": [],
   "source": []
  }
 ],
 "metadata": {
  "kernelspec": {
   "display_name": "ai",
   "language": "python",
   "name": "ai"
  },
  "language_info": {
   "codemirror_mode": {
    "name": "ipython",
    "version": 3
   },
   "file_extension": ".py",
   "mimetype": "text/x-python",
   "name": "python",
   "nbconvert_exporter": "python",
   "pygments_lexer": "ipython3",
   "version": "3.6.10"
  }
 },
 "nbformat": 4,
 "nbformat_minor": 2
}
