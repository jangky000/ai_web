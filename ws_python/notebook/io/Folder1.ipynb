{
 "cells": [
  {
   "cell_type": "code",
   "execution_count": 1,
   "metadata": {},
   "outputs": [],
   "source": [
    "import os, glob"
   ]
  },
  {
   "cell_type": "code",
   "execution_count": 3,
   "metadata": {},
   "outputs": [
    {
     "name": "stdout",
     "output_type": "stream",
     "text": [
      "1. 폴더 생성\n"
     ]
    }
   ],
   "source": [
    "os.chdir('C:/ai6/temp')  # 기준 폴더의 지정\n",
    "\n",
    "newfolder = 'spring'\n",
    "if os.path.exists(newfolder) == False:\n",
    "    os.mkdir(newfolder)  # 하나의 폴더 생성\n",
    "    print('1. 폴더 생성')\n",
    "else:\n",
    "    print('1. 폴더 존재')"
   ]
  },
  {
   "cell_type": "code",
   "execution_count": 4,
   "metadata": {},
   "outputs": [
    {
     "name": "stdout",
     "output_type": "stream",
     "text": [
      "2. 하위폴더 모두 생성\n"
     ]
    }
   ],
   "source": [
    "print('2. 하위폴더 모두 생성')\n",
    "# newfolder = 'sw/python/scraping'\n",
    "newfolder = 'sw/python/crawling'  # 존재하지 않는 폴더만 새로 생성\n",
    "if os.path.exists(newfolder) == False: # 폴더가 존재하지 않을 경우만 생성\n",
    "    os.makedirs(newfolder)"
   ]
  },
  {
   "cell_type": "code",
   "execution_count": 5,
   "metadata": {},
   "outputs": [
    {
     "name": "stdout",
     "output_type": "stream",
     "text": [
      "3. 폴더 이름 변경\n"
     ]
    }
   ],
   "source": [
    "print('3. 폴더 이름 변경')\n",
    "folder = 'spring' # 커서가 spring 폴더안에 있으면 Lock이 걸려 변경 불가능\n",
    "foldernew = 'fall'\n",
    "if os.path.exists(foldernew) == False:\n",
    "    os.rename(folder, foldernew)"
   ]
  },
  {
   "cell_type": "code",
   "execution_count": 6,
   "metadata": {},
   "outputs": [
    {
     "name": "stdout",
     "output_type": "stream",
     "text": [
      "4. 폴더의 삭제: None\n"
     ]
    }
   ],
   "source": [
    "folder = 'fall'\n",
    "print('4. 폴더의 삭제: ' + str(os.rmdir(folder)))  # success: None"
   ]
  },
  {
   "cell_type": "code",
   "execution_count": 7,
   "metadata": {},
   "outputs": [
    {
     "name": "stdout",
     "output_type": "stream",
     "text": [
      "현재 folder: C:\\ai6\\sw_images\\spring\n",
      "<class 'list'>\n",
      "['spring02.jpg', 'spring04.jpg', 'spring06.jpg', 'spring07.jpg', 'spring08.jpg', 'spring09.jpg', 'spring10.jpg', 'spring11.jpg', 'spring12.jpg', 'spring13.jpg', 'spring14.jpg', 'spring15.jpg', 'spring16.jpg', 'spring17.jpg', 'spring18.jpg', 'spring19.jpg', 'spring20.jpg', 'thumb']\n"
     ]
    }
   ],
   "source": [
    "# os.listdir(): 폴더 파일 리스트 읽어오기\n",
    "os.chdir('C:/ai6/sw_images/spring')  # 기준 폴더의 지정\n",
    "\n",
    "folder = os.getcwd()\n",
    "print('현재 folder: ' + folder)\n",
    "file_list = os.listdir(folder) # 자식 폴더, 파일 목록\n",
    "print(type(file_list))\n",
    "print(file_list)"
   ]
  },
  {
   "cell_type": "code",
   "execution_count": 8,
   "metadata": {},
   "outputs": [
    {
     "name": "stdout",
     "output_type": "stream",
     "text": [
      "1. spring02.jpg(298KB)\n",
      "2. spring04.jpg(300KB)\n",
      "3. spring06.jpg(93KB)\n",
      "4. spring07.jpg(1741KB)\n",
      "5. spring08.jpg(136KB)\n",
      "6. spring09.jpg(262KB)\n",
      "7. spring10.jpg(326KB)\n",
      "8. spring11.jpg(242KB)\n",
      "9. spring12.jpg(288KB)\n",
      "10. spring13.jpg(364KB)\n",
      "11. spring14.jpg(640KB)\n",
      "12. spring15.jpg(611KB)\n",
      "13. spring16.jpg(114KB)\n",
      "14. spring17.jpg(362KB)\n",
      "15. spring18.jpg(434KB)\n",
      "16. spring19.jpg(124KB)\n",
      "17. spring20.jpg(337KB)\n"
     ]
    }
   ],
   "source": [
    "# glob.glob() -> *.jpg 필터링\n",
    "files = '*.jpg'\n",
    "file_list = glob.glob(files) # 필터링\n",
    "\n",
    "length = len(file_list)      # 파일 갯수\n",
    "for index in range(length):  # 갯수만큼 순환\n",
    "    fname = file_list[index]\n",
    "    size = int(os.path.getsize(fname))\n",
    "    size = int(size / 1024 + 0.5)  # 반올림, KB\n",
    "    print(str(index+1) + '. ' + fname + '(' + str(size) + 'KB)')"
   ]
  },
  {
   "cell_type": "code",
   "execution_count": null,
   "metadata": {},
   "outputs": [],
   "source": []
  }
 ],
 "metadata": {
  "kernelspec": {
   "display_name": "ai",
   "language": "python",
   "name": "ai"
  },
  "language_info": {
   "codemirror_mode": {
    "name": "ipython",
    "version": 3
   },
   "file_extension": ".py",
   "mimetype": "text/x-python",
   "name": "python",
   "nbconvert_exporter": "python",
   "pygments_lexer": "ipython3",
   "version": "3.6.10"
  }
 },
 "nbformat": 4,
 "nbformat_minor": 2
}
