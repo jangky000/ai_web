{
 "cells": [
  {
   "cell_type": "code",
   "execution_count": 1,
   "metadata": {},
   "outputs": [],
   "source": [
    "import os\n",
    " \n",
    "os.chdir('C:/ai6/ws_python/notebook/io')  # 현재 기준 폴더 변경"
   ]
  },
  {
   "cell_type": "code",
   "execution_count": 2,
   "metadata": {},
   "outputs": [
    {
     "name": "stdout",
     "output_type": "stream",
     "text": [
      "왕눈이,1800000    ,1 \n",
      "<class 'list'>\n",
      "['왕눈이', '1800000    ', '1 \\n']\n",
      "\n",
      "아로미,2000000,2\n",
      "<class 'list'>\n",
      "['아로미', '2000000', '2\\n']\n",
      "\n",
      "홍길동,2500000,3\n",
      "<class 'list'>\n",
      "['홍길동', '2500000', '3\\n']\n",
      "\n",
      "가길순,3000000,5\n",
      "<class 'list'>\n",
      "['가길순', '3000000', '5\\n']\n",
      "\n",
      "나길순,3800000,9<class 'list'>\n",
      "['나길순', '3800000', '9']\n",
      "\n"
     ]
    }
   ],
   "source": [
    "# fr = open('pay.csv', 'r')       # ANSI\n",
    "# fw = open('pay_proc.txt', 'w')  # ANSI\n",
    "fr = open('pay.csv', 'r', encoding='utf-8')       \n",
    "fw = open('pay_proc.txt', 'w', encoding='utf-8')  \n",
    "\n",
    "while True:\n",
    "    line = fr.readline() # 한 라인 읽기\n",
    "    if not line: # 파일의 마지막인지 검사\n",
    "        break    # while문 종료\n",
    "\n",
    "    print(line, end='') # 라인의 줄바꿈 기호가 존재함\n",
    "    values = line.split(',')  # ','로 문장 분할    \n",
    "    print(type(values))\n",
    "    print(values)\n",
    "    print()"
   ]
  },
  {
   "cell_type": "code",
   "execution_count": null,
   "metadata": {},
   "outputs": [],
   "source": []
  }
 ],
 "metadata": {
  "kernelspec": {
   "display_name": "ai",
   "language": "python",
   "name": "ai"
  },
  "language_info": {
   "codemirror_mode": {
    "name": "ipython",
    "version": 3
   },
   "file_extension": ".py",
   "mimetype": "text/x-python",
   "name": "python",
   "nbconvert_exporter": "python",
   "pygments_lexer": "ipython3",
   "version": "3.6.10"
  }
 },
 "nbformat": 4,
 "nbformat_minor": 2
}
