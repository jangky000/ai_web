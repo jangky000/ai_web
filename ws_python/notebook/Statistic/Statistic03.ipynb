{
 "cells": [
  {
   "cell_type": "markdown",
   "metadata": {},
   "source": [
    "### 표본 표준편차"
   ]
  },
  {
   "cell_type": "code",
   "execution_count": 1,
   "metadata": {},
   "outputs": [
    {
     "data": {
      "application/javascript": [
       "IPython.notebook.set_autosave_interval(0)"
      ]
     },
     "metadata": {},
     "output_type": "display_data"
    },
    {
     "name": "stdout",
     "output_type": "stream",
     "text": [
      "Autosave disabled\n"
     ]
    }
   ],
   "source": [
    "%autosave 0\n",
    "import pandas as pd\n",
    "import numpy as np\n",
    "import matplotlib\n",
    "import matplotlib.pyplot as plt\n",
    "from matplotlib import font_manager, rc\n",
    "\n",
    "font_name = font_manager.FontProperties(fname=\"C:/Windows/Fonts/malgun.ttf\").get_name()\n",
    "rc('font', family=font_name)           # 맑은 고딕 폰트 지정\n",
    "plt.rcParams[\"font.size\"] = 12         # 글자 크기\n",
    "plt.rcParams[\"figure.figsize\"] = (10, 4) # 10:4의 그래프 비율\n",
    "plt.rcParams['axes.unicode_minus'] = False  # minus 부호는 unicode 적용시 한글이 깨짐으로 설정\n",
    "\n",
    "# Jupyter에게 matplotlib 그래프를 출력 영역에 표시할 것을 지시하는 명령\n",
    "%matplotlib inline"
   ]
  },
  {
   "cell_type": "code",
   "execution_count": 2,
   "metadata": {},
   "outputs": [
    {
     "name": "stdout",
     "output_type": "stream",
     "text": [
      "평균: 10.75\n",
      "편차의 제곱의 합: 783.75\n",
      "전체모분산: 39.1875\n",
      "전체 모표준편차: 6.3\n"
     ]
    }
   ],
   "source": [
    "# 1 ~ 15까지의 평균, 편차의 제곱의 합, 모분산, 모표준편차를 산출하시오.\n",
    "data = pd.Series([1,2,3,4,5,6,7,8,9,10,11,12,13,14,15,16,17,18,19,25])\n",
    "cnt = len(data)\n",
    "total = sum(data)\n",
    "mean = total / cnt\n",
    "deviation = mean - data\n",
    "print('평균:', mean)\n",
    "deviation_total = sum(deviation ** 2)\n",
    "print('편차의 제곱의 합:', deviation_total)\n",
    "variance4 = deviation_total / cnt\n",
    "print('전체모분산:', variance4)\n",
    "sd_all = np.sqrt(variance4)\n",
    "print('전체 모표준편차: {0:.1f}'.format(sd_all))"
   ]
  },
  {
   "cell_type": "code",
   "execution_count": 3,
   "metadata": {},
   "outputs": [
    {
     "name": "stdout",
     "output_type": "stream",
     "text": [
      "1.0   1.1111111111111112   1.25   1.4285714285714286   1.6666666666666667\n"
     ]
    }
   ],
   "source": [
    "# 분모를 줄이면 나누기 값이 증가함.\n",
    "print(10/10, ' ', 10/9, ' ', 10/8, ' ', 10/7, ' ', 10/6)"
   ]
  },
  {
   "cell_type": "markdown",
   "metadata": {},
   "source": [
    "### 표본 데이터를  3회 추출하여 표준편차 산출"
   ]
  },
  {
   "cell_type": "code",
   "execution_count": 4,
   "metadata": {},
   "outputs": [
    {
     "name": "stdout",
     "output_type": "stream",
     "text": [
      "평균: 4.0\n",
      "편차의 제곱의 합: 28.0\n",
      "표본 분산: 4.666666666666667\n",
      "표본 표준편차: 2.2\n"
     ]
    }
   ],
   "source": [
    "# 1 ~ 7까지의 평균, 편차의 제곱의 합, 표본분산, 표본 표준편차\n",
    "data = pd.Series([1,2,3,4,5,6,7])\n",
    "cnt = len(data)\n",
    "total = sum(data)\n",
    "mean = total / cnt\n",
    "deviation = mean - data\n",
    "print('평균:', mean)\n",
    "deviation_total = sum(deviation ** 2)\n",
    "print('편차의 제곱의 합:', deviation_total)\n",
    "variance = deviation_total / (cnt - 1) # 분모 -1하여 값 증가\n",
    "print('표본 분산:', variance)\n",
    "sd1 = np.sqrt(variance)\n",
    "print('표본 표준편차: {0:.1f}'.format(sd1)) "
   ]
  },
  {
   "cell_type": "code",
   "execution_count": 5,
   "metadata": {},
   "outputs": [
    {
     "name": "stdout",
     "output_type": "stream",
     "text": [
      "평균: 11.5\n",
      "편차의 제곱의 합: 42.0\n",
      "표본 분산: 6.0\n",
      "표본 표준편차: 2.4\n"
     ]
    }
   ],
   "source": [
    "# 8 ~ 15까지의 평균, 편차의 제곱의 합, 표본분산, 표본 표준편차\n",
    "data = pd.Series([8,9,10,11,12,13,14,15])\n",
    "cnt = len(data)\n",
    "total = sum(data)\n",
    "mean = total / cnt\n",
    "deviation = mean - data\n",
    "print('평균:', mean)\n",
    "deviation_total = sum(deviation ** 2)\n",
    "print('편차의 제곱의 합:', deviation_total)\n",
    "variance = deviation_total / (cnt - 1) # 분모 -1하여 값 증가\n",
    "print('표본 분산:', variance)\n",
    "sd2 = np.sqrt(variance)\n",
    "print('표본 표준편차: {0:.1f}'.format(sd2)) "
   ]
  },
  {
   "cell_type": "code",
   "execution_count": 6,
   "metadata": {},
   "outputs": [
    {
     "name": "stdout",
     "output_type": "stream",
     "text": [
      "평균: 19.0\n",
      "편차의 제곱의 합: 50.0\n",
      "표본 분산: 12.5\n",
      "표본 표준편차: 3.5\n"
     ]
    }
   ],
   "source": [
    "# 16,17,18,19,25의 평균, 편차의 제곱의 합, 표본분산, 표본 표준편차\n",
    "data = pd.Series([16,17,18,19,25])\n",
    "cnt = len(data)\n",
    "total = sum(data)\n",
    "mean = total / cnt\n",
    "deviation = mean - data\n",
    "print('평균:', mean)\n",
    "deviation_total = sum(deviation ** 2)\n",
    "print('편차의 제곱의 합:', deviation_total)\n",
    "variance = deviation_total / (cnt - 1) # 분모 -1하여 값 증가\n",
    "print('표본 분산:', variance)\n",
    "sd3 = np.sqrt(variance)\n",
    "print('표본 표준편차: {0:.1f}'.format(sd3)) "
   ]
  },
  {
   "cell_type": "code",
   "execution_count": 7,
   "metadata": {},
   "outputs": [
    {
     "name": "stdout",
     "output_type": "stream",
     "text": [
      "전체 모표준편차: 6.3\n",
      "표본 데이터를 3회 추출하여 표준편차 산출: 8.1\n"
     ]
    }
   ],
   "source": [
    "print('전체 모표준편차: {0:.1f}'.format(sd_all))\n",
    "print('표본 데이터를 3회 추출하여 표준편차 산출: {0:.1f}'.format(sd1+sd2+sd3))\n",
    "# 표본의 표준 편차가 증가됨\n",
    "# 값이 크게 증가된 이유는 '모든' 데이터를 3그룹으로 분할했기 때문 -> 하지만 실제로는 모든 데이터를 구하기 어렵다."
   ]
  },
  {
   "cell_type": "markdown",
   "metadata": {},
   "source": [
    "### 통계분석에서 일반적인 표본의 표준편차 산출의 경우 데이터는 무작위로 산출됨"
   ]
  },
  {
   "cell_type": "code",
   "execution_count": 8,
   "metadata": {},
   "outputs": [
    {
     "name": "stdout",
     "output_type": "stream",
     "text": [
      "평균: 11.0\n",
      "편차의 제곱의 합: 114.0\n",
      "표본 분산: 28.5\n",
      "표본 표준편차: 5.3\n",
      "전체 모표준편차: 6.3\n"
     ]
    }
   ],
   "source": [
    "# 표본분산, 표본 표준편차\n",
    "# 전체 데이터: 1,2,3,4,5,6,7,8,9,10,11,12,13,14,15,16,17,18,19,25\n",
    "data = pd.Series([5,6,12,15,17])\n",
    "cnt = len(data)\n",
    "total = sum(data)\n",
    "mean = total / cnt\n",
    "deviation = mean - data\n",
    "print('평균:', mean)\n",
    "deviation_total = sum(deviation ** 2)\n",
    "print('편차의 제곱의 합:', deviation_total)\n",
    "variance = deviation_total / (cnt-1) # 분모 -1하여 값 증가\n",
    "print('표본 분산:', variance)\n",
    "sd = np.sqrt(variance)\n",
    "print('표본 표준편차: {0:.1f}'.format(sd))\n",
    "print('전체 모표준편차: {0:.1f}'.format(sd_all))"
   ]
  },
  {
   "cell_type": "code",
   "execution_count": null,
   "metadata": {},
   "outputs": [],
   "source": []
  },
  {
   "cell_type": "code",
   "execution_count": null,
   "metadata": {},
   "outputs": [],
   "source": []
  },
  {
   "cell_type": "code",
   "execution_count": null,
   "metadata": {},
   "outputs": [],
   "source": []
  }
 ],
 "metadata": {
  "kernelspec": {
   "display_name": "ai",
   "language": "python",
   "name": "ai"
  },
  "language_info": {
   "codemirror_mode": {
    "name": "ipython",
    "version": 3
   },
   "file_extension": ".py",
   "mimetype": "text/x-python",
   "name": "python",
   "nbconvert_exporter": "python",
   "pygments_lexer": "ipython3",
   "version": "3.6.10"
  }
 },
 "nbformat": 4,
 "nbformat_minor": 2
}
