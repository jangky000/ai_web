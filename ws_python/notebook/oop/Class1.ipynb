{
 "cells": [
  {
   "cell_type": "markdown",
   "metadata": {},
   "source": [
    "## Class"
   ]
  },
  {
   "cell_type": "code",
   "execution_count": 11,
   "metadata": {},
   "outputs": [],
   "source": [
    "class Class1: # 데이터만 있는 클래스\n",
    "    year = 0  # 클래스 변수, static 성질을 갖음.\n",
    "    product = ''\n",
    "    price = 0\n",
    "    dc = 0;\n",
    "    service = False\n"
   ]
  },
  {
   "cell_type": "code",
   "execution_count": 12,
   "metadata": {},
   "outputs": [
    {
     "name": "stdout",
     "output_type": "stream",
     "text": [
      "2017\n",
      "SSD512\n",
      "200000\n",
      "3.5\n",
      "False\n"
     ]
    }
   ],
   "source": [
    "if __name__ == '__main__':    \n",
    "    Class1.year = 2017  # static적인 방법, 클래스명으로 접근\n",
    "    Class1.product = 'SSD512'\n",
    "    Class1.price = 200000\n",
    "    Class1.dc = 3.5\n",
    "    Class1.service = False\n",
    " \n",
    "    print(Class1.year)\n",
    "    print(Class1.product)\n",
    "    print(Class1.price)\n",
    "    print(Class1.dc)\n",
    "    print(Class1.service)"
   ]
  },
  {
   "cell_type": "code",
   "execution_count": 13,
   "metadata": {
    "scrolled": true
   },
   "outputs": [
    {
     "name": "stdout",
     "output_type": "stream",
     "text": [
      "Class1.year: 2017\n",
      "2017\n"
     ]
    }
   ],
   "source": [
    "print('Class1.year:', Class1.year)\n",
    "# 기존에 static적인 방법으로 값을 할당한것이 초기값으로 객체 생성시에 할당됨\n",
    "product1 = Class1()  # 객체 생성 new 쓰지 않는다.\n",
    "print(product1.year) # product1의 메모리에 있는 year 변수"
   ]
  },
  {
   "cell_type": "code",
   "execution_count": 14,
   "metadata": {},
   "outputs": [
    {
     "name": "stdout",
     "output_type": "stream",
     "text": [
      "2017\n"
     ]
    }
   ],
   "source": [
    "product2 = Class1()  # 객체 생성, 변수들이 새로운 메모리에 할당됨, new 없음\n",
    "print(product2.year) # product2의 메모리에 있는 year 변수"
   ]
  },
  {
   "cell_type": "code",
   "execution_count": 15,
   "metadata": {},
   "outputs": [
    {
     "name": "stdout",
     "output_type": "stream",
     "text": [
      "2019\n",
      "2017\n"
     ]
    }
   ],
   "source": [
    "product1.year = 2019\n",
    "print(product1.year) # product1의 메모리에 있는 year 변수\n",
    "# product2.year = 2020\n",
    "print(product2.year) # product2의 메모리에 있는 year 변수"
   ]
  },
  {
   "cell_type": "code",
   "execution_count": 16,
   "metadata": {},
   "outputs": [
    {
     "name": "stdout",
     "output_type": "stream",
     "text": [
      "Class1.year:  2017\n"
     ]
    }
   ],
   "source": [
    "print('Class1.year: ', Class1.year)"
   ]
  },
  {
   "cell_type": "code",
   "execution_count": 17,
   "metadata": {},
   "outputs": [],
   "source": [
    "# 파이썬은 this 대신 self로 접근\n",
    "class Product:\n",
    "    # self: 메소드(함수)안에서 객체를 연결해줌, self == this, \n",
    "    # self 생략시 에러, self는 전달 받지 않음\n",
    "    def setData1(self):    \n",
    "        print('type(self):', type(self))  # <class '__main__.Product'>\n",
    "        print('id(self):', id(self))\n",
    "    def setData2(self, year, product): # self는 전달 받지 않음.\n",
    "        self.year = year # instance 변수, field, property, attribute, 멤버 변수, 속성...\n",
    "        self.product = product\n",
    "        self.price = 0\n",
    "        self.dc = 0\n",
    "    def printData(self):\n",
    "        print('----------------------')\n",
    "        print(\"생산 년도:\", self.year)\n",
    "        print(\"제품명:\", self.product)\n",
    "        print(\"가격:\", self.price)\n",
    "        print(\"할인 가격:\", self.dc)"
   ]
  },
  {
   "cell_type": "code",
   "execution_count": 19,
   "metadata": {},
   "outputs": [
    {
     "name": "stdout",
     "output_type": "stream",
     "text": [
      "type(self): <class '__main__.Product'>\n",
      "id(self): 2465370854848\n",
      "type(product1): <class '__main__.Product'>\n",
      "id(product1): 2465370854848\n"
     ]
    }
   ],
   "source": [
    "# 객체 생성됨, class는 함수와 구분을위해 첫자를 대문자로 사용 권장\n",
    "product1 = Product() # 객체 생성됨, self = product1 객체\n",
    "\n",
    "product1.setData1()   # product1의 타입\n",
    "print('type(product1):', type(product1))\n",
    "print('id(product1):', id(product1))"
   ]
  },
  {
   "cell_type": "code",
   "execution_count": 22,
   "metadata": {},
   "outputs": [
    {
     "name": "stdout",
     "output_type": "stream",
     "text": [
      "type(self): <class '__main__.Product'>\n",
      "id(self): 2465370855800\n",
      "type(product2): <class '__main__.Product'>\n",
      "id(product2): 2465370855800\n"
     ]
    }
   ],
   "source": [
    "product2 = Product() # 객체 생성됨, self = product2 객체\n",
    "\n",
    "product2.setData1()   # product1의 타입\n",
    "print('type(product2):', type(product2))\n",
    "print('id(product2):', id(product2))"
   ]
  },
  {
   "cell_type": "code",
   "execution_count": 23,
   "metadata": {},
   "outputs": [
    {
     "name": "stdout",
     "output_type": "stream",
     "text": [
      "2019 GTX 2080\n"
     ]
    }
   ],
   "source": [
    "product1.setData2(2019, 'GTX 2080')  # self 전달하지 않음\n",
    "print(product1.year, product1.product)"
   ]
  },
  {
   "cell_type": "code",
   "execution_count": 24,
   "metadata": {},
   "outputs": [
    {
     "ename": "AttributeError",
     "evalue": "'Product' object has no attribute 'year'",
     "output_type": "error",
     "traceback": [
      "\u001b[1;31m---------------------------------------------------------------------------\u001b[0m",
      "\u001b[1;31mAttributeError\u001b[0m                            Traceback (most recent call last)",
      "\u001b[1;32m<ipython-input-24-dc350128c4d3>\u001b[0m in \u001b[0;36m<module>\u001b[1;34m\u001b[0m\n\u001b[0;32m      1\u001b[0m \u001b[1;31m# 메소드 호출이 안되어 멤버 변수 생성이 안됨\u001b[0m\u001b[1;33m\u001b[0m\u001b[1;33m\u001b[0m\u001b[1;33m\u001b[0m\u001b[0m\n\u001b[1;32m----> 2\u001b[1;33m \u001b[0mprint\u001b[0m\u001b[1;33m(\u001b[0m\u001b[0mproduct2\u001b[0m\u001b[1;33m.\u001b[0m\u001b[0myear\u001b[0m\u001b[1;33m,\u001b[0m \u001b[0mproduct2\u001b[0m\u001b[1;33m.\u001b[0m\u001b[0mproduct\u001b[0m\u001b[1;33m)\u001b[0m \u001b[1;31m# X\u001b[0m\u001b[1;33m\u001b[0m\u001b[1;33m\u001b[0m\u001b[0m\n\u001b[0m",
      "\u001b[1;31mAttributeError\u001b[0m: 'Product' object has no attribute 'year'"
     ]
    }
   ],
   "source": [
    "# 메소드 호출이 안되어 멤버 변수 생성이 안됨\n",
    "print(product2.year, product2.product) # X"
   ]
  },
  {
   "cell_type": "code",
   "execution_count": 25,
   "metadata": {},
   "outputs": [
    {
     "name": "stdout",
     "output_type": "stream",
     "text": [
      "2020 GTX 3080\n"
     ]
    }
   ],
   "source": [
    "product2.setData2(2020, 'GTX 3080')  # self 전달하지 않음\n",
    "print(product2.year, product2.product)"
   ]
  },
  {
   "cell_type": "code",
   "execution_count": 26,
   "metadata": {},
   "outputs": [],
   "source": [
    "class GDP:\n",
    "    def getNation(self, code):\n",
    "        # self가 선언되지 않았으므로 지역 변수, 현재 메소드 안에서만 사용 가능\n",
    "        # str1 변수는 getNation() 메소드에서만 사용 가능\n",
    "        str1 = \"미결정\" # 지역변수\n",
    "        if code == \"KOR\":\n",
    "            str1 = \"한국\"\n",
    "        elif code == \"JAP\":\n",
    "            str1 = \"일본\"\n",
    "        elif code == \"CHA\":\n",
    "            str1 = \"중국\"\n",
    "\n",
    "        return str1\n",
    "\n",
    "    def getGDP(self, code):\n",
    "        # self가 선언되지 않았음으로 지역 변수\n",
    "        # gdp 변수는 getGDP() 메소드 안에서만 사용 가능\n",
    "        gdp = 1000  \n",
    "        if code == \"KOR\":\n",
    "            gdp = 28738\n",
    "        elif code == \"JAP\":\n",
    "            gdp = 37539\n",
    "        elif code == \"CHA\":\n",
    "            gdp = 6747\n",
    "\n",
    "        return gdp"
   ]
  },
  {
   "cell_type": "code",
   "execution_count": 27,
   "metadata": {},
   "outputs": [
    {
     "name": "stdout",
     "output_type": "stream",
     "text": [
      "한국\n",
      "28738\n"
     ]
    }
   ],
   "source": [
    "gdp = GDP() # gdp 객체 생성\n",
    "print(gdp.getNation(\"KOR\"))\n",
    "# print(gdp.str1) # X, 지역 변수임으로 ERROR\n",
    "print(gdp.getGDP(\"KOR\"))"
   ]
  },
  {
   "cell_type": "code",
   "execution_count": 28,
   "metadata": {},
   "outputs": [],
   "source": [
    "# 객체 생성후 속성(attribute, 멤버 변수, 필드) 추가 가능\n",
    "gdp.wc = '러시아 월드컵'\n",
    "gdp.city = '모스크바'"
   ]
  },
  {
   "cell_type": "code",
   "execution_count": 29,
   "metadata": {},
   "outputs": [
    {
     "name": "stdout",
     "output_type": "stream",
     "text": [
      "러시아 월드컵\n",
      "모스크바\n"
     ]
    }
   ],
   "source": [
    "print(gdp.wc)\n",
    "print(gdp.city)"
   ]
  },
  {
   "cell_type": "markdown",
   "metadata": {},
   "source": [
    "## 생성자, 소멸자"
   ]
  },
  {
   "cell_type": "code",
   "execution_count": 30,
   "metadata": {},
   "outputs": [],
   "source": [
    "## __init__: 생성자\n",
    "class Nation:\n",
    "    def __init__(self, code='KOR'): # 생성자, 사용할 필드선언, 자동 호출됨\n",
    "        self.count = 0\n",
    "        self.code = code\n",
    "        print('객체가 메모리에 생성되었습니다.')\n",
    "\n",
    "    def __del__(self):  # 소멸자, 자동 호출됨\n",
    "        print('객체가 메모리에서 소멸되었습니다.')\n",
    "\n",
    "    def getNation(self, code):\n",
    "        self.count = self.count + 1\n",
    "        str1 = \"\"  # 지역 변수\n",
    "        if code == \"KOR\":\n",
    "            str1 = \"한국\"\n",
    "        elif code == \"JAP\":\n",
    "            str1 = \"일본\"\n",
    "        elif code == \"CHA\":\n",
    "            str1 = \"중국\"\n",
    "\n",
    "        return str1"
   ]
  },
  {
   "cell_type": "code",
   "execution_count": 31,
   "metadata": {},
   "outputs": [
    {
     "name": "stdout",
     "output_type": "stream",
     "text": [
      "객체가 메모리에 생성되었습니다.\n"
     ]
    }
   ],
   "source": [
    "nation1 = Nation()"
   ]
  },
  {
   "cell_type": "code",
   "execution_count": 32,
   "metadata": {},
   "outputs": [
    {
     "name": "stdout",
     "output_type": "stream",
     "text": [
      "객체가 메모리에 생성되었습니다.\n"
     ]
    }
   ],
   "source": [
    "nation2 = Nation()"
   ]
  },
  {
   "cell_type": "code",
   "execution_count": 33,
   "metadata": {},
   "outputs": [
    {
     "name": "stdout",
     "output_type": "stream",
     "text": [
      "객체가 메모리에 생성되었습니다.\n",
      "객체가 메모리에서 소멸되었습니다.\n"
     ]
    }
   ],
   "source": [
    "nation1 = Nation()"
   ]
  },
  {
   "cell_type": "code",
   "execution_count": 34,
   "metadata": {},
   "outputs": [
    {
     "name": "stdout",
     "output_type": "stream",
     "text": [
      "count: 0\n",
      "code: KOR\n",
      "code: 한국\n"
     ]
    }
   ],
   "source": [
    "print('count:', nation1.count)\n",
    "print('code:', nation1.code)\n",
    "print('code:', nation1.getNation('KOR'))"
   ]
  },
  {
   "cell_type": "code",
   "execution_count": 35,
   "metadata": {},
   "outputs": [
    {
     "name": "stdout",
     "output_type": "stream",
     "text": [
      "객체가 메모리에서 소멸되었습니다.\n"
     ]
    }
   ],
   "source": [
    "del nation1"
   ]
  },
  {
   "cell_type": "code",
   "execution_count": null,
   "metadata": {},
   "outputs": [],
   "source": []
  }
 ],
 "metadata": {
  "kernelspec": {
   "display_name": "ai",
   "language": "python",
   "name": "ai"
  },
  "language_info": {
   "codemirror_mode": {
    "name": "ipython",
    "version": 3
   },
   "file_extension": ".py",
   "mimetype": "text/x-python",
   "name": "python",
   "nbconvert_exporter": "python",
   "pygments_lexer": "ipython3",
   "version": "3.6.10"
  }
 },
 "nbformat": 4,
 "nbformat_minor": 2
}
