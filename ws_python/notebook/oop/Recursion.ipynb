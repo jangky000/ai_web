{
 "cells": [
  {
   "cell_type": "code",
   "execution_count": 1,
   "metadata": {},
   "outputs": [
    {
     "name": "stdout",
     "output_type": "stream",
     "text": [
      "recursionLevel: 5\n",
      "recursionLevel: 4\n",
      "recursionLevel: 3\n",
      "recursionLevel: 2\n",
      "recursionLevel: 1\n",
      "recursionLevel: 0\n"
     ]
    }
   ],
   "source": [
    "def process(recursionLevel):\n",
    "    print('recursionLevel: ' + str(recursionLevel))\n",
    "    \n",
    "    recursionLevel = recursionLevel - 1\n",
    "    \n",
    "    if (recursionLevel < 0):\n",
    "        return\n",
    "    \n",
    "    process(recursionLevel) # 자기 자신 호출\n",
    "    \n",
    "    \n",
    "if __name__ == '__main__':\n",
    "    process(5)"
   ]
  },
  {
   "cell_type": "code",
   "execution_count": 2,
   "metadata": {},
   "outputs": [
    {
     "name": "stdout",
     "output_type": "stream",
     "text": [
      "recursionLevel: 0\n",
      "recursionLevel: 1\n",
      "recursionLevel: 2\n",
      "recursionLevel: 3\n",
      "recursionLevel: 4\n"
     ]
    }
   ],
   "source": [
    "def process(recursionLevel):\n",
    "    recursionLevel = recursionLevel - 1\n",
    " \n",
    "    if (recursionLevel < 0):\n",
    "        return\n",
    "\n",
    "    process(recursionLevel)\n",
    "\n",
    "    print('recursionLevel: ' + str(recursionLevel))    \n",
    " \n",
    "if __name__ == '__main__':\n",
    "    process(5)"
   ]
  },
  {
   "cell_type": "code",
   "execution_count": 4,
   "metadata": {},
   "outputs": [
    {
     "name": "stdout",
     "output_type": "stream",
     "text": [
      "recursionLevel: 0\n",
      "recursionLevel: 1\n",
      "recursionLevel: 2\n",
      "recursionLevel: 3\n",
      "recursionLevel: 4\n"
     ]
    }
   ],
   "source": [
    "def process(recursionLevel):\n",
    "    print('recursionLevel: ' + str(recursionLevel))  # 0  \n",
    "    \n",
    "    recursionLevel = recursionLevel + 1              # 1\n",
    "    \n",
    "    if (recursionLevel > 4):\n",
    "        return\n",
    "    \n",
    "    process(recursionLevel)\n",
    "    \n",
    "\n",
    "if __name__ == '__main__':\n",
    "    process(0)"
   ]
  },
  {
   "cell_type": "code",
   "execution_count": null,
   "metadata": {},
   "outputs": [],
   "source": []
  }
 ],
 "metadata": {
  "kernelspec": {
   "display_name": "ai",
   "language": "python",
   "name": "ai"
  },
  "language_info": {
   "codemirror_mode": {
    "name": "ipython",
    "version": 3
   },
   "file_extension": ".py",
   "mimetype": "text/x-python",
   "name": "python",
   "nbconvert_exporter": "python",
   "pygments_lexer": "ipython3",
   "version": "3.6.10"
  }
 },
 "nbformat": 4,
 "nbformat_minor": 2
}
