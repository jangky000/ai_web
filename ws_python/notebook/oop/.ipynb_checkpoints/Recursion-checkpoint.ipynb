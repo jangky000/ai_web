{
 "cells": [
  {
   "cell_type": "code",
   "execution_count": null,
   "metadata": {},
   "outputs": [],
   "source": [
    "def process(recursionLevel):\n",
    "    print('recursionLevel: ' + str(recursionLevel))\n",
    "    \n",
    "    recursionLevel = recursionLevel - 1\n",
    "    \n",
    "    if (recursionLevel < 0):\n",
    "        return\n",
    "    \n",
    "    process(recursionLevel) # 자기 자신 호출\n",
    "    \n",
    "    \n",
    "if __name__ == '__main__':\n",
    "    process(5)"
   ]
  }
 ],
 "metadata": {
  "kernelspec": {
   "display_name": "ai",
   "language": "python",
   "name": "ai"
  },
  "language_info": {
   "codemirror_mode": {
    "name": "ipython",
    "version": 3
   },
   "file_extension": ".py",
   "mimetype": "text/x-python",
   "name": "python",
   "nbconvert_exporter": "python",
   "pygments_lexer": "ipython3",
   "version": "3.6.10"
  }
 },
 "nbformat": 4,
 "nbformat_minor": 2
}
