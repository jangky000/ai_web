{
 "cells": [
  {
   "cell_type": "code",
   "execution_count": 1,
   "metadata": {},
   "outputs": [],
   "source": [
    "# class Phone:  # 모든 클래스는 object class를 상속받음, 생략 가능\n",
    "class Phone(object):  # object 생략 가능  \n",
    "    phone_name = \"모토롤라\"\n",
    "    \n",
    "    def tel(self):\n",
    "        print('전화 기능')\n",
    "    \n",
    "    def sms(self):\n",
    "        print('문자 기능') "
   ]
  },
  {
   "cell_type": "code",
   "execution_count": 2,
   "metadata": {},
   "outputs": [],
   "source": [
    "class PDA(Phone): # Phone: 부모 클래스\n",
    "    pda_name = \"Samsung\" \n",
    "    def mms(self):\n",
    "        print(\"멀티미디어 메시지\")   "
   ]
  },
  {
   "cell_type": "code",
   "execution_count": 3,
   "metadata": {},
   "outputs": [],
   "source": [
    "class Smart(PDA):\n",
    "    smart_name = \"Android\" \n",
    "    def internet(self):\n",
    "        print(\"인터넷\")"
   ]
  },
  {
   "cell_type": "code",
   "execution_count": 4,
   "metadata": {},
   "outputs": [
    {
     "name": "stdout",
     "output_type": "stream",
     "text": [
      "모토롤라\n",
      "전화 기능\n",
      "문자 기능\n",
      "---------------\n",
      "Samsung\n",
      "전화 기능\n",
      "문자 기능\n",
      "멀티미디어 메시지\n",
      "---------------\n",
      "Android\n",
      "전화 기능\n",
      "문자 기능\n",
      "멀티미디어 메시지\n",
      "인터넷\n",
      "---------------\n"
     ]
    }
   ],
   "source": [
    "if __name__ == '__main__':\n",
    "    phone = Phone()\n",
    "    print(phone.phone_name)\n",
    "    phone.tel()\n",
    "    phone.sms()\n",
    "    print(\"---------------\")\n",
    "    pda = PDA()\n",
    "    print(pda.pda_name)\n",
    "    pda.tel()\n",
    "    pda.sms()\n",
    "    pda.mms()\n",
    "    print(\"---------------\")\n",
    "    smart = Smart()\n",
    "    # print(smart.phone_name)\n",
    "    # print(smart.pda_name)\n",
    "    print(smart.smart_name)\n",
    "    smart.tel()\n",
    "    smart.sms()\n",
    "    smart.mms()\n",
    "    smart.internet()\n",
    "    print(\"---------------\")"
   ]
  },
  {
   "cell_type": "code",
   "execution_count": 7,
   "metadata": {},
   "outputs": [],
   "source": [
    "# 다중 상속\n",
    "class AI:\n",
    "    def dl(self):\n",
    "        print(\"딥러닝\")\n",
    "        \n",
    "class FIR(Smart, AI):    # 다중 상속\n",
    "    def industry(self):\n",
    "        print('4차 산업 혁명')"
   ]
  },
  {
   "cell_type": "code",
   "execution_count": 8,
   "metadata": {},
   "outputs": [
    {
     "name": "stdout",
     "output_type": "stream",
     "text": [
      "전화 기능\n",
      "문자 기능\n",
      "멀티미디어 메시지\n",
      "인터넷\n",
      "딥러닝\n",
      "4차 산업 혁명\n"
     ]
    }
   ],
   "source": [
    "fir = FIR()\n",
    "\n",
    "fir.tel()\n",
    "fir.sms()\n",
    "fir.mms()\n",
    "fir.internet()\n",
    "fir.dl()\n",
    "fir.industry()"
   ]
  },
  {
   "cell_type": "code",
   "execution_count": 9,
   "metadata": {},
   "outputs": [],
   "source": [
    "import locale # 지역별 화폐 형식"
   ]
  },
  {
   "cell_type": "code",
   "execution_count": 10,
   "metadata": {},
   "outputs": [],
   "source": [
    "class Payment(object):\n",
    "    def order(self, menu, price, count):\n",
    "        self.menu = menu\n",
    "        self.price = price\n",
    "        self.count = count\n",
    "    \n",
    "    def calc(self):\n",
    "        # locale.setlocale(locale.LC_ALL, '') # 시스템 지역 사용\n",
    "        # locale.format('%d', 1000, True)\n",
    "        # locale.format('%.1f', 1000, True)\n",
    "        self.total = self.price * self.count\n",
    "        print()\n",
    "        print('---------------------')    \n",
    "        print('      주문 내역       ')\n",
    "        print('---------------------')\n",
    "        print('메뉴: ' + self.menu)\n",
    "        print('가격: ' + format(self.price, ',') + ' 원')\n",
    "        print('수량: ' + str(self.count))\n",
    "        print('합계: ' + format(self.total, ',') + ' 원')\n",
    "        print('---------------------')"
   ]
  },
  {
   "cell_type": "code",
   "execution_count": 11,
   "metadata": {},
   "outputs": [],
   "source": [
    "class Cash(Payment):\n",
    "    def cash(self):\n",
    "        print(' 현금 결재를 합니다.')"
   ]
  },
  {
   "cell_type": "code",
   "execution_count": 12,
   "metadata": {},
   "outputs": [],
   "source": [
    "class Card(Payment):\n",
    "    def card(self):\n",
    "        print('카드 결재를 합니다.')  "
   ]
  },
  {
   "cell_type": "code",
   "execution_count": 13,
   "metadata": {},
   "outputs": [],
   "source": [
    "class Tel(Payment):\n",
    "    def tel(self):\n",
    "        print('모바일 결재를 합니다.')"
   ]
  },
  {
   "cell_type": "code",
   "execution_count": 14,
   "metadata": {},
   "outputs": [],
   "source": [
    "class Point(Payment):\n",
    "    def point(self):\n",
    "        print('포인트 결재를 합니다.')    "
   ]
  },
  {
   "cell_type": "code",
   "execution_count": 15,
   "metadata": {},
   "outputs": [
    {
     "name": "stdout",
     "output_type": "stream",
     "text": [
      "\n",
      "---------------------\n",
      "      주문 내역       \n",
      "---------------------\n",
      "메뉴: 짜장면\n",
      "가격: 5,000 원\n",
      "수량: 2\n",
      "합계: 10,000 원\n",
      "---------------------\n",
      " 현금 결재를 합니다.\n",
      "\n",
      "---------------------\n",
      "      주문 내역       \n",
      "---------------------\n",
      "메뉴: 김밥\n",
      "가격: 2,500 원\n",
      "수량: 3\n",
      "합계: 7,500 원\n",
      "---------------------\n",
      "카드 결재를 합니다.\n",
      "\n",
      "---------------------\n",
      "      주문 내역       \n",
      "---------------------\n",
      "메뉴: 아메리카노\n",
      "가격: 2,000 원\n",
      "수량: 1\n",
      "합계: 2,000 원\n",
      "---------------------\n",
      "포인트 결재를 합니다.\n"
     ]
    }
   ],
   "source": [
    "if __name__ == '__main__':\n",
    "    cash = Cash()\n",
    "    cash.order(\"짜장면\", 5000, 2)\n",
    "    cash.calc()\n",
    "    cash.cash()\n",
    "    \n",
    "    card = Card()\n",
    "    card.order(\"김밥\", 2500, 3)\n",
    "    card.calc()\n",
    "    card.card()\n",
    "     \n",
    "    point = Point()\n",
    "    point.order(\"아메리카노\", 2000, 1)\n",
    "    point.calc()\n",
    "    point.point()"
   ]
  },
  {
   "cell_type": "code",
   "execution_count": null,
   "metadata": {},
   "outputs": [],
   "source": [
    "class PDA:\n",
    "    def __init__(self, os): # 생성자\n",
    "        self.os = os\n",
    "        print('PDA 객체 생성')\n",
    "        \n",
    "    def tel(self):\n",
    "        print(\"전화 기능\")\n",
    "    def sms(self):\n",
    "        print(\"문자 기능\")\n",
    " \n",
    " \n",
    "class Smart(PDA):\n",
    "    def __init__(self, comm, os):\n",
    "        self.comm = comm\n",
    "        \n",
    "        # 부모 클래스의 생성자 호출, 호출 순서 상관 없음.\n",
    "        PDA.__init__(self, os) \n",
    "        print('Smart 객체 생성')\n",
    "        \n",
    "    def bluetooth(self):\n",
    "        print(\"음악 Play\")\n",
    " \n",
    " \n",
    "smart = Smart(\"LTE\", \"Android\") # comm, os\n",
    "print(smart.comm) # LTE\n",
    "print(smart.os) # Android\n",
    " \n",
    "smart.tel()\n",
    "smart.sms()\n",
    "smart.bluetooth()"
   ]
  }
 ],
 "metadata": {
  "kernelspec": {
   "display_name": "ai",
   "language": "python",
   "name": "ai"
  },
  "language_info": {
   "codemirror_mode": {
    "name": "ipython",
    "version": 3
   },
   "file_extension": ".py",
   "mimetype": "text/x-python",
   "name": "python",
   "nbconvert_exporter": "python",
   "pygments_lexer": "ipython3",
   "version": "3.6.10"
  }
 },
 "nbformat": 4,
 "nbformat_minor": 2
}
