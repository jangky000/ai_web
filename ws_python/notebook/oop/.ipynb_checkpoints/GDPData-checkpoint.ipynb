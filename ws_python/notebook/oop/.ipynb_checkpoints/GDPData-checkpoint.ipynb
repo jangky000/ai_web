{
 "cells": [
  {
   "cell_type": "code",
   "execution_count": null,
   "metadata": {},
   "outputs": [],
   "source": [
    "class GDPData:\n",
    "    def __init__(self):\n",
    "        self.count = 0\n",
    "        print('객체가 메모리에 생성되었습니다.')\n",
    "            \n",
    "    def __del__(self):\n",
    "        print('객체가 메모리에서 소멸되었습니다.')    \n",
    "        \n",
    "    def getNation(self, code):\n",
    "        self.count = self.count + 1\n",
    "        str1 = \"\"  # 지역 변수\n",
    "        if code == \"KOR\":\n",
    "            str1 = \"한국\"\n",
    "        elif code == \"JAP\":\n",
    "            str1 = \"일본\"\n",
    "        elif code == \"CHA\":\n",
    "            str1 = \"중국\"\n",
    "        \n",
    "        return str1\n",
    "\n",
    "    def getGDP(self, code):\n",
    "        self.count = self.count + 1\n",
    "        gdp = 0   # 지역 변수\n",
    "        if code == \"KOR\":\n",
    "            gdp = 28738\n",
    "        elif code == \"JAP\":\n",
    "            gdp = 37539\n",
    "        elif code == \"CHA\":\n",
    "            gdp = 6747\n",
    "        \n",
    "        return gdp"
   ]
  },
  {
   "cell_type": "code",
   "execution_count": null,
   "metadata": {},
   "outputs": [],
   "source": []
  }
 ],
 "metadata": {
  "kernelspec": {
   "display_name": "ai",
   "language": "python",
   "name": "ai"
  },
  "language_info": {
   "codemirror_mode": {
    "name": "ipython",
    "version": 3
   },
   "file_extension": ".py",
   "mimetype": "text/x-python",
   "name": "python",
   "nbconvert_exporter": "python",
   "pygments_lexer": "ipython3",
   "version": "3.6.10"
  }
 },
 "nbformat": 4,
 "nbformat_minor": 2
}
