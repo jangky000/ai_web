{
 "cells": [
  {
   "cell_type": "code",
   "execution_count": 1,
   "metadata": {},
   "outputs": [
    {
     "name": "stdout",
     "output_type": "stream",
     "text": [
      "총점을 입력하세요: 70\n",
      "과목수를 입력하세요: 2\n",
      "tot: 70\n",
      "cnt: 2\n",
      "avg: 35.0\n",
      "평균은 35.0 입니다.\n"
     ]
    }
   ],
   "source": [
    "tot = int(input('총점을 입력하세요: '))\n",
    "cnt = int(input('과목수를 입력하세요: '))\n",
    "avg = tot / cnt\n",
    " \n",
    "print('tot: ' + str(tot))\n",
    "print('cnt: ' + str(cnt))\n",
    "print('avg: ' + str(avg))\n",
    " \n",
    "print('평균은 ' + str(avg) + ' 입니다.')"
   ]
  },
  {
   "cell_type": "code",
   "execution_count": 2,
   "metadata": {},
   "outputs": [
    {
     "name": "stdout",
     "output_type": "stream",
     "text": [
      "총점을 입력하세요: 270\n",
      "과목수를 입력하세요: 0\n",
      "예외가 발생했습니다.\n",
      "division by zero\n",
      "로직을 계속 실행합니다.\n"
     ]
    }
   ],
   "source": [
    "try:\n",
    "    tot = int(input('총점을 입력하세요: '))\n",
    "    cnt = int(input('과목수를 입력하세요: '))\n",
    "    avg = tot / cnt\n",
    "\n",
    "    print('tot: ' + str(tot))\n",
    "    print('cnt: ' + str(cnt))\n",
    "    print('avg: ' + str(avg))\n",
    "\n",
    "except Exception as e:\n",
    "    print(\"예외가 발생했습니다.\")\n",
    "    print(e)\n",
    "\n",
    "else:\n",
    "    print('평균은 ' + str(avg) + ' 입니다.')\n",
    "\n",
    "print(\"로직을 계속 실행합니다.\")"
   ]
  },
  {
   "cell_type": "code",
   "execution_count": 5,
   "metadata": {},
   "outputs": [
    {
     "name": "stdout",
     "output_type": "stream",
     "text": [
      "총점을 입력하세요: 270\n",
      "과목수를 입력하세요: 3\n",
      "tot: 270\n",
      "cnt: 3\n",
      "avg: 90.0\n",
      "평균은 90.0 입니다.\n",
      "성적처리 프로그램을 종료합니다.\n"
     ]
    }
   ],
   "source": [
    "try:\n",
    "    tot = int(input('총점을 입력하세요: '))\n",
    "    cnt = int(input('과목수를 입력하세요: '))\n",
    "    avg = tot / cnt\n",
    "    print('tot: ' + str(tot))\n",
    "    print('cnt: ' + str(cnt))\n",
    "    print('avg: ' + str(avg))\n",
    "except ZeroDivisionError:\n",
    "    print(\"0으로 나누려 했습니다.\")\n",
    "except ValueError:\n",
    "    print('숫자가 아닙니다.')\n",
    "else:\n",
    "    print('평균은 ' + str(avg) + ' 입니다.')\n",
    "finally:\n",
    "    print(\"성적처리 프로그램을 종료합니다.\")  "
   ]
  },
  {
   "cell_type": "code",
   "execution_count": null,
   "metadata": {},
   "outputs": [],
   "source": []
  }
 ],
 "metadata": {
  "kernelspec": {
   "display_name": "ai",
   "language": "python",
   "name": "ai"
  },
  "language_info": {
   "codemirror_mode": {
    "name": "ipython",
    "version": 3
   },
   "file_extension": ".py",
   "mimetype": "text/x-python",
   "name": "python",
   "nbconvert_exporter": "python",
   "pygments_lexer": "ipython3",
   "version": "3.6.10"
  }
 },
 "nbformat": 4,
 "nbformat_minor": 2
}
