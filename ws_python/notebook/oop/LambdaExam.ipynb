{
 "cells": [
  {
   "cell_type": "code",
   "execution_count": 1,
   "metadata": {},
   "outputs": [
    {
     "name": "stdout",
     "output_type": "stream",
     "text": [
      "람다 함수 실습\n",
      "<function <lambda> at 0x000002217BD84840>\n",
      "3\n"
     ]
    }
   ],
   "source": [
    "print('람다 함수 실습')\n",
    "add = lambda a, b : a+b # 람다 함수 선언\n",
    "print(add)\n",
    "print(add(1,2))"
   ]
  },
  {
   "cell_type": "code",
   "execution_count": null,
   "metadata": {},
   "outputs": [],
   "source": [
    "def add(a, b):\n",
    "    return a+b"
   ]
  },
  {
   "cell_type": "code",
   "execution_count": 2,
   "metadata": {},
   "outputs": [
    {
     "name": "stdout",
     "output_type": "stream",
     "text": [
      "100\n"
     ]
    }
   ],
   "source": [
    "func2 = lambda x: x**2\n",
    "print(func2(10))"
   ]
  },
  {
   "cell_type": "code",
   "execution_count": 3,
   "metadata": {},
   "outputs": [],
   "source": [
    "def pow1(x):\n",
    "    if x < 5:\n",
    "        return x **3\n",
    "    else:\n",
    "        return x**2"
   ]
  },
  {
   "cell_type": "code",
   "execution_count": 5,
   "metadata": {},
   "outputs": [
    {
     "name": "stdout",
     "output_type": "stream",
     "text": [
      "8\n",
      "25\n"
     ]
    }
   ],
   "source": [
    "print(pow1(2))\n",
    "print(pow1(5))"
   ]
  },
  {
   "cell_type": "code",
   "execution_count": 6,
   "metadata": {},
   "outputs": [],
   "source": [
    "pow2 = lambda x:x**3 if x < 5 else x ** 2"
   ]
  },
  {
   "cell_type": "code",
   "execution_count": 8,
   "metadata": {},
   "outputs": [
    {
     "name": "stdout",
     "output_type": "stream",
     "text": [
      "8\n",
      "25\n"
     ]
    }
   ],
   "source": [
    "print(pow2(2))\n",
    "print(pow2(5))"
   ]
  },
  {
   "cell_type": "code",
   "execution_count": 9,
   "metadata": {},
   "outputs": [
    {
     "name": "stdout",
     "output_type": "stream",
     "text": [
      "1 9\n",
      "-2 8\n",
      "3 -7\n",
      "-4 -6\n",
      "5 -5\n"
     ]
    }
   ],
   "source": [
    "# zip\n",
    "a = [1, -2, 3, -4, 5]\n",
    "b = [9, 8, -7, -6, -5]\n",
    "for x, y in zip(a, b):\n",
    "    print(x, y)"
   ]
  },
  {
   "cell_type": "code",
   "execution_count": 10,
   "metadata": {},
   "outputs": [
    {
     "data": {
      "text/plain": [
       "[[11, 1],\n",
       " [11, 2],\n",
       " [11, 3],\n",
       " [11, 4],\n",
       " [12, 1],\n",
       " [12, 2],\n",
       " [12, 3],\n",
       " [12, 4],\n",
       " [13, 1],\n",
       " [13, 2],\n",
       " [13, 3],\n",
       " [13, 4],\n",
       " [14, 1],\n",
       " [14, 2],\n",
       " [14, 3],\n",
       " [14, 4]]"
      ]
     },
     "execution_count": 10,
     "metadata": {},
     "output_type": "execute_result"
    }
   ],
   "source": [
    "[[x,y]for x in range(11,15,1) for y  in range(1,5,1)]\n",
    "# x루프 안에 y루프"
   ]
  },
  {
   "cell_type": "code",
   "execution_count": null,
   "metadata": {},
   "outputs": [],
   "source": []
  }
 ],
 "metadata": {
  "kernelspec": {
   "display_name": "ai",
   "language": "python",
   "name": "ai"
  },
  "language_info": {
   "codemirror_mode": {
    "name": "ipython",
    "version": 3
   },
   "file_extension": ".py",
   "mimetype": "text/x-python",
   "name": "python",
   "nbconvert_exporter": "python",
   "pygments_lexer": "ipython3",
   "version": "3.6.10"
  }
 },
 "nbformat": 4,
 "nbformat_minor": 2
}
