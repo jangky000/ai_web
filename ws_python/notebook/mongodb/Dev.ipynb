{
 "cells": [
  {
   "cell_type": "code",
   "execution_count": 1,
   "metadata": {},
   "outputs": [
    {
     "name": "stdout",
     "output_type": "stream",
     "text": [
      "PyMongo-OpenTracing (0.0.3)             - OpenTracing support for PyMongo\n",
      "Flask-PyMongo (2.3.0)                   - PyMongo support for Flask applications\n",
      "pymongo-bongo (0.1.3)                   - Sytax sugar for PyMongo and MongoDB <http://www.mongodb.org>\n",
      "opentelemetry-ext-pymongo (0.9b0)       - OpenTelemetry pymongo integration\n",
      "opencensus-ext-pymongo (0.7.1)          - OpenCensus pymongo Integration\n",
      "pymongo-document-modeling (0.9.2.dev1)  - PyMongo data modeling library\n",
      "pymongo-auth-aws (1.0.1)                - MONGODB-AWS authentication support for PyMongo\n",
      "pymongo (3.10.1)                        - Python driver for MongoDB <http://www.mongodb.org>\n",
      "PyMongo-Frisk (0.0.6)                   - Wrapper for PyMongo Connection that offers additional application level monitoring. When connecting to multiple MongoDB servers, allows you to verify connectivity to MongoDB slave servers.\n",
      "pymongo-migrate (0.10.0)                - MongoDB data migration tool in Python\n",
      "pymongo-inmemory (0.1.3)                - A mongo mocking library with an ephemeral MongoDB running in memory.\n",
      "pymongo-amplidata (3.6.0.post1)         - Python driver for MongoDB <http://www.mongodb.org>\n",
      "kore-plugins-pymongo (0.1.0)            - \n",
      "pymongogo (0.3)                         - A Pymongo wrapper\n",
      "MongoBit (0.3.1)                        - Simple pymongo orm\n",
      "dat (1.0.0)                             - A thin orm for pymongo\n",
      "lemongo (2.0.0b0)                       - PyMongo interface for LeBot\n",
      "mongo (0.2.0)                           - Minimalistic pymongo object wrapper\n",
      "connect-mongo (1.0.2)                   - A qucik way use pymongo\n",
      "docmongo (1.0.0)                        - A high abastract architecture with pymongo\n",
      "flaskmongorm (0.3.2)                    - Simple wrapper for flask-pymongo\n",
      "conmongo (0.0.2)                        - A Flask microplugin based on pymongo\n",
      "cymongo (0.1)                           - Much faster than pymongo.\n",
      "dsn-mongo-wrapper (1.0.1)               - A simple and lightweight wrapper for pymongo\n",
      "kale (0.2.4)                            - Tiny PyMongo model layer\n",
      "Flask-PyMongol (0.1.1)                  - A less is more Pymongo wrapper for Flask\n",
      "uengine (3.6.13)                        - a micro webframework based on flask and pymongo\n",
      "pymodm (0.4.3)                          - PyMODM is a generic ODM on top of PyMongo.\n",
      "pymorm (0.4.10)                         - Really simple pymongo-based ODM\n",
      "mogo (0.4.0)                            - Simple PyMongo \"schema-less\" object wrapper\n",
      "pyfongo (0.1.0)                         - Serverless self-contained database with pymongo interface\n",
      "pymongokeyset (1.0.0)                   - offset-free (skip-free) paging for pymongo\n",
      "tatum (0.1)                             - A Simple Chaining Wrapper for PyMongo Aggregated Queries\n",
      "pyliquib (0.1.2)                        - A MongoDB migration tool with pymongo inspired by Liquibase\n",
      "rcquerybuilder (0.1.2)                  - Provides a fluent query builder wrapper around pymongo\n",
      "pymongo_smart_auth (1.0.3)              - This package extends PyMongo to provide built-in smart authentication.\n",
      "SixIsles (0.0.3)                        - PyMongo Based ActiveRecord Pattern O/R Mapper\n",
      "mongorm (0.7.0)                         - An extremely thin ORM-ish wrapper over pymongo.\n",
      "querystruct (0.2)                       - Translator from pymongo query \"language\" to pure SQL\n",
      "ognom (0.5.4)                           - Neat ODM wrapper around great PyMongo driver\n",
      "mongoit (0.0.2)                         - A pythonic package to work with the interface of pymongo for the Mongo DB\n",
      "Wallace (0.9.1)                         - An API for modeling data with psycopg2, redis-py, and pymongo.\n",
      "pymongo_mate (0.0.4)                    - A library extend pymongo module, makes CRUD easier, and more.\n",
      "mongo-wrapper (1.0.0)                   - A thin wrapper around PyMongo. Used to simplify using MongoClient.\n",
      "mongoman (0.2.2)                        - PyMongo wrapper that provides ORM and easy MongoDB connection handling.\n",
      "python-pymongomodem (0.0.3)             - python method to deal with pymongo cringing around key with dots\n",
      "mongomock (3.19.0)                      - Fake pymongo stub for testing simple MongoDB-dependent code\n",
      "mnj (0.3.0)                             - Mnj (Mongo Energy) is a helper library to simplify PyMongo interaction\n",
      "mongu (0.4.4)                           - Yet another Python Object-Document Mapper on top of PyMongo.\n",
      "Nocnus (0.0.7)                          - Nocnus is a basic Pymongo wrapper for quickly implementing CRUD MongoDB operations.\n",
      "dynamongo (0.1)                         - A lightweight library for interacting with AWS dynamoDB in a pythonic way,inspired by pymongo\n",
      "mongosion (0.10)                        - An easy session module, writed by python base on pymongo using for tornado.py or web.py! \n",
      "featmongo (0.3.3)                       - Wrapper around pymongo using the serialization module to convert BSON to python object\n",
      "mongate (2.1.6)                         - A client library for Sleepy Mongoose that provides the same interface as Pymongo. With support for batch operations.\n",
      "motorengine_sibbay (0.9.3)              - MotorEngine is a port of the amazing MongoEngine Mapper. Instead of using pymongo, MotorEngine uses Motor.\n",
      "motorengine (1.0.0)                     - MotorEngine is a port of the amazing MongoEngine Mapper. Instead of using pymongo, MotorEngine uses Motor.\n",
      "mongua (0.0.2)                          - Mongua , which encapsulates MongoMixin by pymongo, make use of MongoDB in someway like relative database\n",
      "pyco-mongo (0.0.2)                      - pyco_mongo , which encapsulates MongoMixin by pymongo, make use of MongoDB in someway like relative database\n",
      "pymongoext (2.3.3)                      - An ORM-like Pymongo extension that adds json schema validation, index management and intermediate data manipulators\n",
      "motorengine-async (1.0.0)               - Based on MotorEngine whihch is a port of the amazing MongoEngine Mapper. Instead of using pymongo, MotorEngine uses Motor.\n",
      "mongoUtils (1.1.8)                      - Utilities for mongoDB mainly based on pymongo python mongoDB driver, see:http://github.com/mongodb/mongo-python-driver\n",
      "happymongo (0.1.1)                      - Python module for making it easy and consistent to connect to MongoDB via PyMongo either in Flask or in a non-flask application\n",
      "pymongoback (1.0.0)                     - PyMongo Back is a simple Python library designed to help you create MongoDB Backups from both local and remote servers.\n",
      "mongodog (0.1.1)                        - MongoDog is a library designed to sniff out the things that your application is doing within\n",
      "a mongo database. It plugs itself in between your app and pymongo and logs all of the commands\n",
      "that your application sends to the server.\n",
      "ViewModel (0.3.6)                       - Model and View support for bottle framework, currently supports MongoDB. The ViewModel provides a high level DB schema and interface to a database as well as an interface from the DB to views. Current version works with bottle framework and pymongo however a previous version supported SQLAlchemy and other frameworks could be supported.\n"
     ]
    }
   ],
   "source": [
    "# pymongo가 있는지 확인\n",
    "!pip search pymongo"
   ]
  },
  {
   "cell_type": "code",
   "execution_count": 2,
   "metadata": {},
   "outputs": [
    {
     "name": "stdout",
     "output_type": "stream",
     "text": [
      "Collecting pymongo\n",
      "  Downloading pymongo-3.10.1-cp36-cp36m-win_amd64.whl (354 kB)\n",
      "Installing collected packages: pymongo\n",
      "Successfully installed pymongo-3.10.1\n"
     ]
    }
   ],
   "source": [
    "# 설치\n",
    "!pip install pymongo"
   ]
  },
  {
   "cell_type": "code",
   "execution_count": 3,
   "metadata": {},
   "outputs": [],
   "source": [
    "import pymongo"
   ]
  },
  {
   "cell_type": "code",
   "execution_count": 4,
   "metadata": {},
   "outputs": [],
   "source": [
    "connection = pymongo.MongoClient(\"localhost\", 27017)\n",
    "db = connection.data1 # 데이터베이스 선택, 없으면 자동으로 생성\n",
    "collection = db.dev # collection 테이블, 없으면 자동 생성"
   ]
  },
  {
   "cell_type": "code",
   "execution_count": 8,
   "metadata": {},
   "outputs": [],
   "source": [
    "# 경고 제거\n",
    "# import warnings\n",
    "# warnings.filterwarnings(action='ignore')"
   ]
  },
  {
   "cell_type": "code",
   "execution_count": 7,
   "metadata": {},
   "outputs": [],
   "source": [
    "# document 추가\n",
    "collection.insert({'no': 1, 'name': '왕눈이', 'python': 90, 'analysis': 80})"
   ]
  },
  {
   "cell_type": "code",
   "execution_count": 9,
   "metadata": {},
   "outputs": [
    {
     "data": {
      "text/plain": [
       "[ObjectId('5ef0732ea252c1a17f3cd652'), ObjectId('5ef0732ea252c1a17f3cd653')]"
      ]
     },
     "execution_count": 9,
     "metadata": {},
     "output_type": "execute_result"
    }
   ],
   "source": [
    "# 배열 형식으로 document 추가\n",
    "collection.insert([{'no': 2, 'name': '아로미', 'python': 90, 'analysis': 80},\n",
    "                   {'no': 3, 'name': '홍길동', 'python': 90, 'analysis': 80}])"
   ]
  },
  {
   "cell_type": "code",
   "execution_count": 13,
   "metadata": {},
   "outputs": [
    {
     "name": "stdout",
     "output_type": "stream",
     "text": [
      "{'_id': ObjectId('5ef071ffa252c1a17f3cd64f'), 'no': 1, 'name': '왕눈이', 'python': 90, 'analysis': 80}\n",
      "{'_id': ObjectId('5ef0732ea252c1a17f3cd652'), 'no': 2, 'name': '아로미', 'python': 90, 'analysis': 80}\n",
      "{'_id': ObjectId('5ef0732ea252c1a17f3cd653'), 'no': 3, 'name': '홍길동', 'python': 90, 'analysis': 80}\n"
     ]
    }
   ],
   "source": [
    "# select\n",
    "docs = collection.find()\n",
    "for doc in docs:\n",
    "    print(doc)"
   ]
  },
  {
   "cell_type": "code",
   "execution_count": 18,
   "metadata": {},
   "outputs": [
    {
     "name": "stdout",
     "output_type": "stream",
     "text": [
      "{'_id': ObjectId('5ef071ffa252c1a17f3cd64f'), 'no': 1, 'name': '왕눈이', 'python': 90, 'analysis': 80}\n",
      "{'_id': ObjectId('5ef0732ea252c1a17f3cd652'), 'no': 2, 'name': '아로미', 'python': 90, 'analysis': 80}\n",
      "{'_id': ObjectId('5ef0732ea252c1a17f3cd653'), 'no': 3, 'name': '홍길동', 'python': 90, 'analysis': 80}\n"
     ]
    }
   ],
   "source": [
    "# 조건 select, 크거나 같은 값\n",
    "docs = collection.find({'python':{'$gte':90}, 'analysis': {'$gte':80}})\n",
    "for doc in docs:\n",
    "    print(doc)"
   ]
  },
  {
   "cell_type": "code",
   "execution_count": null,
   "metadata": {},
   "outputs": [],
   "source": []
  }
 ],
 "metadata": {
  "kernelspec": {
   "display_name": "ai",
   "language": "python",
   "name": "ai"
  },
  "language_info": {
   "codemirror_mode": {
    "name": "ipython",
    "version": 3
   },
   "file_extension": ".py",
   "mimetype": "text/x-python",
   "name": "python",
   "nbconvert_exporter": "python",
   "pygments_lexer": "ipython3",
   "version": "3.6.10"
  }
 },
 "nbformat": 4,
 "nbformat_minor": 2
}
