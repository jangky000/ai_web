{
 "cells": [
  {
   "cell_type": "code",
   "execution_count": null,
   "metadata": {},
   "outputs": [],
   "source": []
  },
  {
   "cell_type": "code",
   "execution_count": 1,
   "metadata": {},
   "outputs": [
    {
     "name": "stdout",
     "output_type": "stream",
     "text": [
      "Requirement already satisfied: beautifulsoup4 in c:\\programdata\\anaconda3\\envs\\ai\\lib\\site-packages (4.9.1)\n",
      "Requirement already satisfied: soupsieve>1.2 in c:\\programdata\\anaconda3\\envs\\ai\\lib\\site-packages (from beautifulsoup4) (2.0.1)\n"
     ]
    }
   ],
   "source": [
    "# 1.Jupyter Notebook에서 ai 가상환경에서 Beautifulsoup package를 설치하는 스크립트를 작성하시오.\n",
    "!pip install beautifulsoup4 "
   ]
  },
  {
   "cell_type": "code",
   "execution_count": 2,
   "metadata": {},
   "outputs": [
    {
     "name": "stdout",
     "output_type": "stream",
     "text": [
      "Requirement already satisfied: selenium in c:\\programdata\\anaconda3\\envs\\ai\\lib\\site-packages (3.141.0)\n",
      "Requirement already satisfied: urllib3 in c:\\programdata\\anaconda3\\envs\\ai\\lib\\site-packages (from selenium) (1.25.9)\n"
     ]
    }
   ],
   "source": [
    "# 2.Jupyter Notebook에서 ai 가상환경에서 Selenium package를 설치하는 스크립트를 작성하시오.\n",
    "!pip install selenium"
   ]
  },
  {
   "cell_type": "code",
   "execution_count": 4,
   "metadata": {},
   "outputs": [],
   "source": [
    "# 3.자신의 관심 분야에 해당하는 웹사이틀를 선정하고 Chromedriver로 페이지를 open하는 스크립트를 작성하시오.\n",
    "# https://www.siheung.go.kr/corona_policy.jsp\n",
    "from bs4 import BeautifulSoup\n",
    "from selenium import webdriver\n",
    "import time\n",
    "\n",
    "driver = webdriver.Chrome('C:/ai6/chromedriver.exe')\n",
    "\n",
    "driver.get(\"https://www.siheung.go.kr/corona_policy.jsp\")\n",
    "time.sleep(2) # 2초 대기"
   ]
  },
  {
   "cell_type": "code",
   "execution_count": 45,
   "metadata": {},
   "outputs": [],
   "source": [
    "# 4.자신의 관심 분야에 해당하는 웹사이트를 선정하고 Chromedriver로 페이지를 open하여 Beautifulsoup 객체를 생성하는 스크립트를 작성하시오.\n",
    "from bs4 import BeautifulSoup\n",
    "from selenium import webdriver\n",
    "import time\n",
    "\n",
    "driver = webdriver.Chrome('C:/ai6/chromedriver.exe')\n",
    "\n",
    "driver.get(\"https://www.siheung.go.kr/corona_policy.jsp\")\n",
    "time.sleep(2) # 2초 대기\n",
    "\n",
    "driver.maximize_window() # 창 크기 최대화\n",
    "\n",
    "bs = BeautifulSoup(driver.page_source, 'html.parser')"
   ]
  },
  {
   "cell_type": "code",
   "execution_count": 56,
   "metadata": {},
   "outputs": [
    {
     "data": {
      "text/plain": [
       "<html lang=\"ko\"><head>\n",
       "<meta content=\"IE=edge\" http-equiv=\"X-UA-Compatible\"/>\n",
       "<meta content=\"width=device-width, initial-scale=1\" name=\"viewport\"/>\n",
       "<title>코로나19현황 | 시흥시 대표포털</title>\n",
       "<link href=\"/common/css/jquery.bxslider.css\" media=\"all\" rel=\"stylesheet\" type=\"text/css\"/>\n",
       "<link href=\"/common/css/jquery-ui.1.12.1.min.css\" media=\"all\" rel=\"stylesheet\" type=\"text/css\"/>\n",
       "<link href=\"/common/css/common.css\" media=\"all\" rel=\"stylesheet\" type=\"text/css\"/>\n",
       "<link href=\"/common/css/all_layout.css\" media=\"all\" rel=\"stylesheet\" type=\"text/css\"/>\n",
       "<link href=\"/common/css/board.css\" media=\"all\" rel=\"stylesheet\" type=\"text/css\"/>\n",
       "<link href=\"/main/css/layout.css\" media=\"all\" rel=\"stylesheet\" type=\"text/css\"/>\n",
       "<link href=\"/portal/css/index/policy.css\" media=\"all\" rel=\"stylesheet\" type=\"text/css\"/>\n",
       "<link href=\"/portal/css/index/reset.css\" media=\"all\" rel=\"stylesheet\" type=\"text/css\"/>\n",
       "<link href=\"/common/css/all_responsive.css\" media=\"all\" rel=\"stylesheet\" type=\"text/css\"/>\n",
       "<link href=\"/main/css/responsive.css\" media=\"all\" rel=\"stylesheet\" type=\"text/css\"/>\n",
       "<script src=\"/common/js/base/moment.min.js\"></script>\n",
       "<script src=\"/portal/js/index/jquery-1.11.3.min.js\"></script>\n",
       "<script src=\"/main/js/main/corona_index.js\"></script>\n",
       "</head>\n",
       "<body>\n",
       "<section class=\"corona_indx\">\n",
       "<div class=\"top_wrap\">\n",
       "<div class=\"btnWrap\">\n",
       "<a href=\"/main.do\" title=\"시흥시청 홈페이지 바로가기\"><img alt=\"시흥시청 로고\" class=\"logo\" src=\"/common/img/common/logo.png\"/></a>\n",
       "<div class=\"gb\"><a href=\"/main.do\" title=\"시흥시청 홈페이지 바로가기\">시흥시청 홈페이지 바로가기</a></div>\n",
       "</div>\n",
       "<div class=\"intro_tt\">\n",
       "<div class=\"bgWrap\">\n",
       "<img alt=\"시흥시 코로나바이러스감염증-19(COVID-19) 비상대책\n",
       "\t\t\t\t\t시흥시 보건소 031-310-6815~6818 정왕보건지소 031-310-5907 질병관리본부 1339\" src=\"/common/img/common/corona_index_top.jpg\"/>\n",
       "<p>시흥시 코로나바이러스감염증-19(COVID-19) 비상대책<br/>\n",
       "\t\t\t\t\t시흥시 보건소 031-310-6815~6818 정왕보건지소 031-310-5907 질병관리본부 1339</p>\n",
       "</div>\n",
       "</div>\n",
       "</div>\n",
       "<div id=\"content02\">\n",
       "<div class=\"hWrap hWrap3\">\n",
       "<h4 class=\"fL mT30 mL5\">확진자 이동경로<span class=\"txt_ntc\">* 확진자 정보를 클릭하시면 이동경로가 보입니다.</span></h4>\n",
       "<div class=\"movingWrap\">\n",
       "<div class=\"pson_move_top\">\n",
       "<div class=\"pson_btns\">\n",
       "<button class=\"btn\" onclick=\"$('.flip-box').toggle().show();\" type=\"button\">전체 이동경로 열기\n",
       "                                </button>\n",
       "<button class=\"btn\" onclick=\"$('.flip-box').toggle().hide();\" type=\"button\">전체 이동경로 닫기\n",
       "                                </button>\n",
       "</div>\n",
       "</div>\n",
       "<div class=\"table_st\">\n",
       "<p class=\"tbl_guide\">모바일환경에서는 좌우로 이동하여 내용(표)을 보실 수 있습니다.</p>\n",
       "<!--코로나이동경로 시작-->\n",
       "<div class=\"pson_move_list\">\n",
       "<div class=\"move_head\">\n",
       "<span>환자</span>\n",
       "<span>인적<br/>사항</span>\n",
       "<span>감염<br/>경로</span>\n",
       "<span>확진<br/>일자</span>\n",
       "<span>입원<br/>기관</span>\n",
       "</div>\n",
       "<div class=\"in_list\" id=\"corona-area\"><div class=\"onelist\"><a href=\"#\" onclick=\"jQuery('#no1').toggle(); return false;\" target=\"_blank\" title=\"클릭하시면 이동경로가 열립니다.\"><ul class=\"info_s\"><li><span>시흥#22</span></li><li><span>남/39/안산시 와동</span></li><li><span>같은 사업장에 근무하던 구로구#75번 확진환자와 접촉</span></li><li><span>2020-06-16</span></li><li><span>성남의료원</span></li></ul></a><div class=\"info_mtxt flip-box\" id=\"no1\"><ul class=\"list_ul\"><li>현재 역학조사가 진행 중입니다. 확진환자의 이동경로나 접촉자 등에 대한 정보는 역학조사가 완료되는 대로 시 홈페이지와 SNS를 통해 알려드리겠습니다.</li></ul></div></div><div class=\"onelist\"><a href=\"#\" onclick=\"jQuery('#no2').toggle(); return false;\" target=\"_blank\" title=\"클릭하시면 이동경로가 열립니다.\"><ul class=\"info_s\"><li><span>안산21번</span></li><li><span>여/49/원곡동</span></li><li><span>명성하우징 부동산광고 설명회 참석(서울 강남구 소재)</span></li><li><span>2020-06-14</span></li><li><span>경기도의료원 이천병원</span></li></ul></a><div class=\"info_mtxt flip-box\" id=\"no2\"><ul class=\"list_ul\"><li>이동경로는 증상 발현일 2일 전, 무증상의 경우 검체채취일 2일 전부터 격리일까지 공개합니다.</li><li></li><li></li><li></li><li>이동경로 중 시간적ㆍ공간적으로 감염을 우려할 정도의 접촉자가 발생한 장소를 공개하며 모든 접촉자가 파악된 경우, 해당 장소를 공개하지 않을 수 있습니다. (중앙방역대책본부 ‘확진환자의 이동경로 등 정보공개 안내’)</li><li></li><li></li><li></li><li>접촉자는 확진환자의 증상, 마스크 착용 여부, 체류시간, 노출상황 등을 종합적으로 고려해 역학조사관이 결정합니다.</li><li></li><li></li><li></li><li>○ 6월 5일</li><li></li><li></li><li></li><li>17:06~17:29 ㅇㅇㅇ동행정복지센터 (택시 이용, 마스크 착용) *접촉자 없음</li><li></li><li></li><li></li><li>17:44~17:49 ㅇㅇ마트(도보, 마스크 착용) *접촉자 없음</li><li></li><li></li><li></li><li>17:58~19:40 정왕본동 촬향귀참숯양꼬치(도보, 마스크 미착용) *접촉자 6명(관내 5명/관외 1명)</li><li></li><li></li><li></li><li></li><li></li><li>위 내용은 신속한 정보 공개를 통해 감염병 확산을 차단하기 위한 것으로, 추가적인 역학조사 결과 등에 따라 수정ㆍ보완될 수 있습니다.</li><li></li><li></li><li></li><li>추가 확인되는 상황은 시흥시 홈페이지와 SNS를 통해 시민여러분께 빠르고 정확하게 공개하겠습니다. 끝까지 최선을 다하겠습니다.</li></ul></div></div><div class=\"onelist\"><a href=\"#\" onclick=\"jQuery('#no3').toggle(); return false;\" target=\"_blank\" title=\"클릭하시면 이동경로가 열립니다.\"><ul class=\"info_s\"><li><span>시흥#21</span></li><li><span>남/55/정왕1동</span></li><li><span>시흥#19 확진환자의 가족</span></li><li><span>2020-06-13</span></li><li><span>경기도의료원 이천병원</span></li></ul></a><div class=\"info_mtxt flip-box\" id=\"no3\"><ul class=\"list_ul\"><li>이동경로는 증상 발현일 2일 전, 무증상의 경우 검체채취일 2일 전부터 격리일까지 공개합니다.</li><li></li><li></li><li></li><li>이동경로 중 시간적ㆍ공간적으로 감염을 우려할 정도의 접촉자가 발생한 장소를 공개하며 모든 접촉자가 파악된 경우, 해당 장소를 공개하지 않을 수 있습니다. (중앙방역대책본부 ‘확진환자의 이동경로 등 정보공개 안내’)</li><li></li><li></li><li></li><li>접촉자는 확진환자의 증상, 마스크 착용 여부, 체류시간, 노출상황 등을 종합적으로 고려해 역학조사관이 결정합니다.</li><li></li><li></li><li></li><li>○ 6월 6일(토)</li><li></li><li>- 14:30 자택 출발(도보)</li><li></li><li>- 14:40~15:32 인근 공원 산책(도보, 마스크 착용) *접촉자 없음</li><li></li><li>- 15:42 자택 도착(도보) </li><li></li><li>- 19:12 자택 출발(도보)</li><li></li><li>- 19:12~19:32 집 근처 산책(도보, 마스크 착용) *접촉자 없음</li><li></li><li>- 19:32 자택 도착(도보) </li><li></li><li></li><li></li><li>○ 6월 7일(일)</li><li></li><li>- 09:30 자택 출발(도보)</li><li></li><li>- 09:30~10:07 집 근처 산책(도보, 마스크 착용) *접촉자 없음</li><li></li><li>- 10:07 자택 도착(도보)</li><li></li><li>- 11:35 자택 출발(도보)</li><li></li><li>- 11:42~11:49 ㅇㅇ365코너(도보, 마스크 착용) *접촉자 없음</li><li></li><li>- 12:19 자택 도착(도보)</li><li></li><li>- 18:25 자택 출발(도보)</li><li></li><li>- 18:35~19:14 집 근처 공원 산책(도보, 마스크 착용) *접촉자 없음</li><li></li><li>- 19:24 자택 도착(도보) </li><li></li><li></li><li></li><li>○ 6월 8일(월, 증상발현) </li><li></li><li>- 14:33 자택 출발(도보)</li><li></li><li>- 14:38~14:54 정왕1동 인력사무소 쓰리에이치오(도보, 마스크 착용) *접촉자 11명(관내 7명/관외 4명)</li><li></li><li>- 안산시 경유(인력사무소 임대버스 이용, 마스크 착용)</li><li></li><li>- 군포시 경유(인력사무소 임대버스 이용, 마스크 착용)</li><li></li><li>- ~다음 날 아침 서울시 송파구 장지동 소재 물류센터 근무(인력사무소 임대버스 이용, 마스크 착용) </li><li></li><li></li><li></li><li>○ 6월 9일(화)</li><li></li><li>- 10:28~10:29 정왕1동 인력사무소 쓰리에이치오 도착(인력사무소 임대버스 이용, 마스크 착용)</li><li></li><li>- 10:35 자택 도착(도보)</li><li></li><li>- 15:29 자택 출발(도보)</li><li></li><li>- 15:35~15:57 정왕1동 쓰리에이치오(도보, 마스크 착용) * 접촉자 2명(관내)</li><li></li><li>- 안산시 경유(인력사무소 임대버스 이용, 마스크 착용)</li><li></li><li>- 군포시 경유(인력사무소 임대버스 이용, 마스크 착용)</li><li></li><li>- ~다음 날 아침 서울시 송파구 장지동 소재 물류센터 근무(인력사무소 임대버스 이용, 마스크 착용) </li><li></li><li></li><li></li><li>○ 6월 10일(수)</li><li></li><li>- 09:11~09:12 정왕1동 인력사무소 쓰리에이치오 도착(인력사무소 임대버스 이용, 마스크 착용)</li><li></li><li>- 09:18 자택 도착(도보)</li><li></li><li>- 16:06 자택 출발(도보)</li><li></li><li>- 16:16~17:07 인근 공원 산책(도보, 마스크 착용) *접촉자 없음</li><li></li><li>- 17:17 자택 도착</li><li></li><li></li><li></li><li>○ 6월 11일(목)</li><li></li><li>- 08:42 자택 출발(도보)</li><li></li><li>- 09:10~9:21 시화정형외과정류장~시화병원정류장(23번 버스 탑승 후 하차, 마스크 착용) *접촉자 없음</li><li></li><li>- 09:29~10:10 시흥#19 확진환자 시화병원 선별진료소 검사 동행(도보, 마스크 착용) *접촉자 없음</li><li></li><li>- 10:30~10:42 시화병원정류장~시화정형외과ㆍ이철신경외과정류장(23번 버스 탑승 후 하차, 마스크 착용) *접촉자 없음</li><li></li><li>- 11:00 자택 도착(도보)</li><li></li><li>- 15:20 자택 출발(도보)</li><li></li><li>- 15:45~15:46 ㅇㅇ마트(도보, 마스크 착용) *접촉자 없음</li><li></li><li>- 15:46~16:03  ㅇㅇ시장(도보, 마스크 착용) *접촉자 없음</li><li></li><li>- 16:03~16:07 ㅇㅇ마트(도보, 마스크 착용) *접촉자 없음</li><li></li><li>- 16:27 자택도착(도보)</li><li></li><li></li><li></li><li>○ 6월 12일(금)</li><li></li><li>- 08:26 자택 출발(보건소 구급차 이용)</li><li></li><li>- 08:31~08:40 정왕보건지소 드라이브스루 검사(1차/재검 판정, 마스크 착용) *접촉자 없음 </li><li></li><li>- 08:45 자택 도착(보건소 구급차 이용) </li><li></li><li></li><li></li><li>○ 6월 13일(토) </li><li></li><li>- 09:42 자택 출발(보건소 구급차 이용)</li><li></li><li>- 09:47~09:51 정왕보건지소 선별진료소 검사(재검/확진 판정, 마스크 착용) *접촉자 없음</li><li></li><li>- 09:56 자택 도착(보건소 구급차 이용)</li><li></li><li>- 20:15 경기도의료원 이천병원 이송(보건소 구급차 이용) </li><li></li><li></li><li></li><li>위 내용은 신속한 정보 공개를 통해 감염병 확산을 차단하기 위한 것으로, 추가적인 역학조사 결과 등에 따라 수정ㆍ보완될 수 있습니다.</li><li></li><li></li><li></li><li>추가 확인되는 상황은 시흥시 홈페이지와 SNS를 통해 시민여러분께 빠르고 정확하게 공개하겠습니다. 끝까지 최선을 다하겠습니다.</li></ul></div></div><div class=\"onelist\"><a href=\"#\" onclick=\"jQuery('#no4').toggle(); return false;\" target=\"_blank\" title=\"클릭하시면 이동경로가 열립니다.\"><ul class=\"info_s\"><li><span>시흥#20</span></li><li><span>남/13/정왕1동</span></li><li><span>-</span></li><li><span>2020-06-12</span></li><li><span>경기도의료원 수원병원</span></li></ul></a><div class=\"info_mtxt flip-box\" id=\"no4\"><ul class=\"list_ul\"><li>이동경로는 증상 발현일 2일 전, 무증상의 경우 검체채취일 2일 전부터 격리일까지 공개합니다.</li><li></li><li></li><li></li><li>이동경로 중 시간적ㆍ공간적으로 감염을 우려할 정도의 접촉자가 발생한 장소를 공개하며 모든 접촉자가 파악된 경우, 해당 장소를 공개하지 않을 수 있습니다. (중앙방역대책본부 ‘확진환자의 이동경로 등 정보공개 안내’)</li><li></li><li></li><li></li><li>접촉자는 확진환자의 증상, 마스크 착용 여부, 체류시간, 노출상황 등을 종합적으로 고려해 역학조사관이 결정합니다.</li><li></li><li></li><li></li><li>* 모든 이동동선에 마스크를 착용했으며, 6월 11일 시화병원 선별진료소 방문 동선을 제외하고는 모두 도보로 이동했습니다. </li><li></li><li></li><li></li><li>○ (6월 7일) 자택 출발(14:38), ㅇㅇ음식점(14:47~15:29), 자택 도착(15:48) *접촉자 3명(가족)</li><li></li><li></li><li></li><li>○ (6월 8일) 자택 출발(07:53), ㅇㅇ문구(08:26~08:30), 정왕중학교(08:40~16:19), 자택 도착(16:29) *접촉자 39명(학생 30명/교직원 9명)</li><li></li><li></li><li></li><li>○ (6월 9일, 증상발현) 자택 출발(08:35), 정왕중학교(08:45~16:30), 공원 산책(16:30~17:25, 기접촉자와 동행), 자택 도착(17:35), 친구집 방문(19:45~21:40), 자택 도착(21:41) *접촉자 2명(주민)</li><li></li><li></li><li></li><li>○ (6월 10일) 자택 출발(08:44), 등교 후 조퇴(08:54~13:14), 자택 도착(13:24)</li><li></li><li></li><li></li><li>○ (6월 11일) 자택 출발(09:00, 가족 차량 이용), 시화병원 선별진료소 검사(09:30~09:50, 가족 차량 이용), ㅇㅇ슈퍼(10:09~10:10), 자택 도착(10:11)</li><li></li><li></li><li></li><li>○ (6월 11일) 경기도의료원 수원병원 이송(10:45, 시흥시보건소 구급차 이용)</li><li></li><li></li><li></li><li>위 내용은 신속한 정보 공개를 통해 감염병 확산을 차단하기 위한 것으로, 추가적인 역학조사 결과 등에 따라 수정ㆍ보완될 수 있습니다.</li><li></li><li></li><li></li><li>추가 확인되는 상황은 시흥시 홈페이지와 SNS를 통해 시민여러분께 빠르고 정확하게 공개하겠습니다. 끝까지 최선을 다하겠습니다.</li></ul></div></div><div class=\"onelist\"><a href=\"#\" onclick=\"jQuery('#no5').toggle(); return false;\" target=\"_blank\" title=\"클릭하시면 이동경로가 열립니다.\"><ul class=\"info_s\"><li><span>시흥#19</span></li><li><span>여/52/정왕1동</span></li><li><span>-</span></li><li><span>2020-06-11</span></li><li><span>경기도의료원 수원병원</span></li></ul></a><div class=\"info_mtxt flip-box\" id=\"no5\"><ul class=\"list_ul\"><li>이동경로는 증상 발현일 2일 전, 무증상의 경우 검체채취일 2일 전부터 격리일까지 공개합니다.</li><li></li><li></li><li></li><li>이동경로 중 시간적ㆍ공간적으로 감염을 우려할 정도의 접촉자가 발생한 장소를 공개하며 모든 접촉자가 파악된 경우, 해당 장소를 공개하지 않을 수 있습니다. (중앙방역대책본부 ‘확진환자의 이동경로 등 정보공개 안내’)</li><li></li><li></li><li></li><li>접촉자는 확진환자의 증상, 마스크 착용 여부, 체류시간, 노출상황 등을 종합적으로 고려해 역학조사관이 결정합니다.</li><li></li><li></li><li></li><li>* 모든 이동동선에서 마스크를 착용했으며, 이동수단이 기재돼 있지 않은 동선은 모두 도보로 이동했습니다. </li><li></li><li></li><li></li><li>○ (6월 7일) 자택 출발(07:37), 대우아파트 정류장(7시 45분경, 123번 버스 탑승), 안산시 대부도 이동(직장), 대우아파트 정류장(20시 26분경 123번 버스 하차), 자택 도착(20:32)</li><li></li><li></li><li></li><li>○ (6월 8일) 자택 출발(10:14), 정왕동 우주환전소*(10:34~10:46), ㅇㅇ시장(10:50~10:55), ㅇㅇ마트(10:55~11:01), 친척집 방문(11:04~11:24/접촉자 1명(친척)), 자택 도착(12:04), 집근처 산책(20:48~21:00) </li><li></li><li></li><li></li><li>○ (6월 9일, 증상발현) 자택 출발(07:51), 대우아파트 정류장(7시 58분경, 123번 버스 탑승), 안산시 대부도 이동(직장), 대우아파트 정류장(20시 33분, 123번 버스 하차), 자택 도착(20:40)</li><li></li><li></li><li></li><li>○ (6월 10일) 집근처 산책(16:06~17:07)</li><li></li><li></li><li></li><li>○ (6월 11일) 자택 출발(08:42), 시화정형외과정류장~시화병원정류장(9시 10분경~9시 21분, 23번 버스 탑승 후 하차), 시화병원 선별진료소 검사(09:29~10:10), 시화병원정류장~시화정형외과ㆍ이철신경외과정류장(10시 30분~10시 42분, 23번 버스 탑승 후 하차), 자택 도착(11:00), 자택 출발(15:20), ㅇㅇ마트(15:45~15:46), ㅇㅇ시장(15:46~16:03), ㅇㅇ마트(16:03~16:07), 자택도착(16:27), 경기도의료원 수원병원 이송(23:52, 시흥시보건소 구급차 이용)</li><li></li><li></li><li></li><li>위 내용은 신속한 정보 공개를 통해 감염병 확산을 차단하기 위한 것으로, 추가적인 역학조사 결과 등에 따라 수정ㆍ보완될 수 있습니다.</li><li></li><li></li><li></li><li>추가 확인되는 상황은 시흥시 홈페이지와 SNS를 통해 시민여러분께 빠르고 정확하게 공개하겠습니다. 끝까지 최선을 다하겠습니다.</li></ul></div></div><div class=\"onelist\"><a href=\"#\" onclick=\"jQuery('#no6').toggle(); return false;\" target=\"_blank\" title=\"클릭하시면 이동경로가 열립니다.\"><ul class=\"info_s\"><li><span>시흥#18</span></li><li><span>여/68/능곡동</span></li><li><span>시흥#17 확진환자의 가족</span></li><li><span>2020-06-06</span></li><li><span>경기도의료원 파주병원</span></li></ul></a><div class=\"info_mtxt flip-box\" id=\"no6\"><ul class=\"list_ul\"><li>이동경로는 증상 발현일 2일 전, 무증상의 경우 검체채취일 2일 전부터 격리일까지 공개합니다.</li><li></li><li></li><li></li><li>이동경로 중 시간적ㆍ공간적으로 감염을 우려할 정도의 접촉자가 발생한 장소를 공개하며 모든 접촉자가 파악된 경우, 해당 장소를 공개하지 않을 수 있습니다. (중앙방역대책본부 ‘확진환자의 이동경로 등 정보공개 안내’)</li><li></li><li></li><li></li><li>접촉자는 확진환자의 증상, 마스크 착용 여부, 체류시간, 노출상황 등을 종합적으로 고려해 역학조사관이 결정합니다.</li><li></li><li></li><li></li><li>*모든 이동경로에는 마스크를 착용했습니다.</li><li></li><li></li><li></li><li>○ (5월 26일) 자택 출발(09:55, 도보), 시흥능곡역 도착(10:06, 도보), 서울시 동대문구 이동, 시흥능곡역 도착(16:48), 자택 도착(16:55, 도보)</li><li></li><li></li><li></li><li>○ (5월 27일) 자택 출발(11:41, 도보), ㅇㅇ사우나*(11:48~13:35, 도보, 접촉자 없음), 자택 도착(13:44, 도보)</li><li></li><li></li><li></li><li>○ (5월 28일, 증상발현) 자택출발(11:49, 도보), 자라는소아청소년과의원(11:56~12:02, 도보, 접촉자 없음), ㅇㅇ약국(12:02~12:09, 도보, 접촉자 없음), 시흥능곡역 도착(12:15, 도보), 신천역 도착(12:45, 서해선), 삼미시장(12:45~12:51, 도보, 방문 상점 및 접촉자 없음), 신천역 도착(13:00, 도보), 부천시 이동, 시흥능곡역 도착(14:45), 자택 도착(14:55, 도보)</li><li></li><li></li><li></li><li>○ (5월 29일) 자택출발(10:46, 도보), ㅇㅇ마트(10:58~11:09, 도보, 접촉자 없음), 자택 도착(11:35)</li><li></li><li></li><li></li><li>○ (5월 30일) 자택 출발(09:20, 도보), 자라는소아청소년과의원(09:27~09:37, 도보, 접촉자 3명/직원), ㅇㅇ약국(09:37~09:46, 도보, 접촉자 없음), 자택 도착(10:09)</li><li></li><li></li><li></li><li>○ (5월 31일) 자택 출발(12:34, 가족 차량 이용), ㅇㅇ음식점(12:40~12:49, 가족 차량 이용, 확진환자는 차 안에서 대기해 접촉자 없음), 자택 도착(12:55, 가족 차량 이용)</li><li></li><li></li><li></li><li>○ (6월 1일~3일) 종일 자택에 머무름</li><li></li><li></li><li></li><li>○ (6월 4일) 자택 출발(10:42, 도보), ㅇㅇ음식점(10:48~10:58, 도보, 접촉자 없음), 자택 도착(11:11, 도보)</li><li></li><li></li><li></li><li>○ (6월 5일) 자택 출발(08:48, 도보), ㅇㅇ편의점(09:06~09:09, 도보, 접촉자 없음), ㅇㅇ편의점(09:15~09:17, 도보, 접촉자 없음), 자택 도착(09:26, 도보)</li><li></li><li></li><li></li><li>○ (6월 6일) 자택 출발(10:00, 가족 차량 이용), 정왕보건지소 드라이브스루 검사(10:28~11:20), 자택 도착(11:45, 가족 차량 이용), 확진판정 후 경기도의료원 파주병원 이송(21:38, 시흥시보건소 구급차 이용)</li><li></li><li></li><li></li><li>위 내용은 신속한 정보 공개를 통해 감염병 확산을 차단하기 위한 것으로, 추가적인 역학조사 결과 등에 따라 수정ㆍ보완될 수 있습니다.</li><li></li><li></li><li></li><li>추가 확인되는 상황은 시흥시 홈페이지와 SNS를 통해 시민여러분께 빠르고 정확하게 공개하겠습니다. 끝까지 최선을 다하겠습니다.</li></ul></div></div><div class=\"onelist\"><a href=\"#\" onclick=\"jQuery('#no7').toggle(); return false;\" target=\"_blank\" title=\"클릭하시면 이동경로가 열립니다.\"><ul class=\"info_s\"><li><span>강서구57번</span></li><li><span>남/40대/염창동</span></li><li><span>양천구 목2동 소재 목동탁구클럽 이용자 중 확진환자와 접촉</span></li><li><span>2020-06-05</span></li><li><span>보라매병원</span></li></ul></a><div class=\"info_mtxt flip-box\" id=\"no7\"><ul class=\"list_ul\"><li>○ 5월 29일: 세븐일레븐 시화벤처로점(08:28~08:29, 접촉자 1명/관외), 정왕동 소재 사업장 출근(08:35, 접촉자 1명/관외), 정왕동 대신셀프식당(12:26~12:39, 접촉자 2명/관내 1명, 관외 1명), 퇴근(17:30) 후 타시 이동</li><li></li><li></li><li></li><li>○ 6월 1일: 시흥시 동선 없음</li><li></li><li></li><li></li><li>○ 6월 2일: 정왕동 소재 사업장 출근(08:05), 정왕동 대신셀프식당(12:26~12:38), 퇴근(18:00) 후 타시 이동</li><li></li><li></li><li></li><li>○ 6월 3일: 세븐일레븐 시화MTV점(07:58~07:59, 접촉자 1명/관내), 정왕동 소재 사업장 출근(08:05), 정왕동 대신셀프식당(12:24~12:38, 접촉자 1명/관외), 퇴근(17:00) 후 타시 이동</li><li></li><li></li><li></li><li>○ 6월 4일: 세븐일레븐 시화MTV점(08:03~08:04), 정왕동 소재 사업장 출근(08:10), 출장 차 타시 이동(09:30), 정왕동 소재 사업장 복귀(11:20), 퇴근(12:00) 후 타시 이동</li><li></li><li></li><li></li><li>*모든 이동경로는 자차를 이용했으며, 마스크는 미착용했습니다.</li><li></li><li></li><li></li><li>시흥시를 제외한 확진환자의 전체적인 이동경로는 서울시 강서구 홈페이지나 SNS를 통해 확인하실 수 있습니다.</li><li></li><li></li><li></li><li>위 내용은 신속한 정보 공개를 통해 감염병 확산을 차단하기 위한 것으로, 추가적인 역학조사 결과 등에 따라 수정ㆍ보완될 수 있습니다.</li></ul></div></div><div class=\"onelist\"><a href=\"#\" onclick=\"jQuery('#no8').toggle(); return false;\" target=\"_blank\" title=\"클릭하시면 이동경로가 열립니다.\"><ul class=\"info_s\"><li><span>시흥#17</span></li><li><span>남/75/능곡동</span></li><li><span>고양시 확진환자 접촉자</span></li><li><span>2020-06-06</span></li><li><span>경기도의료원 파주병원</span></li></ul></a><div class=\"info_mtxt flip-box\" id=\"no8\"><ul class=\"list_ul\"><li>이동경로는 증상 발현일 2일 전, 무증상의 경우 검체채취일 2일 전부터 격리일까지 공개합니다.</li><li></li><li></li><li></li><li>이동경로 중 시간적ㆍ공간적으로 감염을 우려할 정도의 접촉자가 발생한 장소를 공개하며 모든 접촉자가 파악된 경우, 해당 장소를 공개하지 않을 수 있습니다. (중앙방역대책본부 ‘확진환자의 이동경로 등 정보공개 안내’)</li><li></li><li></li><li></li><li>접촉자는 확진환자의 증상, 마스크 착용 여부, 체류시간, 노출상황 등을 종합적으로 고려해 역학조사관이 결정합니다.</li><li></li><li></li><li></li><li>*모든 이동경로에는 마스크를 착용했습니다.</li><li></li><li></li><li></li><li>○ (5월 25일) 자택 출발(09:14, 도보), 시흥능곡역 도착(09:22, 도보), 서울시 강남구 및 영등포구 이동, 시흥능곡역 도착(20:29), 자택 도착(20:37, 도보)</li><li></li><li></li><li></li><li>○ (5월 26일) 자택 출발(09:11, 도보), 시흥능곡역 도착(09:20, 도보), 서울시 강남구 이동, 시흥능곡역 도착 (20:34), 자택 도착(20:42, 도보)</li><li></li><li></li><li></li><li>○ (5월 27일, 증상발현) 자택 출발(10:16, 도보), 자라는소아청소년과의원(10:22~10:26, 도보, 접촉자 3명/직원), ㅇㅇ약국(10:26~10:31, 도보, 접촉자 없음), 시흥능곡역 도착(10:40, 도보), 서울시 강남구 이동, 시흥능곡역 도착(21:21), 자택 도착(21:34, 도보)</li><li></li><li></li><li></li><li>○ (5월 28일) 자택출발(11:49, 도보), 자라는소아청소년과의원(11:56~12:02, 도보, 접촉자 1명/직원), ㅇㅇ약국(12:02~12:09, 도보, 접촉자 없음), 시흥능곡역 도착(12:15, 도보), 서울시 강남구 및 영등포구 이동, 시흥능곡역 도착(20:20), 자택 도착(20:29, 도보)</li><li></li><li></li><li></li><li>○ (5월 29일) 자택출발(10:10, 도보), 시흥능곡역 도착(10:17, 도보), 서울시 구로구 이동, 시흥능곡역 도착 (20:53), 자택 도착(21:03, 도보)</li><li></li><li></li><li></li><li>○ (5월 30일) 자택 출발(09:20, 도보), 시흥능곡역 도착(09:27, 도보), 서울시 강남구 이동, 시흥능곡역 도착 (17:28), 자택 도착(17:39, 도보)</li><li></li><li></li><li></li><li>○ (5월 31일) 종일 자택에 머무름</li><li></li><li></li><li></li><li>○ (6월 1일) 자택 출발(10:54, 도보), 시흥능곡역 도착(11:02, 도보), 서울시 강남구 및 구로구 이동, 시흥능곡역 도착(21:47), 자택 도착(21:55, 도보)</li><li></li><li></li><li></li><li>○ (6월 2일) 자택 출발(10:02, 도보), 시흥능곡역 도착(10:10), 서울시 강남구 이동, 시흥능곡역 도착 (16:45), 자택 도착(16:54)</li><li></li><li></li><li></li><li>○ (6월 3일) 자택 출발(10:43, 도보), 시흥능곡역 도착(10:51, 도보), 서울시 강남구 및 영등포구 이동, 시흥능곡역 도착(21:02), 자택 도착(21:12, 도보)</li><li></li><li></li><li></li><li>○ (6월 4일) 자택 출발(11:42, 도보), 시흥능곡역 도착(11:49, 도보), 서울시 강남구 및 영등포구 이동, 시흥능곡역 도착(20:05), 자택 도착(20:09, 도보)</li><li></li><li></li><li></li><li>○ (6월 5일) 자택 출발(08:33, 도보), 시흥능곡역 도착(08:41, 도보), 신천역 도착(09:13, 서해선), 시흥시보건소 선별진료소 검사(09:25~11:43, 도보), 자택 도착(12:06, 시흥시보건소 구급차 이용)</li><li></li><li></li><li></li><li>○ (6월 6일) 확진판정 후 경기도의료원 파주병원 이송(09:58, 시흥시보건소 구급차 이용)</li><li></li><li></li><li></li><li>위 내용은 신속한 정보 공개를 통해 감염병 확산을 차단하기 위한 것으로, 추가적인 역학조사 결과 등에 따라 수정ㆍ보완될 수 있습니다.</li><li></li><li></li><li></li><li>추가 확인되는 상황은 시흥시 홈페이지와 SNS를 통해 시민여러분께 빠르고 정확하게 공개하겠습니다. 끝까지 최선을 다하겠습니다.</li></ul></div></div><div class=\"onelist\"><a href=\"#\" onclick=\"jQuery('#no9').toggle(); return false;\" target=\"_blank\" title=\"클릭하시면 이동경로가 열립니다.\"><ul class=\"info_s\"><li><span>시흥#16</span></li><li><span>남/41/배곧동</span></li><li><span>확진환자가 발생한 안양 코카콜라에 근무</span></li><li><span>2020-06-06</span></li><li><span>경기도의료원 파주병원</span></li></ul></a><div class=\"info_mtxt flip-box\" id=\"no9\"><ul class=\"list_ul\"><li>이동경로는 증상 발현일 2일 전, 무증상의 경우 검체채취일 2일 전부터 격리일까지 공개합니다.</li><li></li><li></li><li></li><li>이동경로 중 시간적ㆍ공간적으로 감염을 우려할 정도의 접촉자가 발생한 장소를 공개하며 모든 접촉자가 파악된 경우, 해당 장소를 공개하지 않을 수 있습니다. (중앙방역대책본부 ‘확진환자의 이동경로 등 정보공개 안내’)</li><li></li><li></li><li></li><li>접촉자는 확진환자의 증상, 마스크 착용 여부, 체류시간, 노출상황 등을 종합적으로 고려해 역학조사관이 결정합니다.</li><li></li><li></li><li></li><li>*모든 이동경로에서 자차를 이용했으며, 마스크를 착용했습니다. </li><li></li><li></li><li></li><li>○ (6월 1일) 자택 출발(13:42), 정왕보건지소 선별진료소 검사(14:00~14:08, 1차/음성), 자택 도착(14:25)</li><li></li><li></li><li></li><li>○ (6월 2일~6월 4일) 자택에 머무름 *6월 3일 증상발현</li><li></li><li></li><li></li><li>○ (6월 5일) 자택 출발(12:34), 정왕보건지소 선별진료소(12:50~13:03), 자택 도착(13:17)</li><li></li><li></li><li></li><li>○ (6월 6일) 확진판정 후 경기도의료원 파주병원 이송(10:10, 시흥시보건소 구급차 이용)</li><li></li><li></li><li></li><li>위 내용은 신속한 정보 공개를 통해 감염병 확산을 차단하기 위한 것으로, 추가적인 역학조사 결과 등에 따라 수정ㆍ보완될 수 있습니다.</li><li></li><li></li><li></li><li>추가 확인되는 상황은 시흥시 홈페이지와 SNS를 통해 시민여러분께 빠르고 정확하게 공개하겠습니다. 끝까지 최선을 다하겠습니다.</li></ul></div></div><div class=\"onelist\"><a href=\"#\" onclick=\"jQuery('#no10').toggle(); return false;\" target=\"_blank\" title=\"클릭하시면 이동경로가 열립니다.\"><ul class=\"info_s\"><li><span>시흥#15</span></li><li><span>여/60/은행동</span></li><li><span>건강용품 방문판매업체 ‘리치웨이’ 관련자</span></li><li><span>2020-06-05</span></li><li><span>경기도의료원 파주병원</span></li></ul></a><div class=\"info_mtxt flip-box\" id=\"no10\"><ul class=\"list_ul\"><li>이동경로는 증상 발현일 2일 전, 무증상의 경우 검체채취일 2일 전부터 격리일까지 공개합니다.</li><li></li><li></li><li></li><li>이동경로 중 시간적ㆍ공간적으로 감염을 우려할 정도의 접촉자가 발생한 장소를 공개하며 모든 접촉자가 파악된 경우, 해당 장소를 공개하지 않을 수 있습니다. (중앙방역대책본부 ‘확진환자의 이동경로 등 정보공개 안내’)</li><li></li><li></li><li></li><li>접촉자는 확진환자의 증상, 마스크 착용 여부, 체류시간, 노출상황 등을 종합적으로 고려해 역학조사관이 결정합니다.</li><li></li><li></li><li></li><li>○ (6월 2일) 자택 출발(6:47, 도보, 마스크 착용), 신일초교ㆍ백제당약국정류장(6시 54분경 31-3번 버스 승차, 마스크 착용), 타시 이동(관악구 리치웨이), 신일초교ㆍ백제당약국정류장 도착(21시 59분경 31-3 버스 하차, 마스크 착용), 귀가(22:06, 도보, 마스크 착용) </li><li></li><li></li><li></li><li>○ (6월 3일) 자택 출발(6:47, 도보, 마스크 착용), 신일초교ㆍ백제당약국정류장(6시 54분경 31-3번 버스 승차, 마스크 착용), 타시 이동(관악구 리치웨이), 신일초교ㆍ백제당약국정류장 도착(18시 23분경 31-3 버스 하차, 마스크 착용), 귀가(18:30, 도보, 마스크 착용) </li><li></li><li></li><li></li><li>○ (6월 4일) 자택 출발(14:01, 도보, 마스크 착용 *보건소 이동 중 14시 7분경 이웃 주민 만나 잠시 대화했으나, 양쪽 모두 마스크를 착용해 접촉자로 분류되지 않음), 시흥시보건소 선별진료소 검사(15:00~15:30), 자택 도착(16:38, 도보, 마스크 착용) </li><li></li><li></li><li></li><li>○ (6월 5일) 확진 판정 후 경기도의료원 파주병원 이송(9:49, 시흥시보건소 구급차 이용) </li><li></li><li></li><li></li><li>위 내용은 신속한 정보 공개를 통해 감염병 확산을 차단하기 위한 것으로, 추가적인 역학조사 결과 등에 따라 수정ㆍ보완될 수 있습니다.</li><li></li><li></li><li></li><li>추가 확인되는 상황은 시흥시 홈페이지와 SNS를 통해 시민여러분께 빠르고 정확하게 공개하겠습니다. 끝까지 최선을 다하겠습니다.</li></ul></div></div><div class=\"onelist\"><a href=\"#\" onclick=\"jQuery('#no11').toggle(); return false;\" target=\"_blank\" title=\"클릭하시면 이동경로가 열립니다.\"><ul class=\"info_s\"><li><span>양천구30번</span></li><li><span>여/59/신정7동</span></li><li><span>양천구29번 확진환자와 접촉</span></li><li><span>2020-06-01</span></li><li><span>서남병원</span></li></ul></a><div class=\"info_mtxt flip-box\" id=\"no11\"><ul class=\"list_ul\"><li>○ 5월 29일: 서해선 신천역 도착(13:00, 마스크 착용), 대야동 열린기도원(13:22~17:38, 도보, 마스크 착용), 신천역(18:00, 도보, 마스크 착용)도착 후 타시 이동 *접촉자 11명(관내 2명/관외 9명)</li><li></li><li></li><li></li><li>이동경로 중 시간적ㆍ공간적으로 감염을 우려할 정도의 접촉자가 발생한 장소를 공개하며 모든 접촉자가 파악된 경우, 해당 장소를 공개하지 않을 수 있습니다(중앙방역대책본부 ‘확진환자의 이동경로 등 정보공개 안내’).</li><li></li><li>위 내용은 신속한 정보 공개를 통해 감염병 확산을 차단하기 위한 것으로, 추가적인 역학조사 결과 등에 따라 수정ㆍ보완될 수 있습니다.</li></ul></div></div><div class=\"onelist\"><a href=\"#\" onclick=\"jQuery('#no12').toggle(); return false;\" target=\"_blank\" title=\"클릭하시면 이동경로가 열립니다.\"><ul class=\"info_s\"><li><span>시흥#14</span></li><li><span>남/27/정왕3동</span></li><li><span>해외(파키스탄)입국자</span></li><li><span>2020-06-03</span></li><li><span>경기도의료원 파주병원</span></li></ul></a><div class=\"info_mtxt flip-box\" id=\"no12\"><ul class=\"list_ul\"><li>이동경로는 증상 발현일 2일 전, 무증상의 경우 검체채취일 2일 전부터 격리일까지 공개합니다. </li><li></li><li>이동경로 중 시간적ㆍ공간적으로 감염을 우려할 정도의 접촉자가 발생한 장소를 공개하며 모든 접촉자가 파악된 경우, 해당 장소를 공개하지 않을 수 있습니다(중앙방역대책본부 ‘확진환자의 이동경로 등 정보공개 안내’).</li><li></li><li>접촉자는 확진환자의 증상, 마스크 착용 여부, 체류시간, 노출상황 등을 종합적으로 고려해 역학조사관이 결정합니다.</li><li></li><li></li><li></li><li>○ (5월 20일) 입국 후 공항검역소에서 검사(음성판정) 후 지정 호텔 대기</li><li></li><li></li><li></li><li>○ (5월 21일) 자택도착(16:18, 방역택시 이용)</li><li></li><li></li><li></li><li>○ (5월 22일~6월 1일) 자가격리 *접촉자 1명(관내/5월 23일~6월 2일 매일 저녁식사 배달)</li><li></li><li></li><li></li><li>○ (6월 2일) 자택 출발(09:42), 정왕보건지소 선별진료소 검사(09:57~10:02), 귀가(10:17) *모두 시흥시 보건소 구급차 이용</li><li></li><li></li><li></li><li>○ (6월 3일) 확진판정 후 경기도의료원 파주병원 이송(11:45)</li><li></li><li></li><li></li><li> 위 내용은 신속한 정보 공개를 통해 감염병 확산을 차단하기 위한 것으로, 추가적인 역학조사 결과 등에 따라 수정ㆍ보완될 수 있습니다.</li><li></li><li></li><li></li><li> 추가 확인되는 상황은 시흥시 홈페이지와 SNS를 통해 시민여러분께 빠르고 정확하게 공개하겠습니다. 끝까지 최선을 다하겠습니다.</li></ul></div></div><div class=\"onelist\"><a href=\"#\" onclick=\"jQuery('#no13').toggle(); return false;\" target=\"_blank\" title=\"클릭하시면 이동경로가 열립니다.\"><ul class=\"info_s\"><li><span>부천121번</span></li><li><span>여/27/소사동 (매화동 어린이집 교사)</span></li><li><span>인천 교회 관련 확진환자의 가족</span></li><li><span>2020-06-01</span></li><li><span>경기도의료원 파주병원</span></li></ul></a><div class=\"info_mtxt flip-box\" id=\"no13\"><ul class=\"list_ul\"><li>코로나19 관련 중앙방역대책본부의 &lt;확진환자의 이동경로 등 정보공개 안내&gt;지침에 따라 정해진 공개기간 이후의 확진자 이동경로는 비공개로 전환됨을 알려드립니다.</li><li></li><li>(※ 공개기간 : 확진자가 마지막 접촉자와 접촉한 날로부터 14일까지)</li></ul></div></div><div class=\"onelist\"><a href=\"#\" onclick=\"jQuery('#no14').toggle(); return false;\" target=\"_blank\" title=\"클릭하시면 이동경로가 열립니다.\"><ul class=\"info_s\"><li><span>시흥#13</span></li><li><span>남/68/능곡동</span></li><li><span>인천#221 확진환자(능곡동 거주)의 가족</span></li><li><span>2020-06-01</span></li><li><span>경기도의료원 파주병원</span></li></ul></a><div class=\"info_mtxt flip-box\" id=\"no14\"><ul class=\"list_ul\"><li>코로나19 관련 중앙방역대책본부의 &lt;확진환자의 이동경로 등 정보공개 안내&gt;지침에 따라 정해진 공개기간 이후의 확진자 이동경로는 비공개로 전환됨을 알려드립니다.</li><li></li><li>(※ 공개기간 : 확진자가 마지막 접촉자와 접촉한 날로부터 14일까지)</li></ul></div></div><div class=\"onelist\"><a href=\"#\" onclick=\"jQuery('#no15').toggle(); return false;\" target=\"_blank\" title=\"클릭하시면 이동경로가 열립니다.\"><ul class=\"info_s\"><li><span>인천221번</span></li><li><span>여/62/능곡동</span></li><li><span>인천시 소재 교회 모임에서 확진환자와 접촉</span></li><li><span>2020-05-31</span></li><li><span>경기도의료원 안성병원</span></li></ul></a><div class=\"info_mtxt flip-box\" id=\"no15\"><ul class=\"list_ul\"><li>코로나19 관련 중앙방역대책본부의 &lt;확진환자의 이동경로 등 정보공개 안내&gt;지침에 따라 정해진 공개기간 이후의 확진자 이동경로는 비공개로 전환됨을 알려드립니다.</li><li></li><li>(※ 공개기간 : 확진자가 마지막 접촉자와 접촉한 날로부터 14일까지)</li></ul></div></div><div class=\"onelist\"><a href=\"#\" onclick=\"jQuery('#no16').toggle(); return false;\" target=\"_blank\" title=\"클릭하시면 이동경로가 열립니다.\"><ul class=\"info_s\"><li><span>시흥#12</span></li><li><span>남/53/정왕2동</span></li><li><span>-</span></li><li><span>2020-05-31</span></li><li><span>성남의료원/퇴원(6.11)</span></li></ul></a><div class=\"info_mtxt flip-box\" id=\"no16\"><ul class=\"list_ul\"><li>코로나19 관련 중앙방역대책본부의 &lt;확진환자의 이동경로 등 정보공개 안내&gt;지침에 따라 정해진 공개기간 이후의 확진자 이동경로는 비공개로 전환됨을 알려드립니다.</li><li></li><li>(※ 공개기간 : 확진자가 마지막 접촉자와 접촉한 날로부터 14일까지)</li></ul></div></div><div class=\"onelist\"><a href=\"#\" onclick=\"jQuery('#no17').toggle(); return false;\" target=\"_blank\" title=\"클릭하시면 이동경로가 열립니다.\"><ul class=\"info_s\"><li><span>부천87번</span></li><li><span>-/-/상동</span></li><li><span>-</span></li><li><span>2020-05-24</span></li><li><span>경기도의료원 수원병원</span></li></ul></a><div class=\"info_mtxt flip-box\" id=\"no17\"><ul class=\"list_ul\"><li>코로나19 관련 중앙방역대책본부의 &lt;확진환자의 이동경로 등 정보공개 안내&gt;지침에 따라 정해진 공개기간 이후의 확진자 이동경로는 비공개로 전환됨을 알려드립니다.</li><li></li><li>(※ 공개기간 : 확진자가 마지막 접촉자와 접촉한 날로부터 14일까지)</li></ul></div></div><div class=\"onelist\"><a href=\"#\" onclick=\"jQuery('#no18').toggle(); return false;\" target=\"_blank\" title=\"클릭하시면 이동경로가 열립니다.\"><ul class=\"info_s\"><li><span>관악구57번</span></li><li><span>여/27/서원동</span></li><li><span>관악56번확진환자 접촉</span></li><li><span>2020-05-24</span></li><li><span>서울의료원</span></li></ul></a><div class=\"info_mtxt flip-box\" id=\"no18\"><ul class=\"list_ul\"><li>코로나19 관련 중앙방역대책본부의 &lt;확진환자의 이동경로 등 정보공개 안내&gt;지침에 따라 정해진 공개기간 이후의 확진자 이동경로는 비공개로 전환됨을 알려드립니다.</li><li></li><li>(※ 공개기간 : 확진자가 마지막 접촉자와 접촉한 날로부터 14일까지)</li></ul></div></div><div class=\"onelist\"><a href=\"#\" onclick=\"jQuery('#no19').toggle(); return false;\" target=\"_blank\" title=\"클릭하시면 이동경로가 열립니다.\"><ul class=\"info_s\"><li><span>구리7번</span></li><li><span>남/76/남양주시 화도읍</span></li><li><span>미확인</span></li><li><span>2020-05-20</span></li><li><span>성남시의료원</span></li></ul></a><div class=\"info_mtxt flip-box\" id=\"no19\"><ul class=\"list_ul\"><li>코로나19 관련 중앙방역대책본부의 &lt;확진환자의 이동경로 등 정보공개 안내&gt;지침에 따라 정해진 공개기간 이후의 확진자 이동경로는 비공개로 전환됨을 알려드립니다.</li><li></li><li>(※ 공개기간 : 확진자가 마지막 접촉자와 접촉한 날로부터 14일까지)</li></ul></div></div><div class=\"onelist\"><a href=\"#\" onclick=\"jQuery('#no20').toggle(); return false;\" target=\"_blank\" title=\"클릭하시면 이동경로가 열립니다.\"><ul class=\"info_s\"><li><span>시흥#11</span></li><li><span>남/32/은행동</span></li><li><span>해외(방글라데시)입국자</span></li><li><span>2020-05-23</span></li><li><span> 경기도의료원 수원병원</span></li></ul></a><div class=\"info_mtxt flip-box\" id=\"no20\"><ul class=\"list_ul\"><li>코로나19 관련 중앙방역대책본부의 &lt;확진환자의 이동경로 등 정보공개 안내&gt;지침에 따라 정해진 공개기간 이후의 확진자 이동경로는 비공개로 전환됨을 알려드립니다.</li><li></li><li>(※ 공개기간 : 확진자가 마지막 접촉자와 접촉한 날로부터 14일까지)</li></ul></div></div><div class=\"onelist\"><a href=\"#\" onclick=\"jQuery('#no21').toggle(); return false;\" target=\"_blank\" title=\"클릭하시면 이동경로가 열립니다.\"><ul class=\"info_s\"><li><span>시흥#10</span></li><li><span>남/31/정왕1동</span></li><li><span>인천 확진환자(택시기사)의 접촉자</span></li><li><span>2020-05-22</span></li><li><span>경기도의료원 안성병원</span></li></ul></a><div class=\"info_mtxt flip-box\" id=\"no21\"><ul class=\"list_ul\"><li>코로나19 관련 중앙방역대책본부의 &lt;확진환자의 이동경로 등 정보공개 안내&gt;지침에 따라 정해진 공개기간 이후의 확진자 이동경로는 비공개로 전환됨을 알려드립니다.</li><li></li><li>(※ 공개기간 : 확진자가 마지막 접촉자와 접촉한 날로부터 14일까지)</li></ul></div></div><div class=\"onelist\"><a href=\"#\" onclick=\"jQuery('#no22').toggle(); return false;\" target=\"_blank\" title=\"클릭하시면 이동경로가 열립니다.\"><ul class=\"info_s\"><li><span>서울시550번(송파구)</span></li><li><span>여/40/배곧동</span></li><li><span>서울아산병원 첫 번째 확진환자(9세, 여)와 같은 입원실을 사용하다 접촉</span></li><li><span>2020-04-04</span></li><li><span>경기도 안성의료원/퇴원(5.1.)</span></li></ul></a><div class=\"info_mtxt flip-box\" id=\"no22\"><ul class=\"list_ul\"><li>코로나19 관련 중앙방역대책본부의 &lt;확진환자의 이동경로 등 정보공개 안내&gt;지침에 따라 정해진 공개기간 이후의 확진자 이동경로는 비공개로 전환됨을 알려드립니다. </li><li></li><li>(※ 공개기간 : 확진자가 마지막 접촉자와 접촉한 날로부터 14일까지)</li></ul></div></div><div class=\"onelist\"><a href=\"#\" onclick=\"jQuery('#no23').toggle(); return false;\" target=\"_blank\" title=\"클릭하시면 이동경로가 열립니다.\"><ul class=\"info_s\"><li><span>시흥#9</span></li><li><span>남/26/은행동</span></li><li><span>해외(미국) 입국자</span></li><li><span>2020-04-04</span></li><li><span>용인생활지료센터/퇴원(5.9.)</span></li></ul></a><div class=\"info_mtxt flip-box\" id=\"no23\"><ul class=\"list_ul\"><li>코로나19 관련 중앙방역대책본부의 &lt;확진환자의 이동경로 등 정보공개 안내&gt;지침에 따라 정해진 공개기간 이후의 확진자 이동경로는 비공개로 전환됨을 알려드립니다. </li><li></li><li>(※ 공개기간 : 확진자가 마지막 접촉자와 접촉한 날로부터 14일까지)</li></ul></div></div><div class=\"onelist\"><a href=\"#\" onclick=\"jQuery('#no24').toggle(); return false;\" target=\"_blank\" title=\"클릭하시면 이동경로가 열립니다.\"><ul class=\"info_s\"><li><span>관악구33번</span></li><li><span>남/52/서울 관악구</span></li><li><span>-</span></li><li><span>2020-03-31</span></li><li><span>서남병원/-</span></li></ul></a><div class=\"info_mtxt flip-box\" id=\"no24\"><ul class=\"list_ul\"><li>코로나19 관련 중앙방역대책본부의 &lt;확진환자의 이동경로 등 정보공개 안내&gt;지침에 따라 정해진 공개기간 이후의 확진자 이동경로는 비공개로 전환됨을 알려드립니다. </li><li></li><li>(※ 공개기간 : 확진자가 마지막 접촉자와 접촉한 날로부터 14일까지)</li></ul></div></div><div class=\"onelist\"><a href=\"#\" onclick=\"jQuery('#no25').toggle(); return false;\" target=\"_blank\" title=\"클릭하시면 이동경로가 열립니다.\"><ul class=\"info_s\"><li><span>시흥#8</span></li><li><span>여/54/정왕2동</span></li><li><span>2명의 확진환자가 발생한 서울시 금천구 소재 가산 콜센터에 근무(접촉)</span></li><li><span>2020-04-01</span></li><li><span>경기도의료원 파주병원/퇴원(5.18.)</span></li></ul></a><div class=\"info_mtxt flip-box\" id=\"no25\"><ul class=\"list_ul\"><li>코로나19 관련 중앙방역대책본부의 &lt;확진환자의 이동경로 등 정보공개 안내&gt;지침에 따라 정해진 공개기간 이후의 확진자 이동경로는 비공개로 전환됨을 알려드립니다. </li><li></li><li>(※ 공개기간 : 확진자가 마지막 접촉자와 접촉한 날로부터 14일까지)</li></ul></div></div><div class=\"onelist\"><a href=\"#\" onclick=\"jQuery('#no26').toggle(); return false;\" target=\"_blank\" title=\"클릭하시면 이동경로가 열립니다.\"><ul class=\"info_s\"><li><span>시흥#7</span></li><li><span>여/27/정왕동</span></li><li><span>해외(영국) 입국자</span></li><li><span>2020-03-25</span></li><li><span>용인생활치료센터/퇴원(4.10.)</span></li></ul></a><div class=\"info_mtxt flip-box\" id=\"no26\"><ul class=\"list_ul\"><li>코로나19 관련 중앙방역대책본부의 &lt;확진환자의 이동경로 등 정보공개 안내&gt;지침에 따라 정해진 공개기간 이후의 확진자 이동경로는 비공개로 전환됨을 알려드립니다. </li><li></li><li>(※ 공개기간 : 확진자가 마지막 접촉자와 접촉한 날로부터 14일까지)</li></ul></div></div><div class=\"onelist\"><a href=\"#\" onclick=\"jQuery('#no27').toggle(); return false;\" target=\"_blank\" title=\"클릭하시면 이동경로가 열립니다.\"><ul class=\"info_s\"><li><span>안산8번</span></li><li><span>여/27/화성시(시흥시청 미래키움어린이집 보육교사)</span></li><li><span>-</span></li><li><span>2020-03-24</span></li><li><span>경기도의료원 이천병원/-</span></li></ul></a><div class=\"info_mtxt flip-box\" id=\"no27\"><ul class=\"list_ul\"><li>코로나19 관련 중앙방역대책본부의 &lt;확진환자의 이동경로 등 정보공개 안내&gt;지침에 따라 정해진 공개기간 이후의 확진자 이동경로는 비공개로 전환됨을 알려드립니다. </li><li></li><li>(※ 공개기간 : 확진자가 마지막 접촉자와 접촉한 날로부터 14일까지)</li></ul></div></div><div class=\"onelist\"><a href=\"#\" onclick=\"jQuery('#no28').toggle(); return false;\" target=\"_blank\" title=\"클릭하시면 이동경로가 열립니다.\"><ul class=\"info_s\"><li><span>인천(전국8640번)</span></li><li><span>남/47/배곧동</span></li><li><span>-</span></li><li><span>2020-03-19</span></li><li><span>용인생활치료센터/퇴원(4.29.)</span></li></ul></a><div class=\"info_mtxt flip-box\" id=\"no28\"><ul class=\"list_ul\"><li>코로나19 관련 중앙방역대책본부의 &lt;확진환자의 이동경로 등 정보공개 안내&gt;지침에 따라 정해진 공개기간 이후의 확진자 이동경로는 비공개로 전환됨을 알려드립니다. </li><li></li><li>(※ 공개기간 : 확진자가 마지막 접촉자와 접촉한 날로부터 14일까지)</li></ul></div></div><div class=\"onelist\"><a href=\"#\" onclick=\"jQuery('#no29').toggle(); return false;\" target=\"_blank\" title=\"클릭하시면 이동경로가 열립니다.\"><ul class=\"info_s\"><li><span>시흥#6</span></li><li><span>남/12/배곧동</span></li><li><span>-</span></li><li><span>2020-03-19</span></li><li><span>용인생활치료센터/퇴원(4.11.)</span></li></ul></a><div class=\"info_mtxt flip-box\" id=\"no29\"><ul class=\"list_ul\"><li>코로나19 관련 중앙방역대책본부의 &lt;확진환자의 이동경로 등 정보공개 안내&gt;지침에 따라 정해진 공개기간 이후의 확진자 이동경로는 비공개로 전환됨을 알려드립니다. </li><li></li><li>(※ 공개기간 : 확진자가 마지막 접촉자와 접촉한 날로부터 14일까지)</li></ul></div></div><div class=\"onelist\"><a href=\"#\" onclick=\"jQuery('#no30').toggle(); return false;\" target=\"_blank\" title=\"클릭하시면 이동경로가 열립니다.\"><ul class=\"info_s\"><li><span>부천29번</span></li><li><span>여/34/부천시(시흥시 어린이집 교사)</span></li><li><span>부천19번 확진환자의 접촉자</span></li><li><span>2020-03-13</span></li><li><span>경기도의료원 파주병원/-</span></li></ul></a><div class=\"info_mtxt flip-box\" id=\"no30\"><ul class=\"list_ul\"><li>코로나19 관련 중앙방역대책본부의 &lt;확진환자의 이동경로 등 정보공개 안내&gt;지침에 따라 정해진 공개기간 이후의 확진자 이동경로는 비공개로 전환됨을 알려드립니다. </li><li></li><li>(※ 공개기간 : 확진자가 마지막 접촉자와 접촉한 날로부터 14일까지)</li></ul></div></div><div class=\"onelist\"><a href=\"#\" onclick=\"jQuery('#no31').toggle(); return false;\" target=\"_blank\" title=\"클릭하시면 이동경로가 열립니다.\"><ul class=\"info_s\"><li><span>부천32번</span></li><li><span>여/58/부천시(시흥시 어린이집 원장)</span></li><li><span>부천19번 확진환자의 접촉자</span></li><li><span>2020-03-13</span></li><li><span>경기도의료원 파주병원/-</span></li></ul></a><div class=\"info_mtxt flip-box\" id=\"no31\"><ul class=\"list_ul\"><li>코로나19 관련 중앙방역대책본부의 &lt;확진환자의 이동경로 등 정보공개 안내&gt;지침에 따라 정해진 공개기간 이후의 확진자 이동경로는 비공개로 전환됨을 알려드립니다. </li><li></li><li>(※ 공개기간 : 확진자가 마지막 접촉자와 접촉한 날로부터 14일까지)</li></ul></div></div><div class=\"onelist\"><a href=\"#\" onclick=\"jQuery('#no32').toggle(); return false;\" target=\"_blank\" title=\"클릭하시면 이동경로가 열립니다.\"><ul class=\"info_s\"><li><span>부천27번</span></li><li><span>여/49/부천시 (시흥시 어린이집 교사)</span></li><li><span>부천19번 확진환자의 접촉자</span></li><li><span>2020-03-12</span></li><li><span>경기도의료원 파주병원/-</span></li></ul></a><div class=\"info_mtxt flip-box\" id=\"no32\"><ul class=\"list_ul\"><li>코로나19 관련 중앙방역대책본부의 &lt;확진환자의 이동경로 등 정보공개 안내&gt;지침에 따라 정해진 공개기간 이후의 확진자 이동경로는 비공개로 전환됨을 알려드립니다. </li><li></li><li>(※ 공개기간 : 확진자가 마지막 접촉자와 접촉한 날로부터 14일까지)</li></ul></div></div><div class=\"onelist\"><a href=\"#\" onclick=\"jQuery('#no33').toggle(); return false;\" target=\"_blank\" title=\"클릭하시면 이동경로가 열립니다.\"><ul class=\"info_s\"><li><span>안산4번</span></li><li><span>남/66/안산시</span></li><li><span>-</span></li><li><span>2020-03-12</span></li><li><span>-/-</span></li></ul></a><div class=\"info_mtxt flip-box\" id=\"no33\"><ul class=\"list_ul\"><li>코로나19 관련 중앙방역대책본부의 &lt;확진환자의 이동경로 등 정보공개 안내&gt;지침에 따라 정해진 공개기간 이후의 확진자 이동경로는 비공개로 전환됨을 알려드립니다. </li><li></li><li>(※ 공개기간 : 확진자가 마지막 접촉자와 접촉한 날로부터 14일까지)</li></ul></div></div><div class=\"onelist\"><a href=\"#\" onclick=\"jQuery('#no34').toggle(); return false;\" target=\"_blank\" title=\"클릭하시면 이동경로가 열립니다.\"><ul class=\"info_s\"><li><span>화성9번</span></li><li><span>남/43/화성시 (시흥시 과림동 근무)</span></li><li><span>수원 영통 확진환자(경기도-104)의 접촉자</span></li><li><span>2020-03-04</span></li><li><span>경기도의료원 이천병원/-</span></li></ul></a><div class=\"info_mtxt flip-box\" id=\"no34\"><ul class=\"list_ul\"><li>코로나19 관련 중앙방역대책본부의 &lt;확진환자의 이동경로 등 정보공개 안내&gt;지침에 따라 정해진 공개기간 이후의 확진자 이동경로는 비공개로 전환됨을 알려드립니다. </li><li></li><li>(※ 공개기간 : 확진자가 마지막 접촉자와 접촉한 날로부터 14일까지)</li></ul></div></div><div class=\"onelist\"><a href=\"#\" onclick=\"jQuery('#no35').toggle(); return false;\" target=\"_blank\" title=\"클릭하시면 이동경로가 열립니다.\"><ul class=\"info_s\"><li><span>인천(전국7997번)*연수구5번</span></li><li><span>남/50/인천 연수구</span></li><li><span>-</span></li><li><span>2020-03-01</span></li><li><span>-/-</span></li></ul></a><div class=\"info_mtxt flip-box\" id=\"no35\"><ul class=\"list_ul\"><li>코로나19 관련 중앙방역대책본부의 &lt;확진환자의 이동경로 등 정보공개 안내&gt;지침에 따라 정해진 공개기간 이후의 확진자 이동경로는 비공개로 전환됨을 알려드립니다. </li><li></li><li>(※ 공개기간 : 확진자가 마지막 접촉자와 접촉한 날로부터 14일까지)</li></ul></div></div><div class=\"onelist\"><a href=\"#\" onclick=\"jQuery('#no36').toggle(); return false;\" target=\"_blank\" title=\"클릭하시면 이동경로가 열립니다.\"><ul class=\"info_s\"><li><span>시흥#5</span></li><li><span>남/30/능곡동</span></li><li><span>-</span></li><li><span>2020-02-29</span></li><li><span>경기도의료원 안성병원/퇴원(3.7.)</span></li></ul></a><div class=\"info_mtxt flip-box\" id=\"no36\"><ul class=\"list_ul\"><li>코로나19 관련 중앙방역대책본부의 &lt;확진환자의 이동경로 등 정보공개 안내&gt;지침에 따라 정해진 공개기간 이후의 확진자 이동경로는 비공개로 전환됨을 알려드립니다. </li><li></li><li>(※ 공개기간 : 확진자가 마지막 접촉자와 접촉한 날로부터 14일까지)</li></ul></div></div><div class=\"onelist\"><a href=\"#\" onclick=\"jQuery('#no37').toggle(); return false;\" target=\"_blank\" title=\"클릭하시면 이동경로가 열립니다.\"><ul class=\"info_s\"><li><span>남양주4번</span></li><li><span>남/47/남양주시 (시흥시 정왕동 근무)</span></li><li><span>대구 확진환자의 접촉자</span></li><li><span>2020-02-29</span></li><li><span>경기도 파주의료원/퇴원(3.21.)</span></li></ul></a><div class=\"info_mtxt flip-box\" id=\"no37\"><ul class=\"list_ul\"><li>코로나19 관련 중앙방역대책본부의 &lt;확진환자의 이동경로 등 정보공개 안내&gt;지침에 따라 정해진 공개기간 이후의 확진자 이동경로는 비공개로 전환됨을 알려드립니다. </li><li></li><li>(※ 공개기간 : 확진자가 마지막 접촉자와 접촉한 날로부터 14일까지)</li></ul></div></div><div class=\"onelist\"><a href=\"#\" onclick=\"jQuery('#no38').toggle(); return false;\" target=\"_blank\" title=\"클릭하시면 이동경로가 열립니다.\"><ul class=\"info_s\"><li><span>시흥#4</span></li><li><span>여/40/배곧동</span></li><li><span>대구 방문(2.13~2.15)</span></li><li><span>2020-02-28</span></li><li><span>경기도의료원 수원병원/퇴원(3.26)</span></li></ul></a><div class=\"info_mtxt flip-box\" id=\"no38\"><ul class=\"list_ul\"><li>코로나19 관련 중앙방역대책본부의 &lt;확진환자의 이동경로 등 정보공개 안내&gt;지침에 따라 정해진 공개기간 이후의 확진자 이동경로는 비공개로 전환됨을 알려드립니다. </li><li></li><li>(※ 공개기간 : 확진자가 마지막 접촉자와 접촉한 날로부터 14일까지)</li></ul></div></div><div class=\"onelist\"><a href=\"#\" onclick=\"jQuery('#no39').toggle(); return false;\" target=\"_blank\" title=\"클릭하시면 이동경로가 열립니다.\"><ul class=\"info_s\"><li><span>부천8번</span></li><li><span>남/35/부천시 (시흥경찰서 근무)</span></li><li><span>대구 방문(2.15~2.17)</span></li><li><span>2020-02-24</span></li><li><span>명지병원/-</span></li></ul></a><div class=\"info_mtxt flip-box\" id=\"no39\"><ul class=\"list_ul\"><li>코로나19 관련 중앙방역대책본부의 &lt;확진환자의 이동경로 등 정보공개 안내&gt;지침에 따라 정해진 공개기간 이후의 확진자 이동경로는 비공개로 전환됨을 알려드립니다. </li><li></li><li>(※ 공개기간 : 확진자가 마지막 접촉자와 접촉한 날로부터 14일까지)</li></ul></div></div><div class=\"onelist\"><a href=\"#\" onclick=\"jQuery('#no40').toggle(); return false;\" target=\"_blank\" title=\"클릭하시면 이동경로가 열립니다.\"><ul class=\"info_s\"><li><span>시흥#3</span></li><li><span>여/37/매화동</span></li><li><span>중국 광둥성 방문(~1.31)</span></li><li><span>2020-02-09</span></li><li><span>경기도의료원 안성병원/퇴원(3.7.)</span></li></ul></a><div class=\"info_mtxt flip-box\" id=\"no40\"><ul class=\"list_ul\"><li>코로나19 관련 중앙방역대책본부의 &lt;확진환자의 이동경로 등 정보공개 안내&gt;지침에 따라 정해진 공개기간 이후의 확진자 이동경로는 비공개로 전환됨을 알려드립니다. </li><li></li><li>(※ 공개기간 : 확진자가 마지막 접촉자와 접촉한 날로부터 14일까지)</li></ul></div></div><div class=\"onelist\"><a href=\"#\" onclick=\"jQuery('#no41').toggle(); return false;\" target=\"_blank\" title=\"클릭하시면 이동경로가 열립니다.\"><ul class=\"info_s\"><li><span>시흥#2</span></li><li><span>남/51/매화동</span></li><li><span>중국 광둥성 방문(~1.31)</span></li><li><span>2020-02-09</span></li><li><span>경기도의료원 안성병원/퇴원(3.8.)</span></li></ul></a><div class=\"info_mtxt flip-box\" id=\"no41\"><ul class=\"list_ul\"><li>코로나19 관련 중앙방역대책본부의 &lt;확진환자의 이동경로 등 정보공개 안내&gt;지침에 따라 정해진 공개기간 이후의 확진자 이동경로는 비공개로 전환됨을 알려드립니다. </li><li></li><li>(※ 공개기간 : 확진자가 마지막 접촉자와 접촉한 날로부터 14일까지)</li></ul></div></div><div class=\"onelist\"><a href=\"#\" onclick=\"jQuery('#no42').toggle(); return false;\" target=\"_blank\" title=\"클릭하시면 이동경로가 열립니다.\"><ul class=\"info_s\"><li><span>시흥#1</span></li><li><span>여/73/매화동</span></li><li><span>시흥#2 확진환자의 접촉자(어머니)</span></li><li><span>2020-02-09</span></li><li><span>분당서울대병원/퇴원(3.5)</span></li></ul></a><div class=\"info_mtxt flip-box\" id=\"no42\"><ul class=\"list_ul\"><li>코로나19 관련 중앙방역대책본부의 &lt;확진환자의 이동경로 등 정보공개 안내&gt;지침에 따라 정해진 공개기간 이후의 확진자 이동경로는 비공개로 전환됨을 알려드립니다. </li><li></li><li>(※ 공개기간 : 확진자가 마지막 접촉자와 접촉한 날로부터 14일까지)</li></ul></div></div></div>\n",
       "</div>\n",
       "<!--코로나이동경로 끝-->\n",
       "</div>\n",
       "</div>\n",
       "</div>\n",
       "</div>\n",
       "</section>\n",
       "</body></html>"
      ]
     },
     "execution_count": 56,
     "metadata": {},
     "output_type": "execute_result"
    }
   ],
   "source": [
    "# 5. 4번의 스크립트를 함수로 작성하시오.\n",
    "# - 함수명 getbs는 사용 할 수 없음\n",
    "from bs4 import BeautifulSoup\n",
    "from selenium import webdriver\n",
    "import time\n",
    "\n",
    "def openBS():\n",
    "    try:\n",
    "        driver = webdriver.Chrome('C:/ai6/chromedriver.exe')\n",
    "        driver.get(\"https://www.siheung.go.kr/corona_policy.jsp\")\n",
    "        time.sleep(2) # 2초 대기\n",
    "        driver.maximize_window() # 창 크기 최대화\n",
    "        bs = BeautifulSoup(driver.page_source, 'html.parser')\n",
    "    except Exception as e:\n",
    "        # 페이지 url이 없는 경우\n",
    "        print(e)\n",
    "        return None # 처리 종료\n",
    "    else:\n",
    "        # 예외가 발생하지 않았다면\n",
    "        return bs\n",
    "bs = openBS()\n",
    "bs"
   ]
  },
  {
   "cell_type": "code",
   "execution_count": 46,
   "metadata": {},
   "outputs": [
    {
     "name": "stdout",
     "output_type": "stream",
     "text": [
      "<ul class=\"info_s\"><li><span>시흥#22</span></li><li><span>남/39/안산시 와동</span></li><li><span>같은 사업장에 근무하던 구로구#75번 확진환자와 접촉</span></li><li><span>2020-06-16</span></li><li><span>성남의료원</span></li></ul>\n"
     ]
    }
   ],
   "source": [
    "# 6. find 함수를 사용한 예를 작성하시오.\n",
    "patient = bs.find('ul', {'class': 'info_s'})\n",
    "print(patient)"
   ]
  },
  {
   "cell_type": "code",
   "execution_count": 47,
   "metadata": {},
   "outputs": [
    {
     "name": "stdout",
     "output_type": "stream",
     "text": [
      "[<ul class=\"info_s\"><li><span>시흥#22</span></li><li><span>남/39/안산시 와동</span></li><li><span>같은 사업장에 근무하던 구로구#75번 확진환자와 접촉</span></li><li><span>2020-06-16</span></li><li><span>성남의료원</span></li></ul>, <ul class=\"info_s\"><li><span>안산21번</span></li><li><span>여/49/원곡동</span></li><li><span>명성하우징 부동산광고 설명회 참석(서울 강남구 소재)</span></li><li><span>2020-06-14</span></li><li><span>경기도의료원 이천병원</span></li></ul>, <ul class=\"info_s\"><li><span>시흥#21</span></li><li><span>남/55/정왕1동</span></li><li><span>시흥#19 확진환자의 가족</span></li><li><span>2020-06-13</span></li><li><span>경기도의료원 이천병원</span></li></ul>, <ul class=\"info_s\"><li><span>시흥#20</span></li><li><span>남/13/정왕1동</span></li><li><span>-</span></li><li><span>2020-06-12</span></li><li><span>경기도의료원 수원병원</span></li></ul>, <ul class=\"info_s\"><li><span>시흥#19</span></li><li><span>여/52/정왕1동</span></li><li><span>-</span></li><li><span>2020-06-11</span></li><li><span>경기도의료원 수원병원</span></li></ul>, <ul class=\"info_s\"><li><span>시흥#18</span></li><li><span>여/68/능곡동</span></li><li><span>시흥#17 확진환자의 가족</span></li><li><span>2020-06-06</span></li><li><span>경기도의료원 파주병원</span></li></ul>, <ul class=\"info_s\"><li><span>강서구57번</span></li><li><span>남/40대/염창동</span></li><li><span>양천구 목2동 소재 목동탁구클럽 이용자 중 확진환자와 접촉</span></li><li><span>2020-06-05</span></li><li><span>보라매병원</span></li></ul>, <ul class=\"info_s\"><li><span>시흥#17</span></li><li><span>남/75/능곡동</span></li><li><span>고양시 확진환자 접촉자</span></li><li><span>2020-06-06</span></li><li><span>경기도의료원 파주병원</span></li></ul>, <ul class=\"info_s\"><li><span>시흥#16</span></li><li><span>남/41/배곧동</span></li><li><span>확진환자가 발생한 안양 코카콜라에 근무</span></li><li><span>2020-06-06</span></li><li><span>경기도의료원 파주병원</span></li></ul>, <ul class=\"info_s\"><li><span>시흥#15</span></li><li><span>여/60/은행동</span></li><li><span>건강용품 방문판매업체 ‘리치웨이’ 관련자</span></li><li><span>2020-06-05</span></li><li><span>경기도의료원 파주병원</span></li></ul>, <ul class=\"info_s\"><li><span>양천구30번</span></li><li><span>여/59/신정7동</span></li><li><span>양천구29번 확진환자와 접촉</span></li><li><span>2020-06-01</span></li><li><span>서남병원</span></li></ul>, <ul class=\"info_s\"><li><span>시흥#14</span></li><li><span>남/27/정왕3동</span></li><li><span>해외(파키스탄)입국자</span></li><li><span>2020-06-03</span></li><li><span>경기도의료원 파주병원</span></li></ul>, <ul class=\"info_s\"><li><span>부천121번</span></li><li><span>여/27/소사동 (매화동 어린이집 교사)</span></li><li><span>인천 교회 관련 확진환자의 가족</span></li><li><span>2020-06-01</span></li><li><span>경기도의료원 파주병원</span></li></ul>, <ul class=\"info_s\"><li><span>시흥#13</span></li><li><span>남/68/능곡동</span></li><li><span>인천#221 확진환자(능곡동 거주)의 가족</span></li><li><span>2020-06-01</span></li><li><span>경기도의료원 파주병원</span></li></ul>, <ul class=\"info_s\"><li><span>인천221번</span></li><li><span>여/62/능곡동</span></li><li><span>인천시 소재 교회 모임에서 확진환자와 접촉</span></li><li><span>2020-05-31</span></li><li><span>경기도의료원 안성병원</span></li></ul>, <ul class=\"info_s\"><li><span>시흥#12</span></li><li><span>남/53/정왕2동</span></li><li><span>-</span></li><li><span>2020-05-31</span></li><li><span>성남의료원/퇴원(6.11)</span></li></ul>, <ul class=\"info_s\"><li><span>부천87번</span></li><li><span>-/-/상동</span></li><li><span>-</span></li><li><span>2020-05-24</span></li><li><span>경기도의료원 수원병원</span></li></ul>, <ul class=\"info_s\"><li><span>관악구57번</span></li><li><span>여/27/서원동</span></li><li><span>관악56번확진환자 접촉</span></li><li><span>2020-05-24</span></li><li><span>서울의료원</span></li></ul>, <ul class=\"info_s\"><li><span>구리7번</span></li><li><span>남/76/남양주시 화도읍</span></li><li><span>미확인</span></li><li><span>2020-05-20</span></li><li><span>성남시의료원</span></li></ul>, <ul class=\"info_s\"><li><span>시흥#11</span></li><li><span>남/32/은행동</span></li><li><span>해외(방글라데시)입국자</span></li><li><span>2020-05-23</span></li><li><span> 경기도의료원 수원병원</span></li></ul>, <ul class=\"info_s\"><li><span>시흥#10</span></li><li><span>남/31/정왕1동</span></li><li><span>인천 확진환자(택시기사)의 접촉자</span></li><li><span>2020-05-22</span></li><li><span>경기도의료원 안성병원</span></li></ul>, <ul class=\"info_s\"><li><span>서울시550번(송파구)</span></li><li><span>여/40/배곧동</span></li><li><span>서울아산병원 첫 번째 확진환자(9세, 여)와 같은 입원실을 사용하다 접촉</span></li><li><span>2020-04-04</span></li><li><span>경기도 안성의료원/퇴원(5.1.)</span></li></ul>, <ul class=\"info_s\"><li><span>시흥#9</span></li><li><span>남/26/은행동</span></li><li><span>해외(미국) 입국자</span></li><li><span>2020-04-04</span></li><li><span>용인생활지료센터/퇴원(5.9.)</span></li></ul>, <ul class=\"info_s\"><li><span>관악구33번</span></li><li><span>남/52/서울 관악구</span></li><li><span>-</span></li><li><span>2020-03-31</span></li><li><span>서남병원/-</span></li></ul>, <ul class=\"info_s\"><li><span>시흥#8</span></li><li><span>여/54/정왕2동</span></li><li><span>2명의 확진환자가 발생한 서울시 금천구 소재 가산 콜센터에 근무(접촉)</span></li><li><span>2020-04-01</span></li><li><span>경기도의료원 파주병원/퇴원(5.18.)</span></li></ul>, <ul class=\"info_s\"><li><span>시흥#7</span></li><li><span>여/27/정왕동</span></li><li><span>해외(영국) 입국자</span></li><li><span>2020-03-25</span></li><li><span>용인생활치료센터/퇴원(4.10.)</span></li></ul>, <ul class=\"info_s\"><li><span>안산8번</span></li><li><span>여/27/화성시(시흥시청 미래키움어린이집 보육교사)</span></li><li><span>-</span></li><li><span>2020-03-24</span></li><li><span>경기도의료원 이천병원/-</span></li></ul>, <ul class=\"info_s\"><li><span>인천(전국8640번)</span></li><li><span>남/47/배곧동</span></li><li><span>-</span></li><li><span>2020-03-19</span></li><li><span>용인생활치료센터/퇴원(4.29.)</span></li></ul>, <ul class=\"info_s\"><li><span>시흥#6</span></li><li><span>남/12/배곧동</span></li><li><span>-</span></li><li><span>2020-03-19</span></li><li><span>용인생활치료센터/퇴원(4.11.)</span></li></ul>, <ul class=\"info_s\"><li><span>부천29번</span></li><li><span>여/34/부천시(시흥시 어린이집 교사)</span></li><li><span>부천19번 확진환자의 접촉자</span></li><li><span>2020-03-13</span></li><li><span>경기도의료원 파주병원/-</span></li></ul>, <ul class=\"info_s\"><li><span>부천32번</span></li><li><span>여/58/부천시(시흥시 어린이집 원장)</span></li><li><span>부천19번 확진환자의 접촉자</span></li><li><span>2020-03-13</span></li><li><span>경기도의료원 파주병원/-</span></li></ul>, <ul class=\"info_s\"><li><span>부천27번</span></li><li><span>여/49/부천시 (시흥시 어린이집 교사)</span></li><li><span>부천19번 확진환자의 접촉자</span></li><li><span>2020-03-12</span></li><li><span>경기도의료원 파주병원/-</span></li></ul>, <ul class=\"info_s\"><li><span>안산4번</span></li><li><span>남/66/안산시</span></li><li><span>-</span></li><li><span>2020-03-12</span></li><li><span>-/-</span></li></ul>, <ul class=\"info_s\"><li><span>화성9번</span></li><li><span>남/43/화성시 (시흥시 과림동 근무)</span></li><li><span>수원 영통 확진환자(경기도-104)의 접촉자</span></li><li><span>2020-03-04</span></li><li><span>경기도의료원 이천병원/-</span></li></ul>, <ul class=\"info_s\"><li><span>인천(전국7997번)*연수구5번</span></li><li><span>남/50/인천 연수구</span></li><li><span>-</span></li><li><span>2020-03-01</span></li><li><span>-/-</span></li></ul>, <ul class=\"info_s\"><li><span>시흥#5</span></li><li><span>남/30/능곡동</span></li><li><span>-</span></li><li><span>2020-02-29</span></li><li><span>경기도의료원 안성병원/퇴원(3.7.)</span></li></ul>, <ul class=\"info_s\"><li><span>남양주4번</span></li><li><span>남/47/남양주시 (시흥시 정왕동 근무)</span></li><li><span>대구 확진환자의 접촉자</span></li><li><span>2020-02-29</span></li><li><span>경기도 파주의료원/퇴원(3.21.)</span></li></ul>, <ul class=\"info_s\"><li><span>시흥#4</span></li><li><span>여/40/배곧동</span></li><li><span>대구 방문(2.13~2.15)</span></li><li><span>2020-02-28</span></li><li><span>경기도의료원 수원병원/퇴원(3.26)</span></li></ul>, <ul class=\"info_s\"><li><span>부천8번</span></li><li><span>남/35/부천시 (시흥경찰서 근무)</span></li><li><span>대구 방문(2.15~2.17)</span></li><li><span>2020-02-24</span></li><li><span>명지병원/-</span></li></ul>, <ul class=\"info_s\"><li><span>시흥#3</span></li><li><span>여/37/매화동</span></li><li><span>중국 광둥성 방문(~1.31)</span></li><li><span>2020-02-09</span></li><li><span>경기도의료원 안성병원/퇴원(3.7.)</span></li></ul>, <ul class=\"info_s\"><li><span>시흥#2</span></li><li><span>남/51/매화동</span></li><li><span>중국 광둥성 방문(~1.31)</span></li><li><span>2020-02-09</span></li><li><span>경기도의료원 안성병원/퇴원(3.8.)</span></li></ul>, <ul class=\"info_s\"><li><span>시흥#1</span></li><li><span>여/73/매화동</span></li><li><span>시흥#2 확진환자의 접촉자(어머니)</span></li><li><span>2020-02-09</span></li><li><span>분당서울대병원/퇴원(3.5)</span></li></ul>]\n"
     ]
    }
   ],
   "source": [
    "# 7. find_all 함수를 사용한 예를 작성하시오.\n",
    "patients = bs.findAll('ul', {'class': 'info_s'})\n",
    "print(patients)"
   ]
  },
  {
   "cell_type": "code",
   "execution_count": 54,
   "metadata": {},
   "outputs": [
    {
     "name": "stdout",
     "output_type": "stream",
     "text": [
      "['시흥#22', '안산21번', '시흥#21', '시흥#20', '시흥#19', '시흥#18', '강서구57번', '시흥#17', '시흥#16', '시흥#15', '양천구30번', '시흥#14', '부천121번', '시흥#13', '인천221번', '시흥#12', '부천87번', '관악구57번', '구리7번', '시흥#11', '시흥#10', '서울시550번(송파구)', '시흥#9', '관악구33번', '시흥#8', '시흥#7', '안산8번', '인천(전국8640번)', '시흥#6', '부천29번', '부천32번', '부천27번', '안산4번', '화성9번', '인천(전국7997번)*연수구5번', '시흥#5', '남양주4번', '시흥#4', '부천8번', '시흥#3', '시흥#2', '시흥#1']\n"
     ]
    }
   ],
   "source": [
    "# 8. select 함수를 사용한 예를 작성하시오.\n",
    "patients_no = []\n",
    "patients_div = bs.select('#corona-area > div')\n",
    "for li in patients_div:\n",
    "    patientno=li.select('a > ul > li:nth-child(1) > span')[0].text\n",
    "    patients_no.append(patientno)\n",
    "print(patients_no)"
   ]
  },
  {
   "cell_type": "code",
   "execution_count": 39,
   "metadata": {},
   "outputs": [
    {
     "name": "stdout",
     "output_type": "stream",
     "text": [
      "다운로드 완료\n"
     ]
    }
   ],
   "source": [
    "# 9. 이미지를 다운로드하는 스크립트를 작성하시오.\n",
    "from bs4 import BeautifulSoup     \n",
    "from selenium import webdriver\n",
    "import os\n",
    "import urllib\n",
    "\n",
    "base_url = 'https://www.siheung.go.kr'\n",
    "sub_url = bs.select('body > section > div.top_wrap > div.intro_tt > div > img')[0]['src']\n",
    "url = base_url+sub_url\n",
    "url\n",
    "\n",
    "f_dir = 'C:/ai6/ws_python/notebook/exam/'\n",
    "os.chdir(f_dir)\n",
    "\n",
    "try:\n",
    "    urllib.request.urlretrieve(url, '시흥시코로나비상대책배너.jpg') # 이미지 다운로드\n",
    "    print('다운로드 완료')\n",
    "except Exception as e:\n",
    "    print(e)\n"
   ]
  },
  {
   "cell_type": "code",
   "execution_count": 41,
   "metadata": {},
   "outputs": [],
   "source": [
    "# 10. Spring으로 개발된 resort 웹사이트에서 파일을 다운로드하는 스크립트를 제작하시오.\n",
    "\n",
    "# url\n",
    "url = 'http://172.16.12.101:9090/ojt/contents/read.do?contentsno=47'\n",
    "\n",
    "# 저장 경로\n",
    "f_dir = \"C:\\\\ai6\\\\ws_python\\\\notebook\\\\exam\\\\\";\n",
    "\n",
    "# 옵션 설정\n",
    "options = webdriver.ChromeOptions()\n",
    "\n",
    "path = \"C:/ai6/chromedriver.exe\"\n",
    "driver = webdriver.Chrome(path,options=options)\n",
    "\n",
    "# 브러우저 인식 파일(pdf. jpg...) 파일을 바로 열지말고 다운로드 받도록 지정\n",
    "options.add_experimental_option(\"prefs\", {\n",
    "      \"download.default_directory\": f_dir,\n",
    "      \"download.prompt_for_download\": False,\n",
    "      \"plugins.always_open_pdf_externally\": True\n",
    "})\n",
    "\n",
    "# 다운로드 폴더 설정\n",
    "driver.command_executor._commands[\"send_command\"] = (\"POST\", '/session/$sessionId/chromium/send_command')\n",
    "params = {'cmd': 'Page.setDownloadBehavior', 'params': {'behavior': 'allow', 'downloadPath': f_dir}}\n",
    "command_result = driver.execute(\"send_command\", params)\n",
    "\n",
    "driver.get(url)\n",
    "time.sleep(5)\n",
    "\n",
    "# 링크 찾아서 클릭\n",
    "# body > div > div.row > div.col-md-10.cont > div > form > fieldset > ul > li:nth-child(6) > div:nth-child(2) > a\n",
    "driver.find_element_by_css_selector('body > div > div.row > div.col-md-10.cont > div > form > fieldset > ul > li:nth-child(6) > div:nth-child(2) > a').click()\n"
   ]
  },
  {
   "cell_type": "code",
   "execution_count": null,
   "metadata": {},
   "outputs": [],
   "source": []
  }
 ],
 "metadata": {
  "kernelspec": {
   "display_name": "ai",
   "language": "python",
   "name": "ai"
  },
  "language_info": {
   "codemirror_mode": {
    "name": "ipython",
    "version": 3
   },
   "file_extension": ".py",
   "mimetype": "text/x-python",
   "name": "python",
   "nbconvert_exporter": "python",
   "pygments_lexer": "ipython3",
   "version": "3.6.10"
  }
 },
 "nbformat": 4,
 "nbformat_minor": 2
}
