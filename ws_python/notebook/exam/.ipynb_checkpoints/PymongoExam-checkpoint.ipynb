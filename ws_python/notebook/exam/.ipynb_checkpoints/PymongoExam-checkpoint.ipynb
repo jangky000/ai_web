{
 "cells": [
  {
   "cell_type": "code",
   "execution_count": 14,
   "metadata": {},
   "outputs": [
    {
     "name": "stdout",
     "output_type": "stream",
     "text": [
      "Requirement already satisfied: pymongo in c:\\programdata\\anaconda3\\envs\\ai\\lib\\site-packages (3.10.1)\n"
     ]
    }
   ],
   "source": [
    "# 1. Jupyter Notebook에서 ai 가상환경에서 pymongo package를 설치하는 스크립트를 작성하시오.\n",
    "!pip install pymongo"
   ]
  },
  {
   "cell_type": "code",
   "execution_count": 15,
   "metadata": {},
   "outputs": [],
   "source": [
    "# 2. Mongodb 상에 임의의 database, collection에 접속하는 Python 스크립트를 작성하시오.\n",
    "import pymongo\n",
    "connection = pymongo.MongoClient(\"localhost\", 27017)\n",
    "db = connection.exam1 # 데이터베이스 선택, 없으면 자동으로 생성\n",
    "collection = db.store # collection 테이블, 없으면 자동 생성"
   ]
  },
  {
   "cell_type": "code",
   "execution_count": 27,
   "metadata": {},
   "outputs": [
    {
     "ename": "SyntaxError",
     "evalue": "invalid syntax (<ipython-input-27-184aa235f928>, line 6)",
     "output_type": "error",
     "traceback": [
      "\u001b[1;36m  File \u001b[1;32m\"<ipython-input-27-184aa235f928>\"\u001b[1;36m, line \u001b[1;32m6\u001b[0m\n\u001b[1;33m    {'name': '피맛골', 'taste': 7, 'service': 10}]\u001b[0m\n\u001b[1;37m                                              ^\u001b[0m\n\u001b[1;31mSyntaxError\u001b[0m\u001b[1;31m:\u001b[0m invalid syntax\n"
     ]
    }
   ],
   "source": [
    "# 3. 여러개의 document를 추가하는 Python 스크립트를 작성하시오.\n",
    "collection.insert([{'name': '호반정', 'taste': 10, 'service': 9},\n",
    "                   {'name': '시스스시', 'taste': 8, 'service': 8},\n",
    "                   {'name': '자금성', 'taste': 7, 'service': 10}],\n",
    "                   {'name': '유진식당', 'taste': 8, 'service': 6},\n",
    "                   {'name': '피맛골', 'taste': 7, 'service': 10}]\n",
    "                 )"
   ]
  },
  {
   "cell_type": "code",
   "execution_count": 17,
   "metadata": {},
   "outputs": [
    {
     "name": "stdout",
     "output_type": "stream",
     "text": [
      "{'_id': ObjectId('5ef17a47bcacefd3b2ab78c3'), 'name': '호반정', 'taste': 10, 'service': 9}\n",
      "{'_id': ObjectId('5ef17a47bcacefd3b2ab78c4'), 'name': '시스스시', 'taste': 8, 'service': 8}\n",
      "{'_id': ObjectId('5ef17a47bcacefd3b2ab78c5'), 'name': '자금성', 'taste': 7, 'service': 10}\n"
     ]
    }
   ],
   "source": [
    "# 4. document 전체 목록을 출력하는 Python 스크립트를 작성하시오.\n",
    "docs = collection.find()\n",
    "for doc in docs:\n",
    "    print(doc)"
   ]
  },
  {
   "cell_type": "code",
   "execution_count": 18,
   "metadata": {},
   "outputs": [
    {
     "name": "stdout",
     "output_type": "stream",
     "text": [
      "{'_id': ObjectId('5ef17a47bcacefd3b2ab78c3'), 'name': '호반정', 'taste': 10, 'service': 9}\n",
      "{'_id': ObjectId('5ef17a47bcacefd3b2ab78c4'), 'name': '시스스시', 'taste': 8, 'service': 8}\n"
     ]
    }
   ],
   "source": [
    "# 5. 검색 조건은 임의로 지정하고 document를 검색하는 Python 스크립트를 작성하시오.\n",
    "docs = collection.find({'taste':{'$gte':8}, 'service': {'$gte':8}})\n",
    "for doc in docs:\n",
    "    print(doc)"
   ]
  },
  {
   "cell_type": "code",
   "execution_count": 19,
   "metadata": {},
   "outputs": [
    {
     "name": "stdout",
     "output_type": "stream",
     "text": [
      "{'_id': ObjectId('5ef17a47bcacefd3b2ab78c3'), 'name': '호반정', 'taste': 10, 'service': 9}\n"
     ]
    }
   ],
   "source": [
    "# 6. document를 조회하는 Python 스크립트를 작성하시오.\n",
    "docs = collection.find({'name':{'$eq':'호반정'}})\n",
    "for doc in docs:\n",
    "    print(doc)"
   ]
  },
  {
   "cell_type": "code",
   "execution_count": 20,
   "metadata": {},
   "outputs": [
    {
     "name": "stderr",
     "output_type": "stream",
     "text": [
      "C:\\ProgramData\\Anaconda3\\envs\\ai\\lib\\site-packages\\ipykernel_launcher.py:2: DeprecationWarning: update is deprecated. Use replace_one, update_one or update_many instead.\n",
      "  \n"
     ]
    },
    {
     "data": {
      "text/plain": [
       "{'n': 1, 'nModified': 1, 'ok': 1.0, 'updatedExisting': True}"
      ]
     },
     "execution_count": 20,
     "metadata": {},
     "output_type": "execute_result"
    }
   ],
   "source": [
    "# 7. document를 수정하는 Python 스크립트를 작성하시오.\n",
    "collection.update({'name':'호반정'}, {'name':'호반정', 'taste':10, 'service':10})"
   ]
  },
  {
   "cell_type": "code",
   "execution_count": 21,
   "metadata": {},
   "outputs": [
    {
     "name": "stdout",
     "output_type": "stream",
     "text": [
      "{'_id': ObjectId('5ef17a47bcacefd3b2ab78c3'), 'name': '호반정', 'taste': 10, 'service': 10}\n",
      "{'_id': ObjectId('5ef17a47bcacefd3b2ab78c4'), 'name': '시스스시', 'taste': 8, 'service': 8}\n",
      "{'_id': ObjectId('5ef17a47bcacefd3b2ab78c5'), 'name': '자금성', 'taste': 7, 'service': 10}\n"
     ]
    }
   ],
   "source": [
    "docs = collection.find()\n",
    "for doc in docs:\n",
    "    print(doc)"
   ]
  },
  {
   "cell_type": "code",
   "execution_count": 22,
   "metadata": {},
   "outputs": [
    {
     "name": "stdout",
     "output_type": "stream",
     "text": [
      "{'_id': ObjectId('5ef17a47bcacefd3b2ab78c4'), 'name': '시스스시', 'taste': 8, 'service': 8}\n",
      "{'_id': ObjectId('5ef17a47bcacefd3b2ab78c5'), 'name': '자금성', 'taste': 7, 'service': 10}\n"
     ]
    },
    {
     "name": "stderr",
     "output_type": "stream",
     "text": [
      "C:\\ProgramData\\Anaconda3\\envs\\ai\\lib\\site-packages\\ipykernel_launcher.py:2: DeprecationWarning: remove is deprecated. Use delete_one or delete_many instead.\n",
      "  \n"
     ]
    }
   ],
   "source": [
    "# 8. document를 삭제하는 Python 스크립트를 작성하시오.\n",
    "collection.remove({'name':'호반정'})\n",
    "\n",
    "docs = collection.find()\n",
    "for doc in docs:\n",
    "    print(doc)"
   ]
  },
  {
   "cell_type": "code",
   "execution_count": 23,
   "metadata": {},
   "outputs": [
    {
     "data": {
      "text/html": [
       "<div>\n",
       "<style scoped>\n",
       "    .dataframe tbody tr th:only-of-type {\n",
       "        vertical-align: middle;\n",
       "    }\n",
       "\n",
       "    .dataframe tbody tr th {\n",
       "        vertical-align: top;\n",
       "    }\n",
       "\n",
       "    .dataframe thead th {\n",
       "        text-align: right;\n",
       "    }\n",
       "</style>\n",
       "<table border=\"1\" class=\"dataframe\">\n",
       "  <thead>\n",
       "    <tr style=\"text-align: right;\">\n",
       "      <th></th>\n",
       "      <th>name</th>\n",
       "      <th>taste</th>\n",
       "      <th>service</th>\n",
       "    </tr>\n",
       "  </thead>\n",
       "  <tbody>\n",
       "    <tr>\n",
       "      <th>0</th>\n",
       "      <td>시스스시</td>\n",
       "      <td>8</td>\n",
       "      <td>8</td>\n",
       "    </tr>\n",
       "    <tr>\n",
       "      <th>1</th>\n",
       "      <td>자금성</td>\n",
       "      <td>7</td>\n",
       "      <td>10</td>\n",
       "    </tr>\n",
       "  </tbody>\n",
       "</table>\n",
       "</div>"
      ],
      "text/plain": [
       "   name  taste  service\n",
       "0  시스스시      8        8\n",
       "1   자금성      7       10"
      ]
     },
     "execution_count": 23,
     "metadata": {},
     "output_type": "execute_result"
    }
   ],
   "source": [
    "# 9. 저장된 collection을 Pandas DataFrame으로 변환하는 Python 스크립트를 작성하시오.\n",
    "import pandas as pd\n",
    "# mongodb에서 읽어온 데이터를 DataFrame으로 변경\n",
    "docs = collection.find()\n",
    "df = pd.DataFrame(list(docs), columns=['name', 'taste', 'service'])\n",
    "df"
   ]
  },
  {
   "cell_type": "code",
   "execution_count": 24,
   "metadata": {},
   "outputs": [
    {
     "data": {
      "text/html": [
       "<div>\n",
       "<style scoped>\n",
       "    .dataframe tbody tr th:only-of-type {\n",
       "        vertical-align: middle;\n",
       "    }\n",
       "\n",
       "    .dataframe tbody tr th {\n",
       "        vertical-align: top;\n",
       "    }\n",
       "\n",
       "    .dataframe thead th {\n",
       "        text-align: right;\n",
       "    }\n",
       "</style>\n",
       "<table border=\"1\" class=\"dataframe\">\n",
       "  <thead>\n",
       "    <tr style=\"text-align: right;\">\n",
       "      <th></th>\n",
       "      <th>name</th>\n",
       "      <th>taste</th>\n",
       "      <th>service</th>\n",
       "      <th>mean</th>\n",
       "      <th>rank</th>\n",
       "    </tr>\n",
       "  </thead>\n",
       "  <tbody>\n",
       "    <tr>\n",
       "      <th>0</th>\n",
       "      <td>시스스시</td>\n",
       "      <td>8</td>\n",
       "      <td>8</td>\n",
       "      <td>8.0</td>\n",
       "      <td>1.0</td>\n",
       "    </tr>\n",
       "    <tr>\n",
       "      <th>1</th>\n",
       "      <td>자금성</td>\n",
       "      <td>7</td>\n",
       "      <td>10</td>\n",
       "      <td>8.5</td>\n",
       "      <td>2.0</td>\n",
       "    </tr>\n",
       "  </tbody>\n",
       "</table>\n",
       "</div>"
      ],
      "text/plain": [
       "   name  taste  service  mean  rank\n",
       "0  시스스시      8        8   8.0   1.0\n",
       "1   자금성      7       10   8.5   2.0"
      ]
     },
     "execution_count": 24,
     "metadata": {},
     "output_type": "execute_result"
    }
   ],
   "source": [
    "df['mean'] = (df['taste'] + df['service'])/2\n",
    "df['rank'] = df['mean'].rank(method='min')\n",
    "df"
   ]
  },
  {
   "cell_type": "code",
   "execution_count": 25,
   "metadata": {},
   "outputs": [
    {
     "name": "stderr",
     "output_type": "stream",
     "text": [
      "C:\\ProgramData\\Anaconda3\\envs\\ai\\lib\\site-packages\\ipykernel_launcher.py:5: DeprecationWarning: insert is deprecated. Use insert_one or insert_many instead.\n",
      "  \"\"\"\n"
     ]
    },
    {
     "data": {
      "text/plain": [
       "[ObjectId('5ef17a52bcacefd3b2ab78c6'), ObjectId('5ef17a52bcacefd3b2ab78c7')]"
      ]
     },
     "execution_count": 25,
     "metadata": {},
     "output_type": "execute_result"
    }
   ],
   "source": [
    "# 10. 저장된 collection을 Pandas DataFrame으로 변환 후 임의의 계산 결과를 만들어 Dataframe에 컬럼을 추가하고 다시 새로운 Collection에 저장하는 Python 스크립트를 작성하시오. \n",
    "import json\n",
    "# pandas -> mongodb:data1 database, dev_out collection insert\n",
    "records = json.loads(df.T.to_json()).values()\n",
    "db.store_out.insert(records) # ObjectId 리턴"
   ]
  },
  {
   "cell_type": "code",
   "execution_count": null,
   "metadata": {},
   "outputs": [],
   "source": []
  }
 ],
 "metadata": {
  "kernelspec": {
   "display_name": "ai",
   "language": "python",
   "name": "ai"
  },
  "language_info": {
   "codemirror_mode": {
    "name": "ipython",
    "version": 3
   },
   "file_extension": ".py",
   "mimetype": "text/x-python",
   "name": "python",
   "nbconvert_exporter": "python",
   "pygments_lexer": "ipython3",
   "version": "3.6.10"
  }
 },
 "nbformat": 4,
 "nbformat_minor": 2
}
