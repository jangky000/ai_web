{
 "cells": [
  {
   "cell_type": "code",
   "execution_count": 1,
   "metadata": {
    "scrolled": true
   },
   "outputs": [],
   "source": [
    "# 1. 1개월간의 인건비 대비 판매량을 기록한 날짜별 매출액 정보가 들어간 \n",
    "# csv 파일을 작성하고 Numpy로 읽어오시오.\n",
    "# - 1달 30일 기준으로 관측치(레코드, 행)는 30건임.\n",
    "# - 컬럼은 인건비, 매출액이 포함되어야 함.\n",
    "# - 데이터의 형태를 30행 2열 2차원 배열 형태가 되어야함.\n",
    "import numpy as np\n",
    "data = np.loadtxt('./data/machine.csv', delimiter=',', skiprows=1, usecols=[1,2], encoding='utf-8')\n",
    "# data"
   ]
  },
  {
   "cell_type": "code",
   "execution_count": 2,
   "metadata": {},
   "outputs": [
    {
     "name": "stdout",
     "output_type": "stream",
     "text": [
      "2.0.0\n"
     ]
    }
   ],
   "source": [
    "# 2. Tensorflow package를 import하는 Python script를 구현 하시오.\n",
    "import tensorflow as tf\n",
    "\n",
    "# tensorflow 2.0에 내장된 Keras 사용\n",
    "from tensorflow.keras.models import Sequential  # class\n",
    "from tensorflow.keras.models import load_model  # model 사용 함수\n",
    "from tensorflow.keras.layers import Dense       # 전결합층\n",
    "from tensorflow.keras.optimizers import Adam    # 가중치, bias 최적화\n",
    "\n",
    "print(tf.__version__)"
   ]
  },
  {
   "cell_type": "code",
   "execution_count": 3,
   "metadata": {},
   "outputs": [],
   "source": [
    "# 3. MLP 기반의 Dense class를 이용하여 전결합층을 구현하시오\n",
    "x_train = np.array([d[0] for d in data])\n",
    "y_train = np.array([d[1] for d in data])\n",
    "\n",
    "# 파라미터(가중치, y절편) 특정 값으로 초기화 -> 정규분포에 맞춰서 난수 생성\n",
    "tf.keras.initializers.RandomNormal(mean=0.0, stddev=0.05, seed=0)\n",
    "model = Sequential()\n",
    "model.add(Dense(10, input_shape=(1, ), activation='linear'))\n",
    "model.add(Dense(20, activation='linear'))\n",
    "model.add(Dense(10, activation='linear'))\n",
    "model.add(Dense(1, activation='linear'))"
   ]
  },
  {
   "cell_type": "code",
   "execution_count": 4,
   "metadata": {},
   "outputs": [],
   "source": [
    "# 5. 학습율을 0.01로 지정하는 Python script를 구현 하시오.\n",
    "# 7. 손실 함수 mse를 정의하여 정제된 값이 실제값과 동일하도록 모델을 제작하시오.\n",
    "model.compile(optimizer=Adam(lr=0.01), loss='mse')"
   ]
  },
  {
   "cell_type": "code",
   "execution_count": 5,
   "metadata": {},
   "outputs": [
    {
     "name": "stdout",
     "output_type": "stream",
     "text": [
      "Train on 21 samples, validate on 9 samples\n",
      "Epoch 1/30\n",
      "21/21 [==============================] - 1s 38ms/sample - loss: 83.2352 - val_loss: 3.0544\n",
      "Epoch 2/30\n",
      "21/21 [==============================] - 0s 2ms/sample - loss: 7.9736 - val_loss: 0.2329\n",
      "Epoch 3/30\n",
      "21/21 [==============================] - 0s 2ms/sample - loss: 2.2017 - val_loss: 0.0130\n",
      "Epoch 4/30\n",
      "21/21 [==============================] - 0s 2ms/sample - loss: 0.2366 - val_loss: 0.0442\n",
      "Epoch 5/30\n",
      "21/21 [==============================] - 0s 2ms/sample - loss: 0.0650 - val_loss: 0.0025\n",
      "Epoch 6/30\n",
      "21/21 [==============================] - 0s 2ms/sample - loss: 0.0193 - val_loss: 0.0061\n",
      "Epoch 7/30\n",
      "21/21 [==============================] - 0s 2ms/sample - loss: 0.0041 - val_loss: 0.0048\n",
      "Epoch 8/30\n",
      "21/21 [==============================] - 0s 2ms/sample - loss: 0.0018 - val_loss: 0.0018\n",
      "Epoch 9/30\n",
      "21/21 [==============================] - 0s 2ms/sample - loss: 0.0011 - val_loss: 5.4630e-04\n",
      "Epoch 10/30\n",
      "21/21 [==============================] - 0s 2ms/sample - loss: 0.0012 - val_loss: 4.0028e-04\n",
      "Epoch 11/30\n",
      "21/21 [==============================] - 0s 2ms/sample - loss: 4.3619e-04 - val_loss: 5.7665e-04\n",
      "Epoch 12/30\n",
      "21/21 [==============================] - 0s 2ms/sample - loss: 2.4464e-04 - val_loss: 1.3689e-04\n",
      "Epoch 13/30\n",
      "21/21 [==============================] - 0s 2ms/sample - loss: 1.8102e-04 - val_loss: 1.0082e-04\n",
      "Epoch 14/30\n",
      "21/21 [==============================] - 0s 2ms/sample - loss: 5.0697e-05 - val_loss: 5.7251e-05\n",
      "Epoch 15/30\n",
      "21/21 [==============================] - 0s 2ms/sample - loss: 4.6369e-05 - val_loss: 6.2962e-05\n",
      "Epoch 16/30\n",
      "21/21 [==============================] - 0s 2ms/sample - loss: 4.4504e-05 - val_loss: 1.0920e-05\n",
      "Epoch 17/30\n",
      "21/21 [==============================] - 0s 2ms/sample - loss: 4.1507e-05 - val_loss: 4.1588e-05\n",
      "Epoch 18/30\n",
      "21/21 [==============================] - 0s 2ms/sample - loss: 8.5554e-06 - val_loss: 2.0856e-06\n",
      "Epoch 19/30\n",
      "21/21 [==============================] - 0s 2ms/sample - loss: 2.6694e-06 - val_loss: 4.1704e-06\n",
      "Epoch 20/30\n",
      "21/21 [==============================] - 0s 2ms/sample - loss: 3.2638e-06 - val_loss: 6.2173e-07\n",
      "Epoch 21/30\n",
      "21/21 [==============================] - 0s 2ms/sample - loss: 1.5982e-06 - val_loss: 4.0635e-07\n",
      "Epoch 22/30\n",
      "21/21 [==============================] - 0s 2ms/sample - loss: 2.7836e-07 - val_loss: 4.2010e-07\n",
      "Epoch 23/30\n",
      "21/21 [==============================] - 0s 2ms/sample - loss: 3.0238e-07 - val_loss: 5.0178e-08\n",
      "Epoch 24/30\n",
      "21/21 [==============================] - 0s 2ms/sample - loss: 1.0205e-07 - val_loss: 5.3166e-08\n",
      "Epoch 25/30\n",
      "21/21 [==============================] - 0s 2ms/sample - loss: 9.6598e-08 - val_loss: 1.4308e-07\n",
      "Epoch 26/30\n",
      "21/21 [==============================] - 0s 2ms/sample - loss: 6.0793e-08 - val_loss: 4.9873e-09\n",
      "Epoch 27/30\n",
      "21/21 [==============================] - 0s 2ms/sample - loss: 1.1028e-08 - val_loss: 1.7021e-09\n",
      "Epoch 28/30\n",
      "21/21 [==============================] - 0s 2ms/sample - loss: 1.4021e-09 - val_loss: 5.7253e-10\n",
      "Epoch 29/30\n",
      "21/21 [==============================] - 0s 2ms/sample - loss: 6.1261e-10 - val_loss: 6.3682e-10\n",
      "Epoch 30/30\n",
      "21/21 [==============================] - 0s 2ms/sample - loss: 5.3409e-10 - val_loss: 4.8714e-10\n"
     ]
    }
   ],
   "source": [
    "# 4. 데이터를 훈련 데이터 70%, 검증 데이터 30%로 분할 하시오.\n",
    "# 6. batch_size는 1로 지정하는 Python script를 구현 하시오.\n",
    "hist = model.fit(x_train, y_train, validation_split=0.3, shuffle=True,\n",
    "                epochs = 30, batch_size=1)"
   ]
  },
  {
   "cell_type": "code",
   "execution_count": 6,
   "metadata": {},
   "outputs": [],
   "source": []
  },
  {
   "cell_type": "code",
   "execution_count": 7,
   "metadata": {},
   "outputs": [
    {
     "data": {
      "image/png": "[encoded data removed]",
      "text/plain": [
       "<Figure size 720x360 with 1 Axes>"
      ]
     },
     "metadata": {
      "needs_background": "light"
     },
     "output_type": "display_data"
    }
   ],
   "source": [
    "# 8. 학습 과정을 그래프로 시각화한 Python script를 구현 하시오.\n",
    "\n",
    "import matplotlib.pyplot as plt\n",
    "%matplotlib inline  \n",
    "\n",
    "fig, loss_ax = plt.subplots()\n",
    "# plt.figure(figsize=(6,4)) # ERROR\n",
    "fig.set_size_inches(10, 5)  # 챠트 크기 설정\n",
    "\n",
    "# 왼쪽 y 축 설정\n",
    "loss_ax.plot(hist.history['loss'], 'y', label='train loss')\n",
    "loss_ax.plot(hist.history['val_loss'], 'r', label='val loss')\n",
    "loss_ax.set_ylim([0.0, 100 ]) # 값을 반영하여 변경\n",
    "# val_loss: 2675.0146 오차들의 합\n",
    "\n",
    "# 축 레이블 설정\n",
    "loss_ax.set_xlabel('epoch')  # 학습 횟수\n",
    "loss_ax.set_ylabel('loss')   # 오차\n",
    "\n",
    "loss_ax.legend(loc='upper left') # 오차 레이블 위치\n",
    "\n",
    "plt.show()"
   ]
  },
  {
   "cell_type": "code",
   "execution_count": 8,
   "metadata": {},
   "outputs": [
    {
     "name": "stdout",
     "output_type": "stream",
     "text": [
      "<class 'numpy.ndarray'>\n",
      "(5, 1)\n",
      "[[60.999943]\n",
      " [63.999943]\n",
      " [66.99995 ]\n",
      " [69.99995 ]\n",
      " [72.99995 ]]\n",
      "x: 20, 실제값: 61, 예측값: 61\n",
      "x: 21, 실제값: 64, 예측값: 64\n",
      "x: 22, 실제값: 67, 예측값: 67\n",
      "x: 23, 실제값: 70, 예측값: 70\n",
      "x: 24, 실제값: 73, 예측값: 73\n"
     ]
    }
   ],
   "source": [
    "# 9. 테스트 데이터를 만들고 ‘실제값, 예측값, 정제된값’을 \n",
    "# 출력하는 과정을 진행하시오.\n",
    "# 학습 결과를 테스트\n",
    "x = np.array([20, 21, 22, 23, 24])\n",
    "y = np.array([61, 64, 67, 70, 73]) # 실제답, 비교 목적\n",
    "\n",
    "pd = model.predict(x) # 모델 사용, 2차원 배열로 예측 결과가 발생\n",
    "print(type(pd))\n",
    "print(pd.shape)\n",
    "print(pd)\n",
    "\n",
    "for i in range(len(x)):\n",
    "    fmt = 'x: {0}, 실제값: {1}, 예측값: {2:.0f}'\n",
    "    print(fmt.format(x[i], y[i], pd[i][0]))"
   ]
  },
  {
   "cell_type": "code",
   "execution_count": 9,
   "metadata": {},
   "outputs": [],
   "source": [
    "# 10. 학습된 모델을 h5 파일로 저장하고 읽어오는 Python script를 구현 하시오.\n",
    "model.save('./machine_exam.h5')\n"
   ]
  },
  {
   "cell_type": "code",
   "execution_count": 10,
   "metadata": {},
   "outputs": [],
   "source": [
    "import numpy as np\n",
    "from tensorflow.keras.models import load_model  # model 사용 함수\n",
    "\n",
    "# 모델 메모리 상주\n",
    "model = load_model('./machine_exam.h5')"
   ]
  },
  {
   "cell_type": "code",
   "execution_count": null,
   "metadata": {},
   "outputs": [],
   "source": []
  },
  {
   "cell_type": "code",
   "execution_count": null,
   "metadata": {},
   "outputs": [],
   "source": []
  }
 ],
 "metadata": {
  "kernelspec": {
   "display_name": "ai",
   "language": "python",
   "name": "ai"
  },
  "language_info": {
   "codemirror_mode": {
    "name": "ipython",
    "version": 3
   },
   "file_extension": ".py",
   "mimetype": "text/x-python",
   "name": "python",
   "nbconvert_exporter": "python",
   "pygments_lexer": "ipython3",
   "version": "3.6.10"
  }
 },
 "nbformat": 4,
 "nbformat_minor": 4
}
