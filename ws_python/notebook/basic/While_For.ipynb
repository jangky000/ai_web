{
 "cells": [
  {
   "cell_type": "code",
   "execution_count": 1,
   "metadata": {},
   "outputs": [
    {
     "name": "stdout",
     "output_type": "stream",
     "text": [
      "12345"
     ]
    }
   ],
   "source": [
    "su = 0\n",
    "while True:\n",
    "    su = su + 1\n",
    "    print(su, end='')\n",
    "    \n",
    "    if su == 5:\n",
    "        break"
   ]
  },
  {
   "cell_type": "code",
   "execution_count": 3,
   "metadata": {},
   "outputs": [
    {
     "name": "stdout",
     "output_type": "stream",
     "text": [
      "54321"
     ]
    }
   ],
   "source": [
    "su = 6\n",
    "while True: # 0 이외의 값은 모두 참 처리\n",
    "    su = su - 1\n",
    "    print(su, end='')\n",
    "    \n",
    "    if su == 1:\n",
    "        break"
   ]
  },
  {
   "cell_type": "code",
   "execution_count": 4,
   "metadata": {},
   "outputs": [
    {
     "name": "stdout",
     "output_type": "stream",
     "text": [
      "12\n"
     ]
    }
   ],
   "source": [
    "su = 0\n",
    "while True:\n",
    "    su = su + 1\n",
    "    if su % 2 == 0 and su % 3 == 0 and su % 4 == 0:\n",
    "        print(su)\n",
    "        break"
   ]
  },
  {
   "cell_type": "markdown",
   "metadata": {},
   "source": [
    "### For"
   ]
  },
  {
   "cell_type": "code",
   "execution_count": 7,
   "metadata": {},
   "outputs": [
    {
     "name": "stdout",
     "output_type": "stream",
     "text": [
      "A B C 가 나 다 1 2 3 "
     ]
    }
   ],
   "source": [
    "str1 = 'ABC가나다123'\n",
    "for c in str1: # 1문자씩 추출됨\n",
    "    print(c, '', end='')"
   ]
  },
  {
   "cell_type": "code",
   "execution_count": 13,
   "metadata": {},
   "outputs": [
    {
     "name": "stdout",
     "output_type": "stream",
     "text": [
      "<class 'range'>\n",
      "0 1 2 3 4 "
     ]
    }
   ],
   "source": [
    "print(type(range(5)))\n",
    "for i in range(5):   # 0 ~ 4\n",
    "    print(i, '', end='') # end='': 출력 라인 변경 방지"
   ]
  },
  {
   "cell_type": "code",
   "execution_count": 12,
   "metadata": {},
   "outputs": [
    {
     "name": "stdout",
     "output_type": "stream",
     "text": [
      "1 2 3 4 "
     ]
    }
   ],
   "source": [
    "for i in range(1, 5): # 1 ~ 4\n",
    "    print(i,'',  end='')  # end='': 출력 라인 변경 방지"
   ]
  },
  {
   "cell_type": "code",
   "execution_count": 11,
   "metadata": {},
   "outputs": [
    {
     "name": "stdout",
     "output_type": "stream",
     "text": [
      "2 4 6 8 10 "
     ]
    }
   ],
   "source": [
    "# 간격 설정\n",
    "for i in range(2, 12, 2): # 2 ~ 10, 간격 2\n",
    "    print(i, '', end='')  # end='': 출력 라인 변경 방지"
   ]
  },
  {
   "cell_type": "code",
   "execution_count": 15,
   "metadata": {},
   "outputs": [
    {
     "name": "stdout",
     "output_type": "stream",
     "text": [
      "5 4 3 2 "
     ]
    }
   ],
   "source": [
    "# 역순으로 순회, 마지막 1은 순회하지 않음\n",
    "for i in range(5, 1, -1): # 5 ~ 2\n",
    "    print(i, '', end='')  # end='': 출력 라인 변경 방지"
   ]
  },
  {
   "cell_type": "code",
   "execution_count": 18,
   "metadata": {},
   "outputs": [
    {
     "name": "stdout",
     "output_type": "stream",
     "text": [
      "2 x 1 = 2\n",
      "2 x 2 = 4\n",
      "2 x 3 = 6\n",
      "2 x 4 = 8\n",
      "2 x 5 = 10\n",
      "2 x 6 = 12\n",
      "2 x 7 = 14\n",
      "2 x 8 = 16\n",
      "2 x 9 = 18\n"
     ]
    }
   ],
   "source": [
    "# 구구단 2단 순회\n",
    "for i in range(1, 10):\n",
    "    print('2 x %d = %d' %(i, 2 * i))"
   ]
  },
  {
   "cell_type": "code",
   "execution_count": 19,
   "metadata": {},
   "outputs": [
    {
     "name": "stdout",
     "output_type": "stream",
     "text": [
      "2 x 1 = 2\n",
      "2 x 2 = 4\n",
      "2 x 3 = 6\n",
      "2 x 4 = 8\n",
      "2 x 5 = 10\n",
      "2 x 6 = 12\n",
      "2 x 7 = 14\n",
      "2 x 8 = 16\n",
      "2 x 9 = 18\n"
     ]
    }
   ],
   "source": [
    "# 구구단 2단 순회\n",
    "for i in range(1, 10):\n",
    "    print('2 x {0} = {1}'.format(i, 2 * i))"
   ]
  },
  {
   "cell_type": "code",
   "execution_count": 20,
   "metadata": {},
   "outputs": [
    {
     "name": "stdout",
     "output_type": "stream",
     "text": [
      "2 x 1 = 2 <-- 1\n",
      "2 x 2 = 4 <-- 2\n",
      "2 x 3 = 6 <-- 3\n",
      "2 x 4 = 8 <-- 4\n",
      "2 x 5 = 10 <-- 5\n",
      "2 x 6 = 12 <-- 6\n",
      "2 x 7 = 14 <-- 7\n",
      "2 x 8 = 16 <-- 8\n",
      "2 x 9 = 18 <-- 9\n"
     ]
    }
   ],
   "source": [
    "# format활용 방법, {0}의 여러 번 사용\n",
    "for i in range(1, 10):\n",
    "    print('2 x {0} = {1} <-- {0}'.format(i, 2 * i))"
   ]
  },
  {
   "cell_type": "code",
   "execution_count": 24,
   "metadata": {},
   "outputs": [
    {
     "name": "stdout",
     "output_type": "stream",
     "text": [
      "1\n",
      "2\n",
      "3\n"
     ]
    }
   ],
   "source": [
    "list1 = [1, 2, 3]\n",
    "for su in list1:\n",
    "    print(su)"
   ]
  },
  {
   "cell_type": "code",
   "execution_count": 22,
   "metadata": {},
   "outputs": [
    {
     "name": "stdout",
     "output_type": "stream",
     "text": [
      "[0, 1, 2, 3, 4]\n"
     ]
    }
   ],
   "source": [
    "data = []\n",
    "for i in range(5):\n",
    "    data.append(i)\n",
    "print(data)"
   ]
  },
  {
   "cell_type": "code",
   "execution_count": 25,
   "metadata": {},
   "outputs": [
    {
     "name": "stdout",
     "output_type": "stream",
     "text": [
      "데이터 입력: 2019\n",
      "데이터 입력: 2020\n",
      "데이터 입력: 2021\n",
      "[2019, 2020, 2021]\n"
     ]
    }
   ],
   "source": [
    "# 키보드 입력 받기: input()\n",
    "data = []\n",
    "for i in range(3): # 0 ~ 2\n",
    "    dt = int(input('데이터 입력: '))\n",
    "    data.append(dt)\n",
    "print(data)"
   ]
  },
  {
   "cell_type": "code",
   "execution_count": 26,
   "metadata": {},
   "outputs": [
    {
     "name": "stdout",
     "output_type": "stream",
     "text": [
      "2019\n",
      "2020\n",
      "2021\n"
     ]
    }
   ],
   "source": [
    "for year in data:\n",
    "    print(year)"
   ]
  },
  {
   "cell_type": "code",
   "execution_count": 28,
   "metadata": {},
   "outputs": [
    {
     "name": "stdout",
     "output_type": "stream",
     "text": [
      "2019 데이터분석 : Python\n",
      "2020 머신러닝 : SKlearn\n",
      "2021 딥러닝 : Tensorflow\n"
     ]
    }
   ],
   "source": [
    "title = ['데이터분석', '머신러닝', '딥러닝']\n",
    "dev = ['Python', 'SKlearn', 'Tensorflow']\n",
    "for i in range(len(title)):  # 0 ~ 2\n",
    "    print(data[i], title[i], \":\", dev[i])"
   ]
  },
  {
   "cell_type": "code",
   "execution_count": 28,
   "metadata": {},
   "outputs": [
    {
     "name": "stdout",
     "output_type": "stream",
     "text": [
      "2019 데이터분석 : Python\n",
      "2020 머신러닝 : SKlearn\n",
      "2021 딥러닝 : Tensorflow\n"
     ]
    }
   ],
   "source": [
    "title = ['데이터분석', '머신러닝', '딥러닝']\n",
    "dev = ['Python', 'SKlearn', 'Tensorflow']\n",
    "for i in range(len(title)):  # 0 ~ 2\n",
    "    print(data[i], title[i], \":\", dev[i])"
   ]
  },
  {
   "cell_type": "code",
   "execution_count": 29,
   "metadata": {},
   "outputs": [
    {
     "name": "stdout",
     "output_type": "stream",
     "text": [
      "2021\n",
      "2020\n",
      "2019\n"
     ]
    }
   ],
   "source": [
    "# push, pop\n",
    "# 원본 삭제\n",
    "for i in range(len(data)): # 0 ~ 2\n",
    "    print(data.pop())      # 원본이 삭제됨"
   ]
  },
  {
   "cell_type": "code",
   "execution_count": 30,
   "metadata": {},
   "outputs": [
    {
     "data": {
      "text/plain": [
       "[]"
      ]
     },
     "execution_count": 30,
     "metadata": {},
     "output_type": "execute_result"
    }
   ],
   "source": [
    "data"
   ]
  },
  {
   "cell_type": "code",
   "execution_count": 32,
   "metadata": {},
   "outputs": [
    {
     "name": "stdout",
     "output_type": "stream",
     "text": [
      "[100, 101, 102]\n"
     ]
    }
   ],
   "source": [
    "# 내장 리스트\n",
    "data = [i+100 for i in range(3)] # 0 ~ 2\n",
    "print(data)"
   ]
  },
  {
   "cell_type": "code",
   "execution_count": 33,
   "metadata": {},
   "outputs": [
    {
     "name": "stdout",
     "output_type": "stream",
     "text": [
      "[[0, 0, 0], [0, 0, 0], [0, 0, 0]]\n"
     ]
    }
   ],
   "source": [
    "# 이중 내장 리스트 사용\n",
    "data = [[0 for i in range(3)] for j in range(3)] # 0 ~ 2\n",
    "print(data)"
   ]
  },
  {
   "cell_type": "code",
   "execution_count": 36,
   "metadata": {},
   "outputs": [
    {
     "name": "stdout",
     "output_type": "stream",
     "text": [
      "0 0 -> 0\n",
      "0 1 -> 1\n",
      "0 2 -> 2\n",
      "1 0 -> 1\n",
      "1 1 -> 2\n",
      "1 2 -> 3\n",
      "2 0 -> 2\n",
      "2 1 -> 3\n",
      "2 2 -> 4\n",
      "[[0, 1, 2], [1, 2, 3], [2, 3, 4]]\n"
     ]
    }
   ],
   "source": [
    "for i in range(3):\n",
    "    for j in range(3):\n",
    "        print(i, j, '->', (i+j))\n",
    "        data[i][j] = i + j\n",
    "        \n",
    "print(data)"
   ]
  },
  {
   "cell_type": "code",
   "execution_count": 38,
   "metadata": {},
   "outputs": [
    {
     "name": "stdout",
     "output_type": "stream",
     "text": [
      "[[0, 1, 2, 3, 4], [0, 3, 6, 9, 12]]\n"
     ]
    }
   ],
   "source": [
    "data = [[], []]\n",
    "for i in range(5):\n",
    "    data[0].append(i)\n",
    "    data[1].append(i*3)\n",
    "print(data)"
   ]
  },
  {
   "cell_type": "code",
   "execution_count": 39,
   "metadata": {},
   "outputs": [
    {
     "name": "stdout",
     "output_type": "stream",
     "text": [
      "<class 'tuple'>\n",
      "10\n",
      "20\n",
      "30\n"
     ]
    }
   ],
   "source": [
    "# 튜플 순회\n",
    "data = (10, 20, 30) # tuple\n",
    "print(type(data))\n",
    "for i in data:\n",
    "    print(i)"
   ]
  },
  {
   "cell_type": "code",
   "execution_count": 40,
   "metadata": {},
   "outputs": [
    {
     "name": "stdout",
     "output_type": "stream",
     "text": [
      "10\n",
      "20\n",
      "30\n"
     ]
    }
   ],
   "source": [
    "# 튜플 순회2\n",
    "data = (10, 20, 30)\n",
    "for i in range(len(data)):\n",
    "    print(data[i])"
   ]
  },
  {
   "cell_type": "code",
   "execution_count": 41,
   "metadata": {},
   "outputs": [
    {
     "name": "stdout",
     "output_type": "stream",
     "text": [
      "{1: 'Jaunuary', 2: 'February', 3: 'March'}\n",
      "key: 1\n",
      "Jaunuary\n",
      "key: 2\n",
      "February\n",
      "key: 3\n",
      "March\n"
     ]
    }
   ],
   "source": [
    "# 딕셔너리\n",
    "months = {1: 'Jaunuary', 2: 'February', 3: 'March'}\n",
    "print(months)\n",
    "for item in months: # 키값을 foreach로 반환\n",
    "    print('key:', item) # key\n",
    "    print(months[item]) # key에 해당하는 값"
   ]
  },
  {
   "cell_type": "code",
   "execution_count": 43,
   "metadata": {},
   "outputs": [
    {
     "name": "stdout",
     "output_type": "stream",
     "text": [
      "1\n",
      "2\n",
      "3\n"
     ]
    }
   ],
   "source": [
    "# 딕셔너리  키만 추출해서 출력\n",
    "keys = months.keys()\n",
    "for v in keys:\n",
    "    print(v)"
   ]
  },
  {
   "cell_type": "code",
   "execution_count": 42,
   "metadata": {},
   "outputs": [
    {
     "name": "stdout",
     "output_type": "stream",
     "text": [
      "Jaunuary\n",
      "February\n",
      "March\n"
     ]
    }
   ],
   "source": [
    "# 딕셔너리  값만 추출해서 출력\n",
    "values = months.values()\n",
    "for v in values:\n",
    "    print(v)"
   ]
  },
  {
   "cell_type": "code",
   "execution_count": null,
   "metadata": {},
   "outputs": [],
   "source": []
  },
  {
   "cell_type": "code",
   "execution_count": null,
   "metadata": {},
   "outputs": [],
   "source": []
  },
  {
   "cell_type": "code",
   "execution_count": null,
   "metadata": {},
   "outputs": [],
   "source": []
  }
 ],
 "metadata": {
  "kernelspec": {
   "display_name": "ai",
   "language": "python",
   "name": "ai"
  },
  "language_info": {
   "codemirror_mode": {
    "name": "ipython",
    "version": 3
   },
   "file_extension": ".py",
   "mimetype": "text/x-python",
   "name": "python",
   "nbconvert_exporter": "python",
   "pygments_lexer": "ipython3",
   "version": "3.6.10"
  }
 },
 "nbformat": 4,
 "nbformat_minor": 2
}
