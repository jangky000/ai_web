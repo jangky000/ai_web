{
 "cells": [
  {
   "cell_type": "code",
   "execution_count": 3,
   "metadata": {},
   "outputs": [
    {
     "data": {
      "application/javascript": [
       "IPython.notebook.set_autosave_interval(60000)"
      ]
     },
     "metadata": {},
     "output_type": "display_data"
    },
    {
     "name": "stdout",
     "output_type": "stream",
     "text": [
      "Autosaving every 60 seconds\n"
     ]
    }
   ],
   "source": [
    "# 자동 저장 해제\n",
    "# %autosave 0\n",
    "# 자동 저장 60초 마다 설정\n",
    "%autosave 60"
   ]
  },
  {
   "cell_type": "markdown",
   "metadata": {},
   "source": [
    "### 데이터 타입"
   ]
  },
  {
   "cell_type": "code",
   "execution_count": 8,
   "metadata": {
    "scrolled": true
   },
   "outputs": [
    {
     "name": "stdout",
     "output_type": "stream",
     "text": [
      "sw\n",
      "sw\n",
      "True\n",
      "False\n"
     ]
    }
   ],
   "source": [
    "# sw = true # name 'true' is not defined\n",
    "# sw = TRUE # name 'TRUE' is not defined\n",
    "sw = True\n",
    "print(\"sw\")\n",
    "print('sw')\n",
    "print(sw)\n",
    "sw=False\n",
    "print(sw)"
   ]
  },
  {
   "cell_type": "code",
   "execution_count": 15,
   "metadata": {},
   "outputs": [
    {
     "name": "stdout",
     "output_type": "stream",
     "text": [
      "sw=False\n",
      "sw= False\n",
      "sw=False\n"
     ]
    }
   ],
   "source": [
    "# print(\"sw=\" + sw) # +로 문자열 합쳐서 출력 불가, must be str, not bool\n",
    "print(\"sw=\"+ str(sw))\n",
    "print(\"sw=\", sw)\n",
    "print(\"sw=%s\"%sw)"
   ]
  },
  {
   "cell_type": "code",
   "execution_count": 16,
   "metadata": {},
   "outputs": [
    {
     "name": "stdout",
     "output_type": "stream",
     "text": [
      "python: 90, 분석: 85, 통계: 75, 예측: 80.34\n"
     ]
    }
   ],
   "source": [
    "fmt = \"python: {0}, 분석: {1}, 통계: {2:.0f}, 예측: {3:.2f}\"\n",
    "print(fmt.format(90, 85, 75.456, 80.345))  # 80.345, 80.3451 차이 있음\n",
    "# python: 90, 분석: 85, 통계: 75, 예측: 80.34"
   ]
  },
  {
   "cell_type": "code",
   "execution_count": 17,
   "metadata": {},
   "outputs": [
    {
     "name": "stdout",
     "output_type": "stream",
     "text": [
      "python: 90, 분석: 85, 통계: 76, 예측: 80.35\n"
     ]
    }
   ],
   "source": [
    "fmt = \"python: {0}, 분석: {1}, 통계: {2:.0f}, 예측: {3:.2f}\"\n",
    "print(fmt.format(90, 85, 75.5, 80.3451))  # 80.345, 80.3451 차이 있음\n",
    "# python: 90, 분석: 85, 통계: 76, 예측: 80.35\n",
    "# 정수는 반올림 시에 자동 반올림\n",
    "# 소수 자리 사이의 반올림 시에 0.51 이상일 때 반올림 함"
   ]
  },
  {
   "cell_type": "code",
   "execution_count": 18,
   "metadata": {},
   "outputs": [
    {
     "name": "stdout",
     "output_type": "stream",
     "text": [
      "sw=     False\n",
      "sw=False     \n"
     ]
    }
   ],
   "source": [
    "print(\"sw=%10s\" % sw) #  오른쪽 기준 문자열 출력\n",
    "print(\"sw=%-10s\" % sw) # 왼쪽 기준 문자열 출력"
   ]
  },
  {
   "cell_type": "code",
   "execution_count": 19,
   "metadata": {},
   "outputs": [
    {
     "name": "stdout",
     "output_type": "stream",
     "text": [
      "      2019\n",
      " 10.560000\n",
      "10.6\n",
      "1000.6\n",
      " 10.5\n"
     ]
    }
   ],
   "source": [
    "print(\"%10d\" % 2019)\n",
    "print(\"%10f\" % 10.56)   # 칸 수를 맞추기 위해 소수 6째 자리까지 출력\n",
    "print(\"%.1f\" % 10.56)    # 반올림\n",
    "print(\"%3.1f\" % 1000.56) # 정수는 자리수와 상관없이 출력, 반올림\n",
    "# 정수 3자리, 소수점 1자리, 소수 1자리 출력, \".\"도 전체 자리수에 포함됨\n",
    "print(\"%5.1f\" % 10.5)"
   ]
  },
  {
   "cell_type": "code",
   "execution_count": 20,
   "metadata": {},
   "outputs": [
    {
     "name": "stdout",
     "output_type": "stream",
     "text": [
      "f(x) = 2x + 3\n",
      " 10.5%\n"
     ]
    }
   ],
   "source": [
    "print(\"f(x) = {0}x + {1}\".format(2, 3)) # f(x) = 2x + 3\n",
    "print(\"%5.1f%%\" % 10.5)  # % "
   ]
  },
  {
   "cell_type": "code",
   "execution_count": 22,
   "metadata": {},
   "outputs": [
    {
     "name": "stdout",
     "output_type": "stream",
     "text": [
      "<class 'int'>\n",
      "<class 'str'>\n"
     ]
    }
   ],
   "source": [
    "# 타입 확인\n",
    "print(type(2019))\n",
    "print(type('2019'))\n"
   ]
  },
  {
   "cell_type": "code",
   "execution_count": 21,
   "metadata": {},
   "outputs": [
    {
     "name": "stdout",
     "output_type": "stream",
     "text": [
      "1532539104\n",
      "1532539104\n",
      "1532539104\n"
     ]
    }
   ],
   "source": [
    "# id() -> 자바의 해시코드와 같음\n",
    "print(id(1)) # 객체 id\n",
    "su1 = 1\n",
    "su2 = 1\n",
    "print(id(su1))\n",
    "print(id(su2))\n"
   ]
  },
  {
   "cell_type": "markdown",
   "metadata": {},
   "source": [
    "### 연산자"
   ]
  },
  {
   "cell_type": "code",
   "execution_count": 23,
   "metadata": {},
   "outputs": [
    {
     "name": "stdout",
     "output_type": "stream",
     "text": [
      "100의 50%: 50.0\n",
      "100의 50%: 0.5\n",
      "100의 50%: 50.0\n",
      "100의 10%: 10.0\n",
      "100의 1%: 1.0\n",
      "100의 0.5%: 0.5\n"
     ]
    }
   ],
   "source": [
    "print('100의 50%:', 100 * 0.5)\n",
    "print('100의 50%:', 50 / 100)  # 0.5, 1은 100%로 인식\n",
    "print('100의 50%:', 50 / 100 * 100)\n",
    "print('100의 10%:', 100 * 0.1)\n",
    "print('100의 1%:', 100 * 0.01)\n",
    "print('100의 0.5%:', 100 * 0.005)"
   ]
  },
  {
   "cell_type": "code",
   "execution_count": 24,
   "metadata": {},
   "outputs": [
    {
     "name": "stdout",
     "output_type": "stream",
     "text": [
      "0 % 3 = 0\n",
      "3 % 3 = 0\n",
      "9 / 3 = 3.0\n",
      "10 / 3 = 3.3333333333333335\n",
      "10 // 3 = 3\n"
     ]
    }
   ],
   "source": [
    "print(\"0 % 3 =\", 0 % 3)\n",
    "print(\"3 % 3 =\", 3 % 3)      # 나머지\n",
    "# 3 % 3 = 0\n",
    "print(\"9 / 3 =\", 9 / 3)      # 3.0\n",
    "# 9 / 3 = 3.0\n",
    "print(\"10 / 3 =\", 10 / 3)\n",
    "# 10 / 3 = 3.3333333333333335\n",
    "print(\"10 // 3 =\", 10 // 3)  # 몫\n",
    "# 10 // 3 = 3"
   ]
  },
  {
   "cell_type": "code",
   "execution_count": 25,
   "metadata": {},
   "outputs": [
    {
     "name": "stdout",
     "output_type": "stream",
     "text": [
      "year= 2021\n"
     ]
    }
   ],
   "source": [
    "y = 2019\n",
    "y = y + 1\n",
    "# y++  # 지원 안함.\n",
    "y += 1\n",
    "print(\"year=\", y)\n",
    "# year= 2021"
   ]
  },
  {
   "cell_type": "code",
   "execution_count": 26,
   "metadata": {},
   "outputs": [
    {
     "name": "stdout",
     "output_type": "stream",
     "text": [
      "<class 'NoneType'>\n",
      "None\n",
      "OK\n"
     ]
    }
   ],
   "source": [
    "test = None\n",
    "print(type(test))\n",
    "print(test)\n",
    "if test == None:\n",
    "    print('OK')"
   ]
  },
  {
   "cell_type": "code",
   "execution_count": null,
   "metadata": {},
   "outputs": [],
   "source": []
  },
  {
   "cell_type": "code",
   "execution_count": null,
   "metadata": {},
   "outputs": [],
   "source": []
  },
  {
   "cell_type": "code",
   "execution_count": null,
   "metadata": {},
   "outputs": [],
   "source": []
  },
  {
   "cell_type": "code",
   "execution_count": null,
   "metadata": {},
   "outputs": [],
   "source": []
  },
  {
   "cell_type": "code",
   "execution_count": null,
   "metadata": {},
   "outputs": [],
   "source": []
  }
 ],
 "metadata": {
  "kernelspec": {
   "display_name": "ai",
   "language": "python",
   "name": "ai"
  },
  "language_info": {
   "codemirror_mode": {
    "name": "ipython",
    "version": 3
   },
   "file_extension": ".py",
   "mimetype": "text/x-python",
   "name": "python",
   "nbconvert_exporter": "python",
   "pygments_lexer": "ipython3",
   "version": "3.6.10"
  }
 },
 "nbformat": 4,
 "nbformat_minor": 2
}
