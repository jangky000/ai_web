{
 "cells": [
  {
   "cell_type": "markdown",
   "metadata": {},
   "source": [
    "### List: 값 변경 가능 [ ]"
   ]
  },
  {
   "cell_type": "code",
   "execution_count": 1,
   "metadata": {},
   "outputs": [
    {
     "name": "stdout",
     "output_type": "stream",
     "text": [
      "[['cat', 'bat', 'rat'], [10, 20, 30]]\n",
      "['cat', 'bat', 'rat']\n",
      "cat\n",
      "2\n",
      "3\n",
      "[['cat', 'bat', 'rat'], [10, 20, 30], [1, 2]]\n"
     ]
    }
   ],
   "source": [
    "data = [['cat', 'bat', 'rat'], \n",
    "        [10, 20, 30]]  # 2차원 배열\n",
    "print(data)\n",
    "print(data[0])\n",
    "print(data[0][0])    # cat, 첫번째 행의 첫번째 열\n",
    "print(len(data))     # 행의 수 2\n",
    "print(len(data[0]))  # 열의 수 3\n",
    "data.append([1, 2])  # 배열에 행 추가, 열의 개수가 달라도 상관 없음\n",
    "print(data)          # 행열의 수가 다르고 데이터 타입이 달라도 됨."
   ]
  },
  {
   "cell_type": "code",
   "execution_count": 2,
   "metadata": {},
   "outputs": [
    {
     "name": "stdout",
     "output_type": "stream",
     "text": [
      "[['cat', 'bat', 'rat'], [10, 20, 30], [1, 2], 'A', 'B', 'C']\n",
      "[['cat', 'bat', 'rat'], [10, 20, 30], [1, 2], ['A', 'B', 'C']]\n"
     ]
    }
   ],
   "source": [
    "data2 = data + ['A', 'B', 'C']\n",
    "print(data2) # scala(하나의 값) 방식 결합, 0차원 데이터\n",
    "data2 = data + [['A', 'B', 'C']]\n",
    "# 1차원 데이터 결합, 2차원 리스트에 추가시 2차원 list의 형태로 선언\n",
    "print(data2)"
   ]
  },
  {
   "cell_type": "code",
   "execution_count": 3,
   "metadata": {},
   "outputs": [
    {
     "name": "stdout",
     "output_type": "stream",
     "text": [
      "[1, 2, 3, 1, 2, 3, 1, 2, 3]\n"
     ]
    }
   ],
   "source": [
    "# 리스트 곱셈\n",
    "data = [1,2,3] * 3 # 요소가 반복 생성됨\n",
    "print(data)"
   ]
  },
  {
   "cell_type": "code",
   "execution_count": 4,
   "metadata": {},
   "outputs": [
    {
     "name": "stdout",
     "output_type": "stream",
     "text": [
      "  1  20   3\n"
     ]
    }
   ],
   "source": [
    "# 리스트 값 다중 변수로 받아오기\n",
    "data = [1, 20, 3]\n",
    "a, b, c = data\n",
    "print(\"%3d %3d %3d\" % (a, b, c))"
   ]
  },
  {
   "cell_type": "code",
   "execution_count": 5,
   "metadata": {},
   "outputs": [
    {
     "name": "stdout",
     "output_type": "stream",
     "text": [
      "[100, 1, 20, 3]\n"
     ]
    }
   ],
   "source": [
    "# 특정 인덱스 리스트에 값 저장하기\n",
    "data.insert(0, 100) # 0번 인덱스에 100 추가\n",
    "print(data)"
   ]
  },
  {
   "cell_type": "code",
   "execution_count": 6,
   "metadata": {},
   "outputs": [
    {
     "name": "stdout",
     "output_type": "stream",
     "text": [
      "[100, 150, 20, 3]\n"
     ]
    }
   ],
   "source": [
    "# 특정 인덱스 값 바꾸기\n",
    "data[1] = 150\n",
    "print(data)"
   ]
  },
  {
   "cell_type": "code",
   "execution_count": 7,
   "metadata": {},
   "outputs": [
    {
     "name": "stdout",
     "output_type": "stream",
     "text": [
      "[100, 150, 3]\n"
     ]
    }
   ],
   "source": [
    "# 리스트 특정 값을 지움\n",
    "data.remove(data[2]) # index 2에 해당하는 값 20 삭제 data.remove(20)\n",
    "print(data)"
   ]
  },
  {
   "cell_type": "code",
   "execution_count": 10,
   "metadata": {},
   "outputs": [
    {
     "name": "stdout",
     "output_type": "stream",
     "text": [
      "[100, 150, 200]\n"
     ]
    }
   ],
   "source": [
    "data = [200, 100, 150]\n",
    "data.sort()\n",
    "print(data)\n"
   ]
  },
  {
   "cell_type": "code",
   "execution_count": 11,
   "metadata": {},
   "outputs": [
    {
     "name": "stdout",
     "output_type": "stream",
     "text": [
      "['A', 'Z', 'a', 'z']\n"
     ]
    }
   ],
   "source": [
    "# 사전 기준 정렬\n",
    "data = [\"a\", \"A\", \"z\", \"Z\"]\n",
    "data.sort()  # 문자 코드표 기준\n",
    "print(data)\n"
   ]
  },
  {
   "cell_type": "code",
   "execution_count": 13,
   "metadata": {},
   "outputs": [
    {
     "name": "stdout",
     "output_type": "stream",
     "text": [
      "['a', 'A', 'z', 'Z']\n"
     ]
    }
   ],
   "source": [
    "# 기준 정렬\n",
    "data = [\"a\", \"A\", \"z\", \"Z\"]\n",
    "data.sort(key=str.lower)  # 의미 기준\n",
    "print(data)"
   ]
  },
  {
   "cell_type": "code",
   "execution_count": 12,
   "metadata": {},
   "outputs": [],
   "source": [
    "# 문자 숫자가 섞여 있으면 정렬 불가\n",
    "data = [100, 150, \"a\", \"A\", \"가\", \"나\"]\n",
    "# data.sort() # X"
   ]
  },
  {
   "cell_type": "code",
   "execution_count": 14,
   "metadata": {},
   "outputs": [
    {
     "name": "stdout",
     "output_type": "stream",
     "text": [
      "[3, 0, 1]\n"
     ]
    }
   ],
   "source": [
    "#리스트 추가 append\n",
    "data = [] # 리스트 초기화\n",
    "su1 = 3\n",
    "su2 = 0\n",
    "su3 = 1\n",
    "data.append(su1)\n",
    "data.append(su2)\n",
    "data.append(su3)\n",
    "print(data)"
   ]
  },
  {
   "cell_type": "code",
   "execution_count": 15,
   "metadata": {},
   "outputs": [
    {
     "name": "stdout",
     "output_type": "stream",
     "text": [
      "['3', '0', '1']\n",
      "3,0,1\n"
     ]
    }
   ],
   "source": [
    "data=[]\n",
    "data.append(str(su1)) # 문자열로 형변환\n",
    "data.append(str(su2))\n",
    "data.append(str(su3))\n",
    "print(data)\n",
    "\n",
    "# 리스트 -> 문자열 결합\n",
    "data2 = \",\".join(data)\n",
    "print(data2)"
   ]
  },
  {
   "cell_type": "markdown",
   "metadata": {},
   "source": [
    "### Tuple: 값 변경 불가 ( )"
   ]
  },
  {
   "cell_type": "code",
   "execution_count": 2,
   "metadata": {},
   "outputs": [
    {
     "name": "stdout",
     "output_type": "stream",
     "text": [
      "<class 'tuple'>\n",
      "('hello', 42, 0.5)\n"
     ]
    }
   ],
   "source": [
    "data = ('hello', 42, 0.5) # 값 변경 불가능\n",
    "print(type(data))\n",
    "print(data)"
   ]
  },
  {
   "cell_type": "code",
   "execution_count": 3,
   "metadata": {},
   "outputs": [
    {
     "name": "stdout",
     "output_type": "stream",
     "text": [
      "<class 'str'>\n",
      "<class 'str'>\n",
      "<class 'tuple'>\n",
      "<class 'list'>\n"
     ]
    }
   ],
   "source": [
    "print(type('hello'))    # <class 'str'>\n",
    "print(type(('hello')))  # <class 'str'>\n",
    "print(type(('hello',))) # <class 'tuple'> # 컴마를 찍어야 튜플이 된다.\n",
    "print(type(['hello'])) # <class 'list'>"
   ]
  },
  {
   "cell_type": "code",
   "execution_count": 9,
   "metadata": {},
   "outputs": [
    {
     "ename": "TypeError",
     "evalue": "'tuple' object does not support item assignment",
     "output_type": "error",
     "traceback": [
      "\u001b[1;31m---------------------------------------------------------------------------\u001b[0m",
      "\u001b[1;31mTypeError\u001b[0m                                 Traceback (most recent call last)",
      "\u001b[1;32m<ipython-input-9-9e5235b5ab1f>\u001b[0m in \u001b[0;36m<module>\u001b[1;34m\u001b[0m\n\u001b[1;32m----> 1\u001b[1;33m \u001b[0mdata\u001b[0m\u001b[1;33m[\u001b[0m\u001b[1;36m1\u001b[0m\u001b[1;33m]\u001b[0m \u001b[1;33m=\u001b[0m \u001b[0mstr\u001b[0m\u001b[1;33m(\u001b[0m\u001b[0mdata\u001b[0m\u001b[1;33m[\u001b[0m\u001b[1;36m1\u001b[0m\u001b[1;33m]\u001b[0m\u001b[1;33m)\u001b[0m\u001b[1;33m\u001b[0m\u001b[1;33m\u001b[0m\u001b[0m\n\u001b[0m",
      "\u001b[1;31mTypeError\u001b[0m: 'tuple' object does not support item assignment"
     ]
    }
   ],
   "source": [
    "data[1] = str(data[1])\n",
    "# 'tuple' object does not support item assignment"
   ]
  },
  {
   "cell_type": "code",
   "execution_count": 10,
   "metadata": {},
   "outputs": [
    {
     "name": "stdout",
     "output_type": "stream",
     "text": [
      "['hello', 42, 0.5]\n"
     ]
    }
   ],
   "source": [
    "# data[0] = 'python' # tuple은 새롭게 값을 할당 할수없고 이용만 가능\n",
    "data_list = list(data)  # tuple -> list\n",
    "print(data_list)"
   ]
  },
  {
   "cell_type": "code",
   "execution_count": 11,
   "metadata": {},
   "outputs": [
    {
     "name": "stdout",
     "output_type": "stream",
     "text": [
      "('python', 42, 0.5)\n"
     ]
    }
   ],
   "source": [
    "# 튜플을 리스트로 바꿔서 리스트를 수정한 후 다시 튜플로 저장\n",
    "data_list[0] = 'python'\n",
    "data = tuple(data_list)\n",
    "print(data)"
   ]
  },
  {
   "cell_type": "code",
   "execution_count": 12,
   "metadata": {},
   "outputs": [
    {
     "name": "stdout",
     "output_type": "stream",
     "text": [
      "['p', 'y', 't', 'h', 'o', 'n']\n",
      "('p', 'y', 't', 'h', 'o', 'n')\n"
     ]
    }
   ],
   "source": [
    "data = list('python')\n",
    "print(data)\n",
    "\n",
    "data = tuple('python')\n",
    "print(data)"
   ]
  },
  {
   "cell_type": "markdown",
   "metadata": {},
   "source": [
    "### Dictionary: Key, Value"
   ]
  },
  {
   "cell_type": "code",
   "execution_count": 16,
   "metadata": {},
   "outputs": [
    {
     "name": "stdout",
     "output_type": "stream",
     "text": [
      "{'year': 1, 'score': 10.5, 'season': '여름'}\n",
      "1\n"
     ]
    }
   ],
   "source": [
    "dict1={'year': 1, 'score': 10.5, 'season': '여름'}\n",
    "print(dict1)         # 출력 순서가 다를수 있음**\n",
    "print(dict1['year']) # 키를 사용한 경우"
   ]
  },
  {
   "cell_type": "code",
   "execution_count": 18,
   "metadata": {},
   "outputs": [
    {
     "name": "stdout",
     "output_type": "stream",
     "text": [
      "2019\n",
      "요소의 개수: 3\n"
     ]
    }
   ],
   "source": [
    "dict1['year'] = 2019 # 값의 할당\n",
    "print(dict1['year'])\n",
    "print('요소의 개수:', len(dict1))"
   ]
  },
  {
   "cell_type": "code",
   "execution_count": 20,
   "metadata": {},
   "outputs": [
    {
     "name": "stdout",
     "output_type": "stream",
     "text": [
      "<class 'tuple'>\n"
     ]
    }
   ],
   "source": [
    "src=('year', 1)   \n",
    "print(type(src)) # <class 'tuple'>\n",
    "# 튜플을 딕셔너리로 변환할 수 없다.\n",
    "# dict2 = dict(src) # ERROR: Tuple -> Dictionary "
   ]
  },
  {
   "cell_type": "code",
   "execution_count": 21,
   "metadata": {},
   "outputs": [
    {
     "name": "stdout",
     "output_type": "stream",
     "text": [
      "<class 'dict'>\n",
      "{'year': 1}\n"
     ]
    }
   ],
   "source": [
    "# 리스트 형태로 변환하면, dict으로 변환 시 {year: 1} 형태로 변환 됨\n",
    "src = [('year', 1)]  # list 형태로 선언해야함.\n",
    "dict2 = dict(src)\n",
    "print(type(dict2))\n",
    "print(dict2)"
   ]
  },
  {
   "cell_type": "code",
   "execution_count": 22,
   "metadata": {},
   "outputs": [
    {
     "name": "stdout",
     "output_type": "stream",
     "text": [
      "<class 'dict'>\n",
      "{'year': 1, 'score': 10.5, 'season': '여름'}\n"
     ]
    }
   ],
   "source": [
    "# 여러 튜플을 담은 리스트를 딕셔너리로 변환 -> 튜플은 (1,2)의 형태\n",
    "src = [('year', 1), ('score', 10.5), ('season', '여름')] # list로 선언해야함.\n",
    "dict3 = dict(src)\n",
    "print(type(dict3))\n",
    "print(dict3)"
   ]
  },
  {
   "cell_type": "code",
   "execution_count": 23,
   "metadata": {},
   "outputs": [
    {
     "name": "stdout",
     "output_type": "stream",
     "text": [
      "<class 'dict'>\n",
      "{'year': 1, 'score': 10.5, 'season': '여름'}\n"
     ]
    }
   ],
   "source": [
    "# dictionary 생성\n",
    "dict4 = dict(year=1, score=10.5, season='여름') \n",
    "print(type(dict4))\n",
    "print(dict4)"
   ]
  },
  {
   "cell_type": "code",
   "execution_count": 25,
   "metadata": {},
   "outputs": [
    {
     "name": "stdout",
     "output_type": "stream",
     "text": [
      "봄\n",
      "봄\n",
      "2298047336736\n",
      "2298047336736\n"
     ]
    }
   ],
   "source": [
    "# 메모리 공유\n",
    "dict5 = dict4   # 메모리 공유\n",
    "dict5['season'] = '봄'\n",
    "print(dict4['season'])\n",
    "print(dict5['season'])\n",
    "print(id(dict4))\n",
    "print(id(dict5))"
   ]
  },
  {
   "cell_type": "code",
   "execution_count": 26,
   "metadata": {},
   "outputs": [
    {
     "name": "stdout",
     "output_type": "stream",
     "text": [
      "여름\n",
      "가을\n",
      "2298047336952\n",
      "2298047402848\n"
     ]
    }
   ],
   "source": [
    "# 메모리 공유하지 않음 ->  새로 할당\n",
    "dict4 = dict(year=1, score=10.5, season='여름')\n",
    "dict5 = dict4.copy()  # 내용을 복사하여 새로운 메모리에 할당, deep copy\n",
    "dict5['season'] = '가을'\n",
    "print(dict4['season'])\n",
    "print(dict5['season'])\n",
    "print(id(dict4))\n",
    "print(id(dict5))"
   ]
  },
  {
   "cell_type": "code",
   "execution_count": 27,
   "metadata": {},
   "outputs": [
    {
     "name": "stdout",
     "output_type": "stream",
     "text": [
      "{'year': 1, 'score': 10.5, 'season': '가을', 'pass': True}\n"
     ]
    }
   ],
   "source": [
    "# 딕셔너리 추가\n",
    "dict5['pass'] = True  # 키가 존재하지 않음으로 추가\n",
    "print(dict5)"
   ]
  },
  {
   "cell_type": "code",
   "execution_count": 28,
   "metadata": {},
   "outputs": [
    {
     "name": "stdout",
     "output_type": "stream",
     "text": [
      "{'year': 1, 'score': 10.5, 'pass': True}\n"
     ]
    }
   ],
   "source": [
    "# 딕셔너리 삭제\n",
    "del dict5['season']   # 삭제\n",
    "print(dict5)"
   ]
  },
  {
   "cell_type": "code",
   "execution_count": 29,
   "metadata": {},
   "outputs": [
    {
     "name": "stdout",
     "output_type": "stream",
     "text": [
      "['year', 'score', 'pass']\n",
      "{'year': 1, 'score': 10.5, 'pass': True}\n"
     ]
    }
   ],
   "source": [
    "# 딕셔너리 리스트 변환 시 키만 추출\n",
    "list1 = list(dict5) # Dictionary --> List, 키만 추출됨\n",
    "print(list1)   \n",
    "print(dict5)"
   ]
  },
  {
   "cell_type": "code",
   "execution_count": 30,
   "metadata": {},
   "outputs": [
    {
     "name": "stdout",
     "output_type": "stream",
     "text": [
      "dict_items([('year', 1), ('score', 10.5), ('pass', True)])\n",
      "<class 'dict_items'>\n"
     ]
    }
   ],
   "source": [
    "# dict_items 출력\n",
    "items = dict5.items()\n",
    "print(items)       # list에 tuple이 요소로 출력됨.\n",
    "print(type(items)) # <class 'dict_items'>"
   ]
  },
  {
   "cell_type": "code",
   "execution_count": 31,
   "metadata": {},
   "outputs": [
    {
     "name": "stdout",
     "output_type": "stream",
     "text": [
      "[('year', 1), ('score', 10.5), ('pass', True)]\n",
      "<class 'list'>\n"
     ]
    }
   ],
   "source": [
    "# 리스트 안에 튜플 형식 출력\n",
    "list2 = list(items)\n",
    "print(list2)\n",
    "print(type(list2))"
   ]
  },
  {
   "cell_type": "markdown",
   "metadata": {},
   "source": [
    "### Set: 중복 자동 제거 { }"
   ]
  },
  {
   "cell_type": "code",
   "execution_count": 36,
   "metadata": {},
   "outputs": [
    {
     "data": {
      "text/plain": [
       "set"
      ]
     },
     "execution_count": 36,
     "metadata": {},
     "output_type": "execute_result"
    }
   ],
   "source": [
    "# set 생성\n",
    "c = set()\n",
    "type(c)"
   ]
  },
  {
   "cell_type": "code",
   "execution_count": 37,
   "metadata": {},
   "outputs": [
    {
     "data": {
      "text/plain": [
       "{1, 2, 3, 4, 5}"
      ]
     },
     "execution_count": 37,
     "metadata": {},
     "output_type": "execute_result"
    }
   ],
   "source": [
    "c = set([1,2,3,4,5])\n",
    "c"
   ]
  },
  {
   "cell_type": "code",
   "execution_count": 38,
   "metadata": {},
   "outputs": [
    {
     "data": {
      "text/plain": [
       "{1, 2, 3, 4, 5}"
      ]
     },
     "execution_count": 38,
     "metadata": {},
     "output_type": "execute_result"
    }
   ],
   "source": [
    "# 중복제거\n",
    "c = set([1, 1, 1, 2, 3, 4, 5])\n",
    "c"
   ]
  },
  {
   "cell_type": "code",
   "execution_count": 39,
   "metadata": {},
   "outputs": [
    {
     "data": {
      "text/plain": [
       "{1, 2, 3, 4, 5, 7}"
      ]
     },
     "execution_count": 39,
     "metadata": {},
     "output_type": "execute_result"
    }
   ],
   "source": [
    "# 중복제거, 자동 정렬\n",
    "c = set([7, 1, 1, 1, 2, 3, 4, 5])\n",
    "c"
   ]
  },
  {
   "cell_type": "code",
   "execution_count": 40,
   "metadata": {},
   "outputs": [
    {
     "name": "stdout",
     "output_type": "stream",
     "text": [
      "1\n",
      "2\n",
      "3\n",
      "4\n",
      "5\n",
      "7\n"
     ]
    }
   ],
   "source": [
    "for i in c:\n",
    "    print(i)"
   ]
  },
  {
   "cell_type": "code",
   "execution_count": 41,
   "metadata": {},
   "outputs": [
    {
     "data": {
      "text/plain": [
       "set"
      ]
     },
     "execution_count": 41,
     "metadata": {},
     "output_type": "execute_result"
    }
   ],
   "source": [
    "# 키가 없는 값이 하나 이상 있으면 set으로 인식\n",
    "c = {1}\n",
    "type(c)"
   ]
  },
  {
   "cell_type": "code",
   "execution_count": 42,
   "metadata": {},
   "outputs": [
    {
     "data": {
      "text/plain": [
       "{1, 100}"
      ]
     },
     "execution_count": 42,
     "metadata": {},
     "output_type": "execute_result"
    }
   ],
   "source": [
    "# 값의 형태로 set에 추가\n",
    "c.add(100)\n",
    "c"
   ]
  },
  {
   "cell_type": "code",
   "execution_count": 43,
   "metadata": {},
   "outputs": [
    {
     "data": {
      "text/plain": [
       "{1, 100, 1000}"
      ]
     },
     "execution_count": 43,
     "metadata": {},
     "output_type": "execute_result"
    }
   ],
   "source": [
    "# 리스트의 형태로 set에 추가\n",
    "c.update([1000]) # 데이터의 추가, 중복 제거\n",
    "c"
   ]
  },
  {
   "cell_type": "code",
   "execution_count": 44,
   "metadata": {},
   "outputs": [
    {
     "ename": "TypeError",
     "evalue": "'int' object is not iterable",
     "output_type": "error",
     "traceback": [
      "\u001b[1;31m---------------------------------------------------------------------------\u001b[0m",
      "\u001b[1;31mTypeError\u001b[0m                                 Traceback (most recent call last)",
      "\u001b[1;32m<ipython-input-44-95f38c9b2d0a>\u001b[0m in \u001b[0;36m<module>\u001b[1;34m\u001b[0m\n\u001b[1;32m----> 1\u001b[1;33m \u001b[0mc\u001b[0m\u001b[1;33m.\u001b[0m\u001b[0mupdate\u001b[0m\u001b[1;33m(\u001b[0m\u001b[1;36m2000\u001b[0m\u001b[1;33m)\u001b[0m \u001b[1;31m# 데이터의 추가, 중복 제거\u001b[0m\u001b[1;33m\u001b[0m\u001b[1;33m\u001b[0m\u001b[0m\n\u001b[0m\u001b[0;32m      2\u001b[0m \u001b[0mc\u001b[0m\u001b[1;33m\u001b[0m\u001b[1;33m\u001b[0m\u001b[0m\n",
      "\u001b[1;31mTypeError\u001b[0m: 'int' object is not iterable"
     ]
    }
   ],
   "source": [
    "c.update(2000)\n",
    "c\n",
    "# 'int' object is not iterable"
   ]
  },
  {
   "cell_type": "code",
   "execution_count": 45,
   "metadata": {},
   "outputs": [
    {
     "data": {
      "text/plain": [
       "{1, 100}"
      ]
     },
     "execution_count": 45,
     "metadata": {},
     "output_type": "execute_result"
    }
   ],
   "source": [
    "# set 요소 삭제\n",
    "c.remove(1000)\n",
    "c"
   ]
  },
  {
   "cell_type": "code",
   "execution_count": null,
   "metadata": {},
   "outputs": [],
   "source": []
  },
  {
   "cell_type": "code",
   "execution_count": null,
   "metadata": {},
   "outputs": [],
   "source": []
  },
  {
   "cell_type": "code",
   "execution_count": null,
   "metadata": {},
   "outputs": [],
   "source": []
  },
  {
   "cell_type": "code",
   "execution_count": null,
   "metadata": {},
   "outputs": [],
   "source": []
  },
  {
   "cell_type": "code",
   "execution_count": null,
   "metadata": {},
   "outputs": [],
   "source": []
  },
  {
   "cell_type": "code",
   "execution_count": null,
   "metadata": {},
   "outputs": [],
   "source": []
  },
  {
   "cell_type": "code",
   "execution_count": null,
   "metadata": {},
   "outputs": [],
   "source": []
  },
  {
   "cell_type": "code",
   "execution_count": null,
   "metadata": {},
   "outputs": [],
   "source": []
  },
  {
   "cell_type": "code",
   "execution_count": null,
   "metadata": {},
   "outputs": [],
   "source": []
  },
  {
   "cell_type": "code",
   "execution_count": null,
   "metadata": {},
   "outputs": [],
   "source": []
  }
 ],
 "metadata": {
  "kernelspec": {
   "display_name": "ai",
   "language": "python",
   "name": "ai"
  },
  "language_info": {
   "codemirror_mode": {
    "name": "ipython",
    "version": 3
   },
   "file_extension": ".py",
   "mimetype": "text/x-python",
   "name": "python",
   "nbconvert_exporter": "python",
   "pygments_lexer": "ipython3",
   "version": "3.6.10"
  }
 },
 "nbformat": 4,
 "nbformat_minor": 2
}
