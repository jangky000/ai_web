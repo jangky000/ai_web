{
 "cells": [
  {
   "cell_type": "code",
   "execution_count": 1,
   "metadata": {
    "scrolled": true
   },
   "outputs": [
    {
     "name": "stdout",
     "output_type": "stream",
     "text": [
      "Web Scraping\n",
      "W\n",
      "g\n",
      "We\n",
      "We\n",
      "b Scraping\n",
      "Web Scraping\n"
     ]
    }
   ],
   "source": [
    "title = \"Web Scraping\"\n",
    "#        012345678910\n",
    "#              -3-2-1 \n",
    "print(title)\n",
    "print(title[0])\n",
    "print(title[-1])\n",
    "print(title[0:2]) # 0 ~ end index - 1\n",
    "print(title[:2])  # 0 ~ end index - 1\n",
    "print(title[2:])  # 2 ~ end index\n",
    "print(title[:])   # all"
   ]
  },
  {
   "cell_type": "code",
   "execution_count": 3,
   "metadata": {},
   "outputs": [
    {
     "name": "stdout",
     "output_type": "stream",
     "text": [
      "webweb\n"
     ]
    }
   ],
   "source": [
    "print(\"web\"*2)"
   ]
  },
  {
   "cell_type": "code",
   "execution_count": 2,
   "metadata": {},
   "outputs": [
    {
     "name": "stdout",
     "output_type": "stream",
     "text": [
      "<class 'str'>\n",
      "12\n",
      "1\n",
      "WEB SCRAPING\n",
      "web scraping\n"
     ]
    }
   ],
   "source": [
    "title = \"Web Scraping\"\n",
    "print(type(title))\n",
    "print(len(title))          # 전역 함수 호출\n",
    "print(title.count(\"Web\"))  # str class의 객체의 메소드 호출\n",
    "print(title.upper())\n",
    "print(title.lower())       # TAB을 누르면 메소드 목록이 출력됨."
   ]
  },
  {
   "cell_type": "code",
   "execution_count": 4,
   "metadata": {},
   "outputs": [
    {
     "name": "stdout",
     "output_type": "stream",
     "text": [
      "\n",
      "  Python\n",
      "  Crawling\n",
      "  Analysis\n",
      "\n"
     ]
    }
   ],
   "source": [
    "# 다중 라인 문자열 할당\n",
    "analysis='''\n",
    "  Python\n",
    "  Crawling\n",
    "  Analysis\n",
    "'''\n",
    "\n",
    "print(analysis)"
   ]
  },
  {
   "cell_type": "code",
   "execution_count": null,
   "metadata": {},
   "outputs": [],
   "source": []
  }
 ],
 "metadata": {
  "kernelspec": {
   "display_name": "ai",
   "language": "python",
   "name": "ai"
  },
  "language_info": {
   "codemirror_mode": {
    "name": "ipython",
    "version": 3
   },
   "file_extension": ".py",
   "mimetype": "text/x-python",
   "name": "python",
   "nbconvert_exporter": "python",
   "pygments_lexer": "ipython3",
   "version": "3.6.10"
  }
 },
 "nbformat": 4,
 "nbformat_minor": 2
}
