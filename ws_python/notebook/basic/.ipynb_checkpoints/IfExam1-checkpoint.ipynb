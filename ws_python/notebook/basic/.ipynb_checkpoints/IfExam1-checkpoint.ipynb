{
 "cells": [
  {
   "cell_type": "code",
   "execution_count": null,
   "metadata": {},
   "outputs": [],
   "source": [
    "# console 에서의 입력처리\n",
    "import sys\n",
    "\n",
    "filename = sys.argv[0]\n",
    "print('파일명: ' + filename)\n",
    "# python IfExam1.ipynb  # ERROR\n",
    "# python IfExam1.py 100"
   ]
  },
  {
   "cell_type": "code",
   "execution_count": null,
   "metadata": {},
   "outputs": [],
   "source": [
    "print(type(sys.argv[1]))\n",
    "su = int(sys.argv[1])  # 문자열을 정수로 형변환\n",
    "print('입력수:', su)"
   ]
  },
  {
   "cell_type": "code",
   "execution_count": null,
   "metadata": {},
   "outputs": [],
   "source": [
    "if su % 2 == 0 and su % 3 == 0 and su % 4 == 0:\n",
    "    str1 = '2,3,4의 배수'\n",
    "else:\n",
    "    str1 = '2,3,4의 배수 아님'\n",
    "\n",
    "print(str1)"
   ]
  },
  {
   "cell_type": "code",
   "execution_count": null,
   "metadata": {},
   "outputs": [],
   "source": []
  }
 ],
 "metadata": {
  "kernelspec": {
   "display_name": "ai",
   "language": "python",
   "name": "ai"
  },
  "language_info": {
   "codemirror_mode": {
    "name": "ipython",
    "version": 3
   },
   "file_extension": ".py",
   "mimetype": "text/x-python",
   "name": "python",
   "nbconvert_exporter": "python",
   "pygments_lexer": "ipython3",
   "version": "3.6.10"
  }
 },
 "nbformat": 4,
 "nbformat_minor": 2
}
