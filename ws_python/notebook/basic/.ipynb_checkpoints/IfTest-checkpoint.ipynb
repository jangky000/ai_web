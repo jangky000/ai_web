{
 "cells": [
  {
   "cell_type": "code",
   "execution_count": 3,
   "metadata": {},
   "outputs": [
    {
     "data": {
      "text/plain": [
       "'불합격'"
      ]
     },
     "execution_count": 3,
     "metadata": {},
     "output_type": "execute_result"
    }
   ],
   "source": [
    "# 3항 연산자\n",
    "score = 59\n",
    "'합격' if score >= 60 else '불합격'"
   ]
  },
  {
   "cell_type": "code",
   "execution_count": null,
   "metadata": {},
   "outputs": [],
   "source": [
    "tot = 80\n",
    "if tot >= 80:\n",
    "    print('합격입니다')\n",
    "    print('노트북 지급')\n"
   ]
  },
  {
   "cell_type": "code",
   "execution_count": 5,
   "metadata": {},
   "outputs": [
    {
     "name": "stdout",
     "output_type": "stream",
     "text": [
      "feb\n"
     ]
    }
   ],
   "source": [
    "su = 2\n",
    "if su == 1:\n",
    "    print('jan')\n",
    "elif su == 2:\n",
    "    print('feb')\n",
    "elif su == 3:\n",
    "    print('mar')\n",
    "else:\n",
    "    print('1~3월 입력')"
   ]
  },
  {
   "cell_type": "code",
   "execution_count": null,
   "metadata": {},
   "outputs": [],
   "source": [
    "# 논리연산자 and\n",
    "score = 70\n",
    "str1=''\n",
    "if score >= 90:\n",
    "    str1 = 'A'\n",
    "elif score >= 80 and score <= 89:  # 범위\n",
    "    str1 = 'B'\n",
    "elif score >= 70 and score <= 79:\n",
    "    str1 = 'C'\n",
    "elif score >= 60 and score <= 69:\n",
    "    str1 = 'D'    \n",
    "else:\n",
    "    str = 'F'\n",
    "print('등급: ' + str1)"
   ]
  },
  {
   "cell_type": "code",
   "execution_count": 6,
   "metadata": {},
   "outputs": [
    {
     "name": "stdout",
     "output_type": "stream",
     "text": [
      "겨울입니다.\n"
     ]
    }
   ],
   "source": [
    "# 논리연산자 or\n",
    "month = 12\n",
    "if (month == 12 or month == 1 or month == 2):\n",
    "    print('겨울입니다.')"
   ]
  },
  {
   "cell_type": "code",
   "execution_count": null,
   "metadata": {},
   "outputs": [],
   "source": []
  },
  {
   "cell_type": "code",
   "execution_count": null,
   "metadata": {},
   "outputs": [],
   "source": []
  },
  {
   "cell_type": "code",
   "execution_count": null,
   "metadata": {},
   "outputs": [],
   "source": []
  }
 ],
 "metadata": {
  "kernelspec": {
   "display_name": "ai",
   "language": "python",
   "name": "ai"
  },
  "language_info": {
   "codemirror_mode": {
    "name": "ipython",
    "version": 3
   },
   "file_extension": ".py",
   "mimetype": "text/x-python",
   "name": "python",
   "nbconvert_exporter": "python",
   "pygments_lexer": "ipython3",
   "version": "3.6.10"
  }
 },
 "nbformat": 4,
 "nbformat_minor": 2
}
