{
 "cells": [
  {
   "cell_type": "markdown",
   "metadata": {},
   "source": [
    "### 포털에 접속하여 환율 수집하기"
   ]
  },
  {
   "cell_type": "code",
   "execution_count": 9,
   "metadata": {},
   "outputs": [
    {
     "name": "stdout",
     "output_type": "stream",
     "text": [
      "Collecting requests\n",
      "  Downloading requests-2.23.0-py2.py3-none-any.whl (58 kB)\n",
      "Requirement already satisfied: urllib3!=1.25.0,!=1.25.1,<1.26,>=1.21.1 in c:\\programdata\\anaconda3\\envs\\ai\\lib\\site-packages (from requests) (1.25.9)\n",
      "Requirement already satisfied: certifi>=2017.4.17 in c:\\programdata\\anaconda3\\envs\\ai\\lib\\site-packages (from requests) (2020.4.5.1)\n",
      "Collecting idna<3,>=2.5\n",
      "  Downloading idna-2.9-py2.py3-none-any.whl (58 kB)\n",
      "Collecting chardet<4,>=3.0.2\n",
      "  Downloading chardet-3.0.4-py2.py3-none-any.whl (133 kB)\n",
      "Installing collected packages: idna, chardet, requests\n",
      "Successfully installed chardet-3.0.4 idna-2.9 requests-2.23.0\n"
     ]
    }
   ],
   "source": [
    "!pip install requests # requests 수동 설치"
   ]
  },
  {
   "cell_type": "code",
   "execution_count": 10,
   "metadata": {},
   "outputs": [],
   "source": [
    "from urllib.error import HTTPError # url로 발생하는 http 에러를 예외처리하는 클래스, 404 등\n",
    "from urllib.request import urlopen # 주소 접근\n",
    "from urllib.parse import quote  # 한글 처리 함수\n",
    "from requests import get        # GET 방식 호출 함수\n",
    "import ssl                      # https 접근\n",
    "from bs4 import BeautifulSoup\n",
    "\n",
    "context = ssl._create_unverified_context()"
   ]
  },
  {
   "cell_type": "code",
   "execution_count": 11,
   "metadata": {},
   "outputs": [
    {
     "data": {
      "text/plain": [
       "requests.models.Response"
      ]
     },
     "execution_count": 11,
     "metadata": {},
     "output_type": "execute_result"
    }
   ],
   "source": [
    "# https://search.daum.net/search?w=tot&DA=Z6T&q=달러환율\n",
    "url = \"https://search.daum.net/search?w=tot&DA=Z6T&q=달러환율\"\n",
    "page = get(url)\n",
    "type(page) # requests.models.Response"
   ]
  },
  {
   "cell_type": "code",
   "execution_count": 15,
   "metadata": {},
   "outputs": [
    {
     "name": "stdout",
     "output_type": "stream",
     "text": [
      "b'\\n\\n\\n\\n\\n\\n\\n\\n\\n\\n\\n\\n\\n\\n\\n\\n\\n\\n\\n\\n\\n\\n\\n\\n\\n\\n\\n\\n<!doctype html>\\n<html xmlns=\"http://www.w3.org/1999/xhtml\" lang=\"ko\" class=\"unix unknown \">\\n<head profile=\"http://a9.com/-/spec/opensearch/1.1/\">\\n<meta http-equiv=\"content-Type\" content=\"text/html;charset=utf-8\" />\\n<meta http-equiv=\"X-UA-Compatible\" content=\"IE=edge\" />\\n<meta name=\"autocomplete\" content=\"off\" />\\n\\n<meta name=\"referrer\" content=\"always\">\\n\\n<meta name=\"format-detection\" content=\"telephone=no\" />\\n<meta property=\"og:title\" content=\"\\xeb\\x8b\\xac\\xeb\\x9f\\xac\\xed\\x99\\x98\\xec\\x9c\\xa8 &ndash; Daum'\n",
      "<class 'bytes'>\n"
     ]
    }
   ],
   "source": [
    "print(page.content[:500])\n",
    "print(type(page.content[:500])) # <class 'bytes'>"
   ]
  },
  {
   "cell_type": "code",
   "execution_count": 23,
   "metadata": {},
   "outputs": [
    {
     "name": "stdout",
     "output_type": "stream",
     "text": [
      "\n",
      "<!doctype html>\n",
      "<html xmlns=\"http://www.w3.org/1999/xhtml\" lang=\"ko\" class=\"unix unknown \">\n",
      "<head profile=\"http://a9.com/-/spec/opensearch/1.1/\">\n",
      "<meta http-equiv=\"content-Type\" content=\"text/html;charset=utf-8\" />\n",
      "<meta http-equiv=\"X-UA-Compatible\" content=\"IE=edge\" />\n",
      "<meta name=\"autocomplete\" content=\"off\" />\n",
      "\n",
      "<meta name=\"referrer\" content=\"always\">\n",
      "\n",
      "<meta name=\"format-detection\" content=\"telephone=no\" />\n",
      "<meta property=\"og:title\" content=\"달러환율 &ndash; Daum 검색\" />\n",
      "\n"
     ]
    }
   ],
   "source": [
    "print(str(page.content, 'utf-8')[27:500])"
   ]
  },
  {
   "cell_type": "code",
   "execution_count": 26,
   "metadata": {},
   "outputs": [],
   "source": [
    "from urllib.error import HTTPError # url로 발생하는 http 에러를 예외처리하는 클래스, 404 등\n",
    "\n",
    "# BeautifulSoup 객체로 변환\n",
    "def getbs(url):\n",
    "    try:\n",
    "        html = get(url) # requests.models.Response 타입\n",
    "        html = str(html.content, 'utf-8') # 한글 변환, .content는 Response 타입의 속성\n",
    "        bs = BeautifulSoup(html, 'html.parser') \n",
    "    except HTTPError as e:\n",
    "        # 페이지 url이 없는 경우\n",
    "        print(e)\n",
    "        return None # 처리 종료\n",
    "    else:\n",
    "        # 예외가 발생하지 않았다면\n",
    "        return bs\n",
    "    finally:\n",
    "        print('처리를 종료합니다.')"
   ]
  },
  {
   "cell_type": "code",
   "execution_count": 43,
   "metadata": {},
   "outputs": [
    {
     "name": "stdout",
     "output_type": "stream",
     "text": [
      "처리를 종료합니다.\n",
      "<class 'bs4.BeautifulSoup'>\n",
      "<script type=\"text/javascript\">\n",
      "location.replace( \"http://ncaptcha.search.daum.net/captcha/show?redirect=http%3A%2F%2Fsearch.daum.net%2Fsearch%3Fw%3Dtot%26DA%3DZ6T%26q%3D%25EB%258B%25AC%25EB%259F%25AC%25ED%2599%2598%25EC%259C%25A8\" );\n",
      "</script>\n",
      "\n"
     ]
    }
   ],
   "source": [
    "url = \"https://search.daum.net/search?w=tot&DA=Z6T&q=달러 환율\"\n",
    "bs = getbs(url) # BeautifulSoup 객체로 변환\n",
    "print(type(bs)) # <class 'bs4.BeautifulSoup'>\n",
    "print(str(bs)[:500])"
   ]
  },
  {
   "cell_type": "code",
   "execution_count": 44,
   "metadata": {},
   "outputs": [
    {
     "name": "stdout",
     "output_type": "stream",
     "text": [
      "처리를 종료합니다.\n",
      "환율 1216.0\n"
     ]
    }
   ],
   "source": [
    "# https://search.daum.net/search?w=tot&DA=Z6T&q=달러환율\n",
    "# em.txt_num: em 태그의 txt_num class 검색\n",
    "\n",
    "url = \"https://search.daum.net/search?w=tot&DA=Z6T&q=달러 환율\"\n",
    "bs = getbs(url) # BeautifulSoup 객체로 변환\n",
    "korea = bs.find('em', {'class':'txt_num'}).get_text()\n",
    "print('환율', korea)"
   ]
  },
  {
   "cell_type": "code",
   "execution_count": 45,
   "metadata": {},
   "outputs": [
    {
     "name": "stdout",
     "output_type": "stream",
     "text": [
      "환율 1216.0\n"
     ]
    }
   ],
   "source": [
    "korea = bs.findAll('em', {'class':'txt_num'})[0].get_text()\n",
    "print('환율', korea)"
   ]
  },
  {
   "cell_type": "code",
   "execution_count": 45,
   "metadata": {},
   "outputs": [
    {
     "name": "stdout",
     "output_type": "stream",
     "text": [
      "환율 1216.0\n"
     ]
    }
   ],
   "source": [
    "korea = bs.findAll('em', {'class':'txt_num'})[0].get_text()\n",
    "print('환율', korea)"
   ]
  },
  {
   "cell_type": "code",
   "execution_count": 46,
   "metadata": {},
   "outputs": [
    {
     "name": "stdout",
     "output_type": "stream",
     "text": [
      "[<em class=\"txt_num\">1216.0</em>]\n",
      "<class 'bs4.element.ResultSet'>\n",
      "<em class=\"txt_num\">1216.0</em>\n",
      "1216.0\n"
     ]
    }
   ],
   "source": [
    "print(bs.select('em.txt_num'))\n",
    "print(type(bs.select('em.txt_num'))) # <class 'bs4.element.ResultSet'>\n",
    "print(bs.select('em.txt_num')[0])\n",
    "print(bs.select('em.txt_num')[0].get_text())"
   ]
  },
  {
   "cell_type": "markdown",
   "metadata": {},
   "source": [
    "###  포털에 접속하여 '서울'의 날씨/온도를 가져오는 스크립트를 작성하세요.\n",
    "> 상태가 변경되는 태그의 검색<br>\n",
    "> 상태가 변경되는 태그의 부모태그를 기준으로 크롤링"
   ]
  },
  {
   "cell_type": "code",
   "execution_count": null,
   "metadata": {},
   "outputs": [],
   "source": [
    "from urllib.error import HTTPError # url로 발생하는 http 에러를 예외처리하는 클래스, 404 등\n",
    "from urllib.request import urlopen # 주소 접근\n",
    "from urllib.parse import quote  # 한글 처리 함수\n",
    "from requests import get        # GET 방식 호출 함수\n",
    "import ssl                      # https 접근\n",
    "from bs4 import BeautifulSoup\n",
    "\n",
    "context = ssl._create_unverified_context()"
   ]
  },
  {
   "cell_type": "code",
   "execution_count": 81,
   "metadata": {},
   "outputs": [],
   "source": [
    "# BeautifulSoup 객체로 변환\n",
    "def getbs(url):\n",
    "    try:\n",
    "        html = get(url) # requests.models.Response 타입\n",
    "        html = str(html.content, 'utf-8') # 한글 변환, .content는 Response 타입의 속성\n",
    "        bs = BeautifulSoup(html, 'html.parser') \n",
    "    except HTTPError as e:\n",
    "        # 페이지 url이 없는 경우\n",
    "        print(e)\n",
    "        return None # 처리 종료\n",
    "    else:\n",
    "        # 예외가 발생하지 않았다면\n",
    "        return bs\n",
    "    finally:\n",
    "#         print('처리를 종료합니다.')\n",
    "        pass"
   ]
  },
  {
   "cell_type": "code",
   "execution_count": 50,
   "metadata": {},
   "outputs": [
    {
     "name": "stdout",
     "output_type": "stream",
     "text": [
      "처리를 종료합니다.\n",
      "<!DOCTYPE html>\n",
      "\n",
      "<html class=\"\" lang=\"ko\">\n",
      "<head>\n",
      "<meta charset=\"utf-8\"/>\n",
      "<title>Daum</title>\n",
      "<meta content=\"https://www.daum.net/\" property=\"og:url\"/>\n",
      "<meta content=\"website\" property=\"og:type\"/>\n",
      "<meta content=\"Daum\" property=\"og:title\"/>\n",
      "<meta content=\"//i1.daumcdn.net/svc/image/U03/common_icon/5587C4E4012FCD0001\" property=\"og:image\"/>\n",
      "<meta content=\"나의 관심 콘텐츠를 가장 즐겁게 볼 수 있는 Daum\" property=\"og:description\"/>\n",
      "<meta content=\"name=Daum;action-uri=https://www.daum.net/;icon-uri=/favicon.ico\" name=\n"
     ]
    }
   ],
   "source": [
    "url = \"https://www.daum.net\"\n",
    "bs = getbs(url)\n",
    "print(str(bs)[:500])"
   ]
  },
  {
   "cell_type": "code",
   "execution_count": 57,
   "metadata": {},
   "outputs": [
    {
     "name": "stdout",
     "output_type": "stream",
     "text": [
      "처리를 종료합니다.\n",
      "<class 'bs4.element.Tag'>\n",
      "<ul class=\"list_weather\">\n",
      "<li class=\"\">\n",
      "<span class=\"screen_out\">날씨</span>\n",
      "<span class=\"txt_part\">서울시</span>\n",
      "<strong class=\"ico_ws ico_wm02\">구름조금</strong>\n",
      "<em class=\"screen_out\">영상 27도</em>\n",
      "<span aria-hidden=\"true\" class=\"txt_temper\">27</span><span aria-hidden=\"true\" class=\"img_weather ico_degree\"><span class=\"ir_wa\">°C</span></span>\n",
      "</li>\n",
      "<li class=\"hide\">\n",
      "<span class=\"screen_out\">날씨</span>\n",
      "<span class=\"txt_part\">경기도</span>\n",
      "<strong class=\"ico_ws ico_wm03\">구름많음</strong>\n",
      "<em class=\"screen_out\">영상 27도</em>\n",
      "<span aria-hidden=\"true\" class=\"txt_temper\">27</span><span aria-hidden=\"true\" class=\"img_weather ico_degree\"><span class=\"ir_wa\">°C</span></span>\n",
      "</li>\n",
      "<li class=\"hide\">\n",
      "<span class=\"screen_out\">날씨</span>\n",
      "<span class=\"txt_part\">인천시</span>\n",
      "<strong class=\"ico_ws ico_wm03\">구름많음</strong>\n",
      "<em class=\"screen_out\">영상 26도</em>\n",
      "<span aria-hidden=\"true\" class=\"txt_temper\">26</span><span aria-hidden=\"true\" class=\"img_weather ico_degree\"><span class=\"ir_wa\">°C</span></span>\n",
      "</li>\n",
      "<li class=\"hide\">\n",
      "<span class=\"screen_out\">날씨</span>\n",
      "<span class=\"txt_part\">대구시</span>\n",
      "<strong class=\"ico_ws ico_wm02\">구름조금</strong>\n",
      "<em class=\"screen_out\">영상 30도</em>\n",
      "<span aria-hidden=\"true\" class=\"txt_temper\">30</span><span aria-hidden=\"true\" class=\"img_weather ico_degree\"><span class=\"ir_wa\">°C</span></span>\n",
      "</li>\n",
      "<li class=\"hide\">\n",
      "<span class=\"screen_out\">날씨</span>\n",
      "<span class=\"txt_part\">대전시</span>\n",
      "<strong class=\"ico_ws ico_wm03\">구름많음</strong>\n",
      "<em class=\"screen_out\">영상 29도</em>\n",
      "<span aria-hidden=\"true\" class=\"txt_temper\">29</span><span aria-hidden=\"true\" class=\"img_weather ico_degree\"><span class=\"ir_wa\">°C</span></span>\n",
      "</li>\n",
      "<li class=\"hide\">\n",
      "<span class=\"screen_out\">날씨</span>\n",
      "<span class=\"txt_part\">광주시</span>\n",
      "<strong class=\"ico_ws ico_wm01\">맑음</strong>\n",
      "<em class=\"screen_out\">영상 29도</em>\n",
      "<span aria-hidden=\"true\" class=\"txt_temper\">29</span><span aria-hidden=\"true\" class=\"img_weather ico_degree\"><span class=\"ir_wa\">°C</span></span>\n",
      "</li>\n",
      "<li class=\"hide\">\n",
      "<span class=\"screen_out\">날씨</span>\n",
      "<span class=\"txt_part\">부산시</span>\n",
      "<strong class=\"ico_ws ico_wm01\">맑음</strong>\n",
      "<em class=\"screen_out\">영상 30도</em>\n",
      "<span aria-hidden=\"true\" class=\"txt_temper\">30</span><span aria-hidden=\"true\" class=\"img_weather ico_degree\"><span class=\"ir_wa\">°C</span></span>\n",
      "</li>\n",
      "<li class=\"hide\">\n",
      "<span class=\"screen_out\">날씨</span>\n",
      "<span class=\"txt_part\">울산시</span>\n",
      "<strong class=\"ico_ws ico_wm02\">구름조금</strong>\n",
      "<em class=\"screen_out\">영상 30도</em>\n",
      "<span aria-hidden=\"true\" class=\"txt_temper\">30</span><span aria-hidden=\"true\" class=\"img_weather ico_degree\"><span class=\"ir_wa\">°C</span></span>\n",
      "</li>\n",
      "<li class=\"hide\">\n",
      "<span class=\"screen_out\">날씨</span>\n",
      "<span class=\"txt_part\">경상북도</span>\n",
      "<strong class=\"ico_ws ico_wm03\">구름많음</strong>\n",
      "<em class=\"screen_out\">영상 29도</em>\n",
      "<span aria-hidden=\"true\" class=\"txt_temper\">29</span><span aria-hidden=\"true\" class=\"img_weather ico_degree\"><span class=\"ir_wa\">°C</span></span>\n",
      "</li>\n",
      "<li class=\"hide\">\n",
      "<span class=\"screen_out\">날씨</span>\n",
      "<span class=\"txt_part\">강원도</span>\n",
      "<strong class=\"ico_ws ico_wm02\">구름조금</strong>\n",
      "<em class=\"screen_out\">영상 31도</em>\n",
      "<span aria-hidden=\"true\" class=\"txt_temper\">31</span><span aria-hidden=\"true\" class=\"img_weather ico_degree\"><span class=\"ir_wa\">°C</span></span>\n",
      "</li>\n",
      "<li class=\"hide\">\n",
      "<span class=\"screen_out\">날씨</span>\n",
      "<span class=\"txt_part\">강원도</span>\n",
      "<strong class=\"ico_ws ico_wm02\">구름조금</strong>\n",
      "<em class=\"screen_out\">영상 31도</em>\n",
      "<span aria-hidden=\"true\" class=\"txt_temper\">31</span><span aria-hidden=\"true\" class=\"img_weather ico_degree\"><span class=\"ir_wa\">°C</span></span>\n",
      "</li>\n",
      "<li class=\"hide\">\n",
      "<span class=\"screen_out\">날씨</span>\n",
      "<span class=\"txt_part\">인천시</span>\n",
      "<strong class=\"ico_ws ico_wm03\">구름많음</strong>\n",
      "<em class=\"screen_out\">영상 25도</em>\n",
      "<span aria-hidden=\"true\" class=\"txt_temper\">25</span><span aria-hidden=\"true\" class=\"img_weather ico_degree\"><span class=\"ir_wa\">°C</span></span>\n",
      "</li>\n",
      "<li class=\"hide\">\n",
      "<span class=\"screen_out\">날씨</span>\n",
      "<span class=\"txt_part\">충청북도</span>\n",
      "<strong class=\"ico_ws ico_wm03\">구름많음</strong>\n",
      "<em class=\"screen_out\">영상 28도</em>\n",
      "<span aria-hidden=\"true\" class=\"txt_temper\">28</span><span aria-hidden=\"true\" class=\"img_weather ico_degree\"><span class=\"ir_wa\">°C</span></span>\n",
      "</li>\n",
      "<li class=\"hide\">\n",
      "<span class=\"screen_out\">날씨</span>\n",
      "<span class=\"txt_part\">전라북도</span>\n",
      "<strong class=\"ico_ws ico_wm02\">구름조금</strong>\n",
      "<em class=\"screen_out\">영상 28도</em>\n",
      "<span aria-hidden=\"true\" class=\"txt_temper\">28</span><span aria-hidden=\"true\" class=\"img_weather ico_degree\"><span class=\"ir_wa\">°C</span></span>\n",
      "</li>\n",
      "<li class=\"hide\">\n",
      "<span class=\"screen_out\">날씨</span>\n",
      "<span class=\"txt_part\">전라남도</span>\n",
      "<strong class=\"ico_ws ico_wm02\">구름조금</strong>\n",
      "<em class=\"screen_out\">영상 25도</em>\n",
      "<span aria-hidden=\"true\" class=\"txt_temper\">25</span><span aria-hidden=\"true\" class=\"img_weather ico_degree\"><span class=\"ir_wa\">°C</span></span>\n",
      "</li>\n",
      "<li class=\"hide\">\n",
      "<span class=\"screen_out\">날씨</span>\n",
      "<span class=\"txt_part\">전라남도</span>\n",
      "<strong class=\"ico_ws ico_wm01\">맑음</strong>\n",
      "<em class=\"screen_out\">영상 26도</em>\n",
      "<span aria-hidden=\"true\" class=\"txt_temper\">26</span><span aria-hidden=\"true\" class=\"img_weather ico_degree\"><span class=\"ir_wa\">°C</span></span>\n",
      "</li>\n",
      "<li class=\"hide\">\n",
      "<span class=\"screen_out\">날씨</span>\n",
      "<span class=\"txt_part\">제주자치도</span>\n",
      "<strong class=\"ico_ws ico_wm03\">구름많음</strong>\n",
      "<em class=\"screen_out\">영상 24도</em>\n",
      "<span aria-hidden=\"true\" class=\"txt_temper\">24</span><span aria-hidden=\"true\" class=\"img_weather ico_degree\"><span class=\"ir_wa\">°C</span></span>\n",
      "</li>\n",
      "<li class=\"hide\">\n",
      "<span class=\"screen_out\">날씨</span>\n",
      "<span class=\"txt_part\">경상북도</span>\n",
      "<strong class=\"ico_ws ico_wm03\">구름많음</strong>\n",
      "<em class=\"screen_out\">영상 29도</em>\n",
      "<span aria-hidden=\"true\" class=\"txt_temper\">29</span><span aria-hidden=\"true\" class=\"img_weather ico_degree\"><span class=\"ir_wa\">°C</span></span>\n",
      "</li>\n",
      "<li class=\"hide\">\n",
      "<span class=\"screen_out\">날씨</span>\n",
      "<span class=\"txt_part\">경상남도</span>\n",
      "<strong class=\"ico_ws ico_wm01\">맑음</strong>\n",
      "<em class=\"screen_out\">영상 31도</em>\n",
      "<span aria-hidden=\"true\" class=\"txt_temper\">31</span><span aria-hidden=\"true\" class=\"img_weather ico_degree\"><span class=\"ir_wa\">°C</span></span>\n",
      "</li>\n",
      "</ul>\n"
     ]
    }
   ],
   "source": [
    "# https://www.daum.net\n",
    "# ul.list_weather\n",
    "\n",
    "url = \"https://www.daum.net\"\n",
    "bs = getbs(url) # BeautifulSoup 객체로 변환\n",
    "weather = bs.find('ul', {'class':'list_weather'})\n",
    "print(type(weather)) # <class 'bs4.element.Tag'> 태그 타입\n",
    "print(weather) # get_text()는 되고 string은 안됨"
   ]
  },
  {
   "cell_type": "code",
   "execution_count": 58,
   "metadata": {},
   "outputs": [
    {
     "name": "stdout",
     "output_type": "stream",
     "text": [
      "<li class=\"\">\n",
      "<span class=\"screen_out\">날씨</span>\n",
      "<span class=\"txt_part\">서울시</span>\n",
      "<strong class=\"ico_ws ico_wm02\">구름조금</strong>\n",
      "<em class=\"screen_out\">영상 27도</em>\n",
      "<span aria-hidden=\"true\" class=\"txt_temper\">27</span><span aria-hidden=\"true\" class=\"img_weather ico_degree\"><span class=\"ir_wa\">°C</span></span>\n",
      "</li>\n"
     ]
    }
   ],
   "source": [
    "# find의 장점 -> find() 함수는 연쇄 호출이 가능함\n",
    "weather = bs.find('ul', {'class':'list_weather'}).findAll('li')\n",
    "print(weather[0])"
   ]
  },
  {
   "cell_type": "code",
   "execution_count": 63,
   "metadata": {},
   "outputs": [
    {
     "name": "stdout",
     "output_type": "stream",
     "text": [
      "<class 'bs4.element.Tag'>\n",
      "서울시\n",
      "날씨:  구름조금\n",
      "온도:  영상 27도\n"
     ]
    }
   ],
   "source": [
    "seoul = weather[0]\n",
    "print(type(seoul)) # <class 'bs4.element.Tag'> 태그 타입\n",
    "area = seoul.find('span', {'class': 'txt_part'}).get_text()\n",
    "wea = seoul.find('strong', {'class': 'ico_ws ico_wm02'}).get_text()\n",
    "temp = seoul.find('em', {'class': 'screen_out'}).get_text()\n",
    "print(area)\n",
    "print('날씨: ', wea)\n",
    "print('온도: ', temp)"
   ]
  },
  {
   "cell_type": "code",
   "execution_count": 65,
   "metadata": {},
   "outputs": [
    {
     "name": "stdout",
     "output_type": "stream",
     "text": [
      "[<li class=\"\">\n",
      "<span class=\"screen_out\">날씨</span>\n",
      "<span class=\"txt_part\">서울시</span>\n",
      "<strong class=\"ico_ws ico_wm02\">구름조금</strong>\n",
      "<em class=\"screen_out\">영상 27도</em>\n",
      "<span aria-hidden=\"true\" class=\"txt_temper\">27</span><span aria-hidden=\"true\" class=\"img_weather ico_degree\"><span class=\"ir_wa\">°C</span></span>\n",
      "</li>, <li class=\"hide\">\n",
      "<span class=\"screen_out\">날씨</span>\n",
      "<span class=\"txt_part\">경기도</span>\n",
      "<strong class=\"ico_ws ico_wm03\">구름많음</strong>\n",
      "<em class=\"screen_out\">영상 27도</em>\n",
      "<span aria-hidden=\"true\" class=\"txt_temper\">27</span><span aria-hidden=\"true\" class=\"img_weather ico_degree\"><span class=\"ir_wa\">°C</span></span>\n",
      "</li>, <li class=\"hide\">\n",
      "<span class=\"screen_out\">날씨</span>\n",
      "<span class=\"txt_part\">인천시</span>\n",
      "<strong class=\"ico_ws ico_wm03\">구름많음</strong>\n",
      "<em class=\"screen_out\">영상 26도</em>\n",
      "<span aria-hidden=\"true\" class=\"txt_temper\">26</span><span aria-hidden=\"true\" class=\"img_weather ico_degree\"><span class=\"ir_wa\">°C</span></span>\n",
      "</li>, <li class=\"hide\">\n",
      "<span class=\"screen_out\">날씨</span>\n",
      "<span class=\"txt_part\">대구시</span>\n",
      "<strong class=\"ico_ws ico_wm02\">구름조금</strong>\n",
      "<em class=\"screen_out\">영상 30도</em>\n",
      "<span aria-hidden=\"true\" class=\"txt_temper\">30</span><span aria-hidden=\"true\" class=\"img_weather ico_degree\"><span class=\"ir_wa\">°C</span></span>\n",
      "</li>, <li class=\"hide\">\n",
      "<span class=\"screen_out\">날씨</span>\n",
      "<span class=\"txt_part\">대전시</span>\n",
      "<strong class=\"ico_ws ico_wm03\">구름많음</strong>\n",
      "<em class=\"screen_out\">영상 29도</em>\n",
      "<span aria-hidden=\"true\" class=\"txt_temper\">29</span><span aria-hidden=\"true\" class=\"img_weather ico_degree\"><span class=\"ir_wa\">°C</span></span>\n",
      "</li>, <li class=\"hide\">\n",
      "<span class=\"screen_out\">날씨</span>\n",
      "<span class=\"txt_part\">광주시</span>\n",
      "<strong class=\"ico_ws ico_wm01\">맑음</strong>\n",
      "<em class=\"screen_out\">영상 29도</em>\n",
      "<span aria-hidden=\"true\" class=\"txt_temper\">29</span><span aria-hidden=\"true\" class=\"img_weather ico_degree\"><span class=\"ir_wa\">°C</span></span>\n",
      "</li>, <li class=\"hide\">\n",
      "<span class=\"screen_out\">날씨</span>\n",
      "<span class=\"txt_part\">부산시</span>\n",
      "<strong class=\"ico_ws ico_wm01\">맑음</strong>\n",
      "<em class=\"screen_out\">영상 30도</em>\n",
      "<span aria-hidden=\"true\" class=\"txt_temper\">30</span><span aria-hidden=\"true\" class=\"img_weather ico_degree\"><span class=\"ir_wa\">°C</span></span>\n",
      "</li>, <li class=\"hide\">\n",
      "<span class=\"screen_out\">날씨</span>\n",
      "<span class=\"txt_part\">울산시</span>\n",
      "<strong class=\"ico_ws ico_wm02\">구름조금</strong>\n",
      "<em class=\"screen_out\">영상 30도</em>\n",
      "<span aria-hidden=\"true\" class=\"txt_temper\">30</span><span aria-hidden=\"true\" class=\"img_weather ico_degree\"><span class=\"ir_wa\">°C</span></span>\n",
      "</li>, <li class=\"hide\">\n",
      "<span class=\"screen_out\">날씨</span>\n",
      "<span class=\"txt_part\">경상북도</span>\n",
      "<strong class=\"ico_ws ico_wm03\">구름많음</strong>\n",
      "<em class=\"screen_out\">영상 29도</em>\n",
      "<span aria-hidden=\"true\" class=\"txt_temper\">29</span><span aria-hidden=\"true\" class=\"img_weather ico_degree\"><span class=\"ir_wa\">°C</span></span>\n",
      "</li>, <li class=\"hide\">\n",
      "<span class=\"screen_out\">날씨</span>\n",
      "<span class=\"txt_part\">강원도</span>\n",
      "<strong class=\"ico_ws ico_wm02\">구름조금</strong>\n",
      "<em class=\"screen_out\">영상 31도</em>\n",
      "<span aria-hidden=\"true\" class=\"txt_temper\">31</span><span aria-hidden=\"true\" class=\"img_weather ico_degree\"><span class=\"ir_wa\">°C</span></span>\n",
      "</li>, <li class=\"hide\">\n",
      "<span class=\"screen_out\">날씨</span>\n",
      "<span class=\"txt_part\">강원도</span>\n",
      "<strong class=\"ico_ws ico_wm02\">구름조금</strong>\n",
      "<em class=\"screen_out\">영상 31도</em>\n",
      "<span aria-hidden=\"true\" class=\"txt_temper\">31</span><span aria-hidden=\"true\" class=\"img_weather ico_degree\"><span class=\"ir_wa\">°C</span></span>\n",
      "</li>, <li class=\"hide\">\n",
      "<span class=\"screen_out\">날씨</span>\n",
      "<span class=\"txt_part\">인천시</span>\n",
      "<strong class=\"ico_ws ico_wm03\">구름많음</strong>\n",
      "<em class=\"screen_out\">영상 25도</em>\n",
      "<span aria-hidden=\"true\" class=\"txt_temper\">25</span><span aria-hidden=\"true\" class=\"img_weather ico_degree\"><span class=\"ir_wa\">°C</span></span>\n",
      "</li>, <li class=\"hide\">\n",
      "<span class=\"screen_out\">날씨</span>\n",
      "<span class=\"txt_part\">충청북도</span>\n",
      "<strong class=\"ico_ws ico_wm03\">구름많음</strong>\n",
      "<em class=\"screen_out\">영상 28도</em>\n",
      "<span aria-hidden=\"true\" class=\"txt_temper\">28</span><span aria-hidden=\"true\" class=\"img_weather ico_degree\"><span class=\"ir_wa\">°C</span></span>\n",
      "</li>, <li class=\"hide\">\n",
      "<span class=\"screen_out\">날씨</span>\n",
      "<span class=\"txt_part\">전라북도</span>\n",
      "<strong class=\"ico_ws ico_wm02\">구름조금</strong>\n",
      "<em class=\"screen_out\">영상 28도</em>\n",
      "<span aria-hidden=\"true\" class=\"txt_temper\">28</span><span aria-hidden=\"true\" class=\"img_weather ico_degree\"><span class=\"ir_wa\">°C</span></span>\n",
      "</li>, <li class=\"hide\">\n",
      "<span class=\"screen_out\">날씨</span>\n",
      "<span class=\"txt_part\">전라남도</span>\n",
      "<strong class=\"ico_ws ico_wm02\">구름조금</strong>\n",
      "<em class=\"screen_out\">영상 25도</em>\n",
      "<span aria-hidden=\"true\" class=\"txt_temper\">25</span><span aria-hidden=\"true\" class=\"img_weather ico_degree\"><span class=\"ir_wa\">°C</span></span>\n",
      "</li>, <li class=\"hide\">\n",
      "<span class=\"screen_out\">날씨</span>\n",
      "<span class=\"txt_part\">전라남도</span>\n",
      "<strong class=\"ico_ws ico_wm01\">맑음</strong>\n",
      "<em class=\"screen_out\">영상 26도</em>\n",
      "<span aria-hidden=\"true\" class=\"txt_temper\">26</span><span aria-hidden=\"true\" class=\"img_weather ico_degree\"><span class=\"ir_wa\">°C</span></span>\n",
      "</li>, <li class=\"hide\">\n",
      "<span class=\"screen_out\">날씨</span>\n",
      "<span class=\"txt_part\">제주자치도</span>\n",
      "<strong class=\"ico_ws ico_wm03\">구름많음</strong>\n",
      "<em class=\"screen_out\">영상 24도</em>\n",
      "<span aria-hidden=\"true\" class=\"txt_temper\">24</span><span aria-hidden=\"true\" class=\"img_weather ico_degree\"><span class=\"ir_wa\">°C</span></span>\n",
      "</li>, <li class=\"hide\">\n",
      "<span class=\"screen_out\">날씨</span>\n",
      "<span class=\"txt_part\">경상북도</span>\n",
      "<strong class=\"ico_ws ico_wm03\">구름많음</strong>\n",
      "<em class=\"screen_out\">영상 29도</em>\n",
      "<span aria-hidden=\"true\" class=\"txt_temper\">29</span><span aria-hidden=\"true\" class=\"img_weather ico_degree\"><span class=\"ir_wa\">°C</span></span>\n",
      "</li>, <li class=\"hide\">\n",
      "<span class=\"screen_out\">날씨</span>\n",
      "<span class=\"txt_part\">경상남도</span>\n",
      "<strong class=\"ico_ws ico_wm01\">맑음</strong>\n",
      "<em class=\"screen_out\">영상 31도</em>\n",
      "<span aria-hidden=\"true\" class=\"txt_temper\">31</span><span aria-hidden=\"true\" class=\"img_weather ico_degree\"><span class=\"ir_wa\">°C</span></span>\n",
      "</li>]\n"
     ]
    }
   ],
   "source": [
    "# 크롬에서 제공하는 selector 찾기\n",
    "# 크롬 -> copy -> selector minitoday > ul > li\n",
    "today = bs.select('#minitoday > ul > li')\n",
    "print(today)"
   ]
  },
  {
   "cell_type": "code",
   "execution_count": 66,
   "metadata": {},
   "outputs": [
    {
     "name": "stdout",
     "output_type": "stream",
     "text": [
      "[<li class=\"\">\n",
      "<span class=\"screen_out\">날씨</span>\n",
      "<span class=\"txt_part\">서울시</span>\n",
      "<strong class=\"ico_ws ico_wm02\">구름조금</strong>\n",
      "<em class=\"screen_out\">영상 27도</em>\n",
      "<span aria-hidden=\"true\" class=\"txt_temper\">27</span><span aria-hidden=\"true\" class=\"img_weather ico_degree\"><span class=\"ir_wa\">°C</span></span>\n",
      "</li>]\n"
     ]
    }
   ],
   "source": [
    "# #minitoday > ul > li:nth-child(1): li 태그 중 첫번째 자식태그\n",
    "today = bs.select('#minitoday > ul > li:nth-child(1)')\n",
    "print(today)"
   ]
  },
  {
   "cell_type": "code",
   "execution_count": 71,
   "metadata": {},
   "outputs": [
    {
     "name": "stdout",
     "output_type": "stream",
     "text": [
      "서울시\n",
      "날씨:  구름조금\n",
      "온도:  영상 27도\n"
     ]
    }
   ],
   "source": [
    "# select는 항상 배열형태의 ResultSet을 리턴\n",
    "area = bs.select('#minitoday > ul > li:nth-child(1) > span.txt_part')\n",
    "wea = bs.select('#minitoday > ul > li:nth-child(1) > strong')\n",
    "temp = bs.select('#minitoday > ul > li:nth-child(1) > em')\n",
    "type(area) # bs4.element.ResultSet\n",
    "print(area[0].get_text())\n",
    "print('날씨: ', wea[0].get_text())\n",
    "print('온도: ', temp[0].get_text())"
   ]
  },
  {
   "cell_type": "code",
   "execution_count": 78,
   "metadata": {},
   "outputs": [
    {
     "name": "stdout",
     "output_type": "stream",
     "text": [
      "<class 'bs4.element.ResultSet'>\n",
      "19\n",
      "서울시\n",
      "날씨:  구름조금\n",
      "온도:  영상 27도\n",
      "----------------\n",
      "서울시\n",
      "날씨:  구름조금\n",
      "온도:  영상 27도\n",
      "----------------\n",
      "서울시\n",
      "날씨:  구름조금\n",
      "온도:  영상 27도\n",
      "----------------\n",
      "서울시\n",
      "날씨:  구름조금\n",
      "온도:  영상 27도\n",
      "----------------\n",
      "서울시\n",
      "날씨:  구름조금\n",
      "온도:  영상 27도\n",
      "----------------\n",
      "서울시\n",
      "날씨:  구름조금\n",
      "온도:  영상 27도\n",
      "----------------\n",
      "서울시\n",
      "날씨:  구름조금\n",
      "온도:  영상 27도\n",
      "----------------\n",
      "서울시\n",
      "날씨:  구름조금\n",
      "온도:  영상 27도\n",
      "----------------\n",
      "서울시\n",
      "날씨:  구름조금\n",
      "온도:  영상 27도\n",
      "----------------\n",
      "서울시\n",
      "날씨:  구름조금\n",
      "온도:  영상 27도\n",
      "----------------\n",
      "서울시\n",
      "날씨:  구름조금\n",
      "온도:  영상 27도\n",
      "----------------\n",
      "서울시\n",
      "날씨:  구름조금\n",
      "온도:  영상 27도\n",
      "----------------\n",
      "서울시\n",
      "날씨:  구름조금\n",
      "온도:  영상 27도\n",
      "----------------\n",
      "서울시\n",
      "날씨:  구름조금\n",
      "온도:  영상 27도\n",
      "----------------\n",
      "서울시\n",
      "날씨:  구름조금\n",
      "온도:  영상 27도\n",
      "----------------\n",
      "서울시\n",
      "날씨:  구름조금\n",
      "온도:  영상 27도\n",
      "----------------\n",
      "서울시\n",
      "날씨:  구름조금\n",
      "온도:  영상 27도\n",
      "----------------\n",
      "서울시\n",
      "날씨:  구름조금\n",
      "온도:  영상 27도\n",
      "----------------\n",
      "서울시\n",
      "날씨:  구름조금\n",
      "온도:  영상 27도\n",
      "----------------\n"
     ]
    }
   ],
   "source": [
    "# select는 항상 배열형태의 ResultSet을 리턴\n",
    "today = bs.select('#minitoday > ul > li')\n",
    "\n",
    "print(type(today)) # ResultSet\n",
    "print(len(today)) # 19개 지역\n",
    "\n",
    "for tag in today:\n",
    "    area = seoul.find('span', {'class': 'txt_part'}).get_text()\n",
    "    wea = seoul.find('strong', {'class': 'ico_ws'}).get_text()\n",
    "    temp = seoul.find('em', {'class': 'screen_out'}).get_text()\n",
    "    print(area)\n",
    "    print('날씨: ', wea)\n",
    "    print('온도: ', temp)\n",
    "    print('----------------')"
   ]
  },
  {
   "cell_type": "markdown",
   "metadata": {},
   "source": [
    "### [03] 'http://www.daum.net -> 뉴스 -> 랭킹 -> 많이 본 -> 종합' 페이지에 접속하여 50개 뉴스의 제목을 가져오는 스크립트를 작성하세요.\n",
    "> http://media.daum.net/ranking/popular"
   ]
  },
  {
   "cell_type": "code",
   "execution_count": 82,
   "metadata": {},
   "outputs": [
    {
     "name": "stdout",
     "output_type": "stream",
     "text": [
      "<a class=\"link_txt\" href=\"http://v.media.daum.net/v/20200615141833982\">[단독] 집안 벽 뜯으니 '폐기물'이 잔뜩..인테리어 하다 '날벼락'</a>\n"
     ]
    }
   ],
   "source": [
    "# http://media.daum.net/ranking/popular\n",
    "bs = getbs('http://media.daum.net/ranking/popular')\n",
    "tags = bs.select('#mArticle > div.rank_news > ul.list_news2 > li:nth-child(1) > div.cont_thumb > strong > a')\n",
    "print(tags[0])"
   ]
  },
  {
   "cell_type": "code",
   "execution_count": 90,
   "metadata": {},
   "outputs": [],
   "source": [
    "# 부모 > li\n",
    "# #mArticle > div.rank_news > ul.list_news2: 부모\n",
    "tags = bs.select('#mArticle > div.rank_news > ul.list_news2 > li')\n",
    "# print(tags)"
   ]
  },
  {
   "cell_type": "code",
   "execution_count": 89,
   "metadata": {},
   "outputs": [
    {
     "name": "stdout",
     "output_type": "stream",
     "text": [
      "[단독] 집안 벽 뜯으니 '폐기물'이 잔뜩..인테리어 하다 '날벼락'\n",
      "\"한국은 우리를 잊지 않았다\"..22개국 참전용사 울린 한국 마스크\n",
      "\"네 집일 리가 없잖아\" 인종차별한 화장품회사 CEO 사과\n",
      "신축 아파트값 웃도는 6억원짜리 의정부 '호화 화장실' 논란\n",
      "코스피 4.76% 급락, 코스닥 7.09% 폭락..개인 1.2조 순매수\n",
      "결혼식 가던 길에 교통사고 조치한 경찰관..2차 사고 예방\n",
      "\"지금이 수확 철인데\"..178mm 폭우 피해 완주 수박 농가 '허탈'\n",
      "치악산이 앓고 있다\n",
      "배달 오토바이가 만든 '모세의 기적'..구급차 진로 확보\n",
      "공군, '병사 황제복무' 수사 전환..공군총장 \"엄중 처벌할 것\"\n",
      "\"아빠가 살인 전과자\" 일가족 사망사건 유포자는 동료 경찰\n",
      "공적마스크 1인 10매 확대 검토..정부 \"비말마스크 늘릴 것\"\n",
      "\"허벅지 만지고, 오빠라고 부르라 요구\".. 서울시 유관기관 인권침해 천태만상\n",
      "하락장에 베팅하는 개미..'곱버스' 매집\n",
      "초라한 재난지원금 기부 성적표..목표액의 1%에 불과한 282억(종합)\n",
      "대북전단 살포 '신출귀몰' 경찰 골머리..파주서 '아지트' 발견\n",
      "나이스 임원 아들 '황제 복무' 의혹..금수저들 논란 되풀이\n",
      "\"한 학기에 과제 43개..자습만 하다 기말시험\" 대학생 분통\n",
      "여객기서 17명 코로나 무더기 양성..중국, 첫 운행중단 제재\n",
      "국회, 6개 상임위원장 선출 표결키로..통합당 반발\n",
      "'개훌륭' 강형욱, 전기충격 짖음방지기 등장에 충격[오늘TV]\n",
      "로이킴, 짧은 머리로 거수경례..오늘(15일) 조용히 해병대 입대 (종합)\n",
      "\"조영남을 화가로 인정하면 대한민국 예술계 대혼란\"\n",
      "'삼시' 여지없이 적중한 나영석의 노림수, 의심은 어리석었다\n",
      "제주 이호해수욕장 해상서 40대 여성 숨진채 발견(종합)\n",
      "이재명 허위사실공표죄 \"파기 vs 확정\"..전원합의체 결론은?\n",
      "원구성 위한 본회의 오후 6시..일부 상임위만 선출할 듯\n",
      "회색 모자 푹 눌러쓴 창녕 계부 \"내 딸.. 많이 사랑한다\"\n",
      "김종인 \"與 상임위 독점 차라리 놔두자\"..주호영 \"헌정사 오점\"\n",
      "바다경관 명소 불법 야영 '신음'..과태료 부과에 '못 낸다' 배짱\n",
      "권미진 \"몸무게 앞자리 '4'로 만들어 볼 것..마흔파이브 정말 대단해\"(인터뷰) [단독]\n",
      "'부럽지' 이두희♥지숙, 전세계약 만료→결혼 언급→급냉\n",
      "전기료 부풀려 6천700만원 횡령한 아파트관리소 직원 집유\n",
      "日지자체에 마스크 100만개 기부한 조선족 학자 김문학\n",
      "통합당 \"北에 강력한 입장 밝혀야..文대통령 폄훼 말라\"(종합)\n",
      "고기 산 김태균, 훈련 데려간 이용규..한화 살린 후배 사랑 [오!쎈 대전]\n",
      "인도네시아 남성, 4m 악어와 23년째 교감..\"자식 같은 존재\"\n",
      "美연구진 \"코로나 우한 사망자, 中발표의 14배..3만6천명 추정\"\n",
      "부산 신규 확진자, 현재까지 접촉자 3명 확인..추가 조사 중\n",
      "[진중권 인터뷰] \"창피한 줄 모르는 민주당, 나라 과거로 돌려놓고 있다\"\n",
      "文대통령 \"北, 대결 시대로 되돌려선 안돼..함께 돌파구 찾자\"(종합)\n",
      "北 군사도발 가능성 고조..정치권, 대북특사 파견론 부상\n",
      "일본에 퍼진 수상한 냄새..대규모 지진 전조?\n",
      "전주 430억대 투자사기 피의자 송치..\"유사수신 혐의 추가\"\n",
      "공적마스크 732만장 공급..'비말용 마스크' 되팔기 강력 단속(종합)\n",
      "\"망할, 내 테이저건 가져갔어\"\"탕탕탕\"..흑인 총격 영상 보니\n",
      "[단독] 키움 페게로 영입 무산, LG 돌연 보류권 포기 철회\n",
      "朴의장 \"법사·기재위 등 6개 상임위원장 선출 본회의 안건 상정할 것\"(상보)\n",
      "'도지사직 상실위기' 이재명 사건 대법 전합서 18일 첫 심리(종합)\n",
      "'어디서 감염됐지?' 경로 모르는 '깜깜이 환자' 10% 넘었다\n"
     ]
    }
   ],
   "source": [
    "for tag in tags:\n",
    "    news = tag.find('a', {'class':'link_txt'})\n",
    "    print(news.text) # get_text(), string"
   ]
  },
  {
   "cell_type": "code",
   "execution_count": 92,
   "metadata": {},
   "outputs": [
    {
     "name": "stdout",
     "output_type": "stream",
     "text": [
      "1.[단독] 집안 벽 뜯으니 '폐기물'이 잔뜩..인테리어 하다 '날벼락'\n",
      "2.\"한국은 우리를 잊지 않았다\"..22개국 참전용사 울린 한국 마스크\n",
      "3.\"네 집일 리가 없잖아\" 인종차별한 화장품회사 CEO 사과\n",
      "4.신축 아파트값 웃도는 6억원짜리 의정부 '호화 화장실' 논란\n",
      "5.코스피 4.76% 급락, 코스닥 7.09% 폭락..개인 1.2조 순매수\n",
      "6.결혼식 가던 길에 교통사고 조치한 경찰관..2차 사고 예방\n",
      "7.\"지금이 수확 철인데\"..178mm 폭우 피해 완주 수박 농가 '허탈'\n",
      "8.치악산이 앓고 있다\n",
      "9.배달 오토바이가 만든 '모세의 기적'..구급차 진로 확보\n",
      "10.공군, '병사 황제복무' 수사 전환..공군총장 \"엄중 처벌할 것\"\n",
      "11.\"아빠가 살인 전과자\" 일가족 사망사건 유포자는 동료 경찰\n",
      "12.공적마스크 1인 10매 확대 검토..정부 \"비말마스크 늘릴 것\"\n",
      "13.\"허벅지 만지고, 오빠라고 부르라 요구\".. 서울시 유관기관 인권침해 천태만상\n",
      "14.하락장에 베팅하는 개미..'곱버스' 매집\n",
      "15.초라한 재난지원금 기부 성적표..목표액의 1%에 불과한 282억(종합)\n",
      "16.대북전단 살포 '신출귀몰' 경찰 골머리..파주서 '아지트' 발견\n",
      "17.나이스 임원 아들 '황제 복무' 의혹..금수저들 논란 되풀이\n",
      "18.\"한 학기에 과제 43개..자습만 하다 기말시험\" 대학생 분통\n",
      "19.여객기서 17명 코로나 무더기 양성..중국, 첫 운행중단 제재\n",
      "20.국회, 6개 상임위원장 선출 표결키로..통합당 반발\n",
      "21.'개훌륭' 강형욱, 전기충격 짖음방지기 등장에 충격[오늘TV]\n",
      "22.로이킴, 짧은 머리로 거수경례..오늘(15일) 조용히 해병대 입대 (종합)\n",
      "23.\"조영남을 화가로 인정하면 대한민국 예술계 대혼란\"\n",
      "24.'삼시' 여지없이 적중한 나영석의 노림수, 의심은 어리석었다\n",
      "25.제주 이호해수욕장 해상서 40대 여성 숨진채 발견(종합)\n",
      "26.이재명 허위사실공표죄 \"파기 vs 확정\"..전원합의체 결론은?\n",
      "27.원구성 위한 본회의 오후 6시..일부 상임위만 선출할 듯\n",
      "28.회색 모자 푹 눌러쓴 창녕 계부 \"내 딸.. 많이 사랑한다\"\n",
      "29.김종인 \"與 상임위 독점 차라리 놔두자\"..주호영 \"헌정사 오점\"\n",
      "30.바다경관 명소 불법 야영 '신음'..과태료 부과에 '못 낸다' 배짱\n",
      "31.권미진 \"몸무게 앞자리 '4'로 만들어 볼 것..마흔파이브 정말 대단해\"(인터뷰) [단독]\n",
      "32.'부럽지' 이두희♥지숙, 전세계약 만료→결혼 언급→급냉\n",
      "33.전기료 부풀려 6천700만원 횡령한 아파트관리소 직원 집유\n",
      "34.日지자체에 마스크 100만개 기부한 조선족 학자 김문학\n",
      "35.통합당 \"北에 강력한 입장 밝혀야..文대통령 폄훼 말라\"(종합)\n",
      "36.고기 산 김태균, 훈련 데려간 이용규..한화 살린 후배 사랑 [오!쎈 대전]\n",
      "37.인도네시아 남성, 4m 악어와 23년째 교감..\"자식 같은 존재\"\n",
      "38.美연구진 \"코로나 우한 사망자, 中발표의 14배..3만6천명 추정\"\n",
      "39.부산 신규 확진자, 현재까지 접촉자 3명 확인..추가 조사 중\n",
      "40.[진중권 인터뷰] \"창피한 줄 모르는 민주당, 나라 과거로 돌려놓고 있다\"\n",
      "41.文대통령 \"北, 대결 시대로 되돌려선 안돼..함께 돌파구 찾자\"(종합)\n",
      "42.北 군사도발 가능성 고조..정치권, 대북특사 파견론 부상\n",
      "43.일본에 퍼진 수상한 냄새..대규모 지진 전조?\n",
      "44.전주 430억대 투자사기 피의자 송치..\"유사수신 혐의 추가\"\n",
      "45.공적마스크 732만장 공급..'비말용 마스크' 되팔기 강력 단속(종합)\n",
      "46.\"망할, 내 테이저건 가져갔어\"\"탕탕탕\"..흑인 총격 영상 보니\n",
      "47.[단독] 키움 페게로 영입 무산, LG 돌연 보류권 포기 철회\n",
      "48.朴의장 \"법사·기재위 등 6개 상임위원장 선출 본회의 안건 상정할 것\"(상보)\n",
      "49.'도지사직 상실위기' 이재명 사건 대법 전합서 18일 첫 심리(종합)\n",
      "50.'어디서 감염됐지?' 경로 모르는 '깜깜이 환자' 10% 넘었다\n"
     ]
    }
   ],
   "source": [
    "for i, tag in enumerate(tags): # 일련번호를 자동 생성\n",
    "    news = tag.find('a', {'class':'link_txt'})\n",
    "    print('{0}.{1}'.format(i+1,news.text)) # get_text(), string"
   ]
  },
  {
   "cell_type": "code",
   "execution_count": null,
   "metadata": {},
   "outputs": [],
   "source": []
  }
 ],
 "metadata": {
  "kernelspec": {
   "display_name": "ai",
   "language": "python",
   "name": "ai"
  },
  "language_info": {
   "codemirror_mode": {
    "name": "ipython",
    "version": 3
   },
   "file_extension": ".py",
   "mimetype": "text/x-python",
   "name": "python",
   "nbconvert_exporter": "python",
   "pygments_lexer": "ipython3",
   "version": "3.6.10"
  }
 },
 "nbformat": 4,
 "nbformat_minor": 2
}
