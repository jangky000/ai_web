{
 "cells": [
  {
   "cell_type": "markdown",
   "metadata": {},
   "source": [
    "### SSL, 한글처리"
   ]
  },
  {
   "cell_type": "code",
   "execution_count": 1,
   "metadata": {},
   "outputs": [
    {
     "name": "stdout",
     "output_type": "stream",
     "text": [
      "b'<html>\\n<head>\\n<title>A Useful Page</title>\\n</head>\\n<body>\\n<h1>An Interesting Title</h1>\\n<div>\\nLorem ipsum dolor sit amet, consectetur adipisicing elit, sed do eiusmod tempor incididunt ut labore et dolore magna aliqua. Ut enim ad minim veniam, quis nostrud exercitation ullamco laboris nisi ut aliquip ex ea commodo consequat. Duis aute irure dolor in reprehenderit in voluptate velit esse cillum dolore eu fugiat nulla pariatur. Excepteur sint occaecat cupidatat non proident, sunt in culpa qui officia deserunt mollit anim id est laborum.\\n</div>\\n</body>\\n</html>\\n'\n"
     ]
    }
   ],
   "source": [
    "# urllib 패키지의 request 모듈에서 urlopen() 함수를 가져옴\n",
    "from urllib.request import urlopen\n",
    "\n",
    "# Retrieve HTML string from the URL\n",
    "# 한글 출력, b': 바이트 스트림을 의미, 한글 깨짐\n",
    "html = urlopen(\"http://www.pythonscraping.com/exercises/exercise1.html\")\n",
    "print(html.read())"
   ]
  },
  {
   "cell_type": "code",
   "execution_count": 2,
   "metadata": {},
   "outputs": [
    {
     "name": "stdout",
     "output_type": "stream",
     "text": [
      "\n",
      "<!DOCTYPE html>\n",
      "<html class=\"client-nojs\" lang=\"en\" dir=\"ltr\">\n",
      "<head>\n",
      "<meta charset=\"UTF-8\"/>\n",
      "<title>Kevin Bacon - Wikipedia</title>\n",
      "<script>document.documentElement.className=\"client-js\";RLCONF={\"wgBreakFrames\":!1,\"wgSeparatorTransformTable\":[\"\",\"\"],\"wgDigitTransformTable\":[\"\",\"\"],\"wgDefaultDateFo\n"
     ]
    }
   ],
   "source": [
    "# 영문 사이트\n",
    "html = urlopen(\"http://en.wikipedia.org/wiki/Kevin_Bacon\").read()\n",
    "print(str(html, \"utf-8\")[:300])"
   ]
  },
  {
   "cell_type": "code",
   "execution_count": 6,
   "metadata": {},
   "outputs": [],
   "source": [
    "# https를 접근하기 위해 사용, 한글 위키는 https 문제가 있을 수 있어서 사용\n",
    "import ssl                      # https 접근\n",
    "\n",
    "context = ssl._create_unverified_context()"
   ]
  },
  {
   "cell_type": "code",
   "execution_count": 10,
   "metadata": {},
   "outputs": [],
   "source": [
    "# 한글 출력, b': 바이트 스트림을 의미, 한글 깨짐\n",
    "# https://ko.wikipedia.org/wiki/%EC%BC%80%EB%B9%88_%EB%B2%A0%EC%9D%B4%EC%BB%A8\n",
    "\n",
    "# Encoding ERROR\n",
    "# html = urlopen(\"https://ko.wikipedia.org/wiki/\" + \"케빈_베이컨\", context=context).read()\n",
    "# print(html[:300]) # 0 ~ 299개의 문자만 출력, 한글 깨짐"
   ]
  },
  {
   "cell_type": "code",
   "execution_count": 13,
   "metadata": {},
   "outputs": [
    {
     "name": "stdout",
     "output_type": "stream",
     "text": [
      "utf-8\n"
     ]
    }
   ],
   "source": [
    "# 크롬이 기본적으로 사용하는 인코딩 방식\n",
    "import sys\n",
    "print(sys.getdefaultencoding()) # utf-8\n",
    "from urllib.parse import quote  # 한글 처리 함수"
   ]
  },
  {
   "cell_type": "code",
   "execution_count": 14,
   "metadata": {},
   "outputs": [
    {
     "name": "stdout",
     "output_type": "stream",
     "text": [
      "b'\\n<!DOCTYPE html>\\n<html class=\"client-nojs\" lang=\"ko\" dir=\"ltr\">\\n<head>\\n<meta charset=\"UTF-8\"/>\\n<title>\\xec\\xbc\\x80\\xeb\\xb9\\x88 \\xeb\\xb2\\xa0\\xec\\x9d\\xb4\\xec\\xbb\\xa8 - \\xec\\x9c\\x84\\xed\\x82\\xa4\\xeb\\xb0\\xb1\\xea\\xb3\\xbc, \\xec\\x9a\\xb0\\xeb\\xa6\\xac \\xeb\\xaa\\xa8\\xeb\\x91\\x90\\xec\\x9d\\x98 \\xeb\\xb0\\xb1\\xea\\xb3\\xbc\\xec\\x82\\xac\\xec\\xa0\\x84</title>\\n<script>document.documentElement.className=\"client-js\";RLCONF={\"wgBreakFrames\":!1,\"wgSeparatorTransformTable\":[\"\",\"\"],\"wgDigitTransformTable\":[\"\",\"\"],\"wgDefaultDateFormat\":\"ko\",\"wgMonthNames\":[\"\",\"1\\xec\\x9b\\x94\",\"2\\xec\\x9b\\x94\",\"3\\xec\\x9b\\x94\",\"4\\xec\\x9b\\x94\",\"5\\xec\\x9b\\x94\",\"6\\xec\\x9b\\x94\",\"7\\xec\\x9b\\x94\",\"8\\xec\\x9b\\x94\",\"9\\xec\\x9b\\x94\",\"10\\xec\\x9b\\x94\",\"11\\xec\\x9b\\x94\",\"12\\xec\\x9b\\x94\"],\"wgRequestId\":\"15c93f3d-2f55-471e-b3ea-55e0'\n"
     ]
    }
   ],
   "source": [
    "# https://ko.wikipedia.org/wiki/케빈_베이컨\n",
    "html = urlopen(\"https://ko.wikipedia.org/wiki/\" + quote(\"케빈_베이컨\"), context=context).read()\n",
    "print(html[:500]) # 0 ~ 299개의 문자만 출력, 한글 깨짐"
   ]
  },
  {
   "cell_type": "code",
   "execution_count": 15,
   "metadata": {},
   "outputs": [
    {
     "name": "stdout",
     "output_type": "stream",
     "text": [
      "한글 처리한 경우\n",
      "\n",
      "<!DOCTYPE html>\n",
      "<html class=\"client-nojs\" lang=\"ko\" dir=\"ltr\">\n",
      "<head>\n",
      "<meta charset=\"UTF-8\"/>\n",
      "<title>케빈 베이컨 - 위키백과, 우리 모두의 백과사전</title>\n",
      "<script>document.documentElement.className=\"client-js\";RLCONF={\"wgBreakFrames\":!1,\"wgSeparatorTransformTable\":[\"\",\"\"],\"wgDigitTransformTable\":[\"\",\"\"],\"wgDefaultDateFormat\":\"ko\",\"wgMonthNames\":[\"\",\"1월\",\"2월\",\"3월\",\"4월\",\"5월\",\"6월\",\"7월\",\"8월\",\"9월\",\"10월\",\"11월\",\"12월\"],\"wgRequestId\":\"15c93f3d-2f55-471e-b3ea-55e0a740966e\",\"wgCSPNonce\":!1,\"wgCanonicalNamespace\":\"\",\"wgCanon\n"
     ]
    }
   ],
   "source": [
    "print('한글 처리한 경우')\n",
    "html = urlopen(\"https://ko.wikipedia.org/wiki/\" + quote(\"케빈_베이컨\"), context=context).read()\n",
    "print(str(html, \"utf-8\")[:500]) # 응답 문자열 한글 출력"
   ]
  },
  {
   "cell_type": "markdown",
   "metadata": {},
   "source": [
    "### 웹에 접속하여 태그를 크롤링"
   ]
  },
  {
   "cell_type": "code",
   "execution_count": 16,
   "metadata": {},
   "outputs": [
    {
     "name": "stdout",
     "output_type": "stream",
     "text": [
      "<class 'bs4.element.Tag'>\n",
      "<h1>An Interesting Title</h1>\n",
      "<h1>An Interesting Title</h1>\n",
      "<h1>An Interesting Title</h1>\n",
      "<h1>An Interesting Title</h1>\n",
      "An Interesting Title\n"
     ]
    }
   ],
   "source": [
    "from urllib.request import urlopen\n",
    "from bs4 import BeautifulSoup\n",
    "\n",
    "html = urlopen(\"http://www.pythonscraping.com/exercises/exercise1.html\")\n",
    "bs = BeautifulSoup(html, \"html.parser\") # html, html.parser\n",
    "\n",
    "# body > h1\n",
    "tag = bs.html.body.h1\n",
    "print(type(tag))           # <class 'bs4.element.Tag'>\n",
    "print(bs.html.body.h1)     # <h1>An Interesting Title</h1>\n",
    "print(bs.body.h1)          # <h1>An Interesting Title</h1>\n",
    "print(bs.html.h1)          # <h1>An Interesting Title</h1>\n",
    "print(bs.h1)               # <h1>An Interesting Title</h1>\n",
    "print(bs.html.body.h1.get_text())"
   ]
  },
  {
   "cell_type": "code",
   "execution_count": 17,
   "metadata": {},
   "outputs": [],
   "source": [
    "from urllib.error import HTTPError\n",
    "\n",
    "def get(url):\n",
    "    try:\n",
    "        html = urlopen(url)\n",
    "        bs = BeautifulSoup(html.read()) \n",
    "        title = bs.body.h1.get_text()\n",
    "    except HTTPError as e:\n",
    "        # 페이지 url이 없는 경우\n",
    "        print(e)\n",
    "        return None\n",
    "    else:\n",
    "        # 예외가 발생하지 않았다면\n",
    "        return title\n",
    "    finally:\n",
    "        print('처리를 종료합니다.')"
   ]
  },
  {
   "cell_type": "code",
   "execution_count": 26,
   "metadata": {},
   "outputs": [
    {
     "name": "stdout",
     "output_type": "stream",
     "text": [
      "처리를 종료합니다.\n",
      "An Interesting Title\n"
     ]
    }
   ],
   "source": [
    "# title = get('https://www.naver.com') ??\n",
    "title = get('http://www.pythonscraping.com/exercises/exercise1.html')\n",
    "\n",
    "if title == None:\n",
    "    print('요청 페이지의 타이틀이 존재하지 않습니다.')\n",
    "else:\n",
    "    print(title)"
   ]
  },
  {
   "cell_type": "code",
   "execution_count": 30,
   "metadata": {},
   "outputs": [
    {
     "name": "stdout",
     "output_type": "stream",
     "text": [
      "HTTP Error 404: Not Found\n",
      "처리를 종료합니다.\n",
      "요청 페이지가 존재하지 않습니다.\n"
     ]
    }
   ],
   "source": [
    "from urllib.error import HTTPError\n",
    "\n",
    "def getbs(url):\n",
    "    try:\n",
    "        html = urlopen(url)\n",
    "        bs = BeautifulSoup(html.read(), 'html.parser') \n",
    "    except HTTPError as e:\n",
    "        # 페이지 url이 없는 경우\n",
    "        print(e)\n",
    "        return None\n",
    "    else:\n",
    "        # 예외가 발생하지 않았다면\n",
    "        return bs\n",
    "    finally:\n",
    "        print('처리를 종료합니다.')\n",
    "# bs = getbs('http://www.pythonscraping.com/exercises/exercise1.html')\n",
    "bs = getbs('http://www.pythonscraping.com/exercises/exercise100.html')\n",
    "if bs == None:\n",
    "    print('요청 페이지가 존재하지 않습니다.')\n",
    "else:\n",
    "    print(bs)"
   ]
  },
  {
   "cell_type": "code",
   "execution_count": 51,
   "metadata": {},
   "outputs": [
    {
     "name": "stdout",
     "output_type": "stream",
     "text": [
      "처리를 종료합니다.\n",
      "<class 'bs4.BeautifulSoup'>\n",
      "Anna\n",
      "Pavlovna Scherer\n",
      "---------------------------------------------------\n",
      "Empress Marya\n",
      "Fedorovna\n",
      "---------------------------------------------------\n",
      "Prince Vasili Kuragin\n",
      "---------------------------------------------------\n"
     ]
    }
   ],
   "source": [
    "# http://www.pythonscraping.com/pages/warandpeace.html\n",
    "bs = getbs('http://www.pythonscraping.com/pages/warandpeace.html')\n",
    "print(type(bs)) # 타입: class 'bs4.BeautifulSoup'>\n",
    "# tags = bs.find_all('span', {'class':'green'}) # 태그의 속성은 딕셔너리로 선언\n",
    "# tags = bs.select('span', {'class':'green'}) # 제대로 찾지 못한다.\n",
    "tags = bs.findAll('span', {'class':'green'}) \n",
    "for tag in tags[0:3]:\n",
    "    print(tag.get_text())\n",
    "    print('---------------------------------------------------')"
   ]
  },
  {
   "cell_type": "code",
   "execution_count": 57,
   "metadata": {},
   "outputs": [
    {
     "name": "stdout",
     "output_type": "stream",
     "text": [
      "처리를 종료합니다.\n",
      "<class 'bs4.element.Tag'>\n",
      "1\n",
      "<h1 class=\"firstHeading\" id=\"firstHeading\" lang=\"en\">Kevin Bacon</h1>\n",
      "Kevin Bacon\n",
      "Kevin Bacon\n"
     ]
    }
   ],
   "source": [
    "# 태그 id로 하나의 태그의 값 찾기\n",
    "bs = getbs('http://en.wikipedia.org/wiki/Kevin_Bacon')\n",
    "\n",
    "item = bs.find(id=\"firstHeading\") # <h1 id=\"firstHeading\" class=\"firstHeading\" lang=\"en\">Kevin Bacon</h1>\n",
    "print(type(item))\n",
    "print(len(item))  # 1\n",
    "print(item)\n",
    "print(item.get_text()) # 태그의 내용\n",
    "print(item.string) # 태그의 내용"
   ]
  },
  {
   "cell_type": "code",
   "execution_count": 72,
   "metadata": {},
   "outputs": [
    {
     "name": "stdout",
     "output_type": "stream",
     "text": [
      "처리를 종료합니다.\n",
      "<class 'list_iterator'>\n",
      "<list_iterator object at 0x0000016461D14048>\n"
     ]
    }
   ],
   "source": [
    "# http://www.pythonscraping.com/pages/page3.html\n",
    "bs = getbs('http://www.pythonscraping.com/pages/page3.html')\n",
    "# id가 gift list인 \n",
    "# table 태그의 id 속성의 값이 giftList인 태그의 자식을 찾아서 iter로 리턴\n",
    "tags_iter = bs.find('table', {'id': 'giftList'}).children # shift + tab을 누르면 함수 설명을 띄워줌\n",
    "print(type(tags_iter))\n",
    "print(tags_iter)"
   ]
  },
  {
   "cell_type": "code",
   "execution_count": 82,
   "metadata": {},
   "outputs": [
    {
     "name": "stdout",
     "output_type": "stream",
     "text": [
      "<tr class=\"gift\" id=\"gift1\"><td>\n",
      "Vegetable Basket\n",
      "</td><td>\n",
      "This vegetable basket is the perfect gift for your health conscious (or overweight) friends!\n",
      "<span class=\"excitingNote\">Now with super-colorful bell peppers!</span>\n",
      "</td><td>\n",
      "$15.00\n",
      "</td><td>\n",
      "<img src=\"../img/gifts/img1.jpg\"/>\n",
      "</td></tr>\n",
      "-------------------------\n",
      "<tr class=\"gift\" id=\"gift2\"><td>\n",
      "Russian Nesting Dolls\n",
      "</td><td>\n",
      "Hand-painted by trained monkeys, these exquisite dolls are priceless! And by \"priceless,\" we mean \"extremely expensive\"! <span class=\"excitingNote\">8 entire dolls per set! Octuple the presents!</span>\n",
      "</td><td>\n",
      "$10,000.52\n",
      "</td><td>\n",
      "<img src=\"../img/gifts/img2.jpg\"/>\n",
      "</td></tr>\n",
      "-------------------------\n",
      "<tr class=\"gift\" id=\"gift3\"><td>\n",
      "Fish Painting\n",
      "</td><td>\n",
      "If something seems fishy about this painting, it's because it's a fish! <span class=\"excitingNote\">Also hand-painted by trained monkeys!</span>\n",
      "</td><td>\n",
      "$10,005.00\n",
      "</td><td>\n",
      "<img src=\"../img/gifts/img3.jpg\"/>\n",
      "</td></tr>\n",
      "-------------------------\n",
      "<tr class=\"gift\" id=\"gift4\"><td>\n",
      "Dead Parrot\n",
      "</td><td>\n",
      "This is an ex-parrot! <span class=\"excitingNote\">Or maybe he's only resting?</span>\n",
      "</td><td>\n",
      "$0.50\n",
      "</td><td>\n",
      "<img src=\"../img/gifts/img4.jpg\"/>\n",
      "</td></tr>\n",
      "-------------------------\n",
      "<tr class=\"gift\" id=\"gift5\"><td>\n",
      "Mystery Box\n",
      "</td><td>\n",
      "If you love suprises, this mystery box is for you! Do not place on light-colored surfaces. May cause oil staining. <span class=\"excitingNote\">Keep your friends guessing!</span>\n",
      "</td><td>\n",
      "$1.50\n",
      "</td><td>\n",
      "<img src=\"../img/gifts/img6.jpg\"/>\n",
      "</td></tr>\n",
      "-------------------------\n"
     ]
    }
   ],
   "source": [
    "# 자식 태그들, Chrome이 자동 생성한 <TBODY>는 포함안됨.\n",
    "# F12 개발자 도구에는 <TBODY>가 있으나 소스에는 <TBODY>는 포함안됨\n",
    "\n",
    "# iterator의 특징 -> 한번 가져오면 가져오지 못한다.\n",
    "for tag in tags_iter:\n",
    "    print(tag)\n",
    "    print('-------------------------')"
   ]
  },
  {
   "cell_type": "code",
   "execution_count": 83,
   "metadata": {},
   "outputs": [
    {
     "name": "stdout",
     "output_type": "stream",
     "text": [
      "처리를 종료합니다.\n"
     ]
    }
   ],
   "source": [
    "# http://www.pythonscraping.com/pages/page3.html\n",
    "bs = getbs('http://www.pythonscraping.com/pages/page3.html')\n",
    "# id가 gift list인 \n",
    "# findAll에서는 children 사용 불가\n",
    "tags_iter = bs.findAll('tr', {'class': 'gift'}) # shift + tab을 누르면 함수 설명을 띄워줌"
   ]
  },
  {
   "cell_type": "code",
   "execution_count": 84,
   "metadata": {},
   "outputs": [],
   "source": [
    "# iterator를 리스트로 변환\n",
    "tags = list(tags_iter)"
   ]
  },
  {
   "cell_type": "code",
   "execution_count": 90,
   "metadata": {},
   "outputs": [
    {
     "name": "stdout",
     "output_type": "stream",
     "text": [
      "<tr class=\"gift\" id=\"gift1\"><td>\n",
      "Vegetable Basket\n",
      "</td><td>\n",
      "This vegetable basket is the perfect gift for your health conscious (or overweight) friends!\n",
      "<span class=\"excitingNote\">Now with super-colorful bell peppers!</span>\n",
      "</td><td>\n",
      "$15.00\n",
      "</td><td>\n",
      "<img src=\"../img/gifts/img1.jpg\"/>\n",
      "</td></tr>\n",
      "<tr class=\"gift\" id=\"gift2\"><td>\n",
      "Russian Nesting Dolls\n",
      "</td><td>\n",
      "Hand-painted by trained monkeys, these exquisite dolls are priceless! And by \"priceless,\" we mean \"extremely expensive\"! <span class=\"excitingNote\">8 entire dolls per set! Octuple the presents!</span>\n",
      "</td><td>\n",
      "$10,000.52\n",
      "</td><td>\n",
      "<img src=\"../img/gifts/img2.jpg\"/>\n",
      "</td></tr>\n",
      "<tr class=\"gift\" id=\"gift3\"><td>\n",
      "Fish Painting\n",
      "</td><td>\n",
      "If something seems fishy about this painting, it's because it's a fish! <span class=\"excitingNote\">Also hand-painted by trained monkeys!</span>\n",
      "</td><td>\n",
      "$10,005.00\n",
      "</td><td>\n",
      "<img src=\"../img/gifts/img3.jpg\"/>\n",
      "</td></tr>\n",
      "<tr class=\"gift\" id=\"gift4\"><td>\n",
      "Dead Parrot\n",
      "</td><td>\n",
      "This is an ex-parrot! <span class=\"excitingNote\">Or maybe he's only resting?</span>\n",
      "</td><td>\n",
      "$0.50\n",
      "</td><td>\n",
      "<img src=\"../img/gifts/img4.jpg\"/>\n",
      "</td></tr>\n",
      "<tr class=\"gift\" id=\"gift5\"><td>\n",
      "Mystery Box\n",
      "</td><td>\n",
      "If you love suprises, this mystery box is for you! Do not place on light-colored surfaces. May cause oil staining. <span class=\"excitingNote\">Keep your friends guessing!</span>\n",
      "</td><td>\n",
      "$1.50\n",
      "</td><td>\n",
      "<img src=\"../img/gifts/img6.jpg\"/>\n",
      "</td></tr>\n"
     ]
    }
   ],
   "source": [
    "for tag in tags:\n",
    "    print(tag)"
   ]
  },
  {
   "cell_type": "code",
   "execution_count": 92,
   "metadata": {},
   "outputs": [
    {
     "name": "stdout",
     "output_type": "stream",
     "text": [
      "처리를 종료합니다.\n",
      "\n",
      "\n",
      "------------------------------------------\n",
      "<tr class=\"gift\" id=\"gift1\"><td>\n",
      "Vegetable Basket\n",
      "</td><td>\n",
      "This vegetable basket is the perfect gift for your health conscious (or overweight) friends!\n",
      "<span class=\"excitingNote\">Now with super-colorful bell peppers!</span>\n",
      "</td><td>\n",
      "$15.00\n",
      "</td><td>\n",
      "<img src=\"../img/gifts/img1.jpg\"/>\n",
      "</td></tr>\n",
      "------------------------------------------\n",
      "\n",
      "\n",
      "------------------------------------------\n",
      "<tr class=\"gift\" id=\"gift2\"><td>\n",
      "Russian Nesting Dolls\n",
      "</td><td>\n",
      "Hand-painted by trained monkeys, these exquisite dolls are priceless! And by \"priceless,\" we mean \"extremely expensive\"! <span class=\"excitingNote\">8 entire dolls per set! Octuple the presents!</span>\n",
      "</td><td>\n",
      "$10,000.52\n",
      "</td><td>\n",
      "<img src=\"../img/gifts/img2.jpg\"/>\n",
      "</td></tr>\n",
      "------------------------------------------\n",
      "\n",
      "\n",
      "------------------------------------------\n",
      "<tr class=\"gift\" id=\"gift3\"><td>\n",
      "Fish Painting\n",
      "</td><td>\n",
      "If something seems fishy about this painting, it's because it's a fish! <span class=\"excitingNote\">Also hand-painted by trained monkeys!</span>\n",
      "</td><td>\n",
      "$10,005.00\n",
      "</td><td>\n",
      "<img src=\"../img/gifts/img3.jpg\"/>\n",
      "</td></tr>\n",
      "------------------------------------------\n",
      "\n",
      "\n",
      "------------------------------------------\n",
      "<tr class=\"gift\" id=\"gift4\"><td>\n",
      "Dead Parrot\n",
      "</td><td>\n",
      "This is an ex-parrot! <span class=\"excitingNote\">Or maybe he's only resting?</span>\n",
      "</td><td>\n",
      "$0.50\n",
      "</td><td>\n",
      "<img src=\"../img/gifts/img4.jpg\"/>\n",
      "</td></tr>\n",
      "------------------------------------------\n",
      "\n",
      "\n",
      "------------------------------------------\n",
      "<tr class=\"gift\" id=\"gift5\"><td>\n",
      "Mystery Box\n",
      "</td><td>\n",
      "If you love suprises, this mystery box is for you! Do not place on light-colored surfaces. May cause oil staining. <span class=\"excitingNote\">Keep your friends guessing!</span>\n",
      "</td><td>\n",
      "$1.50\n",
      "</td><td>\n",
      "<img src=\"../img/gifts/img6.jpg\"/>\n",
      "</td></tr>\n",
      "------------------------------------------\n",
      "\n",
      "\n",
      "------------------------------------------\n"
     ]
    }
   ],
   "source": [
    "# 형제 태그 검색\n",
    "bs = getbs(\"http://www.pythonscraping.com/pages/page3.html\") # html, html.parser\n",
    "# 첫번째 자식 태그를 지난후 그 태그의 형제 태그들, \n",
    "# 왜냐하면, TABLE의 첫번째 자식은 주로 데이터가 아님(헤더 등)\n",
    "items = bs.find('table', {'id':'giftList'}).tr.next_siblings \n",
    "\n",
    "for item in items:\n",
    "    print(item)\n",
    "    print('------------------------------------------')"
   ]
  },
  {
   "cell_type": "code",
   "execution_count": 93,
   "metadata": {},
   "outputs": [
    {
     "name": "stdout",
     "output_type": "stream",
     "text": [
      "<img src=\"../img/gifts/img1.jpg\"/>\n",
      "------------------------------------------\n",
      "<td>\n",
      "<img src=\"../img/gifts/img1.jpg\"/>\n",
      "</td>\n",
      "------------------------------------------\n",
      "<td>\n",
      "$15.00\n",
      "</td>\n",
      "------------------------------------------\n",
      "<td>\n",
      "<img src=\"../img/gifts/img1.jpg\"/>\n",
      "</td>\n"
     ]
    }
   ],
   "source": [
    "# 부모 태그 검색, 형제 태그 검색\n",
    "item = bs.find('img', {'src':'../img/gifts/img1.jpg'})\n",
    "print(item)  \n",
    "# <img src=\"../img/gifts/img1.jpg\"/>\n",
    "# 실제의 소스: <img src=\"../img/gifts/img1.jpg\">\n",
    "print('------------------------------------------')\n",
    "item = bs.find('img', {'src':'../img/gifts/img1.jpg'}).parent # td\n",
    "print(item)\n",
    "print('------------------------------------------')\n",
    "item = bs.find('img', {'src':'../img/gifts/img1.jpg'}).parent.previous_sibling # 이전 td\n",
    "print(item)\n",
    "print('------------------------------------------')\n",
    "item = item.next_sibling # 다음 td\n",
    "print(item)"
   ]
  },
  {
   "cell_type": "code",
   "execution_count": 95,
   "metadata": {},
   "outputs": [
    {
     "name": "stdout",
     "output_type": "stream",
     "text": [
      "<class 'bs4.element.ResultSet'>\n",
      "<img src=\"../img/gifts/img1.jpg\"/>\n",
      "<img src=\"../img/gifts/img2.jpg\"/>\n",
      "<img src=\"../img/gifts/img3.jpg\"/>\n",
      "<img src=\"../img/gifts/img4.jpg\"/>\n",
      "<img src=\"../img/gifts/img6.jpg\"/>\n",
      "../img/gifts/img1.jpg\n",
      "../img/gifts/img2.jpg\n",
      "../img/gifts/img3.jpg\n",
      "../img/gifts/img4.jpg\n",
      "../img/gifts/img6.jpg\n"
     ]
    }
   ],
   "source": [
    "# 정규 표현식 사용\n",
    "import re\n",
    "\n",
    "html = urlopen(\"http://www.pythonscraping.com/pages/page3.html\")\n",
    "bs = BeautifulSoup(html, \"html.parser\") # html, html.parser\n",
    "# \\.: . 대응,  .*: 모든 문자\n",
    "images = bs.findAll(\"img\", {\"src\": re.compile(\"\\.\\./img/gifts/img.*\\.jpg\")})\n",
    "print(type(images)) # <class 'bs4.element.ResultSet'>\n",
    "for image in images:\n",
    "    print(image)\n",
    "    \n",
    "for image in images:\n",
    "    print(image['src'])"
   ]
  },
  {
   "cell_type": "code",
   "execution_count": null,
   "metadata": {},
   "outputs": [],
   "source": []
  }
 ],
 "metadata": {
  "kernelspec": {
   "display_name": "ai",
   "language": "python",
   "name": "ai"
  },
  "language_info": {
   "codemirror_mode": {
    "name": "ipython",
    "version": 3
   },
   "file_extension": ".py",
   "mimetype": "text/x-python",
   "name": "python",
   "nbconvert_exporter": "python",
   "pygments_lexer": "ipython3",
   "version": "3.6.10"
  }
 },
 "nbformat": 4,
 "nbformat_minor": 2
}
