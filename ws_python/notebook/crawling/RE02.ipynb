{
 "cells": [
  {
   "cell_type": "code",
   "execution_count": 1,
   "metadata": {},
   "outputs": [],
   "source": [
    "# %outosave 0\n",
    "import re"
   ]
  },
  {
   "cell_type": "code",
   "execution_count": 2,
   "metadata": {},
   "outputs": [
    {
     "name": "stdout",
     "output_type": "stream",
     "text": [
      "<class 'module'>\n"
     ]
    }
   ],
   "source": [
    "# re는 모듈\n",
    "print(type(re))"
   ]
  },
  {
   "cell_type": "code",
   "execution_count": 3,
   "metadata": {},
   "outputs": [
    {
     "name": "stdout",
     "output_type": "stream",
     "text": [
      "<class '_sre.SRE_Match'>\n",
      "000-1111-2222\n",
      "000-1111-2222\n"
     ]
    }
   ],
   "source": [
    "# re 모듈에 compile이라는 메소드 사용, -> 정규표현식의 선언\n",
    "mobile = re.compile(r'\\d\\d\\d-\\d\\d\\d\\d-\\d\\d\\d\\d')\n",
    "_mobile = mobile.search('000-1111-2222 는 휴대폰 번호입니다.')\n",
    "print(type(_mobile))\n",
    "print(_mobile.group())\n",
    "print(_mobile.group(0))\n",
    "\n",
    "# print(_mobile.group(1)) # ERROR"
   ]
  },
  {
   "cell_type": "code",
   "execution_count": 6,
   "metadata": {},
   "outputs": [
    {
     "name": "stdout",
     "output_type": "stream",
     "text": [
      "<class '_sre.SRE_Pattern'>\n",
      "<class '_sre.SRE_Match'>\n",
      "000-1111-2222\n",
      "000-1111-2222\n",
      "통신사: 000\n",
      "1111\n",
      "2222\n"
     ]
    }
   ],
   "source": [
    "# ()를 이용해서 정규표현식을 그룹화하여 처리, 그룹단위로 접근 가능\n",
    "mobile = re.compile(r'(\\d\\d\\d)-(\\d\\d\\d\\d)-(\\d\\d\\d\\d)')\n",
    "print(type(mobile)) # <class '_sre.SRE_Pattern'>\n",
    "_mobile = mobile.search('000-1111-2222 는 휴대폰 번호입니다.')\n",
    "print(type(_mobile)) # <class '_sre.SRE_Match'>\n",
    "print(_mobile.group()) # 000-1111-2222\n",
    "print(_mobile.group(0)) # 000-1111-2222\n",
    "print('통신사:',_mobile.group(1)) # 통신사: 000\n",
    "print(_mobile.group(2)) # 1111\n",
    "print(_mobile.group(3)) # 2222"
   ]
  },
  {
   "cell_type": "code",
   "execution_count": 5,
   "metadata": {},
   "outputs": [
    {
     "name": "stdout",
     "output_type": "stream",
     "text": [
      "('000', '1111', '2222')\n",
      "통신사: 000\n",
      "통신사: 000\n",
      "1111\n",
      "2222\n"
     ]
    }
   ],
   "source": [
    "# 정규식에 일치하는 모든 그룹을 튜플로 저장\n",
    "grp = _mobile.groups()\n",
    "print(grp) # tuple # ('000', '1111', '2222')\n",
    "print('통신사:', grp[0]) # 통신사: 000\n",
    "\n",
    "telecom, no1, no2 = _mobile.groups()\n",
    "print('통신사:', telecom) # 통신사: 000\n",
    "print(no1) # 1111\n",
    "print(no2) # 2222"
   ]
  },
  {
   "cell_type": "code",
   "execution_count": 11,
   "metadata": {},
   "outputs": [
    {
     "name": "stdout",
     "output_type": "stream",
     "text": [
      "(002)\n",
      "6901-7000\n",
      "(002)\n",
      "6901-7000\n"
     ]
    }
   ],
   "source": [
    "# 그냥 괄호는 그룹 구분에 사용\n",
    "# (000)의 표현: \\( ... \\)\n",
    "# 역 슬래시를 사용해서 특수문자 표현\n",
    "mobile = re.compile(r'(\\(\\d\\d\\d\\)) (\\d\\d\\d\\d-\\d\\d\\d\\d)')\n",
    "_mobile = mobile.search('(002) 6901-7000는 전화 번호입니다.')\n",
    "print(_mobile.group(1)) # (002)\n",
    "print(_mobile.group(2)) # 6901-7000\n",
    "\n",
    "grp = _mobile.groups()\n",
    "print(grp[0]) # (002)\n",
    "print(grp[1]) # 6901-7000"
   ]
  },
  {
   "cell_type": "code",
   "execution_count": 13,
   "metadata": {},
   "outputs": [
    {
     "name": "stdout",
     "output_type": "stream",
     "text": [
      "kma\n",
      "daum\n"
     ]
    }
   ],
   "source": [
    "# OR 표시, daum 또는 kma\n",
    "regx = re.compile(r'daum|kma') # | 표시에 공배 있으면 안됨, 대소문자 구분\n",
    "ret = regx.search('http://www.kma.go.kr')\n",
    "print(ret.group()) # kma\n",
    "\n",
    "# 대문자를 소문자로 변환\n",
    "ret = regx.search('http://www.DAUM.net'.lower())\n",
    "print(ret.group()) # daum"
   ]
  },
  {
   "cell_type": "code",
   "execution_count": 16,
   "metadata": {},
   "outputs": [
    {
     "name": "stdout",
     "output_type": "stream",
     "text": [
      "('daum',)\n",
      "kma\n"
     ]
    }
   ],
   "source": [
    "# URLdaum 또는 URLkma를 찾기\n",
    "regx = re.compile(r'URL(daum|kma)') # 필수와 선택 문자열의 분리\n",
    "ret = regx.search('http://www.URLdaum.go.kr').groups()\n",
    "print(ret) # ('daum',)\n",
    "ret = regx.search('http://www.URLkma.go.kr').groups()\n",
    "print(ret[0]) # kma URL이 아님"
   ]
  },
  {
   "cell_type": "code",
   "execution_count": 31,
   "metadata": {},
   "outputs": [
    {
     "name": "stdout",
     "output_type": "stream",
     "text": [
      "URL address 접속\n",
      "address\n",
      "URL  접속\n",
      "일치하는 문자열이 없습니다.\n"
     ]
    }
   ],
   "source": [
    "# ?의 역할: 0번 또는 1번만 선택적으로 등장\n",
    "regx = re.compile(r'URL (address)? 접속') # ?:0, 1번 등장\n",
    "ret = regx.search('인터넷 URL address 접속')\n",
    "print(ret.group())# 대응하는 모든 문자열 # URL address 접속\n",
    "\n",
    "ret = regx.search('인터넷 URL address 접속').groups()\n",
    "print(ret[0]) # 대응하는 첫번째 그룹 # address\n",
    "\n",
    "ret = regx.search('인터넷 URL  접속')  # 공백 2칸 주의, 공백 1칸 시에는 에러 발생\n",
    "print(ret.group())\n",
    "\n",
    "ret = regx.search('인터넷 URL address address 접속')  \n",
    "if ret != None: # 일치 여부 확인\n",
    "    print(ret.group())\n",
    "else:\n",
    "    print('일치하는 문자열이 없습니다.')"
   ]
  },
  {
   "cell_type": "code",
   "execution_count": 33,
   "metadata": {},
   "outputs": [
    {
     "name": "stdout",
     "output_type": "stream",
     "text": [
      "('010-', '1111', '2222')\n",
      "010-\n",
      "1111\n",
      "2222\n"
     ]
    }
   ],
   "source": [
    "regx = re.compile(r'(\\d\\d\\d-)?(\\d\\d\\d\\d)-(\\d\\d\\d\\d)')\n",
    "ret = regx.search('전화번호: 010-1111-2222')\n",
    "print(ret.groups())\n",
    "print(ret.group(1))\n",
    "print(ret.group(2))\n",
    "print(ret.group(3))"
   ]
  },
  {
   "cell_type": "code",
   "execution_count": 34,
   "metadata": {},
   "outputs": [
    {
     "name": "stdout",
     "output_type": "stream",
     "text": [
      "(None, '1111', '2222')\n",
      "None\n",
      "1111\n",
      "2222\n"
     ]
    }
   ],
   "source": [
    "ret = regx.search('전화번호: 1111-2222')\n",
    "print(ret.groups())\n",
    "print(ret.group(1)) # 선택적 요소가 없으면 -> None\n",
    "print(ret.group(2))\n",
    "print(ret.group(3))"
   ]
  },
  {
   "cell_type": "code",
   "execution_count": 38,
   "metadata": {},
   "outputs": [
    {
     "name": "stdout",
     "output_type": "stream",
     "text": [
      "Game go start!\n",
      "Game gogo start!\n",
      "None\n"
     ]
    }
   ],
   "source": [
    "# +의 역할: 여러 번 일치하는 경우 찾아냄\n",
    "regx = re.compile(r'Game (go)+ start!')  # +: 적어도 1번 이상 일치하는 경우\n",
    "# ret = regx.search('Starcraft Game start!')\n",
    "ret = regx.search('Starcraft Game go start!')\n",
    "if ret != None:\n",
    "    print(ret.group()) # Game go start!\n",
    "\n",
    "ret = regx.search('Starcraft Game gogo start!')\n",
    "if ret != None:\n",
    "    print(ret.group()) # Game gogo start!\n",
    "\n",
    "ret = regx.search('Starcraft Game go go start!') # 연속된 go 문자열이 아님\n",
    "print(ret) # None"
   ]
  },
  {
   "cell_type": "code",
   "execution_count": 43,
   "metadata": {},
   "outputs": [
    {
     "name": "stdout",
     "output_type": "stream",
     "text": [
      "Game go go start!\n"
     ]
    }
   ],
   "source": [
    "# ' ' 또는 공백 \\s를 사용\n",
    "# 공백 주의 start 앞에 공백 있으면 안됨\n",
    "regx = re.compile(r'Game (go\\s)+start!')  # +: 적어도 1번 이상 일치하는 경우\n",
    "ret = regx.search('Starcraft Game go go start!') # 연속된 go 문자열이 아님\n",
    "print(ret.group()) # Game go go start!"
   ]
  },
  {
   "cell_type": "code",
   "execution_count": 44,
   "metadata": {},
   "outputs": [
    {
     "name": "stdout",
     "output_type": "stream",
     "text": [
      "HAHAHA\n",
      "True\n"
     ]
    }
   ],
   "source": [
    "# HA가 세 번 반복됨\n",
    "regx = re.compile(r'(HA){3}')\n",
    "ret = regx.search('HAHAHA 테스트중')\n",
    "print(ret.group())\n",
    "ret = regx.search('HAHA 테스트중')\n",
    "print(ret == None)"
   ]
  },
  {
   "cell_type": "code",
   "execution_count": 46,
   "metadata": {},
   "outputs": [
    {
     "name": "stdout",
     "output_type": "stream",
     "text": [
      "HAHAHAHAHA\n",
      "HAHAHAHA\n",
      "HAHAHA\n"
     ]
    }
   ],
   "source": [
    "# 문자열이 3 ~ 5번 등장해야함, 5포함\n",
    "regx = re.compile(r'(HA){3,5}')  # {3, 5} 등 공백주의.\n",
    "ret = regx.search('HAHAHAHAHA 테스트중')\n",
    "print(ret.group())\n",
    "ret = regx.search('HAHAHAHA 테스트중')\n",
    "print(ret.group())\n",
    "ret = regx.search('HAHAHA 테스트중')\n",
    "print(ret.group())"
   ]
  },
  {
   "cell_type": "code",
   "execution_count": 48,
   "metadata": {},
   "outputs": [
    {
     "name": "stdout",
     "output_type": "stream",
     "text": [
      "HAHAHA\n"
     ]
    }
   ],
   "source": [
    "# 최소 일치 문자열 우선, 3이 4,5보다 우선\n",
    "regx = re.compile(r'(HA){3,5}?')  \n",
    "ret = regx.search('HAHAHAHAHA 테스트중')\n",
    "print(ret.group()) # HAHAHA"
   ]
  },
  {
   "cell_type": "code",
   "execution_count": 49,
   "metadata": {},
   "outputs": [
    {
     "name": "stdout",
     "output_type": "stream",
     "text": [
      "['000-1111-2222', '111-5555-6666']\n",
      "000-1111-2222\n",
      "111-5555-6666\n"
     ]
    }
   ],
   "source": [
    "# findall, 일치하는 문자열 여러 개 모두 산출 -> 리스트 리턴\n",
    "regx = re.compile(r'\\d\\d\\d-\\d\\d\\d\\d-\\d\\d\\d\\d')\n",
    "ret = regx.findall('문의: 000-1111-2222, 111-5555-6666')\n",
    "print(ret)\n",
    "for i in ret:\n",
    "    print(i)"
   ]
  },
  {
   "cell_type": "code",
   "execution_count": 50,
   "metadata": {},
   "outputs": [
    {
     "name": "stdout",
     "output_type": "stream",
     "text": [
      "[('000', '1111', '2222'), ('111', '5555', '6666')]\n",
      "('000', '1111', '2222')\n",
      "('111', '5555', '6666')\n",
      "통신사: 000\n",
      "통신사: 111\n"
     ]
    }
   ],
   "source": [
    "regx = re.compile(r'(\\d\\d\\d)-(\\d\\d\\d\\d)-(\\d\\d\\d\\d)') # 그룹화하여 요소에 접근\n",
    "ret = regx.findall('문의: 000-1111-2222, 111-5555-6666')\n",
    "print(ret)\n",
    "for i in ret:\n",
    "    print(i) # 튜플\n",
    "    \n",
    "for i in ret:\n",
    "    print('통신사:',i[0]) # 값"
   ]
  },
  {
   "cell_type": "code",
   "execution_count": 57,
   "metadata": {},
   "outputs": [
    {
     "name": "stdout",
     "output_type": "stream",
     "text": [
      "['1. January', '2. February', '3. March']\n",
      "1. January\n",
      "2. February\n",
      "3. March\n",
      "['1. 1월', '2. 2월', '3. 3월']\n",
      "1. 1월\n",
      "2. 2월\n",
      "3. 3월\n"
     ]
    }
   ],
   "source": [
    "# 숫자 1개이상 등장, 하나의 글자(.), 공백 1칸, 문자 1개 이상 등장(알파벳 한 글자, 한글 한 글자)\n",
    "regx = re.compile(r'\\d+.\\s\\w+') \n",
    "ret = regx.findall('1. January 2. February 3. March')\n",
    "print(ret)\n",
    "for i in ret:\n",
    "    print(i)\n",
    "\n",
    "ret = regx.findall('1. 1월 2. 2월 3. 3월')\n",
    "print(ret)\n",
    "for i in ret:\n",
    "    print(i)"
   ]
  },
  {
   "cell_type": "code",
   "execution_count": 59,
   "metadata": {},
   "outputs": [
    {
     "name": "stdout",
     "output_type": "stream",
     "text": [
      "['a', 'a', 'e', 'b', 'a', 'a', 'c']\n"
     ]
    }
   ],
   "source": [
    "# 독립 문자의 포함여부 확인 [] \n",
    "regx = re.compile(r'[abcdeABCDE]') \n",
    "ret = regx.findall('1. January 2. February 3. March')\n",
    "print(ret)\n"
   ]
  },
  {
   "cell_type": "code",
   "execution_count": 60,
   "metadata": {},
   "outputs": [
    {
     "name": "stdout",
     "output_type": "stream",
     "text": [
      "['a', 'a', 'e', 'b', 'a', 'a', 'c']\n"
     ]
    }
   ],
   "source": [
    "# 독립 문자의 포함여부 확인 '-'로 범위 지정\n",
    "regx = re.compile(r'[a-eA-E]') \n",
    "ret = regx.findall('1. January 2. February 3. March')\n",
    "print(ret)\n"
   ]
  },
  {
   "cell_type": "code",
   "execution_count": 61,
   "metadata": {},
   "outputs": [
    {
     "name": "stdout",
     "output_type": "stream",
     "text": [
      "['1', '.', ' ', 'J', 'n', 'u', 'r', 'y', ' ', '2', '.', ' ', 'F', 'r', 'u', 'r', 'y', ' ', '3', '.', ' ', 'M', 'r', 'h']\n"
     ]
    }
   ],
   "source": [
    "# 독립 문자의 포함여부 확인 '-'로 범위 지정, ^: XOR, 제외한 것이 나옴\n",
    "regx = re.compile(r'[^a-eA-E]') \n",
    "ret = regx.findall('1. January 2. February 3. March')\n",
    "print(ret)"
   ]
  },
  {
   "cell_type": "code",
   "execution_count": 62,
   "metadata": {},
   "outputs": [
    {
     "name": "stdout",
     "output_type": "stream",
     "text": [
      "['Hello', 'Hello']\n"
     ]
    }
   ],
   "source": [
    "# r이 생략되어도 정상 작동\n",
    "regx = re.compile('Hello')\n",
    "ret = regx.findall('Hello는 처음 인사입니다. Hello하세요.') \n",
    "print(ret)"
   ]
  },
  {
   "cell_type": "code",
   "execution_count": 66,
   "metadata": {},
   "outputs": [
    {
     "name": "stdout",
     "output_type": "stream",
     "text": [
      "[]\n"
     ]
    }
   ],
   "source": [
    "# 모든 Hello를 제외한 문자 확인? X -> # 처음에 HELLO로 시작하는 글자를 찾는다. \n",
    "regx = re.compile('^Hello')\n",
    "ret = regx.findall('Hello는 처음 인사입니다. Hello하세요.') \n",
    "print(ret)\n",
    "# ['Hello']"
   ]
  },
  {
   "cell_type": "code",
   "execution_count": 65,
   "metadata": {},
   "outputs": [
    {
     "name": "stdout",
     "output_type": "stream",
     "text": [
      "['는', ' ', '처', '음', ' ', '인', '사', '입', '니', '다', '.', ' ', '하', '세', '요', '.']\n"
     ]
    }
   ],
   "source": [
    "# 모든 Hello를 제외한 문자 확인\n",
    "# r이 생략되어도 정상 작동 하지만 XOR을 사용하면 이상하게 작동한다.\n",
    "regx = re.compile('[^Hello]')\n",
    "ret = regx.findall('Hello는 처음 인사입니다. Hello하세요.') \n",
    "print(ret)\n",
    "# ['Hello']"
   ]
  },
  {
   "cell_type": "code",
   "execution_count": 69,
   "metadata": {},
   "outputs": [
    {
     "name": "stdout",
     "output_type": "stream",
     "text": [
      "Hello\n"
     ]
    }
   ],
   "source": [
    "# HELLO 문자열 찾기\n",
    "regx = re.compile('Hello')\n",
    "ret = regx.search('Hello는 처음 인사입니다. Hello하세요.') \n",
    "print(ret.group())"
   ]
  },
  {
   "cell_type": "code",
   "execution_count": 70,
   "metadata": {},
   "outputs": [
    {
     "name": "stdout",
     "output_type": "stream",
     "text": [
      "Hello\n"
     ]
    }
   ],
   "source": [
    "# HELLO로 시작하는 문자열 찾기\n",
    "regx = re.compile('^Hello')\n",
    "ret = regx.search('Hello는 처음 인사입니다. Hello하세요.') \n",
    "print(ret.group())"
   ]
  },
  {
   "cell_type": "code",
   "execution_count": 73,
   "metadata": {},
   "outputs": [
    {
     "name": "stdout",
     "output_type": "stream",
     "text": [
      "는\n"
     ]
    }
   ],
   "source": [
    "# HELLO가 아닌 문자열 찾기 \n",
    "regx = re.compile('[^Hello]')\n",
    "ret = regx.search('Hello는 처음 인사입니다. Hello하세요.') \n",
    "print(ret.group())"
   ]
  },
  {
   "cell_type": "code",
   "execution_count": 74,
   "metadata": {},
   "outputs": [
    {
     "name": "stdout",
     "output_type": "stream",
     "text": [
      " 처음\n"
     ]
    }
   ],
   "source": [
    "# HELLO가 아닌 문자열 찾기, 두 글자 이상인 글자\n",
    "# \\w는 문자, 숫자, 언더바\n",
    "regx = re.compile('[^Hello]\\w+')\n",
    "ret = regx.search('Hello는 처음 인사입니다. Hello하세요.') \n",
    "print(ret.group()) # 처음"
   ]
  },
  {
   "cell_type": "code",
   "execution_count": 75,
   "metadata": {},
   "outputs": [
    {
     "name": "stdout",
     "output_type": "stream",
     "text": [
      "['Hello']\n",
      "[]\n",
      "0\n"
     ]
    }
   ],
   "source": [
    "# $ 스트링, # Hello로 끝나는 문자\n",
    "regx = re.compile(r'Hello$')  \n",
    "ret = regx.findall('안녕:Hello') \n",
    "print(ret)\n",
    "ret = regx.findall('Hello: 안녕') \n",
    "print(ret)\n",
    "print(len(ret))"
   ]
  },
  {
   "cell_type": "code",
   "execution_count": 76,
   "metadata": {},
   "outputs": [
    {
     "name": "stdout",
     "output_type": "stream",
     "text": [
      "[]\n",
      "[]\n",
      "[]\n",
      "['Hello']\n"
     ]
    }
   ],
   "source": [
    "regx = re.compile(r'^Hello$')  # 정확히 문자열이 Hello와 일치해야함.\n",
    "ret = regx.findall('안녕:Hello') \n",
    "print(ret)\n",
    "ret = regx.findall('Hello:안녕') \n",
    "print(ret)\n",
    "ret = regx.findall('영어 Hello:안녕') \n",
    "print(ret)\n",
    "ret = regx.findall('Hello') \n",
    "print(ret)"
   ]
  },
  {
   "cell_type": "code",
   "execution_count": 78,
   "metadata": {},
   "outputs": [
    {
     "name": "stdout",
     "output_type": "stream",
     "text": [
      "['cat', 'hat', 'pat', ' at']\n"
     ]
    }
   ],
   "source": [
    "# 와일드 카드 문자\n",
    "# 마침표는 공백을 포함한 어느 하나의 문자를 의미\n",
    "regx = re.compile(r'.at')  # . 하나의 문자에 해당\n",
    "ret = regx.findall('The cat. The hat. The mypat. at Home')\n",
    "print(ret)\n"
   ]
  },
  {
   "cell_type": "code",
   "execution_count": 91,
   "metadata": {},
   "outputs": [
    {
     "name": "stdout",
     "output_type": "stream",
     "text": [
      "<class '_sre.SRE_Match'>\n",
      "<class 'str'>\n",
      "First Name: PythonLast Name: developer\n",
      "First Name: PythonLast Name: developer\n",
      "Python\n",
      "developer\n"
     ]
    }
   ],
   "source": [
    "# .*는 모든 문자를 의미, 공백도 포함\n",
    "regx = re.compile(r'First Name: (.*) Last Name: (.*)')\n",
    "ret = regx.search('First Name: Python Last Name: developer')\n",
    "print(type(ret))         # <class '_sre.SRE_Match'>\n",
    "print(type(ret.group())) # <class 'str'>\n",
    "print(ret.group())  # First Name: Python Last Name: developer\n",
    "print(ret.group(0)) # First Name: Python Last Name: developer\n",
    "print(ret.group(1)) # 첫번째 그룹: Python\n",
    "print(ret.group(2)) # 두번째 그룹: developer"
   ]
  },
  {
   "cell_type": "code",
   "execution_count": 92,
   "metadata": {},
   "outputs": [
    {
     "name": "stdout",
     "output_type": "stream",
     "text": [
      "<class 'list'>\n",
      "[('Python', 'developer')]\n",
      "('Python', 'developer')\n",
      "Python\n",
      "developer\n"
     ]
    }
   ],
   "source": [
    "regx = re.compile(r'First Name: (.*) Last Name: (.*)')\n",
    "ret = regx.findall('First Name: Python Last Name: developer')\n",
    "print(type(ret))         # <class 'list'>\n",
    "print(ret) # [('Python', 'developer')]\n",
    "for i in ret:\n",
    "    print(i)\n",
    "\n",
    "item = ret[0] # list -> tuple\n",
    "for i in item: # tuple -> scala\n",
    "    print(i)"
   ]
  },
  {
   "cell_type": "code",
   "execution_count": 93,
   "metadata": {},
   "outputs": [
    {
     "name": "stdout",
     "output_type": "stream",
     "text": [
      "['Python \\n데이터분석 분야 \\n크롤링분야', '']\n",
      "['Python ', '데이터분석 분야 ', '크롤링분야']\n",
      "Python\n",
      "데이터분석 분야\n",
      "크롤링분야\n"
     ]
    }
   ],
   "source": [
    "regx = re.compile(r'.*', re.DOTALL)\n",
    "ret = regx.findall('Python \\n데이터분석 분야 \\n크롤링분야')\n",
    "print(ret)\n",
    "item = ret[0].split('\\n')\n",
    "print(item)\n",
    "\n",
    "for i in item:\n",
    "    print(i.strip())  # 문자열 좌우 공백 제거하여 출력, trim과 유사"
   ]
  },
  {
   "cell_type": "code",
   "execution_count": 95,
   "metadata": {},
   "outputs": [
    {
     "name": "stdout",
     "output_type": "stream",
     "text": [
      "['Python']\n"
     ]
    }
   ],
   "source": [
    "# 대소문자 구분 무시\n",
    "regx = re.compile(r'python', re.IGNORECASE)  # 대소문자 구분 무시\n",
    "ret = regx.findall('Python \\n데이터분석 분야 \\n크롤링분야')\n",
    "print(ret)"
   ]
  },
  {
   "cell_type": "code",
   "execution_count": 96,
   "metadata": {},
   "outputs": [
    {
     "name": "stdout",
     "output_type": "stream",
     "text": [
      "['Python']\n"
     ]
    }
   ],
   "source": [
    "regx = re.compile(r'python', re.I)  # 대소문자 구분 무시\n",
    "ret = regx.findall('Python \\n데이터분석 분야 \\n크롤링분야')\n",
    "print(ret)"
   ]
  },
  {
   "cell_type": "markdown",
   "metadata": {},
   "source": [
    "## re.sub()"
   ]
  },
  {
   "cell_type": "code",
   "execution_count": 99,
   "metadata": {},
   "outputs": [
    {
     "name": "stdout",
     "output_type": "stream",
     "text": [
      "fruit box fruit tree\n"
     ]
    }
   ],
   "source": [
    "# apple 또는 orange를 fruit로 바꿈\n",
    "ret = re.sub('apple|orange', 'fruit', 'apple box orange tree')\n",
    "print(ret)"
   ]
  },
  {
   "cell_type": "code",
   "execution_count": 101,
   "metadata": {},
   "outputs": [
    {
     "name": "stdout",
     "output_type": "stream",
     "text": [
      "Python은 기계 학습 중요 기계 학습\n"
     ]
    }
   ],
   "source": [
    "# 데이터 분석을 찾아서 기계 학습으로 변경 \n",
    "ret = re.sub('데이터 분석', '기계 학습', 'Python은 데이터 분석 중요 데이터 분석') # 변경\n",
    "print(ret) # Python은 기계 학습 데이터 분석"
   ]
  },
  {
   "cell_type": "code",
   "execution_count": 103,
   "metadata": {},
   "outputs": [
    {
     "name": "stdout",
     "output_type": "stream",
     "text": [
      "<class 'str'>\n",
      "**동, **1, **하\n"
     ]
    }
   ],
   "source": [
    "# 문자열을 찾아 마지막 1문자만 남기고 *로 변환\n",
    "regx = re.compile(r'개발자 (\\w)*') # **동 **1 **하 \n",
    "ret = regx.sub(r'**\\1', '개발자 가길동, 개발자 나길동1, 개발자 다길순이하')\n",
    "print(type(ret))\n",
    "print(ret)  # ***동, ***1, ***하"
   ]
  },
  {
   "cell_type": "code",
   "execution_count": 104,
   "metadata": {},
   "outputs": [
    {
     "name": "stdout",
     "output_type": "stream",
     "text": [
      "가**, 나**, 다**\n"
     ]
    }
   ],
   "source": [
    "regx = re.compile(r'개발자 (\\w)\\w*') # 가** 나** 다**  그룹 번호의 사용\n",
    "ret = regx.sub(r'\\1**', '개발자 가길동, 개발자 나길동, 개발자 다길순')\n",
    "print(ret)"
   ]
  },
  {
   "cell_type": "code",
   "execution_count": 106,
   "metadata": {},
   "outputs": [
    {
     "name": "stdout",
     "output_type": "stream",
     "text": [
      "동**, 동**, 순**\n"
     ]
    }
   ],
   "source": [
    "regx = re.compile(r'개발자 (\\w)+') # 가** 나** 다**  그룹 번호의 사용\n",
    "ret = regx.sub(r'\\1**', '개발자 가길동, 개발자 나길동, 개발자 다길순')\n",
    "print(ret)"
   ]
  },
  {
   "cell_type": "code",
   "execution_count": 107,
   "metadata": {},
   "outputs": [
    {
     "name": "stdout",
     "output_type": "stream",
     "text": [
      "가*동, 나*동, 다*순, 분*석\n"
     ]
    }
   ],
   "source": [
    "# 가운데 글자만 가림\n",
    "regx = re.compile(r'개발자 (\\w)(\\w*)(\\w)') # 가*동, 나*동, 다*순, 분*석\n",
    "ret = regx.sub(r'\\1*\\3', '개발자 가길동, 개발자 나길동, 개발자 다길순, 개발자 분석')\n",
    "print(ret)"
   ]
  },
  {
   "cell_type": "code",
   "execution_count": 108,
   "metadata": {},
   "outputs": [
    {
     "name": "stdout",
     "output_type": "stream",
     "text": [
      "idx 11\n",
      "왕눈이 아로미 투투 김명단\n",
      "['왕눈이', '아로미', '투투', '김명단']\n"
     ]
    }
   ],
   "source": [
    "# 한글 이름 검색\n",
    "dev = 'Develoer 명단: 왕눈이 아로미 투투 김명단'\n",
    "idx = dev.find(':') # index: 11 위치를 반환\n",
    "print('idx', idx)\n",
    "dev = dev[idx+2:]\n",
    "print(dev)\n",
    "regx = re.compile(r'[가-힣]{2,3}') # 한글 2~3자만 검색\n",
    "ret = regx.findall(dev)\n",
    "print(ret)"
   ]
  },
  {
   "cell_type": "code",
   "execution_count": 109,
   "metadata": {},
   "outputs": [
    {
     "name": "stdout",
     "output_type": "stream",
     "text": [
      "[('000-1111-1111', '000', '-', '1111', '-', '1111'), ('(010) 2222-3333', '(010)', ' ', '2222', '-', '3333'), ('012 5555 6666', '012', ' ', '5555', ' ', '6666')]\n",
      "발견된 전화번호: 3  건\n",
      "000-1111-1111\n",
      "(010) 2222-3333\n",
      "012 5555 6666\n"
     ]
    }
   ],
   "source": [
    "# 유효한 전화번호 체크, 전화 번호 정규 표현식\n",
    "regx = re.compile(r'''(\n",
    "    (\\d{3}|\\(\\d{3}\\))+  # 000 or (000) 과 0번 또는 1번 나타나는 것과 일치\n",
    "    (\\s|-|\\.)?              # 빈칸, 탭또는 줄바꿈 문자, -, .문자가 나타나는 것과 일치\n",
    "    (\\d{4})                 # number 1\n",
    "    (\\s|-|\\.)?              # 빈칸, 탭또는 줄바꿈 문자, -, .문자가 나타나는 것과 일치\n",
    "    (\\d{4})                 # number 2\n",
    ")''', re.VERBOSE)\n",
    "ret = regx.findall('000-1111-1111 (010) 2222-3333 012 5555 6666 02 6901 7000')\n",
    "print(ret)\n",
    "print('발견된 전화번호:', len(ret),' 건')\n",
    "for i in ret:\n",
    "    print(i[0])"
   ]
  },
  {
   "cell_type": "code",
   "execution_count": 110,
   "metadata": {},
   "outputs": [
    {
     "name": "stdout",
     "output_type": "stream",
     "text": [
      "[('a@mail.com', '.com')]\n",
      "이메일 형식이 일치합니다.\n"
     ]
    }
   ],
   "source": [
    "# 이메일 정규 표현식, []: 문자 나열\n",
    "regx = re.compile(r'''(\n",
    "    [a-zA-Z0-9._%+-]+  # 1번 이상 등장\n",
    "    @                       # @\n",
    "    [a-zA-Z0-9.-]+        # gmail domain\n",
    "    (\\.[a-zA-Z]{2,4})      # .kr, .com 등 .korea X\n",
    ")''', re.VERBOSE)\n",
    "\n",
    "ret = regx.findall('a@mail.com @gmail.com a.com a@mail mail.com b@mail')\n",
    "print(ret)\n",
    "if len(ret) == 1:\n",
    "    print(\"이메일 형식이 일치합니다.\") \n",
    "else:\n",
    "    print(\"이메일 형식을 지켜주세요.\")"
   ]
  },
  {
   "cell_type": "code",
   "execution_count": null,
   "metadata": {},
   "outputs": [],
   "source": []
  }
 ],
 "metadata": {
  "kernelspec": {
   "display_name": "ai",
   "language": "python",
   "name": "ai"
  },
  "language_info": {
   "codemirror_mode": {
    "name": "ipython",
    "version": 3
   },
   "file_extension": ".py",
   "mimetype": "text/x-python",
   "name": "python",
   "nbconvert_exporter": "python",
   "pygments_lexer": "ipython3",
   "version": "3.6.10"
  }
 },
 "nbformat": 4,
 "nbformat_minor": 2
}
