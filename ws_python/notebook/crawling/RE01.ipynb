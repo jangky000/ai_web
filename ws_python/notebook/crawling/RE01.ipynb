{
 "cells": [
  {
   "cell_type": "code",
   "execution_count": 1,
   "metadata": {},
   "outputs": [],
   "source": [
    "def isPhoneNumber(text):\n",
    "    if len(text) != 13: # 111-1111-1111\n",
    "        return False\n",
    "    for i in range(0, 3): # 0 ~ 2\n",
    "        if not text[i].isdecimal(): # text[0] = 1, text[1] = 1, text[2] = 1\n",
    "            return False\n",
    "    if text[3] != '-':\n",
    "        return False\n",
    "    for i in range(4, 8): # 111-1111-1111\n",
    "        if not text[i].isdecimal():\n",
    "            return False\n",
    "    if text[8] != '-':\n",
    "        return False\n",
    "    for i in range(9, 13):\n",
    "        if not text[i].isdecimal():\n",
    "            return False\n",
    "        \n",
    "    return True        \n",
    " \n"
   ]
  },
  {
   "cell_type": "code",
   "execution_count": 2,
   "metadata": {},
   "outputs": [
    {
     "name": "stdout",
     "output_type": "stream",
     "text": [
      "111-1111-1111 는 휴대폰 번호입니다.\n",
      "True\n",
      "02-1111-1111 는 휴대폰 번호입니다.\n",
      "False\n",
      "----------------------------------------\n",
      "전화 번호 발견: 111-1111-1111\n",
      "전화 번호 발견: 222-2222-2222\n",
      "처리를 종료했습니다.\n"
     ]
    }
   ],
   "source": [
    "if __name__ == '__main__':\n",
    "    print('111-1111-1111 는 휴대폰 번호입니다.')\n",
    "    print(isPhoneNumber('111-1111-1111'))\n",
    "    print('02-1111-1111 는 휴대폰 번호입니다.')    \n",
    "    print(isPhoneNumber('02-1111-1111'))    \n",
    "    \n",
    "    print('----------------------------------------')\n",
    "    message=\"\"\"저는 2개의 전화번호를 사용합니다. 111-1111-1111이고 부재중이면\n",
    "                     222-2222-2222로 전화부탁합니다. \"\"\"\n",
    "    for i in range(len(message)):\n",
    "        text = message[i:i+13]\n",
    "        if isPhoneNumber(text):\n",
    "            print('전화 번호 발견: ' + text)\n",
    "            \n",
    "    print('처리를 종료했습니다.')\n"
   ]
  },
  {
   "cell_type": "code",
   "execution_count": null,
   "metadata": {},
   "outputs": [],
   "source": []
  },
  {
   "cell_type": "code",
   "execution_count": null,
   "metadata": {},
   "outputs": [],
   "source": []
  },
  {
   "cell_type": "code",
   "execution_count": null,
   "metadata": {},
   "outputs": [],
   "source": []
  },
  {
   "cell_type": "code",
   "execution_count": null,
   "metadata": {},
   "outputs": [],
   "source": []
  },
  {
   "cell_type": "code",
   "execution_count": null,
   "metadata": {},
   "outputs": [],
   "source": []
  },
  {
   "cell_type": "code",
   "execution_count": null,
   "metadata": {},
   "outputs": [],
   "source": []
  },
  {
   "cell_type": "code",
   "execution_count": null,
   "metadata": {},
   "outputs": [],
   "source": []
  },
  {
   "cell_type": "code",
   "execution_count": null,
   "metadata": {},
   "outputs": [],
   "source": []
  },
  {
   "cell_type": "code",
   "execution_count": null,
   "metadata": {},
   "outputs": [],
   "source": []
  },
  {
   "cell_type": "code",
   "execution_count": null,
   "metadata": {},
   "outputs": [],
   "source": []
  },
  {
   "cell_type": "code",
   "execution_count": null,
   "metadata": {},
   "outputs": [],
   "source": []
  },
  {
   "cell_type": "code",
   "execution_count": null,
   "metadata": {},
   "outputs": [],
   "source": []
  },
  {
   "cell_type": "code",
   "execution_count": null,
   "metadata": {},
   "outputs": [],
   "source": []
  },
  {
   "cell_type": "code",
   "execution_count": null,
   "metadata": {},
   "outputs": [],
   "source": []
  },
  {
   "cell_type": "code",
   "execution_count": null,
   "metadata": {},
   "outputs": [],
   "source": []
  },
  {
   "cell_type": "code",
   "execution_count": null,
   "metadata": {},
   "outputs": [],
   "source": []
  },
  {
   "cell_type": "code",
   "execution_count": null,
   "metadata": {},
   "outputs": [],
   "source": []
  },
  {
   "cell_type": "code",
   "execution_count": null,
   "metadata": {},
   "outputs": [],
   "source": []
  },
  {
   "cell_type": "code",
   "execution_count": null,
   "metadata": {},
   "outputs": [],
   "source": []
  }
 ],
 "metadata": {
  "kernelspec": {
   "display_name": "ai",
   "language": "python",
   "name": "ai"
  },
  "language_info": {
   "codemirror_mode": {
    "name": "ipython",
    "version": 3
   },
   "file_extension": ".py",
   "mimetype": "text/x-python",
   "name": "python",
   "nbconvert_exporter": "python",
   "pygments_lexer": "ipython3",
   "version": "3.6.10"
  }
 },
 "nbformat": 4,
 "nbformat_minor": 2
}
