{
 "cells": [
  {
   "cell_type": "markdown",
   "metadata": {},
   "source": [
    "### 대한민국 구석구석(https://korean.visitkorea.or.kr/main/main.do)\n",
    ">이미지 가져오기"
   ]
  },
  {
   "cell_type": "code",
   "execution_count": 1,
   "metadata": {},
   "outputs": [],
   "source": [
    "import pandas as pd\n",
    "from bs4 import BeautifulSoup     \n",
    "from selenium import webdriver\n",
    "import time\n",
    "import math\n",
    "import os\n",
    "import urllib\n",
    "import urllib.request"
   ]
  },
  {
   "cell_type": "code",
   "execution_count": 2,
   "metadata": {},
   "outputs": [],
   "source": [
    "# f_dir = input('사진을 저장할 폴더를 지정하세요(예: C:\\data\\) : ')\n",
    "# 절대 경로 지정, 상대 경로 에러\n",
    "f_dir = \"C:/ai6/ws_python/notebook/crawling/output/\";  \n",
    "query_txt = '사진저장'"
   ]
  },
  {
   "cell_type": "code",
   "execution_count": 3,
   "metadata": {},
   "outputs": [],
   "source": [
    "# 파일을 저장할 폴더를 생성합니다\n",
    "now = time.localtime() # 년-월-일-시-분-초\n",
    "s = '%04d-%02d-%02d-%02d-%02d-%02d' % (now.tm_year, now.tm_mon, now.tm_mday, now.tm_hour, now.tm_min, now.tm_sec)"
   ]
  },
  {
   "cell_type": "code",
   "execution_count": 4,
   "metadata": {},
   "outputs": [],
   "source": [
    "# 기준 폴더, 기본 입출력 폴더\n",
    "os.chdir(f_dir)\n",
    "new_folder = f_dir + s + '_' + query_txt\n",
    "if (os.path.exists(new_folder) == False): # 폴더가 존재하는지 확인\n",
    "    os.makedirs(new_folder) # 이미지 저장 폴더\n",
    "    os.chdir(new_folder)  # 생성된 폴더로 이동\n",
    "\n",
    "# 2020-06-16-15-47-11_사진저장 -> 폴더 생성 "
   ]
  },
  {
   "cell_type": "code",
   "execution_count": 6,
   "metadata": {},
   "outputs": [],
   "source": [
    "driver = webdriver.Chrome('C:/ai6/chromedriver.exe')\n",
    "\n",
    "driver.get(\"https://korean.visitkorea.or.kr/detail/rem_detail.do?cotid=2357ad81-8319-437f-9630-558a53e647b6&temp=\")\n",
    "time.sleep(2) # 2초"
   ]
  },
  {
   "cell_type": "code",
   "execution_count": 7,
   "metadata": {},
   "outputs": [
    {
     "name": "stderr",
     "output_type": "stream",
     "text": [
      "C:\\ProgramData\\Anaconda3\\envs\\ai\\lib\\site-packages\\bs4\\__init__.py:220: UserWarning: You provided Unicode markup but also provided a value for from_encoding. Your from_encoding will be ignored.\n",
      "  warnings.warn(\"You provided Unicode markup but also provided a value for from_encoding. Your from_encoding will be ignored.\")\n"
     ]
    }
   ],
   "source": [
    "source = driver.page_source\n",
    "bs = BeautifulSoup(source, \"html.parser\") # from_encoding='utf-8' 옵션 없어도 현재는 한글 깨지지 않음"
   ]
  },
  {
   "cell_type": "code",
   "execution_count": 14,
   "metadata": {},
   "outputs": [
    {
     "name": "stdout",
     "output_type": "stream",
     "text": [
      "https://cdn.visitkorea.or.kr/img/call?cmd=VIEW&id=45b69006-58ea-42e8-9b53-87ce9f2d286c\n",
      "https://cdn.visitkorea.or.kr/img/call?cmd=VIEW&id=9c4e271b-e863-4495-b416-9d35699be055\n",
      "https://cdn.visitkorea.or.kr/img/call?cmd=VIEW&id=788c2729-1914-48dc-a183-c143e4007673\n",
      "https://cdn.visitkorea.or.kr/img/call?cmd=VIEW&id=93a6deea-333f-4cf0-b7d6-5a3da23337c6\n",
      "https://cdn.visitkorea.or.kr/img/call?cmd=VIEW&id=e948c8c8-c53a-4284-b8b2-bca601fc6448\n",
      "https://cdn.visitkorea.or.kr/img/call?cmd=VIEW&id=60721910-a148-4591-9e53-c5e520d2557e\n",
      "https://cdn.visitkorea.or.kr/img/call?cmd=VIEW&id=d3eb5762-78bc-4857-ba10-227d9e4479dc\n",
      "https://cdn.visitkorea.or.kr/img/call?cmd=VIEW&id=4e22f2d8-8b29-43f7-9ade-f444e42eb36f\n",
      "https://cdn.visitkorea.or.kr/img/call?cmd=VIEW&id=0b85b3fb-99e9-4e95-beca-95c613176c7b\n",
      "https://cdn.visitkorea.or.kr/img/call?cmd=VIEW&id=381dc769-8e67-497c-b97f-1cd801967017\n",
      "https://cdn.visitkorea.or.kr/img/call?cmd=VIEW&id=012c2cab-d90c-4b0b-a7c4-8403c495055c\n",
      "https://cdn.visitkorea.or.kr/img/call?cmd=VIEW&id=ef1aca35-3f36-40b7-b997-3300f71f7f2b\n",
      "https://cdn.visitkorea.or.kr/img/call?cmd=VIEW&id=28b51ecd-cde5-4a69-9dfd-eb4054ace636\n",
      "https://cdn.visitkorea.or.kr/img/call?cmd=VIEW&id=19a65153-c067-41a3-b8cc-7865f4c944d2\n",
      "https://cdn.visitkorea.or.kr/img/call?cmd=VIEW&id=0c423971-30b8-4bb4-852b-e56d3e80fc89\n",
      "https://cdn.visitkorea.or.kr/img/call?cmd=VIEW&id=7106ed37-bf7b-4257-a7cf-091e53b7b968\n",
      "https://cdn.visitkorea.or.kr/img/call?cmd=VIEW&id=59a1612b-73cf-472d-8936-47e0fafc6f8e\n",
      "https://cdn.visitkorea.or.kr/img/call?cmd=VIEW&id=e81fe21f-70cb-4fe1-8e55-5e4524c91cda\n",
      "https://cdn.visitkorea.or.kr/img/call?cmd=VIEW&id=d7d269c8-be8a-449b-a979-b358f9a04794\n",
      "https://cdn.visitkorea.or.kr/img/call?cmd=VIEW&id=87e511bd-c14b-4fa0-bbf5-a020cbe48204\n"
     ]
    }
   ],
   "source": [
    "no = 0\n",
    "img_list = []\n",
    "img_src = bs.find('div', 'box_txtPhoto').find_all('img')\n",
    "for tag in img_src:\n",
    "    print(tag['src']) # 이미지 소스에 접근할 때, 딕셔너리처럼 접근\n",
    "    img_list.append(tag['src'])\n",
    "    no = no + 1"
   ]
  },
  {
   "cell_type": "code",
   "execution_count": 15,
   "metadata": {},
   "outputs": [
    {
     "name": "stdout",
     "output_type": "stream",
     "text": [
      "20\n"
     ]
    }
   ],
   "source": [
    "print(no)"
   ]
  },
  {
   "cell_type": "code",
   "execution_count": 16,
   "metadata": {},
   "outputs": [
    {
     "name": "stdout",
     "output_type": "stream",
     "text": [
      "https://cdn.visitkorea.or.kr/img/call?cmd=VIEW&id=45b69006-58ea-42e8-9b53-87ce9f2d286c 다운로드 요청\n",
      "1 번째 이미지 저장\n",
      "https://cdn.visitkorea.or.kr/img/call?cmd=VIEW&id=9c4e271b-e863-4495-b416-9d35699be055 다운로드 요청\n",
      "2 번째 이미지 저장\n",
      "https://cdn.visitkorea.or.kr/img/call?cmd=VIEW&id=788c2729-1914-48dc-a183-c143e4007673 다운로드 요청\n",
      "3 번째 이미지 저장\n",
      "https://cdn.visitkorea.or.kr/img/call?cmd=VIEW&id=93a6deea-333f-4cf0-b7d6-5a3da23337c6 다운로드 요청\n",
      "4 번째 이미지 저장\n",
      "https://cdn.visitkorea.or.kr/img/call?cmd=VIEW&id=e948c8c8-c53a-4284-b8b2-bca601fc6448 다운로드 요청\n",
      "5 번째 이미지 저장\n",
      "https://cdn.visitkorea.or.kr/img/call?cmd=VIEW&id=60721910-a148-4591-9e53-c5e520d2557e 다운로드 요청\n",
      "6 번째 이미지 저장\n",
      "https://cdn.visitkorea.or.kr/img/call?cmd=VIEW&id=d3eb5762-78bc-4857-ba10-227d9e4479dc 다운로드 요청\n",
      "7 번째 이미지 저장\n",
      "https://cdn.visitkorea.or.kr/img/call?cmd=VIEW&id=4e22f2d8-8b29-43f7-9ade-f444e42eb36f 다운로드 요청\n",
      "8 번째 이미지 저장\n",
      "https://cdn.visitkorea.or.kr/img/call?cmd=VIEW&id=0b85b3fb-99e9-4e95-beca-95c613176c7b 다운로드 요청\n",
      "9 번째 이미지 저장\n",
      "https://cdn.visitkorea.or.kr/img/call?cmd=VIEW&id=381dc769-8e67-497c-b97f-1cd801967017 다운로드 요청\n",
      "10 번째 이미지 저장\n",
      "https://cdn.visitkorea.or.kr/img/call?cmd=VIEW&id=012c2cab-d90c-4b0b-a7c4-8403c495055c 다운로드 요청\n",
      "11 번째 이미지 저장\n",
      "https://cdn.visitkorea.or.kr/img/call?cmd=VIEW&id=ef1aca35-3f36-40b7-b997-3300f71f7f2b 다운로드 요청\n",
      "12 번째 이미지 저장\n",
      "https://cdn.visitkorea.or.kr/img/call?cmd=VIEW&id=28b51ecd-cde5-4a69-9dfd-eb4054ace636 다운로드 요청\n",
      "13 번째 이미지 저장\n",
      "https://cdn.visitkorea.or.kr/img/call?cmd=VIEW&id=19a65153-c067-41a3-b8cc-7865f4c944d2 다운로드 요청\n",
      "14 번째 이미지 저장\n",
      "https://cdn.visitkorea.or.kr/img/call?cmd=VIEW&id=0c423971-30b8-4bb4-852b-e56d3e80fc89 다운로드 요청\n",
      "15 번째 이미지 저장\n",
      "https://cdn.visitkorea.or.kr/img/call?cmd=VIEW&id=7106ed37-bf7b-4257-a7cf-091e53b7b968 다운로드 요청\n",
      "16 번째 이미지 저장\n",
      "https://cdn.visitkorea.or.kr/img/call?cmd=VIEW&id=59a1612b-73cf-472d-8936-47e0fafc6f8e 다운로드 요청\n",
      "17 번째 이미지 저장\n",
      "https://cdn.visitkorea.or.kr/img/call?cmd=VIEW&id=e81fe21f-70cb-4fe1-8e55-5e4524c91cda 다운로드 요청\n",
      "18 번째 이미지 저장\n",
      "https://cdn.visitkorea.or.kr/img/call?cmd=VIEW&id=d7d269c8-be8a-449b-a979-b358f9a04794 다운로드 요청\n",
      "19 번째 이미지 저장\n",
      "https://cdn.visitkorea.or.kr/img/call?cmd=VIEW&id=87e511bd-c14b-4fa0-bbf5-a020cbe48204 다운로드 요청\n",
      "20 번째 이미지 저장\n"
     ]
    }
   ],
   "source": [
    "for i in range(0, no):\n",
    "    try:\n",
    "        print(img_list[i] + ' 다운로드 요청')\n",
    "        # urlretrieve(요청, 저장할 파일명)\n",
    "        urllib.request.urlretrieve(img_list[i], str(i+1)+'.jpg') # 이미지 다운로드\n",
    "    except:\n",
    "        continue\n",
    "        \n",
    "    time.sleep(1) # 1초 쉼\n",
    "    print('{0} 번째 이미지 저장'.format(i+1))"
   ]
  },
  {
   "cell_type": "code",
   "execution_count": 17,
   "metadata": {},
   "outputs": [],
   "source": [
    "driver.close()"
   ]
  },
  {
   "cell_type": "code",
   "execution_count": null,
   "metadata": {},
   "outputs": [],
   "source": []
  },
  {
   "cell_type": "code",
   "execution_count": null,
   "metadata": {},
   "outputs": [],
   "source": []
  },
  {
   "cell_type": "code",
   "execution_count": null,
   "metadata": {},
   "outputs": [],
   "source": []
  },
  {
   "cell_type": "code",
   "execution_count": null,
   "metadata": {},
   "outputs": [],
   "source": []
  },
  {
   "cell_type": "code",
   "execution_count": null,
   "metadata": {},
   "outputs": [],
   "source": []
  },
  {
   "cell_type": "code",
   "execution_count": null,
   "metadata": {},
   "outputs": [],
   "source": []
  }
 ],
 "metadata": {
  "kernelspec": {
   "display_name": "ai",
   "language": "python",
   "name": "ai"
  },
  "language_info": {
   "codemirror_mode": {
    "name": "ipython",
    "version": 3
   },
   "file_extension": ".py",
   "mimetype": "text/x-python",
   "name": "python",
   "nbconvert_exporter": "python",
   "pygments_lexer": "ipython3",
   "version": "3.6.10"
  }
 },
 "nbformat": 4,
 "nbformat_minor": 2
}
