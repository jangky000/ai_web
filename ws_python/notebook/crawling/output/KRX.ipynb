{
 "cells": [
  {
   "cell_type": "code",
   "execution_count": 1,
   "metadata": {},
   "outputs": [],
   "source": [
    "from bs4 import BeautifulSoup\n",
    "from selenium import webdriver\n",
    "\n",
    "import time\n",
    "import os"
   ]
  },
  {
   "cell_type": "code",
   "execution_count": 2,
   "metadata": {},
   "outputs": [],
   "source": [
    "# 관리 종목: 상장 폐지 요건에 1가지이상 적용되어 투자 주의가 필요한 종목\n",
    "# 관리 종목 주소: http://marketdata.krx.co.kr/mdi#document=040301\n",
    "url_addr = 'http://marketdata.krx.co.kr/mdi#document=040301'"
   ]
  },
  {
   "cell_type": "code",
   "execution_count": 3,
   "metadata": {},
   "outputs": [],
   "source": [
    "# download ERROR\n",
    "# f_dir = \"C:/ai6/ws_python/notebook/crawling/output/\"; # 에러 발생\n",
    "\n",
    "# 역 슬래시를 사용해야 함\n",
    "# 정상 처리됨.\n",
    "f_dir = \"C:\\\\ai6\\\\ws_python\\\\notebook\\\\crawling\\\\output\\\\\";"
   ]
  },
  {
   "cell_type": "code",
   "execution_count": 5,
   "metadata": {},
   "outputs": [
    {
     "name": "stdout",
     "output_type": "stream",
     "text": [
      " 1.전체      2.KOSPI     3.KOSDAQ   \n",
      "1. 위 번호 중 조회할 시장 번호를 선택하세요:  1\n",
      " 1.xls 형식으로 저장하기      2.csv 형식으로 저장하기  \n",
      "2. 위 번호 중 저장할 파일 형식의 번호를 선택하세요:  1\n"
     ]
    }
   ],
   "source": [
    "choice = input(''' 1.전체      2.KOSPI     3.KOSDAQ   \n",
    "1. 위 번호 중 조회할 시장 번호를 선택하세요:  ''')\n",
    "\n",
    "f_choice = input(''' 1.xls 형식으로 저장하기      2.csv 형식으로 저장하기  \n",
    "2. 위 번호 중 저장할 파일 형식의 번호를 선택하세요:  ''')"
   ]
  },
  {
   "cell_type": "code",
   "execution_count": 9,
   "metadata": {},
   "outputs": [],
   "source": [
    "# 옵션 설정\n",
    "options = webdriver.ChromeOptions()\n",
    "\n",
    "path = \"C:/ai6/chromedriver.exe\"\n",
    "driver = webdriver.Chrome(path,options=options)\n",
    "\n",
    "# 브러우저 인식 파일(pdf. jpg...) 파일을 바로 열지말고 다운로드 받도록 지정\n",
    "options.add_experimental_option(\"prefs\", {\n",
    "      \"download.default_directory\": f_dir,\n",
    "      \"download.prompt_for_download\": False,\n",
    "      \"plugins.always_open_pdf_externally\": True\n",
    "})"
   ]
  },
  {
   "cell_type": "code",
   "execution_count": 10,
   "metadata": {},
   "outputs": [],
   "source": [
    "# 다운로드 폴더 설정\n",
    "driver.command_executor._commands[\"send_command\"] = (\"POST\", '/session/$sessionId/chromium/send_command')\n",
    "params = {'cmd': 'Page.setDownloadBehavior', 'params': {'behavior': 'allow', 'downloadPath': f_dir}}\n",
    "command_result = driver.execute(\"send_command\", params)"
   ]
  },
  {
   "cell_type": "code",
   "execution_count": null,
   "metadata": {},
   "outputs": [],
   "source": [
    "# 위까지 브라우저 설정"
   ]
  },
  {
   "cell_type": "code",
   "execution_count": 11,
   "metadata": {},
   "outputs": [],
   "source": [
    "# 다운로드할 페이지 접속\n",
    "driver.get(url_addr)\n",
    "time.sleep(5)"
   ]
  },
  {
   "cell_type": "code",
   "execution_count": 12,
   "metadata": {},
   "outputs": [],
   "source": [
    "# 전체 / KOSPI / KOSDAQ  라디오 버튼 선택 후 조회 버튼 누르기\n",
    "# id가 random으로 생성되는 성질이 있어 id를 사용하지 말것.(id를 찾을 수가 없다.)\n",
    "# 그래서 full xpath가 들어간다. html부터 시작 -> id가 변경되는 것을 피할 수 있다. \n",
    "if choice == '1' : # 전체\n",
    "    radio = driver.find_element_by_xpath(\"/html/body/div[1]/div[2]/div/div[2]/div/div[1]/div[3]/div/fieldset/form/dl/dd/input[1]\")\n",
    "    # #gubunfe9fc289c3ff0af142b6d3bead98a923\n",
    "    # XPath: //*[@id=\"gubunf4b9ec30ad9f68f89b29639786cb62ef\"]\n",
    "    # CSS Selector: #gubunf4b9ec30ad9f68f89b29639786cb62ef\n",
    "    # full XPath: /html/body/div[1]/div[2]/div/div[2]/div/div[1]/div[3]/div/fieldset/form/dl/dd/input[1]\n",
    "    radio.click()\n",
    "    # 조회 버튼\n",
    "    driver.find_element_by_xpath(\"/html/body/div[1]/div[2]/div/div[2]/div/div[1]/div[3]/div/fieldset/form/div/button\").click()\n",
    "    # #btnid43ec517d68b6edd3015b3edc9a11367b\n",
    "    # //*[@id=\"btnid92cc227532d17e56e07902b254dfad10\"]\n",
    "elif choice == '2' : # KOSPI\n",
    "    radio = driver.find_element_by_xpath(\"/html/body/div[1]/div[2]/div/div[2]/div/div[1]/div[3]/div/fieldset/form/dl/dd/input[2]\")\n",
    "    # full XPath: /html/body/div[1]/div[2]/div/div[2]/div/div[1]/div[3]/div/fieldset/form/dl/dd/input[2]\n",
    "    radio.click()\n",
    "    # 조회 버튼\n",
    "    driver.find_element_by_xpath(\"/html/body/div[1]/div[2]/div/div[2]/div/div[1]/div[3]/div/fieldset/form/div/button\").click()\n",
    "elif choice =='3' :  # KOSDAQ\n",
    "    radio = driver.find_element_by_xpath(\"/html/body/div[1]/div[2]/div/div[2]/div/div[1]/div[3]/div/fieldset/form/dl/dd/input[3]\")\n",
    "    radio.click()\n",
    "    # 조회 버튼\n",
    "    driver.find_element_by_xpath(\"/html/body/div[1]/div[2]/div/div[2]/div/div[1]/div[3]/div/fieldset/form/div/button\").click()\n",
    "else :\n",
    "    print('번호를 다시 확인해 주세요')"
   ]
  },
  {
   "cell_type": "code",
   "execution_count": 13,
   "metadata": {},
   "outputs": [],
   "source": [
    "# xls 형태와 csv 형태의 파일로 다운로드 받기\n",
    "if f_choice == '1' : # excel\n",
    "    # 크롤링시 일반 Chrome과 Chromedriver.exe가 다른 경우\n",
    "    # Chromedriver.exe를 기준으로 데이터 수집 설정을 할 것.\n",
    "    # <span class=\"button-mdi-group\" id=\"e4da3b7fbbce2345d7772b0674a318d5\">의 3번째 버튼\n",
    "    driver.find_element_by_xpath(\"\"\"//*[@id=\"e4da3b7fbbce2345d7772b0674a318d5\"]/button[3]\"\"\").click()\n",
    "    # //*[@id=\"e4da3b7fbbce2345d7772b0674a318d5\"]/button[3]\n",
    "elif choice == '2' : # CSV\n",
    "    driver.find_element_by_xpath(\"\"\"//*[@id=\"e4da3b7fbbce2345d7772b0674a318d5\"]/button[4]\"\"\").click()\n",
    "    # //*[@id=\"68d30a9594728bc39aa24be94b319d21\"]/button[4]"
   ]
  },
  {
   "cell_type": "code",
   "execution_count": 14,
   "metadata": {},
   "outputs": [],
   "source": [
    "time.sleep(5)"
   ]
  },
  {
   "cell_type": "code",
   "execution_count": 15,
   "metadata": {},
   "outputs": [
    {
     "name": "stdout",
     "output_type": "stream",
     "text": [
      "파일이 저장된 폴더명 : C:\\ai6\\ws_python\\notebook\\crawling\\output\\ \n"
     ]
    }
   ],
   "source": [
    "print(\"파일이 저장된 폴더명 : %s \" %f_dir)\n",
    "driver.close( )"
   ]
  },
  {
   "cell_type": "code",
   "execution_count": null,
   "metadata": {},
   "outputs": [],
   "source": []
  }
 ],
 "metadata": {
  "kernelspec": {
   "display_name": "ai",
   "language": "python",
   "name": "ai"
  },
  "language_info": {
   "codemirror_mode": {
    "name": "ipython",
    "version": 3
   },
   "file_extension": ".py",
   "mimetype": "text/x-python",
   "name": "python",
   "nbconvert_exporter": "python",
   "pygments_lexer": "ipython3",
   "version": "3.6.10"
  }
 },
 "nbformat": 4,
 "nbformat_minor": 2
}
