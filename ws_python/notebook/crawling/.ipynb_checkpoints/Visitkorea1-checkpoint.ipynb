{
 "cells": [
  {
   "cell_type": "code",
   "execution_count": 1,
   "metadata": {},
   "outputs": [
    {
     "name": "stdout",
     "output_type": "stream",
     "text": [
      "Collecting xlwt\n",
      "  Downloading xlwt-1.3.0-py2.py3-none-any.whl (99 kB)\n",
      "Installing collected packages: xlwt\n",
      "Successfully installed xlwt-1.3.0\n"
     ]
    }
   ],
   "source": [
    "# Excel 관련 패키지 설치(xlwt)\n",
    "!pip install xlwt"
   ]
  },
  {
   "cell_type": "code",
   "execution_count": 2,
   "metadata": {},
   "outputs": [
    {
     "name": "stdout",
     "output_type": "stream",
     "text": [
      "Collecting openpyxl\n",
      "  Downloading openpyxl-3.0.3.tar.gz (172 kB)\n",
      "Collecting jdcal\n",
      "  Downloading jdcal-1.4.1-py2.py3-none-any.whl (9.5 kB)\n",
      "Collecting et_xmlfile\n",
      "  Downloading et_xmlfile-1.0.1.tar.gz (8.4 kB)\n",
      "Building wheels for collected packages: openpyxl, et-xmlfile\n",
      "  Building wheel for openpyxl (setup.py): started\n",
      "  Building wheel for openpyxl (setup.py): finished with status 'done'\n",
      "  Created wheel for openpyxl: filename=openpyxl-3.0.3-py2.py3-none-any.whl size=241264 sha256=6fbb050a6baeafa65ac1757a24d5e70fb3a4dcf47f913277da2b80d54178c1b2\n",
      "  Stored in directory: c:\\users\\soldesk\\appdata\\local\\pip\\cache\\wheels\\a2\\97\\2a\\d5e43384faa87a34b198b8d75e03e7130e70321ea446f98703\n",
      "  Building wheel for et-xmlfile (setup.py): started\n",
      "  Building wheel for et-xmlfile (setup.py): finished with status 'done'\n",
      "  Created wheel for et-xmlfile: filename=et_xmlfile-1.0.1-py3-none-any.whl size=8920 sha256=561d9a6490219be7beb1b519500e81ab6ad0d7824f181af439281feb2ede6a1d\n",
      "  Stored in directory: c:\\users\\soldesk\\appdata\\local\\pip\\cache\\wheels\\ef\\92\\e0\\956c00decf3091294b8800d9104f6169a1adacfaafd122ed42\n",
      "Successfully built openpyxl et-xmlfile\n",
      "Installing collected packages: jdcal, et-xmlfile, openpyxl\n",
      "Successfully installed et-xmlfile-1.0.1 jdcal-1.4.1 openpyxl-3.0.3\n"
     ]
    }
   ],
   "source": [
    "!pip install openpyxl"
   ]
  },
  {
   "cell_type": "code",
   "execution_count": 3,
   "metadata": {},
   "outputs": [
    {
     "name": "stdout",
     "output_type": "stream",
     "text": [
      "Collecting xlrd\n",
      "  Downloading xlrd-1.2.0-py2.py3-none-any.whl (103 kB)\n",
      "Installing collected packages: xlrd\n",
      "Successfully installed xlrd-1.2.0\n"
     ]
    }
   ],
   "source": [
    "!pip install xlrd"
   ]
  },
  {
   "cell_type": "code",
   "execution_count": 23,
   "metadata": {},
   "outputs": [],
   "source": [
    "from bs4 import BeautifulSoup     \n",
    "from selenium import webdriver\n",
    "import time\n",
    "import math\n",
    "import pandas as pd\n",
    "import json\n",
    "\n",
    "driver = webdriver.Chrome('C:/ai6/chromedriver.exe')\n",
    "\n",
    "# 모바일과 데스크탑 모드에 따라 태그 배열이 달라질 수 있으므로\n",
    "# 모바일 모드를 벗어나기 위해 화면 사이즈 조정\n",
    "driver.set_window_size(1200, 800) "
   ]
  },
  {
   "cell_type": "code",
   "execution_count": 38,
   "metadata": {},
   "outputs": [],
   "source": [
    "# 현재 페이지 소스를 긁어옴\n",
    "def getbs():\n",
    "    try:\n",
    "        bs = BeautifulSoup(driver.page_source, 'html.parser') # .page_source 내용\n",
    "    except HTTPError as e:\n",
    "        # 페이지 url이 없는 경우\n",
    "        print(e)\n",
    "        return None # 처리 종료\n",
    "    else:\n",
    "        # 예외가 발생하지 않았다면\n",
    "        return bs"
   ]
  },
  {
   "cell_type": "code",
   "execution_count": 24,
   "metadata": {},
   "outputs": [],
   "source": [
    "driver.get(\"https://korean.visitkorea.or.kr\")\n",
    "time.sleep(2) # 2초 대기"
   ]
  },
  {
   "cell_type": "code",
   "execution_count": 28,
   "metadata": {},
   "outputs": [
    {
     "name": "stdout",
     "output_type": "stream",
     "text": [
      "알림창 없음\n"
     ]
    }
   ],
   "source": [
    "# 알림창 닫기 버튼\n",
    "# selector: #safetyStay1 > div > div > div > button\n",
    "# xpath: //*[@id=\"safetyStay1\"]/div/div/div/button\n",
    "try:\n",
    "    # 알림창 닫기 마우스 클릭\n",
    "    driver.find_element_by_css_selector('#safetyStay1 > div > div > div > button').click()\n",
    "#     driver.find_element_by_xpath('//*[@id=\"safetyStay1\"]/div/div/div/button') .click()\n",
    "except Exception as e:\n",
    "    print('알림창 없음')\n",
    "else:\n",
    "    pass\n",
    "finally:\n",
    "    pass"
   ]
  },
  {
   "cell_type": "code",
   "execution_count": 33,
   "metadata": {},
   "outputs": [],
   "source": [
    "# 검색 버튼\n",
    "# selector: #btnSearch\n",
    "# xpath: //*[@id=\"btnSearch\"]\n",
    "driver.find_element_by_css_selector('#btnSearch').click()"
   ]
  },
  {
   "cell_type": "code",
   "execution_count": 34,
   "metadata": {},
   "outputs": [],
   "source": [
    "# query_txt = input('크롤링할 키워드: ')\n",
    "word = '산책길'\n",
    "\n",
    "# 검색어 입력 태그\n",
    "# selector: #inp_search\n",
    "# xpath: //*[@id=\"inp_search\"]\n",
    "element = driver.find_element_by_css_selector('#inp_search')\n",
    "element.send_keys(word)\n",
    "element.send_keys('\\n') # 엔터 보내기, submit 역할"
   ]
  },
  {
   "cell_type": "code",
   "execution_count": 58,
   "metadata": {},
   "outputs": [
    {
     "name": "stdout",
     "output_type": "stream",
     "text": [
      "<class 'bs4.element.Tag'>\n",
      "맑은 공기 마시며 산책(하고싶다)! 이른 봄의 강원도 산책길  강원도  #강원도여행#강원도가볼만한곳#3월가볼만한곳#산책길#산책하기좋은곳#외옹치바다향기로#경포호#외옹치항#속초해변#허균허난설헌기념관#오대산선재길#월정사전나무숲길#월정사#논골담길#덕풍계곡#묵호항#지금은_우리모두_잠시멈춤#잠시멈춤에_동참한_집콕러위한_눈호강여행#이른봄여행 더보기  즐겨찾기 공유하기\n",
      "\n",
      "\n",
      "<class 'bs4.element.Tag'>\n",
      "늦여름이 더 좋은 바닷길 산책, 정동심곡바다부채길  강원도 강릉시 #강릉가볼만한곳#바다여행#동해바다#강원도여행#트레킹#바닷길#산책#자연과함께#걷기길#풍경여행 더보기  즐겨찾기 공유하기\n",
      "\n",
      "\n",
      "<class 'bs4.element.Tag'>\n",
      "✔ 뻔한 길은 이제 그만! 테마여행 10선과 Fun한 산책 어때?  전국 #전국산책길#황산도해안산책로#황산도#외옹치#외옹치해변#외옹치바다향기로#안동선비순례길#안동가볼만한곳#외도보타니아#거제외도보타니아#경주산림환경연구원#경주여행지추천#소호동다리#해상산책로#여수바다#그대문화거리#군산초원사진관#메타쉐쿼이아길#담양메타쉐쿼이아길#미륵산성산책길#남한강잔도길 더보기  즐겨찾기 공유하기\n",
      "\n",
      "\n",
      "<class 'bs4.element.Tag'>\n",
      "[8월 걷기여행길10선] 서귀포 칠십리에서 문화를 만나다, 제주 서귀포시 작가의 산책길-유토피아로  제주도 서귀포시 #걷기여행길 더보기  즐겨찾기 공유하기\n",
      "\n",
      "\n",
      "<class 'bs4.element.Tag'>\n",
      "해운대의 반전매력, 달맞이길 문탠로드 산책여행  부산 해운대구 #문탠로드#트레킹코스#산책로#해운대#부산#부산여행#부산가볼만한곳#청사포#청사포다릿돌전망대 더보기  즐겨찾기 공유하기\n",
      "\n",
      "\n",
      "<class 'bs4.element.Tag'>\n",
      "제부도 해안산책로(제비꼬리길)  경기도 화성시 #자연#제부도해안산책로#해안산책로#수도권#서울근교여행#가족여행#연인과함께#자연좋은곳#경치좋은곳#바다풍경#힐링&휴양여행#해안절경#관광지#산책하기좋은곳#산책길#산책하기 더보기  즐겨찾기 공유하기 코스에 담기\n",
      "\n",
      "\n",
      "<class 'bs4.element.Tag'>\n",
      "[지질공원 추천] 해안길 걸으니 부산이 품에 안긴다 부산 이기대 해안산책로  부산 남구 #이기대해안산책로#이기대#오륙도#지질탐방로#트레킹코스#지질공원#지질공원여행 더보기  즐겨찾기 공유하기\n",
      "\n",
      "\n",
      "<class 'bs4.element.Tag'>\n",
      "충주호 벚꽃 터널과 수안보 벚꽃길 산책  충청북도 충주시 #2014년4월추천가볼만한곳 더보기  즐겨찾기 공유하기\n",
      "\n",
      "\n",
      "<class 'bs4.element.Tag'>\n",
      "원주 행구동의 호젓한 카페길 코스  강원도 원주시 #관음사#국형사계곡#국형사#운채#길카페#원주운곡원천석묘역#핫플레이스#브런치카페#문화유산#데이트코스#연인과함께#강원권#먹거리#당일코스#1박2일#2박3일   관음사/국형사계곡 국형사 운채 길카페 원주 운곡원천석묘역 더보기  즐겨찾기 공유하기 코스에 담기\n",
      "\n",
      "\n",
      "<class 'bs4.element.Tag'>\n",
      "한국관광공사 추천 2월 걷기여행길, 도심 속 걷기 좋은 길  전국 #공공누리#걷기여행길#트레킹코스#2월가볼만한곳#겨울여행#겨울먹거리#맛있는_산책 더보기  즐겨찾기 공유하기\n",
      "\n",
      "\n"
     ]
    }
   ],
   "source": [
    "time.sleep(1)\n",
    "bs = getbs()\n",
    "\n",
    "# #contents > div > div.box_leftType1 > ul\n",
    "# content = bs.select('#contents > div > div.box_leftType1 > ul > li')\n",
    "# print(type(content)) # <class 'bs4.element.ResultSet'>\n",
    "\n",
    "content = bs.find('ul', {'class': 'list_thumType flnon'})\n",
    "# print(type(content)) # <class 'bs4.element.Tag'>\n",
    "\n",
    "# 자동으로 ul 태그 안에서 li를 추출함?\n",
    "for item in content:\n",
    "    print(type(item)) # <class 'bs4.element.Tag'>\n",
    "    print(item.text.strip()) # strip(): 문자열 좌우 공백 제거\n",
    "    print('\\n')"
   ]
  },
  {
   "cell_type": "markdown",
   "metadata": {},
   "source": [
    "### 한 페이지에서의 데이터 수집"
   ]
  },
  {
   "cell_type": "code",
   "execution_count": 69,
   "metadata": {},
   "outputs": [
    {
     "name": "stdout",
     "output_type": "stream",
     "text": [
      "1 2 3 4 5 6 7 8 9 10 수집완료\n"
     ]
    }
   ],
   "source": [
    "# for i, item in enumerate(content):\n",
    "#     print(i+1)\n",
    "cnt = 1\n",
    "no = [] # index\n",
    "titles = [] # 제목\n",
    "tags = [] # 태그\n",
    "for item in content:\n",
    "    no.append(cnt) # index\n",
    "    # #contents > div > div.box_leftType1 > ul > li:nth-child(1) > div.area_txt > div > a\n",
    "    title = item.select(\"li > div.area_txt > div > a\")[0].get_text()\n",
    "#     print(title[0].get_text())\n",
    "    titles.append(title)\n",
    "    # #contents > div > div.box_leftType1 > ul > li:nth-child(1) > div.area_txt > p.tag\n",
    "    tag = item.select(\"li > div.area_txt > p.tag\")[0].get_text()\n",
    "#     print(tag[0].get_text())\n",
    "    tags.append(tag)\n",
    "    print(cnt, end=' ')\n",
    "    cnt += 1\n",
    "print('수집완료')"
   ]
  },
  {
   "cell_type": "code",
   "execution_count": 80,
   "metadata": {},
   "outputs": [
    {
     "name": "stdout",
     "output_type": "stream",
     "text": [
      "맑은 공기 마시며 산책(하고싶다)! 이른 봄의 강원도 산책길 \n",
      "\n",
      " #강원도여행#강원도가볼만한곳#3월가볼만한곳#산책길#산책하기좋은곳#외옹치바다향기로#경포호#외옹치항#속초해변#허균허난설헌기념관#오대산선재길#월정사전나무숲길#월정사#논골담길#덕풍계곡#묵호항#지금은_우리모두_잠시멈춤#잠시멈춤에_동참한_집콕러위한_눈호강여행#이른봄여행  \n",
      "\n",
      "늦여름이 더 좋은 바닷길 산책, 정동심곡바다부채길 \n",
      "\n",
      " #강릉가볼만한곳#바다여행#동해바다#강원도여행#트레킹#바닷길#산책#자연과함께#걷기길#풍경여행  \n",
      "\n",
      "✔ 뻔한 길은 이제 그만! 테마여행 10선과 Fun한 산책 어때? \n",
      "\n",
      " #전국산책길#황산도해안산책로#황산도#외옹치#외옹치해변#외옹치바다향기로#안동선비순례길#안동가볼만한곳#외도보타니아#거제외도보타니아#경주산림환경연구원#경주여행지추천#소호동다리#해상산책로#여수바다#그대문화거리#군산초원사진관#메타쉐쿼이아길#담양메타쉐쿼이아길#미륵산성산책길#남한강잔도길  \n",
      "\n",
      "[8월 걷기여행길10선] 서귀포 칠십리에서 문화를 만나다, 제주 서귀포시 작가의 산책길-유토피아로 \n",
      "\n",
      " #걷기여행길  \n",
      "\n",
      "해운대의 반전매력, 달맞이길 문탠로드 산책여행 \n",
      "\n",
      " #문탠로드#트레킹코스#산책로#해운대#부산#부산여행#부산가볼만한곳#청사포#청사포다릿돌전망대  \n",
      "\n",
      "제부도 해안산책로(제비꼬리길) \n",
      "\n",
      " #자연#제부도해안산책로#해안산책로#수도권#서울근교여행#가족여행#연인과함께#자연좋은곳#경치좋은곳#바다풍경#힐링&휴양여행#해안절경#관광지#산책하기좋은곳#산책길#산책하기  \n",
      "\n",
      "[지질공원 추천] 해안길 걸으니 부산이 품에 안긴다 부산 이기대 해안산책로 \n",
      "\n",
      " #이기대해안산책로#이기대#오륙도#지질탐방로#트레킹코스#지질공원#지질공원여행  \n",
      "\n",
      "충주호 벚꽃 터널과 수안보 벚꽃길 산책 \n",
      "\n",
      " #2014년4월추천가볼만한곳  \n",
      "\n",
      "원주 행구동의 호젓한 카페길 코스 \n",
      "\n",
      " #관음사#국형사계곡#국형사#운채#길카페#원주운곡원천석묘역#핫플레이스#브런치카페#문화유산#데이트코스#연인과함께#강원권#먹거리#당일코스#1박2일#2박3일  \n",
      "\n",
      "한국관광공사 추천 2월 걷기여행길, 도심 속 걷기 좋은 길 \n",
      "\n",
      " #공공누리#걷기여행길#트레킹코스#2월가볼만한곳#겨울여행#겨울먹거리#맛있는_산책  \n",
      "\n"
     ]
    }
   ],
   "source": [
    "for a,b in zip(titles, tags):\n",
    "    print(a, '\\n\\n', b, '\\n')"
   ]
  },
  {
   "cell_type": "markdown",
   "metadata": {},
   "source": [
    "### 여러 페이지에서의 데이터 수집"
   ]
  },
  {
   "cell_type": "code",
   "execution_count": 108,
   "metadata": {},
   "outputs": [
    {
     "name": "stdout",
     "output_type": "stream",
     "text": [
      "1601\n",
      "요청 건수는: 71\n",
      "-----------------\n",
      "총검색건수 1601\n",
      "요청건수 71\n",
      "페이지수 8\n",
      "1 2 3 4 5 6 7 8 9 10 수집완료\n",
      "11 12 13 14 15 16 17 18 19 20 수집완료\n",
      "21 22 23 24 25 26 27 28 29 30 수집완료\n",
      "31 32 33 34 35 36 37 38 39 40 수집완료\n",
      "41 42 43 44 45 46 47 48 49 50 수집완료\n",
      "51 52 53 54 55 56 57 58 59 60 수집완료\n",
      "61 62 63 64 65 66 67 68 69 70 수집완료\n",
      "71 수집완료\n"
     ]
    }
   ],
   "source": [
    "import math\n",
    "\n",
    "# 검색 결과 데이터 총 건수\n",
    "total_cnt = bs.select('#contents > div > div.box_leftType1 > div.total_check > strong > span')[0].text\n",
    "total_cnt = int(total_cnt.replace(\",\", \"\")) # 정수 변환\n",
    "print(total_cnt)\n",
    "\n",
    "request_cnt = int(input('요청 건수는: '))\n",
    "if request_cnt > total_cnt: # 요청 건수가 검색 건수보다 많다면\n",
    "    request_cnt = total_cnt\n",
    "\n",
    "cnt_per_page = 10\n",
    "page_cnt = math.ceil(request_cnt / cnt_per_page) # 페이지당 개수로 나누기 + 올림\n",
    "\n",
    "print('-----------------')\n",
    "print('총검색건수', total_cnt)\n",
    "print('요청건수', request_cnt)\n",
    "print('페이지수', page_cnt)\n",
    "\n",
    "cnt = 1\n",
    "no = [] # index\n",
    "titles = [] # 제목\n",
    "tags = [] # 태그\n",
    "\n",
    "for page in range(1, page_cnt+1, 1):\n",
    "    # 페이지마다 새로운 bs\n",
    "    bs = getbs()\n",
    "    content = bs.select('#contents > div > div.box_leftType1 > ul > li')\n",
    "    \n",
    "    for item in content:\n",
    "        no.append(cnt) # index\n",
    "        # #contents > div > div.box_leftType1 > ul > li:nth-child(1) > div.area_txt > div > a\n",
    "        title = item.select(\"li > div.area_txt > div > a\")[0].get_text()\n",
    "    #     print(title[0].get_text())\n",
    "        titles.append(title)\n",
    "        # 태그는 선택 입력 사항임\n",
    "        # #contents > div > div.box_leftType1 > ul > li:nth-child(1) > div.area_txt > p.tag\n",
    "        try:\n",
    "            tag = item.select(\"li > div.area_txt > p.tag\")[0].get_text()\n",
    "    #     print(tag[0].get_text())\n",
    "        except IndexError:\n",
    "            tag = ''\n",
    "        tags.append(tag)\n",
    "        print(cnt, end=' ')\n",
    "        cnt += 1\n",
    "        if cnt > request_cnt:\n",
    "            break # 요청한 건수를 모두 처리한 경우\n",
    "    \n",
    "    # 하나의 페이지가 종료된 후 페이지 이동\n",
    "    if page < page_cnt: # 현재 페이지가 전체 페이지 수보다 작을 경우에만 페이지 이동\n",
    "        # 페이지 수가 5의 배수일 경우 페이지 그룹 이동\n",
    "        # 5, 15, 20 ...\n",
    "        # driver.find_element_by_css_selector('')\n",
    "        if page != 0 and page%5==0:\n",
    "            # 페이지 그룹 이동 시 태그 정보가 변경됨,\n",
    "            # 1 -> 2그룹 #\\36\n",
    "            # 2 -> 3그룹 #\\31 1 -> selector 사용 불가능\n",
    "            driver.find_element_by_link_text(\"다음\").click() # 다음이라는 글자가 있는 element를 찾음\n",
    "        else:\n",
    "            driver.find_element_by_link_text(str(page+1)).click()\n",
    "    \n",
    "    time.sleep(2)\n",
    "        \n",
    "    print('수집완료')"
   ]
  },
  {
   "cell_type": "code",
   "execution_count": 109,
   "metadata": {},
   "outputs": [
    {
     "name": "stdout",
     "output_type": "stream",
     "text": [
      "#강원도여행#강원도가볼만한곳#3월가볼만한곳#산책길#산책하기좋은곳#외옹치바다향기로#경포호#외옹치항#속초해변#허균허난설헌기념관#오대산선재길#월정사전나무숲길#월정사#논골담길#덕풍계곡#묵호항#지금은_우리모두_잠시멈춤#잠시멈춤에_동참한_집콕러위한_눈호강여행#이른봄여행  \n",
      "\n",
      "#강릉가볼만한곳#바다여행#동해바다#강원도여행#트레킹#바닷길#산책#자연과함께#걷기길#풍경여행  \n",
      "\n",
      "#전국산책길#황산도해안산책로#황산도#외옹치#외옹치해변#외옹치바다향기로#안동선비순례길#안동가볼만한곳#외도보타니아#거제외도보타니아#경주산림환경연구원#경주여행지추천#소호동다리#해상산책로#여수바다#그대문화거리#군산초원사진관#메타쉐쿼이아길#담양메타쉐쿼이아길#미륵산성산책길#남한강잔도길  \n",
      "\n",
      "#걷기여행길  \n",
      "\n",
      "#문탠로드#트레킹코스#산책로#해운대#부산#부산여행#부산가볼만한곳#청사포#청사포다릿돌전망대  \n",
      "\n",
      "#자연#제부도해안산책로#해안산책로#수도권#서울근교여행#가족여행#연인과함께#자연좋은곳#경치좋은곳#바다풍경#힐링&휴양여행#해안절경#관광지#산책하기좋은곳#산책길#산책하기  \n",
      "\n",
      "#이기대해안산책로#이기대#오륙도#지질탐방로#트레킹코스#지질공원#지질공원여행  \n",
      "\n",
      "#2014년4월추천가볼만한곳  \n",
      "\n",
      "#관음사#국형사계곡#국형사#운채#길카페#원주운곡원천석묘역#핫플레이스#브런치카페#문화유산#데이트코스#연인과함께#강원권#먹거리#당일코스#1박2일#2박3일  \n",
      "\n",
      "#공공누리#걷기여행길#트레킹코스#2월가볼만한곳#겨울여행#겨울먹거리#맛있는_산책  \n",
      "\n",
      "#한국관광7선#여름방학가볼만한곳#싱그러운초여름#풀내음#산책#산책코스#산책로#소이산생태숲녹색길#소이산#철원가볼만한곳#트레킹#트레킹코스#울산가볼만한곳#강동사랑길#걷기여행#걷기여행길#충주가볼만한곳#생태탐방길#부산가볼만한곳#갈맷길#창원가볼만한곳#저도비치로드#저도#대전가볼만한곳#금강로하스해피로드#금강로하스#해남가볼만한곳#달마고도#힐링여행#휴양여행#걷기여행길#6월가볼만한곳#싱그러운_여름을_부탁해  \n",
      "\n",
      "#보은#속리산#세조길#속리산사내리캠핑장#오리숲길#법주사#복천암#비로산장#동학농민혁명기념공원#통곡의계단#자연#역사#산책#가족#추천가볼만한곳#보은가볼만한곳#보은당일코스#보은1박2일코스#걷기여행#2017년11월추천가볼만한곳  \n",
      "\n",
      "#속초가볼만한곳#걷기여행길#설악누리길#홍천가볼만한곳#수타사산소길#김천가볼만한곳#인현왕후길#성주가볼만한곳#보령가볼만한곳#삽시도둘레길#남해가볼만한곳#앵강다숲길#트레킹#레포츠#여름방학가볼만한곳#힐링여행#휴양여행#힐링#트레킹코스#바다#바다풍경#산책코스#산책로#걷기여행#칠선용성간숲길#한국관광6선#여름#무더위#산바람#바닷바람#8월가볼만한곳  \n",
      "\n",
      "#창원가볼만한곳#창원여행#창원카페#창원당일치기#창원맛집#산책하기좋은곳#걷기좋은곳#걷기여행#봄산책#창원가로수길  \n",
      "\n",
      "#평창가볼만한곳#선재길#산책#눈꽃여행#문화유산#상원사#월정사#화이트로즈가든#공공누리#푸드트럭#겨울왕국을찾아서  \n",
      "\n",
      "#걷기여행길#트레킹코스#6월걷기길#액티비티여행#액티비티#트레킹#산책#독립서점#책  \n",
      "\n",
      "#밀양정수장#기회송림유원지#칠탄서원#만어사#가족과함께#아이와함께#친구와함께#역사유적지#힐링#자연&숲#등산#단풍여행#전통&역사문화체험#역사#도보코스#가족코스#당일코스#1박2일#2박3일#추천코스  \n",
      "\n",
      "#당일코스#1박2일#2박3일#강릉수목원#강릉분재예술공원#동이호박오리#봉선사  \n",
      "\n",
      "#당일코스#1박2일#2박3일  \n",
      "\n",
      "#거제맛집#거제여행#거제가볼만한곳#통영여행#통영가볼만한곳#통영맛집#통영루지#봄산책#봄여행#걷기좋은길  \n",
      "\n",
      "#영남알프스#사자평습지#영남알프스얼음골케이블카#천황산#영남알프스하늘억새길#표충사#영남루#기회송림#자연#추천가볼만한곳#밀양가볼만한곳#밀양당일코스#밀양1박2일코스#밀양축제#트레킹#억새#가을여행지#풍경여행#억새군락지#가을가볼만한곳#2017년11월추천가볼만한곳  \n",
      "\n",
      "#걷기여행길  \n",
      "\n",
      "#공공누리#걷기여행길#트레킹코스#해넘이명소#2019년12월추천걷기길  \n",
      "\n",
      "#두루누비#걷기길#공공누리#선자령풍차길#바우길#강릉가볼만한곳#반려견동반#액티비티여행#트레킹#트레킹코스  \n",
      "\n",
      "#서울가볼만한곳#경의선책거리#독서#체험학습#전시#산책#서점#땡땡거리#책거리역#공공누리#책과함께_향기로운여정  \n",
      "\n",
      "#강원도가볼만한곳#아리바우길#올림픽아리바우길#올림픽아리바우길#겨울산행#겨울산책코스#해안길산책#겨울가볼만한곳#가족여행지추천#주말여행지추천  \n",
      "\n",
      "#생태여행#생태여행#추천생태여행#솔향기길#천리포해수욕장#만리포해수욕장#마애삼존불입상#태안신두리해안사구#생태여행코스#1박2일코스#트레킹#걷기여행#수목원#역사유적지#걷기길#생태관광#10월가볼만한곳  \n",
      "\n",
      "#통영가볼만한곳#핫플레이스#걷기좋은길#풍경여행#미술관#맛집여행#주전부리여행#게스트하우스#공공누리#전시관#통영맛집#봉평동#골목길#카페이봄#전혁림미술관#김춘수유품전시관#봄날의책방#봉수골#카페하루케이크#통게스트하우스#벚꽃엔젤게스트하우스  \n",
      "\n",
      "#걷기여행길#6월걷기여행길#트레킹코스#생각속_여름야행  \n",
      "\n",
      "#걷기여행길  \n",
      "\n",
      "#걷기여행길#5월걷기여행길#트레킹코스#관광공사추천_5월걷기여행길#5월_걷기여행길  \n",
      "\n",
      "#걷기여행길#2월걷기여행길#제주도#제주도걷기길#트레킹코스  \n",
      "\n",
      "#청양가볼만한곳#남산녹색둘레길#생태공원#연못#산책로#백세공원#광금리마을#벚꽃길#청양향교#고운식물원#지천생태공원#벚꽃길#화훼  \n",
      "\n",
      "#공공누리#파도소리길#주상절리파도소리길#경주가볼만한곳#트레킹코스#가을밤_매혹적인_야행#9월가볼만한곳#10월가볼만한곳  \n",
      "\n",
      "#서울가볼만한곳#미식여행#성북동기사식당길#쌍다리리사식당#금왕돈까스#씨리어스델리#수연산방#공공누리#돼지불백#화덕피자#북정마을#심우장#맛집투어#맛집여행#서울맛집  \n",
      "\n",
      "#걷기여행길#트레킹코스#4월가볼만한곳  \n",
      "\n",
      "#걷기여행길#1월걷기여행길  \n",
      "\n",
      "#걷기여행길  \n",
      "\n",
      "#공공누리#정선가볼만한곳#운탄고도#탄광#전망대#하이원고산식물원#트레킹#역사여행#걷기길#삼탄아트마인#전시관#철암탄광역사촌#강원도1박2일코스#태백가볼만한곳  \n",
      "\n",
      "#한국관광6선#걷기여행길#걷기여행#여름방학가볼만한곳#여름#휴가#풀향기#바다내음#힐링#휴양여행#힐링여행#포천가볼만한곳#주상절리길#한탄강#비둘기낭폭포#한탄강하늘다리#비둘기낭순환코스#곡성가볼만한곳#섬진강둘레길#마천목장군길#트레킹코스#금산가볼만한곳#솔바람길#진천가볼만한곳#진천초롱길#진천농다리#창원가볼만한곳#봉암수원지둘레길#동해가볼만한곳#논골담길#전망대#산책코스#산책로  \n",
      "\n",
      "#한국관광의별#수상내역#2011#영주가볼만한곳#소백산#소백산자락길#단풍여행#걷기길#소수서원#선비촌#콩세계과학관#부석사#역사여행#영주1박2일코스#영주당일코스#트래킹#생태관광자원 부문  \n",
      "\n",
      "#강진가볼만한곳#다산초당#걷기길#봄꽃여행#백련사#동백나무숲#트레킹#지역특화주전부리#철새도래지#청자식당#강진맛집#다산정약용  \n",
      "\n",
      "#걷기여행길#트레킹코스#반려견동반#5월걷기길#액티비티여행#액티비티#트레킹  \n",
      "\n",
      "#걷기여행길  \n",
      "\n",
      "#걷기여행길  \n",
      "\n",
      "#걷기여행길#트레킹코스#3월가볼만한곳#3월에_걷기좋은길#3월_추천_걷기여행길#공공누리  \n",
      "\n",
      "#10월걷기여행길#가을가볼만한곳#성남누비길남한산성길#성남가볼만한곳#트레킹#트레킹코스#양평가볼만한곳#화성가볼만한곳#힐링#거창가볼만한곳#주남저수지탐방둘레길#창원가볼만한곳#영양가볼만한곳#아산가볼만한곳#물소리길#용문산은행나무길#화성실크로드#제비꼬리길#수승대문화유산여행길#외씨버선길#치유의길#아산은행나무길#은행나무문화예술의거리#한국관광걷기여행길7선#걷기여행길#10월가볼만한곳  \n",
      "\n",
      "#공공누리#걷기여행길#트레킹코스#일출명소#눈으로_힐링한모금  \n",
      "\n",
      "#장애인추천코스#정읍가볼만한곳#정읍당일코스#내장산국립공원탐방로#내장산단풍생태공원#광주호호수생태원#국립광주과학관#국립아시아문화전당#전라도당일코스#전라도1박2일코스#전라도2박3일코스#무장애여행지#장애인추천여행지#전라도가볼만한곳#가을여행#내장산국립공원#내장호#둘레길#장애인숙박#광주가볼만한곳  \n",
      "\n",
      "#생태관광#추천생태여행#하슬라아트월드#정동진시간박물관#아라나비체험#강릉커피거리#허난설헌생가터#경포호#경포가시연습지#2018평창동계올림픽홍보체험관#1박2일코스#걷기여행#주말추천여행지#걷기길#생태여행코스#레포츠체험#박물관  \n",
      "\n",
      "#두루누비#걷기길#공공누리#반려견동반#화성가볼만한곳#공룡알화석산지#걷기여행#액티비티여행#트레킹#트레킹코스  \n",
      "\n",
      "#생태관광#생태테마사업#대전가볼만한곳#대전당일코스#대전1박2일코스#힐링#가족여행#대청호#대청로하스길#슬픈연가촬영지#대청호반자연생태공원#문의문화재단지#청남대#힐링&휴양여행#2017생태테마사업#걷기길#대청호오백리길#대청호#대청호생태보호습지구역#2018생태테마사업  \n",
      "\n",
      "#걷기여행길#9월걷기여행길#트레킹코스#9월가볼만한곳  \n",
      "\n",
      "#19_20한국관광100선#한국관광100선#수도권#경기#제부도#걷기여행길  \n",
      "\n",
      "#진안가볼만한곳#벚꽃#마이산#탑사#진안홍삼스파#노천온천#온천#스파#공공누리#벚꽃길#진안맛집#흑돼지구이#금당사#탑영제저수지#오리배#돌탑체험장#백운원촌마을#19_20한국관광100선#17_18한국관광100선#한국관광100선#전라권#전북#마이산  \n",
      "\n",
      "#정지용생가#정지용문학관#장계국민관광지#둔주봉#한반도지형#향수100리길#금강유원지#장령산자연휴양림#올갱이#추천가볼만한곳#옥천가볼만한곳#옥천당일코스#옥천1박2일코스#옥천맛집#옥천축제#2015년5월추천가볼만한곳#5월추천가볼만한곳  \n",
      "\n",
      "#걷기여행길  \n",
      "\n",
      "#청주가볼만한곳#세종대왕100리길#상당산성#초정약수권#운보미술관#형동리벽화#할매싸롱#좌구산자연휴양림#민속체험#김시습#집현전#상당산성자연휴양림#숲속수련장#초정문화공원#삼기저수지#증평민속체험박물관#한옥체험장#농경문화관#충북가볼만한곳#증평가볼만한곳  \n",
      "\n",
      "#두루누비#걷기길#공공누리#구라이길#포천가볼만한곳#반려견동반#액티비티#액티비티여행#트레킹#트레킹코스  \n",
      "\n",
      "#걷기여행길  \n",
      "\n",
      "#생태관광#생태테마사업#울진가볼만한곳#울진당일코스#울진1박2일코스#가족여행#금강소나무숲길#덕구온천#망양정#덕구스파월드#울진금강송송이축제#힐링#힐링여행#휴양여행#걷기여행#걷기길#2018생태테마사업#2018생태테마사업#2017생태테마사업  \n",
      "\n",
      "#걷기여행길  \n",
      "\n",
      "#오대산#오대산선재길#월정사전나무숲길#상원사#평창송어축제#얼음낚시#구곡폭포#김유정문학촌#겨울#여행#추천가볼만한곳#강원도당일코스#강원도1박2일코스#평창가볼만한곳#춘천가볼만한곳#눈꽃여행#겨울방학가볼만한곳#레포츠여행#겨울레포츠#눈꽃여행#미리준비하는_설경여행#2018년1월추천가볼만한곳#눈꽃&설경여행#겨울왕국을찾아서#겨울여행#겨울여행지#온가족_겨울여행  \n",
      "\n",
      "#2018년11월추천가볼만한곳#추천가볼만한곳#작은책방#11월추천가볼만한곳#10월가볼만한곳  \n",
      "\n",
      " \n",
      "\n",
      "#생태관광#생태테마사업#문경가볼만한곳#문경당일코스#문경1박2일코스#가족여행#문경새재도립공원#옛길박물관#전통역사문화체험#조곡폭포#문경새재자연생태공원#문경자연생태박물관#문경새재축제#2017생태테마사업#영화&드라마촬영지#체험학습#한국관광100선#15_16한국관광100선#경상권#경북#2018생태테마사업  \n",
      "\n",
      " \n",
      "\n",
      " \n",
      "\n",
      " \n",
      "\n",
      "#공공누리  \n",
      "\n",
      "#공공누리  \n",
      "\n"
     ]
    }
   ],
   "source": [
    "for i in tags:\n",
    "    print(i, '\\n')"
   ]
  },
  {
   "cell_type": "code",
   "execution_count": 111,
   "metadata": {},
   "outputs": [
    {
     "data": {
      "text/html": [
       "<div>\n",
       "<style scoped>\n",
       "    .dataframe tbody tr th:only-of-type {\n",
       "        vertical-align: middle;\n",
       "    }\n",
       "\n",
       "    .dataframe tbody tr th {\n",
       "        vertical-align: top;\n",
       "    }\n",
       "\n",
       "    .dataframe thead th {\n",
       "        text-align: right;\n",
       "    }\n",
       "</style>\n",
       "<table border=\"1\" class=\"dataframe\">\n",
       "  <thead>\n",
       "    <tr style=\"text-align: right;\">\n",
       "      <th></th>\n",
       "      <th>번호</th>\n",
       "      <th>제목</th>\n",
       "      <th>태그</th>\n",
       "    </tr>\n",
       "  </thead>\n",
       "  <tbody>\n",
       "    <tr>\n",
       "      <th>0</th>\n",
       "      <td>1</td>\n",
       "      <td>맑은 공기 마시며 산책(하고싶다)! 이른 봄의 강원도 산책길</td>\n",
       "      <td>#강원도여행#강원도가볼만한곳#3월가볼만한곳#산책길#산책하기좋은곳#외옹치바다향기로#경...</td>\n",
       "    </tr>\n",
       "    <tr>\n",
       "      <th>1</th>\n",
       "      <td>2</td>\n",
       "      <td>늦여름이 더 좋은 바닷길 산책, 정동심곡바다부채길</td>\n",
       "      <td>#강릉가볼만한곳#바다여행#동해바다#강원도여행#트레킹#바닷길#산책#자연과함께#걷기길#...</td>\n",
       "    </tr>\n",
       "    <tr>\n",
       "      <th>2</th>\n",
       "      <td>3</td>\n",
       "      <td>✔ 뻔한 길은 이제 그만! 테마여행 10선과 Fun한 산책 어때?</td>\n",
       "      <td>#전국산책길#황산도해안산책로#황산도#외옹치#외옹치해변#외옹치바다향기로#안동선비순례길...</td>\n",
       "    </tr>\n",
       "    <tr>\n",
       "      <th>3</th>\n",
       "      <td>4</td>\n",
       "      <td>[8월 걷기여행길10선] 서귀포 칠십리에서 문화를 만나다, 제주 서귀포시 작가의 산...</td>\n",
       "      <td>#걷기여행길</td>\n",
       "    </tr>\n",
       "    <tr>\n",
       "      <th>4</th>\n",
       "      <td>5</td>\n",
       "      <td>해운대의 반전매력, 달맞이길 문탠로드 산책여행</td>\n",
       "      <td>#문탠로드#트레킹코스#산책로#해운대#부산#부산여행#부산가볼만한곳#청사포#청사포다릿돌...</td>\n",
       "    </tr>\n",
       "  </tbody>\n",
       "</table>\n",
       "</div>"
      ],
      "text/plain": [
       "   번호                                                 제목  \\\n",
       "0   1                  맑은 공기 마시며 산책(하고싶다)! 이른 봄의 강원도 산책길   \n",
       "1   2                        늦여름이 더 좋은 바닷길 산책, 정동심곡바다부채길   \n",
       "2   3               ✔ 뻔한 길은 이제 그만! 테마여행 10선과 Fun한 산책 어때?   \n",
       "3   4  [8월 걷기여행길10선] 서귀포 칠십리에서 문화를 만나다, 제주 서귀포시 작가의 산...   \n",
       "4   5                          해운대의 반전매력, 달맞이길 문탠로드 산책여행   \n",
       "\n",
       "                                                  태그  \n",
       "0  #강원도여행#강원도가볼만한곳#3월가볼만한곳#산책길#산책하기좋은곳#외옹치바다향기로#경...  \n",
       "1  #강릉가볼만한곳#바다여행#동해바다#강원도여행#트레킹#바닷길#산책#자연과함께#걷기길#...  \n",
       "2  #전국산책길#황산도해안산책로#황산도#외옹치#외옹치해변#외옹치바다향기로#안동선비순례길...  \n",
       "3                                            #걷기여행길   \n",
       "4  #문탠로드#트레킹코스#산책로#해운대#부산#부산여행#부산가볼만한곳#청사포#청사포다릿돌...  "
      ]
     },
     "execution_count": 111,
     "metadata": {},
     "output_type": "execute_result"
    }
   ],
   "source": [
    "import pandas as pd\n",
    "\n",
    "visit = pd.DataFrame()\n",
    "visit['번호'] = no\n",
    "visit['제목'] = titles\n",
    "visit['태그'] = tags\n",
    "visit.head()"
   ]
  },
  {
   "cell_type": "code",
   "execution_count": 114,
   "metadata": {},
   "outputs": [],
   "source": [
    "# 1. text, csv 파일 저장\n",
    "# 인코딩을 utf-8로 하면서 BOM(Byte Order Mark)을 없앤다. \n",
    "# Linux에서 에러 방지, windows utf-8에서는 사용 상관 없음\n",
    "visit.to_csv('./output/visit.txt', index=False, sep=\",\", encoding='utf-8-sig')"
   ]
  },
  {
   "cell_type": "code",
   "execution_count": 120,
   "metadata": {},
   "outputs": [],
   "source": [
    "# 2. excel 파일 저장\n",
    "visit.to_excel('./output/visit.xlsx',index=False)"
   ]
  },
  {
   "cell_type": "code",
   "execution_count": 122,
   "metadata": {},
   "outputs": [],
   "source": [
    "# 3. html 파일로 저장\n",
    "visit.to_html('./output/visit.html',index=False, encoding='utf-8-sig')"
   ]
  },
  {
   "cell_type": "code",
   "execution_count": 128,
   "metadata": {},
   "outputs": [],
   "source": [
    "# 4-1. json 저장\n",
    "visit.to_json('./output/visit.json') # 저장은 되지만 유니코드로 변환됨"
   ]
  },
  {
   "cell_type": "code",
   "execution_count": 135,
   "metadata": {},
   "outputs": [],
   "source": [
    "import json\n",
    "# 4-2. json 한글로 저장\n",
    "visit_dict = dict()\n",
    "visit_dict['번호']=no\n",
    "visit_dict['제목']=titles\n",
    "visit_dict['태그']=tags\n",
    "# print(visit_dict)\n",
    "# json.dumps(visit_dict, ensure_ascii=False, indent='\\t')\n",
    "# with: fp를 자동 닫음\n",
    "with open('./output/visit_hangul.json', 'w', encoding='utf-8') as fp:\n",
    "    json.dump(visit_dict, fp, ensure_ascii=False, indent='\\t')"
   ]
  },
  {
   "cell_type": "code",
   "execution_count": null,
   "metadata": {},
   "outputs": [],
   "source": [
    "driver.close()"
   ]
  },
  {
   "cell_type": "code",
   "execution_count": null,
   "metadata": {},
   "outputs": [],
   "source": [
    "# jqchart 등을 사용해서 json 데이터를 효과적으로 표현할 수 있다."
   ]
  },
  {
   "cell_type": "markdown",
   "metadata": {},
   "source": [
    "### 파일 읽기"
   ]
  },
  {
   "cell_type": "code",
   "execution_count": 139,
   "metadata": {},
   "outputs": [
    {
     "data": {
      "text/html": [
       "<div>\n",
       "<style scoped>\n",
       "    .dataframe tbody tr th:only-of-type {\n",
       "        vertical-align: middle;\n",
       "    }\n",
       "\n",
       "    .dataframe tbody tr th {\n",
       "        vertical-align: top;\n",
       "    }\n",
       "\n",
       "    .dataframe thead th {\n",
       "        text-align: right;\n",
       "    }\n",
       "</style>\n",
       "<table border=\"1\" class=\"dataframe\">\n",
       "  <thead>\n",
       "    <tr style=\"text-align: right;\">\n",
       "      <th></th>\n",
       "      <th>번호</th>\n",
       "      <th>제목</th>\n",
       "      <th>태그</th>\n",
       "    </tr>\n",
       "  </thead>\n",
       "  <tbody>\n",
       "    <tr>\n",
       "      <th>0</th>\n",
       "      <td>1</td>\n",
       "      <td>맑은 공기 마시며 산책(하고싶다)! 이른 봄의 강원도 산책길</td>\n",
       "      <td>#강원도여행#강원도가볼만한곳#3월가볼만한곳#산책길#산책하기좋은곳#외옹치바다향기로#경...</td>\n",
       "    </tr>\n",
       "    <tr>\n",
       "      <th>1</th>\n",
       "      <td>2</td>\n",
       "      <td>늦여름이 더 좋은 바닷길 산책, 정동심곡바다부채길</td>\n",
       "      <td>#강릉가볼만한곳#바다여행#동해바다#강원도여행#트레킹#바닷길#산책#자연과함께#걷기길#...</td>\n",
       "    </tr>\n",
       "    <tr>\n",
       "      <th>2</th>\n",
       "      <td>3</td>\n",
       "      <td>✔ 뻔한 길은 이제 그만! 테마여행 10선과 Fun한 산책 어때?</td>\n",
       "      <td>#전국산책길#황산도해안산책로#황산도#외옹치#외옹치해변#외옹치바다향기로#안동선비순례길...</td>\n",
       "    </tr>\n",
       "    <tr>\n",
       "      <th>3</th>\n",
       "      <td>4</td>\n",
       "      <td>[8월 걷기여행길10선] 서귀포 칠십리에서 문화를 만나다, 제주 서귀포시 작가의 산...</td>\n",
       "      <td>#걷기여행길</td>\n",
       "    </tr>\n",
       "    <tr>\n",
       "      <th>4</th>\n",
       "      <td>5</td>\n",
       "      <td>해운대의 반전매력, 달맞이길 문탠로드 산책여행</td>\n",
       "      <td>#문탠로드#트레킹코스#산책로#해운대#부산#부산여행#부산가볼만한곳#청사포#청사포다릿돌...</td>\n",
       "    </tr>\n",
       "  </tbody>\n",
       "</table>\n",
       "</div>"
      ],
      "text/plain": [
       "   번호                                                 제목  \\\n",
       "0   1                  맑은 공기 마시며 산책(하고싶다)! 이른 봄의 강원도 산책길   \n",
       "1   2                        늦여름이 더 좋은 바닷길 산책, 정동심곡바다부채길   \n",
       "2   3               ✔ 뻔한 길은 이제 그만! 테마여행 10선과 Fun한 산책 어때?   \n",
       "3   4  [8월 걷기여행길10선] 서귀포 칠십리에서 문화를 만나다, 제주 서귀포시 작가의 산...   \n",
       "4   5                          해운대의 반전매력, 달맞이길 문탠로드 산책여행   \n",
       "\n",
       "                                                  태그  \n",
       "0  #강원도여행#강원도가볼만한곳#3월가볼만한곳#산책길#산책하기좋은곳#외옹치바다향기로#경...  \n",
       "1  #강릉가볼만한곳#바다여행#동해바다#강원도여행#트레킹#바닷길#산책#자연과함께#걷기길#...  \n",
       "2  #전국산책길#황산도해안산책로#황산도#외옹치#외옹치해변#외옹치바다향기로#안동선비순례길...  \n",
       "3                                            #걷기여행길   \n",
       "4  #문탠로드#트레킹코스#산책로#해운대#부산#부산여행#부산가볼만한곳#청사포#청사포다릿돌...  "
      ]
     },
     "execution_count": 139,
     "metadata": {},
     "output_type": "execute_result"
    }
   ],
   "source": [
    "# 1. text, csv 파일 read\n",
    "df = pd.read_csv('./output/visit.txt')\n",
    "df.head()"
   ]
  },
  {
   "cell_type": "code",
   "execution_count": 142,
   "metadata": {},
   "outputs": [
    {
     "data": {
      "text/html": [
       "<div>\n",
       "<style scoped>\n",
       "    .dataframe tbody tr th:only-of-type {\n",
       "        vertical-align: middle;\n",
       "    }\n",
       "\n",
       "    .dataframe tbody tr th {\n",
       "        vertical-align: top;\n",
       "    }\n",
       "\n",
       "    .dataframe thead th {\n",
       "        text-align: right;\n",
       "    }\n",
       "</style>\n",
       "<table border=\"1\" class=\"dataframe\">\n",
       "  <thead>\n",
       "    <tr style=\"text-align: right;\">\n",
       "      <th></th>\n",
       "      <th>번호</th>\n",
       "      <th>제목</th>\n",
       "      <th>태그</th>\n",
       "    </tr>\n",
       "  </thead>\n",
       "  <tbody>\n",
       "    <tr>\n",
       "      <th>0</th>\n",
       "      <td>1</td>\n",
       "      <td>맑은 공기 마시며 산책(하고싶다)! 이른 봄의 강원도 산책길</td>\n",
       "      <td>#강원도여행#강원도가볼만한곳#3월가볼만한곳#산책길#산책하기좋은곳#외옹치바다향기로#경...</td>\n",
       "    </tr>\n",
       "    <tr>\n",
       "      <th>1</th>\n",
       "      <td>2</td>\n",
       "      <td>늦여름이 더 좋은 바닷길 산책, 정동심곡바다부채길</td>\n",
       "      <td>#강릉가볼만한곳#바다여행#동해바다#강원도여행#트레킹#바닷길#산책#자연과함께#걷기길#...</td>\n",
       "    </tr>\n",
       "    <tr>\n",
       "      <th>2</th>\n",
       "      <td>3</td>\n",
       "      <td>✔ 뻔한 길은 이제 그만! 테마여행 10선과 Fun한 산책 어때?</td>\n",
       "      <td>#전국산책길#황산도해안산책로#황산도#외옹치#외옹치해변#외옹치바다향기로#안동선비순례길...</td>\n",
       "    </tr>\n",
       "    <tr>\n",
       "      <th>3</th>\n",
       "      <td>4</td>\n",
       "      <td>[8월 걷기여행길10선] 서귀포 칠십리에서 문화를 만나다, 제주 서귀포시 작가의 산...</td>\n",
       "      <td>#걷기여행길</td>\n",
       "    </tr>\n",
       "    <tr>\n",
       "      <th>4</th>\n",
       "      <td>5</td>\n",
       "      <td>해운대의 반전매력, 달맞이길 문탠로드 산책여행</td>\n",
       "      <td>#문탠로드#트레킹코스#산책로#해운대#부산#부산여행#부산가볼만한곳#청사포#청사포다릿돌...</td>\n",
       "    </tr>\n",
       "  </tbody>\n",
       "</table>\n",
       "</div>"
      ],
      "text/plain": [
       "   번호                                                 제목  \\\n",
       "0   1                  맑은 공기 마시며 산책(하고싶다)! 이른 봄의 강원도 산책길   \n",
       "1   2                        늦여름이 더 좋은 바닷길 산책, 정동심곡바다부채길   \n",
       "2   3               ✔ 뻔한 길은 이제 그만! 테마여행 10선과 Fun한 산책 어때?   \n",
       "3   4  [8월 걷기여행길10선] 서귀포 칠십리에서 문화를 만나다, 제주 서귀포시 작가의 산...   \n",
       "4   5                          해운대의 반전매력, 달맞이길 문탠로드 산책여행   \n",
       "\n",
       "                                                  태그  \n",
       "0  #강원도여행#강원도가볼만한곳#3월가볼만한곳#산책길#산책하기좋은곳#외옹치바다향기로#경...  \n",
       "1  #강릉가볼만한곳#바다여행#동해바다#강원도여행#트레킹#바닷길#산책#자연과함께#걷기길#...  \n",
       "2  #전국산책길#황산도해안산책로#황산도#외옹치#외옹치해변#외옹치바다향기로#안동선비순례길...  \n",
       "3                                            #걷기여행길   \n",
       "4  #문탠로드#트레킹코스#산책로#해운대#부산#부산여행#부산가볼만한곳#청사포#청사포다릿돌...  "
      ]
     },
     "execution_count": 142,
     "metadata": {},
     "output_type": "execute_result"
    }
   ],
   "source": [
    "# 2. excel 파일 read\n",
    "df = pd.read_excel('./output/visit.xlsx', index=False)\n",
    "df.head()"
   ]
  },
  {
   "cell_type": "code",
   "execution_count": null,
   "metadata": {},
   "outputs": [],
   "source": [
    "# 3. json 파일 read\n",
    "df = pd.read_json('./output/visit.xlsx', index=False)\n",
    "df.head()"
   ]
  }
 ],
 "metadata": {
  "kernelspec": {
   "display_name": "ai",
   "language": "python",
   "name": "ai"
  },
  "language_info": {
   "codemirror_mode": {
    "name": "ipython",
    "version": 3
   },
   "file_extension": ".py",
   "mimetype": "text/x-python",
   "name": "python",
   "nbconvert_exporter": "python",
   "pygments_lexer": "ipython3",
   "version": "3.6.10"
  }
 },
 "nbformat": 4,
 "nbformat_minor": 2
}
