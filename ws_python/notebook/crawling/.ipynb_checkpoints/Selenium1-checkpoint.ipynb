{
 "cells": [
  {
   "cell_type": "markdown",
   "metadata": {},
   "source": [
    "### 멜론 노래 순위 정보 크롤링"
   ]
  },
  {
   "cell_type": "code",
   "execution_count": 11,
   "metadata": {},
   "outputs": [],
   "source": [
    "from urllib.error import HTTPError # url로 발생하는 http 에러를 예외처리하는 클래스, 404 등\n",
    "from urllib.request import urlopen # 주소 접근\n",
    "from urllib.parse import quote  # 한글 처리 함수\n",
    "from requests import get        # GET 방식 호출 함수\n",
    "import ssl                      # https 접근\n",
    "from bs4 import BeautifulSoup\n",
    "\n",
    "context = ssl._create_unverified_context()\n",
    "\n",
    "from selenium import webdriver\n",
    "driver = webdriver.Chrome('C:/ai6/chromedriver.exe')"
   ]
  },
  {
   "cell_type": "code",
   "execution_count": 15,
   "metadata": {},
   "outputs": [],
   "source": [
    "# BeautifulSoup 객체로 변환\n",
    "def getbs(url):\n",
    "    try:\n",
    "        driver.get(url) # 크롬 드라이버 exe, 브라우저를 뜻함\n",
    "        bs = BeautifulSoup(driver.page_source, 'html.parser') # .page_source 내용\n",
    "    except HTTPError as e:\n",
    "        # 페이지 url이 없는 경우\n",
    "        print(e)\n",
    "        return None # 처리 종료\n",
    "    else:\n",
    "        # 예외가 발생하지 않았다면\n",
    "        return bs\n",
    "#     finally:\n",
    "#         print('처리를 종료합니다.')"
   ]
  },
  {
   "cell_type": "code",
   "execution_count": 17,
   "metadata": {},
   "outputs": [
    {
     "name": "stdout",
     "output_type": "stream",
     "text": [
      "50\n",
      "<tr class=\"lst50\" data-song-no=\"32578498\" id=\"lst50\">\n",
      "<td><div class=\"wrap t_right\"><input class=\"input_check\" name=\"input_check\" title=\"에잇(Prod.&amp;Feat. SUGA of BTS) 곡 선택\" type=\"checkbox\" value=\"32578498\"/></div></td>\n",
      "<td><div class=\"wrap t_center\"><span class=\"rank\">1</span><span class=\"none\">위</span></div></td>\n",
      "<!-- 차트순위 추가 -->\n",
      "<td><div class=\"wrap\">\n",
      "<span class=\"rank_wrap\" title=\"순위 동일\">\n",
      "<span class=\"bullet_icons rank_static\"><span class=\"none\">순위 동일</span></span>\n",
      "<span class=\"none\">0</span>\n",
      "</span>\n",
      "</div></td>\n",
      "<td><div class=\"wrap\">\n",
      "<a class=\"image_typeAll\" href=\"javascript:melon.link.goAlbumDetail('10426648');\" title=\"에잇\">\n",
      "<img alt=\"에잇 - 페이지 이동\" height=\"60\" onerror=\"WEBPOCIMG.defaultAlbumImg(this);\" src=\"https://cdnimg.melon.co.kr/cm2/album/images/104/26/648/10426648_20200506153340_500.jpg/melon/resize/120/quality/80/optimize\" width=\"60\"/>\n",
      "<span class=\"bg_album_frame\"></span>\n",
      "</a>\n",
      "</div></td>\n",
      "<td><div class=\"wrap\">\n",
      "<a class=\"btn button_icons type03 song_info\" href=\"javascript:melon.link.goSongDetail('32578498');\" title=\"에잇(Prod.&amp;Feat. SUGA of BTS) 곡정보\"><span class=\"none\">곡정보</span></a>\n",
      "</div></td>\n",
      "<td><div class=\"wrap\">\n",
      "<div class=\"wrap_song_info\">\n",
      "<div class=\"ellipsis rank01\"><span>\n",
      "<a href=\"javascript:melon.play.playSong('19030101',32578498);\" title=\"에잇(Prod.&amp;Feat. SUGA of BTS) 재생\">에잇(Prod.&amp;Feat. SUGA of BTS)</a>\n",
      "</span></div><br/>\n",
      "<div class=\"ellipsis rank02\">\n",
      "<a href=\"javascript:melon.link.goArtistDetail('261143');\" title=\"아이유 - 페이지 이동\">아이유</a><span class=\"checkEllipsis\" style=\"display: none;\"><a href=\"javascript:melon.link.goArtistDetail('261143');\" title=\"아이유 - 페이지 이동\">아이유</a></span>\n",
      "</div>\n",
      "</div>\n",
      "</div></td>\n",
      "<td><div class=\"wrap\">\n",
      "<div class=\"wrap_song_info\">\n",
      "<div class=\"ellipsis rank03\">\n",
      "<a href=\"javascript:melon.link.goAlbumDetail('10426648');\" title=\"에잇 - 페이지 이동\">에잇</a>\n",
      "</div>\n",
      "</div>\n",
      "</div></td>\n",
      "<td><div class=\"wrap\">\n",
      "<button class=\"button_etc like\" data-song-menuid=\"19030101\" data-song-no=\"32578498\" title=\"에잇(Prod.&amp;Feat. SUGA of BTS) 좋아요\" type=\"button\"><span class=\"odd_span\">좋아요</span>\n",
      "<span class=\"cnt\">\n",
      "<span class=\"none\">총건수</span>\n",
      "275,859</span></button>\n",
      "</div></td>\n",
      "<td><div class=\"wrap t_center\">\n",
      "<button class=\"button_icons play\" onclick=\"melon.play.playSong('19030101',32578498);\" title=\"듣기\" type=\"button\"><span class=\"none\">듣기</span></button>\n",
      "</div></td>\n",
      "<td><div class=\"wrap t_center\">\n",
      "<button class=\"button_icons scrap\" onclick=\"melon.play.addPlayList('32578498');\" title=\"담기\" type=\"button\"><span class=\"none\">담기</span></button>\n",
      "</div></td>\n",
      "<td><div class=\"wrap t_center\">\n",
      "<button class=\"button_icons download\" onclick=\"melon.buy.goBuyProduct('frm', '32578498', '3C0001', '','0', '19030101');\" title=\"다운로드\" type=\"button\"><span class=\"none\">다운로드</span></button>\n",
      "</div></td>\n",
      "<td><div class=\"wrap t_center\">\n",
      "<button class=\"button_icons video\" onclick=\"melon.link.goMvDetail('19030101', '32578498','song');\" title=\"뮤직비디오\" type=\"button\"><span class=\"none\">뮤직비디오</span></button>\n",
      "</div></td>\n",
      "</tr>\n"
     ]
    }
   ],
   "source": [
    "# http://www.melon.com/chart/index.htm\n",
    "url = 'http://www.melon.com/chart/index.htm'\n",
    "bs = getbs(url)\n",
    "songs = bs.select('#lst50')\n",
    "print(len(songs))\n",
    "print(songs[0])"
   ]
  },
  {
   "cell_type": "code",
   "execution_count": 25,
   "metadata": {},
   "outputs": [
    {
     "name": "stdout",
     "output_type": "stream",
     "text": [
      "에잇(Prod.&Feat. SUGA of BTS)\n",
      "아이유\n"
     ]
    }
   ],
   "source": [
    "song = songs[0] # 첫번째 순위 곡\n",
    "# 제목\n",
    "# #lst50 > td:nth-child(6) > div > div > div.ellipsis.rank01 > span > a\n",
    "# 가수명\n",
    "# #lst50 > td:nth-child(6) > div > div > div.ellipsis.rank02 > a\n",
    "title = song.select('td:nth-child(6) > div > div > div.ellipsis.rank01 > span > a')[0].text\n",
    "print(title)\n",
    "singer = song.select('td:nth-child(6) > div > div > div.ellipsis.rank02 > a')[0].text\n",
    "print(singer)\n"
   ]
  },
  {
   "cell_type": "code",
   "execution_count": 26,
   "metadata": {},
   "outputs": [
    {
     "name": "stdout",
     "output_type": "stream",
     "text": [
      "아로하\n",
      "조정석\n"
     ]
    }
   ],
   "source": [
    "song = songs[1] # 첫번째 순위 곡\n",
    "# 제목\n",
    "# #lst50 > td:nth-child(6) > div > div > div.ellipsis.rank01 > span > a\n",
    "# 가수명\n",
    "# #lst50 > td:nth-child(6) > div > div > div.ellipsis.rank02 > a\n",
    "title = song.select('td:nth-child(6) > div > div > div.ellipsis.rank01 > span > a')[0].text\n",
    "print(title)\n",
    "singer = song.select('td:nth-child(6) > div > div > div.ellipsis.rank02 > a')[0].text\n",
    "print(singer)\n"
   ]
  },
  {
   "cell_type": "code",
   "execution_count": 34,
   "metadata": {},
   "outputs": [
    {
     "name": "stdout",
     "output_type": "stream",
     "text": [
      "1 에잇(Prod.&Feat. SUGA of BTS) | 아이유\n",
      "2 아로하 | 조정석\n",
      "3 사랑하게 될 줄 알았어 | 전미도\n",
      "4 MORE & MORE | TWICE (트와이스)\n",
      "5 깡 Official Remix | 식케이 (Sik-K)\n",
      "6 살짝 설렜어 (Nonstop) | 오마이걸\n",
      "7 ON | 방탄소년단\n",
      "8 나비와 고양이 (feat.백현 (BAEKHYUN)) | 볼빨간사춘기\n",
      "9 Candy | 백현 (BAEKHYUN)\n",
      "10 좋은 사람 있으면 소개시켜줘 | 조이 (JOY)\n",
      "11 너에게 난, 나에게 넌 | 미도와 파라솔\n",
      "12 Dolphin | 오마이걸\n",
      "13 작은 것들을 위한 시 (Boy With Luv) (Feat. Halsey) | 방탄소년단\n",
      "14 화려하지 않은 고백 | 규현 (KYUHYUN)\n",
      "15 Dance Monkey | Tones And I\n",
      "16 시작 | 가호 (Gaho)\n",
      "17 Memories | Maroon 5\n",
      "18 처음처럼 | 엠씨더맥스 (M.C the MAX)\n",
      "19 이제 나만 믿어요 | 임영웅\n",
      "20 어떻게 지내 (Prod. By VAN.C) | 오반\n",
      "21 아무노래 | 지코 (ZICO)\n",
      "22 흔들리는 꽃들 속에서 네 샴푸향이 느껴진거야 | 장범준\n",
      "23 너를 사랑하고 있어 | 백현 (BAEKHYUN)\n",
      "24 00:00 (Zero O’Clock) | 방탄소년단\n",
      "25 Blueming | 아이유\n",
      "26 Don't Start Now | Dua Lipa\n",
      "27 METEOR | 창모 (CHANGMO)\n",
      "28 덤더럼(Dumhdurum) | Apink (에이핑크)\n",
      "29 그대 고운 내사랑 | 어반자카파\n",
      "30 Black Swan | 방탄소년단\n",
      "31 친구 | 방탄소년단\n",
      "32 Filter | 방탄소년단\n",
      "33 내 눈물 모아 | 휘인 (Whee In)\n",
      "34 Moon | 방탄소년단\n",
      "35 시차 | 방탄소년단\n",
      "36 Bungee | 백현 (BAEKHYUN)\n",
      "37 We are Bulletproof : the Eternal | 방탄소년단\n",
      "38 2002 | Anne-Marie\n",
      "39 Downtown Baby | 블루 (BLOO)\n",
      "40 Inner Child | 방탄소년단\n",
      "41 마음을 드려요 | 아이유\n",
      "42 Love Again | 백현 (BAEKHYUN)\n",
      "43 욱 (UGH!) | 방탄소년단\n",
      "44 Louder than bombs | 방탄소년단\n",
      "45 그때 그 아인 | 김필\n",
      "46 돌덩이 | 하현우 (국카스텐)\n",
      "47 어떻게 지내 (답가) | 런치\n",
      "48 Interlude : Shadow | 방탄소년단\n",
      "49 늦은 밤 너의 집 앞 골목길에서 | 노을\n",
      "50 너에게 가는 이 길 위에서 (너.이.길) | 백현 (BAEKHYUN)\n"
     ]
    }
   ],
   "source": [
    "for i, song in enumerate(songs):\n",
    "    title = song.select('td:nth-child(6) > div > div > div.ellipsis.rank01 > span > a')[0].text\n",
    "    print(i+1, title, end=\" | \")\n",
    "    singer = song.select('td:nth-child(6) > div > div > div.ellipsis.rank02 > a')[0].text\n",
    "    print(singer)\n",
    "    # print('{0}. {1} | {2}'.format(i+1, title, singer))"
   ]
  },
  {
   "cell_type": "code",
   "execution_count": null,
   "metadata": {},
   "outputs": [],
   "source": []
  },
  {
   "cell_type": "code",
   "execution_count": null,
   "metadata": {},
   "outputs": [],
   "source": []
  },
  {
   "cell_type": "code",
   "execution_count": null,
   "metadata": {},
   "outputs": [],
   "source": []
  },
  {
   "cell_type": "code",
   "execution_count": null,
   "metadata": {},
   "outputs": [],
   "source": []
  },
  {
   "cell_type": "code",
   "execution_count": null,
   "metadata": {},
   "outputs": [],
   "source": []
  },
  {
   "cell_type": "code",
   "execution_count": null,
   "metadata": {},
   "outputs": [],
   "source": []
  }
 ],
 "metadata": {
  "kernelspec": {
   "display_name": "ai",
   "language": "python",
   "name": "ai"
  },
  "language_info": {
   "codemirror_mode": {
    "name": "ipython",
    "version": 3
   },
   "file_extension": ".py",
   "mimetype": "text/x-python",
   "name": "python",
   "nbconvert_exporter": "python",
   "pygments_lexer": "ipython3",
   "version": "3.6.10"
  }
 },
 "nbformat": 4,
 "nbformat_minor": 2
}
