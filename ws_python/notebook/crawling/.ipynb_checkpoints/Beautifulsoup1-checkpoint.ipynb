{
 "cells": [
  {
   "cell_type": "code",
   "execution_count": 1,
   "metadata": {},
   "outputs": [],
   "source": [
    "# bs4불러오기\n",
    "from bs4 import BeautifulSoup"
   ]
  },
  {
   "cell_type": "code",
   "execution_count": 3,
   "metadata": {},
   "outputs": [
    {
     "data": {
      "text/plain": [
       "<title> HTML 연습 </title>"
      ]
     },
     "execution_count": 3,
     "metadata": {},
     "output_type": "execute_result"
    }
   ],
   "source": [
    "ex1 = '''\n",
    "<html>\n",
    "    <head>\n",
    "        <title> HTML 연습 </title>\n",
    "    </head>\n",
    "    <body>\n",
    "        <p align=\"center\"> text 1 </p>\n",
    "        <img src=\"c:\\\\temp\\\\image\\\\솔개.png\">\n",
    "    </body>\n",
    "</html>\n",
    "'''\n",
    "soup = BeautifulSoup(ex1, 'html.parser')\n",
    "soup.find('title')"
   ]
  },
  {
   "cell_type": "code",
   "execution_count": 4,
   "metadata": {},
   "outputs": [
    {
     "data": {
      "text/plain": [
       "<p align=\"center\"> text 1 </p>"
      ]
     },
     "execution_count": 4,
     "metadata": {},
     "output_type": "execute_result"
    }
   ],
   "source": [
    "# soup.find('P') # 대소문자 구분함, 찾지 못함\n",
    "soup.find('p')"
   ]
  },
  {
   "cell_type": "code",
   "execution_count": 45,
   "metadata": {},
   "outputs": [],
   "source": [
    "ex1 = '''\n",
    "<html>\n",
    "    <head>\n",
    "        <title> HTML 연습 </title>\n",
    "    </head>\n",
    "    <body>\n",
    "        <p align=\"center\"> text 1 </p>\n",
    "        <p align=\"right\"> text 2 </p>\n",
    "        <p align=\"left\"> text 3 </p>\n",
    "        <img src=\"c:\\\\temp\\\\image\\\\솔개.png\">\n",
    "    </body>\n",
    "</html>\n",
    "'''\n",
    "soup = BeautifulSoup(ex1, 'html.parser')"
   ]
  },
  {
   "cell_type": "code",
   "execution_count": 12,
   "metadata": {},
   "outputs": [
    {
     "name": "stdout",
     "output_type": "stream",
     "text": [
      "<p align=\"center\"> text 1 </p>\n",
      "<p align=\"right\"> text 2 </p>\n",
      "<p align=\"left\"> text 3 </p>\n"
     ]
    }
   ],
   "source": [
    "# p 태그 여러 개 찾기\n",
    "p_list = soup.find_all('p')\n",
    "\n",
    "for tag in p_list:\n",
    "    print(tag)"
   ]
  },
  {
   "cell_type": "code",
   "execution_count": 13,
   "metadata": {},
   "outputs": [
    {
     "data": {
      "text/plain": [
       "[<p align=\"center\"> text 1 </p>,\n",
       " <p align=\"right\"> text 2 </p>,\n",
       " <p align=\"left\"> text 3 </p>,\n",
       " <img src=\"c:\\temp\\image\\솔개.png\"/>]"
      ]
     },
     "execution_count": 13,
     "metadata": {},
     "output_type": "execute_result"
    }
   ],
   "source": [
    "# 리스트를 전달, 여러 태그를 검색\n",
    "soup.find_all(['p', 'img']) # 모든 p, img  태그, list"
   ]
  },
  {
   "cell_type": "code",
   "execution_count": 24,
   "metadata": {},
   "outputs": [
    {
     "data": {
      "text/plain": [
       "' HTML 연습 '"
      ]
     },
     "execution_count": 24,
     "metadata": {},
     "output_type": "execute_result"
    }
   ],
   "source": [
    "# 태그의 html 내용 꺼내기\n",
    "title = soup.find('title')\n",
    "title.string # 태그 값"
   ]
  },
  {
   "cell_type": "code",
   "execution_count": 46,
   "metadata": {},
   "outputs": [
    {
     "name": "stdout",
     "output_type": "stream",
     "text": [
      "\n",
      "<HTML>\n",
      "    <HEAD>\n",
      "        <TITLE> HTML 연습 </TITLE>\n",
      "    </HEAD>\n",
      "    <BODY>\n",
      "        <P ALIGN=\"CENTER\"> TEXT 1 </P>\n",
      "        <P ALIGN=\"RIGHT\"> TEXT 2 </P>\n",
      "        <P ALIGN=\"LEFT\"> TEXT 3 </P>\n",
      "        <IMG SRC=\"C:\\TEMP\\IMAGE\\솔개.PNG\">\n",
      "    </BODY>\n",
      "</HTML>\n",
      "\n"
     ]
    }
   ],
   "source": [
    "# html 전체를 대문자로 변환\n",
    "ex1_upper = ex1.upper()\n",
    "print(ex1_upper)"
   ]
  },
  {
   "cell_type": "code",
   "execution_count": 36,
   "metadata": {},
   "outputs": [
    {
     "name": "stdout",
     "output_type": "stream",
     "text": [
      "<class 'int'>\n",
      "28\n"
     ]
    },
    {
     "data": {
      "text/plain": [
       "'T'"
      ]
     },
     "execution_count": 36,
     "metadata": {},
     "output_type": "execute_result"
    }
   ],
   "source": [
    "tag = ex1_upper.find('TITLE')\n",
    "# print(tag.string) # 에러\n",
    "print(type(tag)) # int\n",
    "print(tag) # 28 : 28번째 글자에서 TITLE이 나옴\n",
    "ex1_upper[28] # 'T'"
   ]
  },
  {
   "cell_type": "code",
   "execution_count": 47,
   "metadata": {},
   "outputs": [
    {
     "name": "stdout",
     "output_type": "stream",
     "text": [
      "<class 'int'>\n",
      "28\n"
     ]
    }
   ],
   "source": [
    "ex1_lower = ex1_upper.lower()\n",
    "tag = ex1_lower.find('title')\n",
    "# print(tag.string) # 에러\n",
    "print(type(tag)) # int\n",
    "print(tag) # 28: 28번째 글자에서 TITLE이 나옴"
   ]
  },
  {
   "cell_type": "code",
   "execution_count": 41,
   "metadata": {},
   "outputs": [
    {
     "name": "stdout",
     "output_type": "stream",
     "text": [
      "<class 'NoneType'>\n",
      "None\n"
     ]
    }
   ],
   "source": [
    "# 문자열이 대문자라고 하더라도, 대문자 태그는 검색되지 않음\n",
    "soup = BeautifulSoup(ex1_upper, 'html.parser') # 대문자 대상\n",
    "tag = soup.find('TITLE')\n",
    "print(type(tag))\n",
    "print(tag)\n",
    "# <class 'NoneType'>\n",
    "# None"
   ]
  },
  {
   "cell_type": "code",
   "execution_count": 48,
   "metadata": {},
   "outputs": [
    {
     "name": "stdout",
     "output_type": "stream",
     "text": [
      "<class 'bs4.element.Tag'>\n",
      "<title> html 연습 </title>\n"
     ]
    }
   ],
   "source": [
    "soup = BeautifulSoup(ex1_lower, 'html.parser') # 대문자 대상\n",
    "tag = soup.find('title')\n",
    "print(type(tag))\n",
    "print(tag)"
   ]
  },
  {
   "cell_type": "code",
   "execution_count": 50,
   "metadata": {},
   "outputs": [
    {
     "name": "stdout",
     "output_type": "stream",
     "text": [
      "<p align=\"right\"> text 2 </p>\n",
      " text 2 \n"
     ]
    }
   ],
   "source": [
    "# 속성이 일치하는 태그 찾기\n",
    "print(soup.find('p', align='right'))\n",
    "print(soup.find('p', align='right').string)"
   ]
  },
  {
   "cell_type": "code",
   "execution_count": 63,
   "metadata": {},
   "outputs": [
    {
     "name": "stdout",
     "output_type": "stream",
     "text": [
      "[<div>왕눈이</div>, <div>아로미</div>, <div>투투투</div>]\n",
      "<class 'bs4.element.ResultSet'>\n",
      "이벤트 당첨자 목록\n",
      "왕눈이\n",
      "아로미\n",
      "투투투\n",
      "왕눈이\n",
      "아로미\n",
      "투투투\n"
     ]
    }
   ],
   "source": [
    "ex1 = '''\n",
    "<html>\n",
    "    <head>\n",
    "        <title> HTML 연습 </title>\n",
    "    </head>\n",
    "    <body>\n",
    "        <h1>이벤트 당첨자</h1>\n",
    "        <div>왕눈이</div>\n",
    "        <div>아로미</div>\n",
    "        <div>투투투</div>\n",
    "    </body>\n",
    "</html>\n",
    "'''\n",
    "bs = BeautifulSoup(ex1, 'html.parser')\n",
    "events = bs.find_all('div')\n",
    "print(events)\n",
    "print(type(events)) # <class 'bs4.element.ResultSet'> resultset 타입\n",
    "print('이벤트 당첨자 목록')\n",
    "for event in events:\n",
    "    # print(type(event)) # <class 'bs4.element.Tag'> 태그 타입\n",
    "    print(event.string) # 이름 출력 왕눈이...\n",
    "\n",
    "for event in events:\n",
    "    print(event.get_text()) # 이름 출력 왕눈이..."
   ]
  },
  {
   "cell_type": "code",
   "execution_count": 65,
   "metadata": {},
   "outputs": [
    {
     "name": "stdout",
     "output_type": "stream",
     "text": [
      "<class 'bs4.element.ResultSet'>\n",
      "[<p class=\"name1\" id=\"fruits1\" title=\"바나나\"> 바나나 \n",
      "            <span class=\"price\"> 3000원 </span>\n",
      "<span class=\"count\"> 10개 </span>\n",
      "<span class=\"store\"> 바나나가게 </span>\n",
      "<a href=\"https://www.banana.com\"> banana.com </a>\n",
      "</p>, <p class=\"name2\" id=\"fruits2\" title=\"체리\"> 체리 \n",
      "            <span class=\"price\"> 100원 </span>\n",
      "<span class=\"count\"> 50개 </span>\n",
      "<span class=\"store\"> 체리가게</span>\n",
      "<a href=\"https://www.cherry.com\"> cherry.com </a>\n",
      "</p>, <p class=\"name3\" id=\"fruits3\" title=\"오렌지\"> 오렌지\n",
      "            <span class=\"price\"> 500원 </span>\n",
      "<span class=\"count\"> 20개 </span>\n",
      "<span class=\"store\"> 오렌지가게</span>\n",
      "<a href=\"https://www.orange.com\"> orange.com </a>\n",
      "</p>]\n"
     ]
    }
   ],
   "source": [
    "# select() 검색\n",
    "ex2 = ''' \n",
    "<html> \n",
    "    <head> \n",
    "        <h1> 사야할 과일 </h1>\n",
    "    </head> \n",
    "    <body> \n",
    "        <h1> 시장가서 사야할 과일 목록 </h1> \n",
    "        <div> \n",
    "          <p id='fruits1' class='name1' title='바나나'> 바나나 \n",
    "            <span class = 'price'> 3000원 </span> \n",
    "            <span class = 'count'> 10개 </span> \n",
    "            <span class = 'store'> 바나나가게 </span> \n",
    "            <a href = 'https://www.banana.com'> banana.com </a> \n",
    "          </p>\n",
    "        </div> \n",
    "        <div> \n",
    "          <p id='fruits2' class='name2' title='체리'> 체리 \n",
    "            <span class = 'price'> 100원 </span> \n",
    "            <span class = 'count'> 50개 </span> \n",
    "            <span class = 'store'> 체리가게</span> \n",
    "            <a href = 'https://www.cherry.com'> cherry.com </a>\n",
    "          </p> \n",
    "        </div> \n",
    "        <div> \n",
    "          <p id='fruits3' class='name3' title='오렌지'> 오렌지\n",
    "            <span class = 'price'> 500원 </span> \n",
    "            <span class = 'count'> 20개 </span> \n",
    "            <span class = 'store'> 오렌지가게</span> \n",
    "            <a href = 'https://www.orange.com'> orange.com </a>\n",
    "          </p> \n",
    "        <div> \n",
    "    </body> \n",
    "</html>\n",
    "'''\n",
    "bs = BeautifulSoup(ex2, 'html.parser')\n",
    "p_list = bs.select('p')\n",
    "print(type(p_list)) # <class 'bs4.element.ResultSet'>\n",
    "print(p_list)"
   ]
  },
  {
   "cell_type": "code",
   "execution_count": 68,
   "metadata": {},
   "outputs": [
    {
     "name": "stdout",
     "output_type": "stream",
     "text": [
      "<class 'bs4.element.ResultSet'>\n",
      "[<p class=\"name1\" id=\"fruits1\" title=\"바나나\"> 바나나 \n",
      "            <span class=\"price\"> 3000원 </span>\n",
      "<span class=\"count\"> 10개 </span>\n",
      "<span class=\"store\"> 바나나가게 </span>\n",
      "<a href=\"https://www.banana.com\"> banana.com </a>\n",
      "</p>]\n"
     ]
    }
   ],
   "source": [
    "# class 검색\n",
    "p_list = bs.select('.name1') # class가 name1인 태그\n",
    "print(type(p_list))\n",
    "print(p_list) # p 태그는 하나 밖에 없지만 리스트로 출력"
   ]
  },
  {
   "cell_type": "code",
   "execution_count": 75,
   "metadata": {},
   "outputs": [
    {
     "name": "stdout",
     "output_type": "stream",
     "text": [
      "<span class=\"price\"> 3000원 </span>\n",
      "<span class=\"count\"> 10개 </span>\n",
      "<span class=\"store\"> 바나나가게 </span>\n",
      "<span class=\"price\"> 100원 </span>\n",
      "<span class=\"count\"> 50개 </span>\n",
      "<span class=\"store\"> 체리가게</span>\n",
      "<span class=\"price\"> 500원 </span>\n",
      "<span class=\"count\"> 20개 </span>\n",
      "<span class=\"store\"> 오렌지가게</span>\n"
     ]
    }
   ],
   "source": [
    "tags = bs.select('div>p>span') # > 바로 아래 태그\n",
    "# tags = bs.select('div>span') # 결과 출력 안됨\n",
    "# print(type(tags))\n",
    "for tag in tags:\n",
    "    print(tag)"
   ]
  },
  {
   "cell_type": "code",
   "execution_count": 76,
   "metadata": {},
   "outputs": [
    {
     "name": "stdout",
     "output_type": "stream",
     "text": [
      "<span class=\"price\"> 3000원 </span>\n",
      "<span class=\"count\"> 10개 </span>\n",
      "<span class=\"store\"> 바나나가게 </span>\n",
      "<span class=\"price\"> 100원 </span>\n",
      "<span class=\"count\"> 50개 </span>\n",
      "<span class=\"store\"> 체리가게</span>\n",
      "<span class=\"price\"> 500원 </span>\n",
      "<span class=\"count\"> 20개 </span>\n",
      "<span class=\"store\"> 오렌지가게</span>\n"
     ]
    }
   ],
   "source": [
    "for i in range(len(tags)):\n",
    "    print(tags[i])"
   ]
  },
  {
   "cell_type": "code",
   "execution_count": 80,
   "metadata": {},
   "outputs": [
    {
     "data": {
      "text/plain": [
       "[<span class=\"store\"> 오렌지가게</span>]"
      ]
     },
     "execution_count": 80,
     "metadata": {},
     "output_type": "execute_result"
    }
   ],
   "source": [
    "# 오렌지 가게만 찾기\n",
    "bs.select('div>p.name3>span.store')"
   ]
  },
  {
   "cell_type": "code",
   "execution_count": 82,
   "metadata": {},
   "outputs": [
    {
     "data": {
      "text/plain": [
       "[<p class=\"name3\" id=\"fruits3\" title=\"오렌지\"> 오렌지\n",
       "             <span class=\"price\"> 500원 </span>\n",
       " <span class=\"count\"> 20개 </span>\n",
       " <span class=\"store\"> 오렌지가게</span>\n",
       " <a href=\"https://www.orange.com\"> orange.com </a>\n",
       " </p>]"
      ]
     },
     "execution_count": 82,
     "metadata": {},
     "output_type": "execute_result"
    }
   ],
   "source": [
    "# HTML문서에서 class는 중복해서 자주 사용됨\n",
    "# id: 태그를 구분하기위해서 지정하는 고유한 값, #\n",
    "tags = bs.select('#fruits3') # id 속성으로 태그 검색\n",
    "tags"
   ]
  },
  {
   "cell_type": "code",
   "execution_count": 83,
   "metadata": {},
   "outputs": [
    {
     "data": {
      "text/plain": [
       "[<span class=\"store\"> 오렌지가게</span>]"
      ]
     },
     "execution_count": 83,
     "metadata": {},
     "output_type": "execute_result"
    }
   ],
   "source": [
    "# 아이디가 fruit3인 태그의 바로 아래 span 자식의 class가 store\n",
    "bs.select('#fruits3>span.store')"
   ]
  },
  {
   "cell_type": "code",
   "execution_count": 84,
   "metadata": {},
   "outputs": [
    {
     "data": {
      "text/plain": [
       "[<a href=\"https://www.banana.com\"> banana.com </a>,\n",
       " <a href=\"https://www.cherry.com\"> cherry.com </a>,\n",
       " <a href=\"https://www.orange.com\"> orange.com </a>]"
      ]
     },
     "execution_count": 84,
     "metadata": {},
     "output_type": "execute_result"
    }
   ],
   "source": [
    "tags = bs.select('a')\n",
    "tags"
   ]
  },
  {
   "cell_type": "code",
   "execution_count": 85,
   "metadata": {},
   "outputs": [
    {
     "name": "stdout",
     "output_type": "stream",
     "text": [
      " banana.com  {'href': 'https://www.banana.com'}\n",
      " cherry.com  {'href': 'https://www.cherry.com'}\n",
      " orange.com  {'href': 'https://www.orange.com'}\n"
     ]
    }
   ],
   "source": [
    "for tag in tags:\n",
    "    print(tag.string, tag.attrs) # 속성 접근\n",
    "# banana.com  {'href': 'https://www.banana.com'}"
   ]
  },
  {
   "cell_type": "code",
   "execution_count": null,
   "metadata": {},
   "outputs": [],
   "source": []
  }
 ],
 "metadata": {
  "kernelspec": {
   "display_name": "ai",
   "language": "python",
   "name": "ai"
  },
  "language_info": {
   "codemirror_mode": {
    "name": "ipython",
    "version": 3
   },
   "file_extension": ".py",
   "mimetype": "text/x-python",
   "name": "python",
   "nbconvert_exporter": "python",
   "pygments_lexer": "ipython3",
   "version": "3.6.10"
  }
 },
 "nbformat": 4,
 "nbformat_minor": 2
}
