{
 "cells": [
  {
   "cell_type": "code",
   "execution_count": null,
   "metadata": {},
   "outputs": [],
   "source": [
    "def maxsu(su1, su2):\n",
    "    if su1 > su2:\n",
    "        return su1\n",
    "    else:\n",
    "        return su2\n",
    "\n",
    "\n",
    "def minsu(su1, su2):\n",
    "    if su1 < su2:\n",
    "        return su1\n",
    "    else:\n",
    "        return su2\n",
    "\n",
    "\n",
    "def swap(su1, su2):\n",
    "    temp = su1\n",
    "    su1 = su2\n",
    "    su2 = temp\n",
    "\n",
    "    return su1, su2"
   ]
  }
 ],
 "metadata": {
  "kernelspec": {
   "display_name": "ai",
   "language": "python",
   "name": "ai"
  },
  "language_info": {
   "codemirror_mode": {
    "name": "ipython",
    "version": 3
   },
   "file_extension": ".py",
   "mimetype": "text/x-python",
   "name": "python",
   "nbconvert_exporter": "python",
   "pygments_lexer": "ipython3",
   "version": "3.6.10"
  }
 },
 "nbformat": 4,
 "nbformat_minor": 2
}
