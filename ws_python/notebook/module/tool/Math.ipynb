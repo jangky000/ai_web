{
 "cells": [
  {
   "cell_type": "code",
   "execution_count": 1,
   "metadata": {},
   "outputs": [],
   "source": [
    "def roundsu(su1):\n",
    "    su1 = su1 + 0.5\n",
    "    return str(int(su1))\n",
    "\n",
    "def tot(*args): # 가변 인수, 전달받은 수의 합계\n",
    "    tot = 0\n",
    "    for su in args:\n",
    "        tot = tot + su\n",
    "\n",
    "    return tot"
   ]
  },
  {
   "cell_type": "code",
   "execution_count": 2,
   "metadata": {},
   "outputs": [
    {
     "name": "stdout",
     "output_type": "stream",
     "text": [
      "10\n",
      "11\n",
      "60\n"
     ]
    }
   ],
   "source": [
    "if __name__ == '__main__': # import 시에는 실행되지 않음.\n",
    "    print(roundsu(10.4))\n",
    "    print(roundsu(10.5))\n",
    "    print(tot(10, 20, 30))"
   ]
  },
  {
   "cell_type": "code",
   "execution_count": null,
   "metadata": {},
   "outputs": [],
   "source": []
  }
 ],
 "metadata": {
  "kernelspec": {
   "display_name": "ai",
   "language": "python",
   "name": "ai"
  },
  "language_info": {
   "codemirror_mode": {
    "name": "ipython",
    "version": 3
   },
   "file_extension": ".py",
   "mimetype": "text/x-python",
   "name": "python",
   "nbconvert_exporter": "python",
   "pygments_lexer": "ipython3",
   "version": "3.6.10"
  }
 },
 "nbformat": 4,
 "nbformat_minor": 2
}
