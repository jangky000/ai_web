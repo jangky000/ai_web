{
 "cells": [
  {
   "cell_type": "code",
   "execution_count": 1,
   "metadata": {},
   "outputs": [],
   "source": [
    "def movie1(name):\n",
    "    print('영화명: ' + name) # 문자열 간 결합에 사용 가능"
   ]
  },
  {
   "cell_type": "code",
   "execution_count": 4,
   "metadata": {},
   "outputs": [
    {
     "name": "stdout",
     "output_type": "stream",
     "text": [
      "영화명: 킹덤\n",
      "영화명: 택시 운전사\n",
      "영화명: 인터스텔라\n"
     ]
    }
   ],
   "source": [
    "movie1('킹덤')\n",
    "movie1('택시 운전사')\n",
    "movie1('인터스텔라')"
   ]
  },
  {
   "cell_type": "code",
   "execution_count": 6,
   "metadata": {},
   "outputs": [],
   "source": [
    "def movie2(name, genre):\n",
    "    print('영화명: ' + name)\n",
    "    print('장르: ' + genre)"
   ]
  },
  {
   "cell_type": "code",
   "execution_count": 7,
   "metadata": {},
   "outputs": [
    {
     "name": "stdout",
     "output_type": "stream",
     "text": [
      "영화명: 빨간 머리 앤\n",
      "장르: 드라마\n",
      "영화명: 종이의 집\n",
      "장르: 스릴러, 드라마\n"
     ]
    }
   ],
   "source": [
    "movie2('빨간 머리 앤', '드라마')\n",
    "movie2('종이의 집', '스릴러, 드라마')\n"
   ]
  },
  {
   "cell_type": "code",
   "execution_count": 8,
   "metadata": {},
   "outputs": [],
   "source": [
    "def movie3(name, genre, score=0.5): # 인수 기본값 설정\n",
    "    print('영화명: ' + name)\n",
    "    print('장  르: ' + genre)\n",
    "    print('평  점: ' + str(score)) # 실수를 문자열로 변환"
   ]
  },
  {
   "cell_type": "code",
   "execution_count": 10,
   "metadata": {},
   "outputs": [
    {
     "name": "stdout",
     "output_type": "stream",
     "text": [
      "영화명: 컨저링1\n",
      "장  르: 퇴마\n",
      "평  점: 0.5\n",
      "영화명: 컨저링2\n",
      "장  르: 퇴마\n",
      "평  점: 4.5\n"
     ]
    }
   ],
   "source": [
    "movie3('컨저링1', '퇴마')\n",
    "movie3('컨저링2', '퇴마', 4.5)"
   ]
  },
  {
   "cell_type": "code",
   "execution_count": 11,
   "metadata": {},
   "outputs": [],
   "source": [
    "def movie4(name, time, genre):\n",
    "    print('영화명: ' + name)\n",
    "    print('시간: ' + str(time))\n",
    "    print('장르: ' + genre)"
   ]
  },
  {
   "cell_type": "code",
   "execution_count": 14,
   "metadata": {},
   "outputs": [
    {
     "name": "stdout",
     "output_type": "stream",
     "text": [
      "영화명: 인턴\n",
      "시간: 120\n",
      "장르: 드라마\n",
      "영화명: 업사이드\n",
      "시간: 100\n",
      "장르: 휴먼\n"
     ]
    }
   ],
   "source": [
    "movie4('인턴', 120, '드라마')\n",
    "movie4(name='업사이드', genre='휴먼', time=100) # 특이한 문법, 파라미터의 순서가 달라도 에러가 나지 않는다."
   ]
  },
  {
   "cell_type": "code",
   "execution_count": 15,
   "metadata": {},
   "outputs": [
    {
     "name": "stdout",
     "output_type": "stream",
     "text": [
      "<class 'tuple'>\n",
      "('안시성', '조인성', '김태리')\n",
      "<class 'tuple'>\n",
      "('맘마미아', '피어스브로스넌', '메릴스트립', '아만다 사이프리드')\n"
     ]
    }
   ],
   "source": [
    "def movie5(*actors):  # tuple, 가변인자 처리\n",
    "    print(type(actors))\n",
    "    print(actors)\n",
    "\n",
    "movie5('안시성', '조인성', '김태리')\n",
    "movie5('맘마미아', '피어스브로스넌', '메릴스트립', '아만다 사이프리드')"
   ]
  },
  {
   "cell_type": "code",
   "execution_count": 16,
   "metadata": {},
   "outputs": [
    {
     "name": "stdout",
     "output_type": "stream",
     "text": [
      "<class 'tuple'>\n",
      "안시성\n",
      "('조인성', '김태리')\n",
      "<class 'tuple'>\n",
      "맘마미아\n",
      "('피어스브로스넌', '메릴스트립', '아만다 사이프리드')\n"
     ]
    }
   ],
   "source": [
    "def movie6(movie, *actors):  # tuple, 가변인자 처리\n",
    "    print(type(actors))\n",
    "    print(movie)    \n",
    "    print(actors)\n",
    "\n",
    "movie6('안시성', '조인성', '김태리')\n",
    "movie6('맘마미아', '피어스브로스넌', '메릴스트립', '아만다 사이프리드')"
   ]
  },
  {
   "cell_type": "code",
   "execution_count": 17,
   "metadata": {},
   "outputs": [
    {
     "name": "stdout",
     "output_type": "stream",
     "text": [
      "<class 'dict'>\n",
      "인터스텔라\n",
      "{'actor1': '맥커너희', 'actor2': '앤 헤서웨이', 'actor3': '마이클 케인'}\n"
     ]
    }
   ],
   "source": [
    "def movie7(movie, **actors):  # 고정과 가변인자 병합 처리\n",
    "    print(type(actors))\n",
    "    print(movie)\n",
    "    print(actors)  # Dictionary\n",
    "\n",
    "movie7('인터스텔라', actor1='맥커너희', actor2='앤 헤서웨이', actor3='마이클 케인')"
   ]
  },
  {
   "cell_type": "code",
   "execution_count": 19,
   "metadata": {},
   "outputs": [],
   "source": [
    "# 메소드 안에 있으면 지역변수\n",
    "# 메소드 바깥에 있으면 전역변수\n",
    "str1 = '전역 변수'\n",
    "\n",
    "def fun1():\n",
    "    str1 = '지역 변수'\n",
    "    print(str1)"
   ]
  },
  {
   "cell_type": "code",
   "execution_count": 20,
   "metadata": {},
   "outputs": [
    {
     "name": "stdout",
     "output_type": "stream",
     "text": [
      "지역 변수\n",
      "str1: 전역 변수\n"
     ]
    }
   ],
   "source": [
    "fun1()\n",
    "print('str1:', str1)"
   ]
  },
  {
   "cell_type": "code",
   "execution_count": 21,
   "metadata": {},
   "outputs": [],
   "source": [
    "def fun2():\n",
    "    global str1  # 전역변수를 사용, c.f. 자바에서는 this를 이용했지만\n",
    "    str1 = '지역 변수값 적용'\n",
    "    print(str1)"
   ]
  },
  {
   "cell_type": "code",
   "execution_count": 22,
   "metadata": {},
   "outputs": [
    {
     "name": "stdout",
     "output_type": "stream",
     "text": [
      "지역 변수값 적용\n",
      "str1: 지역 변수값 적용\n"
     ]
    }
   ],
   "source": [
    "fun2() # 함수 바깥에 접근하여 값을 바꿔버림\n",
    "print('str1:', str1)"
   ]
  },
  {
   "cell_type": "code",
   "execution_count": 23,
   "metadata": {},
   "outputs": [],
   "source": [
    "# 함수 안에 같은 이름의 지역변수가 없으므로 \n",
    "# 바깥에 있는 전역 변수를 사용함\n",
    "def func3():\n",
    "    print(str1)"
   ]
  },
  {
   "cell_type": "code",
   "execution_count": 24,
   "metadata": {},
   "outputs": [
    {
     "name": "stdout",
     "output_type": "stream",
     "text": [
      "지역 변수값 적용\n"
     ]
    }
   ],
   "source": [
    "func3()"
   ]
  },
  {
   "cell_type": "code",
   "execution_count": 25,
   "metadata": {},
   "outputs": [],
   "source": [
    "def maxno(x, y): # x, y: 지역 변수\n",
    "    if x > y:\n",
    "        return x\n",
    "    else:\n",
    "        return y"
   ]
  },
  {
   "cell_type": "code",
   "execution_count": 26,
   "metadata": {},
   "outputs": [
    {
     "name": "stdout",
     "output_type": "stream",
     "text": [
      "<class 'int'>\n",
      "200\n"
     ]
    }
   ],
   "source": [
    "su = maxno(100,200)\n",
    "print(type(su))\n",
    "print(su)"
   ]
  },
  {
   "cell_type": "code",
   "execution_count": 27,
   "metadata": {},
   "outputs": [],
   "source": [
    "def season(month):\n",
    "    season=''\n",
    "    if month == 1:\n",
    "        season='January'\n",
    "    elif month == 2:\n",
    "        season='February'\n",
    "    elif month == 3:\n",
    "        season=\"March\"\n",
    "    else:\n",
    "        season=\"Only input 1 ~ 3\"\n",
    "    \n",
    "    return season"
   ]
  },
  {
   "cell_type": "code",
   "execution_count": 28,
   "metadata": {},
   "outputs": [
    {
     "data": {
      "text/plain": [
       "'January'"
      ]
     },
     "execution_count": 28,
     "metadata": {},
     "output_type": "execute_result"
    }
   ],
   "source": [
    "season(1)"
   ]
  },
  {
   "cell_type": "code",
   "execution_count": 30,
   "metadata": {},
   "outputs": [],
   "source": [
    "def reverse(x, y, z):\n",
    "    return z, y, x # 한 개 이상 리턴 가능"
   ]
  },
  {
   "cell_type": "code",
   "execution_count": 32,
   "metadata": {},
   "outputs": [
    {
     "name": "stdout",
     "output_type": "stream",
     "text": [
      "<class 'tuple'>\n",
      "(30, 20, 10)\n"
     ]
    }
   ],
   "source": [
    "ret = reverse(10, 20, 30)\n",
    "print(type(ret))\n",
    "print(ret)"
   ]
  },
  {
   "cell_type": "code",
   "execution_count": 33,
   "metadata": {},
   "outputs": [
    {
     "name": "stdout",
     "output_type": "stream",
     "text": [
      "30 20 10\n"
     ]
    }
   ],
   "source": [
    "r1, r2, r3 = reverse(10, 20, 30)\n",
    "print(r1, r2, r3)"
   ]
  },
  {
   "cell_type": "code",
   "execution_count": 34,
   "metadata": {},
   "outputs": [
    {
     "name": "stdout",
     "output_type": "stream",
     "text": [
      "C B A\n"
     ]
    }
   ],
   "source": [
    "r1, r2, r3 = reverse('A', 'B', 'C')\n",
    "print(r1, r2, r3)"
   ]
  },
  {
   "cell_type": "code",
   "execution_count": 35,
   "metadata": {},
   "outputs": [],
   "source": [
    "def data():\n",
    "    return (1,2), ('A', 'B')"
   ]
  },
  {
   "cell_type": "code",
   "execution_count": 36,
   "metadata": {},
   "outputs": [
    {
     "ename": "ValueError",
     "evalue": "not enough values to unpack (expected 4, got 2)",
     "output_type": "error",
     "traceback": [
      "\u001b[1;31m---------------------------------------------------------------------------\u001b[0m",
      "\u001b[1;31mValueError\u001b[0m                                Traceback (most recent call last)",
      "\u001b[1;32m<ipython-input-36-5ac87552410e>\u001b[0m in \u001b[0;36m<module>\u001b[1;34m\u001b[0m\n\u001b[1;32m----> 1\u001b[1;33m \u001b[0ma\u001b[0m\u001b[1;33m,\u001b[0m \u001b[0mb\u001b[0m\u001b[1;33m,\u001b[0m \u001b[0mc\u001b[0m\u001b[1;33m,\u001b[0m \u001b[0md\u001b[0m \u001b[1;33m=\u001b[0m \u001b[0mdata\u001b[0m\u001b[1;33m(\u001b[0m\u001b[1;33m)\u001b[0m \u001b[1;31m# 에러\u001b[0m\u001b[1;33m\u001b[0m\u001b[1;33m\u001b[0m\u001b[0m\n\u001b[0m",
      "\u001b[1;31mValueError\u001b[0m: not enough values to unpack (expected 4, got 2)"
     ]
    }
   ],
   "source": [
    "a, b, c, d = data() # 에러"
   ]
  },
  {
   "cell_type": "code",
   "execution_count": 37,
   "metadata": {},
   "outputs": [
    {
     "name": "stdout",
     "output_type": "stream",
     "text": [
      "((1, 2), ('A', 'B'))\n"
     ]
    }
   ],
   "source": [
    "ret = data()\n",
    "print(ret)"
   ]
  },
  {
   "cell_type": "code",
   "execution_count": 39,
   "metadata": {},
   "outputs": [
    {
     "name": "stdout",
     "output_type": "stream",
     "text": [
      "1 2 A B\n"
     ]
    }
   ],
   "source": [
    "(a,b), (c,d) = data()\n",
    "print(a, b, c, d)"
   ]
  },
  {
   "cell_type": "code",
   "execution_count": 44,
   "metadata": {},
   "outputs": [],
   "source": [
    "def data():\n",
    "    return [1,2,3]"
   ]
  },
  {
   "cell_type": "code",
   "execution_count": 45,
   "metadata": {},
   "outputs": [
    {
     "name": "stdout",
     "output_type": "stream",
     "text": [
      "[1, 2, 3]\n"
     ]
    }
   ],
   "source": [
    "ret = data()\n",
    "print(ret)"
   ]
  },
  {
   "cell_type": "code",
   "execution_count": 46,
   "metadata": {},
   "outputs": [],
   "source": [
    "def data():\n",
    "    return [1,2,3], [4,5,6]"
   ]
  },
  {
   "cell_type": "code",
   "execution_count": 48,
   "metadata": {},
   "outputs": [
    {
     "name": "stdout",
     "output_type": "stream",
     "text": [
      "([1, 2, 3], [4, 5, 6])\n",
      "[1, 2, 3]\n",
      "[4, 5, 6]\n"
     ]
    }
   ],
   "source": [
    "ret = data()\n",
    "print(ret)\n",
    "print(ret[0])\n",
    "print(ret[1])"
   ]
  },
  {
   "cell_type": "code",
   "execution_count": 49,
   "metadata": {},
   "outputs": [
    {
     "name": "stdout",
     "output_type": "stream",
     "text": [
      "[1, 2, 3]\n",
      "[4, 5, 6]\n"
     ]
    }
   ],
   "source": [
    "ret1, ret2 = data()\n",
    "print(ret1)\n",
    "print(ret2)"
   ]
  },
  {
   "cell_type": "code",
   "execution_count": null,
   "metadata": {},
   "outputs": [],
   "source": []
  },
  {
   "cell_type": "code",
   "execution_count": null,
   "metadata": {},
   "outputs": [],
   "source": []
  }
 ],
 "metadata": {
  "kernelspec": {
   "display_name": "ai",
   "language": "python",
   "name": "ai"
  },
  "language_info": {
   "codemirror_mode": {
    "name": "ipython",
    "version": 3
   },
   "file_extension": ".py",
   "mimetype": "text/x-python",
   "name": "python",
   "nbconvert_exporter": "python",
   "pygments_lexer": "ipython3",
   "version": "3.6.10"
  }
 },
 "nbformat": 4,
 "nbformat_minor": 2
}
