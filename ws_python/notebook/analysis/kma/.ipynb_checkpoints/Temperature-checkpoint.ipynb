{
 "cells": [
  {
   "cell_type": "code",
   "execution_count": 1,
   "metadata": {},
   "outputs": [],
   "source": [
    "import csv # csv 모듈 불러오기"
   ]
  },
  {
   "cell_type": "code",
   "execution_count": null,
   "metadata": {},
   "outputs": [],
   "source": [
    "# 서울 기온 데이터 열기\n",
    "# 파일 열고 읽고 닫기\n",
    "f = open('./seoul.csv', 'r', encoding='utf-8') # r: read 읽기모드\n",
    "data = csv.reader(f, delimiter=',') # delimiter: 구분자\n",
    "print(type(data)) # _csv.reader타입은 인덱스 슬라이싱[1:5] 할 수 없다\n",
    "for row in data:\n",
    "    print(row)\n",
    "f.close()"
   ]
  },
  {
   "cell_type": "code",
   "execution_count": 12,
   "metadata": {},
   "outputs": [
    {
     "name": "stdout",
     "output_type": "stream",
     "text": [
      "<class 'list'>\n",
      "['날짜', '지점', '평균기온(℃)', '최저기온(℃)', '최고기온(℃)']\n"
     ]
    }
   ],
   "source": [
    "# header만 출력\n",
    "f = open('./seoul.csv', 'r', encoding='utf-8') # r: read 읽기모드\n",
    "data = csv.reader(f, delimiter=',') # delimiter: 구분자\n",
    "header = next(data) # 현재 라인을 읽고, 파일 지시자를 다음 라인으로 이동(첫줄읽음)\n",
    "print(type(header))\n",
    "print(header)\n",
    "f.close()"
   ]
  },
  {
   "cell_type": "code",
   "execution_count": 17,
   "metadata": {},
   "outputs": [
    {
     "name": "stdout",
     "output_type": "stream",
     "text": [
      "['1907-10-01', '108', '13.5', '7.9', '20.7']\n",
      "['1907-10-02', '108', '16.2', '7.9', '22']\n",
      "['1907-10-03', '108', '16.2', '13.1', '21.3']\n",
      "['1907-10-04', '108', '16.5', '11.2', '22']\n",
      "['1907-10-05', '108', '17.6', '10.9', '25.4']\n"
     ]
    }
   ],
   "source": [
    "# file header를 제외하고 5건의 데이터만 출력\n",
    "f = open('./seoul.csv', 'r', encoding='utf-8') # r: read 읽기모드\n",
    "data = csv.reader(f, delimiter=',') # delimiter: 구분자\n",
    "header = next(data) # 현재 라인을 읽고, 파일 지시자를 다음 라인으로 이동(첫줄읽음)\n",
    "for i in range(5): # 0 ~ 4\n",
    "    print(next(data))\n",
    "f.close()"
   ]
  },
  {
   "cell_type": "code",
   "execution_count": 22,
   "metadata": {},
   "outputs": [
    {
     "name": "stdout",
     "output_type": "stream",
     "text": [
      "20.7\n",
      "22\n",
      "21.3\n",
      "22\n",
      "25.4\n"
     ]
    }
   ],
   "source": [
    "# 5건의 데이터 중 최고 기온 값만 출력\n",
    "f = open('./seoul.csv', 'r', encoding='utf-8') # r: read 읽기모드\n",
    "data = csv.reader(f, delimiter=',') # delimiter: 구분자\n",
    "header = next(data) # 현재 라인을 읽고, 파일 지시자를 다음 라인으로 이동(첫줄읽음)\n",
    "\n",
    "for i in range(5): # 0 ~ 4\n",
    "    row = next(data)\n",
    "    # print(row)\n",
    "    # print(type(row)) # 리스트\n",
    "    print(row[-1])\n",
    "    # print(type(row[-1])) # str 타입\n",
    "f.close()"
   ]
  },
  {
   "cell_type": "code",
   "execution_count": 24,
   "metadata": {},
   "outputs": [
    {
     "name": "stdout",
     "output_type": "stream",
     "text": [
      "누락데이터:  758\n"
     ]
    }
   ],
   "source": [
    "# 최고 기온 누락 데이터 확인\n",
    "f = open('./seoul.csv', 'r', encoding='utf-8') # r: read 읽기모드\n",
    "data = csv.reader(f, delimiter=',') # delimiter: 구분자\n",
    "header = next(data) # 현재 라인을 읽고, 파일 지시자를 다음 라인으로 이동(첫줄읽음)\n",
    "\n",
    "none = 0\n",
    "\n",
    "for row in data: # 0 ~ 4\n",
    "    if row[-1] == '':\n",
    "        none += 1\n",
    "print('누락데이터: ', none)\n",
    "f.close()"
   ]
  },
  {
   "cell_type": "code",
   "execution_count": 28,
   "metadata": {},
   "outputs": [
    {
     "name": "stdout",
     "output_type": "stream",
     "text": [
      "최고 기온:  39.6 날짜:  2018-08-01\n"
     ]
    }
   ],
   "source": [
    "# 서울 지역의 최고 기온과 날짜를  출력할것.\n",
    "f = open('./seoul.csv', 'r', encoding='utf-8') # r: read 읽기모드\n",
    "data = csv.reader(f, delimiter=',') # delimiter: 구분자\n",
    "header = next(data) # 현재 라인을 읽고, 파일 지시자를 다음 라인으로 이동(첫줄읽음)\n",
    "\n",
    "max_temp = 0\n",
    "max_date = ''\n",
    "\n",
    "for row in data: # 0 ~ 4\n",
    "    if row[-1] != '':\n",
    "        if max_temp < float(row[-1]):\n",
    "            max_temp = float(row[-1])\n",
    "            max_date = row[0]\n",
    "            \n",
    "print('최고 기온: ', max_tmp, \"날짜: \", max_date)\n",
    "\n",
    "f.close()\n"
   ]
  },
  {
   "cell_type": "code",
   "execution_count": null,
   "metadata": {},
   "outputs": [],
   "source": []
  }
 ],
 "metadata": {
  "kernelspec": {
   "display_name": "ai",
   "language": "python",
   "name": "ai"
  },
  "language_info": {
   "codemirror_mode": {
    "name": "ipython",
    "version": 3
   },
   "file_extension": ".py",
   "mimetype": "text/x-python",
   "name": "python",
   "nbconvert_exporter": "python",
   "pygments_lexer": "ipython3",
   "version": "3.6.10"
  }
 },
 "nbformat": 4,
 "nbformat_minor": 2
}
