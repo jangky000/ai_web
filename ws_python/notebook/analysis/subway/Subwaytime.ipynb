{
 "cells": [
  {
   "cell_type": "code",
   "execution_count": 1,
   "metadata": {},
   "outputs": [],
   "source": [
    "# 한글 깨짐 방지\n",
    "import os\n",
    "import csv\n",
    "import numpy as np # 배열 기반 데이터 처리 패키지, 선형대수(행렬) 처리\n",
    "import matplotlib  # 시각화 패키지\n",
    "import matplotlib.pyplot as plt\n",
    "from matplotlib import font_manager, rc\n",
    "\n",
    "font_name = font_manager.FontProperties(fname=\"C:/Windows/Fonts/malgun.ttf\").get_name()\n",
    "# windows 10\n",
    "# font_name = font_manager.FontProperties(fname=\"C:/Windows/Fonts/malgunsl.ttf\").get_name()\n",
    "rc('font', family=font_name)           # 맑은 고딕 폰트 지정\n",
    "plt.rcParams[\"font.size\"] = 12         # 글자 크기\n",
    "# plt.rcParams[\"figure.figsize\"] = (10, 4) # 10:4의 그래프 비율\n",
    "plt.rcParams['axes.unicode_minus'] = False  # minus 부호는 unicode 적용시 한글이 깨짐으로 설정\n",
    "\n",
    "# Jupyter에게 matplotlib 그래프를 출력 영역에 표시할 것을 지시하는 명령\n",
    "%matplotlib inline  "
   ]
  },
  {
   "cell_type": "code",
   "execution_count": 4,
   "metadata": {},
   "outputs": [
    {
     "name": "stdout",
     "output_type": "stream",
     "text": [
      "['2020-01', '1호선', '0150', '서울역', '908', '18', '8,948', '7,940', '13,146', '47,332', '37,251', '97,250', '73,760', '215,532', '59,560', '154,516', '62,210', '81,701', '84,168', '78,587', '95,413', '87,412', '97,657', '86,682', '79,714', '81,939', '110,255', '84,777', '116,037', '88,708', '161,071', '94,176', '235,016', '101,321', '129,251', '75,233', '91,567', '51,782', '91,732', '42,762', '66,846', '33,404', '31,466', '17,549', '4,190', '5,633', '98', '291', '0', '8', '0', '0', '2020-02-03 12:20:06']\n",
      "['2020-01', '1호선', '0151', '시청', '55', '0', '1,999', '3,976', '3,497', '19,177', '7,417', '60,452', '9,330', '192,100', '11,934', '83,874', '14,763', '45,181', '20,957', '45,937', '24,807', '44,684', '30,626', '46,711', '38,849', '41,838', '51,606', '33,414', '58,397', '27,894', '77,658', '26,527', '158,475', '26,415', '66,799', '15,223', '52,413', '8,853', '53,343', '7,879', '34,039', '5,823', '12,937', '3,747', '556', '1,063', '7', '38', '0', '0', '0', '0', '2020-02-03 12:20:06']\n",
      "['2020-01', '1호선', '0152', '종각', '126', '5', '4,380', '4,683', '4,456', '25,858', '6,286', '94,635', '10,348', '262,168', '13,222', '158,477', '18,174', '73,909', '30,217', '70,696', '39,954', '68,125', '54,878', '68,560', '63,398', '61,180', '81,096', '51,339', '93,834', '48,984', '138,198', '56,395', '232,418', '70,076', '115,374', '42,203', '98,897', '17,205', '112,004', '11,260', '92,025', '8,019', '42,602', '5,038', '2,896', '1,577', '9', '22', '0', '0', '0', '0', '2020-02-03 12:20:06']\n"
     ]
    }
   ],
   "source": [
    "# 1) 데이터 3건만 출력\n",
    "f = open('./subwaytime_202001.csv', 'r', encoding='utf-8')\n",
    "data = csv.reader(f, delimiter=\",\")\n",
    "header1 = next(data)\n",
    "header2 = next(data)\n",
    "\n",
    "for i in range(3):\n",
    "    print(next(data))\n",
    "f.close()"
   ]
  },
  {
   "cell_type": "code",
   "execution_count": 8,
   "metadata": {},
   "outputs": [
    {
     "name": "stdout",
     "output_type": "stream",
     "text": [
      "  37,251  7,417  6,286  5,495  4,956  13,096  17,886  19,985  39,773  5,512  5,256  8,316  5,569  3,367  6,808  25,551  36,487  25,993  5,773  19,267  22,103  53,568  63,129  83,750  36,021  113,517  52,905  16,755  16,923  20,973  14,936  44,628  26,311  14,299  22,320  72,384  78,292  128,194  80,680  211,459  89,155  139,244  65,619  135,727  41,022  40,854  44,121  42,456  66,585  36,635  16,984  25,172  15,708  7,216  6,195  2,847  2,674  31,158  40,239  4,720  8,007  85,719  132,452  49,435  54,883  57,109  14,357  15,266  13,708  5,757  1,922  2,022  1  4,760  22,711  24,734  22,711  15,314  11,504  14,770  25,475  7,590  26,349  32,275  13,541  8,031  23,160  3,347  24,772  20,281  33,443  18,981  21,327  23,856  48,450  90,212  54,008  94,913  124,983  111,160  48,799  92,891  80,938  47,143  30,629  17,427  5,388  7,473  9,655  5,630  5,741  11,764  15,834  4,970  10,178  11,895  4,560  44,415  68,806  2,592  8,314  11,406  21,543  16,835  28,821  39,150  9,258  23,051  37,234  13,866  44,802  40,131  32,854  81,455  25,671  80,815  16,830  27,786  62,515  36,250  70,403  39,263  14,691  46,318  8,150  9,281  20,324  2,660  9,044  9,072  5,110  23,041  5,328  1,721  11,181  8,551  25,053  9,978  13,755  88,878  50,241  124,517  110,272  118,634  89,783  29,458  57,159  66,822  36,184  43,095  5,237  27,879  36,721  38,760  24,138  6,954  21,709  42,454  14,586  7,374  2,872  4,882  35  6,183  23,955  26,138  19,904  35,829  25,634  34,831  19,143  19,459  0  28,927  19,036  23,162  24,655  56,315  44,090  22,721  17,479  33,580  10,652  20,077  20,476  8,962  4,759  4,834  5,766  56,849  16,290  15,441  76,752  26,506  46,289  27,204  15,979  22,593  6,115  15,584  33,130  18,969  20,044  1,712  671  16,678  16,851  79,366  59,304  86,608  3,962  18,501  7,551  2,211  7,664  8,243  22,820  0  23,338  12,942  4,946  6,237  3,993  16,576  39,770  53,513  52,150  32,818  17,067  27,893  24,785  30,518  14,032  8,622  42,305  20,340  17,858  35,720  18,891  16,600  16,862  45,586  16,502  23,163  6,803  35,275  68,864  42,698  52,211  5,660  21,692  16,050  7,861  24,339  66,212  54,825  21,171  19,867  27,106  5,479  54,558  46,661  2,011  23,185  13,480  1,167  1,175  5,625  476  1,804  1,941  874  7,599  992  3,364  304  1,958  5,872  4,411  2,150  6,630  2,300  1,804  369  4,189  4,482  2,486  1,304  17,554  7,905  2,029  3,184  16,514  38,322  15,165  1,528  34,008  22,514  46,199  38,891  20,809  25,995  15,833  18,884  1,900  2,957  17,131  0  0  0  0  4,241  15,545  7,819  18,271  15,376  4,607  24,329  6,278  13,777  1,003  3,088  573  2,261  144  73  258  349  3,962  1,820  90  7,922  12,897  12,482  5,634  1,007  12,907  12,599  8,607  17,701  10,791  2,450  1,832  3,815  3,374  9,959  30,362  10,459  5,423  3,955  6,835  4,371  744  5,446  28,032  20,186  5,567  21,547  21,454  26,473  54,917  113,616  122,468  60,175  60,038  46,739  20,580  6,556  17,170  10,083  9,054  4,817  23,628  18,222  17,689  5,067  16,251  9,362  3,527  1,307  1,108  6,014  20,257  29,820  5,389  14,579  51,154  46,089  30,319  39,640  37,989  26,176  60,239  20,162  33,698  36,519  32,779  86,020  23,077  10,853  17,669  8,547  24,599  30,601  19,723  65,334  14,817  10,072  12,377  0  26,977  51,564  37,575  38,286  7,925  35,221  24,227  12,458  9,306  16,860  12,830  19,801  13,877  6,507  4,569  13,173  3,381  4,733  4,055  6,285  6,212  7,657  13,522  19,180  8,878  19,241  37,765  21,723  29,652  47,928  17,484  60,520  49,607  0  18,186  52,196  48,945  58,528  36,383  61,380  69,180  35,989  19,423  35,873  35,164  49,492  54,076  47,458  22,385  29,767  32,813  16,138  11,584  19,074  11,411  6,351  9,117  8,533  7,710  10,084  16,231  24,200  34,914  34,643  29,132  28,462  47,863  18,593  33,329  14,507  29,016  18,555  84,240  86,591  41,833  47,020  28,089  17,874  22,842  45,378  41,155  40,824  24,119  35,925  63,858  73,265  43,097  28,553  7,805  7,890  15,082  29,555  9,293  22,001  46,488  30,039  17,343  46,156  33,992  11,977  14,345  9,098  13,903  9,310  8,384  26,177  25,189  26,433  72,193  18,775  34,863  71,901  17,162  17,228  48,111  4,008  8,689  4,098  57,113  15,174  15,268  4,531  3,798  4,905  14,094  8,714  30,770  13,953  5,653  10,420  16,504  8,673  6,844  54,954  40,362  32,655  18,283  2,012  18,434  7,022  9,823  5,507  8,256  5,047  9,652  9,057  15,225  12,725  19,303  9,179  5,027  12,886  2,185  29,073  7,978  8,935  7,004  14,534  10,664  5,498  5,798  26,050  18,470  12,009  3,169  1,811  986"
     ]
    }
   ],
   "source": [
    "# 2) 7시 ~ 8시 사이의 출근 시간만 승차인원 출력\n",
    "f = open('./subwaytime_202001.csv', 'r', encoding='utf-8')\n",
    "data = csv.reader(f, delimiter=',')\n",
    "next(data)\n",
    "next(data)\n",
    "for row in data:\n",
    "    print(' ', row[10], end='') # 11번째 07:00:00~07:59:59\n",
    "\n",
    "f.close()"
   ]
  },
  {
   "cell_type": "code",
   "execution_count": 9,
   "metadata": {},
   "outputs": [
    {
     "name": "stdout",
     "output_type": "stream",
     "text": [
      "구로디지털단지(2호선) 730,264 명\n"
     ]
    }
   ],
   "source": [
    "# 3) 6시 ~ 9시 사이의  출근 시간에 가장 많은 승하차 인원이 있는역은?\n",
    "# 06:00:00~06:59:59 ~ 08:00:00~08:59:59: index 8 ~ 13\n",
    "f = open('./subwaytime_202001.csv', 'r', encoding='utf-8')\n",
    "data = csv.reader(f, delimiter=',')\n",
    "next(data)\n",
    "next(data)\n",
    "mx = 0  # 인원\n",
    "mx_station = '' # 역이름\n",
    "\n",
    "for row in data:\n",
    "    for i in range(8, 14): # 8 ~ 13\n",
    "        row[i] = int(row[i].replace(',', '')) \n",
    "        \n",
    "    # row[8:14] = map(int, row[8:14]) # map(함수명, 함수를 적용할 데이터)\n",
    "    tot = sum(row[8:14])\n",
    "    if mx < tot:\n",
    "        mx = tot\n",
    "        mx_station = row[3] + '(' + row[1]+')'\n",
    "        # print(len(row))\n",
    "\n",
    "print('{0} {1:,} 명'.format(mx_station, mx)) \n",
    "\n",
    "f.close()"
   ]
  },
  {
   "cell_type": "code",
   "execution_count": 18,
   "metadata": {},
   "outputs": [
    {
     "name": "stdout",
     "output_type": "stream",
     "text": [
      "승차인원이 가장 많은 역을 위한 시간 입력: 2\n",
      "대림(구로구청)(2호선) 9\n"
     ]
    }
   ],
   "source": [
    "# 4) 시간을 입력받아 가장 많은 승하차 인원이 있는 역을 출력할것.       \n",
    "f = open('./subwaytime_202001.csv', 'r', encoding='utf-8')\n",
    "data = csv.reader(f, delimiter=',')\n",
    "next(data)\n",
    "next(data)\n",
    "mx = 0\n",
    "mx_station = ''\n",
    "t = int(input('승차인원이 가장 많은 역을 위한 시간 입력: '))\n",
    "\n",
    "for row in data :\n",
    "    for i in range(4, len(row)-1): # 4 ~ 51\n",
    "        row[i] = int(row[i].replace(',', '')) \n",
    "    if t >= 1 and t <= 3:\n",
    "        cnt = row[2*t + 44]\n",
    "    else:\n",
    "        cnt = row[2 * t - 4] # row[2 * 23 - 4] --> row[46 - 4] --> row[42]\n",
    "    if mx < cnt :\n",
    "        mx = cnt\n",
    "        mx_station = row[3] + '(' + row[1] + ')'\n",
    "print(mx_station, mx)\n",
    "f.close()"
   ]
  },
  {
   "cell_type": "code",
   "execution_count": 16,
   "metadata": {},
   "outputs": [
    {
     "name": "stdout",
     "output_type": "stream",
     "text": [
      "0 사용월 \n",
      "1 호선명 \n",
      "2 역ID \n",
      "3 지하철역 \n",
      "4 04:00:00~04:59:59 승차\n",
      "5  하차\n",
      "6 05:00:00~05:59:59 승차\n",
      "7  하차\n",
      "8 06:00:00~06:59:59 승차\n",
      "9  하차\n",
      "10 07:00:00~07:59:59 승차\n",
      "11  하차\n",
      "12 08:00:00~08:59:59 승차\n",
      "13  하차\n",
      "14 09:00:00~09:59:59 승차\n",
      "15  하차\n",
      "16 10:00:00~10:59:59 승차\n",
      "17  하차\n",
      "18 11:00:00~11:59:59 승차\n",
      "19  하차\n",
      "20 12:00:00~12:59:59 승차\n",
      "21  하차\n",
      "22 13:00:00~13:59:59 승차\n",
      "23  하차\n",
      "24 14:00:00~14:59:59 승차\n",
      "25  하차\n",
      "26 15:00:00~15:59:59 승차\n",
      "27  하차\n",
      "28 16:00:00~16:59:59 승차\n",
      "29  하차\n",
      "30 17:00:00~17:59:59 승차\n",
      "31  하차\n",
      "32 18:00:00~18:59:59 승차\n",
      "33  하차\n",
      "34 19:00:00~19:59:59 승차\n",
      "35  하차\n",
      "36 20:00:00~20:59:59 승차\n",
      "37  하차\n",
      "38 21:00:00~21:59:59 승차\n",
      "39  하차\n",
      "40 22:00:00~22:59:59 승차\n",
      "41  하차\n",
      "42 23:00:00~23:59:59 승차\n",
      "43  하차\n",
      "44 00:00:00~00:59:59 승차\n",
      "45  하차\n",
      "46 01:00:00~01:59:59 승차\n",
      "47  하차\n",
      "48 02:00:00~02:59:59 승차\n",
      "49  하차\n",
      "50 03:00:00~03:59:59 승차\n",
      "51  하차\n",
      "52 작업일시 \n"
     ]
    }
   ],
   "source": [
    "for i in range(53):\n",
    "    print(i, header1[i], header2[i])\n",
    "    # 4: 4\n",
    "    # 5: 6\n",
    "    # 6: 8\n",
    "    # 24: 44\n",
    "    # 3: 50\n",
    "    # 4 ~ 24, 1, 2, 3"
   ]
  },
  {
   "cell_type": "code",
   "execution_count": 21,
   "metadata": {},
   "outputs": [
    {
     "data": {
      "image/png": "[encoded data removed]",
      "text/plain": [
       "<Figure size 432x288 with 1 Axes>"
      ]
     },
     "metadata": {
      "needs_background": "light"
     },
     "output_type": "display_data"
    }
   ],
   "source": [
    "# 5) 시간대별로 가장 많은 승차 인원이 있는 역이름과 인원을 출력할것.\n",
    "f = open('./subwaytime_202001.csv', 'r', encoding='utf-8')\n",
    "data = csv.reader(f, delimiter=',')\n",
    "next(data)\n",
    "next(data)\n",
    "mx = [0] * 24          # 24 시간\n",
    "mx_station = [''] * 24 # 24개의 역이름\n",
    "\n",
    "for row in data :\n",
    "    for i in range(4, len(row)-1): # 4 ~ 51\n",
    "        row[i] = int(row[i].replace(',', '')) \n",
    "    \n",
    "    # 4시 ~ 24시\n",
    "    for j in range(21) : # 0 ~ 20\n",
    "        cnt = row[j * 2 + 4] # row[4], row[6], row[8]... ~ row[50]\n",
    "        if mx[j] < cnt :\n",
    "            mx[j] = cnt # 더 큰 승차인원을 새로 할당\n",
    "            # 역이름 + 승차 인원 + 시간\n",
    "            mx_station[j] = row[3] + '('+ format(cnt, \",\")+') ' + str(j+4) \n",
    "\n",
    "    # 1시 ~ 3시\n",
    "    for j in range(21, 24) : # 21 ~ 23\n",
    "        cnt = row[j * 2 + 4] # row[4], row[6], row[8]... ~ row[50]\n",
    "        if mx[j] < cnt :\n",
    "            mx[j] = cnt # 더 큰 승차인원을 새로 할당\n",
    "            # 역이름 + 승차 인원 + 시간\n",
    "            mx_station[j] = row[3] + '('+ format(cnt, \",\")+') ' + str((j+4)-24) \n",
    "\n",
    "            \n",
    "# print(mx_station)\n",
    "# print(mx)\n",
    "\n",
    "plt.rc('font', family ='Malgun Gothic')\n",
    "#plt.figure(dpi = 300)\n",
    "# xlim = []\n",
    "# for h in range(4, 25):\n",
    "#     xlim.append(h)\n",
    "\n",
    "# xlim = xlim + [1, 2, 3]\n",
    "\n",
    "plt.bar(range(24), mx) # 수직 막대 그래프\n",
    "plt.xticks(range(24), mx_station, rotation = 90) # x label\n",
    "plt.show()\n",
    "f.close()"
   ]
  },
  {
   "cell_type": "code",
   "execution_count": 20,
   "metadata": {},
   "outputs": [
    {
     "data": {
      "image/png": "[encoded data removed]",
      "text/plain": [
       "<Figure size 480x320 with 1 Axes>"
      ]
     },
     "metadata": {
      "needs_background": "light"
     },
     "output_type": "display_data"
    }
   ],
   "source": [
    "# 6) 지하철 시간대별 승하차 인원 추이\n",
    "f = open('./subwaytime_202001.csv', 'r', encoding='utf-8')\n",
    "data = csv.reader(f, delimiter=',')\n",
    "next(data)\n",
    "next(data)\n",
    "s_in = [0] * 24   # 승차 인원\n",
    "s_out = [0] * 24 # 하차 인원\n",
    "for row in data :\n",
    "    for i in range(4, len(row)-1): # 4 ~ 51\n",
    "        row[i] = int(row[i].replace(',', '')) \n",
    "    for i in range(24) : #0 ~ 23\n",
    "        s_in[i] += row[4 + i * 2]  # 시간대별 승차 인원\n",
    "        s_out[i] += row[5 + i * 2] # 시간대별 하차 인원\n",
    "        \n",
    "plt.figure(dpi = 80)\n",
    "plt.rc('font', family = 'Malgun Gothic')\n",
    "plt.title('지하철 시간대별 승하차 인원 추이')\n",
    "plt.plot(s_in, label = '승차')\n",
    "plt.plot(s_out, label = '하차')\n",
    "plt.legend()\n",
    "xlim = []\n",
    "for h in range(4, 25):\n",
    "    xlim.append(h)\n",
    "\n",
    "xlim = xlim + [1, 2, 3]\n",
    "plt.xticks(range(24), xlim)\n",
    "plt.show()\n",
    "f.close()"
   ]
  }
 ],
 "metadata": {
  "kernelspec": {
   "display_name": "ai",
   "language": "python",
   "name": "ai"
  },
  "language_info": {
   "codemirror_mode": {
    "name": "ipython",
    "version": 3
   },
   "file_extension": ".py",
   "mimetype": "text/x-python",
   "name": "python",
   "nbconvert_exporter": "python",
   "pygments_lexer": "ipython3",
   "version": "3.6.10"
  }
 },
 "nbformat": 4,
 "nbformat_minor": 2
}
