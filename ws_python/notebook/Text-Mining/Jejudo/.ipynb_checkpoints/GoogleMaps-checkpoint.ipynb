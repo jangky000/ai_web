{
 "cells": [
  {
   "cell_type": "code",
   "execution_count": 1,
   "metadata": {
    "scrolled": true
   },
   "outputs": [
    {
     "name": "stdout",
     "output_type": "stream",
     "text": [
      "Collecting googlemaps\n",
      "  Downloading googlemaps-4.4.1.tar.gz (28 kB)\n",
      "Requirement already satisfied: requests<3.0,>=2.20.0 in c:\\programdata\\anaconda3\\envs\\pydata\\lib\\site-packages (from googlemaps) (2.23.0)\n",
      "Requirement already satisfied: idna<3,>=2.5 in c:\\programdata\\anaconda3\\envs\\pydata\\lib\\site-packages (from requests<3.0,>=2.20.0->googlemaps) (2.9)\n",
      "Requirement already satisfied: certifi>=2017.4.17 in c:\\programdata\\anaconda3\\envs\\pydata\\lib\\site-packages (from requests<3.0,>=2.20.0->googlemaps) (2020.4.5.1)\n",
      "Requirement already satisfied: chardet<4,>=3.0.2 in c:\\programdata\\anaconda3\\envs\\pydata\\lib\\site-packages (from requests<3.0,>=2.20.0->googlemaps) (3.0.4)\n",
      "Requirement already satisfied: urllib3!=1.25.0,!=1.25.1,<1.26,>=1.21.1 in c:\\programdata\\anaconda3\\envs\\pydata\\lib\\site-packages (from requests<3.0,>=2.20.0->googlemaps) (1.25.8)\n",
      "Building wheels for collected packages: googlemaps\n",
      "  Building wheel for googlemaps (setup.py): started\n",
      "  Building wheel for googlemaps (setup.py): finished with status 'done'\n",
      "  Created wheel for googlemaps: filename=googlemaps-4.4.1-py3-none-any.whl size=37823 sha256=b04e4bea1ec9ecfd764cc62ef683c652d879708ac56157503e9f7ba7ae0d006b\n",
      "  Stored in directory: c:\\users\\soldesk\\appdata\\local\\pip\\cache\\wheels\\59\\eb\\61\\bba46c3c7dcb0866d48fd67a0c406cc54b80559613449e25e5\n",
      "Successfully built googlemaps\n",
      "Installing collected packages: googlemaps\n",
      "Successfully installed googlemaps-4.4.1\n"
     ]
    }
   ],
   "source": [
    "!pip install googlemaps"
   ]
  },
  {
   "cell_type": "code",
   "execution_count": 2,
   "metadata": {},
   "outputs": [
    {
     "name": "stdout",
     "output_type": "stream",
     "text": [
      "[{'access_points': [], 'address_components': [{'long_name': '８６３', 'short_name': '８６３', 'types': ['premise']}, {'long_name': '고성리', 'short_name': '고성리', 'types': ['political', 'sublocality', 'sublocality_level_3']}, {'long_name': '애월읍', 'short_name': '애월읍', 'types': ['political', 'sublocality', 'sublocality_level_2']}, {'long_name': '제주시', 'short_name': '제주시', 'types': ['locality', 'political']}, {'long_name': '제주특별자치도', 'short_name': '제주특별자치도', 'types': ['administrative_area_level_1', 'political']}, {'long_name': '대한민국', 'short_name': 'KR', 'types': ['country', 'political']}, {'long_name': '695-902', 'short_name': '695-902', 'types': ['postal_code']}], 'formatted_address': '대한민국 제주특별자치도 제주시 애월읍 고성리 863', 'geometry': {'location': {'lat': 33.4319364, 'lng': 126.416294}, 'location_type': 'ROOFTOP', 'viewport': {'northeast': {'lat': 33.4332853802915, 'lng': 126.4176429802915}, 'southwest': {'lat': 33.4305874197085, 'lng': 126.4149450197085}}}, 'place_id': 'ChIJ4fCz4XT3DDURKxQBgxPh5Tg', 'plus_code': {'compound_code': 'CCJ8+QG 대한민국 제주특별자치도 제주시 애월읍', 'global_code': '8Q58CCJ8+QG'}, 'types': ['establishment', 'lodging', 'point_of_interest']}]\n"
     ]
    }
   ],
   "source": [
    "import googlemaps\n",
    "\n",
    "my_key = \"구글 맵 api 키\"\n",
    "\n",
    "# 구글맵스 객체 생성하기\n",
    "maps = googlemaps.Client(key=my_key)\n",
    "\n",
    "# 장소명 또는 주소\n",
    "place = \"제주 아일랜드\"\n",
    "\n",
    "# 지오코딩 API 결과값 호출하여 geo_location 변수에 저장\n",
    "geo_location = maps.geocode(place, language = 'ko')\n",
    "print(geo_location)\n"
   ]
  },
  {
   "cell_type": "code",
   "execution_count": 3,
   "metadata": {},
   "outputs": [
    {
     "name": "stdout",
     "output_type": "stream",
     "text": [
      "{'location': {'lat': 33.4319364, 'lng': 126.416294}, 'location_type': 'ROOFTOP', 'viewport': {'northeast': {'lat': 33.4332853802915, 'lng': 126.4176429802915}, 'southwest': {'lat': 33.4305874197085, 'lng': 126.4149450197085}}}\n",
      "\n",
      "\n",
      "주소: 대한민국 제주특별자치도 제주시 애월읍 고성리 863\n",
      "위도: 33.4319364\n",
      "경도: 126.416294\n"
     ]
    }
   ],
   "source": [
    "import googlemaps\n",
    "\n",
    "my_key = \"구글 맵 api 키\"\n",
    "\n",
    "# 구글맵스 객체 생성하기\n",
    "maps = googlemaps.Client(key=my_key)\n",
    "\n",
    "# 장소명 또는 주소\n",
    "place = \"제주 아일랜드\"\n",
    "\n",
    "# 지오코딩 API 결과값 호출하여 geo_location 변수에 저장\n",
    "geo_location = maps.geocode(place, language = 'ko')[0].get('geometry')\n",
    "print(geo_location)\n",
    "print(\"\\n\")\n",
    "\n",
    "address = maps.geocode(place, language = 'ko')[0].get('formatted_address')\n",
    "lat = geo_location['location']['lat']\n",
    "lng = geo_location['location']['lng']\n",
    "\n",
    "print(\"주소:\", address)\n",
    "print(\"위도:\", lat)\n",
    "print(\"경도:\", lng)"
   ]
  },
  {
   "cell_type": "code",
   "execution_count": null,
   "metadata": {},
   "outputs": [],
   "source": []
  }
 ],
 "metadata": {
  "kernelspec": {
   "display_name": "ai",
   "language": "python",
   "name": "ai"
  },
  "language_info": {
   "codemirror_mode": {
    "name": "ipython",
    "version": 3
   },
   "file_extension": ".py",
   "mimetype": "text/x-python",
   "name": "python",
   "nbconvert_exporter": "python",
   "pygments_lexer": "ipython3",
   "version": "3.6.10"
  }
 },
 "nbformat": 4,
 "nbformat_minor": 2
}
