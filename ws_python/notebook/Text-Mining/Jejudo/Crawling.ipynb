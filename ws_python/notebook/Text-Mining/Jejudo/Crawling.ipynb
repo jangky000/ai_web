{
 "cells": [
  {
   "cell_type": "markdown",
   "metadata": {},
   "source": [
    "## 인스타그램 크롤링 "
   ]
  },
  {
   "cell_type": "markdown",
   "metadata": {},
   "source": [
    "### 인스타그램 검색 결과 URL을 만들어서 접속하기\n",
    "### 로그인해야 검색 가능함으로 로그인 처리할것."
   ]
  },
  {
   "cell_type": "code",
   "execution_count": 4,
   "metadata": {},
   "outputs": [],
   "source": [
    "# 로그인하기\n",
    "# selenium으로 URL 접속하기\n",
    "# 계정: \n",
    "# 패스워드: \n",
    "import time\n",
    "from selenium import webdriver\n",
    "\n",
    "driver = webdriver.Chrome(\"C:/ai6/chromedriver.exe\")   \n",
    "driver.set_window_size(1000, 800)\n",
    "\n",
    "driver.get(\"https://www.instagram.com\")\n",
    "time.sleep(3)"
   ]
  },
  {
   "cell_type": "code",
   "execution_count": 5,
   "metadata": {},
   "outputs": [],
   "source": [
    "# login = driver.find_element_by_xpath('')\n",
    "# login.click()\n",
    "# time.sleep(2)\n",
    "\n",
    "# id \n",
    "id = driver.find_element_by_css_selector('#react-root > section > main > article > div.rgFsT > div:nth-child(1) > div > form > div:nth-child(2) > div > label > input')\n",
    "id.send_keys('회원 아이디')\n",
    "\n",
    "# password\n",
    "passwd = driver.find_element_by_css_selector('#react-root > section > main > article > div.rgFsT > div:nth-child(1) > div > form > div:nth-child(3) > div > label > input')\n",
    "passwd.send_keys('회원 패스워드')\n",
    "\n",
    "# 로그인 \n",
    "login_btn = driver.find_element_by_css_selector('#react-root > section > main > article > div.rgFsT > div:nth-child(1) > div > form > div:nth-child(4) > button')\n",
    "login_btn.click()\n",
    "time.sleep(2)  # 로그인 처리에 2초 예상"
   ]
  },
  {
   "cell_type": "code",
   "execution_count": 6,
   "metadata": {},
   "outputs": [],
   "source": [
    "# 알림 설정 -> 나중에하기 버튼\n",
    "login_btn = driver.find_element_by_css_selector('body > div.RnEpo.Yx5HN > div > div > div > div.mt3GC > button.aOOlW.HoLwm')\n",
    "login_btn.click()\n",
    "time.sleep(1)"
   ]
  },
  {
   "cell_type": "code",
   "execution_count": 31,
   "metadata": {},
   "outputs": [],
   "source": [
    "# 알림 설정 - 나중에 하기 클릭\n",
    "window_close = driver.find_element_by_xpath('/html/body/div[4]/div/div/div[3]/button[2]')\n",
    "window_close.click()\n",
    "time.sleep(2)"
   ]
  },
  {
   "cell_type": "code",
   "execution_count": 7,
   "metadata": {},
   "outputs": [],
   "source": [
    "# 인스타그램 검색결과 URL을 만드는 함수\n",
    "def insta_searching(word):\n",
    "    url = \"https://www.instagram.com/explore/tags/\" + word\n",
    "    return url    "
   ]
  },
  {
   "cell_type": "code",
   "execution_count": 8,
   "metadata": {},
   "outputs": [],
   "source": [
    "word = \"제주도맛집\"\n",
    "url = insta_searching(word)\n",
    "driver.get(url)\n",
    "time.sleep(2)"
   ]
  },
  {
   "cell_type": "code",
   "execution_count": 11,
   "metadata": {},
   "outputs": [],
   "source": [
    "# 첫번째 게시글 열기\n",
    "first = driver.find_element_by_css_selector(\"div._9AhH0\")\n",
    "first.click()\n",
    "time.sleep(3)"
   ]
  },
  {
   "cell_type": "code",
   "execution_count": 13,
   "metadata": {},
   "outputs": [],
   "source": [
    "# 다음 게시글 열기\n",
    "# right = driver.find_element_by_xpath('/html/body/div[4]/div[1]/div/div/a')\n",
    "# body > div._2dDPU.CkGkG > div.EfHg9 > div > div > a._65Bje.coreSpriteRightPaginationArrow\n",
    "right = driver.find_element_by_css_selector ('a._65Bje.coreSpriteRightPaginationArrow')\n",
    "right.click()\n",
    "time.sleep(3)"
   ]
  },
  {
   "cell_type": "markdown",
   "metadata": {},
   "source": [
    "### 첫 번째 게시글 열기 "
   ]
  },
  {
   "cell_type": "code",
   "execution_count": 14,
   "metadata": {},
   "outputs": [],
   "source": [
    "# HTML에서 첫번째 게시글 찾아 클릭하기 함수\n",
    "def select_first(driver):\n",
    "    first = driver.find_element_by_css_selector(\"div._9AhH0\")\n",
    "    first.click()\n",
    "    time.sleep(3)"
   ]
  },
  {
   "cell_type": "markdown",
   "metadata": {},
   "source": [
    "### 게시글 정보 가져오기 "
   ]
  },
  {
   "cell_type": "code",
   "execution_count": 15,
   "metadata": {},
   "outputs": [],
   "source": [
    "# 게시글 정보 가져오기\n",
    "import re\n",
    "\n",
    "def get_content(driver):\n",
    "    # ① 현재 페이지 html 정보 가져오기\n",
    "    html = driver.page_source\n",
    "    soup = BeautifulSoup(html, 'html.parser')\n",
    "    \n",
    "    # ② 본문 내용 가져오기\n",
    "    try:\n",
    "        # 첫번째 올린글, 두번째부터 이어지는 댓글\n",
    "        content = soup.select('div.C4VMK > span')[0].text\n",
    "    except:\n",
    "        content = ' '\n",
    "        \n",
    "    # ③ 본문 내용에서 해시태그 가져오기(정규식 활용)\n",
    "    # r'#[^\\s#,\\\\]+': #으로 시작하고\n",
    "    # #뒤에 연속된 문자로 공백이나 #, \\ 기호가 아닌 경우의\n",
    "    # 문자를 찾아서 list 형태로 tags 변수에 저장\n",
    "    tags = re.findall(r'#[^\\s#,\\\\]+', content)  \n",
    "    \n",
    "    # ④ 작성일자 정보 가져오기\n",
    "    date = soup.select('time._1o9PC.Nzb55')[0]['datetime'][:10]\n",
    "    \n",
    "    # ⑤ 좋아요 수 가져오기\n",
    "    try:\n",
    "        like = soup.select('div.Nm9Fw > button')[0].text[4:-1]   \n",
    "    except:\n",
    "        like = 0\n",
    "        \n",
    "    # ⑥ 위치정보 가져오기\n",
    "    try: \n",
    "        place = soup.select('div.M30cS')[0].text\n",
    "    except:\n",
    "        place = ''\n",
    "\n",
    "    # ⑦ 수집한 정보 저장하기\n",
    "    data = [content, date, like, place, tags]\n",
    "    return data\n"
   ]
  },
  {
   "cell_type": "markdown",
   "metadata": {},
   "source": [
    "### 다음 게시글 열기"
   ]
  },
  {
   "cell_type": "code",
   "execution_count": 16,
   "metadata": {},
   "outputs": [],
   "source": [
    "# 다음 게시글 열기\n",
    "def move_next(driver):\n",
    "    right = driver.find_element_by_css_selector ('a._65Bje.coreSpriteRightPaginationArrow')\n",
    "    right.click()\n",
    "    time.sleep(3)"
   ]
  },
  {
   "cell_type": "markdown",
   "metadata": {},
   "source": [
    "### 여러 게시글 정보 수집하기"
   ]
  },
  {
   "cell_type": "code",
   "execution_count": 17,
   "metadata": {},
   "outputs": [
    {
     "name": "stdout",
     "output_type": "stream",
     "text": [
      "[['매일 매일 방역은 필수 농식품부 선정 코로나 방역 우수식당!!국민이 추천해준 안전식당고집돌우럭!!!더 안전하게 즐길 수 있도록 오늘도 쉼없이 갑니다!! #농림축산식품부 #코로나방역우수식당 #국민추천 #안심맛집 #제주맛집', '2020-07-03', '1,186', '고집돌우럭중문점', ['#농림축산식품부', '#코로나방역우수식당', '#국민추천', '#안심맛집', '#제주맛집']], ['고집돌우럭 오늘도 방역 완료 농식품부가 선정한 전국 코로나방역 우수 식당에 당당히 이름을 올렸습니다!! 제주에서 오직 두곳!! 국민이 추천한 우수방역업소입니다!! 묵묵히 하던일을 계속 하다보니 이런 좋은 결과도 생기네요!! 더 안전한 먹거리로 모실께요!! .우수방역업소 선정을 기념해서 작은 이벤트 진행합니다!! 댓글에 👍 엄지척 이모티콘을 남겨주시면 2분을 선정하여 코로나방역키트를 선물로 쏩니다!! #코로나방역 #안심식당 #농식품부 #방역우수식당 #고집돌우럭 #제주도맛집', '2020-07-03', '1,268', 'gozip_hamdeok', ['#코로나방역', '#안심식당', '#농식품부', '#방역우수식당', '#고집돌우럭', '#제주도맛집']]]\n"
     ]
    }
   ],
   "source": [
    "# 인스타그램 크롤링\n",
    "from selenium import webdriver\n",
    "from bs4 import BeautifulSoup\n",
    "import time\n",
    "import re\n",
    "\n",
    "# ① 크롬 브라우저 열기\n",
    "# driver = webdriver.Chrome(\"F:/py_202003/chromedriver.exe\")   \n",
    "\n",
    "# ② 인스타그램 검색페이지 URL 만들기\n",
    "word = \"제주도맛집\"    #검색어\n",
    "# word = \"제주도관광\"    #검색어\n",
    "# word = \"제주맛집\"    #검색어\n",
    "# word = \"제주여행\"    #검색어\n",
    "\n",
    "url = insta_searching(word)\n",
    "\n",
    "# ③ 검색페이지 접속하기\n",
    "driver.get(url)\n",
    "time.sleep(3)\n",
    "\n",
    "# ④ 첫 번째 게시글 열기\n",
    "select_first(driver)\n",
    "\n",
    "# ⑤ 비어있는 변수(results)만들기\n",
    "results = [ ]\n",
    "\n",
    "# ⑥→⑦→⑧ 여러 게시물 수집하기\n",
    "target = 5      # 크롤링할 게시글 수\n",
    "for i in range(target):\n",
    "    data = get_content(driver)    # 게시글 정보 가져오기\n",
    "    results.append(data)\n",
    "    move_next(driver)\n",
    "\n",
    "print(results[:2])"
   ]
  },
  {
   "cell_type": "code",
   "execution_count": 20,
   "metadata": {},
   "outputs": [],
   "source": [
    "# 크롤링 결과 저장하기\n",
    "\n",
    "import pandas as pd\n",
    "\n",
    "results_df = pd.DataFrame(results)\n",
    "results_df.columns = ['content','data','like','place','tags']\n",
    "\n",
    "# 제주도 맛집 2020 6월 기준\n",
    "results_df.to_excel('./data/crawling_jejudoMatJip_202006.xlsx', index = False)\n",
    "\n",
    "# 제주도 맛집:jejudoMatJip.xlsx \n",
    "# results_df.to_excel('./data/jejudoMatJip.xlsx', index = False)\n",
    "\n",
    "# 제주도 관광:jejudoGwanGwang.xlsx \n",
    "# results_df.to_excel('./data/jejudoGwanGwang.xlsx', index = False)\n",
    "\n",
    "# 제주 맛집: jejuMatJip.xlsx\n",
    "# results_df.to_excel('./data/jejuMatJip.xlsx', index = False)\n",
    "\n",
    "# 제주 여행: jejuYeoHang.xlsx\n",
    "# results_df.to_excel('./data/jejuYeoHang.xlsx', index = False)"
   ]
  },
  {
   "cell_type": "markdown",
   "metadata": {},
   "source": [
    "###  여러 엑셀 파일의 중복을 제거한 후 통합 저장\n"
   ]
  },
  {
   "cell_type": "code",
   "execution_count": 27,
   "metadata": {},
   "outputs": [],
   "source": [
    "import pandas as pd\n",
    "\n",
    "# 여러 개의 저장파일 통합하기\n",
    "# 제주도 맛집:jejudoMatJip.xlsx \n",
    "# 제주도 관광:jejudoGwanGwang.xlsx \n",
    "# 제주 맛집: jejuMatJip.xlsx\n",
    "# 제주 여행: jejuYeoHang.xlsx\n",
    "\n",
    "jeju_insta_df = pd.DataFrame( [ ] )\n",
    "\n",
    "folder = './data/'\n",
    "f_list = ['jejudoMatJip.xlsx', 'jejudoGwanGwang.xlsx', 'jejuMatJip.xlsx', 'jejuYeoHang.xlsx']\n",
    "for fname in f_list:\n",
    "    fpath = folder + fname\n",
    "    temp = pd.read_excel(fpath)\n",
    "    # 하나의 DataFrame 으로 결합\n",
    "    jeju_insta_df = jeju_insta_df.append(temp) \n",
    "\n",
    "# 컬럼명 적용\n",
    "jeju_insta_df.columns =['content','data','like','place','tags']\n"
   ]
  },
  {
   "cell_type": "code",
   "execution_count": 28,
   "metadata": {
    "scrolled": true
   },
   "outputs": [],
   "source": [
    "# 중복 데이터 제거하고 저장하기\n",
    "jeju_insta_df.drop_duplicates(subset = [ \"content\"] , inplace = True)\n",
    "\n",
    "# 최종 데이터 파일로 저장\n",
    "jeju_insta_df.to_excel('./data/crawling_raw.xlsx', index = False)"
   ]
  },
  {
   "cell_type": "code",
   "execution_count": null,
   "metadata": {},
   "outputs": [],
   "source": []
  }
 ],
 "metadata": {
  "kernelspec": {
   "display_name": "ai",
   "language": "python",
   "name": "ai"
  },
  "language_info": {
   "codemirror_mode": {
    "name": "ipython",
    "version": 3
   },
   "file_extension": ".py",
   "mimetype": "text/x-python",
   "name": "python",
   "nbconvert_exporter": "python",
   "pygments_lexer": "ipython3",
   "version": "3.6.10"
  }
 },
 "nbformat": 4,
 "nbformat_minor": 2
}
