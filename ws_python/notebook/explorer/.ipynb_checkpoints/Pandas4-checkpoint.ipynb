{
 "cells": [
  {
   "cell_type": "markdown",
   "metadata": {},
   "source": [
    "### 모 표준편차 실습2"
   ]
  },
  {
   "cell_type": "code",
   "execution_count": 3,
   "metadata": {},
   "outputs": [],
   "source": [
    "import pandas as pd\n",
    "import numpy as np\n",
    "import matplotlib\n",
    "import matplotlib.pyplot as plt\n",
    "from matplotlib import font_manager, rc\n",
    "\n",
    "font_name = font_manager.FontProperties(fname=\"C:/Windows/Fonts/malgun.ttf\").get_name()\n",
    "rc('font', family=font_name)           # 맑은 고딕 폰트 지정\n",
    "plt.rcParams[\"font.size\"] = 12         # 글자 크기\n",
    "plt.rcParams[\"figure.figsize\"] = (10, 4) # 10:4의 그래프 비율\n",
    "plt.rcParams['axes.unicode_minus'] = False  # minus 부호는 unicode 적용시 한글이 깨짐으로 설정\n",
    "\n",
    "# Jupyter에게 matplotlib 그래프를 출력 영역에 표시할 것을 지시하는 명령\n",
    "%matplotlib inline"
   ]
  },
  {
   "cell_type": "code",
   "execution_count": 11,
   "metadata": {},
   "outputs": [
    {
     "name": "stdout",
     "output_type": "stream",
     "text": [
      "평균:  3.0\n",
      "편차 제곱의 합:  10.0\n",
      "모분산:  2.0\n",
      "모표준편차: 1.4\n"
     ]
    }
   ],
   "source": [
    "# 1~5까지의 평균, 편차, 편차의 제곱의 합, 모분산, 모표준편차를 구하시오\n",
    "data = pd.Series([1,2,3,4,5])\n",
    "cnt = len(data)\n",
    "total = sum(data)\n",
    "mean = total / cnt\n",
    "print(\"평균: \", mean)\n",
    "\n",
    "deviation = mean-data\n",
    "# print(\"편차:\", deviation)\n",
    "\n",
    "deviation_total = sum(deviation**2)\n",
    "print(\"편차 제곱의 합: \", deviation_total)\n",
    "\n",
    "variation = deviation_total/cnt\n",
    "print(\"모분산: \", variation)\n",
    "\n",
    "std1 = np.sqrt(variation)\n",
    "print(\"모표준편차: {0:.1f}\".format(std1))"
   ]
  },
  {
   "cell_type": "code",
   "execution_count": 12,
   "metadata": {},
   "outputs": [
    {
     "name": "stdout",
     "output_type": "stream",
     "text": [
      "평균:  8.0\n",
      "편차 제곱의 합:  10.0\n",
      "모분산:  2.0\n",
      "모표준편차: 1.4\n"
     ]
    }
   ],
   "source": [
    "# 6~10까지의 평균, 편차, 편차의 제곱의 합, 모분산, 모표준편차를 구하시오\n",
    "data = pd.Series(list(range(6, 11)))\n",
    "cnt = len(data)\n",
    "total = sum(data)\n",
    "mean = total / cnt\n",
    "print(\"평균: \", mean)\n",
    "\n",
    "deviation = mean-data\n",
    "# print(\"편차:\", deviation)\n",
    "\n",
    "deviation_total = sum(deviation**2)\n",
    "print(\"편차 제곱의 합: \", deviation_total)\n",
    "\n",
    "variation = deviation_total/cnt\n",
    "print(\"모분산: \", variation)\n",
    "\n",
    "std2 = np.sqrt(variation)\n",
    "print(\"모표준편차: {0:.1f}\".format(std2))"
   ]
  },
  {
   "cell_type": "code",
   "execution_count": 13,
   "metadata": {},
   "outputs": [
    {
     "name": "stdout",
     "output_type": "stream",
     "text": [
      "평균:  13.0\n",
      "편차 제곱의 합:  10.0\n",
      "모분산:  2.0\n",
      "모표준편차: 1.4\n"
     ]
    }
   ],
   "source": [
    "# 11~15까지의 평균, 편차, 편차의 제곱의 합, 모분산, 모표준편차를 구하시오\n",
    "data =pd.Series(list(range(11, 16)))\n",
    "cnt = len(data)\n",
    "total = sum(data)\n",
    "mean = total / cnt\n",
    "print(\"평균: \", mean)\n",
    "\n",
    "deviation = mean-data\n",
    "# print(\"편차:\", deviation)\n",
    "\n",
    "deviation_total = sum(deviation**2)\n",
    "print(\"편차 제곱의 합: \", deviation_total)\n",
    "\n",
    "variation = deviation_total/cnt\n",
    "print(\"모분산: \", variation)\n",
    "\n",
    "std3 = np.sqrt(variation)\n",
    "print(\"모표준편차: {0:.1f}\".format(std3))"
   ]
  },
  {
   "cell_type": "code",
   "execution_count": 17,
   "metadata": {},
   "outputs": [
    {
     "name": "stdout",
     "output_type": "stream",
     "text": [
      "평균:  8.0\n",
      "편차 제곱의 합:  280.0\n",
      "모분산:  18.666666666666668\n",
      "전체 모 표준편차: 4.3\n"
     ]
    }
   ],
   "source": [
    "# 1~15까지의 평균, 편차, 편차의 제곱의 합, 모분산, 모표준편차를 구하시오\n",
    "data = pd.Series(list(range(1, 16)))\n",
    "cnt = len(data)\n",
    "total = sum(data)\n",
    "mean = total / cnt\n",
    "print(\"평균: \", mean)\n",
    "\n",
    "deviation = mean-data\n",
    "# print(\"편차:\", deviation)\n",
    "\n",
    "deviation_total = sum(deviation**2)\n",
    "print(\"편차 제곱의 합: \", deviation_total)\n",
    "\n",
    "variation = deviation_total/cnt\n",
    "print(\"모분산: \", variation)\n",
    "\n",
    "std4 = np.sqrt(variation)\n",
    "print(\"전체 모 표준편차: {0:.1f}\".format(std4)) # 4.3"
   ]
  },
  {
   "cell_type": "code",
   "execution_count": 20,
   "metadata": {},
   "outputs": [
    {
     "name": "stdout",
     "output_type": "stream",
     "text": [
      "1~15전체 모 표준편차: 4.3\n",
      "1~5, 6~10, 11~15, 3개 집단 모표준편차: 4.2\n",
      "다른 이유는?\n"
     ]
    }
   ],
   "source": [
    "print(\"1~15 전체 모 표준편차: {0:.1f}\".format(std4)) # 4.3\n",
    "print(\"1~5, 6~10, 11~15, 3개 집단 모표준편차: {0:.1f}\".format(std1+std2+std3)) # 4.2\n",
    "print('다른 이유는?')"
   ]
  },
  {
   "cell_type": "code",
   "execution_count": 29,
   "metadata": {},
   "outputs": [
    {
     "name": "stdout",
     "output_type": "stream",
     "text": [
      "[  1   4   9  16  25  36  49  64  81 100 121 144 169 196 225 256 289 324\n",
      " 361 400 441 484 529 576 625 676 729 784 841 900]\n"
     ]
    },
    {
     "data": {
      "image/png": "[encoded data removed]",
      "text/plain": [
       "<Figure size 432x288 with 1 Axes>"
      ]
     },
     "metadata": {
      "needs_background": "light"
     },
     "output_type": "display_data"
    }
   ],
   "source": [
    "# 분산의 성질: 제곱 -> 차이가 클수록 큰 값이 된다 -> 분산 값이 매우 커지게 된다\n",
    "distance = np.array(range(1, 31))\n",
    "print(distance**2)\n",
    "plt.plot(distance**2)\n",
    "plt.show()"
   ]
  },
  {
   "cell_type": "code",
   "execution_count": 32,
   "metadata": {},
   "outputs": [
    {
     "name": "stdout",
     "output_type": "stream",
     "text": [
      "1.0 1.1111111111111112 1.25 1.4285714285714286 1.6666666666666667\n"
     ]
    }
   ],
   "source": [
    "print(10/10, 10/9, 10/8, 10/7, 10/6)"
   ]
  },
  {
   "cell_type": "markdown",
   "metadata": {},
   "source": [
    "### 표본 표준편차"
   ]
  },
  {
   "cell_type": "code",
   "execution_count": 36,
   "metadata": {},
   "outputs": [
    {
     "name": "stdout",
     "output_type": "stream",
     "text": [
      "평균:  3.0\n",
      "편차 제곱의 합:  10.0\n",
      "표본 분산:  2.5\n",
      "표본 표준편차: 1.6\n"
     ]
    }
   ],
   "source": [
    "# 1~5까지의 평균, 편차, 편차의 제곱의 합, 표본 분산, 표본 표준편차를 구하시오\n",
    "data = pd.Series([1,2,3,4,5])\n",
    "cnt = len(data)\n",
    "total = sum(data)\n",
    "mean = total / cnt\n",
    "print(\"평균: \", mean)\n",
    "\n",
    "deviation = mean-data\n",
    "# print(\"편차:\", deviation)\n",
    "\n",
    "deviation_total = sum(deviation**2)\n",
    "print(\"편차 제곱의 합: \", deviation_total)\n",
    "\n",
    "variation = deviation_total/(cnt-1) # 값 증가를 위해 분모-1, 인위적으로 값을 증가시킴\n",
    "print(\"표본 분산: \", variation)\n",
    "\n",
    "std1 = np.sqrt(variation)\n",
    "print(\"표본 표준편차: {0:.1f}\".format(std1)) # 1.4 -> 1.6으로 증가"
   ]
  },
  {
   "cell_type": "code",
   "execution_count": 40,
   "metadata": {},
   "outputs": [
    {
     "name": "stdout",
     "output_type": "stream",
     "text": [
      "평균:  8.0\n",
      "편차 제곱의 합:  10.0\n",
      "표본 분산:  2.5\n",
      "표본 표준편차: 1.6\n"
     ]
    }
   ],
   "source": [
    "# 6~10까지의 평균, 편차, 편차의 제곱의 합, 표본 분산, 표본 표준편차를 구하시오\n",
    "data = pd.Series(list(range(6, 11)))\n",
    "cnt = len(data)\n",
    "total = sum(data)\n",
    "mean = total / cnt\n",
    "print(\"평균: \", mean)\n",
    "\n",
    "deviation = mean-data\n",
    "# print(\"편차:\", deviation)\n",
    "\n",
    "deviation_total = sum(deviation**2)\n",
    "print(\"편차 제곱의 합: \", deviation_total)\n",
    "\n",
    "variation = deviation_total/(cnt-1)\n",
    "print(\"표본 분산: \", variation)\n",
    "\n",
    "std2 = np.sqrt(variation)\n",
    "print(\"표본 표준편차: {0:.1f}\".format(std2))"
   ]
  },
  {
   "cell_type": "code",
   "execution_count": 41,
   "metadata": {},
   "outputs": [
    {
     "name": "stdout",
     "output_type": "stream",
     "text": [
      "평균:  13.0\n",
      "편차 제곱의 합:  10.0\n",
      "표본 분산:  2.5\n",
      "표본 표준편차: 1.6\n"
     ]
    }
   ],
   "source": [
    "# 11~15까지의 평균, 편차, 편차의 제곱의 합, 표본 분산, 표본 표준편차를 구하시오\n",
    "data =pd.Series(list(range(11, 16)))\n",
    "cnt = len(data)\n",
    "total = sum(data)\n",
    "mean = total / cnt\n",
    "print(\"평균: \", mean)\n",
    "\n",
    "deviation = mean-data\n",
    "# print(\"편차:\", deviation)\n",
    "\n",
    "deviation_total = sum(deviation**2)\n",
    "print(\"편차 제곱의 합: \", deviation_total)\n",
    "\n",
    "variation = deviation_total/(cnt-1)\n",
    "print(\"표본 분산: \", variation)\n",
    "\n",
    "std3 = np.sqrt(variation)\n",
    "print(\"표본 표준편차: {0:.1f}\".format(std3))"
   ]
  },
  {
   "cell_type": "code",
   "execution_count": 47,
   "metadata": {},
   "outputs": [
    {
     "name": "stdout",
     "output_type": "stream",
     "text": [
      "평균:  8.0\n",
      "편차 제곱의 합:  280.0\n",
      "모 분산:  18.666666666666668\n",
      "전체 모 표준편차: 4.3\n"
     ]
    }
   ],
   "source": [
    "# 1~15까지의 평균, 편차, 편차의 제곱의 합, 모분산, 모표준편차를 구하시오\n",
    "data = pd.Series(list(range(1, 16)))\n",
    "cnt = len(data)\n",
    "total = sum(data)\n",
    "mean = total / cnt\n",
    "print(\"평균: \", mean)\n",
    "\n",
    "deviation = mean-data\n",
    "# print(\"편차:\", deviation)\n",
    "\n",
    "deviation_total = sum(deviation**2)\n",
    "print(\"편차 제곱의 합: \", deviation_total)\n",
    "\n",
    "variation = deviation_total/cnt\n",
    "print(\"모 분산: \", variation)\n",
    "\n",
    "std4 = np.sqrt(variation)\n",
    "print(\"전체 모 표준편차: {0:.1f}\".format(std4)) # 4.3"
   ]
  },
  {
   "cell_type": "code",
   "execution_count": 44,
   "metadata": {},
   "outputs": [
    {
     "name": "stdout",
     "output_type": "stream",
     "text": [
      "전체 모 표준편차: 4.3\n",
      "1~5, 6~10, 11~15, 3개 집단 표본 표준편차: 4.7\n"
     ]
    }
   ],
   "source": [
    "# 모든 모집단의 요소를 전부 알고 있는 경우의 표본 표준편차\n",
    "print(\"전체 모 표준편차: {0:.1f}\".format(std4)) # 4.3\n",
    "print(\"1~5, 6~10, 11~15, 3개 집단 표본 표준편차: {0:.1f}\".format(std1+std2+std3)) # 4.2 -> 4.7"
   ]
  },
  {
   "cell_type": "code",
   "execution_count": null,
   "metadata": {},
   "outputs": [],
   "source": [
    "# 표본의 표준편차를 모 표준편차와 똑같이 만드는 것이 아니다.\n",
    "# 모 표준편차의 합보다 표본 표준편차의 값의 합이 더 커졌다.\n",
    "# 표본은 모집단하고 일치시키기 어렵다.(일치 시키는 것은 의미가 없다)\n",
    "\n",
    "# 실전 데이터 분야의 표본은 전체 모집단을 수집하기 어려우므로\n",
    "# 최대한 표본을 수집하는 것을 목적으로 해야 함\n"
   ]
  },
  {
   "cell_type": "code",
   "execution_count": 49,
   "metadata": {},
   "outputs": [
    {
     "name": "stdout",
     "output_type": "stream",
     "text": [
      "평균:  7.8\n",
      "편차 제곱의 합:  129.6\n",
      "전체 모 분산:  14.399999999999999\n",
      "전체 모 표준편차: 4.3\n",
      "10개 데이터의 표본 표준편차: 3.8\n"
     ]
    }
   ],
   "source": [
    "# 최대한의 데이터를 수집한 것을 가정한 경우의 평균, 편차 제곱의 합, 표본분산, 표본 표준편차\n",
    "data = pd.Series([2, 3, 5, 6, 7, 9, 10, 11, 12, 13])\n",
    "cnt = len(data)\n",
    "total = sum(data)\n",
    "mean = total / cnt\n",
    "print(\"평균: \", mean)\n",
    "deviation = mean-data\n",
    "deviation_total = sum(deviation**2)\n",
    "print(\"편차 제곱의 합: \", deviation_total)\n",
    "variation = deviation_total/(cnt-1)\n",
    "print(\"전체 모 분산: \", variation)\n",
    "std5 = np.sqrt(variation)\n",
    "print(\"전체 모 표준편차: {0:.1f}\".format(std4)) # 4.3\n",
    "print(\"10개 데이터의 표본 표준편차: {0:.1f}\".format(std5)) # 3.6 -> 3.8"
   ]
  },
  {
   "cell_type": "code",
   "execution_count": 51,
   "metadata": {},
   "outputs": [
    {
     "name": "stdout",
     "output_type": "stream",
     "text": [
      "평균:  8.454545454545455\n",
      "편차 제곱의 합:  176.72727272727272\n",
      "전체 모 분산:  17.672727272727272\n",
      "전체 모 표준편차: 4.3\n",
      "11개 데이터의 표본 표준편차: 4.2\n"
     ]
    }
   ],
   "source": [
    "# 최대한의 데이터를 수집한 것을 가정한 경우의 평균, 편차 제곱의 합, 표본분산, 표본 표준편차\n",
    "data = pd.Series([2, 3, 5, 6, 7, 9, 10, 11, 12, 13, 15])\n",
    "cnt = len(data)\n",
    "total = sum(data)\n",
    "mean = total / cnt\n",
    "print(\"평균: \", mean)\n",
    "deviation = mean-data\n",
    "deviation_total = sum(deviation**2)\n",
    "print(\"편차 제곱의 합: \", deviation_total)\n",
    "variation = deviation_total/(cnt-1)\n",
    "print(\"전체 모 분산: \", variation)\n",
    "std5 = np.sqrt(variation)\n",
    "print(\"전체 모 표준편차: {0:.1f}\".format(std4)) # 4.3\n",
    "print(\"11개 데이터의 표본 표준편차: {0:.1f}\".format(std5)) # 4.0 -> 4.2\n",
    "\n",
    "# 최대한 데이터를 많이 준비 할수록 전체 모 표준편차에 가까워진다. "
   ]
  },
  {
   "cell_type": "code",
   "execution_count": null,
   "metadata": {},
   "outputs": [],
   "source": []
  }
 ],
 "metadata": {
  "kernelspec": {
   "display_name": "ai",
   "language": "python",
   "name": "ai"
  },
  "language_info": {
   "codemirror_mode": {
    "name": "ipython",
    "version": 3
   },
   "file_extension": ".py",
   "mimetype": "text/x-python",
   "name": "python",
   "nbconvert_exporter": "python",
   "pygments_lexer": "ipython3",
   "version": "3.6.10"
  }
 },
 "nbformat": 4,
 "nbformat_minor": 2
}
