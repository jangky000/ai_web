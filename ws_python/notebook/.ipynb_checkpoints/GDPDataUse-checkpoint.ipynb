{
 "cells": [
  {
   "cell_type": "code",
   "execution_count": 1,
   "metadata": {},
   "outputs": [],
   "source": [
    "import oop.GDPData  # oop 폴더의 GDPData.py 파일을 나타냄"
   ]
  },
  {
   "cell_type": "code",
   "execution_count": null,
   "metadata": {},
   "outputs": [],
   "source": [
    "# gdp = oop.GDPData() # ERROR, 파일명을 가지고 객체를 생성하려함."
   ]
  },
  {
   "cell_type": "code",
   "execution_count": 2,
   "metadata": {},
   "outputs": [
    {
     "name": "stdout",
     "output_type": "stream",
     "text": [
      "객체가 메모리에 생성되었습니다.\n",
      "한국\n",
      "28738\n"
     ]
    }
   ],
   "source": [
    "# oop 폴더의 GDPData.py 파일의 GDPData class의 객체 생성\n",
    "gdp = oop.GDPData.GDP() # 패키지.파일명.클래스명\n",
    "print(gdp.getNation('KOR'))\n",
    "print(gdp.getGDP('KOR'))\n",
    "# 반복 실행시 소멸자 자동 호출됨."
   ]
  },
  {
   "cell_type": "code",
   "execution_count": 4,
   "metadata": {},
   "outputs": [],
   "source": [
    "from oop import GDPData # 모듈(파일) GDPData.py를 나타냄"
   ]
  },
  {
   "cell_type": "code",
   "execution_count": 5,
   "metadata": {},
   "outputs": [],
   "source": [
    "# gdp2 = GDP() # 안됨"
   ]
  },
  {
   "cell_type": "code",
   "execution_count": 6,
   "metadata": {},
   "outputs": [
    {
     "name": "stdout",
     "output_type": "stream",
     "text": [
      "객체가 메모리에 생성되었습니다.\n",
      "한국\n",
      "28738\n"
     ]
    }
   ],
   "source": [
    "gdp2 = GDPData.GDP() # GDPData.py 파일의 GDP class 객체 생성\n",
    "print(gdp2.getNation('KOR'))\n",
    "print(gdp2.getGDP('KOR'))"
   ]
  },
  {
   "cell_type": "code",
   "execution_count": 7,
   "metadata": {},
   "outputs": [],
   "source": [
    "from oop.GDPData import *  # GDPData.py 모듈에서 모든 class를 가져옴"
   ]
  },
  {
   "cell_type": "code",
   "execution_count": 9,
   "metadata": {},
   "outputs": [
    {
     "name": "stdout",
     "output_type": "stream",
     "text": [
      "객체가 메모리에 생성되었습니다.\n",
      "한국\n",
      "28738\n"
     ]
    }
   ],
   "source": [
    "gdp3 = GDP()  # GDPData class 객체 생성\n",
    "print(gdp3.getNation('KOR'))\n",
    "print(gdp3.getGDP('KOR'))"
   ]
  },
  {
   "cell_type": "code",
   "execution_count": 10,
   "metadata": {},
   "outputs": [],
   "source": [
    "# GDPData.py 모듈에서 GDP class만 import\n",
    "from oop.GDPData import GDP"
   ]
  },
  {
   "cell_type": "code",
   "execution_count": 11,
   "metadata": {},
   "outputs": [
    {
     "name": "stdout",
     "output_type": "stream",
     "text": [
      "객체가 메모리에 생성되었습니다.\n",
      "한국\n",
      "28738\n"
     ]
    }
   ],
   "source": [
    "gdp4 = GDP()  # GDPData class 객체 생성\n",
    "print(gdp4.getNation('KOR'))\n",
    "print(gdp4.getGDP('KOR'))"
   ]
  },
  {
   "cell_type": "code",
   "execution_count": null,
   "metadata": {},
   "outputs": [],
   "source": []
  },
  {
   "cell_type": "code",
   "execution_count": null,
   "metadata": {},
   "outputs": [],
   "source": []
  },
  {
   "cell_type": "code",
   "execution_count": null,
   "metadata": {},
   "outputs": [],
   "source": []
  }
 ],
 "metadata": {
  "kernelspec": {
   "display_name": "ai",
   "language": "python",
   "name": "ai"
  },
  "language_info": {
   "codemirror_mode": {
    "name": "ipython",
    "version": 3
   },
   "file_extension": ".py",
   "mimetype": "text/x-python",
   "name": "python",
   "nbconvert_exporter": "python",
   "pygments_lexer": "ipython3",
   "version": "3.6.10"
  }
 },
 "nbformat": 4,
 "nbformat_minor": 2
}
