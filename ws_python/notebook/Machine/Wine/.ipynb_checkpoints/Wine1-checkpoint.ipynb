{
 "cells": [
  {
   "cell_type": "code",
   "execution_count": 48,
   "metadata": {},
   "outputs": [
    {
     "name": "stdout",
     "output_type": "stream",
     "text": [
      "2.0.0\n"
     ]
    }
   ],
   "source": [
    "# DNN: deep neural network\n",
    "import numpy as np\n",
    "import tensorflow as tf\n",
    "\n",
    "# tensorflow 2.0에 내장된 Keras 사용\n",
    "from tensorflow.keras.models import Sequential  # class\n",
    "from tensorflow.keras.models import load_model  # model 사용 함수\n",
    "from tensorflow.keras.layers import Dense       # 전결합층\n",
    "from tensorflow.keras.optimizers import Adam    # 가중치, bias 최적화\n",
    "from sklearn.model_selection import train_test_split # 학습셋과 테스트셋을 나눔\n",
    "from tensorflow.keras.callbacks import EarlyStopping\n",
    "\n",
    "# tensorflow 1.x, Keras가 독립적으로 설치된 경우\n",
    "# from keras.models import Sequential  # class\n",
    "# from keras.models import load_model  # model 사용 함수\n",
    "# from keras.layers import Dense       # class\n",
    "\n",
    "print(tf.__version__)"
   ]
  },
  {
   "cell_type": "code",
   "execution_count": 49,
   "metadata": {},
   "outputs": [
    {
     "name": "stdout",
     "output_type": "stream",
     "text": [
      "<class 'numpy.ndarray'>\n",
      "(6497, 13)\n"
     ]
    }
   ],
   "source": [
    "# np로 가져오면 바로 배열이 되어서 편리하다\n",
    "# np.float 가져오면서 타입 변경\n",
    "data = np.loadtxt('./wine.csv', delimiter=',', dtype=np.float64)\n",
    "print(type(data))\n",
    "print(data.shape)"
   ]
  },
  {
   "cell_type": "code",
   "execution_count": 50,
   "metadata": {},
   "outputs": [
    {
     "name": "stdout",
     "output_type": "stream",
     "text": [
      "(6497, 12)\n",
      "(6497,)\n"
     ]
    }
   ],
   "source": [
    "# 마지막 칼럼을 제외하고 데이터로 만들어줘야 한다.\n",
    "# 마지막 칼럼은 class를 의미하기 때문\n",
    "X = data[:, 0:-1] # 0 ~ 11\n",
    "print(X.shape)\n",
    "# Y는 정답\n",
    "Y = data[:, -1] # 13번째 칼럼, 인덱스12의 칼럼 값\n",
    "print(Y.shape)"
   ]
  },
  {
   "cell_type": "code",
   "execution_count": 51,
   "metadata": {},
   "outputs": [
    {
     "name": "stdout",
     "output_type": "stream",
     "text": [
      "[[6.700e+00 6.750e-01 7.000e-02 2.400e+00 8.900e-02 1.700e+01 8.200e+01\n",
      "  9.958e-01 3.350e+00 5.400e-01 1.010e+01 5.000e+00]]\n",
      "[1.]\n",
      "==============================================================================\n",
      "[[7.200e+00 3.200e-01 3.600e-01 2.000e+00 3.300e-02 3.700e+01 1.140e+02\n",
      "  9.906e-01 3.100e+00 7.100e-01 1.230e+01 7.000e+00]]\n",
      "[0.]\n"
     ]
    }
   ],
   "source": [
    "print(X[:1])\n",
    "print(Y[:1])\n",
    "print('==============================================================================')\n",
    "print(X[6496:])\n",
    "print(Y[6496:])"
   ]
  },
  {
   "cell_type": "code",
   "execution_count": 52,
   "metadata": {},
   "outputs": [
    {
     "name": "stdout",
     "output_type": "stream",
     "text": [
      "1.000000e-03 / 1.200000e-02 / 1.230000e-01 / 1.230000e+00 / 1.234000e+01\n"
     ]
    }
   ],
   "source": [
    "print('{0:e} / {1:e} / {2:e} / {3:e} / {4:e}'.format(0.001, 0.012, 0.123, 1.23, 12.34))"
   ]
  },
  {
   "cell_type": "code",
   "execution_count": 53,
   "metadata": {},
   "outputs": [],
   "source": [
    "# (1) Parameter\n",
    "# arrays : 분할시킬 데이터를 입력 (Python list, Numpy array, Pandas dataframe 등..)\n",
    "# test_size : 테스트 데이터셋의 비율(float)이나 갯수(int) (default = 0.25)\n",
    "# train_size : 학습 데이터셋의 비율(float)이나 갯수(int) (default = test_size의 나머지)\n",
    "# random_state : 데이터 분할시 셔플이 이루어지는데 이를 위한 시드값 (int나 RandomState로 입력)\n",
    "# shuffle : 셔플여부설정 (default = True)\n",
    "# stratify : 지정한 Data의 비율을 유지한다. 예를 들어, Label Set인 Y가 25%의 0과 75%의 1로 이루어진 Binary Set일 때, stratify=Y로 설정하면 나누어진 데이터셋들도 0과 1을 각각 25%, 75%로 유지한 채 분할된다.\n",
    "\n",
    "# - test_size=0.1: 10% 테스트 데이터\n",
    "# - random_state=seed: 분류시 동일한 조건의 난수를 적용하여 분류\n",
    "\n",
    "# 테스트 데이터 10%를 분리해냄\n",
    "seed = 0\n",
    "# x_train_all: 90%, x_test: 10%\n",
    "x_train_all, x_test, y_train_all, y_test = train_test_split(X, Y, \n",
    "                                                            stratify=Y, \n",
    "                                                            test_size = 0.1, \n",
    "                                                            random_state = seed)"
   ]
  },
  {
   "cell_type": "code",
   "execution_count": 54,
   "metadata": {},
   "outputs": [
    {
     "name": "stdout",
     "output_type": "stream",
     "text": [
      "(5847, 12)\n",
      "(650, 12)\n"
     ]
    }
   ],
   "source": [
    "print(x_train_all.shape)\n",
    "print(x_test.shape)"
   ]
  },
  {
   "cell_type": "code",
   "execution_count": 55,
   "metadata": {},
   "outputs": [],
   "source": [
    "from sklearn.model_selection import train_test_split # 학습셋과 테스트셋을 나눔\n",
    "# 검증 데이터 10%를 제외한 90%의 데이터에서 다시 30%를 검증 데이터로 사용함\n",
    "x_train, x_val, y_train, y_val = train_test_split(x_train_all, y_train_all, \n",
    "                                                    stratify=y_train_all, \n",
    "                                                    test_size = 0.3,\n",
    "                                                    random_state = seed)"
   ]
  },
  {
   "cell_type": "code",
   "execution_count": 56,
   "metadata": {},
   "outputs": [
    {
     "name": "stdout",
     "output_type": "stream",
     "text": [
      "(4092, 12)\n",
      "(1755, 12)\n"
     ]
    }
   ],
   "source": [
    "print(x_train.shape)\n",
    "print(x_val.shape)"
   ]
  },
  {
   "cell_type": "code",
   "execution_count": 57,
   "metadata": {},
   "outputs": [
    {
     "name": "stdout",
     "output_type": "stream",
     "text": [
      "(1755,)\n",
      "[0. 1. 0. 0. 0. 0. 0. 1. 0. 0. 1. 1. 0. 0. 1. 0. 1. 0. 0. 0. 0. 0. 0. 0.\n",
      " 0. 0. 1. 1. 0. 0. 1. 0. 0. 0. 0. 1. 0. 1. 1. 0. 0. 0. 0. 0. 0. 0. 0. 0.\n",
      " 0. 0. 1. 1. 0. 0. 0. 1. 0. 0. 0. 1. 0. 0. 0. 0. 0. 0. 0. 1. 0. 0. 0. 0.\n",
      " 1. 0. 0. 0. 0. 1. 0. 1. 0. 0. 0. 0. 0. 1. 0. 0. 0. 0. 1. 0. 0. 0. 0. 1.\n",
      " 0. 0. 1. 0.]\n"
     ]
    }
   ],
   "source": [
    "print(y_val.shape) # 1차원 배열 1755개 요소\n",
    "print(y_val[:100])"
   ]
  },
  {
   "cell_type": "code",
   "execution_count": 80,
   "metadata": {},
   "outputs": [],
   "source": [
    "model = Sequential()\n",
    "# dim 대신 input_shape를 사용하는 이유는 나중에 이미지 학습에서 3차원 데이터를 사용해야 하기 때문, 여기서는 차이 없음\n",
    "# model.add(Dense(60, input_shape=(12, ), activation='relu'))\n",
    "model.add(Dense(64, input_shape=(12, ), activation='relu')) # linear 대신에 분류를 해야하기 때문에 relu 사용, \n",
    "# relu는 시그모이드보다 빠르고, 음수를 절삭하고 유효한 값 유지하기 때문에 은닉층에서 많이 쓰임\n",
    "model.add(Dense(30, activation='relu')) # 입력: 64, 출력: 30\n",
    "model.add(Dense(10, activation='relu')) # 입력: 30, 출력: 10\n",
    "model.add(Dense(1, activation='sigmoid')) # 입력: 10, 출력: 1 # 0에 가까운지 1에 가까운지 이항분류"
   ]
  },
  {
   "cell_type": "code",
   "execution_count": 81,
   "metadata": {},
   "outputs": [
    {
     "name": "stdout",
     "output_type": "stream",
     "text": [
      "Model: \"sequential_4\"\n",
      "_________________________________________________________________\n",
      "Layer (type)                 Output Shape              Param #   \n",
      "=================================================================\n",
      "dense_11 (Dense)             (None, 64)                832       \n",
      "_________________________________________________________________\n",
      "dense_12 (Dense)             (None, 30)                1950      \n",
      "_________________________________________________________________\n",
      "dense_13 (Dense)             (None, 10)                310       \n",
      "_________________________________________________________________\n",
      "dense_14 (Dense)             (None, 1)                 11        \n",
      "=================================================================\n",
      "Total params: 3,103\n",
      "Trainable params: 3,103\n",
      "Non-trainable params: 0\n",
      "_________________________________________________________________\n",
      "Train on 4092 samples, validate on 1755 samples\n",
      "Epoch 1/1000\n",
      "4092/4092 [==============================] - 2s 482us/sample - loss: 0.3148 - accuracy: 0.9015 - val_loss: 0.1852 - val_accuracy: 0.9362\n",
      "Epoch 2/1000\n",
      "4092/4092 [==============================] - 1s 348us/sample - loss: 0.1913 - accuracy: 0.9299 - val_loss: 0.1808 - val_accuracy: 0.9379\n",
      "Epoch 3/1000\n",
      "4092/4092 [==============================] - 1s 361us/sample - loss: 0.1682 - accuracy: 0.9399 - val_loss: 0.1973 - val_accuracy: 0.9470\n",
      "Epoch 4/1000\n",
      "4092/4092 [==============================] - 1s 362us/sample - loss: 0.1574 - accuracy: 0.9443 - val_loss: 0.1060 - val_accuracy: 0.9658\n",
      "Epoch 5/1000\n",
      "4092/4092 [==============================] - 1s 363us/sample - loss: 0.1270 - accuracy: 0.9543 - val_loss: 0.0922 - val_accuracy: 0.9698\n",
      "Epoch 6/1000\n",
      "4092/4092 [==============================] - 1s 361us/sample - loss: 0.1147 - accuracy: 0.9619 - val_loss: 0.1084 - val_accuracy: 0.9670\n",
      "Epoch 7/1000\n",
      "4092/4092 [==============================] - 1s 362us/sample - loss: 0.1079 - accuracy: 0.9660 - val_loss: 0.0878 - val_accuracy: 0.9709\n",
      "Epoch 8/1000\n",
      "4092/4092 [==============================] - 1s 360us/sample - loss: 0.1011 - accuracy: 0.9655 - val_loss: 0.0852 - val_accuracy: 0.9715\n",
      "Epoch 9/1000\n",
      "4092/4092 [==============================] - 1s 362us/sample - loss: 0.0887 - accuracy: 0.9721 - val_loss: 0.0903 - val_accuracy: 0.9704\n",
      "Epoch 10/1000\n",
      "4092/4092 [==============================] - 1s 351us/sample - loss: 0.1028 - accuracy: 0.9641 - val_loss: 0.0722 - val_accuracy: 0.9795\n",
      "Epoch 11/1000\n",
      "4092/4092 [==============================] - 1s 346us/sample - loss: 0.0858 - accuracy: 0.9729 - val_loss: 0.0842 - val_accuracy: 0.9738\n",
      "Epoch 12/1000\n",
      "4092/4092 [==============================] - 1s 350us/sample - loss: 0.0873 - accuracy: 0.9731 - val_loss: 0.0626 - val_accuracy: 0.9795\n",
      "Epoch 13/1000\n",
      "4092/4092 [==============================] - 1s 363us/sample - loss: 0.0763 - accuracy: 0.9751 - val_loss: 0.1470 - val_accuracy: 0.9499\n",
      "Epoch 14/1000\n",
      "4092/4092 [==============================] - 1s 356us/sample - loss: 0.0815 - accuracy: 0.9724 - val_loss: 0.0650 - val_accuracy: 0.9801\n",
      "Epoch 15/1000\n",
      "4092/4092 [==============================] - 1s 354us/sample - loss: 0.0793 - accuracy: 0.9758 - val_loss: 0.0610 - val_accuracy: 0.9783\n",
      "Epoch 16/1000\n",
      "4092/4092 [==============================] - 1s 360us/sample - loss: 0.0787 - accuracy: 0.9756 - val_loss: 0.0574 - val_accuracy: 0.9795\n",
      "Epoch 17/1000\n",
      "4092/4092 [==============================] - 1s 361us/sample - loss: 0.0774 - accuracy: 0.9743 - val_loss: 0.0564 - val_accuracy: 0.9806\n",
      "Epoch 18/1000\n",
      "4092/4092 [==============================] - 1s 350us/sample - loss: 0.0738 - accuracy: 0.9775 - val_loss: 0.0628 - val_accuracy: 0.9795\n",
      "Epoch 19/1000\n",
      "4092/4092 [==============================] - 1s 344us/sample - loss: 0.0717 - accuracy: 0.9758 - val_loss: 0.0673 - val_accuracy: 0.9778\n",
      "Epoch 20/1000\n",
      "4092/4092 [==============================] - 1s 347us/sample - loss: 0.0649 - accuracy: 0.9797 - val_loss: 0.0558 - val_accuracy: 0.9801\n",
      "Epoch 21/1000\n",
      "4092/4092 [==============================] - 1s 362us/sample - loss: 0.0707 - accuracy: 0.9790 - val_loss: 0.0697 - val_accuracy: 0.9772\n",
      "Epoch 22/1000\n",
      "4092/4092 [==============================] - 1s 362us/sample - loss: 0.0653 - accuracy: 0.9768 - val_loss: 0.0564 - val_accuracy: 0.9795\n",
      "Epoch 23/1000\n",
      "4092/4092 [==============================] - 1s 353us/sample - loss: 0.0659 - accuracy: 0.9795 - val_loss: 0.0546 - val_accuracy: 0.9823\n",
      "Epoch 24/1000\n",
      "4092/4092 [==============================] - 1s 363us/sample - loss: 0.0640 - accuracy: 0.9804 - val_loss: 0.0532 - val_accuracy: 0.9801\n",
      "Epoch 25/1000\n",
      "4092/4092 [==============================] - 1s 360us/sample - loss: 0.0642 - accuracy: 0.9819 - val_loss: 0.0546 - val_accuracy: 0.9806\n",
      "Epoch 26/1000\n",
      "4092/4092 [==============================] - 1s 360us/sample - loss: 0.0660 - accuracy: 0.9792 - val_loss: 0.0607 - val_accuracy: 0.9818\n",
      "Epoch 27/1000\n",
      "4092/4092 [==============================] - 1s 350us/sample - loss: 0.0676 - accuracy: 0.9785 - val_loss: 0.0485 - val_accuracy: 0.9852\n",
      "Epoch 28/1000\n",
      "4092/4092 [==============================] - 1s 346us/sample - loss: 0.0634 - accuracy: 0.9790 - val_loss: 0.0528 - val_accuracy: 0.9823\n",
      "Epoch 29/1000\n",
      "4092/4092 [==============================] - 1s 362us/sample - loss: 0.0558 - accuracy: 0.9826 - val_loss: 0.0486 - val_accuracy: 0.9823\n",
      "Epoch 30/1000\n",
      "4092/4092 [==============================] - 1s 358us/sample - loss: 0.0535 - accuracy: 0.9824 - val_loss: 0.0622 - val_accuracy: 0.9766\n",
      "Epoch 31/1000\n",
      "4092/4092 [==============================] - 1s 356us/sample - loss: 0.0677 - accuracy: 0.9797 - val_loss: 0.1007 - val_accuracy: 0.9664\n",
      "Epoch 32/1000\n",
      "4092/4092 [==============================] - 1s 350us/sample - loss: 0.0574 - accuracy: 0.9807 - val_loss: 0.0484 - val_accuracy: 0.9829\n",
      "Epoch 33/1000\n",
      "4092/4092 [==============================] - 1s 361us/sample - loss: 0.0554 - accuracy: 0.9836 - val_loss: 0.0506 - val_accuracy: 0.9818\n",
      "Epoch 34/1000\n",
      "4092/4092 [==============================] - 1s 361us/sample - loss: 0.0533 - accuracy: 0.9844 - val_loss: 0.0483 - val_accuracy: 0.9840\n",
      "Epoch 35/1000\n",
      "4092/4092 [==============================] - 1s 350us/sample - loss: 0.0565 - accuracy: 0.9841 - val_loss: 0.0501 - val_accuracy: 0.9823\n",
      "Epoch 36/1000\n",
      "4092/4092 [==============================] - 1s 345us/sample - loss: 0.0649 - accuracy: 0.9800 - val_loss: 0.0877 - val_accuracy: 0.9704\n",
      "Epoch 37/1000\n",
      "4092/4092 [==============================] - 1s 342us/sample - loss: 0.0538 - accuracy: 0.9826 - val_loss: 0.1004 - val_accuracy: 0.9664\n",
      "Epoch 38/1000\n",
      "4092/4092 [==============================] - 1s 359us/sample - loss: 0.0574 - accuracy: 0.9817 - val_loss: 0.0954 - val_accuracy: 0.9744\n",
      "Epoch 39/1000\n",
      "4092/4092 [==============================] - 1s 353us/sample - loss: 0.0500 - accuracy: 0.9848 - val_loss: 0.0761 - val_accuracy: 0.9766\n",
      "Epoch 40/1000\n",
      "4092/4092 [==============================] - 1s 361us/sample - loss: 0.0515 - accuracy: 0.9841 - val_loss: 0.1258 - val_accuracy: 0.9652\n",
      "Epoch 41/1000\n",
      "4092/4092 [==============================] - 1s 354us/sample - loss: 0.0569 - accuracy: 0.9831 - val_loss: 0.0530 - val_accuracy: 0.9783\n",
      "Epoch 42/1000\n",
      "4092/4092 [==============================] - 1s 362us/sample - loss: 0.0513 - accuracy: 0.9844 - val_loss: 0.0495 - val_accuracy: 0.9835\n",
      "Epoch 43/1000\n",
      "4092/4092 [==============================] - 1s 362us/sample - loss: 0.0484 - accuracy: 0.9848 - val_loss: 0.0536 - val_accuracy: 0.9806\n",
      "Epoch 44/1000\n",
      "4092/4092 [==============================] - 1s 347us/sample - loss: 0.0495 - accuracy: 0.9839 - val_loss: 0.0495 - val_accuracy: 0.9846\n",
      "Epoch 45/1000\n",
      "4092/4092 [==============================] - 1s 348us/sample - loss: 0.0494 - accuracy: 0.9831 - val_loss: 0.0483 - val_accuracy: 0.9835\n",
      "Epoch 46/1000\n",
      "4092/4092 [==============================] - 1s 363us/sample - loss: 0.0452 - accuracy: 0.9878 - val_loss: 0.0571 - val_accuracy: 0.9812\n",
      "Epoch 47/1000\n",
      "4092/4092 [==============================] - 1s 357us/sample - loss: 0.0543 - accuracy: 0.9809 - val_loss: 0.0619 - val_accuracy: 0.9818\n",
      "Epoch 48/1000\n",
      "4092/4092 [==============================] - 1s 357us/sample - loss: 0.0470 - accuracy: 0.9844 - val_loss: 0.0563 - val_accuracy: 0.9823\n",
      "Epoch 49/1000\n"
     ]
    },
    {
     "name": "stdout",
     "output_type": "stream",
     "text": [
      "4092/4092 [==============================] - 1s 357us/sample - loss: 0.0492 - accuracy: 0.9844 - val_loss: 0.0522 - val_accuracy: 0.9818\n",
      "Epoch 50/1000\n",
      "4092/4092 [==============================] - 1s 359us/sample - loss: 0.0494 - accuracy: 0.9839 - val_loss: 0.0722 - val_accuracy: 0.9766\n",
      "Epoch 51/1000\n",
      "4092/4092 [==============================] - 1s 361us/sample - loss: 0.0444 - accuracy: 0.9870 - val_loss: 0.0544 - val_accuracy: 0.9829\n",
      "Epoch 52/1000\n",
      "4092/4092 [==============================] - 1s 352us/sample - loss: 0.0436 - accuracy: 0.9868 - val_loss: 0.0618 - val_accuracy: 0.9818\n",
      "Epoch 53/1000\n",
      "4092/4092 [==============================] - 1s 341us/sample - loss: 0.0456 - accuracy: 0.9861 - val_loss: 0.0459 - val_accuracy: 0.9835\n",
      "Epoch 54/1000\n",
      "4092/4092 [==============================] - 1s 345us/sample - loss: 0.0459 - accuracy: 0.9848 - val_loss: 0.0537 - val_accuracy: 0.9835\n",
      "Epoch 55/1000\n",
      "4092/4092 [==============================] - 1s 361us/sample - loss: 0.0391 - accuracy: 0.9885 - val_loss: 0.0574 - val_accuracy: 0.9812\n",
      "Epoch 56/1000\n",
      "4092/4092 [==============================] - 1s 361us/sample - loss: 0.0452 - accuracy: 0.9851 - val_loss: 0.0523 - val_accuracy: 0.9835\n",
      "Epoch 57/1000\n",
      "4092/4092 [==============================] - 1s 361us/sample - loss: 0.0454 - accuracy: 0.9861 - val_loss: 0.0520 - val_accuracy: 0.9812\n",
      "Epoch 58/1000\n",
      "4092/4092 [==============================] - 1s 360us/sample - loss: 0.0436 - accuracy: 0.9856 - val_loss: 0.0599 - val_accuracy: 0.9823\n",
      "Epoch 59/1000\n",
      "4092/4092 [==============================] - 1s 361us/sample - loss: 0.0425 - accuracy: 0.9866 - val_loss: 0.0516 - val_accuracy: 0.9835\n",
      "Epoch 60/1000\n",
      "4092/4092 [==============================] - 1s 360us/sample - loss: 0.0437 - accuracy: 0.9853 - val_loss: 0.0661 - val_accuracy: 0.9806\n"
     ]
    }
   ],
   "source": [
    "from tensorflow.keras.callbacks import EarlyStopping\n",
    "model.compile(optimizer='adam', loss='binary_crossentropy', metrics=['accuracy'])\n",
    "\n",
    "# 최소 손실 오차가 5번 나오면 학습 종료\n",
    "early_stopping = EarlyStopping(monitor='loss', patience = 5)\n",
    "\n",
    "# 학습을 하지 않아도 summary 가능\n",
    "model.summary()\n",
    "\n",
    "# 한꺼번에 10개씩 읽어서 처리\n",
    "# validation split: 이미 앞에서 나누었으므로 data를 그냥 넣어준다\n",
    "# shuffle은 이미 데이터를 랜덤 샘플링 했으므로 필요 없다.\n",
    "# callbacks =[] 학습 중에 자동으로 필요한 함수를 호출함\n",
    "hist = model.fit(x_train, y_train, validation_data = (x_val, y_val), epochs=1000, batch_size=5, callbacks = [early_stopping])"
   ]
  },
  {
   "cell_type": "code",
   "execution_count": 82,
   "metadata": {},
   "outputs": [
    {
     "data": {
      "image/png": "[encoded data removed]",
      "text/plain": [
       "<Figure size 720x360 with 2 Axes>"
      ]
     },
     "metadata": {
      "needs_background": "light"
     },
     "output_type": "display_data"
    }
   ],
   "source": [
    "import matplotlib.pyplot as plt\n",
    "%matplotlib inline \n",
    "\n",
    "fig, loss_ax = plt.subplots()\n",
    "# plt.figure(figsize=(6,4)) # ERROR\n",
    "fig.set_size_inches(10, 5)  # 챠트 크기 설정\n",
    "\n",
    "acc_ax = loss_ax.twinx()   # 오른쪽 y 축 설정\n",
    "\n",
    "# 왼쪽 y 축 설정\n",
    "loss_ax.plot(hist.history['loss'], 'y', label='train loss')\n",
    "loss_ax.plot(hist.history['val_loss'], 'r', label='val loss')\n",
    "loss_ax.set_ylim([0.0, 1]) # 값을 반영하여 변경\n",
    "\n",
    "# 오른쪽 y 축 설정\n",
    "acc_ax.plot(hist.history['accuracy'], 'b', label='train accuracy')\n",
    "acc_ax.plot(hist.history['val_accuracy'], 'g', label='val accuracy')\n",
    "acc_ax.set_ylim([0.0, 1]) # 0.0, 1: 0 ~ 100 %, 정확도임으로 변경하지 않음\n",
    "\n",
    "# 축 레이블 설정\n",
    "loss_ax.set_xlabel('epoch')  # 학습 횟수\n",
    "loss_ax.set_ylabel('loss')   # 오차\n",
    "acc_ax.set_ylabel('accuracy') # 정확도\n",
    "\n",
    "loss_ax.legend(loc='upper left') # 오차 레이블 위치\n",
    "acc_ax.legend(loc='lower left')  # 정확도 레이블 위치\n",
    "\n",
    "plt.show()"
   ]
  },
  {
   "cell_type": "code",
   "execution_count": 83,
   "metadata": {},
   "outputs": [
    {
     "name": "stdout",
     "output_type": "stream",
     "text": [
      "손실값: 0.042696363283761155 /정확도: 99.23076629638672 %\n"
     ]
    }
   ],
   "source": [
    "test_loss, test_acc = model.evaluate(x_test, y_test, batch_size=1, verbose=0)\n",
    "print('손실값:', test_loss, '/정확도:', (test_acc*100), '%')"
   ]
  },
  {
   "cell_type": "code",
   "execution_count": 84,
   "metadata": {},
   "outputs": [],
   "source": [
    "model.save('./Wine1.h5')"
   ]
  },
  {
   "cell_type": "code",
   "execution_count": 85,
   "metadata": {},
   "outputs": [],
   "source": [
    "model = load_model('./Wine1.h5')"
   ]
  },
  {
   "cell_type": "code",
   "execution_count": 86,
   "metadata": {},
   "outputs": [
    {
     "name": "stdout",
     "output_type": "stream",
     "text": [
      "[[5.73605299e-04]\n",
      " [2.98753381e-03]\n",
      " [2.44024396e-03]\n",
      " [9.59903002e-04]\n",
      " [1.48054957e-03]\n",
      " [1.13874674e-04]\n",
      " [1.18583441e-04]\n",
      " [1.15931034e-05]\n",
      " [1.92127228e-02]\n",
      " [1.20252371e-04]]\n"
     ]
    }
   ],
   "source": [
    "pd = model.predict(x_test[:100])\n",
    "print(pd[:10])"
   ]
  },
  {
   "cell_type": "code",
   "execution_count": 87,
   "metadata": {},
   "outputs": [
    {
     "name": "stdout",
     "output_type": "stream",
     "text": [
      "실제값: 0.0, 예측값: [0.00057361]--> White 와인\n",
      "실제값: 0.0, 예측값: [0.00298753]--> White 와인\n",
      "실제값: 0.0, 예측값: [0.00244024]--> White 와인\n",
      "실제값: 0.0, 예측값: [0.0009599]--> White 와인\n",
      "실제값: 1.0, 예측값: [0.00148055]--> White 와인\n",
      "실제값: 0.0, 예측값: [0.00011387]--> White 와인\n",
      "실제값: 0.0, 예측값: [0.00011858]--> White 와인\n",
      "실제값: 0.0, 예측값: [1.1593103e-05]--> White 와인\n",
      "실제값: 0.0, 예측값: [0.01921272]--> White 와인\n",
      "실제값: 0.0, 예측값: [0.00012025]--> White 와인\n",
      "실제값: 1.0, 예측값: [1.]--> Red 와인\n",
      "실제값: 0.0, 예측값: [3.8832426e-05]--> White 와인\n",
      "실제값: 1.0, 예측값: [1.]--> Red 와인\n",
      "실제값: 1.0, 예측값: [0.9999988]--> Red 와인\n",
      "실제값: 1.0, 예측값: [0.99724233]--> Red 와인\n",
      "실제값: 0.0, 예측값: [1.296401e-05]--> White 와인\n",
      "실제값: 0.0, 예측값: [0.00117052]--> White 와인\n",
      "실제값: 0.0, 예측값: [0.0026972]--> White 와인\n",
      "실제값: 1.0, 예측값: [0.9190184]--> Red 와인\n",
      "실제값: 0.0, 예측값: [2.1189451e-05]--> White 와인\n",
      "실제값: 0.0, 예측값: [2.5689602e-05]--> White 와인\n",
      "실제값: 0.0, 예측값: [5.5462122e-05]--> White 와인\n",
      "실제값: 1.0, 예측값: [0.9999994]--> Red 와인\n",
      "실제값: 1.0, 예측값: [0.9999889]--> Red 와인\n",
      "실제값: 0.0, 예측값: [2.7388334e-05]--> White 와인\n",
      "실제값: 0.0, 예측값: [0.00108883]--> White 와인\n",
      "실제값: 0.0, 예측값: [5.799532e-05]--> White 와인\n",
      "실제값: 0.0, 예측값: [1.8298626e-05]--> White 와인\n",
      "실제값: 1.0, 예측값: [1.]--> Red 와인\n",
      "실제값: 0.0, 예측값: [0.00035951]--> White 와인\n",
      "실제값: 1.0, 예측값: [0.9997121]--> Red 와인\n",
      "실제값: 0.0, 예측값: [4.5269728e-05]--> White 와인\n",
      "실제값: 1.0, 예측값: [0.9999973]--> Red 와인\n",
      "실제값: 0.0, 예측값: [5.096197e-06]--> White 와인\n",
      "실제값: 1.0, 예측값: [0.9999964]--> Red 와인\n",
      "실제값: 1.0, 예측값: [0.9999881]--> Red 와인\n",
      "실제값: 1.0, 예측값: [0.99999815]--> Red 와인\n",
      "실제값: 0.0, 예측값: [0.00251094]--> White 와인\n",
      "실제값: 0.0, 예측값: [6.854534e-06]--> White 와인\n",
      "실제값: 0.0, 예측값: [0.00037497]--> White 와인\n",
      "실제값: 0.0, 예측값: [1.5169382e-05]--> White 와인\n",
      "실제값: 0.0, 예측값: [0.00026602]--> White 와인\n",
      "실제값: 0.0, 예측값: [0.00056815]--> White 와인\n",
      "실제값: 0.0, 예측값: [0.002285]--> White 와인\n",
      "실제값: 0.0, 예측값: [0.00039363]--> White 와인\n",
      "실제값: 1.0, 예측값: [0.9986479]--> Red 와인\n",
      "실제값: 0.0, 예측값: [0.00054377]--> White 와인\n",
      "실제값: 0.0, 예측값: [0.00140357]--> White 와인\n",
      "실제값: 1.0, 예측값: [0.9999999]--> Red 와인\n",
      "실제값: 0.0, 예측값: [0.00110596]--> White 와인\n",
      "실제값: 0.0, 예측값: [0.00069341]--> White 와인\n",
      "실제값: 0.0, 예측값: [0.00015834]--> White 와인\n",
      "실제값: 0.0, 예측값: [0.00018176]--> White 와인\n",
      "실제값: 0.0, 예측값: [0.00661728]--> White 와인\n",
      "실제값: 0.0, 예측값: [1.5586615e-05]--> White 와인\n",
      "실제값: 1.0, 예측값: [0.9985532]--> Red 와인\n",
      "실제값: 0.0, 예측값: [0.00286198]--> White 와인\n",
      "실제값: 1.0, 예측값: [0.9999987]--> Red 와인\n",
      "실제값: 1.0, 예측값: [0.9999949]--> Red 와인\n",
      "실제값: 0.0, 예측값: [4.053116e-06]--> White 와인\n",
      "실제값: 0.0, 예측값: [0.00011662]--> White 와인\n",
      "실제값: 0.0, 예측값: [4.23193e-06]--> White 와인\n",
      "실제값: 0.0, 예측값: [0.00167277]--> White 와인\n",
      "실제값: 0.0, 예측값: [7.903576e-05]--> White 와인\n",
      "실제값: 0.0, 예측값: [0.0031805]--> White 와인\n",
      "실제값: 1.0, 예측값: [0.99999994]--> Red 와인\n",
      "실제값: 0.0, 예측값: [0.00387886]--> White 와인\n",
      "실제값: 1.0, 예측값: [0.9962457]--> Red 와인\n",
      "실제값: 0.0, 예측값: [1.3381243e-05]--> White 와인\n",
      "실제값: 0.0, 예측값: [1.6003847e-05]--> White 와인\n",
      "실제값: 0.0, 예측값: [0.00306815]--> White 와인\n",
      "실제값: 1.0, 예측값: [0.99648607]--> Red 와인\n",
      "실제값: 1.0, 예측값: [0.9883559]--> Red 와인\n",
      "실제값: 1.0, 예측값: [0.99600387]--> Red 와인\n",
      "실제값: 0.0, 예측값: [0.00036582]--> White 와인\n",
      "실제값: 0.0, 예측값: [0.00023809]--> White 와인\n",
      "실제값: 0.0, 예측값: [0.01383319]--> White 와인\n",
      "실제값: 0.0, 예측값: [0.00061864]--> White 와인\n",
      "실제값: 0.0, 예측값: [0.00019437]--> White 와인\n",
      "실제값: 0.0, 예측값: [0.0010736]--> White 와인\n",
      "실제값: 0.0, 예측값: [6.0498714e-05]--> White 와인\n",
      "실제값: 0.0, 예측값: [0.00435239]--> White 와인\n",
      "실제값: 0.0, 예측값: [4.3302774e-05]--> White 와인\n",
      "실제값: 0.0, 예측값: [1.4156103e-05]--> White 와인\n",
      "실제값: 0.0, 예측값: [9.2327595e-05]--> White 와인\n",
      "실제값: 0.0, 예측값: [0.00024661]--> White 와인\n",
      "실제값: 0.0, 예측값: [1.013279e-06]--> White 와인\n",
      "실제값: 0.0, 예측값: [0.00056097]--> White 와인\n",
      "실제값: 1.0, 예측값: [0.9999957]--> Red 와인\n",
      "실제값: 1.0, 예측값: [1.]--> Red 와인\n",
      "실제값: 0.0, 예측값: [5.1498413e-05]--> White 와인\n",
      "실제값: 1.0, 예측값: [0.9999999]--> Red 와인\n",
      "실제값: 0.0, 예측값: [0.00160342]--> White 와인\n",
      "실제값: 1.0, 예측값: [0.99999905]--> Red 와인\n",
      "실제값: 0.0, 예측값: [5.6266785e-05]--> White 와인\n",
      "실제값: 0.0, 예측값: [3.8951635e-05]--> White 와인\n",
      "실제값: 0.0, 예측값: [0.00473434]--> White 와인\n",
      "실제값: 1.0, 예측값: [0.99997735]--> Red 와인\n",
      "실제값: 0.0, 예측값: [6.2360577e-06]--> White 와인\n",
      "실제값: 0.0, 예측값: [3.3531847e-05]--> White 와인\n"
     ]
    }
   ],
   "source": [
    "for i in range(len(x_test[0:100])):\n",
    "    fmt = '실제값: {0}, 예측값: {1}'\n",
    "    print(fmt.format(y_test[i], pd[i]), end='')\n",
    "    \n",
    "    if (pd[i] >= 0.5): # 임계값의 지정, 정확도를 참고하여 판단\n",
    "    # if (pd[i] >= 0.01):\n",
    "        print('--> Red 와인')   # 1\n",
    "    else:\n",
    "        print('--> White 와인') # 0"
   ]
  },
  {
   "cell_type": "code",
   "execution_count": null,
   "metadata": {},
   "outputs": [],
   "source": []
  }
 ],
 "metadata": {
  "kernelspec": {
   "display_name": "ai",
   "language": "python",
   "name": "ai"
  },
  "language_info": {
   "codemirror_mode": {
    "name": "ipython",
    "version": 3
   },
   "file_extension": ".py",
   "mimetype": "text/x-python",
   "name": "python",
   "nbconvert_exporter": "python",
   "pygments_lexer": "ipython3",
   "version": "3.6.10"
  }
 },
 "nbformat": 4,
 "nbformat_minor": 4
}
