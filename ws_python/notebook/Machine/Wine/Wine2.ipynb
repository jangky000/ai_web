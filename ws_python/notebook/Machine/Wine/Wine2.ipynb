{
 "cells": [
  {
   "cell_type": "code",
   "execution_count": 19,
   "metadata": {},
   "outputs": [
    {
     "data": {
      "application/javascript": [
       "IPython.notebook.set_autosave_interval(0)"
      ]
     },
     "metadata": {},
     "output_type": "display_data"
    },
    {
     "name": "stdout",
     "output_type": "stream",
     "text": [
      "Autosave disabled\n",
      "2.0.0\n"
     ]
    }
   ],
   "source": [
    "%autosave 0\n",
    "import os\n",
    "import numpy as np\n",
    "import seaborn as sb\n",
    "import tensorflow\n",
    "import tensorflow as tf\n",
    "\n",
    "# tensorflow 2.0\n",
    "from tensorflow.keras.models import Sequential  # class\n",
    "from tensorflow.keras.models import load_model  # model 사용 함수\n",
    "from tensorflow.keras.layers import Dense       # 전결합층\n",
    "from tensorflow.keras.callbacks import EarlyStopping # 학습 자동 중지\n",
    "from tensorflow.keras.callbacks import ModelCheckpoint # 우수한 학습 모델 파일 저장\n",
    "from tensorflow.keras.optimizers import Adam    # 가중치, bias 최적화\n",
    "\n",
    "from sklearn.model_selection import train_test_split # 훈련/검증 데이터 분할\n",
    "from sklearn.metrics import confusion_matrix # 혼돈 행렬\n",
    "from sklearn.metrics import roc_curve        # roc 곡선\n",
    "\n",
    "# tensorflow 1.x\n",
    "# from keras.models import Sequential  # class\n",
    "# from keras.models import load_model  # model 사용 함수\n",
    "# from keras.layers import Dense       # class\n",
    "\n",
    "print(tf.__version__)"
   ]
  },
  {
   "cell_type": "code",
   "execution_count": 2,
   "metadata": {},
   "outputs": [
    {
     "name": "stdout",
     "output_type": "stream",
     "text": [
      "<class 'numpy.ndarray'>\n",
      "(6497, 13)\n"
     ]
    }
   ],
   "source": [
    "data = np.loadtxt('./wine.csv', delimiter=\",\", dtype=np.float64)\n",
    "print(type(data))\n",
    "print(data.shape)"
   ]
  },
  {
   "cell_type": "code",
   "execution_count": 3,
   "metadata": {},
   "outputs": [
    {
     "name": "stdout",
     "output_type": "stream",
     "text": [
      "(6497, 12)\n",
      "(6497,)\n"
     ]
    }
   ],
   "source": [
    "X = data[:, 0:12]\n",
    "print(X.shape)\n",
    "Y = data[:, 12] # 13번째 변수\n",
    "print(Y.shape)"
   ]
  },
  {
   "cell_type": "code",
   "execution_count": 4,
   "metadata": {},
   "outputs": [
    {
     "name": "stdout",
     "output_type": "stream",
     "text": [
      "[0. 1. 0. 0. 0. 0. 0. 1. 0. 0. 1. 1. 0. 0. 1. 0. 1. 0. 0. 0. 0. 0. 0. 0.\n",
      " 0. 0. 1. 1. 0. 0. 1. 0. 0. 0. 0. 1. 0. 1. 1. 0. 0. 0. 0. 0. 0. 0. 0. 0.\n",
      " 0. 0. 1. 1. 0. 0. 0. 1. 0. 0. 0. 1. 0. 0. 0. 0. 0. 0. 0. 1. 0. 0. 0. 0.\n",
      " 1. 0. 0. 0. 0. 1. 0. 1. 0. 0. 0. 0. 0. 1. 0. 0. 0. 0. 1. 0. 0. 0. 0. 1.\n",
      " 0. 0. 1. 0.]\n",
      "(1755,)\n"
     ]
    }
   ],
   "source": [
    "# train_test_split 분할을 통한 훈련, 검증, 테스트 데이터의 분리\n",
    "seed = 0\n",
    "# 90%: 분할대기(x_train_all), 10%: 테스트(x_test)\n",
    "x_train_all, x_test, y_train_all, y_test = train_test_split(X, Y,\n",
    "                                                  stratify=Y,\n",
    "                                                  test_size=0.1,\n",
    "                                                  random_state=seed)\n",
    "# 나머지 데이터 90%를 분할, 70%: 훈련(x_train), 30%: 검증(x_val)\n",
    "x_train, x_val, y_train, y_val = train_test_split(x_train_all, y_train_all,\n",
    "                                                  stratify=y_train_all,\n",
    "                                                  test_size=0.3,\n",
    "                                                  random_state=seed)\n",
    "\n",
    "print(y_val[0:100])\n",
    "print(y_val.shape)"
   ]
  },
  {
   "cell_type": "code",
   "execution_count": 9,
   "metadata": {},
   "outputs": [
    {
     "name": "stdout",
     "output_type": "stream",
     "text": [
      "Train on 4092 samples, validate on 1755 samples\n",
      "Epoch 1/1000\n",
      "3660/4092 [=========================>....] - ETA: 0s - loss: 0.2757 - accuracy: 0.8984\n",
      "Epoch 00001: val_accuracy improved from -inf to 0.93162, saving model to ./model/0001-0.9316.h5\n",
      "4092/4092 [==============================] - 1s 332us/sample - loss: 0.2708 - accuracy: 0.9020 - val_loss: 0.1962 - val_accuracy: 0.9316\n",
      "Epoch 2/1000\n",
      "3890/4092 [===========================>..] - ETA: 0s - loss: 0.2025 - accuracy: 0.9306\n",
      "Epoch 00002: val_accuracy improved from 0.93162 to 0.94017, saving model to ./model/0002-0.9402.h5\n",
      "4092/4092 [==============================] - 1s 192us/sample - loss: 0.2015 - accuracy: 0.9306 - val_loss: 0.1749 - val_accuracy: 0.9402\n",
      "Epoch 3/1000\n",
      "3910/4092 [===========================>..] - ETA: 0s - loss: 0.1902 - accuracy: 0.9355\n",
      "Epoch 00003: val_accuracy improved from 0.94017 to 0.95043, saving model to ./model/0003-0.9504.h5\n",
      "4092/4092 [==============================] - 1s 197us/sample - loss: 0.1902 - accuracy: 0.9355 - val_loss: 0.1603 - val_accuracy: 0.9504\n",
      "Epoch 4/1000\n",
      "4080/4092 [============================>.] - ETA: 0s - loss: 0.1668 - accuracy: 0.9429\n",
      "Epoch 00004: val_accuracy improved from 0.95043 to 0.95613, saving model to ./model/0004-0.9561.h5\n",
      "4092/4092 [==============================] - 1s 194us/sample - loss: 0.1666 - accuracy: 0.9431 - val_loss: 0.1305 - val_accuracy: 0.9561\n",
      "Epoch 5/1000\n",
      "3820/4092 [===========================>..] - ETA: 0s - loss: 0.1385 - accuracy: 0.9526\n",
      "Epoch 00005: val_accuracy improved from 0.95613 to 0.97037, saving model to ./model/0005-0.9704.h5\n",
      "4092/4092 [==============================] - 1s 182us/sample - loss: 0.1350 - accuracy: 0.9528 - val_loss: 0.1097 - val_accuracy: 0.9704\n",
      "Epoch 6/1000\n",
      "3830/4092 [===========================>..] - ETA: 0s - loss: 0.1313 - accuracy: 0.9533\n",
      "Epoch 00006: val_accuracy improved from 0.97037 to 0.97094, saving model to ./model/0006-0.9709.h5\n",
      "4092/4092 [==============================] - 1s 190us/sample - loss: 0.1303 - accuracy: 0.9528 - val_loss: 0.0967 - val_accuracy: 0.9709\n",
      "Epoch 7/1000\n",
      "3820/4092 [===========================>..] - ETA: 0s - loss: 0.1205 - accuracy: 0.9565\n",
      "Epoch 00007: val_accuracy did not improve from 0.97094\n",
      "4092/4092 [==============================] - 1s 176us/sample - loss: 0.1177 - accuracy: 0.9575 - val_loss: 0.1082 - val_accuracy: 0.9647\n",
      "Epoch 8/1000\n",
      "3830/4092 [===========================>..] - ETA: 0s - loss: 0.1044 - accuracy: 0.9668\n",
      "Epoch 00008: val_accuracy improved from 0.97094 to 0.97607, saving model to ./model/0008-0.9761.h5\n",
      "4092/4092 [==============================] - 1s 186us/sample - loss: 0.1036 - accuracy: 0.9673 - val_loss: 0.0785 - val_accuracy: 0.9761\n",
      "Epoch 9/1000\n",
      "3850/4092 [===========================>..] - ETA: 0s - loss: 0.0987 - accuracy: 0.9686\n",
      "Epoch 00009: val_accuracy did not improve from 0.97607\n",
      "4092/4092 [==============================] - 1s 179us/sample - loss: 0.0985 - accuracy: 0.9687 - val_loss: 0.0743 - val_accuracy: 0.9726\n",
      "Epoch 10/1000\n",
      "4000/4092 [============================>.] - ETA: 0s - loss: 0.0919 - accuracy: 0.9685\n",
      "Epoch 00010: val_accuracy did not improve from 0.97607\n",
      "4092/4092 [==============================] - 1s 184us/sample - loss: 0.0908 - accuracy: 0.9690 - val_loss: 0.0807 - val_accuracy: 0.9732\n",
      "Epoch 11/1000\n",
      "3860/4092 [===========================>..] - ETA: 0s - loss: 0.0883 - accuracy: 0.9699\n",
      "Epoch 00011: val_accuracy improved from 0.97607 to 0.97721, saving model to ./model/0011-0.9772.h5\n",
      "4092/4092 [==============================] - 1s 187us/sample - loss: 0.0874 - accuracy: 0.9707 - val_loss: 0.0727 - val_accuracy: 0.9772\n",
      "Epoch 12/1000\n",
      "4030/4092 [============================>.] - ETA: 0s - loss: 0.0837 - accuracy: 0.9717\n",
      "Epoch 00012: val_accuracy improved from 0.97721 to 0.97778, saving model to ./model/0012-0.9778.h5\n",
      "4092/4092 [==============================] - 1s 182us/sample - loss: 0.0841 - accuracy: 0.9717 - val_loss: 0.0651 - val_accuracy: 0.9778\n",
      "Epoch 13/1000\n",
      "4030/4092 [============================>.] - ETA: 0s - loss: 0.0823 - accuracy: 0.9737\n",
      "Epoch 00013: val_accuracy did not improve from 0.97778\n",
      "4092/4092 [==============================] - 1s 186us/sample - loss: 0.0827 - accuracy: 0.9736 - val_loss: 0.1361 - val_accuracy: 0.9516\n",
      "Epoch 14/1000\n",
      "3790/4092 [==========================>...] - ETA: 0s - loss: 0.0833 - accuracy: 0.9712\n",
      "Epoch 00014: val_accuracy improved from 0.97778 to 0.97949, saving model to ./model/0014-0.9795.h5\n",
      "4092/4092 [==============================] - 1s 185us/sample - loss: 0.0846 - accuracy: 0.9699 - val_loss: 0.0626 - val_accuracy: 0.9795\n",
      "Epoch 15/1000\n",
      "3760/4092 [==========================>...] - ETA: 0s - loss: 0.0703 - accuracy: 0.9763\n",
      "Epoch 00015: val_accuracy did not improve from 0.97949\n",
      "4092/4092 [==============================] - 1s 187us/sample - loss: 0.0750 - accuracy: 0.9758 - val_loss: 0.0716 - val_accuracy: 0.9795\n",
      "Epoch 16/1000\n",
      "3800/4092 [==========================>...] - ETA: 0s - loss: 0.0721 - accuracy: 0.9758\n",
      "Epoch 00016: val_accuracy did not improve from 0.97949\n",
      "4092/4092 [==============================] - 1s 176us/sample - loss: 0.0753 - accuracy: 0.9739 - val_loss: 0.3555 - val_accuracy: 0.8604\n",
      "Epoch 17/1000\n",
      "3710/4092 [==========================>...] - ETA: 0s - loss: 0.0780 - accuracy: 0.9755\n",
      "Epoch 00017: val_accuracy did not improve from 0.97949\n",
      "4092/4092 [==============================] - 1s 179us/sample - loss: 0.0795 - accuracy: 0.9743 - val_loss: 0.0824 - val_accuracy: 0.9749\n",
      "Epoch 18/1000\n",
      "4040/4092 [============================>.] - ETA: 0s - loss: 0.0696 - accuracy: 0.9780\n",
      "Epoch 00018: val_accuracy improved from 0.97949 to 0.98006, saving model to ./model/0018-0.9801.h5\n",
      "4092/4092 [==============================] - 1s 181us/sample - loss: 0.0697 - accuracy: 0.9778 - val_loss: 0.0615 - val_accuracy: 0.9801\n",
      "Epoch 19/1000\n",
      "3900/4092 [===========================>..] - ETA: 0s - loss: 0.0719 - accuracy: 0.9767\n",
      "Epoch 00019: val_accuracy did not improve from 0.98006\n",
      "4092/4092 [==============================] - 1s 179us/sample - loss: 0.0720 - accuracy: 0.9770 - val_loss: 0.0646 - val_accuracy: 0.9789\n",
      "Epoch 20/1000\n",
      "3710/4092 [==========================>...] - ETA: 0s - loss: 0.0647 - accuracy: 0.9795\n",
      "Epoch 00020: val_accuracy did not improve from 0.98006\n",
      "4092/4092 [==============================] - 1s 179us/sample - loss: 0.0729 - accuracy: 0.9775 - val_loss: 0.0744 - val_accuracy: 0.9778\n",
      "Epoch 21/1000\n",
      "3720/4092 [==========================>...] - ETA: 0s - loss: 0.0665 - accuracy: 0.9798\n",
      "Epoch 00021: val_accuracy improved from 0.98006 to 0.98234, saving model to ./model/0021-0.9823.h5\n",
      "4092/4092 [==============================] - 1s 182us/sample - loss: 0.0669 - accuracy: 0.9795 - val_loss: 0.0601 - val_accuracy: 0.9823\n",
      "Epoch 22/1000\n",
      "4080/4092 [============================>.] - ETA: 0s - loss: 0.0681 - accuracy: 0.9797\n",
      "Epoch 00022: val_accuracy did not improve from 0.98234\n",
      "4092/4092 [==============================] - 1s 178us/sample - loss: 0.0680 - accuracy: 0.9797 - val_loss: 0.0965 - val_accuracy: 0.9681\n",
      "Epoch 23/1000\n",
      "4070/4092 [============================>.] - ETA: 0s - loss: 0.0771 - accuracy: 0.9769\n",
      "Epoch 00023: val_accuracy did not improve from 0.98234\n",
      "4092/4092 [==============================] - 1s 178us/sample - loss: 0.0773 - accuracy: 0.9768 - val_loss: 0.0584 - val_accuracy: 0.9806\n",
      "Epoch 24/1000\n",
      "3760/4092 [==========================>...] - ETA: 0s - loss: 0.0731 - accuracy: 0.9795\n",
      "Epoch 00024: val_accuracy did not improve from 0.98234\n",
      "4092/4092 [==============================] - 1s 176us/sample - loss: 0.0740 - accuracy: 0.9795 - val_loss: 0.0637 - val_accuracy: 0.9806\n",
      "Epoch 25/1000\n",
      "3730/4092 [==========================>...] - ETA: 0s - loss: 0.0648 - accuracy: 0.9802\n",
      "Epoch 00025: val_accuracy did not improve from 0.98234\n",
      "4092/4092 [==============================] - 1s 181us/sample - loss: 0.0673 - accuracy: 0.9790 - val_loss: 0.1130 - val_accuracy: 0.9618\n",
      "Epoch 26/1000\n",
      "4020/4092 [============================>.] - ETA: 0s - loss: 0.0644 - accuracy: 0.9806\n",
      "Epoch 00026: val_accuracy did not improve from 0.98234\n",
      "4092/4092 [==============================] - 1s 176us/sample - loss: 0.0648 - accuracy: 0.9804 - val_loss: 0.0743 - val_accuracy: 0.9766\n",
      "Epoch 27/1000\n"
     ]
    },
    {
     "name": "stdout",
     "output_type": "stream",
     "text": [
      "3690/4092 [==========================>...] - ETA: 0s - loss: 0.0682 - accuracy: 0.9783\n",
      "Epoch 00027: val_accuracy did not improve from 0.98234\n",
      "4092/4092 [==============================] - 1s 179us/sample - loss: 0.0677 - accuracy: 0.9787 - val_loss: 0.0559 - val_accuracy: 0.9801\n",
      "Epoch 28/1000\n",
      "3700/4092 [==========================>...] - ETA: 0s - loss: 0.0686 - accuracy: 0.9814\n",
      "Epoch 00028: val_accuracy did not improve from 0.98234\n",
      "4092/4092 [==============================] - 1s 179us/sample - loss: 0.0657 - accuracy: 0.9819 - val_loss: 0.0536 - val_accuracy: 0.9823\n",
      "Epoch 29/1000\n",
      "3990/4092 [============================>.] - ETA: 0s - loss: 0.0622 - accuracy: 0.9807\n",
      "Epoch 00029: val_accuracy did not improve from 0.98234\n",
      "4092/4092 [==============================] - 1s 179us/sample - loss: 0.0613 - accuracy: 0.9809 - val_loss: 0.0727 - val_accuracy: 0.9766\n",
      "Epoch 30/1000\n",
      "4080/4092 [============================>.] - ETA: 0s - loss: 0.0604 - accuracy: 0.9826\n",
      "Epoch 00030: val_accuracy did not improve from 0.98234\n",
      "4092/4092 [==============================] - 1s 178us/sample - loss: 0.0603 - accuracy: 0.9826 - val_loss: 0.0628 - val_accuracy: 0.9801\n",
      "Epoch 31/1000\n",
      "3760/4092 [==========================>...] - ETA: 0s - loss: 0.0637 - accuracy: 0.9816\n",
      "Epoch 00031: val_accuracy did not improve from 0.98234\n",
      "4092/4092 [==============================] - 1s 176us/sample - loss: 0.0633 - accuracy: 0.9817 - val_loss: 0.0709 - val_accuracy: 0.9795\n",
      "Epoch 32/1000\n",
      "3740/4092 [==========================>...] - ETA: 0s - loss: 0.0598 - accuracy: 0.9802\n",
      "Epoch 00032: val_accuracy improved from 0.98234 to 0.98291, saving model to ./model/0032-0.9829.h5\n",
      "4092/4092 [==============================] - 1s 184us/sample - loss: 0.0603 - accuracy: 0.9812 - val_loss: 0.0528 - val_accuracy: 0.9829\n",
      "Epoch 33/1000\n",
      "4040/4092 [============================>.] - ETA: 0s - loss: 0.0535 - accuracy: 0.9847\n",
      "Epoch 00033: val_accuracy did not improve from 0.98291\n",
      "4092/4092 [==============================] - 1s 177us/sample - loss: 0.0550 - accuracy: 0.9844 - val_loss: 0.0642 - val_accuracy: 0.9783\n",
      "Epoch 34/1000\n",
      "4010/4092 [============================>.] - ETA: 0s - loss: 0.0630 - accuracy: 0.9808\n",
      "Epoch 00034: val_accuracy did not improve from 0.98291\n",
      "4092/4092 [==============================] - 1s 177us/sample - loss: 0.0626 - accuracy: 0.9807 - val_loss: 0.0657 - val_accuracy: 0.9806\n",
      "Epoch 35/1000\n",
      "3700/4092 [==========================>...] - ETA: 0s - loss: 0.0597 - accuracy: 0.9805\n",
      "Epoch 00035: val_accuracy did not improve from 0.98291\n",
      "4092/4092 [==============================] - 1s 179us/sample - loss: 0.0638 - accuracy: 0.9802 - val_loss: 0.0504 - val_accuracy: 0.9818\n",
      "Epoch 36/1000\n",
      "3730/4092 [==========================>...] - ETA: 0s - loss: 0.0566 - accuracy: 0.9834\n",
      "Epoch 00036: val_accuracy did not improve from 0.98291\n",
      "4092/4092 [==============================] - 1s 179us/sample - loss: 0.0572 - accuracy: 0.9826 - val_loss: 0.0491 - val_accuracy: 0.9823\n",
      "Epoch 37/1000\n",
      "3620/4092 [=========================>....] - ETA: 0s - loss: 0.0584 - accuracy: 0.9843\n",
      "Epoch 00037: val_accuracy did not improve from 0.98291\n",
      "4092/4092 [==============================] - 1s 174us/sample - loss: 0.0587 - accuracy: 0.9836 - val_loss: 0.0540 - val_accuracy: 0.9806\n",
      "Epoch 38/1000\n",
      "3800/4092 [==========================>...] - ETA: 0s - loss: 0.0523 - accuracy: 0.9850\n",
      "Epoch 00038: val_accuracy did not improve from 0.98291\n",
      "4092/4092 [==============================] - 1s 178us/sample - loss: 0.0565 - accuracy: 0.9844 - val_loss: 0.0582 - val_accuracy: 0.9812\n"
     ]
    }
   ],
   "source": [
    "model = Sequential()\n",
    "# model.add(Dense(60, input_dim=12, activation='relu'))\n",
    "model.add(Dense(64, input_shape=(12, ), activation='relu'))\n",
    "model.add(Dense(30, activation='relu')) \n",
    "model.add(Dense(10, activation='relu'))\n",
    "model.add(Dense(1, activation='sigmoid'))  # 출력: 1, 0 ~ 1\n",
    "\n",
    "model.compile(optimizer='adam', loss='binary_crossentropy',\n",
    "              metrics=['accuracy'])\n",
    "\n",
    "# 최소 오차 5번 나오면 자동 종료\n",
    "early_stopping = EarlyStopping(monitor='loss', patience=5)\n",
    "\n",
    "MODEL_DIR = './model/'\n",
    "if not os.path.exists(MODEL_DIR): # 폴더가 존재하지 않으면 생성\n",
    "    os.mkdir(MODEL_DIR)\n",
    "    \n",
    "modelpath='./model/{epoch:04d}-{val_accuracy:.4f}.h5'    \n",
    "# 검증 정확도가 개선되었을 때만 학습 모델 파일로 저장\n",
    "# filepath=modelpath: 파일이 저장되는 경로와 파일명\n",
    "# monitor='val_accuracy': 검증 정확도 기준으로 판단\n",
    "# verbose=1: 기록되는 파일 정보 출력\n",
    "# save_best_only=True: 검증 정확도가 개선되면 파일로 저장\n",
    "checkpointer = ModelCheckpoint(filepath=modelpath,\n",
    "                               monitor='val_accuracy',\n",
    "                               verbose=1, save_best_only=True)\n",
    "\n",
    "hist = model.fit(x_train, y_train, validation_data=(x_val, y_val),\n",
    "                 epochs=1000, batch_size=10, \n",
    "                 callbacks=[early_stopping, checkpointer])"
   ]
  },
  {
   "cell_type": "code",
   "execution_count": 10,
   "metadata": {},
   "outputs": [
    {
     "data": {
      "image/png": "[encoded data removed]",
      "text/plain": [
       "<Figure size 720x360 with 2 Axes>"
      ]
     },
     "metadata": {
      "needs_background": "light"
     },
     "output_type": "display_data"
    }
   ],
   "source": [
    "import matplotlib.pyplot as plt\n",
    "%matplotlib inline \n",
    "\n",
    "fig, loss_ax = plt.subplots()\n",
    "# plt.figure(figsize=(6,4)) # ERROR\n",
    "fig.set_size_inches(10, 5)  # 챠트 크기 설정\n",
    "\n",
    "acc_ax = loss_ax.twinx()   # 오른쪽 y 축 설정\n",
    "\n",
    "# 왼쪽 y 축 설정\n",
    "loss_ax.plot(hist.history['loss'], 'y', label='train loss')\n",
    "loss_ax.plot(hist.history['val_loss'], 'r', label='val loss')\n",
    "loss_ax.set_ylim([0.0, 0.3]) # 값을 반영하여 변경\n",
    "\n",
    "# 오른쪽 y 축 설정\n",
    "acc_ax.plot(hist.history['accuracy'], 'b', label='train accuracy')\n",
    "acc_ax.plot(hist.history['val_accuracy'], 'g', label='val accuracy')\n",
    "acc_ax.set_ylim([0.0, 1]) # 0.0, 1: 0 ~ 100 %, 정확도임으로 변경하지 않음\n",
    "\n",
    "# 축 레이블 설정\n",
    "loss_ax.set_xlabel('epoch')  # 학습 횟수\n",
    "loss_ax.set_ylabel('loss')   # 오차\n",
    "acc_ax.set_ylabel('accuracy') # 정확도\n",
    "\n",
    "loss_ax.legend(loc='upper left') # 오차 레이블 위치\n",
    "acc_ax.legend(loc='lower left')  # 정확도 레이블 위치\n",
    "\n",
    "plt.show()"
   ]
  },
  {
   "cell_type": "code",
   "execution_count": 11,
   "metadata": {},
   "outputs": [
    {
     "name": "stdout",
     "output_type": "stream",
     "text": [
      "손실값: 0.034600399754400914 /정확도: 99.38461780548096 %\n"
     ]
    }
   ],
   "source": [
    "test_loss, test_acc = model.evaluate(x_test, y_test, batch_size=1, verbose=0)\n",
    "print('손실값:', test_loss, '/정확도:', (test_acc*100), '%')"
   ]
  },
  {
   "cell_type": "code",
   "execution_count": 12,
   "metadata": {},
   "outputs": [],
   "source": [
    "model.save('./Wine2.h5')"
   ]
  },
  {
   "cell_type": "code",
   "execution_count": 13,
   "metadata": {},
   "outputs": [],
   "source": [
    "model = load_model('./Wine2.h5')"
   ]
  },
  {
   "cell_type": "code",
   "execution_count": 14,
   "metadata": {},
   "outputs": [
    {
     "name": "stdout",
     "output_type": "stream",
     "text": [
      "실제값: 0.0, 예측값: [0.00081259]--> White 와인\n",
      "실제값: 0.0, 예측값: [0.00069383]--> White 와인\n",
      "실제값: 0.0, 예측값: [0.00314051]--> White 와인\n",
      "실제값: 0.0, 예측값: [0.00048438]--> White 와인\n",
      "실제값: 1.0, 예측값: [0.01800719]--> White 와인\n",
      "실제값: 0.0, 예측값: [0.00752944]--> White 와인\n",
      "실제값: 0.0, 예측값: [0.00501248]--> White 와인\n",
      "실제값: 0.0, 예측값: [0.00149179]--> White 와인\n",
      "실제값: 0.0, 예측값: [0.01883116]--> White 와인\n",
      "실제값: 0.0, 예측값: [0.00124714]--> White 와인\n",
      "실제값: 1.0, 예측값: [0.99999034]--> Red 와인\n",
      "실제값: 0.0, 예측값: [0.00307524]--> White 와인\n",
      "실제값: 1.0, 예측값: [1.]--> Red 와인\n",
      "실제값: 1.0, 예측값: [0.9999404]--> Red 와인\n",
      "실제값: 1.0, 예측값: [0.99765503]--> Red 와인\n",
      "실제값: 0.0, 예측값: [0.00104678]--> White 와인\n",
      "실제값: 0.0, 예측값: [0.00889418]--> White 와인\n",
      "실제값: 0.0, 예측값: [0.00666332]--> White 와인\n",
      "실제값: 1.0, 예측값: [0.6745974]--> Red 와인\n",
      "실제값: 0.0, 예측값: [0.00023252]--> White 와인\n",
      "실제값: 0.0, 예측값: [0.00156036]--> White 와인\n",
      "실제값: 0.0, 예측값: [0.00167978]--> White 와인\n",
      "실제값: 1.0, 예측값: [0.99999714]--> Red 와인\n",
      "실제값: 1.0, 예측값: [0.9999732]--> Red 와인\n",
      "실제값: 0.0, 예측값: [0.00118765]--> White 와인\n",
      "실제값: 0.0, 예측값: [0.03681147]--> White 와인\n",
      "실제값: 0.0, 예측값: [0.00158763]--> White 와인\n",
      "실제값: 0.0, 예측값: [0.00152498]--> White 와인\n",
      "실제값: 1.0, 예측값: [0.9999989]--> Red 와인\n",
      "실제값: 0.0, 예측값: [0.00199893]--> White 와인\n",
      "실제값: 1.0, 예측값: [0.9996378]--> Red 와인\n",
      "실제값: 0.0, 예측값: [0.00183669]--> White 와인\n",
      "실제값: 1.0, 예측값: [0.99997956]--> Red 와인\n",
      "실제값: 0.0, 예측값: [0.00033325]--> White 와인\n",
      "실제값: 1.0, 예측값: [0.9997456]--> Red 와인\n",
      "실제값: 1.0, 예측값: [0.9999797]--> Red 와인\n",
      "실제값: 1.0, 예측값: [0.9999536]--> Red 와인\n",
      "실제값: 0.0, 예측값: [0.00566244]--> White 와인\n",
      "실제값: 0.0, 예측값: [0.00261301]--> White 와인\n",
      "실제값: 0.0, 예측값: [0.00778881]--> White 와인\n",
      "실제값: 0.0, 예측값: [0.00096968]--> White 와인\n",
      "실제값: 0.0, 예측값: [0.00623012]--> White 와인\n",
      "실제값: 0.0, 예측값: [0.00165042]--> White 와인\n",
      "실제값: 0.0, 예측값: [0.00253934]--> White 와인\n",
      "실제값: 0.0, 예측값: [0.00102407]--> White 와인\n",
      "실제값: 1.0, 예측값: [0.96977305]--> Red 와인\n",
      "실제값: 0.0, 예측값: [0.00245193]--> White 와인\n",
      "실제값: 0.0, 예측값: [0.00492874]--> White 와인\n",
      "실제값: 1.0, 예측값: [0.9999987]--> Red 와인\n",
      "실제값: 0.0, 예측값: [0.00226283]--> White 와인\n",
      "실제값: 0.0, 예측값: [0.00069582]--> White 와인\n",
      "실제값: 0.0, 예측값: [0.0036284]--> White 와인\n",
      "실제값: 0.0, 예측값: [0.00243711]--> White 와인\n",
      "실제값: 0.0, 예측값: [0.01256552]--> White 와인\n",
      "실제값: 0.0, 예측값: [0.0029673]--> White 와인\n",
      "실제값: 1.0, 예측값: [0.9989262]--> Red 와인\n",
      "실제값: 0.0, 예측값: [0.00397438]--> White 와인\n",
      "실제값: 1.0, 예측값: [0.99999785]--> Red 와인\n",
      "실제값: 1.0, 예측값: [0.9999708]--> Red 와인\n",
      "실제값: 0.0, 예측값: [0.00130871]--> White 와인\n",
      "실제값: 0.0, 예측값: [0.00020507]--> White 와인\n",
      "실제값: 0.0, 예측값: [0.00015134]--> White 와인\n",
      "실제값: 0.0, 예측값: [0.00142637]--> White 와인\n",
      "실제값: 0.0, 예측값: [0.00516614]--> White 와인\n",
      "실제값: 0.0, 예측값: [0.00113159]--> White 와인\n",
      "실제값: 1.0, 예측값: [0.9999992]--> Red 와인\n",
      "실제값: 0.0, 예측값: [0.00282699]--> White 와인\n",
      "실제값: 1.0, 예측값: [0.8673136]--> Red 와인\n",
      "실제값: 0.0, 예측값: [0.00047591]--> White 와인\n",
      "실제값: 0.0, 예측값: [0.00171441]--> White 와인\n",
      "실제값: 0.0, 예측값: [0.00210682]--> White 와인\n",
      "실제값: 1.0, 예측값: [0.9990049]--> Red 와인\n",
      "실제값: 1.0, 예측값: [0.96041274]--> Red 와인\n",
      "실제값: 1.0, 예측값: [0.98239106]--> Red 와인\n",
      "실제값: 0.0, 예측값: [0.00166979]--> White 와인\n",
      "실제값: 0.0, 예측값: [0.00247189]--> White 와인\n",
      "실제값: 0.0, 예측값: [0.00317901]--> White 와인\n",
      "실제값: 0.0, 예측값: [0.0001941]--> White 와인\n",
      "실제값: 0.0, 예측값: [0.00711399]--> White 와인\n",
      "실제값: 0.0, 예측값: [0.00023946]--> White 와인\n",
      "실제값: 0.0, 예측값: [0.00136146]--> White 와인\n",
      "실제값: 0.0, 예측값: [0.00464341]--> White 와인\n",
      "실제값: 0.0, 예측값: [0.00109744]--> White 와인\n",
      "실제값: 0.0, 예측값: [0.00504422]--> White 와인\n",
      "실제값: 0.0, 예측값: [0.0055488]--> White 와인\n",
      "실제값: 0.0, 예측값: [0.0016486]--> White 와인\n",
      "실제값: 0.0, 예측값: [0.0007948]--> White 와인\n",
      "실제값: 0.0, 예측값: [0.0028078]--> White 와인\n",
      "실제값: 1.0, 예측값: [0.99986875]--> Red 와인\n",
      "실제값: 1.0, 예측값: [0.9999342]--> Red 와인\n",
      "실제값: 0.0, 예측값: [0.00247538]--> White 와인\n",
      "실제값: 1.0, 예측값: [0.9999999]--> Red 와인\n",
      "실제값: 0.0, 예측값: [0.00235999]--> White 와인\n",
      "실제값: 1.0, 예측값: [0.99999875]--> Red 와인\n",
      "실제값: 0.0, 예측값: [0.00936234]--> White 와인\n",
      "실제값: 0.0, 예측값: [0.00248662]--> White 와인\n",
      "실제값: 0.0, 예측값: [0.00399272]--> White 와인\n",
      "실제값: 1.0, 예측값: [0.9980444]--> Red 와인\n",
      "실제값: 0.0, 예측값: [0.0014228]--> White 와인\n",
      "실제값: 0.0, 예측값: [0.00600046]--> White 와인\n"
     ]
    }
   ],
   "source": [
    "pd = model.predict(x_test[0:100])\n",
    "\n",
    "for i in range(len(x_test[0:100])):\n",
    "    fmt = '실제값: {0}, 예측값: {1}'\n",
    "    print(fmt.format(y_test[i], pd[i]), end='')\n",
    "    \n",
    "    if (pd[i] >= 0.5): # 임계값의 지정, 정확도를 참고하여 판단\n",
    "    # if (pd[i] >= 0.01):\n",
    "        print('--> Red 와인')   # 1\n",
    "    else:\n",
    "        print('--> White 와인') # 0"
   ]
  },
  {
   "cell_type": "code",
   "execution_count": 15,
   "metadata": {},
   "outputs": [
    {
     "name": "stdout",
     "output_type": "stream",
     "text": [
      "Red wine: 160\n",
      "White wine: 490\n"
     ]
    }
   ],
   "source": [
    "red = 0\n",
    "white = 0\n",
    "for i in range(len(y_test)):\n",
    "    if y_test[i] == 1:  # red wine 인지 검사\n",
    "        red = red + 1\n",
    "    else:\n",
    "        white = white + 1\n",
    "\n",
    "print('Red wine:', red)\n",
    "print('White wine:', white)"
   ]
  },
  {
   "cell_type": "code",
   "execution_count": 20,
   "metadata": {},
   "outputs": [
    {
     "name": "stdout",
     "output_type": "stream",
     "text": [
      "(650, 12)\n",
      "[[490   0]\n",
      " [  4 156]]\n"
     ]
    }
   ],
   "source": [
    "# 결과 - 혼돈 행렬\n",
    "print(x_test.shape)\n",
    "y_test_pred = model.predict_classes(x_test)\n",
    "c_matrix = confusion_matrix(y_test, y_test_pred) # 실제값, 예측값\n",
    "print(c_matrix)"
   ]
  },
  {
   "cell_type": "code",
   "execution_count": 21,
   "metadata": {},
   "outputs": [
    {
     "data": {
      "image/png": "[encoded data removed]",
      "text/plain": [
       "<Figure size 432x288 with 1 Axes>"
      ]
     },
     "metadata": {
      "needs_background": "light"
     },
     "output_type": "display_data"
    },
    {
     "data": {
      "text/plain": [
       "<Figure size 432x288 with 0 Axes>"
      ]
     },
     "metadata": {},
     "output_type": "display_data"
    }
   ],
   "source": [
    "ax = sb.heatmap(c_matrix, annot=True, \n",
    "                 xticklabels=['White', 'Red'], \n",
    "                 yticklabels=['White', 'Red'], cbar=False, cmap='Blues')\n",
    "ax.set_xlabel(\"Prediction\")\n",
    "ax.set_ylabel(\"Actual\")\n",
    "plt.show()\n",
    "plt.clf()\n",
    "# [[white wine 맞춘 갯수   white wine 틀린 갯수]\n",
    "#  [red wine 틀린 갯수 red wine 맞춘 갯수]]\n",
    "# 화이트 와인은 100% 맞췄다\n",
    "# 레드 와인은 4개 틀렸다\n",
    "# 이런 것을 confusion matrix라고 부름"
   ]
  },
  {
   "cell_type": "code",
   "execution_count": 22,
   "metadata": {},
   "outputs": [
    {
     "data": {
      "image/png": "[encoded data removed]",
      "text/plain": [
       "<Figure size 432x288 with 1 Axes>"
      ]
     },
     "metadata": {
      "needs_background": "light"
     },
     "output_type": "display_data"
    },
    {
     "data": {
      "text/plain": [
       "<Figure size 432x288 with 0 Axes>"
      ]
     },
     "metadata": {},
     "output_type": "display_data"
    }
   ],
   "source": [
    "# 결과 - ROC 곡선\n",
    "y_test_pred_probs = model.predict(x_test)\n",
    "FPR, TPR, _ = roc_curve(y_test, y_test_pred_probs)\n",
    "plt.plot(FPR, TPR)\n",
    "plt.plot([0,1],[0,1],'--', color='black') #diagonal line\n",
    "plt.title('ROC Curve')\n",
    "plt.xlabel('False Positive Rate')\n",
    "plt.ylabel('True Positive Rate')\n",
    "plt.show()\n",
    "plt.clf()"
   ]
  },
  {
   "cell_type": "code",
   "execution_count": null,
   "metadata": {},
   "outputs": [],
   "source": []
  },
  {
   "cell_type": "code",
   "execution_count": null,
   "metadata": {},
   "outputs": [],
   "source": []
  }
 ],
 "metadata": {
  "kernelspec": {
   "display_name": "machine",
   "language": "python",
   "name": "machine"
  },
  "language_info": {
   "codemirror_mode": {
    "name": "ipython",
    "version": 3
   },
   "file_extension": ".py",
   "mimetype": "text/x-python",
   "name": "python",
   "nbconvert_exporter": "python",
   "pygments_lexer": "ipython3",
   "version": "3.7.6"
  }
 },
 "nbformat": 4,
 "nbformat_minor": 2
}
