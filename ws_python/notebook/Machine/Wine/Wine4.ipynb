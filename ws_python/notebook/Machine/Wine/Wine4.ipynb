{
 "cells": [
  {
   "cell_type": "markdown",
   "metadata": {},
   "source": [
    "### Confusion Matrix"
   ]
  },
  {
   "cell_type": "code",
   "execution_count": 1,
   "metadata": {},
   "outputs": [
    {
     "data": {
      "application/javascript": [
       "IPython.notebook.set_autosave_interval(0)"
      ]
     },
     "metadata": {},
     "output_type": "display_data"
    },
    {
     "name": "stdout",
     "output_type": "stream",
     "text": [
      "Autosave disabled\n"
     ]
    }
   ],
   "source": [
    "%autosave 0\n",
    "import warnings\n",
    "warnings.filterwarnings(action='ignore')\n",
    "\n",
    "import os\n",
    "\n",
    "import numpy as np\n",
    "import pandas as pd\n",
    "import seaborn as sb\n",
    "\n",
    "from tensorflow.keras.models import Sequential  # class\n",
    "from tensorflow.keras.models import load_model  # model 사용\n",
    "from tensorflow.keras.layers import Dense       # 전결합\n",
    "from tensorflow.keras.layers import Dropout     # 특정 node를 사용안함.\n",
    "from tensorflow.keras.callbacks import EarlyStopping   # 학습 자동 중지\n",
    "from tensorflow.keras.callbacks import ModelCheckpoint # 우수한 학습 모델 파일 저장\n",
    "from tensorflow.keras import regularizers \n",
    "\n",
    "from sklearn.preprocessing import LabelEncoder\n",
    "from sklearn.model_selection import train_test_split # 학습셋과 테스트셋의 분리 지원\n",
    "from sklearn.model_selection import StratifiedKFold  # K겹 교차 검증\n",
    "from sklearn.metrics import confusion_matrix\n",
    "from sklearn.metrics import roc_curve\n",
    "\n",
    "import matplotlib.pyplot as plt\n",
    "\n",
    "from matplotlib import font_manager, rc\n",
    "\n",
    "font_name = font_manager.FontProperties(fname=\"C:/Windows/Fonts/malgun.ttf\").get_name()\n",
    "rc('font', family=font_name)           # 맑은 고딕 폰트 지정\n",
    "plt.rcParams[\"font.size\"] = 12         # 글자 크기\n",
    "# plt.rcParams[\"figure.figsize\"] = (10, 4) # 10:4의 그래프 비율\n",
    "plt.rcParams['axes.unicode_minus'] = False  # minus 부호는 unicode 적용시 한글이 깨짐으로 설정\n",
    "\n",
    "%matplotlib inline  "
   ]
  },
  {
   "cell_type": "code",
   "execution_count": 2,
   "metadata": {},
   "outputs": [
    {
     "name": "stdout",
     "output_type": "stream",
     "text": [
      "<class 'numpy.ndarray'>\n",
      "(6497, 13)\n"
     ]
    }
   ],
   "source": [
    "data = np.loadtxt('./wine.csv', delimiter=\",\", dtype=np.float64)\n",
    "print(type(data))\n",
    "print(data.shape)"
   ]
  },
  {
   "cell_type": "code",
   "execution_count": 3,
   "metadata": {},
   "outputs": [
    {
     "name": "stdout",
     "output_type": "stream",
     "text": [
      "(6497, 12)\n",
      "(6497,)\n"
     ]
    }
   ],
   "source": [
    "X = data[:, 0:12]\n",
    "print(X.shape)\n",
    "Y = data[:, 12]\n",
    "print(Y.shape)"
   ]
  },
  {
   "cell_type": "code",
   "execution_count": 4,
   "metadata": {},
   "outputs": [],
   "source": [
    "# 출력 결과가 Sigmoid이으로 학습안됨\n",
    "# red wine: 1 -> 11\n",
    "# white wine: 0 -> 10\n",
    "for i in range(len(Y)):\n",
    "    if Y[i] == 0:   # White wine\n",
    "        Y[i] = 10\n",
    "    else:\n",
    "        Y[i] = 11   # Red wine 이면"
   ]
  },
  {
   "cell_type": "code",
   "execution_count": 5,
   "metadata": {},
   "outputs": [],
   "source": [
    "# 0과 1을 바꿈\n",
    "# red wine: 11 -> 0\n",
    "# white wine: 10 -> 1\n",
    "for i in range(len(Y)):\n",
    "    if Y[i] == 11: # Red wine 이면\n",
    "        Y[i] = 0\n",
    "    else:\n",
    "        Y[i] = 1    # White wine"
   ]
  },
  {
   "cell_type": "code",
   "execution_count": 6,
   "metadata": {},
   "outputs": [
    {
     "name": "stdout",
     "output_type": "stream",
     "text": [
      "[1. 1. 1. 1. 1. 1. 0. 1. 1. 1. 1. 1. 1. 0. 1. 0. 1. 0. 1. 1. 0. 1. 0. 1.\n",
      " 0. 0. 1. 1. 1. 1. 1. 1. 1. 1. 0. 1. 0. 1. 1. 0. 1. 1. 0. 0. 1. 0. 1. 0.\n",
      " 1. 0. 1. 1. 1. 1. 0. 1. 0. 1. 1. 1. 1. 1. 1. 1. 0. 1. 1. 1. 1. 1. 1. 1.\n",
      " 1. 1. 1. 1. 1. 1. 0. 1. 1. 1. 1. 1. 1. 1. 1. 1. 1. 1. 1. 0. 0. 0. 1. 1.\n",
      " 1. 0. 1. 1.]\n",
      "(1755,)\n"
     ]
    }
   ],
   "source": [
    "# train_test_split 분할을 통한 훈련, 검증, 테스트 데이터의 분리\n",
    "seed = 0\n",
    "# 90%: 분할대기(x_train_all), 10%: 테스트(x_test)\n",
    "x_train_all, x_test, y_train_all, y_test = train_test_split(X, Y,\n",
    "                                                          stratify=Y,\n",
    "                                                          test_size=0.1,\n",
    "                                                          random_state=seed)\n",
    "# 나머지 데이터 90%를 분할, 70%: 훈련(x_train), 30%: 검증(x_val)\n",
    "x_train, x_val, y_train, y_val = train_test_split(x_train_all, y_train_all,\n",
    "                                                  stratify=y_train_all,\n",
    "                                                  test_size=0.3,\n",
    "                                                  random_state=seed)\n",
    "\n",
    "print(y_val[0:100])\n",
    "print(y_val.shape)"
   ]
  },
  {
   "cell_type": "code",
   "execution_count": 7,
   "metadata": {},
   "outputs": [
    {
     "name": "stdout",
     "output_type": "stream",
     "text": [
      "[1. 1. 1. 1. 1. 1. 1. 1. 1. 1.]\n",
      "(4092,)\n"
     ]
    }
   ],
   "source": [
    "print(y_train[0:10])\n",
    "print(y_train.shape)"
   ]
  },
  {
   "cell_type": "code",
   "execution_count": 8,
   "metadata": {},
   "outputs": [
    {
     "name": "stdout",
     "output_type": "stream",
     "text": [
      "[1. 1. 1. 1. 1. 1. 0. 1. 1. 1.]\n",
      "(1755,)\n"
     ]
    }
   ],
   "source": [
    "print(y_val[0:10])\n",
    "print(y_val.shape)"
   ]
  },
  {
   "cell_type": "code",
   "execution_count": 9,
   "metadata": {},
   "outputs": [
    {
     "name": "stdout",
     "output_type": "stream",
     "text": [
      "[1. 0. 1. 1. 1. 1. 1. 0. 0. 1.]\n",
      "(650,)\n"
     ]
    }
   ],
   "source": [
    "print(y_test[0:10])\n",
    "print(y_test.shape)"
   ]
  },
  {
   "cell_type": "code",
   "execution_count": 10,
   "metadata": {},
   "outputs": [
    {
     "name": "stdout",
     "output_type": "stream",
     "text": [
      "Train on 4092 samples, validate on 1755 samples\n",
      "Epoch 1/1000\n",
      "4092/4092 [==============================] - 2s 381us/sample - loss: 0.2138 - accuracy: 0.9279 - val_loss: 0.1971 - val_accuracy: 0.9254\n",
      "Epoch 2/1000\n",
      "4092/4092 [==============================] - 1s 187us/sample - loss: 0.1828 - accuracy: 0.9399 - val_loss: 0.1725 - val_accuracy: 0.9350\n",
      "Epoch 3/1000\n",
      "4092/4092 [==============================] - 1s 179us/sample - loss: 0.1488 - accuracy: 0.9489 - val_loss: 0.1535 - val_accuracy: 0.9333\n",
      "Epoch 4/1000\n",
      "4092/4092 [==============================] - 1s 184us/sample - loss: 0.1371 - accuracy: 0.9541 - val_loss: 0.1488 - val_accuracy: 0.9447\n",
      "Epoch 5/1000\n",
      "4092/4092 [==============================] - 1s 184us/sample - loss: 0.1231 - accuracy: 0.9609 - val_loss: 0.1326 - val_accuracy: 0.9419\n",
      "Epoch 6/1000\n",
      "4092/4092 [==============================] - 1s 183us/sample - loss: 0.1119 - accuracy: 0.9629 - val_loss: 0.1074 - val_accuracy: 0.9556\n",
      "Epoch 7/1000\n",
      "4092/4092 [==============================] - 1s 183us/sample - loss: 0.1068 - accuracy: 0.9624 - val_loss: 0.1262 - val_accuracy: 0.9584\n",
      "Epoch 8/1000\n",
      "4092/4092 [==============================] - 1s 184us/sample - loss: 0.0998 - accuracy: 0.9670 - val_loss: 0.1068 - val_accuracy: 0.9544\n",
      "Epoch 9/1000\n",
      "4092/4092 [==============================] - 1s 183us/sample - loss: 0.0930 - accuracy: 0.9702 - val_loss: 0.0907 - val_accuracy: 0.9709\n",
      "Epoch 10/1000\n",
      "4092/4092 [==============================] - 1s 191us/sample - loss: 0.0872 - accuracy: 0.9719 - val_loss: 0.0804 - val_accuracy: 0.9704\n",
      "Epoch 11/1000\n",
      "4092/4092 [==============================] - 1s 183us/sample - loss: 0.0902 - accuracy: 0.9734 - val_loss: 0.0879 - val_accuracy: 0.9670\n",
      "Epoch 12/1000\n",
      "4092/4092 [==============================] - 1s 184us/sample - loss: 0.0769 - accuracy: 0.9763 - val_loss: 0.0755 - val_accuracy: 0.9732\n",
      "Epoch 13/1000\n",
      "4092/4092 [==============================] - 1s 182us/sample - loss: 0.0743 - accuracy: 0.9763 - val_loss: 0.1203 - val_accuracy: 0.9670\n",
      "Epoch 14/1000\n",
      "4092/4092 [==============================] - 1s 181us/sample - loss: 0.0701 - accuracy: 0.9790 - val_loss: 0.0760 - val_accuracy: 0.9755\n",
      "Epoch 15/1000\n",
      "4092/4092 [==============================] - 1s 184us/sample - loss: 0.0786 - accuracy: 0.9748 - val_loss: 0.0788 - val_accuracy: 0.9732\n",
      "Epoch 16/1000\n",
      "4092/4092 [==============================] - 1s 176us/sample - loss: 0.0791 - accuracy: 0.9729 - val_loss: 0.0704 - val_accuracy: 0.9738\n"
     ]
    }
   ],
   "source": [
    "model = Sequential()\n",
    "# model.add(Dense(64, input_dim=12, activation='linear')) # 첫번째 은닉층\n",
    "model.add(Dense(64, input_shape=(12, ), activation='relu')) # 첫번째 은닉층\n",
    "model.add(Dense(30, activation='relu'))\n",
    "model.add(Dense(10, activation='relu'))\n",
    "model.add(Dense(1, activation='sigmoid')) # 출력층, 입력: 10, 출력 1\n",
    "\n",
    "model.compile(optimizer='adam', loss='binary_crossentropy',\n",
    "              metrics=['accuracy'])\n",
    "\n",
    "# 최소 오차 5번 나오면 자동 종료\n",
    "early_stopping = EarlyStopping(monitor='loss', patience=2)\n",
    "\n",
    "\n",
    "# 학습\n",
    "hist = model.fit(x_train, y_train, validation_data=(x_val, y_val),\n",
    "                 epochs=1000, \n",
    "                 batch_size=10, callbacks=[early_stopping])"
   ]
  },
  {
   "cell_type": "code",
   "execution_count": 11,
   "metadata": {},
   "outputs": [
    {
     "data": {
      "image/png": "[encoded data removed]",
      "text/plain": [
       "<Figure size 720x360 with 2 Axes>"
      ]
     },
     "metadata": {
      "needs_background": "light"
     },
     "output_type": "display_data"
    }
   ],
   "source": [
    "import matplotlib.pyplot as plt\n",
    "%matplotlib inline  \n",
    "\n",
    "fig, loss_ax = plt.subplots()\n",
    "# plt.figure(figsize=(6,4)) # ERROR\n",
    "fig.set_size_inches(10, 5)  # 챠트 크기 설정\n",
    "\n",
    "acc_ax = loss_ax.twinx()  # 오른쪽 y 출 설정\n",
    "\n",
    "# 왼쪽 y 축 설정\n",
    "loss_ax.plot(hist.history['loss'], 'y', label='train loss')\n",
    "loss_ax.plot(hist.history['val_loss'], 'r', label='val loss')\n",
    "loss_ax.set_ylim([0.0, 0.3419]) # 값을 반영하여 변경\n",
    "\n",
    "# 오른쪽 y 축 설정\n",
    "acc_ax.plot(hist.history['accuracy'], 'b', label='train accuracy')\n",
    "acc_ax.plot(hist.history['val_accuracy'], 'g', label='val accuracy')\n",
    "acc_ax.set_ylim([0.0, 1]) # 0.0, 1: 0 ~ 100 %, 정확도임으로 변경하지 않음\n",
    "\n",
    "# 축 레이블 설정\n",
    "loss_ax.set_xlabel('epoch')  # 학습 횟수\n",
    "loss_ax.set_ylabel('loss')   # 오차\n",
    "acc_ax.set_ylabel('accuracy') # 정확도\n",
    "\n",
    "loss_ax.legend(loc='upper left') # 오차 레이블 위치\n",
    "acc_ax.legend(loc='lower left')  # 정확도 레이블 위치\n",
    "\n",
    "plt.show()"
   ]
  },
  {
   "cell_type": "code",
   "execution_count": 12,
   "metadata": {},
   "outputs": [
    {
     "name": "stdout",
     "output_type": "stream",
     "text": [
      "Model: \"sequential\"\n",
      "_________________________________________________________________\n",
      "Layer (type)                 Output Shape              Param #   \n",
      "=================================================================\n",
      "dense (Dense)                (None, 64)                832       \n",
      "_________________________________________________________________\n",
      "dense_1 (Dense)              (None, 30)                1950      \n",
      "_________________________________________________________________\n",
      "dense_2 (Dense)              (None, 10)                310       \n",
      "_________________________________________________________________\n",
      "dense_3 (Dense)              (None, 1)                 11        \n",
      "=================================================================\n",
      "Total params: 3,103\n",
      "Trainable params: 3,103\n",
      "Non-trainable params: 0\n",
      "_________________________________________________________________\n"
     ]
    }
   ],
   "source": [
    "model.summary()"
   ]
  },
  {
   "cell_type": "code",
   "execution_count": 13,
   "metadata": {},
   "outputs": [
    {
     "name": "stdout",
     "output_type": "stream",
     "text": [
      "손실값: 0.06939548890467738 /정확도: 98.46153855323792 %\n"
     ]
    }
   ],
   "source": [
    "test_loss, test_acc = model.evaluate(x_test, y_test, batch_size=1, verbose=0)\n",
    "print('손실값:', test_loss, '/정확도:', (test_acc*100), '%')"
   ]
  },
  {
   "cell_type": "code",
   "execution_count": 14,
   "metadata": {},
   "outputs": [],
   "source": [
    "model.save('./Wine2.h5')"
   ]
  },
  {
   "cell_type": "code",
   "execution_count": 15,
   "metadata": {},
   "outputs": [
    {
     "name": "stdout",
     "output_type": "stream",
     "text": [
      "실제값: 1.0, 예측값: [0.99124014]--> White 와인\n",
      "실제값: 0.0, 예측값: [0.0092383]--> Red 와인\n",
      "실제값: 1.0, 예측값: [0.99626887]--> White 와인\n",
      "실제값: 1.0, 예측값: [0.9997046]--> White 와인\n",
      "실제값: 1.0, 예측값: [0.99605876]--> White 와인\n",
      "실제값: 1.0, 예측값: [0.9999657]--> White 와인\n",
      "실제값: 1.0, 예측값: [0.9938969]--> White 와인\n",
      "실제값: 0.0, 예측값: [0.00036958]--> Red 와인\n",
      "실제값: 0.0, 예측값: [0.00217068]--> Red 와인\n",
      "실제값: 1.0, 예측값: [0.99003077]--> White 와인\n",
      "실제값: 1.0, 예측값: [0.99991757]--> White 와인\n",
      "실제값: 0.0, 예측값: [0.00043881]--> Red 와인\n",
      "실제값: 1.0, 예측값: [0.9999927]--> White 와인\n",
      "실제값: 1.0, 예측값: [0.9999964]--> White 와인\n",
      "실제값: 1.0, 예측값: [0.99998236]--> White 와인\n",
      "실제값: 1.0, 예측값: [0.999964]--> White 와인\n",
      "실제값: 0.0, 예측값: [0.00088057]--> Red 와인\n",
      "실제값: 1.0, 예측값: [0.9961902]--> White 와인\n",
      "실제값: 1.0, 예측값: [0.9987205]--> White 와인\n",
      "실제값: 1.0, 예측값: [0.74951744]--> White 와인\n",
      "실제값: 1.0, 예측값: [0.9746609]--> White 와인\n",
      "실제값: 1.0, 예측값: [0.91428953]--> White 와인\n",
      "실제값: 1.0, 예측값: [0.95211446]--> White 와인\n",
      "실제값: 1.0, 예측값: [0.9989346]--> White 와인\n",
      "실제값: 1.0, 예측값: [0.9968254]--> White 와인\n",
      "실제값: 1.0, 예측값: [0.9999552]--> White 와인\n",
      "실제값: 0.0, 예측값: [0.9008766]--> White 와인\n",
      "실제값: 1.0, 예측값: [0.9938915]--> White 와인\n",
      "실제값: 1.0, 예측값: [0.99933636]--> White 와인\n",
      "실제값: 1.0, 예측값: [0.99997437]--> White 와인\n",
      "실제값: 1.0, 예측값: [0.9998044]--> White 와인\n",
      "실제값: 0.0, 예측값: [0.00386357]--> Red 와인\n",
      "실제값: 1.0, 예측값: [0.99784577]--> White 와인\n",
      "실제값: 1.0, 예측값: [0.9998702]--> White 와인\n",
      "실제값: 1.0, 예측값: [0.99926424]--> White 와인\n",
      "실제값: 1.0, 예측값: [0.99829686]--> White 와인\n",
      "실제값: 1.0, 예측값: [0.9957894]--> White 와인\n",
      "실제값: 1.0, 예측값: [0.9963367]--> White 와인\n",
      "실제값: 1.0, 예측값: [0.9979949]--> White 와인\n",
      "실제값: 1.0, 예측값: [0.9988947]--> White 와인\n",
      "실제값: 0.0, 예측값: [0.00022569]--> Red 와인\n",
      "실제값: 1.0, 예측값: [0.99537206]--> White 와인\n",
      "실제값: 1.0, 예측값: [0.8885633]--> White 와인\n",
      "실제값: 1.0, 예측값: [0.99814296]--> White 와인\n",
      "실제값: 1.0, 예측값: [0.9996554]--> White 와인\n",
      "실제값: 1.0, 예측값: [0.99944484]--> White 와인\n",
      "실제값: 1.0, 예측값: [0.99996436]--> White 와인\n",
      "실제값: 1.0, 예측값: [0.9995947]--> White 와인\n",
      "실제값: 1.0, 예측값: [0.99779814]--> White 와인\n",
      "실제값: 1.0, 예측값: [0.99824345]--> White 와인\n",
      "실제값: 1.0, 예측값: [0.9869493]--> White 와인\n",
      "실제값: 1.0, 예측값: [0.9934859]--> White 와인\n",
      "실제값: 0.0, 예측값: [0.27856916]--> Red 와인\n",
      "실제값: 1.0, 예측값: [0.999471]--> White 와인\n",
      "실제값: 0.0, 예측값: [0.00063789]--> Red 와인\n",
      "실제값: 1.0, 예측값: [0.99861306]--> White 와인\n",
      "실제값: 1.0, 예측값: [0.99944484]--> White 와인\n",
      "실제값: 1.0, 예측값: [0.99346155]--> White 와인\n",
      "실제값: 1.0, 예측값: [0.9999627]--> White 와인\n",
      "실제값: 1.0, 예측값: [0.9899167]--> White 와인\n",
      "실제값: 1.0, 예측값: [0.9955298]--> White 와인\n",
      "실제값: 1.0, 예측값: [0.47722548]--> Red 와인\n",
      "실제값: 0.0, 예측값: [0.00049415]--> Red 와인\n",
      "실제값: 1.0, 예측값: [0.99996775]--> White 와인\n",
      "실제값: 0.0, 예측값: [0.00564465]--> Red 와인\n",
      "실제값: 1.0, 예측값: [0.999622]--> White 와인\n",
      "실제값: 0.0, 예측값: [0.00130761]--> Red 와인\n",
      "실제값: 1.0, 예측값: [0.99968994]--> White 와인\n",
      "실제값: 0.0, 예측값: [0.00099349]--> Red 와인\n",
      "실제값: 1.0, 예측값: [0.9971739]--> White 와인\n",
      "실제값: 1.0, 예측값: [0.99804723]--> White 와인\n",
      "실제값: 1.0, 예측값: [0.999365]--> White 와인\n",
      "실제값: 1.0, 예측값: [0.9991623]--> White 와인\n",
      "실제값: 1.0, 예측값: [0.99929553]--> White 와인\n",
      "실제값: 1.0, 예측값: [0.99993086]--> White 와인\n",
      "실제값: 1.0, 예측값: [0.9545639]--> White 와인\n",
      "실제값: 0.0, 예측값: [0.01412004]--> Red 와인\n",
      "실제값: 1.0, 예측값: [0.9997663]--> White 와인\n",
      "실제값: 0.0, 예측값: [0.63166285]--> White 와인\n",
      "실제값: 1.0, 예측값: [0.9988084]--> White 와인\n",
      "실제값: 1.0, 예측값: [0.99846745]--> White 와인\n",
      "실제값: 0.0, 예측값: [0.00264859]--> Red 와인\n",
      "실제값: 1.0, 예측값: [0.99987864]--> White 와인\n",
      "실제값: 0.0, 예측값: [0.01211315]--> Red 와인\n",
      "실제값: 1.0, 예측값: [0.9003836]--> White 와인\n",
      "실제값: 1.0, 예측값: [0.99910843]--> White 와인\n",
      "실제값: 0.0, 예측값: [6.106496e-05]--> Red 와인\n",
      "실제값: 1.0, 예측값: [0.99973756]--> White 와인\n",
      "실제값: 1.0, 예측값: [0.9981669]--> White 와인\n",
      "실제값: 1.0, 예측값: [0.9996121]--> White 와인\n",
      "실제값: 0.0, 예측값: [0.00050098]--> Red 와인\n",
      "실제값: 1.0, 예측값: [0.9994333]--> White 와인\n",
      "실제값: 1.0, 예측값: [0.9994002]--> White 와인\n",
      "실제값: 1.0, 예측값: [0.99948573]--> White 와인\n",
      "실제값: 1.0, 예측값: [0.9965092]--> White 와인\n",
      "실제값: 1.0, 예측값: [0.9953307]--> White 와인\n",
      "실제값: 0.0, 예측값: [0.00265624]--> Red 와인\n",
      "실제값: 1.0, 예측값: [0.9998859]--> White 와인\n",
      "실제값: 1.0, 예측값: [0.9990785]--> White 와인\n",
      "실제값: 1.0, 예측값: [0.99960786]--> White 와인\n"
     ]
    }
   ],
   "source": [
    "pd = model.predict(x_test[0:100])\n",
    "\n",
    "for i in range(len(x_test[0:100])):\n",
    "    fmt = '실제값: {0}, 예측값: {1}'\n",
    "    print(fmt.format(y_test[i], pd[i]), end='')\n",
    "    \n",
    "    if (pd[i] >= 0.5): # 임계값의 지정, 정확도를 참고하여 판단\n",
    "        print('--> White 와인')  # 1\n",
    "    else:\n",
    "        print('--> Red 와인')    # 0"
   ]
  },
  {
   "cell_type": "code",
   "execution_count": 19,
   "metadata": {},
   "outputs": [
    {
     "name": "stdout",
     "output_type": "stream",
     "text": [
      "Red wine 0: 160\n",
      "White wine 1: 490\n"
     ]
    }
   ],
   "source": [
    "red = 0\n",
    "white = 0\n",
    "for i in range(len(y_test)):\n",
    "    if y_test[i] == 1:  # White wine 인지 검사\n",
    "        white = white + 1\n",
    "    else:\n",
    "        red = red + 1\n",
    "\n",
    "print('Red wine 0:', red)\n",
    "print('White wine 1:', white)"
   ]
  },
  {
   "cell_type": "code",
   "execution_count": 22,
   "metadata": {},
   "outputs": [
    {
     "name": "stdout",
     "output_type": "stream",
     "text": [
      "(650, 12)\n",
      "[[151   9]\n",
      " [  1 489]]\n"
     ]
    }
   ],
   "source": [
    "# 결과 - 혼돈 행렬\n",
    "print(x_test.shape)\n",
    "y_test_pred = model.predict_classes(x_test)\n",
    "c_matrix = confusion_matrix(y_test, y_test_pred) # 실제값, 예측값\n",
    "print(c_matrix)"
   ]
  },
  {
   "cell_type": "code",
   "execution_count": 23,
   "metadata": {},
   "outputs": [
    {
     "data": {
      "image/png": "[encoded data removed]",
      "text/plain": [
       "<Figure size 432x288 with 1 Axes>"
      ]
     },
     "metadata": {
      "needs_background": "light"
     },
     "output_type": "display_data"
    },
    {
     "data": {
      "text/plain": [
       "<Figure size 432x288 with 0 Axes>"
      ]
     },
     "metadata": {},
     "output_type": "display_data"
    }
   ],
   "source": [
    "ax = sb.heatmap(c_matrix, annot=True, \n",
    "                 xticklabels=['White', 'Red'], \n",
    "                 yticklabels=['White', 'Red'], cbar=False, cmap='Blues')\n",
    "ax.set_xlabel(\"Prediction\")\n",
    "ax.set_ylabel(\"Actual\")\n",
    "plt.show()\n",
    "plt.clf()\n",
    "# [[white wine 맞춘 갯수   white wine 틀린 갯수]\n",
    "#  [red wine 틀린 갯수 red wine 맞춘 갯수]]"
   ]
  },
  {
   "cell_type": "code",
   "execution_count": 24,
   "metadata": {},
   "outputs": [
    {
     "data": {
      "image/png": "[encoded data removed]",
      "text/plain": [
       "<Figure size 432x288 with 1 Axes>"
      ]
     },
     "metadata": {
      "needs_background": "light"
     },
     "output_type": "display_data"
    },
    {
     "data": {
      "text/plain": [
       "<Figure size 432x288 with 0 Axes>"
      ]
     },
     "metadata": {},
     "output_type": "display_data"
    }
   ],
   "source": [
    "# 결과 - ROC 곡선\n",
    "y_test_pred_probs = model.predict(x_test)\n",
    "FPR, TPR, _ = roc_curve(y_test, y_test_pred_probs)\n",
    "plt.plot(FPR, TPR)\n",
    "plt.plot([0,1],[0,1],'--', color='black') #diagonal line\n",
    "plt.title('ROC Curve')\n",
    "plt.xlabel('False Positive Rate')\n",
    "plt.ylabel('True Positive Rate')\n",
    "plt.show()\n",
    "plt.clf()"
   ]
  },
  {
   "cell_type": "code",
   "execution_count": null,
   "metadata": {},
   "outputs": [],
   "source": []
  },
  {
   "cell_type": "code",
   "execution_count": null,
   "metadata": {},
   "outputs": [],
   "source": []
  }
 ],
 "metadata": {
  "kernelspec": {
   "display_name": "machine",
   "language": "python",
   "name": "machine"
  },
  "language_info": {
   "codemirror_mode": {
    "name": "ipython",
    "version": 3
   },
   "file_extension": ".py",
   "mimetype": "text/x-python",
   "name": "python",
   "nbconvert_exporter": "python",
   "pygments_lexer": "ipython3",
   "version": "3.7.6"
  }
 },
 "nbformat": 4,
 "nbformat_minor": 2
}
