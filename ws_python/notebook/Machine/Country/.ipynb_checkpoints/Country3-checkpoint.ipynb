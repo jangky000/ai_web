{
 "cells": [
  {
   "cell_type": "code",
   "execution_count": 1,
   "metadata": {},
   "outputs": [
    {
     "data": {
      "application/javascript": [
       "IPython.notebook.set_autosave_interval(0)"
      ]
     },
     "metadata": {},
     "output_type": "display_data"
    },
    {
     "name": "stdout",
     "output_type": "stream",
     "text": [
      "Autosave disabled\n"
     ]
    }
   ],
   "source": [
    "%autosave 0\n",
    "import numpy as np\n",
    "import matplotlib.pyplot as plt\n",
    "\n",
    "from tensorflow.keras.models import Sequential\n",
    "from tensorflow.keras.layers import Dense\n",
    "from tensorflow.keras.models import load_model\n",
    "\n",
    "from tensorflow.keras.callbacks import EarlyStopping"
   ]
  },
  {
   "cell_type": "code",
   "execution_count": 2,
   "metadata": {},
   "outputs": [
    {
     "name": "stdout",
     "output_type": "stream",
     "text": [
      "<class 'numpy.ndarray'>\n",
      "(100, 7)\n",
      "[[0.e+00 0.e+00 0.e+00 5.e+00 1.e+00 0.e+00 0.e+00]\n",
      " [1.e+00 0.e+00 1.e+00 6.e+00 1.e+00 0.e+00 1.e+00]\n",
      " [1.e+00 1.e+00 1.e+00 1.e+01 1.e+00 0.e+00 1.e+00]\n",
      " [0.e+00 0.e+00 0.e+00 1.e+01 1.e+00 0.e+00 0.e+00]\n",
      " [1.e+00 0.e+00 1.e+00 1.e+01 1.e+00 2.e+03 1.e+00]\n",
      " [1.e+00 0.e+00 0.e+00 0.e+00 0.e+00 1.e+03 0.e+00]\n",
      " [0.e+00 0.e+00 0.e+00 5.e+00 1.e+00 0.e+00 0.e+00]\n",
      " [1.e+00 0.e+00 1.e+00 6.e+00 1.e+00 0.e+00 1.e+00]\n",
      " [1.e+00 1.e+00 1.e+00 1.e+01 1.e+00 3.e+03 1.e+00]\n",
      " [1.e+00 0.e+00 1.e+00 2.e+00 1.e+00 1.e+03 0.e+00]\n",
      " [0.e+00 1.e+00 1.e+00 1.e+01 1.e+00 3.e+03 1.e+00]\n",
      " [1.e+00 0.e+00 1.e+00 1.e+01 1.e+00 3.e+03 1.e+00]\n",
      " [0.e+00 0.e+00 0.e+00 5.e+00 1.e+00 0.e+00 0.e+00]\n",
      " [1.e+00 0.e+00 1.e+00 6.e+00 1.e+00 0.e+00 1.e+00]\n",
      " [1.e+00 1.e+00 1.e+00 1.e+01 1.e+00 1.e+03 1.e+00]\n",
      " [0.e+00 0.e+00 0.e+00 1.e+01 1.e+00 1.e+03 0.e+00]\n",
      " [1.e+00 0.e+00 1.e+00 1.e+01 1.e+00 3.e+03 1.e+00]\n",
      " [1.e+00 1.e+00 0.e+00 1.e+01 1.e+00 3.e+03 1.e+00]\n",
      " [0.e+00 0.e+00 0.e+00 5.e+00 1.e+00 0.e+00 0.e+00]\n",
      " [1.e+00 0.e+00 1.e+00 6.e+00 1.e+00 0.e+00 1.e+00]\n",
      " [1.e+00 1.e+00 1.e+00 1.e+01 1.e+00 1.e+03 1.e+00]\n",
      " [1.e+00 0.e+00 0.e+00 3.e+00 0.e+00 1.e+03 0.e+00]\n",
      " [1.e+00 1.e+00 0.e+00 1.e+01 1.e+00 3.e+03 1.e+00]\n",
      " [1.e+00 1.e+00 1.e+00 1.e+01 1.e+00 2.e+03 1.e+00]\n",
      " [0.e+00 0.e+00 0.e+00 5.e+00 1.e+00 0.e+00 0.e+00]\n",
      " [1.e+00 0.e+00 1.e+00 6.e+00 1.e+00 0.e+00 1.e+00]\n",
      " [1.e+00 0.e+00 1.e+00 1.e+01 1.e+00 3.e+03 1.e+00]\n",
      " [1.e+00 1.e+00 0.e+00 7.e+00 1.e+00 0.e+00 0.e+00]\n",
      " [0.e+00 0.e+00 1.e+00 1.e+01 1.e+00 1.e+03 0.e+00]\n",
      " [1.e+00 1.e+00 1.e+00 1.e+01 1.e+00 3.e+03 1.e+00]\n",
      " [0.e+00 0.e+00 0.e+00 5.e+00 1.e+00 0.e+00 0.e+00]\n",
      " [1.e+00 0.e+00 1.e+00 6.e+00 1.e+00 0.e+00 1.e+00]\n",
      " [1.e+00 1.e+00 1.e+00 1.e+01 1.e+00 0.e+00 0.e+00]\n",
      " [1.e+00 1.e+00 1.e+00 1.e+01 1.e+00 0.e+00 1.e+00]\n",
      " [1.e+00 0.e+00 1.e+00 1.e+01 1.e+00 3.e+03 1.e+00]\n",
      " [1.e+00 0.e+00 0.e+00 0.e+00 0.e+00 1.e+03 0.e+00]\n",
      " [0.e+00 0.e+00 0.e+00 5.e+00 1.e+00 0.e+00 0.e+00]\n",
      " [1.e+00 0.e+00 1.e+00 6.e+00 1.e+00 0.e+00 1.e+00]\n",
      " [1.e+00 1.e+00 1.e+00 1.e+01 1.e+00 3.e+03 1.e+00]\n",
      " [1.e+00 0.e+00 1.e+00 2.e+00 1.e+00 3.e+03 0.e+00]\n",
      " [0.e+00 1.e+00 1.e+00 1.e+01 1.e+00 2.e+03 1.e+00]\n",
      " [1.e+00 0.e+00 1.e+00 8.e+00 1.e+00 1.e+03 1.e+00]\n",
      " [0.e+00 0.e+00 0.e+00 5.e+00 1.e+00 0.e+00 0.e+00]\n",
      " [1.e+00 0.e+00 1.e+00 6.e+00 1.e+00 0.e+00 1.e+00]\n",
      " [1.e+00 1.e+00 1.e+00 1.e+01 1.e+00 1.e+03 1.e+00]\n",
      " [0.e+00 0.e+00 0.e+00 1.e+01 1.e+00 1.e+03 0.e+00]\n",
      " [0.e+00 0.e+00 1.e+00 5.e+00 1.e+00 3.e+03 0.e+00]\n",
      " [1.e+00 1.e+00 0.e+00 1.e+01 1.e+00 3.e+03 1.e+00]\n",
      " [0.e+00 0.e+00 0.e+00 5.e+00 1.e+00 0.e+00 0.e+00]\n",
      " [1.e+00 0.e+00 1.e+00 6.e+00 1.e+00 0.e+00 1.e+00]\n",
      " [1.e+00 1.e+00 1.e+00 1.e+01 1.e+00 1.e+03 1.e+00]\n",
      " [0.e+00 1.e+00 1.e+00 3.e+00 0.e+00 1.e+03 0.e+00]\n",
      " [1.e+00 1.e+00 0.e+00 7.e+00 1.e+00 3.e+03 1.e+00]\n",
      " [1.e+00 1.e+00 1.e+00 7.e+00 1.e+00 2.e+03 1.e+00]\n",
      " [0.e+00 0.e+00 0.e+00 5.e+00 1.e+00 0.e+00 0.e+00]\n",
      " [1.e+00 0.e+00 1.e+00 6.e+00 1.e+00 0.e+00 1.e+00]\n",
      " [1.e+00 0.e+00 1.e+00 1.e+01 1.e+00 2.e+03 1.e+00]\n",
      " [1.e+00 1.e+00 0.e+00 7.e+00 1.e+00 0.e+00 0.e+00]\n",
      " [0.e+00 0.e+00 1.e+00 1.e+01 1.e+00 1.e+03 0.e+00]\n",
      " [1.e+00 1.e+00 1.e+00 1.e+01 1.e+00 3.e+03 1.e+00]\n",
      " [1.e+01 0.e+00 0.e+00 5.e+00 1.e+00 0.e+00 0.e+00]\n",
      " [1.e+00 0.e+00 1.e+00 6.e+00 1.e+00 0.e+00 1.e+00]\n",
      " [1.e+00 1.e+00 1.e+00 1.e+01 1.e+00 0.e+00 1.e+00]\n",
      " [1.e+00 1.e+00 1.e+00 1.e+01 1.e+00 0.e+00 1.e+00]\n",
      " [1.e+00 0.e+00 1.e+00 1.e+01 1.e+00 3.e+03 1.e+00]\n",
      " [1.e+00 0.e+00 0.e+00 0.e+00 0.e+00 3.e+03 0.e+00]\n",
      " [0.e+00 0.e+00 0.e+00 5.e+00 1.e+00 0.e+00 0.e+00]\n",
      " [1.e+00 0.e+00 1.e+00 6.e+00 1.e+00 0.e+00 1.e+00]\n",
      " [1.e+00 1.e+00 1.e+00 1.e+01 1.e+00 3.e+03 1.e+00]\n",
      " [1.e+00 0.e+00 1.e+00 2.e+00 1.e+00 1.e+03 0.e+00]\n",
      " [0.e+00 1.e+00 1.e+00 1.e+01 1.e+00 3.e+03 1.e+00]\n",
      " [1.e+00 0.e+00 1.e+00 1.e+01 1.e+00 3.e+03 1.e+00]\n",
      " [0.e+00 0.e+00 0.e+00 5.e+00 1.e+00 0.e+00 0.e+00]\n",
      " [1.e+00 0.e+00 1.e+00 6.e+00 1.e+00 0.e+00 1.e+00]\n",
      " [1.e+00 1.e+00 1.e+00 1.e+01 1.e+00 1.e+03 1.e+00]\n",
      " [0.e+00 0.e+00 0.e+00 5.e+00 1.e+00 1.e+03 0.e+00]\n",
      " [1.e+00 0.e+00 1.e+00 1.e+01 1.e+00 3.e+03 1.e+00]\n",
      " [1.e+00 1.e+00 0.e+00 1.e+01 1.e+00 3.e+03 1.e+00]\n",
      " [0.e+00 0.e+00 0.e+00 5.e+00 1.e+00 0.e+00 0.e+00]\n",
      " [1.e+00 0.e+00 1.e+00 6.e+00 1.e+00 0.e+00 1.e+00]\n",
      " [1.e+00 1.e+00 1.e+00 1.e+01 1.e+00 1.e+03 1.e+00]\n",
      " [1.e+00 1.e+00 1.e+00 1.e+01 0.e+00 1.e+03 1.e+00]\n",
      " [1.e+00 0.e+00 0.e+00 1.e+00 0.e+00 1.e+03 0.e+00]\n",
      " [1.e+00 1.e+00 1.e+00 1.e+01 1.e+00 2.e+03 1.e+00]\n",
      " [0.e+00 0.e+00 0.e+00 5.e+00 1.e+00 0.e+00 0.e+00]\n",
      " [1.e+00 0.e+00 1.e+00 6.e+00 1.e+00 0.e+00 1.e+00]\n",
      " [1.e+00 0.e+00 1.e+00 1.e+01 1.e+00 3.e+03 1.e+00]\n",
      " [1.e+00 1.e+00 0.e+00 5.e+00 1.e+00 0.e+00 0.e+00]\n",
      " [0.e+00 0.e+00 1.e+00 5.e+00 1.e+00 1.e+03 0.e+00]\n",
      " [1.e+00 1.e+00 1.e+00 1.e+01 1.e+00 3.e+03 1.e+00]\n",
      " [1.e+00 1.e+00 1.e+00 1.e+01 1.e+00 1.e+03 1.e+00]\n",
      " [0.e+00 0.e+00 1.e+00 5.e+00 0.e+00 1.e+03 0.e+00]\n",
      " [1.e+00 1.e+00 1.e+00 1.e+01 1.e+00 3.e+03 1.e+00]\n",
      " [1.e+00 1.e+00 1.e+00 1.e+01 1.e+00 2.e+03 1.e+00]\n",
      " [0.e+00 0.e+00 0.e+00 5.e+00 1.e+00 0.e+00 0.e+00]\n",
      " [1.e+00 0.e+00 1.e+00 6.e+00 1.e+00 0.e+00 1.e+00]\n",
      " [1.e+00 1.e+00 1.e+00 1.e+01 1.e+00 3.e+03 1.e+00]\n",
      " [1.e+00 1.e+00 0.e+00 7.e+00 1.e+00 0.e+00 0.e+00]\n",
      " [0.e+00 0.e+00 1.e+00 5.e+00 1.e+00 1.e+03 0.e+00]\n",
      " [1.e+00 1.e+00 1.e+00 1.e+01 1.e+00 3.e+03 1.e+00]]\n"
     ]
    }
   ],
   "source": [
    "# 데이터 준비\n",
    "data = np.loadtxt('./country1.csv', delimiter=',', dtype=np.float64)\n",
    "print(type(data))\n",
    "print(data.shape)\n",
    "print(data)"
   ]
  },
  {
   "cell_type": "code",
   "execution_count": 3,
   "metadata": {
    "scrolled": true
   },
   "outputs": [
    {
     "name": "stdout",
     "output_type": "stream",
     "text": [
      "(100, 7)\n",
      "(7, 100)\n",
      "[ 0.  1.  1.  0.  1.  1.  0.  1.  1.  1.  0.  1.  0.  1.  1.  0.  1.  1.\n",
      "  0.  1.  1.  1.  1.  1.  0.  1.  1.  1.  0.  1.  0.  1.  1.  1.  1.  1.\n",
      "  0.  1.  1.  1.  0.  1.  0.  1.  1.  0.  0.  1.  0.  1.  1.  0.  1.  1.\n",
      "  0.  1.  1.  1.  0.  1. 10.  1.  1.  1.  1.  1.  0.  1.  1.  1.  0.  1.\n",
      "  0.  1.  1.  0.  1.  1.  0.  1.  1.  1.  1.  1.  0.  1.  1.  1.  0.  1.\n",
      "  1.  0.  1.  1.  0.  1.  1.  1.  0.  1.]\n",
      "[0. 1. 1. 0. 1. 0. 0. 1. 1. 0. 1. 1. 0. 1. 1. 0. 1. 1. 0. 1. 1. 0. 1. 1.\n",
      " 0. 1. 1. 0. 0. 1. 0. 1. 0. 1. 1. 0. 0. 1. 1. 0. 1. 1. 0. 1. 1. 0. 0. 1.\n",
      " 0. 1. 1. 0. 1. 1. 0. 1. 1. 0. 0. 1. 0. 1. 1. 1. 1. 0. 0. 1. 1. 0. 1. 1.\n",
      " 0. 1. 1. 0. 1. 1. 0. 1. 1. 1. 0. 1. 0. 1. 1. 0. 0. 1. 1. 0. 1. 1. 0. 1.\n",
      " 1. 0. 0. 1.]\n"
     ]
    }
   ],
   "source": [
    "# 평균, 표준 편차의 산출시 행방향 기준이 아니라 열방향을 기준으로 산출해야함.\n",
    "# 성  명  Python Tensorflow\n",
    "# 왕눈이  90     80\n",
    "# 아로미  95     90\n",
    "# 투투    80     65\n",
    "# Python 과목의 평균과 표준편차는 열방향으로 구해야하나, \n",
    "# 일반적인 관측치 데이터는 행방향을 가지고 있음\n",
    "print(data.shape)\n",
    "datat = data.T # 열방향을 행방향으로 변경해야함, 전치 행렬.\n",
    "# print(datat)\n",
    "print(datat.shape)\n",
    "print(datat[0]) # 음주 횟수\n",
    "print(datat[6]) # class, 분류, 표준화 필요 없음."
   ]
  },
  {
   "cell_type": "code",
   "execution_count": 5,
   "metadata": {},
   "outputs": [
    {
     "name": "stdout",
     "output_type": "stream",
     "text": [
      "range(0, 7)\n",
      "range(0, 6)\n",
      "0 행 m: -3.8025138593411614e-17  std: 0.9999999999999996\n",
      "1 행 m: -4.4408920985006264e-17  std: 1.0\n",
      "2 행 m: -1.9984014443252817e-17  std: 0.9999999999999999\n",
      "3 행 m: -1.099120794378905e-16  std: 0.9999999999999997\n",
      "4 행 m: -1.5210055437364646e-16  std: 0.9999999999999998\n",
      "5 행 m: -4.440892098500626e-18  std: 0.9999999999999999\n"
     ]
    }
   ],
   "source": [
    "print(range(len(datat)))\n",
    "print(range(len(datat)-1))\n",
    "\n",
    "# 평균(m) 0, 분산 1, 표준편차: std\n",
    "def standardize(x):\n",
    "    return (x - m) / std \n",
    "\n",
    "# print(datat)\n",
    "ms = [] # 평균 목록, 테스트시 사용\n",
    "stds = [] # 표준편차 목록, 테스트시 사용\n",
    "for i in range(len(datat)-1):\n",
    "    # datat[i] = datat[i].astype('float32')\n",
    "    m = datat[i].mean()\n",
    "    std = datat[i].std()\n",
    "    datat[i] = standardize(datat[i]) # 표준화 실행\n",
    "    print(i, '행 ''m:', m, ' std:', std)\n",
    "    ms.append(m)\n",
    "    stds.append(std)\n",
    "# print(datat) "
   ]
  },
  {
   "cell_type": "code",
   "execution_count": 7,
   "metadata": {},
   "outputs": [
    {
     "name": "stdout",
     "output_type": "stream",
     "text": [
      "(100, 7)\n",
      "[-0.77702869 -0.79959006 -1.39326109 -0.81629439  0.29488391 -0.96083417\n",
      "  0.        ]\n"
     ]
    }
   ],
   "source": [
    "data = datat.T # 행과열을 처음 상태로 복원\n",
    "print(data.shape)\n",
    "print(data[0]) "
   ]
  },
  {
   "cell_type": "code",
   "execution_count": 8,
   "metadata": {},
   "outputs": [
    {
     "name": "stdout",
     "output_type": "stream",
     "text": [
      "(90, 6)\n",
      "(90,)\n",
      "(10, 6)\n",
      "(10,)\n"
     ]
    }
   ],
   "source": [
    "# 훈련용 + 검증용: 90 건\n",
    "x_train = data[0:90, 0:6] # 변수 6개, 0 ~ 5\n",
    "print(x_train.shape)\n",
    "y_train = data[0:90, 6] # class 1개\n",
    "print(y_train.shape)\n",
    "# 테스트용: 10 건\n",
    "x_test =data[90:, 0:6]  # 변수 6개, 0 ~ 5\n",
    "print(x_test.shape)\n",
    "y_test =data[90:, 6]    # class 1개\n",
    "print(y_test.shape)"
   ]
  },
  {
   "cell_type": "code",
   "execution_count": 9,
   "metadata": {},
   "outputs": [
    {
     "name": "stdout",
     "output_type": "stream",
     "text": [
      "Train on 72 samples, validate on 18 samples\n",
      "Epoch 1/1000\n",
      "72/72 [==============================] - 1s 12ms/sample - loss: 0.6943 - accuracy: 0.4444 - val_loss: 0.6196 - val_accuracy: 0.7222\n",
      "Epoch 2/1000\n",
      "72/72 [==============================] - 0s 663us/sample - loss: 0.6093 - accuracy: 0.7361 - val_loss: 0.5522 - val_accuracy: 0.8889\n",
      "Epoch 3/1000\n",
      "72/72 [==============================] - 0s 620us/sample - loss: 0.5458 - accuracy: 0.9306 - val_loss: 0.4913 - val_accuracy: 0.9444\n",
      "Epoch 4/1000\n",
      "72/72 [==============================] - 0s 620us/sample - loss: 0.4899 - accuracy: 0.9444 - val_loss: 0.4391 - val_accuracy: 0.9444\n",
      "Epoch 5/1000\n",
      "72/72 [==============================] - 0s 629us/sample - loss: 0.4386 - accuracy: 0.9444 - val_loss: 0.3869 - val_accuracy: 0.9444\n",
      "Epoch 6/1000\n",
      "72/72 [==============================] - 0s 697us/sample - loss: 0.3909 - accuracy: 0.9444 - val_loss: 0.3418 - val_accuracy: 0.9444\n",
      "Epoch 7/1000\n",
      "72/72 [==============================] - 0s 639us/sample - loss: 0.3502 - accuracy: 0.9444 - val_loss: 0.3061 - val_accuracy: 0.9444\n",
      "Epoch 8/1000\n",
      "72/72 [==============================] - 0s 625us/sample - loss: 0.3157 - accuracy: 0.9444 - val_loss: 0.2737 - val_accuracy: 0.9444\n",
      "Epoch 9/1000\n",
      "72/72 [==============================] - 0s 612us/sample - loss: 0.2869 - accuracy: 0.9444 - val_loss: 0.2472 - val_accuracy: 0.9444\n",
      "Epoch 10/1000\n",
      "72/72 [==============================] - 0s 611us/sample - loss: 0.2626 - accuracy: 0.9444 - val_loss: 0.2281 - val_accuracy: 0.9444\n",
      "Epoch 11/1000\n",
      "72/72 [==============================] - 0s 612us/sample - loss: 0.2414 - accuracy: 0.9444 - val_loss: 0.2066 - val_accuracy: 0.9444\n",
      "Epoch 12/1000\n",
      "72/72 [==============================] - 0s 612us/sample - loss: 0.2225 - accuracy: 0.9444 - val_loss: 0.1929 - val_accuracy: 0.9444\n",
      "Epoch 13/1000\n",
      "72/72 [==============================] - 0s 612us/sample - loss: 0.2048 - accuracy: 0.9583 - val_loss: 0.1784 - val_accuracy: 0.9444\n",
      "Epoch 14/1000\n",
      "72/72 [==============================] - 0s 626us/sample - loss: 0.1886 - accuracy: 0.9583 - val_loss: 0.1685 - val_accuracy: 0.9444\n",
      "Epoch 15/1000\n",
      "72/72 [==============================] - 0s 598us/sample - loss: 0.1755 - accuracy: 0.9583 - val_loss: 0.1536 - val_accuracy: 0.9444\n",
      "Epoch 16/1000\n",
      "72/72 [==============================] - 0s 625us/sample - loss: 0.1629 - accuracy: 0.9583 - val_loss: 0.1463 - val_accuracy: 0.9444\n",
      "Epoch 17/1000\n",
      "72/72 [==============================] - 0s 653us/sample - loss: 0.1514 - accuracy: 0.9583 - val_loss: 0.1409 - val_accuracy: 0.9444\n",
      "Epoch 18/1000\n",
      "72/72 [==============================] - 0s 686us/sample - loss: 0.1421 - accuracy: 0.9861 - val_loss: 0.1366 - val_accuracy: 0.9444\n",
      "Epoch 19/1000\n",
      "72/72 [==============================] - 0s 681us/sample - loss: 0.1341 - accuracy: 0.9861 - val_loss: 0.1321 - val_accuracy: 0.9444\n",
      "Epoch 20/1000\n",
      "72/72 [==============================] - 0s 659us/sample - loss: 0.1258 - accuracy: 0.9861 - val_loss: 0.1266 - val_accuracy: 0.9444\n",
      "Epoch 21/1000\n",
      "72/72 [==============================] - 0s 686us/sample - loss: 0.1192 - accuracy: 0.9861 - val_loss: 0.1224 - val_accuracy: 0.9444\n",
      "Epoch 22/1000\n",
      "72/72 [==============================] - 0s 654us/sample - loss: 0.1125 - accuracy: 0.9861 - val_loss: 0.1205 - val_accuracy: 0.9444\n",
      "Epoch 23/1000\n",
      "72/72 [==============================] - 0s 642us/sample - loss: 0.1068 - accuracy: 0.9861 - val_loss: 0.1166 - val_accuracy: 0.9444\n",
      "Epoch 24/1000\n",
      "72/72 [==============================] - 0s 625us/sample - loss: 0.1014 - accuracy: 0.9861 - val_loss: 0.1143 - val_accuracy: 0.9444\n",
      "Epoch 25/1000\n",
      "72/72 [==============================] - 0s 598us/sample - loss: 0.0959 - accuracy: 0.9861 - val_loss: 0.1106 - val_accuracy: 0.9444\n",
      "Epoch 26/1000\n",
      "72/72 [==============================] - 0s 639us/sample - loss: 0.0911 - accuracy: 0.9861 - val_loss: 0.1150 - val_accuracy: 0.9444\n",
      "Epoch 27/1000\n",
      "72/72 [==============================] - 0s 598us/sample - loss: 0.0874 - accuracy: 0.9861 - val_loss: 0.1114 - val_accuracy: 0.9444\n",
      "Epoch 28/1000\n",
      "72/72 [==============================] - 0s 639us/sample - loss: 0.0824 - accuracy: 0.9861 - val_loss: 0.1154 - val_accuracy: 0.9444\n",
      "Epoch 29/1000\n",
      "72/72 [==============================] - 0s 639us/sample - loss: 0.0786 - accuracy: 0.9861 - val_loss: 0.1115 - val_accuracy: 0.9444\n",
      "Epoch 30/1000\n",
      "72/72 [==============================] - 0s 598us/sample - loss: 0.0754 - accuracy: 0.9861 - val_loss: 0.1062 - val_accuracy: 0.9444\n",
      "Epoch 31/1000\n",
      "72/72 [==============================] - 0s 639us/sample - loss: 0.0723 - accuracy: 0.9861 - val_loss: 0.1113 - val_accuracy: 0.9444\n",
      "Epoch 32/1000\n",
      "72/72 [==============================] - 0s 639us/sample - loss: 0.0703 - accuracy: 0.9861 - val_loss: 0.1123 - val_accuracy: 0.9444\n",
      "Epoch 33/1000\n",
      "72/72 [==============================] - 0s 612us/sample - loss: 0.0670 - accuracy: 0.9861 - val_loss: 0.1069 - val_accuracy: 0.9444\n",
      "Epoch 34/1000\n",
      "72/72 [==============================] - 0s 612us/sample - loss: 0.0657 - accuracy: 0.9861 - val_loss: 0.1080 - val_accuracy: 0.9444\n",
      "Epoch 35/1000\n",
      "72/72 [==============================] - 0s 625us/sample - loss: 0.0632 - accuracy: 0.9861 - val_loss: 0.1067 - val_accuracy: 0.9444\n",
      "Epoch 36/1000\n",
      "72/72 [==============================] - 0s 570us/sample - loss: 0.0618 - accuracy: 0.9861 - val_loss: 0.1072 - val_accuracy: 0.9444\n",
      "Epoch 37/1000\n",
      "72/72 [==============================] - 0s 709us/sample - loss: 0.0585 - accuracy: 0.9861 - val_loss: 0.1029 - val_accuracy: 0.9444\n",
      "Epoch 38/1000\n",
      "72/72 [==============================] - 0s 653us/sample - loss: 0.0586 - accuracy: 0.9861 - val_loss: 0.1032 - val_accuracy: 0.9444\n",
      "Epoch 39/1000\n",
      "72/72 [==============================] - 0s 649us/sample - loss: 0.0595 - accuracy: 0.9861 - val_loss: 0.0959 - val_accuracy: 0.9444\n"
     ]
    }
   ],
   "source": [
    "model = Sequential()\n",
    "# 최적의 모델\n",
    "model.add(Dense(30, input_dim=6, activation='relu')) # 입력 값: 17, 출력값: 64\n",
    "model.add(Dense(15, activation='relu'))\n",
    "model.add(Dense(1, activation='sigmoid')) \n",
    "\n",
    "model.compile(optimizer='adam', loss='binary_crossentropy', metrics=['accuracy'])\n",
    "\n",
    "# 가장 작은 오차가 2번 발생하면 학습 자동 중지\n",
    "early_stopping = EarlyStopping(monitor='loss', patience=2)\n",
    "\n",
    "# validation_split = 0.2: 20% 검증 데이터로 사용\n",
    "hist = model.fit(x_train, y_train, validation_split = 0.2, \n",
    "                 shuffle=True, epochs=1000, \n",
    "                 batch_size=3, callbacks=[early_stopping])\n"
   ]
  },
  {
   "cell_type": "code",
   "execution_count": 10,
   "metadata": {},
   "outputs": [
    {
     "data": {
      "image/png": "[encoded data removed]",
      "text/plain": [
       "<Figure size 720x360 with 2 Axes>"
      ]
     },
     "metadata": {
      "needs_background": "light"
     },
     "output_type": "display_data"
    }
   ],
   "source": [
    "fig, loss_ax = plt.subplots()\n",
    "# plt.figure(figsize=(6,4)) # ERROR\n",
    "fig.set_size_inches(10, 5)  # 챠트 크기 설정\n",
    "\n",
    "acc_ax = loss_ax.twinx()  # 오른쪽 y 출 설정\n",
    "\n",
    "loss_ax.plot(hist.history['loss'], 'y', label='train loss')   # 훈련 손실\n",
    "loss_ax.plot(hist.history['val_loss'], 'r', label='val loss') # 검증 손실, 학습의 우수성 평가 척도\n",
    "loss_ax.set_ylim([0.0, 1.0]) # 왼쪽 y 축, 값을 반영하여 변경\n",
    "\n",
    "acc_ax.plot(hist.history['accuracy'], 'b', label='train accuracy')   # 훈련 정확도\n",
    "acc_ax.plot(hist.history['val_accuracy'], 'g', label='val accuracy') # 검증 정확도\n",
    "acc_ax.set_ylim([0.0, 1.0])  # 오른쪽 y 축, 0 ~100 %를 의미\n",
    "\n",
    "loss_ax.set_xlabel('epoch')  # x축 레이블\n",
    "loss_ax.set_ylabel('loss')     # 왼쪽 y 레이블\n",
    "acc_ax.set_ylabel('accuray') # 오른쪽 y 레이블\n",
    "\n",
    "loss_ax.legend(loc='upper left')  # 좌측 y 축 기준 범례 위치 설정\n",
    "acc_ax.legend(loc='lower left')   # 우측 y 축 기준 범례 위치 설정\n",
    "\n",
    "plt.show()\n"
   ]
  },
  {
   "cell_type": "code",
   "execution_count": 11,
   "metadata": {},
   "outputs": [
    {
     "name": "stdout",
     "output_type": "stream",
     "text": [
      "손실값: 0.010729245534730581 /정확도: 100.0 %\n"
     ]
    }
   ],
   "source": [
    "test_loss, test_acc = model.evaluate(x_test, y_test, batch_size=1, verbose=0)\n",
    "print('손실값:', test_loss, '/정확도:', (test_acc*100), '%')"
   ]
  },
  {
   "cell_type": "code",
   "execution_count": 12,
   "metadata": {},
   "outputs": [],
   "source": [
    "model.save('Country3.h5')"
   ]
  },
  {
   "cell_type": "code",
   "execution_count": 13,
   "metadata": {},
   "outputs": [],
   "source": [
    "model = load_model('Country3.h5')"
   ]
  },
  {
   "cell_type": "code",
   "execution_count": 14,
   "metadata": {},
   "outputs": [
    {
     "name": "stdout",
     "output_type": "stream",
     "text": [
      "주당 음주 횟수는 (0 ~ 3(3회 이상)):2\n",
      "농촌에서 생활한 경험(0(없음), 1(있음)):1\n",
      "가족중에 농촌에서 생활하고 있는 친척있는 여부(0(없음), 1(있음)):1\n",
      "1년동안의 여행 횟수(0 ~ 12):8\n",
      "집을 소유 할 수 있는 경제력(0(없음), 1(있음)):1\n",
      "경작 할 수 있는 토지 평수(0: 없음, 1: 1 ~ 2000 미만, 2: 2000이상 ~ 3000미만, 3: 3000 이상):2\n"
     ]
    }
   ],
   "source": [
    "# 1) 주당 음주 횟수: 0 ~ 3(3회 이상)\n",
    "# 2) 농촌에서 생활적이 있다: 0(없음), 1(있음)\n",
    "# 3) 가족중에 농촌에서 생활하고 있는 친척있는 여부: 0(없음), 1(있음)\n",
    "# 4) 1년동안의 여행 횟수: 0 ~ 12\n",
    "#     (12이상, 교통을 이용한 등산/캠핑, 당일, 국내, 국외 모두 해당)\n",
    "# 5) 집을 소유 할 수 있는 경제력: 0(없음), 1(있음)\n",
    "# 6) 경작 할 수 있는 토지 평수: 0 ~ (평)\n",
    "#     0: 없음, 1: 1 ~ 2000 미만, 2: 2000이상 ~ 3000미만, 3: 3000 이상\n",
    "# 7) 정착: 1, 실패: 0\n",
    "        \n",
    "drink = int(input('주당 음주 횟수는 (0 ~ 3(3회 이상)):'))\n",
    "life = int(input('농촌에서 생활한 경험(0(없음), 1(있음)):'))\n",
    "life2 = int(input('가족중에 농촌에서 생활하고 있는 친척있는 여부(0(없음), 1(있음)):'))\n",
    "trip = int(input('1년동안의 여행 횟수(0 ~ 12):'))\n",
    "house = int(input('집을 소유 할 수 있는 경제력(0(없음), 1(있음)):'))\n",
    "land = int(input('경작 할 수 있는 토지 평수(0: 없음, 1: 1 ~ 2000 미만, 2: 2000이상 ~ 3000미만, 3: 3000 이상):'))"
   ]
  },
  {
   "cell_type": "markdown",
   "metadata": {},
   "source": [
    "#### 표준화를 하여 학습한 경우 모델 이용시에도 표준화를 해서 이용해야함."
   ]
  },
  {
   "cell_type": "code",
   "execution_count": 15,
   "metadata": {},
   "outputs": [
    {
     "name": "stdout",
     "output_type": "stream",
     "text": [
      "(1, 6)\n",
      "[[2. 1. 1. 8. 1. 2.]]\n"
     ]
    }
   ],
   "source": [
    "data = []\n",
    "data.append((drink - ms[0]) / stds[0])\n",
    "data.append((life - ms[1]) / stds[1])\n",
    "data.append((life2 - ms[2]) / stds[2])\n",
    "data.append((trip - ms[3]) / stds[3])\n",
    "data.append((house - ms[4]) / stds[4])\n",
    "data.append((land - ms[5]) / stds[5])\n",
    "\n",
    "x = np.array([\n",
    "             data,\n",
    "      ])\n",
    "print(x.shape)\n",
    "print(x)"
   ]
  },
  {
   "cell_type": "code",
   "execution_count": 16,
   "metadata": {},
   "outputs": [
    {
     "name": "stdout",
     "output_type": "stream",
     "text": [
      "[[0.9999958]]\n",
      "(1, 1)\n",
      "적응 확률: 100.000%\n",
      "귀농가능합니다.\n"
     ]
    }
   ],
   "source": [
    "yp = model.predict(x)\n",
    "print(yp)\n",
    "print(yp.shape)\n",
    "\n",
    "for i in range(len(x)):\n",
    "    # print('적응 확률:', yp[i][0] * 100, ' %')\n",
    "    print('적응 확률: {0:.3f}%'.format(yp[i][0] * 100))\n",
    "    \n",
    "    if yp[i][0] >= 0.8:\n",
    "        print('귀농가능합니다.')\n",
    "    elif yp[i][0] >= 0.5:\n",
    "        print('귀촌을 권장합니다.')\n",
    "    else:\n",
    "        print('귀농/귀촌을 권장하지 않습니다.')\n"
   ]
  },
  {
   "cell_type": "code",
   "execution_count": null,
   "metadata": {},
   "outputs": [],
   "source": []
  },
  {
   "cell_type": "code",
   "execution_count": null,
   "metadata": {},
   "outputs": [],
   "source": []
  }
 ],
 "metadata": {
  "kernelspec": {
   "display_name": "machine",
   "language": "python",
   "name": "machine"
  },
  "language_info": {
   "codemirror_mode": {
    "name": "ipython",
    "version": 3
   },
   "file_extension": ".py",
   "mimetype": "text/x-python",
   "name": "python",
   "nbconvert_exporter": "python",
   "pygments_lexer": "ipython3",
   "version": "3.7.6"
  }
 },
 "nbformat": 4,
 "nbformat_minor": 2
}
