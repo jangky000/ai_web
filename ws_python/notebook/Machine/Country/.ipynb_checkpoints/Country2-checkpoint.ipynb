{
 "cells": [
  {
   "cell_type": "markdown",
   "metadata": {},
   "source": [
    "### 데이터를 그룹화한 경우 예측률이 개선됨"
   ]
  },
  {
   "cell_type": "code",
   "execution_count": 1,
   "metadata": {},
   "outputs": [
    {
     "data": {
      "application/javascript": [
       "IPython.notebook.set_autosave_interval(0)"
      ]
     },
     "metadata": {},
     "output_type": "display_data"
    },
    {
     "name": "stdout",
     "output_type": "stream",
     "text": [
      "Autosave disabled\n"
     ]
    }
   ],
   "source": [
    "%autosave 0\n",
    "import numpy as np\n",
    "import matplotlib.pyplot as plt\n",
    "\n",
    "from tensorflow.keras.models import Sequential\n",
    "from tensorflow.keras.layers import Dense\n",
    "from tensorflow.keras.models import load_model\n",
    "\n",
    "from tensorflow.keras.callbacks import EarlyStopping"
   ]
  },
  {
   "cell_type": "code",
   "execution_count": 7,
   "metadata": {},
   "outputs": [
    {
     "name": "stdout",
     "output_type": "stream",
     "text": [
      "<class 'numpy.ndarray'>\n",
      "(100, 7)\n",
      "[[ 0.  0.  0.  5.  1.  0.  0.]\n",
      " [ 1.  0.  1.  6.  1.  0.  1.]\n",
      " [ 1.  1.  1. 10.  1.  0.  1.]\n",
      " [ 0.  0.  0. 10.  1.  0.  0.]\n",
      " [ 1.  0.  1. 10.  1.  2.  1.]\n",
      " [ 1.  0.  0.  0.  0.  1.  0.]\n",
      " [ 0.  0.  0.  5.  1.  0.  0.]\n",
      " [ 1.  0.  1.  6.  1.  0.  1.]\n",
      " [ 1.  1.  1. 10.  1.  3.  1.]\n",
      " [ 1.  0.  1.  2.  1.  1.  0.]]\n"
     ]
    }
   ],
   "source": [
    "# 데이터 준비\n",
    "data = np.loadtxt('./country2.csv', delimiter=',', dtype=np.float64)\n",
    "print(type(data))\n",
    "print(data.shape)\n",
    "print(data[:10])"
   ]
  },
  {
   "cell_type": "code",
   "execution_count": 3,
   "metadata": {},
   "outputs": [
    {
     "name": "stdout",
     "output_type": "stream",
     "text": [
      "(90, 6)\n",
      "(90,)\n",
      "(10, 6)\n",
      "(10,)\n"
     ]
    }
   ],
   "source": [
    "# 훈련용 + 검증용: 90 건\n",
    "x_train = data[0:90, 0:6] # 변수 6개, 0 ~ 5\n",
    "print(x_train.shape)\n",
    "y_train = data[0:90, 6] # class 1개\n",
    "print(y_train.shape)\n",
    "# 테스트용: 10 건\n",
    "x_test =data[90:, 0:6]  # 변수 6개, 0 ~ 5\n",
    "print(x_test.shape)\n",
    "y_test =data[90:, 6]    # class 1개\n",
    "print(y_test.shape)"
   ]
  },
  {
   "cell_type": "code",
   "execution_count": 4,
   "metadata": {},
   "outputs": [
    {
     "name": "stdout",
     "output_type": "stream",
     "text": [
      "Train on 72 samples, validate on 18 samples\n",
      "Epoch 1/1000\n",
      "72/72 [==============================] - 1s 12ms/sample - loss: 0.6262 - accuracy: 0.6389 - val_loss: 0.4947 - val_accuracy: 0.6111\n",
      "Epoch 2/1000\n",
      "72/72 [==============================] - 0s 648us/sample - loss: 0.5569 - accuracy: 0.6250 - val_loss: 0.4774 - val_accuracy: 0.6111\n",
      "Epoch 3/1000\n",
      "72/72 [==============================] - 0s 637us/sample - loss: 0.5333 - accuracy: 0.6806 - val_loss: 0.4654 - val_accuracy: 0.6667\n",
      "Epoch 4/1000\n",
      "72/72 [==============================] - 0s 625us/sample - loss: 0.5161 - accuracy: 0.8194 - val_loss: 0.4526 - val_accuracy: 0.8333\n",
      "Epoch 5/1000\n",
      "72/72 [==============================] - 0s 667us/sample - loss: 0.4910 - accuracy: 0.8472 - val_loss: 0.4306 - val_accuracy: 0.8333\n",
      "Epoch 6/1000\n",
      "72/72 [==============================] - 0s 598us/sample - loss: 0.4704 - accuracy: 0.8472 - val_loss: 0.4150 - val_accuracy: 0.8889\n",
      "Epoch 7/1000\n",
      "72/72 [==============================] - 0s 639us/sample - loss: 0.4455 - accuracy: 0.8472 - val_loss: 0.3933 - val_accuracy: 0.8889\n",
      "Epoch 8/1000\n",
      "72/72 [==============================] - 0s 650us/sample - loss: 0.4200 - accuracy: 0.8611 - val_loss: 0.3758 - val_accuracy: 0.8889\n",
      "Epoch 9/1000\n",
      "72/72 [==============================] - 0s 621us/sample - loss: 0.4009 - accuracy: 0.8611 - val_loss: 0.3546 - val_accuracy: 0.8889\n",
      "Epoch 10/1000\n",
      "72/72 [==============================] - 0s 584us/sample - loss: 0.3691 - accuracy: 0.8889 - val_loss: 0.3337 - val_accuracy: 0.8889\n",
      "Epoch 11/1000\n",
      "72/72 [==============================] - 0s 625us/sample - loss: 0.3464 - accuracy: 0.8889 - val_loss: 0.3148 - val_accuracy: 0.8889\n",
      "Epoch 12/1000\n",
      "72/72 [==============================] - 0s 806us/sample - loss: 0.3265 - accuracy: 0.8889 - val_loss: 0.2989 - val_accuracy: 0.8889\n",
      "Epoch 13/1000\n",
      "72/72 [==============================] - 0s 627us/sample - loss: 0.3077 - accuracy: 0.8889 - val_loss: 0.2840 - val_accuracy: 0.8889\n",
      "Epoch 14/1000\n",
      "72/72 [==============================] - 0s 612us/sample - loss: 0.2860 - accuracy: 0.8889 - val_loss: 0.2684 - val_accuracy: 0.8889\n",
      "Epoch 15/1000\n",
      "72/72 [==============================] - 0s 612us/sample - loss: 0.2677 - accuracy: 0.8889 - val_loss: 0.2556 - val_accuracy: 0.8889\n",
      "Epoch 16/1000\n",
      "72/72 [==============================] - 0s 584us/sample - loss: 0.2518 - accuracy: 0.9028 - val_loss: 0.2444 - val_accuracy: 0.8889\n",
      "Epoch 17/1000\n",
      "72/72 [==============================] - 0s 653us/sample - loss: 0.2386 - accuracy: 0.8889 - val_loss: 0.2331 - val_accuracy: 0.8889\n",
      "Epoch 18/1000\n",
      "72/72 [==============================] - 0s 584us/sample - loss: 0.2235 - accuracy: 0.9306 - val_loss: 0.2243 - val_accuracy: 0.8889\n",
      "Epoch 19/1000\n",
      "72/72 [==============================] - 0s 625us/sample - loss: 0.2100 - accuracy: 0.9306 - val_loss: 0.2146 - val_accuracy: 0.8889\n",
      "Epoch 20/1000\n",
      "72/72 [==============================] - 0s 598us/sample - loss: 0.2054 - accuracy: 0.9306 - val_loss: 0.2128 - val_accuracy: 0.8889\n",
      "Epoch 21/1000\n",
      "72/72 [==============================] - 0s 626us/sample - loss: 0.1890 - accuracy: 0.9444 - val_loss: 0.1985 - val_accuracy: 0.9444\n",
      "Epoch 22/1000\n",
      "72/72 [==============================] - 0s 639us/sample - loss: 0.1864 - accuracy: 0.9444 - val_loss: 0.1944 - val_accuracy: 0.9444\n",
      "Epoch 23/1000\n",
      "72/72 [==============================] - 0s 639us/sample - loss: 0.1722 - accuracy: 0.9722 - val_loss: 0.1918 - val_accuracy: 0.8889\n",
      "Epoch 24/1000\n",
      "72/72 [==============================] - 0s 598us/sample - loss: 0.1665 - accuracy: 0.9583 - val_loss: 0.1842 - val_accuracy: 0.9444\n",
      "Epoch 25/1000\n",
      "72/72 [==============================] - 0s 612us/sample - loss: 0.1617 - accuracy: 0.9444 - val_loss: 0.1849 - val_accuracy: 0.8889\n",
      "Epoch 26/1000\n",
      "72/72 [==============================] - 0s 639us/sample - loss: 0.1541 - accuracy: 0.9722 - val_loss: 0.1778 - val_accuracy: 0.9444\n",
      "Epoch 27/1000\n",
      "72/72 [==============================] - 0s 639us/sample - loss: 0.1487 - accuracy: 0.9722 - val_loss: 0.1834 - val_accuracy: 0.8889\n",
      "Epoch 28/1000\n",
      "72/72 [==============================] - 0s 584us/sample - loss: 0.1452 - accuracy: 0.9444 - val_loss: 0.1678 - val_accuracy: 0.9444\n",
      "Epoch 29/1000\n",
      "72/72 [==============================] - 0s 639us/sample - loss: 0.1399 - accuracy: 0.9861 - val_loss: 0.1667 - val_accuracy: 0.9444\n",
      "Epoch 30/1000\n",
      "72/72 [==============================] - 0s 598us/sample - loss: 0.1369 - accuracy: 0.9722 - val_loss: 0.1679 - val_accuracy: 0.9444\n",
      "Epoch 31/1000\n",
      "72/72 [==============================] - 0s 625us/sample - loss: 0.1293 - accuracy: 0.9861 - val_loss: 0.1672 - val_accuracy: 0.8889\n",
      "Epoch 32/1000\n",
      "72/72 [==============================] - 0s 584us/sample - loss: 0.1263 - accuracy: 0.9861 - val_loss: 0.1647 - val_accuracy: 0.9444\n",
      "Epoch 33/1000\n",
      "72/72 [==============================] - 0s 625us/sample - loss: 0.1298 - accuracy: 0.9861 - val_loss: 0.1576 - val_accuracy: 0.9444\n",
      "Epoch 34/1000\n",
      "72/72 [==============================] - 0s 639us/sample - loss: 0.1183 - accuracy: 0.9861 - val_loss: 0.1608 - val_accuracy: 0.9444\n",
      "Epoch 35/1000\n",
      "72/72 [==============================] - ETA: 0s - loss: 0.2307 - accuracy: 1.00 - 0s 625us/sample - loss: 0.1159 - accuracy: 0.9861 - val_loss: 0.1593 - val_accuracy: 0.9444\n",
      "Epoch 36/1000\n",
      "72/72 [==============================] - 0s 598us/sample - loss: 0.1109 - accuracy: 0.9861 - val_loss: 0.1583 - val_accuracy: 0.9444\n",
      "Epoch 37/1000\n",
      "72/72 [==============================] - 0s 639us/sample - loss: 0.1171 - accuracy: 0.9861 - val_loss: 0.1646 - val_accuracy: 0.8889\n",
      "Epoch 38/1000\n",
      "72/72 [==============================] - 0s 572us/sample - loss: 0.1120 - accuracy: 0.9861 - val_loss: 0.1678 - val_accuracy: 0.8889\n"
     ]
    }
   ],
   "source": [
    "model = Sequential()\n",
    "# 최적의 모델\n",
    "model.add(Dense(30, input_dim=6, activation='relu')) # 입력 값: 17, 출력값: 64\n",
    "model.add(Dense(15, activation='relu'))\n",
    "model.add(Dense(1, activation='sigmoid')) \n",
    "\n",
    "model.compile(optimizer='adam', loss='binary_crossentropy', metrics=['accuracy'])\n",
    "\n",
    "# 가장 작은 오차가 20번 발생하면 학습 자동 중지\n",
    "early_stopping = EarlyStopping(monitor='loss', patience=2)\n",
    "\n",
    "# validation_split = 0.2: 20% 검증 데이터로 사용\n",
    "hist = model.fit(x_train, y_train, validation_split = 0.2, \n",
    "                 shuffle=True, epochs=1000, \n",
    "                 batch_size=3, callbacks=[early_stopping])\n"
   ]
  },
  {
   "cell_type": "code",
   "execution_count": 5,
   "metadata": {},
   "outputs": [
    {
     "data": {
      "image/png": "[encoded data removed]",
      "text/plain": [
       "<Figure size 720x360 with 2 Axes>"
      ]
     },
     "metadata": {
      "needs_background": "light"
     },
     "output_type": "display_data"
    }
   ],
   "source": [
    "fig, loss_ax = plt.subplots()\n",
    "# plt.figure(figsize=(6,4)) # ERROR\n",
    "fig.set_size_inches(10, 5)  # 챠트 크기 설정\n",
    "\n",
    "acc_ax = loss_ax.twinx()  # 오른쪽 y 출 설정\n",
    "\n",
    "loss_ax.plot(hist.history['loss'], 'y', label='train loss')   # 훈련 손실\n",
    "loss_ax.plot(hist.history['val_loss'], 'r', label='val loss') # 검증 손실, 학습의 우수성 평가 척도\n",
    "loss_ax.set_ylim([0.0, 1.0]) # 왼쪽 y 축, 값을 반영하여 변경\n",
    "\n",
    "acc_ax.plot(hist.history['accuracy'], 'b', label='train accuracy')   # 훈련 정확도\n",
    "acc_ax.plot(hist.history['val_accuracy'], 'g', label='val accuracy') # 검증 정확도\n",
    "acc_ax.set_ylim([0.0, 1.0])  # 오른쪽 y 축, 0 ~100 %를 의미\n",
    "\n",
    "loss_ax.set_xlabel('epoch')  # x축 레이블\n",
    "loss_ax.set_ylabel('loss')     # 왼쪽 y 레이블\n",
    "acc_ax.set_ylabel('accuray') # 오른쪽 y 레이블\n",
    "\n",
    "loss_ax.legend(loc='upper left')  # 좌측 y 축 기준 범례 위치 설정\n",
    "acc_ax.legend(loc='lower left')   # 우측 y 축 기준 범례 위치 설정\n",
    "\n",
    "plt.show()\n"
   ]
  },
  {
   "cell_type": "code",
   "execution_count": 6,
   "metadata": {},
   "outputs": [
    {
     "name": "stdout",
     "output_type": "stream",
     "text": [
      "손실값: 0.43847355917096137 /정확도: 80.0000011920929 %\n"
     ]
    }
   ],
   "source": [
    "test_loss, test_acc = model.evaluate(x_test, y_test, batch_size=1, verbose=0)\n",
    "print('손실값:', test_loss, '/정확도:', (test_acc*100), '%')"
   ]
  },
  {
   "cell_type": "code",
   "execution_count": 7,
   "metadata": {},
   "outputs": [],
   "source": [
    "model.save('Country2.h5')"
   ]
  },
  {
   "cell_type": "code",
   "execution_count": 8,
   "metadata": {},
   "outputs": [],
   "source": [
    "model = load_model('Country2.h5')"
   ]
  },
  {
   "cell_type": "code",
   "execution_count": 9,
   "metadata": {},
   "outputs": [
    {
     "name": "stdout",
     "output_type": "stream",
     "text": [
      "주당 음주 횟수는 (0 ~ 3(3회 이상)):2\n",
      "농촌에서 생활한 경험(0(없음), 1(있음)):1\n",
      "가족중에 농촌에서 생활하고 있는 친척있는 여부(0(없음), 1(있음)):1\n",
      "1년동안의 여행 횟수(0 ~ 12):8\n",
      "집을 소유 할 수 있는 경제력(0(없음), 1(있음)):1\n",
      "경작 할 수 있는 토지 평수(0: 없음, 1: 1 ~ 2000 미만, 2: 2000이상 ~ 3000미만, 3: 3000 이상):1\n"
     ]
    }
   ],
   "source": [
    "# 1) 주당 음주 횟수: 0 ~ 3(3회 이상)\n",
    "# 2) 농촌에서 생활적이 있다: 0(없음), 1(있음)\n",
    "# 3) 가족중에 농촌에서 생활하고 있는 친척있는 여부: 0(없음), 1(있음)\n",
    "# 4) 1년동안의 여행 횟수: 0 ~ 12\n",
    "#     (12이상, 교통을 이용한 등산/캠핑, 당일, 국내, 국외 모두 해당)\n",
    "# 5) 집을 소유 할 수 있는 경제력: 0(없음), 1(있음)\n",
    "# 6) 경작 할 수 있는 토지 평수: 0 ~ (평)\n",
    "#     0: 없음, 1: 1 ~ 2000 미만, 2: 2000이상 ~ 3000미만, 3: 3000 이상\n",
    "# 7) 정착: 1, 실패: 0\n",
    "        \n",
    "drink = int(input('주당 음주 횟수는 (0 ~ 3(3회 이상)):'))\n",
    "life = int(input('농촌에서 생활한 경험(0(없음), 1(있음)):'))\n",
    "life2 = int(input('가족중에 농촌에서 생활하고 있는 친척있는 여부(0(없음), 1(있음)):'))\n",
    "trip = int(input('1년동안의 여행 횟수(0 ~ 12):'))\n",
    "house = int(input('집을 소유 할 수 있는 경제력(0(없음), 1(있음)):'))\n",
    "land = int(input('경작 할 수 있는 토지 평수(0: 없음, 1: 1 ~ 2000 미만, 2: 2000이상 ~ 3000미만, 3: 3000 이상):'))"
   ]
  },
  {
   "cell_type": "code",
   "execution_count": 10,
   "metadata": {},
   "outputs": [
    {
     "name": "stdout",
     "output_type": "stream",
     "text": [
      "(1, 6)\n",
      "[[2 1 1 8 1 1]]\n"
     ]
    }
   ],
   "source": [
    "data = []\n",
    "data.append(drink)\n",
    "data.append(life)\n",
    "data.append(life2)\n",
    "data.append(trip)\n",
    "data.append(house)\n",
    "data.append(land)\n",
    "\n",
    "x = np.array([\n",
    "             data,\n",
    "      ])\n",
    "print(x.shape)\n",
    "print(x)"
   ]
  },
  {
   "cell_type": "code",
   "execution_count": 11,
   "metadata": {},
   "outputs": [
    {
     "name": "stdout",
     "output_type": "stream",
     "text": [
      "[[0.97398585]]\n",
      "(1, 1)\n",
      "적응 확률: 97.399%\n",
      "귀농가능합니다.\n"
     ]
    }
   ],
   "source": [
    "yp = model.predict(x)\n",
    "print(yp)\n",
    "print(yp.shape)\n",
    "\n",
    "for i in range(len(x)):\n",
    "    # print('적응 확률:', yp[i][0] * 100, ' %')\n",
    "    print('적응 확률: {0:.3f}%'.format(yp[i][0] * 100))\n",
    "    \n",
    "    if yp[i][0] >= 0.8:\n",
    "        print('귀농가능합니다.')\n",
    "    elif yp[i][0]  >= 0.5:\n",
    "        print('귀촌을 권장합니다.')\n",
    "    else:\n",
    "        print('귀농/귀촌을 권장하지 않습니다.')\n"
   ]
  },
  {
   "cell_type": "code",
   "execution_count": null,
   "metadata": {},
   "outputs": [],
   "source": []
  },
  {
   "cell_type": "code",
   "execution_count": null,
   "metadata": {},
   "outputs": [],
   "source": []
  },
  {
   "cell_type": "code",
   "execution_count": null,
   "metadata": {},
   "outputs": [],
   "source": []
  },
  {
   "cell_type": "code",
   "execution_count": null,
   "metadata": {},
   "outputs": [],
   "source": []
  },
  {
   "cell_type": "code",
   "execution_count": null,
   "metadata": {},
   "outputs": [],
   "source": []
  }
 ],
 "metadata": {
  "kernelspec": {
   "display_name": "ai",
   "language": "python",
   "name": "ai"
  },
  "language_info": {
   "codemirror_mode": {
    "name": "ipython",
    "version": 3
   },
   "file_extension": ".py",
   "mimetype": "text/x-python",
   "name": "python",
   "nbconvert_exporter": "python",
   "pygments_lexer": "ipython3",
   "version": "3.6.10"
  }
 },
 "nbformat": 4,
 "nbformat_minor": 2
}
