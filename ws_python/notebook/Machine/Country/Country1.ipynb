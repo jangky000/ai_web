{
 "cells": [
  {
   "cell_type": "markdown",
   "metadata": {},
   "source": [
    "## 문제 있는 데이터 패턴\n",
    "### 데이터가 변수 간의 평균/분산 값의 차이가 크다\n",
    "### 데이터의 규모가 크게 차이남"
   ]
  },
  {
   "cell_type": "code",
   "execution_count": 1,
   "metadata": {},
   "outputs": [
    {
     "data": {
      "application/javascript": [
       "IPython.notebook.set_autosave_interval(0)"
      ]
     },
     "metadata": {},
     "output_type": "display_data"
    },
    {
     "name": "stdout",
     "output_type": "stream",
     "text": [
      "Autosave disabled\n"
     ]
    }
   ],
   "source": [
    "%autosave 0\n",
    "import numpy as np\n",
    "import matplotlib.pyplot as plt\n",
    "\n",
    "from tensorflow.keras.models import Sequential\n",
    "from tensorflow.keras.layers import Dense\n",
    "from tensorflow.keras.models import load_model\n",
    "\n",
    "from tensorflow.keras.callbacks import EarlyStopping"
   ]
  },
  {
   "cell_type": "code",
   "execution_count": 2,
   "metadata": {},
   "outputs": [
    {
     "name": "stdout",
     "output_type": "stream",
     "text": [
      "<class 'numpy.ndarray'>\n",
      "(100, 7)\n",
      "[[0.e+00 0.e+00 0.e+00 5.e+00 1.e+00 0.e+00 0.e+00]\n",
      " [1.e+00 0.e+00 1.e+00 6.e+00 1.e+00 0.e+00 1.e+00]\n",
      " [1.e+00 1.e+00 1.e+00 1.e+01 1.e+00 0.e+00 1.e+00]\n",
      " [0.e+00 0.e+00 0.e+00 1.e+01 1.e+00 0.e+00 0.e+00]\n",
      " [1.e+00 0.e+00 1.e+00 1.e+01 1.e+00 2.e+03 1.e+00]\n",
      " [1.e+00 0.e+00 0.e+00 0.e+00 0.e+00 1.e+03 0.e+00]\n",
      " [0.e+00 0.e+00 0.e+00 5.e+00 1.e+00 0.e+00 0.e+00]\n",
      " [1.e+00 0.e+00 1.e+00 6.e+00 1.e+00 0.e+00 1.e+00]\n",
      " [1.e+00 1.e+00 1.e+00 1.e+01 1.e+00 3.e+03 1.e+00]\n",
      " [1.e+00 0.e+00 1.e+00 2.e+00 1.e+00 1.e+03 0.e+00]]\n"
     ]
    }
   ],
   "source": [
    "# 데이터 준비\n",
    "data = np.loadtxt('./country1.csv', delimiter=',', dtype=np.float64)\n",
    "print(type(data))\n",
    "print(data.shape)\n",
    "print(data[:10])"
   ]
  },
  {
   "cell_type": "code",
   "execution_count": 3,
   "metadata": {},
   "outputs": [
    {
     "name": "stdout",
     "output_type": "stream",
     "text": [
      "(90, 6)\n",
      "(90,)\n",
      "(10, 6)\n",
      "(10,)\n"
     ]
    }
   ],
   "source": [
    "# 훈련용 + 검증용: 90 건\n",
    "x_train = data[0:90, 0:6] # 변수 6개, 0 ~ 5\n",
    "print(x_train.shape)\n",
    "y_train = data[0:90, 6] # class 1개\n",
    "print(y_train.shape)\n",
    "# 테스트용: 10 건\n",
    "x_test =data[90:, 0:6]  # 변수 6개, 0 ~ 5\n",
    "print(x_test.shape)\n",
    "y_test =data[90:, 6]    # class 1개\n",
    "print(y_test.shape)"
   ]
  },
  {
   "cell_type": "code",
   "execution_count": 4,
   "metadata": {},
   "outputs": [],
   "source": [
    "def country1():\n",
    "    model = Sequential()\n",
    "    # 최적의 모델\n",
    "    model.add(Dense(30, input_dim=6, activation='relu')) # 입력 값: 17, 출력값: 64\n",
    "    model.add(Dense(15, activation='relu'))\n",
    "    model.add(Dense(1, activation='sigmoid')) \n",
    "\n",
    "    model.compile(optimizer='adam', loss='binary_crossentropy', metrics=['accuracy'])\n",
    "\n",
    "    # 가장 작은 오차가 2번 발생하면 학습 자동 중지\n",
    "    early_stopping = EarlyStopping(monitor='loss', patience=2)\n",
    "\n",
    "    # validation_split = 0.2: 20% 검증 데이터로 사용\n",
    "    hist = model.fit(x_train, y_train, validation_split = 0.2, \n",
    "                     shuffle=True, epochs=1000, \n",
    "                     batch_size=3, callbacks=[early_stopping])\n",
    "    return model, hist"
   ]
  },
  {
   "cell_type": "code",
   "execution_count": 5,
   "metadata": {},
   "outputs": [
    {
     "name": "stdout",
     "output_type": "stream",
     "text": [
      "Train on 72 samples, validate on 18 samples\n",
      "Epoch 1/1000\n",
      "72/72 [==============================] - 1s 12ms/sample - loss: 17.6944 - accuracy: 0.4722 - val_loss: 7.2126 - val_accuracy: 0.6667\n",
      "Epoch 2/1000\n",
      "72/72 [==============================] - 0s 681us/sample - loss: 6.1043 - accuracy: 0.5694 - val_loss: 4.2783 - val_accuracy: 0.3889\n",
      "Epoch 3/1000\n",
      "72/72 [==============================] - 0s 806us/sample - loss: 3.0665 - accuracy: 0.6389 - val_loss: 0.6564 - val_accuracy: 0.6111\n",
      "Epoch 4/1000\n",
      "72/72 [==============================] - 0s 764us/sample - loss: 2.4620 - accuracy: 0.7222 - val_loss: 1.2672 - val_accuracy: 0.5000\n",
      "Epoch 5/1000\n",
      "72/72 [==============================] - 0s 792us/sample - loss: 1.6860 - accuracy: 0.7083 - val_loss: 1.1196 - val_accuracy: 0.7778\n",
      "Epoch 6/1000\n",
      "72/72 [==============================] - 0s 584us/sample - loss: 1.4602 - accuracy: 0.6806 - val_loss: 1.4102 - val_accuracy: 0.7778\n",
      "Epoch 7/1000\n",
      "72/72 [==============================] - 0s 625us/sample - loss: 1.2420 - accuracy: 0.7500 - val_loss: 0.5781 - val_accuracy: 0.7222\n",
      "Epoch 8/1000\n",
      "72/72 [==============================] - 0s 612us/sample - loss: 0.7372 - accuracy: 0.7778 - val_loss: 1.2248 - val_accuracy: 0.7778\n",
      "Epoch 9/1000\n",
      "72/72 [==============================] - 0s 598us/sample - loss: 1.0518 - accuracy: 0.7361 - val_loss: 1.1614 - val_accuracy: 0.5000\n",
      "Epoch 10/1000\n",
      "72/72 [==============================] - 0s 667us/sample - loss: 1.9285 - accuracy: 0.7083 - val_loss: 1.3524 - val_accuracy: 0.7778\n"
     ]
    }
   ],
   "source": [
    "model, hist = country1()"
   ]
  },
  {
   "cell_type": "code",
   "execution_count": 6,
   "metadata": {},
   "outputs": [
    {
     "data": {
      "image/png": "[encoded data removed]",
      "text/plain": [
       "<Figure size 720x360 with 2 Axes>"
      ]
     },
     "metadata": {
      "needs_background": "light"
     },
     "output_type": "display_data"
    }
   ],
   "source": [
    "fig, loss_ax = plt.subplots()\n",
    "# plt.figure(figsize=(6,4)) # ERROR\n",
    "fig.set_size_inches(10, 5)  # 챠트 크기 설정\n",
    "\n",
    "acc_ax = loss_ax.twinx()  # 오른쪽 y 출 설정\n",
    "\n",
    "loss_ax.plot(hist.history['loss'], 'y', label='train loss')   # 훈련 손실\n",
    "loss_ax.plot(hist.history['val_loss'], 'r', label='val loss') # 검증 손실, 학습의 우수성 평가 척도\n",
    "loss_ax.set_ylim([0.0, 25.0]) # 왼쪽 y 축, 값을 반영하여 변경\n",
    "\n",
    "acc_ax.plot(hist.history['accuracy'], 'b', label='train accuracy')   # 훈련 정확도\n",
    "acc_ax.plot(hist.history['val_accuracy'], 'g', label='val accuracy') # 검증 정확도\n",
    "acc_ax.set_ylim([0.0, 1.0])  # 오른쪽 y 축, 0 ~100 %를 의미\n",
    "\n",
    "loss_ax.set_xlabel('epoch')  # x축 레이블\n",
    "loss_ax.set_ylabel('loss')     # 왼쪽 y 레이블\n",
    "acc_ax.set_ylabel('accuray') # 오른쪽 y 레이블\n",
    "\n",
    "loss_ax.legend(loc='upper left')  # 좌측 y 축 기준 범례 위치 설정\n",
    "acc_ax.legend(loc='lower left')   # 우측 y 축 기준 범례 위치 설정\n",
    "\n",
    "plt.show()\n"
   ]
  },
  {
   "cell_type": "code",
   "execution_count": 7,
   "metadata": {},
   "outputs": [
    {
     "name": "stdout",
     "output_type": "stream",
     "text": [
      "손실값: 1.5119034961917686 /정확도: 69.9999988079071 %\n"
     ]
    }
   ],
   "source": [
    "test_loss, test_acc = model.evaluate(x_test, y_test, batch_size=1, verbose=0)\n",
    "print('손실값:', test_loss, '/정확도:', (test_acc*100), '%')"
   ]
  },
  {
   "cell_type": "code",
   "execution_count": null,
   "metadata": {},
   "outputs": [],
   "source": []
  },
  {
   "cell_type": "code",
   "execution_count": null,
   "metadata": {},
   "outputs": [],
   "source": []
  }
 ],
 "metadata": {
  "kernelspec": {
   "display_name": "ai",
   "language": "python",
   "name": "ai"
  },
  "language_info": {
   "codemirror_mode": {
    "name": "ipython",
    "version": 3
   },
   "file_extension": ".py",
   "mimetype": "text/x-python",
   "name": "python",
   "nbconvert_exporter": "python",
   "pygments_lexer": "ipython3",
   "version": "3.6.10"
  }
 },
 "nbformat": 4,
 "nbformat_minor": 2
}
