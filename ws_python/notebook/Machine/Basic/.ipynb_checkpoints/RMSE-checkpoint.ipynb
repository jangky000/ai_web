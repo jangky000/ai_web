{
 "cells": [
  {
   "cell_type": "code",
   "execution_count": 1,
   "metadata": {},
   "outputs": [],
   "source": [
    "import pandas as pd\n",
    "import numpy as np\n",
    "import matplotlib\n",
    "import matplotlib.pyplot as plt\n",
    "from matplotlib import font_manager, rc\n",
    "\n",
    "font_name = font_manager.FontProperties(fname=\"C:/Windows/Fonts/malgun.ttf\").get_name()\n",
    "rc('font', family=font_name)           # 맑은 고딕 폰트 지정\n",
    "plt.rcParams[\"font.size\"] = 12         # 글자 크기\n",
    "# plt.rcParams[\"figure.figsize\"] = (10, 4) # 10:4의 그래프 비율\n",
    "plt.rcParams['axes.unicode_minus'] = False  # minus 부호는 unicode 적용시 한글이 깨짐으로 설정\n",
    "\n",
    "# Jupyter에게 matplotlib 그래프를 출력 영역에 표시할 것을 지시하는 명령\n",
    "%matplotlib inline"
   ]
  },
  {
   "cell_type": "code",
   "execution_count": 6,
   "metadata": {},
   "outputs": [
    {
     "name": "stdout",
     "output_type": "stream",
     "text": [
      "[0, 1, 2, 3, 4, 5]\n",
      "[50, 52, 54, 56, 58, 60]\n"
     ]
    }
   ],
   "source": [
    "# y = ax + b, y = 2x + 50, a: 기울기 b: y절편으로 가정\n",
    "X = [i for i in range(6)] # 0 ~ 5\n",
    "print(X)\n",
    "a = 2\n",
    "b = 50\n",
    "Y = [ (a * x + b) for x in X ]\n",
    "print(Y)"
   ]
  },
  {
   "cell_type": "code",
   "execution_count": 7,
   "metadata": {},
   "outputs": [
    {
     "data": {
      "image/png": "[encoded data removed]",
      "text/plain": [
       "<Figure size 576x216 with 1 Axes>"
      ]
     },
     "metadata": {
      "needs_background": "light"
     },
     "output_type": "display_data"
    }
   ],
   "source": [
    "plt.figure(figsize=(8, 3)) # 단위: 인치\n",
    "plt.plot(X, Y, color='blue', linestyle='solid', marker='o')\n",
    "plt.grid(True)\n",
    "plt.show()"
   ]
  },
  {
   "cell_type": "code",
   "execution_count": 16,
   "metadata": {},
   "outputs": [
    {
     "name": "stdout",
     "output_type": "stream",
     "text": [
      "6시간 공부한 경우의 예측 점수:  62 점\n"
     ]
    }
   ],
   "source": [
    "p = 2 * 6 + 50\n",
    "print('6시간 공부한 경우의 예측 점수: ', p, '점')"
   ]
  },
  {
   "cell_type": "code",
   "execution_count": 17,
   "metadata": {},
   "outputs": [],
   "source": [
    "import copy\n",
    "\n",
    "P = [ (a * x + b) for x in X ] # 예측 성적\n",
    "\n",
    "# R = p # 얕은 복사, 메모리 공유\n",
    "R = copy.deepcopy(P) # 깊은 복사, 값을 모두 복사\n",
    "R[3] = R[3] + 6 # 3시간 공부한 학생만 성적을 6점 증가시킴, 현실 반영"
   ]
  },
  {
   "cell_type": "code",
   "execution_count": 18,
   "metadata": {},
   "outputs": [
    {
     "name": "stdout",
     "output_type": "stream",
     "text": [
      "실제 취득 점수:  [50, 52, 54, 62, 58, 60]\n"
     ]
    }
   ],
   "source": [
    "print('실제 취득 점수: ', R)"
   ]
  },
  {
   "cell_type": "code",
   "execution_count": 19,
   "metadata": {},
   "outputs": [
    {
     "name": "stdout",
     "output_type": "stream",
     "text": [
      "[50, 52, 54, 56, 58, 60]\n",
      "[50, 52, 54, 62, 58, 60]\n"
     ]
    }
   ],
   "source": [
    "# 오차는? 6점의 오차가 있음\n",
    "print(P)\n",
    "# [50, 52, 54, 56, 58, 60] 예측 \n",
    "print(R)\n",
    "# [50, 52, 54, 62, 58, 60]"
   ]
  },
  {
   "cell_type": "code",
   "execution_count": 20,
   "metadata": {},
   "outputs": [
    {
     "name": "stdout",
     "output_type": "stream",
     "text": [
      "공부한 시간 0, 예측 성적 50, 실제 성적 50, 오차 0\n",
      "공부한 시간 1, 예측 성적 52, 실제 성적 52, 오차 0\n",
      "공부한 시간 2, 예측 성적 54, 실제 성적 54, 오차 0\n",
      "공부한 시간 3, 예측 성적 56, 실제 성적 62, 오차 -6\n",
      "공부한 시간 4, 예측 성적 58, 실제 성적 58, 오차 0\n",
      "공부한 시간 5, 예측 성적 60, 실제 성적 60, 오차 0\n",
      "오차: -6\n"
     ]
    }
   ],
   "source": [
    "err = 0  # 오차\n",
    "for i in range(6):\n",
    "    fmt = '공부한 시간 {0}, 예측 성적 {1}, 실제 성적 {2}, 오차 {3}'\n",
    "    print(fmt.format(X[i], P[i], R[i], P[i] - R[i]))\n",
    "    err = err + (P[i] - R[i]) # 오차의 합 산출\n",
    "print('오차:', err) # 실제 성적보다 6점이 낮게 예측됨."
   ]
  },
  {
   "cell_type": "code",
   "execution_count": 21,
   "metadata": {},
   "outputs": [
    {
     "data": {
      "image/png": "[encoded data removed]",
      "text/plain": [
       "<Figure size 576x216 with 1 Axes>"
      ]
     },
     "metadata": {
      "needs_background": "light"
     },
     "output_type": "display_data"
    }
   ],
   "source": [
    "plt.figure(figsize=(8, 3)) # 단위: 인치\n",
    "plt.plot(X, P, color='blue', linestyle='solid', marker='o') # 예측\n",
    "plt.plot(X, R, color='red', linestyle='solid', marker='o') # 실제\n",
    "plt.grid(True)\n",
    "plt.show()"
   ]
  },
  {
   "cell_type": "code",
   "execution_count": 22,
   "metadata": {},
   "outputs": [
    {
     "name": "stdout",
     "output_type": "stream",
     "text": [
      "데이터: [0, 1, 2, 3, 4, 5]\n",
      "모델에 의한 예측: [50, 52, 54, 56, 58, 60]\n",
      "실제 취득 성적: [50, 52, 54, 62, 52, 60]\n",
      "공부한 시간 0, 예측 성적 50, 실제 성적 50, 오차 0\n",
      "공부한 시간 1, 예측 성적 52, 실제 성적 52, 오차 0\n",
      "공부한 시간 2, 예측 성적 54, 실제 성적 54, 오차 0\n",
      "공부한 시간 3, 예측 성적 56, 실제 성적 62, 오차 -6\n",
      "공부한 시간 4, 예측 성적 58, 실제 성적 52, 오차 6\n",
      "공부한 시간 5, 예측 성적 60, 실제 성적 60, 오차 0\n",
      "오차: 0\n"
     ]
    }
   ],
   "source": [
    "import copy\n",
    "\n",
    "# y = ax + b, y = 2x + 50, 기울기와 y 절편이 결정된 경우\n",
    "X = [i for i in range(6)]  # 0 ~ 5: 공부 시간\n",
    "print('데이터:', X)\n",
    "a = 2\n",
    "b = 50\n",
    "P = [(a * x) + b for x in X] # 공식에의한 값 예측, P: Predict\n",
    "print('모델에 의한 예측:', P)\n",
    "# Y = P # 얕은 복사, 메모리 공유, P의 값이 변경되면 Y도 변경됨\n",
    "R = copy.deepcopy(P) # 깊은 복사, 메모리가 새로 할당됨, R: Real.\n",
    "R[3] = R[3] + 6      # 3시간 공부한경우의 학생은 6점이 더 향상됨. \n",
    "R[4] = R[4] - 6      # 4시간 공부한경우의 학생은 -6점이 발생함. \n",
    "print('실제 취득 성적:', R)\n",
    "err = 0\n",
    "for i in range(6):\n",
    "    fmt = '공부한 시간 {0}, 예측 성적 {1}, 실제 성적 {2}, 오차 {3}'\n",
    "    print(fmt.format(X[i], P[i], R[i], P[i] - R[i]))\n",
    "    err = err + (P[i] - R[i]) # 오차의 합 산출\n",
    "print('오차:', err)"
   ]
  },
  {
   "cell_type": "code",
   "execution_count": 23,
   "metadata": {},
   "outputs": [
    {
     "data": {
      "image/png": "[encoded data removed]",
      "text/plain": [
       "<Figure size 576x216 with 1 Axes>"
      ]
     },
     "metadata": {
      "needs_background": "light"
     },
     "output_type": "display_data"
    }
   ],
   "source": [
    "plt.figure(figsize=(8, 3)) # 단위: 인치\n",
    "plt.plot(X, P, color='blue', linestyle='solid', marker='o') # 예측\n",
    "plt.plot(X, R, color='red', linestyle='solid', marker='o') # 실제\n",
    "plt.grid(True)\n",
    "plt.show()"
   ]
  },
  {
   "cell_type": "code",
   "execution_count": 24,
   "metadata": {},
   "outputs": [
    {
     "name": "stdout",
     "output_type": "stream",
     "text": [
      "데이터: [0, 1, 2, 3, 4, 5]\n",
      "모델에 의한 예측: [50, 52, 54, 56, 58, 60]\n",
      "실제 취득 성적: [50, 52, 54, 62, 56, 60]\n",
      "공부한 시간 0, 예측 성적 50, 실제 성적 50, 오차 0\n",
      "공부한 시간 1, 예측 성적 52, 실제 성적 52, 오차 0\n",
      "공부한 시간 2, 예측 성적 54, 실제 성적 54, 오차 0\n",
      "공부한 시간 3, 예측 성적 56, 실제 성적 62, 오차 -6\n",
      "공부한 시간 4, 예측 성적 58, 실제 성적 56, 오차 2\n",
      "공부한 시간 5, 예측 성적 60, 실제 성적 60, 오차 0\n",
      "오차: -4\n"
     ]
    }
   ],
   "source": [
    "import copy\n",
    "\n",
    "# y = ax + b, y = 2x + 50, 기울기와 y 절편이 결정된 경우\n",
    "X = [i for i in range(6)]  # 0 ~ 5: 공부 시간\n",
    "print('데이터:', X)\n",
    "a = 2\n",
    "b = 50\n",
    "P = [(a * x) + b for x in X] # 공식에의한 값 예측, P: Predict\n",
    "print('모델에 의한 예측:', P)\n",
    "# Y = P # 얕은 복사, 메모리 공유, P의 값이 변경되면 Y도 변경됨\n",
    "R = copy.deepcopy(P) # 깊은 복사, 메모리가 새로 할당됨, R: Real.\n",
    "R[3] = R[3] + 6      # 3시간 공부한경우의 학생은 6점이 더 향상됨. \n",
    "R[4] = R[4] - 2      # 4시간 공부한경우의 학생은 -2점이 발생함. \n",
    "print('실제 취득 성적:', R)\n",
    "err = 0\n",
    "for i in range(6):\n",
    "    fmt = '공부한 시간 {0}, 예측 성적 {1}, 실제 성적 {2}, 오차 {3}'\n",
    "    print(fmt.format(X[i], P[i], R[i], P[i] - R[i]))\n",
    "    err = err + (P[i] - R[i]) # 오차의 합 산출\n",
    "print('오차:', err)"
   ]
  },
  {
   "cell_type": "code",
   "execution_count": 25,
   "metadata": {},
   "outputs": [
    {
     "data": {
      "image/png": "[encoded data removed]",
      "text/plain": [
       "<Figure size 576x216 with 1 Axes>"
      ]
     },
     "metadata": {
      "needs_background": "light"
     },
     "output_type": "display_data"
    }
   ],
   "source": [
    "plt.figure(figsize=(8, 3)) # 단위: 인치\n",
    "plt.plot(X, P, color='blue', linestyle='solid', marker='o') # 예측\n",
    "plt.plot(X, R, color='red', linestyle='solid', marker='o') # 실제\n",
    "plt.grid(True)\n",
    "plt.show()"
   ]
  },
  {
   "cell_type": "markdown",
   "metadata": {},
   "source": [
    "### 결론: 데이터에 오차는 구조적으로 있을 수 밖에 없음,\n",
    "#### 정확한 오차의 합을 구하기 위해 개선이 필요"
   ]
  },
  {
   "cell_type": "code",
   "execution_count": null,
   "metadata": {},
   "outputs": [],
   "source": []
  },
  {
   "cell_type": "code",
   "execution_count": null,
   "metadata": {},
   "outputs": [],
   "source": []
  },
  {
   "cell_type": "code",
   "execution_count": null,
   "metadata": {},
   "outputs": [],
   "source": []
  },
  {
   "cell_type": "code",
   "execution_count": null,
   "metadata": {},
   "outputs": [],
   "source": []
  },
  {
   "cell_type": "code",
   "execution_count": null,
   "metadata": {},
   "outputs": [],
   "source": []
  },
  {
   "cell_type": "code",
   "execution_count": null,
   "metadata": {},
   "outputs": [],
   "source": []
  },
  {
   "cell_type": "code",
   "execution_count": null,
   "metadata": {},
   "outputs": [],
   "source": []
  },
  {
   "cell_type": "code",
   "execution_count": null,
   "metadata": {},
   "outputs": [],
   "source": []
  },
  {
   "cell_type": "code",
   "execution_count": null,
   "metadata": {},
   "outputs": [],
   "source": []
  },
  {
   "cell_type": "code",
   "execution_count": null,
   "metadata": {},
   "outputs": [],
   "source": []
  },
  {
   "cell_type": "code",
   "execution_count": null,
   "metadata": {},
   "outputs": [],
   "source": []
  },
  {
   "cell_type": "code",
   "execution_count": null,
   "metadata": {},
   "outputs": [],
   "source": []
  },
  {
   "cell_type": "code",
   "execution_count": null,
   "metadata": {},
   "outputs": [],
   "source": []
  }
 ],
 "metadata": {
  "kernelspec": {
   "display_name": "ai",
   "language": "python",
   "name": "ai"
  },
  "language_info": {
   "codemirror_mode": {
    "name": "ipython",
    "version": 3
   },
   "file_extension": ".py",
   "mimetype": "text/x-python",
   "name": "python",
   "nbconvert_exporter": "python",
   "pygments_lexer": "ipython3",
   "version": "3.6.10"
  }
 },
 "nbformat": 4,
 "nbformat_minor": 4
}
