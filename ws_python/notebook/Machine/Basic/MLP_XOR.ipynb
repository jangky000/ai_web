{
 "cells": [
  {
   "cell_type": "markdown",
   "metadata": {
    "colab_type": "text",
    "id": "5rnuFhorCd5I"
   },
   "source": [
    "## 다층 퍼셉트론을 이용한 XOR 문제의 해결"
   ]
  },
  {
   "cell_type": "code",
   "execution_count": 10,
   "metadata": {
    "colab": {
     "base_uri": "https://localhost:8080/",
     "height": 35
    },
    "colab_type": "code",
    "id": "2D65aMIeCkDw",
    "outputId": "ff33603f-62fa-4d19-b84d-d23ad0572117"
   },
   "outputs": [
    {
     "name": "stdout",
     "output_type": "stream",
     "text": [
      "0 0 0 1\n"
     ]
    }
   ],
   "source": [
    "# AND\n",
    "\n",
    "def AND(x1, x2):\n",
    "    w1, w2, theta = .4, .4, .7\n",
    "    if x1*w1 + x2*w2 <= theta:\n",
    "        return 0\n",
    "    else :\n",
    "        return 1\n",
    "\n",
    "print(AND(0,0), AND(0,1), AND(1,0), AND(1,1))\n"
   ]
  },
  {
   "cell_type": "code",
   "execution_count": 2,
   "metadata": {
    "colab": {
     "base_uri": "https://localhost:8080/",
     "height": 35
    },
    "colab_type": "code",
    "id": "PxmDkNAL7nZ0",
    "outputId": "52d3d543-65e7-4b29-c0ba-fa9d2d7cffc4"
   },
   "outputs": [
    {
     "name": "stdout",
     "output_type": "stream",
     "text": [
      "0 1 1 1\n"
     ]
    }
   ],
   "source": [
    "# OR\n",
    "\n",
    "def OR(x1, x2):\n",
    "    w1, w2, theta = .4, .4, .3\n",
    "    if x1*w1 + x2*w2 <= theta:\n",
    "        return 0\n",
    "    else :\n",
    "        return 1\n",
    "\n",
    "print(OR(0,0), OR(0,1), OR(1,0), OR(1,1))\n"
   ]
  },
  {
   "cell_type": "code",
   "execution_count": 3,
   "metadata": {
    "colab": {
     "base_uri": "https://localhost:8080/",
     "height": 35
    },
    "colab_type": "code",
    "id": "LvGSx7-88ClK",
    "outputId": "7eed5dba-e298-4b5a-94db-beb795c676b3"
   },
   "outputs": [
    {
     "name": "stdout",
     "output_type": "stream",
     "text": [
      "1 1 1 0\n"
     ]
    }
   ],
   "source": [
    "# NAND\n",
    "\n",
    "def NAND(x1, x2):\n",
    "    w1, w2, theta = -.4, -.4, -.6\n",
    "    if x1*w1 + x2*w2 <= theta:\n",
    "        return 0\n",
    "    else :\n",
    "        return 1\n",
    "\n",
    "\n",
    "print(NAND(0,0), NAND(0,1), NAND(1,0), NAND(1,1))\n"
   ]
  },
  {
   "cell_type": "code",
   "execution_count": 4,
   "metadata": {
    "colab": {
     "base_uri": "https://localhost:8080/",
     "height": 35
    },
    "colab_type": "code",
    "id": "F1lH1BIo8ba3",
    "outputId": "3936711b-e984-440a-8c0f-f5899e746a30"
   },
   "outputs": [
    {
     "name": "stdout",
     "output_type": "stream",
     "text": [
      "0 1 1 0\n"
     ]
    }
   ],
   "source": [
    "# NAND, OR, AND 결합한 XOR 코드\n",
    "\n",
    "import numpy as np \n",
    "import matplotlib.pyplot as plt\n",
    "\n",
    "def AND(x1, x2):\n",
    "    w1, w2, theta = .4, .4, .7\n",
    "    if x1*w1 + x2*w2 <= theta:\n",
    "        return 0\n",
    "    else :\n",
    "        return 1\n",
    "\n",
    "def OR(x1, x2):\n",
    "    w1, w2, theta = .4, .4, .3\n",
    "    if x1*w1 + x2*w2 <= theta:\n",
    "        return 0\n",
    "    else :\n",
    "        return 1\n",
    "\n",
    "def NAND(x1, x2):\n",
    "    w1, w2, theta = -.4, -.4, -.6\n",
    "    if x1*w1 + x2*w2 <= theta:\n",
    "        return 0\n",
    "    else :\n",
    "        return 1\n",
    "\n",
    "def XOR(x1, x2):\n",
    "    h1 = NAND(x1, x2)\n",
    "    h2 = OR(x1, x2)\n",
    "    return AND(h1, h2)\n",
    "\n",
    "print(XOR(0,0), XOR(0,1), XOR(1,0), XOR(1,1))\n"
   ]
  },
  {
   "cell_type": "code",
   "execution_count": 11,
   "metadata": {
    "colab": {},
    "colab_type": "code",
    "id": "pYe2YRQ19JDP"
   },
   "outputs": [],
   "source": [
    "# 다층 퍼셉트론 함수 선언\n",
    "\n",
    "import numpy as np\n",
    "\n",
    "def DLPerceptron(X, W1, W2):\n",
    "    x = np.array(X)\n",
    "    w1 = np.array(W1)\n",
    "    w2 = np.array(W2)\n",
    "    h1 = np.array([0.0]*len(X))\n",
    "    y = np.array([0.0]*len(X))\n",
    "    for count in range(len(X)):\n",
    "        h1[count] = np.sum(x*w1[count]) > 0\n",
    "    for count in range(len(x)):\n",
    "        y[count] = np.sum(h1*w2[count]) > 0\n",
    "        \n",
    "    print(h1)    \n",
    "    print(y)    \n",
    "    return y\n"
   ]
  },
  {
   "cell_type": "code",
   "execution_count": 12,
   "metadata": {
    "colab": {
     "base_uri": "https://localhost:8080/",
     "height": 89
    },
    "colab_type": "code",
    "id": "4Dpbl3Qp9Rak",
    "outputId": "cabd8af2-d671-4c13-bd7d-591208f3bf2a"
   },
   "outputs": [
    {
     "name": "stdout",
     "output_type": "stream",
     "text": [
      "[1. 0. 0. 0. 0. 1.]\n",
      "[0. 0. 0. 0. 0. 0.]\n",
      "x1, x2 = (0, 0) :  [0. 0. 0. 0. 0. 0.]\n",
      "[1. 1. 0. 0. 0. 1.]\n",
      "[1. 0. 0. 0. 0. 0.]\n",
      "x1, x2 = (0, 1) :  [1. 0. 0. 0. 0. 0.]\n",
      "[1. 1. 0. 0. 0. 1.]\n",
      "[1. 0. 0. 0. 0. 0.]\n",
      "x1, x2 = (1, 0) :  [1. 0. 0. 0. 0. 0.]\n",
      "[0. 1. 0. 0. 0. 1.]\n",
      "[0. 0. 0. 0. 0. 0.]\n",
      "x1, x2 = (1, 1) :  [0. 0. 0. 0. 0. 0.]\n"
     ]
    }
   ],
   "source": [
    "W1 = [[-0.4, -0.4, 0, 0, 0, 0.6],\n",
    "[0.4, 0.4, 0, 0, 0, -0.3],\n",
    "[0, 0, 0, 0, 0, 0],\n",
    "[0, 0, 0, 0, 0, 0],\n",
    "[0, 0, 0, 0, 0, 0],\n",
    "[0, 0, 0, 0, 0, 1]]\n",
    "\n",
    "W2 = [[0.4, 0.4, 0, 0, 0, -0.7],\n",
    "[0, 0, 0, 0, 0, 0],\n",
    "[0, 0, 0, 0, 0, 0],\n",
    "[0, 0, 0, 0, 0, 0],\n",
    "[0, 0, 0, 0, 0, 0],\n",
    "[0, 0, 0, 0, 0, 0]]\n",
    "\n",
    "Ex00 = [0,0,0,0,0,1]\n",
    "Ex01 = [0,1,0,0,0,1]\n",
    "Ex10 = [1,0,0,0,0,1]\n",
    "Ex11 = [1,1,0,0,0,1]\n",
    "\n",
    "print(\"x1, x2 = (0, 0) : \", DLPerceptron(Ex00,W1,W2))\n",
    "print(\"x1, x2 = (0, 1) : \", DLPerceptron(Ex01,W1,W2))\n",
    "print(\"x1, x2 = (1, 0) : \", DLPerceptron(Ex10,W1,W2))\n",
    "print(\"x1, x2 = (1, 1) : \", DLPerceptron(Ex11,W1,W2))\n"
   ]
  },
  {
   "cell_type": "code",
   "execution_count": null,
   "metadata": {},
   "outputs": [],
   "source": []
  }
 ],
 "metadata": {
  "colab": {
   "authorship_tag": "ABX9TyM2ZZIWGVo9z8qvE7kapGLc",
   "collapsed_sections": [],
   "include_colab_link": true,
   "name": "aicode05.ipynb",
   "provenance": []
  },
  "kernelspec": {
   "display_name": "Python 3",
   "language": "python",
   "name": "python3"
  },
  "language_info": {
   "codemirror_mode": {
    "name": "ipython",
    "version": 3
   },
   "file_extension": ".py",
   "mimetype": "text/x-python",
   "name": "python",
   "nbconvert_exporter": "python",
   "pygments_lexer": "ipython3",
   "version": "3.7.3"
  }
 },
 "nbformat": 4,
 "nbformat_minor": 1
}
