{
 "cells": [
  {
   "cell_type": "code",
   "execution_count": 1,
   "metadata": {},
   "outputs": [],
   "source": [
    "import pandas as pd\n",
    "import numpy as np\n",
    "import matplotlib\n",
    "import matplotlib.pyplot as plt\n",
    "from matplotlib import font_manager, rc\n",
    "\n",
    "font_name = font_manager.FontProperties(fname=\"C:/Windows/Fonts/malgun.ttf\").get_name()\n",
    "rc('font', family=font_name)           # 맑은 고딕 폰트 지정\n",
    "plt.rcParams[\"font.size\"] = 12         # 글자 크기\n",
    "# plt.rcParams[\"figure.figsize\"] = (10, 4) # 10:4의 그래프 비율\n",
    "plt.rcParams['axes.unicode_minus'] = False  # minus 부호는 unicode 적용시 한글이 깨짐으로 설정\n",
    "\n",
    "# Jupyter에게 matplotlib 그래프를 출력 영역에 표시할 것을 지시하는 명령\n",
    "%matplotlib inline"
   ]
  },
  {
   "cell_type": "code",
   "execution_count": 28,
   "metadata": {},
   "outputs": [
    {
     "name": "stdout",
     "output_type": "stream",
     "text": [
      "[0, 79]\n",
      "[2, 81]\n",
      "[4, 93]\n",
      "[6, 91]\n",
      "[8, 97]\n"
     ]
    }
   ],
   "source": [
    "data = [[0, 79], # [공부 시간, 실제 성적]\n",
    "        [2, 81],\n",
    "        [4, 93],\n",
    "        [6, 91],\n",
    "        [8, 97]] # list\n",
    "\n",
    "for row in data:\n",
    "    print(row)"
   ]
  },
  {
   "cell_type": "code",
   "execution_count": 29,
   "metadata": {},
   "outputs": [
    {
     "name": "stdout",
     "output_type": "stream",
     "text": [
      "X:  [0, 2, 4, 6, 8]\n",
      "R:  [79, 81, 93, 91, 97]\n"
     ]
    }
   ],
   "source": [
    "X = [row[0] for row in data] # 하나의 행씩 row에 할당\n",
    "R = [row[1] for row in data]\n",
    "print('X: ', X)\n",
    "print('R: ', R)"
   ]
  },
  {
   "cell_type": "code",
   "execution_count": 30,
   "metadata": {},
   "outputs": [
    {
     "data": {
      "image/png": "[encoded data removed]",
      "text/plain": [
       "<Figure size 576x216 with 1 Axes>"
      ]
     },
     "metadata": {
      "needs_background": "light"
     },
     "output_type": "display_data"
    }
   ],
   "source": [
    "# 성적이 일정하지 않음\n",
    "plt.figure(figsize=(8, 3)) # 단위: 인치\n",
    "plt.plot(X, R, color='red', linestyle='solid', marker='o') # 실제\n",
    "plt.grid(True)\n",
    "plt.show()"
   ]
  },
  {
   "cell_type": "code",
   "execution_count": 31,
   "metadata": {},
   "outputs": [
    {
     "name": "stdout",
     "output_type": "stream",
     "text": [
      "선형회귀 모델: pd = 3.3x+80\n",
      "공부시간: 0, 예측: 80.000, 실제: 79, 오차: 1.000\n",
      "공부시간: 2, 예측: 86.600, 실제: 81, 오차: 5.600\n",
      "공부시간: 4, 예측: 93.200, 실제: 93, 오차: 0.200\n",
      "공부시간: 6, 예측: 99.800, 실제: 91, 오차: 8.800\n",
      "공부시간: 8, 예측: 106.400, 실제: 97, 오차: 9.400\n",
      "제곱하지않은 순수 오차의 합: 25.0\n"
     ]
    }
   ],
   "source": [
    "# 추세선: y = ax + b\n",
    "a = 3.3 # 기울기 예측\n",
    "b = 80 # y 절편 예측, 공부 안해도 80점\n",
    "print('선형회귀 모델: pd = {0:.1f}x+{1:.0f}'.format(a, b))\n",
    "pd_list = [] # 성적 예측 목록\n",
    "err_tot = 0 # 오차의 합\n",
    "for i in range(len(X)):# 0 ~ 4\n",
    "    pd = a * X[i] + b # 모델 사용\n",
    "    pd_list.append(pd)\n",
    "    err = pd-R[i] # 순수 오차, R[i] - pd도 가능\n",
    "    err_tot += err # 오차의 합\n",
    "    fmt = '공부시간: {0}, 예측: {1:.3f}, 실제: {2}, 오차: {3:.3f}'\n",
    "    print(fmt.format(X[i], pd, R[i], err))\n",
    "print('제곱하지않은 순수 오차의 합:', err_tot)    \n",
    "# 실제 성적보다 예측 성적이 높음"
   ]
  },
  {
   "cell_type": "code",
   "execution_count": 32,
   "metadata": {},
   "outputs": [
    {
     "data": {
      "image/png": "[encoded data removed]",
      "text/plain": [
       "<Figure size 576x216 with 1 Axes>"
      ]
     },
     "metadata": {
      "needs_background": "light"
     },
     "output_type": "display_data"
    }
   ],
   "source": [
    "plt.figure(figsize=(8, 3)) # 단위: 인치\n",
    "plt.plot(X, pd_list, color='blue', linestyle='solid', marker='o') # 예측\n",
    "plt.plot(X, R, color='red', linestyle='solid', marker='o') # 실제\n",
    "plt.grid(True)\n",
    "plt.show()"
   ]
  },
  {
   "cell_type": "code",
   "execution_count": 33,
   "metadata": {},
   "outputs": [
    {
     "name": "stdout",
     "output_type": "stream",
     "text": [
      "공부시간: 0, 예측: 75.000, 실제: 79, 오차: -4.000\n",
      "공부시간: 2, 예측: 77.600, 실제: 81, 오차: -3.400\n",
      "공부시간: 4, 예측: 80.200, 실제: 93, 오차: -12.800\n",
      "공부시간: 6, 예측: 82.800, 실제: 91, 오차: -8.200\n",
      "공부시간: 8, 예측: 85.400, 실제: 97, 오차: -11.600\n",
      "제곱하지않은 순수 오차의 합: -40.0\n"
     ]
    }
   ],
   "source": [
    "# y = ax + b\n",
    "a = 1.3\n",
    "b = 75\n",
    "pd_list = [] # 성적 예측 목록\n",
    "err_tot = 0  # 오차 총합\n",
    "for i in range(len(X)):\n",
    "    pd = a * X[i] + b\n",
    "    pd_list.append(pd) # 예측 목록\n",
    "    err = pd - R[i]    # 제곱하지않은 순수 오차, 예측값 - 실제값 \n",
    "    err_tot = err_tot + err # 오차합\n",
    "    fmt = '공부시간: {0}, 예측: {1:.3f}, 실제: {2}, 오차: {3:.3f}'\n",
    "    print(fmt.format(X[i], pd, R[i], err))\n",
    "print('제곱하지않은 순수 오차의 합:', err_tot)    \n",
    "# 실제 성적보다 예측 성적이 낮음"
   ]
  },
  {
   "cell_type": "code",
   "execution_count": 34,
   "metadata": {},
   "outputs": [
    {
     "data": {
      "image/png": "[encoded data removed]",
      "text/plain": [
       "<Figure size 576x216 with 1 Axes>"
      ]
     },
     "metadata": {
      "needs_background": "light"
     },
     "output_type": "display_data"
    }
   ],
   "source": [
    "plt.figure(figsize=(8, 3)) # 단위: 인치\n",
    "plt.plot(X, pd_list, color='blue', linestyle='solid', marker='o') # 예측\n",
    "plt.plot(X, R, color='red', linestyle='solid', marker='o') # 실제\n",
    "plt.grid(True)\n",
    "plt.show()"
   ]
  },
  {
   "cell_type": "code",
   "execution_count": 44,
   "metadata": {},
   "outputs": [
    {
     "name": "stdout",
     "output_type": "stream",
     "text": [
      "공부시간: 0, 예측: 79.000, 실제: 79, 오차: 0.000\n",
      "공부시간: 2, 예측: 83.600, 실제: 81, 오차: 2.600\n",
      "공부시간: 4, 예측: 88.200, 실제: 93, 오차: -4.800\n",
      "공부시간: 6, 예측: 92.800, 실제: 91, 오차: 1.800\n",
      "공부시간: 8, 예측: 97.400, 실제: 97, 오차: 0.400\n",
      "제곱하지않은 순수 오차의 합: 0.0\n"
     ]
    }
   ],
   "source": [
    "# y = ax + b\n",
    "a = 2.3 # 1.3\n",
    "b = 79  # 85\n",
    "pd_list = [] # 성적 예측 목록\n",
    "err_tot = 0  # 오차 총합\n",
    "for i in range(len(X)):\n",
    "    pd = a * X[i] + b\n",
    "    pd_list.append(pd) # 예측 목록\n",
    "    err = pd - R[i]    # 제곱하지않은 순수 오차, 예측값 - 실제값 \n",
    "    err_tot = err_tot + err # 오차합\n",
    "    fmt = '공부시간: {0}, 예측: {1:.3f}, 실제: {2}, 오차: {3:.3f}'\n",
    "    print(fmt.format(X[i], pd, R[i], err))\n",
    "print('제곱하지않은 순수 오차의 합:', err_tot)    \n",
    "# 실제 성적보다 예측 성적이 높음"
   ]
  },
  {
   "cell_type": "code",
   "execution_count": 45,
   "metadata": {},
   "outputs": [
    {
     "data": {
      "image/png": "[encoded data removed]",
      "text/plain": [
       "<Figure size 576x216 with 1 Axes>"
      ]
     },
     "metadata": {
      "needs_background": "light"
     },
     "output_type": "display_data"
    }
   ],
   "source": [
    "plt.figure(figsize=(8, 3)) # 단위: 인치\n",
    "plt.plot(X, pd_list, color='blue', linestyle='solid', marker='o') # 예측\n",
    "plt.plot(X, R, color='red', linestyle='solid', marker='o') # 실제\n",
    "plt.grid(True)\n",
    "plt.show()"
   ]
  },
  {
   "cell_type": "code",
   "execution_count": 46,
   "metadata": {},
   "outputs": [],
   "source": [
    "# 오차의 합이 0이라고 오차가 없다고 말 할 수 없음\n",
    "# 종각역에 11:30 막차가 11:29, 11:31에 온다고 오차가 없는 것이 아님."
   ]
  },
  {
   "cell_type": "code",
   "execution_count": 47,
   "metadata": {},
   "outputs": [],
   "source": [
    "# 오차가 존재하나 오차의 합이 0이 나옴\n",
    "# 실제 데이터와 예측값의 오차가 없는것으로 판단하는 논리적 오류 발생\n",
    "# RMSE: 평균 제곱근 오차 \n",
    "def rmse(p, r):  # p: 예측값, r: 실제값\n",
    "    print('p.shape:', p.shape)\n",
    "    print('r.shape:', r.shape)\n",
    "    se = (p - r) ** 2  # 오차 제곱         = 편차의 제곱\n",
    "    print('se.shape:', se.shape)\n",
    "    mse = se.mean()    # mean(): 평균 산출 = 분산\n",
    "    print('mse.shape:', mse.shape)\n",
    "    return np.sqrt(mse) # np.sqrt: √      = 표준편차"
   ]
  },
  {
   "cell_type": "code",
   "execution_count": 51,
   "metadata": {},
   "outputs": [
    {
     "name": "stdout",
     "output_type": "stream",
     "text": [
      "예측: [79.0, 83.6, 88.2, 92.8, 97.4]\n",
      "실제: [79, 81, 93, 91, 97]\n"
     ]
    }
   ],
   "source": [
    "print('예측:', pd_list) # 모델에 의해 산출된 값\n",
    "print('실제:', R)"
   ]
  },
  {
   "cell_type": "code",
   "execution_count": 57,
   "metadata": {},
   "outputs": [],
   "source": [
    "# 파이썬의 순수 list는 배열과 스칼라 값의 연산이 불가\n",
    "# 브로드캐스팅 지원 안 함\n",
    "# rmse(pd_list, R) # ERROR, unsupported operand type(s) for -: 'list' and 'list'"
   ]
  },
  {
   "cell_type": "code",
   "execution_count": 63,
   "metadata": {},
   "outputs": [
    {
     "name": "stdout",
     "output_type": "stream",
     "text": [
      "p.shape: (5,)\n",
      "r.shape: (5,)\n",
      "se.shape: (5,)\n",
      "mse.shape: ()\n",
      "RMSE 오차: 2.577\n"
     ]
    }
   ],
   "source": [
    "# numpy 배열로 변환\n",
    "rmse_val = rmse(np.array(pd_list), np.array(R))\n",
    "print('RMSE 오차: {0:.3f}'.format(rmse_val))\n",
    "# p.shape: (5,): 요소가 5개인 1차원 배열\n",
    "# mse.shape: () : 스칼라, 1개의 숫자 값"
   ]
  },
  {
   "cell_type": "code",
   "execution_count": 64,
   "metadata": {},
   "outputs": [
    {
     "name": "stdout",
     "output_type": "stream",
     "text": [
      "p.shape: (6,)\n",
      "r.shape: (6,)\n",
      "se.shape: (6,)\n",
      "mse.shape: ()\n",
      "RMSE 오차: 0.000\n"
     ]
    }
   ],
   "source": [
    "# 오차가 존재하지 않는 경우\n",
    "a = 2\n",
    "b = 50\n",
    "X = [i for i in range(6)]    # 0 ~ 5: 공부 시간\n",
    "R = [(a * x) + b for x in X] # 실제 성적\n",
    "P = R\n",
    "rmse_val = rmse(np.array(P), np.array(R))\n",
    "print('RMSE 오차: {0:.3f}'.format(rmse_val))\n",
    "# 모든 데이터가 선형회귀 모델(공식)과 일치하는 경우 0 발생\n",
    "# 현실적인 데이터 분포에서 존재하기 어려움."
   ]
  },
  {
   "cell_type": "markdown",
   "metadata": {},
   "source": [
    "y = aX + b에서 데이터를 읽고 오차가 가장 작은 a, b를 찾는 과정을\n",
    "머신러닝이라고함.\n",
    "데이터의 규칙(패턴)을 발견하고 최적의 a, b를 찾게됨.\n",
    "모델이 발견되면 새로운 X를 대입하여 y를 예측 할 수 있음."
   ]
  },
  {
   "cell_type": "code",
   "execution_count": null,
   "metadata": {},
   "outputs": [],
   "source": []
  },
  {
   "cell_type": "code",
   "execution_count": null,
   "metadata": {},
   "outputs": [],
   "source": []
  },
  {
   "cell_type": "code",
   "execution_count": null,
   "metadata": {},
   "outputs": [],
   "source": []
  },
  {
   "cell_type": "code",
   "execution_count": null,
   "metadata": {},
   "outputs": [],
   "source": []
  },
  {
   "cell_type": "code",
   "execution_count": null,
   "metadata": {},
   "outputs": [],
   "source": []
  }
 ],
 "metadata": {
  "kernelspec": {
   "display_name": "ai",
   "language": "python",
   "name": "ai"
  },
  "language_info": {
   "codemirror_mode": {
    "name": "ipython",
    "version": 3
   },
   "file_extension": ".py",
   "mimetype": "text/x-python",
   "name": "python",
   "nbconvert_exporter": "python",
   "pygments_lexer": "ipython3",
   "version": "3.6.10"
  }
 },
 "nbformat": 4,
 "nbformat_minor": 4
}
