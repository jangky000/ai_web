{
 "cells": [
  {
   "cell_type": "markdown",
   "metadata": {},
   "source": [
    "### 생존자의 패턴 학습에 실패했으므로 생존자를 판정할 수 없음\n",
    "#### 생존자 데이터 부족"
   ]
  },
  {
   "cell_type": "code",
   "execution_count": 1,
   "metadata": {},
   "outputs": [],
   "source": [
    "import warnings\n",
    "warnings.filterwarnings(action='ignore')\n",
    "     \n",
    "from tensorflow.keras.models import load_model      # model 사용\n",
    "import numpy as np"
   ]
  },
  {
   "cell_type": "code",
   "execution_count": 2,
   "metadata": {},
   "outputs": [
    {
     "name": "stdout",
     "output_type": "stream",
     "text": [
      "<class 'numpy.ndarray'>\n",
      "(17,)\n",
      "[42.    2.    3.24  2.52  1.    0.    0.    0.    1.    0.   12.    0.\n",
      "  0.    0.    1.    0.   63.  ]\n"
     ]
    }
   ],
   "source": [
    "# 데이터\n",
    "# x_data = np.array([\n",
    "#     [10, 1, 3.8, 2.8, 1, 1, 0, 0, 0, 0, 12, 0, 0, 0, 1, 0, 62],\n",
    "# ])\n",
    "\n",
    "#------------------------------------------------------------\n",
    "# 생존자의 패턴 학습에 실패했으므로 생존자를 판정할 수 없음\n",
    "#------------------------------------------------------------\n",
    "data = \"42,2,3.24,2.52,1,1,1,1,1,1,12,0,0,0,1,0,63\" # 생존\n",
    "# data = \"10, 1, 3.8, 2.8, 1, 2, 1, 2, 2, 0, 12, 0, 1, 1, 1, 0, 62\" # 사망\n",
    "data = np.array(data.split(','), dtype=float)  # or int\n",
    "print(type(data)) # <class 'numpy.ndarray'>\n",
    "print(data.shape) # (17,)\n",
    "print(data)"
   ]
  },
  {
   "cell_type": "code",
   "execution_count": 3,
   "metadata": {},
   "outputs": [
    {
     "name": "stdout",
     "output_type": "stream",
     "text": [
      "<class 'numpy.ndarray'>\n",
      "(1, 17)\n",
      "[[42.    2.    3.24  2.52  1.    0.    0.    0.    1.    0.   12.    0.\n",
      "   0.    0.    1.    0.   63.  ]]\n"
     ]
    }
   ],
   "source": [
    "# 2차원 배열 데이터 생성\n",
    "x_data = np.array([\n",
    "    data,\n",
    "])\n",
    "print(type(x_data))\n",
    "print(x_data.shape) # (1, 17)\n",
    "print(x_data) "
   ]
  },
  {
   "cell_type": "code",
   "execution_count": 4,
   "metadata": {},
   "outputs": [
    {
     "name": "stdout",
     "output_type": "stream",
     "text": [
      "(1, 17)\n",
      "(1, 17)\n",
      "(17,)\n",
      "<class 'numpy.ndarray'>\n"
     ]
    }
   ],
   "source": [
    "print(x_data.shape)\n",
    "print(x_data[0:1].shape) # 2 차원\n",
    "print(x_data[0].shape)   # 1 차원\n",
    "print(type(x_data[0]))"
   ]
  },
  {
   "cell_type": "code",
   "execution_count": 6,
   "metadata": {},
   "outputs": [
    {
     "name": "stdout",
     "output_type": "stream",
     "text": [
      "(1, 1)\n",
      "<class 'numpy.ndarray'>\n",
      "[[0.19040081]]\n",
      "생존 확률: [0.19040081] → 사망\n"
     ]
    }
   ],
   "source": [
    "# model = load_model('./Overfit.h5')  # 가중치의 특성을 유지\n",
    "# model = load_model('./L1L2.h5')     # 가중치의 특성(비중)을 제거\n",
    "model = load_model('./l1l2_dropout.h5') # 가중치의 특성(비중)제거 + 노드 제거\n",
    "y_predict = model.predict(x_data) # 1건의 데이터, 사용 가능, 2차원 배열\n",
    "# y_predict = model.predict(x_data[0:1]) # 1건의 데이터, 사용 가능, 2차원 배열\n",
    "# y_predict = model.predict(x_data[0]) # 1건의 데이터, ERROR\n",
    "print(y_predict.shape)\n",
    "print(type(y_predict))\n",
    "print(y_predict)\n",
    "\n",
    "for i in range(len(x_data)):\n",
    "    print('생존 확률:', y_predict[i], end='')\n",
    "    \n",
    "    if y_predict[i] >= 0.5:\n",
    "        print(' → 생존')\n",
    "        res = '생존'\n",
    "    else:\n",
    "        print(' → 사망');\n",
    "        res = '사망'\n",
    "\n",
    "# 생존 확률: [0.9000551] → 생존\n"
   ]
  },
  {
   "cell_type": "code",
   "execution_count": 7,
   "metadata": {},
   "outputs": [
    {
     "name": "stdout",
     "output_type": "stream",
     "text": [
      "[[293.     1.     3.8    2.8    0.     0.     0.     0.     0.     0.\n",
      "   12.     0.     0.     0.     1.     0.    62.  ]\n",
      " [  1.     2.     2.88   2.16   1.     0.     0.     0.     1.     1.\n",
      "   14.     0.     0.     0.     1.     0.    60.  ]\n",
      " [  8.     2.     3.19   2.5    1.     0.     0.     0.     1.     0.\n",
      "   11.     0.     0.     1.     1.     0.    66.  ]\n",
      " [ 14.     2.     3.98   3.06   2.     0.     0.     0.     1.     1.\n",
      "   14.     0.     0.     0.     1.     0.    80.  ]\n",
      " [ 17.     2.     2.21   1.88   0.     0.     1.     0.     0.     0.\n",
      "   12.     0.     0.     0.     1.     0.    56.  ]\n",
      " [ 18.     2.     2.96   1.67   0.     0.     0.     0.     0.     0.\n",
      "   12.     0.     0.     0.     1.     0.    61.  ]\n",
      " [ 35.     2.     2.76   2.2    1.     0.     0.     0.     1.     0.\n",
      "   11.     0.     0.     0.     0.     0.    76.  ]\n",
      " [ 42.     2.     3.24   2.52   1.     0.     0.     0.     1.     0.\n",
      "   12.     0.     0.     0.     1.     0.    63.  ]\n",
      " [ 65.     2.     3.15   2.76   1.     0.     1.     0.     1.     0.\n",
      "   12.     0.     0.     0.     1.     0.    59.  ]\n",
      " [111.     2.     4.48   4.2    0.     0.     0.     0.     0.     0.\n",
      "   12.     0.     0.     0.     1.     0.    55.  ]]\n"
     ]
    }
   ],
   "source": [
    "# 데이터\n",
    "# x_data = np.array([[293,1,3.8,2.8,0,0,0,0,0,0,12,0,0,0,1,0,62]])\n",
    "x_data = np.array([\n",
    "[293,1,3.8,2.8,0,0,0,0,0,0,12,0,0,0,1,0,62],\n",
    "[1,2,2.88,2.16,1,0,0,0,1,1,14,0,0,0,1,0,60],\n",
    "[8,2,3.19,2.5,1,0,0,0,1,0,11,0,0,1,1,0,66],\n",
    "[14,2,3.98,3.06,2,0,0,0,1,1,14,0,0,0,1,0,80],\n",
    "[17,2,2.21,1.88,0,0,1,0,0,0,12,0,0,0,1,0,56],\n",
    "[18,2,2.96,1.67,0,0,0,0,0,0,12,0,0,0,1,0,61],\n",
    "[35,2,2.76,2.2,1,0,0,0,1,0,11,0,0,0,0,0,76],\n",
    "[42,2,3.24,2.52,1,0,0,0,1,0,12,0,0,0,1,0,63],\n",
    "[65,2,3.15,2.76,1,0,1,0,1,0,12,0,0,0,1,0,59],\n",
    "[111,2,4.48,4.2,0,0,0,0,0,0,12,0,0,0,1,0,55]\n",
    "])\n",
    "\n",
    "# y 값은 sigmoid 함수의 경계값인 0과 1을 지정해야 2항 분류가 됨.\n",
    "# [293,1,3.8,2.8,0,0,0,0,0,0,12,0,0,0,1,0,62], --> 0\n",
    "# [1,2,2.88,2.16,1,0,0,0,1,1,14,0,0,0,1,0,60], --> 0\n",
    "# [8,2,3.19,2.5,1,0,0,0,1,0,11,0,0,1,1,0,66],  --> 1\n",
    "\n",
    "y_data = np.array([[0],\n",
    "                   [0],\n",
    "                   [1],\n",
    "                   [1],\n",
    "                   [0],\n",
    "                   [0],\n",
    "                   [0],\n",
    "                   [1],\n",
    "                   [0],\n",
    "                   [0]])\n",
    "\n",
    "print(x_data[0:17]) "
   ]
  },
  {
   "cell_type": "code",
   "execution_count": 8,
   "metadata": {},
   "outputs": [
    {
     "name": "stdout",
     "output_type": "stream",
     "text": [
      "(10, 1)\n",
      "<class 'numpy.ndarray'>\n",
      "[[0.10049036]\n",
      " [0.30001903]\n",
      " [0.24423003]\n",
      " [0.22802109]\n",
      " [0.24416915]\n",
      " [0.20148858]\n",
      " [0.16440713]\n",
      " [0.19040078]\n",
      " [0.20593783]\n",
      " [0.16347064]]\n",
      "실제값: [0]  → 계산값: [0.10049036] → 예측값: 0 사망\n",
      "실제값: [0]  → 계산값: [0.30001903] → 예측값: 0 사망\n",
      "실제값: [1]  → 계산값: [0.24423003] → 예측값: 0 사망\n",
      "실제값: [1]  → 계산값: [0.22802109] → 예측값: 0 사망\n",
      "실제값: [0]  → 계산값: [0.24416915] → 예측값: 0 사망\n",
      "실제값: [0]  → 계산값: [0.20148858] → 예측값: 0 사망\n",
      "실제값: [0]  → 계산값: [0.16440713] → 예측값: 0 사망\n",
      "실제값: [1]  → 계산값: [0.19040078] → 예측값: 0 사망\n",
      "실제값: [0]  → 계산값: [0.20593783] → 예측값: 0 사망\n",
      "실제값: [0]  → 계산값: [0.16347064] → 예측값: 0 사망\n"
     ]
    }
   ],
   "source": [
    "y_predict = model.predict(x_data)\n",
    "print(y_predict.shape)\n",
    "print(type(y_predict))\n",
    "print(y_predict)\n",
    "\n",
    "for i in range(len(x_data)):\n",
    "    print('실제값:', y_data[i], ' → 계산값:', y_predict[i], end='')\n",
    "    \n",
    "    if y_predict[i] >= 0.5:\n",
    "        y_predict[i] = 1\n",
    "        sw = '생존'\n",
    "    else:\n",
    "        y_predict[i] = 0\n",
    "        sw = '사망'\n",
    "    print(' → 예측값:', int(y_predict[i]), sw)"
   ]
  },
  {
   "cell_type": "code",
   "execution_count": null,
   "metadata": {},
   "outputs": [],
   "source": []
  },
  {
   "cell_type": "code",
   "execution_count": null,
   "metadata": {},
   "outputs": [],
   "source": []
  },
  {
   "cell_type": "code",
   "execution_count": null,
   "metadata": {},
   "outputs": [],
   "source": []
  },
  {
   "cell_type": "code",
   "execution_count": null,
   "metadata": {},
   "outputs": [],
   "source": []
  },
  {
   "cell_type": "code",
   "execution_count": null,
   "metadata": {},
   "outputs": [],
   "source": []
  },
  {
   "cell_type": "code",
   "execution_count": null,
   "metadata": {},
   "outputs": [],
   "source": []
  }
 ],
 "metadata": {
  "kernelspec": {
   "display_name": "ai",
   "language": "python",
   "name": "ai"
  },
  "language_info": {
   "codemirror_mode": {
    "name": "ipython",
    "version": 3
   },
   "file_extension": ".py",
   "mimetype": "text/x-python",
   "name": "python",
   "nbconvert_exporter": "python",
   "pygments_lexer": "ipython3",
   "version": "3.6.10"
  }
 },
 "nbformat": 4,
 "nbformat_minor": 2
}
