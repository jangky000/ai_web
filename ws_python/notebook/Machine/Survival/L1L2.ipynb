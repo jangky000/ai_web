{
 "cells": [
  {
   "cell_type": "markdown",
   "metadata": {},
   "source": [
    "### Overfit 개선을 위한 L1, L2 규제의 적용"
   ]
  },
  {
   "cell_type": "code",
   "execution_count": 1,
   "metadata": {},
   "outputs": [
    {
     "data": {
      "application/javascript": [
       "IPython.notebook.set_autosave_interval(0)"
      ]
     },
     "metadata": {},
     "output_type": "display_data"
    },
    {
     "name": "stdout",
     "output_type": "stream",
     "text": [
      "Autosave disabled\n"
     ]
    }
   ],
   "source": [
    "%autosave 0\n",
    "import numpy as np\n",
    "import pandas as pd\n",
    "\n",
    "from tensorflow.keras.models import Sequential      # class\n",
    "from tensorflow.keras.models import load_model      # model 사용\n",
    "from tensorflow.keras.layers import Dense           # 전결합\n",
    "from tensorflow.keras.callbacks import EarlyStopping # 학습 자동 중지\n",
    "from tensorflow.keras import regularizers   # L1, L2 규제 적용\n",
    "\n",
    "from sklearn.preprocessing import LabelEncoder\n",
    "from sklearn.model_selection import train_test_split\n",
    "from sklearn.model_selection import StratifiedKFold  # K 겹 교차 검증\n",
    "\n",
    "import matplotlib\n",
    "import matplotlib.pyplot as plt\n",
    "from matplotlib import font_manager, rc\n",
    "\n",
    "font_name = font_manager.FontProperties(fname=\"C:/Windows/Fonts/malgun.ttf\").get_name()\n",
    "# windows 10\n",
    "# font_name = font_manager.FontProperties(fname=\"C:/Windows/Fonts/malgunsl.ttf\").get_name()\n",
    "rc('font', family=font_name)           # 맑은 고딕 폰트 지정\n",
    "plt.rcParams[\"font.size\"] = 12         # 글자 크기\n",
    "# plt.rcParams[\"figure.figsize\"] = (10, 4) # 10:4의 그래프 비율\n",
    "plt.rcParams['axes.unicode_minus'] = False  # minus 부호는 unicode 적용시 한글이 깨짐으로 설정\n",
    "\n",
    "# Jupyter에게 matplotlib 그래프를 출력 영역에 표시할 것을 지시하는 명령\n",
    "%matplotlib inline  "
   ]
  },
  {
   "cell_type": "code",
   "execution_count": 2,
   "metadata": {},
   "outputs": [
    {
     "name": "stdout",
     "output_type": "stream",
     "text": [
      "<class 'numpy.ndarray'>\n",
      "(470, 18)\n"
     ]
    }
   ],
   "source": [
    "data = np.loadtxt('./Survival.csv', delimiter=\",\", dtype=np.float64)\n",
    "print(type(data))\n",
    "print(data.shape)"
   ]
  },
  {
   "cell_type": "code",
   "execution_count": 3,
   "metadata": {},
   "outputs": [
    {
     "name": "stdout",
     "output_type": "stream",
     "text": [
      "(470, 17)\n",
      "(470,)\n"
     ]
    }
   ],
   "source": [
    "X = data[:, 0:17] # 0 ~ 16: 17개\n",
    "print(X.shape)\n",
    "Y = data[:, 17]   # 17: 1개\n",
    "print(Y.shape)"
   ]
  },
  {
   "cell_type": "code",
   "execution_count": 4,
   "metadata": {},
   "outputs": [
    {
     "name": "stdout",
     "output_type": "stream",
     "text": [
      "[0. 0. 0. 1. 0. 0. 0. 0. 0. 0. 0. 1. 0. 0. 0. 0. 0. 0. 0. 1. 0. 0. 0. 0.\n",
      " 0. 0. 0. 0. 0. 1. 0. 1. 0. 0. 0. 0. 0. 0. 0. 0. 1. 0. 0.]\n",
      "(43,)\n"
     ]
    }
   ],
   "source": [
    "# train_test_split 분할을 통한 훈련, 검증, 테스트 데이터의 분리\n",
    "seed = 0\n",
    "# 90%: 분할대기(x_train_all), 10%: 테스트(x_test)\n",
    "x_train_all, x_test, y_train_all, y_test = train_test_split(X, Y,\n",
    "                                                          stratify=Y,\n",
    "                                                          test_size=0.1,\n",
    "                                                          random_state=seed)\n",
    "# 약한 Overfit\n",
    "# 나머지 데이터 90%를 분할, 70%: 훈련(x_train), 30%: 검증(x_val)\n",
    "\n",
    "# 강한 Overfit\n",
    "# 나머지 데이터 90%를 분할, 90%: 훈련(x_train), 10%: 검증(x_val)\n",
    "x_train, x_val, y_train, y_val = train_test_split(x_train_all, y_train_all,\n",
    "                                                  stratify=y_train_all,\n",
    "                                                  test_size=0.1,\n",
    "                                                  random_state=seed)\n",
    "\n",
    "print(y_val[0:100])\n",
    "print(y_val.shape)"
   ]
  },
  {
   "cell_type": "code",
   "execution_count": 5,
   "metadata": {},
   "outputs": [
    {
     "name": "stdout",
     "output_type": "stream",
     "text": [
      "Train on 380 samples, validate on 43 samples\n",
      "Epoch 1/1000\n",
      "380/380 [==============================] - 1s 3ms/sample - loss: 1.0298 - accuracy: 0.8105 - val_loss: 0.5425 - val_accuracy: 0.8605\n",
      "Epoch 2/1000\n",
      "380/380 [==============================] - 0s 772us/sample - loss: 0.6226 - accuracy: 0.8184 - val_loss: 0.5723 - val_accuracy: 0.8605\n",
      "Epoch 3/1000\n",
      "380/380 [==============================] - 0s 683us/sample - loss: 0.6164 - accuracy: 0.8368 - val_loss: 0.4876 - val_accuracy: 0.8605\n",
      "Epoch 4/1000\n",
      "380/380 [==============================] - 0s 667us/sample - loss: 0.5065 - accuracy: 0.8500 - val_loss: 0.5012 - val_accuracy: 0.8605\n",
      "Epoch 5/1000\n",
      "380/380 [==============================] - 0s 701us/sample - loss: 0.4925 - accuracy: 0.8500 - val_loss: 0.4849 - val_accuracy: 0.8605\n",
      "Epoch 6/1000\n",
      "380/380 [==============================] - 0s 700us/sample - loss: 0.4832 - accuracy: 0.8500 - val_loss: 0.4742 - val_accuracy: 0.8605\n",
      "Epoch 7/1000\n",
      "380/380 [==============================] - 0s 702us/sample - loss: 0.4782 - accuracy: 0.8500 - val_loss: 0.4674 - val_accuracy: 0.8605\n",
      "Epoch 8/1000\n",
      "380/380 [==============================] - 0s 702us/sample - loss: 0.4890 - accuracy: 0.8474 - val_loss: 0.5095 - val_accuracy: 0.8605\n",
      "Epoch 9/1000\n",
      "380/380 [==============================] - 0s 702us/sample - loss: 0.5197 - accuracy: 0.8474 - val_loss: 0.5962 - val_accuracy: 0.8605\n",
      "Epoch 10/1000\n",
      "380/380 [==============================] - 0s 743us/sample - loss: 0.4998 - accuracy: 0.8447 - val_loss: 0.4694 - val_accuracy: 0.8605\n",
      "Epoch 11/1000\n",
      "380/380 [==============================] - 0s 694us/sample - loss: 0.4776 - accuracy: 0.8500 - val_loss: 0.4580 - val_accuracy: 0.8605\n",
      "Epoch 12/1000\n",
      "380/380 [==============================] - 0s 708us/sample - loss: 0.4687 - accuracy: 0.8500 - val_loss: 0.4577 - val_accuracy: 0.8605\n",
      "Epoch 13/1000\n",
      "380/380 [==============================] - 0s 699us/sample - loss: 0.4612 - accuracy: 0.8500 - val_loss: 0.4746 - val_accuracy: 0.8605\n",
      "Epoch 14/1000\n",
      "380/380 [==============================] - 0s 702us/sample - loss: 0.4556 - accuracy: 0.8500 - val_loss: 0.4738 - val_accuracy: 0.8605\n",
      "Epoch 15/1000\n",
      "380/380 [==============================] - 0s 780us/sample - loss: 0.4616 - accuracy: 0.8500 - val_loss: 0.4675 - val_accuracy: 0.8605\n",
      "Epoch 16/1000\n",
      "380/380 [==============================] - 0s 688us/sample - loss: 0.4817 - accuracy: 0.8500 - val_loss: 0.4828 - val_accuracy: 0.8605\n",
      "Epoch 17/1000\n",
      "380/380 [==============================] - 0s 756us/sample - loss: 0.4628 - accuracy: 0.8500 - val_loss: 0.4559 - val_accuracy: 0.8605\n",
      "Epoch 18/1000\n",
      "380/380 [==============================] - 0s 702us/sample - loss: 0.4638 - accuracy: 0.8500 - val_loss: 0.4545 - val_accuracy: 0.8605\n",
      "Epoch 19/1000\n",
      "380/380 [==============================] - 0s 704us/sample - loss: 0.4545 - accuracy: 0.8500 - val_loss: 0.4672 - val_accuracy: 0.8605\n",
      "Epoch 20/1000\n",
      "380/380 [==============================] - 0s 811us/sample - loss: 0.4703 - accuracy: 0.8500 - val_loss: 0.4619 - val_accuracy: 0.8605\n",
      "Epoch 21/1000\n",
      "380/380 [==============================] - 0s 801us/sample - loss: 0.4522 - accuracy: 0.8500 - val_loss: 0.4670 - val_accuracy: 0.8605\n",
      "Epoch 22/1000\n",
      "380/380 [==============================] - 0s 713us/sample - loss: 0.4631 - accuracy: 0.8500 - val_loss: 0.4606 - val_accuracy: 0.8605\n",
      "Epoch 23/1000\n",
      "380/380 [==============================] - 0s 708us/sample - loss: 0.4443 - accuracy: 0.8500 - val_loss: 0.4546 - val_accuracy: 0.8605\n",
      "Epoch 24/1000\n",
      "380/380 [==============================] - 0s 689us/sample - loss: 0.4558 - accuracy: 0.8500 - val_loss: 0.4572 - val_accuracy: 0.8605\n",
      "Epoch 25/1000\n",
      "380/380 [==============================] - 0s 769us/sample - loss: 0.4498 - accuracy: 0.8500 - val_loss: 0.4511 - val_accuracy: 0.8605\n",
      "Epoch 26/1000\n",
      "380/380 [==============================] - 0s 702us/sample - loss: 0.4479 - accuracy: 0.8500 - val_loss: 0.4683 - val_accuracy: 0.8605\n",
      "Epoch 27/1000\n",
      "380/380 [==============================] - 0s 686us/sample - loss: 0.4478 - accuracy: 0.8500 - val_loss: 0.4452 - val_accuracy: 0.8605\n",
      "Epoch 28/1000\n",
      "380/380 [==============================] - 0s 693us/sample - loss: 0.4564 - accuracy: 0.8500 - val_loss: 0.4652 - val_accuracy: 0.8605\n",
      "Epoch 29/1000\n",
      "380/380 [==============================] - 0s 709us/sample - loss: 0.4475 - accuracy: 0.8500 - val_loss: 0.4702 - val_accuracy: 0.8605\n",
      "Epoch 30/1000\n",
      "380/380 [==============================] - 0s 703us/sample - loss: 0.4487 - accuracy: 0.8500 - val_loss: 0.4508 - val_accuracy: 0.8605\n",
      "Epoch 31/1000\n",
      "380/380 [==============================] - 0s 764us/sample - loss: 0.4452 - accuracy: 0.8500 - val_loss: 0.4704 - val_accuracy: 0.8605\n",
      "Epoch 32/1000\n",
      "380/380 [==============================] - 0s 678us/sample - loss: 0.4546 - accuracy: 0.8500 - val_loss: 0.4480 - val_accuracy: 0.8605\n",
      "Epoch 33/1000\n",
      "380/380 [==============================] - 0s 753us/sample - loss: 0.4518 - accuracy: 0.8500 - val_loss: 0.4661 - val_accuracy: 0.8605\n",
      "Epoch 34/1000\n",
      "380/380 [==============================] - 0s 692us/sample - loss: 0.4450 - accuracy: 0.8500 - val_loss: 0.4488 - val_accuracy: 0.8605\n",
      "Epoch 35/1000\n",
      "380/380 [==============================] - 0s 786us/sample - loss: 0.4409 - accuracy: 0.8500 - val_loss: 0.4440 - val_accuracy: 0.8605\n",
      "Epoch 36/1000\n",
      "380/380 [==============================] - 0s 700us/sample - loss: 0.4393 - accuracy: 0.8500 - val_loss: 0.4508 - val_accuracy: 0.8605\n",
      "Epoch 37/1000\n",
      "380/380 [==============================] - 0s 699us/sample - loss: 0.4416 - accuracy: 0.8500 - val_loss: 0.4455 - val_accuracy: 0.8605\n",
      "Epoch 38/1000\n",
      "380/380 [==============================] - 0s 705us/sample - loss: 0.4379 - accuracy: 0.8500 - val_loss: 0.4422 - val_accuracy: 0.8605\n",
      "Epoch 39/1000\n",
      "380/380 [==============================] - 0s 701us/sample - loss: 0.4400 - accuracy: 0.8500 - val_loss: 0.4460 - val_accuracy: 0.8605\n",
      "Epoch 40/1000\n",
      "380/380 [==============================] - 0s 701us/sample - loss: 0.4385 - accuracy: 0.8500 - val_loss: 0.4394 - val_accuracy: 0.8605\n",
      "Epoch 41/1000\n",
      "380/380 [==============================] - 0s 817us/sample - loss: 0.4378 - accuracy: 0.8500 - val_loss: 0.4402 - val_accuracy: 0.8605\n",
      "Epoch 42/1000\n",
      "380/380 [==============================] - 0s 698us/sample - loss: 0.4332 - accuracy: 0.8500 - val_loss: 0.4705 - val_accuracy: 0.8605\n",
      "Epoch 43/1000\n",
      "380/380 [==============================] - 0s 691us/sample - loss: 0.4410 - accuracy: 0.8500 - val_loss: 0.4342 - val_accuracy: 0.8605\n",
      "Epoch 44/1000\n",
      "380/380 [==============================] - 0s 690us/sample - loss: 0.4372 - accuracy: 0.8500 - val_loss: 0.4378 - val_accuracy: 0.8605\n",
      "Epoch 45/1000\n",
      "380/380 [==============================] - 0s 699us/sample - loss: 0.4399 - accuracy: 0.8500 - val_loss: 0.4372 - val_accuracy: 0.8605\n",
      "Epoch 46/1000\n",
      "380/380 [==============================] - 0s 684us/sample - loss: 0.4319 - accuracy: 0.8500 - val_loss: 0.4380 - val_accuracy: 0.8605\n",
      "Epoch 47/1000\n",
      "380/380 [==============================] - 0s 710us/sample - loss: 0.4354 - accuracy: 0.8500 - val_loss: 0.5411 - val_accuracy: 0.8605\n",
      "Epoch 48/1000\n",
      "380/380 [==============================] - 0s 686us/sample - loss: 0.4353 - accuracy: 0.8500 - val_loss: 0.4338 - val_accuracy: 0.8605\n",
      "Epoch 49/1000\n",
      "380/380 [==============================] - 0s 679us/sample - loss: 0.4301 - accuracy: 0.8500 - val_loss: 0.4310 - val_accuracy: 0.8605\n",
      "Epoch 50/1000\n",
      "380/380 [==============================] - 0s 676us/sample - loss: 0.4309 - accuracy: 0.8500 - val_loss: 0.4387 - val_accuracy: 0.8605\n",
      "Epoch 51/1000\n",
      "380/380 [==============================] - 0s 710us/sample - loss: 0.4278 - accuracy: 0.8500 - val_loss: 0.4443 - val_accuracy: 0.8605\n",
      "Epoch 52/1000\n",
      "380/380 [==============================] - 0s 683us/sample - loss: 0.4316 - accuracy: 0.8500 - val_loss: 0.4302 - val_accuracy: 0.8605\n",
      "Epoch 53/1000\n",
      "380/380 [==============================] - 0s 681us/sample - loss: 0.4291 - accuracy: 0.8500 - val_loss: 0.4345 - val_accuracy: 0.8605\n",
      "Epoch 54/1000\n",
      "380/380 [==============================] - 0s 676us/sample - loss: 0.4329 - accuracy: 0.8500 - val_loss: 0.4321 - val_accuracy: 0.8605\n",
      "Epoch 55/1000\n",
      "380/380 [==============================] - 0s 688us/sample - loss: 0.4303 - accuracy: 0.8500 - val_loss: 0.4319 - val_accuracy: 0.8605\n"
     ]
    },
    {
     "name": "stdout",
     "output_type": "stream",
     "text": [
      "Epoch 56/1000\n",
      "380/380 [==============================] - 0s 709us/sample - loss: 0.4257 - accuracy: 0.8500 - val_loss: 0.4322 - val_accuracy: 0.8605\n",
      "Epoch 57/1000\n",
      "380/380 [==============================] - 0s 704us/sample - loss: 0.4320 - accuracy: 0.8500 - val_loss: 0.4894 - val_accuracy: 0.8605\n",
      "Epoch 58/1000\n",
      "380/380 [==============================] - 0s 692us/sample - loss: 0.4239 - accuracy: 0.8500 - val_loss: 0.4390 - val_accuracy: 0.8605\n",
      "Epoch 59/1000\n",
      "380/380 [==============================] - 0s 705us/sample - loss: 0.4336 - accuracy: 0.8500 - val_loss: 0.4295 - val_accuracy: 0.8605\n",
      "Epoch 60/1000\n",
      "380/380 [==============================] - 0s 683us/sample - loss: 0.4265 - accuracy: 0.8500 - val_loss: 0.4306 - val_accuracy: 0.8605\n",
      "Epoch 61/1000\n",
      "380/380 [==============================] - 0s 678us/sample - loss: 0.4257 - accuracy: 0.8500 - val_loss: 0.4245 - val_accuracy: 0.8605\n",
      "Epoch 62/1000\n",
      "380/380 [==============================] - 0s 671us/sample - loss: 0.4286 - accuracy: 0.8500 - val_loss: 0.4250 - val_accuracy: 0.8605\n",
      "Epoch 63/1000\n",
      "380/380 [==============================] - 0s 677us/sample - loss: 0.4337 - accuracy: 0.8500 - val_loss: 0.4274 - val_accuracy: 0.8605\n",
      "Epoch 64/1000\n",
      "380/380 [==============================] - 0s 699us/sample - loss: 0.4313 - accuracy: 0.8500 - val_loss: 0.4273 - val_accuracy: 0.8605\n",
      "Epoch 65/1000\n",
      "380/380 [==============================] - 0s 703us/sample - loss: 0.4278 - accuracy: 0.8500 - val_loss: 0.4267 - val_accuracy: 0.8605\n",
      "Epoch 66/1000\n",
      "380/380 [==============================] - 0s 695us/sample - loss: 0.4285 - accuracy: 0.8500 - val_loss: 0.4359 - val_accuracy: 0.8605\n",
      "Epoch 67/1000\n",
      "380/380 [==============================] - 0s 702us/sample - loss: 0.4257 - accuracy: 0.8500 - val_loss: 0.4243 - val_accuracy: 0.8605\n",
      "Epoch 68/1000\n",
      "380/380 [==============================] - 0s 704us/sample - loss: 0.4258 - accuracy: 0.8500 - val_loss: 0.4280 - val_accuracy: 0.8605\n",
      "Epoch 69/1000\n",
      "380/380 [==============================] - 0s 701us/sample - loss: 0.4313 - accuracy: 0.8500 - val_loss: 0.4259 - val_accuracy: 0.8605\n",
      "Epoch 70/1000\n",
      "380/380 [==============================] - 0s 701us/sample - loss: 0.4256 - accuracy: 0.8500 - val_loss: 0.4259 - val_accuracy: 0.8605\n",
      "Epoch 71/1000\n",
      "380/380 [==============================] - 0s 703us/sample - loss: 0.4254 - accuracy: 0.8500 - val_loss: 0.4253 - val_accuracy: 0.8605\n",
      "Epoch 72/1000\n",
      "380/380 [==============================] - 0s 702us/sample - loss: 0.4247 - accuracy: 0.8500 - val_loss: 0.4248 - val_accuracy: 0.8605\n",
      "Epoch 73/1000\n",
      "380/380 [==============================] - 0s 1ms/sample - loss: 0.4235 - accuracy: 0.8500 - val_loss: 0.4360 - val_accuracy: 0.8605\n",
      "Epoch 74/1000\n",
      "380/380 [==============================] - 0s 706us/sample - loss: 0.4204 - accuracy: 0.8500 - val_loss: 0.4253 - val_accuracy: 0.8605\n",
      "Epoch 75/1000\n",
      "380/380 [==============================] - 0s 684us/sample - loss: 0.4284 - accuracy: 0.8500 - val_loss: 0.4236 - val_accuracy: 0.8605\n",
      "Epoch 76/1000\n",
      "380/380 [==============================] - 0s 701us/sample - loss: 0.4250 - accuracy: 0.8500 - val_loss: 0.4233 - val_accuracy: 0.8605\n",
      "Epoch 77/1000\n",
      "380/380 [==============================] - 0s 700us/sample - loss: 0.4229 - accuracy: 0.8500 - val_loss: 0.4219 - val_accuracy: 0.8605\n",
      "Epoch 78/1000\n",
      "380/380 [==============================] - 0s 708us/sample - loss: 0.4273 - accuracy: 0.8500 - val_loss: 0.4222 - val_accuracy: 0.8605\n",
      "Epoch 79/1000\n",
      "380/380 [==============================] - 0s 691us/sample - loss: 0.4260 - accuracy: 0.8500 - val_loss: 0.4231 - val_accuracy: 0.8605\n",
      "Epoch 80/1000\n",
      "380/380 [==============================] - 0s 701us/sample - loss: 0.4234 - accuracy: 0.8500 - val_loss: 0.4250 - val_accuracy: 0.8605\n",
      "Epoch 81/1000\n",
      "380/380 [==============================] - 0s 695us/sample - loss: 0.4225 - accuracy: 0.8500 - val_loss: 0.4361 - val_accuracy: 0.8605\n",
      "Epoch 82/1000\n",
      "380/380 [==============================] - 0s 694us/sample - loss: 0.4243 - accuracy: 0.8500 - val_loss: 0.4218 - val_accuracy: 0.8605\n",
      "Epoch 83/1000\n",
      "380/380 [==============================] - 0s 694us/sample - loss: 0.4236 - accuracy: 0.8500 - val_loss: 0.4241 - val_accuracy: 0.8605\n",
      "Epoch 84/1000\n",
      "380/380 [==============================] - 0s 697us/sample - loss: 0.4235 - accuracy: 0.8500 - val_loss: 0.4248 - val_accuracy: 0.8605\n",
      "Epoch 85/1000\n",
      "380/380 [==============================] - 0s 669us/sample - loss: 0.4277 - accuracy: 0.8500 - val_loss: 0.4223 - val_accuracy: 0.8605\n",
      "Epoch 86/1000\n",
      "380/380 [==============================] - 0s 702us/sample - loss: 0.4272 - accuracy: 0.8500 - val_loss: 0.4210 - val_accuracy: 0.8605\n",
      "Epoch 87/1000\n",
      "380/380 [==============================] - 0s 733us/sample - loss: 0.4246 - accuracy: 0.8500 - val_loss: 0.4213 - val_accuracy: 0.8605\n",
      "Epoch 88/1000\n",
      "380/380 [==============================] - 0s 704us/sample - loss: 0.4236 - accuracy: 0.8500 - val_loss: 0.4211 - val_accuracy: 0.8605\n",
      "Epoch 89/1000\n",
      "380/380 [==============================] - 0s 706us/sample - loss: 0.4218 - accuracy: 0.8500 - val_loss: 0.4262 - val_accuracy: 0.8605\n",
      "Epoch 90/1000\n",
      "380/380 [==============================] - 0s 698us/sample - loss: 0.4208 - accuracy: 0.8500 - val_loss: 0.4215 - val_accuracy: 0.8605\n",
      "Epoch 91/1000\n",
      "380/380 [==============================] - 0s 700us/sample - loss: 0.4249 - accuracy: 0.8500 - val_loss: 0.4229 - val_accuracy: 0.8605\n",
      "Epoch 92/1000\n",
      "380/380 [==============================] - 0s 699us/sample - loss: 0.4221 - accuracy: 0.8500 - val_loss: 0.4257 - val_accuracy: 0.8605\n",
      "Epoch 93/1000\n",
      "380/380 [==============================] - 0s 695us/sample - loss: 0.4232 - accuracy: 0.8500 - val_loss: 0.4224 - val_accuracy: 0.8605\n",
      "Epoch 94/1000\n",
      "380/380 [==============================] - 0s 694us/sample - loss: 0.4226 - accuracy: 0.8500 - val_loss: 0.4215 - val_accuracy: 0.8605\n"
     ]
    }
   ],
   "source": [
    "model = Sequential()\n",
    "# model.add(Dense(128, input_dim=17, activation='linear')) # 첫번째 은닉층\n",
    "model.add(Dense(128, input_shape=(17, ), activation='relu',\n",
    "                kernel_regularizer=regularizers.l1_l2(l1=0.0001, l2=0.0001))) # 첫번째 은닉층\n",
    "model.add(Dense(64, activation='relu',\n",
    "                kernel_regularizer=regularizers.l1_l2(l1=0.0001, l2=0.0001)))\n",
    "model.add(Dense(32, activation='relu'))\n",
    "model.add(Dense(15, activation='relu'))\n",
    "model.add(Dense(1, activation='sigmoid')) # 출력층, 입력: 15, 출력 1\n",
    "\n",
    "model.compile(optimizer='adam', loss='binary_crossentropy',\n",
    "              metrics=['accuracy'])\n",
    "\n",
    "# 최소 오차 20번 나오면 자동 종료\n",
    "early_stopping = EarlyStopping(monitor='loss', patience=20)\n",
    "\n",
    "# 학습\n",
    "hist = model.fit(x_train, y_train, validation_data=(x_val, y_val),\n",
    "                 epochs=1000, \n",
    "                 batch_size=2, callbacks=[early_stopping])"
   ]
  },
  {
   "cell_type": "code",
   "execution_count": 13,
   "metadata": {},
   "outputs": [],
   "source": [
    "def l1l2():\n",
    "    model = Sequential()\n",
    "    # model.add(Dense(128, input_dim=17, activation='linear')) # 첫번째 은닉층\n",
    "    model.add(Dense(128, input_shape=(17, ), activation='relu',\n",
    "                    kernel_regularizer=regularizers.l1_l2(l1=0.0001, l2=0.0001))) # 첫번째 은닉층\n",
    "    model.add(Dense(64, activation='relu',\n",
    "                    kernel_regularizer=regularizers.l1_l2(l1=0.0001, l2=0.0001)))\n",
    "    model.add(Dense(32, activation='relu'))\n",
    "    model.add(Dense(15, activation='relu'))\n",
    "    model.add(Dense(1, activation='sigmoid')) # 출력층, 입력: 15, 출력 1\n",
    "\n",
    "    model.compile(optimizer='adam', loss='binary_crossentropy',\n",
    "                  metrics=['accuracy'])\n",
    "\n",
    "    # 최소 오차 20번 나오면 자동 종료\n",
    "    early_stopping = EarlyStopping(monitor='loss', patience=20)\n",
    "\n",
    "    # 학습\n",
    "    hist = model.fit(x_train, y_train, validation_data=(x_val, y_val),\n",
    "                     epochs=1000, \n",
    "                     batch_size=2, callbacks=[early_stopping])\n",
    "    return model, hist"
   ]
  },
  {
   "cell_type": "code",
   "execution_count": 23,
   "metadata": {},
   "outputs": [],
   "source": [
    "# Dropout 사용의 경우\n",
    "def dropout():\n",
    "    model = Sequential()\n",
    "    # model.add(Dense(128, input_dim=17, activation='linear')) # 첫번째 은닉층\n",
    "    model.add(Dense(128, input_shape=(17, ), activation='relu')) # 첫번째 은닉층\n",
    "    model.add(Dropout(0.1)) # 10% 비활성화, Node의 값을 0으로 변경\n",
    "\n",
    "    model.add(Dense(64, activation='relu'))\n",
    "    model.add(Dropout(0.1)) # 10% 비활성화, Node의 값을 0으로 변경\n",
    "\n",
    "    model.add(Dense(32, activation='relu'))\n",
    "    model.add(Dense(15, activation='relu'))\n",
    "    model.add(Dense(1, activation='sigmoid')) # 출력층, 입력: 15, 출력 1\n",
    "\n",
    "    model.compile(optimizer='adam', loss='binary_crossentropy',\n",
    "                  metrics=['accuracy'])\n",
    "\n",
    "    # 최소 오차 20번 나오면 자동 종료\n",
    "    early_stopping = EarlyStopping(monitor='loss', patience=20)\n",
    "\n",
    "    # 학습\n",
    "    hist = model.fit(x_train, y_train, validation_data=(x_val, y_val),\n",
    "                     epochs=1000, \n",
    "                     batch_size=2, callbacks=[early_stopping])\n",
    "    \n",
    "    return model, hist"
   ]
  },
  {
   "cell_type": "code",
   "execution_count": 32,
   "metadata": {},
   "outputs": [],
   "source": [
    "# Dropout 사용의 경우\n",
    "def l1l2_dropout():\n",
    "    model = Sequential()\n",
    "    # model.add(Dense(128, input_dim=17, activation='linear')) # 첫번째 은닉층\n",
    "    \n",
    "    model.add(Dense(128, input_shape=(17, ), activation='relu',\n",
    "                kernel_regularizer=regularizers.l1_l2(l1=0.0001, l2=0.0001))) # 첫번째 은닉층\n",
    "    model.add(Dropout(0.1)) # 10% 비활성화, Node의 값을 0으로 변경\n",
    "\n",
    "    model.add(Dense(64, activation='relu',\n",
    "                kernel_regularizer=regularizers.l1_l2(l1=0.0001, l2=0.0001)))\n",
    "    model.add(Dropout(0.1)) # 10% 비활성화, Node의 값을 0으로 변경\n",
    "\n",
    "    model.add(Dense(32, activation='relu'))\n",
    "    model.add(Dense(15, activation='relu'))\n",
    "    model.add(Dense(1, activation='sigmoid')) # 출력층, 입력: 15, 출력 1\n",
    "\n",
    "    model.compile(optimizer='adam', loss='binary_crossentropy',\n",
    "                  metrics=['accuracy'])\n",
    "\n",
    "    # 최소 오차 20번 나오면 자동 종료\n",
    "    early_stopping = EarlyStopping(monitor='loss', patience=20)\n",
    "\n",
    "    # 학습\n",
    "    hist = model.fit(x_train, y_train, validation_data=(x_val, y_val),\n",
    "                     epochs=1000, \n",
    "                     batch_size=2, callbacks=[early_stopping])\n",
    "\n",
    "    return model, hist"
   ]
  },
  {
   "cell_type": "code",
   "execution_count": 33,
   "metadata": {},
   "outputs": [
    {
     "name": "stdout",
     "output_type": "stream",
     "text": [
      "Train on 380 samples, validate on 43 samples\n",
      "Epoch 1/1000\n",
      "380/380 [==============================] - 1s 3ms/sample - loss: 0.6504 - accuracy: 0.8105 - val_loss: 0.5887 - val_accuracy: 0.8605\n",
      "Epoch 2/1000\n",
      "380/380 [==============================] - 0s 1ms/sample - loss: 0.5661 - accuracy: 0.8368 - val_loss: 0.5279 - val_accuracy: 0.8605\n",
      "Epoch 3/1000\n",
      "380/380 [==============================] - 0s 783us/sample - loss: 0.5410 - accuracy: 0.8289 - val_loss: 0.5363 - val_accuracy: 0.8605\n",
      "Epoch 4/1000\n",
      "380/380 [==============================] - 0s 716us/sample - loss: 0.5026 - accuracy: 0.8500 - val_loss: 0.4968 - val_accuracy: 0.8605\n",
      "Epoch 5/1000\n",
      "380/380 [==============================] - 0s 746us/sample - loss: 0.5012 - accuracy: 0.8474 - val_loss: 0.4676 - val_accuracy: 0.8605\n",
      "Epoch 6/1000\n",
      "380/380 [==============================] - 0s 704us/sample - loss: 0.5182 - accuracy: 0.8500 - val_loss: 0.4803 - val_accuracy: 0.8605\n",
      "Epoch 7/1000\n",
      "380/380 [==============================] - 0s 742us/sample - loss: 0.4809 - accuracy: 0.8500 - val_loss: 0.4784 - val_accuracy: 0.8605\n",
      "Epoch 8/1000\n",
      "380/380 [==============================] - 0s 746us/sample - loss: 0.4639 - accuracy: 0.8500 - val_loss: 0.4748 - val_accuracy: 0.8605\n",
      "Epoch 9/1000\n",
      "380/380 [==============================] - 0s 705us/sample - loss: 0.4940 - accuracy: 0.8447 - val_loss: 0.5089 - val_accuracy: 0.8605\n",
      "Epoch 10/1000\n",
      "380/380 [==============================] - 0s 763us/sample - loss: 0.4813 - accuracy: 0.8447 - val_loss: 0.6040 - val_accuracy: 0.8605\n",
      "Epoch 11/1000\n",
      "380/380 [==============================] - 0s 682us/sample - loss: 0.4848 - accuracy: 0.8447 - val_loss: 0.4997 - val_accuracy: 0.8605\n",
      "Epoch 12/1000\n",
      "380/380 [==============================] - 0s 743us/sample - loss: 0.4872 - accuracy: 0.8500 - val_loss: 0.4712 - val_accuracy: 0.8605\n",
      "Epoch 13/1000\n",
      "380/380 [==============================] - 0s 705us/sample - loss: 0.4642 - accuracy: 0.8500 - val_loss: 0.4710 - val_accuracy: 0.8605\n",
      "Epoch 14/1000\n",
      "380/380 [==============================] - 0s 737us/sample - loss: 0.4701 - accuracy: 0.8500 - val_loss: 0.4615 - val_accuracy: 0.8605\n",
      "Epoch 15/1000\n",
      "380/380 [==============================] - 0s 711us/sample - loss: 0.4586 - accuracy: 0.8500 - val_loss: 0.5131 - val_accuracy: 0.8605\n",
      "Epoch 16/1000\n",
      "380/380 [==============================] - 0s 702us/sample - loss: 0.4773 - accuracy: 0.8500 - val_loss: 0.4890 - val_accuracy: 0.8605\n",
      "Epoch 17/1000\n",
      "380/380 [==============================] - 0s 746us/sample - loss: 0.4667 - accuracy: 0.8500 - val_loss: 0.4696 - val_accuracy: 0.8605\n",
      "Epoch 18/1000\n",
      "380/380 [==============================] - 0s 702us/sample - loss: 0.4552 - accuracy: 0.8500 - val_loss: 0.4748 - val_accuracy: 0.8605\n",
      "Epoch 19/1000\n",
      "380/380 [==============================] - 0s 746us/sample - loss: 0.4734 - accuracy: 0.8500 - val_loss: 0.4694 - val_accuracy: 0.8605\n",
      "Epoch 20/1000\n",
      "380/380 [==============================] - 0s 702us/sample - loss: 0.4613 - accuracy: 0.8500 - val_loss: 0.4659 - val_accuracy: 0.8605\n",
      "Epoch 21/1000\n",
      "380/380 [==============================] - 0s 749us/sample - loss: 0.4652 - accuracy: 0.8500 - val_loss: 0.4649 - val_accuracy: 0.8605\n",
      "Epoch 22/1000\n",
      "380/380 [==============================] - 0s 777us/sample - loss: 0.4520 - accuracy: 0.8500 - val_loss: 0.4891 - val_accuracy: 0.8605\n",
      "Epoch 23/1000\n",
      "380/380 [==============================] - 0s 706us/sample - loss: 0.4541 - accuracy: 0.8500 - val_loss: 0.4820 - val_accuracy: 0.8605\n",
      "Epoch 24/1000\n",
      "380/380 [==============================] - 0s 749us/sample - loss: 0.4598 - accuracy: 0.8500 - val_loss: 0.4729 - val_accuracy: 0.8605\n",
      "Epoch 25/1000\n",
      "380/380 [==============================] - 0s 745us/sample - loss: 0.4651 - accuracy: 0.8500 - val_loss: 0.4595 - val_accuracy: 0.8605\n",
      "Epoch 26/1000\n",
      "380/380 [==============================] - 0s 700us/sample - loss: 0.4557 - accuracy: 0.8500 - val_loss: 0.4878 - val_accuracy: 0.8605\n",
      "Epoch 27/1000\n",
      "380/380 [==============================] - 0s 707us/sample - loss: 0.4636 - accuracy: 0.8500 - val_loss: 0.4565 - val_accuracy: 0.8605\n",
      "Epoch 28/1000\n",
      "380/380 [==============================] - 0s 744us/sample - loss: 0.4493 - accuracy: 0.8500 - val_loss: 0.4569 - val_accuracy: 0.8605\n",
      "Epoch 29/1000\n",
      "380/380 [==============================] - 0s 748us/sample - loss: 0.4561 - accuracy: 0.8500 - val_loss: 0.4554 - val_accuracy: 0.8605\n",
      "Epoch 30/1000\n",
      "380/380 [==============================] - 0s 702us/sample - loss: 0.4514 - accuracy: 0.8500 - val_loss: 0.4644 - val_accuracy: 0.8605\n",
      "Epoch 31/1000\n",
      "380/380 [==============================] - 0s 707us/sample - loss: 0.4496 - accuracy: 0.8500 - val_loss: 0.4572 - val_accuracy: 0.8605\n",
      "Epoch 32/1000\n",
      "380/380 [==============================] - 0s 702us/sample - loss: 0.4536 - accuracy: 0.8500 - val_loss: 0.4533 - val_accuracy: 0.8605\n",
      "Epoch 33/1000\n",
      "380/380 [==============================] - 0s 742us/sample - loss: 0.4504 - accuracy: 0.8500 - val_loss: 0.4694 - val_accuracy: 0.8605\n",
      "Epoch 34/1000\n",
      "380/380 [==============================] - 0s 702us/sample - loss: 0.4522 - accuracy: 0.8500 - val_loss: 0.4515 - val_accuracy: 0.8605\n",
      "Epoch 35/1000\n",
      "380/380 [==============================] - 0s 747us/sample - loss: 0.4465 - accuracy: 0.8500 - val_loss: 0.4583 - val_accuracy: 0.8605\n",
      "Epoch 36/1000\n",
      "380/380 [==============================] - 0s 744us/sample - loss: 0.4489 - accuracy: 0.8500 - val_loss: 0.4484 - val_accuracy: 0.8605\n",
      "Epoch 37/1000\n",
      "380/380 [==============================] - 0s 705us/sample - loss: 0.4421 - accuracy: 0.8500 - val_loss: 0.4504 - val_accuracy: 0.8605\n",
      "Epoch 38/1000\n",
      "380/380 [==============================] - 0s 746us/sample - loss: 0.4483 - accuracy: 0.8500 - val_loss: 0.4536 - val_accuracy: 0.8605\n",
      "Epoch 39/1000\n",
      "380/380 [==============================] - 0s 747us/sample - loss: 0.4466 - accuracy: 0.8500 - val_loss: 0.4444 - val_accuracy: 0.8605\n",
      "Epoch 40/1000\n",
      "380/380 [==============================] - 0s 742us/sample - loss: 0.4503 - accuracy: 0.8500 - val_loss: 0.4494 - val_accuracy: 0.8605\n",
      "Epoch 41/1000\n",
      "380/380 [==============================] - 0s 789us/sample - loss: 0.4444 - accuracy: 0.8500 - val_loss: 0.4451 - val_accuracy: 0.8605\n",
      "Epoch 42/1000\n",
      "380/380 [==============================] - 0s 701us/sample - loss: 0.4410 - accuracy: 0.8500 - val_loss: 0.4447 - val_accuracy: 0.8605\n",
      "Epoch 43/1000\n",
      "380/380 [==============================] - 0s 743us/sample - loss: 0.4374 - accuracy: 0.8500 - val_loss: 0.4533 - val_accuracy: 0.8605\n",
      "Epoch 44/1000\n",
      "380/380 [==============================] - 0s 708us/sample - loss: 0.4331 - accuracy: 0.8500 - val_loss: 0.4479 - val_accuracy: 0.8605\n",
      "Epoch 45/1000\n",
      "380/380 [==============================] - 0s 743us/sample - loss: 0.4416 - accuracy: 0.8500 - val_loss: 0.4556 - val_accuracy: 0.8605\n",
      "Epoch 46/1000\n",
      "380/380 [==============================] - 0s 743us/sample - loss: 0.4406 - accuracy: 0.8500 - val_loss: 0.4407 - val_accuracy: 0.8605\n",
      "Epoch 47/1000\n",
      "380/380 [==============================] - 0s 763us/sample - loss: 0.4336 - accuracy: 0.8500 - val_loss: 0.4579 - val_accuracy: 0.8605\n",
      "Epoch 48/1000\n",
      "380/380 [==============================] - 0s 754us/sample - loss: 0.4401 - accuracy: 0.8500 - val_loss: 0.4395 - val_accuracy: 0.8605\n",
      "Epoch 49/1000\n",
      "380/380 [==============================] - 0s 843us/sample - loss: 0.4319 - accuracy: 0.8500 - val_loss: 0.4379 - val_accuracy: 0.8605\n",
      "Epoch 50/1000\n",
      "380/380 [==============================] - 0s 738us/sample - loss: 0.4420 - accuracy: 0.8500 - val_loss: 0.4432 - val_accuracy: 0.8605\n",
      "Epoch 51/1000\n",
      "380/380 [==============================] - 0s 773us/sample - loss: 0.4368 - accuracy: 0.8500 - val_loss: 0.4431 - val_accuracy: 0.8605\n",
      "Epoch 52/1000\n",
      "380/380 [==============================] - 0s 787us/sample - loss: 0.4287 - accuracy: 0.8500 - val_loss: 0.4337 - val_accuracy: 0.8605\n",
      "Epoch 53/1000\n",
      "380/380 [==============================] - 0s 798us/sample - loss: 0.4336 - accuracy: 0.8500 - val_loss: 0.4410 - val_accuracy: 0.8605\n",
      "Epoch 54/1000\n",
      "380/380 [==============================] - 0s 789us/sample - loss: 0.4348 - accuracy: 0.8500 - val_loss: 0.4831 - val_accuracy: 0.8605\n",
      "Epoch 55/1000\n",
      "380/380 [==============================] - 0s 779us/sample - loss: 0.4265 - accuracy: 0.8500 - val_loss: 0.4620 - val_accuracy: 0.8605\n"
     ]
    },
    {
     "name": "stdout",
     "output_type": "stream",
     "text": [
      "Epoch 56/1000\n",
      "380/380 [==============================] - 0s 782us/sample - loss: 0.4350 - accuracy: 0.8500 - val_loss: 0.4458 - val_accuracy: 0.8605\n",
      "Epoch 57/1000\n",
      "380/380 [==============================] - 0s 727us/sample - loss: 0.4369 - accuracy: 0.8500 - val_loss: 0.4363 - val_accuracy: 0.8605\n",
      "Epoch 58/1000\n",
      "380/380 [==============================] - 0s 772us/sample - loss: 0.4375 - accuracy: 0.8500 - val_loss: 0.4330 - val_accuracy: 0.8605\n",
      "Epoch 59/1000\n",
      "380/380 [==============================] - 0s 769us/sample - loss: 0.4312 - accuracy: 0.8500 - val_loss: 0.4302 - val_accuracy: 0.8605\n",
      "Epoch 60/1000\n",
      "380/380 [==============================] - 0s 732us/sample - loss: 0.4285 - accuracy: 0.8500 - val_loss: 0.4286 - val_accuracy: 0.8605\n",
      "Epoch 61/1000\n",
      "380/380 [==============================] - 0s 728us/sample - loss: 0.4327 - accuracy: 0.8500 - val_loss: 0.4308 - val_accuracy: 0.8605\n",
      "Epoch 62/1000\n",
      "380/380 [==============================] - 0s 737us/sample - loss: 0.4343 - accuracy: 0.8500 - val_loss: 0.4332 - val_accuracy: 0.8605\n",
      "Epoch 63/1000\n",
      "380/380 [==============================] - 0s 712us/sample - loss: 0.4316 - accuracy: 0.8500 - val_loss: 0.4344 - val_accuracy: 0.8605\n",
      "Epoch 64/1000\n",
      "380/380 [==============================] - 0s 745us/sample - loss: 0.4307 - accuracy: 0.8500 - val_loss: 0.4299 - val_accuracy: 0.8605\n",
      "Epoch 65/1000\n",
      "380/380 [==============================] - 0s 729us/sample - loss: 0.4290 - accuracy: 0.8500 - val_loss: 0.4364 - val_accuracy: 0.8605\n",
      "Epoch 66/1000\n",
      "380/380 [==============================] - 0s 713us/sample - loss: 0.4289 - accuracy: 0.8500 - val_loss: 0.4300 - val_accuracy: 0.8605\n",
      "Epoch 67/1000\n",
      "380/380 [==============================] - 0s 702us/sample - loss: 0.4292 - accuracy: 0.8500 - val_loss: 0.4287 - val_accuracy: 0.8605\n",
      "Epoch 68/1000\n",
      "380/380 [==============================] - 0s 702us/sample - loss: 0.4357 - accuracy: 0.8500 - val_loss: 0.4330 - val_accuracy: 0.8605\n",
      "Epoch 69/1000\n",
      "380/380 [==============================] - 0s 746us/sample - loss: 0.4287 - accuracy: 0.8500 - val_loss: 0.4289 - val_accuracy: 0.8605\n",
      "Epoch 70/1000\n",
      "380/380 [==============================] - 0s 702us/sample - loss: 0.4325 - accuracy: 0.8500 - val_loss: 0.4298 - val_accuracy: 0.8605\n",
      "Epoch 71/1000\n",
      "380/380 [==============================] - 0s 798us/sample - loss: 0.4312 - accuracy: 0.8500 - val_loss: 0.4268 - val_accuracy: 0.8605\n",
      "Epoch 72/1000\n",
      "380/380 [==============================] - 0s 691us/sample - loss: 0.4267 - accuracy: 0.8500 - val_loss: 0.4303 - val_accuracy: 0.8605\n",
      "Epoch 73/1000\n",
      "380/380 [==============================] - 0s 750us/sample - loss: 0.4252 - accuracy: 0.8500 - val_loss: 0.4322 - val_accuracy: 0.8605\n",
      "Epoch 74/1000\n",
      "380/380 [==============================] - 0s 738us/sample - loss: 0.4283 - accuracy: 0.8500 - val_loss: 0.4278 - val_accuracy: 0.8605\n",
      "Epoch 75/1000\n",
      "380/380 [==============================] - 0s 766us/sample - loss: 0.4299 - accuracy: 0.8500 - val_loss: 0.4273 - val_accuracy: 0.8605\n",
      "Epoch 76/1000\n",
      "380/380 [==============================] - 0s 787us/sample - loss: 0.4353 - accuracy: 0.8500 - val_loss: 0.4265 - val_accuracy: 0.8605\n",
      "Epoch 77/1000\n",
      "380/380 [==============================] - 0s 798us/sample - loss: 0.4269 - accuracy: 0.8500 - val_loss: 0.4293 - val_accuracy: 0.8605\n",
      "Epoch 78/1000\n",
      "380/380 [==============================] - 0s 733us/sample - loss: 0.4323 - accuracy: 0.8500 - val_loss: 0.4254 - val_accuracy: 0.8605\n",
      "Epoch 79/1000\n",
      "380/380 [==============================] - 0s 718us/sample - loss: 0.4248 - accuracy: 0.8500 - val_loss: 0.4276 - val_accuracy: 0.8605\n",
      "Epoch 80/1000\n",
      "380/380 [==============================] - 0s 746us/sample - loss: 0.4221 - accuracy: 0.8500 - val_loss: 0.4280 - val_accuracy: 0.8605\n",
      "Epoch 81/1000\n",
      "380/380 [==============================] - 0s 744us/sample - loss: 0.4287 - accuracy: 0.8500 - val_loss: 0.4248 - val_accuracy: 0.8605\n",
      "Epoch 82/1000\n",
      "380/380 [==============================] - 0s 781us/sample - loss: 0.4287 - accuracy: 0.8500 - val_loss: 0.4237 - val_accuracy: 0.8605\n",
      "Epoch 83/1000\n",
      "380/380 [==============================] - 0s 714us/sample - loss: 0.4258 - accuracy: 0.8500 - val_loss: 0.4283 - val_accuracy: 0.8605\n",
      "Epoch 84/1000\n",
      "380/380 [==============================] - 0s 727us/sample - loss: 0.4367 - accuracy: 0.8500 - val_loss: 0.4229 - val_accuracy: 0.8605\n",
      "Epoch 85/1000\n",
      "380/380 [==============================] - 0s 731us/sample - loss: 0.4281 - accuracy: 0.8500 - val_loss: 0.4236 - val_accuracy: 0.8605\n",
      "Epoch 86/1000\n",
      "380/380 [==============================] - 0s 683us/sample - loss: 0.4254 - accuracy: 0.8500 - val_loss: 0.4281 - val_accuracy: 0.8605\n",
      "Epoch 87/1000\n",
      "380/380 [==============================] - 0s 756us/sample - loss: 0.4229 - accuracy: 0.8500 - val_loss: 0.4296 - val_accuracy: 0.8605\n",
      "Epoch 88/1000\n",
      "380/380 [==============================] - 0s 686us/sample - loss: 0.4302 - accuracy: 0.8500 - val_loss: 0.4258 - val_accuracy: 0.8605\n",
      "Epoch 89/1000\n",
      "380/380 [==============================] - 0s 750us/sample - loss: 0.4347 - accuracy: 0.8500 - val_loss: 0.4262 - val_accuracy: 0.8605\n",
      "Epoch 90/1000\n",
      "380/380 [==============================] - 0s 736us/sample - loss: 0.4178 - accuracy: 0.8500 - val_loss: 0.4305 - val_accuracy: 0.8605\n",
      "Epoch 91/1000\n",
      "380/380 [==============================] - 0s 733us/sample - loss: 0.4280 - accuracy: 0.8500 - val_loss: 0.4656 - val_accuracy: 0.8605\n",
      "Epoch 92/1000\n",
      "380/380 [==============================] - 0s 713us/sample - loss: 0.4335 - accuracy: 0.8500 - val_loss: 0.4335 - val_accuracy: 0.8605\n",
      "Epoch 93/1000\n",
      "380/380 [==============================] - 0s 699us/sample - loss: 0.4310 - accuracy: 0.8500 - val_loss: 0.4277 - val_accuracy: 0.8605\n",
      "Epoch 94/1000\n",
      "380/380 [==============================] - 0s 748us/sample - loss: 0.4233 - accuracy: 0.8500 - val_loss: 0.4269 - val_accuracy: 0.8605\n",
      "Epoch 95/1000\n",
      "380/380 [==============================] - 0s 745us/sample - loss: 0.4286 - accuracy: 0.8500 - val_loss: 0.4244 - val_accuracy: 0.8605\n",
      "Epoch 96/1000\n",
      "380/380 [==============================] - 0s 849us/sample - loss: 0.4263 - accuracy: 0.8500 - val_loss: 0.4250 - val_accuracy: 0.8605\n",
      "Epoch 97/1000\n",
      "380/380 [==============================] - 0s 788us/sample - loss: 0.4257 - accuracy: 0.8500 - val_loss: 0.4278 - val_accuracy: 0.8605\n",
      "Epoch 98/1000\n",
      "380/380 [==============================] - 0s 783us/sample - loss: 0.4267 - accuracy: 0.8500 - val_loss: 0.4495 - val_accuracy: 0.8605\n",
      "Epoch 99/1000\n",
      "380/380 [==============================] - 0s 766us/sample - loss: 0.4316 - accuracy: 0.8500 - val_loss: 0.4279 - val_accuracy: 0.8605\n",
      "Epoch 100/1000\n",
      "380/380 [==============================] - 0s 701us/sample - loss: 0.4300 - accuracy: 0.8500 - val_loss: 0.4232 - val_accuracy: 0.8605\n",
      "Epoch 101/1000\n",
      "380/380 [==============================] - 0s 746us/sample - loss: 0.4227 - accuracy: 0.8500 - val_loss: 0.4231 - val_accuracy: 0.8605\n",
      "Epoch 102/1000\n",
      "380/380 [==============================] - 0s 820us/sample - loss: 0.4251 - accuracy: 0.8500 - val_loss: 0.4259 - val_accuracy: 0.8605\n",
      "Epoch 103/1000\n",
      "380/380 [==============================] - 0s 743us/sample - loss: 0.4274 - accuracy: 0.8500 - val_loss: 0.4246 - val_accuracy: 0.8605\n",
      "Epoch 104/1000\n",
      "380/380 [==============================] - 0s 800us/sample - loss: 0.4241 - accuracy: 0.8500 - val_loss: 0.4217 - val_accuracy: 0.8605\n",
      "Epoch 105/1000\n",
      "380/380 [==============================] - 0s 765us/sample - loss: 0.4259 - accuracy: 0.8500 - val_loss: 0.4235 - val_accuracy: 0.8605\n",
      "Epoch 106/1000\n",
      "380/380 [==============================] - 0s 788us/sample - loss: 0.4289 - accuracy: 0.8500 - val_loss: 0.4285 - val_accuracy: 0.8605\n",
      "Epoch 107/1000\n",
      "380/380 [==============================] - 0s 729us/sample - loss: 0.4272 - accuracy: 0.8500 - val_loss: 0.4228 - val_accuracy: 0.8605\n",
      "Epoch 108/1000\n",
      "380/380 [==============================] - 0s 748us/sample - loss: 0.4258 - accuracy: 0.8500 - val_loss: 0.4226 - val_accuracy: 0.8605\n",
      "Epoch 109/1000\n",
      "380/380 [==============================] - 0s 764us/sample - loss: 0.4344 - accuracy: 0.8500 - val_loss: 0.4244 - val_accuracy: 0.8605\n",
      "Epoch 110/1000\n",
      "380/380 [==============================] - 0s 721us/sample - loss: 0.4356 - accuracy: 0.8500 - val_loss: 0.4254 - val_accuracy: 0.8605\n"
     ]
    }
   ],
   "source": [
    "model, hist = l1l2_dropout()"
   ]
  },
  {
   "cell_type": "code",
   "execution_count": 34,
   "metadata": {},
   "outputs": [
    {
     "data": {
      "image/png": "[encoded data removed]",
      "text/plain": [
       "<Figure size 720x360 with 2 Axes>"
      ]
     },
     "metadata": {
      "needs_background": "light"
     },
     "output_type": "display_data"
    }
   ],
   "source": [
    "import matplotlib.pyplot as plt\n",
    "%matplotlib inline  \n",
    "\n",
    "fig, loss_ax = plt.subplots()\n",
    "# plt.figure(figsize=(6,4)) # ERROR\n",
    "fig.set_size_inches(10, 5)  # 챠트 크기 설정\n",
    "\n",
    "acc_ax = loss_ax.twinx()  # 오른쪽 y 출 설정\n",
    "\n",
    "# 왼쪽 y 축 설정\n",
    "loss_ax.plot(hist.history['loss'], 'y', label='train loss')\n",
    "loss_ax.plot(hist.history['val_loss'], 'r', label='val loss')\n",
    "loss_ax.set_ylim([0.0, 1.0229]) # 값을 반영하여 변경\n",
    "\n",
    "# 오른쪽 y 축 설정\n",
    "acc_ax.plot(hist.history['accuracy'], 'b', label='train accuracy')\n",
    "acc_ax.plot(hist.history['val_accuracy'], 'g', label='val accuracy')\n",
    "acc_ax.set_ylim([0.0, 1]) # 0.0, 1: 0 ~ 100 %, 정확도임으로 변경하지 않음\n",
    "\n",
    "# 축 레이블 설정\n",
    "loss_ax.set_xlabel('epoch')  # 학습 횟수\n",
    "loss_ax.set_ylabel('loss')   # 오차\n",
    "acc_ax.set_ylabel('accuracy') # 정확도\n",
    "\n",
    "loss_ax.legend(loc='upper left') # 오차 레이블 위치\n",
    "acc_ax.legend(loc='lower left')  # 정확도 레이블 위치\n",
    "\n",
    "plt.show()"
   ]
  },
  {
   "cell_type": "code",
   "execution_count": 35,
   "metadata": {},
   "outputs": [
    {
     "name": "stdout",
     "output_type": "stream",
     "text": [
      "손실값: 0.4318442509529438 /정확도: 85.10638475418091 %\n"
     ]
    }
   ],
   "source": [
    "test_loss, test_acc = model.evaluate(x_test, y_test, batch_size=1, verbose=0)\n",
    "print('손실값:', test_loss, '/정확도:', (test_acc*100), '%')"
   ]
  },
  {
   "cell_type": "code",
   "execution_count": 27,
   "metadata": {},
   "outputs": [],
   "source": [
    "model.save('./L1L2_Dropout.h5')"
   ]
  },
  {
   "cell_type": "code",
   "execution_count": 36,
   "metadata": {},
   "outputs": [
    {
     "name": "stdout",
     "output_type": "stream",
     "text": [
      "Model: \"sequential_3\"\n",
      "_________________________________________________________________\n",
      "Layer (type)                 Output Shape              Param #   \n",
      "=================================================================\n",
      "dense_15 (Dense)             (None, 128)               2304      \n",
      "_________________________________________________________________\n",
      "dropout_2 (Dropout)          (None, 128)               0         \n",
      "_________________________________________________________________\n",
      "dense_16 (Dense)             (None, 64)                8256      \n",
      "_________________________________________________________________\n",
      "dropout_3 (Dropout)          (None, 64)                0         \n",
      "_________________________________________________________________\n",
      "dense_17 (Dense)             (None, 32)                2080      \n",
      "_________________________________________________________________\n",
      "dense_18 (Dense)             (None, 15)                495       \n",
      "_________________________________________________________________\n",
      "dense_19 (Dense)             (None, 1)                 16        \n",
      "=================================================================\n",
      "Total params: 13,151\n",
      "Trainable params: 13,151\n",
      "Non-trainable params: 0\n",
      "_________________________________________________________________\n"
     ]
    }
   ],
   "source": [
    "model.summary()"
   ]
  },
  {
   "cell_type": "code",
   "execution_count": 37,
   "metadata": {},
   "outputs": [
    {
     "data": {
      "application/javascript": [
       "IPython.notebook.set_autosave_interval(0)"
      ]
     },
     "metadata": {},
     "output_type": "display_data"
    },
    {
     "name": "stdout",
     "output_type": "stream",
     "text": [
      "Autosave disabled\n"
     ]
    }
   ],
   "source": [
    "%autosave 0\n",
    "import numpy as np\n",
    "import pandas as pd\n",
    "import seaborn as sb\n",
    "\n",
    "from tensorflow.keras.models import Sequential      # class\n",
    "from tensorflow.keras.models import load_model      # model 사용\n",
    "from tensorflow.keras.layers import Dense           # 전결합\n",
    "from tensorflow.keras.layers import Dropout         # 노드의 비활성화\n",
    "from tensorflow.keras.callbacks import EarlyStopping # 학습 자동 중지\n",
    "from tensorflow.keras import regularizers   # L1, L2 규제 적용\n",
    "\n",
    "from sklearn.preprocessing import LabelEncoder\n",
    "from sklearn.model_selection import train_test_split\n",
    "from sklearn.model_selection import StratifiedKFold  # K 겹 교차 검증\n",
    "from sklearn.metrics import confusion_matrix\n",
    "from sklearn.metrics import roc_curve\n",
    "\n",
    "import matplotlib\n",
    "import matplotlib.pyplot as plt\n",
    "from matplotlib import font_manager, rc\n",
    "\n",
    "font_name = font_manager.FontProperties(fname=\"C:/Windows/Fonts/malgun.ttf\").get_name()\n",
    "rc('font', family=font_name)           # 맑은 고딕 폰트 지정\n",
    "plt.rcParams[\"font.size\"] = 12         # 글자 크기\n",
    "# plt.rcParams[\"figure.figsize\"] = (10, 4) # 10:4의 그래프 비율\n",
    "plt.rcParams['axes.unicode_minus'] = False  # minus 부호는 unicode 적용시 한글이 깨짐으로 설정\n",
    "\n",
    "# Jupyter에게 matplotlib 그래프를 출력 영역에 표시할 것을 지시하는 명령\n",
    "%matplotlib inline  "
   ]
  },
  {
   "cell_type": "code",
   "execution_count": 38,
   "metadata": {},
   "outputs": [
    {
     "name": "stdout",
     "output_type": "stream",
     "text": [
      "(47, 17)\n"
     ]
    },
    {
     "data": {
      "image/png": "[encoded data removed]",
      "text/plain": [
       "<Figure size 432x288 with 1 Axes>"
      ]
     },
     "metadata": {
      "needs_background": "light"
     },
     "output_type": "display_data"
    },
    {
     "name": "stdout",
     "output_type": "stream",
     "text": [
      "[[40  0]\n",
      " [ 7  0]]\n"
     ]
    },
    {
     "data": {
      "text/plain": [
       "<Figure size 432x288 with 0 Axes>"
      ]
     },
     "metadata": {},
     "output_type": "display_data"
    }
   ],
   "source": [
    "# 결과 - 혼동 행렬\n",
    "print(x_test.shape)\n",
    "y_test_pred = model.predict_classes(x_test)\n",
    "c_matrix = confusion_matrix(y_test, y_test_pred)\n",
    "ax = sb.heatmap(c_matrix, annot=True, \n",
    "                 xticklabels=['사망', '생존'], \n",
    "                 yticklabels=['사망', '생존'], cbar=False, cmap='Blues')\n",
    "ax.set_xlabel(\"Prediction\")\n",
    "ax.set_ylabel(\"Actual\")\n",
    "plt.show()\n",
    "plt.clf()\n",
    "print(c_matrix)\n",
    "\n",
    "# [[490   0]\n",
    "#  [ 12 148]]\n",
    "# [[사망자 맞춘 갯수   사망자 틀린 갯수]\n",
    "#  [생존자 틀린 갯수   생존자 맞춘갯수]]"
   ]
  },
  {
   "cell_type": "code",
   "execution_count": 39,
   "metadata": {},
   "outputs": [
    {
     "data": {
      "image/png": "[encoded data removed]",
      "text/plain": [
       "<Figure size 432x288 with 1 Axes>"
      ]
     },
     "metadata": {
      "needs_background": "light"
     },
     "output_type": "display_data"
    },
    {
     "data": {
      "text/plain": [
       "<Figure size 432x288 with 0 Axes>"
      ]
     },
     "metadata": {},
     "output_type": "display_data"
    }
   ],
   "source": [
    "# 결과 - ROC 곡선\n",
    "y_test_pred_probs = model.predict(x_test)\n",
    "FPR, TPR, _ = roc_curve(y_test, y_test_pred_probs)\n",
    "plt.plot(FPR, TPR)\n",
    "plt.plot([0,1],[0,1],'--', color='black') #diagonal line\n",
    "plt.title('ROC Curve')\n",
    "plt.xlabel('False Positive Rate')\n",
    "plt.ylabel('True Positive Rate')\n",
    "plt.show()\n",
    "plt.clf()"
   ]
  },
  {
   "cell_type": "code",
   "execution_count": null,
   "metadata": {},
   "outputs": [],
   "source": []
  }
 ],
 "metadata": {
  "kernelspec": {
   "display_name": "machine",
   "language": "python",
   "name": "machine"
  },
  "language_info": {
   "codemirror_mode": {
    "name": "ipython",
    "version": 3
   },
   "file_extension": ".py",
   "mimetype": "text/x-python",
   "name": "python",
   "nbconvert_exporter": "python",
   "pygments_lexer": "ipython3",
   "version": "3.7.6"
  }
 },
 "nbformat": 4,
 "nbformat_minor": 2
}
