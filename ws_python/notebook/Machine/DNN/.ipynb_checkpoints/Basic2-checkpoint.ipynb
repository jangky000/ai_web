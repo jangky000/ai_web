{
 "cells": [
  {
   "cell_type": "code",
   "execution_count": 2,
   "metadata": {},
   "outputs": [
    {
     "name": "stdout",
     "output_type": "stream",
     "text": [
      "2.0.0\n"
     ]
    }
   ],
   "source": [
    "# DNN: deep neural network\n",
    "import numpy as np\n",
    "import tensorflow as tf\n",
    "\n",
    "# tensorflow 2.0에 내장된 Keras 사용\n",
    "from tensorflow.keras.models import Sequential  # class\n",
    "from tensorflow.keras.models import load_model  # model 사용 함수\n",
    "from tensorflow.keras.layers import Dense       # 전결합층\n",
    "from tensorflow.keras.optimizers import Adam    # 가중치, bias 최적화\n",
    "\n",
    "# tensorflow 1.x, Keras가 독립적으로 설치된 경우\n",
    "# from keras.models import Sequential  # class\n",
    "# from keras.models import load_model  # model 사용 함수\n",
    "# from keras.layers import Dense       # class\n",
    "\n",
    "print(tf.__version__)"
   ]
  },
  {
   "cell_type": "code",
   "execution_count": 8,
   "metadata": {},
   "outputs": [
    {
     "name": "stdout",
     "output_type": "stream",
     "text": [
      "(100, 2)\n",
      "[[ 1 10]\n",
      " [ 2 10]\n",
      " [ 3 10]\n",
      " [ 4 10]\n",
      " [ 5 10]]\n"
     ]
    }
   ],
   "source": [
    "# 입력 값이 2개이므로 2차원 배열로 데이터 구성\n",
    "\n",
    "# 훈련 데이터: 수\n",
    "x_train = []\n",
    "for i in range(1, 101, 1): # 1 ~ 100\n",
    "    x_train.append([i, 10])\n",
    "x_train = np.array(x_train)\n",
    "\n",
    "print(x_train.shape)\n",
    "print(x_train[0:5]) # 5행만 출력"
   ]
  },
  {
   "cell_type": "code",
   "execution_count": 9,
   "metadata": {},
   "outputs": [],
   "source": [
    "# [ 1 10]  -> 68\n",
    "# [ 2 10]  -> 143\n",
    "# [ 3 10]  -> 218\n",
    "# [ 4 10]  -> 293\n",
    "# [ 5 10]  -> 368\n",
    "# [ 6 10]  -> ???"
   ]
  },
  {
   "cell_type": "code",
   "execution_count": 10,
   "metadata": {},
   "outputs": [
    {
     "name": "stdout",
     "output_type": "stream",
     "text": [
      "(100, 1)\n",
      "[[ 68.]\n",
      " [143.]\n",
      " [218.]\n",
      " [293.]\n",
      " [368.]]\n"
     ]
    }
   ],
   "source": [
    "# 타겟(실제값)\n",
    "y_train = []\n",
    "for i in range(len(x_train)):\n",
    "    val = (x_train[i][0] * x_train[i][1]) / 2 * 5 * 3 - 7\n",
    "    y_train.append([val]) # 2차원의 형태로 추가\n",
    "y_train = np.array(y_train)\n",
    "\n",
    "print(y_train.shape)\n",
    "print(y_train[0:5])"
   ]
  },
  {
   "cell_type": "markdown",
   "metadata": {},
   "source": [
    "### 퍼셉트론"
   ]
  },
  {
   "cell_type": "code",
   "execution_count": 3,
   "metadata": {},
   "outputs": [
    {
     "name": "stdout",
     "output_type": "stream",
     "text": [
      "Train on 16 samples, validate on 4 samples\n",
      "Epoch 1/30\n",
      "16/16 [==============================] - 2s 97ms/sample - loss: 379.8868 - val_loss: 1386.4710\n",
      "Epoch 2/30\n",
      "16/16 [==============================] - 0s 3ms/sample - loss: 374.9975 - val_loss: 1369.2040\n",
      "Epoch 3/30\n",
      "16/16 [==============================] - 0s 2ms/sample - loss: 370.0911 - val_loss: 1351.3386\n",
      "Epoch 4/30\n",
      "16/16 [==============================] - 0s 2ms/sample - loss: 365.3347 - val_loss: 1333.6732\n",
      "Epoch 5/30\n",
      "16/16 [==============================] - 0s 2ms/sample - loss: 360.5390 - val_loss: 1316.2942\n",
      "Epoch 6/30\n",
      "16/16 [==============================] - 0s 2ms/sample - loss: 355.2540 - val_loss: 1301.3561\n",
      "Epoch 7/30\n",
      "16/16 [==============================] - 0s 2ms/sample - loss: 351.0725 - val_loss: 1283.3797\n",
      "Epoch 8/30\n",
      "16/16 [==============================] - 0s 2ms/sample - loss: 345.9168 - val_loss: 1267.9688\n",
      "Epoch 9/30\n",
      "16/16 [==============================] - 0s 2ms/sample - loss: 341.4318 - val_loss: 1251.1598\n",
      "Epoch 10/30\n",
      "16/16 [==============================] - 0s 2ms/sample - loss: 336.9265 - val_loss: 1233.9812\n",
      "Epoch 11/30\n",
      "16/16 [==============================] - 0s 2ms/sample - loss: 332.1128 - val_loss: 1218.1214\n",
      "Epoch 12/30\n",
      "16/16 [==============================] - 0s 2ms/sample - loss: 327.8998 - val_loss: 1201.0954\n",
      "Epoch 13/30\n",
      "16/16 [==============================] - 0s 2ms/sample - loss: 322.9090 - val_loss: 1186.6229\n",
      "Epoch 14/30\n",
      "16/16 [==============================] - 0s 2ms/sample - loss: 318.7515 - val_loss: 1170.6061\n",
      "Epoch 15/30\n",
      "16/16 [==============================] - 0s 2ms/sample - loss: 314.1316 - val_loss: 1156.2305\n",
      "Epoch 16/30\n",
      "16/16 [==============================] - 0s 2ms/sample - loss: 309.9524 - val_loss: 1140.6134\n",
      "Epoch 17/30\n",
      "16/16 [==============================] - 0s 2ms/sample - loss: 305.5932 - val_loss: 1125.3360\n",
      "Epoch 18/30\n",
      "16/16 [==============================] - 0s 2ms/sample - loss: 301.4596 - val_loss: 1109.5401\n",
      "Epoch 19/30\n",
      "16/16 [==============================] - 0s 2ms/sample - loss: 297.3550 - val_loss: 1093.6506\n",
      "Epoch 20/30\n",
      "16/16 [==============================] - 0s 2ms/sample - loss: 292.6245 - val_loss: 1080.9092\n",
      "Epoch 21/30\n",
      "16/16 [==============================] - 0s 2ms/sample - loss: 288.7609 - val_loss: 1066.4325\n",
      "Epoch 22/30\n",
      "16/16 [==============================] - 0s 2ms/sample - loss: 284.7859 - val_loss: 1051.3353\n",
      "Epoch 23/30\n",
      "16/16 [==============================] - 0s 2ms/sample - loss: 280.7688 - val_loss: 1036.3776\n",
      "Epoch 24/30\n",
      "16/16 [==============================] - 0s 2ms/sample - loss: 276.6925 - val_loss: 1021.8897\n",
      "Epoch 25/30\n",
      "16/16 [==============================] - 0s 2ms/sample - loss: 272.6832 - val_loss: 1007.7572\n",
      "Epoch 26/30\n",
      "16/16 [==============================] - 0s 2ms/sample - loss: 268.5751 - val_loss: 994.9159\n",
      "Epoch 27/30\n",
      "16/16 [==============================] - 0s 2ms/sample - loss: 264.8208 - val_loss: 981.3601\n",
      "Epoch 28/30\n",
      "16/16 [==============================] - 0s 2ms/sample - loss: 261.1402 - val_loss: 967.0231\n",
      "Epoch 29/30\n",
      "16/16 [==============================] - 0s 2ms/sample - loss: 257.0736 - val_loss: 954.4479\n",
      "Epoch 30/30\n",
      "16/16 [==============================] - 0s 2ms/sample - loss: 253.7489 - val_loss: 939.6661\n"
     ]
    }
   ],
   "source": [
    "model = Sequential()\n",
    "model.add(Dense(1, input_dim=2, activation='linear'))\n",
    "# 1: 출력값의 갯수, input_dim=2: 입력 데이터 갯수,\n",
    "\n",
    "model.compile(optimizer = 'adam', loss='mse') \n",
    "\n",
    "hist = model.fit(x_train, y_train, validation_split=0.2, shuffle=True,\n",
    "                epochs = 300, batch_size=1)"
   ]
  },
  {
   "cell_type": "code",
   "execution_count": 4,
   "metadata": {},
   "outputs": [
    {
     "name": "stdout",
     "output_type": "stream",
     "text": [
      "Model: \"sequential\"\n",
      "_________________________________________________________________\n",
      "Layer (type)                 Output Shape              Param #   \n",
      "=================================================================\n",
      "dense (Dense)                (None, 1)                 2         \n",
      "=================================================================\n",
      "Total params: 2\n",
      "Trainable params: 2\n",
      "Non-trainable params: 0\n",
      "_________________________________________________________________\n"
     ]
    }
   ],
   "source": [
    "model.summary()\n",
    "# 파라미터 2개 = 가중치1개 + bias 1개"
   ]
  },
  {
   "cell_type": "code",
   "execution_count": 6,
   "metadata": {},
   "outputs": [
    {
     "data": {
      "image/png": "[encoded data removed]",
      "text/plain": [
       "<Figure size 720x360 with 1 Axes>"
      ]
     },
     "metadata": {
      "needs_background": "light"
     },
     "output_type": "display_data"
    }
   ],
   "source": [
    "import matplotlib.pyplot as plt\n",
    "%matplotlib inline  \n",
    "\n",
    "fig, loss_ax = plt.subplots()\n",
    "# plt.figure(figsize=(6,4)) # ERROR\n",
    "fig.set_size_inches(10, 5)  # 챠트 크기 설정\n",
    "\n",
    "# 왼쪽 y 축 설정\n",
    "loss_ax.plot(hist.history['loss'], 'y', label='train loss')\n",
    "loss_ax.plot(hist.history['val_loss'], 'r', label='val loss')\n",
    "loss_ax.set_ylim([0.0, 1386.4710 ]) # 값을 반영하여 변경\n",
    "# val_loss: 1386.4710 오차들의 합\n",
    "\n",
    "# 축 레이블 설정\n",
    "loss_ax.set_xlabel('epoch')  # 학습 횟수\n",
    "loss_ax.set_ylabel('loss')   # 오차\n",
    "\n",
    "loss_ax.legend(loc='upper left') # 오차 레이블 위치\n",
    "\n",
    "plt.show()\n",
    "# 값이 떨어지면 학습이 되고 있다는 의미"
   ]
  },
  {
   "cell_type": "code",
   "execution_count": 9,
   "metadata": {},
   "outputs": [
    {
     "name": "stdout",
     "output_type": "stream",
     "text": [
      "(5, 1)\n",
      "[[16.947746]\n",
      " [17.27219 ]\n",
      " [17.596634]\n",
      " [17.921078]\n",
      " [18.245522]]\n"
     ]
    }
   ],
   "source": [
    "# 학습 결과를 테스트\n",
    "x = np.array([51, 52, 53, 54, 55])\n",
    "y = np.array([102, 104, 106, 108, 110]) # 실제답, 비교 목적\n",
    "\n",
    "pd = model.predict(x) # 모델 사용, 2차원 배열로 예측 결과가 발생\n",
    "print(pd.shape)\n",
    "print(pd)"
   ]
  },
  {
   "cell_type": "code",
   "execution_count": 10,
   "metadata": {},
   "outputs": [
    {
     "name": "stdout",
     "output_type": "stream",
     "text": [
      "x: 51, 실제값: 102, 예측값: 16.94775\n",
      "x: 52, 실제값: 104, 예측값: 17.27219\n",
      "x: 53, 실제값: 106, 예측값: 17.59663\n",
      "x: 54, 실제값: 108, 예측값: 17.92108\n",
      "x: 55, 실제값: 110, 예측값: 18.24552\n"
     ]
    }
   ],
   "source": [
    "for i in range(len(x)):\n",
    "    fmt = 'x: {0}, 실제값: {1}, 예측값: {2:.5f}'\n",
    "    print(fmt.format(x[i], y[i], pd[i][0]))"
   ]
  },
  {
   "cell_type": "code",
   "execution_count": null,
   "metadata": {},
   "outputs": [],
   "source": []
  }
 ],
 "metadata": {
  "kernelspec": {
   "display_name": "ai",
   "language": "python",
   "name": "ai"
  },
  "language_info": {
   "codemirror_mode": {
    "name": "ipython",
    "version": 3
   },
   "file_extension": ".py",
   "mimetype": "text/x-python",
   "name": "python",
   "nbconvert_exporter": "python",
   "pygments_lexer": "ipython3",
   "version": "3.6.10"
  }
 },
 "nbformat": 4,
 "nbformat_minor": 4
}
