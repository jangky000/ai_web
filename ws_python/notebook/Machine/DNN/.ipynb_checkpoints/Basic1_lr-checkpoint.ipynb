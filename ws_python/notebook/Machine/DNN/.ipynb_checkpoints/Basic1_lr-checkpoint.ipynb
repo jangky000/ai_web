{
 "cells": [
  {
   "cell_type": "code",
   "execution_count": 1,
   "metadata": {},
   "outputs": [
    {
     "name": "stdout",
     "output_type": "stream",
     "text": [
      "2.0.0\n"
     ]
    }
   ],
   "source": [
    "# DNN: deep neural network\n",
    "import numpy as np\n",
    "import tensorflow as tf\n",
    "\n",
    "# tensorflow 2.0에 내장된 Keras 사용\n",
    "from tensorflow.keras.models import Sequential  # class\n",
    "from tensorflow.keras.models import load_model  # model 사용 함수\n",
    "from tensorflow.keras.layers import Dense       # 전결합층\n",
    "from tensorflow.keras.optimizers import Adam    # 가중치, bias 최적화\n",
    "\n",
    "# tensorflow 1.x, Keras가 독립적으로 설치된 경우\n",
    "# from keras.models import Sequential  # class\n",
    "# from keras.models import load_model  # model 사용 함수\n",
    "# from keras.layers import Dense       # class\n",
    "\n",
    "print(tf.__version__)"
   ]
  },
  {
   "cell_type": "code",
   "execution_count": 2,
   "metadata": {},
   "outputs": [
    {
     "name": "stdout",
     "output_type": "stream",
     "text": [
      "[ 1  2  3  4  5  6  7  8  9 10 11 12 13 14 15 16 17 18 19 20]\n",
      "[ 2  4  6  8 10 12 14 16 18 20 22 24 26 28 30 32 34 36 38 40]\n"
     ]
    }
   ],
   "source": [
    "# 데이터\n",
    "\n",
    "# 훈련 데이터: 수\n",
    "x_train = np.array([1, 2, 3, 4, 5, 6, 7, 8, 9, 10, 11, 12, 13, 14,15,16,17,18,19,20])\n",
    "\n",
    "# 정답 데이터: 배수\n",
    "y_train = np.array([2, 4, 6, 8, 10, 12, 14, 16, 18, 20, 22, 24, 26, 28, 30, 32, 34, 36, 38, 40])\n",
    "\n",
    "print(x_train)\n",
    "print(y_train)"
   ]
  },
  {
   "cell_type": "markdown",
   "metadata": {},
   "source": [
    "### 퍼셉트론 \n",
    "#### 학습률 지정"
   ]
  },
  {
   "cell_type": "code",
   "execution_count": 3,
   "metadata": {},
   "outputs": [],
   "source": [
    "# 신경세포 1개"
   ]
  },
  {
   "cell_type": "code",
   "execution_count": 19,
   "metadata": {},
   "outputs": [
    {
     "name": "stdout",
     "output_type": "stream",
     "text": [
      "Train on 16 samples, validate on 4 samples\n",
      "Epoch 1/100\n",
      "16/16 [==============================] - 0s 16ms/sample - loss: 164.9182 - val_loss: 542.7130\n",
      "Epoch 2/100\n",
      "16/16 [==============================] - 0s 2ms/sample - loss: 132.9581 - val_loss: 445.8756\n",
      "Epoch 3/100\n",
      "16/16 [==============================] - 0s 2ms/sample - loss: 108.5861 - val_loss: 352.5414\n",
      "Epoch 4/100\n",
      "16/16 [==============================] - 0s 2ms/sample - loss: 84.4784 - val_loss: 281.5023\n",
      "Epoch 5/100\n",
      "16/16 [==============================] - 0s 2ms/sample - loss: 65.9745 - val_loss: 221.4670\n",
      "Epoch 6/100\n",
      "16/16 [==============================] - 0s 2ms/sample - loss: 50.3092 - val_loss: 174.3300\n",
      "Epoch 7/100\n",
      "16/16 [==============================] - 0s 2ms/sample - loss: 38.7041 - val_loss: 132.9926\n",
      "Epoch 8/100\n",
      "16/16 [==============================] - 0s 2ms/sample - loss: 28.2831 - val_loss: 103.6104\n",
      "Epoch 9/100\n",
      "16/16 [==============================] - 0s 2ms/sample - loss: 21.7436 - val_loss: 75.3547\n",
      "Epoch 10/100\n",
      "16/16 [==============================] - 0s 2ms/sample - loss: 15.3107 - val_loss: 56.2332\n",
      "Epoch 11/100\n",
      "16/16 [==============================] - 0s 2ms/sample - loss: 10.9855 - val_loss: 41.7244\n",
      "Epoch 12/100\n",
      "16/16 [==============================] - 0s 2ms/sample - loss: 8.0373 - val_loss: 29.8079\n",
      "Epoch 13/100\n",
      "16/16 [==============================] - 0s 2ms/sample - loss: 5.3549 - val_loss: 22.6359\n",
      "Epoch 14/100\n",
      "16/16 [==============================] - 0s 2ms/sample - loss: 3.7982 - val_loss: 16.9258\n",
      "Epoch 15/100\n",
      "16/16 [==============================] - 0s 2ms/sample - loss: 2.6956 - val_loss: 12.4767\n",
      "Epoch 16/100\n",
      "16/16 [==============================] - 0s 2ms/sample - loss: 1.9801 - val_loss: 8.8249\n",
      "Epoch 17/100\n",
      "16/16 [==============================] - 0s 2ms/sample - loss: 1.3557 - val_loss: 6.7248\n",
      "Epoch 18/100\n",
      "16/16 [==============================] - 0s 2ms/sample - loss: 1.0637 - val_loss: 4.9172\n",
      "Epoch 19/100\n",
      "16/16 [==============================] - 0s 2ms/sample - loss: 0.7927 - val_loss: 3.8437\n",
      "Epoch 20/100\n",
      "16/16 [==============================] - 0s 2ms/sample - loss: 0.6482 - val_loss: 3.1292\n",
      "Epoch 21/100\n",
      "16/16 [==============================] - 0s 2ms/sample - loss: 0.5686 - val_loss: 2.4612\n",
      "Epoch 22/100\n",
      "16/16 [==============================] - 0s 2ms/sample - loss: 0.5005 - val_loss: 2.1282\n",
      "Epoch 23/100\n",
      "16/16 [==============================] - 0s 2ms/sample - loss: 0.4642 - val_loss: 1.7930\n",
      "Epoch 24/100\n",
      "16/16 [==============================] - 0s 2ms/sample - loss: 0.4490 - val_loss: 1.4629\n",
      "Epoch 25/100\n",
      "16/16 [==============================] - 0s 2ms/sample - loss: 0.4257 - val_loss: 1.3659\n",
      "Epoch 26/100\n",
      "16/16 [==============================] - 0s 2ms/sample - loss: 0.4155 - val_loss: 1.2136\n",
      "Epoch 27/100\n",
      "16/16 [==============================] - 0s 2ms/sample - loss: 0.4086 - val_loss: 1.0809\n",
      "Epoch 28/100\n",
      "16/16 [==============================] - 0s 2ms/sample - loss: 0.3989 - val_loss: 1.0964\n",
      "Epoch 29/100\n",
      "16/16 [==============================] - 0s 2ms/sample - loss: 0.3931 - val_loss: 1.0055\n",
      "Epoch 30/100\n",
      "16/16 [==============================] - 0s 2ms/sample - loss: 0.3858 - val_loss: 0.9788\n",
      "Epoch 31/100\n",
      "16/16 [==============================] - 0s 2ms/sample - loss: 0.3821 - val_loss: 0.9659\n",
      "Epoch 32/100\n",
      "16/16 [==============================] - 0s 2ms/sample - loss: 0.3750 - val_loss: 0.9231\n",
      "Epoch 33/100\n",
      "16/16 [==============================] - 0s 2ms/sample - loss: 0.3700 - val_loss: 0.9086\n",
      "Epoch 34/100\n",
      "16/16 [==============================] - 0s 2ms/sample - loss: 0.3635 - val_loss: 0.8505\n",
      "Epoch 35/100\n",
      "16/16 [==============================] - 0s 2ms/sample - loss: 0.3588 - val_loss: 0.8615\n",
      "Epoch 36/100\n",
      "16/16 [==============================] - 0s 2ms/sample - loss: 0.3520 - val_loss: 0.8283\n",
      "Epoch 37/100\n",
      "16/16 [==============================] - 0s 2ms/sample - loss: 0.3464 - val_loss: 0.8132\n",
      "Epoch 38/100\n",
      "16/16 [==============================] - 0s 2ms/sample - loss: 0.3424 - val_loss: 0.8138\n",
      "Epoch 39/100\n",
      "16/16 [==============================] - 0s 2ms/sample - loss: 0.3360 - val_loss: 0.8103\n",
      "Epoch 40/100\n",
      "16/16 [==============================] - 0s 2ms/sample - loss: 0.3292 - val_loss: 0.7631\n",
      "Epoch 41/100\n",
      "16/16 [==============================] - 0s 2ms/sample - loss: 0.3237 - val_loss: 0.7406\n",
      "Epoch 42/100\n",
      "16/16 [==============================] - 0s 2ms/sample - loss: 0.3180 - val_loss: 0.7423\n",
      "Epoch 43/100\n",
      "16/16 [==============================] - 0s 2ms/sample - loss: 0.3154 - val_loss: 0.7803\n",
      "Epoch 44/100\n",
      "16/16 [==============================] - 0s 2ms/sample - loss: 0.3090 - val_loss: 0.7249\n",
      "Epoch 45/100\n",
      "16/16 [==============================] - 0s 2ms/sample - loss: 0.3011 - val_loss: 0.6938\n",
      "Epoch 46/100\n",
      "16/16 [==============================] - 0s 2ms/sample - loss: 0.2969 - val_loss: 0.6616\n",
      "Epoch 47/100\n",
      "16/16 [==============================] - 0s 2ms/sample - loss: 0.2902 - val_loss: 0.6535\n",
      "Epoch 48/100\n",
      "16/16 [==============================] - 0s 2ms/sample - loss: 0.2849 - val_loss: 0.6339\n",
      "Epoch 49/100\n",
      "16/16 [==============================] - 0s 2ms/sample - loss: 0.2805 - val_loss: 0.6760\n",
      "Epoch 50/100\n",
      "16/16 [==============================] - 0s 2ms/sample - loss: 0.2732 - val_loss: 0.6632\n",
      "Epoch 51/100\n",
      "16/16 [==============================] - 0s 2ms/sample - loss: 0.2709 - val_loss: 0.5981\n",
      "Epoch 52/100\n",
      "16/16 [==============================] - 0s 2ms/sample - loss: 0.2664 - val_loss: 0.6533\n",
      "Epoch 53/100\n",
      "16/16 [==============================] - 0s 2ms/sample - loss: 0.2571 - val_loss: 0.5910\n",
      "Epoch 54/100\n",
      "16/16 [==============================] - 0s 2ms/sample - loss: 0.2524 - val_loss: 0.6112\n",
      "Epoch 55/100\n",
      "16/16 [==============================] - 0s 2ms/sample - loss: 0.2462 - val_loss: 0.5575\n",
      "Epoch 56/100\n",
      "16/16 [==============================] - 0s 2ms/sample - loss: 0.2413 - val_loss: 0.5723\n",
      "Epoch 57/100\n",
      "16/16 [==============================] - 0s 2ms/sample - loss: 0.2366 - val_loss: 0.5232\n",
      "Epoch 58/100\n",
      "16/16 [==============================] - 0s 2ms/sample - loss: 0.2349 - val_loss: 0.5812\n",
      "Epoch 59/100\n",
      "16/16 [==============================] - 0s 2ms/sample - loss: 0.2256 - val_loss: 0.5505\n",
      "Epoch 60/100\n",
      "16/16 [==============================] - 0s 2ms/sample - loss: 0.2223 - val_loss: 0.4674\n",
      "Epoch 61/100\n",
      "16/16 [==============================] - 0s 2ms/sample - loss: 0.2157 - val_loss: 0.4907\n",
      "Epoch 62/100\n",
      "16/16 [==============================] - 0s 2ms/sample - loss: 0.2098 - val_loss: 0.4806\n",
      "Epoch 63/100\n",
      "16/16 [==============================] - 0s 2ms/sample - loss: 0.2055 - val_loss: 0.4641\n",
      "Epoch 64/100\n",
      "16/16 [==============================] - 0s 2ms/sample - loss: 0.2007 - val_loss: 0.4685\n",
      "Epoch 65/100\n",
      "16/16 [==============================] - 0s 2ms/sample - loss: 0.1960 - val_loss: 0.4785\n",
      "Epoch 66/100\n",
      "16/16 [==============================] - 0s 2ms/sample - loss: 0.1912 - val_loss: 0.4290\n",
      "Epoch 67/100\n",
      "16/16 [==============================] - 0s 2ms/sample - loss: 0.1862 - val_loss: 0.4204\n",
      "Epoch 68/100\n",
      "16/16 [==============================] - 0s 2ms/sample - loss: 0.1822 - val_loss: 0.3929\n",
      "Epoch 69/100\n",
      "16/16 [==============================] - 0s 2ms/sample - loss: 0.1763 - val_loss: 0.4171\n",
      "Epoch 70/100\n",
      "16/16 [==============================] - 0s 2ms/sample - loss: 0.1726 - val_loss: 0.4270\n",
      "Epoch 71/100\n",
      "16/16 [==============================] - 0s 2ms/sample - loss: 0.1691 - val_loss: 0.3783\n",
      "Epoch 72/100\n",
      "16/16 [==============================] - 0s 2ms/sample - loss: 0.1639 - val_loss: 0.3803\n",
      "Epoch 73/100\n",
      "16/16 [==============================] - 0s 2ms/sample - loss: 0.1590 - val_loss: 0.3848\n",
      "Epoch 74/100\n",
      "16/16 [==============================] - 0s 2ms/sample - loss: 0.1550 - val_loss: 0.3596\n",
      "Epoch 75/100\n",
      "16/16 [==============================] - 0s 2ms/sample - loss: 0.1511 - val_loss: 0.3655\n",
      "Epoch 76/100\n",
      "16/16 [==============================] - 0s 2ms/sample - loss: 0.1466 - val_loss: 0.3405\n",
      "Epoch 77/100\n",
      "16/16 [==============================] - 0s 2ms/sample - loss: 0.1444 - val_loss: 0.3602\n",
      "Epoch 78/100\n",
      "16/16 [==============================] - 0s 2ms/sample - loss: 0.1381 - val_loss: 0.3186\n",
      "Epoch 79/100\n",
      "16/16 [==============================] - 0s 2ms/sample - loss: 0.1354 - val_loss: 0.2918\n",
      "Epoch 80/100\n"
     ]
    },
    {
     "name": "stdout",
     "output_type": "stream",
     "text": [
      "16/16 [==============================] - 0s 2ms/sample - loss: 0.1303 - val_loss: 0.2884\n",
      "Epoch 81/100\n",
      "16/16 [==============================] - 0s 2ms/sample - loss: 0.1267 - val_loss: 0.3032\n",
      "Epoch 82/100\n",
      "16/16 [==============================] - 0s 2ms/sample - loss: 0.1239 - val_loss: 0.3031\n",
      "Epoch 83/100\n",
      "16/16 [==============================] - 0s 2ms/sample - loss: 0.1197 - val_loss: 0.2743\n",
      "Epoch 84/100\n",
      "16/16 [==============================] - 0s 2ms/sample - loss: 0.1159 - val_loss: 0.2666\n",
      "Epoch 85/100\n",
      "16/16 [==============================] - 0s 2ms/sample - loss: 0.1127 - val_loss: 0.2429\n",
      "Epoch 86/100\n",
      "16/16 [==============================] - 0s 2ms/sample - loss: 0.1093 - val_loss: 0.2638\n",
      "Epoch 87/100\n",
      "16/16 [==============================] - 0s 2ms/sample - loss: 0.1059 - val_loss: 0.2349\n",
      "Epoch 88/100\n",
      "16/16 [==============================] - 0s 2ms/sample - loss: 0.1028 - val_loss: 0.2483\n",
      "Epoch 89/100\n",
      "16/16 [==============================] - 0s 2ms/sample - loss: 0.0987 - val_loss: 0.2298\n",
      "Epoch 90/100\n",
      "16/16 [==============================] - 0s 2ms/sample - loss: 0.0962 - val_loss: 0.2112\n",
      "Epoch 91/100\n",
      "16/16 [==============================] - 0s 2ms/sample - loss: 0.0928 - val_loss: 0.2140\n",
      "Epoch 92/100\n",
      "16/16 [==============================] - 0s 2ms/sample - loss: 0.0899 - val_loss: 0.1952\n",
      "Epoch 93/100\n",
      "16/16 [==============================] - 0s 2ms/sample - loss: 0.0870 - val_loss: 0.2005\n",
      "Epoch 94/100\n",
      "16/16 [==============================] - 0s 2ms/sample - loss: 0.0843 - val_loss: 0.2058\n",
      "Epoch 95/100\n",
      "16/16 [==============================] - 0s 2ms/sample - loss: 0.0816 - val_loss: 0.1857\n",
      "Epoch 96/100\n",
      "16/16 [==============================] - 0s 2ms/sample - loss: 0.0790 - val_loss: 0.1896\n",
      "Epoch 97/100\n",
      "16/16 [==============================] - 0s 2ms/sample - loss: 0.0776 - val_loss: 0.1498\n",
      "Epoch 98/100\n",
      "16/16 [==============================] - 0s 2ms/sample - loss: 0.0736 - val_loss: 0.1598\n",
      "Epoch 99/100\n",
      "16/16 [==============================] - 0s 2ms/sample - loss: 0.0707 - val_loss: 0.1662\n",
      "Epoch 100/100\n",
      "16/16 [==============================] - 0s 2ms/sample - loss: 0.0683 - val_loss: 0.1690\n"
     ]
    }
   ],
   "source": [
    "# 단순 수치 예측할 때, linear와 mse를 사용한다.\n",
    "model = Sequential()\n",
    "model.add(Dense(1, input_dim=1, activation='linear'))\n",
    "# dense: 전결합층을 은닉층으로 추가\n",
    "# 1: 출력값의 갯수, input_dim=1: 입력 데이터 갯수,\n",
    "# activation='linear': 활성화 함수, 선형 회귀 -> ax + b\n",
    "\n",
    "# 학습률 조절\n",
    "# 특정 가중치,bias 변경시 오차 크게 발생할 위험 있음\n",
    "# 학습률 10은 너무 크다 -> 학습 그래프에서 오차의 변동이 크다\n",
    "# model.compile(optimizer=Adam(lr=10.0), loss='mse')\n",
    "# model.compile(optimizer=Adam(lr=0.2), loss='mse')\n",
    "# model.compile(optimizer=Adam(lr=0.1), loss='mse')\n",
    "model.compile(optimizer=Adam(lr=0.01), loss='mse')\n",
    "\n",
    "# epochs: 20, 50, 100, 300, 1000\n",
    "hist = model.fit(x_train, y_train, validation_split=0.2, shuffle=True,\n",
    "                epochs = 100, batch_size=1)\n",
    "# x_train: 훈련 데이터, y_train: 타깃(실제값), 지도 학습\n",
    "# validation_split=0.2: 훈련과 검증을 80:20으로 데이터 분할\n",
    "# shuffle=True: 데이터 무작위 검증\n",
    "# epochs=30: 전체 데이터 학습 횟수\n",
    "# batch_size=1: 1건 처리후 가중치 변경\n",
    "# 30 * (20 / 1) = 600번 가중치 변경\n",
    "# 30 * (20 / 2) = 300번 가중치 변경\n",
    "# 30 * (20 / 20) = 30번 가중치 변경"
   ]
  },
  {
   "cell_type": "code",
   "execution_count": 20,
   "metadata": {},
   "outputs": [
    {
     "name": "stdout",
     "output_type": "stream",
     "text": [
      "Model: \"sequential_3\"\n",
      "_________________________________________________________________\n",
      "Layer (type)                 Output Shape              Param #   \n",
      "=================================================================\n",
      "dense_3 (Dense)              (None, 1)                 2         \n",
      "=================================================================\n",
      "Total params: 2\n",
      "Trainable params: 2\n",
      "Non-trainable params: 0\n",
      "_________________________________________________________________\n"
     ]
    }
   ],
   "source": [
    "model.summary()\n",
    "# 파라미터 2개 = 가중치1개 + bias 1개"
   ]
  },
  {
   "cell_type": "code",
   "execution_count": 21,
   "metadata": {},
   "outputs": [
    {
     "data": {
      "image/png": "[encoded data removed]",
      "text/plain": [
       "<Figure size 720x360 with 1 Axes>"
      ]
     },
     "metadata": {
      "needs_background": "light"
     },
     "output_type": "display_data"
    }
   ],
   "source": [
    "import matplotlib.pyplot as plt\n",
    "%matplotlib inline  \n",
    "\n",
    "fig, loss_ax = plt.subplots()\n",
    "# plt.figure(figsize=(6,4)) # ERROR\n",
    "fig.set_size_inches(10, 5)  # 챠트 크기 설정\n",
    "\n",
    "# 왼쪽 y 축 설정\n",
    "loss_ax.plot(hist.history['loss'], 'y', label='train loss')\n",
    "loss_ax.plot(hist.history['val_loss'], 'r', label='val loss')\n",
    "loss_ax.set_ylim([0.0, 2675.0146 ]) # 값을 반영하여 변경\n",
    "# val_loss: 2675.0146 오차들의 합\n",
    "\n",
    "# 축 레이블 설정\n",
    "loss_ax.set_xlabel('epoch')  # 학습 횟수\n",
    "loss_ax.set_ylabel('loss')   # 오차\n",
    "\n",
    "loss_ax.legend(loc='upper left') # 오차 레이블 위치\n",
    "\n",
    "plt.show()\n",
    "# 값이 떨어지면 학습이 되고 있다는 의미"
   ]
  },
  {
   "cell_type": "code",
   "execution_count": 22,
   "metadata": {},
   "outputs": [
    {
     "name": "stdout",
     "output_type": "stream",
     "text": [
      "(5, 1)\n",
      "[[ 99.92946 ]\n",
      " [101.87827 ]\n",
      " [103.82709 ]\n",
      " [105.77591 ]\n",
      " [107.724724]]\n"
     ]
    }
   ],
   "source": [
    "# 학습 결과를 테스트\n",
    "x = np.array([51, 52, 53, 54, 55])\n",
    "y = np.array([102, 104, 106, 108, 110]) # 실제답, 비교 목적\n",
    "\n",
    "pd = model.predict(x) # 모델 사용, 2차원 배열로 예측 결과가 발생\n",
    "print(pd.shape)\n",
    "print(pd)"
   ]
  },
  {
   "cell_type": "code",
   "execution_count": 23,
   "metadata": {},
   "outputs": [
    {
     "name": "stdout",
     "output_type": "stream",
     "text": [
      "x: 51, 실제값: 102, 예측값: 100\n",
      "x: 52, 실제값: 104, 예측값: 102\n",
      "x: 53, 실제값: 106, 예측값: 104\n",
      "x: 54, 실제값: 108, 예측값: 106\n",
      "x: 55, 실제값: 110, 예측값: 108\n"
     ]
    }
   ],
   "source": [
    "for i in range(len(x)):\n",
    "    fmt = 'x: {0}, 실제값: {1}, 예측값: {2:.0f}'\n",
    "    print(fmt.format(x[i], y[i], pd[i][0]))"
   ]
  },
  {
   "cell_type": "code",
   "execution_count": null,
   "metadata": {},
   "outputs": [],
   "source": []
  },
  {
   "cell_type": "code",
   "execution_count": null,
   "metadata": {},
   "outputs": [],
   "source": []
  }
 ],
 "metadata": {
  "kernelspec": {
   "display_name": "ai",
   "language": "python",
   "name": "ai"
  },
  "language_info": {
   "codemirror_mode": {
    "name": "ipython",
    "version": 3
   },
   "file_extension": ".py",
   "mimetype": "text/x-python",
   "name": "python",
   "nbconvert_exporter": "python",
   "pygments_lexer": "ipython3",
   "version": "3.6.10"
  }
 },
 "nbformat": 4,
 "nbformat_minor": 4
}
