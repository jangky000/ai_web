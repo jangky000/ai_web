{
 "cells": [
  {
   "cell_type": "code",
   "execution_count": 3,
   "metadata": {},
   "outputs": [
    {
     "name": "stdout",
     "output_type": "stream",
     "text": [
      "2.0.0\n"
     ]
    }
   ],
   "source": [
    "# DNN: deep neural network\n",
    "# MLP: multi layered perceptron\n",
    "import numpy as np\n",
    "import tensorflow as tf\n",
    "\n",
    "# tensorflow 2.0에 내장된 Keras 사용\n",
    "from tensorflow.keras.models import Sequential  # class\n",
    "from tensorflow.keras.models import load_model  # model 사용 함수\n",
    "from tensorflow.keras.layers import Dense       # 전결합층\n",
    "from tensorflow.keras.optimizers import Adam    # 가중치, bias 최적화\n",
    "\n",
    "# tensorflow 1.x, Keras가 독립적으로 설치된 경우\n",
    "# from keras.models import Sequential  # class\n",
    "# from keras.models import load_model  # model 사용 함수\n",
    "# from keras.layers import Dense       # class\n",
    "\n",
    "print(tf.__version__)"
   ]
  },
  {
   "cell_type": "code",
   "execution_count": 4,
   "metadata": {},
   "outputs": [
    {
     "name": "stdout",
     "output_type": "stream",
     "text": [
      "[ 1  2  3  4  5  6  7  8  9 10 11 12 13 14 15 16 17 18 19 20]\n",
      "[ 2  4  6  8 10 12 14 16 18 20 22 24 26 28 30 32 34 36 38 40]\n"
     ]
    }
   ],
   "source": [
    "# 데이터\n",
    "\n",
    "# 훈련 데이터: 수\n",
    "x_train = np.array([1, 2, 3, 4, 5, 6, 7, 8, 9, 10, 11, 12, 13, 14,15,16,17,18,19,20])\n",
    "\n",
    "# 정답 데이터: 배수\n",
    "y_train = np.array([2, 4, 6, 8, 10, 12, 14, 16, 18, 20, 22, 24, 26, 28, 30, 32, 34, 36, 38, 40])\n",
    "\n",
    "print(x_train)\n",
    "print(y_train)"
   ]
  },
  {
   "cell_type": "markdown",
   "metadata": {},
   "source": [
    "### 다층퍼셉트론(MLP), 은닉층이 2개 이상 있으면 딥러닝"
   ]
  },
  {
   "cell_type": "code",
   "execution_count": 10,
   "metadata": {},
   "outputs": [
    {
     "name": "stdout",
     "output_type": "stream",
     "text": [
      "Train on 16 samples, validate on 4 samples\n",
      "Epoch 1/100\n",
      "16/16 [==============================] - 0s 19ms/sample - loss: 204.3828 - val_loss: 710.0072\n",
      "Epoch 2/100\n",
      "16/16 [==============================] - 0s 2ms/sample - loss: 182.2975 - val_loss: 633.3064\n",
      "Epoch 3/100\n",
      "16/16 [==============================] - 0s 2ms/sample - loss: 162.2574 - val_loss: 560.3266\n",
      "Epoch 4/100\n",
      "16/16 [==============================] - 0s 2ms/sample - loss: 142.6447 - val_loss: 493.6793\n",
      "Epoch 5/100\n",
      "16/16 [==============================] - 0s 2ms/sample - loss: 126.0312 - val_loss: 426.3751\n",
      "Epoch 6/100\n",
      "16/16 [==============================] - 0s 2ms/sample - loss: 106.8628 - val_loss: 373.4196\n",
      "Epoch 7/100\n",
      "16/16 [==============================] - 0s 2ms/sample - loss: 92.7215 - val_loss: 316.9486\n",
      "Epoch 8/100\n",
      "16/16 [==============================] - 0s 2ms/sample - loss: 77.7500 - val_loss: 267.3248\n",
      "Epoch 9/100\n",
      "16/16 [==============================] - 0s 2ms/sample - loss: 63.9030 - val_loss: 226.2760\n",
      "Epoch 10/100\n",
      "16/16 [==============================] - 0s 2ms/sample - loss: 52.8881 - val_loss: 186.4294\n",
      "Epoch 11/100\n",
      "16/16 [==============================] - 0s 2ms/sample - loss: 43.0652 - val_loss: 148.6538\n",
      "Epoch 12/100\n",
      "16/16 [==============================] - 0s 2ms/sample - loss: 33.7656 - val_loss: 117.6599\n",
      "Epoch 13/100\n",
      "16/16 [==============================] - 0s 2ms/sample - loss: 26.0444 - val_loss: 92.6679\n",
      "Epoch 14/100\n",
      "16/16 [==============================] - 0s 2ms/sample - loss: 19.8704 - val_loss: 71.7862\n",
      "Epoch 15/100\n",
      "16/16 [==============================] - 0s 2ms/sample - loss: 15.0682 - val_loss: 53.9754\n",
      "Epoch 16/100\n",
      "16/16 [==============================] - 0s 2ms/sample - loss: 10.8745 - val_loss: 40.7911\n",
      "Epoch 17/100\n",
      "16/16 [==============================] - 0s 2ms/sample - loss: 7.8553 - val_loss: 30.3142\n",
      "Epoch 18/100\n",
      "16/16 [==============================] - 0s 2ms/sample - loss: 5.5128 - val_loss: 22.6136\n",
      "Epoch 19/100\n",
      "16/16 [==============================] - 0s 2ms/sample - loss: 3.9775 - val_loss: 16.0260\n",
      "Epoch 20/100\n",
      "16/16 [==============================] - 0s 2ms/sample - loss: 2.7117 - val_loss: 11.5268\n",
      "Epoch 21/100\n",
      "16/16 [==============================] - 0s 2ms/sample - loss: 1.8645 - val_loss: 8.3482\n",
      "Epoch 22/100\n",
      "16/16 [==============================] - 0s 2ms/sample - loss: 1.3093 - val_loss: 6.0573\n",
      "Epoch 23/100\n",
      "16/16 [==============================] - 0s 2ms/sample - loss: 0.9181 - val_loss: 4.6004\n",
      "Epoch 24/100\n",
      "16/16 [==============================] - 0s 2ms/sample - loss: 0.6865 - val_loss: 3.5400\n",
      "Epoch 25/100\n",
      "16/16 [==============================] - 0s 2ms/sample - loss: 0.5752 - val_loss: 2.5281\n",
      "Epoch 26/100\n",
      "16/16 [==============================] - 0s 2ms/sample - loss: 0.4609 - val_loss: 1.9313\n",
      "Epoch 27/100\n",
      "16/16 [==============================] - 0s 2ms/sample - loss: 0.3925 - val_loss: 1.5951\n",
      "Epoch 28/100\n",
      "16/16 [==============================] - 0s 2ms/sample - loss: 0.3595 - val_loss: 1.3877\n",
      "Epoch 29/100\n",
      "16/16 [==============================] - 0s 2ms/sample - loss: 0.3435 - val_loss: 1.1621\n",
      "Epoch 30/100\n",
      "16/16 [==============================] - 0s 2ms/sample - loss: 0.3265 - val_loss: 1.0619\n",
      "Epoch 31/100\n",
      "16/16 [==============================] - 0s 2ms/sample - loss: 0.3194 - val_loss: 0.9714\n",
      "Epoch 32/100\n",
      "16/16 [==============================] - 0s 2ms/sample - loss: 0.3137 - val_loss: 0.9054\n",
      "Epoch 33/100\n",
      "16/16 [==============================] - 0s 2ms/sample - loss: 0.3097 - val_loss: 0.8594\n",
      "Epoch 34/100\n",
      "16/16 [==============================] - 0s 2ms/sample - loss: 0.3108 - val_loss: 0.7355\n",
      "Epoch 35/100\n",
      "16/16 [==============================] - 0s 2ms/sample - loss: 0.3043 - val_loss: 0.7487\n",
      "Epoch 36/100\n",
      "16/16 [==============================] - 0s 2ms/sample - loss: 0.3006 - val_loss: 0.7001\n",
      "Epoch 37/100\n",
      "16/16 [==============================] - 0s 2ms/sample - loss: 0.2975 - val_loss: 0.6857\n",
      "Epoch 38/100\n",
      "16/16 [==============================] - 0s 2ms/sample - loss: 0.2956 - val_loss: 0.6875\n",
      "Epoch 39/100\n",
      "16/16 [==============================] - 0s 2ms/sample - loss: 0.2925 - val_loss: 0.7165\n",
      "Epoch 40/100\n",
      "16/16 [==============================] - 0s 2ms/sample - loss: 0.2890 - val_loss: 0.6904\n",
      "Epoch 41/100\n",
      "16/16 [==============================] - 0s 2ms/sample - loss: 0.2856 - val_loss: 0.6627\n",
      "Epoch 42/100\n",
      "16/16 [==============================] - 0s 2ms/sample - loss: 0.2831 - val_loss: 0.6553\n",
      "Epoch 43/100\n",
      "16/16 [==============================] - 0s 2ms/sample - loss: 0.2800 - val_loss: 0.6454\n",
      "Epoch 44/100\n",
      "16/16 [==============================] - 0s 2ms/sample - loss: 0.2773 - val_loss: 0.6364\n",
      "Epoch 45/100\n",
      "16/16 [==============================] - 0s 2ms/sample - loss: 0.2757 - val_loss: 0.5985\n",
      "Epoch 46/100\n",
      "16/16 [==============================] - 0s 2ms/sample - loss: 0.2726 - val_loss: 0.5945\n",
      "Epoch 47/100\n",
      "16/16 [==============================] - 0s 2ms/sample - loss: 0.2685 - val_loss: 0.6176\n",
      "Epoch 48/100\n",
      "16/16 [==============================] - 0s 2ms/sample - loss: 0.2651 - val_loss: 0.6248\n",
      "Epoch 49/100\n",
      "16/16 [==============================] - 0s 2ms/sample - loss: 0.2639 - val_loss: 0.6557\n",
      "Epoch 50/100\n",
      "16/16 [==============================] - 0s 2ms/sample - loss: 0.2590 - val_loss: 0.6077\n",
      "Epoch 51/100\n",
      "16/16 [==============================] - 0s 2ms/sample - loss: 0.2566 - val_loss: 0.5949\n",
      "Epoch 52/100\n",
      "16/16 [==============================] - 0s 2ms/sample - loss: 0.2563 - val_loss: 0.5411\n",
      "Epoch 53/100\n",
      "16/16 [==============================] - 0s 2ms/sample - loss: 0.2507 - val_loss: 0.5665\n",
      "Epoch 54/100\n",
      "16/16 [==============================] - 0s 2ms/sample - loss: 0.2501 - val_loss: 0.6056\n",
      "Epoch 55/100\n",
      "16/16 [==============================] - 0s 2ms/sample - loss: 0.2450 - val_loss: 0.5963\n",
      "Epoch 56/100\n",
      "16/16 [==============================] - 0s 2ms/sample - loss: 0.2412 - val_loss: 0.5554\n",
      "Epoch 57/100\n",
      "16/16 [==============================] - 0s 2ms/sample - loss: 0.2383 - val_loss: 0.5356\n",
      "Epoch 58/100\n",
      "16/16 [==============================] - 0s 2ms/sample - loss: 0.2364 - val_loss: 0.5281\n",
      "Epoch 59/100\n",
      "16/16 [==============================] - 0s 2ms/sample - loss: 0.2344 - val_loss: 0.5406\n",
      "Epoch 60/100\n",
      "16/16 [==============================] - 0s 2ms/sample - loss: 0.2293 - val_loss: 0.5188\n",
      "Epoch 61/100\n",
      "16/16 [==============================] - 0s 2ms/sample - loss: 0.2271 - val_loss: 0.5134\n",
      "Epoch 62/100\n",
      "16/16 [==============================] - 0s 2ms/sample - loss: 0.2240 - val_loss: 0.4844\n",
      "Epoch 63/100\n",
      "16/16 [==============================] - 0s 2ms/sample - loss: 0.2204 - val_loss: 0.4884\n",
      "Epoch 64/100\n",
      "16/16 [==============================] - 0s 2ms/sample - loss: 0.2174 - val_loss: 0.4899\n",
      "Epoch 65/100\n",
      "16/16 [==============================] - 0s 2ms/sample - loss: 0.2142 - val_loss: 0.4878\n",
      "Epoch 66/100\n",
      "16/16 [==============================] - 0s 2ms/sample - loss: 0.2115 - val_loss: 0.4603\n",
      "Epoch 67/100\n",
      "16/16 [==============================] - 0s 2ms/sample - loss: 0.2089 - val_loss: 0.4701\n",
      "Epoch 68/100\n",
      "16/16 [==============================] - 0s 2ms/sample - loss: 0.2063 - val_loss: 0.4505\n",
      "Epoch 69/100\n",
      "16/16 [==============================] - 0s 2ms/sample - loss: 0.2029 - val_loss: 0.4400\n",
      "Epoch 70/100\n",
      "16/16 [==============================] - 0s 2ms/sample - loss: 0.1990 - val_loss: 0.4605\n",
      "Epoch 71/100\n",
      "16/16 [==============================] - 0s 2ms/sample - loss: 0.1975 - val_loss: 0.4626\n",
      "Epoch 72/100\n",
      "16/16 [==============================] - 0s 2ms/sample - loss: 0.1936 - val_loss: 0.4475\n",
      "Epoch 73/100\n",
      "16/16 [==============================] - 0s 2ms/sample - loss: 0.1915 - val_loss: 0.4258\n",
      "Epoch 74/100\n",
      "16/16 [==============================] - 0s 2ms/sample - loss: 0.1879 - val_loss: 0.4446\n",
      "Epoch 75/100\n",
      "16/16 [==============================] - 0s 2ms/sample - loss: 0.1850 - val_loss: 0.4160\n",
      "Epoch 76/100\n",
      "16/16 [==============================] - 0s 2ms/sample - loss: 0.1821 - val_loss: 0.4048\n",
      "Epoch 77/100\n",
      "16/16 [==============================] - ETA: 0s - loss: 0.004 - 0s 2ms/sample - loss: 0.1786 - val_loss: 0.4023\n",
      "Epoch 78/100\n",
      "16/16 [==============================] - 0s 2ms/sample - loss: 0.1761 - val_loss: 0.4025\n",
      "Epoch 79/100\n",
      "16/16 [==============================] - 0s 2ms/sample - loss: 0.1737 - val_loss: 0.4190\n",
      "Epoch 80/100\n"
     ]
    },
    {
     "name": "stdout",
     "output_type": "stream",
     "text": [
      "16/16 [==============================] - 0s 2ms/sample - loss: 0.1706 - val_loss: 0.3755\n",
      "Epoch 81/100\n",
      "16/16 [==============================] - 0s 2ms/sample - loss: 0.1679 - val_loss: 0.3557\n",
      "Epoch 82/100\n",
      "16/16 [==============================] - 0s 2ms/sample - loss: 0.1652 - val_loss: 0.3499\n",
      "Epoch 83/100\n",
      "16/16 [==============================] - 0s 2ms/sample - loss: 0.1615 - val_loss: 0.3727\n",
      "Epoch 84/100\n",
      "16/16 [==============================] - 0s 2ms/sample - loss: 0.1613 - val_loss: 0.3726\n",
      "Epoch 85/100\n",
      "16/16 [==============================] - 0s 2ms/sample - loss: 0.1570 - val_loss: 0.3489\n",
      "Epoch 86/100\n",
      "16/16 [==============================] - 0s 2ms/sample - loss: 0.1535 - val_loss: 0.3437\n",
      "Epoch 87/100\n",
      "16/16 [==============================] - 0s 2ms/sample - loss: 0.1516 - val_loss: 0.3718\n",
      "Epoch 88/100\n",
      "16/16 [==============================] - 0s 2ms/sample - loss: 0.1484 - val_loss: 0.3266\n",
      "Epoch 89/100\n",
      "16/16 [==============================] - 0s 2ms/sample - loss: 0.1454 - val_loss: 0.3148\n",
      "Epoch 90/100\n",
      "16/16 [==============================] - 0s 2ms/sample - loss: 0.1428 - val_loss: 0.3275\n",
      "Epoch 91/100\n",
      "16/16 [==============================] - 0s 2ms/sample - loss: 0.1414 - val_loss: 0.3000\n",
      "Epoch 92/100\n",
      "16/16 [==============================] - 0s 2ms/sample - loss: 0.1380 - val_loss: 0.3019\n",
      "Epoch 93/100\n",
      "16/16 [==============================] - 0s 2ms/sample - loss: 0.1355 - val_loss: 0.3255\n",
      "Epoch 94/100\n",
      "16/16 [==============================] - 0s 2ms/sample - loss: 0.1322 - val_loss: 0.2948\n",
      "Epoch 95/100\n",
      "16/16 [==============================] - 0s 2ms/sample - loss: 0.1312 - val_loss: 0.3199\n",
      "Epoch 96/100\n",
      "16/16 [==============================] - 0s 2ms/sample - loss: 0.1290 - val_loss: 0.2632\n",
      "Epoch 97/100\n",
      "16/16 [==============================] - 0s 2ms/sample - loss: 0.1246 - val_loss: 0.2682\n",
      "Epoch 98/100\n",
      "16/16 [==============================] - 0s 2ms/sample - loss: 0.1225 - val_loss: 0.2902\n",
      "Epoch 99/100\n",
      "16/16 [==============================] - 0s 2ms/sample - loss: 0.1200 - val_loss: 0.2828\n",
      "Epoch 100/100\n",
      "16/16 [==============================] - 0s 2ms/sample - loss: 0.1171 - val_loss: 0.2616\n"
     ]
    }
   ],
   "source": [
    "# 단순 수치 예측할 때, linear와 mse를 사용한다.\n",
    "model = Sequential()\n",
    "model.add(Dense(10, input_dim=1, activation='linear')) # 은닉층1\n",
    "# dense: 전결합층을 은닉층으로 추가\n",
    "# 10: 출력값의 갯수, input_dim=1: 입력 데이터 갯수,\n",
    "# activation='linear': 활성화 함수, 선형 회귀 -> ax + b\n",
    "\n",
    "# 2번째 층부터는 input_dim을 생략 -> 자동으로 처리된다.\n",
    "model.add(Dense(1, activation='linear')) # 은닉층 2 -> 입력:10 출력:1\n",
    "\n",
    "\n",
    "# 학습률 지정 안 하면 기본값이 쓰임\n",
    "model.compile(optimizer='adam', loss='mse')\n",
    "\n",
    "# epochs: 20, 50, 100, 300, 1000\n",
    "hist = model.fit(x_train, y_train, validation_split=0.2, shuffle=True,\n",
    "                epochs = 100, batch_size=1)\n",
    "# x_train: 훈련 데이터, y_train: 타깃(실제값), 지도 학습\n",
    "# validation_split=0.2: 훈련과 검증을 80:20으로 데이터 분할\n",
    "# shuffle=True: 데이터 무작위 검증\n",
    "# epochs=30: 전체 데이터 학습 횟수\n",
    "# batch_size=1: 1건 처리후 가중치 변경\n",
    "# 30 * (20 / 1) = 600번 가중치 변경\n",
    "# 30 * (20 / 2) = 300번 가중치 변경\n",
    "# 30 * (20 / 20) = 30번 가중치 변경"
   ]
  },
  {
   "cell_type": "code",
   "execution_count": 11,
   "metadata": {},
   "outputs": [
    {
     "name": "stdout",
     "output_type": "stream",
     "text": [
      "Model: \"sequential_1\"\n",
      "_________________________________________________________________\n",
      "Layer (type)                 Output Shape              Param #   \n",
      "=================================================================\n",
      "dense_2 (Dense)              (None, 10)                20        \n",
      "_________________________________________________________________\n",
      "dense_3 (Dense)              (None, 1)                 11        \n",
      "=================================================================\n",
      "Total params: 31\n",
      "Trainable params: 31\n",
      "Non-trainable params: 0\n",
      "_________________________________________________________________\n"
     ]
    }
   ],
   "source": [
    "model.summary()\n",
    "# 파라미터 2개 = 가중치1개 + bias 1개"
   ]
  },
  {
   "cell_type": "code",
   "execution_count": 12,
   "metadata": {},
   "outputs": [
    {
     "data": {
      "image/png": "[encoded data removed]",
      "text/plain": [
       "<Figure size 720x360 with 1 Axes>"
      ]
     },
     "metadata": {
      "needs_background": "light"
     },
     "output_type": "display_data"
    }
   ],
   "source": [
    "import matplotlib.pyplot as plt\n",
    "%matplotlib inline  \n",
    "\n",
    "fig, loss_ax = plt.subplots()\n",
    "# plt.figure(figsize=(6,4)) # ERROR\n",
    "fig.set_size_inches(10, 5)  # 챠트 크기 설정\n",
    "\n",
    "# 왼쪽 y 축 설정\n",
    "loss_ax.plot(hist.history['loss'], 'y', label='train loss')\n",
    "loss_ax.plot(hist.history['val_loss'], 'r', label='val loss')\n",
    "loss_ax.set_ylim([0.0, 930.7184 ]) # 값을 반영하여 변경\n",
    "# val_loss: 2675.0146 오차들의 합\n",
    "\n",
    "# 축 레이블 설정\n",
    "loss_ax.set_xlabel('epoch')  # 학습 횟수\n",
    "loss_ax.set_ylabel('loss')   # 오차\n",
    "\n",
    "loss_ax.legend(loc='upper left') # 오차 레이블 위치\n",
    "\n",
    "plt.show()\n",
    "# 값이 떨어지면 학습이 되고 있다는 의미"
   ]
  },
  {
   "cell_type": "code",
   "execution_count": 13,
   "metadata": {},
   "outputs": [
    {
     "name": "stdout",
     "output_type": "stream",
     "text": [
      "(5, 1)\n",
      "[[ 99.351906]\n",
      " [101.285995]\n",
      " [103.22008 ]\n",
      " [105.154175]\n",
      " [107.08827 ]]\n"
     ]
    }
   ],
   "source": [
    "# 학습 결과를 테스트\n",
    "x = np.array([51, 52, 53, 54, 55])\n",
    "y = np.array([102, 104, 106, 108, 110]) # 실제답, 비교 목적\n",
    "\n",
    "pd = model.predict(x) # 모델 사용, 2차원 배열로 예측 결과가 발생\n",
    "print(pd.shape)\n",
    "print(pd)"
   ]
  },
  {
   "cell_type": "code",
   "execution_count": 14,
   "metadata": {},
   "outputs": [
    {
     "name": "stdout",
     "output_type": "stream",
     "text": [
      "x: 51, 실제값: 102, 예측값: 99\n",
      "x: 52, 실제값: 104, 예측값: 101\n",
      "x: 53, 실제값: 106, 예측값: 103\n",
      "x: 54, 실제값: 108, 예측값: 105\n",
      "x: 55, 실제값: 110, 예측값: 107\n"
     ]
    }
   ],
   "source": [
    "for i in range(len(x)):\n",
    "    fmt = 'x: {0}, 실제값: {1}, 예측값: {2:.0f}'\n",
    "    print(fmt.format(x[i], y[i], pd[i][0]))"
   ]
  },
  {
   "cell_type": "code",
   "execution_count": null,
   "metadata": {},
   "outputs": [],
   "source": []
  },
  {
   "cell_type": "code",
   "execution_count": null,
   "metadata": {},
   "outputs": [],
   "source": []
  }
 ],
 "metadata": {
  "kernelspec": {
   "display_name": "ai",
   "language": "python",
   "name": "ai"
  },
  "language_info": {
   "codemirror_mode": {
    "name": "ipython",
    "version": 3
   },
   "file_extension": ".py",
   "mimetype": "text/x-python",
   "name": "python",
   "nbconvert_exporter": "python",
   "pygments_lexer": "ipython3",
   "version": "3.6.10"
  }
 },
 "nbformat": 4,
 "nbformat_minor": 4
}
