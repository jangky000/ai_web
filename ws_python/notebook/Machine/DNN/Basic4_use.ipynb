{
 "cells": [
  {
   "cell_type": "code",
   "execution_count": 3,
   "metadata": {},
   "outputs": [],
   "source": [
    "import numpy as np\n",
    "from tensorflow.keras.models import load_model  # model 사용 함수"
   ]
  },
  {
   "cell_type": "code",
   "execution_count": 4,
   "metadata": {},
   "outputs": [],
   "source": [
    "# 모델 메모리 상주\n",
    "model = load_model('./Basic4.h5')"
   ]
  },
  {
   "cell_type": "code",
   "execution_count": 5,
   "metadata": {},
   "outputs": [
    {
     "name": "stdout",
     "output_type": "stream",
     "text": [
      "(5, 2)\n"
     ]
    }
   ],
   "source": [
    "x = np.array([[11, 19], [12, 20], [13, 21], [14, 22], [15, 23]])\n",
    "pd = model.predict(x) # 모델 사용\n",
    "print(pd.shape)\n",
    "# print(pd)"
   ]
  },
  {
   "cell_type": "code",
   "execution_count": 6,
   "metadata": {},
   "outputs": [
    {
     "name": "stdout",
     "output_type": "stream",
     "text": [
      "x: [11 19], 실제값: [22 38], 예측값: 22.23024 37.58459, 정제된값: 22 38\n",
      "x: [12 20], 실제값: [24 40], 예측값: 24.23031 39.58471, 정제된값: 24 40\n",
      "x: [13 21], 실제값: [26 42], 예측값: 26.23039 41.58484, 정제된값: 26 42\n",
      "x: [14 22], 실제값: [28 44], 예측값: 28.23046 43.58495, 정제된값: 28 44\n",
      "x: [15 23], 실제값: [30 46], 예측값: 30.23054 45.58507, 정제된값: 30 46\n"
     ]
    }
   ],
   "source": [
    "y = np.array([[22, 38], [24, 40], [26, 42], [28, 44], [30, 46]]) # 타겟\n",
    "for i in range(len(x)):\n",
    "    fmt = 'x: {0}, 실제값: {1}, 예측값: {2:.5f} {3:.5f}, 정제된값: {4:.0f} {5:.0f}'\n",
    "    print(fmt.format(x[i], y[i], pd[i][0], pd[i][1], pd[i][0], pd[i][1]))"
   ]
  },
  {
   "cell_type": "code",
   "execution_count": null,
   "metadata": {},
   "outputs": [],
   "source": []
  }
 ],
 "metadata": {
  "kernelspec": {
   "display_name": "ai",
   "language": "python",
   "name": "ai"
  },
  "language_info": {
   "codemirror_mode": {
    "name": "ipython",
    "version": 3
   },
   "file_extension": ".py",
   "mimetype": "text/x-python",
   "name": "python",
   "nbconvert_exporter": "python",
   "pygments_lexer": "ipython3",
   "version": "3.6.10"
  }
 },
 "nbformat": 4,
 "nbformat_minor": 4
}
