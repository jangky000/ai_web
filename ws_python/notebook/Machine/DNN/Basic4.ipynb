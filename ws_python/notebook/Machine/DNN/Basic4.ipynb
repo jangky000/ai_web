{
 "cells": [
  {
   "cell_type": "code",
   "execution_count": 1,
   "metadata": {},
   "outputs": [
    {
     "name": "stdout",
     "output_type": "stream",
     "text": [
      "2.0.0\n"
     ]
    }
   ],
   "source": [
    "# DNN: deep neural network\n",
    "import numpy as np\n",
    "import tensorflow as tf\n",
    "\n",
    "# tensorflow 2.0에 내장된 Keras 사용\n",
    "from tensorflow.keras.models import Sequential  # class\n",
    "from tensorflow.keras.models import load_model  # model 사용 함수\n",
    "from tensorflow.keras.layers import Dense       # 전결합층\n",
    "from tensorflow.keras.optimizers import Adam    # 가중치, bias 최적화\n",
    "\n",
    "# tensorflow 1.x, Keras가 독립적으로 설치된 경우\n",
    "# from keras.models import Sequential  # class\n",
    "# from keras.models import load_model  # model 사용 함수\n",
    "# from keras.layers import Dense       # class\n",
    "\n",
    "print(tf.__version__)"
   ]
  },
  {
   "cell_type": "code",
   "execution_count": 2,
   "metadata": {},
   "outputs": [
    {
     "name": "stdout",
     "output_type": "stream",
     "text": [
      "(10, 2)\n",
      "(2,)\n"
     ]
    }
   ],
   "source": [
    "# 데이터 2개씩 입력\n",
    "x_train = np.array([[1, 5], [2, 6], [3, 7], [4, 8], [5, 9], [6, 10], [7, 11], [8, 12], [9, 13], [10, 14]])\n",
    "print(x_train.shape)\n",
    "print(x_train[0].shape)"
   ]
  },
  {
   "cell_type": "code",
   "execution_count": 3,
   "metadata": {},
   "outputs": [
    {
     "name": "stdout",
     "output_type": "stream",
     "text": [
      "(10, 2)\n"
     ]
    }
   ],
   "source": [
    "# 1 * 2 = 2, 5 * 2 = 10\n",
    "y_train = np.array([[2, 10], [4, 12], [6, 14], [8, 16], [10, 18], [12, 20], [14, 22], [16, 24], [18, 26], [20, 28]])\n",
    "print(y_train.shape)"
   ]
  },
  {
   "cell_type": "markdown",
   "metadata": {},
   "source": [
    "### 퍼셉트론"
   ]
  },
  {
   "cell_type": "code",
   "execution_count": 4,
   "metadata": {},
   "outputs": [
    {
     "name": "stdout",
     "output_type": "stream",
     "text": [
      "Train on 8 samples, validate on 2 samples\n",
      "Epoch 1/35\n",
      "8/8 [==============================] - 1s 104ms/sample - loss: 124.8536 - val_loss: 87.1590\n",
      "Epoch 2/35\n",
      "8/8 [==============================] - 0s 3ms/sample - loss: 14.0504 - val_loss: 34.8961\n",
      "Epoch 3/35\n",
      "8/8 [==============================] - 0s 3ms/sample - loss: 17.7599 - val_loss: 23.3404\n",
      "Epoch 4/35\n",
      "8/8 [==============================] - 0s 3ms/sample - loss: 2.6520 - val_loss: 5.4649\n",
      "Epoch 5/35\n",
      "8/8 [==============================] - 0s 3ms/sample - loss: 4.1465 - val_loss: 8.4001\n",
      "Epoch 6/35\n",
      "8/8 [==============================] - 0s 3ms/sample - loss: 1.7113 - val_loss: 2.3266\n",
      "Epoch 7/35\n",
      "8/8 [==============================] - 0s 3ms/sample - loss: 0.7165 - val_loss: 1.6528\n",
      "Epoch 8/35\n",
      "8/8 [==============================] - 0s 3ms/sample - loss: 0.4718 - val_loss: 0.8298\n",
      "Epoch 9/35\n",
      "8/8 [==============================] - 0s 3ms/sample - loss: 0.1701 - val_loss: 0.1172\n",
      "Epoch 10/35\n",
      "8/8 [==============================] - 0s 3ms/sample - loss: 0.1156 - val_loss: 0.2209\n",
      "Epoch 11/35\n",
      "8/8 [==============================] - 0s 2ms/sample - loss: 0.0533 - val_loss: 0.1867\n",
      "Epoch 12/35\n",
      "8/8 [==============================] - 0s 3ms/sample - loss: 0.0422 - val_loss: 0.1066\n",
      "Epoch 13/35\n",
      "8/8 [==============================] - 0s 3ms/sample - loss: 0.0358 - val_loss: 0.0648\n",
      "Epoch 14/35\n",
      "8/8 [==============================] - 0s 3ms/sample - loss: 0.0134 - val_loss: 0.0138\n",
      "Epoch 15/35\n",
      "8/8 [==============================] - 0s 3ms/sample - loss: 0.0063 - val_loss: 0.0086\n",
      "Epoch 16/35\n",
      "8/8 [==============================] - 0s 3ms/sample - loss: 0.0027 - val_loss: 0.0048\n",
      "Epoch 17/35\n",
      "8/8 [==============================] - 0s 3ms/sample - loss: 0.0024 - val_loss: 0.0035\n",
      "Epoch 18/35\n",
      "8/8 [==============================] - 0s 3ms/sample - loss: 0.0012 - val_loss: 0.0037\n",
      "Epoch 19/35\n",
      "8/8 [==============================] - 0s 3ms/sample - loss: 7.8082e-04 - val_loss: 0.0022\n",
      "Epoch 20/35\n",
      "8/8 [==============================] - 0s 3ms/sample - loss: 4.5572e-04 - val_loss: 5.8567e-04\n",
      "Epoch 21/35\n",
      "8/8 [==============================] - 0s 3ms/sample - loss: 4.1193e-04 - val_loss: 0.0011\n",
      "Epoch 22/35\n",
      "8/8 [==============================] - 0s 3ms/sample - loss: 2.3386e-04 - val_loss: 3.3791e-04\n",
      "Epoch 23/35\n",
      "8/8 [==============================] - 0s 3ms/sample - loss: 1.5225e-04 - val_loss: 3.2048e-04\n",
      "Epoch 24/35\n",
      "8/8 [==============================] - 0s 3ms/sample - loss: 9.8253e-05 - val_loss: 2.0368e-04\n",
      "Epoch 25/35\n",
      "8/8 [==============================] - 0s 3ms/sample - loss: 6.2388e-05 - val_loss: 1.3534e-04\n",
      "Epoch 26/35\n",
      "8/8 [==============================] - 0s 3ms/sample - loss: 3.8360e-05 - val_loss: 1.0985e-04\n",
      "Epoch 27/35\n",
      "8/8 [==============================] - 0s 3ms/sample - loss: 2.5185e-05 - val_loss: 3.6898e-05\n",
      "Epoch 28/35\n",
      "8/8 [==============================] - 0s 3ms/sample - loss: 2.1302e-05 - val_loss: 3.8543e-05\n",
      "Epoch 29/35\n",
      "8/8 [==============================] - 0s 3ms/sample - loss: 1.2504e-05 - val_loss: 3.9057e-05\n",
      "Epoch 30/35\n",
      "8/8 [==============================] - 0s 2ms/sample - loss: 7.1665e-06 - val_loss: 1.1536e-05\n",
      "Epoch 31/35\n",
      "8/8 [==============================] - 0s 3ms/sample - loss: 3.3424e-06 - val_loss: 1.4359e-06\n",
      "Epoch 32/35\n",
      "8/8 [==============================] - 0s 3ms/sample - loss: 1.8477e-06 - val_loss: 3.6825e-06\n",
      "Epoch 33/35\n",
      "8/8 [==============================] - 0s 3ms/sample - loss: 8.9710e-07 - val_loss: 1.2041e-06\n",
      "Epoch 34/35\n",
      "8/8 [==============================] - 0s 3ms/sample - loss: 4.3417e-07 - val_loss: 1.8336e-06\n",
      "Epoch 35/35\n",
      "8/8 [==============================] - 0s 3ms/sample - loss: 2.4975e-07 - val_loss: 2.5427e-08\n"
     ]
    }
   ],
   "source": [
    "# 파라미터(가중치, y절편) 특정 값으로 초기화 -> 정규분포에 맞춰서 난수 생성\n",
    "tf.keras.initializers.RandomNormal(mean=0.0, stddev=0.05, seed=0)\n",
    "# keras.initializers.RandomNormal(mean=0.0, stddev=1, seed=None)\n",
    "# keras.initializers.RandomUniform(minval=-0.05, maxval=0.05, seed=0)\n",
    "# tensorflow.keras.initializers.RandomUniform(minval=-1.0, maxval=1.0, seed=None)\n",
    "model = Sequential()\n",
    "# model.add(Dense(60, input_dim=2, activation='linear'))\n",
    "# (2, ): 1차원 배열 요소 2개\n",
    "model.add(Dense(60, input_shape=(2, ), activation='linear'))\n",
    "model.add(Dense(80, activation='linear')) # 입력: 60, 출력: 80\n",
    "model.add(Dense(40, activation='linear')) # 입력: 80, 출력: 40\n",
    "model.add(Dense(15, activation='linear'))\n",
    "model.add(Dense(2, activation='linear'))  # 입력: 15, 출력: 2\n",
    "\n",
    "model.compile(optimizer='adam', loss='mse')\n",
    "\n",
    "hist = model.fit(x_train, y_train, validation_split=0.2, shuffle=True,\n",
    "                 epochs=35, batch_size=1)"
   ]
  },
  {
   "cell_type": "code",
   "execution_count": 5,
   "metadata": {},
   "outputs": [
    {
     "name": "stdout",
     "output_type": "stream",
     "text": [
      "Model: \"sequential\"\n",
      "_________________________________________________________________\n",
      "Layer (type)                 Output Shape              Param #   \n",
      "=================================================================\n",
      "dense (Dense)                (None, 60)                180       \n",
      "_________________________________________________________________\n",
      "dense_1 (Dense)              (None, 80)                4880      \n",
      "_________________________________________________________________\n",
      "dense_2 (Dense)              (None, 40)                3240      \n",
      "_________________________________________________________________\n",
      "dense_3 (Dense)              (None, 15)                615       \n",
      "_________________________________________________________________\n",
      "dense_4 (Dense)              (None, 2)                 32        \n",
      "=================================================================\n",
      "Total params: 8,947\n",
      "Trainable params: 8,947\n",
      "Non-trainable params: 0\n",
      "_________________________________________________________________\n"
     ]
    }
   ],
   "source": [
    "model.summary()\n",
    "# Total params: 8,947"
   ]
  },
  {
   "cell_type": "code",
   "execution_count": 6,
   "metadata": {},
   "outputs": [
    {
     "data": {
      "image/png": "[encoded data removed]",
      "text/plain": [
       "<Figure size 720x360 with 1 Axes>"
      ]
     },
     "metadata": {
      "needs_background": "light"
     },
     "output_type": "display_data"
    }
   ],
   "source": [
    "import matplotlib.pyplot as plt\n",
    "%matplotlib inline  \n",
    "\n",
    "fig, loss_ax = plt.subplots()\n",
    "# plt.figure(figsize=(6,4)) # ERROR\n",
    "fig.set_size_inches(10, 5)  # 챠트 크기 설정\n",
    "\n",
    "# 왼쪽 y 축 설정\n",
    "loss_ax.plot(hist.history['loss'], 'y', label='train loss')\n",
    "loss_ax.plot(hist.history['val_loss'], 'r', label='val loss')\n",
    "loss_ax.set_ylim([0.0, 69.4939 ]) # 값을 반영하여 변경\n",
    "# val_loss: 1386.4710 오차들의 합\n",
    "\n",
    "# 축 레이블 설정\n",
    "loss_ax.set_xlabel('epoch')  # 학습 횟수\n",
    "loss_ax.set_ylabel('loss')   # 오차\n",
    "\n",
    "loss_ax.legend(loc='upper left') # 오차 레이블 위치\n",
    "\n",
    "plt.show()\n",
    "# 값이 떨어지면 학습이 되고 있다는 의미"
   ]
  },
  {
   "cell_type": "code",
   "execution_count": 7,
   "metadata": {},
   "outputs": [
    {
     "name": "stdout",
     "output_type": "stream",
     "text": [
      "(5, 2)\n"
     ]
    }
   ],
   "source": [
    "# 모델 사용\n",
    "x = np.array([[11, 19], [12, 20], [13, 21], [14, 22], [15, 23]])\n",
    "\n",
    "pd = model.predict(x) # 모델 사용\n",
    "print(pd.shape)\n",
    "# print(pd)"
   ]
  },
  {
   "cell_type": "code",
   "execution_count": 8,
   "metadata": {},
   "outputs": [
    {
     "name": "stdout",
     "output_type": "stream",
     "text": [
      "x: [11 19], 실제값: [22 38], 예측값: 22.23024 37.58459, 정제된값: 22 38\n",
      "x: [12 20], 실제값: [24 40], 예측값: 24.23031 39.58471, 정제된값: 24 40\n",
      "x: [13 21], 실제값: [26 42], 예측값: 26.23039 41.58484, 정제된값: 26 42\n",
      "x: [14 22], 실제값: [28 44], 예측값: 28.23046 43.58495, 정제된값: 28 44\n",
      "x: [15 23], 실제값: [30 46], 예측값: 30.23054 45.58507, 정제된값: 30 46\n"
     ]
    }
   ],
   "source": [
    "y = np.array([[22, 38], [24, 40], [26, 42], [28, 44], [30, 46]]) # 타겟\n",
    "for i in range(len(x)):\n",
    "    fmt = 'x: {0}, 실제값: {1}, 예측값: {2:.5f} {3:.5f}, 정제된값: {4:.0f} {5:.0f}'\n",
    "    print(fmt.format(x[i], y[i], pd[i][0], pd[i][1], pd[i][0], pd[i][1]))"
   ]
  },
  {
   "cell_type": "code",
   "execution_count": 9,
   "metadata": {},
   "outputs": [
    {
     "data": {
      "image/png": "[encoded data removed]",
      "text/plain": [
       "<Figure size 432x288 with 1 Axes>"
      ]
     },
     "metadata": {
      "needs_background": "light"
     },
     "output_type": "display_data"
    }
   ],
   "source": [
    "# 시각화2\n",
    "# x: 11 --> y: 22, x: 12 --> y: 24\n",
    "import matplotlib.pyplot as plt\n",
    "%matplotlib inline  \n",
    "\n",
    "plt.scatter(x, y, color='g')\n",
    "plt.plot(x, y, color='g')\n",
    "plt.scatter(x, pd, color='r')\n",
    "plt.plot(x, pd, color='r')\n",
    "plt.grid(True)\n",
    "plt.show()"
   ]
  },
  {
   "cell_type": "code",
   "execution_count": 10,
   "metadata": {},
   "outputs": [],
   "source": [
    "model.save('./Basic4.h5')"
   ]
  },
  {
   "cell_type": "code",
   "execution_count": null,
   "metadata": {},
   "outputs": [],
   "source": []
  }
 ],
 "metadata": {
  "kernelspec": {
   "display_name": "ai",
   "language": "python",
   "name": "ai"
  },
  "language_info": {
   "codemirror_mode": {
    "name": "ipython",
    "version": 3
   },
   "file_extension": ".py",
   "mimetype": "text/x-python",
   "name": "python",
   "nbconvert_exporter": "python",
   "pygments_lexer": "ipython3",
   "version": "3.6.10"
  }
 },
 "nbformat": 4,
 "nbformat_minor": 4
}
