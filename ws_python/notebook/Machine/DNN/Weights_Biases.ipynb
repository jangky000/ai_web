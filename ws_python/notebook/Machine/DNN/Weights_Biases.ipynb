{
 "cells": [
  {
   "cell_type": "code",
   "execution_count": 22,
   "metadata": {},
   "outputs": [
    {
     "name": "stdout",
     "output_type": "stream",
     "text": [
      "[[1 2]\n",
      " [3 4]]\n",
      "[[5 6]\n",
      " [7 8]]\n",
      "--------\n",
      "[[[1 5]\n",
      "  [2 6]]\n",
      "\n",
      " [[3 7]\n",
      "  [4 8]]]\n"
     ]
    }
   ],
   "source": [
    "import numpy as np\n",
    "\n",
    "a = np.array([[1, 2], [3, 4]])\n",
    "b = np.array([[5, 6], [7, 8]])\n",
    "c = np.dstack([a, b])  # 열방향으로 배열 결합\n",
    "\n",
    "print(a)\n",
    "print(b)\n",
    "print(\"--------\")\n",
    "print(c)"
   ]
  },
  {
   "cell_type": "code",
   "execution_count": 23,
   "metadata": {},
   "outputs": [
    {
     "data": {
      "application/javascript": [
       "IPython.notebook.set_autosave_interval(0)"
      ]
     },
     "metadata": {},
     "output_type": "display_data"
    },
    {
     "name": "stdout",
     "output_type": "stream",
     "text": [
      "Autosave disabled\n",
      "2.0.0\n"
     ]
    }
   ],
   "source": [
    "%autosave 0\n",
    "import numpy as np\n",
    "import tensorflow as tf\n",
    "\n",
    "# tensorflow 2.0에 내장된 Keras 사용\n",
    "from tensorflow.keras.models import Sequential  # class\n",
    "from tensorflow.keras.models import load_model  # model 사용 함수\n",
    "from tensorflow.keras.layers import Dense       # 전결합층\n",
    "from tensorflow.keras.optimizers import Adam    # 가중치, bias 최적화\n",
    "from tensorflow.keras.callbacks import Callback\n",
    "\n",
    "# tensorflow 1.x, Keras가 독립적으로 설치된 경우\n",
    "# from keras.models import Sequential  # class\n",
    "# from keras.models import load_model  # model 사용 함수\n",
    "# from keras.layers import Dense       # class\n",
    "\n",
    "print(tf.__version__)"
   ]
  },
  {
   "cell_type": "code",
   "execution_count": 24,
   "metadata": {},
   "outputs": [
    {
     "name": "stdout",
     "output_type": "stream",
     "text": [
      "[ 1  2  3  4  5  6  7  8  9 10 11 12 13 14 15 16 17 18 19 20]\n",
      "[ 2  4  6  8 10 12 14 16 18 20 22 24 26 28 30 32 34 36 38 40]\n"
     ]
    }
   ],
   "source": [
    "# 데이터\n",
    "x_train = np.array([1, 2, 3, 4, 5, 6, 7, 8, 9, 10, 11, 12, 13, 14,15,16,17,18,19,20])\n",
    "\n",
    "\n",
    "y_train = np.array([2, 4, 6, 8, 10, 12, 14, 16, 18, 20, 22, 24, 26, 28, 30, 32, 34, 36, 38, 40])\n",
    "\n",
    "print(x_train)\n",
    "print(y_train)"
   ]
  },
  {
   "cell_type": "code",
   "execution_count": 31,
   "metadata": {},
   "outputs": [],
   "source": [
    "from tensorflow.keras.callbacks import Callback\n",
    "\n",
    "class GetWeights(Callback):\n",
    "    # 가중치와 Bias를 저장할 Dictionary 선언 \n",
    "    def __init__(self):\n",
    "        super(GetWeights, self).__init__()\n",
    "        self.weight_dict = {}\n",
    "\n",
    "    # 각각의 학습이 끝난 후 실행       \n",
    "    def on_epoch_end(self, epoch, logs=None):\n",
    "        \n",
    "        # Layer 수만큼 순환 하면서 weights, biases 수집\n",
    "        for layer_i in range(len(self.model.layers)):\n",
    "            w = self.model.layers[layer_i].get_weights()[0] # 가중치\n",
    "            b = self.model.layers[layer_i].get_weights()[1] # 편향\n",
    "            print('Layer %s has weights of shape %s and biases of shape %s' %(layer_i, np.shape(w), np.shape(b)))\n",
    "            print('Epoch:', epoch)\n",
    "\n",
    "            # 첫번째 학습(0)이라면 np.dstack 함수를 사용하지 말고 dictionary에 weights, biases 저장\n",
    "            if epoch == 0:\n",
    "                self.weight_dict['w_'+str(layer_i+1)] = w\n",
    "                self.weight_dict['b_'+str(layer_i+1)] = b\n",
    "                \n",
    "            else: # 두번째 학습부터 이전에 만든 가중치 배열에 새 가중치를 추가\n",
    "                self.weight_dict['w_'+str(layer_i+1)] = np.dstack((self.weight_dict['w_'+str(layer_i+1)], w))\n",
    "                self.weight_dict['b_'+str(layer_i+1)] = np.dstack((self.weight_dict['b_'+str(layer_i+1)], b))"
   ]
  },
  {
   "cell_type": "markdown",
   "metadata": {},
   "source": [
    "### 1 epoch, , 전체 데이터 1회 학습"
   ]
  },
  {
   "cell_type": "code",
   "execution_count": 32,
   "metadata": {},
   "outputs": [
    {
     "name": "stdout",
     "output_type": "stream",
     "text": [
      "Train on 16 samples, validate on 4 samples\n",
      " 1/16 [>.............................] - ETA: 5s - loss: 654.5071Layer 0 has weights of shape (1, 3) and biases of shape (3,)\n",
      "Epoch: 0\n",
      "Layer 1 has weights of shape (3, 2) and biases of shape (2,)\n",
      "Epoch: 0\n",
      "Layer 2 has weights of shape (2, 1) and biases of shape (1,)\n",
      "Epoch: 0\n",
      "16/16 [==============================] - 0s 29ms/sample - loss: 1207.9048 - val_loss: 4344.8010\n"
     ]
    }
   ],
   "source": [
    "model = Sequential()\n",
    "model.add(Dense(3, input_dim=1, activation='linear'))\n",
    "model.add(Dense(2, input_dim=1, activation='linear'))\n",
    "model.add(Dense(1, activation='linear'))\n",
    "\n",
    "model.compile(optimizer=Adam(lr=0.001), loss='mse')\n",
    "\n",
    "gw = GetWeights()\n",
    "hist = model.fit(x_train, y_train, validation_split=0.2, shuffle=True,\n",
    "                 epochs=1, batch_size=1, callbacks=[gw])"
   ]
  },
  {
   "cell_type": "code",
   "execution_count": 33,
   "metadata": {
    "scrolled": true
   },
   "outputs": [
    {
     "name": "stdout",
     "output_type": "stream",
     "text": [
      "Model: \"sequential_6\"\n",
      "_________________________________________________________________\n",
      "Layer (type)                 Output Shape              Param #   \n",
      "=================================================================\n",
      "dense_13 (Dense)             (None, 3)                 6         \n",
      "_________________________________________________________________\n",
      "dense_14 (Dense)             (None, 2)                 8         \n",
      "_________________________________________________________________\n",
      "dense_15 (Dense)             (None, 1)                 3         \n",
      "=================================================================\n",
      "Total params: 17\n",
      "Trainable params: 17\n",
      "Non-trainable params: 0\n",
      "_________________________________________________________________\n"
     ]
    }
   ],
   "source": [
    "model.summary()"
   ]
  },
  {
   "cell_type": "code",
   "execution_count": 34,
   "metadata": {},
   "outputs": [
    {
     "name": "stdout",
     "output_type": "stream",
     "text": [
      "w_1 shape: (1, 3)\n",
      "[[-0.3170681 -1.1735408  1.2059734]]\n",
      "---------------------------------------\n",
      "b_1 shape: (3,)\n",
      "[-0.01490724  0.01488336 -0.0148894 ]\n",
      "---------------------------------------\n",
      "w_2 shape: (3, 2)\n",
      "[[ 0.8647011   0.04561592]\n",
      " [-0.8217976   0.28319812]\n",
      " [-0.34066963 -0.8109783 ]]\n",
      "---------------------------------------\n",
      "b_2 shape: (2,)\n",
      "[-0.01488858  0.01489512]\n",
      "---------------------------------------\n",
      "w_3 shape: (2, 1)\n",
      "[[-0.36015198]\n",
      " [ 1.1013905 ]]\n",
      "---------------------------------------\n",
      "b_3 shape: (1,)\n",
      "[0.01489829]\n",
      "---------------------------------------\n"
     ]
    }
   ],
   "source": [
    "for key in gw.weight_dict:\n",
    "    print(str(key) + ' shape: %s' %str(np.shape(gw.weight_dict[key])))  # 면, 행, 열\n",
    "    print(gw.weight_dict[key])\n",
    "    print('---------------------------------------')"
   ]
  },
  {
   "cell_type": "markdown",
   "metadata": {},
   "source": [
    "### 2 epoch, 전체 데이터 2회 학습"
   ]
  },
  {
   "cell_type": "code",
   "execution_count": 35,
   "metadata": {},
   "outputs": [
    {
     "name": "stdout",
     "output_type": "stream",
     "text": [
      "Train on 16 samples, validate on 4 samples\n",
      "Epoch 1/2\n",
      " 1/16 [>.............................] - ETA: 4s - loss: 149.0112Layer 0 has weights of shape (1, 3) and biases of shape (3,)\n",
      "Epoch: 0\n",
      "Layer 1 has weights of shape (3, 2) and biases of shape (2,)\n",
      "Epoch: 0\n",
      "Layer 2 has weights of shape (2, 1) and biases of shape (1,)\n",
      "Epoch: 0\n",
      "16/16 [==============================] - 0s 23ms/sample - loss: 844.5253 - val_loss: 3023.2486\n",
      "Epoch 2/2\n",
      " 1/16 [>.............................] - ETA: 0s - loss: 1265.5430Layer 0 has weights of shape (1, 3) and biases of shape (3,)\n",
      "Epoch: 1\n",
      "Layer 1 has weights of shape (3, 2) and biases of shape (2,)\n",
      "Epoch: 1\n",
      "Layer 2 has weights of shape (2, 1) and biases of shape (1,)\n",
      "Epoch: 1\n",
      "16/16 [==============================] - 0s 3ms/sample - loss: 800.6659 - val_loss: 2863.5303\n"
     ]
    }
   ],
   "source": [
    "model = Sequential()\n",
    "model.add(Dense(3, input_dim=1, activation='linear'))\n",
    "model.add(Dense(2, input_dim=1, activation='linear'))\n",
    "model.add(Dense(1, activation='linear'))\n",
    "\n",
    "model.compile(optimizer=Adam(lr=0.001), loss='mse')\n",
    "\n",
    "gw = GetWeights()\n",
    "hist = model.fit(x_train, y_train, validation_split=0.2, shuffle=True,\n",
    "                 epochs=2, batch_size=1, callbacks=[gw])"
   ]
  },
  {
   "cell_type": "code",
   "execution_count": 29,
   "metadata": {
    "scrolled": false
   },
   "outputs": [
    {
     "name": "stdout",
     "output_type": "stream",
     "text": [
      "Model: \"sequential_5\"\n",
      "_________________________________________________________________\n",
      "Layer (type)                 Output Shape              Param #   \n",
      "=================================================================\n",
      "dense_10 (Dense)             (None, 3)                 6         \n",
      "_________________________________________________________________\n",
      "dense_11 (Dense)             (None, 2)                 8         \n",
      "_________________________________________________________________\n",
      "dense_12 (Dense)             (None, 1)                 3         \n",
      "=================================================================\n",
      "Total params: 17\n",
      "Trainable params: 17\n",
      "Non-trainable params: 0\n",
      "_________________________________________________________________\n"
     ]
    }
   ],
   "source": [
    "model.summary()"
   ]
  },
  {
   "cell_type": "code",
   "execution_count": 30,
   "metadata": {},
   "outputs": [
    {
     "name": "stdout",
     "output_type": "stream",
     "text": [
      "w_1 shape: (1, 3, 2)\n",
      "[[[ 0.48732367  0.47760004]\n",
      "  [-0.2644307  -0.27431837]\n",
      "  [ 1.1001312   1.090366  ]]]\n",
      "---------------------------------------\n",
      "b_1 shape: (1, 3, 2)\n",
      "[[[-0.01317578 -0.02461604]\n",
      "  [-0.01321832 -0.02483793]\n",
      "  [-0.01318648 -0.02467193]]]\n",
      "---------------------------------------\n",
      "w_2 shape: (3, 2, 2)\n",
      "[[[ 0.14545678  0.15515743]\n",
      "  [ 0.9897262   0.9800153 ]]\n",
      "\n",
      " [[-0.89801145 -0.90801907]\n",
      "  [ 0.3860237   0.39604157]]\n",
      "\n",
      " [[-0.98956233 -0.97980255]\n",
      "  [ 0.947953    0.9381828 ]]]\n",
      "---------------------------------------\n",
      "b_2 shape: (1, 2, 2)\n",
      "[[[ 0.01319745  0.0247292 ]\n",
      "  [-0.01320016 -0.02474324]]]\n",
      "---------------------------------------\n",
      "w_3 shape: (2, 1, 2)\n",
      "[[[-0.85921186 -0.84958345]]\n",
      "\n",
      " [[ 1.0689827   1.0592709 ]]]\n",
      "---------------------------------------\n",
      "b_3 shape: (1, 1, 2)\n",
      "[[[-0.01321137 -0.02480177]]]\n",
      "---------------------------------------\n"
     ]
    }
   ],
   "source": [
    "for key in gw.weight_dict:\n",
    "    print(str(key) + ' shape: %s' %str(np.shape(gw.weight_dict[key])))  # 면, 행, 열\n",
    "    print(gw.weight_dict[key])\n",
    "    print('---------------------------------------')"
   ]
  },
  {
   "cell_type": "code",
   "execution_count": null,
   "metadata": {},
   "outputs": [],
   "source": []
  },
  {
   "cell_type": "code",
   "execution_count": null,
   "metadata": {},
   "outputs": [],
   "source": []
  },
  {
   "cell_type": "code",
   "execution_count": null,
   "metadata": {},
   "outputs": [],
   "source": []
  },
  {
   "cell_type": "code",
   "execution_count": null,
   "metadata": {},
   "outputs": [],
   "source": []
  }
 ],
 "metadata": {
  "kernelspec": {
   "display_name": "machine",
   "language": "python",
   "name": "machine"
  },
  "language_info": {
   "codemirror_mode": {
    "name": "ipython",
    "version": 3
   },
   "file_extension": ".py",
   "mimetype": "text/x-python",
   "name": "python",
   "nbconvert_exporter": "python",
   "pygments_lexer": "ipython3",
   "version": "3.7.6"
  }
 },
 "nbformat": 4,
 "nbformat_minor": 2
}
