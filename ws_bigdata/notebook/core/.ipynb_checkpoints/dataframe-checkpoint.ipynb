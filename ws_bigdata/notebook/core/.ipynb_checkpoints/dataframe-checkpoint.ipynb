{
 "cells": [
  {
   "cell_type": "code",
   "execution_count": 32,
   "metadata": {},
   "outputs": [
    {
     "data": {
      "text/html": [
       "'C:/ai6/ws_bigdata/notebook/core'"
      ],
      "text/latex": [
       "'C:/ai6/ws\\_bigdata/notebook/core'"
      ],
      "text/markdown": [
       "'C:/ai6/ws_bigdata/notebook/core'"
      ],
      "text/plain": [
       "[1] \"C:/ai6/ws_bigdata/notebook/core\""
      ]
     },
     "metadata": {},
     "output_type": "display_data"
    }
   ],
   "source": [
    "getwd()\n",
    "# 'C:/ai6/ws_bigdata/notebook/core'"
   ]
  },
  {
   "cell_type": "code",
   "execution_count": 33,
   "metadata": {},
   "outputs": [],
   "source": [
    "setwd('C:/ai6/ws_bigdata/notebook/core/files')"
   ]
  },
  {
   "cell_type": "code",
   "execution_count": 34,
   "metadata": {},
   "outputs": [
    {
     "data": {
      "text/html": [
       "<table>\n",
       "<thead><tr><th scope=col>name</th><th scope=col>gender</th><th scope=col>age</th><th scope=col>grade</th><th scope=col>absence</th><th scope=col>bloodtype</th><th scope=col>height</th><th scope=col>weight</th></tr></thead>\n",
       "<tbody>\n",
       "\t<tr><td>김길동</td><td>남자  </td><td>23    </td><td>3     </td><td>유    </td><td>O     </td><td>165.3 </td><td>68.2  </td></tr>\n",
       "\t<tr><td>이미린</td><td>여자  </td><td>22    </td><td>2     </td><td>무    </td><td>AB    </td><td>170.1 </td><td>53.0  </td></tr>\n",
       "\t<tr><td>홍길동</td><td>남자  </td><td>24    </td><td>4     </td><td>무    </td><td>B     </td><td>175.0 </td><td>80.1  </td></tr>\n",
       "\t<tr><td>김철수</td><td>남자  </td><td>23    </td><td>3     </td><td>무    </td><td>AB    </td><td>182.1 </td><td>85.7  </td></tr>\n",
       "\t<tr><td>손세수</td><td>여자  </td><td>20    </td><td>1     </td><td>유    </td><td>A     </td><td>168.0 </td><td>49.5  </td></tr>\n",
       "\t<tr><td>박미희</td><td>여자  </td><td>21    </td><td>2     </td><td>무    </td><td>O     </td><td>162.0 </td><td>52.0  </td></tr>\n",
       "\t<tr><td>강수친</td><td>여자  </td><td>22    </td><td>1     </td><td>무    </td><td>O     </td><td>155.2 </td><td>45.3  </td></tr>\n",
       "\t<tr><td>이희수</td><td>여자  </td><td>23    </td><td>1     </td><td>무    </td><td>A     </td><td>176.9 </td><td>55.0  </td></tr>\n",
       "\t<tr><td>이철린</td><td>남자  </td><td>23    </td><td>3     </td><td>무    </td><td>B     </td><td>178.5 </td><td>64.2  </td></tr>\n",
       "\t<tr><td>방희철</td><td>남자  </td><td>22    </td><td>2     </td><td>무    </td><td>B     </td><td>176.1 </td><td>61.3  </td></tr>\n",
       "\t<tr><td>박수호</td><td>남자  </td><td>24    </td><td>4     </td><td>유    </td><td>O     </td><td>167.1 </td><td>62.0  </td></tr>\n",
       "\t<tr><td>임동민</td><td>남자  </td><td>22    </td><td>2     </td><td>무    </td><td>AB    </td><td>180.0 </td><td>75.8  </td></tr>\n",
       "\t<tr><td>김민수</td><td>남자  </td><td>21    </td><td>1     </td><td>무    </td><td>A     </td><td>162.2 </td><td>55.3  </td></tr>\n",
       "\t<tr><td>이희진</td><td>여자  </td><td>23    </td><td>3     </td><td>무    </td><td>O     </td><td>176.1 </td><td>53.1  </td></tr>\n",
       "\t<tr><td>김미진</td><td>여자  </td><td>22    </td><td>2     </td><td>무    </td><td>B     </td><td>158.2 </td><td>45.2  </td></tr>\n",
       "\t<tr><td>김동수</td><td>남자  </td><td>24    </td><td>4     </td><td>유    </td><td>B     </td><td>168.6 </td><td>70.2  </td></tr>\n",
       "\t<tr><td>여수근</td><td>남자  </td><td>21    </td><td>1     </td><td>무    </td><td>A     </td><td>169.2 </td><td>62.2  </td></tr>\n",
       "</tbody>\n",
       "</table>\n"
      ],
      "text/latex": [
       "\\begin{tabular}{r|llllllll}\n",
       " name & gender & age & grade & absence & bloodtype & height & weight\\\\\n",
       "\\hline\n",
       "\t 김길동 & 남자   & 23     & 3      & 유     & O      & 165.3  & 68.2  \\\\\n",
       "\t 이미린 & 여자   & 22     & 2      & 무     & AB     & 170.1  & 53.0  \\\\\n",
       "\t 홍길동 & 남자   & 24     & 4      & 무     & B      & 175.0  & 80.1  \\\\\n",
       "\t 김철수 & 남자   & 23     & 3      & 무     & AB     & 182.1  & 85.7  \\\\\n",
       "\t 손세수 & 여자   & 20     & 1      & 유     & A      & 168.0  & 49.5  \\\\\n",
       "\t 박미희 & 여자   & 21     & 2      & 무     & O      & 162.0  & 52.0  \\\\\n",
       "\t 강수친 & 여자   & 22     & 1      & 무     & O      & 155.2  & 45.3  \\\\\n",
       "\t 이희수 & 여자   & 23     & 1      & 무     & A      & 176.9  & 55.0  \\\\\n",
       "\t 이철린 & 남자   & 23     & 3      & 무     & B      & 178.5  & 64.2  \\\\\n",
       "\t 방희철 & 남자   & 22     & 2      & 무     & B      & 176.1  & 61.3  \\\\\n",
       "\t 박수호 & 남자   & 24     & 4      & 유     & O      & 167.1  & 62.0  \\\\\n",
       "\t 임동민 & 남자   & 22     & 2      & 무     & AB     & 180.0  & 75.8  \\\\\n",
       "\t 김민수 & 남자   & 21     & 1      & 무     & A      & 162.2  & 55.3  \\\\\n",
       "\t 이희진 & 여자   & 23     & 3      & 무     & O      & 176.1  & 53.1  \\\\\n",
       "\t 김미진 & 여자   & 22     & 2      & 무     & B      & 158.2  & 45.2  \\\\\n",
       "\t 김동수 & 남자   & 24     & 4      & 유     & B      & 168.6  & 70.2  \\\\\n",
       "\t 여수근 & 남자   & 21     & 1      & 무     & A      & 169.2  & 62.2  \\\\\n",
       "\\end{tabular}\n"
      ],
      "text/markdown": [
       "\n",
       "| name | gender | age | grade | absence | bloodtype | height | weight |\n",
       "|---|---|---|---|---|---|---|---|\n",
       "| 김길동 | 남자   | 23     | 3      | 유     | O      | 165.3  | 68.2   |\n",
       "| 이미린 | 여자   | 22     | 2      | 무     | AB     | 170.1  | 53.0   |\n",
       "| 홍길동 | 남자   | 24     | 4      | 무     | B      | 175.0  | 80.1   |\n",
       "| 김철수 | 남자   | 23     | 3      | 무     | AB     | 182.1  | 85.7   |\n",
       "| 손세수 | 여자   | 20     | 1      | 유     | A      | 168.0  | 49.5   |\n",
       "| 박미희 | 여자   | 21     | 2      | 무     | O      | 162.0  | 52.0   |\n",
       "| 강수친 | 여자   | 22     | 1      | 무     | O      | 155.2  | 45.3   |\n",
       "| 이희수 | 여자   | 23     | 1      | 무     | A      | 176.9  | 55.0   |\n",
       "| 이철린 | 남자   | 23     | 3      | 무     | B      | 178.5  | 64.2   |\n",
       "| 방희철 | 남자   | 22     | 2      | 무     | B      | 176.1  | 61.3   |\n",
       "| 박수호 | 남자   | 24     | 4      | 유     | O      | 167.1  | 62.0   |\n",
       "| 임동민 | 남자   | 22     | 2      | 무     | AB     | 180.0  | 75.8   |\n",
       "| 김민수 | 남자   | 21     | 1      | 무     | A      | 162.2  | 55.3   |\n",
       "| 이희진 | 여자   | 23     | 3      | 무     | O      | 176.1  | 53.1   |\n",
       "| 김미진 | 여자   | 22     | 2      | 무     | B      | 158.2  | 45.2   |\n",
       "| 김동수 | 남자   | 24     | 4      | 유     | B      | 168.6  | 70.2   |\n",
       "| 여수근 | 남자   | 21     | 1      | 무     | A      | 169.2  | 62.2   |\n",
       "\n"
      ],
      "text/plain": [
       "   name   gender age grade absence bloodtype height weight\n",
       "1  김길동 남자   23  3     유      O         165.3  68.2  \n",
       "2  이미린 여자   22  2     무      AB        170.1  53.0  \n",
       "3  홍길동 남자   24  4     무      B         175.0  80.1  \n",
       "4  김철수 남자   23  3     무      AB        182.1  85.7  \n",
       "5  손세수 여자   20  1     유      A         168.0  49.5  \n",
       "6  박미희 여자   21  2     무      O         162.0  52.0  \n",
       "7  강수친 여자   22  1     무      O         155.2  45.3  \n",
       "8  이희수 여자   23  1     무      A         176.9  55.0  \n",
       "9  이철린 남자   23  3     무      B         178.5  64.2  \n",
       "10 방희철 남자   22  2     무      B         176.1  61.3  \n",
       "11 박수호 남자   24  4     유      O         167.1  62.0  \n",
       "12 임동민 남자   22  2     무      AB        180.0  75.8  \n",
       "13 김민수 남자   21  1     무      A         162.2  55.3  \n",
       "14 이희진 여자   23  3     무      O         176.1  53.1  \n",
       "15 김미진 여자   22  2     무      B         158.2  45.2  \n",
       "16 김동수 남자   24  4     유      B         168.6  70.2  \n",
       "17 여수근 남자   21  1     무      A         169.2  62.2  "
      ]
     },
     "metadata": {},
     "output_type": "display_data"
    }
   ],
   "source": [
    "df <- read.csv('studentlist.csv', fileEncoding='utf-8', encoding='utf-8')\n",
    "df\n",
    "# name\tgender\tage\tgrade\tabsence\tbloodtype\theight\tweight\n",
    "# 김길동\t남자\t23\t3\t유\tO\t165.3\t68.2\n",
    "# 이미린\t여자\t22\t2\t무\tAB\t170.1\t53.0\n",
    "# 홍길동\t남자\t24\t4\t무\tB\t175.0\t80.1\n",
    "# 김철수\t남자\t23\t3\t무\tAB\t182.1\t85.7\n",
    "# 손세수\t여자\t20\t1\t유\tA\t168.0\t49.5\n",
    "# 박미희\t여자\t21\t2\t무\tO\t162.0\t52.0\n",
    "# 강수친\t여자\t22\t1\t무\tO\t155.2\t45.3\n",
    "# 이희수\t여자\t23\t1\t무\tA\t176.9\t55.0\n",
    "# 이철린\t남자\t23\t3\t무\tB\t178.5\t64.2\n",
    "# 방희철\t남자\t22\t2\t무\tB\t176.1\t61.3\n",
    "# 박수호\t남자\t24\t4\t유\tO\t167.1\t62.0\n",
    "# 임동민\t남자\t22\t2\t무\tAB\t180.0\t75.8\n",
    "# 김민수\t남자\t21\t1\t무\tA\t162.2\t55.3\n",
    "# 이희진\t여자\t23\t3\t무\tO\t176.1\t53.1\n",
    "# 김미진\t여자\t22\t2\t무\tB\t158.2\t45.2\n",
    "# 김동수\t남자\t24\t4\t유\tB\t168.6\t70.2\n",
    "# 여수근\t남자\t21\t1\t무\tA\t169.2\t62.2\n"
   ]
  },
  {
   "cell_type": "code",
   "execution_count": 4,
   "metadata": {},
   "outputs": [
    {
     "data": {
      "text/html": [
       "<dl>\n",
       "\t<dt>$남자</dt>\n",
       "\t\t<dd><ol class=list-inline>\n",
       "\t<li>165.3</li>\n",
       "\t<li>175</li>\n",
       "\t<li>182.1</li>\n",
       "\t<li>178.5</li>\n",
       "\t<li>176.1</li>\n",
       "\t<li>167.1</li>\n",
       "\t<li>180</li>\n",
       "\t<li>162.2</li>\n",
       "\t<li>168.6</li>\n",
       "\t<li>169.2</li>\n",
       "</ol>\n",
       "</dd>\n",
       "\t<dt>$여자</dt>\n",
       "\t\t<dd><ol class=list-inline>\n",
       "\t<li>170.1</li>\n",
       "\t<li>168</li>\n",
       "\t<li>162</li>\n",
       "\t<li>155.2</li>\n",
       "\t<li>176.9</li>\n",
       "\t<li>176.1</li>\n",
       "\t<li>158.2</li>\n",
       "</ol>\n",
       "</dd>\n",
       "</dl>\n"
      ],
      "text/latex": [
       "\\begin{description}\n",
       "\\item[\\$남자] \\begin{enumerate*}\n",
       "\\item 165.3\n",
       "\\item 175\n",
       "\\item 182.1\n",
       "\\item 178.5\n",
       "\\item 176.1\n",
       "\\item 167.1\n",
       "\\item 180\n",
       "\\item 162.2\n",
       "\\item 168.6\n",
       "\\item 169.2\n",
       "\\end{enumerate*}\n",
       "\n",
       "\\item[\\$여자] \\begin{enumerate*}\n",
       "\\item 170.1\n",
       "\\item 168\n",
       "\\item 162\n",
       "\\item 155.2\n",
       "\\item 176.9\n",
       "\\item 176.1\n",
       "\\item 158.2\n",
       "\\end{enumerate*}\n",
       "\n",
       "\\end{description}\n"
      ],
      "text/markdown": [
       "$남자\n",
       ":   1. 165.3\n",
       "2. 175\n",
       "3. 182.1\n",
       "4. 178.5\n",
       "5. 176.1\n",
       "6. 167.1\n",
       "7. 180\n",
       "8. 162.2\n",
       "9. 168.6\n",
       "10. 169.2\n",
       "\n",
       "\n",
       "\n",
       "$여자\n",
       ":   1. 170.1\n",
       "2. 168\n",
       "3. 162\n",
       "4. 155.2\n",
       "5. 176.9\n",
       "6. 176.1\n",
       "7. 158.2\n",
       "\n",
       "\n",
       "\n",
       "\n",
       "\n"
      ],
      "text/plain": [
       "$남자\n",
       " [1] 165.3 175.0 182.1 178.5 176.1 167.1 180.0 162.2 168.6 169.2\n",
       "\n",
       "$여자\n",
       "[1] 170.1 168.0 162.0 155.2 176.9 176.1 158.2\n"
      ]
     },
     "metadata": {},
     "output_type": "display_data"
    },
    {
     "data": {
      "text/html": [
       "'list'"
      ],
      "text/latex": [
       "'list'"
      ],
      "text/markdown": [
       "'list'"
      ],
      "text/plain": [
       "[1] \"list\""
      ]
     },
     "metadata": {},
     "output_type": "display_data"
    },
    {
     "data": {
      "text/html": [
       "'list'"
      ],
      "text/latex": [
       "'list'"
      ],
      "text/markdown": [
       "'list'"
      ],
      "text/plain": [
       "[1] \"list\""
      ]
     },
     "metadata": {},
     "output_type": "display_data"
    }
   ],
   "source": [
    "# gender 성별을 이름으로 하는 height 키의 분리\n",
    "# split(데이터, 그룹명)\n",
    "height_by_gender <- split(df$height, df$gender)\n",
    "height_by_gender\n",
    "# $남자\n",
    "# 165.3 175 182.1 178.5 176.1 167.1 180 162.2 168.6 169.2\n",
    "# $여자\n",
    "# 170.1 168 162 155.2 176.9 176.1 158.2\n",
    "\n",
    "mode(height_by_gender)\n",
    "class(height_by_gender)\n",
    "# 'list'\n",
    "# 'list'"
   ]
  },
  {
   "cell_type": "code",
   "execution_count": 5,
   "metadata": {},
   "outputs": [
    {
     "data": {
      "text/html": [
       "<ol class=list-inline>\n",
       "\t<li>165.3</li>\n",
       "\t<li>175</li>\n",
       "\t<li>182.1</li>\n",
       "\t<li>178.5</li>\n",
       "\t<li>176.1</li>\n",
       "\t<li>167.1</li>\n",
       "\t<li>180</li>\n",
       "\t<li>162.2</li>\n",
       "\t<li>168.6</li>\n",
       "\t<li>169.2</li>\n",
       "</ol>\n"
      ],
      "text/latex": [
       "\\begin{enumerate*}\n",
       "\\item 165.3\n",
       "\\item 175\n",
       "\\item 182.1\n",
       "\\item 178.5\n",
       "\\item 176.1\n",
       "\\item 167.1\n",
       "\\item 180\n",
       "\\item 162.2\n",
       "\\item 168.6\n",
       "\\item 169.2\n",
       "\\end{enumerate*}\n"
      ],
      "text/markdown": [
       "1. 165.3\n",
       "2. 175\n",
       "3. 182.1\n",
       "4. 178.5\n",
       "5. 176.1\n",
       "6. 167.1\n",
       "7. 180\n",
       "8. 162.2\n",
       "9. 168.6\n",
       "10. 169.2\n",
       "\n",
       "\n"
      ],
      "text/plain": [
       " [1] 165.3 175.0 182.1 178.5 176.1 167.1 180.0 162.2 168.6 169.2"
      ]
     },
     "metadata": {},
     "output_type": "display_data"
    }
   ],
   "source": [
    "height_by_gender$남자\n",
    "# 165.3 175 182.1 178.5 176.1 167.1 180 162.2 168.6 169.2"
   ]
  },
  {
   "cell_type": "code",
   "execution_count": 6,
   "metadata": {},
   "outputs": [
    {
     "data": {
      "text/html": [
       "<ol class=list-inline>\n",
       "\t<li>170.1</li>\n",
       "\t<li>168</li>\n",
       "\t<li>162</li>\n",
       "\t<li>155.2</li>\n",
       "\t<li>176.9</li>\n",
       "\t<li>176.1</li>\n",
       "\t<li>158.2</li>\n",
       "</ol>\n"
      ],
      "text/latex": [
       "\\begin{enumerate*}\n",
       "\\item 170.1\n",
       "\\item 168\n",
       "\\item 162\n",
       "\\item 155.2\n",
       "\\item 176.9\n",
       "\\item 176.1\n",
       "\\item 158.2\n",
       "\\end{enumerate*}\n"
      ],
      "text/markdown": [
       "1. 170.1\n",
       "2. 168\n",
       "3. 162\n",
       "4. 155.2\n",
       "5. 176.9\n",
       "6. 176.1\n",
       "7. 158.2\n",
       "\n",
       "\n"
      ],
      "text/plain": [
       "[1] 170.1 168.0 162.0 155.2 176.9 176.1 158.2"
      ]
     },
     "metadata": {},
     "output_type": "display_data"
    }
   ],
   "source": [
    "height_by_gender$여자\n",
    "# 170.1 168 162 155.2 176.9 176.1 158.2"
   ]
  },
  {
   "cell_type": "code",
   "execution_count": 7,
   "metadata": {},
   "outputs": [
    {
     "data": {
      "text/html": [
       "'list'"
      ],
      "text/latex": [
       "'list'"
      ],
      "text/markdown": [
       "'list'"
      ],
      "text/plain": [
       "[1] \"list\""
      ]
     },
     "metadata": {},
     "output_type": "display_data"
    },
    {
     "data": {
      "text/html": [
       "'list'"
      ],
      "text/latex": [
       "'list'"
      ],
      "text/markdown": [
       "'list'"
      ],
      "text/plain": [
       "[1] \"list\""
      ]
     },
     "metadata": {},
     "output_type": "display_data"
    },
    {
     "data": {
      "text/html": [
       "'numeric'"
      ],
      "text/latex": [
       "'numeric'"
      ],
      "text/markdown": [
       "'numeric'"
      ],
      "text/plain": [
       "[1] \"numeric\""
      ]
     },
     "metadata": {},
     "output_type": "display_data"
    },
    {
     "data": {
      "text/html": [
       "<ol class=list-inline>\n",
       "\t<li>'numeric'</li>\n",
       "\t<li>'vector'</li>\n",
       "</ol>\n"
      ],
      "text/latex": [
       "\\begin{enumerate*}\n",
       "\\item 'numeric'\n",
       "\\item 'vector'\n",
       "\\end{enumerate*}\n"
      ],
      "text/markdown": [
       "1. 'numeric'\n",
       "2. 'vector'\n",
       "\n",
       "\n"
      ],
      "text/plain": [
       "[1] \"numeric\" \"vector\" "
      ]
     },
     "metadata": {},
     "output_type": "display_data"
    }
   ],
   "source": [
    "class(height_by_gender)\n",
    "class(height_by_gender[1])\n",
    "class(height_by_gender[[1]])\n",
    "is(height_by_gender[[1]]) # 숫자들이 모인 vector가 첫번재 list 요소\n",
    "# 'list'\n",
    "# 'list'\n",
    "# 'numeric'\n",
    "# 'numeric' 'vector'"
   ]
  },
  {
   "cell_type": "code",
   "execution_count": 8,
   "metadata": {},
   "outputs": [
    {
     "data": {
      "text/html": [
       "2"
      ],
      "text/latex": [
       "2"
      ],
      "text/markdown": [
       "2"
      ],
      "text/plain": [
       "[1] 2"
      ]
     },
     "metadata": {},
     "output_type": "display_data"
    },
    {
     "data": {
      "text/html": [
       "1"
      ],
      "text/latex": [
       "1"
      ],
      "text/markdown": [
       "1"
      ],
      "text/plain": [
       "[1] 1"
      ]
     },
     "metadata": {},
     "output_type": "display_data"
    },
    {
     "data": {
      "text/html": [
       "10"
      ],
      "text/latex": [
       "10"
      ],
      "text/markdown": [
       "10"
      ],
      "text/plain": [
       "[1] 10"
      ]
     },
     "metadata": {},
     "output_type": "display_data"
    },
    {
     "data": {
      "text/html": [
       "7"
      ],
      "text/latex": [
       "7"
      ],
      "text/markdown": [
       "7"
      ],
      "text/plain": [
       "[1] 7"
      ]
     },
     "metadata": {},
     "output_type": "display_data"
    }
   ],
   "source": [
    "length(height_by_gender)       # (그룹의 개수)\n",
    "length(height_by_gender[1])    # 리스트 자기 자신(이렇게는 잘 사용하지 않음)\n",
    "length(height_by_gender[[1]])  # 남자 데이터 10개\n",
    "length(height_by_gender[[2]])  # 여자 데이터 7개\n",
    "# 2\n",
    "# 1\n",
    "# 10\n",
    "# 7"
   ]
  },
  {
   "cell_type": "code",
   "execution_count": 10,
   "metadata": {},
   "outputs": [
    {
     "data": {
      "text/html": [
       "'integer'"
      ],
      "text/latex": [
       "'integer'"
      ],
      "text/markdown": [
       "'integer'"
      ],
      "text/plain": [
       "[1] \"integer\""
      ]
     },
     "metadata": {},
     "output_type": "display_data"
    },
    {
     "data": {
      "text/html": [
       "<ol class=list-inline>\n",
       "\t<li>'integer'</li>\n",
       "\t<li>'double'</li>\n",
       "\t<li>'numeric'</li>\n",
       "\t<li>'vector'</li>\n",
       "\t<li>'data.frameRowLabels'</li>\n",
       "</ol>\n"
      ],
      "text/latex": [
       "\\begin{enumerate*}\n",
       "\\item 'integer'\n",
       "\\item 'double'\n",
       "\\item 'numeric'\n",
       "\\item 'vector'\n",
       "\\item 'data.frameRowLabels'\n",
       "\\end{enumerate*}\n"
      ],
      "text/markdown": [
       "1. 'integer'\n",
       "2. 'double'\n",
       "3. 'numeric'\n",
       "4. 'vector'\n",
       "5. 'data.frameRowLabels'\n",
       "\n",
       "\n"
      ],
      "text/plain": [
       "[1] \"integer\"             \"double\"              \"numeric\"            \n",
       "[4] \"vector\"              \"data.frameRowLabels\""
      ]
     },
     "metadata": {},
     "output_type": "display_data"
    },
    {
     "data": {
      "text/html": [
       "<dl class=dl-horizontal>\n",
       "\t<dt>남자</dt>\n",
       "\t\t<dd>10</dd>\n",
       "\t<dt>여자</dt>\n",
       "\t\t<dd>7</dd>\n",
       "</dl>\n"
      ],
      "text/latex": [
       "\\begin{description*}\n",
       "\\item[남자] 10\n",
       "\\item[여자] 7\n",
       "\\end{description*}\n"
      ],
      "text/markdown": [
       "남자\n",
       ":   10여자\n",
       ":   7\n",
       "\n"
      ],
      "text/plain": [
       "남자 여자 \n",
       "  10    7 "
      ]
     },
     "metadata": {},
     "output_type": "display_data"
    },
    {
     "name": "stdout",
     "output_type": "stream",
     "text": [
      "남학생수: 10 여학생수: 7[1] \" \"\n",
      "남자 \n",
      "  10 \n"
     ]
    }
   ],
   "source": [
    "# 단순한 값이 산출, sapply\n",
    "a <- sapply(height_by_gender, length) # vector 리턴, 1차원 배열 형태로 접근할 수 있다.\n",
    "class(a)\n",
    "is(a)\n",
    "a\n",
    "cat('남학생수:', a[1], '여학생수:', a[2])\n",
    "# 'integer'\n",
    "# 'integer' 'double' 'numeric' 'vector' 'data.frameRowLabels'\n",
    "# 남자\n",
    "# 10\n",
    "# 여자\n",
    "# 7\n",
    "# 남학생수: 10 여학생수: 7\n",
    "# print(a$남자) # 에러, 문법이 유연하지 못하다.\n",
    "\n",
    "print(' ')\n",
    "man_cnt <- a['남자'] # 이름으로 접근이 가능하다\n",
    "print(man_cnt)\n",
    "# 남자 \n",
    "#   10 "
   ]
  },
  {
   "cell_type": "code",
   "execution_count": 10,
   "metadata": {},
   "outputs": [
    {
     "data": {
      "text/html": [
       "<dl class=dl-horizontal>\n",
       "\t<dt>남자</dt>\n",
       "\t\t<dd>172.41</dd>\n",
       "\t<dt>여자</dt>\n",
       "\t\t<dd>166.642857142857</dd>\n",
       "</dl>\n"
      ],
      "text/latex": [
       "\\begin{description*}\n",
       "\\item[남자] 172.41\n",
       "\\item[여자] 166.642857142857\n",
       "\\end{description*}\n"
      ],
      "text/markdown": [
       "남자\n",
       ":   172.41여자\n",
       ":   166.642857142857\n",
       "\n"
      ],
      "text/plain": [
       "    남자     여자 \n",
       "172.4100 166.6429 "
      ]
     },
     "metadata": {},
     "output_type": "display_data"
    },
    {
     "data": {
      "text/html": [
       "<ol class=list-inline>\n",
       "\t<li>'numeric'</li>\n",
       "\t<li>'vector'</li>\n",
       "</ol>\n"
      ],
      "text/latex": [
       "\\begin{enumerate*}\n",
       "\\item 'numeric'\n",
       "\\item 'vector'\n",
       "\\end{enumerate*}\n"
      ],
      "text/markdown": [
       "1. 'numeric'\n",
       "2. 'vector'\n",
       "\n",
       "\n"
      ],
      "text/plain": [
       "[1] \"numeric\" \"vector\" "
      ]
     },
     "metadata": {},
     "output_type": "display_data"
    }
   ],
   "source": [
    "# 성별 그룹별 평균 키\n",
    "# 각각의 요소에 이름이 자동으로 붙는다\n",
    "k <- sapply(height_by_gender, mean)\n",
    "k\n",
    "is(k)\n",
    "# 남자\n",
    "# 172.41\n",
    "# 여자\n",
    "# 166.642857142857\n",
    "# 'numeric' 'vector'"
   ]
  },
  {
   "cell_type": "code",
   "execution_count": 11,
   "metadata": {},
   "outputs": [
    {
     "data": {
      "text/html": [
       "<table>\n",
       "<thead><tr><th scope=col>남자</th><th scope=col>여자</th></tr></thead>\n",
       "<tbody>\n",
       "\t<tr><td>162.2</td><td>155.2</td></tr>\n",
       "\t<tr><td>182.1</td><td>176.9</td></tr>\n",
       "</tbody>\n",
       "</table>\n"
      ],
      "text/latex": [
       "\\begin{tabular}{ll}\n",
       " 남자 & 여자\\\\\n",
       "\\hline\n",
       "\t 162.2 & 155.2\\\\\n",
       "\t 182.1 & 176.9\\\\\n",
       "\\end{tabular}\n"
      ],
      "text/markdown": [
       "\n",
       "| 남자 | 여자 |\n",
       "|---|---|\n",
       "| 162.2 | 155.2 |\n",
       "| 182.1 | 176.9 |\n",
       "\n"
      ],
      "text/plain": [
       "     남자  여자 \n",
       "[1,] 162.2 155.2\n",
       "[2,] 182.1 176.9"
      ]
     },
     "metadata": {},
     "output_type": "display_data"
    },
    {
     "data": {
      "text/html": [
       "'matrix'"
      ],
      "text/latex": [
       "'matrix'"
      ],
      "text/markdown": [
       "'matrix'"
      ],
      "text/plain": [
       "[1] \"matrix\""
      ]
     },
     "metadata": {},
     "output_type": "display_data"
    }
   ],
   "source": [
    "# 성별 키의 범위\n",
    "r <- sapply(height_by_gender, range)\n",
    "r\n",
    "class(r)\n",
    "# 남자\t여자\n",
    "# 162.2\t155.2\n",
    "# 182.1\t176.9\n",
    "# 'matrix'"
   ]
  },
  {
   "cell_type": "code",
   "execution_count": 45,
   "metadata": {},
   "outputs": [
    {
     "data": {
      "text/html": [
       "0"
      ],
      "text/latex": [
       "0"
      ],
      "text/markdown": [
       "0"
      ],
      "text/plain": [
       "[1] 0"
      ]
     },
     "metadata": {},
     "output_type": "display_data"
    }
   ],
   "source": [
    "# 합 / 개수 -> 평균 -> 편차²(편차: 평균과의 차이)\n",
    "a <- c(1:5) # 물고기의 크기\n",
    "# a\n",
    "tot <- a[1] + a[2] + a[3] + a[4] + a[5]\n",
    "# tot\n",
    "n=length(a)\n",
    "# n\n",
    "mean = tot/n\n",
    "# mean # 평균, 어떤 그룹의 대표값\n",
    "dev <- 0\n",
    "for(su in a){\n",
    "    dev <- dev + (su-mean)\n",
    "}\n",
    "dev # 0\n",
    "# 편차의 합은 0이 되는 수학적인 성질이 있음\n",
    "# 전체적인 물고기의 차이를 알고 싶어서 합을 구했으나 0이 나옴\n",
    "# 낚시한 물고기는 3cm에서 크기의 차이가 없다는 잘못된 결론을 발생시킴\n",
    "\n"
   ]
  },
  {
   "cell_type": "code",
   "execution_count": 44,
   "metadata": {},
   "outputs": [
    {
     "data": {
      "text/html": [
       "10"
      ],
      "text/latex": [
       "10"
      ],
      "text/markdown": [
       "10"
      ],
      "text/plain": [
       "[1] 10"
      ]
     },
     "metadata": {},
     "output_type": "display_data"
    },
    {
     "data": {
      "text/html": [
       "2.5"
      ],
      "text/latex": [
       "2.5"
      ],
      "text/markdown": [
       "2.5"
      ],
      "text/plain": [
       "[1] 2.5"
      ]
     },
     "metadata": {},
     "output_type": "display_data"
    },
    {
     "data": {
      "text/html": [
       "2.5"
      ],
      "text/latex": [
       "2.5"
      ],
      "text/markdown": [
       "2.5"
      ],
      "text/plain": [
       "[1] 2.5"
      ]
     },
     "metadata": {},
     "output_type": "display_data"
    }
   ],
   "source": [
    "# 합 / 개수 -> 평균 -> 편차²(편차: 평균과의 차이)\n",
    "a <- c(1:5)\n",
    "# a\n",
    "tot <- a[1] + a[2] + a[3] + a[4] + a[5]\n",
    "# tot\n",
    "n=length(a)\n",
    "# n\n",
    "mean = tot/n\n",
    "# mean # 평균, 어떤 그룹의 대표값\n",
    "dev <- 0\n",
    "for(su in a){\n",
    "    dev <- dev + (su-mean)**2 # 편차의 제곱의 합\n",
    "}\n",
    "dev\n",
    "\n",
    "vari <- dev/(n-1)\n",
    "vari # n-1을 사용하는 이유는 \n",
    "# 표본 평균을 사용했기 때문에 모집단의 편의된 추정값(biased estimator)이 되므로, 분산이 불편 추정량(unbiased estimator)이 되도록 하기 위해서\n",
    "# 결론: 이 호수에서는 기대한 평균보다 2.5만큼 크거나 작은 크기의 물고기를 잡을 확률이 있다.\n",
    "vari2 <- var(a)\n",
    "vari2"
   ]
  },
  {
   "cell_type": "code",
   "execution_count": 47,
   "metadata": {},
   "outputs": [
    {
     "data": {
      "text/html": [
       "1.58113883008419"
      ],
      "text/latex": [
       "1.58113883008419"
      ],
      "text/markdown": [
       "1.58113883008419"
      ],
      "text/plain": [
       "[1] 1.581139"
      ]
     },
     "metadata": {},
     "output_type": "display_data"
    },
    {
     "name": "stdout",
     "output_type": "stream",
     "text": [
      "최소 물고기 크기:  1.418861 \n",
      "최대 물고기 크기:  4.581139"
     ]
    }
   ],
   "source": [
    "# 분산은 원래의 차이를 제곱 한 것이므로 \n",
    "# 실제 차이값보다 큰값이다.\n",
    "# 제곱을 원래의 값으로 해야함: ex.√2.5 = 1.581\n",
    "sd = sqrt(vari) # 표준편차\n",
    "sd # 표준편차\n",
    "# 이 호수에서는 3cm의 물고기가 잡힐 것이라고 예상되며 최소 \n",
    "cat('최소 물고기 크기: ', mean-sd, '\\n')\n",
    "cat('최대 물고기 크기: ', mean+sd)\n",
    "# 1.58113883008419\n",
    "# 최소 물고기 크기:  1.418861 \n",
    "# 최대 물고기 크기:  4.581139"
   ]
  },
  {
   "cell_type": "code",
   "execution_count": 12,
   "metadata": {},
   "outputs": [
    {
     "data": {
      "text/html": [
       "<dl class=dl-horizontal>\n",
       "\t<dt>남자</dt>\n",
       "\t\t<dd>46.3032222222222</dd>\n",
       "\t<dt>여자</dt>\n",
       "\t\t<dd>72.0361904761905</dd>\n",
       "</dl>\n"
      ],
      "text/latex": [
       "\\begin{description*}\n",
       "\\item[남자] 46.3032222222222\n",
       "\\item[여자] 72.0361904761905\n",
       "\\end{description*}\n"
      ],
      "text/markdown": [
       "남자\n",
       ":   46.3032222222222여자\n",
       ":   72.0361904761905\n",
       "\n"
      ],
      "text/plain": [
       "    남자     여자 \n",
       "46.30322 72.03619 "
      ]
     },
     "metadata": {},
     "output_type": "display_data"
    },
    {
     "data": {
      "text/html": [
       "'numeric'"
      ],
      "text/latex": [
       "'numeric'"
      ],
      "text/markdown": [
       "'numeric'"
      ],
      "text/plain": [
       "[1] \"numeric\""
      ]
     },
     "metadata": {},
     "output_type": "display_data"
    }
   ],
   "source": [
    "# 성별에 따른 키가 얼마나 평균에서 분산되어 있는지 확인\n",
    "\n",
    "v <- sapply(height_by_gender, var) \n",
    "v\n",
    "class(v)\n",
    "# 남자\n",
    "# 46.3032222222222\n",
    "# 여자\n",
    "# 72.0361904761905\n",
    "# 'numeric'"
   ]
  },
  {
   "cell_type": "code",
   "execution_count": 13,
   "metadata": {},
   "outputs": [
    {
     "data": {
      "text/html": [
       "<dl class=dl-horizontal>\n",
       "\t<dt>남자</dt>\n",
       "\t\t<dd>6.80464710489987</dd>\n",
       "\t<dt>여자</dt>\n",
       "\t\t<dd>8.48741365058818</dd>\n",
       "</dl>\n"
      ],
      "text/latex": [
       "\\begin{description*}\n",
       "\\item[남자] 6.80464710489987\n",
       "\\item[여자] 8.48741365058818\n",
       "\\end{description*}\n"
      ],
      "text/markdown": [
       "남자\n",
       ":   6.80464710489987여자\n",
       ":   8.48741365058818\n",
       "\n"
      ],
      "text/plain": [
       "    남자     여자 \n",
       "6.804647 8.487414 "
      ]
     },
     "metadata": {},
     "output_type": "display_data"
    },
    {
     "data": {
      "text/html": [
       "'numeric'"
      ],
      "text/latex": [
       "'numeric'"
      ],
      "text/markdown": [
       "'numeric'"
      ],
      "text/plain": [
       "[1] \"numeric\""
      ]
     },
     "metadata": {},
     "output_type": "display_data"
    }
   ],
   "source": [
    "# 성별키가 얼마나 평균에서 분산되어 있는지 표준편차로 확인\n",
    "d <- sapply(height_by_gender, sd) \n",
    "d\n",
    "class(d)\n",
    "# 남자\n",
    "# 6.80464710489987\n",
    "# 여자\n",
    "# 8.48741365058818\n",
    "# 'numeric'"
   ]
  },
  {
   "cell_type": "code",
   "execution_count": 13,
   "metadata": {},
   "outputs": [
    {
     "data": {
      "text/html": [
       "<table>\n",
       "<thead><tr><th scope=col>name</th><th scope=col>address</th><th scope=col>train</th></tr></thead>\n",
       "<tbody>\n",
       "\t<tr><td>아로미</td><td>서울  </td><td>2500  </td></tr>\n",
       "\t<tr><td>왕눈이</td><td>평양  </td><td>1000  </td></tr>\n",
       "</tbody>\n",
       "</table>\n"
      ],
      "text/latex": [
       "\\begin{tabular}{r|lll}\n",
       " name & address & train\\\\\n",
       "\\hline\n",
       "\t 아로미 & 서울   & 2500  \\\\\n",
       "\t 왕눈이 & 평양   & 1000  \\\\\n",
       "\\end{tabular}\n"
      ],
      "text/markdown": [
       "\n",
       "| name | address | train |\n",
       "|---|---|---|\n",
       "| 아로미 | 서울   | 2500   |\n",
       "| 왕눈이 | 평양   | 1000   |\n",
       "\n"
      ],
      "text/plain": [
       "  name   address train\n",
       "1 아로미 서울    2500 \n",
       "2 왕눈이 평양    1000 "
      ]
     },
     "metadata": {},
     "output_type": "display_data"
    }
   ],
   "source": [
    "# 기본적으로 열방향 데이터 추가\n",
    "emp <- data.frame(name=c('아로미', '왕눈이'),\n",
    "                  address=c('서울', '평양'),\n",
    "                  train=c(2500, 1000))\n",
    "emp\n",
    "# name\taddress\ttrain\n",
    "# 아로미\t서울\t2500\n",
    "# 왕눈이\t평양\t1000"
   ]
  },
  {
   "cell_type": "code",
   "execution_count": 14,
   "metadata": {},
   "outputs": [
    {
     "data": {
      "text/html": [
       "<table>\n",
       "<thead><tr><th scope=col>name</th><th scope=col>address</th><th scope=col>train</th><th scope=col>mt</th></tr></thead>\n",
       "<tbody>\n",
       "\t<tr><td>아로미</td><td>서울  </td><td>2500  </td><td>한라산</td></tr>\n",
       "\t<tr><td>왕눈이</td><td>평양  </td><td>1000  </td><td>백두산</td></tr>\n",
       "</tbody>\n",
       "</table>\n"
      ],
      "text/latex": [
       "\\begin{tabular}{r|llll}\n",
       " name & address & train & mt\\\\\n",
       "\\hline\n",
       "\t 아로미 & 서울   & 2500   & 한라산\\\\\n",
       "\t 왕눈이 & 평양   & 1000   & 백두산\\\\\n",
       "\\end{tabular}\n"
      ],
      "text/markdown": [
       "\n",
       "| name | address | train | mt |\n",
       "|---|---|---|---|\n",
       "| 아로미 | 서울   | 2500   | 한라산 |\n",
       "| 왕눈이 | 평양   | 1000   | 백두산 |\n",
       "\n"
      ],
      "text/plain": [
       "  name   address train mt    \n",
       "1 아로미 서울    2500  한라산\n",
       "2 왕눈이 평양    1000  백두산"
      ]
     },
     "metadata": {},
     "output_type": "display_data"
    }
   ],
   "source": [
    "# 데이터 프레임에 열 추가하기\n",
    "# 행 개수가 딱 맞아야 함\n",
    "# cbind: 열 병합\n",
    "# emp <- cbind(emp, mt=c('한라산', '백두산', '설악산')) -> 에러\n",
    "emp <- cbind(emp, mt=c('한라산', '백두산'))\n",
    "emp\n",
    "# name\taddress\ttrain\tmt\n",
    "# 아로미\t서울\t2500\t한라산\n",
    "# 왕눈이\t평양\t1000\t백두산"
   ]
  },
  {
   "cell_type": "code",
   "execution_count": 15,
   "metadata": {},
   "outputs": [
    {
     "data": {
      "text/html": [
       "<table>\n",
       "<thead><tr><th scope=col>name</th><th scope=col>address</th><th scope=col>train</th><th scope=col>mt</th></tr></thead>\n",
       "<tbody>\n",
       "\t<tr><td>아로미</td><td>서울  </td><td>2500  </td><td>한라산</td></tr>\n",
       "\t<tr><td>왕눈이</td><td>평양  </td><td>1000  </td><td>백두산</td></tr>\n",
       "\t<tr><td>조인성</td><td>안시성</td><td>3000  </td><td>금강산</td></tr>\n",
       "</tbody>\n",
       "</table>\n"
      ],
      "text/latex": [
       "\\begin{tabular}{r|llll}\n",
       " name & address & train & mt\\\\\n",
       "\\hline\n",
       "\t 아로미 & 서울   & 2500   & 한라산\\\\\n",
       "\t 왕눈이 & 평양   & 1000   & 백두산\\\\\n",
       "\t 조인성 & 안시성 & 3000   & 금강산\\\\\n",
       "\\end{tabular}\n"
      ],
      "text/markdown": [
       "\n",
       "| name | address | train | mt |\n",
       "|---|---|---|---|\n",
       "| 아로미 | 서울   | 2500   | 한라산 |\n",
       "| 왕눈이 | 평양   | 1000   | 백두산 |\n",
       "| 조인성 | 안시성 | 3000   | 금강산 |\n",
       "\n"
      ],
      "text/plain": [
       "  name   address train mt    \n",
       "1 아로미 서울    2500  한라산\n",
       "2 왕눈이 평양    1000  백두산\n",
       "3 조인성 안시성  3000  금강산"
      ]
     },
     "metadata": {},
     "output_type": "display_data"
    }
   ],
   "source": [
    "# rbind: 행 결합\n",
    "emp <- rbind(emp, data.frame(name='조인성', address='안시성',\n",
    "                             train=3000, mt='금강산'))\n",
    "emp\n",
    "# name\taddress\ttrain\tmt\n",
    "# 아로미\t서울\t2500\t한라산\n",
    "# 왕눈이\t평양\t1000\t백두산\n",
    "# 조인성\t안시성\t3000\t금강산"
   ]
  },
  {
   "cell_type": "code",
   "execution_count": 16,
   "metadata": {},
   "outputs": [
    {
     "data": {
      "text/html": [
       "<table>\n",
       "<thead><tr><th scope=col>name</th></tr></thead>\n",
       "<tbody>\n",
       "\t<tr><td>아로미</td></tr>\n",
       "\t<tr><td>왕눈이</td></tr>\n",
       "\t<tr><td>조인성</td></tr>\n",
       "</tbody>\n",
       "</table>\n"
      ],
      "text/latex": [
       "\\begin{tabular}{r|l}\n",
       " name\\\\\n",
       "\\hline\n",
       "\t 아로미\\\\\n",
       "\t 왕눈이\\\\\n",
       "\t 조인성\\\\\n",
       "\\end{tabular}\n"
      ],
      "text/markdown": [
       "\n",
       "| name |\n",
       "|---|\n",
       "| 아로미 |\n",
       "| 왕눈이 |\n",
       "| 조인성 |\n",
       "\n"
      ],
      "text/plain": [
       "  name  \n",
       "1 아로미\n",
       "2 왕눈이\n",
       "3 조인성"
      ]
     },
     "metadata": {},
     "output_type": "display_data"
    },
    {
     "data": {
      "text/html": [
       "'data.frame'"
      ],
      "text/latex": [
       "'data.frame'"
      ],
      "text/markdown": [
       "'data.frame'"
      ],
      "text/plain": [
       "[1] \"data.frame\""
      ]
     },
     "metadata": {},
     "output_type": "display_data"
    }
   ],
   "source": [
    "# 특정 열 출력\n",
    "name <- emp[1] # column index from 1, 변수\n",
    "name\n",
    "class(name)\n",
    "# name\n",
    "# 아로미\n",
    "# 왕눈이\n",
    "# 조인성"
   ]
  },
  {
   "cell_type": "code",
   "execution_count": 17,
   "metadata": {},
   "outputs": [
    {
     "data": {
      "text/html": [
       "<table>\n",
       "<thead><tr><th scope=col>name</th><th scope=col>address</th><th scope=col>train</th><th scope=col>mt</th></tr></thead>\n",
       "<tbody>\n",
       "\t<tr><td>아로미</td><td>서울  </td><td>2500  </td><td>한라산</td></tr>\n",
       "</tbody>\n",
       "</table>\n"
      ],
      "text/latex": [
       "\\begin{tabular}{r|llll}\n",
       " name & address & train & mt\\\\\n",
       "\\hline\n",
       "\t 아로미 & 서울   & 2500   & 한라산\\\\\n",
       "\\end{tabular}\n"
      ],
      "text/markdown": [
       "\n",
       "| name | address | train | mt |\n",
       "|---|---|---|---|\n",
       "| 아로미 | 서울   | 2500   | 한라산 |\n",
       "\n"
      ],
      "text/plain": [
       "  name   address train mt    \n",
       "1 아로미 서울    2500  한라산"
      ]
     },
     "metadata": {},
     "output_type": "display_data"
    }
   ],
   "source": [
    "# 특정 행 출력\n",
    "one <- emp[1,] # 첫번째 관측치(레코드)\n",
    "one\n",
    "# name\taddress\ttrain\tmt\n",
    "# 아로미\t서울\t2500\t한라산"
   ]
  },
  {
   "cell_type": "code",
   "execution_count": 18,
   "metadata": {},
   "outputs": [
    {
     "data": {
      "text/html": [
       "<ol class=list-inline>\n",
       "\t<li>아로미</li>\n",
       "\t<li>왕눈이</li>\n",
       "\t<li>조인성</li>\n",
       "</ol>\n",
       "\n",
       "<details>\n",
       "\t<summary style=display:list-item;cursor:pointer>\n",
       "\t\t<strong>Levels</strong>:\n",
       "\t</summary>\n",
       "\t<ol class=list-inline>\n",
       "\t\t<li>'아로미'</li>\n",
       "\t\t<li>'왕눈이'</li>\n",
       "\t\t<li>'조인성'</li>\n",
       "\t</ol>\n",
       "</details>"
      ],
      "text/latex": [
       "\\begin{enumerate*}\n",
       "\\item 아로미\n",
       "\\item 왕눈이\n",
       "\\item 조인성\n",
       "\\end{enumerate*}\n",
       "\n",
       "\\emph{Levels}: \\begin{enumerate*}\n",
       "\\item '아로미'\n",
       "\\item '왕눈이'\n",
       "\\item '조인성'\n",
       "\\end{enumerate*}\n"
      ],
      "text/markdown": [
       "1. 아로미\n",
       "2. 왕눈이\n",
       "3. 조인성\n",
       "\n",
       "\n",
       "\n",
       "**Levels**: 1. '아로미'\n",
       "2. '왕눈이'\n",
       "3. '조인성'\n",
       "\n",
       "\n"
      ],
      "text/plain": [
       "[1] 아로미 왕눈이 조인성\n",
       "Levels: 아로미 왕눈이 조인성"
      ]
     },
     "metadata": {},
     "output_type": "display_data"
    },
    {
     "data": {
      "text/html": [
       "'factor'"
      ],
      "text/latex": [
       "'factor'"
      ],
      "text/markdown": [
       "'factor'"
      ],
      "text/plain": [
       "[1] \"factor\""
      ]
     },
     "metadata": {},
     "output_type": "display_data"
    }
   ],
   "source": [
    "all_name <- emp[, 1] # 모든 관측치의 첫번째 변수 출력\n",
    "all_name\n",
    "# 아로미 왕눈이 조인성\n",
    "\n",
    "class(all_name) # R 내부적으로: 문자열을 숫자(factor)로 자동 변환하여 처리됨\n",
    "#  Levels:\n",
    "# '아로미' '왕눈이' '조인성'\n",
    "# 'factor' -> 나열된 숫자를 의미"
   ]
  },
  {
   "cell_type": "code",
   "execution_count": 19,
   "metadata": {},
   "outputs": [
    {
     "data": {
      "text/html": [
       "아로미\n",
       "<details>\n",
       "\t<summary style=display:list-item;cursor:pointer>\n",
       "\t\t<strong>Levels</strong>:\n",
       "\t</summary>\n",
       "\t<ol class=list-inline>\n",
       "\t\t<li>'아로미'</li>\n",
       "\t\t<li>'왕눈이'</li>\n",
       "\t\t<li>'조인성'</li>\n",
       "\t</ol>\n",
       "</details>"
      ],
      "text/latex": [
       "아로미\n",
       "\\emph{Levels}: \\begin{enumerate*}\n",
       "\\item '아로미'\n",
       "\\item '왕눈이'\n",
       "\\item '조인성'\n",
       "\\end{enumerate*}\n"
      ],
      "text/markdown": [
       "아로미\n",
       "**Levels**: 1. '아로미'\n",
       "2. '왕눈이'\n",
       "3. '조인성'\n",
       "\n",
       "\n"
      ],
      "text/plain": [
       "[1] 아로미\n",
       "Levels: 아로미 왕눈이 조인성"
      ]
     },
     "metadata": {},
     "output_type": "display_data"
    }
   ],
   "source": [
    "one_name <- emp[1, 1]\n",
    "one_name\n",
    "# 아로미\n",
    "#  Levels:\n",
    "# '아로미' '왕눈이' '조인성'"
   ]
  },
  {
   "cell_type": "code",
   "execution_count": 20,
   "metadata": {},
   "outputs": [
    {
     "data": {
      "text/html": [
       "<table>\n",
       "<thead><tr><th scope=col>name</th><th scope=col>address</th><th scope=col>train</th><th scope=col>mt</th></tr></thead>\n",
       "<tbody>\n",
       "\t<tr><td>아로미</td><td>서울  </td><td>2500  </td><td>한라산</td></tr>\n",
       "\t<tr><td>왕눈이</td><td>평양  </td><td>1000  </td><td>백두산</td></tr>\n",
       "</tbody>\n",
       "</table>\n"
      ],
      "text/latex": [
       "\\begin{tabular}{r|llll}\n",
       " name & address & train & mt\\\\\n",
       "\\hline\n",
       "\t 아로미 & 서울   & 2500   & 한라산\\\\\n",
       "\t 왕눈이 & 평양   & 1000   & 백두산\\\\\n",
       "\\end{tabular}\n"
      ],
      "text/markdown": [
       "\n",
       "| name | address | train | mt |\n",
       "|---|---|---|---|\n",
       "| 아로미 | 서울   | 2500   | 한라산 |\n",
       "| 왕눈이 | 평양   | 1000   | 백두산 |\n",
       "\n"
      ],
      "text/plain": [
       "  name   address train mt    \n",
       "1 아로미 서울    2500  한라산\n",
       "2 왕눈이 평양    1000  백두산"
      ]
     },
     "metadata": {},
     "output_type": "display_data"
    }
   ],
   "source": [
    "emp[-3, ] # 3번 index 제외\n",
    "# name\taddress\ttrain\tmt\n",
    "# 아로미\t서울\t2500\t한라산\n",
    "# 왕눈이\t평양\t1000\t백두산\n"
   ]
  },
  {
   "cell_type": "code",
   "execution_count": 21,
   "metadata": {},
   "outputs": [
    {
     "data": {
      "text/html": [
       "<table>\n",
       "<thead><tr><th scope=col>name</th><th scope=col>address</th><th scope=col>train</th></tr></thead>\n",
       "<tbody>\n",
       "\t<tr><td>아로미</td><td>서울  </td><td>2500  </td></tr>\n",
       "\t<tr><td>왕눈이</td><td>평양  </td><td>1000  </td></tr>\n",
       "\t<tr><td>조인성</td><td>안시성</td><td>3000  </td></tr>\n",
       "</tbody>\n",
       "</table>\n"
      ],
      "text/latex": [
       "\\begin{tabular}{r|lll}\n",
       " name & address & train\\\\\n",
       "\\hline\n",
       "\t 아로미 & 서울   & 2500  \\\\\n",
       "\t 왕눈이 & 평양   & 1000  \\\\\n",
       "\t 조인성 & 안시성 & 3000  \\\\\n",
       "\\end{tabular}\n"
      ],
      "text/markdown": [
       "\n",
       "| name | address | train |\n",
       "|---|---|---|\n",
       "| 아로미 | 서울   | 2500   |\n",
       "| 왕눈이 | 평양   | 1000   |\n",
       "| 조인성 | 안시성 | 3000   |\n",
       "\n"
      ],
      "text/plain": [
       "  name   address train\n",
       "1 아로미 서울    2500 \n",
       "2 왕눈이 평양    1000 \n",
       "3 조인성 안시성  3000 "
      ]
     },
     "metadata": {},
     "output_type": "display_data"
    }
   ],
   "source": [
    "emp[, -4] # 4번째 변수 제외\n",
    "# name\taddress\ttrain\n",
    "# 아로미\t서울\t2500\n",
    "# 왕눈이\t평양\t1000\n",
    "# 조인성\t안시성\t3000\n"
   ]
  },
  {
   "cell_type": "code",
   "execution_count": 22,
   "metadata": {},
   "outputs": [
    {
     "data": {
      "text/html": [
       "<table>\n",
       "<thead><tr><th scope=col>name</th></tr></thead>\n",
       "<tbody>\n",
       "\t<tr><td>아로미</td></tr>\n",
       "\t<tr><td>왕눈이</td></tr>\n",
       "\t<tr><td>조인성</td></tr>\n",
       "</tbody>\n",
       "</table>\n"
      ],
      "text/latex": [
       "\\begin{tabular}{r|l}\n",
       " name\\\\\n",
       "\\hline\n",
       "\t 아로미\\\\\n",
       "\t 왕눈이\\\\\n",
       "\t 조인성\\\\\n",
       "\\end{tabular}\n"
      ],
      "text/markdown": [
       "\n",
       "| name |\n",
       "|---|\n",
       "| 아로미 |\n",
       "| 왕눈이 |\n",
       "| 조인성 |\n",
       "\n"
      ],
      "text/plain": [
       "  name  \n",
       "1 아로미\n",
       "2 왕눈이\n",
       "3 조인성"
      ]
     },
     "metadata": {},
     "output_type": "display_data"
    }
   ],
   "source": [
    "# 칼럼명으로 추출\n",
    "name <- emp[\"name\"]\n",
    "name\n",
    "# name\n",
    "# 아로미\n",
    "# 왕눈이\n",
    "# 조인성\n"
   ]
  },
  {
   "cell_type": "code",
   "execution_count": 23,
   "metadata": {},
   "outputs": [
    {
     "data": {
      "text/html": [
       "<ol class=list-inline>\n",
       "\t<li>아로미</li>\n",
       "\t<li>왕눈이</li>\n",
       "\t<li>조인성</li>\n",
       "</ol>\n",
       "\n",
       "<details>\n",
       "\t<summary style=display:list-item;cursor:pointer>\n",
       "\t\t<strong>Levels</strong>:\n",
       "\t</summary>\n",
       "\t<ol class=list-inline>\n",
       "\t\t<li>'아로미'</li>\n",
       "\t\t<li>'왕눈이'</li>\n",
       "\t\t<li>'조인성'</li>\n",
       "\t</ol>\n",
       "</details>"
      ],
      "text/latex": [
       "\\begin{enumerate*}\n",
       "\\item 아로미\n",
       "\\item 왕눈이\n",
       "\\item 조인성\n",
       "\\end{enumerate*}\n",
       "\n",
       "\\emph{Levels}: \\begin{enumerate*}\n",
       "\\item '아로미'\n",
       "\\item '왕눈이'\n",
       "\\item '조인성'\n",
       "\\end{enumerate*}\n"
      ],
      "text/markdown": [
       "1. 아로미\n",
       "2. 왕눈이\n",
       "3. 조인성\n",
       "\n",
       "\n",
       "\n",
       "**Levels**: 1. '아로미'\n",
       "2. '왕눈이'\n",
       "3. '조인성'\n",
       "\n",
       "\n"
      ],
      "text/plain": [
       "[1] 아로미 왕눈이 조인성\n",
       "Levels: 아로미 왕눈이 조인성"
      ]
     },
     "metadata": {},
     "output_type": "display_data"
    },
    {
     "data": {
      "text/html": [
       "'factor'"
      ],
      "text/latex": [
       "'factor'"
      ],
      "text/markdown": [
       "'factor'"
      ],
      "text/plain": [
       "[1] \"factor\""
      ]
     },
     "metadata": {},
     "output_type": "display_data"
    },
    {
     "data": {
      "text/html": [
       "<ol class=list-inline>\n",
       "\t<li>'factor'</li>\n",
       "\t<li>'integer'</li>\n",
       "\t<li>'oldClass'</li>\n",
       "\t<li>'double'</li>\n",
       "\t<li>'numeric'</li>\n",
       "\t<li>'vector'</li>\n",
       "\t<li>'data.frameRowLabels'</li>\n",
       "</ol>\n"
      ],
      "text/latex": [
       "\\begin{enumerate*}\n",
       "\\item 'factor'\n",
       "\\item 'integer'\n",
       "\\item 'oldClass'\n",
       "\\item 'double'\n",
       "\\item 'numeric'\n",
       "\\item 'vector'\n",
       "\\item 'data.frameRowLabels'\n",
       "\\end{enumerate*}\n"
      ],
      "text/markdown": [
       "1. 'factor'\n",
       "2. 'integer'\n",
       "3. 'oldClass'\n",
       "4. 'double'\n",
       "5. 'numeric'\n",
       "6. 'vector'\n",
       "7. 'data.frameRowLabels'\n",
       "\n",
       "\n"
      ],
      "text/plain": [
       "[1] \"factor\"              \"integer\"             \"oldClass\"           \n",
       "[4] \"double\"              \"numeric\"             \"vector\"             \n",
       "[7] \"data.frameRowLabels\""
      ]
     },
     "metadata": {},
     "output_type": "display_data"
    }
   ],
   "source": [
    "# 대괄호를 두번 쓰면(데이터프레임의 요소에 접근) 결과가 factor로 나오게 된다.\n",
    "# 내부적으로 수치로 처리한다.\n",
    "# 숫자는 vector로 나오게 될 것\n",
    "name <- emp[[\"name\"]]  # 문자열일 경우는 factor로 분리\n",
    "name\n",
    "class(name)\n",
    "is(name)"
   ]
  },
  {
   "cell_type": "code",
   "execution_count": 24,
   "metadata": {},
   "outputs": [
    {
     "data": {
      "text/html": [
       "<ol class=list-inline>\n",
       "\t<li>2500</li>\n",
       "\t<li>1000</li>\n",
       "\t<li>3000</li>\n",
       "</ol>\n"
      ],
      "text/latex": [
       "\\begin{enumerate*}\n",
       "\\item 2500\n",
       "\\item 1000\n",
       "\\item 3000\n",
       "\\end{enumerate*}\n"
      ],
      "text/markdown": [
       "1. 2500\n",
       "2. 1000\n",
       "3. 3000\n",
       "\n",
       "\n"
      ],
      "text/plain": [
       "[1] 2500 1000 3000"
      ]
     },
     "metadata": {},
     "output_type": "display_data"
    },
    {
     "data": {
      "text/html": [
       "'numeric'"
      ],
      "text/latex": [
       "'numeric'"
      ],
      "text/markdown": [
       "'numeric'"
      ],
      "text/plain": [
       "[1] \"numeric\""
      ]
     },
     "metadata": {},
     "output_type": "display_data"
    },
    {
     "data": {
      "text/html": [
       "<ol class=list-inline>\n",
       "\t<li>'numeric'</li>\n",
       "\t<li>'vector'</li>\n",
       "</ol>\n"
      ],
      "text/latex": [
       "\\begin{enumerate*}\n",
       "\\item 'numeric'\n",
       "\\item 'vector'\n",
       "\\end{enumerate*}\n"
      ],
      "text/markdown": [
       "1. 'numeric'\n",
       "2. 'vector'\n",
       "\n",
       "\n"
      ],
      "text/plain": [
       "[1] \"numeric\" \"vector\" "
      ]
     },
     "metadata": {},
     "output_type": "display_data"
    }
   ],
   "source": [
    "train <- emp[[\"train\"]]  # 숫자일경우는 vector로 분리\n",
    "train\n",
    "class(train)\n",
    "is(train)\n",
    "# 2500 1000 3000\n",
    "# 'numeric'\n",
    "# 'numeric' 'vector'"
   ]
  },
  {
   "cell_type": "code",
   "execution_count": 25,
   "metadata": {},
   "outputs": [
    {
     "data": {
      "text/html": [
       "<ol class=list-inline>\n",
       "\t<li>아로미</li>\n",
       "\t<li>왕눈이</li>\n",
       "\t<li>조인성</li>\n",
       "</ol>\n",
       "\n",
       "<details>\n",
       "\t<summary style=display:list-item;cursor:pointer>\n",
       "\t\t<strong>Levels</strong>:\n",
       "\t</summary>\n",
       "\t<ol class=list-inline>\n",
       "\t\t<li>'아로미'</li>\n",
       "\t\t<li>'왕눈이'</li>\n",
       "\t\t<li>'조인성'</li>\n",
       "\t</ol>\n",
       "</details>"
      ],
      "text/latex": [
       "\\begin{enumerate*}\n",
       "\\item 아로미\n",
       "\\item 왕눈이\n",
       "\\item 조인성\n",
       "\\end{enumerate*}\n",
       "\n",
       "\\emph{Levels}: \\begin{enumerate*}\n",
       "\\item '아로미'\n",
       "\\item '왕눈이'\n",
       "\\item '조인성'\n",
       "\\end{enumerate*}\n"
      ],
      "text/markdown": [
       "1. 아로미\n",
       "2. 왕눈이\n",
       "3. 조인성\n",
       "\n",
       "\n",
       "\n",
       "**Levels**: 1. '아로미'\n",
       "2. '왕눈이'\n",
       "3. '조인성'\n",
       "\n",
       "\n"
      ],
      "text/plain": [
       "[1] 아로미 왕눈이 조인성\n",
       "Levels: 아로미 왕눈이 조인성"
      ]
     },
     "metadata": {},
     "output_type": "display_data"
    }
   ],
   "source": [
    "name <- emp$name\n",
    "name\n",
    "# 아로미 왕눈이 조인성 # level로 그룹화 되어 있는 factor에서 꺼낸 결과\n",
    "#  Levels:\n",
    "# '아로미' '왕눈이' '조인성'"
   ]
  },
  {
   "cell_type": "code",
   "execution_count": 26,
   "metadata": {},
   "outputs": [
    {
     "data": {
      "text/html": [
       "<table>\n",
       "<thead><tr><th scope=col>name</th></tr></thead>\n",
       "<tbody>\n",
       "\t<tr><td>아로미</td></tr>\n",
       "\t<tr><td>왕눈이</td></tr>\n",
       "\t<tr><td>조인성</td></tr>\n",
       "</tbody>\n",
       "</table>\n"
      ],
      "text/latex": [
       "\\begin{tabular}{r|l}\n",
       " name\\\\\n",
       "\\hline\n",
       "\t 아로미\\\\\n",
       "\t 왕눈이\\\\\n",
       "\t 조인성\\\\\n",
       "\\end{tabular}\n"
      ],
      "text/markdown": [
       "\n",
       "| name |\n",
       "|---|\n",
       "| 아로미 |\n",
       "| 왕눈이 |\n",
       "| 조인성 |\n",
       "\n"
      ],
      "text/plain": [
       "  name  \n",
       "1 아로미\n",
       "2 왕눈이\n",
       "3 조인성"
      ]
     },
     "metadata": {},
     "output_type": "display_data"
    },
    {
     "data": {
      "text/html": [
       "아로미\n",
       "<details>\n",
       "\t<summary style=display:list-item;cursor:pointer>\n",
       "\t\t<strong>Levels</strong>:\n",
       "\t</summary>\n",
       "\t<ol class=list-inline>\n",
       "\t\t<li>'아로미'</li>\n",
       "\t\t<li>'왕눈이'</li>\n",
       "\t\t<li>'조인성'</li>\n",
       "\t</ol>\n",
       "</details>"
      ],
      "text/latex": [
       "아로미\n",
       "\\emph{Levels}: \\begin{enumerate*}\n",
       "\\item '아로미'\n",
       "\\item '왕눈이'\n",
       "\\item '조인성'\n",
       "\\end{enumerate*}\n"
      ],
      "text/markdown": [
       "아로미\n",
       "**Levels**: 1. '아로미'\n",
       "2. '왕눈이'\n",
       "3. '조인성'\n",
       "\n",
       "\n"
      ],
      "text/plain": [
       "[1] 아로미\n",
       "Levels: 아로미 왕눈이 조인성"
      ]
     },
     "metadata": {},
     "output_type": "display_data"
    },
    {
     "data": {
      "text/html": [
       "아로미\n",
       "<details>\n",
       "\t<summary style=display:list-item;cursor:pointer>\n",
       "\t\t<strong>Levels</strong>:\n",
       "\t</summary>\n",
       "\t<ol class=list-inline>\n",
       "\t\t<li>'아로미'</li>\n",
       "\t\t<li>'왕눈이'</li>\n",
       "\t\t<li>'조인성'</li>\n",
       "\t</ol>\n",
       "</details>"
      ],
      "text/latex": [
       "아로미\n",
       "\\emph{Levels}: \\begin{enumerate*}\n",
       "\\item '아로미'\n",
       "\\item '왕눈이'\n",
       "\\item '조인성'\n",
       "\\end{enumerate*}\n"
      ],
      "text/markdown": [
       "아로미\n",
       "**Levels**: 1. '아로미'\n",
       "2. '왕눈이'\n",
       "3. '조인성'\n",
       "\n",
       "\n"
      ],
      "text/plain": [
       "[1] 아로미\n",
       "Levels: 아로미 왕눈이 조인성"
      ]
     },
     "metadata": {},
     "output_type": "display_data"
    }
   ],
   "source": [
    "# Factor: 속도를 높이고 메모리를 절약하기 위한 기법이다\n",
    "\n",
    "one_name <- emp[1][1]\n",
    "one_name\n",
    "one_name <- emp[[1]][1] # dataframe의 변수의 요소 접근\n",
    "one_name\n",
    "one_name <- emp[1, 1]   # dataframe의 변수의 요소 접근\n",
    "one_name\n",
    "# name\n",
    "# 아로미\n",
    "# 왕눈이\n",
    "# 조인성\n",
    "# 아로미\n",
    "\n",
    "#  Levels:\n",
    "# '아로미' '왕눈이' '조인성'\n",
    "\n",
    "# 아로미\n",
    "\n",
    "#  Levels:\n",
    "# '아로미' '왕눈이' '조인성'"
   ]
  },
  {
   "cell_type": "code",
   "execution_count": 27,
   "metadata": {},
   "outputs": [
    {
     "data": {
      "text/html": [
       "<table>\n",
       "<thead><tr><th scope=col>name</th><th scope=col>address</th><th scope=col>train</th><th scope=col>mt</th></tr></thead>\n",
       "<tbody>\n",
       "\t<tr><td>아로미</td><td>서울  </td><td>2500  </td><td>한라산</td></tr>\n",
       "\t<tr><td>왕눈이</td><td>평양  </td><td>1000  </td><td>백두산</td></tr>\n",
       "\t<tr><td>조인성</td><td>안시성</td><td>3000  </td><td>금강산</td></tr>\n",
       "</tbody>\n",
       "</table>\n"
      ],
      "text/latex": [
       "\\begin{tabular}{r|llll}\n",
       " name & address & train & mt\\\\\n",
       "\\hline\n",
       "\t 아로미 & 서울   & 2500   & 한라산\\\\\n",
       "\t 왕눈이 & 평양   & 1000   & 백두산\\\\\n",
       "\t 조인성 & 안시성 & 3000   & 금강산\\\\\n",
       "\\end{tabular}\n"
      ],
      "text/markdown": [
       "\n",
       "| name | address | train | mt |\n",
       "|---|---|---|---|\n",
       "| 아로미 | 서울   | 2500   | 한라산 |\n",
       "| 왕눈이 | 평양   | 1000   | 백두산 |\n",
       "| 조인성 | 안시성 | 3000   | 금강산 |\n",
       "\n"
      ],
      "text/plain": [
       "  name   address train mt    \n",
       "1 아로미 서울    2500  한라산\n",
       "2 왕눈이 평양    1000  백두산\n",
       "3 조인성 안시성  3000  금강산"
      ]
     },
     "metadata": {},
     "output_type": "display_data"
    }
   ],
   "source": [
    "emp"
   ]
  },
  {
   "cell_type": "code",
   "execution_count": 28,
   "metadata": {},
   "outputs": [
    {
     "name": "stderr",
     "output_type": "stream",
     "text": [
      "Warning message in `[<-.factor`(`*tmp*`, iseq, value = \"요동성\"):\n",
      "\"invalid factor level, NA generated\""
     ]
    }
   ],
   "source": [
    "# 신규 관측치의 추가\n",
    "# factor 경고: 기존에 사용하지 않은 새로운 문자열 추가시 발생\n",
    "emp[4, 1] <- \"조인성\"\n",
    "emp[4, 2] <- \"요동성\"\n",
    "emp[4, 3] <- 2000\n",
    "emp[4, 4] <- \"백두산\"\n",
    "# Warning message \"invalid factor level, NA generated\"\n",
    "# 서울 평양 안시성 외에는 포함시킬 수 없음"
   ]
  },
  {
   "cell_type": "code",
   "execution_count": 30,
   "metadata": {},
   "outputs": [
    {
     "data": {
      "text/html": [
       "<table>\n",
       "<thead><tr><th scope=col>name</th><th scope=col>address</th><th scope=col>train</th><th scope=col>mt</th></tr></thead>\n",
       "<tbody>\n",
       "\t<tr><td>아로미</td><td>서울  </td><td>2500  </td><td>한라산</td></tr>\n",
       "\t<tr><td>왕눈이</td><td>평양  </td><td>1000  </td><td>백두산</td></tr>\n",
       "\t<tr><td>조인성</td><td>안시성</td><td>3000  </td><td>금강산</td></tr>\n",
       "\t<tr><td>조인성</td><td>NA    </td><td>2000  </td><td>백두산</td></tr>\n",
       "</tbody>\n",
       "</table>\n"
      ],
      "text/latex": [
       "\\begin{tabular}{r|llll}\n",
       " name & address & train & mt\\\\\n",
       "\\hline\n",
       "\t 아로미 & 서울   & 2500   & 한라산\\\\\n",
       "\t 왕눈이 & 평양   & 1000   & 백두산\\\\\n",
       "\t 조인성 & 안시성 & 3000   & 금강산\\\\\n",
       "\t 조인성 & NA     & 2000   & 백두산\\\\\n",
       "\\end{tabular}\n"
      ],
      "text/markdown": [
       "\n",
       "| name | address | train | mt |\n",
       "|---|---|---|---|\n",
       "| 아로미 | 서울   | 2500   | 한라산 |\n",
       "| 왕눈이 | 평양   | 1000   | 백두산 |\n",
       "| 조인성 | 안시성 | 3000   | 금강산 |\n",
       "| 조인성 | NA     | 2000   | 백두산 |\n",
       "\n"
      ],
      "text/plain": [
       "  name   address train mt    \n",
       "1 아로미 서울    2500  한라산\n",
       "2 왕눈이 평양    1000  백두산\n",
       "3 조인성 안시성  3000  금강산\n",
       "4 조인성 NA      2000  백두산"
      ]
     },
     "metadata": {},
     "output_type": "display_data"
    }
   ],
   "source": [
    "# Dataframe은 최초 생성시 만들어진 factor를 계속 사용함으로\n",
    "# 중간에 새로운 문자열을 factor로 포함 할 수 없음.\n",
    "emp\n",
    "# name\taddress\ttrain\tmt\n",
    "# 아로미\t서울\t2500\t한라산\n",
    "# 왕눈이\t평양\t1000\t백두산\n",
    "# 조인성\t안시성\t3000\t금강산\n",
    "# 조인성\tNA\t2000\t백두산"
   ]
  },
  {
   "cell_type": "code",
   "execution_count": 29,
   "metadata": {},
   "outputs": [
    {
     "data": {
      "text/html": [
       "<table>\n",
       "<thead><tr><th scope=col>name</th><th scope=col>address</th><th scope=col>train</th><th scope=col>mt</th></tr></thead>\n",
       "<tbody>\n",
       "\t<tr><td>아로미</td><td>서울  </td><td>2500  </td><td>한라산</td></tr>\n",
       "\t<tr><td>왕눈이</td><td>평양  </td><td>1000  </td><td>백두산</td></tr>\n",
       "\t<tr><td>조인성</td><td>안시성</td><td>3000  </td><td>금강산</td></tr>\n",
       "</tbody>\n",
       "</table>\n"
      ],
      "text/latex": [
       "\\begin{tabular}{r|llll}\n",
       " name & address & train & mt\\\\\n",
       "\\hline\n",
       "\t 아로미 & 서울   & 2500   & 한라산\\\\\n",
       "\t 왕눈이 & 평양   & 1000   & 백두산\\\\\n",
       "\t 조인성 & 안시성 & 3000   & 금강산\\\\\n",
       "\\end{tabular}\n"
      ],
      "text/markdown": [
       "\n",
       "| name | address | train | mt |\n",
       "|---|---|---|---|\n",
       "| 아로미 | 서울   | 2500   | 한라산 |\n",
       "| 왕눈이 | 평양   | 1000   | 백두산 |\n",
       "| 조인성 | 안시성 | 3000   | 금강산 |\n",
       "\n"
      ],
      "text/plain": [
       "  name   address train mt    \n",
       "1 아로미 서울    2500  한라산\n",
       "2 왕눈이 평양    1000  백두산\n",
       "3 조인성 안시성  3000  금강산"
      ]
     },
     "metadata": {},
     "output_type": "display_data"
    }
   ],
   "source": [
    "# 데이터프레임에서 행 삭제\n",
    "emp <- emp[-4, ]  # 4번째행 삭제\n",
    "emp\n",
    "# name\taddress\ttrain\tmt\n",
    "# 아로미\t서울\t2500\t한라산\n",
    "# 왕눈이\t평양\t1000\t백두산\n",
    "# 조인성\t안시성\t3000\t금강산\n"
   ]
  },
  {
   "cell_type": "code",
   "execution_count": 30,
   "metadata": {},
   "outputs": [
    {
     "data": {
      "text/html": [
       "<table>\n",
       "<thead><tr><th scope=col>name</th><th scope=col>address</th><th scope=col>train</th><th scope=col>mt</th></tr></thead>\n",
       "<tbody>\n",
       "\t<tr><td>아로미</td><td>서울  </td><td>2500  </td><td>한라산</td></tr>\n",
       "\t<tr><td>왕눈이</td><td>평양  </td><td>1000  </td><td>백두산</td></tr>\n",
       "\t<tr><td>조인성</td><td>안시성</td><td>3000  </td><td>금강산</td></tr>\n",
       "\t<tr><td>김남길</td><td>동해  </td><td>2000  </td><td>관악산</td></tr>\n",
       "</tbody>\n",
       "</table>\n"
      ],
      "text/latex": [
       "\\begin{tabular}{r|llll}\n",
       " name & address & train & mt\\\\\n",
       "\\hline\n",
       "\t 아로미 & 서울   & 2500   & 한라산\\\\\n",
       "\t 왕눈이 & 평양   & 1000   & 백두산\\\\\n",
       "\t 조인성 & 안시성 & 3000   & 금강산\\\\\n",
       "\t 김남길 & 동해   & 2000   & 관악산\\\\\n",
       "\\end{tabular}\n"
      ],
      "text/markdown": [
       "\n",
       "| name | address | train | mt |\n",
       "|---|---|---|---|\n",
       "| 아로미 | 서울   | 2500   | 한라산 |\n",
       "| 왕눈이 | 평양   | 1000   | 백두산 |\n",
       "| 조인성 | 안시성 | 3000   | 금강산 |\n",
       "| 김남길 | 동해   | 2000   | 관악산 |\n",
       "\n"
      ],
      "text/plain": [
       "  name   address train mt    \n",
       "1 아로미 서울    2500  한라산\n",
       "2 왕눈이 평양    1000  백두산\n",
       "3 조인성 안시성  3000  금강산\n",
       "4 김남길 동해    2000  관악산"
      ]
     },
     "metadata": {},
     "output_type": "display_data"
    }
   ],
   "source": [
    "# 아까 2000이라는 숫자는 경고 뜨지 않음, 문자열만 factor로 처리되기 때문에\n",
    "# 새로운 관측치는 rbind를 사용해야 factor 에러가 발생하지 않음.\n",
    "emp2 <- rbind(emp, data.frame(name='김남길', address='동해',\n",
    "                             train=2000, mt='관악산'))\n",
    "emp2\n",
    "# name\taddress\ttrain\tmt\n",
    "# 아로미\t서울\t2500\t한라산\n",
    "# 왕눈이\t평양\t1000\t백두산\n",
    "# 조인성\t안시성\t3000\t금강산\n",
    "# 김남길\t동해\t2000\t관악산"
   ]
  },
  {
   "cell_type": "code",
   "execution_count": 31,
   "metadata": {},
   "outputs": [
    {
     "data": {
      "text/html": [
       "<table>\n",
       "<thead><tr><th scope=col>name</th><th scope=col>address</th><th scope=col>train</th><th scope=col>mt</th></tr></thead>\n",
       "<tbody>\n",
       "\t<tr><td>아로미</td><td>서울  </td><td>2500  </td><td>한라산</td></tr>\n",
       "\t<tr><td>왕눈이</td><td>평양  </td><td>1000  </td><td>백두산</td></tr>\n",
       "\t<tr><td>조인성</td><td>안시성</td><td>3000  </td><td>금강산</td></tr>\n",
       "</tbody>\n",
       "</table>\n"
      ],
      "text/latex": [
       "\\begin{tabular}{r|llll}\n",
       " name & address & train & mt\\\\\n",
       "\\hline\n",
       "\t 아로미 & 서울   & 2500   & 한라산\\\\\n",
       "\t 왕눈이 & 평양   & 1000   & 백두산\\\\\n",
       "\t 조인성 & 안시성 & 3000   & 금강산\\\\\n",
       "\\end{tabular}\n"
      ],
      "text/markdown": [
       "\n",
       "| name | address | train | mt |\n",
       "|---|---|---|---|\n",
       "| 아로미 | 서울   | 2500   | 한라산 |\n",
       "| 왕눈이 | 평양   | 1000   | 백두산 |\n",
       "| 조인성 | 안시성 | 3000   | 금강산 |\n",
       "\n"
      ],
      "text/plain": [
       "  name   address train mt    \n",
       "1 아로미 서울    2500  한라산\n",
       "2 왕눈이 평양    1000  백두산\n",
       "3 조인성 안시성  3000  금강산"
      ]
     },
     "metadata": {},
     "output_type": "display_data"
    }
   ],
   "source": [
    "emp"
   ]
  },
  {
   "cell_type": "code",
   "execution_count": null,
   "metadata": {},
   "outputs": [],
   "source": [
    "setwd('C:/ai6/ws_bigdata/notebook/core/files')\n",
    "df <- read.csv('studentlist.csv', fileEncoding='utf-8', encoding='utf-8')"
   ]
  },
  {
   "cell_type": "code",
   "execution_count": 35,
   "metadata": {},
   "outputs": [
    {
     "name": "stdout",
     "output_type": "stream",
     "text": [
      "'data.frame':\t17 obs. of  8 variables:\n",
      " $ name     : Factor w/ 17 levels \"강수친\",\"김길동\",..: 2 12 17 6 10 7 1 14 13 9 ...\n",
      " $ gender   : Factor w/ 2 levels \"남자\",\"여자\": 1 2 1 1 2 2 2 2 1 1 ...\n",
      " $ age      : int  23 22 24 23 20 21 22 23 23 22 ...\n",
      " $ grade    : int  3 2 4 3 1 2 1 1 3 2 ...\n",
      " $ absence  : Factor w/ 2 levels \"무\",\"유\": 2 1 1 1 2 1 1 1 1 1 ...\n",
      " $ bloodtype: Factor w/ 4 levels \"A\",\"AB\",\"B\",\"O\": 4 2 3 2 1 4 4 1 3 3 ...\n",
      " $ height   : num  165 170 175 182 168 ...\n",
      " $ weight   : num  68.2 53 80.1 85.7 49.5 52 45.3 55 64.2 61.3 ...\n"
     ]
    }
   ],
   "source": [
    "str(df) # dataframe 구조 출력\n",
    "\n",
    "# 'data.frame':\t17 obs. of  8 variables:\n",
    "#  $ name     : Factor w/ 17 levels \"강수친\",\"김길동\",..: 2 12 17 6 10 7 1 14 13 9 ...\n",
    "#  $ gender   : Factor w/ 2 levels \"남자\",\"여자\": 1 2 1 1 2 2 2 2 1 1 ...\n",
    "#  $ age      : int  23 22 24 23 20 21 22 23 23 22 ...\n",
    "#  $ grade    : int  3 2 4 3 1 2 1 1 3 2 ...\n",
    "#  $ absence  : Factor w/ 2 levels \"무\",\"유\": 2 1 1 1 2 1 1 1 1 1 ...\n",
    "#  $ bloodtype: Factor w/ 4 levels \"A\",\"AB\",\"B\",\"O\": 4 2 3 2 1 4 4 1 3 3 ...\n",
    "#  $ height   : num  165 170 175 182 168 ...\n",
    "#  $ weight   : num  68.2 53 80.1 85.7 49.5 52 45.3 55 64.2 61.3 ..."
   ]
  },
  {
   "cell_type": "code",
   "execution_count": 106,
   "metadata": {},
   "outputs": [
    {
     "data": {
      "text/html": [
       "<table>\n",
       "<thead><tr><th scope=col>name</th></tr></thead>\n",
       "<tbody>\n",
       "\t<tr><td>김길동</td></tr>\n",
       "\t<tr><td>이미린</td></tr>\n",
       "\t<tr><td>홍길동</td></tr>\n",
       "\t<tr><td>김철수</td></tr>\n",
       "\t<tr><td>손세수</td></tr>\n",
       "\t<tr><td>박미희</td></tr>\n",
       "\t<tr><td>강수친</td></tr>\n",
       "\t<tr><td>이희수</td></tr>\n",
       "\t<tr><td>이철린</td></tr>\n",
       "\t<tr><td>방희철</td></tr>\n",
       "\t<tr><td>박수호</td></tr>\n",
       "\t<tr><td>임동민</td></tr>\n",
       "\t<tr><td>김민수</td></tr>\n",
       "\t<tr><td>이희진</td></tr>\n",
       "\t<tr><td>김미진</td></tr>\n",
       "\t<tr><td>김동수</td></tr>\n",
       "\t<tr><td>여수근</td></tr>\n",
       "</tbody>\n",
       "</table>\n"
      ],
      "text/latex": [
       "\\begin{tabular}{r|l}\n",
       " name\\\\\n",
       "\\hline\n",
       "\t 김길동\\\\\n",
       "\t 이미린\\\\\n",
       "\t 홍길동\\\\\n",
       "\t 김철수\\\\\n",
       "\t 손세수\\\\\n",
       "\t 박미희\\\\\n",
       "\t 강수친\\\\\n",
       "\t 이희수\\\\\n",
       "\t 이철린\\\\\n",
       "\t 방희철\\\\\n",
       "\t 박수호\\\\\n",
       "\t 임동민\\\\\n",
       "\t 김민수\\\\\n",
       "\t 이희진\\\\\n",
       "\t 김미진\\\\\n",
       "\t 김동수\\\\\n",
       "\t 여수근\\\\\n",
       "\\end{tabular}\n"
      ],
      "text/markdown": [
       "\n",
       "| name |\n",
       "|---|\n",
       "| 김길동 |\n",
       "| 이미린 |\n",
       "| 홍길동 |\n",
       "| 김철수 |\n",
       "| 손세수 |\n",
       "| 박미희 |\n",
       "| 강수친 |\n",
       "| 이희수 |\n",
       "| 이철린 |\n",
       "| 방희철 |\n",
       "| 박수호 |\n",
       "| 임동민 |\n",
       "| 김민수 |\n",
       "| 이희진 |\n",
       "| 김미진 |\n",
       "| 김동수 |\n",
       "| 여수근 |\n",
       "\n"
      ],
      "text/plain": [
       "   name  \n",
       "1  김길동\n",
       "2  이미린\n",
       "3  홍길동\n",
       "4  김철수\n",
       "5  손세수\n",
       "6  박미희\n",
       "7  강수친\n",
       "8  이희수\n",
       "9  이철린\n",
       "10 방희철\n",
       "11 박수호\n",
       "12 임동민\n",
       "13 김민수\n",
       "14 이희진\n",
       "15 김미진\n",
       "16 김동수\n",
       "17 여수근"
      ]
     },
     "metadata": {},
     "output_type": "display_data"
    }
   ],
   "source": [
    "df[1]\n",
    "# name\n",
    "# 김길동\n",
    "# 이미린\n",
    "# 홍길동\n",
    "# 김철수\n",
    "# 손세수\n",
    "# 박미희\n",
    "# 강수친\n",
    "# 이희수\n",
    "# 이철린\n",
    "# 방희철\n",
    "# 박수호\n",
    "# 임동민\n",
    "# 김민수\n",
    "# 이희진\n",
    "# 김미진\n",
    "# 김동수\n",
    "# 여수근\n"
   ]
  },
  {
   "cell_type": "code",
   "execution_count": 107,
   "metadata": {},
   "outputs": [
    {
     "data": {
      "text/html": [
       "<table>\n",
       "<thead><tr><th scope=col>name</th><th scope=col>gender</th><th scope=col>age</th><th scope=col>grade</th><th scope=col>absence</th><th scope=col>bloodtype</th><th scope=col>height</th><th scope=col>weight</th></tr></thead>\n",
       "<tbody>\n",
       "\t<tr><td>김길동</td><td>남자  </td><td>23    </td><td>3     </td><td>유    </td><td>O     </td><td>165.3 </td><td>68.2  </td></tr>\n",
       "</tbody>\n",
       "</table>\n"
      ],
      "text/latex": [
       "\\begin{tabular}{r|llllllll}\n",
       " name & gender & age & grade & absence & bloodtype & height & weight\\\\\n",
       "\\hline\n",
       "\t 김길동 & 남자   & 23     & 3      & 유     & O      & 165.3  & 68.2  \\\\\n",
       "\\end{tabular}\n"
      ],
      "text/markdown": [
       "\n",
       "| name | gender | age | grade | absence | bloodtype | height | weight |\n",
       "|---|---|---|---|---|---|---|---|\n",
       "| 김길동 | 남자   | 23     | 3      | 유     | O      | 165.3  | 68.2   |\n",
       "\n"
      ],
      "text/plain": [
       "  name   gender age grade absence bloodtype height weight\n",
       "1 김길동 남자   23  3     유      O         165.3  68.2  "
      ]
     },
     "metadata": {},
     "output_type": "display_data"
    },
    {
     "data": {
      "text/html": [
       "김길동\n",
       "<details>\n",
       "\t<summary style=display:list-item;cursor:pointer>\n",
       "\t\t<strong>Levels</strong>:\n",
       "\t</summary>\n",
       "\t<ol class=list-inline>\n",
       "\t\t<li>'강수친'</li>\n",
       "\t\t<li>'김길동'</li>\n",
       "\t\t<li>'김동수'</li>\n",
       "\t\t<li>'김미진'</li>\n",
       "\t\t<li>'김민수'</li>\n",
       "\t\t<li>'김철수'</li>\n",
       "\t\t<li>'박미희'</li>\n",
       "\t\t<li>'박수호'</li>\n",
       "\t\t<li>'방희철'</li>\n",
       "\t\t<li>'손세수'</li>\n",
       "\t\t<li>'여수근'</li>\n",
       "\t\t<li>'이미린'</li>\n",
       "\t\t<li>'이철린'</li>\n",
       "\t\t<li>'이희수'</li>\n",
       "\t\t<li>'이희진'</li>\n",
       "\t\t<li>'임동민'</li>\n",
       "\t\t<li>'홍길동'</li>\n",
       "\t</ol>\n",
       "</details>"
      ],
      "text/latex": [
       "김길동\n",
       "\\emph{Levels}: \\begin{enumerate*}\n",
       "\\item '강수친'\n",
       "\\item '김길동'\n",
       "\\item '김동수'\n",
       "\\item '김미진'\n",
       "\\item '김민수'\n",
       "\\item '김철수'\n",
       "\\item '박미희'\n",
       "\\item '박수호'\n",
       "\\item '방희철'\n",
       "\\item '손세수'\n",
       "\\item '여수근'\n",
       "\\item '이미린'\n",
       "\\item '이철린'\n",
       "\\item '이희수'\n",
       "\\item '이희진'\n",
       "\\item '임동민'\n",
       "\\item '홍길동'\n",
       "\\end{enumerate*}\n"
      ],
      "text/markdown": [
       "김길동\n",
       "**Levels**: 1. '강수친'\n",
       "2. '김길동'\n",
       "3. '김동수'\n",
       "4. '김미진'\n",
       "5. '김민수'\n",
       "6. '김철수'\n",
       "7. '박미희'\n",
       "8. '박수호'\n",
       "9. '방희철'\n",
       "10. '손세수'\n",
       "11. '여수근'\n",
       "12. '이미린'\n",
       "13. '이철린'\n",
       "14. '이희수'\n",
       "15. '이희진'\n",
       "16. '임동민'\n",
       "17. '홍길동'\n",
       "\n",
       "\n"
      ],
      "text/plain": [
       "[1] 김길동\n",
       "17 Levels: 강수친 김길동 김동수 김미진 김민수 김철수 박미희 박수호 ... 홍길동"
      ]
     },
     "metadata": {},
     "output_type": "display_data"
    }
   ],
   "source": [
    "df[1,]\n",
    "df[1, 1]  # factor\n",
    "\n",
    "# name\tgender\tage\tgrade\tabsence\tbloodtype\theight\tweight\n",
    "# 김길동\t남자\t23\t3\t유\tO\t165.3\t68.2\n",
    "# 김길동\n",
    "#  Levels:\n",
    "# '강수친' '김길동' '김동수' '김미진' '김민수' '김철수' '박미희' '박수호' '방희철' '손세수' '여수근' '이미린' '이철린' '이희수' '이희진' '임동민' '홍길동'"
   ]
  },
  {
   "cell_type": "code",
   "execution_count": 109,
   "metadata": {},
   "outputs": [
    {
     "data": {
      "text/html": [
       "<table>\n",
       "<thead><tr><th scope=col>name</th><th scope=col>gender</th></tr></thead>\n",
       "<tbody>\n",
       "\t<tr><td>김길동</td><td>남자  </td></tr>\n",
       "\t<tr><td>이미린</td><td>여자  </td></tr>\n",
       "\t<tr><td>홍길동</td><td>남자  </td></tr>\n",
       "\t<tr><td>김철수</td><td>남자  </td></tr>\n",
       "\t<tr><td>손세수</td><td>여자  </td></tr>\n",
       "\t<tr><td>박미희</td><td>여자  </td></tr>\n",
       "\t<tr><td>강수친</td><td>여자  </td></tr>\n",
       "\t<tr><td>이희수</td><td>여자  </td></tr>\n",
       "\t<tr><td>이철린</td><td>남자  </td></tr>\n",
       "\t<tr><td>방희철</td><td>남자  </td></tr>\n",
       "\t<tr><td>박수호</td><td>남자  </td></tr>\n",
       "\t<tr><td>임동민</td><td>남자  </td></tr>\n",
       "\t<tr><td>김민수</td><td>남자  </td></tr>\n",
       "\t<tr><td>이희진</td><td>여자  </td></tr>\n",
       "\t<tr><td>김미진</td><td>여자  </td></tr>\n",
       "\t<tr><td>김동수</td><td>남자  </td></tr>\n",
       "\t<tr><td>여수근</td><td>남자  </td></tr>\n",
       "</tbody>\n",
       "</table>\n"
      ],
      "text/latex": [
       "\\begin{tabular}{r|ll}\n",
       " name & gender\\\\\n",
       "\\hline\n",
       "\t 김길동 & 남자  \\\\\n",
       "\t 이미린 & 여자  \\\\\n",
       "\t 홍길동 & 남자  \\\\\n",
       "\t 김철수 & 남자  \\\\\n",
       "\t 손세수 & 여자  \\\\\n",
       "\t 박미희 & 여자  \\\\\n",
       "\t 강수친 & 여자  \\\\\n",
       "\t 이희수 & 여자  \\\\\n",
       "\t 이철린 & 남자  \\\\\n",
       "\t 방희철 & 남자  \\\\\n",
       "\t 박수호 & 남자  \\\\\n",
       "\t 임동민 & 남자  \\\\\n",
       "\t 김민수 & 남자  \\\\\n",
       "\t 이희진 & 여자  \\\\\n",
       "\t 김미진 & 여자  \\\\\n",
       "\t 김동수 & 남자  \\\\\n",
       "\t 여수근 & 남자  \\\\\n",
       "\\end{tabular}\n"
      ],
      "text/markdown": [
       "\n",
       "| name | gender |\n",
       "|---|---|\n",
       "| 김길동 | 남자   |\n",
       "| 이미린 | 여자   |\n",
       "| 홍길동 | 남자   |\n",
       "| 김철수 | 남자   |\n",
       "| 손세수 | 여자   |\n",
       "| 박미희 | 여자   |\n",
       "| 강수친 | 여자   |\n",
       "| 이희수 | 여자   |\n",
       "| 이철린 | 남자   |\n",
       "| 방희철 | 남자   |\n",
       "| 박수호 | 남자   |\n",
       "| 임동민 | 남자   |\n",
       "| 김민수 | 남자   |\n",
       "| 이희진 | 여자   |\n",
       "| 김미진 | 여자   |\n",
       "| 김동수 | 남자   |\n",
       "| 여수근 | 남자   |\n",
       "\n"
      ],
      "text/plain": [
       "   name   gender\n",
       "1  김길동 남자  \n",
       "2  이미린 여자  \n",
       "3  홍길동 남자  \n",
       "4  김철수 남자  \n",
       "5  손세수 여자  \n",
       "6  박미희 여자  \n",
       "7  강수친 여자  \n",
       "8  이희수 여자  \n",
       "9  이철린 남자  \n",
       "10 방희철 남자  \n",
       "11 박수호 남자  \n",
       "12 임동민 남자  \n",
       "13 김민수 남자  \n",
       "14 이희진 여자  \n",
       "15 김미진 여자  \n",
       "16 김동수 남자  \n",
       "17 여수근 남자  "
      ]
     },
     "metadata": {},
     "output_type": "display_data"
    }
   ],
   "source": [
    "df[c(1, 2)] # 첫번째, 두번째 변수\n",
    "# name\tgender\n",
    "# 김길동\t남자\n",
    "# 이미린\t여자\n",
    "# 홍길동\t남자\n",
    "# 김철수\t남자\n",
    "# 손세수\t여자\n",
    "# 박미희\t여자\n",
    "# 강수친\t여자\n",
    "# 이희수\t여자\n",
    "# 이철린\t남자\n",
    "# 방희철\t남자\n",
    "# 박수호\t남자\n",
    "# 임동민\t남자\n",
    "# 김민수\t남자\n",
    "# 이희진\t여자\n",
    "# 김미진\t여자\n",
    "# 김동수\t남자\n",
    "# 여수근\t남자\n"
   ]
  },
  {
   "cell_type": "code",
   "execution_count": 111,
   "metadata": {},
   "outputs": [
    {
     "data": {
      "text/html": [
       "<ol class=list-inline>\n",
       "\t<li>FALSE</li>\n",
       "\t<li>TRUE</li>\n",
       "\t<li>TRUE</li>\n",
       "\t<li>TRUE</li>\n",
       "\t<li>FALSE</li>\n",
       "\t<li>FALSE</li>\n",
       "\t<li>FALSE</li>\n",
       "\t<li>TRUE</li>\n",
       "\t<li>TRUE</li>\n",
       "\t<li>TRUE</li>\n",
       "\t<li>FALSE</li>\n",
       "\t<li>TRUE</li>\n",
       "\t<li>FALSE</li>\n",
       "\t<li>TRUE</li>\n",
       "\t<li>FALSE</li>\n",
       "\t<li>FALSE</li>\n",
       "\t<li>FALSE</li>\n",
       "</ol>\n"
      ],
      "text/latex": [
       "\\begin{enumerate*}\n",
       "\\item FALSE\n",
       "\\item TRUE\n",
       "\\item TRUE\n",
       "\\item TRUE\n",
       "\\item FALSE\n",
       "\\item FALSE\n",
       "\\item FALSE\n",
       "\\item TRUE\n",
       "\\item TRUE\n",
       "\\item TRUE\n",
       "\\item FALSE\n",
       "\\item TRUE\n",
       "\\item FALSE\n",
       "\\item TRUE\n",
       "\\item FALSE\n",
       "\\item FALSE\n",
       "\\item FALSE\n",
       "\\end{enumerate*}\n"
      ],
      "text/markdown": [
       "1. FALSE\n",
       "2. TRUE\n",
       "3. TRUE\n",
       "4. TRUE\n",
       "5. FALSE\n",
       "6. FALSE\n",
       "7. FALSE\n",
       "8. TRUE\n",
       "9. TRUE\n",
       "10. TRUE\n",
       "11. FALSE\n",
       "12. TRUE\n",
       "13. FALSE\n",
       "14. TRUE\n",
       "15. FALSE\n",
       "16. FALSE\n",
       "17. FALSE\n",
       "\n",
       "\n"
      ],
      "text/plain": [
       " [1] FALSE  TRUE  TRUE  TRUE FALSE FALSE FALSE  TRUE  TRUE  TRUE FALSE  TRUE\n",
       "[13] FALSE  TRUE FALSE FALSE FALSE"
      ]
     },
     "metadata": {},
     "output_type": "display_data"
    },
    {
     "data": {
      "text/html": [
       "'logical'"
      ],
      "text/latex": [
       "'logical'"
      ],
      "text/markdown": [
       "'logical'"
      ],
      "text/plain": [
       "[1] \"logical\""
      ]
     },
     "metadata": {},
     "output_type": "display_data"
    }
   ],
   "source": [
    "# 비교연산\n",
    "ge170 <- df$height >= 170\n",
    "ge170\n",
    "class(ge170)\n",
    "# FALSE TRUE TRUE TRUE FALSE FALSE FALSE TRUE TRUE TRUE FALSE TRUE FALSE TRUE FALSE FALSE FALSE\n",
    "# 'logical'"
   ]
  },
  {
   "cell_type": "code",
   "execution_count": 112,
   "metadata": {},
   "outputs": [
    {
     "data": {
      "text/html": [
       "<table>\n",
       "<thead><tr><th></th><th scope=col>name</th><th scope=col>gender</th><th scope=col>age</th><th scope=col>grade</th><th scope=col>absence</th><th scope=col>bloodtype</th><th scope=col>height</th><th scope=col>weight</th></tr></thead>\n",
       "<tbody>\n",
       "\t<tr><th scope=row>2</th><td>이미린</td><td>여자  </td><td>22    </td><td>2     </td><td>무    </td><td>AB    </td><td>170.1 </td><td>53.0  </td></tr>\n",
       "\t<tr><th scope=row>3</th><td>홍길동</td><td>남자  </td><td>24    </td><td>4     </td><td>무    </td><td>B     </td><td>175.0 </td><td>80.1  </td></tr>\n",
       "\t<tr><th scope=row>4</th><td>김철수</td><td>남자  </td><td>23    </td><td>3     </td><td>무    </td><td>AB    </td><td>182.1 </td><td>85.7  </td></tr>\n",
       "\t<tr><th scope=row>8</th><td>이희수</td><td>여자  </td><td>23    </td><td>1     </td><td>무    </td><td>A     </td><td>176.9 </td><td>55.0  </td></tr>\n",
       "\t<tr><th scope=row>9</th><td>이철린</td><td>남자  </td><td>23    </td><td>3     </td><td>무    </td><td>B     </td><td>178.5 </td><td>64.2  </td></tr>\n",
       "\t<tr><th scope=row>10</th><td>방희철</td><td>남자  </td><td>22    </td><td>2     </td><td>무    </td><td>B     </td><td>176.1 </td><td>61.3  </td></tr>\n",
       "\t<tr><th scope=row>12</th><td>임동민</td><td>남자  </td><td>22    </td><td>2     </td><td>무    </td><td>AB    </td><td>180.0 </td><td>75.8  </td></tr>\n",
       "\t<tr><th scope=row>14</th><td>이희진</td><td>여자  </td><td>23    </td><td>3     </td><td>무    </td><td>O     </td><td>176.1 </td><td>53.1  </td></tr>\n",
       "</tbody>\n",
       "</table>\n"
      ],
      "text/latex": [
       "\\begin{tabular}{r|llllllll}\n",
       "  & name & gender & age & grade & absence & bloodtype & height & weight\\\\\n",
       "\\hline\n",
       "\t2 & 이미린 & 여자   & 22     & 2      & 무     & AB     & 170.1  & 53.0  \\\\\n",
       "\t3 & 홍길동 & 남자   & 24     & 4      & 무     & B      & 175.0  & 80.1  \\\\\n",
       "\t4 & 김철수 & 남자   & 23     & 3      & 무     & AB     & 182.1  & 85.7  \\\\\n",
       "\t8 & 이희수 & 여자   & 23     & 1      & 무     & A      & 176.9  & 55.0  \\\\\n",
       "\t9 & 이철린 & 남자   & 23     & 3      & 무     & B      & 178.5  & 64.2  \\\\\n",
       "\t10 & 방희철 & 남자   & 22     & 2      & 무     & B      & 176.1  & 61.3  \\\\\n",
       "\t12 & 임동민 & 남자   & 22     & 2      & 무     & AB     & 180.0  & 75.8  \\\\\n",
       "\t14 & 이희진 & 여자   & 23     & 3      & 무     & O      & 176.1  & 53.1  \\\\\n",
       "\\end{tabular}\n"
      ],
      "text/markdown": [
       "\n",
       "| <!--/--> | name | gender | age | grade | absence | bloodtype | height | weight |\n",
       "|---|---|---|---|---|---|---|---|---|\n",
       "| 2 | 이미린 | 여자   | 22     | 2      | 무     | AB     | 170.1  | 53.0   |\n",
       "| 3 | 홍길동 | 남자   | 24     | 4      | 무     | B      | 175.0  | 80.1   |\n",
       "| 4 | 김철수 | 남자   | 23     | 3      | 무     | AB     | 182.1  | 85.7   |\n",
       "| 8 | 이희수 | 여자   | 23     | 1      | 무     | A      | 176.9  | 55.0   |\n",
       "| 9 | 이철린 | 남자   | 23     | 3      | 무     | B      | 178.5  | 64.2   |\n",
       "| 10 | 방희철 | 남자   | 22     | 2      | 무     | B      | 176.1  | 61.3   |\n",
       "| 12 | 임동민 | 남자   | 22     | 2      | 무     | AB     | 180.0  | 75.8   |\n",
       "| 14 | 이희진 | 여자   | 23     | 3      | 무     | O      | 176.1  | 53.1   |\n",
       "\n"
      ],
      "text/plain": [
       "   name   gender age grade absence bloodtype height weight\n",
       "2  이미린 여자   22  2     무      AB        170.1  53.0  \n",
       "3  홍길동 남자   24  4     무      B         175.0  80.1  \n",
       "4  김철수 남자   23  3     무      AB        182.1  85.7  \n",
       "8  이희수 여자   23  1     무      A         176.9  55.0  \n",
       "9  이철린 남자   23  3     무      B         178.5  64.2  \n",
       "10 방희철 남자   22  2     무      B         176.1  61.3  \n",
       "12 임동민 남자   22  2     무      AB        180.0  75.8  \n",
       "14 이희진 여자   23  3     무      O         176.1  53.1  "
      ]
     },
     "metadata": {},
     "output_type": "display_data"
    }
   ],
   "source": [
    "# subset(Dataframe, subset=(조건: 참/거짓))\n",
    "stu <- subset(df, subset=(height >= 170))\n",
    "stu\n",
    "\n",
    "# name\tgender\tage\tgrade\tabsence\tbloodtype\theight\tweight\n",
    "# 2\t이미린\t여자\t22\t2\t무\tAB\t170.1\t53.0\n",
    "# 3\t홍길동\t남자\t24\t4\t무\tB\t175.0\t80.1\n",
    "# 4\t김철수\t남자\t23\t3\t무\tAB\t182.1\t85.7\n",
    "# 8\t이희수\t여자\t23\t1\t무\tA\t176.9\t55.0\n",
    "# 9\t이철린\t남자\t23\t3\t무\tB\t178.5\t64.2\n",
    "# 10\t방희철\t남자\t22\t2\t무\tB\t176.1\t61.3\n",
    "# 12\t임동민\t남자\t22\t2\t무\tAB\t180.0\t75.8\n",
    "# 14\t이희진\t여자\t23\t3\t무\tO\t176.1\t53.1\n"
   ]
  },
  {
   "cell_type": "code",
   "execution_count": 113,
   "metadata": {},
   "outputs": [
    {
     "data": {
      "text/html": [
       "<table>\n",
       "<thead><tr><th></th><th scope=col>name</th><th scope=col>gender</th><th scope=col>height</th><th scope=col>weight</th></tr></thead>\n",
       "<tbody>\n",
       "\t<tr><th scope=row>2</th><td>이미린</td><td>여자  </td><td>170.1 </td><td>53.0  </td></tr>\n",
       "\t<tr><th scope=row>3</th><td>홍길동</td><td>남자  </td><td>175.0 </td><td>80.1  </td></tr>\n",
       "\t<tr><th scope=row>4</th><td>김철수</td><td>남자  </td><td>182.1 </td><td>85.7  </td></tr>\n",
       "\t<tr><th scope=row>8</th><td>이희수</td><td>여자  </td><td>176.9 </td><td>55.0  </td></tr>\n",
       "\t<tr><th scope=row>9</th><td>이철린</td><td>남자  </td><td>178.5 </td><td>64.2  </td></tr>\n",
       "\t<tr><th scope=row>10</th><td>방희철</td><td>남자  </td><td>176.1 </td><td>61.3  </td></tr>\n",
       "\t<tr><th scope=row>12</th><td>임동민</td><td>남자  </td><td>180.0 </td><td>75.8  </td></tr>\n",
       "\t<tr><th scope=row>14</th><td>이희진</td><td>여자  </td><td>176.1 </td><td>53.1  </td></tr>\n",
       "</tbody>\n",
       "</table>\n"
      ],
      "text/latex": [
       "\\begin{tabular}{r|llll}\n",
       "  & name & gender & height & weight\\\\\n",
       "\\hline\n",
       "\t2 & 이미린 & 여자   & 170.1  & 53.0  \\\\\n",
       "\t3 & 홍길동 & 남자   & 175.0  & 80.1  \\\\\n",
       "\t4 & 김철수 & 남자   & 182.1  & 85.7  \\\\\n",
       "\t8 & 이희수 & 여자   & 176.9  & 55.0  \\\\\n",
       "\t9 & 이철린 & 남자   & 178.5  & 64.2  \\\\\n",
       "\t10 & 방희철 & 남자   & 176.1  & 61.3  \\\\\n",
       "\t12 & 임동민 & 남자   & 180.0  & 75.8  \\\\\n",
       "\t14 & 이희진 & 여자   & 176.1  & 53.1  \\\\\n",
       "\\end{tabular}\n"
      ],
      "text/markdown": [
       "\n",
       "| <!--/--> | name | gender | height | weight |\n",
       "|---|---|---|---|---|\n",
       "| 2 | 이미린 | 여자   | 170.1  | 53.0   |\n",
       "| 3 | 홍길동 | 남자   | 175.0  | 80.1   |\n",
       "| 4 | 김철수 | 남자   | 182.1  | 85.7   |\n",
       "| 8 | 이희수 | 여자   | 176.9  | 55.0   |\n",
       "| 9 | 이철린 | 남자   | 178.5  | 64.2   |\n",
       "| 10 | 방희철 | 남자   | 176.1  | 61.3   |\n",
       "| 12 | 임동민 | 남자   | 180.0  | 75.8   |\n",
       "| 14 | 이희진 | 여자   | 176.1  | 53.1   |\n",
       "\n"
      ],
      "text/plain": [
       "   name   gender height weight\n",
       "2  이미린 여자   170.1  53.0  \n",
       "3  홍길동 남자   175.0  80.1  \n",
       "4  김철수 남자   182.1  85.7  \n",
       "8  이희수 여자   176.9  55.0  \n",
       "9  이철린 남자   178.5  64.2  \n",
       "10 방희철 남자   176.1  61.3  \n",
       "12 임동민 남자   180.0  75.8  \n",
       "14 이희진 여자   176.1  53.1  "
      ]
     },
     "metadata": {},
     "output_type": "display_data"
    }
   ],
   "source": [
    "# -는 뺀다는 의미\n",
    "stu2 <- subset(stu, select=c(-age, -grade, -absence, -bloodtype))\n",
    "stu2\n",
    "# name\tgender\theight\tweight\n",
    "# 2\t이미린\t여자\t170.1\t53.0\n",
    "# 3\t홍길동\t남자\t175.0\t80.1\n",
    "# 4\t김철수\t남자\t182.1\t85.7\n",
    "# 8\t이희수\t여자\t176.9\t55.0\n",
    "# 9\t이철린\t남자\t178.5\t64.2\n",
    "# 10\t방희철\t남자\t176.1\t61.3\n",
    "# 12\t임동민\t남자\t180.0\t75.8\n",
    "# 14\t이희진\t여자\t176.1\t53.1\n"
   ]
  },
  {
   "cell_type": "code",
   "execution_count": 115,
   "metadata": {},
   "outputs": [
    {
     "data": {
      "text/html": [
       "<ol class=list-inline>\n",
       "\t<li>'name'</li>\n",
       "\t<li>'gender'</li>\n",
       "\t<li>'age'</li>\n",
       "\t<li>'grade'</li>\n",
       "\t<li>'absence'</li>\n",
       "\t<li>'bloodtype'</li>\n",
       "\t<li>'height'</li>\n",
       "\t<li>'weight'</li>\n",
       "</ol>\n"
      ],
      "text/latex": [
       "\\begin{enumerate*}\n",
       "\\item 'name'\n",
       "\\item 'gender'\n",
       "\\item 'age'\n",
       "\\item 'grade'\n",
       "\\item 'absence'\n",
       "\\item 'bloodtype'\n",
       "\\item 'height'\n",
       "\\item 'weight'\n",
       "\\end{enumerate*}\n"
      ],
      "text/markdown": [
       "1. 'name'\n",
       "2. 'gender'\n",
       "3. 'age'\n",
       "4. 'grade'\n",
       "5. 'absence'\n",
       "6. 'bloodtype'\n",
       "7. 'height'\n",
       "8. 'weight'\n",
       "\n",
       "\n"
      ],
      "text/plain": [
       "[1] \"name\"      \"gender\"    \"age\"       \"grade\"     \"absence\"   \"bloodtype\"\n",
       "[7] \"height\"    \"weight\"   "
      ]
     },
     "metadata": {},
     "output_type": "display_data"
    },
    {
     "data": {
      "text/html": [
       "'name'"
      ],
      "text/latex": [
       "'name'"
      ],
      "text/markdown": [
       "'name'"
      ],
      "text/plain": [
       "[1] \"name\""
      ]
     },
     "metadata": {},
     "output_type": "display_data"
    }
   ],
   "source": [
    "colnames(df)\n",
    "colnames(df)[1]\n",
    "# 'name' 'gender' 'age' 'grade' 'absence' 'bloodtype' 'height' 'weight'\n",
    "# 'name'"
   ]
  },
  {
   "cell_type": "code",
   "execution_count": 116,
   "metadata": {},
   "outputs": [
    {
     "data": {
      "text/html": [
       "<ol class=list-inline>\n",
       "\t<li>24.9596601387274</li>\n",
       "\t<li>18.3175439560573</li>\n",
       "\t<li>26.1551020408163</li>\n",
       "\t<li>25.844071288624</li>\n",
       "\t<li>17.5382653061225</li>\n",
       "\t<li>19.8140527358634</li>\n",
       "\t<li>18.8067940269954</li>\n",
       "\t<li>17.5754730758132</li>\n",
       "\t<li>20.1492361650543</li>\n",
       "\t<li>19.7670455296649</li>\n",
       "\t<li>22.2043870854987</li>\n",
       "\t<li>23.3950617283951</li>\n",
       "\t<li>21.0195508429866</li>\n",
       "\t<li>17.1228404180295</li>\n",
       "\t<li>18.0603214737222</li>\n",
       "\t<li>24.6957358696065</li>\n",
       "\t<li>21.726494866679</li>\n",
       "</ol>\n"
      ],
      "text/latex": [
       "\\begin{enumerate*}\n",
       "\\item 24.9596601387274\n",
       "\\item 18.3175439560573\n",
       "\\item 26.1551020408163\n",
       "\\item 25.844071288624\n",
       "\\item 17.5382653061225\n",
       "\\item 19.8140527358634\n",
       "\\item 18.8067940269954\n",
       "\\item 17.5754730758132\n",
       "\\item 20.1492361650543\n",
       "\\item 19.7670455296649\n",
       "\\item 22.2043870854987\n",
       "\\item 23.3950617283951\n",
       "\\item 21.0195508429866\n",
       "\\item 17.1228404180295\n",
       "\\item 18.0603214737222\n",
       "\\item 24.6957358696065\n",
       "\\item 21.726494866679\n",
       "\\end{enumerate*}\n"
      ],
      "text/markdown": [
       "1. 24.9596601387274\n",
       "2. 18.3175439560573\n",
       "3. 26.1551020408163\n",
       "4. 25.844071288624\n",
       "5. 17.5382653061225\n",
       "6. 19.8140527358634\n",
       "7. 18.8067940269954\n",
       "8. 17.5754730758132\n",
       "9. 20.1492361650543\n",
       "10. 19.7670455296649\n",
       "11. 22.2043870854987\n",
       "12. 23.3950617283951\n",
       "13. 21.0195508429866\n",
       "14. 17.1228404180295\n",
       "15. 18.0603214737222\n",
       "16. 24.6957358696065\n",
       "17. 21.726494866679\n",
       "\n",
       "\n"
      ],
      "text/plain": [
       " [1] 24.95966 18.31754 26.15510 25.84407 17.53827 19.81405 18.80679 17.57547\n",
       " [9] 20.14924 19.76705 22.20439 23.39506 21.01955 17.12284 18.06032 24.69574\n",
       "[17] 21.72649"
      ]
     },
     "metadata": {},
     "output_type": "display_data"
    }
   ],
   "source": [
    "bmi <- df$weight / ((df$height/100) ** 2)  # 체중 (kg) / (신장 (m)/100)²\n",
    "bmi\n",
    "# 모든 학생에 대한 bmi\n",
    "# 24.9596601387274 18.3175439560573 26.1551020408163 25.844071288624 17.5382653061225 19.8140527358634 18.8067940269954 17.5754730758132 20.1492361650543 19.7670455296649 22.2043870854987 23.3950617283951 21.0195508429866 17.1228404180295 18.0603214737222 24.6957358696065 21.726494866679"
   ]
  },
  {
   "cell_type": "code",
   "execution_count": 118,
   "metadata": {},
   "outputs": [
    {
     "data": {
      "text/html": [
       "<table>\n",
       "<thead><tr><th scope=col>name</th><th scope=col>gender</th><th scope=col>height</th><th scope=col>weight</th><th scope=col>bmi</th></tr></thead>\n",
       "<tbody>\n",
       "\t<tr><td>김길동  </td><td>남자    </td><td>165.3   </td><td>68.2    </td><td>24.95966</td></tr>\n",
       "\t<tr><td>이미린  </td><td>여자    </td><td>170.1   </td><td>53.0    </td><td>18.31754</td></tr>\n",
       "\t<tr><td>홍길동  </td><td>남자    </td><td>175.0   </td><td>80.1    </td><td>26.15510</td></tr>\n",
       "\t<tr><td>김철수  </td><td>남자    </td><td>182.1   </td><td>85.7    </td><td>25.84407</td></tr>\n",
       "\t<tr><td>손세수  </td><td>여자    </td><td>168.0   </td><td>49.5    </td><td>17.53827</td></tr>\n",
       "\t<tr><td>박미희  </td><td>여자    </td><td>162.0   </td><td>52.0    </td><td>19.81405</td></tr>\n",
       "</tbody>\n",
       "</table>\n"
      ],
      "text/latex": [
       "\\begin{tabular}{r|lllll}\n",
       " name & gender & height & weight & bmi\\\\\n",
       "\\hline\n",
       "\t 김길동   & 남자     & 165.3    & 68.2     & 24.95966\\\\\n",
       "\t 이미린   & 여자     & 170.1    & 53.0     & 18.31754\\\\\n",
       "\t 홍길동   & 남자     & 175.0    & 80.1     & 26.15510\\\\\n",
       "\t 김철수   & 남자     & 182.1    & 85.7     & 25.84407\\\\\n",
       "\t 손세수   & 여자     & 168.0    & 49.5     & 17.53827\\\\\n",
       "\t 박미희   & 여자     & 162.0    & 52.0     & 19.81405\\\\\n",
       "\\end{tabular}\n"
      ],
      "text/markdown": [
       "\n",
       "| name | gender | height | weight | bmi |\n",
       "|---|---|---|---|---|\n",
       "| 김길동   | 남자     | 165.3    | 68.2     | 24.95966 |\n",
       "| 이미린   | 여자     | 170.1    | 53.0     | 18.31754 |\n",
       "| 홍길동   | 남자     | 175.0    | 80.1     | 26.15510 |\n",
       "| 김철수   | 남자     | 182.1    | 85.7     | 25.84407 |\n",
       "| 손세수   | 여자     | 168.0    | 49.5     | 17.53827 |\n",
       "| 박미희   | 여자     | 162.0    | 52.0     | 19.81405 |\n",
       "\n"
      ],
      "text/plain": [
       "  name   gender height weight bmi     \n",
       "1 김길동 남자   165.3  68.2   24.95966\n",
       "2 이미린 여자   170.1  53.0   18.31754\n",
       "3 홍길동 남자   175.0  80.1   26.15510\n",
       "4 김철수 남자   182.1  85.7   25.84407\n",
       "5 손세수 여자   168.0  49.5   17.53827\n",
       "6 박미희 여자   162.0  52.0   19.81405"
      ]
     },
     "metadata": {},
     "output_type": "display_data"
    }
   ],
   "source": [
    "stu <- subset(df, select=c(-age, -grade, -absence, -bloodtype))\n",
    "stu <- cbind(stu, bmi) # bmi 컬럼 추가\n",
    "head(stu)  # 6건\n",
    "# name\tgender\theight\tweight\tbmi\n",
    "# 김길동\t남자\t165.3\t68.2\t24.95966\n",
    "# 이미린\t여자\t170.1\t53.0\t18.31754\n",
    "# 홍길동\t남자\t175.0\t80.1\t26.15510\n",
    "# 김철수\t남자\t182.1\t85.7\t25.84407\n",
    "# 손세수\t여자\t168.0\t49.5\t17.53827\n",
    "# 박미희\t여자\t162.0\t52.0\t19.81405"
   ]
  },
  {
   "cell_type": "code",
   "execution_count": 36,
   "metadata": {},
   "outputs": [],
   "source": [
    "# 데이터 파일 결합\n",
    "stu <- read.csv('studentlist.csv', fileEncoding='utf-8', encoding='utf-8')\n",
    "foot <- read.csv('footsize.csv', fileEncoding='utf-8', encoding='utf-8')"
   ]
  },
  {
   "cell_type": "code",
   "execution_count": 37,
   "metadata": {},
   "outputs": [
    {
     "name": "stdout",
     "output_type": "stream",
     "text": [
      "'data.frame':\t17 obs. of  8 variables:\n",
      " $ name     : Factor w/ 17 levels \"강수친\",\"김길동\",..: 2 12 17 6 10 7 1 14 13 9 ...\n",
      " $ gender   : Factor w/ 2 levels \"남자\",\"여자\": 1 2 1 1 2 2 2 2 1 1 ...\n",
      " $ age      : int  23 22 24 23 20 21 22 23 23 22 ...\n",
      " $ grade    : int  3 2 4 3 1 2 1 1 3 2 ...\n",
      " $ absence  : Factor w/ 2 levels \"무\",\"유\": 2 1 1 1 2 1 1 1 1 1 ...\n",
      " $ bloodtype: Factor w/ 4 levels \"A\",\"AB\",\"B\",\"O\": 4 2 3 2 1 4 4 1 3 3 ...\n",
      " $ height   : num  165 170 175 182 168 ...\n",
      " $ weight   : num  68.2 53 80.1 85.7 49.5 52 45.3 55 64.2 61.3 ...\n",
      "'data.frame':\t17 obs. of  2 variables:\n",
      " $ name    : Factor w/ 17 levels \"강수친\",\"김길동\",..: 1 2 3 4 5 6 7 8 9 10 ...\n",
      " $ footsize: int  245 270 265 235 270 280 240 NA 275 240 ...\n"
     ]
    }
   ],
   "source": [
    "str(stu)\n",
    "str(foot)\n",
    "# 'data.frame':\t17 obs. of  8 variables:\n",
    "#  $ name     : Factor w/ 17 levels \"강수친\",\"김길동\",..: 2 12 17 6 10 7 1 14 13 9 ...\n",
    "#  $ gender   : Factor w/ 2 levels \"남자\",\"여자\": 1 2 1 1 2 2 2 2 1 1 ...\n",
    "#  $ age      : int  23 22 24 23 20 21 22 23 23 22 ...\n",
    "#  $ grade    : int  3 2 4 3 1 2 1 1 3 2 ...\n",
    "#  $ absence  : Factor w/ 2 levels \"무\",\"유\": 2 1 1 1 2 1 1 1 1 1 ...\n",
    "#  $ bloodtype: Factor w/ 4 levels \"A\",\"AB\",\"B\",\"O\": 4 2 3 2 1 4 4 1 3 3 ...\n",
    "#  $ height   : num  165 170 175 182 168 ...\n",
    "#  $ weight   : num  68.2 53 80.1 85.7 49.5 52 45.3 55 64.2 61.3 ...\n",
    "# 'data.frame':\t17 obs. of  2 variables:\n",
    "#  $ name    : Factor w/ 17 levels \"강수친\",\"김길동\",..: 1 2 3 4 5 6 7 8 9 10 ...\n",
    "#  $ footsize: int  245 270 265 235 270 280 240 NA 275 240 ..."
   ]
  },
  {
   "cell_type": "code",
   "execution_count": 38,
   "metadata": {},
   "outputs": [
    {
     "data": {
      "text/html": [
       "<table>\n",
       "<thead><tr><th scope=col>name</th><th scope=col>gender</th><th scope=col>age</th><th scope=col>grade</th><th scope=col>absence</th><th scope=col>bloodtype</th><th scope=col>height</th><th scope=col>weight</th><th scope=col>footsize</th></tr></thead>\n",
       "<tbody>\n",
       "\t<tr><td>강수친</td><td>여자  </td><td>22    </td><td>1     </td><td>무    </td><td>O     </td><td>155.2 </td><td>45.3  </td><td>245   </td></tr>\n",
       "\t<tr><td>김길동</td><td>남자  </td><td>23    </td><td>3     </td><td>유    </td><td>O     </td><td>165.3 </td><td>68.2  </td><td>270   </td></tr>\n",
       "\t<tr><td>김동수</td><td>남자  </td><td>24    </td><td>4     </td><td>유    </td><td>B     </td><td>168.6 </td><td>70.2  </td><td>265   </td></tr>\n",
       "\t<tr><td>김미진</td><td>여자  </td><td>22    </td><td>2     </td><td>무    </td><td>B     </td><td>158.2 </td><td>45.2  </td><td>235   </td></tr>\n",
       "\t<tr><td>김민수</td><td>남자  </td><td>21    </td><td>1     </td><td>무    </td><td>A     </td><td>162.2 </td><td>55.3  </td><td>270   </td></tr>\n",
       "\t<tr><td>김철수</td><td>남자  </td><td>23    </td><td>3     </td><td>무    </td><td>AB    </td><td>182.1 </td><td>85.7  </td><td>280   </td></tr>\n",
       "</tbody>\n",
       "</table>\n"
      ],
      "text/latex": [
       "\\begin{tabular}{r|lllllllll}\n",
       " name & gender & age & grade & absence & bloodtype & height & weight & footsize\\\\\n",
       "\\hline\n",
       "\t 강수친 & 여자   & 22     & 1      & 무     & O      & 155.2  & 45.3   & 245   \\\\\n",
       "\t 김길동 & 남자   & 23     & 3      & 유     & O      & 165.3  & 68.2   & 270   \\\\\n",
       "\t 김동수 & 남자   & 24     & 4      & 유     & B      & 168.6  & 70.2   & 265   \\\\\n",
       "\t 김미진 & 여자   & 22     & 2      & 무     & B      & 158.2  & 45.2   & 235   \\\\\n",
       "\t 김민수 & 남자   & 21     & 1      & 무     & A      & 162.2  & 55.3   & 270   \\\\\n",
       "\t 김철수 & 남자   & 23     & 3      & 무     & AB     & 182.1  & 85.7   & 280   \\\\\n",
       "\\end{tabular}\n"
      ],
      "text/markdown": [
       "\n",
       "| name | gender | age | grade | absence | bloodtype | height | weight | footsize |\n",
       "|---|---|---|---|---|---|---|---|---|\n",
       "| 강수친 | 여자   | 22     | 1      | 무     | O      | 155.2  | 45.3   | 245    |\n",
       "| 김길동 | 남자   | 23     | 3      | 유     | O      | 165.3  | 68.2   | 270    |\n",
       "| 김동수 | 남자   | 24     | 4      | 유     | B      | 168.6  | 70.2   | 265    |\n",
       "| 김미진 | 여자   | 22     | 2      | 무     | B      | 158.2  | 45.2   | 235    |\n",
       "| 김민수 | 남자   | 21     | 1      | 무     | A      | 162.2  | 55.3   | 270    |\n",
       "| 김철수 | 남자   | 23     | 3      | 무     | AB     | 182.1  | 85.7   | 280    |\n",
       "\n"
      ],
      "text/plain": [
       "  name   gender age grade absence bloodtype height weight footsize\n",
       "1 강수친 여자   22  1     무      O         155.2  45.3   245     \n",
       "2 김길동 남자   23  3     유      O         165.3  68.2   270     \n",
       "3 김동수 남자   24  4     유      B         168.6  70.2   265     \n",
       "4 김미진 여자   22  2     무      B         158.2  45.2   235     \n",
       "5 김민수 남자   21  1     무      A         162.2  55.3   270     \n",
       "6 김철수 남자   23  3     무      AB        182.1  85.7   280     "
      ]
     },
     "metadata": {},
     "output_type": "display_data"
    }
   ],
   "source": [
    "stu_foot <- merge(stu, foot, by='name') # name이 같은 관측치를 결합\n",
    "head(stu_foot)\n",
    "# name\tgender\tage\tgrade\tabsence\tbloodtype\theight\tweight\tfootsize\n",
    "# 강수친\t여자\t22\t1\t무\tO\t155.2\t45.3\t245\n",
    "# 김길동\t남자\t23\t3\t유\tO\t165.3\t68.2\t270\n",
    "# 김동수\t남자\t24\t4\t유\tB\t168.6\t70.2\t265\n",
    "# 김미진\t여자\t22\t2\t무\tB\t158.2\t45.2\t235\n",
    "# 김민수\t남자\t21\t1\t무\tA\t162.2\t55.3\t270\n",
    "# 김철수\t남자\t23\t3\t무\tAB\t182.1\t85.7\t280\n"
   ]
  },
  {
   "cell_type": "code",
   "execution_count": 123,
   "metadata": {},
   "outputs": [
    {
     "data": {
      "text/html": [
       "<table>\n",
       "<thead><tr><th scope=col>name</th><th scope=col>gender</th><th scope=col>age</th><th scope=col>grade</th><th scope=col>absence</th><th scope=col>bloodtype</th><th scope=col>height</th><th scope=col>weight</th><th scope=col>footsize</th></tr></thead>\n",
       "<tbody>\n",
       "\t<tr><td>강수친</td><td>여자  </td><td>22    </td><td>1     </td><td>무    </td><td>O     </td><td>155.2 </td><td>45.3  </td><td>245   </td></tr>\n",
       "\t<tr><td>김길동</td><td>남자  </td><td>23    </td><td>3     </td><td>유    </td><td>O     </td><td>165.3 </td><td>68.2  </td><td>270   </td></tr>\n",
       "\t<tr><td>김동수</td><td>남자  </td><td>24    </td><td>4     </td><td>유    </td><td>B     </td><td>168.6 </td><td>70.2  </td><td>265   </td></tr>\n",
       "\t<tr><td>김미진</td><td>여자  </td><td>22    </td><td>2     </td><td>무    </td><td>B     </td><td>158.2 </td><td>45.2  </td><td>235   </td></tr>\n",
       "\t<tr><td>김민수</td><td>남자  </td><td>21    </td><td>1     </td><td>무    </td><td>A     </td><td>162.2 </td><td>55.3  </td><td>270   </td></tr>\n",
       "\t<tr><td>김철수</td><td>남자  </td><td>23    </td><td>3     </td><td>무    </td><td>AB    </td><td>182.1 </td><td>85.7  </td><td>280   </td></tr>\n",
       "\t<tr><td>박미희</td><td>여자  </td><td>21    </td><td>2     </td><td>무    </td><td>O     </td><td>162.0 </td><td>52.0  </td><td>240   </td></tr>\n",
       "\t<tr><td>박수호</td><td>남자  </td><td>24    </td><td>4     </td><td>유    </td><td>O     </td><td>167.1 </td><td>62.0  </td><td> NA   </td></tr>\n",
       "\t<tr><td>방희철</td><td>남자  </td><td>22    </td><td>2     </td><td>무    </td><td>B     </td><td>176.1 </td><td>61.3  </td><td>275   </td></tr>\n",
       "\t<tr><td>손세수</td><td>여자  </td><td>20    </td><td>1     </td><td>유    </td><td>A     </td><td>168.0 </td><td>49.5  </td><td>240   </td></tr>\n",
       "\t<tr><td>여수근</td><td>남자  </td><td>21    </td><td>1     </td><td>무    </td><td>A     </td><td>169.2 </td><td>62.2  </td><td>265   </td></tr>\n",
       "\t<tr><td>이미린</td><td>여자  </td><td>22    </td><td>2     </td><td>무    </td><td>AB    </td><td>170.1 </td><td>53.0  </td><td>245   </td></tr>\n",
       "\t<tr><td>이철린</td><td>남자  </td><td>23    </td><td>3     </td><td>무    </td><td>B     </td><td>178.5 </td><td>64.2  </td><td> NA   </td></tr>\n",
       "\t<tr><td>이희수</td><td>여자  </td><td>23    </td><td>1     </td><td>무    </td><td>A     </td><td>176.9 </td><td>55.0  </td><td>245   </td></tr>\n",
       "\t<tr><td>이희진</td><td>여자  </td><td>23    </td><td>3     </td><td>무    </td><td>O     </td><td>176.1 </td><td>53.1  </td><td>245   </td></tr>\n",
       "\t<tr><td>임동민</td><td>남자  </td><td>22    </td><td>2     </td><td>무    </td><td>AB    </td><td>180.0 </td><td>75.8  </td><td>280   </td></tr>\n",
       "\t<tr><td>홍길동</td><td>남자  </td><td>24    </td><td>4     </td><td>무    </td><td>B     </td><td>175.0 </td><td>80.1  </td><td>275   </td></tr>\n",
       "</tbody>\n",
       "</table>\n"
      ],
      "text/latex": [
       "\\begin{tabular}{r|lllllllll}\n",
       " name & gender & age & grade & absence & bloodtype & height & weight & footsize\\\\\n",
       "\\hline\n",
       "\t 강수친 & 여자   & 22     & 1      & 무     & O      & 155.2  & 45.3   & 245   \\\\\n",
       "\t 김길동 & 남자   & 23     & 3      & 유     & O      & 165.3  & 68.2   & 270   \\\\\n",
       "\t 김동수 & 남자   & 24     & 4      & 유     & B      & 168.6  & 70.2   & 265   \\\\\n",
       "\t 김미진 & 여자   & 22     & 2      & 무     & B      & 158.2  & 45.2   & 235   \\\\\n",
       "\t 김민수 & 남자   & 21     & 1      & 무     & A      & 162.2  & 55.3   & 270   \\\\\n",
       "\t 김철수 & 남자   & 23     & 3      & 무     & AB     & 182.1  & 85.7   & 280   \\\\\n",
       "\t 박미희 & 여자   & 21     & 2      & 무     & O      & 162.0  & 52.0   & 240   \\\\\n",
       "\t 박수호 & 남자   & 24     & 4      & 유     & O      & 167.1  & 62.0   &  NA   \\\\\n",
       "\t 방희철 & 남자   & 22     & 2      & 무     & B      & 176.1  & 61.3   & 275   \\\\\n",
       "\t 손세수 & 여자   & 20     & 1      & 유     & A      & 168.0  & 49.5   & 240   \\\\\n",
       "\t 여수근 & 남자   & 21     & 1      & 무     & A      & 169.2  & 62.2   & 265   \\\\\n",
       "\t 이미린 & 여자   & 22     & 2      & 무     & AB     & 170.1  & 53.0   & 245   \\\\\n",
       "\t 이철린 & 남자   & 23     & 3      & 무     & B      & 178.5  & 64.2   &  NA   \\\\\n",
       "\t 이희수 & 여자   & 23     & 1      & 무     & A      & 176.9  & 55.0   & 245   \\\\\n",
       "\t 이희진 & 여자   & 23     & 3      & 무     & O      & 176.1  & 53.1   & 245   \\\\\n",
       "\t 임동민 & 남자   & 22     & 2      & 무     & AB     & 180.0  & 75.8   & 280   \\\\\n",
       "\t 홍길동 & 남자   & 24     & 4      & 무     & B      & 175.0  & 80.1   & 275   \\\\\n",
       "\\end{tabular}\n"
      ],
      "text/markdown": [
       "\n",
       "| name | gender | age | grade | absence | bloodtype | height | weight | footsize |\n",
       "|---|---|---|---|---|---|---|---|---|\n",
       "| 강수친 | 여자   | 22     | 1      | 무     | O      | 155.2  | 45.3   | 245    |\n",
       "| 김길동 | 남자   | 23     | 3      | 유     | O      | 165.3  | 68.2   | 270    |\n",
       "| 김동수 | 남자   | 24     | 4      | 유     | B      | 168.6  | 70.2   | 265    |\n",
       "| 김미진 | 여자   | 22     | 2      | 무     | B      | 158.2  | 45.2   | 235    |\n",
       "| 김민수 | 남자   | 21     | 1      | 무     | A      | 162.2  | 55.3   | 270    |\n",
       "| 김철수 | 남자   | 23     | 3      | 무     | AB     | 182.1  | 85.7   | 280    |\n",
       "| 박미희 | 여자   | 21     | 2      | 무     | O      | 162.0  | 52.0   | 240    |\n",
       "| 박수호 | 남자   | 24     | 4      | 유     | O      | 167.1  | 62.0   |  NA    |\n",
       "| 방희철 | 남자   | 22     | 2      | 무     | B      | 176.1  | 61.3   | 275    |\n",
       "| 손세수 | 여자   | 20     | 1      | 유     | A      | 168.0  | 49.5   | 240    |\n",
       "| 여수근 | 남자   | 21     | 1      | 무     | A      | 169.2  | 62.2   | 265    |\n",
       "| 이미린 | 여자   | 22     | 2      | 무     | AB     | 170.1  | 53.0   | 245    |\n",
       "| 이철린 | 남자   | 23     | 3      | 무     | B      | 178.5  | 64.2   |  NA    |\n",
       "| 이희수 | 여자   | 23     | 1      | 무     | A      | 176.9  | 55.0   | 245    |\n",
       "| 이희진 | 여자   | 23     | 3      | 무     | O      | 176.1  | 53.1   | 245    |\n",
       "| 임동민 | 남자   | 22     | 2      | 무     | AB     | 180.0  | 75.8   | 280    |\n",
       "| 홍길동 | 남자   | 24     | 4      | 무     | B      | 175.0  | 80.1   | 275    |\n",
       "\n"
      ],
      "text/plain": [
       "   name   gender age grade absence bloodtype height weight footsize\n",
       "1  강수친 여자   22  1     무      O         155.2  45.3   245     \n",
       "2  김길동 남자   23  3     유      O         165.3  68.2   270     \n",
       "3  김동수 남자   24  4     유      B         168.6  70.2   265     \n",
       "4  김미진 여자   22  2     무      B         158.2  45.2   235     \n",
       "5  김민수 남자   21  1     무      A         162.2  55.3   270     \n",
       "6  김철수 남자   23  3     무      AB        182.1  85.7   280     \n",
       "7  박미희 여자   21  2     무      O         162.0  52.0   240     \n",
       "8  박수호 남자   24  4     유      O         167.1  62.0    NA     \n",
       "9  방희철 남자   22  2     무      B         176.1  61.3   275     \n",
       "10 손세수 여자   20  1     유      A         168.0  49.5   240     \n",
       "11 여수근 남자   21  1     무      A         169.2  62.2   265     \n",
       "12 이미린 여자   22  2     무      AB        170.1  53.0   245     \n",
       "13 이철린 남자   23  3     무      B         178.5  64.2    NA     \n",
       "14 이희수 여자   23  1     무      A         176.9  55.0   245     \n",
       "15 이희진 여자   23  3     무      O         176.1  53.1   245     \n",
       "16 임동민 남자   22  2     무      AB        180.0  75.8   280     \n",
       "17 홍길동 남자   24  4     무      B         175.0  80.1   275     "
      ]
     },
     "metadata": {},
     "output_type": "display_data"
    }
   ],
   "source": [
    "stu_foot  # footsize NA는 변수명은 존재하나 값이 없는 경우 출력 null 비슷"
   ]
  },
  {
   "cell_type": "code",
   "execution_count": null,
   "metadata": {},
   "outputs": [],
   "source": []
  },
  {
   "cell_type": "code",
   "execution_count": null,
   "metadata": {},
   "outputs": [],
   "source": []
  },
  {
   "cell_type": "code",
   "execution_count": null,
   "metadata": {},
   "outputs": [],
   "source": []
  },
  {
   "cell_type": "code",
   "execution_count": null,
   "metadata": {},
   "outputs": [],
   "source": []
  },
  {
   "cell_type": "code",
   "execution_count": null,
   "metadata": {},
   "outputs": [],
   "source": []
  },
  {
   "cell_type": "code",
   "execution_count": null,
   "metadata": {},
   "outputs": [],
   "source": []
  }
 ],
 "metadata": {
  "kernelspec": {
   "display_name": "R",
   "language": "R",
   "name": "ir"
  },
  "language_info": {
   "codemirror_mode": "r",
   "file_extension": ".r",
   "mimetype": "text/x-r-source",
   "name": "R",
   "pygments_lexer": "r",
   "version": "3.6.1"
  }
 },
 "nbformat": 4,
 "nbformat_minor": 2
}
