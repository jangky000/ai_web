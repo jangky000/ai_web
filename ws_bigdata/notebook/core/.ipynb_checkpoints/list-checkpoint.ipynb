{
 "cells": [
  {
   "cell_type": "code",
   "execution_count": 1,
   "metadata": {},
   "outputs": [
    {
     "name": "stdout",
     "output_type": "stream",
     "text": [
      "[[1]]\n",
      "[1] \"ANN\"\n",
      "\n",
      "[[2]]\n",
      "[1] 2500000\n",
      "\n",
      "[[3]]\n",
      "[1] \"R\"       \"Python\"  \"Machine\"\n",
      "\n",
      "[1] \"list\"\n",
      "[1] \"list\"\n"
     ]
    }
   ],
   "source": [
    "x <- list(\"ANN\", 2500000, c(\"R\", \"Python\", \"Machine\"))\n",
    "print(x)\n",
    "\n",
    "# [[1]]\n",
    "# [1] \"ANN\"  -> character\n",
    "\n",
    "# [[2]]\n",
    "# [1] 2500000 -> numeric\n",
    "\n",
    "# [[3]]\n",
    "# [1] \"R\"       \"Python\"  \"Machine\"  -> vector\n",
    "\n",
    "print(mode(x)) # \"list\"\n",
    "print(class(x)) # \"list\""
   ]
  },
  {
   "cell_type": "code",
   "execution_count": 2,
   "metadata": {},
   "outputs": [
    {
     "name": "stdout",
     "output_type": "stream",
     "text": [
      "[[1]]\n",
      "[1] \"ANN\"\n",
      "\n",
      "[1] \"list\"\n",
      "[1] \"list\"\n"
     ]
    }
   ],
   "source": [
    "print(x[1])\n",
    "\n",
    "# [[1]]\n",
    "# [1] \"ANN\"\n",
    "\n",
    "print(mode(x[1])) # \"list\"\n",
    "print(mode(x[1])) # \"list\"\n",
    "# list에 저장되는 요소도 타입이 list로 지정"
   ]
  },
  {
   "cell_type": "code",
   "execution_count": 3,
   "metadata": {},
   "outputs": [
    {
     "data": {
      "text/html": [
       "<dl>\n",
       "\t<dt>$ai</dt>\n",
       "\t\t<dd>'ANN'</dd>\n",
       "\t<dt>$pay</dt>\n",
       "\t\t<dd>2500000</dd>\n",
       "\t<dt>$dev</dt>\n",
       "\t\t<dd><ol class=list-inline>\n",
       "\t<li>'R'</li>\n",
       "\t<li>'Python'</li>\n",
       "\t<li>'Machine'</li>\n",
       "</ol>\n",
       "</dd>\n",
       "</dl>\n"
      ],
      "text/latex": [
       "\\begin{description}\n",
       "\\item[\\$ai] 'ANN'\n",
       "\\item[\\$pay] 2500000\n",
       "\\item[\\$dev] \\begin{enumerate*}\n",
       "\\item 'R'\n",
       "\\item 'Python'\n",
       "\\item 'Machine'\n",
       "\\end{enumerate*}\n",
       "\n",
       "\\end{description}\n"
      ],
      "text/markdown": [
       "$ai\n",
       ":   'ANN'\n",
       "$pay\n",
       ":   2500000\n",
       "$dev\n",
       ":   1. 'R'\n",
       "2. 'Python'\n",
       "3. 'Machine'\n",
       "\n",
       "\n",
       "\n",
       "\n",
       "\n"
      ],
      "text/plain": [
       "$ai\n",
       "[1] \"ANN\"\n",
       "\n",
       "$pay\n",
       "[1] 2500000\n",
       "\n",
       "$dev\n",
       "[1] \"R\"       \"Python\"  \"Machine\"\n"
      ]
     },
     "metadata": {},
     "output_type": "display_data"
    }
   ],
   "source": [
    "# 리스트 이름 지정 \n",
    "x <- list(\"ai\"=\"ANN\", \"pay\"=2500000, \"dev\"=c(\"R\", \"Python\", \"Machine\"))\n",
    "x\n",
    "# $ai\n",
    "# 'ANN'\n",
    "# $pay\n",
    "# 2500000\n",
    "# $dev\n",
    "# 'R' 'Python' 'Machine'"
   ]
  },
  {
   "cell_type": "code",
   "execution_count": 4,
   "metadata": {},
   "outputs": [
    {
     "name": "stdout",
     "output_type": "stream",
     "text": [
      "$ai\n",
      "[1] \"ANN\"\n",
      "\n",
      "$pay\n",
      "[1] 2500000\n",
      "\n",
      "$dev\n",
      "[1] \"R\"       \"Python\"  \"Machine\"\n",
      "\n"
     ]
    }
   ],
   "source": [
    "print(x)\n",
    "# $ai\n",
    "# [1] \"ANN\"\n",
    "\n",
    "# $pay\n",
    "# [1] 2500000\n",
    "\n",
    "# $dev\n",
    "# [1] \"R\"       \"Python\"  \"Machine\""
   ]
  },
  {
   "cell_type": "code",
   "execution_count": 5,
   "metadata": {},
   "outputs": [
    {
     "data": {
      "text/html": [
       "'ANN'"
      ],
      "text/latex": [
       "'ANN'"
      ],
      "text/markdown": [
       "'ANN'"
      ],
      "text/plain": [
       "[1] \"ANN\""
      ]
     },
     "metadata": {},
     "output_type": "display_data"
    },
    {
     "data": {
      "text/html": [
       "2500000"
      ],
      "text/latex": [
       "2500000"
      ],
      "text/markdown": [
       "2500000"
      ],
      "text/plain": [
       "[1] 2500000"
      ]
     },
     "metadata": {},
     "output_type": "display_data"
    },
    {
     "data": {
      "text/html": [
       "<ol class=list-inline>\n",
       "\t<li>'R'</li>\n",
       "\t<li>'Python'</li>\n",
       "\t<li>'Machine'</li>\n",
       "</ol>\n"
      ],
      "text/latex": [
       "\\begin{enumerate*}\n",
       "\\item 'R'\n",
       "\\item 'Python'\n",
       "\\item 'Machine'\n",
       "\\end{enumerate*}\n"
      ],
      "text/markdown": [
       "1. 'R'\n",
       "2. 'Python'\n",
       "3. 'Machine'\n",
       "\n",
       "\n"
      ],
      "text/plain": [
       "[1] \"R\"       \"Python\"  \"Machine\""
      ]
     },
     "metadata": {},
     "output_type": "display_data"
    }
   ],
   "source": [
    "# 이름으로 요소에 접근\n",
    "x$ai\n",
    "x$pay\n",
    "x$dev\n",
    "# 'ANN'\n",
    "# 2500000\n",
    "# 'R' 'Python' 'Machine'"
   ]
  },
  {
   "cell_type": "code",
   "execution_count": 6,
   "metadata": {},
   "outputs": [
    {
     "data": {
      "text/html": [
       "'list'"
      ],
      "text/latex": [
       "'list'"
      ],
      "text/markdown": [
       "'list'"
      ],
      "text/plain": [
       "[1] \"list\""
      ]
     },
     "metadata": {},
     "output_type": "display_data"
    },
    {
     "data": {
      "text/html": [
       "'character'"
      ],
      "text/latex": [
       "'character'"
      ],
      "text/markdown": [
       "'character'"
      ],
      "text/plain": [
       "[1] \"character\""
      ]
     },
     "metadata": {},
     "output_type": "display_data"
    },
    {
     "data": {
      "text/html": [
       "'numeric'"
      ],
      "text/latex": [
       "'numeric'"
      ],
      "text/markdown": [
       "'numeric'"
      ],
      "text/plain": [
       "[1] \"numeric\""
      ]
     },
     "metadata": {},
     "output_type": "display_data"
    },
    {
     "data": {
      "text/html": [
       "'character'"
      ],
      "text/latex": [
       "'character'"
      ],
      "text/markdown": [
       "'character'"
      ],
      "text/plain": [
       "[1] \"character\""
      ]
     },
     "metadata": {},
     "output_type": "display_data"
    },
    {
     "data": {
      "text/html": [
       "<strong>$ai</strong> = 'ANN'"
      ],
      "text/latex": [
       "\\textbf{\\$ai} = 'ANN'"
      ],
      "text/markdown": [
       "**$ai** = 'ANN'"
      ],
      "text/plain": [
       "$ai\n",
       "[1] \"ANN\"\n"
      ]
     },
     "metadata": {},
     "output_type": "display_data"
    },
    {
     "data": {
      "text/html": [
       "<strong>$ai</strong> = 'ANN'"
      ],
      "text/latex": [
       "\\textbf{\\$ai} = 'ANN'"
      ],
      "text/markdown": [
       "**$ai** = 'ANN'"
      ],
      "text/plain": [
       "$ai\n",
       "[1] \"ANN\"\n"
      ]
     },
     "metadata": {},
     "output_type": "display_data"
    },
    {
     "data": {
      "text/html": [
       "'list'"
      ],
      "text/latex": [
       "'list'"
      ],
      "text/markdown": [
       "'list'"
      ],
      "text/plain": [
       "[1] \"list\""
      ]
     },
     "metadata": {},
     "output_type": "display_data"
    },
    {
     "data": {
      "text/html": [
       "'list'"
      ],
      "text/latex": [
       "'list'"
      ],
      "text/markdown": [
       "'list'"
      ],
      "text/plain": [
       "[1] \"list\""
      ]
     },
     "metadata": {},
     "output_type": "display_data"
    },
    {
     "data": {
      "text/html": [
       "'ANN'"
      ],
      "text/latex": [
       "'ANN'"
      ],
      "text/markdown": [
       "'ANN'"
      ],
      "text/plain": [
       "[1] \"ANN\""
      ]
     },
     "metadata": {},
     "output_type": "display_data"
    },
    {
     "data": {
      "text/html": [
       "'character'"
      ],
      "text/latex": [
       "'character'"
      ],
      "text/markdown": [
       "'character'"
      ],
      "text/plain": [
       "[1] \"character\""
      ]
     },
     "metadata": {},
     "output_type": "display_data"
    },
    {
     "data": {
      "text/html": [
       "'character'"
      ],
      "text/latex": [
       "'character'"
      ],
      "text/markdown": [
       "'character'"
      ],
      "text/plain": [
       "[1] \"character\""
      ]
     },
     "metadata": {},
     "output_type": "display_data"
    },
    {
     "data": {
      "text/html": [
       "2500000"
      ],
      "text/latex": [
       "2500000"
      ],
      "text/markdown": [
       "2500000"
      ],
      "text/plain": [
       "[1] 2500000"
      ]
     },
     "metadata": {},
     "output_type": "display_data"
    }
   ],
   "source": [
    "# 이름으로 접근 시 정확한 타입을 알 수 있음\n",
    "class(x)\n",
    "# 'list'\n",
    "class(x$ai)\n",
    "# 'character'\n",
    "class(x$pay)\n",
    "# 'numeric'\n",
    "class(x$dev)\n",
    "# 'character'\n",
    "\n",
    "# R의 버그, 권장하지 않는 패턴, list가 순환되어 출력됨\n",
    "x[1]\n",
    "# $ai = 'ANN'\n",
    "x[1][1]\n",
    "# $ai = 'ANN'\n",
    "class(x[1])\n",
    "# 'list'\n",
    "class(x[1][1])\n",
    "# 'list'\n",
    "\n",
    "# 요소의 인덱스 접근, 권장하지 않음\n",
    "x[[1]] # 'ANN'\n",
    "mode(x[[1]]) # 'character'\n",
    "class(x[[1]]) # 'character'\n",
    "x[[2]] # 2500000\n"
   ]
  },
  {
   "cell_type": "code",
   "execution_count": 7,
   "metadata": {},
   "outputs": [
    {
     "data": {
      "text/html": [
       "'C:/ai6/ws_bigdata/notebook/core'"
      ],
      "text/latex": [
       "'C:/ai6/ws\\_bigdata/notebook/core'"
      ],
      "text/markdown": [
       "'C:/ai6/ws_bigdata/notebook/core'"
      ],
      "text/plain": [
       "[1] \"C:/ai6/ws_bigdata/notebook/core\""
      ]
     },
     "metadata": {},
     "output_type": "display_data"
    }
   ],
   "source": [
    "getwd()\n",
    "#'C:/ai6/ws_bigdata/notebook/core'"
   ]
  },
  {
   "cell_type": "code",
   "execution_count": 8,
   "metadata": {},
   "outputs": [],
   "source": [
    "setwd('C:/ai6/ws_bigdata/notebook/core/files')"
   ]
  },
  {
   "cell_type": "code",
   "execution_count": 9,
   "metadata": {},
   "outputs": [
    {
     "data": {
      "text/html": [
       "'data.frame'"
      ],
      "text/latex": [
       "'data.frame'"
      ],
      "text/markdown": [
       "'data.frame'"
      ],
      "text/plain": [
       "[1] \"data.frame\""
      ]
     },
     "metadata": {},
     "output_type": "display_data"
    },
    {
     "data": {
      "text/html": [
       "<table>\n",
       "<thead><tr><th scope=col>name</th><th scope=col>gender</th><th scope=col>age</th><th scope=col>grade</th><th scope=col>absence</th><th scope=col>bloodtype</th><th scope=col>height</th><th scope=col>weight</th></tr></thead>\n",
       "<tbody>\n",
       "\t<tr><td>김길동</td><td>남자  </td><td>23    </td><td>3     </td><td>유    </td><td>O     </td><td>165.3 </td><td>68.2  </td></tr>\n",
       "\t<tr><td>이미린</td><td>여자  </td><td>22    </td><td>2     </td><td>무    </td><td>AB    </td><td>170.1 </td><td>53.0  </td></tr>\n",
       "\t<tr><td>홍길동</td><td>남자  </td><td>24    </td><td>4     </td><td>무    </td><td>B     </td><td>175.0 </td><td>80.1  </td></tr>\n",
       "\t<tr><td>김철수</td><td>남자  </td><td>23    </td><td>3     </td><td>무    </td><td>AB    </td><td>182.1 </td><td>85.7  </td></tr>\n",
       "\t<tr><td>손세수</td><td>여자  </td><td>20    </td><td>1     </td><td>유    </td><td>A     </td><td>168.0 </td><td>49.5  </td></tr>\n",
       "\t<tr><td>박미희</td><td>여자  </td><td>21    </td><td>2     </td><td>무    </td><td>O     </td><td>162.0 </td><td>52.0  </td></tr>\n",
       "\t<tr><td>강수친</td><td>여자  </td><td>22    </td><td>1     </td><td>무    </td><td>O     </td><td>155.2 </td><td>45.3  </td></tr>\n",
       "\t<tr><td>이희수</td><td>여자  </td><td>23    </td><td>1     </td><td>무    </td><td>A     </td><td>176.9 </td><td>55.0  </td></tr>\n",
       "\t<tr><td>이철린</td><td>남자  </td><td>23    </td><td>3     </td><td>무    </td><td>B     </td><td>178.5 </td><td>64.2  </td></tr>\n",
       "\t<tr><td>방희철</td><td>남자  </td><td>22    </td><td>2     </td><td>무    </td><td>B     </td><td>176.1 </td><td>61.3  </td></tr>\n",
       "\t<tr><td>박수호</td><td>남자  </td><td>24    </td><td>4     </td><td>유    </td><td>O     </td><td>167.1 </td><td>62.0  </td></tr>\n",
       "\t<tr><td>임동민</td><td>남자  </td><td>22    </td><td>2     </td><td>무    </td><td>AB    </td><td>180.0 </td><td>75.8  </td></tr>\n",
       "\t<tr><td>김민수</td><td>남자  </td><td>21    </td><td>1     </td><td>무    </td><td>A     </td><td>162.2 </td><td>55.3  </td></tr>\n",
       "\t<tr><td>이희진</td><td>여자  </td><td>23    </td><td>3     </td><td>무    </td><td>O     </td><td>176.1 </td><td>53.1  </td></tr>\n",
       "\t<tr><td>김미진</td><td>여자  </td><td>22    </td><td>2     </td><td>무    </td><td>B     </td><td>158.2 </td><td>45.2  </td></tr>\n",
       "\t<tr><td>김동수</td><td>남자  </td><td>24    </td><td>4     </td><td>유    </td><td>B     </td><td>168.6 </td><td>70.2  </td></tr>\n",
       "\t<tr><td>여수근</td><td>남자  </td><td>21    </td><td>1     </td><td>무    </td><td>A     </td><td>169.2 </td><td>62.2  </td></tr>\n",
       "</tbody>\n",
       "</table>\n"
      ],
      "text/latex": [
       "\\begin{tabular}{r|llllllll}\n",
       " name & gender & age & grade & absence & bloodtype & height & weight\\\\\n",
       "\\hline\n",
       "\t 김길동 & 남자   & 23     & 3      & 유     & O      & 165.3  & 68.2  \\\\\n",
       "\t 이미린 & 여자   & 22     & 2      & 무     & AB     & 170.1  & 53.0  \\\\\n",
       "\t 홍길동 & 남자   & 24     & 4      & 무     & B      & 175.0  & 80.1  \\\\\n",
       "\t 김철수 & 남자   & 23     & 3      & 무     & AB     & 182.1  & 85.7  \\\\\n",
       "\t 손세수 & 여자   & 20     & 1      & 유     & A      & 168.0  & 49.5  \\\\\n",
       "\t 박미희 & 여자   & 21     & 2      & 무     & O      & 162.0  & 52.0  \\\\\n",
       "\t 강수친 & 여자   & 22     & 1      & 무     & O      & 155.2  & 45.3  \\\\\n",
       "\t 이희수 & 여자   & 23     & 1      & 무     & A      & 176.9  & 55.0  \\\\\n",
       "\t 이철린 & 남자   & 23     & 3      & 무     & B      & 178.5  & 64.2  \\\\\n",
       "\t 방희철 & 남자   & 22     & 2      & 무     & B      & 176.1  & 61.3  \\\\\n",
       "\t 박수호 & 남자   & 24     & 4      & 유     & O      & 167.1  & 62.0  \\\\\n",
       "\t 임동민 & 남자   & 22     & 2      & 무     & AB     & 180.0  & 75.8  \\\\\n",
       "\t 김민수 & 남자   & 21     & 1      & 무     & A      & 162.2  & 55.3  \\\\\n",
       "\t 이희진 & 여자   & 23     & 3      & 무     & O      & 176.1  & 53.1  \\\\\n",
       "\t 김미진 & 여자   & 22     & 2      & 무     & B      & 158.2  & 45.2  \\\\\n",
       "\t 김동수 & 남자   & 24     & 4      & 유     & B      & 168.6  & 70.2  \\\\\n",
       "\t 여수근 & 남자   & 21     & 1      & 무     & A      & 169.2  & 62.2  \\\\\n",
       "\\end{tabular}\n"
      ],
      "text/markdown": [
       "\n",
       "| name | gender | age | grade | absence | bloodtype | height | weight |\n",
       "|---|---|---|---|---|---|---|---|\n",
       "| 김길동 | 남자   | 23     | 3      | 유     | O      | 165.3  | 68.2   |\n",
       "| 이미린 | 여자   | 22     | 2      | 무     | AB     | 170.1  | 53.0   |\n",
       "| 홍길동 | 남자   | 24     | 4      | 무     | B      | 175.0  | 80.1   |\n",
       "| 김철수 | 남자   | 23     | 3      | 무     | AB     | 182.1  | 85.7   |\n",
       "| 손세수 | 여자   | 20     | 1      | 유     | A      | 168.0  | 49.5   |\n",
       "| 박미희 | 여자   | 21     | 2      | 무     | O      | 162.0  | 52.0   |\n",
       "| 강수친 | 여자   | 22     | 1      | 무     | O      | 155.2  | 45.3   |\n",
       "| 이희수 | 여자   | 23     | 1      | 무     | A      | 176.9  | 55.0   |\n",
       "| 이철린 | 남자   | 23     | 3      | 무     | B      | 178.5  | 64.2   |\n",
       "| 방희철 | 남자   | 22     | 2      | 무     | B      | 176.1  | 61.3   |\n",
       "| 박수호 | 남자   | 24     | 4      | 유     | O      | 167.1  | 62.0   |\n",
       "| 임동민 | 남자   | 22     | 2      | 무     | AB     | 180.0  | 75.8   |\n",
       "| 김민수 | 남자   | 21     | 1      | 무     | A      | 162.2  | 55.3   |\n",
       "| 이희진 | 여자   | 23     | 3      | 무     | O      | 176.1  | 53.1   |\n",
       "| 김미진 | 여자   | 22     | 2      | 무     | B      | 158.2  | 45.2   |\n",
       "| 김동수 | 남자   | 24     | 4      | 유     | B      | 168.6  | 70.2   |\n",
       "| 여수근 | 남자   | 21     | 1      | 무     | A      | 169.2  | 62.2   |\n",
       "\n"
      ],
      "text/plain": [
       "   name   gender age grade absence bloodtype height weight\n",
       "1  김길동 남자   23  3     유      O         165.3  68.2  \n",
       "2  이미린 여자   22  2     무      AB        170.1  53.0  \n",
       "3  홍길동 남자   24  4     무      B         175.0  80.1  \n",
       "4  김철수 남자   23  3     무      AB        182.1  85.7  \n",
       "5  손세수 여자   20  1     유      A         168.0  49.5  \n",
       "6  박미희 여자   21  2     무      O         162.0  52.0  \n",
       "7  강수친 여자   22  1     무      O         155.2  45.3  \n",
       "8  이희수 여자   23  1     무      A         176.9  55.0  \n",
       "9  이철린 남자   23  3     무      B         178.5  64.2  \n",
       "10 방희철 남자   22  2     무      B         176.1  61.3  \n",
       "11 박수호 남자   24  4     유      O         167.1  62.0  \n",
       "12 임동민 남자   22  2     무      AB        180.0  75.8  \n",
       "13 김민수 남자   21  1     무      A         162.2  55.3  \n",
       "14 이희진 여자   23  3     무      O         176.1  53.1  \n",
       "15 김미진 여자   22  2     무      B         158.2  45.2  \n",
       "16 김동수 남자   24  4     유      B         168.6  70.2  \n",
       "17 여수근 남자   21  1     무      A         169.2  62.2  "
      ]
     },
     "metadata": {},
     "output_type": "display_data"
    }
   ],
   "source": [
    "df <- read.csv('studentlist.csv', fileEncoding='utf-8', encoding='utf-8')\n",
    "class(df)\n",
    "df\n",
    "\n",
    "# 'data.frame'\n",
    "# name\tgender\tage\tgrade\tabsence\tbloodtype\theight\tweight\n",
    "# 김길동\t남자\t23\t3\t유\tO\t165.3\t68.2\n",
    "# 이미린\t여자\t22\t2\t무\tAB\t170.1\t53.0\n",
    "# 홍길동\t남자\t24\t4\t무\tB\t175.0\t80.1\n",
    "# 김철수\t남자\t23\t3\t무\tAB\t182.1\t85.7\n",
    "# 손세수\t여자\t20\t1\t유\tA\t168.0\t49.5\n",
    "# 박미희\t여자\t21\t2\t무\tO\t162.0\t52.0\n",
    "# 강수친\t여자\t22\t1\t무\tO\t155.2\t45.3\n",
    "# 이희수\t여자\t23\t1\t무\tA\t176.9\t55.0\n",
    "# 이철린\t남자\t23\t3\t무\tB\t178.5\t64.2\n",
    "# 방희철\t남자\t22\t2\t무\tB\t176.1\t61.3\n",
    "# 박수호\t남자\t24\t4\t유\tO\t167.1\t62.0\n",
    "# 임동민\t남자\t22\t2\t무\tAB\t180.0\t75.8\n",
    "# 김민수\t남자\t21\t1\t무\tA\t162.2\t55.3\n",
    "# 이희진\t여자\t23\t3\t무\tO\t176.1\t53.1\n",
    "# 김미진\t여자\t22\t2\t무\tB\t158.2\t45.2\n",
    "# 김동수\t남자\t24\t4\t유\tB\t168.6\t70.2\n",
    "# 여수근\t남자\t21\t1\t무\tA\t169.2\t62.2"
   ]
  },
  {
   "cell_type": "code",
   "execution_count": 10,
   "metadata": {},
   "outputs": [
    {
     "data": {
      "text/html": [
       "<ol>\n",
       "\t<li><table>\n",
       "<thead><tr><th scope=col>name</th><th scope=col>gender</th><th scope=col>age</th><th scope=col>grade</th><th scope=col>absence</th><th scope=col>bloodtype</th><th scope=col>height</th><th scope=col>weight</th></tr></thead>\n",
       "<tbody>\n",
       "\t<tr><td>김길동</td><td>남자  </td><td>23    </td><td>3     </td><td>유    </td><td>O     </td><td>165.3 </td><td>68.2  </td></tr>\n",
       "\t<tr><td>이미린</td><td>여자  </td><td>22    </td><td>2     </td><td>무    </td><td>AB    </td><td>170.1 </td><td>53.0  </td></tr>\n",
       "\t<tr><td>홍길동</td><td>남자  </td><td>24    </td><td>4     </td><td>무    </td><td>B     </td><td>175.0 </td><td>80.1  </td></tr>\n",
       "\t<tr><td>김철수</td><td>남자  </td><td>23    </td><td>3     </td><td>무    </td><td>AB    </td><td>182.1 </td><td>85.7  </td></tr>\n",
       "\t<tr><td>손세수</td><td>여자  </td><td>20    </td><td>1     </td><td>유    </td><td>A     </td><td>168.0 </td><td>49.5  </td></tr>\n",
       "\t<tr><td>박미희</td><td>여자  </td><td>21    </td><td>2     </td><td>무    </td><td>O     </td><td>162.0 </td><td>52.0  </td></tr>\n",
       "\t<tr><td>강수친</td><td>여자  </td><td>22    </td><td>1     </td><td>무    </td><td>O     </td><td>155.2 </td><td>45.3  </td></tr>\n",
       "\t<tr><td>이희수</td><td>여자  </td><td>23    </td><td>1     </td><td>무    </td><td>A     </td><td>176.9 </td><td>55.0  </td></tr>\n",
       "\t<tr><td>이철린</td><td>남자  </td><td>23    </td><td>3     </td><td>무    </td><td>B     </td><td>178.5 </td><td>64.2  </td></tr>\n",
       "\t<tr><td>방희철</td><td>남자  </td><td>22    </td><td>2     </td><td>무    </td><td>B     </td><td>176.1 </td><td>61.3  </td></tr>\n",
       "\t<tr><td>박수호</td><td>남자  </td><td>24    </td><td>4     </td><td>유    </td><td>O     </td><td>167.1 </td><td>62.0  </td></tr>\n",
       "\t<tr><td>임동민</td><td>남자  </td><td>22    </td><td>2     </td><td>무    </td><td>AB    </td><td>180.0 </td><td>75.8  </td></tr>\n",
       "\t<tr><td>김민수</td><td>남자  </td><td>21    </td><td>1     </td><td>무    </td><td>A     </td><td>162.2 </td><td>55.3  </td></tr>\n",
       "\t<tr><td>이희진</td><td>여자  </td><td>23    </td><td>3     </td><td>무    </td><td>O     </td><td>176.1 </td><td>53.1  </td></tr>\n",
       "\t<tr><td>김미진</td><td>여자  </td><td>22    </td><td>2     </td><td>무    </td><td>B     </td><td>158.2 </td><td>45.2  </td></tr>\n",
       "\t<tr><td>김동수</td><td>남자  </td><td>24    </td><td>4     </td><td>유    </td><td>B     </td><td>168.6 </td><td>70.2  </td></tr>\n",
       "\t<tr><td>여수근</td><td>남자  </td><td>21    </td><td>1     </td><td>무    </td><td>A     </td><td>169.2 </td><td>62.2  </td></tr>\n",
       "</tbody>\n",
       "</table>\n",
       "</li>\n",
       "\t<li><ol class=list-inline>\n",
       "\t<li>1</li>\n",
       "\t<li>2</li>\n",
       "\t<li>3</li>\n",
       "\t<li>4</li>\n",
       "\t<li>5</li>\n",
       "\t<li>6</li>\n",
       "\t<li>7</li>\n",
       "\t<li>8</li>\n",
       "\t<li>9</li>\n",
       "\t<li>10</li>\n",
       "</ol>\n",
       "</li>\n",
       "\t<li><ol class=list-inline>\n",
       "\t<li>'김밥'</li>\n",
       "\t<li>'만두'</li>\n",
       "\t<li>'라면'</li>\n",
       "</ol>\n",
       "</li>\n",
       "\t<li><ol class=list-inline>\n",
       "\t<li>TRUE</li>\n",
       "\t<li>FALSE</li>\n",
       "\t<li>TRUE</li>\n",
       "</ol>\n",
       "</li>\n",
       "</ol>\n"
      ],
      "text/latex": [
       "\\begin{enumerate}\n",
       "\\item \\begin{tabular}{r|llllllll}\n",
       " name & gender & age & grade & absence & bloodtype & height & weight\\\\\n",
       "\\hline\n",
       "\t 김길동 & 남자   & 23     & 3      & 유     & O      & 165.3  & 68.2  \\\\\n",
       "\t 이미린 & 여자   & 22     & 2      & 무     & AB     & 170.1  & 53.0  \\\\\n",
       "\t 홍길동 & 남자   & 24     & 4      & 무     & B      & 175.0  & 80.1  \\\\\n",
       "\t 김철수 & 남자   & 23     & 3      & 무     & AB     & 182.1  & 85.7  \\\\\n",
       "\t 손세수 & 여자   & 20     & 1      & 유     & A      & 168.0  & 49.5  \\\\\n",
       "\t 박미희 & 여자   & 21     & 2      & 무     & O      & 162.0  & 52.0  \\\\\n",
       "\t 강수친 & 여자   & 22     & 1      & 무     & O      & 155.2  & 45.3  \\\\\n",
       "\t 이희수 & 여자   & 23     & 1      & 무     & A      & 176.9  & 55.0  \\\\\n",
       "\t 이철린 & 남자   & 23     & 3      & 무     & B      & 178.5  & 64.2  \\\\\n",
       "\t 방희철 & 남자   & 22     & 2      & 무     & B      & 176.1  & 61.3  \\\\\n",
       "\t 박수호 & 남자   & 24     & 4      & 유     & O      & 167.1  & 62.0  \\\\\n",
       "\t 임동민 & 남자   & 22     & 2      & 무     & AB     & 180.0  & 75.8  \\\\\n",
       "\t 김민수 & 남자   & 21     & 1      & 무     & A      & 162.2  & 55.3  \\\\\n",
       "\t 이희진 & 여자   & 23     & 3      & 무     & O      & 176.1  & 53.1  \\\\\n",
       "\t 김미진 & 여자   & 22     & 2      & 무     & B      & 158.2  & 45.2  \\\\\n",
       "\t 김동수 & 남자   & 24     & 4      & 유     & B      & 168.6  & 70.2  \\\\\n",
       "\t 여수근 & 남자   & 21     & 1      & 무     & A      & 169.2  & 62.2  \\\\\n",
       "\\end{tabular}\n",
       "\n",
       "\\item \\begin{enumerate*}\n",
       "\\item 1\n",
       "\\item 2\n",
       "\\item 3\n",
       "\\item 4\n",
       "\\item 5\n",
       "\\item 6\n",
       "\\item 7\n",
       "\\item 8\n",
       "\\item 9\n",
       "\\item 10\n",
       "\\end{enumerate*}\n",
       "\n",
       "\\item \\begin{enumerate*}\n",
       "\\item '김밥'\n",
       "\\item '만두'\n",
       "\\item '라면'\n",
       "\\end{enumerate*}\n",
       "\n",
       "\\item \\begin{enumerate*}\n",
       "\\item TRUE\n",
       "\\item FALSE\n",
       "\\item TRUE\n",
       "\\end{enumerate*}\n",
       "\n",
       "\\end{enumerate}\n"
      ],
      "text/markdown": [
       "1. \n",
       "| name | gender | age | grade | absence | bloodtype | height | weight |\n",
       "|---|---|---|---|---|---|---|---|\n",
       "| 김길동 | 남자   | 23     | 3      | 유     | O      | 165.3  | 68.2   |\n",
       "| 이미린 | 여자   | 22     | 2      | 무     | AB     | 170.1  | 53.0   |\n",
       "| 홍길동 | 남자   | 24     | 4      | 무     | B      | 175.0  | 80.1   |\n",
       "| 김철수 | 남자   | 23     | 3      | 무     | AB     | 182.1  | 85.7   |\n",
       "| 손세수 | 여자   | 20     | 1      | 유     | A      | 168.0  | 49.5   |\n",
       "| 박미희 | 여자   | 21     | 2      | 무     | O      | 162.0  | 52.0   |\n",
       "| 강수친 | 여자   | 22     | 1      | 무     | O      | 155.2  | 45.3   |\n",
       "| 이희수 | 여자   | 23     | 1      | 무     | A      | 176.9  | 55.0   |\n",
       "| 이철린 | 남자   | 23     | 3      | 무     | B      | 178.5  | 64.2   |\n",
       "| 방희철 | 남자   | 22     | 2      | 무     | B      | 176.1  | 61.3   |\n",
       "| 박수호 | 남자   | 24     | 4      | 유     | O      | 167.1  | 62.0   |\n",
       "| 임동민 | 남자   | 22     | 2      | 무     | AB     | 180.0  | 75.8   |\n",
       "| 김민수 | 남자   | 21     | 1      | 무     | A      | 162.2  | 55.3   |\n",
       "| 이희진 | 여자   | 23     | 3      | 무     | O      | 176.1  | 53.1   |\n",
       "| 김미진 | 여자   | 22     | 2      | 무     | B      | 158.2  | 45.2   |\n",
       "| 김동수 | 남자   | 24     | 4      | 유     | B      | 168.6  | 70.2   |\n",
       "| 여수근 | 남자   | 21     | 1      | 무     | A      | 169.2  | 62.2   |\n",
       "\n",
       "\n",
       "2. 1. 1\n",
       "2. 2\n",
       "3. 3\n",
       "4. 4\n",
       "5. 5\n",
       "6. 6\n",
       "7. 7\n",
       "8. 8\n",
       "9. 9\n",
       "10. 10\n",
       "\n",
       "\n",
       "\n",
       "3. 1. '김밥'\n",
       "2. '만두'\n",
       "3. '라면'\n",
       "\n",
       "\n",
       "\n",
       "4. 1. TRUE\n",
       "2. FALSE\n",
       "3. TRUE\n",
       "\n",
       "\n",
       "\n",
       "\n",
       "\n"
      ],
      "text/plain": [
       "[[1]]\n",
       "     name gender age grade absence bloodtype height weight\n",
       "1  김길동   남자  23     3      유         O  165.3   68.2\n",
       "2  이미린   여자  22     2      무        AB  170.1   53.0\n",
       "3  홍길동   남자  24     4      무         B  175.0   80.1\n",
       "4  김철수   남자  23     3      무        AB  182.1   85.7\n",
       "5  손세수   여자  20     1      유         A  168.0   49.5\n",
       "6  박미희   여자  21     2      무         O  162.0   52.0\n",
       "7  강수친   여자  22     1      무         O  155.2   45.3\n",
       "8  이희수   여자  23     1      무         A  176.9   55.0\n",
       "9  이철린   남자  23     3      무         B  178.5   64.2\n",
       "10 방희철   남자  22     2      무         B  176.1   61.3\n",
       "11 박수호   남자  24     4      유         O  167.1   62.0\n",
       "12 임동민   남자  22     2      무        AB  180.0   75.8\n",
       "13 김민수   남자  21     1      무         A  162.2   55.3\n",
       "14 이희진   여자  23     3      무         O  176.1   53.1\n",
       "15 김미진   여자  22     2      무         B  158.2   45.2\n",
       "16 김동수   남자  24     4      유         B  168.6   70.2\n",
       "17 여수근   남자  21     1      무         A  169.2   62.2\n",
       "\n",
       "[[2]]\n",
       " [1]  1  2  3  4  5  6  7  8  9 10\n",
       "\n",
       "[[3]]\n",
       "[1] \"김밥\" \"만두\" \"라면\"\n",
       "\n",
       "[[4]]\n",
       "[1]  TRUE FALSE  TRUE\n"
      ]
     },
     "metadata": {},
     "output_type": "display_data"
    }
   ],
   "source": [
    "no <- c(1:10) # 1~10  -> 1~9 아님**\n",
    "menu <- c('김밥', '만두', '라면')\n",
    "pass <- c(TRUE, FALSE, TRUE)\n",
    "lt <- list(df, no, menu, pass) # 다양한 데이터 타입 저장 가능\n",
    "lt\n",
    "# name\tgender\tage\tgrade\tabsence\tbloodtype\theight\tweight\n",
    "# 김길동\t남자\t23\t3\t유\tO\t165.3\t68.2\n",
    "# 이미린\t여자\t22\t2\t무\tAB\t170.1\t53.0\n",
    "# 홍길동\t남자\t24\t4\t무\tB\t175.0\t80.1\n",
    "# 김철수\t남자\t23\t3\t무\tAB\t182.1\t85.7\n",
    "# 손세수\t여자\t20\t1\t유\tA\t168.0\t49.5\n",
    "# 박미희\t여자\t21\t2\t무\tO\t162.0\t52.0\n",
    "# 강수친\t여자\t22\t1\t무\tO\t155.2\t45.3\n",
    "# 이희수\t여자\t23\t1\t무\tA\t176.9\t55.0\n",
    "# 이철린\t남자\t23\t3\t무\tB\t178.5\t64.2\n",
    "# 방희철\t남자\t22\t2\t무\tB\t176.1\t61.3\n",
    "# 박수호\t남자\t24\t4\t유\tO\t167.1\t62.0\n",
    "# 임동민\t남자\t22\t2\t무\tAB\t180.0\t75.8\n",
    "# 김민수\t남자\t21\t1\t무\tA\t162.2\t55.3\n",
    "# 이희진\t여자\t23\t3\t무\tO\t176.1\t53.1\n",
    "# 김미진\t여자\t22\t2\t무\tB\t158.2\t45.2\n",
    "# 김동수\t남자\t24\t4\t유\tB\t168.6\t70.2\n",
    "# 여수근\t남자\t21\t1\t무\tA\t169.2\t62.2\n",
    "# 1 2 3 4 5 6 7 8 9 10\n",
    "# '김밥' '만두' '라면'\n",
    "# TRUE FALSE TRUE"
   ]
  },
  {
   "cell_type": "code",
   "execution_count": 11,
   "metadata": {},
   "outputs": [
    {
     "data": {
      "text/html": [
       "<dl>\n",
       "\t<dt>$employee</dt>\n",
       "\t\t<dd><table>\n",
       "<thead><tr><th scope=col>name</th><th scope=col>gender</th><th scope=col>age</th><th scope=col>grade</th><th scope=col>absence</th><th scope=col>bloodtype</th><th scope=col>height</th><th scope=col>weight</th></tr></thead>\n",
       "<tbody>\n",
       "\t<tr><td>김길동</td><td>남자  </td><td>23    </td><td>3     </td><td>유    </td><td>O     </td><td>165.3 </td><td>68.2  </td></tr>\n",
       "\t<tr><td>이미린</td><td>여자  </td><td>22    </td><td>2     </td><td>무    </td><td>AB    </td><td>170.1 </td><td>53.0  </td></tr>\n",
       "\t<tr><td>홍길동</td><td>남자  </td><td>24    </td><td>4     </td><td>무    </td><td>B     </td><td>175.0 </td><td>80.1  </td></tr>\n",
       "\t<tr><td>김철수</td><td>남자  </td><td>23    </td><td>3     </td><td>무    </td><td>AB    </td><td>182.1 </td><td>85.7  </td></tr>\n",
       "\t<tr><td>손세수</td><td>여자  </td><td>20    </td><td>1     </td><td>유    </td><td>A     </td><td>168.0 </td><td>49.5  </td></tr>\n",
       "\t<tr><td>박미희</td><td>여자  </td><td>21    </td><td>2     </td><td>무    </td><td>O     </td><td>162.0 </td><td>52.0  </td></tr>\n",
       "\t<tr><td>강수친</td><td>여자  </td><td>22    </td><td>1     </td><td>무    </td><td>O     </td><td>155.2 </td><td>45.3  </td></tr>\n",
       "\t<tr><td>이희수</td><td>여자  </td><td>23    </td><td>1     </td><td>무    </td><td>A     </td><td>176.9 </td><td>55.0  </td></tr>\n",
       "\t<tr><td>이철린</td><td>남자  </td><td>23    </td><td>3     </td><td>무    </td><td>B     </td><td>178.5 </td><td>64.2  </td></tr>\n",
       "\t<tr><td>방희철</td><td>남자  </td><td>22    </td><td>2     </td><td>무    </td><td>B     </td><td>176.1 </td><td>61.3  </td></tr>\n",
       "\t<tr><td>박수호</td><td>남자  </td><td>24    </td><td>4     </td><td>유    </td><td>O     </td><td>167.1 </td><td>62.0  </td></tr>\n",
       "\t<tr><td>임동민</td><td>남자  </td><td>22    </td><td>2     </td><td>무    </td><td>AB    </td><td>180.0 </td><td>75.8  </td></tr>\n",
       "\t<tr><td>김민수</td><td>남자  </td><td>21    </td><td>1     </td><td>무    </td><td>A     </td><td>162.2 </td><td>55.3  </td></tr>\n",
       "\t<tr><td>이희진</td><td>여자  </td><td>23    </td><td>3     </td><td>무    </td><td>O     </td><td>176.1 </td><td>53.1  </td></tr>\n",
       "\t<tr><td>김미진</td><td>여자  </td><td>22    </td><td>2     </td><td>무    </td><td>B     </td><td>158.2 </td><td>45.2  </td></tr>\n",
       "\t<tr><td>김동수</td><td>남자  </td><td>24    </td><td>4     </td><td>유    </td><td>B     </td><td>168.6 </td><td>70.2  </td></tr>\n",
       "\t<tr><td>여수근</td><td>남자  </td><td>21    </td><td>1     </td><td>무    </td><td>A     </td><td>169.2 </td><td>62.2  </td></tr>\n",
       "</tbody>\n",
       "</table>\n",
       "</dd>\n",
       "\t<dt>$grade</dt>\n",
       "\t\t<dd><ol class=list-inline>\n",
       "\t<li>1</li>\n",
       "\t<li>2</li>\n",
       "\t<li>3</li>\n",
       "\t<li>4</li>\n",
       "\t<li>5</li>\n",
       "\t<li>6</li>\n",
       "\t<li>7</li>\n",
       "\t<li>8</li>\n",
       "\t<li>9</li>\n",
       "\t<li>10</li>\n",
       "</ol>\n",
       "</dd>\n",
       "\t<dt>$food</dt>\n",
       "\t\t<dd><ol class=list-inline>\n",
       "\t<li>'김밥'</li>\n",
       "\t<li>'만두'</li>\n",
       "\t<li>'라면'</li>\n",
       "</ol>\n",
       "</dd>\n",
       "\t<dt>$success</dt>\n",
       "\t\t<dd><ol class=list-inline>\n",
       "\t<li>TRUE</li>\n",
       "\t<li>FALSE</li>\n",
       "\t<li>TRUE</li>\n",
       "</ol>\n",
       "</dd>\n",
       "</dl>\n"
      ],
      "text/latex": [
       "\\begin{description}\n",
       "\\item[\\$employee] \\begin{tabular}{r|llllllll}\n",
       " name & gender & age & grade & absence & bloodtype & height & weight\\\\\n",
       "\\hline\n",
       "\t 김길동 & 남자   & 23     & 3      & 유     & O      & 165.3  & 68.2  \\\\\n",
       "\t 이미린 & 여자   & 22     & 2      & 무     & AB     & 170.1  & 53.0  \\\\\n",
       "\t 홍길동 & 남자   & 24     & 4      & 무     & B      & 175.0  & 80.1  \\\\\n",
       "\t 김철수 & 남자   & 23     & 3      & 무     & AB     & 182.1  & 85.7  \\\\\n",
       "\t 손세수 & 여자   & 20     & 1      & 유     & A      & 168.0  & 49.5  \\\\\n",
       "\t 박미희 & 여자   & 21     & 2      & 무     & O      & 162.0  & 52.0  \\\\\n",
       "\t 강수친 & 여자   & 22     & 1      & 무     & O      & 155.2  & 45.3  \\\\\n",
       "\t 이희수 & 여자   & 23     & 1      & 무     & A      & 176.9  & 55.0  \\\\\n",
       "\t 이철린 & 남자   & 23     & 3      & 무     & B      & 178.5  & 64.2  \\\\\n",
       "\t 방희철 & 남자   & 22     & 2      & 무     & B      & 176.1  & 61.3  \\\\\n",
       "\t 박수호 & 남자   & 24     & 4      & 유     & O      & 167.1  & 62.0  \\\\\n",
       "\t 임동민 & 남자   & 22     & 2      & 무     & AB     & 180.0  & 75.8  \\\\\n",
       "\t 김민수 & 남자   & 21     & 1      & 무     & A      & 162.2  & 55.3  \\\\\n",
       "\t 이희진 & 여자   & 23     & 3      & 무     & O      & 176.1  & 53.1  \\\\\n",
       "\t 김미진 & 여자   & 22     & 2      & 무     & B      & 158.2  & 45.2  \\\\\n",
       "\t 김동수 & 남자   & 24     & 4      & 유     & B      & 168.6  & 70.2  \\\\\n",
       "\t 여수근 & 남자   & 21     & 1      & 무     & A      & 169.2  & 62.2  \\\\\n",
       "\\end{tabular}\n",
       "\n",
       "\\item[\\$grade] \\begin{enumerate*}\n",
       "\\item 1\n",
       "\\item 2\n",
       "\\item 3\n",
       "\\item 4\n",
       "\\item 5\n",
       "\\item 6\n",
       "\\item 7\n",
       "\\item 8\n",
       "\\item 9\n",
       "\\item 10\n",
       "\\end{enumerate*}\n",
       "\n",
       "\\item[\\$food] \\begin{enumerate*}\n",
       "\\item '김밥'\n",
       "\\item '만두'\n",
       "\\item '라면'\n",
       "\\end{enumerate*}\n",
       "\n",
       "\\item[\\$success] \\begin{enumerate*}\n",
       "\\item TRUE\n",
       "\\item FALSE\n",
       "\\item TRUE\n",
       "\\end{enumerate*}\n",
       "\n",
       "\\end{description}\n"
      ],
      "text/markdown": [
       "$employee\n",
       ":   \n",
       "| name | gender | age | grade | absence | bloodtype | height | weight |\n",
       "|---|---|---|---|---|---|---|---|\n",
       "| 김길동 | 남자   | 23     | 3      | 유     | O      | 165.3  | 68.2   |\n",
       "| 이미린 | 여자   | 22     | 2      | 무     | AB     | 170.1  | 53.0   |\n",
       "| 홍길동 | 남자   | 24     | 4      | 무     | B      | 175.0  | 80.1   |\n",
       "| 김철수 | 남자   | 23     | 3      | 무     | AB     | 182.1  | 85.7   |\n",
       "| 손세수 | 여자   | 20     | 1      | 유     | A      | 168.0  | 49.5   |\n",
       "| 박미희 | 여자   | 21     | 2      | 무     | O      | 162.0  | 52.0   |\n",
       "| 강수친 | 여자   | 22     | 1      | 무     | O      | 155.2  | 45.3   |\n",
       "| 이희수 | 여자   | 23     | 1      | 무     | A      | 176.9  | 55.0   |\n",
       "| 이철린 | 남자   | 23     | 3      | 무     | B      | 178.5  | 64.2   |\n",
       "| 방희철 | 남자   | 22     | 2      | 무     | B      | 176.1  | 61.3   |\n",
       "| 박수호 | 남자   | 24     | 4      | 유     | O      | 167.1  | 62.0   |\n",
       "| 임동민 | 남자   | 22     | 2      | 무     | AB     | 180.0  | 75.8   |\n",
       "| 김민수 | 남자   | 21     | 1      | 무     | A      | 162.2  | 55.3   |\n",
       "| 이희진 | 여자   | 23     | 3      | 무     | O      | 176.1  | 53.1   |\n",
       "| 김미진 | 여자   | 22     | 2      | 무     | B      | 158.2  | 45.2   |\n",
       "| 김동수 | 남자   | 24     | 4      | 유     | B      | 168.6  | 70.2   |\n",
       "| 여수근 | 남자   | 21     | 1      | 무     | A      | 169.2  | 62.2   |\n",
       "\n",
       "\n",
       "$grade\n",
       ":   1. 1\n",
       "2. 2\n",
       "3. 3\n",
       "4. 4\n",
       "5. 5\n",
       "6. 6\n",
       "7. 7\n",
       "8. 8\n",
       "9. 9\n",
       "10. 10\n",
       "\n",
       "\n",
       "\n",
       "$food\n",
       ":   1. '김밥'\n",
       "2. '만두'\n",
       "3. '라면'\n",
       "\n",
       "\n",
       "\n",
       "$success\n",
       ":   1. TRUE\n",
       "2. FALSE\n",
       "3. TRUE\n",
       "\n",
       "\n",
       "\n",
       "\n",
       "\n"
      ],
      "text/plain": [
       "$employee\n",
       "     name gender age grade absence bloodtype height weight\n",
       "1  김길동   남자  23     3      유         O  165.3   68.2\n",
       "2  이미린   여자  22     2      무        AB  170.1   53.0\n",
       "3  홍길동   남자  24     4      무         B  175.0   80.1\n",
       "4  김철수   남자  23     3      무        AB  182.1   85.7\n",
       "5  손세수   여자  20     1      유         A  168.0   49.5\n",
       "6  박미희   여자  21     2      무         O  162.0   52.0\n",
       "7  강수친   여자  22     1      무         O  155.2   45.3\n",
       "8  이희수   여자  23     1      무         A  176.9   55.0\n",
       "9  이철린   남자  23     3      무         B  178.5   64.2\n",
       "10 방희철   남자  22     2      무         B  176.1   61.3\n",
       "11 박수호   남자  24     4      유         O  167.1   62.0\n",
       "12 임동민   남자  22     2      무        AB  180.0   75.8\n",
       "13 김민수   남자  21     1      무         A  162.2   55.3\n",
       "14 이희진   여자  23     3      무         O  176.1   53.1\n",
       "15 김미진   여자  22     2      무         B  158.2   45.2\n",
       "16 김동수   남자  24     4      유         B  168.6   70.2\n",
       "17 여수근   남자  21     1      무         A  169.2   62.2\n",
       "\n",
       "$grade\n",
       " [1]  1  2  3  4  5  6  7  8  9 10\n",
       "\n",
       "$food\n",
       "[1] \"김밥\" \"만두\" \"라면\"\n",
       "\n",
       "$success\n",
       "[1]  TRUE FALSE  TRUE\n"
      ]
     },
     "metadata": {},
     "output_type": "display_data"
    }
   ],
   "source": [
    "# 리스트에 이름 적용 -> 리스트로 접근 가능\n",
    "lt <- list(employee=df, grade=no, food=menu, success=pass)\n",
    "lt\n",
    "# $employee\n",
    "# name\tgender\tage\tgrade\tabsence\tbloodtype\theight\tweight\n",
    "# 김길동\t남자\t23\t3\t유\tO\t165.3\t68.2\n",
    "# 이미린\t여자\t22\t2\t무\tAB\t170.1\t53.0\n",
    "# 홍길동\t남자\t24\t4\t무\tB\t175.0\t80.1\n",
    "# 김철수\t남자\t23\t3\t무\tAB\t182.1\t85.7\n",
    "# 손세수\t여자\t20\t1\t유\tA\t168.0\t49.5\n",
    "# 박미희\t여자\t21\t2\t무\tO\t162.0\t52.0\n",
    "# 강수친\t여자\t22\t1\t무\tO\t155.2\t45.3\n",
    "# 이희수\t여자\t23\t1\t무\tA\t176.9\t55.0\n",
    "# 이철린\t남자\t23\t3\t무\tB\t178.5\t64.2\n",
    "# 방희철\t남자\t22\t2\t무\tB\t176.1\t61.3\n",
    "# 박수호\t남자\t24\t4\t유\tO\t167.1\t62.0\n",
    "# 임동민\t남자\t22\t2\t무\tAB\t180.0\t75.8\n",
    "# 김민수\t남자\t21\t1\t무\tA\t162.2\t55.3\n",
    "# 이희진\t여자\t23\t3\t무\tO\t176.1\t53.1\n",
    "# 김미진\t여자\t22\t2\t무\tB\t158.2\t45.2\n",
    "# 김동수\t남자\t24\t4\t유\tB\t168.6\t70.2\n",
    "# 여수근\t남자\t21\t1\t무\tA\t169.2\t62.2\n",
    "# $grade\n",
    "# 1 2 3 4 5 6 7 8 9 10\n",
    "# $food\n",
    "# '김밥' '만두' '라면'\n",
    "# $success\n",
    "# TRUE FALSE TRUE"
   ]
  },
  {
   "cell_type": "code",
   "execution_count": 12,
   "metadata": {},
   "outputs": [
    {
     "data": {
      "text/html": [
       "<ol class=list-inline>\n",
       "\t<li>'김밥'</li>\n",
       "\t<li>'만두'</li>\n",
       "\t<li>'라면'</li>\n",
       "</ol>\n"
      ],
      "text/latex": [
       "\\begin{enumerate*}\n",
       "\\item '김밥'\n",
       "\\item '만두'\n",
       "\\item '라면'\n",
       "\\end{enumerate*}\n"
      ],
      "text/markdown": [
       "1. '김밥'\n",
       "2. '만두'\n",
       "3. '라면'\n",
       "\n",
       "\n"
      ],
      "text/plain": [
       "[1] \"김밥\" \"만두\" \"라면\""
      ]
     },
     "metadata": {},
     "output_type": "display_data"
    }
   ],
   "source": [
    "lt$food\n",
    "# '김밥' '만두' '라면'"
   ]
  },
  {
   "cell_type": "code",
   "execution_count": 13,
   "metadata": {},
   "outputs": [
    {
     "data": {
      "text/html": [
       "<strong>$food</strong> = <ol class=list-inline>\n",
       "\t<li>'김밥'</li>\n",
       "\t<li>'만두'</li>\n",
       "\t<li>'라면'</li>\n",
       "</ol>\n"
      ],
      "text/latex": [
       "\\textbf{\\$food} = \\begin{enumerate*}\n",
       "\\item '김밥'\n",
       "\\item '만두'\n",
       "\\item '라면'\n",
       "\\end{enumerate*}\n"
      ],
      "text/markdown": [
       "**$food** = 1. '김밥'\n",
       "2. '만두'\n",
       "3. '라면'\n",
       "\n",
       "\n"
      ],
      "text/plain": [
       "$food\n",
       "[1] \"김밥\" \"만두\" \"라면\"\n"
      ]
     },
     "metadata": {},
     "output_type": "display_data"
    }
   ],
   "source": [
    "lt['food']\n",
    "# $food =\n",
    "# '김밥' '만두' '라면'"
   ]
  },
  {
   "cell_type": "code",
   "execution_count": 14,
   "metadata": {},
   "outputs": [],
   "source": [
    "# 리스트 삭제\n",
    "lt['employee'] <- NULL  # Dataframe 삭제, 대소문자 구분"
   ]
  },
  {
   "cell_type": "code",
   "execution_count": 15,
   "metadata": {},
   "outputs": [
    {
     "data": {
      "text/html": [
       "<dl>\n",
       "\t<dt>$grade</dt>\n",
       "\t\t<dd><ol class=list-inline>\n",
       "\t<li>1</li>\n",
       "\t<li>2</li>\n",
       "\t<li>3</li>\n",
       "\t<li>4</li>\n",
       "\t<li>5</li>\n",
       "\t<li>6</li>\n",
       "\t<li>7</li>\n",
       "\t<li>8</li>\n",
       "\t<li>9</li>\n",
       "\t<li>10</li>\n",
       "</ol>\n",
       "</dd>\n",
       "\t<dt>$food</dt>\n",
       "\t\t<dd><ol class=list-inline>\n",
       "\t<li>'김밥'</li>\n",
       "\t<li>'만두'</li>\n",
       "\t<li>'라면'</li>\n",
       "</ol>\n",
       "</dd>\n",
       "\t<dt>$success</dt>\n",
       "\t\t<dd><ol class=list-inline>\n",
       "\t<li>TRUE</li>\n",
       "\t<li>FALSE</li>\n",
       "\t<li>TRUE</li>\n",
       "</ol>\n",
       "</dd>\n",
       "</dl>\n"
      ],
      "text/latex": [
       "\\begin{description}\n",
       "\\item[\\$grade] \\begin{enumerate*}\n",
       "\\item 1\n",
       "\\item 2\n",
       "\\item 3\n",
       "\\item 4\n",
       "\\item 5\n",
       "\\item 6\n",
       "\\item 7\n",
       "\\item 8\n",
       "\\item 9\n",
       "\\item 10\n",
       "\\end{enumerate*}\n",
       "\n",
       "\\item[\\$food] \\begin{enumerate*}\n",
       "\\item '김밥'\n",
       "\\item '만두'\n",
       "\\item '라면'\n",
       "\\end{enumerate*}\n",
       "\n",
       "\\item[\\$success] \\begin{enumerate*}\n",
       "\\item TRUE\n",
       "\\item FALSE\n",
       "\\item TRUE\n",
       "\\end{enumerate*}\n",
       "\n",
       "\\end{description}\n"
      ],
      "text/markdown": [
       "$grade\n",
       ":   1. 1\n",
       "2. 2\n",
       "3. 3\n",
       "4. 4\n",
       "5. 5\n",
       "6. 6\n",
       "7. 7\n",
       "8. 8\n",
       "9. 9\n",
       "10. 10\n",
       "\n",
       "\n",
       "\n",
       "$food\n",
       ":   1. '김밥'\n",
       "2. '만두'\n",
       "3. '라면'\n",
       "\n",
       "\n",
       "\n",
       "$success\n",
       ":   1. TRUE\n",
       "2. FALSE\n",
       "3. TRUE\n",
       "\n",
       "\n",
       "\n",
       "\n",
       "\n"
      ],
      "text/plain": [
       "$grade\n",
       " [1]  1  2  3  4  5  6  7  8  9 10\n",
       "\n",
       "$food\n",
       "[1] \"김밥\" \"만두\" \"라면\"\n",
       "\n",
       "$success\n",
       "[1]  TRUE FALSE  TRUE\n"
      ]
     },
     "metadata": {},
     "output_type": "display_data"
    }
   ],
   "source": [
    "lt\n",
    "# $grade\n",
    "# 1 2 3 4 5 6 7 8 9 10\n",
    "# $food\n",
    "# '김밥' '만두' '라면'\n",
    "# $success\n",
    "# TRUE FALSE TRUE"
   ]
  },
  {
   "cell_type": "code",
   "execution_count": 16,
   "metadata": {},
   "outputs": [
    {
     "data": {
      "text/html": [
       "<dl>\n",
       "\t<dt>$grade</dt>\n",
       "\t\t<dd><ol class=list-inline>\n",
       "\t<li>1</li>\n",
       "\t<li>2</li>\n",
       "\t<li>3</li>\n",
       "\t<li>4</li>\n",
       "\t<li>5</li>\n",
       "\t<li>6</li>\n",
       "\t<li>7</li>\n",
       "\t<li>8</li>\n",
       "\t<li>9</li>\n",
       "\t<li>10</li>\n",
       "</ol>\n",
       "</dd>\n",
       "\t<dt>$food</dt>\n",
       "\t\t<dd><ol class=list-inline>\n",
       "\t<li>'김밥'</li>\n",
       "\t<li>'만두'</li>\n",
       "\t<li>'라면'</li>\n",
       "</ol>\n",
       "</dd>\n",
       "</dl>\n"
      ],
      "text/latex": [
       "\\begin{description}\n",
       "\\item[\\$grade] \\begin{enumerate*}\n",
       "\\item 1\n",
       "\\item 2\n",
       "\\item 3\n",
       "\\item 4\n",
       "\\item 5\n",
       "\\item 6\n",
       "\\item 7\n",
       "\\item 8\n",
       "\\item 9\n",
       "\\item 10\n",
       "\\end{enumerate*}\n",
       "\n",
       "\\item[\\$food] \\begin{enumerate*}\n",
       "\\item '김밥'\n",
       "\\item '만두'\n",
       "\\item '라면'\n",
       "\\end{enumerate*}\n",
       "\n",
       "\\end{description}\n"
      ],
      "text/markdown": [
       "$grade\n",
       ":   1. 1\n",
       "2. 2\n",
       "3. 3\n",
       "4. 4\n",
       "5. 5\n",
       "6. 6\n",
       "7. 7\n",
       "8. 8\n",
       "9. 9\n",
       "10. 10\n",
       "\n",
       "\n",
       "\n",
       "$food\n",
       ":   1. '김밥'\n",
       "2. '만두'\n",
       "3. '라면'\n",
       "\n",
       "\n",
       "\n",
       "\n",
       "\n"
      ],
      "text/plain": [
       "$grade\n",
       " [1]  1  2  3  4  5  6  7  8  9 10\n",
       "\n",
       "$food\n",
       "[1] \"김밥\" \"만두\" \"라면\"\n"
      ]
     },
     "metadata": {},
     "output_type": "display_data"
    }
   ],
   "source": [
    "# 리스트의 1번째 요소, 리스트의 2번째요소\n",
    "lt[c(1, 2)]\n",
    "# $grade\n",
    "# 1 2 3 4 5 6 7 8 9 10\n",
    "# $food\n",
    "# '김밥' '만두' '라면'"
   ]
  },
  {
   "cell_type": "code",
   "execution_count": 17,
   "metadata": {},
   "outputs": [
    {
     "data": {
      "text/html": [
       "<ol class=list-inline>\n",
       "\t<li>TRUE</li>\n",
       "\t<li>FALSE</li>\n",
       "\t<li>TRUE</li>\n",
       "</ol>\n"
      ],
      "text/latex": [
       "\\begin{enumerate*}\n",
       "\\item TRUE\n",
       "\\item FALSE\n",
       "\\item TRUE\n",
       "\\end{enumerate*}\n"
      ],
      "text/markdown": [
       "1. TRUE\n",
       "2. FALSE\n",
       "3. TRUE\n",
       "\n",
       "\n"
      ],
      "text/plain": [
       "[1]  TRUE FALSE  TRUE"
      ]
     },
     "metadata": {},
     "output_type": "display_data"
    }
   ],
   "source": [
    "# 이름 변경 names함수 사용\n",
    "names(lt)[3] <- 'flag' # list 요소 이름 변경\n",
    "lt$flag # -> 3번째 요소 success의 이름이 flag로 변경\n",
    "# TRUE FALSE TRUE"
   ]
  },
  {
   "cell_type": "code",
   "execution_count": 18,
   "metadata": {
    "scrolled": true
   },
   "outputs": [
    {
     "data": {
      "text/html": [
       "<ol>\n",
       "\t<li>'왕눈이'</li>\n",
       "\t<li>90</li>\n",
       "\t<li>'A'</li>\n",
       "</ol>\n"
      ],
      "text/latex": [
       "\\begin{enumerate}\n",
       "\\item '왕눈이'\n",
       "\\item 90\n",
       "\\item 'A'\n",
       "\\end{enumerate}\n"
      ],
      "text/markdown": [
       "1. '왕눈이'\n",
       "2. 90\n",
       "3. 'A'\n",
       "\n",
       "\n"
      ],
      "text/plain": [
       "[[1]]\n",
       "[1] \"왕눈이\"\n",
       "\n",
       "[[2]]\n",
       "[1] 90\n",
       "\n",
       "[[3]]\n",
       "[1] \"A\"\n"
      ]
     },
     "metadata": {},
     "output_type": "display_data"
    },
    {
     "data": {
      "text/html": [
       "<ol class=list-inline>\n",
       "\t<li>'list'</li>\n",
       "\t<li>'vector'</li>\n",
       "\t<li>'listOrNULL'</li>\n",
       "</ol>\n"
      ],
      "text/latex": [
       "\\begin{enumerate*}\n",
       "\\item 'list'\n",
       "\\item 'vector'\n",
       "\\item 'listOrNULL'\n",
       "\\end{enumerate*}\n"
      ],
      "text/markdown": [
       "1. 'list'\n",
       "2. 'vector'\n",
       "3. 'listOrNULL'\n",
       "\n",
       "\n"
      ],
      "text/plain": [
       "[1] \"list\"       \"vector\"     \"listOrNULL\""
      ]
     },
     "metadata": {},
     "output_type": "display_data"
    },
    {
     "data": {
      "text/html": [
       "'list'"
      ],
      "text/latex": [
       "'list'"
      ],
      "text/markdown": [
       "'list'"
      ],
      "text/plain": [
       "[1] \"list\""
      ]
     },
     "metadata": {},
     "output_type": "display_data"
    }
   ],
   "source": [
    "lt <- list('왕눈이', 90, 'A')\n",
    "lt\n",
    "is(lt) # is(): 데이터 타입 모두 보기\n",
    "class(lt)\n",
    "# '왕눈이'\n",
    "# 90\n",
    "# 'A'\n",
    "# 'list' 'vector' 'listOrNULL'\n",
    "# 'list'"
   ]
  },
  {
   "cell_type": "code",
   "execution_count": 19,
   "metadata": {},
   "outputs": [
    {
     "data": {
      "text/html": [
       "<ol class=list-inline>\n",
       "\t<li>'왕눈이'</li>\n",
       "\t<li>'90'</li>\n",
       "\t<li>'A'</li>\n",
       "</ol>\n"
      ],
      "text/latex": [
       "\\begin{enumerate*}\n",
       "\\item '왕눈이'\n",
       "\\item '90'\n",
       "\\item 'A'\n",
       "\\end{enumerate*}\n"
      ],
      "text/markdown": [
       "1. '왕눈이'\n",
       "2. '90'\n",
       "3. 'A'\n",
       "\n",
       "\n"
      ],
      "text/plain": [
       "[1] \"왕눈이\" \"90\"     \"A\"     "
      ]
     },
     "metadata": {},
     "output_type": "display_data"
    },
    {
     "data": {
      "text/html": [
       "<ol class=list-inline>\n",
       "\t<li>'character'</li>\n",
       "\t<li>'vector'</li>\n",
       "\t<li>'data.frameRowLabels'</li>\n",
       "\t<li>'SuperClassMethod'</li>\n",
       "</ol>\n"
      ],
      "text/latex": [
       "\\begin{enumerate*}\n",
       "\\item 'character'\n",
       "\\item 'vector'\n",
       "\\item 'data.frameRowLabels'\n",
       "\\item 'SuperClassMethod'\n",
       "\\end{enumerate*}\n"
      ],
      "text/markdown": [
       "1. 'character'\n",
       "2. 'vector'\n",
       "3. 'data.frameRowLabels'\n",
       "4. 'SuperClassMethod'\n",
       "\n",
       "\n"
      ],
      "text/plain": [
       "[1] \"character\"           \"vector\"              \"data.frameRowLabels\"\n",
       "[4] \"SuperClassMethod\"   "
      ]
     },
     "metadata": {},
     "output_type": "display_data"
    },
    {
     "data": {
      "text/html": [
       "'character'"
      ],
      "text/latex": [
       "'character'"
      ],
      "text/markdown": [
       "'character'"
      ],
      "text/plain": [
       "[1] \"character\""
      ]
     },
     "metadata": {},
     "output_type": "display_data"
    },
    {
     "data": {
      "text/html": [
       "'왕눈이'"
      ],
      "text/latex": [
       "'왕눈이'"
      ],
      "text/markdown": [
       "'왕눈이'"
      ],
      "text/plain": [
       "[1] \"왕눈이\""
      ]
     },
     "metadata": {},
     "output_type": "display_data"
    },
    {
     "data": {
      "text/html": [
       "'90'"
      ],
      "text/latex": [
       "'90'"
      ],
      "text/markdown": [
       "'90'"
      ],
      "text/plain": [
       "[1] \"90\""
      ]
     },
     "metadata": {},
     "output_type": "display_data"
    },
    {
     "data": {
      "text/html": [
       "'A'"
      ],
      "text/latex": [
       "'A'"
      ],
      "text/markdown": [
       "'A'"
      ],
      "text/plain": [
       "[1] \"A\""
      ]
     },
     "metadata": {},
     "output_type": "display_data"
    }
   ],
   "source": [
    "# list에서 스칼라 값으로 분리\n",
    "ult <- unlist(lt)  \n",
    "ult\n",
    "is(ult)\n",
    "class(ult)\n",
    "# '왕눈이' '90' 'A'\n",
    "# 'character' 'vector' 'data.frameRowLabels' 'SuperClassMethod'\n",
    "# 'character'\n",
    "\n",
    "ult[1]\n",
    "ult[2]\n",
    "ult[3]\n",
    "# '왕눈이'\n",
    "# '90'\n",
    "# 'A'"
   ]
  },
  {
   "cell_type": "code",
   "execution_count": 23,
   "metadata": {},
   "outputs": [
    {
     "name": "stdout",
     "output_type": "stream",
     "text": [
      "[[1]]\n",
      "[1] 1 2 3 4 5\n",
      "\n",
      "[1] \"-------------\"\n",
      "[[1]]\n",
      "[1] 1 2 3 4 5\n",
      "\n",
      "[1] \"-------------\"\n",
      "[[1]]\n",
      "[1] 1 2 3 4 5\n",
      "\n"
     ]
    }
   ],
   "source": [
    "a <- list(c(1:5))\n",
    "print(a)\n",
    "print('-------------')\n",
    "print(a[1])\n",
    "print('-------------')\n",
    "print(a[1][1])\n",
    "# [[1]]\n",
    "# [1] 1 2 3 4 5\n",
    "\n",
    "# [1] \"-------------\"\n",
    "# [[1]]\n",
    "# [1] 1 2 3 4 5\n",
    "\n",
    "# [1] \"-------------\"\n",
    "# [[1]]\n",
    "# [1] 1 2 3 4 5\n"
   ]
  },
  {
   "cell_type": "code",
   "execution_count": 24,
   "metadata": {},
   "outputs": [
    {
     "name": "stdout",
     "output_type": "stream",
     "text": [
      "[1] \"-------------\"\n",
      "[1] 1 2 3 4 5\n",
      "[1] \"-------------\"\n",
      "[1] 1\n"
     ]
    }
   ],
   "source": [
    "print('-------------')\n",
    "print(a[[1]]) # --> 대괄호 두번 써야 요소 리스트에 접근한다. \n",
    "# -> 문법적으로 특이히다\n",
    "print('-------------')\n",
    "print(a[[1]][1]) # 대괄호 2번 쓰고 1번 써야 개별 요소에 접근\n",
    "# [1] \"-------------\"\n",
    "# [1] 1 2 3 4 5\n",
    "# [1] \"-------------\"\n",
    "# [1] 1"
   ]
  },
  {
   "cell_type": "code",
   "execution_count": 27,
   "metadata": {},
   "outputs": [
    {
     "name": "stdout",
     "output_type": "stream",
     "text": [
      "[[1]]\n",
      "[[1]][[1]]\n",
      "[1] 1 2 3 4 5\n",
      "\n",
      "\n",
      "[[2]]\n",
      "[[2]][[1]]\n",
      "[1]  6  7  8  9 10\n",
      "\n",
      "\n"
     ]
    }
   ],
   "source": [
    "\n",
    "b <- list(c(6:10))\n",
    "c <- list(a, b) # a list, b list 결합, [[1]][[1]]: list안에 list 포함을 표현\n",
    "print(c)\n",
    "# [[1]]\n",
    "# [[1]][[1]]\n",
    "# [1] 1 2 3 4 5\n",
    "\n",
    "\n",
    "# [[2]]\n",
    "# [[2]][[1]]\n",
    "# [1]  6  7  8  9 10"
   ]
  },
  {
   "cell_type": "code",
   "execution_count": 28,
   "metadata": {
    "scrolled": false
   },
   "outputs": [
    {
     "name": "stdout",
     "output_type": "stream",
     "text": [
      "[[1]]\n",
      "[1] 1 2 3 4 5\n",
      "\n",
      "[[1]]\n",
      "[1]  6  7  8  9 10\n",
      "\n",
      "[[1]]\n",
      "[[1]][[1]]\n",
      "[1] 1 2 3 4 5\n",
      "\n",
      "\n"
     ]
    }
   ],
   "source": [
    "print(c[[1]])\n",
    "print(c[[2]])\n",
    "# [[1]]\n",
    "# [1] 1 2 3 4 5\n",
    "\n",
    "# [[1]]\n",
    "# [1]  6  7  8  9 10\n",
    "\n",
    "print(c[1])\n",
    "# [[1]]\n",
    "# [[1]][[1]]\n",
    "# [1] 1 2 3 4 5"
   ]
  },
  {
   "cell_type": "code",
   "execution_count": 29,
   "metadata": {
    "scrolled": false
   },
   "outputs": [
    {
     "name": "stdout",
     "output_type": "stream",
     "text": [
      "[[1]]\n",
      "[[1]][[1]]\n",
      "[1] 1 2 3 4 5\n",
      "\n",
      "\n"
     ]
    }
   ],
   "source": [
    "print(c[1])\n",
    "# [[1]]          <-- 전체 리스트\n",
    "# [[1]][[1]]     <-- 리스트안의 첫번째 리스트\n",
    "# [1] 1 2 3 4 5  <-- 리스트의 요소"
   ]
  },
  {
   "cell_type": "code",
   "execution_count": 30,
   "metadata": {},
   "outputs": [
    {
     "data": {
      "text/html": [
       "'list'"
      ],
      "text/latex": [
       "'list'"
      ],
      "text/markdown": [
       "'list'"
      ],
      "text/plain": [
       "[1] \"list\""
      ]
     },
     "metadata": {},
     "output_type": "display_data"
    },
    {
     "name": "stdout",
     "output_type": "stream",
     "text": [
      "[[1]]\n",
      "[1] 1 2 3 4 5\n",
      "\n"
     ]
    }
   ],
   "source": [
    "d <- c[[1]] # c라는 list안의 list 추출, 대괄호 사용\n",
    "class(d)\n",
    "print(d)\n",
    "# 'list'\n",
    "# [[1]]          <-- list를 나타냄\n",
    "# [1] 1 2 3 4 5  <-- 요소를 출력"
   ]
  },
  {
   "cell_type": "code",
   "execution_count": 31,
   "metadata": {},
   "outputs": [
    {
     "name": "stdout",
     "output_type": "stream",
     "text": [
      "1 2 3"
     ]
    }
   ],
   "source": [
    "# cat 함수, cat함수는 return이 없다.\n",
    "cat(d[[1]][1], d[[1]][2], d[[1]][3]) # [[1]][1]: 첫번째 list의 첫번째 요소\n",
    "# 1 2 3"
   ]
  },
  {
   "cell_type": "code",
   "execution_count": 32,
   "metadata": {},
   "outputs": [
    {
     "data": {
      "text/html": [
       "<span style=white-space:pre-wrap>'    1     2     3'</span>"
      ],
      "text/latex": [
       "'    1     2     3'"
      ],
      "text/markdown": [
       "<span style=white-space:pre-wrap>'    1     2     3'</span>"
      ],
      "text/plain": [
       "[1] \"    1     2     3\""
      ]
     },
     "metadata": {},
     "output_type": "display_data"
    }
   ],
   "source": [
    "sprintf('%5d %5d %5d', d[[1]][1], d[[1]][2], d[[1]][3]) # 형식 출력\n",
    "# '    1     2     3'"
   ]
  },
  {
   "cell_type": "code",
   "execution_count": 35,
   "metadata": {},
   "outputs": [
    {
     "data": {
      "text/html": [
       "<ol>\n",
       "\t<li><ol class=list-inline>\n",
       "\t<li>1</li>\n",
       "\t<li>2</li>\n",
       "\t<li>3</li>\n",
       "\t<li>4</li>\n",
       "\t<li>5</li>\n",
       "</ol>\n",
       "</li>\n",
       "</ol>\n"
      ],
      "text/latex": [
       "\\begin{enumerate}\n",
       "\\item \\begin{enumerate*}\n",
       "\\item 1\n",
       "\\item 2\n",
       "\\item 3\n",
       "\\item 4\n",
       "\\item 5\n",
       "\\end{enumerate*}\n",
       "\n",
       "\\end{enumerate}\n"
      ],
      "text/markdown": [
       "1. 1. 1\n",
       "2. 2\n",
       "3. 3\n",
       "4. 4\n",
       "5. 5\n",
       "\n",
       "\n",
       "\n",
       "\n",
       "\n"
      ],
      "text/plain": [
       "[[1]]\n",
       "[1] 1 2 3 4 5\n"
      ]
     },
     "metadata": {},
     "output_type": "display_data"
    },
    {
     "name": "stdout",
     "output_type": "stream",
     "text": [
      "[[1]]\n",
      "[1] 5\n",
      "\n"
     ]
    },
    {
     "data": {
      "text/html": [
       "'list'"
      ],
      "text/latex": [
       "'list'"
      ],
      "text/markdown": [
       "'list'"
      ],
      "text/plain": [
       "[1] \"list\""
      ]
     },
     "metadata": {},
     "output_type": "display_data"
    }
   ],
   "source": [
    "# list에는 apply 함수말고 lapply를 사용함.\n",
    "a\n",
    "a_max <- lapply(a, max) # 리스트를 반환, a 리스트에서 최대값 리턴\n",
    "print(a_max)\n",
    "class(a_max)\n",
    "# 1 2 3 4 5\n",
    "\n",
    "# [[1]]\n",
    "# [1] 5\n",
    "\n",
    "# 'list'"
   ]
  },
  {
   "cell_type": "code",
   "execution_count": 36,
   "metadata": {},
   "outputs": [
    {
     "name": "stdout",
     "output_type": "stream",
     "text": [
      "[[1]]\n",
      "[1] 5\n",
      "\n",
      "[1] 5\n",
      "max:  5"
     ]
    }
   ],
   "source": [
    "print(a_max[1])    # list 자신\n",
    "print(a_max[[1]])  # list의 요소\n",
    "cat('max: ', a_max[[1]])\n",
    "# [[1]]\n",
    "# [1] 5\n",
    "\n",
    "# [1] 5\n",
    "# max:  5"
   ]
  },
  {
   "cell_type": "code",
   "execution_count": 37,
   "metadata": {},
   "outputs": [
    {
     "name": "stdout",
     "output_type": "stream",
     "text": [
      "min:  1"
     ]
    }
   ],
   "source": [
    "a_min <- lapply(a, min)\n",
    "cat('min: ', a_min[[1]])\n",
    "# min:  1"
   ]
  },
  {
   "cell_type": "code",
   "execution_count": 38,
   "metadata": {},
   "outputs": [
    {
     "name": "stdout",
     "output_type": "stream",
     "text": [
      "a mean:  3  /  b mean:  8"
     ]
    }
   ],
   "source": [
    "ab_mean <- lapply(c(a, b), mean) # 2개의 a list, b list에서 각각 평균이 산출\n",
    "cat('a mean: ', ab_mean[[1]], ' / ','b mean: ', ab_mean[[2]])\n",
    "# a mean:  3  /  b mean:  8"
   ]
  },
  {
   "cell_type": "code",
   "execution_count": 39,
   "metadata": {},
   "outputs": [
    {
     "name": "stdout",
     "output_type": "stream",
     "text": [
      "[[1]]\n",
      "[1] 1 2 3 4 5\n",
      "\n",
      "[[2]]\n",
      "[1]  6  7  8  9 10\n",
      "\n"
     ]
    },
    {
     "data": {
      "text/html": [
       "'list'"
      ],
      "text/latex": [
       "'list'"
      ],
      "text/markdown": [
       "'list'"
      ],
      "text/plain": [
       "[1] \"list\""
      ]
     },
     "metadata": {},
     "output_type": "display_data"
    }
   ],
   "source": [
    "lt <- list(c(1:5), c(6:10)) # list의 요소는 vector 임, 행 우선 결합(리스트 타입)\n",
    "print(lt)\n",
    "class(lt)\n",
    "# [[1]]\n",
    "# [1] 1 2 3 4 5\n",
    "\n",
    "# [[2]]\n",
    "# [1]  6  7  8  9 10\n",
    "\n",
    "# 'list'"
   ]
  },
  {
   "cell_type": "code",
   "execution_count": 56,
   "metadata": {},
   "outputs": [
    {
     "name": "stdout",
     "output_type": "stream",
     "text": [
      "     [,1] [,2]\n",
      "[1,]    1    6\n",
      "[2,]    2    7\n",
      "[3,]    3    8\n",
      "[4,]    4    9\n",
      "[5,]    5   10\n"
     ]
    },
    {
     "data": {
      "text/html": [
       "'matrix'"
      ],
      "text/latex": [
       "'matrix'"
      ],
      "text/markdown": [
       "'matrix'"
      ],
      "text/plain": [
       "[1] \"matrix\""
      ]
     },
     "metadata": {},
     "output_type": "display_data"
    }
   ],
   "source": [
    "ltc <- do.call(cbind, lt) # 리스트를 컬럼(열) 결합으로 변경(행렬로 반환)\n",
    "print(ltc)\n",
    "class(ltc)\n",
    "#      [,1] [,2]\n",
    "# [1,]    1    6\n",
    "# [2,]    2    7\n",
    "# [3,]    3    8\n",
    "# [4,]    4    9\n",
    "# [5,]    5   10\n",
    "# 'matrix'"
   ]
  },
  {
   "cell_type": "code",
   "execution_count": 58,
   "metadata": {},
   "outputs": [
    {
     "name": "stdout",
     "output_type": "stream",
     "text": [
      "     [,1] [,2] [,3] [,4] [,5]\n",
      "[1,]    1    2    3    4    5\n",
      "[2,]    6    7    8    9   10\n"
     ]
    },
    {
     "data": {
      "text/html": [
       "'matrix'"
      ],
      "text/latex": [
       "'matrix'"
      ],
      "text/markdown": [
       "'matrix'"
      ],
      "text/plain": [
       "[1] \"matrix\""
      ]
     },
     "metadata": {},
     "output_type": "display_data"
    }
   ],
   "source": [
    "ltr <- do.call(rbind, lt) # 행방향 결합\n",
    "print(ltr)\n",
    "class(ltr)\n",
    "#      [,1] [,2] [,3] [,4] [,5]\n",
    "# [1,]    1    2    3    4    5\n",
    "# [2,]    6    7    8    9   10\n",
    "# 'matrix'"
   ]
  },
  {
   "cell_type": "code",
   "execution_count": 60,
   "metadata": {},
   "outputs": [
    {
     "name": "stdout",
     "output_type": "stream",
     "text": [
      "[1] 1\n"
     ]
    },
    {
     "data": {
      "text/html": [
       "'integer'"
      ],
      "text/latex": [
       "'integer'"
      ],
      "text/markdown": [
       "'integer'"
      ],
      "text/plain": [
       "[1] \"integer\""
      ]
     },
     "metadata": {},
     "output_type": "display_data"
    }
   ],
   "source": [
    "ltm <- do.call(min, lt)\n",
    "print(ltm)\n",
    "class(ltm)\n",
    "# [1] 1\n",
    "# 'integer'"
   ]
  },
  {
   "cell_type": "code",
   "execution_count": 61,
   "metadata": {},
   "outputs": [
    {
     "name": "stdout",
     "output_type": "stream",
     "text": [
      "[1] 10\n"
     ]
    },
    {
     "data": {
      "text/html": [
       "'integer'"
      ],
      "text/latex": [
       "'integer'"
      ],
      "text/markdown": [
       "'integer'"
      ],
      "text/plain": [
       "[1] \"integer\""
      ]
     },
     "metadata": {},
     "output_type": "display_data"
    }
   ],
   "source": [
    "ltx <- do.call(max, lt)\n",
    "print(ltx)\n",
    "class(ltx)\n",
    "# [1] 10\n",
    "# 'integer'"
   ]
  },
  {
   "cell_type": "code",
   "execution_count": 64,
   "metadata": {},
   "outputs": [
    {
     "name": "stdout",
     "output_type": "stream",
     "text": [
      "[[1]]\n",
      "[1] 1 2 3 4 5\n",
      "\n",
      "[[2]]\n",
      "[1]  6  7  8  9 10\n",
      "\n"
     ]
    }
   ],
   "source": [
    "print(lt) # 2개의 vector가 구성되어 있음\n",
    "# [[1]]\n",
    "# [1] 1 2 3 4 5\n",
    "\n",
    "# [[2]]\n",
    "# [1]  6  7  8  9 10\n"
   ]
  },
  {
   "cell_type": "code",
   "execution_count": 40,
   "metadata": {},
   "outputs": [
    {
     "name": "stdout",
     "output_type": "stream",
     "text": [
      "[1] \"list\"\n",
      "[1] \"list\"\n",
      "[1] \"integer\"\n"
     ]
    }
   ],
   "source": [
    "print(class(lt))       # list 자신 \n",
    "print(class(lt[1]))    # list 자신\n",
    "print(class(lt[[1]]))  # 첫번째 vector의 요소 타입\n",
    "\n",
    "# [1] \"list\"\n",
    "# [1] \"list\"\n",
    "# [1] \"integer\""
   ]
  },
  {
   "cell_type": "code",
   "execution_count": 41,
   "metadata": {},
   "outputs": [
    {
     "name": "stdout",
     "output_type": "stream",
     "text": [
      "[1] 1 2 3 4 5\n",
      "[1]  6  7  8  9 10\n"
     ]
    }
   ],
   "source": [
    "print(lt[[1]])         # 첫번째 vector\n",
    "print(lt[[2]])         # 두번째 vector\n",
    "# [1] 1 2 3 4 5\n",
    "# [1]  6  7  8  9 10"
   ]
  },
  {
   "cell_type": "code",
   "execution_count": 72,
   "metadata": {},
   "outputs": [
    {
     "ename": "ERROR",
     "evalue": "Error in mean.default(1:5, 6:10): 'trim' must be numeric of length one\n",
     "output_type": "error",
     "traceback": [
      "Error in mean.default(1:5, 6:10): 'trim' must be numeric of length one\nTraceback:\n",
      "1. do.call(mean, lt)",
      "2. (function (x, ...) \n . UseMethod(\"mean\"))(1:5, 6:10)",
      "3. mean.default(1:5, 6:10)",
      "4. stop(\"'trim' must be numeric of length one\")"
     ]
    }
   ],
   "source": [
    "lt_mean <- do.call(mean, lt) # ERROR, 각각의 vector에는 작동하지 않음.\n",
    "# Error in mean.default(1:5, 6:10): 'trim' must be numeric of length one"
   ]
  },
  {
   "cell_type": "code",
   "execution_count": 74,
   "metadata": {},
   "outputs": [
    {
     "data": {
      "text/html": [
       "<ol>\n",
       "\t<li><ol>\n",
       "\t<li><ol class=list-inline>\n",
       "\t<li>1</li>\n",
       "\t<li>2</li>\n",
       "\t<li>3</li>\n",
       "\t<li>4</li>\n",
       "\t<li>5</li>\n",
       "</ol>\n",
       "</li>\n",
       "</ol>\n",
       "</li>\n",
       "\t<li><ol>\n",
       "\t<li><ol class=list-inline>\n",
       "\t<li>6</li>\n",
       "\t<li>7</li>\n",
       "\t<li>8</li>\n",
       "\t<li>9</li>\n",
       "\t<li>10</li>\n",
       "</ol>\n",
       "</li>\n",
       "</ol>\n",
       "</li>\n",
       "</ol>\n"
      ],
      "text/latex": [
       "\\begin{enumerate}\n",
       "\\item \\begin{enumerate}\n",
       "\\item \\begin{enumerate*}\n",
       "\\item 1\n",
       "\\item 2\n",
       "\\item 3\n",
       "\\item 4\n",
       "\\item 5\n",
       "\\end{enumerate*}\n",
       "\n",
       "\\end{enumerate}\n",
       "\n",
       "\\item \\begin{enumerate}\n",
       "\\item \\begin{enumerate*}\n",
       "\\item 6\n",
       "\\item 7\n",
       "\\item 8\n",
       "\\item 9\n",
       "\\item 10\n",
       "\\end{enumerate*}\n",
       "\n",
       "\\end{enumerate}\n",
       "\n",
       "\\end{enumerate}\n"
      ],
      "text/markdown": [
       "1. 1. 1. 1\n",
       "2. 2\n",
       "3. 3\n",
       "4. 4\n",
       "5. 5\n",
       "\n",
       "\n",
       "\n",
       "\n",
       "\n",
       "\n",
       "2. 1. 1. 6\n",
       "2. 7\n",
       "3. 8\n",
       "4. 9\n",
       "5. 10\n",
       "\n",
       "\n",
       "\n",
       "\n",
       "\n",
       "\n",
       "\n",
       "\n"
      ],
      "text/plain": [
       "[[1]]\n",
       "[[1]][[1]]\n",
       "[1] 1 2 3 4 5\n",
       "\n",
       "\n",
       "[[2]]\n",
       "[[2]][[1]]\n",
       "[1]  6  7  8  9 10\n",
       "\n"
      ]
     },
     "metadata": {},
     "output_type": "display_data"
    },
    {
     "name": "stderr",
     "output_type": "stream",
     "text": [
      "Warning message in mean.default(list(1:5), list(6:10)):\n",
      "\"argument is not numeric or logical: returning NA\""
     ]
    },
    {
     "data": {
      "text/html": [
       "&lt;NA&gt;"
      ],
      "text/latex": [
       "<NA>"
      ],
      "text/markdown": [
       "&lt;NA&gt;"
      ],
      "text/plain": [
       "[1] NA"
      ]
     },
     "metadata": {},
     "output_type": "display_data"
    }
   ],
   "source": [
    "lt2 <- list(list(c(1:5)), list(c(6:10)))\n",
    "lt2\n",
    "m <- do.call(mean, lt2)  # ERROR, 각각의 list에는 작동하지 않음.\n",
    "m\n",
    "# 1 2 3 4 5\n",
    "# 6 7 8 9 10"
   ]
  },
  {
   "cell_type": "code",
   "execution_count": null,
   "metadata": {},
   "outputs": [],
   "source": []
  },
  {
   "cell_type": "code",
   "execution_count": null,
   "metadata": {},
   "outputs": [],
   "source": []
  }
 ],
 "metadata": {
  "kernelspec": {
   "display_name": "R",
   "language": "R",
   "name": "ir"
  },
  "language_info": {
   "codemirror_mode": "r",
   "file_extension": ".r",
   "mimetype": "text/x-r-source",
   "name": "R",
   "pygments_lexer": "r",
   "version": "3.6.1"
  }
 },
 "nbformat": 4,
 "nbformat_minor": 2
}
