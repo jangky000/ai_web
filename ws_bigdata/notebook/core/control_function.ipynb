{
 "cells": [
  {
   "cell_type": "markdown",
   "metadata": {},
   "source": [
    "## 제어문"
   ]
  },
  {
   "cell_type": "code",
   "execution_count": 2,
   "metadata": {},
   "outputs": [
    {
     "data": {
      "text/html": [
       "3.33333333333333"
      ],
      "text/latex": [
       "3.33333333333333"
      ],
      "text/markdown": [
       "3.33333333333333"
      ],
      "text/plain": [
       "[1] 3.333333"
      ]
     },
     "metadata": {},
     "output_type": "display_data"
    },
    {
     "data": {
      "text/html": [
       "3"
      ],
      "text/latex": [
       "3"
      ],
      "text/markdown": [
       "3"
      ],
      "text/plain": [
       "[1] 3"
      ]
     },
     "metadata": {},
     "output_type": "display_data"
    },
    {
     "data": {
      "text/html": [
       "1"
      ],
      "text/latex": [
       "1"
      ],
      "text/markdown": [
       "1"
      ],
      "text/plain": [
       "[1] 1"
      ]
     },
     "metadata": {},
     "output_type": "display_data"
    },
    {
     "data": {
      "text/html": [
       "1000"
      ],
      "text/latex": [
       "1000"
      ],
      "text/markdown": [
       "1000"
      ],
      "text/plain": [
       "[1] 1000"
      ]
     },
     "metadata": {},
     "output_type": "display_data"
    },
    {
     "data": {
      "text/html": [
       "1000"
      ],
      "text/latex": [
       "1000"
      ],
      "text/markdown": [
       "1000"
      ],
      "text/plain": [
       "[1] 1000"
      ]
     },
     "metadata": {},
     "output_type": "display_data"
    }
   ],
   "source": [
    "num1 <- 10\n",
    "num2 <- 3\n",
    "num1 / num2   # 실수 나누기 \n",
    "# 3.33333333333333\n",
    "\n",
    "num1 %/% num2 # 정수 나누기\n",
    "# 3\n",
    "\n",
    "num1 %% num2  # 나머지\n",
    "# 1\n",
    "num1 ^ num2   # n제곱\n",
    "# 1000\n",
    "\n",
    "num1 ** num2  # n제곱\n",
    "# 1000"
   ]
  },
  {
   "cell_type": "code",
   "execution_count": 3,
   "metadata": {},
   "outputs": [
    {
     "name": "stdout",
     "output_type": "stream",
     "text": [
      "40 이상 50"
     ]
    }
   ],
   "source": [
    "x = 10\n",
    "y = 5\n",
    "z = x * y\n",
    "if (z >= 40) {\n",
    "  cat('40 이상',z) # concat과 같음\n",
    "} else {\n",
    "  cat('40 미만',z)  \n",
    "}\n",
    "# 40 이상 50"
   ]
  },
  {
   "cell_type": "code",
   "execution_count": 4,
   "metadata": {},
   "outputs": [],
   "source": [
    "score <- scan() # Jupyter 실행 안됨\n",
    "score = 90"
   ]
  },
  {
   "cell_type": "code",
   "execution_count": 5,
   "metadata": {},
   "outputs": [
    {
     "name": "stdout",
     "output_type": "stream",
     "text": [
      "학점:  90 A"
     ]
    }
   ],
   "source": [
    "if (score >= 90) {\n",
    "  res <- 'A'\n",
    "} else if (score >= 80) {\n",
    "  res <- 'B'\n",
    "} else if (score >= 80) {\n",
    "  res <- 'C'\n",
    "} else if (score >= 80) {\n",
    "  res <- 'D'\n",
    "} else {\n",
    "  res <- 'F'\n",
    "}\n",
    "\n",
    "cat('학점: ', score, res)\n",
    "# 학점:  90 A"
   ]
  },
  {
   "cell_type": "code",
   "execution_count": 20,
   "metadata": {},
   "outputs": [
    {
     "name": "stdout",
     "output_type": "stream",
     "text": [
      "90   60 \n",
      "[1] \"추가 교육 실시\"\n",
      "[1] \"합격\"\n"
     ]
    }
   ],
   "source": [
    "# and or에서 & |를 한번씩만 사용\n",
    "r <- 60\n",
    "cat(score, \" \", r, \"\\n\")\n",
    "\n",
    "if (score >= 80 & r >= 70) { # and\n",
    "  print('합격')\n",
    "} else {\n",
    "  print('추가 교육 실시')\n",
    "}\n",
    "\n",
    "if (score >= 80 | r >= 70) { # or\n",
    "  print('합격')\n",
    "} else {\n",
    "  print('추가 교육 실시')\n",
    "}\n",
    "# 90   60 \n",
    "# [1] \"추가 교육 실시\"\n",
    "# [1] \"합격\""
   ]
  },
  {
   "cell_type": "code",
   "execution_count": 6,
   "metadata": {},
   "outputs": [
    {
     "data": {
      "text/html": [
       "<ol class=list-inline>\n",
       "\t<li>78</li>\n",
       "\t<li>95</li>\n",
       "\t<li>85</li>\n",
       "</ol>\n"
      ],
      "text/latex": [
       "\\begin{enumerate*}\n",
       "\\item 78\n",
       "\\item 95\n",
       "\\item 85\n",
       "\\end{enumerate*}\n"
      ],
      "text/markdown": [
       "1. 78\n",
       "2. 95\n",
       "3. 85\n",
       "\n",
       "\n"
      ],
      "text/plain": [
       "[1] 78 95 85"
      ]
     },
     "metadata": {},
     "output_type": "display_data"
    },
    {
     "data": {
      "text/html": [
       "'character'"
      ],
      "text/latex": [
       "'character'"
      ],
      "text/markdown": [
       "'character'"
      ],
      "text/plain": [
       "[1] \"character\""
      ]
     },
     "metadata": {},
     "output_type": "display_data"
    },
    {
     "data": {
      "text/html": [
       "<ol class=list-inline>\n",
       "\t<li>'추가 교육 실시'</li>\n",
       "\t<li>'합격'</li>\n",
       "\t<li>'합격'</li>\n",
       "</ol>\n"
      ],
      "text/latex": [
       "\\begin{enumerate*}\n",
       "\\item '추가 교육 실시'\n",
       "\\item '합격'\n",
       "\\item '합격'\n",
       "\\end{enumerate*}\n"
      ],
      "text/markdown": [
       "1. '추가 교육 실시'\n",
       "2. '합격'\n",
       "3. '합격'\n",
       "\n",
       "\n"
      ],
      "text/plain": [
       "[1] \"추가 교육 실시\" \"합격\"           \"합격\"          "
      ]
     },
     "metadata": {},
     "output_type": "display_data"
    }
   ],
   "source": [
    "vscore <- c(78, 95, 85)\n",
    "vscore\n",
    "# vector 요소에 대하여 if문이 작동됨.\n",
    "pass <- ifelse(vscore >= 80, \"합격\", \"추가 교육 실시\")\n",
    "class(pass)\n",
    "pass\n",
    "\n",
    "# 78 95 85\n",
    "# 'character'\n",
    "# '추가 교육 실시' '합격' '합격'"
   ]
  },
  {
   "cell_type": "code",
   "execution_count": 8,
   "metadata": {},
   "outputs": [
    {
     "data": {
      "text/html": [
       "<ol class=list-inline>\n",
       "\t<li>1</li>\n",
       "\t<li>2</li>\n",
       "\t<li>3</li>\n",
       "\t<li>4</li>\n",
       "\t<li>5</li>\n",
       "\t<li>6</li>\n",
       "\t<li>7</li>\n",
       "\t<li>8</li>\n",
       "\t<li>9</li>\n",
       "\t<li>10</li>\n",
       "</ol>\n"
      ],
      "text/latex": [
       "\\begin{enumerate*}\n",
       "\\item 1\n",
       "\\item 2\n",
       "\\item 3\n",
       "\\item 4\n",
       "\\item 5\n",
       "\\item 6\n",
       "\\item 7\n",
       "\\item 8\n",
       "\\item 9\n",
       "\\item 10\n",
       "\\end{enumerate*}\n"
      ],
      "text/markdown": [
       "1. 1\n",
       "2. 2\n",
       "3. 3\n",
       "4. 4\n",
       "5. 5\n",
       "6. 6\n",
       "7. 7\n",
       "8. 8\n",
       "9. 9\n",
       "10. 10\n",
       "\n",
       "\n"
      ],
      "text/plain": [
       " [1]  1  2  3  4  5  6  7  8  9 10"
      ]
     },
     "metadata": {},
     "output_type": "display_data"
    },
    {
     "data": {
      "text/html": [
       "<ol class=list-inline>\n",
       "\t<li>1</li>\n",
       "\t<li>0</li>\n",
       "\t<li>1</li>\n",
       "\t<li>0</li>\n",
       "\t<li>1</li>\n",
       "\t<li>0</li>\n",
       "\t<li>1</li>\n",
       "\t<li>0</li>\n",
       "\t<li>1</li>\n",
       "\t<li>0</li>\n",
       "</ol>\n"
      ],
      "text/latex": [
       "\\begin{enumerate*}\n",
       "\\item 1\n",
       "\\item 0\n",
       "\\item 1\n",
       "\\item 0\n",
       "\\item 1\n",
       "\\item 0\n",
       "\\item 1\n",
       "\\item 0\n",
       "\\item 1\n",
       "\\item 0\n",
       "\\end{enumerate*}\n"
      ],
      "text/markdown": [
       "1. 1\n",
       "2. 0\n",
       "3. 1\n",
       "4. 0\n",
       "5. 1\n",
       "6. 0\n",
       "7. 1\n",
       "8. 0\n",
       "9. 1\n",
       "10. 0\n",
       "\n",
       "\n"
      ],
      "text/plain": [
       " [1] 1 0 1 0 1 0 1 0 1 0"
      ]
     },
     "metadata": {},
     "output_type": "display_data"
    },
    {
     "data": {
      "text/html": [
       "<ol class=list-inline>\n",
       "\t<li>'B'</li>\n",
       "\t<li>'A'</li>\n",
       "\t<li>'B'</li>\n",
       "\t<li>'A'</li>\n",
       "\t<li>'B'</li>\n",
       "\t<li>'A'</li>\n",
       "\t<li>'B'</li>\n",
       "\t<li>'A'</li>\n",
       "\t<li>'B'</li>\n",
       "\t<li>'A'</li>\n",
       "</ol>\n"
      ],
      "text/latex": [
       "\\begin{enumerate*}\n",
       "\\item 'B'\n",
       "\\item 'A'\n",
       "\\item 'B'\n",
       "\\item 'A'\n",
       "\\item 'B'\n",
       "\\item 'A'\n",
       "\\item 'B'\n",
       "\\item 'A'\n",
       "\\item 'B'\n",
       "\\item 'A'\n",
       "\\end{enumerate*}\n"
      ],
      "text/markdown": [
       "1. 'B'\n",
       "2. 'A'\n",
       "3. 'B'\n",
       "4. 'A'\n",
       "5. 'B'\n",
       "6. 'A'\n",
       "7. 'B'\n",
       "8. 'A'\n",
       "9. 'B'\n",
       "10. 'A'\n",
       "\n",
       "\n"
      ],
      "text/plain": [
       " [1] \"B\" \"A\" \"B\" \"A\" \"B\" \"A\" \"B\" \"A\" \"B\" \"A\""
      ]
     },
     "metadata": {},
     "output_type": "display_data"
    }
   ],
   "source": [
    "n <- 1:10  # 1 ~ 10 vector 생성\n",
    "n\n",
    "# 1 2 3 4 5 6 7 8 9 10\n",
    "x <- ifelse(n %% 2 == 0, 0, 1) # 짝수이면 0, 데이터가 10개임으로 10번 출력\n",
    "x\n",
    "# 1 0 1 0 1 0 1 0 1 0\n",
    "x <- ifelse(n %% 2 == 0, 'A', 'B') # 짝수이면 A\n",
    "x\n",
    "# 'B' 'A' 'B' 'A' 'B' 'A' 'B' 'A' 'B' 'A'"
   ]
  },
  {
   "cell_type": "code",
   "execution_count": 10,
   "metadata": {},
   "outputs": [
    {
     "name": "stdout",
     "output_type": "stream",
     "text": [
      "[1] \"December\"\n"
     ]
    }
   ],
   "source": [
    "# switch, if elseif else처럼 사용 가능\n",
    "mon <- \"12\"\n",
    "str <- switch(mon, \"10\"=\"October\", \"11\"=\"November\", \"12\"=\"December\")\n",
    "print(str)\n",
    "# [1] \"December\""
   ]
  },
  {
   "cell_type": "code",
   "execution_count": 11,
   "metadata": {},
   "outputs": [
    {
     "name": "stdout",
     "output_type": "stream",
     "text": [
      "[1] \"12\"\n"
     ]
    }
   ],
   "source": [
    "mon <- \"December\"\n",
    "str <- switch(mon, October=\"10\", November=\"11\", December = \"12\")\n",
    "print(str)\n",
    "# \"12\""
   ]
  },
  {
   "cell_type": "code",
   "execution_count": 12,
   "metadata": {},
   "outputs": [
    {
     "name": "stdout",
     "output_type": "stream",
     "text": [
      "[1] \"December\"\n"
     ]
    }
   ],
   "source": [
    "mon <- 3 # index 사용\n",
    "str <- switch(mon, \"October\", \"November\", \"December\")\n",
    "print(str)\n",
    "# [1] \"December\""
   ]
  },
  {
   "cell_type": "code",
   "execution_count": 6,
   "metadata": {},
   "outputs": [],
   "source": [
    "# R 내장 상수\n",
    "?letters  "
   ]
  },
  {
   "cell_type": "code",
   "execution_count": 7,
   "metadata": {},
   "outputs": [
    {
     "data": {
      "text/html": [
       "<ol class=list-inline>\n",
       "\t<li>'a'</li>\n",
       "\t<li>'b'</li>\n",
       "\t<li>'c'</li>\n",
       "\t<li>'d'</li>\n",
       "\t<li>'e'</li>\n",
       "\t<li>'f'</li>\n",
       "\t<li>'g'</li>\n",
       "\t<li>'h'</li>\n",
       "\t<li>'i'</li>\n",
       "\t<li>'j'</li>\n",
       "\t<li>'k'</li>\n",
       "\t<li>'l'</li>\n",
       "\t<li>'m'</li>\n",
       "\t<li>'n'</li>\n",
       "\t<li>'o'</li>\n",
       "\t<li>'p'</li>\n",
       "\t<li>'q'</li>\n",
       "\t<li>'r'</li>\n",
       "\t<li>'s'</li>\n",
       "\t<li>'t'</li>\n",
       "\t<li>'u'</li>\n",
       "\t<li>'v'</li>\n",
       "\t<li>'w'</li>\n",
       "\t<li>'x'</li>\n",
       "\t<li>'y'</li>\n",
       "\t<li>'z'</li>\n",
       "</ol>\n"
      ],
      "text/latex": [
       "\\begin{enumerate*}\n",
       "\\item 'a'\n",
       "\\item 'b'\n",
       "\\item 'c'\n",
       "\\item 'd'\n",
       "\\item 'e'\n",
       "\\item 'f'\n",
       "\\item 'g'\n",
       "\\item 'h'\n",
       "\\item 'i'\n",
       "\\item 'j'\n",
       "\\item 'k'\n",
       "\\item 'l'\n",
       "\\item 'm'\n",
       "\\item 'n'\n",
       "\\item 'o'\n",
       "\\item 'p'\n",
       "\\item 'q'\n",
       "\\item 'r'\n",
       "\\item 's'\n",
       "\\item 't'\n",
       "\\item 'u'\n",
       "\\item 'v'\n",
       "\\item 'w'\n",
       "\\item 'x'\n",
       "\\item 'y'\n",
       "\\item 'z'\n",
       "\\end{enumerate*}\n"
      ],
      "text/markdown": [
       "1. 'a'\n",
       "2. 'b'\n",
       "3. 'c'\n",
       "4. 'd'\n",
       "5. 'e'\n",
       "6. 'f'\n",
       "7. 'g'\n",
       "8. 'h'\n",
       "9. 'i'\n",
       "10. 'j'\n",
       "11. 'k'\n",
       "12. 'l'\n",
       "13. 'm'\n",
       "14. 'n'\n",
       "15. 'o'\n",
       "16. 'p'\n",
       "17. 'q'\n",
       "18. 'r'\n",
       "19. 's'\n",
       "20. 't'\n",
       "21. 'u'\n",
       "22. 'v'\n",
       "23. 'w'\n",
       "24. 'x'\n",
       "25. 'y'\n",
       "26. 'z'\n",
       "\n",
       "\n"
      ],
      "text/plain": [
       " [1] \"a\" \"b\" \"c\" \"d\" \"e\" \"f\" \"g\" \"h\" \"i\" \"j\" \"k\" \"l\" \"m\" \"n\" \"o\" \"p\" \"q\" \"r\" \"s\"\n",
       "[20] \"t\" \"u\" \"v\" \"w\" \"x\" \"y\" \"z\""
      ]
     },
     "metadata": {},
     "output_type": "display_data"
    }
   ],
   "source": [
    "letters\n",
    "# 'a' 'b' 'c' 'd' 'e' 'f' 'g' 'h' 'i' 'j' 'k' 'l' 'm' 'n' 'o' 'p' 'q' 'r' 's' 't' 'u' 'v' 'w' 'x' 'y' 'z'"
   ]
  },
  {
   "cell_type": "code",
   "execution_count": 15,
   "metadata": {},
   "outputs": [
    {
     "data": {
      "text/html": [
       "6"
      ],
      "text/latex": [
       "6"
      ],
      "text/markdown": [
       "6"
      ],
      "text/plain": [
       "[1] 6"
      ]
     },
     "metadata": {},
     "output_type": "display_data"
    }
   ],
   "source": [
    "# 인덱스 리턴\n",
    "which(letters == 'f') # index: 1~\n",
    "# 6"
   ]
  },
  {
   "cell_type": "code",
   "execution_count": 8,
   "metadata": {},
   "outputs": [
    {
     "data": {
      "text/html": [
       "<table>\n",
       "<thead><tr><th scope=col>name</th><th scope=col>gender</th><th scope=col>age</th><th scope=col>grade</th><th scope=col>absence</th><th scope=col>bloodtype</th><th scope=col>height</th><th scope=col>weight</th></tr></thead>\n",
       "<tbody>\n",
       "\t<tr><td>김길동</td><td>남자  </td><td>23    </td><td>3     </td><td>유    </td><td>O     </td><td>165.3 </td><td>68.2  </td></tr>\n",
       "\t<tr><td>이미린</td><td>여자  </td><td>22    </td><td>2     </td><td>무    </td><td>AB    </td><td>170.1 </td><td>53.0  </td></tr>\n",
       "\t<tr><td>홍길동</td><td>남자  </td><td>24    </td><td>4     </td><td>무    </td><td>B     </td><td>175.0 </td><td>80.1  </td></tr>\n",
       "\t<tr><td>김철수</td><td>남자  </td><td>23    </td><td>3     </td><td>무    </td><td>AB    </td><td>182.1 </td><td>85.7  </td></tr>\n",
       "\t<tr><td>손세수</td><td>여자  </td><td>20    </td><td>1     </td><td>유    </td><td>A     </td><td>168.0 </td><td>49.5  </td></tr>\n",
       "\t<tr><td>박미희</td><td>여자  </td><td>21    </td><td>2     </td><td>무    </td><td>O     </td><td>162.0 </td><td>52.0  </td></tr>\n",
       "\t<tr><td>강수친</td><td>여자  </td><td>22    </td><td>1     </td><td>무    </td><td>O     </td><td>155.2 </td><td>45.3  </td></tr>\n",
       "\t<tr><td>이희수</td><td>여자  </td><td>23    </td><td>1     </td><td>무    </td><td>A     </td><td>176.9 </td><td>55.0  </td></tr>\n",
       "\t<tr><td>이철린</td><td>남자  </td><td>23    </td><td>3     </td><td>무    </td><td>B     </td><td>178.5 </td><td>64.2  </td></tr>\n",
       "\t<tr><td>방희철</td><td>남자  </td><td>22    </td><td>2     </td><td>무    </td><td>B     </td><td>176.1 </td><td>61.3  </td></tr>\n",
       "\t<tr><td>박수호</td><td>남자  </td><td>24    </td><td>4     </td><td>유    </td><td>O     </td><td>167.1 </td><td>62.0  </td></tr>\n",
       "\t<tr><td>임동민</td><td>남자  </td><td>22    </td><td>2     </td><td>무    </td><td>AB    </td><td>180.0 </td><td>75.8  </td></tr>\n",
       "\t<tr><td>김민수</td><td>남자  </td><td>21    </td><td>1     </td><td>무    </td><td>A     </td><td>162.2 </td><td>55.3  </td></tr>\n",
       "\t<tr><td>이희진</td><td>여자  </td><td>23    </td><td>3     </td><td>무    </td><td>O     </td><td>176.1 </td><td>53.1  </td></tr>\n",
       "\t<tr><td>김미진</td><td>여자  </td><td>22    </td><td>2     </td><td>무    </td><td>B     </td><td>158.2 </td><td>45.2  </td></tr>\n",
       "\t<tr><td>김동수</td><td>남자  </td><td>24    </td><td>4     </td><td>유    </td><td>B     </td><td>168.6 </td><td>70.2  </td></tr>\n",
       "\t<tr><td>여수근</td><td>남자  </td><td>21    </td><td>1     </td><td>무    </td><td>A     </td><td>169.2 </td><td>62.2  </td></tr>\n",
       "</tbody>\n",
       "</table>\n"
      ],
      "text/latex": [
       "\\begin{tabular}{r|llllllll}\n",
       " name & gender & age & grade & absence & bloodtype & height & weight\\\\\n",
       "\\hline\n",
       "\t 김길동 & 남자   & 23     & 3      & 유     & O      & 165.3  & 68.2  \\\\\n",
       "\t 이미린 & 여자   & 22     & 2      & 무     & AB     & 170.1  & 53.0  \\\\\n",
       "\t 홍길동 & 남자   & 24     & 4      & 무     & B      & 175.0  & 80.1  \\\\\n",
       "\t 김철수 & 남자   & 23     & 3      & 무     & AB     & 182.1  & 85.7  \\\\\n",
       "\t 손세수 & 여자   & 20     & 1      & 유     & A      & 168.0  & 49.5  \\\\\n",
       "\t 박미희 & 여자   & 21     & 2      & 무     & O      & 162.0  & 52.0  \\\\\n",
       "\t 강수친 & 여자   & 22     & 1      & 무     & O      & 155.2  & 45.3  \\\\\n",
       "\t 이희수 & 여자   & 23     & 1      & 무     & A      & 176.9  & 55.0  \\\\\n",
       "\t 이철린 & 남자   & 23     & 3      & 무     & B      & 178.5  & 64.2  \\\\\n",
       "\t 방희철 & 남자   & 22     & 2      & 무     & B      & 176.1  & 61.3  \\\\\n",
       "\t 박수호 & 남자   & 24     & 4      & 유     & O      & 167.1  & 62.0  \\\\\n",
       "\t 임동민 & 남자   & 22     & 2      & 무     & AB     & 180.0  & 75.8  \\\\\n",
       "\t 김민수 & 남자   & 21     & 1      & 무     & A      & 162.2  & 55.3  \\\\\n",
       "\t 이희진 & 여자   & 23     & 3      & 무     & O      & 176.1  & 53.1  \\\\\n",
       "\t 김미진 & 여자   & 22     & 2      & 무     & B      & 158.2  & 45.2  \\\\\n",
       "\t 김동수 & 남자   & 24     & 4      & 유     & B      & 168.6  & 70.2  \\\\\n",
       "\t 여수근 & 남자   & 21     & 1      & 무     & A      & 169.2  & 62.2  \\\\\n",
       "\\end{tabular}\n"
      ],
      "text/markdown": [
       "\n",
       "| name | gender | age | grade | absence | bloodtype | height | weight |\n",
       "|---|---|---|---|---|---|---|---|\n",
       "| 김길동 | 남자   | 23     | 3      | 유     | O      | 165.3  | 68.2   |\n",
       "| 이미린 | 여자   | 22     | 2      | 무     | AB     | 170.1  | 53.0   |\n",
       "| 홍길동 | 남자   | 24     | 4      | 무     | B      | 175.0  | 80.1   |\n",
       "| 김철수 | 남자   | 23     | 3      | 무     | AB     | 182.1  | 85.7   |\n",
       "| 손세수 | 여자   | 20     | 1      | 유     | A      | 168.0  | 49.5   |\n",
       "| 박미희 | 여자   | 21     | 2      | 무     | O      | 162.0  | 52.0   |\n",
       "| 강수친 | 여자   | 22     | 1      | 무     | O      | 155.2  | 45.3   |\n",
       "| 이희수 | 여자   | 23     | 1      | 무     | A      | 176.9  | 55.0   |\n",
       "| 이철린 | 남자   | 23     | 3      | 무     | B      | 178.5  | 64.2   |\n",
       "| 방희철 | 남자   | 22     | 2      | 무     | B      | 176.1  | 61.3   |\n",
       "| 박수호 | 남자   | 24     | 4      | 유     | O      | 167.1  | 62.0   |\n",
       "| 임동민 | 남자   | 22     | 2      | 무     | AB     | 180.0  | 75.8   |\n",
       "| 김민수 | 남자   | 21     | 1      | 무     | A      | 162.2  | 55.3   |\n",
       "| 이희진 | 여자   | 23     | 3      | 무     | O      | 176.1  | 53.1   |\n",
       "| 김미진 | 여자   | 22     | 2      | 무     | B      | 158.2  | 45.2   |\n",
       "| 김동수 | 남자   | 24     | 4      | 유     | B      | 168.6  | 70.2   |\n",
       "| 여수근 | 남자   | 21     | 1      | 무     | A      | 169.2  | 62.2   |\n",
       "\n"
      ],
      "text/plain": [
       "   name   gender age grade absence bloodtype height weight\n",
       "1  김길동 남자   23  3     유      O         165.3  68.2  \n",
       "2  이미린 여자   22  2     무      AB        170.1  53.0  \n",
       "3  홍길동 남자   24  4     무      B         175.0  80.1  \n",
       "4  김철수 남자   23  3     무      AB        182.1  85.7  \n",
       "5  손세수 여자   20  1     유      A         168.0  49.5  \n",
       "6  박미희 여자   21  2     무      O         162.0  52.0  \n",
       "7  강수친 여자   22  1     무      O         155.2  45.3  \n",
       "8  이희수 여자   23  1     무      A         176.9  55.0  \n",
       "9  이철린 남자   23  3     무      B         178.5  64.2  \n",
       "10 방희철 남자   22  2     무      B         176.1  61.3  \n",
       "11 박수호 남자   24  4     유      O         167.1  62.0  \n",
       "12 임동민 남자   22  2     무      AB        180.0  75.8  \n",
       "13 김민수 남자   21  1     무      A         162.2  55.3  \n",
       "14 이희진 여자   23  3     무      O         176.1  53.1  \n",
       "15 김미진 여자   22  2     무      B         158.2  45.2  \n",
       "16 김동수 남자   24  4     유      B         168.6  70.2  \n",
       "17 여수근 남자   21  1     무      A         169.2  62.2  "
      ]
     },
     "metadata": {},
     "output_type": "display_data"
    }
   ],
   "source": [
    "stu <- read.csv('./files/studentlist.csv', header=TRUE\n",
    "                , fileEncoding='utf-8', encoding='utf-8')\n",
    "stu\n",
    "# name\tgender\tage\tgrade\tabsence\tbloodtype\theight\tweight\n",
    "# 김길동\t남자\t23\t3\t유\tO\t165.3\t68.2\n",
    "# 이미린\t여자\t22\t2\t무\tAB\t170.1\t53.0\n",
    "# 홍길동\t남자\t24\t4\t무\tB\t175.0\t80.1\n",
    "# 김철수\t남자\t23\t3\t무\tAB\t182.1\t85.7\n",
    "# 손세수\t여자\t20\t1\t유\tA\t168.0\t49.5\n",
    "# 박미희\t여자\t21\t2\t무\tO\t162.0\t52.0\n",
    "# 강수친\t여자\t22\t1\t무\tO\t155.2\t45.3\n",
    "# 이희수\t여자\t23\t1\t무\tA\t176.9\t55.0\n",
    "# 이철린\t남자\t23\t3\t무\tB\t178.5\t64.2\n",
    "# 방희철\t남자\t22\t2\t무\tB\t176.1\t61.3\n",
    "# 박수호\t남자\t24\t4\t유\tO\t167.1\t62.0\n",
    "# 임동민\t남자\t22\t2\t무\tAB\t180.0\t75.8\n",
    "# 김민수\t남자\t21\t1\t무\tA\t162.2\t55.3\n",
    "# 이희진\t여자\t23\t3\t무\tO\t176.1\t53.1\n",
    "# 김미진\t여자\t22\t2\t무\tB\t158.2\t45.2\n",
    "# 김동수\t남자\t24\t4\t유\tB\t168.6\t70.2\n",
    "# 여수근\t남자\t21\t1\t무\tA\t169.2\t62.2\n"
   ]
  },
  {
   "cell_type": "code",
   "execution_count": 9,
   "metadata": {},
   "outputs": [
    {
     "data": {
      "text/html": [
       "3"
      ],
      "text/latex": [
       "3"
      ],
      "text/markdown": [
       "3"
      ],
      "text/plain": [
       "[1] 3"
      ]
     },
     "metadata": {},
     "output_type": "display_data"
    },
    {
     "data": {
      "text/html": [
       "3"
      ],
      "text/latex": [
       "3"
      ],
      "text/markdown": [
       "3"
      ],
      "text/plain": [
       "[1] 3"
      ]
     },
     "metadata": {},
     "output_type": "display_data"
    }
   ],
   "source": [
    "# str Dateframe의 name변수의 값이 홍길동인 index \n",
    "which(stu$name == '홍길동')\n",
    "which(stu == '홍길동')\n",
    "# 3\n",
    "# 3"
   ]
  },
  {
   "cell_type": "code",
   "execution_count": 10,
   "metadata": {
    "scrolled": true
   },
   "outputs": [
    {
     "data": {
      "text/html": [
       "<table>\n",
       "<thead><tr><th scope=col>row</th><th scope=col>col</th></tr></thead>\n",
       "<tbody>\n",
       "\t<tr><td>3</td><td>1</td></tr>\n",
       "</tbody>\n",
       "</table>\n"
      ],
      "text/latex": [
       "\\begin{tabular}{ll}\n",
       " row & col\\\\\n",
       "\\hline\n",
       "\t 3 & 1\\\\\n",
       "\\end{tabular}\n"
      ],
      "text/markdown": [
       "\n",
       "| row | col |\n",
       "|---|---|\n",
       "| 3 | 1 |\n",
       "\n"
      ],
      "text/plain": [
       "     row col\n",
       "[1,] 3   1  "
      ]
     },
     "metadata": {},
     "output_type": "display_data"
    }
   ],
   "source": [
    "# arr.ind: index 출력, 행렬 index 출력\n",
    "which(stu == '홍길동', arr.ind=TRUE)\n",
    "# row\tcol\n",
    "# 3\t1"
   ]
  },
  {
   "cell_type": "code",
   "execution_count": 11,
   "metadata": {},
   "outputs": [
    {
     "name": "stdout",
     "output_type": "stream",
     "text": [
      " [1]  2  3  4  6  7  8  9 10 12 13 14 15 17\n"
     ]
    },
    {
     "data": {
      "text/html": [
       "'integer'"
      ],
      "text/latex": [
       "'integer'"
      ],
      "text/markdown": [
       "'integer'"
      ],
      "text/plain": [
       "[1] \"integer\""
      ]
     },
     "metadata": {},
     "output_type": "display_data"
    },
    {
     "data": {
      "text/html": [
       "<ol class=list-inline>\n",
       "\t<li>'integer'</li>\n",
       "\t<li>'double'</li>\n",
       "\t<li>'numeric'</li>\n",
       "\t<li>'vector'</li>\n",
       "\t<li>'data.frameRowLabels'</li>\n",
       "</ol>\n"
      ],
      "text/latex": [
       "\\begin{enumerate*}\n",
       "\\item 'integer'\n",
       "\\item 'double'\n",
       "\\item 'numeric'\n",
       "\\item 'vector'\n",
       "\\item 'data.frameRowLabels'\n",
       "\\end{enumerate*}\n"
      ],
      "text/markdown": [
       "1. 'integer'\n",
       "2. 'double'\n",
       "3. 'numeric'\n",
       "4. 'vector'\n",
       "5. 'data.frameRowLabels'\n",
       "\n",
       "\n"
      ],
      "text/plain": [
       "[1] \"integer\"             \"double\"              \"numeric\"            \n",
       "[4] \"vector\"              \"data.frameRowLabels\""
      ]
     },
     "metadata": {},
     "output_type": "display_data"
    },
    {
     "name": "stdout",
     "output_type": "stream",
     "text": [
      "[1] 13\n"
     ]
    }
   ],
   "source": [
    "absence <- which(stu$absence == \"무\") # 결석이 없는 학생만 출력\n",
    "print(absence) # 결석이 없는 학생들의 행 index\n",
    "class(absence) # 요소의 타입\n",
    "is(absence)    # R 데이터 타입\n",
    "print(length(absence)) # 결석하지않은 학생수\n",
    "#  [1]  2  3  4  6  7  8  9 10 12 13 14 15 17\n",
    "# 'integer'\n",
    "# 'integer' 'double' 'numeric' 'vector' 'data.frameRowLabels'\n",
    "# [1] 13"
   ]
  },
  {
   "cell_type": "code",
   "execution_count": 12,
   "metadata": {},
   "outputs": [
    {
     "data": {
      "text/html": [
       "<table>\n",
       "<thead><tr><th scope=col>row</th><th scope=col>col</th></tr></thead>\n",
       "<tbody>\n",
       "\t<tr><td> 2</td><td>5 </td></tr>\n",
       "\t<tr><td> 3</td><td>5 </td></tr>\n",
       "\t<tr><td> 4</td><td>5 </td></tr>\n",
       "\t<tr><td> 6</td><td>5 </td></tr>\n",
       "\t<tr><td> 7</td><td>5 </td></tr>\n",
       "\t<tr><td> 8</td><td>5 </td></tr>\n",
       "\t<tr><td> 9</td><td>5 </td></tr>\n",
       "\t<tr><td>10</td><td>5 </td></tr>\n",
       "\t<tr><td>12</td><td>5 </td></tr>\n",
       "\t<tr><td>13</td><td>5 </td></tr>\n",
       "\t<tr><td>14</td><td>5 </td></tr>\n",
       "\t<tr><td>15</td><td>5 </td></tr>\n",
       "\t<tr><td>17</td><td>5 </td></tr>\n",
       "</tbody>\n",
       "</table>\n"
      ],
      "text/latex": [
       "\\begin{tabular}{ll}\n",
       " row & col\\\\\n",
       "\\hline\n",
       "\t  2 & 5 \\\\\n",
       "\t  3 & 5 \\\\\n",
       "\t  4 & 5 \\\\\n",
       "\t  6 & 5 \\\\\n",
       "\t  7 & 5 \\\\\n",
       "\t  8 & 5 \\\\\n",
       "\t  9 & 5 \\\\\n",
       "\t 10 & 5 \\\\\n",
       "\t 12 & 5 \\\\\n",
       "\t 13 & 5 \\\\\n",
       "\t 14 & 5 \\\\\n",
       "\t 15 & 5 \\\\\n",
       "\t 17 & 5 \\\\\n",
       "\\end{tabular}\n"
      ],
      "text/markdown": [
       "\n",
       "| row | col |\n",
       "|---|---|\n",
       "|  2 | 5  |\n",
       "|  3 | 5  |\n",
       "|  4 | 5  |\n",
       "|  6 | 5  |\n",
       "|  7 | 5  |\n",
       "|  8 | 5  |\n",
       "|  9 | 5  |\n",
       "| 10 | 5  |\n",
       "| 12 | 5  |\n",
       "| 13 | 5  |\n",
       "| 14 | 5  |\n",
       "| 15 | 5  |\n",
       "| 17 | 5  |\n",
       "\n"
      ],
      "text/plain": [
       "      row col\n",
       " [1,]  2  5  \n",
       " [2,]  3  5  \n",
       " [3,]  4  5  \n",
       " [4,]  6  5  \n",
       " [5,]  7  5  \n",
       " [6,]  8  5  \n",
       " [7,]  9  5  \n",
       " [8,] 10  5  \n",
       " [9,] 12  5  \n",
       "[10,] 13  5  \n",
       "[11,] 14  5  \n",
       "[12,] 15  5  \n",
       "[13,] 17  5  "
      ]
     },
     "metadata": {},
     "output_type": "display_data"
    }
   ],
   "source": [
    "# '무'라는 문자열이 있는 관측치의 index 출력\n",
    "idx <- which(stu == \"무\", arr.ind = TRUE) \n",
    "idx\n",
    "# row\tcol\n",
    "# 2\t5\n",
    "# 3\t5\n",
    "# 4\t5\n",
    "# 6\t5\n",
    "# 7\t5\n",
    "# 8\t5\n",
    "# 9\t5\n",
    "# 10\t5\n",
    "# 12\t5\n",
    "# 13\t5\n",
    "# 14\t5\n",
    "# 15\t5\n",
    "# 17\t5\n"
   ]
  },
  {
   "cell_type": "code",
   "execution_count": 34,
   "metadata": {},
   "outputs": [
    {
     "data": {
      "text/html": [
       "<ol class=list-inline>\n",
       "\t<li>FALSE</li>\n",
       "\t<li>TRUE</li>\n",
       "\t<li>TRUE</li>\n",
       "\t<li>TRUE</li>\n",
       "\t<li>FALSE</li>\n",
       "\t<li>TRUE</li>\n",
       "\t<li>TRUE</li>\n",
       "\t<li>TRUE</li>\n",
       "\t<li>TRUE</li>\n",
       "\t<li>TRUE</li>\n",
       "\t<li>FALSE</li>\n",
       "\t<li>TRUE</li>\n",
       "\t<li>TRUE</li>\n",
       "\t<li>TRUE</li>\n",
       "\t<li>TRUE</li>\n",
       "\t<li>FALSE</li>\n",
       "\t<li>TRUE</li>\n",
       "</ol>\n"
      ],
      "text/latex": [
       "\\begin{enumerate*}\n",
       "\\item FALSE\n",
       "\\item TRUE\n",
       "\\item TRUE\n",
       "\\item TRUE\n",
       "\\item FALSE\n",
       "\\item TRUE\n",
       "\\item TRUE\n",
       "\\item TRUE\n",
       "\\item TRUE\n",
       "\\item TRUE\n",
       "\\item FALSE\n",
       "\\item TRUE\n",
       "\\item TRUE\n",
       "\\item TRUE\n",
       "\\item TRUE\n",
       "\\item FALSE\n",
       "\\item TRUE\n",
       "\\end{enumerate*}\n"
      ],
      "text/markdown": [
       "1. FALSE\n",
       "2. TRUE\n",
       "3. TRUE\n",
       "4. TRUE\n",
       "5. FALSE\n",
       "6. TRUE\n",
       "7. TRUE\n",
       "8. TRUE\n",
       "9. TRUE\n",
       "10. TRUE\n",
       "11. FALSE\n",
       "12. TRUE\n",
       "13. TRUE\n",
       "14. TRUE\n",
       "15. TRUE\n",
       "16. FALSE\n",
       "17. TRUE\n",
       "\n",
       "\n"
      ],
      "text/plain": [
       " [1] FALSE  TRUE  TRUE  TRUE FALSE  TRUE  TRUE  TRUE  TRUE  TRUE FALSE  TRUE\n",
       "[13]  TRUE  TRUE  TRUE FALSE  TRUE"
      ]
     },
     "metadata": {},
     "output_type": "display_data"
    },
    {
     "data": {
      "text/html": [
       "'logical'"
      ],
      "text/latex": [
       "'logical'"
      ],
      "text/markdown": [
       "'logical'"
      ],
      "text/plain": [
       "[1] \"logical\""
      ]
     },
     "metadata": {},
     "output_type": "display_data"
    }
   ],
   "source": [
    "absense_sw <- stu$absence == \"무\" # 논리 값 \n",
    "absense_sw\n",
    "class(absense_sw)\n",
    "# FALSE TRUE TRUE TRUE FALSE TRUE TRUE TRUE TRUE TRUE FALSE TRUE TRUE TRUE TRUE FALSE TRUE\n",
    "# 'logical'"
   ]
  },
  {
   "cell_type": "code",
   "execution_count": 36,
   "metadata": {},
   "outputs": [
    {
     "data": {
      "text/html": [
       "<table>\n",
       "<thead><tr><th></th><th scope=col>name</th><th scope=col>gender</th><th scope=col>age</th><th scope=col>grade</th><th scope=col>absence</th><th scope=col>bloodtype</th><th scope=col>height</th><th scope=col>weight</th></tr></thead>\n",
       "<tbody>\n",
       "\t<tr><th scope=row>2</th><td>이미린</td><td>여자  </td><td>22    </td><td>2     </td><td>무    </td><td>AB    </td><td>170.1 </td><td>53.0  </td></tr>\n",
       "\t<tr><th scope=row>3</th><td>홍길동</td><td>남자  </td><td>24    </td><td>4     </td><td>무    </td><td>B     </td><td>175.0 </td><td>80.1  </td></tr>\n",
       "\t<tr><th scope=row>4</th><td>김철수</td><td>남자  </td><td>23    </td><td>3     </td><td>무    </td><td>AB    </td><td>182.1 </td><td>85.7  </td></tr>\n",
       "\t<tr><th scope=row>6</th><td>박미희</td><td>여자  </td><td>21    </td><td>2     </td><td>무    </td><td>O     </td><td>162.0 </td><td>52.0  </td></tr>\n",
       "\t<tr><th scope=row>7</th><td>강수친</td><td>여자  </td><td>22    </td><td>1     </td><td>무    </td><td>O     </td><td>155.2 </td><td>45.3  </td></tr>\n",
       "\t<tr><th scope=row>8</th><td>이희수</td><td>여자  </td><td>23    </td><td>1     </td><td>무    </td><td>A     </td><td>176.9 </td><td>55.0  </td></tr>\n",
       "\t<tr><th scope=row>9</th><td>이철린</td><td>남자  </td><td>23    </td><td>3     </td><td>무    </td><td>B     </td><td>178.5 </td><td>64.2  </td></tr>\n",
       "\t<tr><th scope=row>10</th><td>방희철</td><td>남자  </td><td>22    </td><td>2     </td><td>무    </td><td>B     </td><td>176.1 </td><td>61.3  </td></tr>\n",
       "\t<tr><th scope=row>12</th><td>임동민</td><td>남자  </td><td>22    </td><td>2     </td><td>무    </td><td>AB    </td><td>180.0 </td><td>75.8  </td></tr>\n",
       "\t<tr><th scope=row>13</th><td>김민수</td><td>남자  </td><td>21    </td><td>1     </td><td>무    </td><td>A     </td><td>162.2 </td><td>55.3  </td></tr>\n",
       "\t<tr><th scope=row>14</th><td>이희진</td><td>여자  </td><td>23    </td><td>3     </td><td>무    </td><td>O     </td><td>176.1 </td><td>53.1  </td></tr>\n",
       "\t<tr><th scope=row>15</th><td>김미진</td><td>여자  </td><td>22    </td><td>2     </td><td>무    </td><td>B     </td><td>158.2 </td><td>45.2  </td></tr>\n",
       "\t<tr><th scope=row>17</th><td>여수근</td><td>남자  </td><td>21    </td><td>1     </td><td>무    </td><td>A     </td><td>169.2 </td><td>62.2  </td></tr>\n",
       "</tbody>\n",
       "</table>\n"
      ],
      "text/latex": [
       "\\begin{tabular}{r|llllllll}\n",
       "  & name & gender & age & grade & absence & bloodtype & height & weight\\\\\n",
       "\\hline\n",
       "\t2 & 이미린 & 여자   & 22     & 2      & 무     & AB     & 170.1  & 53.0  \\\\\n",
       "\t3 & 홍길동 & 남자   & 24     & 4      & 무     & B      & 175.0  & 80.1  \\\\\n",
       "\t4 & 김철수 & 남자   & 23     & 3      & 무     & AB     & 182.1  & 85.7  \\\\\n",
       "\t6 & 박미희 & 여자   & 21     & 2      & 무     & O      & 162.0  & 52.0  \\\\\n",
       "\t7 & 강수친 & 여자   & 22     & 1      & 무     & O      & 155.2  & 45.3  \\\\\n",
       "\t8 & 이희수 & 여자   & 23     & 1      & 무     & A      & 176.9  & 55.0  \\\\\n",
       "\t9 & 이철린 & 남자   & 23     & 3      & 무     & B      & 178.5  & 64.2  \\\\\n",
       "\t10 & 방희철 & 남자   & 22     & 2      & 무     & B      & 176.1  & 61.3  \\\\\n",
       "\t12 & 임동민 & 남자   & 22     & 2      & 무     & AB     & 180.0  & 75.8  \\\\\n",
       "\t13 & 김민수 & 남자   & 21     & 1      & 무     & A      & 162.2  & 55.3  \\\\\n",
       "\t14 & 이희진 & 여자   & 23     & 3      & 무     & O      & 176.1  & 53.1  \\\\\n",
       "\t15 & 김미진 & 여자   & 22     & 2      & 무     & B      & 158.2  & 45.2  \\\\\n",
       "\t17 & 여수근 & 남자   & 21     & 1      & 무     & A      & 169.2  & 62.2  \\\\\n",
       "\\end{tabular}\n"
      ],
      "text/markdown": [
       "\n",
       "| <!--/--> | name | gender | age | grade | absence | bloodtype | height | weight |\n",
       "|---|---|---|---|---|---|---|---|---|\n",
       "| 2 | 이미린 | 여자   | 22     | 2      | 무     | AB     | 170.1  | 53.0   |\n",
       "| 3 | 홍길동 | 남자   | 24     | 4      | 무     | B      | 175.0  | 80.1   |\n",
       "| 4 | 김철수 | 남자   | 23     | 3      | 무     | AB     | 182.1  | 85.7   |\n",
       "| 6 | 박미희 | 여자   | 21     | 2      | 무     | O      | 162.0  | 52.0   |\n",
       "| 7 | 강수친 | 여자   | 22     | 1      | 무     | O      | 155.2  | 45.3   |\n",
       "| 8 | 이희수 | 여자   | 23     | 1      | 무     | A      | 176.9  | 55.0   |\n",
       "| 9 | 이철린 | 남자   | 23     | 3      | 무     | B      | 178.5  | 64.2   |\n",
       "| 10 | 방희철 | 남자   | 22     | 2      | 무     | B      | 176.1  | 61.3   |\n",
       "| 12 | 임동민 | 남자   | 22     | 2      | 무     | AB     | 180.0  | 75.8   |\n",
       "| 13 | 김민수 | 남자   | 21     | 1      | 무     | A      | 162.2  | 55.3   |\n",
       "| 14 | 이희진 | 여자   | 23     | 3      | 무     | O      | 176.1  | 53.1   |\n",
       "| 15 | 김미진 | 여자   | 22     | 2      | 무     | B      | 158.2  | 45.2   |\n",
       "| 17 | 여수근 | 남자   | 21     | 1      | 무     | A      | 169.2  | 62.2   |\n",
       "\n"
      ],
      "text/plain": [
       "   name   gender age grade absence bloodtype height weight\n",
       "2  이미린 여자   22  2     무      AB        170.1  53.0  \n",
       "3  홍길동 남자   24  4     무      B         175.0  80.1  \n",
       "4  김철수 남자   23  3     무      AB        182.1  85.7  \n",
       "6  박미희 여자   21  2     무      O         162.0  52.0  \n",
       "7  강수친 여자   22  1     무      O         155.2  45.3  \n",
       "8  이희수 여자   23  1     무      A         176.9  55.0  \n",
       "9  이철린 남자   23  3     무      B         178.5  64.2  \n",
       "10 방희철 남자   22  2     무      B         176.1  61.3  \n",
       "12 임동민 남자   22  2     무      AB        180.0  75.8  \n",
       "13 김민수 남자   21  1     무      A         162.2  55.3  \n",
       "14 이희진 여자   23  3     무      O         176.1  53.1  \n",
       "15 김미진 여자   22  2     무      B         158.2  45.2  \n",
       "17 여수근 남자   21  1     무      A         169.2  62.2  "
      ]
     },
     "metadata": {},
     "output_type": "display_data"
    }
   ],
   "source": [
    "# 결석을 하지 않은 사람들만 출력\n",
    "stu <- subset(stu, subset=(stu$absence == \"무\"))\n",
    "stu\n",
    "# name\tgender\tage\tgrade\tabsence\tbloodtype\theight\tweight\n",
    "# 2\t이미린\t여자\t22\t2\t무\tAB\t170.1\t53.0\n",
    "# 3\t홍길동\t남자\t24\t4\t무\tB\t175.0\t80.1\n",
    "# 4\t김철수\t남자\t23\t3\t무\tAB\t182.1\t85.7\n",
    "# 6\t박미희\t여자\t21\t2\t무\tO\t162.0\t52.0\n",
    "# 7\t강수친\t여자\t22\t1\t무\tO\t155.2\t45.3\n",
    "# 8\t이희수\t여자\t23\t1\t무\tA\t176.9\t55.0\n",
    "# 9\t이철린\t남자\t23\t3\t무\tB\t178.5\t64.2\n",
    "# 10\t방희철\t남자\t22\t2\t무\tB\t176.1\t61.3\n",
    "# 12\t임동민\t남자\t22\t2\t무\tAB\t180.0\t75.8\n",
    "# 13\t김민수\t남자\t21\t1\t무\tA\t162.2\t55.3\n",
    "# 14\t이희진\t여자\t23\t3\t무\tO\t176.1\t53.1\n",
    "# 15\t김미진\t여자\t22\t2\t무\tB\t158.2\t45.2\n",
    "# 17\t여수근\t남자\t21\t1\t무\tA\t169.2\t62.2\n"
   ]
  },
  {
   "cell_type": "code",
   "execution_count": 37,
   "metadata": {},
   "outputs": [
    {
     "data": {
      "text/html": [
       "<table>\n",
       "<thead><tr><th></th><th scope=col>name</th><th scope=col>gender</th><th scope=col>height</th><th scope=col>weight</th></tr></thead>\n",
       "<tbody>\n",
       "\t<tr><th scope=row>2</th><td>이미린</td><td>여자  </td><td>170.1 </td><td>53.0  </td></tr>\n",
       "\t<tr><th scope=row>3</th><td>홍길동</td><td>남자  </td><td>175.0 </td><td>80.1  </td></tr>\n",
       "\t<tr><th scope=row>4</th><td>김철수</td><td>남자  </td><td>182.1 </td><td>85.7  </td></tr>\n",
       "\t<tr><th scope=row>6</th><td>박미희</td><td>여자  </td><td>162.0 </td><td>52.0  </td></tr>\n",
       "\t<tr><th scope=row>7</th><td>강수친</td><td>여자  </td><td>155.2 </td><td>45.3  </td></tr>\n",
       "\t<tr><th scope=row>8</th><td>이희수</td><td>여자  </td><td>176.9 </td><td>55.0  </td></tr>\n",
       "</tbody>\n",
       "</table>\n"
      ],
      "text/latex": [
       "\\begin{tabular}{r|llll}\n",
       "  & name & gender & height & weight\\\\\n",
       "\\hline\n",
       "\t2 & 이미린 & 여자   & 170.1  & 53.0  \\\\\n",
       "\t3 & 홍길동 & 남자   & 175.0  & 80.1  \\\\\n",
       "\t4 & 김철수 & 남자   & 182.1  & 85.7  \\\\\n",
       "\t6 & 박미희 & 여자   & 162.0  & 52.0  \\\\\n",
       "\t7 & 강수친 & 여자   & 155.2  & 45.3  \\\\\n",
       "\t8 & 이희수 & 여자   & 176.9  & 55.0  \\\\\n",
       "\\end{tabular}\n"
      ],
      "text/markdown": [
       "\n",
       "| <!--/--> | name | gender | height | weight |\n",
       "|---|---|---|---|---|\n",
       "| 2 | 이미린 | 여자   | 170.1  | 53.0   |\n",
       "| 3 | 홍길동 | 남자   | 175.0  | 80.1   |\n",
       "| 4 | 김철수 | 남자   | 182.1  | 85.7   |\n",
       "| 6 | 박미희 | 여자   | 162.0  | 52.0   |\n",
       "| 7 | 강수친 | 여자   | 155.2  | 45.3   |\n",
       "| 8 | 이희수 | 여자   | 176.9  | 55.0   |\n",
       "\n"
      ],
      "text/plain": [
       "  name   gender height weight\n",
       "2 이미린 여자   170.1  53.0  \n",
       "3 홍길동 남자   175.0  80.1  \n",
       "4 김철수 남자   182.1  85.7  \n",
       "6 박미희 여자   162.0  52.0  \n",
       "7 강수친 여자   155.2  45.3  \n",
       "8 이희수 여자   176.9  55.0  "
      ]
     },
     "metadata": {},
     "output_type": "display_data"
    },
    {
     "data": {
      "text/html": [
       "<table>\n",
       "<thead><tr><th></th><th scope=col>name</th><th scope=col>gender</th><th scope=col>height</th><th scope=col>weight</th></tr></thead>\n",
       "<tbody>\n",
       "\t<tr><th scope=row>2</th><td>이미린</td><td>여자  </td><td>170.1 </td><td>53.0  </td></tr>\n",
       "\t<tr><th scope=row>3</th><td>홍길동</td><td>남자  </td><td>175.0 </td><td>80.1  </td></tr>\n",
       "\t<tr><th scope=row>4</th><td>김철수</td><td>남자  </td><td>182.1 </td><td>85.7  </td></tr>\n",
       "\t<tr><th scope=row>6</th><td>박미희</td><td>여자  </td><td>162.0 </td><td>52.0  </td></tr>\n",
       "\t<tr><th scope=row>7</th><td>강수친</td><td>여자  </td><td>155.2 </td><td>45.3  </td></tr>\n",
       "\t<tr><th scope=row>8</th><td>이희수</td><td>여자  </td><td>176.9 </td><td>55.0  </td></tr>\n",
       "</tbody>\n",
       "</table>\n"
      ],
      "text/latex": [
       "\\begin{tabular}{r|llll}\n",
       "  & name & gender & height & weight\\\\\n",
       "\\hline\n",
       "\t2 & 이미린 & 여자   & 170.1  & 53.0  \\\\\n",
       "\t3 & 홍길동 & 남자   & 175.0  & 80.1  \\\\\n",
       "\t4 & 김철수 & 남자   & 182.1  & 85.7  \\\\\n",
       "\t6 & 박미희 & 여자   & 162.0  & 52.0  \\\\\n",
       "\t7 & 강수친 & 여자   & 155.2  & 45.3  \\\\\n",
       "\t8 & 이희수 & 여자   & 176.9  & 55.0  \\\\\n",
       "\\end{tabular}\n"
      ],
      "text/markdown": [
       "\n",
       "| <!--/--> | name | gender | height | weight |\n",
       "|---|---|---|---|---|\n",
       "| 2 | 이미린 | 여자   | 170.1  | 53.0   |\n",
       "| 3 | 홍길동 | 남자   | 175.0  | 80.1   |\n",
       "| 4 | 김철수 | 남자   | 182.1  | 85.7   |\n",
       "| 6 | 박미희 | 여자   | 162.0  | 52.0   |\n",
       "| 7 | 강수친 | 여자   | 155.2  | 45.3   |\n",
       "| 8 | 이희수 | 여자   | 176.9  | 55.0   |\n",
       "\n"
      ],
      "text/plain": [
       "  name   gender height weight\n",
       "2 이미린 여자   170.1  53.0  \n",
       "3 홍길동 남자   175.0  80.1  \n",
       "4 김철수 남자   182.1  85.7  \n",
       "6 박미희 여자   162.0  52.0  \n",
       "7 강수친 여자   155.2  45.3  \n",
       "8 이희수 여자   176.9  55.0  "
      ]
     },
     "metadata": {},
     "output_type": "display_data"
    }
   ],
   "source": [
    "# 출력할 변수의 지정\n",
    "# 칼럼 제거\n",
    "stu1 <- subset(stu, select=c(-age, -grade, -absence, -bloodtype))\n",
    "head(stu1) # 6건만 처리\n",
    "# 칼럼 추가\n",
    "stu2 <- subset(stu, select=c(name, gender, height, weight))\n",
    "head(stu2)\n",
    "\n",
    "# 결과 동일\n",
    "# \tname\tgender\theight\tweight\n",
    "# 2\t이미린\t여자\t170.1\t53.0\n",
    "# 3\t홍길동\t남자\t175.0\t80.1\n",
    "# 4\t김철수\t남자\t182.1\t85.7\n",
    "# 6\t박미희\t여자\t162.0\t52.0\n",
    "# 7\t강수친\t여자\t155.2\t45.3\n",
    "# 8\t이희수\t여자\t176.9\t55.0\n"
   ]
  },
  {
   "cell_type": "code",
   "execution_count": 13,
   "metadata": {},
   "outputs": [
    {
     "data": {
      "text/html": [
       "<ol class=list-inline>\n",
       "\t<li>1</li>\n",
       "\t<li>2</li>\n",
       "\t<li>3</li>\n",
       "\t<li>4</li>\n",
       "\t<li>5</li>\n",
       "\t<li>6</li>\n",
       "\t<li>7</li>\n",
       "\t<li>8</li>\n",
       "\t<li>9</li>\n",
       "\t<li>10</li>\n",
       "</ol>\n"
      ],
      "text/latex": [
       "\\begin{enumerate*}\n",
       "\\item 1\n",
       "\\item 2\n",
       "\\item 3\n",
       "\\item 4\n",
       "\\item 5\n",
       "\\item 6\n",
       "\\item 7\n",
       "\\item 8\n",
       "\\item 9\n",
       "\\item 10\n",
       "\\end{enumerate*}\n"
      ],
      "text/markdown": [
       "1. 1\n",
       "2. 2\n",
       "3. 3\n",
       "4. 4\n",
       "5. 5\n",
       "6. 6\n",
       "7. 7\n",
       "8. 8\n",
       "9. 9\n",
       "10. 10\n",
       "\n",
       "\n"
      ],
      "text/plain": [
       " [1]  1  2  3  4  5  6  7  8  9 10"
      ]
     },
     "metadata": {},
     "output_type": "display_data"
    },
    {
     "data": {
      "text/html": [
       "<ol class=list-inline>\n",
       "\t<li>'integer'</li>\n",
       "\t<li>'double'</li>\n",
       "\t<li>'numeric'</li>\n",
       "\t<li>'vector'</li>\n",
       "\t<li>'data.frameRowLabels'</li>\n",
       "</ol>\n"
      ],
      "text/latex": [
       "\\begin{enumerate*}\n",
       "\\item 'integer'\n",
       "\\item 'double'\n",
       "\\item 'numeric'\n",
       "\\item 'vector'\n",
       "\\item 'data.frameRowLabels'\n",
       "\\end{enumerate*}\n"
      ],
      "text/markdown": [
       "1. 'integer'\n",
       "2. 'double'\n",
       "3. 'numeric'\n",
       "4. 'vector'\n",
       "5. 'data.frameRowLabels'\n",
       "\n",
       "\n"
      ],
      "text/plain": [
       "[1] \"integer\"             \"double\"              \"numeric\"            \n",
       "[4] \"vector\"              \"data.frameRowLabels\""
      ]
     },
     "metadata": {},
     "output_type": "display_data"
    },
    {
     "data": {
      "text/html": [
       "<ol class=list-inline>\n",
       "\t<li>1</li>\n",
       "\t<li>2</li>\n",
       "\t<li>3</li>\n",
       "\t<li>4</li>\n",
       "\t<li>5</li>\n",
       "\t<li>6</li>\n",
       "\t<li>7</li>\n",
       "\t<li>8</li>\n",
       "\t<li>9</li>\n",
       "\t<li>10</li>\n",
       "</ol>\n"
      ],
      "text/latex": [
       "\\begin{enumerate*}\n",
       "\\item 1\n",
       "\\item 2\n",
       "\\item 3\n",
       "\\item 4\n",
       "\\item 5\n",
       "\\item 6\n",
       "\\item 7\n",
       "\\item 8\n",
       "\\item 9\n",
       "\\item 10\n",
       "\\end{enumerate*}\n"
      ],
      "text/markdown": [
       "1. 1\n",
       "2. 2\n",
       "3. 3\n",
       "4. 4\n",
       "5. 5\n",
       "6. 6\n",
       "7. 7\n",
       "8. 8\n",
       "9. 9\n",
       "10. 10\n",
       "\n",
       "\n"
      ],
      "text/plain": [
       " [1]  1  2  3  4  5  6  7  8  9 10"
      ]
     },
     "metadata": {},
     "output_type": "display_data"
    },
    {
     "data": {
      "text/html": [
       "<ol class=list-inline>\n",
       "\t<li>'integer'</li>\n",
       "\t<li>'double'</li>\n",
       "\t<li>'numeric'</li>\n",
       "\t<li>'vector'</li>\n",
       "\t<li>'data.frameRowLabels'</li>\n",
       "</ol>\n"
      ],
      "text/latex": [
       "\\begin{enumerate*}\n",
       "\\item 'integer'\n",
       "\\item 'double'\n",
       "\\item 'numeric'\n",
       "\\item 'vector'\n",
       "\\item 'data.frameRowLabels'\n",
       "\\end{enumerate*}\n"
      ],
      "text/markdown": [
       "1. 'integer'\n",
       "2. 'double'\n",
       "3. 'numeric'\n",
       "4. 'vector'\n",
       "5. 'data.frameRowLabels'\n",
       "\n",
       "\n"
      ],
      "text/plain": [
       "[1] \"integer\"             \"double\"              \"numeric\"            \n",
       "[4] \"vector\"              \"data.frameRowLabels\""
      ]
     },
     "metadata": {},
     "output_type": "display_data"
    }
   ],
   "source": [
    "# 시퀀스 생성시 c를 쓰지 않아도 결과 동일\n",
    "i <- 1:10   # vector 생성\n",
    "i\n",
    "is(i)\n",
    "\n",
    "i <- c(1:10) # 함수 사용 vector 생성\n",
    "i\n",
    "is(i)"
   ]
  },
  {
   "cell_type": "code",
   "execution_count": 41,
   "metadata": {},
   "outputs": [
    {
     "name": "stdout",
     "output_type": "stream",
     "text": [
      "[1] 1\n",
      "[1] 2\n",
      "[1] 3\n",
      "[1] 4\n",
      "[1] 5\n",
      "[1] 6\n",
      "[1] 7\n",
      "[1] 8\n",
      "[1] 9\n",
      "[1] 10\n"
     ]
    }
   ],
   "source": [
    "# for문\n",
    "for (n in i) {  # vecot의 요소 출력\n",
    "    print(n)\n",
    "}"
   ]
  },
  {
   "cell_type": "code",
   "execution_count": 43,
   "metadata": {},
   "outputs": [],
   "source": [
    "d <- numeric() # 숫자형 vector 생성\n",
    "for (n in i) {\n",
    "    d[n] <- n * 2 # vector에 배수 저장\n",
    "}"
   ]
  },
  {
   "cell_type": "code",
   "execution_count": 44,
   "metadata": {},
   "outputs": [
    {
     "name": "stdout",
     "output_type": "stream",
     "text": [
      "[1] 2\n",
      "[1] 4\n",
      "[1] 6\n",
      "[1] 8\n",
      "[1] 10\n",
      "[1] 12\n",
      "[1] 14\n",
      "[1] 16\n",
      "[1] 18\n",
      "[1] 20\n"
     ]
    }
   ],
   "source": [
    "for (n in d) {\n",
    "    print(n) # 배수 출력\n",
    "}\n",
    "# [1] 2\n",
    "# [1] 4\n",
    "# [1] 6\n",
    "# [1] 8\n",
    "# [1] 10\n",
    "# [1] 12\n",
    "# [1] 14\n",
    "# [1] 16\n",
    "# [1] 18\n",
    "# [1] 20"
   ]
  },
  {
   "cell_type": "code",
   "execution_count": 45,
   "metadata": {},
   "outputs": [
    {
     "name": "stdout",
     "output_type": "stream",
     "text": [
      "[1] 2\n",
      "[1] 4\n",
      "[1] 6\n",
      "[1] 8\n",
      "[1] 10\n"
     ]
    }
   ],
   "source": [
    "i <- 1:10\n",
    "for(n in i) {\n",
    "    if (n %% 2 == 0) { # 짝수만 출력, 나머지 구함\n",
    "        print(n)\n",
    "    }\n",
    "}"
   ]
  },
  {
   "cell_type": "code",
   "execution_count": 47,
   "metadata": {},
   "outputs": [
    {
     "name": "stdout",
     "output_type": "stream",
     "text": [
      "[1] 1\n",
      "[1] 3\n",
      "[1] 5\n",
      "[1] 7\n",
      "[1] 9\n"
     ]
    }
   ],
   "source": [
    "# next: continue\n",
    "i <- 1:10\n",
    "for(n in i) {\n",
    "    if (n %% 2 == 0) {\n",
    "        next # 짝수일 경우는 출력 안함\n",
    "    } else {\n",
    "        print(n)\n",
    "    }\n",
    "}"
   ]
  },
  {
   "cell_type": "code",
   "execution_count": 48,
   "metadata": {},
   "outputs": [
    {
     "data": {
      "text/html": [
       "55"
      ],
      "text/latex": [
       "55"
      ],
      "text/markdown": [
       "55"
      ],
      "text/plain": [
       "[1] 55"
      ]
     },
     "metadata": {},
     "output_type": "display_data"
    }
   ],
   "source": [
    "# 1부터 10까지 숫자의 합\n",
    "sumx <- 0\n",
    "for (n in i) {\n",
    "    sumx = sumx + n\n",
    "}\n",
    "sumx"
   ]
  },
  {
   "cell_type": "code",
   "execution_count": null,
   "metadata": {},
   "outputs": [],
   "source": [
    "# 1부터 10까지 짝수, 홀수의 합"
   ]
  },
  {
   "cell_type": "code",
   "execution_count": 49,
   "metadata": {},
   "outputs": [
    {
     "data": {
      "text/html": [
       "30"
      ],
      "text/latex": [
       "30"
      ],
      "text/markdown": [
       "30"
      ],
      "text/plain": [
       "[1] 30"
      ]
     },
     "metadata": {},
     "output_type": "display_data"
    },
    {
     "data": {
      "text/html": [
       "25"
      ],
      "text/latex": [
       "25"
      ],
      "text/markdown": [
       "25"
      ],
      "text/plain": [
       "[1] 25"
      ]
     },
     "metadata": {},
     "output_type": "display_data"
    }
   ],
   "source": [
    "even <- 0\n",
    "odd <- 0\n",
    "for (n in i) {\n",
    "    if (n %% 2 == 0) {\n",
    "        even = even + n # 짝수의 합\n",
    "    } else { \n",
    "        odd = odd + n   # 홀수의 합\n",
    "    }\n",
    "}\n",
    "even\n",
    "odd"
   ]
  },
  {
   "cell_type": "code",
   "execution_count": 50,
   "metadata": {},
   "outputs": [
    {
     "data": {
      "text/html": [
       "5"
      ],
      "text/latex": [
       "5"
      ],
      "text/markdown": [
       "5"
      ],
      "text/plain": [
       "[1] 5"
      ]
     },
     "metadata": {},
     "output_type": "display_data"
    },
    {
     "data": {
      "text/html": [
       "5"
      ],
      "text/latex": [
       "5"
      ],
      "text/markdown": [
       "5"
      ],
      "text/plain": [
       "[1] 5"
      ]
     },
     "metadata": {},
     "output_type": "display_data"
    }
   ],
   "source": [
    "even <- 0\n",
    "odd <- 0\n",
    "for (n in i) {\n",
    "    if (n %% 2 == 0) {\n",
    "        even = even + 1 # 짝수의 갯수\n",
    "    } else { \n",
    "        odd = odd + 1   # 홀수의 갯수\n",
    "    }\n",
    "}\n",
    "even\n",
    "odd"
   ]
  },
  {
   "cell_type": "code",
   "execution_count": 54,
   "metadata": {},
   "outputs": [
    {
     "name": "stdout",
     "output_type": "stream",
     "text": [
      "[1] 1\n",
      "[1] 2\n",
      "[1] 3\n",
      "[1] 4\n",
      "[1] 5\n"
     ]
    }
   ],
   "source": [
    "# while문\n",
    "i = 1\n",
    "while(TRUE) {  # 무한 루틴, true는 반드시 대문자 사용\n",
    "    print(i)\n",
    "    # i++    # ERROR\n",
    "    # i += 1 # ERROR\n",
    "    i = i + 1\n",
    "    if (i == 6) {\n",
    "        break;  # 순환문 탈출\n",
    "    }\n",
    "}"
   ]
  },
  {
   "cell_type": "code",
   "execution_count": 55,
   "metadata": {},
   "outputs": [
    {
     "name": "stdout",
     "output_type": "stream",
     "text": [
      "[1] 5\n",
      "[1] 4\n",
      "[1] 3\n",
      "[1] 2\n",
      "[1] 1\n"
     ]
    }
   ],
   "source": [
    "i = 5\n",
    "while(i >= 1) { # 조건 명시\n",
    "    print(i)\n",
    "    i = i - 1\n",
    "}"
   ]
  },
  {
   "cell_type": "code",
   "execution_count": 56,
   "metadata": {},
   "outputs": [
    {
     "name": "stdout",
     "output_type": "stream",
     "text": [
      "[1] 8\n"
     ]
    }
   ],
   "source": [
    "# 1부터 100까지 2,3,4의 배수의 갯수는?\n",
    "# repeat도 무한 루프\n",
    "cnt <- 0\n",
    "i <- 0\n",
    "repeat {  # while(TRUE) 동일\n",
    "    i = i + 1\n",
    "    if (i %% 2 == 0 & i %% 3 == 0 & i %% 4 == 0) {\n",
    "        cnt = cnt + 1\n",
    "    }\n",
    "    if (i == 100) {\n",
    "        break\n",
    "    }\n",
    "}\n",
    "print(cnt)\n",
    "# [1] 8"
   ]
  },
  {
   "cell_type": "markdown",
   "metadata": {},
   "source": [
    "### 함수"
   ]
  },
  {
   "cell_type": "code",
   "execution_count": 15,
   "metadata": {},
   "outputs": [],
   "source": [
    "# 자바 스크립트와 유사\n",
    "f1 <- function(){\n",
    "    print('함수 호출됨')\n",
    "}"
   ]
  },
  {
   "cell_type": "code",
   "execution_count": 16,
   "metadata": {},
   "outputs": [
    {
     "name": "stdout",
     "output_type": "stream",
     "text": [
      "[1] \"함수 호출됨\"\n"
     ]
    }
   ],
   "source": [
    "f1()\n",
    "# [1] \"함수 호출됨\""
   ]
  },
  {
   "cell_type": "code",
   "execution_count": 18,
   "metadata": {},
   "outputs": [],
   "source": [
    "# 인수를 전달 받는 함수\n",
    "f2 <- function(x, y){\n",
    "    sum <- x+y\n",
    "    print(sum)\n",
    "}"
   ]
  },
  {
   "cell_type": "code",
   "execution_count": 19,
   "metadata": {},
   "outputs": [
    {
     "name": "stdout",
     "output_type": "stream",
     "text": [
      "[1] 30\n"
     ]
    }
   ],
   "source": [
    "f2(10, 20)\n",
    "# [1] 30"
   ]
  },
  {
   "cell_type": "code",
   "execution_count": 21,
   "metadata": {},
   "outputs": [],
   "source": [
    "# 두 수의 차이를 리턴하는 함수\n",
    "f3 <- function(x, y){\n",
    "    range <- x-y\n",
    "    if(range < 0){\n",
    "        range = range * -1\n",
    "    }\n",
    "    return (range) # () 생략 시 에러\n",
    "}"
   ]
  },
  {
   "cell_type": "code",
   "execution_count": 24,
   "metadata": {},
   "outputs": [
    {
     "data": {
      "text/html": [
       "9"
      ],
      "text/latex": [
       "9"
      ],
      "text/markdown": [
       "9"
      ],
      "text/plain": [
       "[1] 9"
      ]
     },
     "metadata": {},
     "output_type": "display_data"
    }
   ],
   "source": [
    "f3(1, 10)\n",
    "# 9"
   ]
  },
  {
   "cell_type": "code",
   "execution_count": 25,
   "metadata": {},
   "outputs": [],
   "source": [
    "# 1부터 100까지 2,3,4의 배수의 갯수는?\n",
    "f4 <- function(x){\n",
    "    cnt <- 0\n",
    "    for(i in x){\n",
    "        if (i %% 2 == 0 & i %% 3 == 0 & i %% 4 == 0) {\n",
    "            cnt = cnt + 1\n",
    "        }\n",
    "    }\n",
    "    return (cnt)\n",
    "}"
   ]
  },
  {
   "cell_type": "code",
   "execution_count": 27,
   "metadata": {},
   "outputs": [
    {
     "data": {
      "text/html": [
       "4"
      ],
      "text/latex": [
       "4"
      ],
      "text/markdown": [
       "4"
      ],
      "text/plain": [
       "[1] 4"
      ]
     },
     "metadata": {},
     "output_type": "display_data"
    },
    {
     "data": {
      "text/html": [
       "8"
      ],
      "text/latex": [
       "8"
      ],
      "text/markdown": [
       "8"
      ],
      "text/plain": [
       "[1] 8"
      ]
     },
     "metadata": {},
     "output_type": "display_data"
    },
    {
     "data": {
      "text/html": [
       "75"
      ],
      "text/latex": [
       "75"
      ],
      "text/markdown": [
       "75"
      ],
      "text/plain": [
       "[1] 75"
      ]
     },
     "metadata": {},
     "output_type": "display_data"
    }
   ],
   "source": [
    "f4(1:50)\n",
    "# 4\n",
    "f4(1:100)\n",
    "# 8\n",
    "f4(100:1000)\n",
    "# 75"
   ]
  },
  {
   "cell_type": "code",
   "execution_count": 28,
   "metadata": {},
   "outputs": [],
   "source": [
    "# 주어진 수 중 합을 구하여 리턴하는 함수?\n",
    "tot <- function(x){\n",
    "    sum <- 0\n",
    "    for(n in x){\n",
    "        sum <- sum + n\n",
    "    }\n",
    "    return (sum)\n",
    "}"
   ]
  },
  {
   "cell_type": "code",
   "execution_count": 30,
   "metadata": {},
   "outputs": [
    {
     "data": {
      "text/html": [
       "15"
      ],
      "text/latex": [
       "15"
      ],
      "text/markdown": [
       "15"
      ],
      "text/plain": [
       "[1] 15"
      ]
     },
     "metadata": {},
     "output_type": "display_data"
    }
   ],
   "source": [
    "tot(1:5)\n",
    "# 15"
   ]
  },
  {
   "cell_type": "code",
   "execution_count": 33,
   "metadata": {},
   "outputs": [],
   "source": [
    "# 주어진 수 중 평균을 구하여 리턴하는 함수\n",
    "mean <- function(x){\n",
    "    sum <- 0\n",
    "    for(n in x){\n",
    "        sum <- sum + n\n",
    "    }\n",
    "    return (sum/length(x))\n",
    "}"
   ]
  },
  {
   "cell_type": "code",
   "execution_count": 34,
   "metadata": {},
   "outputs": [
    {
     "data": {
      "text/html": [
       "3"
      ],
      "text/latex": [
       "3"
      ],
      "text/markdown": [
       "3"
      ],
      "text/plain": [
       "[1] 3"
      ]
     },
     "metadata": {},
     "output_type": "display_data"
    }
   ],
   "source": [
    "mean(1:5)"
   ]
  },
  {
   "cell_type": "code",
   "execution_count": null,
   "metadata": {},
   "outputs": [],
   "source": []
  }
 ],
 "metadata": {
  "kernelspec": {
   "display_name": "R",
   "language": "R",
   "name": "ir"
  },
  "language_info": {
   "codemirror_mode": "r",
   "file_extension": ".r",
   "mimetype": "text/x-r-source",
   "name": "R",
   "pygments_lexer": "r",
   "version": "3.6.1"
  }
 },
 "nbformat": 4,
 "nbformat_minor": 2
}
