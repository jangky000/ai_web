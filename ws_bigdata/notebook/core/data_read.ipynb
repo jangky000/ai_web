{
 "cells": [
  {
   "cell_type": "markdown",
   "metadata": {},
   "source": [
    "### Text 파일 읽기"
   ]
  },
  {
   "cell_type": "code",
   "execution_count": 1,
   "metadata": {},
   "outputs": [
    {
     "data": {
      "text/html": [
       "0"
      ],
      "text/latex": [
       "0"
      ],
      "text/markdown": [
       "0"
      ],
      "text/plain": [
       "[1] 0"
      ]
     },
     "metadata": {},
     "output_type": "display_data"
    }
   ],
   "source": [
    "old <- getOption('warn') # 기본값: 0, 출력\n",
    "old\n",
    "options(warn = -1)"
   ]
  },
  {
   "cell_type": "code",
   "execution_count": 2,
   "metadata": {},
   "outputs": [],
   "source": [
    "num <- scan()  # 실행 안됨, Rstudio에서 실행은 가능함, 툴마다 다름"
   ]
  },
  {
   "cell_type": "code",
   "execution_count": 3,
   "metadata": {
    "scrolled": true
   },
   "outputs": [
    {
     "data": {
      "text/html": [
       "'C:/ai6/ws_bigdata/notebook/core'"
      ],
      "text/latex": [
       "'C:/ai6/ws\\_bigdata/notebook/core'"
      ],
      "text/markdown": [
       "'C:/ai6/ws_bigdata/notebook/core'"
      ],
      "text/plain": [
       "[1] \"C:/ai6/ws_bigdata/notebook/core\""
      ]
     },
     "metadata": {},
     "output_type": "display_data"
    }
   ],
   "source": [
    "getwd()\n",
    "setwd('C:/ai6/ws_bigdata/notebook/core/files')"
   ]
  },
  {
   "cell_type": "code",
   "execution_count": 4,
   "metadata": {},
   "outputs": [
    {
     "data": {
      "text/html": [
       "<table>\n",
       "<thead><tr><th scope=col>V1</th><th scope=col>V2</th><th scope=col>V3</th><th scope=col>V4</th></tr></thead>\n",
       "<tbody>\n",
       "\t<tr><td>101   </td><td>hong  </td><td>175   </td><td> 65   </td></tr>\n",
       "\t<tr><td>201   </td><td>lee   </td><td>185   </td><td> 85   </td></tr>\n",
       "\t<tr><td>301   </td><td>kim   </td><td>173   </td><td> 60   </td></tr>\n",
       "\t<tr><td>401   </td><td>park  </td><td>180   </td><td> 70   </td></tr>\n",
       "\t<tr><td>501   </td><td>아로미</td><td>200   </td><td>100   </td></tr>\n",
       "</tbody>\n",
       "</table>\n"
      ],
      "text/latex": [
       "\\begin{tabular}{r|llll}\n",
       " V1 & V2 & V3 & V4\\\\\n",
       "\\hline\n",
       "\t 101    & hong   & 175    &  65   \\\\\n",
       "\t 201    & lee    & 185    &  85   \\\\\n",
       "\t 301    & kim    & 173    &  60   \\\\\n",
       "\t 401    & park   & 180    &  70   \\\\\n",
       "\t 501    & 아로미 & 200    & 100   \\\\\n",
       "\\end{tabular}\n"
      ],
      "text/markdown": [
       "\n",
       "| V1 | V2 | V3 | V4 |\n",
       "|---|---|---|---|\n",
       "| 101    | hong   | 175    |  65    |\n",
       "| 201    | lee    | 185    |  85    |\n",
       "| 301    | kim    | 173    |  60    |\n",
       "| 401    | park   | 180    |  70    |\n",
       "| 501    | 아로미 | 200    | 100    |\n",
       "\n"
      ],
      "text/plain": [
       "  V1  V2     V3  V4 \n",
       "1 101 hong   175  65\n",
       "2 201 lee    185  85\n",
       "3 301 kim    173  60\n",
       "4 401 park   180  70\n",
       "5 501 아로미 200 100"
      ]
     },
     "metadata": {},
     "output_type": "display_data"
    }
   ],
   "source": [
    "# header 없음, 공백 구분, 한글 인코딩\n",
    "stu1 <- read.table(file=\"stu1.txt\", fileEncoding='utf-8', encoding='utf-8')\n",
    "stu1\n",
    "# V1\tV2\tV3\tV4\n",
    "# 101\thong\t175\t65\n",
    "# 201\tlee\t185\t85\n",
    "# 301\tkim\t173\t60\n",
    "# 401\tpark\t180\t70\n",
    "# 501\t아로미\t200\t100\n"
   ]
  },
  {
   "cell_type": "code",
   "execution_count": 5,
   "metadata": {},
   "outputs": [
    {
     "data": {
      "text/html": [
       "<table>\n",
       "<thead><tr><th scope=col>번호</th><th scope=col>이름</th><th scope=col>키</th><th scope=col>몸무게</th></tr></thead>\n",
       "<tbody>\n",
       "\t<tr><td>101   </td><td>hong  </td><td>175   </td><td> 65   </td></tr>\n",
       "\t<tr><td>201   </td><td>lee   </td><td>185   </td><td> 85   </td></tr>\n",
       "\t<tr><td>301   </td><td>kim   </td><td>173   </td><td> 60   </td></tr>\n",
       "\t<tr><td>401   </td><td>park  </td><td>180   </td><td> 70   </td></tr>\n",
       "\t<tr><td>501   </td><td>아로미</td><td>200   </td><td>100   </td></tr>\n",
       "</tbody>\n",
       "</table>\n"
      ],
      "text/latex": [
       "\\begin{tabular}{r|llll}\n",
       " 번호 & 이름 & 키 & 몸무게\\\\\n",
       "\\hline\n",
       "\t 101    & hong   & 175    &  65   \\\\\n",
       "\t 201    & lee    & 185    &  85   \\\\\n",
       "\t 301    & kim    & 173    &  60   \\\\\n",
       "\t 401    & park   & 180    &  70   \\\\\n",
       "\t 501    & 아로미 & 200    & 100   \\\\\n",
       "\\end{tabular}\n"
      ],
      "text/markdown": [
       "\n",
       "| 번호 | 이름 | 키 | 몸무게 |\n",
       "|---|---|---|---|\n",
       "| 101    | hong   | 175    |  65    |\n",
       "| 201    | lee    | 185    |  85    |\n",
       "| 301    | kim    | 173    |  60    |\n",
       "| 401    | park   | 180    |  70    |\n",
       "| 501    | 아로미 | 200    | 100    |\n",
       "\n"
      ],
      "text/plain": [
       "  번호 이름   키  몸무게\n",
       "1 101  hong   175  65   \n",
       "2 201  lee    185  85   \n",
       "3 301  kim    173  60   \n",
       "4 401  park   180  70   \n",
       "5 501  아로미 200 100   "
      ]
     },
     "metadata": {},
     "output_type": "display_data"
    }
   ],
   "source": [
    "# header가 없음으로(칼럼이 없음) column index 지정\n",
    "names(stu1) <- c('번호', '이름', '키', '몸무게')\n",
    "stu1\n",
    "# 번호\t이름\t키\t몸무게\n",
    "# 101\thong\t175\t65\n",
    "# 201\tlee\t185\t85\n",
    "# 301\tkim\t173\t60\n",
    "# 401\tpark\t180\t70\n",
    "# 501\t아로미\t200\t100\n"
   ]
  },
  {
   "cell_type": "code",
   "execution_count": 7,
   "metadata": {},
   "outputs": [
    {
     "data": {
      "text/html": [
       "<table>\n",
       "<thead><tr><th scope=col>V1</th><th scope=col>V2</th><th scope=col>V3</th><th scope=col>V4</th></tr></thead>\n",
       "<tbody>\n",
       "\t<tr><td>번호  </td><td>이름  </td><td>키    </td><td>몸무게</td></tr>\n",
       "\t<tr><td>101   </td><td>hong  </td><td>175   </td><td>65    </td></tr>\n",
       "\t<tr><td>201   </td><td>lee   </td><td>185   </td><td>85    </td></tr>\n",
       "\t<tr><td>301   </td><td>kim   </td><td>173   </td><td>60    </td></tr>\n",
       "\t<tr><td>401   </td><td>park  </td><td>180   </td><td>70    </td></tr>\n",
       "\t<tr><td>501   </td><td>아로미</td><td>160   </td><td>60    </td></tr>\n",
       "</tbody>\n",
       "</table>\n"
      ],
      "text/latex": [
       "\\begin{tabular}{r|llll}\n",
       " V1 & V2 & V3 & V4\\\\\n",
       "\\hline\n",
       "\t 번호   & 이름   & 키     & 몸무게\\\\\n",
       "\t 101    & hong   & 175    & 65    \\\\\n",
       "\t 201    & lee    & 185    & 85    \\\\\n",
       "\t 301    & kim    & 173    & 60    \\\\\n",
       "\t 401    & park   & 180    & 70    \\\\\n",
       "\t 501    & 아로미 & 160    & 60    \\\\\n",
       "\\end{tabular}\n"
      ],
      "text/markdown": [
       "\n",
       "| V1 | V2 | V3 | V4 |\n",
       "|---|---|---|---|\n",
       "| 번호   | 이름   | 키     | 몸무게 |\n",
       "| 101    | hong   | 175    | 65     |\n",
       "| 201    | lee    | 185    | 85     |\n",
       "| 301    | kim    | 173    | 60     |\n",
       "| 401    | park   | 180    | 70     |\n",
       "| 501    | 아로미 | 160    | 60     |\n",
       "\n"
      ],
      "text/plain": [
       "  V1   V2     V3  V4    \n",
       "1 번호 이름   키  몸무게\n",
       "2 101  hong   175 65    \n",
       "3 201  lee    185 85    \n",
       "4 301  kim    173 60    \n",
       "5 401  park   180 70    \n",
       "6 501  아로미 160 60    "
      ]
     },
     "metadata": {},
     "output_type": "display_data"
    }
   ],
   "source": [
    "# 공백 구분, header 존재, 칼럼명 기본 지정됨\n",
    "stu2 <- read.table('stu2.txt', fileEncoding='utf-8', encoding='utf-8')\n",
    "stu2\n",
    "# V1\tV2\tV3\tV4\n",
    "# 번호\t이름\t키\t몸무게\n",
    "# 101\thong\t175\t65\n",
    "# 201\tlee\t185\t85\n",
    "# 301\tkim\t173\t60\n",
    "# 401\tpark\t180\t70\n",
    "# 501\t아로미\t160\t60"
   ]
  },
  {
   "cell_type": "code",
   "execution_count": 8,
   "metadata": {},
   "outputs": [
    {
     "data": {
      "text/html": [
       "<table>\n",
       "<thead><tr><th scope=col>번호</th><th scope=col>이름</th><th scope=col>키</th><th scope=col>몸무게</th></tr></thead>\n",
       "<tbody>\n",
       "\t<tr><td>101   </td><td>hong  </td><td>175   </td><td>65    </td></tr>\n",
       "\t<tr><td>201   </td><td>lee   </td><td>185   </td><td>85    </td></tr>\n",
       "\t<tr><td>301   </td><td>kim   </td><td>173   </td><td>60    </td></tr>\n",
       "\t<tr><td>401   </td><td>park  </td><td>180   </td><td>70    </td></tr>\n",
       "\t<tr><td>501   </td><td>아로미</td><td>160   </td><td>60    </td></tr>\n",
       "</tbody>\n",
       "</table>\n"
      ],
      "text/latex": [
       "\\begin{tabular}{r|llll}\n",
       " 번호 & 이름 & 키 & 몸무게\\\\\n",
       "\\hline\n",
       "\t 101    & hong   & 175    & 65    \\\\\n",
       "\t 201    & lee    & 185    & 85    \\\\\n",
       "\t 301    & kim    & 173    & 60    \\\\\n",
       "\t 401    & park   & 180    & 70    \\\\\n",
       "\t 501    & 아로미 & 160    & 60    \\\\\n",
       "\\end{tabular}\n"
      ],
      "text/markdown": [
       "\n",
       "| 번호 | 이름 | 키 | 몸무게 |\n",
       "|---|---|---|---|\n",
       "| 101    | hong   | 175    | 65     |\n",
       "| 201    | lee    | 185    | 85     |\n",
       "| 301    | kim    | 173    | 60     |\n",
       "| 401    | park   | 180    | 70     |\n",
       "| 501    | 아로미 | 160    | 60     |\n",
       "\n"
      ],
      "text/plain": [
       "  번호 이름   키  몸무게\n",
       "1 101  hong   175 65    \n",
       "2 201  lee    185 85    \n",
       "3 301  kim    173 60    \n",
       "4 401  park   180 70    \n",
       "5 501  아로미 160 60    "
      ]
     },
     "metadata": {},
     "output_type": "display_data"
    }
   ],
   "source": [
    "# header show, header=T : 변수명 존재함\n",
    "stu2 <- read.table('stu2.txt', header = T,\n",
    "                   fileEncoding='utf-8', encoding='utf-8')\n",
    "stu2\n",
    "# 번호\t이름\t키\t몸무게\n",
    "# 101\thong\t175\t65\n",
    "# 201\tlee\t185\t85\n",
    "# 301\tkim\t173\t60\n",
    "# 401\tpark\t180\t70\n",
    "# 501\t아로미\t160\t60\n"
   ]
  },
  {
   "cell_type": "code",
   "execution_count": 9,
   "metadata": {},
   "outputs": [
    {
     "data": {
      "text/html": [
       "<table>\n",
       "<thead><tr><th scope=col>번호</th><th scope=col>이름</th><th scope=col>키</th><th scope=col>몸무게</th></tr></thead>\n",
       "<tbody>\n",
       "\t<tr><td>101   </td><td>hong  </td><td>175   </td><td>65    </td></tr>\n",
       "\t<tr><td>201   </td><td>lee   </td><td>185   </td><td>85    </td></tr>\n",
       "\t<tr><td>301   </td><td>kim   </td><td>173   </td><td>60    </td></tr>\n",
       "\t<tr><td>401   </td><td>park  </td><td>180   </td><td>70    </td></tr>\n",
       "\t<tr><td>501   </td><td>아로미</td><td>160   </td><td>60    </td></tr>\n",
       "</tbody>\n",
       "</table>\n"
      ],
      "text/latex": [
       "\\begin{tabular}{r|llll}\n",
       " 번호 & 이름 & 키 & 몸무게\\\\\n",
       "\\hline\n",
       "\t 101    & hong   & 175    & 65    \\\\\n",
       "\t 201    & lee    & 185    & 85    \\\\\n",
       "\t 301    & kim    & 173    & 60    \\\\\n",
       "\t 401    & park   & 180    & 70    \\\\\n",
       "\t 501    & 아로미 & 160    & 60    \\\\\n",
       "\\end{tabular}\n"
      ],
      "text/markdown": [
       "\n",
       "| 번호 | 이름 | 키 | 몸무게 |\n",
       "|---|---|---|---|\n",
       "| 101    | hong   | 175    | 65     |\n",
       "| 201    | lee    | 185    | 85     |\n",
       "| 301    | kim    | 173    | 60     |\n",
       "| 401    | park   | 180    | 70     |\n",
       "| 501    | 아로미 | 160    | 60     |\n",
       "\n"
      ],
      "text/plain": [
       "  번호 이름   키  몸무게\n",
       "1 101  hong   175 65    \n",
       "2 201  lee    185 85    \n",
       "3 301  kim    173 60    \n",
       "4 401  park   180 70    \n",
       "5 501  아로미 160 60    "
      ]
     },
     "metadata": {},
     "output_type": "display_data"
    }
   ],
   "source": [
    "# 파일 선택기 출력, stu2.txt 선택\n",
    "stu2 <- read.table(file.choose(), header=T,\n",
    "                   fileEncoding='utf-8', encoding='utf-8')\n",
    "stu2\n",
    "# 번호\t이름\t키\t몸무게\n",
    "# 101\thong\t175\t65\n",
    "# 201\tlee\t185\t85\n",
    "# 301\tkim\t173\t60\n",
    "# 401\tpark\t180\t70\n",
    "# 501\t아로미\t160\t60\n"
   ]
  },
  {
   "cell_type": "code",
   "execution_count": 10,
   "metadata": {},
   "outputs": [
    {
     "data": {
      "text/html": [
       "<table>\n",
       "<thead><tr><th scope=col>번호</th><th scope=col>이름</th><th scope=col>키</th><th scope=col>몸무게</th></tr></thead>\n",
       "<tbody>\n",
       "\t<tr><td>101   </td><td>hong  </td><td>175   </td><td>65    </td></tr>\n",
       "\t<tr><td>201   </td><td>lee   </td><td>185   </td><td>85    </td></tr>\n",
       "\t<tr><td>301   </td><td>kim   </td><td>173   </td><td>60    </td></tr>\n",
       "\t<tr><td>401   </td><td>park  </td><td>180   </td><td>70    </td></tr>\n",
       "\t<tr><td>501   </td><td>아로미</td><td>160   </td><td>60    </td></tr>\n",
       "</tbody>\n",
       "</table>\n"
      ],
      "text/latex": [
       "\\begin{tabular}{r|llll}\n",
       " 번호 & 이름 & 키 & 몸무게\\\\\n",
       "\\hline\n",
       "\t 101    & hong   & 175    & 65    \\\\\n",
       "\t 201    & lee    & 185    & 85    \\\\\n",
       "\t 301    & kim    & 173    & 60    \\\\\n",
       "\t 401    & park   & 180    & 70    \\\\\n",
       "\t 501    & 아로미 & 160    & 60    \\\\\n",
       "\\end{tabular}\n"
      ],
      "text/markdown": [
       "\n",
       "| 번호 | 이름 | 키 | 몸무게 |\n",
       "|---|---|---|---|\n",
       "| 101    | hong   | 175    | 65     |\n",
       "| 201    | lee    | 185    | 85     |\n",
       "| 301    | kim    | 173    | 60     |\n",
       "| 401    | park   | 180    | 70     |\n",
       "| 501    | 아로미 | 160    | 60     |\n",
       "\n"
      ],
      "text/plain": [
       "  번호 이름   키  몸무게\n",
       "1 101  hong   175 65    \n",
       "2 201  lee    185 85    \n",
       "3 301  kim    173 60    \n",
       "4 401  park   180 70    \n",
       "5 501  아로미 160 60    "
      ]
     },
     "metadata": {},
     "output_type": "display_data"
    }
   ],
   "source": [
    "# / 구분 파일: /를 기준으로 구분함\n",
    "stu3 <- read.table(file='stu3.txt', sep='/', header=TRUE,\n",
    "                   fileEncoding='utf-8', encoding='utf-8')\n",
    "stu3"
   ]
  },
  {
   "cell_type": "code",
   "execution_count": 12,
   "metadata": {},
   "outputs": [
    {
     "data": {
      "text/html": [
       "<table>\n",
       "<thead><tr><th scope=col>번호</th><th scope=col>이름</th><th scope=col>키</th><th scope=col>몸무게</th></tr></thead>\n",
       "<tbody>\n",
       "\t<tr><td>101   </td><td>hong  </td><td>175   </td><td>65    </td></tr>\n",
       "\t<tr><td>201   </td><td>lee   </td><td>185   </td><td>85    </td></tr>\n",
       "\t<tr><td>301   </td><td>kim   </td><td>173   </td><td>60    </td></tr>\n",
       "\t<tr><td>401   </td><td>park  </td><td>180   </td><td>70    </td></tr>\n",
       "\t<tr><td>501   </td><td>아로미</td><td>160   </td><td>60    </td></tr>\n",
       "</tbody>\n",
       "</table>\n"
      ],
      "text/latex": [
       "\\begin{tabular}{r|llll}\n",
       " 번호 & 이름 & 키 & 몸무게\\\\\n",
       "\\hline\n",
       "\t 101    & hong   & 175    & 65    \\\\\n",
       "\t 201    & lee    & 185    & 85    \\\\\n",
       "\t 301    & kim    & 173    & 60    \\\\\n",
       "\t 401    & park   & 180    & 70    \\\\\n",
       "\t 501    & 아로미 & 160    & 60    \\\\\n",
       "\\end{tabular}\n"
      ],
      "text/markdown": [
       "\n",
       "| 번호 | 이름 | 키 | 몸무게 |\n",
       "|---|---|---|---|\n",
       "| 101    | hong   | 175    | 65     |\n",
       "| 201    | lee    | 185    | 85     |\n",
       "| 301    | kim    | 173    | 60     |\n",
       "| 401    | park   | 180    | 70     |\n",
       "| 501    | 아로미 | 160    | 60     |\n",
       "\n"
      ],
      "text/plain": [
       "  번호 이름   키  몸무게\n",
       "1 101  hong   175 65    \n",
       "2 201  lee    185 85    \n",
       "3 301  kim    173 60    \n",
       "4 401  park   180 70    \n",
       "5 501  아로미 160 60    "
      ]
     },
     "metadata": {},
     "output_type": "display_data"
    }
   ],
   "source": [
    "# tab 구분 파일, Editplus에서 데이터파일 편집\n",
    "stu4 <- read.table(file='stu4.txt', sep='\\t', header=TRUE,\n",
    "                   fileEncoding='utf-8', encoding='utf-8')\n",
    "stu4\n",
    "# 번호\t이름\t키\t몸무게\n",
    "# 101\thong\t175\t65\n",
    "# 201\tlee\t185\t85\n",
    "# 301\tkim\t173\t60\n",
    "# 401\tpark\t180\t70\n",
    "# 501\t아로미\t160\t60\n"
   ]
  },
  {
   "cell_type": "code",
   "execution_count": 13,
   "metadata": {},
   "outputs": [
    {
     "data": {
      "text/html": [
       "<table>\n",
       "<thead><tr><th scope=col>번호</th><th scope=col>이름</th><th scope=col>키</th><th scope=col>몸무게</th></tr></thead>\n",
       "<tbody>\n",
       "\t<tr><td>101   </td><td>hong  </td><td>175   </td><td>&amp; </td></tr>\n",
       "\t<tr><td>201 </td><td>lee </td><td>185 </td><td>85  </td></tr>\n",
       "\t<tr><td>301 </td><td>kim </td><td>173 </td><td>NA  </td></tr>\n",
       "\t<tr><td>401 </td><td>park</td><td> NA </td><td>70  </td></tr>\n",
       "</tbody>\n",
       "</table>\n"
      ],
      "text/latex": [
       "\\begin{tabular}{r|llll}\n",
       " 번호 & 이름 & 키 & 몸무게\\\\\n",
       "\\hline\n",
       "\t 101  & hong & 175  & \\& \\\\\n",
       "\t 201  & lee  & 185  & 85  \\\\\n",
       "\t 301  & kim  & 173  & NA  \\\\\n",
       "\t 401  & park &  NA  & 70  \\\\\n",
       "\\end{tabular}\n"
      ],
      "text/markdown": [
       "\n",
       "| 번호 | 이름 | 키 | 몸무게 |\n",
       "|---|---|---|---|\n",
       "| 101  | hong | 175  | &    |\n",
       "| 201  | lee  | 185  | 85   |\n",
       "| 301  | kim  | 173  | NA   |\n",
       "| 401  | park |  NA  | 70   |\n",
       "\n"
      ],
      "text/plain": [
       "  번호 이름 키  몸무게\n",
       "1 101  hong 175 &     \n",
       "2 201  lee  185 85    \n",
       "3 301  kim  173 NA    \n",
       "4 401  park  NA 70    "
      ]
     },
     "metadata": {},
     "output_type": "display_data"
    }
   ],
   "source": [
    "# 결측치(NA, null)를 나타내는 문자의 처리, '-' → NA\n",
    "# null을 -로 표기해 놓은 txt를 읽어 들일 때 처리\n",
    "stu5 <- read.table(file='stu5.txt', sep=' ', header=TRUE,\n",
    "                   na.strings='-',fileEncoding='utf-8', encoding='utf-8')\n",
    "stu5\n",
    "# 번호\t이름\t키\t몸무게\n",
    "# 101\thong\t175\t&\n",
    "# 201\tlee\t185\t85\n",
    "# 301\tkim\t173\tNA\n",
    "# 401\tpark\tNA\t70"
   ]
  },
  {
   "cell_type": "code",
   "execution_count": 14,
   "metadata": {},
   "outputs": [
    {
     "data": {
      "text/html": [
       "<table>\n",
       "<thead><tr><th scope=col>번호</th><th scope=col>이름</th><th scope=col>키</th><th scope=col>몸무게</th></tr></thead>\n",
       "<tbody>\n",
       "\t<tr><td>101 </td><td>hong</td><td>175 </td><td>NA  </td></tr>\n",
       "\t<tr><td>201 </td><td>lee </td><td>185 </td><td>85  </td></tr>\n",
       "\t<tr><td>301 </td><td>kim </td><td>173 </td><td>NA  </td></tr>\n",
       "\t<tr><td>401 </td><td>park</td><td> NA </td><td>70  </td></tr>\n",
       "</tbody>\n",
       "</table>\n"
      ],
      "text/latex": [
       "\\begin{tabular}{r|llll}\n",
       " 번호 & 이름 & 키 & 몸무게\\\\\n",
       "\\hline\n",
       "\t 101  & hong & 175  & NA  \\\\\n",
       "\t 201  & lee  & 185  & 85  \\\\\n",
       "\t 301  & kim  & 173  & NA  \\\\\n",
       "\t 401  & park &  NA  & 70  \\\\\n",
       "\\end{tabular}\n"
      ],
      "text/markdown": [
       "\n",
       "| 번호 | 이름 | 키 | 몸무게 |\n",
       "|---|---|---|---|\n",
       "| 101  | hong | 175  | NA   |\n",
       "| 201  | lee  | 185  | 85   |\n",
       "| 301  | kim  | 173  | NA   |\n",
       "| 401  | park |  NA  | 70   |\n",
       "\n"
      ],
      "text/plain": [
       "  번호 이름 키  몸무게\n",
       "1 101  hong 175 NA    \n",
       "2 201  lee  185 85    \n",
       "3 301  kim  173 NA    \n",
       "4 401  park  NA 70    "
      ]
     },
     "metadata": {},
     "output_type": "display_data"
    }
   ],
   "source": [
    "# 결측치(NA, null)를 나타내는 문자의 처리, '-', '&' → NA\n",
    "stu5 <- read.table(file='stu5.txt', sep=' ', header=TRUE,\n",
    "                   na.strings=c('-', '&'),fileEncoding='utf-8', encoding='utf-8')\n",
    "stu5\n",
    "# 번호\t이름\t키\t몸무게\n",
    "# 101\thong\t175\tNA\n",
    "# 201\tlee\t185\t85\n",
    "# 301\tkim\t173\tNA\n",
    "# 401\tpark\tNA\t70\n"
   ]
  },
  {
   "cell_type": "code",
   "execution_count": 15,
   "metadata": {},
   "outputs": [
    {
     "data": {
      "text/html": [
       "<table>\n",
       "<thead><tr><th scope=col>번호</th><th scope=col>이름</th><th scope=col>키</th><th scope=col>몸무게</th></tr></thead>\n",
       "<tbody>\n",
       "\t<tr><td>101   </td><td>hong  </td><td>175   </td><td>NA    </td></tr>\n",
       "\t<tr><td>201   </td><td>lee   </td><td> NA   </td><td>85    </td></tr>\n",
       "\t<tr><td>301   </td><td>kim   </td><td>173   </td><td>NA    </td></tr>\n",
       "\t<tr><td>401   </td><td>park  </td><td> NA   </td><td>70    </td></tr>\n",
       "\t<tr><td>501   </td><td>아로미</td><td> NA   </td><td>NA    </td></tr>\n",
       "</tbody>\n",
       "</table>\n"
      ],
      "text/latex": [
       "\\begin{tabular}{r|llll}\n",
       " 번호 & 이름 & 키 & 몸무게\\\\\n",
       "\\hline\n",
       "\t 101    & hong   & 175    & NA    \\\\\n",
       "\t 201    & lee    &  NA    & 85    \\\\\n",
       "\t 301    & kim    & 173    & NA    \\\\\n",
       "\t 401    & park   &  NA    & 70    \\\\\n",
       "\t 501    & 아로미 &  NA    & NA    \\\\\n",
       "\\end{tabular}\n"
      ],
      "text/markdown": [
       "\n",
       "| 번호 | 이름 | 키 | 몸무게 |\n",
       "|---|---|---|---|\n",
       "| 101    | hong   | 175    | NA     |\n",
       "| 201    | lee    |  NA    | 85     |\n",
       "| 301    | kim    | 173    | NA     |\n",
       "| 401    | park   |  NA    | 70     |\n",
       "| 501    | 아로미 |  NA    | NA     |\n",
       "\n"
      ],
      "text/plain": [
       "  번호 이름   키  몸무게\n",
       "1 101  hong   175 NA    \n",
       "2 201  lee     NA 85    \n",
       "3 301  kim    173 NA    \n",
       "4 401  park    NA 70    \n",
       "5 501  아로미  NA NA    "
      ]
     },
     "metadata": {},
     "output_type": "display_data"
    }
   ],
   "source": [
    "stu6 <- read.csv(file='stu6.csv', header=TRUE, \n",
    "                 na.strings=c('+', '$', '-', '&'),\n",
    "                 fileEncoding='utf-8', encoding='utf-8')\n",
    "stu6\n",
    "# 번호\t이름\t키\t몸무게\n",
    "# 101\thong\t175\tNA\n",
    "# 201\tlee\tNA\t85\n",
    "# 301\tkim\t173\tNA\n",
    "# 401\tpark\tNA\t70\n",
    "# 501\t아로미\tNA\tNA"
   ]
  },
  {
   "cell_type": "code",
   "execution_count": 24,
   "metadata": {},
   "outputs": [
    {
     "data": {
      "text/html": [
       "<table>\n",
       "<thead><tr><th scope=col>번호</th><th scope=col>이름</th><th scope=col>키</th><th scope=col>몸무게</th></tr></thead>\n",
       "<tbody>\n",
       "\t<tr><td>FALSE</td><td>FALSE</td><td>FALSE</td><td> TRUE</td></tr>\n",
       "\t<tr><td>FALSE</td><td>FALSE</td><td> TRUE</td><td>FALSE</td></tr>\n",
       "\t<tr><td>FALSE</td><td>FALSE</td><td>FALSE</td><td> TRUE</td></tr>\n",
       "\t<tr><td>FALSE</td><td>FALSE</td><td> TRUE</td><td>FALSE</td></tr>\n",
       "</tbody>\n",
       "</table>\n"
      ],
      "text/latex": [
       "\\begin{tabular}{llll}\n",
       " 번호 & 이름 & 키 & 몸무게\\\\\n",
       "\\hline\n",
       "\t FALSE & FALSE & FALSE &  TRUE\\\\\n",
       "\t FALSE & FALSE &  TRUE & FALSE\\\\\n",
       "\t FALSE & FALSE & FALSE &  TRUE\\\\\n",
       "\t FALSE & FALSE &  TRUE & FALSE\\\\\n",
       "\\end{tabular}\n"
      ],
      "text/markdown": [
       "\n",
       "| 번호 | 이름 | 키 | 몸무게 |\n",
       "|---|---|---|---|\n",
       "| FALSE | FALSE | FALSE |  TRUE |\n",
       "| FALSE | FALSE |  TRUE | FALSE |\n",
       "| FALSE | FALSE | FALSE |  TRUE |\n",
       "| FALSE | FALSE |  TRUE | FALSE |\n",
       "\n"
      ],
      "text/plain": [
       "     번호  이름  키    몸무게\n",
       "[1,] FALSE FALSE FALSE  TRUE \n",
       "[2,] FALSE FALSE  TRUE FALSE \n",
       "[3,] FALSE FALSE FALSE  TRUE \n",
       "[4,] FALSE FALSE  TRUE FALSE "
      ]
     },
     "metadata": {},
     "output_type": "display_data"
    }
   ],
   "source": [
    "is.na(stu6) # 결측치 확인, 결측치 NA는 TRUE 출력\n",
    "# 번호\t이름\t키\t몸무게\n",
    "# FALSE\tFALSE\tFALSE\tTRUE\n",
    "# FALSE\tFALSE\tTRUE\tFALSE\n",
    "# FALSE\tFALSE\tFALSE\tTRUE\n",
    "# FALSE\tFALSE\tTRUE\tFALSE\n"
   ]
  },
  {
   "cell_type": "code",
   "execution_count": 18,
   "metadata": {},
   "outputs": [],
   "source": [
    "stu6[is.na(stu6)] <- 0 # 결측치 NA를 0으로 변경"
   ]
  },
  {
   "cell_type": "code",
   "execution_count": 19,
   "metadata": {},
   "outputs": [
    {
     "data": {
      "text/html": [
       "<table>\n",
       "<thead><tr><th scope=col>번호</th><th scope=col>이름</th><th scope=col>키</th><th scope=col>몸무게</th></tr></thead>\n",
       "<tbody>\n",
       "\t<tr><td>101   </td><td>hong  </td><td>175   </td><td> 0    </td></tr>\n",
       "\t<tr><td>201   </td><td>lee   </td><td>  0   </td><td>85    </td></tr>\n",
       "\t<tr><td>301   </td><td>kim   </td><td>173   </td><td> 0    </td></tr>\n",
       "\t<tr><td>401   </td><td>park  </td><td>  0   </td><td>70    </td></tr>\n",
       "\t<tr><td>501   </td><td>아로미</td><td>  0   </td><td> 0    </td></tr>\n",
       "</tbody>\n",
       "</table>\n"
      ],
      "text/latex": [
       "\\begin{tabular}{r|llll}\n",
       " 번호 & 이름 & 키 & 몸무게\\\\\n",
       "\\hline\n",
       "\t 101    & hong   & 175    &  0    \\\\\n",
       "\t 201    & lee    &   0    & 85    \\\\\n",
       "\t 301    & kim    & 173    &  0    \\\\\n",
       "\t 401    & park   &   0    & 70    \\\\\n",
       "\t 501    & 아로미 &   0    &  0    \\\\\n",
       "\\end{tabular}\n"
      ],
      "text/markdown": [
       "\n",
       "| 번호 | 이름 | 키 | 몸무게 |\n",
       "|---|---|---|---|\n",
       "| 101    | hong   | 175    |  0     |\n",
       "| 201    | lee    |   0    | 85     |\n",
       "| 301    | kim    | 173    |  0     |\n",
       "| 401    | park   |   0    | 70     |\n",
       "| 501    | 아로미 |   0    |  0     |\n",
       "\n"
      ],
      "text/plain": [
       "  번호 이름   키  몸무게\n",
       "1 101  hong   175  0    \n",
       "2 201  lee      0 85    \n",
       "3 301  kim    173  0    \n",
       "4 401  park     0 70    \n",
       "5 501  아로미   0  0    "
      ]
     },
     "metadata": {},
     "output_type": "display_data"
    }
   ],
   "source": [
    "stu6\n",
    "# 번호\t이름\t키\t몸무게\n",
    "# 101\thong\t175\t0\n",
    "# 201\tlee\t0\t85\n",
    "# 301\tkim\t173\t0\n",
    "# 401\tpark\t0\t70\n",
    "# 501\t아로미\t0\t0\n"
   ]
  },
  {
   "cell_type": "markdown",
   "metadata": {},
   "source": [
    "###  Excel 읽기"
   ]
  },
  {
   "cell_type": "code",
   "execution_count": 16,
   "metadata": {},
   "outputs": [
    {
     "name": "stderr",
     "output_type": "stream",
     "text": [
      "also installing the dependencies 'rJava', 'xlsxjars'\n",
      "\n"
     ]
    },
    {
     "name": "stdout",
     "output_type": "stream",
     "text": [
      "package 'rJava' successfully unpacked and MD5 sums checked\n",
      "package 'xlsxjars' successfully unpacked and MD5 sums checked\n",
      "package 'xlsx' successfully unpacked and MD5 sums checked\n",
      "\n",
      "The downloaded binary packages are in\n",
      "\tC:\\Users\\soldesk\\AppData\\Local\\Temp\\RtmpoJneHq\\downloaded_packages\n"
     ]
    }
   ],
   "source": [
    "# 라이브러리 설치\n",
    "# 설치안되면 Jupyter Notebook을 재시작하고 재설치 할것\n",
    "options(repos=\"https://CRAN.R-project.org\")\n",
    "install.packages(\"xlsx\")\n",
    "# install.packages(\"rJava\")  # 자동 설치"
   ]
  },
  {
   "cell_type": "code",
   "execution_count": 31,
   "metadata": {},
   "outputs": [],
   "source": [
    "# 자바에 의존함\n",
    "Sys.setenv(JAVA_HOME=\"C:/Program Files/Java/jre1.8.0_241\") # JRE"
   ]
  },
  {
   "cell_type": "code",
   "execution_count": 20,
   "metadata": {},
   "outputs": [],
   "source": [
    "# 라이브러리 메모리에 불러오기\n",
    "library('xlsx')\n",
    "library('rJava')"
   ]
  },
  {
   "cell_type": "code",
   "execution_count": 22,
   "metadata": {
    "scrolled": true
   },
   "outputs": [],
   "source": [
    "# /ws_bigdata/notebook/core/files/studentlist.xlsx, sheetIndex=1: 첫번째 시트\n",
    "studentx <- read.xlsx(file.choose(), sheetIndex=1, encoding=\"UTF-8\")"
   ]
  },
  {
   "cell_type": "code",
   "execution_count": 23,
   "metadata": {},
   "outputs": [
    {
     "data": {
      "text/html": [
       "<table>\n",
       "<thead><tr><th scope=col>name</th><th scope=col>gender</th><th scope=col>age</th><th scope=col>grade</th><th scope=col>absence</th><th scope=col>bloodtype</th><th scope=col>height</th><th scope=col>weight</th></tr></thead>\n",
       "<tbody>\n",
       "\t<tr><td>김길동</td><td>남자  </td><td>23    </td><td>3     </td><td>유    </td><td>O     </td><td>165.3 </td><td>68.2  </td></tr>\n",
       "\t<tr><td>이미린</td><td>여자  </td><td>22    </td><td>2     </td><td>무    </td><td>AB    </td><td>170.1 </td><td>53.0  </td></tr>\n",
       "\t<tr><td>홍길동</td><td>남자  </td><td>24    </td><td>4     </td><td>무    </td><td>B     </td><td>175.0 </td><td>80.1  </td></tr>\n",
       "\t<tr><td>김철수</td><td>남자  </td><td>23    </td><td>3     </td><td>무    </td><td>AB    </td><td>182.1 </td><td>85.7  </td></tr>\n",
       "\t<tr><td>손세수</td><td>여자  </td><td>20    </td><td>1     </td><td>유    </td><td>A     </td><td>168.0 </td><td>49.5  </td></tr>\n",
       "\t<tr><td>박미희</td><td>여자  </td><td>21    </td><td>2     </td><td>무    </td><td>O     </td><td>162.0 </td><td>52.0  </td></tr>\n",
       "\t<tr><td>강수친</td><td>여자  </td><td>22    </td><td>1     </td><td>무    </td><td>O     </td><td>155.2 </td><td>45.3  </td></tr>\n",
       "\t<tr><td>이희수</td><td>여자  </td><td>23    </td><td>1     </td><td>무    </td><td>A     </td><td>176.9 </td><td>55.0  </td></tr>\n",
       "\t<tr><td>이철린</td><td>남자  </td><td>23    </td><td>3     </td><td>무    </td><td>B     </td><td>178.5 </td><td>64.2  </td></tr>\n",
       "\t<tr><td>방희철</td><td>남자  </td><td>22    </td><td>2     </td><td>무    </td><td>B     </td><td>176.1 </td><td>61.3  </td></tr>\n",
       "\t<tr><td>박수호</td><td>남자  </td><td>24    </td><td>4     </td><td>유    </td><td>O     </td><td>167.1 </td><td>62.0  </td></tr>\n",
       "\t<tr><td>임동민</td><td>남자  </td><td>22    </td><td>2     </td><td>무    </td><td>AB    </td><td>180.0 </td><td>75.8  </td></tr>\n",
       "\t<tr><td>김민수</td><td>남자  </td><td>21    </td><td>1     </td><td>무    </td><td>A     </td><td>162.2 </td><td>55.3  </td></tr>\n",
       "\t<tr><td>이희진</td><td>여자  </td><td>23    </td><td>3     </td><td>무    </td><td>O     </td><td>176.1 </td><td>53.1  </td></tr>\n",
       "\t<tr><td>김미진</td><td>여자  </td><td>22    </td><td>2     </td><td>무    </td><td>B     </td><td>158.2 </td><td>45.2  </td></tr>\n",
       "\t<tr><td>김동수</td><td>남자  </td><td>24    </td><td>4     </td><td>유    </td><td>B     </td><td>168.6 </td><td>70.2  </td></tr>\n",
       "\t<tr><td>여수근</td><td>남자  </td><td>21    </td><td>1     </td><td>무    </td><td>A     </td><td>169.2 </td><td>62.2  </td></tr>\n",
       "</tbody>\n",
       "</table>\n"
      ],
      "text/latex": [
       "\\begin{tabular}{r|llllllll}\n",
       " name & gender & age & grade & absence & bloodtype & height & weight\\\\\n",
       "\\hline\n",
       "\t 김길동 & 남자   & 23     & 3      & 유     & O      & 165.3  & 68.2  \\\\\n",
       "\t 이미린 & 여자   & 22     & 2      & 무     & AB     & 170.1  & 53.0  \\\\\n",
       "\t 홍길동 & 남자   & 24     & 4      & 무     & B      & 175.0  & 80.1  \\\\\n",
       "\t 김철수 & 남자   & 23     & 3      & 무     & AB     & 182.1  & 85.7  \\\\\n",
       "\t 손세수 & 여자   & 20     & 1      & 유     & A      & 168.0  & 49.5  \\\\\n",
       "\t 박미희 & 여자   & 21     & 2      & 무     & O      & 162.0  & 52.0  \\\\\n",
       "\t 강수친 & 여자   & 22     & 1      & 무     & O      & 155.2  & 45.3  \\\\\n",
       "\t 이희수 & 여자   & 23     & 1      & 무     & A      & 176.9  & 55.0  \\\\\n",
       "\t 이철린 & 남자   & 23     & 3      & 무     & B      & 178.5  & 64.2  \\\\\n",
       "\t 방희철 & 남자   & 22     & 2      & 무     & B      & 176.1  & 61.3  \\\\\n",
       "\t 박수호 & 남자   & 24     & 4      & 유     & O      & 167.1  & 62.0  \\\\\n",
       "\t 임동민 & 남자   & 22     & 2      & 무     & AB     & 180.0  & 75.8  \\\\\n",
       "\t 김민수 & 남자   & 21     & 1      & 무     & A      & 162.2  & 55.3  \\\\\n",
       "\t 이희진 & 여자   & 23     & 3      & 무     & O      & 176.1  & 53.1  \\\\\n",
       "\t 김미진 & 여자   & 22     & 2      & 무     & B      & 158.2  & 45.2  \\\\\n",
       "\t 김동수 & 남자   & 24     & 4      & 유     & B      & 168.6  & 70.2  \\\\\n",
       "\t 여수근 & 남자   & 21     & 1      & 무     & A      & 169.2  & 62.2  \\\\\n",
       "\\end{tabular}\n"
      ],
      "text/markdown": [
       "\n",
       "| name | gender | age | grade | absence | bloodtype | height | weight |\n",
       "|---|---|---|---|---|---|---|---|\n",
       "| 김길동 | 남자   | 23     | 3      | 유     | O      | 165.3  | 68.2   |\n",
       "| 이미린 | 여자   | 22     | 2      | 무     | AB     | 170.1  | 53.0   |\n",
       "| 홍길동 | 남자   | 24     | 4      | 무     | B      | 175.0  | 80.1   |\n",
       "| 김철수 | 남자   | 23     | 3      | 무     | AB     | 182.1  | 85.7   |\n",
       "| 손세수 | 여자   | 20     | 1      | 유     | A      | 168.0  | 49.5   |\n",
       "| 박미희 | 여자   | 21     | 2      | 무     | O      | 162.0  | 52.0   |\n",
       "| 강수친 | 여자   | 22     | 1      | 무     | O      | 155.2  | 45.3   |\n",
       "| 이희수 | 여자   | 23     | 1      | 무     | A      | 176.9  | 55.0   |\n",
       "| 이철린 | 남자   | 23     | 3      | 무     | B      | 178.5  | 64.2   |\n",
       "| 방희철 | 남자   | 22     | 2      | 무     | B      | 176.1  | 61.3   |\n",
       "| 박수호 | 남자   | 24     | 4      | 유     | O      | 167.1  | 62.0   |\n",
       "| 임동민 | 남자   | 22     | 2      | 무     | AB     | 180.0  | 75.8   |\n",
       "| 김민수 | 남자   | 21     | 1      | 무     | A      | 162.2  | 55.3   |\n",
       "| 이희진 | 여자   | 23     | 3      | 무     | O      | 176.1  | 53.1   |\n",
       "| 김미진 | 여자   | 22     | 2      | 무     | B      | 158.2  | 45.2   |\n",
       "| 김동수 | 남자   | 24     | 4      | 유     | B      | 168.6  | 70.2   |\n",
       "| 여수근 | 남자   | 21     | 1      | 무     | A      | 169.2  | 62.2   |\n",
       "\n"
      ],
      "text/plain": [
       "   name   gender age grade absence bloodtype height weight\n",
       "1  김길동 남자   23  3     유      O         165.3  68.2  \n",
       "2  이미린 여자   22  2     무      AB        170.1  53.0  \n",
       "3  홍길동 남자   24  4     무      B         175.0  80.1  \n",
       "4  김철수 남자   23  3     무      AB        182.1  85.7  \n",
       "5  손세수 여자   20  1     유      A         168.0  49.5  \n",
       "6  박미희 여자   21  2     무      O         162.0  52.0  \n",
       "7  강수친 여자   22  1     무      O         155.2  45.3  \n",
       "8  이희수 여자   23  1     무      A         176.9  55.0  \n",
       "9  이철린 남자   23  3     무      B         178.5  64.2  \n",
       "10 방희철 남자   22  2     무      B         176.1  61.3  \n",
       "11 박수호 남자   24  4     유      O         167.1  62.0  \n",
       "12 임동민 남자   22  2     무      AB        180.0  75.8  \n",
       "13 김민수 남자   21  1     무      A         162.2  55.3  \n",
       "14 이희진 여자   23  3     무      O         176.1  53.1  \n",
       "15 김미진 여자   22  2     무      B         158.2  45.2  \n",
       "16 김동수 남자   24  4     유      B         168.6  70.2  \n",
       "17 여수근 남자   21  1     무      A         169.2  62.2  "
      ]
     },
     "metadata": {},
     "output_type": "display_data"
    },
    {
     "data": {
      "text/html": [
       "'data.frame'"
      ],
      "text/latex": [
       "'data.frame'"
      ],
      "text/markdown": [
       "'data.frame'"
      ],
      "text/plain": [
       "[1] \"data.frame\""
      ]
     },
     "metadata": {},
     "output_type": "display_data"
    }
   ],
   "source": [
    "studentx \n",
    "class(studentx)"
   ]
  },
  {
   "cell_type": "code",
   "execution_count": 26,
   "metadata": {
    "scrolled": true
   },
   "outputs": [],
   "source": [
    "# /ws_bigdata/notebook/core/files/studentlist.xlsx, sheetIndex=2: 두번째 시트\n",
    "studentx <- read.xlsx(file.choose(), sheetIndex=2, encoding=\"UTF-8\")"
   ]
  },
  {
   "cell_type": "code",
   "execution_count": 27,
   "metadata": {},
   "outputs": [
    {
     "data": {
      "text/html": [
       "<table>\n",
       "<thead><tr><th scope=col>name</th><th scope=col>gender</th><th scope=col>age</th><th scope=col>grade</th><th scope=col>absence</th><th scope=col>bloodtype</th><th scope=col>height</th><th scope=col>weight</th></tr></thead>\n",
       "<tbody>\n",
       "\t<tr><td>왕눈이</td><td>남자  </td><td>23    </td><td>3     </td><td>유    </td><td>O     </td><td>165.3 </td><td>68.2  </td></tr>\n",
       "\t<tr><td>아로미</td><td>여자  </td><td>22    </td><td>2     </td><td>무    </td><td>AB    </td><td>170.1 </td><td>53.0  </td></tr>\n",
       "\t<tr><td>홍길동</td><td>남자  </td><td>24    </td><td>4     </td><td>무    </td><td>B     </td><td>175.0 </td><td>80.1  </td></tr>\n",
       "\t<tr><td>김철수</td><td>남자  </td><td>23    </td><td>3     </td><td>무    </td><td>AB    </td><td>182.1 </td><td>85.7  </td></tr>\n",
       "\t<tr><td>손세수</td><td>여자  </td><td>20    </td><td>1     </td><td>유    </td><td>A     </td><td>168.0 </td><td>49.5  </td></tr>\n",
       "\t<tr><td>박미희</td><td>여자  </td><td>21    </td><td>2     </td><td>무    </td><td>O     </td><td>162.0 </td><td>52.0  </td></tr>\n",
       "\t<tr><td>강수친</td><td>여자  </td><td>22    </td><td>1     </td><td>무    </td><td>O     </td><td>155.2 </td><td>45.3  </td></tr>\n",
       "\t<tr><td>이희수</td><td>여자  </td><td>23    </td><td>1     </td><td>무    </td><td>A     </td><td>176.9 </td><td>55.0  </td></tr>\n",
       "\t<tr><td>이철린</td><td>남자  </td><td>23    </td><td>3     </td><td>무    </td><td>B     </td><td>178.5 </td><td>64.2  </td></tr>\n",
       "\t<tr><td>방희철</td><td>남자  </td><td>22    </td><td>2     </td><td>무    </td><td>B     </td><td>176.1 </td><td>61.3  </td></tr>\n",
       "\t<tr><td>박수호</td><td>남자  </td><td>24    </td><td>4     </td><td>유    </td><td>O     </td><td>167.1 </td><td>62.0  </td></tr>\n",
       "\t<tr><td>임동민</td><td>남자  </td><td>22    </td><td>2     </td><td>무    </td><td>AB    </td><td>180.0 </td><td>75.8  </td></tr>\n",
       "\t<tr><td>김민수</td><td>남자  </td><td>21    </td><td>1     </td><td>무    </td><td>A     </td><td>162.2 </td><td>55.3  </td></tr>\n",
       "\t<tr><td>이희진</td><td>여자  </td><td>23    </td><td>3     </td><td>무    </td><td>O     </td><td>176.1 </td><td>53.1  </td></tr>\n",
       "\t<tr><td>김미진</td><td>여자  </td><td>22    </td><td>2     </td><td>무    </td><td>B     </td><td>158.2 </td><td>45.2  </td></tr>\n",
       "\t<tr><td>김동수</td><td>남자  </td><td>24    </td><td>4     </td><td>유    </td><td>B     </td><td>168.6 </td><td>70.2  </td></tr>\n",
       "\t<tr><td>여수근</td><td>남자  </td><td>21    </td><td>1     </td><td>무    </td><td>A     </td><td>169.2 </td><td>62.2  </td></tr>\n",
       "</tbody>\n",
       "</table>\n"
      ],
      "text/latex": [
       "\\begin{tabular}{r|llllllll}\n",
       " name & gender & age & grade & absence & bloodtype & height & weight\\\\\n",
       "\\hline\n",
       "\t 왕눈이 & 남자   & 23     & 3      & 유     & O      & 165.3  & 68.2  \\\\\n",
       "\t 아로미 & 여자   & 22     & 2      & 무     & AB     & 170.1  & 53.0  \\\\\n",
       "\t 홍길동 & 남자   & 24     & 4      & 무     & B      & 175.0  & 80.1  \\\\\n",
       "\t 김철수 & 남자   & 23     & 3      & 무     & AB     & 182.1  & 85.7  \\\\\n",
       "\t 손세수 & 여자   & 20     & 1      & 유     & A      & 168.0  & 49.5  \\\\\n",
       "\t 박미희 & 여자   & 21     & 2      & 무     & O      & 162.0  & 52.0  \\\\\n",
       "\t 강수친 & 여자   & 22     & 1      & 무     & O      & 155.2  & 45.3  \\\\\n",
       "\t 이희수 & 여자   & 23     & 1      & 무     & A      & 176.9  & 55.0  \\\\\n",
       "\t 이철린 & 남자   & 23     & 3      & 무     & B      & 178.5  & 64.2  \\\\\n",
       "\t 방희철 & 남자   & 22     & 2      & 무     & B      & 176.1  & 61.3  \\\\\n",
       "\t 박수호 & 남자   & 24     & 4      & 유     & O      & 167.1  & 62.0  \\\\\n",
       "\t 임동민 & 남자   & 22     & 2      & 무     & AB     & 180.0  & 75.8  \\\\\n",
       "\t 김민수 & 남자   & 21     & 1      & 무     & A      & 162.2  & 55.3  \\\\\n",
       "\t 이희진 & 여자   & 23     & 3      & 무     & O      & 176.1  & 53.1  \\\\\n",
       "\t 김미진 & 여자   & 22     & 2      & 무     & B      & 158.2  & 45.2  \\\\\n",
       "\t 김동수 & 남자   & 24     & 4      & 유     & B      & 168.6  & 70.2  \\\\\n",
       "\t 여수근 & 남자   & 21     & 1      & 무     & A      & 169.2  & 62.2  \\\\\n",
       "\\end{tabular}\n"
      ],
      "text/markdown": [
       "\n",
       "| name | gender | age | grade | absence | bloodtype | height | weight |\n",
       "|---|---|---|---|---|---|---|---|\n",
       "| 왕눈이 | 남자   | 23     | 3      | 유     | O      | 165.3  | 68.2   |\n",
       "| 아로미 | 여자   | 22     | 2      | 무     | AB     | 170.1  | 53.0   |\n",
       "| 홍길동 | 남자   | 24     | 4      | 무     | B      | 175.0  | 80.1   |\n",
       "| 김철수 | 남자   | 23     | 3      | 무     | AB     | 182.1  | 85.7   |\n",
       "| 손세수 | 여자   | 20     | 1      | 유     | A      | 168.0  | 49.5   |\n",
       "| 박미희 | 여자   | 21     | 2      | 무     | O      | 162.0  | 52.0   |\n",
       "| 강수친 | 여자   | 22     | 1      | 무     | O      | 155.2  | 45.3   |\n",
       "| 이희수 | 여자   | 23     | 1      | 무     | A      | 176.9  | 55.0   |\n",
       "| 이철린 | 남자   | 23     | 3      | 무     | B      | 178.5  | 64.2   |\n",
       "| 방희철 | 남자   | 22     | 2      | 무     | B      | 176.1  | 61.3   |\n",
       "| 박수호 | 남자   | 24     | 4      | 유     | O      | 167.1  | 62.0   |\n",
       "| 임동민 | 남자   | 22     | 2      | 무     | AB     | 180.0  | 75.8   |\n",
       "| 김민수 | 남자   | 21     | 1      | 무     | A      | 162.2  | 55.3   |\n",
       "| 이희진 | 여자   | 23     | 3      | 무     | O      | 176.1  | 53.1   |\n",
       "| 김미진 | 여자   | 22     | 2      | 무     | B      | 158.2  | 45.2   |\n",
       "| 김동수 | 남자   | 24     | 4      | 유     | B      | 168.6  | 70.2   |\n",
       "| 여수근 | 남자   | 21     | 1      | 무     | A      | 169.2  | 62.2   |\n",
       "\n"
      ],
      "text/plain": [
       "   name   gender age grade absence bloodtype height weight\n",
       "1  왕눈이 남자   23  3     유      O         165.3  68.2  \n",
       "2  아로미 여자   22  2     무      AB        170.1  53.0  \n",
       "3  홍길동 남자   24  4     무      B         175.0  80.1  \n",
       "4  김철수 남자   23  3     무      AB        182.1  85.7  \n",
       "5  손세수 여자   20  1     유      A         168.0  49.5  \n",
       "6  박미희 여자   21  2     무      O         162.0  52.0  \n",
       "7  강수친 여자   22  1     무      O         155.2  45.3  \n",
       "8  이희수 여자   23  1     무      A         176.9  55.0  \n",
       "9  이철린 남자   23  3     무      B         178.5  64.2  \n",
       "10 방희철 남자   22  2     무      B         176.1  61.3  \n",
       "11 박수호 남자   24  4     유      O         167.1  62.0  \n",
       "12 임동민 남자   22  2     무      AB        180.0  75.8  \n",
       "13 김민수 남자   21  1     무      A         162.2  55.3  \n",
       "14 이희진 여자   23  3     무      O         176.1  53.1  \n",
       "15 김미진 여자   22  2     무      B         158.2  45.2  \n",
       "16 김동수 남자   24  4     유      B         168.6  70.2  \n",
       "17 여수근 남자   21  1     무      A         169.2  62.2  "
      ]
     },
     "metadata": {},
     "output_type": "display_data"
    },
    {
     "data": {
      "text/html": [
       "'data.frame'"
      ],
      "text/latex": [
       "'data.frame'"
      ],
      "text/markdown": [
       "'data.frame'"
      ],
      "text/plain": [
       "[1] \"data.frame\""
      ]
     },
     "metadata": {},
     "output_type": "display_data"
    }
   ],
   "source": [
    "studentx \n",
    "class(studentx)"
   ]
  },
  {
   "cell_type": "markdown",
   "metadata": {},
   "source": [
    "### internet CSV data access"
   ]
  },
  {
   "cell_type": "code",
   "execution_count": 38,
   "metadata": {},
   "outputs": [
    {
     "data": {
      "text/html": [
       "'C:/ai6/ws_bigdata/notebook/core/files'"
      ],
      "text/latex": [
       "'C:/ai6/ws\\_bigdata/notebook/core/files'"
      ],
      "text/markdown": [
       "'C:/ai6/ws_bigdata/notebook/core/files'"
      ],
      "text/plain": [
       "[1] \"C:/ai6/ws_bigdata/notebook/core/files\""
      ]
     },
     "metadata": {},
     "output_type": "display_data"
    }
   ],
   "source": [
    "getwd()"
   ]
  },
  {
   "cell_type": "code",
   "execution_count": 2,
   "metadata": {},
   "outputs": [],
   "source": [
    "# 인터넷 접속 불안정시 파일로 저장하여 실습 진행\n",
    "# 다운 받은 파일중에 첫번째 라인의 빨간색 특수 문자 'ㆍ' 를 제거 할것.\n",
    "# http://databank.worldbank.org/data/download/GDP.csv 파일 다운로드\n",
    "gdp <- read.csv(\"http://soldeskit30.cafe24.com/GDP.csv\",\n",
    "                  fileEncoding='utf-8', encoding='utf-8')\n",
    "\n",
    "# gdp <- read.csv(file='GDP.csv',fileEncoding='utf-8', encoding='utf-8')"
   ]
  },
  {
   "cell_type": "code",
   "execution_count": 3,
   "metadata": {},
   "outputs": [
    {
     "data": {
      "text/html": [
       "'data.frame'"
      ],
      "text/latex": [
       "'data.frame'"
      ],
      "text/markdown": [
       "'data.frame'"
      ],
      "text/plain": [
       "[1] \"data.frame\""
      ]
     },
     "metadata": {},
     "output_type": "display_data"
    },
    {
     "data": {
      "text/html": [
       "<table>\n",
       "<thead><tr><th scope=col>X</th><th scope=col>Gross.domestic.product.2018</th><th scope=col>X.1</th><th scope=col>X.2</th><th scope=col>X.3</th><th scope=col>X.4</th></tr></thead>\n",
       "<tbody>\n",
       "\t<tr><td>              </td><td>              </td><td>NA            </td><td>              </td><td>              </td><td>              </td></tr>\n",
       "\t<tr><td>              </td><td>              </td><td>NA            </td><td>              </td><td>(millions of  </td><td>              </td></tr>\n",
       "\t<tr><td>              </td><td>Ranking       </td><td>NA            </td><td>Economy       </td><td>US dollars)   </td><td>              </td></tr>\n",
       "\t<tr><td>              </td><td>              </td><td>NA            </td><td>              </td><td>              </td><td>              </td></tr>\n",
       "\t<tr><td>USA           </td><td>1             </td><td>NA            </td><td>United States </td><td> 20,544,343   </td><td>              </td></tr>\n",
       "\t<tr><td>CHN           </td><td>2             </td><td>NA            </td><td>China         </td><td> 13,608,152   </td><td>              </td></tr>\n",
       "\t<tr><td>JPN           </td><td>3             </td><td>NA            </td><td>Japan         </td><td> 4,971,323    </td><td>              </td></tr>\n",
       "\t<tr><td>DEU           </td><td>4             </td><td>NA            </td><td>Germany       </td><td> 3,947,620    </td><td>              </td></tr>\n",
       "\t<tr><td>GBR           </td><td>5             </td><td>NA            </td><td>United Kingdom</td><td> 2,855,297    </td><td>              </td></tr>\n",
       "\t<tr><td>FRA           </td><td>6             </td><td>NA            </td><td>France        </td><td> 2,777,535    </td><td>              </td></tr>\n",
       "</tbody>\n",
       "</table>\n"
      ],
      "text/latex": [
       "\\begin{tabular}{r|llllll}\n",
       " X & Gross.domestic.product.2018 & X.1 & X.2 & X.3 & X.4\\\\\n",
       "\\hline\n",
       "\t                &                & NA             &                &                &               \\\\\n",
       "\t                &                & NA             &                & (millions of   &               \\\\\n",
       "\t                & Ranking        & NA             & Economy        & US dollars)    &               \\\\\n",
       "\t                &                & NA             &                &                &               \\\\\n",
       "\t USA            & 1              & NA             & United States  &  20,544,343    &               \\\\\n",
       "\t CHN            & 2              & NA             & China          &  13,608,152    &               \\\\\n",
       "\t JPN            & 3              & NA             & Japan          &  4,971,323     &               \\\\\n",
       "\t DEU            & 4              & NA             & Germany        &  3,947,620     &               \\\\\n",
       "\t GBR            & 5              & NA             & United Kingdom &  2,855,297     &               \\\\\n",
       "\t FRA            & 6              & NA             & France         &  2,777,535     &               \\\\\n",
       "\\end{tabular}\n"
      ],
      "text/markdown": [
       "\n",
       "| X | Gross.domestic.product.2018 | X.1 | X.2 | X.3 | X.4 |\n",
       "|---|---|---|---|---|---|\n",
       "|                |                | NA             |                |                |                |\n",
       "|                |                | NA             |                | (millions of   |                |\n",
       "|                | Ranking        | NA             | Economy        | US dollars)    |                |\n",
       "|                |                | NA             |                |                |                |\n",
       "| USA            | 1              | NA             | United States  |  20,544,343    |                |\n",
       "| CHN            | 2              | NA             | China          |  13,608,152    |                |\n",
       "| JPN            | 3              | NA             | Japan          |  4,971,323     |                |\n",
       "| DEU            | 4              | NA             | Germany        |  3,947,620     |                |\n",
       "| GBR            | 5              | NA             | United Kingdom |  2,855,297     |                |\n",
       "| FRA            | 6              | NA             | France         |  2,777,535     |                |\n",
       "\n"
      ],
      "text/plain": [
       "   X   Gross.domestic.product.2018 X.1 X.2            X.3          X.4\n",
       "1                                  NA                                 \n",
       "2                                  NA                 (millions of    \n",
       "3      Ranking                     NA  Economy        US dollars)     \n",
       "4                                  NA                                 \n",
       "5  USA 1                           NA  United States   20,544,343     \n",
       "6  CHN 2                           NA  China           13,608,152     \n",
       "7  JPN 3                           NA  Japan           4,971,323      \n",
       "8  DEU 4                           NA  Germany         3,947,620      \n",
       "9  GBR 5                           NA  United Kingdom  2,855,297      \n",
       "10 FRA 6                           NA  France          2,777,535      "
      ]
     },
     "metadata": {},
     "output_type": "display_data"
    }
   ],
   "source": [
    "class(gdp)\n",
    "head(gdp, 10) # 처음 부분 10건 출력\n",
    "# 'data.frame'\n",
    "# X\tGross.domestic.product.2018\tX.1\tX.2\tX.3\tX.4\n",
    "# NA\t\t\t\n",
    "# NA\t\t(millions of\t\n",
    "# Ranking\tNA\tEconomy\tUS dollars)\t\n",
    "# NA\t\t\t\n",
    "# USA\t1\tNA\tUnited States\t20,544,343\t\n",
    "# CHN\t2\tNA\tChina\t13,608,152\t\n",
    "# JPN\t3\tNA\tJapan\t4,971,323\t\n",
    "# DEU\t4\tNA\tGermany\t3,947,620\t\n",
    "# GBR\t5\tNA\tUnited Kingdom\t2,855,297\t\n",
    "# FRA\t6\tNA\tFrance\t2,777,535\t"
   ]
  },
  {
   "cell_type": "code",
   "execution_count": 4,
   "metadata": {},
   "outputs": [
    {
     "data": {
      "text/html": [
       "<table>\n",
       "<thead><tr><th></th><th scope=col>X</th><th scope=col>Gross.domestic.product.2018</th><th scope=col>X.2</th><th scope=col>X.3</th></tr></thead>\n",
       "<tbody>\n",
       "\t<tr><th scope=row>5</th><td>USA           </td><td>1             </td><td>United States </td><td> 20,544,343   </td></tr>\n",
       "\t<tr><th scope=row>6</th><td>CHN           </td><td>2             </td><td>China         </td><td> 13,608,152   </td></tr>\n",
       "\t<tr><th scope=row>7</th><td>JPN           </td><td>3             </td><td>Japan         </td><td> 4,971,323    </td></tr>\n",
       "\t<tr><th scope=row>8</th><td>DEU           </td><td>4             </td><td>Germany       </td><td> 3,947,620    </td></tr>\n",
       "\t<tr><th scope=row>9</th><td>GBR           </td><td>5             </td><td>United Kingdom</td><td> 2,855,297    </td></tr>\n",
       "\t<tr><th scope=row>10</th><td>FRA           </td><td>6             </td><td>France        </td><td> 2,777,535    </td></tr>\n",
       "</tbody>\n",
       "</table>\n"
      ],
      "text/latex": [
       "\\begin{tabular}{r|llll}\n",
       "  & X & Gross.domestic.product.2018 & X.2 & X.3\\\\\n",
       "\\hline\n",
       "\t5 & USA            & 1              & United States  &  20,544,343   \\\\\n",
       "\t6 & CHN            & 2              & China          &  13,608,152   \\\\\n",
       "\t7 & JPN            & 3              & Japan          &  4,971,323    \\\\\n",
       "\t8 & DEU            & 4              & Germany        &  3,947,620    \\\\\n",
       "\t9 & GBR            & 5              & United Kingdom &  2,855,297    \\\\\n",
       "\t10 & FRA            & 6              & France         &  2,777,535    \\\\\n",
       "\\end{tabular}\n"
      ],
      "text/markdown": [
       "\n",
       "| <!--/--> | X | Gross.domestic.product.2018 | X.2 | X.3 |\n",
       "|---|---|---|---|---|\n",
       "| 5 | USA            | 1              | United States  |  20,544,343    |\n",
       "| 6 | CHN            | 2              | China          |  13,608,152    |\n",
       "| 7 | JPN            | 3              | Japan          |  4,971,323     |\n",
       "| 8 | DEU            | 4              | Germany        |  3,947,620     |\n",
       "| 9 | GBR            | 5              | United Kingdom |  2,855,297     |\n",
       "| 10 | FRA            | 6              | France         |  2,777,535     |\n",
       "\n"
      ],
      "text/plain": [
       "   X   Gross.domestic.product.2018 X.2            X.3         \n",
       "5  USA 1                           United States   20,544,343 \n",
       "6  CHN 2                           China           13,608,152 \n",
       "7  JPN 3                           Japan           4,971,323  \n",
       "8  DEU 4                           Germany         3,947,620  \n",
       "9  GBR 5                           United Kingdom  2,855,297  \n",
       "10 FRA 6                           France          2,777,535  "
      ]
     },
     "metadata": {},
     "output_type": "display_data"
    }
   ],
   "source": [
    "# 데이터 전처리\n",
    "# 1~4행이 필요 없다 -> -를 사용하여 vector 만큼 제거\n",
    "gdp <- gdp[-c(1:4), c(1, 2, 4, 5)] # index 1 ~ 4 행 삭제, 1,2,4,5 열 선택\n",
    "head(gdp)\n",
    "# \tX\tGross.domestic.product.2018\tX.2\tX.3\n",
    "# 5\tUSA\t1\tUnited States\t20,544,343\n",
    "# 6\tCHN\t2\tChina\t13,608,152\n",
    "# 7\tJPN\t3\tJapan\t4,971,323\n",
    "# 8\tDEU\t4\tGermany\t3,947,620\n",
    "# 9\tGBR\t5\tUnited Kingdom\t2,855,297\n",
    "# 10\tFRA\t6\tFrance\t2,777,535\n"
   ]
  },
  {
   "cell_type": "code",
   "execution_count": 63,
   "metadata": {},
   "outputs": [
    {
     "data": {
      "text/html": [
       "<table>\n",
       "<thead><tr><th></th><th scope=col>X</th><th scope=col>Gross.domestic.product.2018</th><th scope=col>X.2</th><th scope=col>X.3</th></tr></thead>\n",
       "<tbody>\n",
       "\t<tr><th scope=row>5</th><td>USA               </td><td>1                 </td><td>United States     </td><td> 20,544,343       </td></tr>\n",
       "\t<tr><th scope=row>6</th><td>CHN               </td><td>2                 </td><td>China             </td><td> 13,608,152       </td></tr>\n",
       "\t<tr><th scope=row>7</th><td>JPN               </td><td>3                 </td><td>Japan             </td><td> 4,971,323        </td></tr>\n",
       "\t<tr><th scope=row>8</th><td>DEU               </td><td>4                 </td><td>Germany           </td><td> 3,947,620        </td></tr>\n",
       "\t<tr><th scope=row>9</th><td>GBR               </td><td>5                 </td><td>United Kingdom    </td><td> 2,855,297        </td></tr>\n",
       "\t<tr><th scope=row>10</th><td>FRA               </td><td>6                 </td><td>France            </td><td> 2,777,535        </td></tr>\n",
       "\t<tr><th scope=row>11</th><td>IND               </td><td>7                 </td><td>India             </td><td> 2,718,732        </td></tr>\n",
       "\t<tr><th scope=row>12</th><td>ITA               </td><td>8                 </td><td>Italy             </td><td> 2,083,864        </td></tr>\n",
       "\t<tr><th scope=row>13</th><td>BRA               </td><td>9                 </td><td>Brazil            </td><td> 1,868,626        </td></tr>\n",
       "\t<tr><th scope=row>14</th><td>CAN               </td><td>10                </td><td>Canada            </td><td> 1,713,342        </td></tr>\n",
       "\t<tr><th scope=row>15</th><td>RUS               </td><td>11                </td><td>Russian Federation</td><td> 1,657,555        </td></tr>\n",
       "\t<tr><th scope=row>16</th><td>KOR               </td><td>12                </td><td>Korea, Rep.       </td><td> 1,619,424        </td></tr>\n",
       "</tbody>\n",
       "</table>\n"
      ],
      "text/latex": [
       "\\begin{tabular}{r|llll}\n",
       "  & X & Gross.domestic.product.2018 & X.2 & X.3\\\\\n",
       "\\hline\n",
       "\t5 & USA                & 1                  & United States      &  20,544,343       \\\\\n",
       "\t6 & CHN                & 2                  & China              &  13,608,152       \\\\\n",
       "\t7 & JPN                & 3                  & Japan              &  4,971,323        \\\\\n",
       "\t8 & DEU                & 4                  & Germany            &  3,947,620        \\\\\n",
       "\t9 & GBR                & 5                  & United Kingdom     &  2,855,297        \\\\\n",
       "\t10 & FRA                & 6                  & France             &  2,777,535        \\\\\n",
       "\t11 & IND                & 7                  & India              &  2,718,732        \\\\\n",
       "\t12 & ITA                & 8                  & Italy              &  2,083,864        \\\\\n",
       "\t13 & BRA                & 9                  & Brazil             &  1,868,626        \\\\\n",
       "\t14 & CAN                & 10                 & Canada             &  1,713,342        \\\\\n",
       "\t15 & RUS                & 11                 & Russian Federation &  1,657,555        \\\\\n",
       "\t16 & KOR                & 12                 & Korea, Rep.        &  1,619,424        \\\\\n",
       "\\end{tabular}\n"
      ],
      "text/markdown": [
       "\n",
       "| <!--/--> | X | Gross.domestic.product.2018 | X.2 | X.3 |\n",
       "|---|---|---|---|---|\n",
       "| 5 | USA                | 1                  | United States      |  20,544,343        |\n",
       "| 6 | CHN                | 2                  | China              |  13,608,152        |\n",
       "| 7 | JPN                | 3                  | Japan              |  4,971,323         |\n",
       "| 8 | DEU                | 4                  | Germany            |  3,947,620         |\n",
       "| 9 | GBR                | 5                  | United Kingdom     |  2,855,297         |\n",
       "| 10 | FRA                | 6                  | France             |  2,777,535         |\n",
       "| 11 | IND                | 7                  | India              |  2,718,732         |\n",
       "| 12 | ITA                | 8                  | Italy              |  2,083,864         |\n",
       "| 13 | BRA                | 9                  | Brazil             |  1,868,626         |\n",
       "| 14 | CAN                | 10                 | Canada             |  1,713,342         |\n",
       "| 15 | RUS                | 11                 | Russian Federation |  1,657,555         |\n",
       "| 16 | KOR                | 12                 | Korea, Rep.        |  1,619,424         |\n",
       "\n"
      ],
      "text/plain": [
       "   X   Gross.domestic.product.2018 X.2                X.3         \n",
       "5  USA 1                           United States       20,544,343 \n",
       "6  CHN 2                           China               13,608,152 \n",
       "7  JPN 3                           Japan               4,971,323  \n",
       "8  DEU 4                           Germany             3,947,620  \n",
       "9  GBR 5                           United Kingdom      2,855,297  \n",
       "10 FRA 6                           France              2,777,535  \n",
       "11 IND 7                           India               2,718,732  \n",
       "12 ITA 8                           Italy               2,083,864  \n",
       "13 BRA 9                           Brazil              1,868,626  \n",
       "14 CAN 10                          Canada              1,713,342  \n",
       "15 RUS 11                          Russian Federation  1,657,555  \n",
       "16 KOR 12                          Korea, Rep.         1,619,424  "
      ]
     },
     "metadata": {},
     "output_type": "display_data"
    }
   ],
   "source": [
    "# 12건만 출력\n",
    "head(gdp, 12)"
   ]
  },
  {
   "cell_type": "code",
   "execution_count": 15,
   "metadata": {},
   "outputs": [],
   "source": [
    "# 이름 지정\n",
    "names(gdp) <- c('Code', 'Ranking', 'Nation', 'GDP')"
   ]
  },
  {
   "cell_type": "code",
   "execution_count": 16,
   "metadata": {},
   "outputs": [
    {
     "data": {
      "text/html": [
       "<table>\n",
       "<thead><tr><th></th><th scope=col>Code</th><th scope=col>Ranking</th><th scope=col>Nation</th><th scope=col>GDP</th></tr></thead>\n",
       "<tbody>\n",
       "\t<tr><th scope=row>5</th><td>USA           </td><td>1             </td><td>United States </td><td> 20,544,343   </td></tr>\n",
       "\t<tr><th scope=row>6</th><td>CHN           </td><td>2             </td><td>China         </td><td> 13,608,152   </td></tr>\n",
       "\t<tr><th scope=row>7</th><td>JPN           </td><td>3             </td><td>Japan         </td><td> 4,971,323    </td></tr>\n",
       "\t<tr><th scope=row>8</th><td>DEU           </td><td>4             </td><td>Germany       </td><td> 3,947,620    </td></tr>\n",
       "\t<tr><th scope=row>9</th><td>GBR           </td><td>5             </td><td>United Kingdom</td><td> 2,855,297    </td></tr>\n",
       "\t<tr><th scope=row>10</th><td>FRA           </td><td>6             </td><td>France        </td><td> 2,777,535    </td></tr>\n",
       "</tbody>\n",
       "</table>\n"
      ],
      "text/latex": [
       "\\begin{tabular}{r|llll}\n",
       "  & Code & Ranking & Nation & GDP\\\\\n",
       "\\hline\n",
       "\t5 & USA            & 1              & United States  &  20,544,343   \\\\\n",
       "\t6 & CHN            & 2              & China          &  13,608,152   \\\\\n",
       "\t7 & JPN            & 3              & Japan          &  4,971,323    \\\\\n",
       "\t8 & DEU            & 4              & Germany        &  3,947,620    \\\\\n",
       "\t9 & GBR            & 5              & United Kingdom &  2,855,297    \\\\\n",
       "\t10 & FRA            & 6              & France         &  2,777,535    \\\\\n",
       "\\end{tabular}\n"
      ],
      "text/markdown": [
       "\n",
       "| <!--/--> | Code | Ranking | Nation | GDP |\n",
       "|---|---|---|---|---|\n",
       "| 5 | USA            | 1              | United States  |  20,544,343    |\n",
       "| 6 | CHN            | 2              | China          |  13,608,152    |\n",
       "| 7 | JPN            | 3              | Japan          |  4,971,323     |\n",
       "| 8 | DEU            | 4              | Germany        |  3,947,620     |\n",
       "| 9 | GBR            | 5              | United Kingdom |  2,855,297     |\n",
       "| 10 | FRA            | 6              | France         |  2,777,535     |\n",
       "\n"
      ],
      "text/plain": [
       "   Code Ranking Nation         GDP         \n",
       "5  USA  1       United States   20,544,343 \n",
       "6  CHN  2       China           13,608,152 \n",
       "7  JPN  3       Japan           4,971,323  \n",
       "8  DEU  4       Germany         3,947,620  \n",
       "9  GBR  5       United Kingdom  2,855,297  \n",
       "10 FRA  6       France          2,777,535  "
      ]
     },
     "metadata": {},
     "output_type": "display_data"
    }
   ],
   "source": [
    "head(gdp)\n",
    "# Code\tRanking\tNation\tGDP\n",
    "# 5\tUSA\t1\tUnited States\t20,544,343\n",
    "# 6\tCHN\t2\tChina\t13,608,152\n",
    "# 7\tJPN\t3\tJapan\t4,971,323\n",
    "# 8\tDEU\t4\tGermany\t3,947,620\n",
    "# 9\tGBR\t5\tUnited Kingdom\t2,855,297\n",
    "# 10\tFRA\t6\tFrance\t2,777,535\n"
   ]
  },
  {
   "cell_type": "code",
   "execution_count": 17,
   "metadata": {},
   "outputs": [
    {
     "data": {
      "text/html": [
       "<table>\n",
       "<thead><tr><th></th><th scope=col>Code</th><th scope=col>Ranking</th><th scope=col>Nation</th><th scope=col>GDP</th></tr></thead>\n",
       "<tbody>\n",
       "\t<tr><th scope=row>5</th><td>USA               </td><td>1                 </td><td>United States     </td><td> 20,544,343       </td></tr>\n",
       "\t<tr><th scope=row>6</th><td>CHN               </td><td>2                 </td><td>China             </td><td> 13,608,152       </td></tr>\n",
       "\t<tr><th scope=row>7</th><td>JPN               </td><td>3                 </td><td>Japan             </td><td> 4,971,323        </td></tr>\n",
       "\t<tr><th scope=row>8</th><td>DEU               </td><td>4                 </td><td>Germany           </td><td> 3,947,620        </td></tr>\n",
       "\t<tr><th scope=row>9</th><td>GBR               </td><td>5                 </td><td>United Kingdom    </td><td> 2,855,297        </td></tr>\n",
       "\t<tr><th scope=row>10</th><td>FRA               </td><td>6                 </td><td>France            </td><td> 2,777,535        </td></tr>\n",
       "\t<tr><th scope=row>11</th><td>IND               </td><td>7                 </td><td>India             </td><td> 2,718,732        </td></tr>\n",
       "\t<tr><th scope=row>12</th><td>ITA               </td><td>8                 </td><td>Italy             </td><td> 2,083,864        </td></tr>\n",
       "\t<tr><th scope=row>13</th><td>BRA               </td><td>9                 </td><td>Brazil            </td><td> 1,868,626        </td></tr>\n",
       "\t<tr><th scope=row>14</th><td>CAN               </td><td>10                </td><td>Canada            </td><td> 1,713,342        </td></tr>\n",
       "\t<tr><th scope=row>15</th><td>RUS               </td><td>11                </td><td>Russian Federation</td><td> 1,657,555        </td></tr>\n",
       "\t<tr><th scope=row>16</th><td>KOR               </td><td>12                </td><td>Korea, Rep.       </td><td> 1,619,424        </td></tr>\n",
       "\t<tr><th scope=row>17</th><td>AUS               </td><td>13                </td><td>Australia         </td><td> 1,433,904        </td></tr>\n",
       "\t<tr><th scope=row>18</th><td>ESP               </td><td>14                </td><td>Spain             </td><td> 1,419,042        </td></tr>\n",
       "\t<tr><th scope=row>19</th><td>MEX               </td><td>15                </td><td>Mexico            </td><td> 1,220,699        </td></tr>\n",
       "</tbody>\n",
       "</table>\n"
      ],
      "text/latex": [
       "\\begin{tabular}{r|llll}\n",
       "  & Code & Ranking & Nation & GDP\\\\\n",
       "\\hline\n",
       "\t5 & USA                & 1                  & United States      &  20,544,343       \\\\\n",
       "\t6 & CHN                & 2                  & China              &  13,608,152       \\\\\n",
       "\t7 & JPN                & 3                  & Japan              &  4,971,323        \\\\\n",
       "\t8 & DEU                & 4                  & Germany            &  3,947,620        \\\\\n",
       "\t9 & GBR                & 5                  & United Kingdom     &  2,855,297        \\\\\n",
       "\t10 & FRA                & 6                  & France             &  2,777,535        \\\\\n",
       "\t11 & IND                & 7                  & India              &  2,718,732        \\\\\n",
       "\t12 & ITA                & 8                  & Italy              &  2,083,864        \\\\\n",
       "\t13 & BRA                & 9                  & Brazil             &  1,868,626        \\\\\n",
       "\t14 & CAN                & 10                 & Canada             &  1,713,342        \\\\\n",
       "\t15 & RUS                & 11                 & Russian Federation &  1,657,555        \\\\\n",
       "\t16 & KOR                & 12                 & Korea, Rep.        &  1,619,424        \\\\\n",
       "\t17 & AUS                & 13                 & Australia          &  1,433,904        \\\\\n",
       "\t18 & ESP                & 14                 & Spain              &  1,419,042        \\\\\n",
       "\t19 & MEX                & 15                 & Mexico             &  1,220,699        \\\\\n",
       "\\end{tabular}\n"
      ],
      "text/markdown": [
       "\n",
       "| <!--/--> | Code | Ranking | Nation | GDP |\n",
       "|---|---|---|---|---|\n",
       "| 5 | USA                | 1                  | United States      |  20,544,343        |\n",
       "| 6 | CHN                | 2                  | China              |  13,608,152        |\n",
       "| 7 | JPN                | 3                  | Japan              |  4,971,323         |\n",
       "| 8 | DEU                | 4                  | Germany            |  3,947,620         |\n",
       "| 9 | GBR                | 5                  | United Kingdom     |  2,855,297         |\n",
       "| 10 | FRA                | 6                  | France             |  2,777,535         |\n",
       "| 11 | IND                | 7                  | India              |  2,718,732         |\n",
       "| 12 | ITA                | 8                  | Italy              |  2,083,864         |\n",
       "| 13 | BRA                | 9                  | Brazil             |  1,868,626         |\n",
       "| 14 | CAN                | 10                 | Canada             |  1,713,342         |\n",
       "| 15 | RUS                | 11                 | Russian Federation |  1,657,555         |\n",
       "| 16 | KOR                | 12                 | Korea, Rep.        |  1,619,424         |\n",
       "| 17 | AUS                | 13                 | Australia          |  1,433,904         |\n",
       "| 18 | ESP                | 14                 | Spain              |  1,419,042         |\n",
       "| 19 | MEX                | 15                 | Mexico             |  1,220,699         |\n",
       "\n"
      ],
      "text/plain": [
       "   Code Ranking Nation             GDP         \n",
       "5  USA  1       United States       20,544,343 \n",
       "6  CHN  2       China               13,608,152 \n",
       "7  JPN  3       Japan               4,971,323  \n",
       "8  DEU  4       Germany             3,947,620  \n",
       "9  GBR  5       United Kingdom      2,855,297  \n",
       "10 FRA  6       France              2,777,535  \n",
       "11 IND  7       India               2,718,732  \n",
       "12 ITA  8       Italy               2,083,864  \n",
       "13 BRA  9       Brazil              1,868,626  \n",
       "14 CAN  10      Canada              1,713,342  \n",
       "15 RUS  11      Russian Federation  1,657,555  \n",
       "16 KOR  12      Korea, Rep.         1,619,424  \n",
       "17 AUS  13      Australia           1,433,904  \n",
       "18 ESP  14      Spain               1,419,042  \n",
       "19 MEX  15      Mexico              1,220,699  "
      ]
     },
     "metadata": {},
     "output_type": "display_data"
    }
   ],
   "source": [
    "gdp15 <- head(gdp, 15)\n",
    "gdp15"
   ]
  },
  {
   "cell_type": "code",
   "execution_count": 18,
   "metadata": {},
   "outputs": [
    {
     "data": {
      "text/html": [
       "<ol class=list-inline>\n",
       "\t<li> 20,544,343 </li>\n",
       "\t<li> 13,608,152 </li>\n",
       "\t<li> 4,971,323 </li>\n",
       "\t<li> 3,947,620 </li>\n",
       "\t<li> 2,855,297 </li>\n",
       "\t<li> 2,777,535 </li>\n",
       "\t<li> 2,718,732 </li>\n",
       "\t<li> 2,083,864 </li>\n",
       "\t<li> 1,868,626 </li>\n",
       "\t<li> 1,713,342 </li>\n",
       "\t<li> 1,657,555 </li>\n",
       "\t<li> 1,619,424 </li>\n",
       "\t<li> 1,433,904 </li>\n",
       "\t<li> 1,419,042 </li>\n",
       "\t<li> 1,220,699 </li>\n",
       "</ol>\n",
       "\n",
       "<details>\n",
       "\t<summary style=display:list-item;cursor:pointer>\n",
       "\t\t<strong>Levels</strong>:\n",
       "\t</summary>\n",
       "\t<ol class=list-inline>\n",
       "\t\t<li>''</li>\n",
       "\t\t<li>' .. '</li>\n",
       "\t\t<li>' 1,011 '</li>\n",
       "\t\t<li>' 1,022 '</li>\n",
       "\t\t<li>' 1,042,173 '</li>\n",
       "\t\t<li>' 1,178 '</li>\n",
       "\t\t<li>' 1,186 '</li>\n",
       "\t\t<li>' 1,220,699 '</li>\n",
       "\t\t<li>' 1,396 '</li>\n",
       "\t\t<li>' 1,419,042 '</li>\n",
       "\t\t<li>' 1,433,904 '</li>\n",
       "\t\t<li>' 1,458 '</li>\n",
       "\t\t<li>' 1,590 '</li>\n",
       "\t\t<li>' 1,601 '</li>\n",
       "\t\t<li>' 1,611 '</li>\n",
       "\t\t<li>' 1,619,424 '</li>\n",
       "\t\t<li>' 1,633 '</li>\n",
       "\t\t<li>' 1,657,555 '</li>\n",
       "\t\t<li>' 1,713,342 '</li>\n",
       "\t\t<li>' 1,868,626 '</li>\n",
       "\t\t<li>' 1,871 '</li>\n",
       "\t\t<li>' 1,922 '</li>\n",
       "\t\t<li>' 1,977 '</li>\n",
       "\t\t<li>' 10,354 '</li>\n",
       "\t\t<li>' 10,907 '</li>\n",
       "\t\t<li>' 101,131 '</li>\n",
       "\t\t<li>' 105,751 '</li>\n",
       "\t\t<li>' 105,905 '</li>\n",
       "\t\t<li>' 108,398 '</li>\n",
       "\t\t<li>' 11,264 '</li>\n",
       "\t\t<li>' 11,273 '</li>\n",
       "\t\t<li>' 11,444 '</li>\n",
       "\t\t<li>' 117,921 '</li>\n",
       "\t\t<li>' 12,150 '</li>\n",
       "\t\t<li>' 12,433 '</li>\n",
       "\t\t<li>' 12,672 '</li>\n",
       "\t\t<li>' 126 '</li>\n",
       "\t\t<li>' 13,067 '</li>\n",
       "\t\t<li>' 13,118 '</li>\n",
       "\t\t<li>' 13,432 '</li>\n",
       "\t\t<li>' 13,567 '</li>\n",
       "\t\t<li>' 13,608,152 '</li>\n",
       "\t\t<li>' 13,853 '</li>\n",
       "\t\t<li>' 130,832 '</li>\n",
       "\t\t<li>' 14,125 '</li>\n",
       "\t\t<li>' 14,220 '</li>\n",
       "\t\t<li>' 14,522 '</li>\n",
       "\t\t<li>' 14,553 '</li>\n",
       "\t\t<li>' 14,616 '</li>\n",
       "\t\t<li>' 14,717 '</li>\n",
       "\t\t<li>' 140,645 '</li>\n",
       "\t\t<li>' 15,103 '</li>\n",
       "\t\t<li>' 15,714 '</li>\n",
       "\t\t<li>' 157,883 '</li>\n",
       "\t\t<li>' 16,854 '</li>\n",
       "\t\t<li>' 17,163 '</li>\n",
       "\t\t<li>' 17,600 '</li>\n",
       "\t\t<li>' 17,954 '</li>\n",
       "\t\t<li>' 173,758 '</li>\n",
       "\t\t<li>' 179,340 '</li>\n",
       "\t\t<li>' 18,616 '</li>\n",
       "\t\t<li>' 188 '</li>\n",
       "\t\t<li>' 19,363 '</li>\n",
       "\t\t<li>' 191,362 '</li>\n",
       "\t\t<li>' 2,083,864 '</li>\n",
       "\t\t<li>' 2,220 '</li>\n",
       "\t\t<li>' 2,535 '</li>\n",
       "\t\t<li>' 2,581 '</li>\n",
       "\t\t<li>' 2,689 '</li>\n",
       "\t\t<li>' 2,701 '</li>\n",
       "\t\t<li>' 2,707 '</li>\n",
       "\t\t<li>' 2,718,732 '</li>\n",
       "\t\t<li>' 2,739 '</li>\n",
       "\t\t<li>' 2,777,535 '</li>\n",
       "\t\t<li>' 2,855,297 '</li>\n",
       "\t\t<li>' 2,956 '</li>\n",
       "\t\t<li>' 20,162 '</li>\n",
       "\t\t<li>' 20,544,343 '</li>\n",
       "\t\t<li>' 204,924 '</li>\n",
       "\t\t<li>' 218,032 '</li>\n",
       "\t\t<li>' 221 '</li>\n",
       "\t\t<li>' 222,045 '</li>\n",
       "\t\t<li>' 224,228 '</li>\n",
       "\t\t<li>' 23,498 '</li>\n",
       "\t\t<li>' 23,808 '</li>\n",
       "\t\t<li>' 23,970 '</li>\n",
       "\t\t<li>' 239,553 '</li>\n",
       "\t\t<li>' 24,130 '</li>\n",
       "\t\t<li>' 24,542 '</li>\n",
       "\t\t<li>' 24,962 '</li>\n",
       "\t\t<li>' 240,675 '</li>\n",
       "\t\t<li>' 245,214 '</li>\n",
       "\t\t<li>' 245,226 '</li>\n",
       "\t\t<li>' 25,878 '</li>\n",
       "\t\t<li>' 250,895 '</li>\n",
       "\t\t<li>' 26,057 '</li>\n",
       "\t\t<li>' 26,720 '</li>\n",
       "\t\t<li>' 26,914 '</li>\n",
       "\t\t<li>' 27,461 '</li>\n",
       "\t\t<li>' 274,025 '</li>\n",
       "\t\t<li>' 276,743 '</li>\n",
       "\t\t<li>' 284 '</li>\n",
       "\t\t<li>' 29,040 '</li>\n",
       "\t\t<li>' 298,231 '</li>\n",
       "\t\t<li>' 3,037 '</li>\n",
       "\t\t<li>' 3,117 '</li>\n",
       "\t\t<li>' 3,237 '</li>\n",
       "\t\t<li>' 3,264 '</li>\n",
       "\t\t<li>' 3,591 '</li>\n",
       "\t\t<li>' 3,855 '</li>\n",
       "\t\t<li>' 3,879 '</li>\n",
       "\t\t<li>' 3,947,620 '</li>\n",
       "\t\t<li>' 30,732 '</li>\n",
       "\t\t<li>' 31,001 '</li>\n",
       "\t\t<li>' 314,588 '</li>\n",
       "\t\t<li>' 330,910 '</li>\n",
       "\t\t<li>' 331,047 '</li>\n",
       "\t\t<li>' 34,409 '</li>\n",
       "\t\t<li>' 355,675 '</li>\n",
       "\t\t<li>' 358,582 '</li>\n",
       "\t\t<li>' 362,682 '</li>\n",
       "\t\t<li>' 364,157 '</li>\n",
       "\t\t<li>' 368,289 '</li>\n",
       "\t\t<li>' 37,746 '</li>\n",
       "\t\t<li>' 370,588 '</li>\n",
       "\t\t<li>' 38,675 '</li>\n",
       "\t\t<li>' 382,487 '</li>\n",
       "\t\t<li>' 39,871 '</li>\n",
       "\t\t<li>' 397,270 '</li>\n",
       "\t\t<li>' 4,085 '</li>\n",
       "\t\t<li>' 4,711 '</li>\n",
       "\t\t<li>' 4,721 '</li>\n",
       "\t\t<li>' 4,971,323 '</li>\n",
       "\t\t<li>' 4,990 '</li>\n",
       "\t\t<li>' 40,288 '</li>\n",
       "\t\t<li>' 40,497 '</li>\n",
       "\t\t<li>' 40,761 '</li>\n",
       "\t\t<li>' 40,852 '</li>\n",
       "\t\t<li>' 402 '</li>\n",
       "\t\t<li>' 414,179 '</li>\n",
       "\t\t<li>' 42,231 '</li>\n",
       "\t\t<li>' 422 '</li>\n",
       "\t\t<li>' 43 '</li>\n",
       "\t\t<li>' 43,007 '</li>\n",
       "\t\t<li>' 434,167 '</li>\n",
       "\t\t<li>' 450 '</li>\n",
       "\t\t<li>' 454,013 '</li>\n",
       "\t\t<li>' 455,286 '</li>\n",
       "\t\t<li>' 46,940 '</li>\n",
       "\t\t<li>' 47,228 '</li>\n",
       "\t\t<li>' 48,364 '</li>\n",
       "\t\t<li>' 5,142 '</li>\n",
       "\t\t<li>' 5,235 '</li>\n",
       "\t\t<li>' 5,327 '</li>\n",
       "\t\t<li>' 5,359 '</li>\n",
       "\t\t<li>' 5,504 '</li>\n",
       "\t\t<li>' 5,537 '</li>\n",
       "\t\t<li>' 5,851 '</li>\n",
       "\t\t<li>' 50,500 '</li>\n",
       "\t\t<li>' 50,597 '</li>\n",
       "\t\t<li>' 504,993 '</li>\n",
       "\t\t<li>' 519,872 '</li>\n",
       "\t\t<li>' 53,429 '</li>\n",
       "\t\t<li>' 54,008 '</li>\n",
       "\t\t<li>' 542,761 '</li>\n",
       "\t\t<li>' 55,084 '</li>\n",
       "\t\t<li>' 551 '</li>\n",
       "\t\t<li>' 556,086 '</li>\n",
       "\t\t<li>' 56,639 '</li>\n",
       "\t\t<li>' 58,001 '</li>\n",
       "\t\t<li>' 585,664 '</li>\n",
       "\t\t<li>' 59,597 '</li>\n",
       "\t\t<li>' 59,662 '</li>\n",
       "\t\t<li>' 6,215 '</li>\n",
       "\t\t<li>' 6,415 '</li>\n",
       "\t\t<li>' 6,593 '</li>\n",
       "\t\t<li>' 60,130 '</li>\n",
       "\t\t<li>' 60,972 '</li>\n",
       "\t\t<li>' 602 '</li>\n",
       "\t\t<li>' 65,055 '</li>\n",
       "\t\t<li>' 65,133 '</li>\n",
       "\t\t<li>' 65,556 '</li>\n",
       "\t\t<li>' 7,065 '</li>\n",
       "\t\t<li>' 7,523 '</li>\n",
       "\t\t<li>' 7,939 '</li>\n",
       "\t\t<li>' 70,885 '</li>\n",
       "\t\t<li>' 705,140 '</li>\n",
       "\t\t<li>' 71,215 '</li>\n",
       "\t\t<li>' 771,350 '</li>\n",
       "\t\t<li>' 78,460 '</li>\n",
       "\t\t<li>' 786,522 '</li>\n",
       "\t\t<li>' 79,277 '</li>\n",
       "\t\t<li>' 8,093 '</li>\n",
       "\t\t<li>' 811 '</li>\n",
       "\t\t<li>' 820 '</li>\n",
       "\t\t<li>' 84,356 '</li>\n",
       "\t\t<li>' 85,555 '</li>\n",
       "\t\t<li>' 87,908 '</li>\n",
       "\t\t<li>' 88,901 '</li>\n",
       "\t\t<li>' 9,291 '</li>\n",
       "\t\t<li>' 9,509 '</li>\n",
       "\t\t<li>' 9,659 '</li>\n",
       "\t\t<li>' 913,658 '</li>\n",
       "\t\t<li>' 914 '</li>\n",
       "\t\t<li>' 96,851 '</li>\n",
       "\t\t<li>'(millions of'</li>\n",
       "\t\t<li>'1,709,948'</li>\n",
       "\t\t<li>'22,264,345'</li>\n",
       "\t\t<li>'23,068,403'</li>\n",
       "\t\t<li>'24,446,133'</li>\n",
       "\t\t<li>'25,942,413'</li>\n",
       "\t\t<li>'3,452,512'</li>\n",
       "\t\t<li>'3,610,539'</li>\n",
       "\t\t<li>'5,800,576'</li>\n",
       "\t\t<li>'54,205,741'</li>\n",
       "\t\t<li>'588,230'</li>\n",
       "\t\t<li>'6,702,153'</li>\n",
       "\t\t<li>'85,909,816'</li>\n",
       "\t\t<li>'US dollars)'</li>\n",
       "\t</ol>\n",
       "</details>"
      ],
      "text/latex": [
       "\\begin{enumerate*}\n",
       "\\item  20,544,343 \n",
       "\\item  13,608,152 \n",
       "\\item  4,971,323 \n",
       "\\item  3,947,620 \n",
       "\\item  2,855,297 \n",
       "\\item  2,777,535 \n",
       "\\item  2,718,732 \n",
       "\\item  2,083,864 \n",
       "\\item  1,868,626 \n",
       "\\item  1,713,342 \n",
       "\\item  1,657,555 \n",
       "\\item  1,619,424 \n",
       "\\item  1,433,904 \n",
       "\\item  1,419,042 \n",
       "\\item  1,220,699 \n",
       "\\end{enumerate*}\n",
       "\n",
       "\\emph{Levels}: \\begin{enumerate*}\n",
       "\\item ''\n",
       "\\item ' .. '\n",
       "\\item ' 1,011 '\n",
       "\\item ' 1,022 '\n",
       "\\item ' 1,042,173 '\n",
       "\\item ' 1,178 '\n",
       "\\item ' 1,186 '\n",
       "\\item ' 1,220,699 '\n",
       "\\item ' 1,396 '\n",
       "\\item ' 1,419,042 '\n",
       "\\item ' 1,433,904 '\n",
       "\\item ' 1,458 '\n",
       "\\item ' 1,590 '\n",
       "\\item ' 1,601 '\n",
       "\\item ' 1,611 '\n",
       "\\item ' 1,619,424 '\n",
       "\\item ' 1,633 '\n",
       "\\item ' 1,657,555 '\n",
       "\\item ' 1,713,342 '\n",
       "\\item ' 1,868,626 '\n",
       "\\item ' 1,871 '\n",
       "\\item ' 1,922 '\n",
       "\\item ' 1,977 '\n",
       "\\item ' 10,354 '\n",
       "\\item ' 10,907 '\n",
       "\\item ' 101,131 '\n",
       "\\item ' 105,751 '\n",
       "\\item ' 105,905 '\n",
       "\\item ' 108,398 '\n",
       "\\item ' 11,264 '\n",
       "\\item ' 11,273 '\n",
       "\\item ' 11,444 '\n",
       "\\item ' 117,921 '\n",
       "\\item ' 12,150 '\n",
       "\\item ' 12,433 '\n",
       "\\item ' 12,672 '\n",
       "\\item ' 126 '\n",
       "\\item ' 13,067 '\n",
       "\\item ' 13,118 '\n",
       "\\item ' 13,432 '\n",
       "\\item ' 13,567 '\n",
       "\\item ' 13,608,152 '\n",
       "\\item ' 13,853 '\n",
       "\\item ' 130,832 '\n",
       "\\item ' 14,125 '\n",
       "\\item ' 14,220 '\n",
       "\\item ' 14,522 '\n",
       "\\item ' 14,553 '\n",
       "\\item ' 14,616 '\n",
       "\\item ' 14,717 '\n",
       "\\item ' 140,645 '\n",
       "\\item ' 15,103 '\n",
       "\\item ' 15,714 '\n",
       "\\item ' 157,883 '\n",
       "\\item ' 16,854 '\n",
       "\\item ' 17,163 '\n",
       "\\item ' 17,600 '\n",
       "\\item ' 17,954 '\n",
       "\\item ' 173,758 '\n",
       "\\item ' 179,340 '\n",
       "\\item ' 18,616 '\n",
       "\\item ' 188 '\n",
       "\\item ' 19,363 '\n",
       "\\item ' 191,362 '\n",
       "\\item ' 2,083,864 '\n",
       "\\item ' 2,220 '\n",
       "\\item ' 2,535 '\n",
       "\\item ' 2,581 '\n",
       "\\item ' 2,689 '\n",
       "\\item ' 2,701 '\n",
       "\\item ' 2,707 '\n",
       "\\item ' 2,718,732 '\n",
       "\\item ' 2,739 '\n",
       "\\item ' 2,777,535 '\n",
       "\\item ' 2,855,297 '\n",
       "\\item ' 2,956 '\n",
       "\\item ' 20,162 '\n",
       "\\item ' 20,544,343 '\n",
       "\\item ' 204,924 '\n",
       "\\item ' 218,032 '\n",
       "\\item ' 221 '\n",
       "\\item ' 222,045 '\n",
       "\\item ' 224,228 '\n",
       "\\item ' 23,498 '\n",
       "\\item ' 23,808 '\n",
       "\\item ' 23,970 '\n",
       "\\item ' 239,553 '\n",
       "\\item ' 24,130 '\n",
       "\\item ' 24,542 '\n",
       "\\item ' 24,962 '\n",
       "\\item ' 240,675 '\n",
       "\\item ' 245,214 '\n",
       "\\item ' 245,226 '\n",
       "\\item ' 25,878 '\n",
       "\\item ' 250,895 '\n",
       "\\item ' 26,057 '\n",
       "\\item ' 26,720 '\n",
       "\\item ' 26,914 '\n",
       "\\item ' 27,461 '\n",
       "\\item ' 274,025 '\n",
       "\\item ' 276,743 '\n",
       "\\item ' 284 '\n",
       "\\item ' 29,040 '\n",
       "\\item ' 298,231 '\n",
       "\\item ' 3,037 '\n",
       "\\item ' 3,117 '\n",
       "\\item ' 3,237 '\n",
       "\\item ' 3,264 '\n",
       "\\item ' 3,591 '\n",
       "\\item ' 3,855 '\n",
       "\\item ' 3,879 '\n",
       "\\item ' 3,947,620 '\n",
       "\\item ' 30,732 '\n",
       "\\item ' 31,001 '\n",
       "\\item ' 314,588 '\n",
       "\\item ' 330,910 '\n",
       "\\item ' 331,047 '\n",
       "\\item ' 34,409 '\n",
       "\\item ' 355,675 '\n",
       "\\item ' 358,582 '\n",
       "\\item ' 362,682 '\n",
       "\\item ' 364,157 '\n",
       "\\item ' 368,289 '\n",
       "\\item ' 37,746 '\n",
       "\\item ' 370,588 '\n",
       "\\item ' 38,675 '\n",
       "\\item ' 382,487 '\n",
       "\\item ' 39,871 '\n",
       "\\item ' 397,270 '\n",
       "\\item ' 4,085 '\n",
       "\\item ' 4,711 '\n",
       "\\item ' 4,721 '\n",
       "\\item ' 4,971,323 '\n",
       "\\item ' 4,990 '\n",
       "\\item ' 40,288 '\n",
       "\\item ' 40,497 '\n",
       "\\item ' 40,761 '\n",
       "\\item ' 40,852 '\n",
       "\\item ' 402 '\n",
       "\\item ' 414,179 '\n",
       "\\item ' 42,231 '\n",
       "\\item ' 422 '\n",
       "\\item ' 43 '\n",
       "\\item ' 43,007 '\n",
       "\\item ' 434,167 '\n",
       "\\item ' 450 '\n",
       "\\item ' 454,013 '\n",
       "\\item ' 455,286 '\n",
       "\\item ' 46,940 '\n",
       "\\item ' 47,228 '\n",
       "\\item ' 48,364 '\n",
       "\\item ' 5,142 '\n",
       "\\item ' 5,235 '\n",
       "\\item ' 5,327 '\n",
       "\\item ' 5,359 '\n",
       "\\item ' 5,504 '\n",
       "\\item ' 5,537 '\n",
       "\\item ' 5,851 '\n",
       "\\item ' 50,500 '\n",
       "\\item ' 50,597 '\n",
       "\\item ' 504,993 '\n",
       "\\item ' 519,872 '\n",
       "\\item ' 53,429 '\n",
       "\\item ' 54,008 '\n",
       "\\item ' 542,761 '\n",
       "\\item ' 55,084 '\n",
       "\\item ' 551 '\n",
       "\\item ' 556,086 '\n",
       "\\item ' 56,639 '\n",
       "\\item ' 58,001 '\n",
       "\\item ' 585,664 '\n",
       "\\item ' 59,597 '\n",
       "\\item ' 59,662 '\n",
       "\\item ' 6,215 '\n",
       "\\item ' 6,415 '\n",
       "\\item ' 6,593 '\n",
       "\\item ' 60,130 '\n",
       "\\item ' 60,972 '\n",
       "\\item ' 602 '\n",
       "\\item ' 65,055 '\n",
       "\\item ' 65,133 '\n",
       "\\item ' 65,556 '\n",
       "\\item ' 7,065 '\n",
       "\\item ' 7,523 '\n",
       "\\item ' 7,939 '\n",
       "\\item ' 70,885 '\n",
       "\\item ' 705,140 '\n",
       "\\item ' 71,215 '\n",
       "\\item ' 771,350 '\n",
       "\\item ' 78,460 '\n",
       "\\item ' 786,522 '\n",
       "\\item ' 79,277 '\n",
       "\\item ' 8,093 '\n",
       "\\item ' 811 '\n",
       "\\item ' 820 '\n",
       "\\item ' 84,356 '\n",
       "\\item ' 85,555 '\n",
       "\\item ' 87,908 '\n",
       "\\item ' 88,901 '\n",
       "\\item ' 9,291 '\n",
       "\\item ' 9,509 '\n",
       "\\item ' 9,659 '\n",
       "\\item ' 913,658 '\n",
       "\\item ' 914 '\n",
       "\\item ' 96,851 '\n",
       "\\item '(millions of'\n",
       "\\item '1,709,948'\n",
       "\\item '22,264,345'\n",
       "\\item '23,068,403'\n",
       "\\item '24,446,133'\n",
       "\\item '25,942,413'\n",
       "\\item '3,452,512'\n",
       "\\item '3,610,539'\n",
       "\\item '5,800,576'\n",
       "\\item '54,205,741'\n",
       "\\item '588,230'\n",
       "\\item '6,702,153'\n",
       "\\item '85,909,816'\n",
       "\\item 'US dollars)'\n",
       "\\end{enumerate*}\n"
      ],
      "text/markdown": [
       "1.  20,544,343 \n",
       "2.  13,608,152 \n",
       "3.  4,971,323 \n",
       "4.  3,947,620 \n",
       "5.  2,855,297 \n",
       "6.  2,777,535 \n",
       "7.  2,718,732 \n",
       "8.  2,083,864 \n",
       "9.  1,868,626 \n",
       "10.  1,713,342 \n",
       "11.  1,657,555 \n",
       "12.  1,619,424 \n",
       "13.  1,433,904 \n",
       "14.  1,419,042 \n",
       "15.  1,220,699 \n",
       "\n",
       "\n",
       "\n",
       "**Levels**: 1. ''\n",
       "2. ' .. '\n",
       "3. ' 1,011 '\n",
       "4. ' 1,022 '\n",
       "5. ' 1,042,173 '\n",
       "6. ' 1,178 '\n",
       "7. ' 1,186 '\n",
       "8. ' 1,220,699 '\n",
       "9. ' 1,396 '\n",
       "10. ' 1,419,042 '\n",
       "11. ' 1,433,904 '\n",
       "12. ' 1,458 '\n",
       "13. ' 1,590 '\n",
       "14. ' 1,601 '\n",
       "15. ' 1,611 '\n",
       "16. ' 1,619,424 '\n",
       "17. ' 1,633 '\n",
       "18. ' 1,657,555 '\n",
       "19. ' 1,713,342 '\n",
       "20. ' 1,868,626 '\n",
       "21. ' 1,871 '\n",
       "22. ' 1,922 '\n",
       "23. ' 1,977 '\n",
       "24. ' 10,354 '\n",
       "25. ' 10,907 '\n",
       "26. ' 101,131 '\n",
       "27. ' 105,751 '\n",
       "28. ' 105,905 '\n",
       "29. ' 108,398 '\n",
       "30. ' 11,264 '\n",
       "31. ' 11,273 '\n",
       "32. ' 11,444 '\n",
       "33. ' 117,921 '\n",
       "34. ' 12,150 '\n",
       "35. ' 12,433 '\n",
       "36. ' 12,672 '\n",
       "37. ' 126 '\n",
       "38. ' 13,067 '\n",
       "39. ' 13,118 '\n",
       "40. ' 13,432 '\n",
       "41. ' 13,567 '\n",
       "42. ' 13,608,152 '\n",
       "43. ' 13,853 '\n",
       "44. ' 130,832 '\n",
       "45. ' 14,125 '\n",
       "46. ' 14,220 '\n",
       "47. ' 14,522 '\n",
       "48. ' 14,553 '\n",
       "49. ' 14,616 '\n",
       "50. ' 14,717 '\n",
       "51. ' 140,645 '\n",
       "52. ' 15,103 '\n",
       "53. ' 15,714 '\n",
       "54. ' 157,883 '\n",
       "55. ' 16,854 '\n",
       "56. ' 17,163 '\n",
       "57. ' 17,600 '\n",
       "58. ' 17,954 '\n",
       "59. ' 173,758 '\n",
       "60. ' 179,340 '\n",
       "61. ' 18,616 '\n",
       "62. ' 188 '\n",
       "63. ' 19,363 '\n",
       "64. ' 191,362 '\n",
       "65. ' 2,083,864 '\n",
       "66. ' 2,220 '\n",
       "67. ' 2,535 '\n",
       "68. ' 2,581 '\n",
       "69. ' 2,689 '\n",
       "70. ' 2,701 '\n",
       "71. ' 2,707 '\n",
       "72. ' 2,718,732 '\n",
       "73. ' 2,739 '\n",
       "74. ' 2,777,535 '\n",
       "75. ' 2,855,297 '\n",
       "76. ' 2,956 '\n",
       "77. ' 20,162 '\n",
       "78. ' 20,544,343 '\n",
       "79. ' 204,924 '\n",
       "80. ' 218,032 '\n",
       "81. ' 221 '\n",
       "82. ' 222,045 '\n",
       "83. ' 224,228 '\n",
       "84. ' 23,498 '\n",
       "85. ' 23,808 '\n",
       "86. ' 23,970 '\n",
       "87. ' 239,553 '\n",
       "88. ' 24,130 '\n",
       "89. ' 24,542 '\n",
       "90. ' 24,962 '\n",
       "91. ' 240,675 '\n",
       "92. ' 245,214 '\n",
       "93. ' 245,226 '\n",
       "94. ' 25,878 '\n",
       "95. ' 250,895 '\n",
       "96. ' 26,057 '\n",
       "97. ' 26,720 '\n",
       "98. ' 26,914 '\n",
       "99. ' 27,461 '\n",
       "100. ' 274,025 '\n",
       "101. ' 276,743 '\n",
       "102. ' 284 '\n",
       "103. ' 29,040 '\n",
       "104. ' 298,231 '\n",
       "105. ' 3,037 '\n",
       "106. ' 3,117 '\n",
       "107. ' 3,237 '\n",
       "108. ' 3,264 '\n",
       "109. ' 3,591 '\n",
       "110. ' 3,855 '\n",
       "111. ' 3,879 '\n",
       "112. ' 3,947,620 '\n",
       "113. ' 30,732 '\n",
       "114. ' 31,001 '\n",
       "115. ' 314,588 '\n",
       "116. ' 330,910 '\n",
       "117. ' 331,047 '\n",
       "118. ' 34,409 '\n",
       "119. ' 355,675 '\n",
       "120. ' 358,582 '\n",
       "121. ' 362,682 '\n",
       "122. ' 364,157 '\n",
       "123. ' 368,289 '\n",
       "124. ' 37,746 '\n",
       "125. ' 370,588 '\n",
       "126. ' 38,675 '\n",
       "127. ' 382,487 '\n",
       "128. ' 39,871 '\n",
       "129. ' 397,270 '\n",
       "130. ' 4,085 '\n",
       "131. ' 4,711 '\n",
       "132. ' 4,721 '\n",
       "133. ' 4,971,323 '\n",
       "134. ' 4,990 '\n",
       "135. ' 40,288 '\n",
       "136. ' 40,497 '\n",
       "137. ' 40,761 '\n",
       "138. ' 40,852 '\n",
       "139. ' 402 '\n",
       "140. ' 414,179 '\n",
       "141. ' 42,231 '\n",
       "142. ' 422 '\n",
       "143. ' 43 '\n",
       "144. ' 43,007 '\n",
       "145. ' 434,167 '\n",
       "146. ' 450 '\n",
       "147. ' 454,013 '\n",
       "148. ' 455,286 '\n",
       "149. ' 46,940 '\n",
       "150. ' 47,228 '\n",
       "151. ' 48,364 '\n",
       "152. ' 5,142 '\n",
       "153. ' 5,235 '\n",
       "154. ' 5,327 '\n",
       "155. ' 5,359 '\n",
       "156. ' 5,504 '\n",
       "157. ' 5,537 '\n",
       "158. ' 5,851 '\n",
       "159. ' 50,500 '\n",
       "160. ' 50,597 '\n",
       "161. ' 504,993 '\n",
       "162. ' 519,872 '\n",
       "163. ' 53,429 '\n",
       "164. ' 54,008 '\n",
       "165. ' 542,761 '\n",
       "166. ' 55,084 '\n",
       "167. ' 551 '\n",
       "168. ' 556,086 '\n",
       "169. ' 56,639 '\n",
       "170. ' 58,001 '\n",
       "171. ' 585,664 '\n",
       "172. ' 59,597 '\n",
       "173. ' 59,662 '\n",
       "174. ' 6,215 '\n",
       "175. ' 6,415 '\n",
       "176. ' 6,593 '\n",
       "177. ' 60,130 '\n",
       "178. ' 60,972 '\n",
       "179. ' 602 '\n",
       "180. ' 65,055 '\n",
       "181. ' 65,133 '\n",
       "182. ' 65,556 '\n",
       "183. ' 7,065 '\n",
       "184. ' 7,523 '\n",
       "185. ' 7,939 '\n",
       "186. ' 70,885 '\n",
       "187. ' 705,140 '\n",
       "188. ' 71,215 '\n",
       "189. ' 771,350 '\n",
       "190. ' 78,460 '\n",
       "191. ' 786,522 '\n",
       "192. ' 79,277 '\n",
       "193. ' 8,093 '\n",
       "194. ' 811 '\n",
       "195. ' 820 '\n",
       "196. ' 84,356 '\n",
       "197. ' 85,555 '\n",
       "198. ' 87,908 '\n",
       "199. ' 88,901 '\n",
       "200. ' 9,291 '\n",
       "201. ' 9,509 '\n",
       "202. ' 9,659 '\n",
       "203. ' 913,658 '\n",
       "204. ' 914 '\n",
       "205. ' 96,851 '\n",
       "206. '(millions of'\n",
       "207. '1,709,948'\n",
       "208. '22,264,345'\n",
       "209. '23,068,403'\n",
       "210. '24,446,133'\n",
       "211. '25,942,413'\n",
       "212. '3,452,512'\n",
       "213. '3,610,539'\n",
       "214. '5,800,576'\n",
       "215. '54,205,741'\n",
       "216. '588,230'\n",
       "217. '6,702,153'\n",
       "218. '85,909,816'\n",
       "219. 'US dollars)'\n",
       "\n",
       "\n"
      ],
      "text/plain": [
       " [1]  20,544,343   13,608,152   4,971,323    3,947,620    2,855,297  \n",
       " [6]  2,777,535    2,718,732    2,083,864    1,868,626    1,713,342  \n",
       "[11]  1,657,555    1,619,424    1,433,904    1,419,042    1,220,699  \n",
       "219 Levels:   ..   1,011   1,022   1,042,173   1,178   1,186  ... US dollars)"
      ]
     },
     "metadata": {},
     "output_type": "display_data"
    },
    {
     "data": {
      "text/html": [
       "<ol class=list-inline>\n",
       "\t<li>United States</li>\n",
       "\t<li>China</li>\n",
       "\t<li>Japan</li>\n",
       "\t<li>Germany</li>\n",
       "\t<li>United Kingdom</li>\n",
       "\t<li>France</li>\n",
       "\t<li>India</li>\n",
       "\t<li>Italy</li>\n",
       "\t<li>Brazil</li>\n",
       "\t<li>Canada</li>\n",
       "\t<li>Russian Federation</li>\n",
       "\t<li>Korea, Rep.</li>\n",
       "\t<li>Australia</li>\n",
       "\t<li>Spain</li>\n",
       "\t<li>Mexico</li>\n",
       "</ol>\n",
       "\n",
       "<details>\n",
       "\t<summary style=display:list-item;cursor:pointer>\n",
       "\t\t<strong>Levels</strong>:\n",
       "\t</summary>\n",
       "\t<ol class=list-inline>\n",
       "\t\t<li>''</li>\n",
       "\t\t<li>'Afghanistan'</li>\n",
       "\t\t<li>'Albania'</li>\n",
       "\t\t<li>'Algeria'</li>\n",
       "\t\t<li>'American Samoa'</li>\n",
       "\t\t<li>'Andorra'</li>\n",
       "\t\t<li>'Angola'</li>\n",
       "\t\t<li>'Antigua and Barbuda'</li>\n",
       "\t\t<li>'Argentina'</li>\n",
       "\t\t<li>'Armenia'</li>\n",
       "\t\t<li>'Aruba'</li>\n",
       "\t\t<li>'Australia'</li>\n",
       "\t\t<li>'Austria'</li>\n",
       "\t\t<li>'Azerbaijan'</li>\n",
       "\t\t<li>'Bahamas, The'</li>\n",
       "\t\t<li>'Bahrain'</li>\n",
       "\t\t<li>'Bangladesh'</li>\n",
       "\t\t<li>'Barbados'</li>\n",
       "\t\t<li>'Belarus'</li>\n",
       "\t\t<li>'Belgium'</li>\n",
       "\t\t<li>'Belize'</li>\n",
       "\t\t<li>'Benin'</li>\n",
       "\t\t<li>'Bermuda'</li>\n",
       "\t\t<li>'Bhutan'</li>\n",
       "\t\t<li>'Bolivia'</li>\n",
       "\t\t<li>'Bosnia and Herzegovina'</li>\n",
       "\t\t<li>'Botswana'</li>\n",
       "\t\t<li>'Brazil'</li>\n",
       "\t\t<li>'British Virgin Islands'</li>\n",
       "\t\t<li>'Brunei Darussalam'</li>\n",
       "\t\t<li>'Bulgaria'</li>\n",
       "\t\t<li>'Burkina Faso'</li>\n",
       "\t\t<li>'Burundi'</li>\n",
       "\t\t<li>'Cabo Verde'</li>\n",
       "\t\t<li>'Cambodia'</li>\n",
       "\t\t<li>'Cameroon'</li>\n",
       "\t\t<li>'Canada'</li>\n",
       "\t\t<li>'Cayman Islands'</li>\n",
       "\t\t<li>'Central African Republic'</li>\n",
       "\t\t<li>'Chad'</li>\n",
       "\t\t<li>'Channel Islands'</li>\n",
       "\t\t<li>'Chile'</li>\n",
       "\t\t<li>'China'</li>\n",
       "\t\t<li>'Colombia'</li>\n",
       "\t\t<li>'Comoros'</li>\n",
       "\t\t<li>'Congo, Dem. Rep.'</li>\n",
       "\t\t<li>'Congo, Rep.'</li>\n",
       "\t\t<li>'Costa Rica'</li>\n",
       "\t\t<li>'Cote d\\'Ivoire'</li>\n",
       "\t\t<li>'Croatia'</li>\n",
       "\t\t<li>'Cuba'</li>\n",
       "\t\t<li>'Curacao'</li>\n",
       "\t\t<li>'Cyprus'</li>\n",
       "\t\t<li>'Czech Republic'</li>\n",
       "\t\t<li>'Denmark'</li>\n",
       "\t\t<li>'Djibouti'</li>\n",
       "\t\t<li>'Dominica'</li>\n",
       "\t\t<li>'Dominican Republic'</li>\n",
       "\t\t<li>'East Asia &amp; Pacific'</li>\n",
       "\t\t<li>'Economy'</li>\n",
       "\t\t<li>'Ecuador'</li>\n",
       "\t\t<li>'Egypt, Arab Rep.'</li>\n",
       "\t\t<li>'El Salvador'</li>\n",
       "\t\t<li>'Equatorial Guinea'</li>\n",
       "\t\t<li>'Eritrea'</li>\n",
       "\t\t<li>'Estonia'</li>\n",
       "\t\t<li>'Eswatini'</li>\n",
       "\t\t<li>'Ethiopia'</li>\n",
       "\t\t<li>'Europe &amp; Central Asia'</li>\n",
       "\t\t<li>'Faroe Islands'</li>\n",
       "\t\t<li>'Fiji'</li>\n",
       "\t\t<li>'Finland'</li>\n",
       "\t\t<li>'France'</li>\n",
       "\t\t<li>'French Polynesia'</li>\n",
       "\t\t<li>'Gabon'</li>\n",
       "\t\t<li>'Gambia, The'</li>\n",
       "\t\t<li>'Georgia'</li>\n",
       "\t\t<li>'Germany'</li>\n",
       "\t\t<li>'Ghana'</li>\n",
       "\t\t<li>'Gibraltar'</li>\n",
       "\t\t<li>'Greece'</li>\n",
       "\t\t<li>'Greenland'</li>\n",
       "\t\t<li>'Grenada'</li>\n",
       "\t\t<li>'Guam'</li>\n",
       "\t\t<li>'Guatemala'</li>\n",
       "\t\t<li>'Guinea'</li>\n",
       "\t\t<li>'Guinea-Bissau'</li>\n",
       "\t\t<li>'Guyana'</li>\n",
       "\t\t<li>'Haiti'</li>\n",
       "\t\t<li>'High income'</li>\n",
       "\t\t<li>'Honduras'</li>\n",
       "\t\t<li>'Hong Kong SAR, China'</li>\n",
       "\t\t<li>'Hungary'</li>\n",
       "\t\t<li>'Iceland'</li>\n",
       "\t\t<li>'India'</li>\n",
       "\t\t<li>'Indonesia'</li>\n",
       "\t\t<li>'Iran, Islamic Rep.'</li>\n",
       "\t\t<li>'Iraq'</li>\n",
       "\t\t<li>'Ireland'</li>\n",
       "\t\t<li>'Isle of Man'</li>\n",
       "\t\t<li>'Israel'</li>\n",
       "\t\t<li>'Italy'</li>\n",
       "\t\t<li>'Jamaica'</li>\n",
       "\t\t<li>'Japan'</li>\n",
       "\t\t<li>'Jordan'</li>\n",
       "\t\t<li>'Kazakhstan'</li>\n",
       "\t\t<li>'Kenya'</li>\n",
       "\t\t<li>'Kiribati'</li>\n",
       "\t\t<li>'Korea, Dem. People\\'s Rep.'</li>\n",
       "\t\t<li>'Korea, Rep.'</li>\n",
       "\t\t<li>'Kosovo'</li>\n",
       "\t\t<li>'Kuwait'</li>\n",
       "\t\t<li>'Kyrgyz Republic'</li>\n",
       "\t\t<li>'Lao PDR'</li>\n",
       "\t\t<li>'Latin America &amp; Caribbean'</li>\n",
       "\t\t<li>'Latvia'</li>\n",
       "\t\t<li>'Lebanon'</li>\n",
       "\t\t<li>'Lesotho'</li>\n",
       "\t\t<li>'Liberia'</li>\n",
       "\t\t<li>'Libya'</li>\n",
       "\t\t<li>'Liechtenstein'</li>\n",
       "\t\t<li>'Lithuania'</li>\n",
       "\t\t<li>'Low income'</li>\n",
       "\t\t<li>'Lower middle income'</li>\n",
       "\t\t<li>'Luxembourg'</li>\n",
       "\t\t<li>'Macao SAR, China'</li>\n",
       "\t\t<li>'Madagascar'</li>\n",
       "\t\t<li>'Malawi'</li>\n",
       "\t\t<li>'Malaysia'</li>\n",
       "\t\t<li>'Maldives'</li>\n",
       "\t\t<li>'Mali'</li>\n",
       "\t\t<li>'Malta'</li>\n",
       "\t\t<li>'Marshall Islands'</li>\n",
       "\t\t<li>'Mauritania'</li>\n",
       "\t\t<li>'Mauritius'</li>\n",
       "\t\t<li>'Mexico'</li>\n",
       "\t\t<li>'Micronesia, Fed. Sts.'</li>\n",
       "\t\t<li>'Middle East &amp; North Africa'</li>\n",
       "\t\t<li>'Moldova'</li>\n",
       "\t\t<li>'Monaco'</li>\n",
       "\t\t<li>'Mongolia'</li>\n",
       "\t\t<li>'Montenegro'</li>\n",
       "\t\t<li>'Morocco'</li>\n",
       "\t\t<li>'Mozambique'</li>\n",
       "\t\t<li>'Myanmar'</li>\n",
       "\t\t<li>'Namibia'</li>\n",
       "\t\t<li>'Nauru'</li>\n",
       "\t\t<li>'Nepal'</li>\n",
       "\t\t<li>'Netherlands'</li>\n",
       "\t\t<li>'New Caledonia'</li>\n",
       "\t\t<li>'New Zealand'</li>\n",
       "\t\t<li>'Nicaragua'</li>\n",
       "\t\t<li>'Niger'</li>\n",
       "\t\t<li>'Nigeria'</li>\n",
       "\t\t<li>'North America'</li>\n",
       "\t\t<li>'North Macedonia'</li>\n",
       "\t\t<li>'Northern Mariana Islands'</li>\n",
       "\t\t<li>'Norway'</li>\n",
       "\t\t<li>'Oman'</li>\n",
       "\t\t<li>'Pakistan'</li>\n",
       "\t\t<li>'Palau'</li>\n",
       "\t\t<li>'Panama'</li>\n",
       "\t\t<li>'Papua New Guinea'</li>\n",
       "\t\t<li>'Paraguay'</li>\n",
       "\t\t<li>'Peru'</li>\n",
       "\t\t<li>'Philippines'</li>\n",
       "\t\t<li>'Poland'</li>\n",
       "\t\t<li>'Portugal'</li>\n",
       "\t\t<li>'Puerto Rico'</li>\n",
       "\t\t<li>'Qatar'</li>\n",
       "\t\t<li>'Romania'</li>\n",
       "\t\t<li>'Russian Federation'</li>\n",
       "\t\t<li>'Rwanda'</li>\n",
       "\t\t<li>'Samoa'</li>\n",
       "\t\t<li>'San Marino'</li>\n",
       "\t\t<li>'Sao Tome and Principe'</li>\n",
       "\t\t<li>'Saudi Arabia'</li>\n",
       "\t\t<li>'Senegal'</li>\n",
       "\t\t<li>'Serbia'</li>\n",
       "\t\t<li>'Seychelles'</li>\n",
       "\t\t<li>'Sierra Leone'</li>\n",
       "\t\t<li>'Singapore'</li>\n",
       "\t\t<li>'Sint Maarten (Dutch part)'</li>\n",
       "\t\t<li>'Slovak Republic'</li>\n",
       "\t\t<li>'Slovenia'</li>\n",
       "\t\t<li>'Solomon Islands'</li>\n",
       "\t\t<li>'Somalia'</li>\n",
       "\t\t<li>'South Africa'</li>\n",
       "\t\t<li>'South Asia'</li>\n",
       "\t\t<li>'South Sudan'</li>\n",
       "\t\t<li>'Spain'</li>\n",
       "\t\t<li>'Sri Lanka'</li>\n",
       "\t\t<li>'St. Kitts and Nevis'</li>\n",
       "\t\t<li>'St. Lucia'</li>\n",
       "\t\t<li>'St. Martin (French part)'</li>\n",
       "\t\t<li>'St. Vincent and the Grenadines'</li>\n",
       "\t\t<li>'Sub-Saharan Africa'</li>\n",
       "\t\t<li>'Sudan'</li>\n",
       "\t\t<li>'Suriname'</li>\n",
       "\t\t<li>'Sweden'</li>\n",
       "\t\t<li>'Switzerland'</li>\n",
       "\t\t<li>'Syrian Arab Republic'</li>\n",
       "\t\t<li>'Tajikistan'</li>\n",
       "\t\t<li>'Tanzania'</li>\n",
       "\t\t<li>'Thailand'</li>\n",
       "\t\t<li>'Timor-Leste'</li>\n",
       "\t\t<li>'Togo'</li>\n",
       "\t\t<li>'Tonga'</li>\n",
       "\t\t<li>'Trinidad and Tobago'</li>\n",
       "\t\t<li>'Tunisia'</li>\n",
       "\t\t<li>'Turkey'</li>\n",
       "\t\t<li>'Turkmenistan'</li>\n",
       "\t\t<li>'Turks and Caicos Islands'</li>\n",
       "\t\t<li>'Tuvalu'</li>\n",
       "\t\t<li>'Uganda'</li>\n",
       "\t\t<li>'Ukraine'</li>\n",
       "\t\t<li>'United Arab Emirates'</li>\n",
       "\t\t<li>'United Kingdom'</li>\n",
       "\t\t<li>'United States'</li>\n",
       "\t\t<li>'Upper middle income'</li>\n",
       "\t\t<li>'Uruguay'</li>\n",
       "\t\t<li>'Uzbekistan'</li>\n",
       "\t\t<li>'Vanuatu'</li>\n",
       "\t\t<li>'Venezuela, RB'</li>\n",
       "\t\t<li>'Vietnam'</li>\n",
       "\t\t<li>'Virgin Islands (U.S.)'</li>\n",
       "\t\t<li>'West Bank and Gaza'</li>\n",
       "\t\t<li>'World'</li>\n",
       "\t\t<li>'Yemen, Rep.'</li>\n",
       "\t\t<li>'Zambia'</li>\n",
       "\t\t<li>'Zimbabwe'</li>\n",
       "\t</ol>\n",
       "</details>"
      ],
      "text/latex": [
       "\\begin{enumerate*}\n",
       "\\item United States\n",
       "\\item China\n",
       "\\item Japan\n",
       "\\item Germany\n",
       "\\item United Kingdom\n",
       "\\item France\n",
       "\\item India\n",
       "\\item Italy\n",
       "\\item Brazil\n",
       "\\item Canada\n",
       "\\item Russian Federation\n",
       "\\item Korea, Rep.\n",
       "\\item Australia\n",
       "\\item Spain\n",
       "\\item Mexico\n",
       "\\end{enumerate*}\n",
       "\n",
       "\\emph{Levels}: \\begin{enumerate*}\n",
       "\\item ''\n",
       "\\item 'Afghanistan'\n",
       "\\item 'Albania'\n",
       "\\item 'Algeria'\n",
       "\\item 'American Samoa'\n",
       "\\item 'Andorra'\n",
       "\\item 'Angola'\n",
       "\\item 'Antigua and Barbuda'\n",
       "\\item 'Argentina'\n",
       "\\item 'Armenia'\n",
       "\\item 'Aruba'\n",
       "\\item 'Australia'\n",
       "\\item 'Austria'\n",
       "\\item 'Azerbaijan'\n",
       "\\item 'Bahamas, The'\n",
       "\\item 'Bahrain'\n",
       "\\item 'Bangladesh'\n",
       "\\item 'Barbados'\n",
       "\\item 'Belarus'\n",
       "\\item 'Belgium'\n",
       "\\item 'Belize'\n",
       "\\item 'Benin'\n",
       "\\item 'Bermuda'\n",
       "\\item 'Bhutan'\n",
       "\\item 'Bolivia'\n",
       "\\item 'Bosnia and Herzegovina'\n",
       "\\item 'Botswana'\n",
       "\\item 'Brazil'\n",
       "\\item 'British Virgin Islands'\n",
       "\\item 'Brunei Darussalam'\n",
       "\\item 'Bulgaria'\n",
       "\\item 'Burkina Faso'\n",
       "\\item 'Burundi'\n",
       "\\item 'Cabo Verde'\n",
       "\\item 'Cambodia'\n",
       "\\item 'Cameroon'\n",
       "\\item 'Canada'\n",
       "\\item 'Cayman Islands'\n",
       "\\item 'Central African Republic'\n",
       "\\item 'Chad'\n",
       "\\item 'Channel Islands'\n",
       "\\item 'Chile'\n",
       "\\item 'China'\n",
       "\\item 'Colombia'\n",
       "\\item 'Comoros'\n",
       "\\item 'Congo, Dem. Rep.'\n",
       "\\item 'Congo, Rep.'\n",
       "\\item 'Costa Rica'\n",
       "\\item 'Cote d\\textbackslash{}'Ivoire'\n",
       "\\item 'Croatia'\n",
       "\\item 'Cuba'\n",
       "\\item 'Curacao'\n",
       "\\item 'Cyprus'\n",
       "\\item 'Czech Republic'\n",
       "\\item 'Denmark'\n",
       "\\item 'Djibouti'\n",
       "\\item 'Dominica'\n",
       "\\item 'Dominican Republic'\n",
       "\\item 'East Asia \\& Pacific'\n",
       "\\item 'Economy'\n",
       "\\item 'Ecuador'\n",
       "\\item 'Egypt, Arab Rep.'\n",
       "\\item 'El Salvador'\n",
       "\\item 'Equatorial Guinea'\n",
       "\\item 'Eritrea'\n",
       "\\item 'Estonia'\n",
       "\\item 'Eswatini'\n",
       "\\item 'Ethiopia'\n",
       "\\item 'Europe \\& Central Asia'\n",
       "\\item 'Faroe Islands'\n",
       "\\item 'Fiji'\n",
       "\\item 'Finland'\n",
       "\\item 'France'\n",
       "\\item 'French Polynesia'\n",
       "\\item 'Gabon'\n",
       "\\item 'Gambia, The'\n",
       "\\item 'Georgia'\n",
       "\\item 'Germany'\n",
       "\\item 'Ghana'\n",
       "\\item 'Gibraltar'\n",
       "\\item 'Greece'\n",
       "\\item 'Greenland'\n",
       "\\item 'Grenada'\n",
       "\\item 'Guam'\n",
       "\\item 'Guatemala'\n",
       "\\item 'Guinea'\n",
       "\\item 'Guinea-Bissau'\n",
       "\\item 'Guyana'\n",
       "\\item 'Haiti'\n",
       "\\item 'High income'\n",
       "\\item 'Honduras'\n",
       "\\item 'Hong Kong SAR, China'\n",
       "\\item 'Hungary'\n",
       "\\item 'Iceland'\n",
       "\\item 'India'\n",
       "\\item 'Indonesia'\n",
       "\\item 'Iran, Islamic Rep.'\n",
       "\\item 'Iraq'\n",
       "\\item 'Ireland'\n",
       "\\item 'Isle of Man'\n",
       "\\item 'Israel'\n",
       "\\item 'Italy'\n",
       "\\item 'Jamaica'\n",
       "\\item 'Japan'\n",
       "\\item 'Jordan'\n",
       "\\item 'Kazakhstan'\n",
       "\\item 'Kenya'\n",
       "\\item 'Kiribati'\n",
       "\\item 'Korea, Dem. People\\textbackslash{}'s Rep.'\n",
       "\\item 'Korea, Rep.'\n",
       "\\item 'Kosovo'\n",
       "\\item 'Kuwait'\n",
       "\\item 'Kyrgyz Republic'\n",
       "\\item 'Lao PDR'\n",
       "\\item 'Latin America \\& Caribbean'\n",
       "\\item 'Latvia'\n",
       "\\item 'Lebanon'\n",
       "\\item 'Lesotho'\n",
       "\\item 'Liberia'\n",
       "\\item 'Libya'\n",
       "\\item 'Liechtenstein'\n",
       "\\item 'Lithuania'\n",
       "\\item 'Low income'\n",
       "\\item 'Lower middle income'\n",
       "\\item 'Luxembourg'\n",
       "\\item 'Macao SAR, China'\n",
       "\\item 'Madagascar'\n",
       "\\item 'Malawi'\n",
       "\\item 'Malaysia'\n",
       "\\item 'Maldives'\n",
       "\\item 'Mali'\n",
       "\\item 'Malta'\n",
       "\\item 'Marshall Islands'\n",
       "\\item 'Mauritania'\n",
       "\\item 'Mauritius'\n",
       "\\item 'Mexico'\n",
       "\\item 'Micronesia, Fed. Sts.'\n",
       "\\item 'Middle East \\& North Africa'\n",
       "\\item 'Moldova'\n",
       "\\item 'Monaco'\n",
       "\\item 'Mongolia'\n",
       "\\item 'Montenegro'\n",
       "\\item 'Morocco'\n",
       "\\item 'Mozambique'\n",
       "\\item 'Myanmar'\n",
       "\\item 'Namibia'\n",
       "\\item 'Nauru'\n",
       "\\item 'Nepal'\n",
       "\\item 'Netherlands'\n",
       "\\item 'New Caledonia'\n",
       "\\item 'New Zealand'\n",
       "\\item 'Nicaragua'\n",
       "\\item 'Niger'\n",
       "\\item 'Nigeria'\n",
       "\\item 'North America'\n",
       "\\item 'North Macedonia'\n",
       "\\item 'Northern Mariana Islands'\n",
       "\\item 'Norway'\n",
       "\\item 'Oman'\n",
       "\\item 'Pakistan'\n",
       "\\item 'Palau'\n",
       "\\item 'Panama'\n",
       "\\item 'Papua New Guinea'\n",
       "\\item 'Paraguay'\n",
       "\\item 'Peru'\n",
       "\\item 'Philippines'\n",
       "\\item 'Poland'\n",
       "\\item 'Portugal'\n",
       "\\item 'Puerto Rico'\n",
       "\\item 'Qatar'\n",
       "\\item 'Romania'\n",
       "\\item 'Russian Federation'\n",
       "\\item 'Rwanda'\n",
       "\\item 'Samoa'\n",
       "\\item 'San Marino'\n",
       "\\item 'Sao Tome and Principe'\n",
       "\\item 'Saudi Arabia'\n",
       "\\item 'Senegal'\n",
       "\\item 'Serbia'\n",
       "\\item 'Seychelles'\n",
       "\\item 'Sierra Leone'\n",
       "\\item 'Singapore'\n",
       "\\item 'Sint Maarten (Dutch part)'\n",
       "\\item 'Slovak Republic'\n",
       "\\item 'Slovenia'\n",
       "\\item 'Solomon Islands'\n",
       "\\item 'Somalia'\n",
       "\\item 'South Africa'\n",
       "\\item 'South Asia'\n",
       "\\item 'South Sudan'\n",
       "\\item 'Spain'\n",
       "\\item 'Sri Lanka'\n",
       "\\item 'St. Kitts and Nevis'\n",
       "\\item 'St. Lucia'\n",
       "\\item 'St. Martin (French part)'\n",
       "\\item 'St. Vincent and the Grenadines'\n",
       "\\item 'Sub-Saharan Africa'\n",
       "\\item 'Sudan'\n",
       "\\item 'Suriname'\n",
       "\\item 'Sweden'\n",
       "\\item 'Switzerland'\n",
       "\\item 'Syrian Arab Republic'\n",
       "\\item 'Tajikistan'\n",
       "\\item 'Tanzania'\n",
       "\\item 'Thailand'\n",
       "\\item 'Timor-Leste'\n",
       "\\item 'Togo'\n",
       "\\item 'Tonga'\n",
       "\\item 'Trinidad and Tobago'\n",
       "\\item 'Tunisia'\n",
       "\\item 'Turkey'\n",
       "\\item 'Turkmenistan'\n",
       "\\item 'Turks and Caicos Islands'\n",
       "\\item 'Tuvalu'\n",
       "\\item 'Uganda'\n",
       "\\item 'Ukraine'\n",
       "\\item 'United Arab Emirates'\n",
       "\\item 'United Kingdom'\n",
       "\\item 'United States'\n",
       "\\item 'Upper middle income'\n",
       "\\item 'Uruguay'\n",
       "\\item 'Uzbekistan'\n",
       "\\item 'Vanuatu'\n",
       "\\item 'Venezuela, RB'\n",
       "\\item 'Vietnam'\n",
       "\\item 'Virgin Islands (U.S.)'\n",
       "\\item 'West Bank and Gaza'\n",
       "\\item 'World'\n",
       "\\item 'Yemen, Rep.'\n",
       "\\item 'Zambia'\n",
       "\\item 'Zimbabwe'\n",
       "\\end{enumerate*}\n"
      ],
      "text/markdown": [
       "1. United States\n",
       "2. China\n",
       "3. Japan\n",
       "4. Germany\n",
       "5. United Kingdom\n",
       "6. France\n",
       "7. India\n",
       "8. Italy\n",
       "9. Brazil\n",
       "10. Canada\n",
       "11. Russian Federation\n",
       "12. Korea, Rep.\n",
       "13. Australia\n",
       "14. Spain\n",
       "15. Mexico\n",
       "\n",
       "\n",
       "\n",
       "**Levels**: 1. ''\n",
       "2. 'Afghanistan'\n",
       "3. 'Albania'\n",
       "4. 'Algeria'\n",
       "5. 'American Samoa'\n",
       "6. 'Andorra'\n",
       "7. 'Angola'\n",
       "8. 'Antigua and Barbuda'\n",
       "9. 'Argentina'\n",
       "10. 'Armenia'\n",
       "11. 'Aruba'\n",
       "12. 'Australia'\n",
       "13. 'Austria'\n",
       "14. 'Azerbaijan'\n",
       "15. 'Bahamas, The'\n",
       "16. 'Bahrain'\n",
       "17. 'Bangladesh'\n",
       "18. 'Barbados'\n",
       "19. 'Belarus'\n",
       "20. 'Belgium'\n",
       "21. 'Belize'\n",
       "22. 'Benin'\n",
       "23. 'Bermuda'\n",
       "24. 'Bhutan'\n",
       "25. 'Bolivia'\n",
       "26. 'Bosnia and Herzegovina'\n",
       "27. 'Botswana'\n",
       "28. 'Brazil'\n",
       "29. 'British Virgin Islands'\n",
       "30. 'Brunei Darussalam'\n",
       "31. 'Bulgaria'\n",
       "32. 'Burkina Faso'\n",
       "33. 'Burundi'\n",
       "34. 'Cabo Verde'\n",
       "35. 'Cambodia'\n",
       "36. 'Cameroon'\n",
       "37. 'Canada'\n",
       "38. 'Cayman Islands'\n",
       "39. 'Central African Republic'\n",
       "40. 'Chad'\n",
       "41. 'Channel Islands'\n",
       "42. 'Chile'\n",
       "43. 'China'\n",
       "44. 'Colombia'\n",
       "45. 'Comoros'\n",
       "46. 'Congo, Dem. Rep.'\n",
       "47. 'Congo, Rep.'\n",
       "48. 'Costa Rica'\n",
       "49. 'Cote d\\'Ivoire'\n",
       "50. 'Croatia'\n",
       "51. 'Cuba'\n",
       "52. 'Curacao'\n",
       "53. 'Cyprus'\n",
       "54. 'Czech Republic'\n",
       "55. 'Denmark'\n",
       "56. 'Djibouti'\n",
       "57. 'Dominica'\n",
       "58. 'Dominican Republic'\n",
       "59. 'East Asia &amp; Pacific'\n",
       "60. 'Economy'\n",
       "61. 'Ecuador'\n",
       "62. 'Egypt, Arab Rep.'\n",
       "63. 'El Salvador'\n",
       "64. 'Equatorial Guinea'\n",
       "65. 'Eritrea'\n",
       "66. 'Estonia'\n",
       "67. 'Eswatini'\n",
       "68. 'Ethiopia'\n",
       "69. 'Europe &amp; Central Asia'\n",
       "70. 'Faroe Islands'\n",
       "71. 'Fiji'\n",
       "72. 'Finland'\n",
       "73. 'France'\n",
       "74. 'French Polynesia'\n",
       "75. 'Gabon'\n",
       "76. 'Gambia, The'\n",
       "77. 'Georgia'\n",
       "78. 'Germany'\n",
       "79. 'Ghana'\n",
       "80. 'Gibraltar'\n",
       "81. 'Greece'\n",
       "82. 'Greenland'\n",
       "83. 'Grenada'\n",
       "84. 'Guam'\n",
       "85. 'Guatemala'\n",
       "86. 'Guinea'\n",
       "87. 'Guinea-Bissau'\n",
       "88. 'Guyana'\n",
       "89. 'Haiti'\n",
       "90. 'High income'\n",
       "91. 'Honduras'\n",
       "92. 'Hong Kong SAR, China'\n",
       "93. 'Hungary'\n",
       "94. 'Iceland'\n",
       "95. 'India'\n",
       "96. 'Indonesia'\n",
       "97. 'Iran, Islamic Rep.'\n",
       "98. 'Iraq'\n",
       "99. 'Ireland'\n",
       "100. 'Isle of Man'\n",
       "101. 'Israel'\n",
       "102. 'Italy'\n",
       "103. 'Jamaica'\n",
       "104. 'Japan'\n",
       "105. 'Jordan'\n",
       "106. 'Kazakhstan'\n",
       "107. 'Kenya'\n",
       "108. 'Kiribati'\n",
       "109. 'Korea, Dem. People\\'s Rep.'\n",
       "110. 'Korea, Rep.'\n",
       "111. 'Kosovo'\n",
       "112. 'Kuwait'\n",
       "113. 'Kyrgyz Republic'\n",
       "114. 'Lao PDR'\n",
       "115. 'Latin America &amp; Caribbean'\n",
       "116. 'Latvia'\n",
       "117. 'Lebanon'\n",
       "118. 'Lesotho'\n",
       "119. 'Liberia'\n",
       "120. 'Libya'\n",
       "121. 'Liechtenstein'\n",
       "122. 'Lithuania'\n",
       "123. 'Low income'\n",
       "124. 'Lower middle income'\n",
       "125. 'Luxembourg'\n",
       "126. 'Macao SAR, China'\n",
       "127. 'Madagascar'\n",
       "128. 'Malawi'\n",
       "129. 'Malaysia'\n",
       "130. 'Maldives'\n",
       "131. 'Mali'\n",
       "132. 'Malta'\n",
       "133. 'Marshall Islands'\n",
       "134. 'Mauritania'\n",
       "135. 'Mauritius'\n",
       "136. 'Mexico'\n",
       "137. 'Micronesia, Fed. Sts.'\n",
       "138. 'Middle East &amp; North Africa'\n",
       "139. 'Moldova'\n",
       "140. 'Monaco'\n",
       "141. 'Mongolia'\n",
       "142. 'Montenegro'\n",
       "143. 'Morocco'\n",
       "144. 'Mozambique'\n",
       "145. 'Myanmar'\n",
       "146. 'Namibia'\n",
       "147. 'Nauru'\n",
       "148. 'Nepal'\n",
       "149. 'Netherlands'\n",
       "150. 'New Caledonia'\n",
       "151. 'New Zealand'\n",
       "152. 'Nicaragua'\n",
       "153. 'Niger'\n",
       "154. 'Nigeria'\n",
       "155. 'North America'\n",
       "156. 'North Macedonia'\n",
       "157. 'Northern Mariana Islands'\n",
       "158. 'Norway'\n",
       "159. 'Oman'\n",
       "160. 'Pakistan'\n",
       "161. 'Palau'\n",
       "162. 'Panama'\n",
       "163. 'Papua New Guinea'\n",
       "164. 'Paraguay'\n",
       "165. 'Peru'\n",
       "166. 'Philippines'\n",
       "167. 'Poland'\n",
       "168. 'Portugal'\n",
       "169. 'Puerto Rico'\n",
       "170. 'Qatar'\n",
       "171. 'Romania'\n",
       "172. 'Russian Federation'\n",
       "173. 'Rwanda'\n",
       "174. 'Samoa'\n",
       "175. 'San Marino'\n",
       "176. 'Sao Tome and Principe'\n",
       "177. 'Saudi Arabia'\n",
       "178. 'Senegal'\n",
       "179. 'Serbia'\n",
       "180. 'Seychelles'\n",
       "181. 'Sierra Leone'\n",
       "182. 'Singapore'\n",
       "183. 'Sint Maarten (Dutch part)'\n",
       "184. 'Slovak Republic'\n",
       "185. 'Slovenia'\n",
       "186. 'Solomon Islands'\n",
       "187. 'Somalia'\n",
       "188. 'South Africa'\n",
       "189. 'South Asia'\n",
       "190. 'South Sudan'\n",
       "191. 'Spain'\n",
       "192. 'Sri Lanka'\n",
       "193. 'St. Kitts and Nevis'\n",
       "194. 'St. Lucia'\n",
       "195. 'St. Martin (French part)'\n",
       "196. 'St. Vincent and the Grenadines'\n",
       "197. 'Sub-Saharan Africa'\n",
       "198. 'Sudan'\n",
       "199. 'Suriname'\n",
       "200. 'Sweden'\n",
       "201. 'Switzerland'\n",
       "202. 'Syrian Arab Republic'\n",
       "203. 'Tajikistan'\n",
       "204. 'Tanzania'\n",
       "205. 'Thailand'\n",
       "206. 'Timor-Leste'\n",
       "207. 'Togo'\n",
       "208. 'Tonga'\n",
       "209. 'Trinidad and Tobago'\n",
       "210. 'Tunisia'\n",
       "211. 'Turkey'\n",
       "212. 'Turkmenistan'\n",
       "213. 'Turks and Caicos Islands'\n",
       "214. 'Tuvalu'\n",
       "215. 'Uganda'\n",
       "216. 'Ukraine'\n",
       "217. 'United Arab Emirates'\n",
       "218. 'United Kingdom'\n",
       "219. 'United States'\n",
       "220. 'Upper middle income'\n",
       "221. 'Uruguay'\n",
       "222. 'Uzbekistan'\n",
       "223. 'Vanuatu'\n",
       "224. 'Venezuela, RB'\n",
       "225. 'Vietnam'\n",
       "226. 'Virgin Islands (U.S.)'\n",
       "227. 'West Bank and Gaza'\n",
       "228. 'World'\n",
       "229. 'Yemen, Rep.'\n",
       "230. 'Zambia'\n",
       "231. 'Zimbabwe'\n",
       "\n",
       "\n"
      ],
      "text/plain": [
       " [1] United States      China              Japan              Germany           \n",
       " [5] United Kingdom     France             India              Italy             \n",
       " [9] Brazil             Canada             Russian Federation Korea, Rep.       \n",
       "[13] Australia          Spain              Mexico            \n",
       "231 Levels:  Afghanistan Albania Algeria American Samoa Andorra ... Zimbabwe"
      ]
     },
     "metadata": {},
     "output_type": "display_data"
    }
   ],
   "source": [
    "# 데이터프레임에서 칼럼 추출\n",
    "gdp15_gdp <- gdp15$GDP\n",
    "gdp15_gdp\n",
    "# 20,544,343 13,608,152 4,971,323 3,947,620 2,855,297 2,777,535 2,718,732 2,083,864 1,868,626 1,713,342 1,657,555 1,619,424 1,433,904 1,419,042 1,220,699\n",
    "# 컴마가 있는 숫자= 문자열 -> 문자열은 다 팩터처리 -> levels \n",
    "\n",
    "gdp15_nation <- gdp15$Nation\n",
    "gdp15_nation"
   ]
  },
  {
   "cell_type": "code",
   "execution_count": 19,
   "metadata": {},
   "outputs": [],
   "source": [
    "# 메모리 로딩\n",
    "library(stringr)"
   ]
  },
  {
   "cell_type": "code",
   "execution_count": 20,
   "metadata": {},
   "outputs": [],
   "source": [
    "# stringr에서 str_replace_all 함수 사용\n",
    "# 컴마 제거\n",
    "# gdp15_gdp는 팩터\n",
    "num_gdp <- str_replace_all(gdp15_gdp, ',', '') #',' 제거"
   ]
  },
  {
   "cell_type": "code",
   "execution_count": 21,
   "metadata": {},
   "outputs": [
    {
     "name": "stdout",
     "output_type": "stream",
     "text": [
      " [1] \" 20544343 \" \" 13608152 \" \" 4971323 \"  \" 3947620 \"  \" 2855297 \" \n",
      " [6] \" 2777535 \"  \" 2718732 \"  \" 2083864 \"  \" 1868626 \"  \" 1713342 \" \n",
      "[11] \" 1657555 \"  \" 1619424 \"  \" 1433904 \"  \" 1419042 \"  \" 1220699 \" \n"
     ]
    }
   ],
   "source": [
    "# 아직도 문자열 형태\n",
    "print(num_gdp)\n",
    "#  [1] \" 20544343 \" \" 13608152 \" \" 4971323 \"  \" 3947620 \"  \" 2855297 \" \n",
    "#  [6] \" 2777535 \"  \" 2718732 \"  \" 2083864 \"  \" 1868626 \"  \" 1713342 \" \n",
    "# [11] \" 1657555 \"  \" 1619424 \"  \" 1433904 \"  \" 1419042 \"  \" 1220699 \" "
   ]
  },
  {
   "cell_type": "code",
   "execution_count": 22,
   "metadata": {},
   "outputs": [
    {
     "data": {
      "text/html": [
       "'character'"
      ],
      "text/latex": [
       "'character'"
      ],
      "text/markdown": [
       "'character'"
      ],
      "text/plain": [
       "[1] \"character\""
      ]
     },
     "metadata": {},
     "output_type": "display_data"
    }
   ],
   "source": [
    "class(num_gdp)\n",
    "# 'character'"
   ]
  },
  {
   "cell_type": "code",
   "execution_count": 23,
   "metadata": {},
   "outputs": [
    {
     "data": {
      "text/html": [
       "'numeric'"
      ],
      "text/latex": [
       "'numeric'"
      ],
      "text/markdown": [
       "'numeric'"
      ],
      "text/plain": [
       "[1] \"numeric\""
      ]
     },
     "metadata": {},
     "output_type": "display_data"
    },
    {
     "data": {
      "text/html": [
       "<ol class=list-inline>\n",
       "\t<li>20544343</li>\n",
       "\t<li>13608152</li>\n",
       "\t<li>4971323</li>\n",
       "\t<li>3947620</li>\n",
       "\t<li>2855297</li>\n",
       "\t<li>2777535</li>\n",
       "\t<li>2718732</li>\n",
       "\t<li>2083864</li>\n",
       "\t<li>1868626</li>\n",
       "\t<li>1713342</li>\n",
       "\t<li>1657555</li>\n",
       "\t<li>1619424</li>\n",
       "\t<li>1433904</li>\n",
       "\t<li>1419042</li>\n",
       "\t<li>1220699</li>\n",
       "</ol>\n"
      ],
      "text/latex": [
       "\\begin{enumerate*}\n",
       "\\item 20544343\n",
       "\\item 13608152\n",
       "\\item 4971323\n",
       "\\item 3947620\n",
       "\\item 2855297\n",
       "\\item 2777535\n",
       "\\item 2718732\n",
       "\\item 2083864\n",
       "\\item 1868626\n",
       "\\item 1713342\n",
       "\\item 1657555\n",
       "\\item 1619424\n",
       "\\item 1433904\n",
       "\\item 1419042\n",
       "\\item 1220699\n",
       "\\end{enumerate*}\n"
      ],
      "text/markdown": [
       "1. 20544343\n",
       "2. 13608152\n",
       "3. 4971323\n",
       "4. 3947620\n",
       "5. 2855297\n",
       "6. 2777535\n",
       "7. 2718732\n",
       "8. 2083864\n",
       "9. 1868626\n",
       "10. 1713342\n",
       "11. 1657555\n",
       "12. 1619424\n",
       "13. 1433904\n",
       "14. 1419042\n",
       "15. 1220699\n",
       "\n",
       "\n"
      ],
      "text/plain": [
       " [1] 20544343 13608152  4971323  3947620  2855297  2777535  2718732  2083864\n",
       " [9]  1868626  1713342  1657555  1619424  1433904  1419042  1220699"
      ]
     },
     "metadata": {},
     "output_type": "display_data"
    }
   ],
   "source": [
    "# as.numeric() -> 숫자로 형변환\n",
    "num_gdp <- as.numeric(num_gdp) # numeric으로 형변환\n",
    "class(num_gdp)\n",
    "num_gdp\n",
    "# 'numeric'\n",
    "# 20544343 13608152 4971323 3947620 2855297 2777535 2718732 2083864 1868626 1713342 1657555 1619424 1433904 1419042 1220699"
   ]
  },
  {
   "cell_type": "code",
   "execution_count": 24,
   "metadata": {},
   "outputs": [],
   "source": [
    "# 데이터 프레임에 다시 할당\n",
    "gdp15$GDP <- num_gdp  # 숫자 형태로 된 GDP 할당"
   ]
  },
  {
   "cell_type": "code",
   "execution_count": 25,
   "metadata": {},
   "outputs": [
    {
     "data": {
      "text/html": [
       "<table>\n",
       "<thead><tr><th></th><th scope=col>Code</th><th scope=col>Ranking</th><th scope=col>Nation</th><th scope=col>GDP</th></tr></thead>\n",
       "<tbody>\n",
       "\t<tr><th scope=row>5</th><td>USA               </td><td>1                 </td><td>United States     </td><td>20544343          </td></tr>\n",
       "\t<tr><th scope=row>6</th><td>CHN               </td><td>2                 </td><td>China             </td><td>13608152          </td></tr>\n",
       "\t<tr><th scope=row>7</th><td>JPN               </td><td>3                 </td><td>Japan             </td><td> 4971323          </td></tr>\n",
       "\t<tr><th scope=row>8</th><td>DEU               </td><td>4                 </td><td>Germany           </td><td> 3947620          </td></tr>\n",
       "\t<tr><th scope=row>9</th><td>GBR               </td><td>5                 </td><td>United Kingdom    </td><td> 2855297          </td></tr>\n",
       "\t<tr><th scope=row>10</th><td>FRA               </td><td>6                 </td><td>France            </td><td> 2777535          </td></tr>\n",
       "\t<tr><th scope=row>11</th><td>IND               </td><td>7                 </td><td>India             </td><td> 2718732          </td></tr>\n",
       "\t<tr><th scope=row>12</th><td>ITA               </td><td>8                 </td><td>Italy             </td><td> 2083864          </td></tr>\n",
       "\t<tr><th scope=row>13</th><td>BRA               </td><td>9                 </td><td>Brazil            </td><td> 1868626          </td></tr>\n",
       "\t<tr><th scope=row>14</th><td>CAN               </td><td>10                </td><td>Canada            </td><td> 1713342          </td></tr>\n",
       "\t<tr><th scope=row>15</th><td>RUS               </td><td>11                </td><td>Russian Federation</td><td> 1657555          </td></tr>\n",
       "\t<tr><th scope=row>16</th><td>KOR               </td><td>12                </td><td>Korea, Rep.       </td><td> 1619424          </td></tr>\n",
       "\t<tr><th scope=row>17</th><td>AUS               </td><td>13                </td><td>Australia         </td><td> 1433904          </td></tr>\n",
       "\t<tr><th scope=row>18</th><td>ESP               </td><td>14                </td><td>Spain             </td><td> 1419042          </td></tr>\n",
       "\t<tr><th scope=row>19</th><td>MEX               </td><td>15                </td><td>Mexico            </td><td> 1220699          </td></tr>\n",
       "</tbody>\n",
       "</table>\n"
      ],
      "text/latex": [
       "\\begin{tabular}{r|llll}\n",
       "  & Code & Ranking & Nation & GDP\\\\\n",
       "\\hline\n",
       "\t5 & USA                & 1                  & United States      & 20544343          \\\\\n",
       "\t6 & CHN                & 2                  & China              & 13608152          \\\\\n",
       "\t7 & JPN                & 3                  & Japan              &  4971323          \\\\\n",
       "\t8 & DEU                & 4                  & Germany            &  3947620          \\\\\n",
       "\t9 & GBR                & 5                  & United Kingdom     &  2855297          \\\\\n",
       "\t10 & FRA                & 6                  & France             &  2777535          \\\\\n",
       "\t11 & IND                & 7                  & India              &  2718732          \\\\\n",
       "\t12 & ITA                & 8                  & Italy              &  2083864          \\\\\n",
       "\t13 & BRA                & 9                  & Brazil             &  1868626          \\\\\n",
       "\t14 & CAN                & 10                 & Canada             &  1713342          \\\\\n",
       "\t15 & RUS                & 11                 & Russian Federation &  1657555          \\\\\n",
       "\t16 & KOR                & 12                 & Korea, Rep.        &  1619424          \\\\\n",
       "\t17 & AUS                & 13                 & Australia          &  1433904          \\\\\n",
       "\t18 & ESP                & 14                 & Spain              &  1419042          \\\\\n",
       "\t19 & MEX                & 15                 & Mexico             &  1220699          \\\\\n",
       "\\end{tabular}\n"
      ],
      "text/markdown": [
       "\n",
       "| <!--/--> | Code | Ranking | Nation | GDP |\n",
       "|---|---|---|---|---|\n",
       "| 5 | USA                | 1                  | United States      | 20544343           |\n",
       "| 6 | CHN                | 2                  | China              | 13608152           |\n",
       "| 7 | JPN                | 3                  | Japan              |  4971323           |\n",
       "| 8 | DEU                | 4                  | Germany            |  3947620           |\n",
       "| 9 | GBR                | 5                  | United Kingdom     |  2855297           |\n",
       "| 10 | FRA                | 6                  | France             |  2777535           |\n",
       "| 11 | IND                | 7                  | India              |  2718732           |\n",
       "| 12 | ITA                | 8                  | Italy              |  2083864           |\n",
       "| 13 | BRA                | 9                  | Brazil             |  1868626           |\n",
       "| 14 | CAN                | 10                 | Canada             |  1713342           |\n",
       "| 15 | RUS                | 11                 | Russian Federation |  1657555           |\n",
       "| 16 | KOR                | 12                 | Korea, Rep.        |  1619424           |\n",
       "| 17 | AUS                | 13                 | Australia          |  1433904           |\n",
       "| 18 | ESP                | 14                 | Spain              |  1419042           |\n",
       "| 19 | MEX                | 15                 | Mexico             |  1220699           |\n",
       "\n"
      ],
      "text/plain": [
       "   Code Ranking Nation             GDP     \n",
       "5  USA  1       United States      20544343\n",
       "6  CHN  2       China              13608152\n",
       "7  JPN  3       Japan               4971323\n",
       "8  DEU  4       Germany             3947620\n",
       "9  GBR  5       United Kingdom      2855297\n",
       "10 FRA  6       France              2777535\n",
       "11 IND  7       India               2718732\n",
       "12 ITA  8       Italy               2083864\n",
       "13 BRA  9       Brazil              1868626\n",
       "14 CAN  10      Canada              1713342\n",
       "15 RUS  11      Russian Federation  1657555\n",
       "16 KOR  12      Korea, Rep.         1619424\n",
       "17 AUS  13      Australia           1433904\n",
       "18 ESP  14      Spain               1419042\n",
       "19 MEX  15      Mexico              1220699"
      ]
     },
     "metadata": {},
     "output_type": "display_data"
    }
   ],
   "source": [
    "gdp15\n",
    "# \tCode\tRanking\tNation\tGDP\n",
    "# 5\tUSA\t1\tUnited States\t20544343\n",
    "# 6\tCHN\t2\tChina\t13608152\n",
    "# 7\tJPN\t3\tJapan\t4971323\n",
    "# 8\tDEU\t4\tGermany\t3947620\n",
    "# 9\tGBR\t5\tUnited Kingdom\t2855297\n",
    "# 10\tFRA\t6\tFrance\t2777535\n",
    "# 11\tIND\t7\tIndia\t2718732\n",
    "# 12\tITA\t8\tItaly\t2083864\n",
    "# 13\tBRA\t9\tBrazil\t1868626\n",
    "# 14\tCAN\t10\tCanada\t1713342\n",
    "# 15\tRUS\t11\tRussian Federation\t1657555\n",
    "# 16\tKOR\t12\tKorea, Rep.\t1619424\n",
    "# 17\tAUS\t13\tAustralia\t1433904\n",
    "# 18\tESP\t14\tSpain\t1419042\n",
    "# 19\tMEX\t15\tMexico\t1220699\n"
   ]
  },
  {
   "cell_type": "code",
   "execution_count": 26,
   "metadata": {},
   "outputs": [
    {
     "data": {
      "text/html": [
       "<table>\n",
       "<thead><tr><th></th><th scope=col>Code</th><th scope=col>Ranking</th><th scope=col>Nation</th><th scope=col>GDP</th></tr></thead>\n",
       "<tbody>\n",
       "\t<tr><th scope=row>5</th><td>USA               </td><td>1                 </td><td>United States     </td><td>20544343          </td></tr>\n",
       "\t<tr><th scope=row>6</th><td>CHN               </td><td>2                 </td><td>China             </td><td>13608152          </td></tr>\n",
       "\t<tr><th scope=row>7</th><td>JPN               </td><td>3                 </td><td>Japan             </td><td> 4971323          </td></tr>\n",
       "\t<tr><th scope=row>8</th><td>DEU               </td><td>4                 </td><td>Germany           </td><td> 3947620          </td></tr>\n",
       "\t<tr><th scope=row>9</th><td>GBR               </td><td>5                 </td><td>United Kingdom    </td><td> 2855297          </td></tr>\n",
       "\t<tr><th scope=row>10</th><td>FRA               </td><td>6                 </td><td>France            </td><td> 2777535          </td></tr>\n",
       "\t<tr><th scope=row>11</th><td>IND               </td><td>7                 </td><td>India             </td><td> 2718732          </td></tr>\n",
       "\t<tr><th scope=row>12</th><td>ITA               </td><td>8                 </td><td>Italy             </td><td> 2083864          </td></tr>\n",
       "\t<tr><th scope=row>13</th><td>BRA               </td><td>9                 </td><td>Brazil            </td><td> 1868626          </td></tr>\n",
       "\t<tr><th scope=row>14</th><td>CAN               </td><td>10                </td><td>Canada            </td><td> 1713342          </td></tr>\n",
       "\t<tr><th scope=row>15</th><td>RUS               </td><td>11                </td><td>Russian Federation</td><td> 1657555          </td></tr>\n",
       "\t<tr><th scope=row>16</th><td>KOR               </td><td>12                </td><td>Korea, Rep.       </td><td> 1619424          </td></tr>\n",
       "</tbody>\n",
       "</table>\n"
      ],
      "text/latex": [
       "\\begin{tabular}{r|llll}\n",
       "  & Code & Ranking & Nation & GDP\\\\\n",
       "\\hline\n",
       "\t5 & USA                & 1                  & United States      & 20544343          \\\\\n",
       "\t6 & CHN                & 2                  & China              & 13608152          \\\\\n",
       "\t7 & JPN                & 3                  & Japan              &  4971323          \\\\\n",
       "\t8 & DEU                & 4                  & Germany            &  3947620          \\\\\n",
       "\t9 & GBR                & 5                  & United Kingdom     &  2855297          \\\\\n",
       "\t10 & FRA                & 6                  & France             &  2777535          \\\\\n",
       "\t11 & IND                & 7                  & India              &  2718732          \\\\\n",
       "\t12 & ITA                & 8                  & Italy              &  2083864          \\\\\n",
       "\t13 & BRA                & 9                  & Brazil             &  1868626          \\\\\n",
       "\t14 & CAN                & 10                 & Canada             &  1713342          \\\\\n",
       "\t15 & RUS                & 11                 & Russian Federation &  1657555          \\\\\n",
       "\t16 & KOR                & 12                 & Korea, Rep.        &  1619424          \\\\\n",
       "\\end{tabular}\n"
      ],
      "text/markdown": [
       "\n",
       "| <!--/--> | Code | Ranking | Nation | GDP |\n",
       "|---|---|---|---|---|\n",
       "| 5 | USA                | 1                  | United States      | 20544343           |\n",
       "| 6 | CHN                | 2                  | China              | 13608152           |\n",
       "| 7 | JPN                | 3                  | Japan              |  4971323           |\n",
       "| 8 | DEU                | 4                  | Germany            |  3947620           |\n",
       "| 9 | GBR                | 5                  | United Kingdom     |  2855297           |\n",
       "| 10 | FRA                | 6                  | France             |  2777535           |\n",
       "| 11 | IND                | 7                  | India              |  2718732           |\n",
       "| 12 | ITA                | 8                  | Italy              |  2083864           |\n",
       "| 13 | BRA                | 9                  | Brazil             |  1868626           |\n",
       "| 14 | CAN                | 10                 | Canada             |  1713342           |\n",
       "| 15 | RUS                | 11                 | Russian Federation |  1657555           |\n",
       "| 16 | KOR                | 12                 | Korea, Rep.        |  1619424           |\n",
       "\n"
      ],
      "text/plain": [
       "   Code Ranking Nation             GDP     \n",
       "5  USA  1       United States      20544343\n",
       "6  CHN  2       China              13608152\n",
       "7  JPN  3       Japan               4971323\n",
       "8  DEU  4       Germany             3947620\n",
       "9  GBR  5       United Kingdom      2855297\n",
       "10 FRA  6       France              2777535\n",
       "11 IND  7       India               2718732\n",
       "12 ITA  8       Italy               2083864\n",
       "13 BRA  9       Brazil              1868626\n",
       "14 CAN  10      Canada              1713342\n",
       "15 RUS  11      Russian Federation  1657555\n",
       "16 KOR  12      Korea, Rep.         1619424"
      ]
     },
     "metadata": {},
     "output_type": "display_data"
    }
   ],
   "source": [
    "gdp12 <- head(gdp15, 12)\n",
    "gdp12\n",
    "# nation12 <- head(gdp15$Nation, 12)\n",
    "# nation12"
   ]
  },
  {
   "cell_type": "code",
   "execution_count": 27,
   "metadata": {},
   "outputs": [
    {
     "data": {
      "image/png": "[encoded data removed]",
      "text/plain": [
       "plot without title"
      ]
     },
     "metadata": {},
     "output_type": "display_data"
    }
   ],
   "source": [
    "# repr 라이브러리 메모리에 불러오기\n",
    "library(repr)\n",
    "options(repr.plot.width=10, repr.plot.height=5) # plot 크기 inch 지정\n",
    "# y: GDP, x: Nation\n",
    "barplot(gdp12$GDP, col=rainbow(12), xlab='국가(nation)', ylab='단위(달러)',\n",
    "        names.arg = gdp12$Nation)\n",
    "# barplot(Y 데이터, 수직 막대 그래프 색상, x label, y label, x 데이터)\n"
   ]
  },
  {
   "cell_type": "code",
   "execution_count": 28,
   "metadata": {},
   "outputs": [
    {
     "data": {
      "text/html": [
       "<table>\n",
       "<thead><tr><th></th><th scope=col>Code</th><th scope=col>Ranking</th><th scope=col>Nation</th><th scope=col>GDP</th><th scope=col>GDP2</th></tr></thead>\n",
       "<tbody>\n",
       "\t<tr><th scope=row>5</th><td>USA               </td><td>1                 </td><td>United States     </td><td>20544343          </td><td>20544.343         </td></tr>\n",
       "\t<tr><th scope=row>6</th><td>CHN               </td><td>2                 </td><td>China             </td><td>13608152          </td><td>13608.152         </td></tr>\n",
       "\t<tr><th scope=row>7</th><td>JPN               </td><td>3                 </td><td>Japan             </td><td> 4971323          </td><td> 4971.323         </td></tr>\n",
       "\t<tr><th scope=row>8</th><td>DEU               </td><td>4                 </td><td>Germany           </td><td> 3947620          </td><td> 3947.620         </td></tr>\n",
       "\t<tr><th scope=row>9</th><td>GBR               </td><td>5                 </td><td>United Kingdom    </td><td> 2855297          </td><td> 2855.297         </td></tr>\n",
       "\t<tr><th scope=row>10</th><td>FRA               </td><td>6                 </td><td>France            </td><td> 2777535          </td><td> 2777.535         </td></tr>\n",
       "\t<tr><th scope=row>11</th><td>IND               </td><td>7                 </td><td>India             </td><td> 2718732          </td><td> 2718.732         </td></tr>\n",
       "\t<tr><th scope=row>12</th><td>ITA               </td><td>8                 </td><td>Italy             </td><td> 2083864          </td><td> 2083.864         </td></tr>\n",
       "\t<tr><th scope=row>13</th><td>BRA               </td><td>9                 </td><td>Brazil            </td><td> 1868626          </td><td> 1868.626         </td></tr>\n",
       "\t<tr><th scope=row>14</th><td>CAN               </td><td>10                </td><td>Canada            </td><td> 1713342          </td><td> 1713.342         </td></tr>\n",
       "\t<tr><th scope=row>15</th><td>RUS               </td><td>11                </td><td>Russian Federation</td><td> 1657555          </td><td> 1657.555         </td></tr>\n",
       "\t<tr><th scope=row>16</th><td>KOR               </td><td>12                </td><td>Korea, Rep.       </td><td> 1619424          </td><td> 1619.424         </td></tr>\n",
       "</tbody>\n",
       "</table>\n"
      ],
      "text/latex": [
       "\\begin{tabular}{r|lllll}\n",
       "  & Code & Ranking & Nation & GDP & GDP2\\\\\n",
       "\\hline\n",
       "\t5 & USA                & 1                  & United States      & 20544343           & 20544.343         \\\\\n",
       "\t6 & CHN                & 2                  & China              & 13608152           & 13608.152         \\\\\n",
       "\t7 & JPN                & 3                  & Japan              &  4971323           &  4971.323         \\\\\n",
       "\t8 & DEU                & 4                  & Germany            &  3947620           &  3947.620         \\\\\n",
       "\t9 & GBR                & 5                  & United Kingdom     &  2855297           &  2855.297         \\\\\n",
       "\t10 & FRA                & 6                  & France             &  2777535           &  2777.535         \\\\\n",
       "\t11 & IND                & 7                  & India              &  2718732           &  2718.732         \\\\\n",
       "\t12 & ITA                & 8                  & Italy              &  2083864           &  2083.864         \\\\\n",
       "\t13 & BRA                & 9                  & Brazil             &  1868626           &  1868.626         \\\\\n",
       "\t14 & CAN                & 10                 & Canada             &  1713342           &  1713.342         \\\\\n",
       "\t15 & RUS                & 11                 & Russian Federation &  1657555           &  1657.555         \\\\\n",
       "\t16 & KOR                & 12                 & Korea, Rep.        &  1619424           &  1619.424         \\\\\n",
       "\\end{tabular}\n"
      ],
      "text/markdown": [
       "\n",
       "| <!--/--> | Code | Ranking | Nation | GDP | GDP2 |\n",
       "|---|---|---|---|---|---|\n",
       "| 5 | USA                | 1                  | United States      | 20544343           | 20544.343          |\n",
       "| 6 | CHN                | 2                  | China              | 13608152           | 13608.152          |\n",
       "| 7 | JPN                | 3                  | Japan              |  4971323           |  4971.323          |\n",
       "| 8 | DEU                | 4                  | Germany            |  3947620           |  3947.620          |\n",
       "| 9 | GBR                | 5                  | United Kingdom     |  2855297           |  2855.297          |\n",
       "| 10 | FRA                | 6                  | France             |  2777535           |  2777.535          |\n",
       "| 11 | IND                | 7                  | India              |  2718732           |  2718.732          |\n",
       "| 12 | ITA                | 8                  | Italy              |  2083864           |  2083.864          |\n",
       "| 13 | BRA                | 9                  | Brazil             |  1868626           |  1868.626          |\n",
       "| 14 | CAN                | 10                 | Canada             |  1713342           |  1713.342          |\n",
       "| 15 | RUS                | 11                 | Russian Federation |  1657555           |  1657.555          |\n",
       "| 16 | KOR                | 12                 | Korea, Rep.        |  1619424           |  1619.424          |\n",
       "\n"
      ],
      "text/plain": [
       "   Code Ranking Nation             GDP      GDP2     \n",
       "5  USA  1       United States      20544343 20544.343\n",
       "6  CHN  2       China              13608152 13608.152\n",
       "7  JPN  3       Japan               4971323  4971.323\n",
       "8  DEU  4       Germany             3947620  3947.620\n",
       "9  GBR  5       United Kingdom      2855297  2855.297\n",
       "10 FRA  6       France              2777535  2777.535\n",
       "11 IND  7       India               2718732  2718.732\n",
       "12 ITA  8       Italy               2083864  2083.864\n",
       "13 BRA  9       Brazil              1868626  1868.626\n",
       "14 CAN  10      Canada              1713342  1713.342\n",
       "15 RUS  11      Russian Federation  1657555  1657.555\n",
       "16 KOR  12      Korea, Rep.         1619424  1619.424"
      ]
     },
     "metadata": {},
     "output_type": "display_data"
    }
   ],
   "source": [
    "# 숫자의 단위 줄이기\n",
    "gdp12$GDP2 <- gdp12$GDP/1000 # 큰 수치의 간략화\n",
    "gdp12\n",
    "# \tCode\tRanking\tNation\tGDP\tGDP2\n",
    "# 5\tUSA\t1\tUnited States\t20544343\t20544.343\n",
    "# 6\tCHN\t2\tChina\t13608152\t13608.152\n",
    "# 7\tJPN\t3\tJapan\t4971323\t4971.323\n",
    "# 8\tDEU\t4\tGermany\t3947620\t3947.620\n",
    "# 9\tGBR\t5\tUnited Kingdom\t2855297\t2855.297\n",
    "# 10\tFRA\t6\tFrance\t2777535\t2777.535\n",
    "# 11\tIND\t7\tIndia\t2718732\t2718.732\n",
    "# 12\tITA\t8\tItaly\t2083864\t2083.864\n",
    "# 13\tBRA\t9\tBrazil\t1868626\t1868.626\n",
    "# 14\tCAN\t10\tCanada\t1713342\t1713.342\n",
    "# 15\tRUS\t11\tRussian Federation\t1657555\t1657.555\n",
    "# 16\tKOR\t12\tKorea, Rep.\t1619424\t1619.424\n"
   ]
  },
  {
   "cell_type": "code",
   "execution_count": 29,
   "metadata": {},
   "outputs": [
    {
     "data": {
      "image/png": "[encoded data removed]",
      "text/plain": [
       "plot without title"
      ]
     },
     "metadata": {},
     "output_type": "display_data"
    }
   ],
   "source": [
    "options(repr.plot.width=10, repr.plot.height=5) # plot 크기 inch 지정\n",
    "barplot(gdp12$GDP2, col=rainbow(12), xlab='국가(nation)', ylab='단위(천달러)',\n",
    "        names.arg = gdp12$Nation)"
   ]
  },
  {
   "cell_type": "markdown",
   "metadata": {},
   "source": [
    "### Web html 접근"
   ]
  },
  {
   "cell_type": "code",
   "execution_count": 30,
   "metadata": {},
   "outputs": [
    {
     "name": "stdout",
     "output_type": "stream",
     "text": [
      "package 'XML' successfully unpacked and MD5 sums checked\n",
      "\n",
      "The downloaded binary packages are in\n",
      "\tC:\\Users\\soldesk\\AppData\\Local\\Temp\\RtmpELCX4x\\downloaded_packages\n"
     ]
    }
   ],
   "source": [
    "options(repos=\"https://CRAN.R-project.org\")\n",
    "install.packages(\"XML\") # readHTMLTable() 함수 지원"
   ]
  },
  {
   "cell_type": "code",
   "execution_count": 31,
   "metadata": {},
   "outputs": [
    {
     "name": "stderr",
     "output_type": "stream",
     "text": [
      "also installing the dependencies 'sys', 'askpass', 'curl', 'mime', 'openssl', 'R6'\n",
      "\n"
     ]
    },
    {
     "name": "stdout",
     "output_type": "stream",
     "text": [
      "package 'sys' successfully unpacked and MD5 sums checked\n",
      "package 'askpass' successfully unpacked and MD5 sums checked\n",
      "package 'curl' successfully unpacked and MD5 sums checked\n",
      "package 'mime' successfully unpacked and MD5 sums checked\n",
      "package 'openssl' successfully unpacked and MD5 sums checked\n",
      "package 'R6' successfully unpacked and MD5 sums checked\n",
      "package 'httr' successfully unpacked and MD5 sums checked\n",
      "\n",
      "The downloaded binary packages are in\n",
      "\tC:\\Users\\soldesk\\AppData\\Local\\Temp\\RtmpELCX4x\\downloaded_packages\n"
     ]
    }
   ],
   "source": [
    "install.packages(\"httr\") # GET() 메소드 지원"
   ]
  },
  {
   "cell_type": "code",
   "execution_count": 32,
   "metadata": {},
   "outputs": [
    {
     "name": "stderr",
     "output_type": "stream",
     "text": [
      "Warning message:\n",
      "\"package 'XML' was built under R version 3.6.3\"Warning message:\n",
      "\"package 'httr' was built under R version 3.6.3\""
     ]
    }
   ],
   "source": [
    "library(XML)\n",
    "library(httr)"
   ]
  },
  {
   "cell_type": "code",
   "execution_count": 33,
   "metadata": {},
   "outputs": [],
   "source": [
    "# http://ssti.org/blog/useful-stats-capita-personal-income-state-2010-2015\n",
    "url <- \"http://ssti.org/blog/useful-stats-capita-personal-income-state-2010-2015\"\n",
    "get_url <- GET(url)"
   ]
  },
  {
   "cell_type": "code",
   "execution_count": 34,
   "metadata": {},
   "outputs": [
    {
     "data": {
      "text/plain": [
       "Response [https://ssti.org/blog/useful-stats-capita-personal-income-state-2010-2015]\n",
       "  Date: 2020-06-02 01:05\n",
       "  Status: 200\n",
       "  Content-Type: text/html; charset=utf-8\n",
       "  Size: 57.7 kB\n",
       "<!DOCTYPE html PUBLIC \"-//W3C//DTD XHTML+RDFa 1.0//EN\" \"http://www.w3.org/Mar...\n",
       "<html xmlns=\"http://www.w3.org/1999/xhtml\" xml:lang=\"en\" version=\"XHTML+RDFa ...\n",
       "  xmlns:content=\"http://purl.org/rss/1.0/modules/content/\"\n",
       "  xmlns:dc=\"http://purl.org/dc/terms/\"\n",
       "  xmlns:foaf=\"http://xmlns.com/foaf/0.1/\"\n",
       "  xmlns:og=\"http://ogp.me/ns#\"\n",
       "  xmlns:rdfs=\"http://www.w3.org/2000/01/rdf-schema#\"\n",
       "  xmlns:sioc=\"http://rdfs.org/sioc/ns#\"\n",
       "  xmlns:sioct=\"http://rdfs.org/sioc/types#\"\n",
       "  xmlns:skos=\"http://www.w3.org/2004/02/skos/core#\"\n",
       "..."
      ]
     },
     "metadata": {},
     "output_type": "display_data"
    }
   ],
   "source": [
    "get_url\n",
    "# 헤더 정보 -> 크롬 브라우저에서 보여주지 않음 요즘 잘 쓰지 않는 xhtml로 개발된 페이지\n",
    "# Response [https://ssti.org/blog/useful-stats-capita-personal-income-state-2010-2015]\n",
    "#   Date: 2020-06-02 01:05\n",
    "#   Status: 200\n",
    "#   Content-Type: text/html; charset=utf-8\n",
    "#   Size: 57.7 kB\n",
    "# <!DOCTYPE html PUBLIC \"-//W3C//DTD XHTML+RDFa 1.0//EN\" \"http://www.w3.org/Mar...\n",
    "# <html xmlns=\"http://www.w3.org/1999/xhtml\" xml:lang=\"en\" version=\"XHTML+RDFa ...\n",
    "#   xmlns:content=\"http://purl.org/rss/1.0/modules/content/\"\n",
    "#   xmlns:dc=\"http://purl.org/dc/terms/\"\n",
    "#   xmlns:foaf=\"http://xmlns.com/foaf/0.1/\"\n",
    "#   xmlns:og=\"http://ogp.me/ns#\"\n",
    "#   xmlns:rdfs=\"http://www.w3.org/2000/01/rdf-schema#\"\n",
    "#   xmlns:sioc=\"http://rdfs.org/sioc/ns#\"\n",
    "#   xmlns:sioct=\"http://rdfs.org/sioc/types#\"\n",
    "#   xmlns:skos=\"http://www.w3.org/2004/02/skos/core#\"\n",
    "# ..."
   ]
  },
  {
   "cell_type": "code",
   "execution_count": null,
   "metadata": {
    "scrolled": true
   },
   "outputs": [],
   "source": [
    "# 읽어온 데이터가 Factor형으로 숫자로되어 있음, 문자 코드 출력\n",
    "get_url$content  \n",
    "# 데이터가 많으므로 노트북 파일에 부담이 될 수 있어서 출력 결과를 지움\n",
    "#  cell -> current output -> clear\n",
    "# [1] 3c 21 44 4f 43 54 59 50 45 20 68 74 6d 6c 20 50 55 42 4c 49 43 20 22 2d"
   ]
  },
  {
   "cell_type": "code",
   "execution_count": null,
   "metadata": {},
   "outputs": [],
   "source": [
    "rawToChar(get_url$content)# 문자 코드를 문자로 변환\n",
    "# '<!DOCTYPE html PUBLIC \"-//W3C//DTD XHTML+RDFa 1.0//EN\" \"http://www.w3.org/MarkUp/DTD/xhtml-rdfa-1.dtd\">\\n<html "
   ]
  },
  {
   "cell_type": "code",
   "execution_count": 38,
   "metadata": {},
   "outputs": [
    {
     "data": {
      "text/html": [
       "'list'"
      ],
      "text/latex": [
       "'list'"
      ],
      "text/markdown": [
       "'list'"
      ],
      "text/plain": [
       "[1] \"list\""
      ]
     },
     "metadata": {},
     "output_type": "display_data"
    }
   ],
   "source": [
    "# TABLE 태그의 내용만 추출\n",
    "# stringsAsFactors=F: 문자열을 팩터로 바꾸지 않게 설정\n",
    "html_cont <- readHTMLTable(rawToChar(get_url$content), stringsAsFactors=F)\n",
    "class(html_cont)\n",
    "# 'list' 리스트 타입"
   ]
  },
  {
   "cell_type": "code",
   "execution_count": 39,
   "metadata": {},
   "outputs": [
    {
     "name": "stdout",
     "output_type": "stream",
     "text": [
      "List of 1\n",
      " $ NULL:'data.frame':\t52 obs. of  7 variables:\n",
      "  ..$ State: chr [1:52] \"United States\" \"Alabama\" \"Alaska\" \"Arizona\" ...\n",
      "  ..$ 2010 : chr [1:52] \"$40,277\" \"$34,073\" \"$47,773\" \"$34,185\" ...\n",
      "  ..$ 2011 : chr [1:52] \"$42,453\" \"$35,202\" \"$50,552\" \"$35,675\" ...\n",
      "  ..$ 2012 : chr [1:52] \"$44,266\" \"$36,036\" \"$52,269\" \"$36,788\" ...\n",
      "  ..$ 2013 : chr [1:52] \"$44,438\" \"$36,176\" \"$51,259\" \"$36,723\" ...\n",
      "  ..$ 2014 : chr [1:52] \"$46,049\" \"$37,512\" \"$54,012\" \"$37,895\" ...\n",
      "  ..$ 2015 : chr [1:52] \"$47,669\" \"$38,965\" \"$55,940\" \"$39,060\" ...\n"
     ]
    }
   ],
   "source": [
    "str(html_cont) # R에서는 구성 정보, 파이썬에서는 문자열로 변환이지만\n",
    "# List of 1\n",
    "#  $ NULL:'data.frame':\t52 obs. of  7 variables:\n",
    "#   ..$ State: chr [1:52] \"United States\" \"Alabama\" \"Alaska\" \"Arizona\" ...\n",
    "#   ..$ 2010 : chr [1:52] \"$40,277\" \"$34,073\" \"$47,773\" \"$34,185\" ...\n",
    "#   ..$ 2011 : chr [1:52] \"$42,453\" \"$35,202\" \"$50,552\" \"$35,675\" ...\n",
    "#   ..$ 2012 : chr [1:52] \"$44,266\" \"$36,036\" \"$52,269\" \"$36,788\" ...\n",
    "#   ..$ 2013 : chr [1:52] \"$44,438\" \"$36,176\" \"$51,259\" \"$36,723\" ...\n",
    "#   ..$ 2014 : chr [1:52] \"$46,049\" \"$37,512\" \"$54,012\" \"$37,895\" ...\n",
    "#   ..$ 2015 : chr [1:52] \"$47,669\" \"$38,965\" \"$55,940\" \"$39,060\" ..."
   ]
  },
  {
   "cell_type": "code",
   "execution_count": 40,
   "metadata": {},
   "outputs": [
    {
     "data": {
      "text/html": [
       "<strong>$`NULL`</strong> = <table>\n",
       "<thead><tr><th scope=col>State</th><th scope=col>2010</th><th scope=col>2011</th><th scope=col>2012</th><th scope=col>2013</th><th scope=col>2014</th><th scope=col>2015</th></tr></thead>\n",
       "<tbody>\n",
       "\t<tr><td>United States       </td><td>$40,277             </td><td>$42,453             </td><td>$44,266             </td><td>$44,438             </td><td>$46,049             </td><td>$47,669             </td></tr>\n",
       "\t<tr><td>Alabama             </td><td>$34,073             </td><td>$35,202             </td><td>$36,036             </td><td>$36,176             </td><td>$37,512             </td><td>$38,965             </td></tr>\n",
       "\t<tr><td>Alaska              </td><td>$47,773             </td><td>$50,552             </td><td>$52,269             </td><td>$51,259             </td><td>$54,012             </td><td>$55,940             </td></tr>\n",
       "\t<tr><td>Arizona             </td><td>$34,185             </td><td>$35,675             </td><td>$36,788             </td><td>$36,723             </td><td>$37,895             </td><td>$39,060             </td></tr>\n",
       "\t<tr><td>Arkansas            </td><td>$31,991             </td><td>$33,961             </td><td>$36,291             </td><td>$36,529             </td><td>$37,782             </td><td>$39,107             </td></tr>\n",
       "\t<tr><td>California          </td><td>$42,411             </td><td>$44,852             </td><td>$47,614             </td><td>$48,125             </td><td>$49,985             </td><td>$52,651             </td></tr>\n",
       "\t<tr><td>Colorado            </td><td>$41,877             </td><td>$44,349             </td><td>$46,402             </td><td>$46,746             </td><td>$48,869             </td><td>$50,410             </td></tr>\n",
       "\t<tr><td>Connecticut         </td><td>$57,347             </td><td>$59,884             </td><td>$62,738             </td><td>$62,112             </td><td>$64,864             </td><td>$66,972             </td></tr>\n",
       "\t<tr><td>Delaware            </td><td>$41,783             </td><td>$43,555             </td><td>$44,747             </td><td>$44,819             </td><td>$46,378             </td><td>$47,662             </td></tr>\n",
       "\t<tr><td>District of Columbia</td><td>$63,741             </td><td>$67,359             </td><td>$68,973             </td><td>$68,606             </td><td>$69,838             </td><td>$71,496             </td></tr>\n",
       "\t<tr><td>Florida             </td><td>$38,718             </td><td>$40,538             </td><td>$41,249             </td><td>$41,309             </td><td>$42,737             </td><td>$44,101             </td></tr>\n",
       "\t<tr><td>Georgia             </td><td>$34,487             </td><td>$36,588             </td><td>$37,254             </td><td>$37,596             </td><td>$38,980             </td><td>$40,551             </td></tr>\n",
       "\t<tr><td>Hawaii              </td><td>$41,594             </td><td>$42,938             </td><td>$44,504             </td><td>$44,314             </td><td>$46,034             </td><td>$47,753             </td></tr>\n",
       "\t<tr><td>Idaho               </td><td>$32,050             </td><td>$33,544             </td><td>$34,846             </td><td>$35,641             </td><td>$36,734             </td><td>$37,509             </td></tr>\n",
       "\t<tr><td>Illinois            </td><td>$42,154             </td><td>$44,303             </td><td>$46,067             </td><td>$46,477             </td><td>$47,643             </td><td>$49,471             </td></tr>\n",
       "\t<tr><td>Indiana             </td><td>$34,390             </td><td>$36,357             </td><td>$37,987             </td><td>$38,291             </td><td>$39,578             </td><td>$40,998             </td></tr>\n",
       "\t<tr><td>Iowa                </td><td>$38,687             </td><td>$42,058             </td><td>$43,458             </td><td>$43,735             </td><td>$44,937             </td><td>$44,971             </td></tr>\n",
       "\t<tr><td>Kansas              </td><td>$39,235             </td><td>$42,403             </td><td>$43,725             </td><td>$44,311             </td><td>$44,891             </td><td>$45,876             </td></tr>\n",
       "\t<tr><td>Kentucky            </td><td>$32,977             </td><td>$34,578             </td><td>$35,814             </td><td>$35,967             </td><td>$37,396             </td><td>$38,989             </td></tr>\n",
       "\t<tr><td>Louisiana           </td><td>$37,227             </td><td>$38,506             </td><td>$40,527             </td><td>$40,819             </td><td>$42,030             </td><td>$43,252             </td></tr>\n",
       "\t<tr><td>Maine               </td><td>$37,102             </td><td>$38,597             </td><td>$39,589             </td><td>$39,562             </td><td>$40,745             </td><td>$42,077             </td></tr>\n",
       "\t<tr><td>Maryland            </td><td>$49,683             </td><td>$51,800             </td><td>$53,078             </td><td>$52,545             </td><td>$54,176             </td><td>$56,127             </td></tr>\n",
       "\t<tr><td>Massachusetts       </td><td>$51,643             </td><td>$54,327             </td><td>$56,752             </td><td>$56,549             </td><td>$58,737             </td><td>$61,032             </td></tr>\n",
       "\t<tr><td>Michigan            </td><td>$35,199             </td><td>$37,343             </td><td>$38,652             </td><td>$39,197             </td><td>$40,740             </td><td>$42,427             </td></tr>\n",
       "\t<tr><td>Minnesota           </td><td>$42,567             </td><td>$45,214             </td><td>$47,293             </td><td>$47,410             </td><td>$48,998             </td><td>$50,541             </td></tr>\n",
       "\t<tr><td>Mississippi         </td><td>$30,783             </td><td>$31,976             </td><td>$33,127             </td><td>$33,629             </td><td>$34,431             </td><td>$35,444             </td></tr>\n",
       "\t<tr><td>Missouri            </td><td>$36,638             </td><td>$38,042             </td><td>$39,905             </td><td>$40,297             </td><td>$41,639             </td><td>$42,752             </td></tr>\n",
       "\t<tr><td>Montana             </td><td>$34,737             </td><td>$36,959             </td><td>$39,102             </td><td>$38,884             </td><td>$39,903             </td><td>$41,280             </td></tr>\n",
       "\t<tr><td>Nebraska            </td><td>$40,023             </td><td>$43,820             </td><td>$45,578             </td><td>$46,254             </td><td>$47,557             </td><td>$48,006             </td></tr>\n",
       "\t<tr><td>Nevada              </td><td>$36,918             </td><td>$37,745             </td><td>$39,436             </td><td>$39,223             </td><td>$40,742             </td><td>$42,185             </td></tr>\n",
       "\t<tr><td>New Hampshire       </td><td>$45,308             </td><td>$48,005             </td><td>$50,546             </td><td>$50,535             </td><td>$52,773             </td><td>$54,817             </td></tr>\n",
       "\t<tr><td>New Jersey          </td><td>$51,202             </td><td>$53,556             </td><td>$55,142             </td><td>$55,194             </td><td>$57,620             </td><td>$59,782             </td></tr>\n",
       "\t<tr><td>New Mexico          </td><td>$33,019             </td><td>$34,556             </td><td>$35,585             </td><td>$35,254             </td><td>$37,091             </td><td>$38,457             </td></tr>\n",
       "\t<tr><td>New York            </td><td>$49,283             </td><td>$51,598             </td><td>$53,571             </td><td>$53,606             </td><td>$55,611             </td><td>$57,705             </td></tr>\n",
       "\t<tr><td>North Carolina      </td><td>$35,569             </td><td>$36,622             </td><td>$38,655             </td><td>$37,774             </td><td>$39,171             </td><td>$40,656             </td></tr>\n",
       "\t<tr><td>North Dakota        </td><td>$42,964             </td><td>$47,861             </td><td>$55,388             </td><td>$54,373             </td><td>$55,802             </td><td>$54,376             </td></tr>\n",
       "\t<tr><td>Ohio                </td><td>$36,377             </td><td>$38,807             </td><td>$40,329             </td><td>$40,749             </td><td>$42,236             </td><td>$43,478             </td></tr>\n",
       "\t<tr><td>Oklahoma            </td><td>$35,949             </td><td>$39,037             </td><td>$41,549             </td><td>$41,962             </td><td>$43,637             </td><td>$44,272             </td></tr>\n",
       "\t<tr><td>Oregon              </td><td>$35,791             </td><td>$37,512             </td><td>$39,083             </td><td>$39,426             </td><td>$41,220             </td><td>$42,974             </td></tr>\n",
       "\t<tr><td>Pennsylvania        </td><td>$41,918             </td><td>$44,018             </td><td>$45,781             </td><td>$46,028             </td><td>$47,679             </td><td>$49,180             </td></tr>\n",
       "\t<tr><td>Rhode Island        </td><td>$42,737             </td><td>$44,292             </td><td>$46,084             </td><td>$46,145             </td><td>$48,359             </td><td>$50,080             </td></tr>\n",
       "\t<tr><td>South Carolina      </td><td>$32,853             </td><td>$34,220             </td><td>$35,461             </td><td>$35,472             </td><td>$36,677             </td><td>$38,041             </td></tr>\n",
       "\t<tr><td>South Dakota        </td><td>$40,204             </td><td>$44,241             </td><td>$44,792             </td><td>$44,772             </td><td>$45,279             </td><td>$45,002             </td></tr>\n",
       "\t<tr><td>Tennessee           </td><td>$35,601             </td><td>$37,323             </td><td>$39,137             </td><td>$39,312             </td><td>$40,457             </td><td>$42,069             </td></tr>\n",
       "\t<tr><td>Texas               </td><td>$38,282             </td><td>$41,235             </td><td>$43,505             </td><td>$43,807             </td><td>$45,669             </td><td>$46,745             </td></tr>\n",
       "\t<tr><td>Utah                </td><td>$32,614             </td><td>$34,415             </td><td>$35,995             </td><td>$36,542             </td><td>$37,664             </td><td>$39,045             </td></tr>\n",
       "\t<tr><td>Vermont             </td><td>$40,066             </td><td>$42,735             </td><td>$44,287             </td><td>$44,839             </td><td>$46,428             </td><td>$47,864             </td></tr>\n",
       "\t<tr><td>Virginia            </td><td>$45,412             </td><td>$47,689             </td><td>$49,320             </td><td>$48,956             </td><td>$50,345             </td><td>$52,136             </td></tr>\n",
       "\t<tr><td>Washington          </td><td>$42,821             </td><td>$44,800             </td><td>$47,344             </td><td>$47,468             </td><td>$49,610             </td><td>$51,146             </td></tr>\n",
       "\t<tr><td>West Virginia       </td><td>$32,104             </td><td>$34,211             </td><td>$35,374             </td><td>$35,163             </td><td>$36,132             </td><td>$37,047             </td></tr>\n",
       "\t<tr><td>Wisconsin           </td><td>$38,815             </td><td>$40,837             </td><td>$42,463             </td><td>$42,737             </td><td>$44,186             </td><td>$45,617             </td></tr>\n",
       "\t<tr><td>Wyoming             </td><td>$44,846             </td><td>$49,140             </td><td>$52,154             </td><td>$51,791             </td><td>$54,584             </td><td>$55,303             </td></tr>\n",
       "</tbody>\n",
       "</table>\n"
      ],
      "text/latex": [
       "\\textbf{\\$`NULL`} = \\begin{tabular}{r|lllllll}\n",
       " State & 2010 & 2011 & 2012 & 2013 & 2014 & 2015\\\\\n",
       "\\hline\n",
       "\t United States        & \\$40,277            & \\$42,453            & \\$44,266            & \\$44,438            & \\$46,049            & \\$47,669           \\\\\n",
       "\t Alabama              & \\$34,073            & \\$35,202            & \\$36,036            & \\$36,176            & \\$37,512            & \\$38,965           \\\\\n",
       "\t Alaska               & \\$47,773            & \\$50,552            & \\$52,269            & \\$51,259            & \\$54,012            & \\$55,940           \\\\\n",
       "\t Arizona              & \\$34,185            & \\$35,675            & \\$36,788            & \\$36,723            & \\$37,895            & \\$39,060           \\\\\n",
       "\t Arkansas             & \\$31,991            & \\$33,961            & \\$36,291            & \\$36,529            & \\$37,782            & \\$39,107           \\\\\n",
       "\t California           & \\$42,411            & \\$44,852            & \\$47,614            & \\$48,125            & \\$49,985            & \\$52,651           \\\\\n",
       "\t Colorado             & \\$41,877            & \\$44,349            & \\$46,402            & \\$46,746            & \\$48,869            & \\$50,410           \\\\\n",
       "\t Connecticut          & \\$57,347            & \\$59,884            & \\$62,738            & \\$62,112            & \\$64,864            & \\$66,972           \\\\\n",
       "\t Delaware             & \\$41,783            & \\$43,555            & \\$44,747            & \\$44,819            & \\$46,378            & \\$47,662           \\\\\n",
       "\t District of Columbia & \\$63,741            & \\$67,359            & \\$68,973            & \\$68,606            & \\$69,838            & \\$71,496           \\\\\n",
       "\t Florida              & \\$38,718            & \\$40,538            & \\$41,249            & \\$41,309            & \\$42,737            & \\$44,101           \\\\\n",
       "\t Georgia              & \\$34,487            & \\$36,588            & \\$37,254            & \\$37,596            & \\$38,980            & \\$40,551           \\\\\n",
       "\t Hawaii               & \\$41,594            & \\$42,938            & \\$44,504            & \\$44,314            & \\$46,034            & \\$47,753           \\\\\n",
       "\t Idaho                & \\$32,050            & \\$33,544            & \\$34,846            & \\$35,641            & \\$36,734            & \\$37,509           \\\\\n",
       "\t Illinois             & \\$42,154            & \\$44,303            & \\$46,067            & \\$46,477            & \\$47,643            & \\$49,471           \\\\\n",
       "\t Indiana              & \\$34,390            & \\$36,357            & \\$37,987            & \\$38,291            & \\$39,578            & \\$40,998           \\\\\n",
       "\t Iowa                 & \\$38,687            & \\$42,058            & \\$43,458            & \\$43,735            & \\$44,937            & \\$44,971           \\\\\n",
       "\t Kansas               & \\$39,235            & \\$42,403            & \\$43,725            & \\$44,311            & \\$44,891            & \\$45,876           \\\\\n",
       "\t Kentucky             & \\$32,977            & \\$34,578            & \\$35,814            & \\$35,967            & \\$37,396            & \\$38,989           \\\\\n",
       "\t Louisiana            & \\$37,227            & \\$38,506            & \\$40,527            & \\$40,819            & \\$42,030            & \\$43,252           \\\\\n",
       "\t Maine                & \\$37,102            & \\$38,597            & \\$39,589            & \\$39,562            & \\$40,745            & \\$42,077           \\\\\n",
       "\t Maryland             & \\$49,683            & \\$51,800            & \\$53,078            & \\$52,545            & \\$54,176            & \\$56,127           \\\\\n",
       "\t Massachusetts        & \\$51,643            & \\$54,327            & \\$56,752            & \\$56,549            & \\$58,737            & \\$61,032           \\\\\n",
       "\t Michigan             & \\$35,199            & \\$37,343            & \\$38,652            & \\$39,197            & \\$40,740            & \\$42,427           \\\\\n",
       "\t Minnesota            & \\$42,567            & \\$45,214            & \\$47,293            & \\$47,410            & \\$48,998            & \\$50,541           \\\\\n",
       "\t Mississippi          & \\$30,783            & \\$31,976            & \\$33,127            & \\$33,629            & \\$34,431            & \\$35,444           \\\\\n",
       "\t Missouri             & \\$36,638            & \\$38,042            & \\$39,905            & \\$40,297            & \\$41,639            & \\$42,752           \\\\\n",
       "\t Montana              & \\$34,737            & \\$36,959            & \\$39,102            & \\$38,884            & \\$39,903            & \\$41,280           \\\\\n",
       "\t Nebraska             & \\$40,023            & \\$43,820            & \\$45,578            & \\$46,254            & \\$47,557            & \\$48,006           \\\\\n",
       "\t Nevada               & \\$36,918            & \\$37,745            & \\$39,436            & \\$39,223            & \\$40,742            & \\$42,185           \\\\\n",
       "\t New Hampshire        & \\$45,308            & \\$48,005            & \\$50,546            & \\$50,535            & \\$52,773            & \\$54,817           \\\\\n",
       "\t New Jersey           & \\$51,202            & \\$53,556            & \\$55,142            & \\$55,194            & \\$57,620            & \\$59,782           \\\\\n",
       "\t New Mexico           & \\$33,019            & \\$34,556            & \\$35,585            & \\$35,254            & \\$37,091            & \\$38,457           \\\\\n",
       "\t New York             & \\$49,283            & \\$51,598            & \\$53,571            & \\$53,606            & \\$55,611            & \\$57,705           \\\\\n",
       "\t North Carolina       & \\$35,569            & \\$36,622            & \\$38,655            & \\$37,774            & \\$39,171            & \\$40,656           \\\\\n",
       "\t North Dakota         & \\$42,964            & \\$47,861            & \\$55,388            & \\$54,373            & \\$55,802            & \\$54,376           \\\\\n",
       "\t Ohio                 & \\$36,377            & \\$38,807            & \\$40,329            & \\$40,749            & \\$42,236            & \\$43,478           \\\\\n",
       "\t Oklahoma             & \\$35,949            & \\$39,037            & \\$41,549            & \\$41,962            & \\$43,637            & \\$44,272           \\\\\n",
       "\t Oregon               & \\$35,791            & \\$37,512            & \\$39,083            & \\$39,426            & \\$41,220            & \\$42,974           \\\\\n",
       "\t Pennsylvania         & \\$41,918            & \\$44,018            & \\$45,781            & \\$46,028            & \\$47,679            & \\$49,180           \\\\\n",
       "\t Rhode Island         & \\$42,737            & \\$44,292            & \\$46,084            & \\$46,145            & \\$48,359            & \\$50,080           \\\\\n",
       "\t South Carolina       & \\$32,853            & \\$34,220            & \\$35,461            & \\$35,472            & \\$36,677            & \\$38,041           \\\\\n",
       "\t South Dakota         & \\$40,204            & \\$44,241            & \\$44,792            & \\$44,772            & \\$45,279            & \\$45,002           \\\\\n",
       "\t Tennessee            & \\$35,601            & \\$37,323            & \\$39,137            & \\$39,312            & \\$40,457            & \\$42,069           \\\\\n",
       "\t Texas                & \\$38,282            & \\$41,235            & \\$43,505            & \\$43,807            & \\$45,669            & \\$46,745           \\\\\n",
       "\t Utah                 & \\$32,614            & \\$34,415            & \\$35,995            & \\$36,542            & \\$37,664            & \\$39,045           \\\\\n",
       "\t Vermont              & \\$40,066            & \\$42,735            & \\$44,287            & \\$44,839            & \\$46,428            & \\$47,864           \\\\\n",
       "\t Virginia             & \\$45,412            & \\$47,689            & \\$49,320            & \\$48,956            & \\$50,345            & \\$52,136           \\\\\n",
       "\t Washington           & \\$42,821            & \\$44,800            & \\$47,344            & \\$47,468            & \\$49,610            & \\$51,146           \\\\\n",
       "\t West Virginia        & \\$32,104            & \\$34,211            & \\$35,374            & \\$35,163            & \\$36,132            & \\$37,047           \\\\\n",
       "\t Wisconsin            & \\$38,815            & \\$40,837            & \\$42,463            & \\$42,737            & \\$44,186            & \\$45,617           \\\\\n",
       "\t Wyoming              & \\$44,846            & \\$49,140            & \\$52,154            & \\$51,791            & \\$54,584            & \\$55,303           \\\\\n",
       "\\end{tabular}\n"
      ],
      "text/markdown": [
       "**$`NULL`** = \n",
       "| State | 2010 | 2011 | 2012 | 2013 | 2014 | 2015 |\n",
       "|---|---|---|---|---|---|---|\n",
       "| United States        | $40,277              | $42,453              | $44,266              | $44,438              | $46,049              | $47,669              |\n",
       "| Alabama              | $34,073              | $35,202              | $36,036              | $36,176              | $37,512              | $38,965              |\n",
       "| Alaska               | $47,773              | $50,552              | $52,269              | $51,259              | $54,012              | $55,940              |\n",
       "| Arizona              | $34,185              | $35,675              | $36,788              | $36,723              | $37,895              | $39,060              |\n",
       "| Arkansas             | $31,991              | $33,961              | $36,291              | $36,529              | $37,782              | $39,107              |\n",
       "| California           | $42,411              | $44,852              | $47,614              | $48,125              | $49,985              | $52,651              |\n",
       "| Colorado             | $41,877              | $44,349              | $46,402              | $46,746              | $48,869              | $50,410              |\n",
       "| Connecticut          | $57,347              | $59,884              | $62,738              | $62,112              | $64,864              | $66,972              |\n",
       "| Delaware             | $41,783              | $43,555              | $44,747              | $44,819              | $46,378              | $47,662              |\n",
       "| District of Columbia | $63,741              | $67,359              | $68,973              | $68,606              | $69,838              | $71,496              |\n",
       "| Florida              | $38,718              | $40,538              | $41,249              | $41,309              | $42,737              | $44,101              |\n",
       "| Georgia              | $34,487              | $36,588              | $37,254              | $37,596              | $38,980              | $40,551              |\n",
       "| Hawaii               | $41,594              | $42,938              | $44,504              | $44,314              | $46,034              | $47,753              |\n",
       "| Idaho                | $32,050              | $33,544              | $34,846              | $35,641              | $36,734              | $37,509              |\n",
       "| Illinois             | $42,154              | $44,303              | $46,067              | $46,477              | $47,643              | $49,471              |\n",
       "| Indiana              | $34,390              | $36,357              | $37,987              | $38,291              | $39,578              | $40,998              |\n",
       "| Iowa                 | $38,687              | $42,058              | $43,458              | $43,735              | $44,937              | $44,971              |\n",
       "| Kansas               | $39,235              | $42,403              | $43,725              | $44,311              | $44,891              | $45,876              |\n",
       "| Kentucky             | $32,977              | $34,578              | $35,814              | $35,967              | $37,396              | $38,989              |\n",
       "| Louisiana            | $37,227              | $38,506              | $40,527              | $40,819              | $42,030              | $43,252              |\n",
       "| Maine                | $37,102              | $38,597              | $39,589              | $39,562              | $40,745              | $42,077              |\n",
       "| Maryland             | $49,683              | $51,800              | $53,078              | $52,545              | $54,176              | $56,127              |\n",
       "| Massachusetts        | $51,643              | $54,327              | $56,752              | $56,549              | $58,737              | $61,032              |\n",
       "| Michigan             | $35,199              | $37,343              | $38,652              | $39,197              | $40,740              | $42,427              |\n",
       "| Minnesota            | $42,567              | $45,214              | $47,293              | $47,410              | $48,998              | $50,541              |\n",
       "| Mississippi          | $30,783              | $31,976              | $33,127              | $33,629              | $34,431              | $35,444              |\n",
       "| Missouri             | $36,638              | $38,042              | $39,905              | $40,297              | $41,639              | $42,752              |\n",
       "| Montana              | $34,737              | $36,959              | $39,102              | $38,884              | $39,903              | $41,280              |\n",
       "| Nebraska             | $40,023              | $43,820              | $45,578              | $46,254              | $47,557              | $48,006              |\n",
       "| Nevada               | $36,918              | $37,745              | $39,436              | $39,223              | $40,742              | $42,185              |\n",
       "| New Hampshire        | $45,308              | $48,005              | $50,546              | $50,535              | $52,773              | $54,817              |\n",
       "| New Jersey           | $51,202              | $53,556              | $55,142              | $55,194              | $57,620              | $59,782              |\n",
       "| New Mexico           | $33,019              | $34,556              | $35,585              | $35,254              | $37,091              | $38,457              |\n",
       "| New York             | $49,283              | $51,598              | $53,571              | $53,606              | $55,611              | $57,705              |\n",
       "| North Carolina       | $35,569              | $36,622              | $38,655              | $37,774              | $39,171              | $40,656              |\n",
       "| North Dakota         | $42,964              | $47,861              | $55,388              | $54,373              | $55,802              | $54,376              |\n",
       "| Ohio                 | $36,377              | $38,807              | $40,329              | $40,749              | $42,236              | $43,478              |\n",
       "| Oklahoma             | $35,949              | $39,037              | $41,549              | $41,962              | $43,637              | $44,272              |\n",
       "| Oregon               | $35,791              | $37,512              | $39,083              | $39,426              | $41,220              | $42,974              |\n",
       "| Pennsylvania         | $41,918              | $44,018              | $45,781              | $46,028              | $47,679              | $49,180              |\n",
       "| Rhode Island         | $42,737              | $44,292              | $46,084              | $46,145              | $48,359              | $50,080              |\n",
       "| South Carolina       | $32,853              | $34,220              | $35,461              | $35,472              | $36,677              | $38,041              |\n",
       "| South Dakota         | $40,204              | $44,241              | $44,792              | $44,772              | $45,279              | $45,002              |\n",
       "| Tennessee            | $35,601              | $37,323              | $39,137              | $39,312              | $40,457              | $42,069              |\n",
       "| Texas                | $38,282              | $41,235              | $43,505              | $43,807              | $45,669              | $46,745              |\n",
       "| Utah                 | $32,614              | $34,415              | $35,995              | $36,542              | $37,664              | $39,045              |\n",
       "| Vermont              | $40,066              | $42,735              | $44,287              | $44,839              | $46,428              | $47,864              |\n",
       "| Virginia             | $45,412              | $47,689              | $49,320              | $48,956              | $50,345              | $52,136              |\n",
       "| Washington           | $42,821              | $44,800              | $47,344              | $47,468              | $49,610              | $51,146              |\n",
       "| West Virginia        | $32,104              | $34,211              | $35,374              | $35,163              | $36,132              | $37,047              |\n",
       "| Wisconsin            | $38,815              | $40,837              | $42,463              | $42,737              | $44,186              | $45,617              |\n",
       "| Wyoming              | $44,846              | $49,140              | $52,154              | $51,791              | $54,584              | $55,303              |\n",
       "\n"
      ],
      "text/plain": [
       "$`NULL`\n",
       "                  State    2010    2011    2012    2013    2014    2015\n",
       "1         United States $40,277 $42,453 $44,266 $44,438 $46,049 $47,669\n",
       "2               Alabama $34,073 $35,202 $36,036 $36,176 $37,512 $38,965\n",
       "3                Alaska $47,773 $50,552 $52,269 $51,259 $54,012 $55,940\n",
       "4               Arizona $34,185 $35,675 $36,788 $36,723 $37,895 $39,060\n",
       "5              Arkansas $31,991 $33,961 $36,291 $36,529 $37,782 $39,107\n",
       "6            California $42,411 $44,852 $47,614 $48,125 $49,985 $52,651\n",
       "7              Colorado $41,877 $44,349 $46,402 $46,746 $48,869 $50,410\n",
       "8           Connecticut $57,347 $59,884 $62,738 $62,112 $64,864 $66,972\n",
       "9              Delaware $41,783 $43,555 $44,747 $44,819 $46,378 $47,662\n",
       "10 District of Columbia $63,741 $67,359 $68,973 $68,606 $69,838 $71,496\n",
       "11              Florida $38,718 $40,538 $41,249 $41,309 $42,737 $44,101\n",
       "12              Georgia $34,487 $36,588 $37,254 $37,596 $38,980 $40,551\n",
       "13               Hawaii $41,594 $42,938 $44,504 $44,314 $46,034 $47,753\n",
       "14                Idaho $32,050 $33,544 $34,846 $35,641 $36,734 $37,509\n",
       "15             Illinois $42,154 $44,303 $46,067 $46,477 $47,643 $49,471\n",
       "16              Indiana $34,390 $36,357 $37,987 $38,291 $39,578 $40,998\n",
       "17                 Iowa $38,687 $42,058 $43,458 $43,735 $44,937 $44,971\n",
       "18               Kansas $39,235 $42,403 $43,725 $44,311 $44,891 $45,876\n",
       "19             Kentucky $32,977 $34,578 $35,814 $35,967 $37,396 $38,989\n",
       "20            Louisiana $37,227 $38,506 $40,527 $40,819 $42,030 $43,252\n",
       "21                Maine $37,102 $38,597 $39,589 $39,562 $40,745 $42,077\n",
       "22             Maryland $49,683 $51,800 $53,078 $52,545 $54,176 $56,127\n",
       "23        Massachusetts $51,643 $54,327 $56,752 $56,549 $58,737 $61,032\n",
       "24             Michigan $35,199 $37,343 $38,652 $39,197 $40,740 $42,427\n",
       "25            Minnesota $42,567 $45,214 $47,293 $47,410 $48,998 $50,541\n",
       "26          Mississippi $30,783 $31,976 $33,127 $33,629 $34,431 $35,444\n",
       "27             Missouri $36,638 $38,042 $39,905 $40,297 $41,639 $42,752\n",
       "28              Montana $34,737 $36,959 $39,102 $38,884 $39,903 $41,280\n",
       "29             Nebraska $40,023 $43,820 $45,578 $46,254 $47,557 $48,006\n",
       "30               Nevada $36,918 $37,745 $39,436 $39,223 $40,742 $42,185\n",
       "31        New Hampshire $45,308 $48,005 $50,546 $50,535 $52,773 $54,817\n",
       "32           New Jersey $51,202 $53,556 $55,142 $55,194 $57,620 $59,782\n",
       "33           New Mexico $33,019 $34,556 $35,585 $35,254 $37,091 $38,457\n",
       "34             New York $49,283 $51,598 $53,571 $53,606 $55,611 $57,705\n",
       "35       North Carolina $35,569 $36,622 $38,655 $37,774 $39,171 $40,656\n",
       "36         North Dakota $42,964 $47,861 $55,388 $54,373 $55,802 $54,376\n",
       "37                 Ohio $36,377 $38,807 $40,329 $40,749 $42,236 $43,478\n",
       "38             Oklahoma $35,949 $39,037 $41,549 $41,962 $43,637 $44,272\n",
       "39               Oregon $35,791 $37,512 $39,083 $39,426 $41,220 $42,974\n",
       "40         Pennsylvania $41,918 $44,018 $45,781 $46,028 $47,679 $49,180\n",
       "41         Rhode Island $42,737 $44,292 $46,084 $46,145 $48,359 $50,080\n",
       "42       South Carolina $32,853 $34,220 $35,461 $35,472 $36,677 $38,041\n",
       "43         South Dakota $40,204 $44,241 $44,792 $44,772 $45,279 $45,002\n",
       "44            Tennessee $35,601 $37,323 $39,137 $39,312 $40,457 $42,069\n",
       "45                Texas $38,282 $41,235 $43,505 $43,807 $45,669 $46,745\n",
       "46                 Utah $32,614 $34,415 $35,995 $36,542 $37,664 $39,045\n",
       "47              Vermont $40,066 $42,735 $44,287 $44,839 $46,428 $47,864\n",
       "48             Virginia $45,412 $47,689 $49,320 $48,956 $50,345 $52,136\n",
       "49           Washington $42,821 $44,800 $47,344 $47,468 $49,610 $51,146\n",
       "50        West Virginia $32,104 $34,211 $35,374 $35,163 $36,132 $37,047\n",
       "51            Wisconsin $38,815 $40,837 $42,463 $42,737 $44,186 $45,617\n",
       "52              Wyoming $44,846 $49,140 $52,154 $51,791 $54,584 $55,303\n"
      ]
     },
     "metadata": {},
     "output_type": "display_data"
    }
   ],
   "source": [
    "head(html_cont)\n",
    "# $`NULL` =\n",
    "# State\t2010\t2011\t2012\t2013\t2014\t2015\n",
    "# United States\t$40,277\t$42,453\t$44,266\t$44,438\t$46,049\t$47,669\n",
    "# Alabama\t$34,073\t$35,202\t$36,036\t$36,176\t$37,512\t$38,965\n",
    "# Alaska\t$47,773\t$50,552\t$52,269\t$51,259\t$54,012\t$55,940\n",
    "# Arizona\t$34,185\t$35,675\t$36,788\t$36,723\t$37,895\t$39,060\n",
    "# Arkansas\t$31,991\t$33,961\t$36,291\t$36,529\t$37,782\t$39,107\n",
    "# ...\n"
   ]
  },
  {
   "cell_type": "code",
   "execution_count": 42,
   "metadata": {},
   "outputs": [],
   "source": [
    "html_cont <- as.data.frame(html_cont)  # list --> Dataframe으로 변경"
   ]
  },
  {
   "cell_type": "code",
   "execution_count": 43,
   "metadata": {},
   "outputs": [
    {
     "data": {
      "text/html": [
       "<table>\n",
       "<thead><tr><th scope=col>NULL.State</th><th scope=col>NULL.2010</th><th scope=col>NULL.2011</th><th scope=col>NULL.2012</th><th scope=col>NULL.2013</th><th scope=col>NULL.2014</th><th scope=col>NULL.2015</th></tr></thead>\n",
       "<tbody>\n",
       "\t<tr><td>United States</td><td>$40,277      </td><td>$42,453      </td><td>$44,266      </td><td>$44,438      </td><td>$46,049      </td><td>$47,669      </td></tr>\n",
       "\t<tr><td>Alabama      </td><td>$34,073      </td><td>$35,202      </td><td>$36,036      </td><td>$36,176      </td><td>$37,512      </td><td>$38,965      </td></tr>\n",
       "\t<tr><td>Alaska       </td><td>$47,773      </td><td>$50,552      </td><td>$52,269      </td><td>$51,259      </td><td>$54,012      </td><td>$55,940      </td></tr>\n",
       "\t<tr><td>Arizona      </td><td>$34,185      </td><td>$35,675      </td><td>$36,788      </td><td>$36,723      </td><td>$37,895      </td><td>$39,060      </td></tr>\n",
       "\t<tr><td>Arkansas     </td><td>$31,991      </td><td>$33,961      </td><td>$36,291      </td><td>$36,529      </td><td>$37,782      </td><td>$39,107      </td></tr>\n",
       "\t<tr><td>California   </td><td>$42,411      </td><td>$44,852      </td><td>$47,614      </td><td>$48,125      </td><td>$49,985      </td><td>$52,651      </td></tr>\n",
       "</tbody>\n",
       "</table>\n"
      ],
      "text/latex": [
       "\\begin{tabular}{r|lllllll}\n",
       " NULL.State & NULL.2010 & NULL.2011 & NULL.2012 & NULL.2013 & NULL.2014 & NULL.2015\\\\\n",
       "\\hline\n",
       "\t United States & \\$40,277     & \\$42,453     & \\$44,266     & \\$44,438     & \\$46,049     & \\$47,669    \\\\\n",
       "\t Alabama       & \\$34,073     & \\$35,202     & \\$36,036     & \\$36,176     & \\$37,512     & \\$38,965    \\\\\n",
       "\t Alaska        & \\$47,773     & \\$50,552     & \\$52,269     & \\$51,259     & \\$54,012     & \\$55,940    \\\\\n",
       "\t Arizona       & \\$34,185     & \\$35,675     & \\$36,788     & \\$36,723     & \\$37,895     & \\$39,060    \\\\\n",
       "\t Arkansas      & \\$31,991     & \\$33,961     & \\$36,291     & \\$36,529     & \\$37,782     & \\$39,107    \\\\\n",
       "\t California    & \\$42,411     & \\$44,852     & \\$47,614     & \\$48,125     & \\$49,985     & \\$52,651    \\\\\n",
       "\\end{tabular}\n"
      ],
      "text/markdown": [
       "\n",
       "| NULL.State | NULL.2010 | NULL.2011 | NULL.2012 | NULL.2013 | NULL.2014 | NULL.2015 |\n",
       "|---|---|---|---|---|---|---|\n",
       "| United States | $40,277       | $42,453       | $44,266       | $44,438       | $46,049       | $47,669       |\n",
       "| Alabama       | $34,073       | $35,202       | $36,036       | $36,176       | $37,512       | $38,965       |\n",
       "| Alaska        | $47,773       | $50,552       | $52,269       | $51,259       | $54,012       | $55,940       |\n",
       "| Arizona       | $34,185       | $35,675       | $36,788       | $36,723       | $37,895       | $39,060       |\n",
       "| Arkansas      | $31,991       | $33,961       | $36,291       | $36,529       | $37,782       | $39,107       |\n",
       "| California    | $42,411       | $44,852       | $47,614       | $48,125       | $49,985       | $52,651       |\n",
       "\n"
      ],
      "text/plain": [
       "  NULL.State    NULL.2010 NULL.2011 NULL.2012 NULL.2013 NULL.2014 NULL.2015\n",
       "1 United States $40,277   $42,453   $44,266   $44,438   $46,049   $47,669  \n",
       "2 Alabama       $34,073   $35,202   $36,036   $36,176   $37,512   $38,965  \n",
       "3 Alaska        $47,773   $50,552   $52,269   $51,259   $54,012   $55,940  \n",
       "4 Arizona       $34,185   $35,675   $36,788   $36,723   $37,895   $39,060  \n",
       "5 Arkansas      $31,991   $33,961   $36,291   $36,529   $37,782   $39,107  \n",
       "6 California    $42,411   $44,852   $47,614   $48,125   $49,985   $52,651  "
      ]
     },
     "metadata": {},
     "output_type": "display_data"
    },
    {
     "data": {
      "text/html": [
       "'data.frame'"
      ],
      "text/latex": [
       "'data.frame'"
      ],
      "text/markdown": [
       "'data.frame'"
      ],
      "text/plain": [
       "[1] \"data.frame\""
      ]
     },
     "metadata": {},
     "output_type": "display_data"
    }
   ],
   "source": [
    "head(html_cont)\n",
    "class(html_cont)\n",
    "# NULL.State\tNULL.2010\tNULL.2011\tNULL.2012\tNULL.2013\tNULL.2014\tNULL.2015\n",
    "# United States\t$40,277\t$42,453\t$44,266\t$44,438\t$46,049\t$47,669\n",
    "# Alabama\t$34,073\t$35,202\t$36,036\t$36,176\t$37,512\t$38,965\n",
    "# Alaska\t$47,773\t$50,552\t$52,269\t$51,259\t$54,012\t$55,940\n",
    "# Arizona\t$34,185\t$35,675\t$36,788\t$36,723\t$37,895\t$39,060\n",
    "# Arkansas\t$31,991\t$33,961\t$36,291\t$36,529\t$37,782\t$39,107\n",
    "# California\t$42,411\t$44,852\t$47,614\t$48,125\t$49,985\t$52,651\n",
    "# 'data.frame'"
   ]
  },
  {
   "cell_type": "code",
   "execution_count": 44,
   "metadata": {},
   "outputs": [
    {
     "data": {
      "text/html": [
       "<table>\n",
       "<thead><tr><th scope=col>State</th><th scope=col>y2010</th><th scope=col>y2011</th><th scope=col>y2012</th><th scope=col>y2013</th><th scope=col>y2014</th><th scope=col>y2015</th></tr></thead>\n",
       "<tbody>\n",
       "\t<tr><td>United States</td><td>$40,277      </td><td>$42,453      </td><td>$44,266      </td><td>$44,438      </td><td>$46,049      </td><td>$47,669      </td></tr>\n",
       "\t<tr><td>Alabama      </td><td>$34,073      </td><td>$35,202      </td><td>$36,036      </td><td>$36,176      </td><td>$37,512      </td><td>$38,965      </td></tr>\n",
       "\t<tr><td>Alaska       </td><td>$47,773      </td><td>$50,552      </td><td>$52,269      </td><td>$51,259      </td><td>$54,012      </td><td>$55,940      </td></tr>\n",
       "\t<tr><td>Arizona      </td><td>$34,185      </td><td>$35,675      </td><td>$36,788      </td><td>$36,723      </td><td>$37,895      </td><td>$39,060      </td></tr>\n",
       "\t<tr><td>Arkansas     </td><td>$31,991      </td><td>$33,961      </td><td>$36,291      </td><td>$36,529      </td><td>$37,782      </td><td>$39,107      </td></tr>\n",
       "\t<tr><td>California   </td><td>$42,411      </td><td>$44,852      </td><td>$47,614      </td><td>$48,125      </td><td>$49,985      </td><td>$52,651      </td></tr>\n",
       "</tbody>\n",
       "</table>\n"
      ],
      "text/latex": [
       "\\begin{tabular}{r|lllllll}\n",
       " State & y2010 & y2011 & y2012 & y2013 & y2014 & y2015\\\\\n",
       "\\hline\n",
       "\t United States & \\$40,277     & \\$42,453     & \\$44,266     & \\$44,438     & \\$46,049     & \\$47,669    \\\\\n",
       "\t Alabama       & \\$34,073     & \\$35,202     & \\$36,036     & \\$36,176     & \\$37,512     & \\$38,965    \\\\\n",
       "\t Alaska        & \\$47,773     & \\$50,552     & \\$52,269     & \\$51,259     & \\$54,012     & \\$55,940    \\\\\n",
       "\t Arizona       & \\$34,185     & \\$35,675     & \\$36,788     & \\$36,723     & \\$37,895     & \\$39,060    \\\\\n",
       "\t Arkansas      & \\$31,991     & \\$33,961     & \\$36,291     & \\$36,529     & \\$37,782     & \\$39,107    \\\\\n",
       "\t California    & \\$42,411     & \\$44,852     & \\$47,614     & \\$48,125     & \\$49,985     & \\$52,651    \\\\\n",
       "\\end{tabular}\n"
      ],
      "text/markdown": [
       "\n",
       "| State | y2010 | y2011 | y2012 | y2013 | y2014 | y2015 |\n",
       "|---|---|---|---|---|---|---|\n",
       "| United States | $40,277       | $42,453       | $44,266       | $44,438       | $46,049       | $47,669       |\n",
       "| Alabama       | $34,073       | $35,202       | $36,036       | $36,176       | $37,512       | $38,965       |\n",
       "| Alaska        | $47,773       | $50,552       | $52,269       | $51,259       | $54,012       | $55,940       |\n",
       "| Arizona       | $34,185       | $35,675       | $36,788       | $36,723       | $37,895       | $39,060       |\n",
       "| Arkansas      | $31,991       | $33,961       | $36,291       | $36,529       | $37,782       | $39,107       |\n",
       "| California    | $42,411       | $44,852       | $47,614       | $48,125       | $49,985       | $52,651       |\n",
       "\n"
      ],
      "text/plain": [
       "  State         y2010   y2011   y2012   y2013   y2014   y2015  \n",
       "1 United States $40,277 $42,453 $44,266 $44,438 $46,049 $47,669\n",
       "2 Alabama       $34,073 $35,202 $36,036 $36,176 $37,512 $38,965\n",
       "3 Alaska        $47,773 $50,552 $52,269 $51,259 $54,012 $55,940\n",
       "4 Arizona       $34,185 $35,675 $36,788 $36,723 $37,895 $39,060\n",
       "5 Arkansas      $31,991 $33,961 $36,291 $36,529 $37,782 $39,107\n",
       "6 California    $42,411 $44,852 $47,614 $48,125 $49,985 $52,651"
      ]
     },
     "metadata": {},
     "output_type": "display_data"
    }
   ],
   "source": [
    "# column name 이름 지정\n",
    "names(html_cont) <- c('State', 'y2010', 'y2011', 'y2012', 'y2013', 'y2014', 'y2015')\n",
    "head(html_cont)\n",
    "# State\ty2010\ty2011\ty2012\ty2013\ty2014\ty2015\n",
    "# United States\t$40,277\t$42,453\t$44,266\t$44,438\t$46,049\t$47,669\n",
    "# Alabama\t$34,073\t$35,202\t$36,036\t$36,176\t$37,512\t$38,965\n",
    "# Alaska\t$47,773\t$50,552\t$52,269\t$51,259\t$54,012\t$55,940\n",
    "# Arizona\t$34,185\t$35,675\t$36,788\t$36,723\t$37,895\t$39,060\n",
    "# Arkansas\t$31,991\t$33,961\t$36,291\t$36,529\t$37,782\t$39,107\n",
    "# California\t$42,411\t$44,852\t$47,614\t$48,125\t$49,985\t$52,651\n"
   ]
  },
  {
   "cell_type": "code",
   "execution_count": 45,
   "metadata": {},
   "outputs": [
    {
     "data": {
      "text/html": [
       "<table>\n",
       "<thead><tr><th></th><th scope=col>State</th><th scope=col>y2010</th><th scope=col>y2011</th><th scope=col>y2012</th><th scope=col>y2013</th><th scope=col>y2014</th><th scope=col>y2015</th></tr></thead>\n",
       "<tbody>\n",
       "\t<tr><th scope=row>47</th><td>Vermont      </td><td>$40,066      </td><td>$42,735      </td><td>$44,287      </td><td>$44,839      </td><td>$46,428      </td><td>$47,864      </td></tr>\n",
       "\t<tr><th scope=row>48</th><td>Virginia     </td><td>$45,412      </td><td>$47,689      </td><td>$49,320      </td><td>$48,956      </td><td>$50,345      </td><td>$52,136      </td></tr>\n",
       "\t<tr><th scope=row>49</th><td>Washington   </td><td>$42,821      </td><td>$44,800      </td><td>$47,344      </td><td>$47,468      </td><td>$49,610      </td><td>$51,146      </td></tr>\n",
       "\t<tr><th scope=row>50</th><td>West Virginia</td><td>$32,104      </td><td>$34,211      </td><td>$35,374      </td><td>$35,163      </td><td>$36,132      </td><td>$37,047      </td></tr>\n",
       "\t<tr><th scope=row>51</th><td>Wisconsin    </td><td>$38,815      </td><td>$40,837      </td><td>$42,463      </td><td>$42,737      </td><td>$44,186      </td><td>$45,617      </td></tr>\n",
       "\t<tr><th scope=row>52</th><td>Wyoming      </td><td>$44,846      </td><td>$49,140      </td><td>$52,154      </td><td>$51,791      </td><td>$54,584      </td><td>$55,303      </td></tr>\n",
       "</tbody>\n",
       "</table>\n"
      ],
      "text/latex": [
       "\\begin{tabular}{r|lllllll}\n",
       "  & State & y2010 & y2011 & y2012 & y2013 & y2014 & y2015\\\\\n",
       "\\hline\n",
       "\t47 & Vermont       & \\$40,066     & \\$42,735     & \\$44,287     & \\$44,839     & \\$46,428     & \\$47,864    \\\\\n",
       "\t48 & Virginia      & \\$45,412     & \\$47,689     & \\$49,320     & \\$48,956     & \\$50,345     & \\$52,136    \\\\\n",
       "\t49 & Washington    & \\$42,821     & \\$44,800     & \\$47,344     & \\$47,468     & \\$49,610     & \\$51,146    \\\\\n",
       "\t50 & West Virginia & \\$32,104     & \\$34,211     & \\$35,374     & \\$35,163     & \\$36,132     & \\$37,047    \\\\\n",
       "\t51 & Wisconsin     & \\$38,815     & \\$40,837     & \\$42,463     & \\$42,737     & \\$44,186     & \\$45,617    \\\\\n",
       "\t52 & Wyoming       & \\$44,846     & \\$49,140     & \\$52,154     & \\$51,791     & \\$54,584     & \\$55,303    \\\\\n",
       "\\end{tabular}\n"
      ],
      "text/markdown": [
       "\n",
       "| <!--/--> | State | y2010 | y2011 | y2012 | y2013 | y2014 | y2015 |\n",
       "|---|---|---|---|---|---|---|---|\n",
       "| 47 | Vermont       | $40,066       | $42,735       | $44,287       | $44,839       | $46,428       | $47,864       |\n",
       "| 48 | Virginia      | $45,412       | $47,689       | $49,320       | $48,956       | $50,345       | $52,136       |\n",
       "| 49 | Washington    | $42,821       | $44,800       | $47,344       | $47,468       | $49,610       | $51,146       |\n",
       "| 50 | West Virginia | $32,104       | $34,211       | $35,374       | $35,163       | $36,132       | $37,047       |\n",
       "| 51 | Wisconsin     | $38,815       | $40,837       | $42,463       | $42,737       | $44,186       | $45,617       |\n",
       "| 52 | Wyoming       | $44,846       | $49,140       | $52,154       | $51,791       | $54,584       | $55,303       |\n",
       "\n"
      ],
      "text/plain": [
       "   State         y2010   y2011   y2012   y2013   y2014   y2015  \n",
       "47 Vermont       $40,066 $42,735 $44,287 $44,839 $46,428 $47,864\n",
       "48 Virginia      $45,412 $47,689 $49,320 $48,956 $50,345 $52,136\n",
       "49 Washington    $42,821 $44,800 $47,344 $47,468 $49,610 $51,146\n",
       "50 West Virginia $32,104 $34,211 $35,374 $35,163 $36,132 $37,047\n",
       "51 Wisconsin     $38,815 $40,837 $42,463 $42,737 $44,186 $45,617\n",
       "52 Wyoming       $44,846 $49,140 $52,154 $51,791 $54,584 $55,303"
      ]
     },
     "metadata": {},
     "output_type": "display_data"
    }
   ],
   "source": [
    "tail(html_cont) # 마지막 부분 관측치 6건"
   ]
  },
  {
   "cell_type": "markdown",
   "metadata": {},
   "source": [
    "### XML"
   ]
  },
  {
   "cell_type": "code",
   "execution_count": 46,
   "metadata": {},
   "outputs": [
    {
     "name": "stderr",
     "output_type": "stream",
     "text": [
      "Warning message:\n",
      "\"package 'XML' is in use and will not be installed\""
     ]
    }
   ],
   "source": [
    "# 설치\n",
    "install.packages(\"XML\")"
   ]
  },
  {
   "cell_type": "code",
   "execution_count": 47,
   "metadata": {},
   "outputs": [],
   "source": [
    "library(XML)"
   ]
  },
  {
   "cell_type": "code",
   "execution_count": 50,
   "metadata": {},
   "outputs": [],
   "source": [
    "# XML 파일 메모리에 저장\n",
    "xml <- xmlTreeParse(\"./files/score.xml\", useInternal=T, encoding='utf-8') "
   ]
  },
  {
   "cell_type": "code",
   "execution_count": 51,
   "metadata": {},
   "outputs": [
    {
     "data": {
      "text/plain": [
       "<mathscore>\n",
       "  <student>\n",
       "    <name>아로미</name>\n",
       "    <score>100</score>\n",
       "  </student>\n",
       "  <student>\n",
       "    <name>왕눈이</name>\n",
       "    <score>90</score>\n",
       "  </student>\n",
       "  <student>\n",
       "    <name>투투</name>\n",
       "    <score>80</score>\n",
       "  </student>\n",
       "</mathscore> "
      ]
     },
     "metadata": {},
     "output_type": "display_data"
    }
   ],
   "source": [
    "rootNode <- xmlRoot(xml) # root 태그 산출: mathscore\n",
    "rootNode # 한글 안깨짐\n",
    "# <mathscore>\n",
    "#   <student>\n",
    "#     <name>아로미</name>\n",
    "#     <score>100</score>\n",
    "#   </student>\n",
    "#   <student>\n",
    "#     <name>왕눈이</name>\n",
    "#     <score>90</score>\n",
    "#   </student>\n",
    "#   <student>\n",
    "#     <name>투투</name>\n",
    "#     <score>80</score>\n",
    "#   </student>\n",
    "# </mathscore> "
   ]
  },
  {
   "cell_type": "code",
   "execution_count": 53,
   "metadata": {},
   "outputs": [
    {
     "data": {
      "text/html": [
       "<ol class=list-inline>\n",
       "\t<li>'아로미'</li>\n",
       "\t<li>'왕눈이'</li>\n",
       "\t<li>'투투'</li>\n",
       "</ol>\n"
      ],
      "text/latex": [
       "\\begin{enumerate*}\n",
       "\\item '아로미'\n",
       "\\item '왕눈이'\n",
       "\\item '투투'\n",
       "\\end{enumerate*}\n"
      ],
      "text/markdown": [
       "1. '아로미'\n",
       "2. '왕눈이'\n",
       "3. '투투'\n",
       "\n",
       "\n"
      ],
      "text/plain": [
       "[1] \"아로미\" \"왕눈이\" \"투투\"  "
      ]
     },
     "metadata": {},
     "output_type": "display_data"
    },
    {
     "data": {
      "text/html": [
       "'character'"
      ],
      "text/latex": [
       "'character'"
      ],
      "text/markdown": [
       "'character'"
      ],
      "text/plain": [
       "[1] \"character\""
      ]
     },
     "metadata": {},
     "output_type": "display_data"
    }
   ],
   "source": [
    "# //: 문서 내의 모든 위치\n",
    "# //student: root 태그 기준으로 모든 문서 내의 student 자식 태그들\n",
    "# /name: student 태그 기준 name 자식 태그\n",
    "# xpath 문법: 태그[@속성=속성값] -> //*[@id=\"cont\"]/div[2]/h4[1]\n",
    "names <- xpathSApply(rootNode, \"//student/name\", xmlValue) # 태그 값\n",
    "names\n",
    "class(names)\n",
    "# '아로미' '왕눈이' '투투'\n",
    "# 'character'"
   ]
  },
  {
   "cell_type": "code",
   "execution_count": 54,
   "metadata": {},
   "outputs": [
    {
     "data": {
      "text/html": [
       "<ol class=list-inline>\n",
       "\t<li>'100'</li>\n",
       "\t<li>'90'</li>\n",
       "\t<li>'80'</li>\n",
       "</ol>\n"
      ],
      "text/latex": [
       "\\begin{enumerate*}\n",
       "\\item '100'\n",
       "\\item '90'\n",
       "\\item '80'\n",
       "\\end{enumerate*}\n"
      ],
      "text/markdown": [
       "1. '100'\n",
       "2. '90'\n",
       "3. '80'\n",
       "\n",
       "\n"
      ],
      "text/plain": [
       "[1] \"100\" \"90\"  \"80\" "
      ]
     },
     "metadata": {},
     "output_type": "display_data"
    },
    {
     "data": {
      "text/html": [
       "'character'"
      ],
      "text/latex": [
       "'character'"
      ],
      "text/markdown": [
       "'character'"
      ],
      "text/plain": [
       "[1] \"character\""
      ]
     },
     "metadata": {},
     "output_type": "display_data"
    }
   ],
   "source": [
    "scores <- xpathSApply(rootNode, \"//student/score\", xmlValue) # 태그 값\n",
    "scores\n",
    "class(scores)\n",
    "# '100' '90' '80'\n",
    "# 'character'"
   ]
  },
  {
   "cell_type": "code",
   "execution_count": 56,
   "metadata": {},
   "outputs": [
    {
     "data": {
      "text/html": [
       "<table>\n",
       "<thead><tr><th scope=col>names</th><th scope=col>scores</th></tr></thead>\n",
       "<tbody>\n",
       "\t<tr><td>아로미</td><td>100   </td></tr>\n",
       "\t<tr><td>왕눈이</td><td>90    </td></tr>\n",
       "\t<tr><td>투투  </td><td>80    </td></tr>\n",
       "</tbody>\n",
       "</table>\n"
      ],
      "text/latex": [
       "\\begin{tabular}{ll}\n",
       " names & scores\\\\\n",
       "\\hline\n",
       "\t 아로미 & 100   \\\\\n",
       "\t 왕눈이 & 90    \\\\\n",
       "\t 투투   & 80    \\\\\n",
       "\\end{tabular}\n"
      ],
      "text/markdown": [
       "\n",
       "| names | scores |\n",
       "|---|---|\n",
       "| 아로미 | 100    |\n",
       "| 왕눈이 | 90     |\n",
       "| 투투   | 80     |\n",
       "\n"
      ],
      "text/plain": [
       "     names  scores\n",
       "[1,] 아로미 100   \n",
       "[2,] 왕눈이 90    \n",
       "[3,] 투투   80    "
      ]
     },
     "metadata": {},
     "output_type": "display_data"
    },
    {
     "data": {
      "text/html": [
       "'matrix'"
      ],
      "text/latex": [
       "'matrix'"
      ],
      "text/markdown": [
       "'matrix'"
      ],
      "text/plain": [
       "[1] \"matrix\""
      ]
     },
     "metadata": {},
     "output_type": "display_data"
    }
   ],
   "source": [
    "# 행렬 변환\n",
    "df <- cbind(names, scores)\n",
    "df\n",
    "class(df)\n",
    "# names\tscores\n",
    "# 아로미\t100\n",
    "# 왕눈이\t90\n",
    "# 투투\t80\n",
    "# 'matrix'"
   ]
  },
  {
   "cell_type": "code",
   "execution_count": 57,
   "metadata": {},
   "outputs": [
    {
     "data": {
      "text/html": [
       "<table>\n",
       "<thead><tr><th scope=col>names</th><th scope=col>scores</th></tr></thead>\n",
       "<tbody>\n",
       "\t<tr><td>아로미</td><td>100   </td></tr>\n",
       "\t<tr><td>왕눈이</td><td>90    </td></tr>\n",
       "\t<tr><td>투투  </td><td>80    </td></tr>\n",
       "</tbody>\n",
       "</table>\n"
      ],
      "text/latex": [
       "\\begin{tabular}{r|ll}\n",
       " names & scores\\\\\n",
       "\\hline\n",
       "\t 아로미 & 100   \\\\\n",
       "\t 왕눈이 & 90    \\\\\n",
       "\t 투투   & 80    \\\\\n",
       "\\end{tabular}\n"
      ],
      "text/markdown": [
       "\n",
       "| names | scores |\n",
       "|---|---|\n",
       "| 아로미 | 100    |\n",
       "| 왕눈이 | 90     |\n",
       "| 투투   | 80     |\n",
       "\n"
      ],
      "text/plain": [
       "  names  scores\n",
       "1 아로미 100   \n",
       "2 왕눈이 90    \n",
       "3 투투   80    "
      ]
     },
     "metadata": {},
     "output_type": "display_data"
    },
    {
     "data": {
      "text/html": [
       "'data.frame'"
      ],
      "text/latex": [
       "'data.frame'"
      ],
      "text/markdown": [
       "'data.frame'"
      ],
      "text/plain": [
       "[1] \"data.frame\""
      ]
     },
     "metadata": {},
     "output_type": "display_data"
    }
   ],
   "source": [
    "# 데이터 프레임 변환\n",
    "df <- as.data.frame(df)\n",
    "df\n",
    "class(df)\n",
    "# names\tscores\n",
    "# 아로미\t100\n",
    "# 왕눈이\t90\n",
    "# 투투\t80\n",
    "# 'data.frame'"
   ]
  },
  {
   "cell_type": "code",
   "execution_count": null,
   "metadata": {},
   "outputs": [],
   "source": []
  },
  {
   "cell_type": "code",
   "execution_count": null,
   "metadata": {},
   "outputs": [],
   "source": []
  }
 ],
 "metadata": {
  "kernelspec": {
   "display_name": "R",
   "language": "R",
   "name": "ir"
  },
  "language_info": {
   "codemirror_mode": "r",
   "file_extension": ".r",
   "mimetype": "text/x-r-source",
   "name": "R",
   "pygments_lexer": "r",
   "version": "3.6.1"
  }
 },
 "nbformat": 4,
 "nbformat_minor": 2
}
