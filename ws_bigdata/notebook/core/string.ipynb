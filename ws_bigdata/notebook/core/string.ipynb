{
 "cells": [
  {
   "cell_type": "code",
   "execution_count": 1,
   "metadata": {},
   "outputs": [
    {
     "name": "stderr",
     "output_type": "stream",
     "text": [
      "also installing the dependencies 'glue', 'magrittr', 'stringi'\n",
      "\n"
     ]
    },
    {
     "name": "stdout",
     "output_type": "stream",
     "text": [
      "package 'glue' successfully unpacked and MD5 sums checked\n",
      "package 'magrittr' successfully unpacked and MD5 sums checked\n",
      "package 'stringi' successfully unpacked and MD5 sums checked\n",
      "package 'stringr' successfully unpacked and MD5 sums checked\n",
      "\n",
      "The downloaded binary packages are in\n",
      "\tC:\\Users\\soldesk\\AppData\\Local\\Temp\\RtmpcZdEXi\\downloaded_packages\n"
     ]
    }
   ],
   "source": [
    "# 패키지 설치\n",
    "# 저장소: CRAN\n",
    "# stringr이라는 패키지 설치\n",
    "options(repos=\"https://CRAN.R-project.org\")\n",
    "install.packages(\"stringr\")"
   ]
  },
  {
   "cell_type": "code",
   "execution_count": 2,
   "metadata": {},
   "outputs": [
    {
     "name": "stderr",
     "output_type": "stream",
     "text": [
      "Warning message:\n",
      "\"package 'stringr' was built under R version 3.6.3\""
     ]
    }
   ],
   "source": [
    "# 라이브러리 버전 확인\n",
    "library(stringr)"
   ]
  },
  {
   "cell_type": "code",
   "execution_count": 3,
   "metadata": {},
   "outputs": [
    {
     "data": {
      "text/html": [
       "'35'"
      ],
      "text/latex": [
       "'35'"
      ],
      "text/markdown": [
       "'35'"
      ],
      "text/plain": [
       "[1] \"35\""
      ]
     },
     "metadata": {},
     "output_type": "display_data"
    },
    {
     "data": {
      "text/html": [
       "'character'"
      ],
      "text/latex": [
       "'character'"
      ],
      "text/markdown": [
       "'character'"
      ],
      "text/plain": [
       "[1] \"character\""
      ]
     },
     "metadata": {},
     "output_type": "display_data"
    }
   ],
   "source": [
    "# 숫자 1 ~ 9까지 2개의 숫자가 등장한 경우중 처음것만 추출\n",
    "r <- str_extract(\"홍길동35이순신45유관순25\", \"[1-9]{2}\") \n",
    "r\n",
    "class(r)\n",
    "# '35'\n",
    "# 'character'"
   ]
  },
  {
   "cell_type": "code",
   "execution_count": 4,
   "metadata": {},
   "outputs": [
    {
     "data": {
      "text/html": [
       "<ol>\n",
       "\t<li><ol class=list-inline>\n",
       "\t<li>'35'</li>\n",
       "\t<li>'45'</li>\n",
       "\t<li>'25'</li>\n",
       "</ol>\n",
       "</li>\n",
       "</ol>\n"
      ],
      "text/latex": [
       "\\begin{enumerate}\n",
       "\\item \\begin{enumerate*}\n",
       "\\item '35'\n",
       "\\item '45'\n",
       "\\item '25'\n",
       "\\end{enumerate*}\n",
       "\n",
       "\\end{enumerate}\n"
      ],
      "text/markdown": [
       "1. 1. '35'\n",
       "2. '45'\n",
       "3. '25'\n",
       "\n",
       "\n",
       "\n",
       "\n",
       "\n"
      ],
      "text/plain": [
       "[[1]]\n",
       "[1] \"35\" \"45\" \"25\"\n"
      ]
     },
     "metadata": {},
     "output_type": "display_data"
    },
    {
     "data": {
      "text/html": [
       "'list'"
      ],
      "text/latex": [
       "'list'"
      ],
      "text/markdown": [
       "'list'"
      ],
      "text/plain": [
       "[1] \"list\""
      ]
     },
     "metadata": {},
     "output_type": "display_data"
    }
   ],
   "source": [
    "# 조건에 해당하는 숫자 모두 출력\n",
    "r <- str_extract_all(\"홍길동35이순신45유관순25\", \"[1-9]{2}\") # 모든 대응\n",
    "r\n",
    "class(r)\n",
    "# '35' '45' '25'\n",
    "# 'list'"
   ]
  },
  {
   "cell_type": "code",
   "execution_count": 3,
   "metadata": {},
   "outputs": [
    {
     "name": "stdout",
     "output_type": "stream",
     "text": [
      "[[1]]\n",
      "[1] \"big\" \"dat\" \"scr\" \"ipt\" \"mac\" \"hin\"\n",
      "\n"
     ]
    }
   ],
   "source": [
    "# 알파벳 3자리 연속 문자열 추출, 대소문자 구분 \n",
    "string <- 'bigdata2015Rscript2016machine2017'\n",
    "# bigdata2015Rscript2016machine2017\n",
    "# data2015Rscript2016machine2017\n",
    "# script2016machine2017\n",
    "# ipt2016machine2017\n",
    "# machine2017\n",
    "# hine2017\n",
    "r <- str_extract_all(string, '[a-z]{3}') \n",
    "print(r)\n",
    "# [[1]]\n",
    "# [1] \"big\" \"dat\" \"scr\" \"ipt\" \"mac\" \"hin\""
   ]
  },
  {
   "cell_type": "code",
   "execution_count": 5,
   "metadata": {},
   "outputs": [
    {
     "name": "stdout",
     "output_type": "stream",
     "text": [
      "[[1]]\n",
      "[1] \"bigdata\" \"script\"  \"machine\"\n",
      "\n"
     ]
    },
    {
     "data": {
      "text/html": [
       "'list'"
      ],
      "text/latex": [
       "'list'"
      ],
      "text/markdown": [
       "'list'"
      ],
      "text/plain": [
       "[1] \"list\""
      ]
     },
     "metadata": {},
     "output_type": "display_data"
    }
   ],
   "source": [
    "# {3,}\n",
    "# 알파벳 3문자 이상 등장한 경우 출력\n",
    "r <- str_extract_all(string, '[a-z]{3,}') \n",
    "print(r)\n",
    "class(r)\n",
    "# [[1]]\n",
    "# [1] \"bigdata\" \"script\"  \"machine\"\n",
    "# 'list'"
   ]
  },
  {
   "cell_type": "code",
   "execution_count": 6,
   "metadata": {},
   "outputs": [
    {
     "name": "stdout",
     "output_type": "stream",
     "text": [
      "[[1]]\n",
      "[1] \"big\"   \"data\"  \"scrip\" \"machi\"\n",
      "\n"
     ]
    }
   ],
   "source": [
    "# 3과 5 사이에 공백이 있으면 안됨\n",
    "string <- 'big2014data2015Rscript2016machine2017'\n",
    "# 알파벳 3 ~ 5 문자가 등장한 경우 출력\n",
    "r <- str_extract_all(string, '[a-z]{3,5}') \n",
    "print(r)\n",
    "\n",
    "# [[1]]\n",
    "# [1] \"big\"   \"data\"  \"scrip\" \"machi\""
   ]
  },
  {
   "cell_type": "code",
   "execution_count": 10,
   "metadata": {},
   "outputs": [
    {
     "name": "stdout",
     "output_type": "stream",
     "text": [
      "[[1]]\n",
      "[1] \"ai\" \"ai\" \"ai\"\n",
      "\n"
     ]
    },
    {
     "data": {
      "text/html": [
       "'list'"
      ],
      "text/latex": [
       "'list'"
      ],
      "text/markdown": [
       "'list'"
      ],
      "text/plain": [
       "[1] \"list\""
      ]
     },
     "metadata": {},
     "output_type": "display_data"
    },
    {
     "name": "stdout",
     "output_type": "stream",
     "text": [
      "[1] \"ai\" \"ai\" \"ai\"\n",
      "[1] \"ai\"\n",
      "[1] \"character\"\n"
     ]
    }
   ],
   "source": [
    "# ai가 등장할 때마다\n",
    "string <- 'ai2019ai2020aitensorflow2021'\n",
    "# 문자열 ai가 포함된 경우 출력\n",
    "r <- str_extract_all(string, 'ai') \n",
    "print(r)\n",
    "# [[1]]\n",
    "# [1] \"ai\" \"ai\" \"ai\"\n",
    "class(r)\n",
    "# 'list'\n",
    "print(r[[1]])\n",
    "# [1] \"ai\" \"ai\" \"ai\"\n",
    "print(r[[1]][1])\n",
    "# [1] \"ai\"\n",
    "print(class(r[[1]][1]))\n",
    "# [1] \"character\""
   ]
  },
  {
   "cell_type": "code",
   "execution_count": 13,
   "metadata": {},
   "outputs": [
    {
     "data": {
      "text/html": [
       "<ol>\n",
       "\t<li><ol class=list-inline>\n",
       "\t<li>'빅데이'</li>\n",
       "\t<li>'스크립'</li>\n",
       "\t<li>'머신러'</li>\n",
       "</ol>\n",
       "</li>\n",
       "</ol>\n"
      ],
      "text/latex": [
       "\\begin{enumerate}\n",
       "\\item \\begin{enumerate*}\n",
       "\\item '빅데이'\n",
       "\\item '스크립'\n",
       "\\item '머신러'\n",
       "\\end{enumerate*}\n",
       "\n",
       "\\end{enumerate}\n"
      ],
      "text/markdown": [
       "1. 1. '빅데이'\n",
       "2. '스크립'\n",
       "3. '머신러'\n",
       "\n",
       "\n",
       "\n",
       "\n",
       "\n"
      ],
      "text/plain": [
       "[[1]]\n",
       "[1] \"빅데이\" \"스크립\" \"머신러\"\n"
      ]
     },
     "metadata": {},
     "output_type": "display_data"
    }
   ],
   "source": [
    "string <- '빅데이터2015R스크립트2016머신러닝2017RDATA'\n",
    "# 연속된 한글 3개의 문자 추출\n",
    "str_extract_all(string, '[가-핳]{3}')\n",
    "# '빅데이' '스크립' '머신러'"
   ]
  },
  {
   "cell_type": "code",
   "execution_count": 14,
   "metadata": {},
   "outputs": [
    {
     "data": {
      "text/html": [
       "<ol>\n",
       "\t<li><ol class=list-inline>\n",
       "\t<li>'R'</li>\n",
       "\t<li>'R'</li>\n",
       "\t<li>'D'</li>\n",
       "\t<li>'A'</li>\n",
       "\t<li>'T'</li>\n",
       "\t<li>'A'</li>\n",
       "</ol>\n",
       "</li>\n",
       "</ol>\n"
      ],
      "text/latex": [
       "\\begin{enumerate}\n",
       "\\item \\begin{enumerate*}\n",
       "\\item 'R'\n",
       "\\item 'R'\n",
       "\\item 'D'\n",
       "\\item 'A'\n",
       "\\item 'T'\n",
       "\\item 'A'\n",
       "\\end{enumerate*}\n",
       "\n",
       "\\end{enumerate}\n"
      ],
      "text/markdown": [
       "1. 1. 'R'\n",
       "2. 'R'\n",
       "3. 'D'\n",
       "4. 'A'\n",
       "5. 'T'\n",
       "6. 'A'\n",
       "\n",
       "\n",
       "\n",
       "\n",
       "\n"
      ],
      "text/plain": [
       "[[1]]\n",
       "[1] \"R\" \"R\" \"D\" \"A\" \"T\" \"A\"\n"
      ]
     },
     "metadata": {},
     "output_type": "display_data"
    }
   ],
   "source": [
    "# 대문자 1글자 추출\n",
    "str_extract_all(string, '[A-Z]{1}')\n",
    "# 'R' 'R' 'D' 'A' 'T' 'A'"
   ]
  },
  {
   "cell_type": "code",
   "execution_count": 15,
   "metadata": {},
   "outputs": [
    {
     "data": {
      "text/html": [
       "<ol>\n",
       "\t<li><ol class=list-inline>\n",
       "\t<li>'bigda'</li>\n",
       "\t<li>'Rscri'</li>\n",
       "\t<li>'MACHI'</li>\n",
       "</ol>\n",
       "</li>\n",
       "</ol>\n"
      ],
      "text/latex": [
       "\\begin{enumerate}\n",
       "\\item \\begin{enumerate*}\n",
       "\\item 'bigda'\n",
       "\\item 'Rscri'\n",
       "\\item 'MACHI'\n",
       "\\end{enumerate*}\n",
       "\n",
       "\\end{enumerate}\n"
      ],
      "text/markdown": [
       "1. 1. 'bigda'\n",
       "2. 'Rscri'\n",
       "3. 'MACHI'\n",
       "\n",
       "\n",
       "\n",
       "\n",
       "\n"
      ],
      "text/plain": [
       "[[1]]\n",
       "[1] \"bigda\" \"Rscri\" \"MACHI\"\n"
      ]
     },
     "metadata": {},
     "output_type": "display_data"
    },
    {
     "data": {
      "text/html": [
       "'list'"
      ],
      "text/latex": [
       "'list'"
      ],
      "text/markdown": [
       "'list'"
      ],
      "text/plain": [
       "[1] \"list\""
      ]
     },
     "metadata": {},
     "output_type": "display_data"
    }
   ],
   "source": [
    "string <- 'bigdata2015Rscript2016MACHINE2017'\n",
    "# 대소문자 포함 알파벳이 5개 연속 등장하면 출력\n",
    "r <- str_extract_all(string, '[a-zA-Z]{5}')\n",
    "r\n",
    "class(r)\n",
    "# 'bigda' 'Rscri' 'MACHI'\n",
    "# 'list'"
   ]
  },
  {
   "cell_type": "code",
   "execution_count": 16,
   "metadata": {},
   "outputs": [
    {
     "data": {
      "text/html": [
       "<ol>\n",
       "\t<li><ol class=list-inline>\n",
       "\t<li>'2'</li>\n",
       "\t<li>'0'</li>\n",
       "\t<li>'1'</li>\n",
       "\t<li>'5'</li>\n",
       "\t<li>'2'</li>\n",
       "\t<li>'0'</li>\n",
       "\t<li>'1'</li>\n",
       "\t<li>'6'</li>\n",
       "\t<li>'2'</li>\n",
       "\t<li>'0'</li>\n",
       "\t<li>'1'</li>\n",
       "\t<li>'7'</li>\n",
       "</ol>\n",
       "</li>\n",
       "</ol>\n"
      ],
      "text/latex": [
       "\\begin{enumerate}\n",
       "\\item \\begin{enumerate*}\n",
       "\\item '2'\n",
       "\\item '0'\n",
       "\\item '1'\n",
       "\\item '5'\n",
       "\\item '2'\n",
       "\\item '0'\n",
       "\\item '1'\n",
       "\\item '6'\n",
       "\\item '2'\n",
       "\\item '0'\n",
       "\\item '1'\n",
       "\\item '7'\n",
       "\\end{enumerate*}\n",
       "\n",
       "\\end{enumerate}\n"
      ],
      "text/markdown": [
       "1. 1. '2'\n",
       "2. '0'\n",
       "3. '1'\n",
       "4. '5'\n",
       "5. '2'\n",
       "6. '0'\n",
       "7. '1'\n",
       "8. '6'\n",
       "9. '2'\n",
       "10. '0'\n",
       "11. '1'\n",
       "12. '7'\n",
       "\n",
       "\n",
       "\n",
       "\n",
       "\n"
      ],
      "text/plain": [
       "[[1]]\n",
       " [1] \"2\" \"0\" \"1\" \"5\" \"2\" \"0\" \"1\" \"6\" \"2\" \"0\" \"1\" \"7\"\n"
      ]
     },
     "metadata": {},
     "output_type": "display_data"
    }
   ],
   "source": [
    "# 제외, exclusive\n",
    "r <- str_extract_all(string, '[^a-zA-Z]') # 알파벳 제외 문자 출력\n",
    "r\n",
    "'2' '0' '1' '5' '2' '0' '1' '6' '2' '0' '1' '7'"
   ]
  },
  {
   "cell_type": "code",
   "execution_count": 11,
   "metadata": {},
   "outputs": [
    {
     "data": {
      "text/html": [
       "<ol>\n",
       "\t<li><ol class=list-inline>\n",
       "\t<li>'2015'</li>\n",
       "\t<li>'2016'</li>\n",
       "\t<li>'2017'</li>\n",
       "\t<li>'@#$%'</li>\n",
       "</ol>\n",
       "</li>\n",
       "</ol>\n"
      ],
      "text/latex": [
       "\\begin{enumerate}\n",
       "\\item \\begin{enumerate*}\n",
       "\\item '2015'\n",
       "\\item '2016'\n",
       "\\item '2017'\n",
       "\\item '@\\#\\$\\%'\n",
       "\\end{enumerate*}\n",
       "\n",
       "\\end{enumerate}\n"
      ],
      "text/markdown": [
       "1. 1. '2015'\n",
       "2. '2016'\n",
       "3. '2017'\n",
       "4. '@#$%'\n",
       "\n",
       "\n",
       "\n",
       "\n",
       "\n"
      ],
      "text/plain": [
       "[[1]]\n",
       "[1] \"2015\" \"2016\" \"2017\" \"@#$%\"\n"
      ]
     },
     "metadata": {},
     "output_type": "display_data"
    }
   ],
   "source": [
    "# 알파벳을 제외하고 4자의 문자가 연속해서 구성된 경우 출력\n",
    "string <- '123bigdata2015Rscript2016MACHINE2017@#$%'\n",
    "r <- str_extract_all(string, '[^a-zA-Z]{4}') \n",
    "r\n",
    "# '2015' '2016' '2017' '@#$%'"
   ]
  },
  {
   "cell_type": "code",
   "execution_count": 12,
   "metadata": {},
   "outputs": [
    {
     "data": {
      "text/html": [
       "<ol>\n",
       "\t<li><ol class=list-inline>\n",
       "\t<li>'2015'</li>\n",
       "\t<li>'2016'</li>\n",
       "\t<li>'2017'</li>\n",
       "\t<li>'2019'</li>\n",
       "\t<li>'@#$%'</li>\n",
       "</ol>\n",
       "</li>\n",
       "</ol>\n"
      ],
      "text/latex": [
       "\\begin{enumerate}\n",
       "\\item \\begin{enumerate*}\n",
       "\\item '2015'\n",
       "\\item '2016'\n",
       "\\item '2017'\n",
       "\\item '2019'\n",
       "\\item '@\\#\\$\\%'\n",
       "\\end{enumerate*}\n",
       "\n",
       "\\end{enumerate}\n"
      ],
      "text/markdown": [
       "1. 1. '2015'\n",
       "2. '2016'\n",
       "3. '2017'\n",
       "4. '2019'\n",
       "5. '@#$%'\n",
       "\n",
       "\n",
       "\n",
       "\n",
       "\n"
      ],
      "text/plain": [
       "[[1]]\n",
       "[1] \"2015\" \"2016\" \"2017\" \"2019\" \"@#$%\"\n"
      ]
     },
     "metadata": {},
     "output_type": "display_data"
    }
   ],
   "source": [
    "# 영어, 한글 제외하고 4글자로 구성된 문자열 출력\n",
    "string <- 'bigdata2015Rscript2016MACHINE2017개발자2019@#$%'\n",
    "str_extract_all(string, '[^a-zA-Z가-핳]{4}')\n",
    "# '2015' '2016' '2017' '2019' '@#$%'"
   ]
  },
  {
   "cell_type": "code",
   "execution_count": 15,
   "metadata": {},
   "outputs": [
    {
     "data": {
      "text/html": [
       "<ol>\n",
       "\t<li><ol class=list-inline>\n",
       "\t<li>'b'</li>\n",
       "\t<li>'i'</li>\n",
       "\t<li>'g'</li>\n",
       "\t<li>'d'</li>\n",
       "\t<li>'a'</li>\n",
       "\t<li>'t'</li>\n",
       "\t<li>'a'</li>\n",
       "\t<li>'R'</li>\n",
       "\t<li>'s'</li>\n",
       "\t<li>'c'</li>\n",
       "\t<li>'r'</li>\n",
       "\t<li>'i'</li>\n",
       "\t<li>'p'</li>\n",
       "\t<li>'t'</li>\n",
       "\t<li>'M'</li>\n",
       "\t<li>'A'</li>\n",
       "\t<li>'C'</li>\n",
       "\t<li>'H'</li>\n",
       "\t<li>'I'</li>\n",
       "\t<li>'N'</li>\n",
       "\t<li>'E'</li>\n",
       "\t<li>'개'</li>\n",
       "\t<li>'발'</li>\n",
       "\t<li>'자'</li>\n",
       "\t<li>'@'</li>\n",
       "\t<li>'#'</li>\n",
       "\t<li>'$'</li>\n",
       "\t<li>'%'</li>\n",
       "</ol>\n",
       "</li>\n",
       "</ol>\n"
      ],
      "text/latex": [
       "\\begin{enumerate}\n",
       "\\item \\begin{enumerate*}\n",
       "\\item 'b'\n",
       "\\item 'i'\n",
       "\\item 'g'\n",
       "\\item 'd'\n",
       "\\item 'a'\n",
       "\\item 't'\n",
       "\\item 'a'\n",
       "\\item 'R'\n",
       "\\item 's'\n",
       "\\item 'c'\n",
       "\\item 'r'\n",
       "\\item 'i'\n",
       "\\item 'p'\n",
       "\\item 't'\n",
       "\\item 'M'\n",
       "\\item 'A'\n",
       "\\item 'C'\n",
       "\\item 'H'\n",
       "\\item 'I'\n",
       "\\item 'N'\n",
       "\\item 'E'\n",
       "\\item '개'\n",
       "\\item '발'\n",
       "\\item '자'\n",
       "\\item '@'\n",
       "\\item '\\#'\n",
       "\\item '\\$'\n",
       "\\item '\\%'\n",
       "\\end{enumerate*}\n",
       "\n",
       "\\end{enumerate}\n"
      ],
      "text/markdown": [
       "1. 1. 'b'\n",
       "2. 'i'\n",
       "3. 'g'\n",
       "4. 'd'\n",
       "5. 'a'\n",
       "6. 't'\n",
       "7. 'a'\n",
       "8. 'R'\n",
       "9. 's'\n",
       "10. 'c'\n",
       "11. 'r'\n",
       "12. 'i'\n",
       "13. 'p'\n",
       "14. 't'\n",
       "15. 'M'\n",
       "16. 'A'\n",
       "17. 'C'\n",
       "18. 'H'\n",
       "19. 'I'\n",
       "20. 'N'\n",
       "21. 'E'\n",
       "22. '개'\n",
       "23. '발'\n",
       "24. '자'\n",
       "25. '@'\n",
       "26. '#'\n",
       "27. '$'\n",
       "28. '%'\n",
       "\n",
       "\n",
       "\n",
       "\n",
       "\n"
      ],
      "text/plain": [
       "[[1]]\n",
       " [1] \"b\"  \"i\"  \"g\"  \"d\"  \"a\"  \"t\"  \"a\"  \"R\"  \"s\"  \"c\"  \"r\"  \"i\"  \"p\"  \"t\"  \"M\" \n",
       "[16] \"A\"  \"C\"  \"H\"  \"I\"  \"N\"  \"E\"  \"개\" \"발\" \"자\" \"@\"  \"#\"  \"$\"  \"%\" \n"
      ]
     },
     "metadata": {},
     "output_type": "display_data"
    }
   ],
   "source": [
    "str_extract_all(string, '[^0-9]') # 숫자 제외, 문자만 출력\n",
    "# 'b' 'i' 'g' 'd' 'a' 't' 'a' 'R' 's' 'c' 'r' 'i' 'p' 't' 'M' 'A' 'C' 'H' 'I' 'N' 'E' '개' '발' '자' '@' '#' '$' '%'"
   ]
  },
  {
   "cell_type": "code",
   "execution_count": 14,
   "metadata": {},
   "outputs": [
    {
     "data": {
      "text/html": [
       "<ol>\n",
       "\t<li><ol class=list-inline>\n",
       "\t<li>'bigdata'</li>\n",
       "\t<li>'Rscript'</li>\n",
       "\t<li>'MACHINE'</li>\n",
       "\t<li>'개발자'</li>\n",
       "\t<li>'@#$%'</li>\n",
       "</ol>\n",
       "</li>\n",
       "</ol>\n"
      ],
      "text/latex": [
       "\\begin{enumerate}\n",
       "\\item \\begin{enumerate*}\n",
       "\\item 'bigdata'\n",
       "\\item 'Rscript'\n",
       "\\item 'MACHINE'\n",
       "\\item '개발자'\n",
       "\\item '@\\#\\$\\%'\n",
       "\\end{enumerate*}\n",
       "\n",
       "\\end{enumerate}\n"
      ],
      "text/markdown": [
       "1. 1. 'bigdata'\n",
       "2. 'Rscript'\n",
       "3. 'MACHINE'\n",
       "4. '개발자'\n",
       "5. '@#$%'\n",
       "\n",
       "\n",
       "\n",
       "\n",
       "\n"
      ],
      "text/plain": [
       "[[1]]\n",
       "[1] \"bigdata\" \"Rscript\" \"MACHINE\" \"개발자\"  \"@#$%\"   \n"
      ]
     },
     "metadata": {},
     "output_type": "display_data"
    }
   ],
   "source": [
    "# 숫자 제외, 3자이상 등장한 문자열만 출력\n",
    "str_extract_all(string, '[^0-9]{3,}') \n",
    "# 'bigdata' 'Rscript' 'MACHINE' '개발자' '@#$%'"
   ]
  },
  {
   "cell_type": "code",
   "execution_count": 17,
   "metadata": {},
   "outputs": [
    {
     "data": {
      "text/html": [
       "<ol>\n",
       "\t<li>'123456-1234567'</li>\n",
       "</ol>\n"
      ],
      "text/latex": [
       "\\begin{enumerate}\n",
       "\\item '123456-1234567'\n",
       "\\end{enumerate}\n"
      ],
      "text/markdown": [
       "1. '123456-1234567'\n",
       "\n",
       "\n"
      ],
      "text/plain": [
       "[[1]]\n",
       "[1] \"123456-1234567\"\n"
      ]
     },
     "metadata": {},
     "output_type": "display_data"
    },
    {
     "name": "stdout",
     "output_type": "stream",
     "text": [
      "[1] \"123456-1234567\"\n",
      "[1] \"character\"\n"
     ]
    },
    {
     "data": {
      "text/html": [
       "<ol>\n",
       "\t<li></li>\n",
       "</ol>\n"
      ],
      "text/latex": [
       "\\begin{enumerate}\n",
       "\\item \n",
       "\\end{enumerate}\n"
      ],
      "text/markdown": [
       "1. \n",
       "\n",
       "\n"
      ],
      "text/plain": [
       "[[1]]\n",
       "character(0)\n"
      ]
     },
     "metadata": {},
     "output_type": "display_data"
    }
   ],
   "source": [
    "# 주민등록번호 입력 규칙 검사, 자리수만 검사\n",
    "string <- '123456-1234567'\n",
    "ser <- str_extract_all(string, '[0-9]{6}-[0-9]{7}')\n",
    "ser\n",
    "# '123456-1234567'\n",
    "print(ser[[1]])\n",
    "# \"123456-1234567\"\n",
    "print(class(ser[[1]]))\n",
    "# \"character\"\n",
    "\n",
    "string <- '123456-123456' # 매칭 안됨\n",
    "str_extract_all(string, '[0-9]{6}-[0-9]{7}') \n",
    "# "
   ]
  },
  {
   "cell_type": "code",
   "execution_count": 34,
   "metadata": {},
   "outputs": [
    {
     "data": {
      "text/html": [
       "<ol>\n",
       "\t<li>'123456-1234567'</li>\n",
       "</ol>\n"
      ],
      "text/latex": [
       "\\begin{enumerate}\n",
       "\\item '123456-1234567'\n",
       "\\end{enumerate}\n"
      ],
      "text/markdown": [
       "1. '123456-1234567'\n",
       "\n",
       "\n"
      ],
      "text/plain": [
       "[[1]]\n",
       "[1] \"123456-1234567\"\n"
      ]
     },
     "metadata": {},
     "output_type": "display_data"
    },
    {
     "data": {
      "text/html": [
       "<ol>\n",
       "\t<li></li>\n",
       "</ol>\n"
      ],
      "text/latex": [
       "\\begin{enumerate}\n",
       "\\item \n",
       "\\end{enumerate}\n"
      ],
      "text/markdown": [
       "1. \n",
       "\n",
       "\n"
      ],
      "text/plain": [
       "[[1]]\n",
       "character(0)\n"
      ]
     },
     "metadata": {},
     "output_type": "display_data"
    }
   ],
   "source": [
    "# 성별의 처리\n",
    "string <- '123456-1234567'\n",
    "str_extract_all(string, '[0-9]{6}-[1234][0-9]{6}')\n",
    "# '123456-1234567'\n",
    "string <- '123456-9234567' # 성별은 1,2,3,4중 하나여야함.\n",
    "str_extract_all(string, '[0-9]{6}-[1234][0-9]{6}')\n",
    "# "
   ]
  },
  {
   "cell_type": "code",
   "execution_count": 36,
   "metadata": {},
   "outputs": [
    {
     "data": {
      "text/html": [
       "<ol>\n",
       "\t<li>'123456-1234567'</li>\n",
       "</ol>\n"
      ],
      "text/latex": [
       "\\begin{enumerate}\n",
       "\\item '123456-1234567'\n",
       "\\end{enumerate}\n"
      ],
      "text/markdown": [
       "1. '123456-1234567'\n",
       "\n",
       "\n"
      ],
      "text/plain": [
       "[[1]]\n",
       "[1] \"123456-1234567\"\n"
      ]
     },
     "metadata": {},
     "output_type": "display_data"
    },
    {
     "data": {
      "text/html": [
       "<ol>\n",
       "\t<li></li>\n",
       "</ol>\n"
      ],
      "text/latex": [
       "\\begin{enumerate}\n",
       "\\item \n",
       "\\end{enumerate}\n"
      ],
      "text/markdown": [
       "1. \n",
       "\n",
       "\n"
      ],
      "text/plain": [
       "[[1]]\n",
       "character(0)\n"
      ]
     },
     "metadata": {},
     "output_type": "display_data"
    }
   ],
   "source": [
    "# \\\\d: [0-9] 숫자를 의미함.\n",
    "string <- '123456-1234567'\n",
    "str_extract_all(string, '\\\\d{6}-[1234]\\\\d{6}')\n",
    "# '123456-1234567'\n",
    "\n",
    "string <- '123456-9234567'# 성별은 1,2,3,4중 하나여야함.\n",
    "str_extract_all(string, '\\\\d{6}-[1234]\\\\d{6}')\n",
    "# "
   ]
  },
  {
   "cell_type": "code",
   "execution_count": 18,
   "metadata": {},
   "outputs": [
    {
     "data": {
      "text/html": [
       "<ol>\n",
       "\t<li><ol class=list-inline>\n",
       "\t<li>'홍길동1234'</li>\n",
       "\t<li>'이순신5678'</li>\n",
       "\t<li>'Bigdata'</li>\n",
       "</ol>\n",
       "</li>\n",
       "</ol>\n"
      ],
      "text/latex": [
       "\\begin{enumerate}\n",
       "\\item \\begin{enumerate*}\n",
       "\\item '홍길동1234'\n",
       "\\item '이순신5678'\n",
       "\\item 'Bigdata'\n",
       "\\end{enumerate*}\n",
       "\n",
       "\\end{enumerate}\n"
      ],
      "text/markdown": [
       "1. 1. '홍길동1234'\n",
       "2. '이순신5678'\n",
       "3. 'Bigdata'\n",
       "\n",
       "\n",
       "\n",
       "\n",
       "\n"
      ],
      "text/plain": [
       "[[1]]\n",
       "[1] \"홍길동1234\" \"이순신5678\" \"Bigdata\"   \n"
      ]
     },
     "metadata": {},
     "output_type": "display_data"
    }
   ],
   "source": [
    "# \\\\w: [a-zA-Z가-핳] 특수문자를 제외한 모든 문자(숫자 포함) 중 7자이상 조합 출력\n",
    "# word에는 숫자도 포함, 공백은 제외\n",
    "name <-'홍길동1234, 이순신5678 왕눈이 1012 Bigdata'\n",
    "str_extract_all(name,'\\\\w{7,}')\n",
    "# '홍길동1234' '이순신5678' 'Bigdata'"
   ]
  },
  {
   "cell_type": "code",
   "execution_count": 40,
   "metadata": {},
   "outputs": [
    {
     "data": {
      "text/html": [
       "7"
      ],
      "text/latex": [
       "7"
      ],
      "text/markdown": [
       "7"
      ],
      "text/plain": [
       "[1] 7"
      ]
     },
     "metadata": {},
     "output_type": "display_data"
    }
   ],
   "source": [
    "# str_length()\n",
    "name <-'홍길동1 !A' # 공백도 문자수에는 포함됨, 모든 글자 1개로 처리.\n",
    "len <- str_length(name) \n",
    "len\n",
    "# 7"
   ]
  },
  {
   "cell_type": "code",
   "execution_count": 19,
   "metadata": {},
   "outputs": [
    {
     "data": {
      "text/html": [
       "10"
      ],
      "text/latex": [
       "10"
      ],
      "text/markdown": [
       "10"
      ],
      "text/plain": [
       "[1] 10"
      ]
     },
     "metadata": {},
     "output_type": "display_data"
    },
    {
     "data": {
      "text/html": [
       "'function'"
      ],
      "text/latex": [
       "'function'"
      ],
      "text/markdown": [
       "'function'"
      ],
      "text/plain": [
       "[1] \"function\""
      ]
     },
     "metadata": {},
     "output_type": "display_data"
    }
   ],
   "source": [
    "# 문자의 시작과 끝을 찾음\n",
    "name <-'홍길동1234 !ABC'\n",
    "idx <- str_locate(name, 'ABC') # start index: 1~, 위치 index 추출\n",
    "# idx$start -> 이렇게 접근 불가\n",
    "# idx$end\n",
    "# idx['end'] -> 이렇게도 접근 불가\n",
    "idx[1]\n",
    "# 10\n",
    "class(str)\n",
    "# start\tend\n",
    "# 10\t12\n",
    "# 'matrix'"
   ]
  },
  {
   "cell_type": "code",
   "execution_count": 24,
   "metadata": {},
   "outputs": [
    {
     "data": {
      "text/html": [
       "'홍길동1234 !ABC'"
      ],
      "text/latex": [
       "'홍길동1234 !ABC'"
      ],
      "text/markdown": [
       "'홍길동1234 !ABC'"
      ],
      "text/plain": [
       "[1] \"홍길동1234 !ABC\""
      ]
     },
     "metadata": {},
     "output_type": "display_data"
    },
    {
     "data": {
      "text/html": [
       "'홍길동'"
      ],
      "text/latex": [
       "'홍길동'"
      ],
      "text/markdown": [
       "'홍길동'"
      ],
      "text/plain": [
       "[1] \"홍길동\""
      ]
     },
     "metadata": {},
     "output_type": "display_data"
    },
    {
     "data": {
      "text/html": [
       "''"
      ],
      "text/latex": [
       "''"
      ],
      "text/markdown": [
       "''"
      ],
      "text/plain": [
       "[1] \"\""
      ]
     },
     "metadata": {},
     "output_type": "display_data"
    },
    {
     "data": {
      "text/html": [
       "'123'"
      ],
      "text/latex": [
       "'123'"
      ],
      "text/markdown": [
       "'123'"
      ],
      "text/plain": [
       "[1] \"123\""
      ]
     },
     "metadata": {},
     "output_type": "display_data"
    }
   ],
   "source": [
    "name\n",
    "# '홍길동1234 !ABC'\n",
    "n <- str_sub(name, 1, 3) # 문자열 추출, start index: 1, end index: 1\n",
    "n\n",
    "# '홍길동'\n",
    "n <- str_sub(name, 4, 3) # 문자열 추출()\n",
    "n\n",
    "# ''\n",
    "n <- str_sub(name, 4, 6) # 문자열 추출(4,5,6)\n",
    "n\n",
    "# '123'"
   ]
  },
  {
   "cell_type": "code",
   "execution_count": 25,
   "metadata": {},
   "outputs": [
    {
     "data": {
      "text/html": [
       "'BIGDATA'"
      ],
      "text/latex": [
       "'BIGDATA'"
      ],
      "text/markdown": [
       "'BIGDATA'"
      ],
      "text/plain": [
       "[1] \"BIGDATA\""
      ]
     },
     "metadata": {},
     "output_type": "display_data"
    },
    {
     "data": {
      "text/html": [
       "'bigdata'"
      ],
      "text/latex": [
       "'bigdata'"
      ],
      "text/markdown": [
       "'bigdata'"
      ],
      "text/plain": [
       "[1] \"bigdata\""
      ]
     },
     "metadata": {},
     "output_type": "display_data"
    }
   ],
   "source": [
    "str_to_upper('Bigdata') # 대문자로 변경\n",
    "# 'BIGDATA'\n",
    "str_to_lower('Bigdata') # 소문자로 변경\n",
    "# 'bigdata'"
   ]
  },
  {
   "cell_type": "code",
   "execution_count": 46,
   "metadata": {},
   "outputs": [
    {
     "data": {
      "text/html": [
       "'bigdata2019 ai2010'"
      ],
      "text/latex": [
       "'bigdata2019 ai2010'"
      ],
      "text/markdown": [
       "'bigdata2019 ai2010'"
      ],
      "text/plain": [
       "[1] \"bigdata2019 ai2010\""
      ]
     },
     "metadata": {},
     "output_type": "display_data"
    },
    {
     "data": {
      "text/html": [
       "'bigdata2019 bigdata2010'"
      ],
      "text/latex": [
       "'bigdata2019 bigdata2010'"
      ],
      "text/markdown": [
       "'bigdata2019 bigdata2010'"
      ],
      "text/plain": [
       "[1] \"bigdata2019 bigdata2010\""
      ]
     },
     "metadata": {},
     "output_type": "display_data"
    }
   ],
   "source": [
    "str_replace('ai2019 ai2010', 'ai', 'bigdata') # 첫번째 문자만 변경\n",
    "str_replace_all('ai2019 ai2010', 'ai', 'bigdata') # 모든 문자 변경\n",
    "# 'bigdata2019 ai2010'\n",
    "# 'bigdata2019 bigdata2010'"
   ]
  },
  {
   "cell_type": "code",
   "execution_count": 47,
   "metadata": {},
   "outputs": [
    {
     "data": {
      "text/html": [
       "'bigdata ai'"
      ],
      "text/latex": [
       "'bigdata ai'"
      ],
      "text/markdown": [
       "'bigdata ai'"
      ],
      "text/plain": [
       "[1] \"bigdata ai\""
      ]
     },
     "metadata": {},
     "output_type": "display_data"
    }
   ],
   "source": [
    "str_c('bigdata', ' ', 'ai') # 문자열 결합\n",
    "# 'bigdata ai'"
   ]
  },
  {
   "cell_type": "code",
   "execution_count": 48,
   "metadata": {},
   "outputs": [
    {
     "name": "stdout",
     "output_type": "stream",
     "text": [
      "[[1]]\n",
      "[1] \"bigdata\" \"ai\"     \n",
      "\n"
     ]
    },
    {
     "data": {
      "text/html": [
       "'list'"
      ],
      "text/latex": [
       "'list'"
      ],
      "text/markdown": [
       "'list'"
      ],
      "text/plain": [
       "[1] \"list\""
      ]
     },
     "metadata": {},
     "output_type": "display_data"
    }
   ],
   "source": [
    "p <- str_split('bigdata,ai', ',') # 구분로 분리 -> 리스트 반환\n",
    "print(p)\n",
    "class(p)\n",
    "# [[1]]\n",
    "# [1] \"bigdata\" \"ai\"     \n",
    "\n",
    "# 'list'"
   ]
  },
  {
   "cell_type": "code",
   "execution_count": 49,
   "metadata": {},
   "outputs": [
    {
     "data": {
      "text/html": [
       "<ol class=list-inline>\n",
       "\t<li>'data'</li>\n",
       "\t<li>'analysis'</li>\n",
       "\t<li>'statistic'</li>\n",
       "</ol>\n"
      ],
      "text/latex": [
       "\\begin{enumerate*}\n",
       "\\item 'data'\n",
       "\\item 'analysis'\n",
       "\\item 'statistic'\n",
       "\\end{enumerate*}\n"
      ],
      "text/markdown": [
       "1. 'data'\n",
       "2. 'analysis'\n",
       "3. 'statistic'\n",
       "\n",
       "\n"
      ],
      "text/plain": [
       "[1] \"data\"      \"analysis\"  \"statistic\""
      ]
     },
     "metadata": {},
     "output_type": "display_data"
    }
   ],
   "source": [
    "str <- c('data', 'analysis', 'statistic') # 문자열 vector\n",
    "str\n",
    "# 'data' 'analysis' 'statistic'"
   ]
  },
  {
   "cell_type": "code",
   "execution_count": 50,
   "metadata": {},
   "outputs": [
    {
     "data": {
      "text/html": [
       "'data,analysis,statistic'"
      ],
      "text/latex": [
       "'data,analysis,statistic'"
      ],
      "text/markdown": [
       "'data,analysis,statistic'"
      ],
      "text/plain": [
       "[1] \"data,analysis,statistic\""
      ]
     },
     "metadata": {},
     "output_type": "display_data"
    }
   ],
   "source": [
    "str_join <- paste(str, collapse=',')  # 구분자를 이용한 문자열 결합\n",
    "str_join\n",
    "# 'data,analysis,statistic'"
   ]
  },
  {
   "cell_type": "code",
   "execution_count": null,
   "metadata": {},
   "outputs": [],
   "source": []
  },
  {
   "cell_type": "code",
   "execution_count": null,
   "metadata": {},
   "outputs": [],
   "source": []
  },
  {
   "cell_type": "code",
   "execution_count": null,
   "metadata": {},
   "outputs": [],
   "source": []
  },
  {
   "cell_type": "code",
   "execution_count": null,
   "metadata": {},
   "outputs": [],
   "source": []
  },
  {
   "cell_type": "code",
   "execution_count": null,
   "metadata": {},
   "outputs": [],
   "source": []
  },
  {
   "cell_type": "code",
   "execution_count": null,
   "metadata": {},
   "outputs": [],
   "source": []
  }
 ],
 "metadata": {
  "kernelspec": {
   "display_name": "R",
   "language": "R",
   "name": "ir"
  },
  "language_info": {
   "codemirror_mode": "r",
   "file_extension": ".r",
   "mimetype": "text/x-r-source",
   "name": "R",
   "pygments_lexer": "r",
   "version": "3.6.1"
  }
 },
 "nbformat": 4,
 "nbformat_minor": 2
}
