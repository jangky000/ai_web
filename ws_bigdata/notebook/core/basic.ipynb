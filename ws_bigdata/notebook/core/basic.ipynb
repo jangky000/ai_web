{
 "cells": [
  {
   "cell_type": "markdown",
   "metadata": {},
   "source": [
    "### R 데이터 구조, 데이터의 종류, 벡터(Vector), 연산자, 벡터 생성 함"
   ]
  },
  {
   "cell_type": "code",
   "execution_count": 5,
   "metadata": {},
   "outputs": [
    {
     "name": "stdout",
     "output_type": "stream",
     "text": [
      "[1] -1\n"
     ]
    }
   ],
   "source": [
    "# 경고 메시지 숨기기\n",
    "old <- getOption('warn') # default: 0, <-: 할당, =보다 <-를 더 많이 사용\n",
    "print(old)\n",
    "options(warn = -1)"
   ]
  },
  {
   "cell_type": "code",
   "execution_count": 7,
   "metadata": {},
   "outputs": [
    {
     "name": "stdout",
     "output_type": "stream",
     "text": [
      "[1] 0\n",
      "[1] 1\n"
     ]
    }
   ],
   "source": [
    "var1 <- 0\n",
    "print(var1)\n",
    "var1 = 1\n",
    "print(var1)"
   ]
  },
  {
   "cell_type": "code",
   "execution_count": 8,
   "metadata": {},
   "outputs": [
    {
     "name": "stdout",
     "output_type": "stream",
     "text": [
      "[1] \"아로미\"\n"
     ]
    }
   ],
   "source": [
    "name <- \"아로미\" # 데이터 타입이 없음\n",
    "print(name)"
   ]
  },
  {
   "cell_type": "code",
   "execution_count": 30,
   "metadata": {},
   "outputs": [
    {
     "name": "stdout",
     "output_type": "stream",
     "text": [
      "[1] TRUE\n",
      "[1] FALSE\n"
     ]
    }
   ],
   "source": [
    "bol <- TRUE # 대문자만 가능, 대소문자 구분\n",
    "print(bol)\n",
    "# bol <- false \n",
    "# Error in eval(expr, envir, enclos): 객체 'false'를 찾을 수 없습니다\n",
    "bol <- FALSE\n",
    "print(bol)"
   ]
  },
  {
   "cell_type": "code",
   "execution_count": 14,
   "metadata": {},
   "outputs": [
    {
     "data": {
      "text/html": [
       "60"
      ],
      "text/latex": [
       "60"
      ],
      "text/markdown": [
       "60"
      ],
      "text/plain": [
       "[1] 60"
      ]
     },
     "metadata": {},
     "output_type": "display_data"
    },
    {
     "data": {
      "text/html": [
       "&lt;NA&gt;"
      ],
      "text/latex": [
       "<NA>"
      ],
      "text/markdown": [
       "&lt;NA&gt;"
      ],
      "text/plain": [
       "[1] NA"
      ]
     },
     "metadata": {},
     "output_type": "display_data"
    },
    {
     "data": {
      "text/html": [
       "60"
      ],
      "text/latex": [
       "60"
      ],
      "text/markdown": [
       "60"
      ],
      "text/plain": [
       "[1] 60"
      ]
     },
     "metadata": {},
     "output_type": "display_data"
    }
   ],
   "source": [
    "sum(10, 20, 30) # 60\n",
    "sum(10, 20, 30, NA) # NA: not available: 사용할 수 없다.(null)\n",
    "#결과: <NA>\n",
    "sum(10, 20, 30, NA, na.rm=T) # NA 제거 TRUE \n",
    "# 결과: 60"
   ]
  },
  {
   "cell_type": "code",
   "execution_count": 15,
   "metadata": {},
   "outputs": [
    {
     "data": {
      "text/html": [
       "<ol class=list-inline>\n",
       "\t<li>'bol'</li>\n",
       "\t<li>'name'</li>\n",
       "\t<li>'old'</li>\n",
       "\t<li>'var1'</li>\n",
       "</ol>\n"
      ],
      "text/latex": [
       "\\begin{enumerate*}\n",
       "\\item 'bol'\n",
       "\\item 'name'\n",
       "\\item 'old'\n",
       "\\item 'var1'\n",
       "\\end{enumerate*}\n"
      ],
      "text/markdown": [
       "1. 'bol'\n",
       "2. 'name'\n",
       "3. 'old'\n",
       "4. 'var1'\n",
       "\n",
       "\n"
      ],
      "text/plain": [
       "[1] \"bol\"  \"name\" \"old\"  \"var1\""
      ]
     },
     "metadata": {},
     "output_type": "display_data"
    }
   ],
   "source": [
    "ls() # 메모리에 올라간 변수의 목록"
   ]
  },
  {
   "cell_type": "code",
   "execution_count": 16,
   "metadata": {},
   "outputs": [
    {
     "ename": "ERROR",
     "evalue": "Error in type(bol): 함수 \"type\"를 찾을 수 없습니다\n",
     "output_type": "error",
     "traceback": [
      "Error in type(bol): 함수 \"type\"를 찾을 수 없습니다\nTraceback:\n",
      "1. print(type(bol))"
     ]
    }
   ],
   "source": [
    "print(type(bol))\n",
    "# Error in type(bol): 함수 \"type\"를 찾을 수 없습니다"
   ]
  },
  {
   "cell_type": "code",
   "execution_count": 26,
   "metadata": {},
   "outputs": [
    {
     "data": {
      "text/html": [
       "TRUE"
      ],
      "text/latex": [
       "TRUE"
      ],
      "text/markdown": [
       "TRUE"
      ],
      "text/plain": [
       "[1] TRUE"
      ]
     },
     "metadata": {},
     "output_type": "display_data"
    },
    {
     "data": {
      "text/html": [
       "TRUE"
      ],
      "text/latex": [
       "TRUE"
      ],
      "text/markdown": [
       "TRUE"
      ],
      "text/plain": [
       "[1] TRUE"
      ]
     },
     "metadata": {},
     "output_type": "display_data"
    },
    {
     "data": {
      "text/html": [
       "TRUE"
      ],
      "text/latex": [
       "TRUE"
      ],
      "text/markdown": [
       "TRUE"
      ],
      "text/plain": [
       "[1] TRUE"
      ]
     },
     "metadata": {},
     "output_type": "display_data"
    },
    {
     "data": {
      "text/html": [
       "FALSE"
      ],
      "text/latex": [
       "FALSE"
      ],
      "text/markdown": [
       "FALSE"
      ],
      "text/plain": [
       "[1] FALSE"
      ]
     },
     "metadata": {},
     "output_type": "display_data"
    },
    {
     "data": {
      "text/html": [
       "'numeric'"
      ],
      "text/latex": [
       "'numeric'"
      ],
      "text/markdown": [
       "'numeric'"
      ],
      "text/plain": [
       "[1] \"numeric\""
      ]
     },
     "metadata": {},
     "output_type": "display_data"
    },
    {
     "data": {
      "text/html": [
       "'numeric'"
      ],
      "text/latex": [
       "'numeric'"
      ],
      "text/markdown": [
       "'numeric'"
      ],
      "text/plain": [
       "[1] \"numeric\""
      ]
     },
     "metadata": {},
     "output_type": "display_data"
    }
   ],
   "source": [
    "# 데이터 타입의 확인, type은 쓸 수 없다.\n",
    "is.character(name) # 문자냐, TRUE\n",
    "is.numeric(var1) # 숫자냐, TRUE\n",
    "is.logical(bol) #boolean이냐 TRUE\n",
    "is.na(var1) #NA냐 FALSE\n",
    "mode(var1) # 데이터의 형태: 'numeric'\n",
    "class(var1) # R자료구조 타입: 'numeric'"
   ]
  },
  {
   "cell_type": "code",
   "execution_count": 24,
   "metadata": {},
   "outputs": [
    {
     "name": "stdout",
     "output_type": "stream",
     "text": [
      "[1] 1 2 3\n",
      "[1] \"1\" \"2\" \"3\"\n"
     ]
    }
   ],
   "source": [
    "# vector의 생성: 특정한 속성에 속한 값들의 배열, DBMS의 칼럼들\n",
    "x <- c(1, 2, 3)\n",
    "print(x)\n",
    "x <- c(1,2,\"3\") # 요소 중에 문자열이 있으면 전부 문자열로 변경되어 출력\n",
    "print(x)"
   ]
  },
  {
   "cell_type": "code",
   "execution_count": 29,
   "metadata": {
    "scrolled": true
   },
   "outputs": [
    {
     "name": "stdout",
     "output_type": "stream",
     "text": [
      "[1] 60 70 80 90 60\n"
     ]
    },
    {
     "data": {
      "text/plain": [
       "mat\n",
       "60 70 80 90 \n",
       " 2  1  1  1 "
      ]
     },
     "metadata": {},
     "output_type": "display_data"
    },
    {
     "data": {
      "text/html": [
       "'numeric'"
      ],
      "text/latex": [
       "'numeric'"
      ],
      "text/markdown": [
       "'numeric'"
      ],
      "text/plain": [
       "[1] \"numeric\""
      ]
     },
     "metadata": {},
     "output_type": "display_data"
    },
    {
     "data": {
      "text/html": [
       "'numeric'"
      ],
      "text/latex": [
       "'numeric'"
      ],
      "text/markdown": [
       "'numeric'"
      ],
      "text/plain": [
       "[1] \"numeric\""
      ]
     },
     "metadata": {},
     "output_type": "display_data"
    }
   ],
   "source": [
    "mat <- c(60, 70, 80, 90, 60)\n",
    "print(mat) # 60 70 80 90 60\n",
    "\n",
    "table(mat) # 빈도 분석\n",
    "# mat\n",
    "# 60 70 80 90 \n",
    "#  2  1  1  1 \n",
    "mode(mat) # 'numeric'\n",
    "class(mat) # 'numeric'"
   ]
  },
  {
   "cell_type": "code",
   "execution_count": 4,
   "metadata": {},
   "outputs": [
    {
     "data": {
      "text/html": [
       "<ol class=list-inline>\n",
       "\t<li>'A'</li>\n",
       "\t<li>'B'</li>\n",
       "\t<li>'C'</li>\n",
       "\t<li>'A'</li>\n",
       "\t<li>'B'</li>\n",
       "</ol>\n"
      ],
      "text/latex": [
       "\\begin{enumerate*}\n",
       "\\item 'A'\n",
       "\\item 'B'\n",
       "\\item 'C'\n",
       "\\item 'A'\n",
       "\\item 'B'\n",
       "\\end{enumerate*}\n"
      ],
      "text/markdown": [
       "1. 'A'\n",
       "2. 'B'\n",
       "3. 'C'\n",
       "4. 'A'\n",
       "5. 'B'\n",
       "\n",
       "\n"
      ],
      "text/plain": [
       "[1] \"A\" \"B\" \"C\" \"A\" \"B\""
      ]
     },
     "metadata": {},
     "output_type": "display_data"
    },
    {
     "data": {
      "text/plain": [
       "grade\n",
       "A B C \n",
       "2 2 1 "
      ]
     },
     "metadata": {},
     "output_type": "display_data"
    },
    {
     "data": {
      "text/html": [
       "'character'"
      ],
      "text/latex": [
       "'character'"
      ],
      "text/markdown": [
       "'character'"
      ],
      "text/plain": [
       "[1] \"character\""
      ]
     },
     "metadata": {},
     "output_type": "display_data"
    },
    {
     "data": {
      "text/html": [
       "'character'"
      ],
      "text/latex": [
       "'character'"
      ],
      "text/markdown": [
       "'character'"
      ],
      "text/plain": [
       "[1] \"character\""
      ]
     },
     "metadata": {},
     "output_type": "display_data"
    }
   ],
   "source": [
    "grade = c(\"A\", \"B\", \"C\", \"A\", \"B\")\n",
    "grade\n",
    "table(grade)\n",
    "# grade\n",
    "# A B C \n",
    "# 2 2 1\n",
    "mode(grade) # 'character'\n",
    "class(grade) # 'character'"
   ]
  },
  {
   "cell_type": "code",
   "execution_count": 5,
   "metadata": {},
   "outputs": [],
   "source": [
    "library(repr) #repr 라이브러리 사용\n",
    "options(repr.plot.width=3, repr.plot.height=3) # plot 크기 inch 지정"
   ]
  },
  {
   "cell_type": "code",
   "execution_count": 9,
   "metadata": {},
   "outputs": [
    {
     "data": {
      "image/png": "[encoded data removed]",
      "text/plain": [
       "plot without title"
      ]
     },
     "metadata": {},
     "output_type": "display_data"
    }
   ],
   "source": [
    "# plot(grade) # grade는 vector(데이터의 나열) 타입이기 때문에 에러\n",
    "# Error in plot.window(...): 유한한 값들만이 'ylim'에 사용될 수 있습니다\n",
    "plot(table(grade))"
   ]
  },
  {
   "cell_type": "code",
   "execution_count": 10,
   "metadata": {},
   "outputs": [
    {
     "data": {
      "text/html": [
       "FALSE"
      ],
      "text/latex": [
       "FALSE"
      ],
      "text/markdown": [
       "FALSE"
      ],
      "text/plain": [
       "[1] FALSE"
      ]
     },
     "metadata": {},
     "output_type": "display_data"
    }
   ],
   "source": [
    "is.factor(grade) # FALSE\n",
    "# factor: 그룹화가 가능한 데이터의 나열"
   ]
  },
  {
   "cell_type": "code",
   "execution_count": 11,
   "metadata": {},
   "outputs": [
    {
     "data": {
      "text/html": [
       "'numeric'"
      ],
      "text/latex": [
       "'numeric'"
      ],
      "text/markdown": [
       "'numeric'"
      ],
      "text/plain": [
       "[1] \"numeric\""
      ]
     },
     "metadata": {},
     "output_type": "display_data"
    },
    {
     "data": {
      "text/html": [
       "'factor'"
      ],
      "text/latex": [
       "'factor'"
      ],
      "text/markdown": [
       "'factor'"
      ],
      "text/plain": [
       "[1] \"factor\""
      ]
     },
     "metadata": {},
     "output_type": "display_data"
    }
   ],
   "source": [
    "fgrade <- as.factor(grade) # vector ->factor로 변환\n",
    "mode(fgrade) # 'numeric'\n",
    "class(fgrade) # 'factor'"
   ]
  },
  {
   "cell_type": "code",
   "execution_count": 12,
   "metadata": {},
   "outputs": [
    {
     "data": {
      "image/png": "[encoded data removed]",
      "text/plain": [
       "plot without title"
      ]
     },
     "metadata": {},
     "output_type": "display_data"
    }
   ],
   "source": [
    "plot(fgrade)"
   ]
  },
  {
   "cell_type": "code",
   "execution_count": 14,
   "metadata": {},
   "outputs": [
    {
     "data": {
      "text/plain": [
       "farea\n",
       "강원 경기 서울 \n",
       "   1    2    2 "
      ]
     },
     "metadata": {},
     "output_type": "display_data"
    },
    {
     "data": {
      "image/png": "[encoded data removed]",
      "text/plain": [
       "plot without title"
      ]
     },
     "metadata": {},
     "output_type": "display_data"
    }
   ],
   "source": [
    "area = c('서울', '경기', '강원', '서울', '경기')\n",
    "farea = as.factor(area)\n",
    "table(farea)\n",
    "plot(farea)\n",
    "# farea\n",
    "# 강원 경기 서울 \n",
    "#    1    2    2 "
   ]
  },
  {
   "cell_type": "code",
   "execution_count": 16,
   "metadata": {},
   "outputs": [
    {
     "name": "stdout",
     "output_type": "stream",
     "text": [
      "[1] \"2019-05-29\"\n",
      "[1] \"numeric\"\n",
      "[1] \"Date\"\n",
      "[1] \"0019-05-29\"\n",
      "[1] \"numeric\"\n",
      "[1] \"Date\"\n"
     ]
    }
   ],
   "source": [
    "#y: 년도가 2자리인경우 소문자 y\n",
    "date <- as.Date(\"19/05/29\", \"%y/%m/%d\")  \n",
    "print(date) # \"2019-05-29\"\n",
    "print(mode(date)) # \"numeric\"\n",
    "print(class(date)) # \"Date\"\n",
    "date <- as.Date(\"19/05/29\", \"%Y/%m/%d\")  \n",
    "print(date) # \"0019-05-29\"\n",
    "print(mode(date)) # \"\"numeric\"\n",
    "print(class(date)) # \"Date\""
   ]
  },
  {
   "cell_type": "code",
   "execution_count": 17,
   "metadata": {},
   "outputs": [
    {
     "name": "stdout",
     "output_type": "stream",
     "text": [
      "[1] NA\n",
      "[1] \"numeric\"\n",
      "[1] \"Date\"\n",
      "[1] \"2019-05-29\"\n",
      "[1] \"numeric\"\n",
      "[1] \"Date\"\n"
     ]
    }
   ],
   "source": [
    "date <- as.Date(\"2019/05/29\", \"%y/%m/%d\") \n",
    "print(date) #  NA: 4 자리의 년도에 소문자 y를 쓰면 안됨\n",
    "print(mode(date)) # \"numeric\"\n",
    "print(class(date)) # \"Date\"\n",
    "date <- as.Date(\"2019/05/29\", \"%Y/%m/%d\") \n",
    "print(date) # \"2019-05-29\"\n",
    "print(mode(date)) # \"numeric\"\n",
    "print(class(date)) # \"Date\""
   ]
  },
  {
   "cell_type": "code",
   "execution_count": 18,
   "metadata": {},
   "outputs": [
    {
     "data": {
      "text/html": [
       "<ol class=list-inline>\n",
       "\t<li><time datetime=\"2019-02-28\">2019-02-28</time></li>\n",
       "\t<li><time datetime=\"&lt;NA&gt;\">&lt;NA&gt;</time></li>\n",
       "\t<li><time datetime=\"2019-03-01\">2019-03-01</time></li>\n",
       "</ol>\n"
      ],
      "text/latex": [
       "\\begin{enumerate*}\n",
       "\\item 2019-02-28\n",
       "\\item <NA>\n",
       "\\item 2019-03-01\n",
       "\\end{enumerate*}\n"
      ],
      "text/markdown": [
       "1. 2019-02-28\n",
       "2. &lt;NA&gt;\n",
       "3. 2019-03-01\n",
       "\n",
       "\n"
      ],
      "text/plain": [
       "[1] \"2019-02-28\" NA           \"2019-03-01\""
      ]
     },
     "metadata": {},
     "output_type": "display_data"
    },
    {
     "data": {
      "text/html": [
       "<ol class=list-inline>\n",
       "\t<li><time datetime=\"2020-02-28\">2020-02-28</time></li>\n",
       "\t<li><time datetime=\"2020-02-29\">2020-02-29</time></li>\n",
       "\t<li><time datetime=\"2020-03-01\">2020-03-01</time></li>\n",
       "</ol>\n"
      ],
      "text/latex": [
       "\\begin{enumerate*}\n",
       "\\item 2020-02-28\n",
       "\\item 2020-02-29\n",
       "\\item 2020-03-01\n",
       "\\end{enumerate*}\n"
      ],
      "text/markdown": [
       "1. 2020-02-28\n",
       "2. 2020-02-29\n",
       "3. 2020-03-01\n",
       "\n",
       "\n"
      ],
      "text/plain": [
       "[1] \"2020-02-28\" \"2020-02-29\" \"2020-03-01\""
      ]
     },
     "metadata": {},
     "output_type": "display_data"
    }
   ],
   "source": [
    "#y: 년도가 4자리인경우 대문자 Y\n",
    "# 존재하지 않는 날짜: NA 출력\n",
    "dates <- c('2019/02/28', '2019/02/29', '2019/03/01') \n",
    "dates <- as.Date(dates, \"%Y/%m/%d\")\n",
    "dates # 2019-02-28 <NA> 2019-03-01, 없는 날짜 -> NA\n",
    "dates <- c('2020/02/28', '2020/02/29', '2020/03/01') \n",
    "dates <- as.Date(dates, \"%Y/%m/%d\")\n",
    "dates # 2020-02-28 2020-02-29 2020-03-01"
   ]
  },
  {
   "cell_type": "code",
   "execution_count": 19,
   "metadata": {},
   "outputs": [
    {
     "name": "stdout",
     "output_type": "stream",
     "text": [
      "[1] \"2020-05-26 16:41:15 KST\"\n",
      "[1] \"numeric\"\n",
      "[1] \"POSIXct\" \"POSIXt\" \n"
     ]
    }
   ],
   "source": [
    "# Sys.date()  # ERROR\n",
    "time <- Sys.time()\n",
    "print(time) # \"2020-05-26 16:41:15 KST\" : 한국 시간: korean standard time\n",
    "print(mode(time)) # \"numeric\"\n",
    "print(class(time)) # \"POSIXct\" \"POSIXt\" \n",
    "  "
   ]
  },
  {
   "cell_type": "code",
   "execution_count": 20,
   "metadata": {},
   "outputs": [
    {
     "data": {
      "text/plain": [
       "[1] \"2020-05-26 KST\""
      ]
     },
     "metadata": {},
     "output_type": "display_data"
    },
    {
     "data": {
      "text/plain": [
       "[1] \"2020-05-26 16:41:15 KST\""
      ]
     },
     "metadata": {},
     "output_type": "display_data"
    }
   ],
   "source": [
    "today <- strptime(time, format=\"%Y-%m-%d\")\n",
    "today # \"2020-05-26 KST\"\n",
    "today <- strptime(time, format=\"%Y-%m-%d %H:%M:%S\")\n",
    "today # \"2020-05-26 16:41:15 KST\""
   ]
  },
  {
   "cell_type": "code",
   "execution_count": 22,
   "metadata": {
    "scrolled": true
   },
   "outputs": [],
   "source": [
    "# 도움말\n",
    "# help(sum)\n",
    "# ?sum\n",
    "# args(sum)\n",
    "# example(sum)"
   ]
  },
  {
   "cell_type": "code",
   "execution_count": 23,
   "metadata": {},
   "outputs": [
    {
     "data": {
      "text/html": [
       "15"
      ],
      "text/latex": [
       "15"
      ],
      "text/markdown": [
       "15"
      ],
      "text/plain": [
       "[1] 15"
      ]
     },
     "metadata": {},
     "output_type": "display_data"
    },
    {
     "data": {
      "text/html": [
       "15"
      ],
      "text/latex": [
       "15"
      ],
      "text/markdown": [
       "15"
      ],
      "text/plain": [
       "[1] 15"
      ]
     },
     "metadata": {},
     "output_type": "display_data"
    },
    {
     "data": {
      "text/html": [
       "15"
      ],
      "text/latex": [
       "15"
      ],
      "text/markdown": [
       "15"
      ],
      "text/plain": [
       "[1] 15"
      ]
     },
     "metadata": {},
     "output_type": "display_data"
    },
    {
     "data": {
      "text/html": [
       "&lt;NA&gt;"
      ],
      "text/latex": [
       "<NA>"
      ],
      "text/markdown": [
       "&lt;NA&gt;"
      ],
      "text/plain": [
       "[1] NA"
      ]
     },
     "metadata": {},
     "output_type": "display_data"
    },
    {
     "data": {
      "text/html": [
       "15"
      ],
      "text/latex": [
       "15"
      ],
      "text/markdown": [
       "15"
      ],
      "text/plain": [
       "[1] 15"
      ]
     },
     "metadata": {},
     "output_type": "display_data"
    }
   ],
   "source": [
    "# 마지막 숫자가 포함됨: \n",
    "# 보통의 프로그래밍 언어는 마지막 값(last max value)을 포함하지 않음\n",
    "sum(1:5) # 15\n",
    "sum(1, 2, 3, 4, 5) # 15\n",
    "sum(1:2, 3:5) # 15\n",
    "sum(1:5, NA) # <NA>\n",
    "sum(1:5, NA, na.rm = TRUE) # 15, NA remove"
   ]
  },
  {
   "cell_type": "code",
   "execution_count": 24,
   "metadata": {},
   "outputs": [
    {
     "data": {
      "text/html": [
       "'C:/ai6/ws_bigdata/notebook/core'"
      ],
      "text/latex": [
       "'C:/ai6/ws\\_bigdata/notebook/core'"
      ],
      "text/markdown": [
       "'C:/ai6/ws_bigdata/notebook/core'"
      ],
      "text/plain": [
       "[1] \"C:/ai6/ws_bigdata/notebook/core\""
      ]
     },
     "metadata": {},
     "output_type": "display_data"
    }
   ],
   "source": [
    "getwd()\n",
    "# 'C:/ai6/ws_bigdata/notebook/core'"
   ]
  },
  {
   "cell_type": "code",
   "execution_count": 26,
   "metadata": {},
   "outputs": [
    {
     "data": {
      "text/html": [
       "<table>\n",
       "<thead><tr><th scope=col>성명</th><th scope=col>급여</th><th scope=col>경력</th></tr></thead>\n",
       "<tbody>\n",
       "\t<tr><td>왕눈이 </td><td>1800000</td><td>1      </td></tr>\n",
       "\t<tr><td>아로미 </td><td>2000000</td><td>2      </td></tr>\n",
       "\t<tr><td>홍길동 </td><td>2500000</td><td>3      </td></tr>\n",
       "\t<tr><td>가길순 </td><td>3000000</td><td>5      </td></tr>\n",
       "\t<tr><td>나길순 </td><td>3800000</td><td>9      </td></tr>\n",
       "</tbody>\n",
       "</table>\n"
      ],
      "text/latex": [
       "\\begin{tabular}{r|lll}\n",
       " 성명 & 급여 & 경력\\\\\n",
       "\\hline\n",
       "\t 왕눈이  & 1800000 & 1      \\\\\n",
       "\t 아로미  & 2000000 & 2      \\\\\n",
       "\t 홍길동  & 2500000 & 3      \\\\\n",
       "\t 가길순  & 3000000 & 5      \\\\\n",
       "\t 나길순  & 3800000 & 9      \\\\\n",
       "\\end{tabular}\n"
      ],
      "text/markdown": [
       "\n",
       "| 성명 | 급여 | 경력 |\n",
       "|---|---|---|\n",
       "| 왕눈이  | 1800000 | 1       |\n",
       "| 아로미  | 2000000 | 2       |\n",
       "| 홍길동  | 2500000 | 3       |\n",
       "| 가길순  | 3000000 | 5       |\n",
       "| 나길순  | 3800000 | 9       |\n",
       "\n"
      ],
      "text/plain": [
       "  성명   급여    경력\n",
       "1 왕눈이 1800000 1   \n",
       "2 아로미 2000000 2   \n",
       "3 홍길동 2500000 3   \n",
       "4 가길순 3000000 5   \n",
       "5 나길순 3800000 9   "
      ]
     },
     "metadata": {},
     "output_type": "display_data"
    }
   ],
   "source": [
    "# 파일 읽기, 한글 깨지지 않게 utf-8 설정\n",
    "pay <- read.csv('./files/pay.csv', \n",
    "                fileEncoding='utf-8', encoding='utf-8')\n",
    "pay\n",
    "# 성명\t급여\t경력\n",
    "# 왕눈이\t1800000\t1\n",
    "# 아로미\t2000000\t2\n",
    "# 홍길동\t2500000\t3\n",
    "# 가길순\t3000000\t5\n",
    "# 나길순\t3800000\t9\n"
   ]
  },
  {
   "cell_type": "code",
   "execution_count": 27,
   "metadata": {},
   "outputs": [
    {
     "data": {
      "text/html": [
       "<table>\n",
       "<thead><tr><th scope=col>성명</th><th scope=col>급여</th><th scope=col>경력</th></tr></thead>\n",
       "<tbody>\n",
       "\t<tr><td>왕눈이 </td><td>1800000</td><td>1      </td></tr>\n",
       "\t<tr><td>아로미 </td><td>2000000</td><td>2      </td></tr>\n",
       "\t<tr><td>홍길동 </td><td>2500000</td><td>3      </td></tr>\n",
       "\t<tr><td>가길순 </td><td>3000000</td><td>5      </td></tr>\n",
       "\t<tr><td>나길순 </td><td>3800000</td><td>9      </td></tr>\n",
       "</tbody>\n",
       "</table>\n"
      ],
      "text/latex": [
       "\\begin{tabular}{r|lll}\n",
       " 성명 & 급여 & 경력\\\\\n",
       "\\hline\n",
       "\t 왕눈이  & 1800000 & 1      \\\\\n",
       "\t 아로미  & 2000000 & 2      \\\\\n",
       "\t 홍길동  & 2500000 & 3      \\\\\n",
       "\t 가길순  & 3000000 & 5      \\\\\n",
       "\t 나길순  & 3800000 & 9      \\\\\n",
       "\\end{tabular}\n"
      ],
      "text/markdown": [
       "\n",
       "| 성명 | 급여 | 경력 |\n",
       "|---|---|---|\n",
       "| 왕눈이  | 1800000 | 1       |\n",
       "| 아로미  | 2000000 | 2       |\n",
       "| 홍길동  | 2500000 | 3       |\n",
       "| 가길순  | 3000000 | 5       |\n",
       "| 나길순  | 3800000 | 9       |\n",
       "\n"
      ],
      "text/plain": [
       "  성명   급여    경력\n",
       "1 왕눈이 1800000 1   \n",
       "2 아로미 2000000 2   \n",
       "3 홍길동 2500000 3   \n",
       "4 가길순 3000000 5   \n",
       "5 나길순 3800000 9   "
      ]
     },
     "metadata": {},
     "output_type": "display_data"
    }
   ],
   "source": [
    "# 기본 입출력 폴더 설정\n",
    "setwd('C:/ai6/ws_bigdata/notebook/core/files')\n",
    "pay <- read.csv('pay.csv', \n",
    "                fileEncoding='utf-8', encoding='utf-8')\n",
    "pay\n",
    "# 성명\t급여\t경력\n",
    "# 왕눈이\t1800000\t1\n",
    "# 아로미\t2000000\t2\n",
    "# 홍길동\t2500000\t3\n",
    "# 가길순\t3000000\t5\n",
    "# 나길순\t3800000\t9"
   ]
  },
  {
   "cell_type": "code",
   "execution_count": null,
   "metadata": {},
   "outputs": [],
   "source": []
  },
  {
   "cell_type": "code",
   "execution_count": null,
   "metadata": {},
   "outputs": [],
   "source": []
  },
  {
   "cell_type": "code",
   "execution_count": null,
   "metadata": {},
   "outputs": [],
   "source": []
  },
  {
   "cell_type": "code",
   "execution_count": null,
   "metadata": {},
   "outputs": [],
   "source": []
  },
  {
   "cell_type": "code",
   "execution_count": null,
   "metadata": {},
   "outputs": [],
   "source": []
  },
  {
   "cell_type": "code",
   "execution_count": null,
   "metadata": {},
   "outputs": [],
   "source": []
  },
  {
   "cell_type": "code",
   "execution_count": null,
   "metadata": {},
   "outputs": [],
   "source": []
  },
  {
   "cell_type": "code",
   "execution_count": null,
   "metadata": {},
   "outputs": [],
   "source": []
  },
  {
   "cell_type": "code",
   "execution_count": null,
   "metadata": {},
   "outputs": [],
   "source": []
  },
  {
   "cell_type": "code",
   "execution_count": null,
   "metadata": {},
   "outputs": [],
   "source": []
  },
  {
   "cell_type": "code",
   "execution_count": null,
   "metadata": {},
   "outputs": [],
   "source": []
  },
  {
   "cell_type": "code",
   "execution_count": null,
   "metadata": {},
   "outputs": [],
   "source": []
  }
 ],
 "metadata": {
  "kernelspec": {
   "display_name": "R",
   "language": "R",
   "name": "ir"
  },
  "language_info": {
   "codemirror_mode": "r",
   "file_extension": ".r",
   "mimetype": "text/x-r-source",
   "name": "R",
   "pygments_lexer": "r",
   "version": "3.6.1"
  }
 },
 "nbformat": 4,
 "nbformat_minor": 2
}
