{
 "cells": [
  {
   "cell_type": "code",
   "execution_count": 4,
   "metadata": {},
   "outputs": [
    {
     "name": "stderr",
     "output_type": "stream",
     "text": [
      "Warning message:\n",
      "\"package 'dplyr' was built under R version 3.6.3\"\n",
      "Attaching package: 'dplyr'\n",
      "\n",
      "The following objects are masked from 'package:stats':\n",
      "\n",
      "    filter, lag\n",
      "\n",
      "The following objects are masked from 'package:base':\n",
      "\n",
      "    intersect, setdiff, setequal, union\n",
      "\n"
     ]
    }
   ],
   "source": [
    "# 라이브러리 가져오기\n",
    "#  문서마다 메모리 공유하지 않는 것 같음\n",
    "library(dplyr)"
   ]
  },
  {
   "cell_type": "code",
   "execution_count": 5,
   "metadata": {},
   "outputs": [],
   "source": [
    "exam <- read.csv(\"./files/exam.csv\", fileEncoding='utf-8', encoding='utf-8')"
   ]
  },
  {
   "cell_type": "code",
   "execution_count": 5,
   "metadata": {},
   "outputs": [
    {
     "data": {
      "text/html": [
       "<table>\n",
       "<thead><tr><th scope=col>id</th><th scope=col>class</th><th scope=col>math</th><th scope=col>english</th><th scope=col>science</th></tr></thead>\n",
       "<tbody>\n",
       "\t<tr><td>1 </td><td>1 </td><td>50</td><td>98</td><td>50</td></tr>\n",
       "\t<tr><td>2 </td><td>1 </td><td>60</td><td>97</td><td>60</td></tr>\n",
       "\t<tr><td>3 </td><td>1 </td><td>45</td><td>86</td><td>78</td></tr>\n",
       "\t<tr><td>4 </td><td>1 </td><td>30</td><td>98</td><td>58</td></tr>\n",
       "\t<tr><td>5 </td><td>2 </td><td>25</td><td>80</td><td>65</td></tr>\n",
       "\t<tr><td>6 </td><td>2 </td><td>50</td><td>89</td><td>98</td></tr>\n",
       "</tbody>\n",
       "</table>\n"
      ],
      "text/latex": [
       "\\begin{tabular}{r|lllll}\n",
       " id & class & math & english & science\\\\\n",
       "\\hline\n",
       "\t 1  & 1  & 50 & 98 & 50\\\\\n",
       "\t 2  & 1  & 60 & 97 & 60\\\\\n",
       "\t 3  & 1  & 45 & 86 & 78\\\\\n",
       "\t 4  & 1  & 30 & 98 & 58\\\\\n",
       "\t 5  & 2  & 25 & 80 & 65\\\\\n",
       "\t 6  & 2  & 50 & 89 & 98\\\\\n",
       "\\end{tabular}\n"
      ],
      "text/markdown": [
       "\n",
       "| id | class | math | english | science |\n",
       "|---|---|---|---|---|\n",
       "| 1  | 1  | 50 | 98 | 50 |\n",
       "| 2  | 1  | 60 | 97 | 60 |\n",
       "| 3  | 1  | 45 | 86 | 78 |\n",
       "| 4  | 1  | 30 | 98 | 58 |\n",
       "| 5  | 2  | 25 | 80 | 65 |\n",
       "| 6  | 2  | 50 | 89 | 98 |\n",
       "\n"
      ],
      "text/plain": [
       "  id class math english science\n",
       "1 1  1     50   98      50     \n",
       "2 2  1     60   97      60     \n",
       "3 3  1     45   86      78     \n",
       "4 4  1     30   98      58     \n",
       "5 5  2     25   80      65     \n",
       "6 6  2     50   89      98     "
      ]
     },
     "metadata": {},
     "output_type": "display_data"
    }
   ],
   "source": [
    "exam  %>% head()"
   ]
  },
  {
   "cell_type": "code",
   "execution_count": 7,
   "metadata": {},
   "outputs": [
    {
     "data": {
      "text/html": [
       "<table>\n",
       "<thead><tr><th scope=col>mean</th></tr></thead>\n",
       "<tbody>\n",
       "\t<tr><td>57.45</td></tr>\n",
       "</tbody>\n",
       "</table>\n"
      ],
      "text/latex": [
       "\\begin{tabular}{r|l}\n",
       " mean\\\\\n",
       "\\hline\n",
       "\t 57.45\\\\\n",
       "\\end{tabular}\n"
      ],
      "text/markdown": [
       "\n",
       "| mean |\n",
       "|---|\n",
       "| 57.45 |\n",
       "\n"
      ],
      "text/plain": [
       "  mean \n",
       "1 57.45"
      ]
     },
     "metadata": {},
     "output_type": "display_data"
    },
    {
     "data": {
      "text/html": [
       "57.45"
      ],
      "text/latex": [
       "57.45"
      ],
      "text/markdown": [
       "57.45"
      ],
      "text/plain": [
       "[1] 57.45"
      ]
     },
     "metadata": {},
     "output_type": "display_data"
    }
   ],
   "source": [
    "# 수학의 전체 평균\n",
    "exam  %>% summarize(mean = mean(math))\n",
    "# exam$math %>% mean()"
   ]
  },
  {
   "cell_type": "code",
   "execution_count": 8,
   "metadata": {},
   "outputs": [
    {
     "data": {
      "text/html": [
       "<table>\n",
       "<thead><tr><th scope=col>math_mean</th></tr></thead>\n",
       "<tbody>\n",
       "\t<tr><td>46.25</td></tr>\n",
       "</tbody>\n",
       "</table>\n"
      ],
      "text/latex": [
       "\\begin{tabular}{r|l}\n",
       " math\\_mean\\\\\n",
       "\\hline\n",
       "\t 46.25\\\\\n",
       "\\end{tabular}\n"
      ],
      "text/markdown": [
       "\n",
       "| math_mean |\n",
       "|---|\n",
       "| 46.25 |\n",
       "\n"
      ],
      "text/plain": [
       "  math_mean\n",
       "1 46.25    "
      ]
     },
     "metadata": {},
     "output_type": "display_data"
    }
   ],
   "source": [
    "# 1반의 수학의 평균\n",
    "exam %>% filter(class == 1) %>% summarise(math_mean = mean(math))\n",
    "# mutate 그룹화된 결과가 지원안됨, 변수 추가가 주요 목적임.\n",
    "# exam %>% filter(class == 1) %>% mutate(math_mean = mean(math))"
   ]
  },
  {
   "cell_type": "code",
   "execution_count": 9,
   "metadata": {},
   "outputs": [
    {
     "data": {
      "text/html": [
       "<table>\n",
       "<thead><tr><th scope=col>math_mean</th></tr></thead>\n",
       "<tbody>\n",
       "\t<tr><td>46.25</td></tr>\n",
       "</tbody>\n",
       "</table>\n"
      ],
      "text/latex": [
       "\\begin{tabular}{r|l}\n",
       " math\\_mean\\\\\n",
       "\\hline\n",
       "\t 46.25\\\\\n",
       "\\end{tabular}\n"
      ],
      "text/markdown": [
       "\n",
       "| math_mean |\n",
       "|---|\n",
       "| 46.25 |\n",
       "\n"
      ],
      "text/plain": [
       "  math_mean\n",
       "1 46.25    "
      ]
     },
     "metadata": {},
     "output_type": "display_data"
    },
    {
     "data": {
      "text/html": [
       "'data.frame'"
      ],
      "text/latex": [
       "'data.frame'"
      ],
      "text/markdown": [
       "'data.frame'"
      ],
      "text/plain": [
       "[1] \"data.frame\""
      ]
     },
     "metadata": {},
     "output_type": "display_data"
    }
   ],
   "source": [
    "# 요약이 발생함.\n",
    "exam2 <- exam %>% filter(class == 1) %>% summarise(math_mean = mean(math))\n",
    "exam2\n",
    "class(exam2) # 'data.frame'"
   ]
  },
  {
   "cell_type": "code",
   "execution_count": 10,
   "metadata": {},
   "outputs": [
    {
     "data": {
      "text/html": [
       "<table>\n",
       "<thead><tr><th scope=col>class</th><th scope=col>math_mean</th></tr></thead>\n",
       "<tbody>\n",
       "\t<tr><td>1    </td><td>46.25</td></tr>\n",
       "\t<tr><td>2    </td><td>61.25</td></tr>\n",
       "\t<tr><td>3    </td><td>45.00</td></tr>\n",
       "\t<tr><td>4    </td><td>56.75</td></tr>\n",
       "\t<tr><td>5    </td><td>78.00</td></tr>\n",
       "</tbody>\n",
       "</table>\n"
      ],
      "text/latex": [
       "\\begin{tabular}{r|ll}\n",
       " class & math\\_mean\\\\\n",
       "\\hline\n",
       "\t 1     & 46.25\\\\\n",
       "\t 2     & 61.25\\\\\n",
       "\t 3     & 45.00\\\\\n",
       "\t 4     & 56.75\\\\\n",
       "\t 5     & 78.00\\\\\n",
       "\\end{tabular}\n"
      ],
      "text/markdown": [
       "\n",
       "| class | math_mean |\n",
       "|---|---|\n",
       "| 1     | 46.25 |\n",
       "| 2     | 61.25 |\n",
       "| 3     | 45.00 |\n",
       "| 4     | 56.75 |\n",
       "| 5     | 78.00 |\n",
       "\n"
      ],
      "text/plain": [
       "  class math_mean\n",
       "1 1     46.25    \n",
       "2 2     61.25    \n",
       "3 3     45.00    \n",
       "4 4     56.75    \n",
       "5 5     78.00    "
      ]
     },
     "metadata": {},
     "output_type": "display_data"
    }
   ],
   "source": [
    "# summarise는 group by와 함께 쓰임\n",
    "# 반별 수학의 평균\n",
    "exam2 <- exam %>% group_by(class) %>% summarise(math_mean = mean(math))\n",
    "# mutate 그룹화된 결과가 지원안됨, 변수 추가가 주요 목적임. 기존 데이터에 추가\n",
    "# exam %>% group_by(class) %>% mutate(math_mean = mean(math))\n",
    "exam2 # 새로운 결과 도출\n",
    "# class\tmath_mean\n",
    "# 1\t46.25\n",
    "# 2\t61.25\n",
    "# 3\t45.00\n",
    "# 4\t56.75\n",
    "# 5\t78.00\n"
   ]
  },
  {
   "cell_type": "code",
   "execution_count": 11,
   "metadata": {},
   "outputs": [
    {
     "data": {
      "text/html": [
       "<table>\n",
       "<thead><tr><th scope=col>class</th><th scope=col>math_mean</th></tr></thead>\n",
       "<tbody>\n",
       "\t<tr><td>5    </td><td>78.00</td></tr>\n",
       "\t<tr><td>2    </td><td>61.25</td></tr>\n",
       "\t<tr><td>4    </td><td>56.75</td></tr>\n",
       "\t<tr><td>1    </td><td>46.25</td></tr>\n",
       "\t<tr><td>3    </td><td>45.00</td></tr>\n",
       "</tbody>\n",
       "</table>\n"
      ],
      "text/latex": [
       "\\begin{tabular}{r|ll}\n",
       " class & math\\_mean\\\\\n",
       "\\hline\n",
       "\t 5     & 78.00\\\\\n",
       "\t 2     & 61.25\\\\\n",
       "\t 4     & 56.75\\\\\n",
       "\t 1     & 46.25\\\\\n",
       "\t 3     & 45.00\\\\\n",
       "\\end{tabular}\n"
      ],
      "text/markdown": [
       "\n",
       "| class | math_mean |\n",
       "|---|---|\n",
       "| 5     | 78.00 |\n",
       "| 2     | 61.25 |\n",
       "| 4     | 56.75 |\n",
       "| 1     | 46.25 |\n",
       "| 3     | 45.00 |\n",
       "\n"
      ],
      "text/plain": [
       "  class math_mean\n",
       "1 5     78.00    \n",
       "2 2     61.25    \n",
       "3 4     56.75    \n",
       "4 1     46.25    \n",
       "5 3     45.00    "
      ]
     },
     "metadata": {},
     "output_type": "display_data"
    }
   ],
   "source": [
    "# 반별 수학의 평균의 내림차순 정렬, 5반이 가장 우수\n",
    "exam %>% \n",
    "  group_by(class) %>% \n",
    "  summarise(math_mean = mean(math)) %>% \n",
    "  arrange(desc(math_mean))"
   ]
  },
  {
   "cell_type": "code",
   "execution_count": 13,
   "metadata": {},
   "outputs": [
    {
     "data": {
      "text/html": [
       "<table>\n",
       "<thead><tr><th scope=col>class</th><th scope=col>math_mean</th><th scope=col>cnt</th></tr></thead>\n",
       "<tbody>\n",
       "\t<tr><td>1    </td><td>46.25</td><td>4    </td></tr>\n",
       "\t<tr><td>2    </td><td>61.25</td><td>4    </td></tr>\n",
       "\t<tr><td>3    </td><td>45.00</td><td>4    </td></tr>\n",
       "\t<tr><td>4    </td><td>56.75</td><td>4    </td></tr>\n",
       "\t<tr><td>5    </td><td>78.00</td><td>4    </td></tr>\n",
       "</tbody>\n",
       "</table>\n"
      ],
      "text/latex": [
       "\\begin{tabular}{r|lll}\n",
       " class & math\\_mean & cnt\\\\\n",
       "\\hline\n",
       "\t 1     & 46.25 & 4    \\\\\n",
       "\t 2     & 61.25 & 4    \\\\\n",
       "\t 3     & 45.00 & 4    \\\\\n",
       "\t 4     & 56.75 & 4    \\\\\n",
       "\t 5     & 78.00 & 4    \\\\\n",
       "\\end{tabular}\n"
      ],
      "text/markdown": [
       "\n",
       "| class | math_mean | cnt |\n",
       "|---|---|---|\n",
       "| 1     | 46.25 | 4     |\n",
       "| 2     | 61.25 | 4     |\n",
       "| 3     | 45.00 | 4     |\n",
       "| 4     | 56.75 | 4     |\n",
       "| 5     | 78.00 | 4     |\n",
       "\n"
      ],
      "text/plain": [
       "  class math_mean cnt\n",
       "1 1     46.25     4  \n",
       "2 2     61.25     4  \n",
       "3 3     45.00     4  \n",
       "4 4     56.75     4  \n",
       "5 5     78.00     4  "
      ]
     },
     "metadata": {},
     "output_type": "display_data"
    }
   ],
   "source": [
    "# 반별 수학 평균 출력, 학생수도 출력\n",
    "exam  %>% \n",
    "    group_by(class) %>% \n",
    "    summarise(math_mean = mean(math), cnt=n())"
   ]
  },
  {
   "cell_type": "code",
   "execution_count": 16,
   "metadata": {},
   "outputs": [
    {
     "data": {
      "text/html": [
       "<table>\n",
       "<thead><tr><th scope=col>class</th><th scope=col>sum</th><th scope=col>mean</th><th scope=col>min</th><th scope=col>median</th><th scope=col>max</th><th scope=col>var</th><th scope=col>sd</th><th scope=col>cnt</th></tr></thead>\n",
       "<tbody>\n",
       "\t<tr><td>5    </td><td>312  </td><td>78.00</td><td>65   </td><td>79.0 </td><td>89   </td><td> 98  </td><td>10   </td><td>4    </td></tr>\n",
       "\t<tr><td>2    </td><td>245  </td><td>61.25</td><td>25   </td><td>65.0 </td><td>90   </td><td>873  </td><td>30   </td><td>4    </td></tr>\n",
       "\t<tr><td>4    </td><td>227  </td><td>56.75</td><td>46   </td><td>53.0 </td><td>75   </td><td>176  </td><td>13   </td><td>4    </td></tr>\n",
       "\t<tr><td>1    </td><td>185  </td><td>46.25</td><td>30   </td><td>47.5 </td><td>60   </td><td>156  </td><td>12   </td><td>4    </td></tr>\n",
       "\t<tr><td>3    </td><td>180  </td><td>45.00</td><td>20   </td><td>47.5 </td><td>65   </td><td>350  </td><td>19   </td><td>4    </td></tr>\n",
       "</tbody>\n",
       "</table>\n"
      ],
      "text/latex": [
       "\\begin{tabular}{r|lllllllll}\n",
       " class & sum & mean & min & median & max & var & sd & cnt\\\\\n",
       "\\hline\n",
       "\t 5     & 312   & 78.00 & 65    & 79.0  & 89    &  98   & 10    & 4    \\\\\n",
       "\t 2     & 245   & 61.25 & 25    & 65.0  & 90    & 873   & 30    & 4    \\\\\n",
       "\t 4     & 227   & 56.75 & 46    & 53.0  & 75    & 176   & 13    & 4    \\\\\n",
       "\t 1     & 185   & 46.25 & 30    & 47.5  & 60    & 156   & 12    & 4    \\\\\n",
       "\t 3     & 180   & 45.00 & 20    & 47.5  & 65    & 350   & 19    & 4    \\\\\n",
       "\\end{tabular}\n"
      ],
      "text/markdown": [
       "\n",
       "| class | sum | mean | min | median | max | var | sd | cnt |\n",
       "|---|---|---|---|---|---|---|---|---|\n",
       "| 5     | 312   | 78.00 | 65    | 79.0  | 89    |  98   | 10    | 4     |\n",
       "| 2     | 245   | 61.25 | 25    | 65.0  | 90    | 873   | 30    | 4     |\n",
       "| 4     | 227   | 56.75 | 46    | 53.0  | 75    | 176   | 13    | 4     |\n",
       "| 1     | 185   | 46.25 | 30    | 47.5  | 60    | 156   | 12    | 4     |\n",
       "| 3     | 180   | 45.00 | 20    | 47.5  | 65    | 350   | 19    | 4     |\n",
       "\n"
      ],
      "text/plain": [
       "  class sum mean  min median max var sd cnt\n",
       "1 5     312 78.00 65  79.0   89   98 10 4  \n",
       "2 2     245 61.25 25  65.0   90  873 30 4  \n",
       "3 4     227 56.75 46  53.0   75  176 13 4  \n",
       "4 1     185 46.25 30  47.5   60  156 12 4  \n",
       "5 3     180 45.00 20  47.5   65  350 19 4  "
      ]
     },
     "metadata": {},
     "output_type": "display_data"
    }
   ],
   "source": [
    "# 반별 수학 합계, 평균, 최소, 중앙값, 최대, 분산, 표준편차,\n",
    "# 학생수 출력, 정렬 추가    \n",
    "exam %>% \n",
    "  group_by(class) %>% \n",
    "  summarise(\n",
    "    sum = sum(math),\n",
    "    mean = mean(math),\n",
    "    min = min(math),\n",
    "    median = median(math),\n",
    "    max = max(math),\n",
    "    var = round(var(math)),\n",
    "    sd = round(sd(math)),\n",
    "    cnt = n()\n",
    "  ) %>% \n",
    "  arrange(desc(mean))"
   ]
  },
  {
   "cell_type": "code",
   "execution_count": 6,
   "metadata": {},
   "outputs": [
    {
     "data": {
      "text/html": [
       "'data.frame'"
      ],
      "text/latex": [
       "'data.frame'"
      ],
      "text/markdown": [
       "'data.frame'"
      ],
      "text/plain": [
       "[1] \"data.frame\""
      ]
     },
     "metadata": {},
     "output_type": "display_data"
    },
    {
     "name": "stdout",
     "output_type": "stream",
     "text": [
      "'data.frame':\t234 obs. of  11 variables:\n",
      " $ manufacturer: chr  \"audi\" \"audi\" \"audi\" \"audi\" ...\n",
      " $ model       : chr  \"a4\" \"a4\" \"a4\" \"a4\" ...\n",
      " $ displ       : num  1.8 1.8 2 2 2.8 2.8 3.1 1.8 1.8 2 ...\n",
      " $ year        : int  1999 1999 2008 2008 1999 1999 2008 1999 1999 2008 ...\n",
      " $ cyl         : int  4 4 4 4 6 6 6 4 4 4 ...\n",
      " $ trans       : chr  \"auto(l5)\" \"manual(m5)\" \"manual(m6)\" \"auto(av)\" ...\n",
      " $ drv         : chr  \"f\" \"f\" \"f\" \"f\" ...\n",
      " $ cty         : int  18 21 20 21 16 18 18 18 16 20 ...\n",
      " $ hwy         : int  29 29 31 30 26 26 27 26 25 28 ...\n",
      " $ fl          : chr  \"p\" \"p\" \"p\" \"p\" ...\n",
      " $ class       : chr  \"compact\" \"compact\" \"compact\" \"compact\" ...\n"
     ]
    }
   ],
   "source": [
    "mpg <-as.data.frame(ggplot2::mpg)\n",
    "class(mpg)\n",
    "str(mpg)"
   ]
  },
  {
   "cell_type": "code",
   "execution_count": 19,
   "metadata": {},
   "outputs": [
    {
     "data": {
      "text/html": [
       "<ol class=list-inline>\n",
       "\t<li>'compact'</li>\n",
       "\t<li>'midsize'</li>\n",
       "\t<li>'suv'</li>\n",
       "\t<li>'2seater'</li>\n",
       "\t<li>'minivan'</li>\n",
       "\t<li>'pickup'</li>\n",
       "\t<li>'subcompact'</li>\n",
       "</ol>\n"
      ],
      "text/latex": [
       "\\begin{enumerate*}\n",
       "\\item 'compact'\n",
       "\\item 'midsize'\n",
       "\\item 'suv'\n",
       "\\item '2seater'\n",
       "\\item 'minivan'\n",
       "\\item 'pickup'\n",
       "\\item 'subcompact'\n",
       "\\end{enumerate*}\n"
      ],
      "text/markdown": [
       "1. 'compact'\n",
       "2. 'midsize'\n",
       "3. 'suv'\n",
       "4. '2seater'\n",
       "5. 'minivan'\n",
       "6. 'pickup'\n",
       "7. 'subcompact'\n",
       "\n",
       "\n"
      ],
      "text/plain": [
       "[1] \"compact\"    \"midsize\"    \"suv\"        \"2seater\"    \"minivan\"   \n",
       "[6] \"pickup\"     \"subcompact\""
      ]
     },
     "metadata": {},
     "output_type": "display_data"
    }
   ],
   "source": [
    "# 1. mpg 데이터의 class는 \"suv,\"compact\" 등 자동차를 특징에 따라\n",
    "#    일곱 종류로 분류한 변수이다.\n",
    "#    어떤 차종의 도시 연비가 높은지 비교해 보려고 한다. \n",
    "#    class별 cty 평균을 구해 연비별 내림차순 정렬한후 5개차종만 출력.\n",
    "unique(mpg$class)"
   ]
  },
  {
   "cell_type": "code",
   "execution_count": 23,
   "metadata": {},
   "outputs": [
    {
     "data": {
      "text/html": [
       "<table>\n",
       "<thead><tr><th scope=col>class</th><th scope=col>mean</th></tr></thead>\n",
       "<tbody>\n",
       "\t<tr><td>subcompact</td><td>20.37143  </td></tr>\n",
       "\t<tr><td>compact   </td><td>20.12766  </td></tr>\n",
       "\t<tr><td>midsize   </td><td>18.75610  </td></tr>\n",
       "\t<tr><td>minivan   </td><td>15.81818  </td></tr>\n",
       "\t<tr><td>2seater   </td><td>15.40000  </td></tr>\n",
       "</tbody>\n",
       "</table>\n"
      ],
      "text/latex": [
       "\\begin{tabular}{r|ll}\n",
       " class & mean\\\\\n",
       "\\hline\n",
       "\t subcompact & 20.37143  \\\\\n",
       "\t compact    & 20.12766  \\\\\n",
       "\t midsize    & 18.75610  \\\\\n",
       "\t minivan    & 15.81818  \\\\\n",
       "\t 2seater    & 15.40000  \\\\\n",
       "\\end{tabular}\n"
      ],
      "text/markdown": [
       "\n",
       "| class | mean |\n",
       "|---|---|\n",
       "| subcompact | 20.37143   |\n",
       "| compact    | 20.12766   |\n",
       "| midsize    | 18.75610   |\n",
       "| minivan    | 15.81818   |\n",
       "| 2seater    | 15.40000   |\n",
       "\n"
      ],
      "text/plain": [
       "  class      mean    \n",
       "1 subcompact 20.37143\n",
       "2 compact    20.12766\n",
       "3 midsize    18.75610\n",
       "4 minivan    15.81818\n",
       "5 2seater    15.40000"
      ]
     },
     "metadata": {},
     "output_type": "display_data"
    }
   ],
   "source": [
    "# 연비가 가장 좋은 클래스 5개를 추출\n",
    "mpg  %>% \n",
    "    group_by(class) %>% \n",
    "    summarise(mean = mean(cty))  %>% \n",
    "    arrange(-mean)  %>% \n",
    "    head(5)"
   ]
  },
  {
   "cell_type": "code",
   "execution_count": 25,
   "metadata": {},
   "outputs": [
    {
     "data": {
      "text/html": [
       "<table>\n",
       "<thead><tr><th scope=col>manufacturer</th><th scope=col>mean</th></tr></thead>\n",
       "<tbody>\n",
       "\t<tr><td>honda     </td><td>32.6      </td></tr>\n",
       "\t<tr><td>volkswagen</td><td>29.2      </td></tr>\n",
       "\t<tr><td>hyundai   </td><td>26.9      </td></tr>\n",
       "</tbody>\n",
       "</table>\n"
      ],
      "text/latex": [
       "\\begin{tabular}{r|ll}\n",
       " manufacturer & mean\\\\\n",
       "\\hline\n",
       "\t honda      & 32.6      \\\\\n",
       "\t volkswagen & 29.2      \\\\\n",
       "\t hyundai    & 26.9      \\\\\n",
       "\\end{tabular}\n"
      ],
      "text/markdown": [
       "\n",
       "| manufacturer | mean |\n",
       "|---|---|\n",
       "| honda      | 32.6       |\n",
       "| volkswagen | 29.2       |\n",
       "| hyundai    | 26.9       |\n",
       "\n"
      ],
      "text/plain": [
       "  manufacturer mean\n",
       "1 honda        32.6\n",
       "2 volkswagen   29.2\n",
       "3 hyundai      26.9"
      ]
     },
     "metadata": {},
     "output_type": "display_data"
    }
   ],
   "source": [
    "# 2. 어떤 회사(manufacturer) 자동차의 hwy(고속도로 연비)가 \n",
    "#    가장 높은지 알아보려고 한다.\n",
    "#    hwy 평균이 가장 높은 회사 3곳을 정렬하여 출력 할 것\n",
    "# 평균 소수점 첫째 자리까지 반올림\n",
    "mpg %>% \n",
    "  group_by(manufacturer) %>% \n",
    "  summarise(mean = round(mean(hwy), 1)) %>% \n",
    "  arrange(desc(mean)) %>% \n",
    "  head(3)"
   ]
  },
  {
   "cell_type": "code",
   "execution_count": 26,
   "metadata": {},
   "outputs": [
    {
     "data": {
      "text/html": [
       "<table>\n",
       "<thead><tr><th scope=col>manufacturer</th><th scope=col>year</th><th scope=col>class</th><th scope=col>drv</th><th scope=col>model</th></tr></thead>\n",
       "<tbody>\n",
       "\t<tr><td>hyundai   </td><td>1999      </td><td>midsize   </td><td>f         </td><td>sonata    </td></tr>\n",
       "\t<tr><td>hyundai   </td><td>1999      </td><td>midsize   </td><td>f         </td><td>sonata    </td></tr>\n",
       "\t<tr><td>hyundai   </td><td>2008      </td><td>midsize   </td><td>f         </td><td>sonata    </td></tr>\n",
       "\t<tr><td>hyundai   </td><td>2008      </td><td>midsize   </td><td>f         </td><td>sonata    </td></tr>\n",
       "\t<tr><td>hyundai   </td><td>1999      </td><td>midsize   </td><td>f         </td><td>sonata    </td></tr>\n",
       "\t<tr><td>hyundai   </td><td>1999      </td><td>midsize   </td><td>f         </td><td>sonata    </td></tr>\n",
       "\t<tr><td>hyundai   </td><td>2008      </td><td>midsize   </td><td>f         </td><td>sonata    </td></tr>\n",
       "\t<tr><td>hyundai   </td><td>1999      </td><td>subcompact</td><td>f         </td><td>tiburon   </td></tr>\n",
       "\t<tr><td>hyundai   </td><td>1999      </td><td>subcompact</td><td>f         </td><td>tiburon   </td></tr>\n",
       "\t<tr><td>hyundai   </td><td>2008      </td><td>subcompact</td><td>f         </td><td>tiburon   </td></tr>\n",
       "\t<tr><td>hyundai   </td><td>2008      </td><td>subcompact</td><td>f         </td><td>tiburon   </td></tr>\n",
       "\t<tr><td>hyundai   </td><td>2008      </td><td>subcompact</td><td>f         </td><td>tiburon   </td></tr>\n",
       "\t<tr><td>hyundai   </td><td>2008      </td><td>subcompact</td><td>f         </td><td>tiburon   </td></tr>\n",
       "\t<tr><td>hyundai   </td><td>2008      </td><td>subcompact</td><td>f         </td><td>tiburon   </td></tr>\n",
       "</tbody>\n",
       "</table>\n"
      ],
      "text/latex": [
       "\\begin{tabular}{r|lllll}\n",
       " manufacturer & year & class & drv & model\\\\\n",
       "\\hline\n",
       "\t hyundai    & 1999       & midsize    & f          & sonata    \\\\\n",
       "\t hyundai    & 1999       & midsize    & f          & sonata    \\\\\n",
       "\t hyundai    & 2008       & midsize    & f          & sonata    \\\\\n",
       "\t hyundai    & 2008       & midsize    & f          & sonata    \\\\\n",
       "\t hyundai    & 1999       & midsize    & f          & sonata    \\\\\n",
       "\t hyundai    & 1999       & midsize    & f          & sonata    \\\\\n",
       "\t hyundai    & 2008       & midsize    & f          & sonata    \\\\\n",
       "\t hyundai    & 1999       & subcompact & f          & tiburon   \\\\\n",
       "\t hyundai    & 1999       & subcompact & f          & tiburon   \\\\\n",
       "\t hyundai    & 2008       & subcompact & f          & tiburon   \\\\\n",
       "\t hyundai    & 2008       & subcompact & f          & tiburon   \\\\\n",
       "\t hyundai    & 2008       & subcompact & f          & tiburon   \\\\\n",
       "\t hyundai    & 2008       & subcompact & f          & tiburon   \\\\\n",
       "\t hyundai    & 2008       & subcompact & f          & tiburon   \\\\\n",
       "\\end{tabular}\n"
      ],
      "text/markdown": [
       "\n",
       "| manufacturer | year | class | drv | model |\n",
       "|---|---|---|---|---|\n",
       "| hyundai    | 1999       | midsize    | f          | sonata     |\n",
       "| hyundai    | 1999       | midsize    | f          | sonata     |\n",
       "| hyundai    | 2008       | midsize    | f          | sonata     |\n",
       "| hyundai    | 2008       | midsize    | f          | sonata     |\n",
       "| hyundai    | 1999       | midsize    | f          | sonata     |\n",
       "| hyundai    | 1999       | midsize    | f          | sonata     |\n",
       "| hyundai    | 2008       | midsize    | f          | sonata     |\n",
       "| hyundai    | 1999       | subcompact | f          | tiburon    |\n",
       "| hyundai    | 1999       | subcompact | f          | tiburon    |\n",
       "| hyundai    | 2008       | subcompact | f          | tiburon    |\n",
       "| hyundai    | 2008       | subcompact | f          | tiburon    |\n",
       "| hyundai    | 2008       | subcompact | f          | tiburon    |\n",
       "| hyundai    | 2008       | subcompact | f          | tiburon    |\n",
       "| hyundai    | 2008       | subcompact | f          | tiburon    |\n",
       "\n"
      ],
      "text/plain": [
       "   manufacturer year class      drv model  \n",
       "1  hyundai      1999 midsize    f   sonata \n",
       "2  hyundai      1999 midsize    f   sonata \n",
       "3  hyundai      2008 midsize    f   sonata \n",
       "4  hyundai      2008 midsize    f   sonata \n",
       "5  hyundai      1999 midsize    f   sonata \n",
       "6  hyundai      1999 midsize    f   sonata \n",
       "7  hyundai      2008 midsize    f   sonata \n",
       "8  hyundai      1999 subcompact f   tiburon\n",
       "9  hyundai      1999 subcompact f   tiburon\n",
       "10 hyundai      2008 subcompact f   tiburon\n",
       "11 hyundai      2008 subcompact f   tiburon\n",
       "12 hyundai      2008 subcompact f   tiburon\n",
       "13 hyundai      2008 subcompact f   tiburon\n",
       "14 hyundai      2008 subcompact f   tiburon"
      ]
     },
     "metadata": {},
     "output_type": "display_data"
    }
   ],
   "source": [
    "# 3. manufacturer가 hyundai 자동차인 데이터의 \n",
    "#    판매 정보 manufacturer, year, class, drv, model 출력\n",
    "# filter 행 분할\n",
    "# select 열 분할\n",
    "mpg %>%\n",
    "  filter(manufacturer== 'hyundai') %>% \n",
    "  select(manufacturer, year, class, drv, model)"
   ]
  },
  {
   "cell_type": "code",
   "execution_count": 29,
   "metadata": {},
   "outputs": [
    {
     "data": {
      "text/html": [
       "<table>\n",
       "<thead><tr><th scope=col>model</th></tr></thead>\n",
       "<tbody>\n",
       "\t<tr><td>sonata </td></tr>\n",
       "\t<tr><td>tiburon</td></tr>\n",
       "</tbody>\n",
       "</table>\n"
      ],
      "text/latex": [
       "\\begin{tabular}{r|l}\n",
       " model\\\\\n",
       "\\hline\n",
       "\t sonata \\\\\n",
       "\t tiburon\\\\\n",
       "\\end{tabular}\n"
      ],
      "text/markdown": [
       "\n",
       "| model |\n",
       "|---|\n",
       "| sonata  |\n",
       "| tiburon |\n",
       "\n"
      ],
      "text/plain": [
       "  model  \n",
       "1 sonata \n",
       "2 tiburon"
      ]
     },
     "metadata": {},
     "output_type": "display_data"
    }
   ],
   "source": [
    "# 4. manufacturer가 hyundai인 자동차는 어떤 자동차 model를 판매하는지\n",
    "#    model 출력, 중복 제외(disinct) 출력\n",
    "# unique와 distinct의 차이, unique는 벡터에 대해, distinct는 데이터프레임에 대해\n",
    "mpg %>% \n",
    "  filter(manufacturer== 'hyundai') %>% \n",
    "  select(model) %>% \n",
    "  distinct(model) "
   ]
  },
  {
   "cell_type": "code",
   "execution_count": 4,
   "metadata": {},
   "outputs": [
    {
     "data": {
      "text/html": [
       "<table>\n",
       "<thead><tr><th scope=col>manufacturer</th><th scope=col>n</th></tr></thead>\n",
       "<tbody>\n",
       "\t<tr><td>audi      </td><td>15        </td></tr>\n",
       "\t<tr><td>volkswagen</td><td>14        </td></tr>\n",
       "\t<tr><td>toyota    </td><td>12        </td></tr>\n",
       "\t<tr><td>subaru    </td><td> 4        </td></tr>\n",
       "\t<tr><td>nissan    </td><td> 2        </td></tr>\n",
       "</tbody>\n",
       "</table>\n"
      ],
      "text/latex": [
       "\\begin{tabular}{r|ll}\n",
       " manufacturer & n\\\\\n",
       "\\hline\n",
       "\t audi       & 15        \\\\\n",
       "\t volkswagen & 14        \\\\\n",
       "\t toyota     & 12        \\\\\n",
       "\t subaru     &  4        \\\\\n",
       "\t nissan     &  2        \\\\\n",
       "\\end{tabular}\n"
      ],
      "text/markdown": [
       "\n",
       "| manufacturer | n |\n",
       "|---|---|\n",
       "| audi       | 15         |\n",
       "| volkswagen | 14         |\n",
       "| toyota     | 12         |\n",
       "| subaru     |  4         |\n",
       "| nissan     |  2         |\n",
       "\n"
      ],
      "text/plain": [
       "  manufacturer n \n",
       "1 audi         15\n",
       "2 volkswagen   14\n",
       "3 toyota       12\n",
       "4 subaru        4\n",
       "5 nissan        2"
      ]
     },
     "metadata": {},
     "output_type": "display_data"
    }
   ],
   "source": [
    "# 5. 어떤 회사(manufacturer)에서 \"compact\"(승용차) 차종(class)을 가장 많이\n",
    "#    생산하는지 알아보려고 한다. \n",
    "#    각 회사별 \"compact\" 차종 수를 내림차순으로 정렬해\n",
    "#    manufacturer, 차종수 출력\n",
    "mpg %>% \n",
    "  select(manufacturer, class) %>% \n",
    "  filter(class == 'compact') %>% \n",
    "  group_by(manufacturer) %>% \n",
    "  summarise(n = n()) %>% \n",
    "  arrange(desc(n))"
   ]
  },
  {
   "cell_type": "code",
   "execution_count": 5,
   "metadata": {},
   "outputs": [
    {
     "data": {
      "text/html": [
       "<table>\n",
       "<thead><tr><th scope=col>manufacturer</th><th scope=col>n</th></tr></thead>\n",
       "<tbody>\n",
       "\t<tr><td>dodge     </td><td>37        </td></tr>\n",
       "\t<tr><td>toyota    </td><td>34        </td></tr>\n",
       "\t<tr><td>volkswagen</td><td>27        </td></tr>\n",
       "\t<tr><td>ford      </td><td>25        </td></tr>\n",
       "\t<tr><td>chevrolet </td><td>19        </td></tr>\n",
       "\t<tr><td>audi      </td><td>18        </td></tr>\n",
       "\t<tr><td>hyundai   </td><td>14        </td></tr>\n",
       "\t<tr><td>subaru    </td><td>14        </td></tr>\n",
       "\t<tr><td>nissan    </td><td>13        </td></tr>\n",
       "\t<tr><td>honda     </td><td> 9        </td></tr>\n",
       "</tbody>\n",
       "</table>\n"
      ],
      "text/latex": [
       "\\begin{tabular}{r|ll}\n",
       " manufacturer & n\\\\\n",
       "\\hline\n",
       "\t dodge      & 37        \\\\\n",
       "\t toyota     & 34        \\\\\n",
       "\t volkswagen & 27        \\\\\n",
       "\t ford       & 25        \\\\\n",
       "\t chevrolet  & 19        \\\\\n",
       "\t audi       & 18        \\\\\n",
       "\t hyundai    & 14        \\\\\n",
       "\t subaru     & 14        \\\\\n",
       "\t nissan     & 13        \\\\\n",
       "\t honda      &  9        \\\\\n",
       "\\end{tabular}\n"
      ],
      "text/markdown": [
       "\n",
       "| manufacturer | n |\n",
       "|---|---|\n",
       "| dodge      | 37         |\n",
       "| toyota     | 34         |\n",
       "| volkswagen | 27         |\n",
       "| ford       | 25         |\n",
       "| chevrolet  | 19         |\n",
       "| audi       | 18         |\n",
       "| hyundai    | 14         |\n",
       "| subaru     | 14         |\n",
       "| nissan     | 13         |\n",
       "| honda      |  9         |\n",
       "\n"
      ],
      "text/plain": [
       "   manufacturer n \n",
       "1  dodge        37\n",
       "2  toyota       34\n",
       "3  volkswagen   27\n",
       "4  ford         25\n",
       "5  chevrolet    19\n",
       "6  audi         18\n",
       "7  hyundai      14\n",
       "8  subaru       14\n",
       "9  nissan       13\n",
       "10 honda         9"
      ]
     },
     "metadata": {},
     "output_type": "display_data"
    }
   ],
   "source": [
    "# 6. 제조사별 등록된 자동차 수를 내림차순으로 상위 10건 출력\n",
    "mpg %>% \n",
    "  group_by(manufacturer) %>% \n",
    "  summarise(n = n()) %>% \n",
    "  arrange(desc(n)) %>% \n",
    "  head(10)"
   ]
  },
  {
   "cell_type": "code",
   "execution_count": 8,
   "metadata": {},
   "outputs": [
    {
     "data": {
      "text/html": [
       "<table>\n",
       "<thead><tr><th scope=col>manufacturer</th><th scope=col>drv</th><th scope=col>cnt</th></tr></thead>\n",
       "<tbody>\n",
       "\t<tr><td>volkswagen</td><td>f         </td><td>27        </td></tr>\n",
       "\t<tr><td>dodge     </td><td>4         </td><td>26        </td></tr>\n",
       "\t<tr><td>toyota    </td><td>f         </td><td>19        </td></tr>\n",
       "</tbody>\n",
       "</table>\n"
      ],
      "text/latex": [
       "\\begin{tabular}{r|lll}\n",
       " manufacturer & drv & cnt\\\\\n",
       "\\hline\n",
       "\t volkswagen & f          & 27        \\\\\n",
       "\t dodge      & 4          & 26        \\\\\n",
       "\t toyota     & f          & 19        \\\\\n",
       "\\end{tabular}\n"
      ],
      "text/markdown": [
       "\n",
       "| manufacturer | drv | cnt |\n",
       "|---|---|---|\n",
       "| volkswagen | f          | 27         |\n",
       "| dodge      | 4          | 26         |\n",
       "| toyota     | f          | 19         |\n",
       "\n"
      ],
      "text/plain": [
       "  manufacturer drv cnt\n",
       "1 volkswagen   f   27 \n",
       "2 dodge        4   26 \n",
       "3 toyota       f   19 "
      ]
     },
     "metadata": {},
     "output_type": "display_data"
    }
   ],
   "source": [
    "# 7. 제조사(manufacturer)별 구동방식(drv)별 등록된 자동차 연비 데이터수를\n",
    "#    내림차순으로 상위 3건 출력\n",
    "# 2차 그룹화\n",
    "mpg %>% \n",
    "  group_by(manufacturer, drv) %>% \n",
    "  summarise(cnt = n()) %>% \n",
    "  arrange(desc(cnt )) %>% \n",
    "  head(3)\n",
    "# manufacturer\tdrv\tcnt\n",
    "# volkswagen\tf\t27\n",
    "# dodge\t4\t26\n",
    "# toyota\tf\t19"
   ]
  },
  {
   "cell_type": "code",
   "execution_count": 9,
   "metadata": {},
   "outputs": [
    {
     "data": {
      "text/html": [
       "<table>\n",
       "<thead><tr><th scope=col>manufacturer</th><th scope=col>drv</th><th scope=col>mean</th></tr></thead>\n",
       "<tbody>\n",
       "\t<tr><td>honda     </td><td>f         </td><td>24.44444  </td></tr>\n",
       "\t<tr><td>toyota    </td><td>f         </td><td>21.36842  </td></tr>\n",
       "\t<tr><td>volkswagen</td><td>f         </td><td>20.92593  </td></tr>\n",
       "\t<tr><td>nissan    </td><td>f         </td><td>20.00000  </td></tr>\n",
       "\t<tr><td>subaru    </td><td>4         </td><td>19.28571  </td></tr>\n",
       "\t<tr><td>audi      </td><td>f         </td><td>18.85714  </td></tr>\n",
       "\t<tr><td>chevrolet </td><td>f         </td><td>18.80000  </td></tr>\n",
       "\t<tr><td>hyundai   </td><td>f         </td><td>18.64286  </td></tr>\n",
       "\t<tr><td>pontiac   </td><td>f         </td><td>17.00000  </td></tr>\n",
       "\t<tr><td>audi      </td><td>4         </td><td>16.81818  </td></tr>\n",
       "</tbody>\n",
       "</table>\n"
      ],
      "text/latex": [
       "\\begin{tabular}{r|lll}\n",
       " manufacturer & drv & mean\\\\\n",
       "\\hline\n",
       "\t honda      & f          & 24.44444  \\\\\n",
       "\t toyota     & f          & 21.36842  \\\\\n",
       "\t volkswagen & f          & 20.92593  \\\\\n",
       "\t nissan     & f          & 20.00000  \\\\\n",
       "\t subaru     & 4          & 19.28571  \\\\\n",
       "\t audi       & f          & 18.85714  \\\\\n",
       "\t chevrolet  & f          & 18.80000  \\\\\n",
       "\t hyundai    & f          & 18.64286  \\\\\n",
       "\t pontiac    & f          & 17.00000  \\\\\n",
       "\t audi       & 4          & 16.81818  \\\\\n",
       "\\end{tabular}\n"
      ],
      "text/markdown": [
       "\n",
       "| manufacturer | drv | mean |\n",
       "|---|---|---|\n",
       "| honda      | f          | 24.44444   |\n",
       "| toyota     | f          | 21.36842   |\n",
       "| volkswagen | f          | 20.92593   |\n",
       "| nissan     | f          | 20.00000   |\n",
       "| subaru     | 4          | 19.28571   |\n",
       "| audi       | f          | 18.85714   |\n",
       "| chevrolet  | f          | 18.80000   |\n",
       "| hyundai    | f          | 18.64286   |\n",
       "| pontiac    | f          | 17.00000   |\n",
       "| audi       | 4          | 16.81818   |\n",
       "\n"
      ],
      "text/plain": [
       "   manufacturer drv mean    \n",
       "1  honda        f   24.44444\n",
       "2  toyota       f   21.36842\n",
       "3  volkswagen   f   20.92593\n",
       "4  nissan       f   20.00000\n",
       "5  subaru       4   19.28571\n",
       "6  audi         f   18.85714\n",
       "7  chevrolet    f   18.80000\n",
       "8  hyundai      f   18.64286\n",
       "9  pontiac      f   17.00000\n",
       "10 audi         4   16.81818"
      ]
     },
     "metadata": {},
     "output_type": "display_data"
    }
   ],
   "source": [
    "# 8. 제조사별(manufacturer) 구동방식(drv)별 도시 주행(cty)의 평균 연비를\n",
    "#    계산하여 내림 차순 정렬후 10개 출력\n",
    "mpg %>% \n",
    "  group_by(manufacturer, drv) %>% \n",
    "  summarise(mean = mean(cty)) %>% \n",
    "  arrange(desc(mean)) %>% \n",
    "  head(10)"
   ]
  },
  {
   "cell_type": "code",
   "execution_count": 10,
   "metadata": {},
   "outputs": [
    {
     "data": {
      "text/html": [
       "<table>\n",
       "<thead><tr><th scope=col>manufacturer</th><th scope=col>cnt</th></tr></thead>\n",
       "<tbody>\n",
       "\t<tr><td>chevrolet</td><td>9        </td></tr>\n",
       "\t<tr><td>ford     </td><td>9        </td></tr>\n",
       "\t<tr><td>jeep     </td><td>8        </td></tr>\n",
       "\t<tr><td>toyota   </td><td>8        </td></tr>\n",
       "\t<tr><td>dodge    </td><td>7        </td></tr>\n",
       "</tbody>\n",
       "</table>\n"
      ],
      "text/latex": [
       "\\begin{tabular}{r|ll}\n",
       " manufacturer & cnt\\\\\n",
       "\\hline\n",
       "\t chevrolet & 9        \\\\\n",
       "\t ford      & 9        \\\\\n",
       "\t jeep      & 8        \\\\\n",
       "\t toyota    & 8        \\\\\n",
       "\t dodge     & 7        \\\\\n",
       "\\end{tabular}\n"
      ],
      "text/markdown": [
       "\n",
       "| manufacturer | cnt |\n",
       "|---|---|\n",
       "| chevrolet | 9         |\n",
       "| ford      | 9         |\n",
       "| jeep      | 8         |\n",
       "| toyota    | 8         |\n",
       "| dodge     | 7         |\n",
       "\n"
      ],
      "text/plain": [
       "  manufacturer cnt\n",
       "1 chevrolet    9  \n",
       "2 ford         9  \n",
       "3 jeep         8  \n",
       "4 toyota       8  \n",
       "5 dodge        7  "
      ]
     },
     "metadata": {},
     "output_type": "display_data"
    }
   ],
   "source": [
    "# 9. 제조사(manufacturer)별 'suv' 자동차(class)수를 내림차순으로 \n",
    "#    5개 회사만 출력\n",
    "mpg %>% \n",
    "  filter(class == 'suv') %>% \n",
    "  group_by(manufacturer) %>% \n",
    "  summarise(cnt = n()) %>% \n",
    "  arrange(desc(cnt)) %>% \n",
    "  head(5)"
   ]
  },
  {
   "cell_type": "code",
   "execution_count": 7,
   "metadata": {},
   "outputs": [
    {
     "data": {
      "text/html": [
       "<table>\n",
       "<thead><tr><th scope=col>manufacturer</th><th scope=col>cty</th><th scope=col>hwy</th><th scope=col>cty_hwy</th></tr></thead>\n",
       "<tbody>\n",
       "\t<tr><td>subaru  </td><td>18.83333</td><td>25.000  </td><td>21.91667</td></tr>\n",
       "\t<tr><td>toyota  </td><td>14.37500</td><td>18.250  </td><td>16.31250</td></tr>\n",
       "\t<tr><td>nissan  </td><td>13.75000</td><td>18.000  </td><td>15.87500</td></tr>\n",
       "\t<tr><td>mercury </td><td>13.25000</td><td>18.000  </td><td>15.62500</td></tr>\n",
       "\t<tr><td>jeep    </td><td>13.50000</td><td>17.625  </td><td>15.56250</td></tr>\n",
       "</tbody>\n",
       "</table>\n"
      ],
      "text/latex": [
       "\\begin{tabular}{r|llll}\n",
       " manufacturer & cty & hwy & cty\\_hwy\\\\\n",
       "\\hline\n",
       "\t subaru   & 18.83333 & 25.000   & 21.91667\\\\\n",
       "\t toyota   & 14.37500 & 18.250   & 16.31250\\\\\n",
       "\t nissan   & 13.75000 & 18.000   & 15.87500\\\\\n",
       "\t mercury  & 13.25000 & 18.000   & 15.62500\\\\\n",
       "\t jeep     & 13.50000 & 17.625   & 15.56250\\\\\n",
       "\\end{tabular}\n"
      ],
      "text/markdown": [
       "\n",
       "| manufacturer | cty | hwy | cty_hwy |\n",
       "|---|---|---|---|\n",
       "| subaru   | 18.83333 | 25.000   | 21.91667 |\n",
       "| toyota   | 14.37500 | 18.250   | 16.31250 |\n",
       "| nissan   | 13.75000 | 18.000   | 15.87500 |\n",
       "| mercury  | 13.25000 | 18.000   | 15.62500 |\n",
       "| jeep     | 13.50000 | 17.625   | 15.56250 |\n",
       "\n"
      ],
      "text/plain": [
       "  manufacturer cty      hwy    cty_hwy \n",
       "1 subaru       18.83333 25.000 21.91667\n",
       "2 toyota       14.37500 18.250 16.31250\n",
       "3 nissan       13.75000 18.000 15.87500\n",
       "4 mercury      13.25000 18.000 15.62500\n",
       "5 jeep         13.50000 17.625 15.56250"
      ]
     },
     "metadata": {},
     "output_type": "display_data"
    }
   ],
   "source": [
    "# 10. 제조사(manufacturer)별 'suv' 자동차의 도시(cty) 및 고속도로(hwy)연비의\n",
    "#     평균을 구한후 내림차순으로 5위까지 출력\n",
    "#     mutate()를 이용하여 도시(cty) 및 고속도로(hwy)연비의 평균을 먼저 구할것.\n",
    "mpg %>%\n",
    "  filter(class == 'suv') %>%\n",
    "  mutate(cty_hwy = (cty + hwy) / 2) %>% \n",
    "  group_by(manufacturer) %>%\n",
    "  summarise(cty = mean(cty), hwy = mean(hwy), cty_hwy = mean(cty_hwy)) %>%\n",
    "  arrange(desc(cty_hwy)) %>% \n",
    "  select(manufacturer, cty, hwy, cty_hwy) %>% \n",
    "  head(5)"
   ]
  },
  {
   "cell_type": "code",
   "execution_count": null,
   "metadata": {},
   "outputs": [],
   "source": []
  }
 ],
 "metadata": {
  "kernelspec": {
   "display_name": "R",
   "language": "R",
   "name": "ir"
  },
  "language_info": {
   "codemirror_mode": "r",
   "file_extension": ".r",
   "mimetype": "text/x-r-source",
   "name": "R",
   "pygments_lexer": "r",
   "version": "3.6.1"
  }
 },
 "nbformat": 4,
 "nbformat_minor": 2
}
