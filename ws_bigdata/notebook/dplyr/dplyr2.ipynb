{
 "cells": [
  {
   "cell_type": "code",
   "execution_count": 1,
   "metadata": {},
   "outputs": [
    {
     "name": "stderr",
     "output_type": "stream",
     "text": [
      "Warning message:\n",
      "\"package 'dplyr' was built under R version 3.6.3\"\n",
      "Attaching package: 'dplyr'\n",
      "\n",
      "The following objects are masked from 'package:stats':\n",
      "\n",
      "    filter, lag\n",
      "\n",
      "The following objects are masked from 'package:base':\n",
      "\n",
      "    intersect, setdiff, setequal, union\n",
      "\n"
     ]
    }
   ],
   "source": [
    "# 라이브러리 가져오기\n",
    "#  문서마다 메모리 공유하지 않는 것 같음\n",
    "library(dplyr)"
   ]
  },
  {
   "cell_type": "markdown",
   "metadata": {},
   "source": [
    "### select(변수명) : 변수명 추출/분할"
   ]
  },
  {
   "cell_type": "code",
   "execution_count": 2,
   "metadata": {},
   "outputs": [],
   "source": [
    "exam <- read.csv(\"./files/exam.csv\", fileEncoding='utf-8', encoding='utf-8')"
   ]
  },
  {
   "cell_type": "code",
   "execution_count": 12,
   "metadata": {
    "scrolled": true
   },
   "outputs": [
    {
     "data": {
      "text/html": [
       "<table>\n",
       "<thead><tr><th scope=col>id</th><th scope=col>class</th><th scope=col>math</th><th scope=col>english</th><th scope=col>science</th></tr></thead>\n",
       "<tbody>\n",
       "\t<tr><td>1 </td><td>1 </td><td>50</td><td>98</td><td>50</td></tr>\n",
       "\t<tr><td>2 </td><td>1 </td><td>60</td><td>97</td><td>60</td></tr>\n",
       "\t<tr><td>3 </td><td>1 </td><td>45</td><td>86</td><td>78</td></tr>\n",
       "</tbody>\n",
       "</table>\n"
      ],
      "text/latex": [
       "\\begin{tabular}{r|lllll}\n",
       " id & class & math & english & science\\\\\n",
       "\\hline\n",
       "\t 1  & 1  & 50 & 98 & 50\\\\\n",
       "\t 2  & 1  & 60 & 97 & 60\\\\\n",
       "\t 3  & 1  & 45 & 86 & 78\\\\\n",
       "\\end{tabular}\n"
      ],
      "text/markdown": [
       "\n",
       "| id | class | math | english | science |\n",
       "|---|---|---|---|---|\n",
       "| 1  | 1  | 50 | 98 | 50 |\n",
       "| 2  | 1  | 60 | 97 | 60 |\n",
       "| 3  | 1  | 45 | 86 | 78 |\n",
       "\n"
      ],
      "text/plain": [
       "  id class math english science\n",
       "1 1  1     50   98      50     \n",
       "2 2  1     60   97      60     \n",
       "3 3  1     45   86      78     "
      ]
     },
     "metadata": {},
     "output_type": "display_data"
    },
    {
     "data": {
      "text/html": [
       "<table>\n",
       "<thead><tr><th scope=col>id</th><th scope=col>class</th><th scope=col>math</th><th scope=col>english</th><th scope=col>science</th></tr></thead>\n",
       "<tbody>\n",
       "\t<tr><td>1 </td><td>1 </td><td>50</td><td>98</td><td>50</td></tr>\n",
       "\t<tr><td>2 </td><td>1 </td><td>60</td><td>97</td><td>60</td></tr>\n",
       "\t<tr><td>3 </td><td>1 </td><td>45</td><td>86</td><td>78</td></tr>\n",
       "</tbody>\n",
       "</table>\n"
      ],
      "text/latex": [
       "\\begin{tabular}{r|lllll}\n",
       " id & class & math & english & science\\\\\n",
       "\\hline\n",
       "\t 1  & 1  & 50 & 98 & 50\\\\\n",
       "\t 2  & 1  & 60 & 97 & 60\\\\\n",
       "\t 3  & 1  & 45 & 86 & 78\\\\\n",
       "\\end{tabular}\n"
      ],
      "text/markdown": [
       "\n",
       "| id | class | math | english | science |\n",
       "|---|---|---|---|---|\n",
       "| 1  | 1  | 50 | 98 | 50 |\n",
       "| 2  | 1  | 60 | 97 | 60 |\n",
       "| 3  | 1  | 45 | 86 | 78 |\n",
       "\n"
      ],
      "text/plain": [
       "  id class math english science\n",
       "1 1  1     50   98      50     \n",
       "2 2  1     60   97      60     \n",
       "3 3  1     45   86      78     "
      ]
     },
     "metadata": {},
     "output_type": "display_data"
    }
   ],
   "source": [
    "# 데이터 3건 출력\n",
    "exam  %>% head(3)\n",
    "head(exam, 3)"
   ]
  },
  {
   "cell_type": "code",
   "execution_count": 13,
   "metadata": {},
   "outputs": [
    {
     "data": {
      "text/html": [
       "<table>\n",
       "<thead><tr><th scope=col>math</th></tr></thead>\n",
       "<tbody>\n",
       "\t<tr><td>50</td></tr>\n",
       "\t<tr><td>60</td></tr>\n",
       "\t<tr><td>45</td></tr>\n",
       "</tbody>\n",
       "</table>\n"
      ],
      "text/latex": [
       "\\begin{tabular}{r|l}\n",
       " math\\\\\n",
       "\\hline\n",
       "\t 50\\\\\n",
       "\t 60\\\\\n",
       "\t 45\\\\\n",
       "\\end{tabular}\n"
      ],
      "text/markdown": [
       "\n",
       "| math |\n",
       "|---|\n",
       "| 50 |\n",
       "| 60 |\n",
       "| 45 |\n",
       "\n"
      ],
      "text/plain": [
       "  math\n",
       "1 50  \n",
       "2 60  \n",
       "3 45  "
      ]
     },
     "metadata": {},
     "output_type": "display_data"
    }
   ],
   "source": [
    "# select()의 사용\n",
    "exam  %>% select(math)  %>%  head(3)\n",
    "# math\n",
    "# 50\n",
    "# 60\n",
    "# 45"
   ]
  },
  {
   "cell_type": "code",
   "execution_count": 14,
   "metadata": {},
   "outputs": [
    {
     "data": {
      "text/html": [
       "<table>\n",
       "<thead><tr><th scope=col>class</th><th scope=col>math</th><th scope=col>english</th></tr></thead>\n",
       "<tbody>\n",
       "\t<tr><td>1 </td><td>50</td><td>98</td></tr>\n",
       "\t<tr><td>1 </td><td>60</td><td>97</td></tr>\n",
       "\t<tr><td>1 </td><td>45</td><td>86</td></tr>\n",
       "</tbody>\n",
       "</table>\n"
      ],
      "text/latex": [
       "\\begin{tabular}{r|lll}\n",
       " class & math & english\\\\\n",
       "\\hline\n",
       "\t 1  & 50 & 98\\\\\n",
       "\t 1  & 60 & 97\\\\\n",
       "\t 1  & 45 & 86\\\\\n",
       "\\end{tabular}\n"
      ],
      "text/markdown": [
       "\n",
       "| class | math | english |\n",
       "|---|---|---|\n",
       "| 1  | 50 | 98 |\n",
       "| 1  | 60 | 97 |\n",
       "| 1  | 45 | 86 |\n",
       "\n"
      ],
      "text/plain": [
       "  class math english\n",
       "1 1     50   98     \n",
       "2 1     60   97     \n",
       "3 1     45   86     "
      ]
     },
     "metadata": {},
     "output_type": "display_data"
    }
   ],
   "source": [
    "# select() -> 여러 변수 선택\n",
    "exam  %>% select(class, math, english)  %>% head(3)\n",
    "# class\tmath\tenglish\n",
    "# 1\t50\t98\n",
    "# 1\t60\t97\n",
    "# 1\t45\t86"
   ]
  },
  {
   "cell_type": "code",
   "execution_count": 15,
   "metadata": {},
   "outputs": [
    {
     "data": {
      "text/html": [
       "<table>\n",
       "<thead><tr><th scope=col>id</th><th scope=col>science</th></tr></thead>\n",
       "<tbody>\n",
       "\t<tr><td>1 </td><td>50</td></tr>\n",
       "\t<tr><td>2 </td><td>60</td></tr>\n",
       "\t<tr><td>3 </td><td>78</td></tr>\n",
       "</tbody>\n",
       "</table>\n"
      ],
      "text/latex": [
       "\\begin{tabular}{r|ll}\n",
       " id & science\\\\\n",
       "\\hline\n",
       "\t 1  & 50\\\\\n",
       "\t 2  & 60\\\\\n",
       "\t 3  & 78\\\\\n",
       "\\end{tabular}\n"
      ],
      "text/markdown": [
       "\n",
       "| id | science |\n",
       "|---|---|\n",
       "| 1  | 50 |\n",
       "| 2  | 60 |\n",
       "| 3  | 78 |\n",
       "\n"
      ],
      "text/plain": [
       "  id science\n",
       "1 1  50     \n",
       "2 2  60     \n",
       "3 3  78     "
      ]
     },
     "metadata": {},
     "output_type": "display_data"
    }
   ],
   "source": [
    "# select() -> 변수 제외\n",
    "exam  %>% select(-class, -math, -english)  %>% head(3)\n",
    "# id\tscience\n",
    "# 1\t50\n",
    "# 2\t60\n",
    "# 3\t78"
   ]
  },
  {
   "cell_type": "code",
   "execution_count": 16,
   "metadata": {},
   "outputs": [
    {
     "data": {
      "text/html": [
       "<table>\n",
       "<thead><tr><th scope=col>math</th></tr></thead>\n",
       "<tbody>\n",
       "\t<tr><td>25</td></tr>\n",
       "\t<tr><td>50</td></tr>\n",
       "\t<tr><td>80</td></tr>\n",
       "\t<tr><td>90</td></tr>\n",
       "</tbody>\n",
       "</table>\n"
      ],
      "text/latex": [
       "\\begin{tabular}{r|l}\n",
       " math\\\\\n",
       "\\hline\n",
       "\t 25\\\\\n",
       "\t 50\\\\\n",
       "\t 80\\\\\n",
       "\t 90\\\\\n",
       "\\end{tabular}\n"
      ],
      "text/markdown": [
       "\n",
       "| math |\n",
       "|---|\n",
       "| 25 |\n",
       "| 50 |\n",
       "| 80 |\n",
       "| 90 |\n",
       "\n"
      ],
      "text/plain": [
       "  math\n",
       "1 25  \n",
       "2 50  \n",
       "3 80  \n",
       "4 90  "
      ]
     },
     "metadata": {},
     "output_type": "display_data"
    }
   ],
   "source": [
    "# 2반에 math 성적 출력\n",
    "exam  %>%  filter(class==2)  %>%  select(math)\n",
    "# math\n",
    "# 25\n",
    "# 50\n",
    "# 80\n",
    "# 90"
   ]
  },
  {
   "cell_type": "code",
   "execution_count": null,
   "metadata": {},
   "outputs": [],
   "source": [
    "# [실습] mpg 데이터 분석\n",
    "# 1. mpg 데이터중 class(자동차 종류), cty(도시 연비) \n",
    "# 변수를 추출해 새로운 데이터를 구성할것.\n",
    "# 새로운 데이터의 일부를 출력할 것."
   ]
  },
  {
   "cell_type": "code",
   "execution_count": 3,
   "metadata": {},
   "outputs": [
    {
     "data": {
      "text/html": [
       "'data.frame'"
      ],
      "text/latex": [
       "'data.frame'"
      ],
      "text/markdown": [
       "'data.frame'"
      ],
      "text/plain": [
       "[1] \"data.frame\""
      ]
     },
     "metadata": {},
     "output_type": "display_data"
    },
    {
     "name": "stdout",
     "output_type": "stream",
     "text": [
      "'data.frame':\t234 obs. of  11 variables:\n",
      " $ manufacturer: chr  \"audi\" \"audi\" \"audi\" \"audi\" ...\n",
      " $ model       : chr  \"a4\" \"a4\" \"a4\" \"a4\" ...\n",
      " $ displ       : num  1.8 1.8 2 2 2.8 2.8 3.1 1.8 1.8 2 ...\n",
      " $ year        : int  1999 1999 2008 2008 1999 1999 2008 1999 1999 2008 ...\n",
      " $ cyl         : int  4 4 4 4 6 6 6 4 4 4 ...\n",
      " $ trans       : chr  \"auto(l5)\" \"manual(m5)\" \"manual(m6)\" \"auto(av)\" ...\n",
      " $ drv         : chr  \"f\" \"f\" \"f\" \"f\" ...\n",
      " $ cty         : int  18 21 20 21 16 18 18 18 16 20 ...\n",
      " $ hwy         : int  29 29 31 30 26 26 27 26 25 28 ...\n",
      " $ fl          : chr  \"p\" \"p\" \"p\" \"p\" ...\n",
      " $ class       : chr  \"compact\" \"compact\" \"compact\" \"compact\" ...\n"
     ]
    }
   ],
   "source": [
    "mpg <-as.data.frame(ggplot2::mpg)\n",
    "class(mpg)\n",
    "str(mpg)"
   ]
  },
  {
   "cell_type": "code",
   "execution_count": 33,
   "metadata": {},
   "outputs": [
    {
     "data": {
      "text/html": [
       "<table>\n",
       "<thead><tr><th scope=col>class</th><th scope=col>cty</th></tr></thead>\n",
       "<tbody>\n",
       "\t<tr><td>compact</td><td>18     </td></tr>\n",
       "\t<tr><td>compact</td><td>21     </td></tr>\n",
       "\t<tr><td>compact</td><td>20     </td></tr>\n",
       "</tbody>\n",
       "</table>\n"
      ],
      "text/latex": [
       "\\begin{tabular}{r|ll}\n",
       " class & cty\\\\\n",
       "\\hline\n",
       "\t compact & 18     \\\\\n",
       "\t compact & 21     \\\\\n",
       "\t compact & 20     \\\\\n",
       "\\end{tabular}\n"
      ],
      "text/markdown": [
       "\n",
       "| class | cty |\n",
       "|---|---|\n",
       "| compact | 18      |\n",
       "| compact | 21      |\n",
       "| compact | 20      |\n",
       "\n"
      ],
      "text/plain": [
       "  class   cty\n",
       "1 compact 18 \n",
       "2 compact 21 \n",
       "3 compact 20 "
      ]
     },
     "metadata": {},
     "output_type": "display_data"
    },
    {
     "data": {
      "text/html": [
       "<table>\n",
       "<thead><tr><th></th><th scope=col>class</th><th scope=col>cty</th></tr></thead>\n",
       "<tbody>\n",
       "\t<tr><th scope=row>233</th><td>midsize</td><td>18     </td></tr>\n",
       "\t<tr><th scope=row>234</th><td>midsize</td><td>17     </td></tr>\n",
       "</tbody>\n",
       "</table>\n"
      ],
      "text/latex": [
       "\\begin{tabular}{r|ll}\n",
       "  & class & cty\\\\\n",
       "\\hline\n",
       "\t233 & midsize & 18     \\\\\n",
       "\t234 & midsize & 17     \\\\\n",
       "\\end{tabular}\n"
      ],
      "text/markdown": [
       "\n",
       "| <!--/--> | class | cty |\n",
       "|---|---|---|\n",
       "| 233 | midsize | 18      |\n",
       "| 234 | midsize | 17      |\n",
       "\n"
      ],
      "text/plain": [
       "    class   cty\n",
       "233 midsize 18 \n",
       "234 midsize 17 "
      ]
     },
     "metadata": {},
     "output_type": "display_data"
    }
   ],
   "source": [
    "mpg2 <- mpg  %>% select(class, cty)\n",
    "mpg2  %>% head(3)\n",
    "# class\tcty\n",
    "# compact\t18\n",
    "# compact\t21\n",
    "# compact\t20\n",
    "\n",
    "mpg2  %>% tail(2)\n",
    "# class\tcty\n",
    "# 233\tmidsize\t18\n",
    "# 234\tmidsize\t17\n"
   ]
  },
  {
   "cell_type": "code",
   "execution_count": null,
   "metadata": {},
   "outputs": [],
   "source": [
    "# 2. class(자동차 종류)가 'suv'인 자동차와 'compact'인 자동차중\n",
    "#    어떤 자동차의 cty(도시연비)가 더 높은지 분석할 것."
   ]
  },
  {
   "cell_type": "code",
   "execution_count": 37,
   "metadata": {},
   "outputs": [
    {
     "data": {
      "text/html": [
       "13.5"
      ],
      "text/latex": [
       "13.5"
      ],
      "text/markdown": [
       "13.5"
      ],
      "text/plain": [
       "[1] 13.5"
      ]
     },
     "metadata": {},
     "output_type": "display_data"
    },
    {
     "name": "stdout",
     "output_type": "stream",
     "text": [
      "suv 21.6 KM \n"
     ]
    }
   ],
   "source": [
    "# 메모리 절약을 위해서 select를 잘 사용해야 한다.\n",
    "mpg_suv <- mpg  %>% select(class, cty)  %>% filter(class =='suv')\n",
    "mpg_suv_cty<- mean(mpg_suv$cty)\n",
    "mpg_suv_cty # 13.5\n",
    "cat('suv', mpg_suv_cty * 1.6, 'KM', '\\n') # suv 20.8 KM "
   ]
  },
  {
   "cell_type": "code",
   "execution_count": 38,
   "metadata": {
    "scrolled": true
   },
   "outputs": [
    {
     "data": {
      "text/html": [
       "20.1276595744681"
      ],
      "text/latex": [
       "20.1276595744681"
      ],
      "text/markdown": [
       "20.1276595744681"
      ],
      "text/plain": [
       "[1] 20.12766"
      ]
     },
     "metadata": {},
     "output_type": "display_data"
    },
    {
     "name": "stdout",
     "output_type": "stream",
     "text": [
      "compact 32.20426 KM \n"
     ]
    }
   ],
   "source": [
    "mpg_compact <- mpg  %>% select(class, cty)  %>% filter(class =='compact')\n",
    "mpg_compact_cty <- mean(mpg_compact$cty)\n",
    "mpg_compact_cty # 20.1276595744681\n",
    "cat('compact', mpg_compact_cty * 1.6, 'KM', '\\n') # compact 32.20426 KM "
   ]
  },
  {
   "cell_type": "markdown",
   "metadata": {},
   "source": [
    "### arrange"
   ]
  },
  {
   "cell_type": "code",
   "execution_count": 40,
   "metadata": {},
   "outputs": [
    {
     "data": {
      "text/html": [
       "<table>\n",
       "<thead><tr><th scope=col>id</th><th scope=col>class</th><th scope=col>math</th><th scope=col>english</th><th scope=col>science</th></tr></thead>\n",
       "<tbody>\n",
       "\t<tr><td> 9</td><td>3 </td><td>20</td><td>98</td><td>15</td></tr>\n",
       "\t<tr><td> 5</td><td>2 </td><td>25</td><td>80</td><td>65</td></tr>\n",
       "\t<tr><td> 4</td><td>1 </td><td>30</td><td>98</td><td>58</td></tr>\n",
       "\t<tr><td> 3</td><td>1 </td><td>45</td><td>86</td><td>78</td></tr>\n",
       "\t<tr><td>12</td><td>3 </td><td>45</td><td>85</td><td>32</td></tr>\n",
       "\t<tr><td>13</td><td>4 </td><td>46</td><td>98</td><td>65</td></tr>\n",
       "</tbody>\n",
       "</table>\n"
      ],
      "text/latex": [
       "\\begin{tabular}{r|lllll}\n",
       " id & class & math & english & science\\\\\n",
       "\\hline\n",
       "\t  9 & 3  & 20 & 98 & 15\\\\\n",
       "\t  5 & 2  & 25 & 80 & 65\\\\\n",
       "\t  4 & 1  & 30 & 98 & 58\\\\\n",
       "\t  3 & 1  & 45 & 86 & 78\\\\\n",
       "\t 12 & 3  & 45 & 85 & 32\\\\\n",
       "\t 13 & 4  & 46 & 98 & 65\\\\\n",
       "\\end{tabular}\n"
      ],
      "text/markdown": [
       "\n",
       "| id | class | math | english | science |\n",
       "|---|---|---|---|---|\n",
       "|  9 | 3  | 20 | 98 | 15 |\n",
       "|  5 | 2  | 25 | 80 | 65 |\n",
       "|  4 | 1  | 30 | 98 | 58 |\n",
       "|  3 | 1  | 45 | 86 | 78 |\n",
       "| 12 | 3  | 45 | 85 | 32 |\n",
       "| 13 | 4  | 46 | 98 | 65 |\n",
       "\n"
      ],
      "text/plain": [
       "  id class math english science\n",
       "1  9 3     20   98      15     \n",
       "2  5 2     25   80      65     \n",
       "3  4 1     30   98      58     \n",
       "4  3 1     45   86      78     \n",
       "5 12 3     45   85      32     \n",
       "6 13 4     46   98      65     "
      ]
     },
     "metadata": {},
     "output_type": "display_data"
    }
   ],
   "source": [
    "# 수학점수 오름차순 정렬\n",
    "exam  %>% arrange(math)  %>% head()"
   ]
  },
  {
   "cell_type": "code",
   "execution_count": 9,
   "metadata": {},
   "outputs": [
    {
     "data": {
      "text/html": [
       "<table>\n",
       "<thead><tr><th scope=col>id</th><th scope=col>class</th><th scope=col>math</th><th scope=col>english</th><th scope=col>science</th></tr></thead>\n",
       "<tbody>\n",
       "\t<tr><td> 8</td><td>2 </td><td>90</td><td>78</td><td>25</td></tr>\n",
       "\t<tr><td>19</td><td>5 </td><td>89</td><td>68</td><td>87</td></tr>\n",
       "\t<tr><td> 7</td><td>2 </td><td>80</td><td>90</td><td>45</td></tr>\n",
       "\t<tr><td>18</td><td>5 </td><td>80</td><td>78</td><td>90</td></tr>\n",
       "\t<tr><td>20</td><td>5 </td><td>78</td><td>83</td><td>58</td></tr>\n",
       "\t<tr><td>15</td><td>4 </td><td>75</td><td>56</td><td>78</td></tr>\n",
       "</tbody>\n",
       "</table>\n"
      ],
      "text/latex": [
       "\\begin{tabular}{r|lllll}\n",
       " id & class & math & english & science\\\\\n",
       "\\hline\n",
       "\t  8 & 2  & 90 & 78 & 25\\\\\n",
       "\t 19 & 5  & 89 & 68 & 87\\\\\n",
       "\t  7 & 2  & 80 & 90 & 45\\\\\n",
       "\t 18 & 5  & 80 & 78 & 90\\\\\n",
       "\t 20 & 5  & 78 & 83 & 58\\\\\n",
       "\t 15 & 4  & 75 & 56 & 78\\\\\n",
       "\\end{tabular}\n"
      ],
      "text/markdown": [
       "\n",
       "| id | class | math | english | science |\n",
       "|---|---|---|---|---|\n",
       "|  8 | 2  | 90 | 78 | 25 |\n",
       "| 19 | 5  | 89 | 68 | 87 |\n",
       "|  7 | 2  | 80 | 90 | 45 |\n",
       "| 18 | 5  | 80 | 78 | 90 |\n",
       "| 20 | 5  | 78 | 83 | 58 |\n",
       "| 15 | 4  | 75 | 56 | 78 |\n",
       "\n"
      ],
      "text/plain": [
       "  id class math english science\n",
       "1  8 2     90   78      25     \n",
       "2 19 5     89   68      87     \n",
       "3  7 2     80   90      45     \n",
       "4 18 5     80   78      90     \n",
       "5 20 5     78   83      58     \n",
       "6 15 4     75   56      78     "
      ]
     },
     "metadata": {},
     "output_type": "display_data"
    }
   ],
   "source": [
    "# 수학점수 내림차순 정렬\n",
    "exam  %>% arrange(desc(math))  %>% head()"
   ]
  },
  {
   "cell_type": "code",
   "execution_count": 13,
   "metadata": {},
   "outputs": [
    {
     "data": {
      "text/html": [
       "<table>\n",
       "<thead><tr><th scope=col>id</th><th scope=col>class</th><th scope=col>math</th></tr></thead>\n",
       "<tbody>\n",
       "\t<tr><td> 8</td><td>2 </td><td>90</td></tr>\n",
       "\t<tr><td>19</td><td>5 </td><td>89</td></tr>\n",
       "\t<tr><td> 7</td><td>2 </td><td>80</td></tr>\n",
       "</tbody>\n",
       "</table>\n"
      ],
      "text/latex": [
       "\\begin{tabular}{r|lll}\n",
       " id & class & math\\\\\n",
       "\\hline\n",
       "\t  8 & 2  & 90\\\\\n",
       "\t 19 & 5  & 89\\\\\n",
       "\t  7 & 2  & 80\\\\\n",
       "\\end{tabular}\n"
      ],
      "text/markdown": [
       "\n",
       "| id | class | math |\n",
       "|---|---|---|\n",
       "|  8 | 2  | 90 |\n",
       "| 19 | 5  | 89 |\n",
       "|  7 | 2  | 80 |\n",
       "\n"
      ],
      "text/plain": [
       "  id class math\n",
       "1  8 2     90  \n",
       "2 19 5     89  \n",
       "3  7 2     80  "
      ]
     },
     "metadata": {},
     "output_type": "display_data"
    }
   ],
   "source": [
    "# 수학 점수 최상위 3명 출력\n",
    "exam  %>% select(id, class, math) %>% arrange(desc(math))  %>% head(3)\n",
    "# id\tclass\tmath\n",
    "# 8\t2\t90\n",
    "# 19\t5\t89\n",
    "# 7\t2\t80"
   ]
  },
  {
   "cell_type": "code",
   "execution_count": 14,
   "metadata": {},
   "outputs": [
    {
     "data": {
      "text/html": [
       "<table>\n",
       "<thead><tr><th></th><th scope=col>id</th><th scope=col>class</th><th scope=col>math</th></tr></thead>\n",
       "<tbody>\n",
       "\t<tr><th scope=row>18</th><td>4 </td><td>1 </td><td>30</td></tr>\n",
       "\t<tr><th scope=row>19</th><td>5 </td><td>2 </td><td>25</td></tr>\n",
       "\t<tr><th scope=row>20</th><td>9 </td><td>3 </td><td>20</td></tr>\n",
       "</tbody>\n",
       "</table>\n"
      ],
      "text/latex": [
       "\\begin{tabular}{r|lll}\n",
       "  & id & class & math\\\\\n",
       "\\hline\n",
       "\t18 & 4  & 1  & 30\\\\\n",
       "\t19 & 5  & 2  & 25\\\\\n",
       "\t20 & 9  & 3  & 20\\\\\n",
       "\\end{tabular}\n"
      ],
      "text/markdown": [
       "\n",
       "| <!--/--> | id | class | math |\n",
       "|---|---|---|---|\n",
       "| 18 | 4  | 1  | 30 |\n",
       "| 19 | 5  | 2  | 25 |\n",
       "| 20 | 9  | 3  | 20 |\n",
       "\n"
      ],
      "text/plain": [
       "   id class math\n",
       "18 4  1     30  \n",
       "19 5  2     25  \n",
       "20 9  3     20  "
      ]
     },
     "metadata": {},
     "output_type": "display_data"
    }
   ],
   "source": [
    "# 수학 점수 마지막 3명 출력\n",
    "exam  %>% select(id, class, math) %>% arrange(desc(math))  %>% tail(3)\n",
    "# id\tclass\tmath\n",
    "# 18\t4\t1\t30\n",
    "# 19\t5\t2\t25\n",
    "# 20\t9\t3\t20"
   ]
  },
  {
   "cell_type": "code",
   "execution_count": 7,
   "metadata": {},
   "outputs": [
    {
     "data": {
      "text/html": [
       "<table>\n",
       "<thead><tr><th scope=col>id</th><th scope=col>class</th><th scope=col>math</th><th scope=col>english</th><th scope=col>science</th></tr></thead>\n",
       "<tbody>\n",
       "\t<tr><td>2 </td><td>1 </td><td>60</td><td>97</td><td>60</td></tr>\n",
       "\t<tr><td>1 </td><td>1 </td><td>50</td><td>98</td><td>50</td></tr>\n",
       "\t<tr><td>3 </td><td>1 </td><td>45</td><td>86</td><td>78</td></tr>\n",
       "\t<tr><td>4 </td><td>1 </td><td>30</td><td>98</td><td>58</td></tr>\n",
       "\t<tr><td>8 </td><td>2 </td><td>90</td><td>78</td><td>25</td></tr>\n",
       "\t<tr><td>7 </td><td>2 </td><td>80</td><td>90</td><td>45</td></tr>\n",
       "</tbody>\n",
       "</table>\n"
      ],
      "text/latex": [
       "\\begin{tabular}{r|lllll}\n",
       " id & class & math & english & science\\\\\n",
       "\\hline\n",
       "\t 2  & 1  & 60 & 97 & 60\\\\\n",
       "\t 1  & 1  & 50 & 98 & 50\\\\\n",
       "\t 3  & 1  & 45 & 86 & 78\\\\\n",
       "\t 4  & 1  & 30 & 98 & 58\\\\\n",
       "\t 8  & 2  & 90 & 78 & 25\\\\\n",
       "\t 7  & 2  & 80 & 90 & 45\\\\\n",
       "\\end{tabular}\n"
      ],
      "text/markdown": [
       "\n",
       "| id | class | math | english | science |\n",
       "|---|---|---|---|---|\n",
       "| 2  | 1  | 60 | 97 | 60 |\n",
       "| 1  | 1  | 50 | 98 | 50 |\n",
       "| 3  | 1  | 45 | 86 | 78 |\n",
       "| 4  | 1  | 30 | 98 | 58 |\n",
       "| 8  | 2  | 90 | 78 | 25 |\n",
       "| 7  | 2  | 80 | 90 | 45 |\n",
       "\n"
      ],
      "text/plain": [
       "  id class math english science\n",
       "1 2  1     60   97      60     \n",
       "2 1  1     50   98      50     \n",
       "3 3  1     45   86      78     \n",
       "4 4  1     30   98      58     \n",
       "5 8  2     90   78      25     \n",
       "6 7  2     80   90      45     "
      ]
     },
     "metadata": {},
     "output_type": "display_data"
    }
   ],
   "source": [
    "# 2차 정렬: 학급 오름차순, 같은 학급 내에서 수학 내림차순\n",
    "exam  %>%  arrange(class, desc(math))  %>% head()\n",
    "# == arrange(exam, class, desc(math))"
   ]
  },
  {
   "cell_type": "code",
   "execution_count": null,
   "metadata": {},
   "outputs": [],
   "source": [
    "# 2. 'audi'에서 생산한 자동차중에 어떤 자동차 모델의\n",
    "# hwy(고속도로 연비)가 높은지 알아보려고한다.\n",
    "# 'audi'에서 생산한 자동차 중 hwy가 1 ~ 5위에 해당하는\n",
    "# 자동차 데이터 출력 할 것.\n",
    "# 변수는 manufacturer, model, hwy"
   ]
  },
  {
   "cell_type": "code",
   "execution_count": 13,
   "metadata": {},
   "outputs": [
    {
     "data": {
      "text/html": [
       "<table>\n",
       "<thead><tr><th scope=col>manufacturer</th><th scope=col>model</th><th scope=col>hwy</th></tr></thead>\n",
       "<tbody>\n",
       "\t<tr><td>audi      </td><td>a4        </td><td>31        </td></tr>\n",
       "\t<tr><td>audi      </td><td>a4        </td><td>30        </td></tr>\n",
       "\t<tr><td>audi      </td><td>a4        </td><td>29        </td></tr>\n",
       "\t<tr><td>audi      </td><td>a4        </td><td>29        </td></tr>\n",
       "\t<tr><td>audi      </td><td>a4 quattro</td><td>28        </td></tr>\n",
       "\t<tr><td>audi      </td><td>a4        </td><td>27        </td></tr>\n",
       "\t<tr><td>audi      </td><td>a4 quattro</td><td>27        </td></tr>\n",
       "\t<tr><td>audi      </td><td>a4        </td><td>26        </td></tr>\n",
       "\t<tr><td>audi      </td><td>a4        </td><td>26        </td></tr>\n",
       "\t<tr><td>audi      </td><td>a4 quattro</td><td>26        </td></tr>\n",
       "\t<tr><td>audi      </td><td>a4 quattro</td><td>25        </td></tr>\n",
       "\t<tr><td>audi      </td><td>a4 quattro</td><td>25        </td></tr>\n",
       "\t<tr><td>audi      </td><td>a4 quattro</td><td>25        </td></tr>\n",
       "\t<tr><td>audi      </td><td>a4 quattro</td><td>25        </td></tr>\n",
       "\t<tr><td>audi      </td><td>a4 quattro</td><td>25        </td></tr>\n",
       "\t<tr><td>audi      </td><td>a6 quattro</td><td>25        </td></tr>\n",
       "\t<tr><td>audi      </td><td>a6 quattro</td><td>24        </td></tr>\n",
       "\t<tr><td>audi      </td><td>a6 quattro</td><td>23        </td></tr>\n",
       "</tbody>\n",
       "</table>\n"
      ],
      "text/latex": [
       "\\begin{tabular}{r|lll}\n",
       " manufacturer & model & hwy\\\\\n",
       "\\hline\n",
       "\t audi       & a4         & 31        \\\\\n",
       "\t audi       & a4         & 30        \\\\\n",
       "\t audi       & a4         & 29        \\\\\n",
       "\t audi       & a4         & 29        \\\\\n",
       "\t audi       & a4 quattro & 28        \\\\\n",
       "\t audi       & a4         & 27        \\\\\n",
       "\t audi       & a4 quattro & 27        \\\\\n",
       "\t audi       & a4         & 26        \\\\\n",
       "\t audi       & a4         & 26        \\\\\n",
       "\t audi       & a4 quattro & 26        \\\\\n",
       "\t audi       & a4 quattro & 25        \\\\\n",
       "\t audi       & a4 quattro & 25        \\\\\n",
       "\t audi       & a4 quattro & 25        \\\\\n",
       "\t audi       & a4 quattro & 25        \\\\\n",
       "\t audi       & a4 quattro & 25        \\\\\n",
       "\t audi       & a6 quattro & 25        \\\\\n",
       "\t audi       & a6 quattro & 24        \\\\\n",
       "\t audi       & a6 quattro & 23        \\\\\n",
       "\\end{tabular}\n"
      ],
      "text/markdown": [
       "\n",
       "| manufacturer | model | hwy |\n",
       "|---|---|---|\n",
       "| audi       | a4         | 31         |\n",
       "| audi       | a4         | 30         |\n",
       "| audi       | a4         | 29         |\n",
       "| audi       | a4         | 29         |\n",
       "| audi       | a4 quattro | 28         |\n",
       "| audi       | a4         | 27         |\n",
       "| audi       | a4 quattro | 27         |\n",
       "| audi       | a4         | 26         |\n",
       "| audi       | a4         | 26         |\n",
       "| audi       | a4 quattro | 26         |\n",
       "| audi       | a4 quattro | 25         |\n",
       "| audi       | a4 quattro | 25         |\n",
       "| audi       | a4 quattro | 25         |\n",
       "| audi       | a4 quattro | 25         |\n",
       "| audi       | a4 quattro | 25         |\n",
       "| audi       | a6 quattro | 25         |\n",
       "| audi       | a6 quattro | 24         |\n",
       "| audi       | a6 quattro | 23         |\n",
       "\n"
      ],
      "text/plain": [
       "   manufacturer model      hwy\n",
       "1  audi         a4         31 \n",
       "2  audi         a4         30 \n",
       "3  audi         a4         29 \n",
       "4  audi         a4         29 \n",
       "5  audi         a4 quattro 28 \n",
       "6  audi         a4         27 \n",
       "7  audi         a4 quattro 27 \n",
       "8  audi         a4         26 \n",
       "9  audi         a4         26 \n",
       "10 audi         a4 quattro 26 \n",
       "11 audi         a4 quattro 25 \n",
       "12 audi         a4 quattro 25 \n",
       "13 audi         a4 quattro 25 \n",
       "14 audi         a4 quattro 25 \n",
       "15 audi         a4 quattro 25 \n",
       "16 audi         a6 quattro 25 \n",
       "17 audi         a6 quattro 24 \n",
       "18 audi         a6 quattro 23 "
      ]
     },
     "metadata": {},
     "output_type": "display_data"
    }
   ],
   "source": [
    "mpg  %>% \n",
    "        select(manufacturer, model, hwy) %>% \n",
    "        filter(manufacturer == tolower('AUDI'))  %>% \n",
    "        arrange(desc(hwy))"
   ]
  },
  {
   "cell_type": "code",
   "execution_count": 12,
   "metadata": {},
   "outputs": [
    {
     "data": {
      "text/html": [
       "<table>\n",
       "<thead><tr><th scope=col>model</th><th scope=col>mean_hwy</th></tr></thead>\n",
       "<tbody>\n",
       "\t<tr><td>a4        </td><td>28.28571  </td></tr>\n",
       "\t<tr><td>a4 quattro</td><td>25.75000  </td></tr>\n",
       "\t<tr><td>a6 quattro</td><td>24.00000  </td></tr>\n",
       "</tbody>\n",
       "</table>\n"
      ],
      "text/latex": [
       "\\begin{tabular}{r|ll}\n",
       " model & mean\\_hwy\\\\\n",
       "\\hline\n",
       "\t a4         & 28.28571  \\\\\n",
       "\t a4 quattro & 25.75000  \\\\\n",
       "\t a6 quattro & 24.00000  \\\\\n",
       "\\end{tabular}\n"
      ],
      "text/markdown": [
       "\n",
       "| model | mean_hwy |\n",
       "|---|---|\n",
       "| a4         | 28.28571   |\n",
       "| a4 quattro | 25.75000   |\n",
       "| a6 quattro | 24.00000   |\n",
       "\n"
      ],
      "text/plain": [
       "  model      mean_hwy\n",
       "1 a4         28.28571\n",
       "2 a4 quattro 25.75000\n",
       "3 a6 quattro 24.00000"
      ]
     },
     "metadata": {},
     "output_type": "display_data"
    }
   ],
   "source": [
    "# 모델별 평균 hwy를 내림차순으로 정렬\n",
    "mpg  %>% \n",
    "        select(manufacturer, model, hwy) %>% \n",
    "        filter(manufacturer == tolower('AUDI'))  %>% \n",
    "        group_by(model) %>% summarize(mean_hwy = mean(hwy))  %>% arrange(desc(mean_hwy))"
   ]
  },
  {
   "cell_type": "markdown",
   "metadata": {},
   "source": [
    "### mutate() : 변수 추가"
   ]
  },
  {
   "cell_type": "code",
   "execution_count": 14,
   "metadata": {},
   "outputs": [],
   "source": [
    "exam <- read.csv(\"./files/exam.csv\", fileEncoding='utf-8', encoding='utf-8')"
   ]
  },
  {
   "cell_type": "code",
   "execution_count": 15,
   "metadata": {},
   "outputs": [
    {
     "data": {
      "text/html": [
       "<table>\n",
       "<thead><tr><th scope=col>id</th><th scope=col>class</th><th scope=col>math</th><th scope=col>english</th><th scope=col>science</th></tr></thead>\n",
       "<tbody>\n",
       "\t<tr><td>1 </td><td>1 </td><td>50</td><td>98</td><td>50</td></tr>\n",
       "\t<tr><td>2 </td><td>1 </td><td>60</td><td>97</td><td>60</td></tr>\n",
       "\t<tr><td>3 </td><td>1 </td><td>45</td><td>86</td><td>78</td></tr>\n",
       "</tbody>\n",
       "</table>\n"
      ],
      "text/latex": [
       "\\begin{tabular}{r|lllll}\n",
       " id & class & math & english & science\\\\\n",
       "\\hline\n",
       "\t 1  & 1  & 50 & 98 & 50\\\\\n",
       "\t 2  & 1  & 60 & 97 & 60\\\\\n",
       "\t 3  & 1  & 45 & 86 & 78\\\\\n",
       "\\end{tabular}\n"
      ],
      "text/markdown": [
       "\n",
       "| id | class | math | english | science |\n",
       "|---|---|---|---|---|\n",
       "| 1  | 1  | 50 | 98 | 50 |\n",
       "| 2  | 1  | 60 | 97 | 60 |\n",
       "| 3  | 1  | 45 | 86 | 78 |\n",
       "\n"
      ],
      "text/plain": [
       "  id class math english science\n",
       "1 1  1     50   98      50     \n",
       "2 2  1     60   97      60     \n",
       "3 3  1     45   86      78     "
      ]
     },
     "metadata": {},
     "output_type": "display_data"
    }
   ],
   "source": [
    "exam  %>% head(3)"
   ]
  },
  {
   "cell_type": "code",
   "execution_count": 20,
   "metadata": {},
   "outputs": [
    {
     "data": {
      "text/html": [
       "<table>\n",
       "<thead><tr><th scope=col>id</th><th scope=col>class</th><th scope=col>math</th><th scope=col>english</th><th scope=col>science</th><th scope=col>total</th></tr></thead>\n",
       "<tbody>\n",
       "\t<tr><td>1  </td><td>1  </td><td>50 </td><td>98 </td><td>50 </td><td>198</td></tr>\n",
       "\t<tr><td>2  </td><td>1  </td><td>60 </td><td>97 </td><td>60 </td><td>217</td></tr>\n",
       "\t<tr><td>3  </td><td>1  </td><td>45 </td><td>86 </td><td>78 </td><td>209</td></tr>\n",
       "</tbody>\n",
       "</table>\n"
      ],
      "text/latex": [
       "\\begin{tabular}{r|llllll}\n",
       " id & class & math & english & science & total\\\\\n",
       "\\hline\n",
       "\t 1   & 1   & 50  & 98  & 50  & 198\\\\\n",
       "\t 2   & 1   & 60  & 97  & 60  & 217\\\\\n",
       "\t 3   & 1   & 45  & 86  & 78  & 209\\\\\n",
       "\\end{tabular}\n"
      ],
      "text/markdown": [
       "\n",
       "| id | class | math | english | science | total |\n",
       "|---|---|---|---|---|---|\n",
       "| 1   | 1   | 50  | 98  | 50  | 198 |\n",
       "| 2   | 1   | 60  | 97  | 60  | 217 |\n",
       "| 3   | 1   | 45  | 86  | 78  | 209 |\n",
       "\n"
      ],
      "text/plain": [
       "  id class math english science total\n",
       "1 1  1     50   98      50      198  \n",
       "2 2  1     60   97      60      217  \n",
       "3 3  1     45   86      78      209  "
      ]
     },
     "metadata": {},
     "output_type": "display_data"
    }
   ],
   "source": [
    "# 총점 컬럼의 추가\n",
    "exam2 <- exam %>% mutate(total = math + english + science)\n",
    "exam2  %>% head(3)"
   ]
  },
  {
   "cell_type": "code",
   "execution_count": 23,
   "metadata": {},
   "outputs": [
    {
     "data": {
      "text/html": [
       "<table>\n",
       "<thead><tr><th scope=col>id</th><th scope=col>class</th><th scope=col>math</th><th scope=col>english</th><th scope=col>science</th><th scope=col>total</th><th scope=col>mean</th></tr></thead>\n",
       "<tbody>\n",
       "\t<tr><td>1   </td><td>1   </td><td>50  </td><td>98  </td><td>50  </td><td>198 </td><td>66.0</td></tr>\n",
       "\t<tr><td>2   </td><td>1   </td><td>60  </td><td>97  </td><td>60  </td><td>217 </td><td>72.3</td></tr>\n",
       "\t<tr><td>3   </td><td>1   </td><td>45  </td><td>86  </td><td>78  </td><td>209 </td><td>69.7</td></tr>\n",
       "</tbody>\n",
       "</table>\n"
      ],
      "text/latex": [
       "\\begin{tabular}{r|lllllll}\n",
       " id & class & math & english & science & total & mean\\\\\n",
       "\\hline\n",
       "\t 1    & 1    & 50   & 98   & 50   & 198  & 66.0\\\\\n",
       "\t 2    & 1    & 60   & 97   & 60   & 217  & 72.3\\\\\n",
       "\t 3    & 1    & 45   & 86   & 78   & 209  & 69.7\\\\\n",
       "\\end{tabular}\n"
      ],
      "text/markdown": [
       "\n",
       "| id | class | math | english | science | total | mean |\n",
       "|---|---|---|---|---|---|---|\n",
       "| 1    | 1    | 50   | 98   | 50   | 198  | 66.0 |\n",
       "| 2    | 1    | 60   | 97   | 60   | 217  | 72.3 |\n",
       "| 3    | 1    | 45   | 86   | 78   | 209  | 69.7 |\n",
       "\n"
      ],
      "text/plain": [
       "  id class math english science total mean\n",
       "1 1  1     50   98      50      198   66.0\n",
       "2 2  1     60   97      60      217   72.3\n",
       "3 3  1     45   86      78      209   69.7"
      ]
     },
     "metadata": {},
     "output_type": "display_data"
    }
   ],
   "source": [
    "# round,평균 컬럼의 추가\n",
    "# 코드를 검증할 때는 할당하지 않고 진행한다.\n",
    "exam2 <- exam2 %>% mutate(mean = round(total/3, digits=1))\n",
    "exam2  %>% head(3)"
   ]
  },
  {
   "cell_type": "code",
   "execution_count": 26,
   "metadata": {},
   "outputs": [
    {
     "data": {
      "text/html": [
       "<table>\n",
       "<thead><tr><th scope=col>id</th><th scope=col>class</th><th scope=col>math</th><th scope=col>english</th><th scope=col>science</th><th scope=col>total</th><th scope=col>mean</th><th scope=col>test</th></tr></thead>\n",
       "<tbody>\n",
       "\t<tr><td>1   </td><td>1   </td><td>50  </td><td>98  </td><td>50  </td><td>198 </td><td>66.0</td><td>PASS</td></tr>\n",
       "\t<tr><td>2   </td><td>1   </td><td>60  </td><td>97  </td><td>60  </td><td>217 </td><td>72.3</td><td>PASS</td></tr>\n",
       "\t<tr><td>3   </td><td>1   </td><td>45  </td><td>86  </td><td>78  </td><td>209 </td><td>69.7</td><td>PASS</td></tr>\n",
       "</tbody>\n",
       "</table>\n"
      ],
      "text/latex": [
       "\\begin{tabular}{r|llllllll}\n",
       " id & class & math & english & science & total & mean & test\\\\\n",
       "\\hline\n",
       "\t 1    & 1    & 50   & 98   & 50   & 198  & 66.0 & PASS\\\\\n",
       "\t 2    & 1    & 60   & 97   & 60   & 217  & 72.3 & PASS\\\\\n",
       "\t 3    & 1    & 45   & 86   & 78   & 209  & 69.7 & PASS\\\\\n",
       "\\end{tabular}\n"
      ],
      "text/markdown": [
       "\n",
       "| id | class | math | english | science | total | mean | test |\n",
       "|---|---|---|---|---|---|---|---|\n",
       "| 1    | 1    | 50   | 98   | 50   | 198  | 66.0 | PASS |\n",
       "| 2    | 1    | 60   | 97   | 60   | 217  | 72.3 | PASS |\n",
       "| 3    | 1    | 45   | 86   | 78   | 209  | 69.7 | PASS |\n",
       "\n"
      ],
      "text/plain": [
       "  id class math english science total mean test\n",
       "1 1  1     50   98      50      198   66.0 PASS\n",
       "2 2  1     60   97      60      217   72.3 PASS\n",
       "3 3  1     45   86      78      209   69.7 PASS"
      ]
     },
     "metadata": {},
     "output_type": "display_data"
    }
   ],
   "source": [
    "# test 변수에 평균이 60점 이상이면 PASS 그렇지 않으면 FAIL 입력\n",
    "exam2 <- exam2 %>% mutate(test=ifelse(mean >= 60, 'PASS', 'FAIL'))\n",
    "exam2  %>% head(3)"
   ]
  },
  {
   "cell_type": "code",
   "execution_count": 28,
   "metadata": {},
   "outputs": [
    {
     "data": {
      "text/html": [
       "<table>\n",
       "<thead><tr><th scope=col>id</th><th scope=col>class</th><th scope=col>math</th><th scope=col>english</th><th scope=col>science</th><th scope=col>mean</th></tr></thead>\n",
       "<tbody>\n",
       "\t<tr><td>1   </td><td>1   </td><td>50  </td><td>98  </td><td>50  </td><td>66.0</td></tr>\n",
       "\t<tr><td>2   </td><td>1   </td><td>60  </td><td>97  </td><td>60  </td><td>72.3</td></tr>\n",
       "\t<tr><td>3   </td><td>1   </td><td>45  </td><td>86  </td><td>78  </td><td>69.7</td></tr>\n",
       "</tbody>\n",
       "</table>\n"
      ],
      "text/latex": [
       "\\begin{tabular}{r|llllll}\n",
       " id & class & math & english & science & mean\\\\\n",
       "\\hline\n",
       "\t 1    & 1    & 50   & 98   & 50   & 66.0\\\\\n",
       "\t 2    & 1    & 60   & 97   & 60   & 72.3\\\\\n",
       "\t 3    & 1    & 45   & 86   & 78   & 69.7\\\\\n",
       "\\end{tabular}\n"
      ],
      "text/markdown": [
       "\n",
       "| id | class | math | english | science | mean |\n",
       "|---|---|---|---|---|---|\n",
       "| 1    | 1    | 50   | 98   | 50   | 66.0 |\n",
       "| 2    | 1    | 60   | 97   | 60   | 72.3 |\n",
       "| 3    | 1    | 45   | 86   | 78   | 69.7 |\n",
       "\n"
      ],
      "text/plain": [
       "  id class math english science mean\n",
       "1 1  1     50   98      50      66.0\n",
       "2 2  1     60   97      60      72.3\n",
       "3 3  1     45   86      78      69.7"
      ]
     },
     "metadata": {},
     "output_type": "display_data"
    }
   ],
   "source": [
    "# 변수(칼럼)의 삭제, total, test 삭제\n",
    "exam3 <- exam2 %>% select(-total, -test)\n",
    "exam3  %>% head(3)"
   ]
  },
  {
   "cell_type": "code",
   "execution_count": 31,
   "metadata": {},
   "outputs": [
    {
     "data": {
      "text/html": [
       "<table>\n",
       "<thead><tr><th scope=col>id</th><th scope=col>class</th><th scope=col>math</th><th scope=col>english</th><th scope=col>science</th><th scope=col>mean</th></tr></thead>\n",
       "<tbody>\n",
       "\t<tr><td>18  </td><td>5   </td><td>80  </td><td>78  </td><td>90  </td><td>82.7</td></tr>\n",
       "\t<tr><td>19  </td><td>5   </td><td>89  </td><td>68  </td><td>87  </td><td>81.3</td></tr>\n",
       "\t<tr><td> 6  </td><td>2   </td><td>50  </td><td>89  </td><td>98  </td><td>79.0</td></tr>\n",
       "</tbody>\n",
       "</table>\n"
      ],
      "text/latex": [
       "\\begin{tabular}{r|llllll}\n",
       " id & class & math & english & science & mean\\\\\n",
       "\\hline\n",
       "\t 18   & 5    & 80   & 78   & 90   & 82.7\\\\\n",
       "\t 19   & 5    & 89   & 68   & 87   & 81.3\\\\\n",
       "\t  6   & 2    & 50   & 89   & 98   & 79.0\\\\\n",
       "\\end{tabular}\n"
      ],
      "text/markdown": [
       "\n",
       "| id | class | math | english | science | mean |\n",
       "|---|---|---|---|---|---|\n",
       "| 18   | 5    | 80   | 78   | 90   | 82.7 |\n",
       "| 19   | 5    | 89   | 68   | 87   | 81.3 |\n",
       "|  6   | 2    | 50   | 89   | 98   | 79.0 |\n",
       "\n"
      ],
      "text/plain": [
       "  id class math english science mean\n",
       "1 18 5     80   78      90      82.7\n",
       "2 19 5     89   68      87      81.3\n",
       "3  6 2     50   89      98      79.0"
      ]
     },
     "metadata": {},
     "output_type": "display_data"
    }
   ],
   "source": [
    "# 평균 내림차순, desc 대신 - 사용\n",
    "# exam3  %>% arrange(desc(mean))  %>% head(3)\n",
    "exam3  %>% arrange(-mean)"
   ]
  },
  {
   "cell_type": "code",
   "execution_count": 35,
   "metadata": {},
   "outputs": [],
   "source": [
    "?row_number\n",
    "# ranking {dplyr} : dplyr 안에 있음"
   ]
  },
  {
   "cell_type": "code",
   "execution_count": 39,
   "metadata": {},
   "outputs": [
    {
     "data": {
      "text/html": [
       "<ol class=list-inline>\n",
       "\t<li>6</li>\n",
       "\t<li>1</li>\n",
       "\t<li>2</li>\n",
       "\t<li>3</li>\n",
       "\t<li>7</li>\n",
       "\t<li>4</li>\n",
       "\t<li>5</li>\n",
       "</ol>\n"
      ],
      "text/latex": [
       "\\begin{enumerate*}\n",
       "\\item 6\n",
       "\\item 1\n",
       "\\item 2\n",
       "\\item 3\n",
       "\\item 7\n",
       "\\item 4\n",
       "\\item 5\n",
       "\\end{enumerate*}\n"
      ],
      "text/markdown": [
       "1. 6\n",
       "2. 1\n",
       "3. 2\n",
       "4. 3\n",
       "5. 7\n",
       "6. 4\n",
       "7. 5\n",
       "\n",
       "\n"
      ],
      "text/plain": [
       "[1] 6 1 2 3 7 4 5"
      ]
     },
     "metadata": {},
     "output_type": "display_data"
    },
    {
     "data": {
      "text/html": [
       "<ol class=list-inline>\n",
       "\t<li>6</li>\n",
       "\t<li>1</li>\n",
       "\t<li>2</li>\n",
       "\t<li>2</li>\n",
       "\t<li>7</li>\n",
       "\t<li>4</li>\n",
       "\t<li>4</li>\n",
       "</ol>\n"
      ],
      "text/latex": [
       "\\begin{enumerate*}\n",
       "\\item 6\n",
       "\\item 1\n",
       "\\item 2\n",
       "\\item 2\n",
       "\\item 7\n",
       "\\item 4\n",
       "\\item 4\n",
       "\\end{enumerate*}\n"
      ],
      "text/markdown": [
       "1. 6\n",
       "2. 1\n",
       "3. 2\n",
       "4. 2\n",
       "5. 7\n",
       "6. 4\n",
       "7. 4\n",
       "\n",
       "\n"
      ],
      "text/plain": [
       "[1] 6 1 2 2 7 4 4"
      ]
     },
     "metadata": {},
     "output_type": "display_data"
    },
    {
     "data": {
      "text/html": [
       "<ol class=list-inline>\n",
       "\t<li>6</li>\n",
       "\t<li>1</li>\n",
       "\t<li>2.5</li>\n",
       "\t<li>2.5</li>\n",
       "\t<li>7</li>\n",
       "\t<li>4.5</li>\n",
       "\t<li>4.5</li>\n",
       "</ol>\n"
      ],
      "text/latex": [
       "\\begin{enumerate*}\n",
       "\\item 6\n",
       "\\item 1\n",
       "\\item 2.5\n",
       "\\item 2.5\n",
       "\\item 7\n",
       "\\item 4.5\n",
       "\\item 4.5\n",
       "\\end{enumerate*}\n"
      ],
      "text/markdown": [
       "1. 6\n",
       "2. 1\n",
       "3. 2.5\n",
       "4. 2.5\n",
       "5. 7\n",
       "6. 4.5\n",
       "7. 4.5\n",
       "\n",
       "\n"
      ],
      "text/plain": [
       "[1] 6.0 1.0 2.5 2.5 7.0 4.5 4.5"
      ]
     },
     "metadata": {},
     "output_type": "display_data"
    },
    {
     "data": {
      "text/html": [
       "<ol class=list-inline>\n",
       "\t<li>4</li>\n",
       "\t<li>1</li>\n",
       "\t<li>2</li>\n",
       "\t<li>2</li>\n",
       "\t<li>5</li>\n",
       "\t<li>3</li>\n",
       "\t<li>3</li>\n",
       "</ol>\n"
      ],
      "text/latex": [
       "\\begin{enumerate*}\n",
       "\\item 4\n",
       "\\item 1\n",
       "\\item 2\n",
       "\\item 2\n",
       "\\item 5\n",
       "\\item 3\n",
       "\\item 3\n",
       "\\end{enumerate*}\n"
      ],
      "text/markdown": [
       "1. 4\n",
       "2. 1\n",
       "3. 2\n",
       "4. 2\n",
       "5. 5\n",
       "6. 3\n",
       "7. 3\n",
       "\n",
       "\n"
      ],
      "text/plain": [
       "[1] 4 1 2 2 5 3 3"
      ]
     },
     "metadata": {},
     "output_type": "display_data"
    }
   ],
   "source": [
    "# 순위 함수의 사용\n",
    "x <- c(7, 1, 3, 3, 10, 5, 5)\n",
    "row_number(x) # 동일한 순위를 다르게 처리\n",
    "# 6 1 2 3 7 4 5\n",
    "min_rank(x) # 동일한 순위는 동일한 값 적용, 2, 2, 다음에 4, ex. 반 석차\n",
    "# 6 1 2 2 7 4 4\n",
    "rank(x) # 값 이상하다\n",
    "# 6 1 2.5 2.5 7 4.5 4.5\n",
    "dense_rank(x) # 동일한 순위 동일값 적용, 2,2 다음에 3, 누락된 순위가 없음\n",
    "# 4 1 2 2 5 3 3"
   ]
  },
  {
   "cell_type": "code",
   "execution_count": 42,
   "metadata": {},
   "outputs": [
    {
     "data": {
      "text/html": [
       "<table>\n",
       "<thead><tr><th scope=col>id</th><th scope=col>class</th><th scope=col>math</th><th scope=col>english</th><th scope=col>science</th><th scope=col>mean</th><th scope=col>rank</th></tr></thead>\n",
       "<tbody>\n",
       "\t<tr><td>18  </td><td>5   </td><td>80  </td><td>78  </td><td>90  </td><td>82.7</td><td>1   </td></tr>\n",
       "\t<tr><td>19  </td><td>5   </td><td>89  </td><td>68  </td><td>87  </td><td>81.3</td><td>2   </td></tr>\n",
       "\t<tr><td> 6  </td><td>2   </td><td>50  </td><td>89  </td><td>98  </td><td>79.0</td><td>3   </td></tr>\n",
       "\t<tr><td>17  </td><td>5   </td><td>65  </td><td>68  </td><td>98  </td><td>77.0</td><td>4   </td></tr>\n",
       "\t<tr><td>16  </td><td>4   </td><td>58  </td><td>98  </td><td>65  </td><td>73.7</td><td>5   </td></tr>\n",
       "</tbody>\n",
       "</table>\n"
      ],
      "text/latex": [
       "\\begin{tabular}{r|lllllll}\n",
       " id & class & math & english & science & mean & rank\\\\\n",
       "\\hline\n",
       "\t 18   & 5    & 80   & 78   & 90   & 82.7 & 1   \\\\\n",
       "\t 19   & 5    & 89   & 68   & 87   & 81.3 & 2   \\\\\n",
       "\t  6   & 2    & 50   & 89   & 98   & 79.0 & 3   \\\\\n",
       "\t 17   & 5    & 65   & 68   & 98   & 77.0 & 4   \\\\\n",
       "\t 16   & 4    & 58   & 98   & 65   & 73.7 & 5   \\\\\n",
       "\\end{tabular}\n"
      ],
      "text/markdown": [
       "\n",
       "| id | class | math | english | science | mean | rank |\n",
       "|---|---|---|---|---|---|---|\n",
       "| 18   | 5    | 80   | 78   | 90   | 82.7 | 1    |\n",
       "| 19   | 5    | 89   | 68   | 87   | 81.3 | 2    |\n",
       "|  6   | 2    | 50   | 89   | 98   | 79.0 | 3    |\n",
       "| 17   | 5    | 65   | 68   | 98   | 77.0 | 4    |\n",
       "| 16   | 4    | 58   | 98   | 65   | 73.7 | 5    |\n",
       "\n"
      ],
      "text/plain": [
       "  id class math english science mean rank\n",
       "1 18 5     80   78      90      82.7 1   \n",
       "2 19 5     89   68      87      81.3 2   \n",
       "3  6 2     50   89      98      79.0 3   \n",
       "4 17 5     65   68      98      77.0 4   \n",
       "5 16 4     58   98      65      73.7 5   "
      ]
     },
     "metadata": {},
     "output_type": "display_data"
    }
   ],
   "source": [
    "exam3 <- exam3 %>% mutate(rank=dense_rank(-mean)) %>% arrange(rank)\n",
    "exam3  %>% head(5)"
   ]
  },
  {
   "cell_type": "code",
   "execution_count": null,
   "metadata": {},
   "outputs": [],
   "source": [
    "# 3. mpg 데이터 복사본(mpg2)을 만들고,\n",
    "#    cty와 hwy를 더한 '합산 연비 변수:total'를 추가 할 것.\n",
    "#    최종 출력 변수는 manufacturer, cty, hwy, total"
   ]
  },
  {
   "cell_type": "code",
   "execution_count": 50,
   "metadata": {},
   "outputs": [
    {
     "data": {
      "text/html": [
       "<table>\n",
       "<thead><tr><th scope=col>manufacturer</th><th scope=col>cty</th><th scope=col>hwy</th><th scope=col>total</th></tr></thead>\n",
       "<tbody>\n",
       "\t<tr><td>audi</td><td>18  </td><td>29  </td><td>47  </td></tr>\n",
       "\t<tr><td>audi</td><td>21  </td><td>29  </td><td>50  </td></tr>\n",
       "\t<tr><td>audi</td><td>20  </td><td>31  </td><td>51  </td></tr>\n",
       "</tbody>\n",
       "</table>\n"
      ],
      "text/latex": [
       "\\begin{tabular}{r|llll}\n",
       " manufacturer & cty & hwy & total\\\\\n",
       "\\hline\n",
       "\t audi & 18   & 29   & 47  \\\\\n",
       "\t audi & 21   & 29   & 50  \\\\\n",
       "\t audi & 20   & 31   & 51  \\\\\n",
       "\\end{tabular}\n"
      ],
      "text/markdown": [
       "\n",
       "| manufacturer | cty | hwy | total |\n",
       "|---|---|---|---|\n",
       "| audi | 18   | 29   | 47   |\n",
       "| audi | 21   | 29   | 50   |\n",
       "| audi | 20   | 31   | 51   |\n",
       "\n"
      ],
      "text/plain": [
       "  manufacturer cty hwy total\n",
       "1 audi         18  29  47   \n",
       "2 audi         21  29  50   \n",
       "3 audi         20  31  51   "
      ]
     },
     "metadata": {},
     "output_type": "display_data"
    }
   ],
   "source": [
    "mpg2 <- mpg %>% select(manufacturer,cty, hwy) %>% mutate(total = cty + hwy)  \n",
    "mpg2  %>% head(3)"
   ]
  },
  {
   "cell_type": "code",
   "execution_count": 52,
   "metadata": {},
   "outputs": [
    {
     "data": {
      "text/html": [
       "<table>\n",
       "<thead><tr><th scope=col>manufacturer</th><th scope=col>cty</th><th scope=col>hwy</th><th scope=col>total</th><th scope=col>mean</th></tr></thead>\n",
       "<tbody>\n",
       "\t<tr><td>audi</td><td>18  </td><td>29  </td><td>47  </td><td>23.5</td></tr>\n",
       "\t<tr><td>audi</td><td>21  </td><td>29  </td><td>50  </td><td>25.0</td></tr>\n",
       "\t<tr><td>audi</td><td>20  </td><td>31  </td><td>51  </td><td>25.5</td></tr>\n",
       "\t<tr><td>audi</td><td>21  </td><td>30  </td><td>51  </td><td>25.5</td></tr>\n",
       "\t<tr><td>audi</td><td>16  </td><td>26  </td><td>42  </td><td>21.0</td></tr>\n",
       "\t<tr><td>audi</td><td>18  </td><td>26  </td><td>44  </td><td>22.0</td></tr>\n",
       "</tbody>\n",
       "</table>\n"
      ],
      "text/latex": [
       "\\begin{tabular}{r|lllll}\n",
       " manufacturer & cty & hwy & total & mean\\\\\n",
       "\\hline\n",
       "\t audi & 18   & 29   & 47   & 23.5\\\\\n",
       "\t audi & 21   & 29   & 50   & 25.0\\\\\n",
       "\t audi & 20   & 31   & 51   & 25.5\\\\\n",
       "\t audi & 21   & 30   & 51   & 25.5\\\\\n",
       "\t audi & 16   & 26   & 42   & 21.0\\\\\n",
       "\t audi & 18   & 26   & 44   & 22.0\\\\\n",
       "\\end{tabular}\n"
      ],
      "text/markdown": [
       "\n",
       "| manufacturer | cty | hwy | total | mean |\n",
       "|---|---|---|---|---|\n",
       "| audi | 18   | 29   | 47   | 23.5 |\n",
       "| audi | 21   | 29   | 50   | 25.0 |\n",
       "| audi | 20   | 31   | 51   | 25.5 |\n",
       "| audi | 21   | 30   | 51   | 25.5 |\n",
       "| audi | 16   | 26   | 42   | 21.0 |\n",
       "| audi | 18   | 26   | 44   | 22.0 |\n",
       "\n"
      ],
      "text/plain": [
       "  manufacturer cty hwy total mean\n",
       "1 audi         18  29  47    23.5\n",
       "2 audi         21  29  50    25.0\n",
       "3 audi         20  31  51    25.5\n",
       "4 audi         21  30  51    25.5\n",
       "5 audi         16  26  42    21.0\n",
       "6 audi         18  26  44    22.0"
      ]
     },
     "metadata": {},
     "output_type": "display_data"
    }
   ],
   "source": [
    "# 4. total을 2로 나눠 '평균 연비 변수: mean'를 추가 할 것.\n",
    "# 소수 첫째자리까지 출력, 단위는 갤런당 마일수\n",
    "mpg2 <- mpg2 %>% mutate(mean=round(total/2, digits=1))\n",
    "mpg2 %>% head()"
   ]
  },
  {
   "cell_type": "code",
   "execution_count": 53,
   "metadata": {},
   "outputs": [
    {
     "data": {
      "text/html": [
       "<table>\n",
       "<thead><tr><th scope=col>manufacturer</th><th scope=col>cty</th><th scope=col>hwy</th><th scope=col>total</th><th scope=col>mean</th><th scope=col>km</th></tr></thead>\n",
       "<tbody>\n",
       "\t<tr><td>audi</td><td>18  </td><td>29  </td><td>47  </td><td>23.5</td><td>38  </td></tr>\n",
       "\t<tr><td>audi</td><td>21  </td><td>29  </td><td>50  </td><td>25.0</td><td>40  </td></tr>\n",
       "\t<tr><td>audi</td><td>20  </td><td>31  </td><td>51  </td><td>25.5</td><td>41  </td></tr>\n",
       "\t<tr><td>audi</td><td>21  </td><td>30  </td><td>51  </td><td>25.5</td><td>41  </td></tr>\n",
       "\t<tr><td>audi</td><td>16  </td><td>26  </td><td>42  </td><td>21.0</td><td>34  </td></tr>\n",
       "\t<tr><td>audi</td><td>18  </td><td>26  </td><td>44  </td><td>22.0</td><td>35  </td></tr>\n",
       "</tbody>\n",
       "</table>\n"
      ],
      "text/latex": [
       "\\begin{tabular}{r|llllll}\n",
       " manufacturer & cty & hwy & total & mean & km\\\\\n",
       "\\hline\n",
       "\t audi & 18   & 29   & 47   & 23.5 & 38  \\\\\n",
       "\t audi & 21   & 29   & 50   & 25.0 & 40  \\\\\n",
       "\t audi & 20   & 31   & 51   & 25.5 & 41  \\\\\n",
       "\t audi & 21   & 30   & 51   & 25.5 & 41  \\\\\n",
       "\t audi & 16   & 26   & 42   & 21.0 & 34  \\\\\n",
       "\t audi & 18   & 26   & 44   & 22.0 & 35  \\\\\n",
       "\\end{tabular}\n"
      ],
      "text/markdown": [
       "\n",
       "| manufacturer | cty | hwy | total | mean | km |\n",
       "|---|---|---|---|---|---|\n",
       "| audi | 18   | 29   | 47   | 23.5 | 38   |\n",
       "| audi | 21   | 29   | 50   | 25.0 | 40   |\n",
       "| audi | 20   | 31   | 51   | 25.5 | 41   |\n",
       "| audi | 21   | 30   | 51   | 25.5 | 41   |\n",
       "| audi | 16   | 26   | 42   | 21.0 | 34   |\n",
       "| audi | 18   | 26   | 44   | 22.0 | 35   |\n",
       "\n"
      ],
      "text/plain": [
       "  manufacturer cty hwy total mean km\n",
       "1 audi         18  29  47    23.5 38\n",
       "2 audi         21  29  50    25.0 40\n",
       "3 audi         20  31  51    25.5 41\n",
       "4 audi         21  30  51    25.5 41\n",
       "5 audi         16  26  42    21.0 34\n",
       "6 audi         18  26  44    22.0 35"
      ]
     },
     "metadata": {},
     "output_type": "display_data"
    }
   ],
   "source": [
    "# 5. 1 마일 = 1.6KM임으로 KM로 변경하여 'km' 변수를 추가 할 것. \n",
    "mpg3 <- mpg2  %>%  mutate(km = round(mean*1.6))\n",
    "mpg3  %>% head()"
   ]
  },
  {
   "cell_type": "code",
   "execution_count": 58,
   "metadata": {},
   "outputs": [
    {
     "data": {
      "text/html": [
       "<table>\n",
       "<thead><tr><th scope=col>manufacturer</th><th scope=col>cty</th><th scope=col>hwy</th><th scope=col>total</th><th scope=col>mean</th><th scope=col>km</th><th scope=col>liter</th></tr></thead>\n",
       "<tbody>\n",
       "\t<tr><td>audi</td><td>18  </td><td>29  </td><td>47  </td><td>23.5</td><td>38  </td><td>10.0</td></tr>\n",
       "\t<tr><td>audi</td><td>21  </td><td>29  </td><td>50  </td><td>25.0</td><td>40  </td><td>10.6</td></tr>\n",
       "\t<tr><td>audi</td><td>20  </td><td>31  </td><td>51  </td><td>25.5</td><td>41  </td><td>10.8</td></tr>\n",
       "\t<tr><td>audi</td><td>21  </td><td>30  </td><td>51  </td><td>25.5</td><td>41  </td><td>10.8</td></tr>\n",
       "\t<tr><td>audi</td><td>16  </td><td>26  </td><td>42  </td><td>21.0</td><td>34  </td><td> 9.0</td></tr>\n",
       "\t<tr><td>audi</td><td>18  </td><td>26  </td><td>44  </td><td>22.0</td><td>35  </td><td> 9.2</td></tr>\n",
       "</tbody>\n",
       "</table>\n"
      ],
      "text/latex": [
       "\\begin{tabular}{r|lllllll}\n",
       " manufacturer & cty & hwy & total & mean & km & liter\\\\\n",
       "\\hline\n",
       "\t audi & 18   & 29   & 47   & 23.5 & 38   & 10.0\\\\\n",
       "\t audi & 21   & 29   & 50   & 25.0 & 40   & 10.6\\\\\n",
       "\t audi & 20   & 31   & 51   & 25.5 & 41   & 10.8\\\\\n",
       "\t audi & 21   & 30   & 51   & 25.5 & 41   & 10.8\\\\\n",
       "\t audi & 16   & 26   & 42   & 21.0 & 34   &  9.0\\\\\n",
       "\t audi & 18   & 26   & 44   & 22.0 & 35   &  9.2\\\\\n",
       "\\end{tabular}\n"
      ],
      "text/markdown": [
       "\n",
       "| manufacturer | cty | hwy | total | mean | km | liter |\n",
       "|---|---|---|---|---|---|---|\n",
       "| audi | 18   | 29   | 47   | 23.5 | 38   | 10.0 |\n",
       "| audi | 21   | 29   | 50   | 25.0 | 40   | 10.6 |\n",
       "| audi | 20   | 31   | 51   | 25.5 | 41   | 10.8 |\n",
       "| audi | 21   | 30   | 51   | 25.5 | 41   | 10.8 |\n",
       "| audi | 16   | 26   | 42   | 21.0 | 34   |  9.0 |\n",
       "| audi | 18   | 26   | 44   | 22.0 | 35   |  9.2 |\n",
       "\n"
      ],
      "text/plain": [
       "  manufacturer cty hwy total mean km liter\n",
       "1 audi         18  29  47    23.5 38 10.0 \n",
       "2 audi         21  29  50    25.0 40 10.6 \n",
       "3 audi         20  31  51    25.5 41 10.8 \n",
       "4 audi         21  30  51    25.5 41 10.8 \n",
       "5 audi         16  26  42    21.0 34  9.0 \n",
       "6 audi         18  26  44    22.0 35  9.2 "
      ]
     },
     "metadata": {},
     "output_type": "display_data"
    }
   ],
   "source": [
    "# 6. km변수를 리터 단윌 변경, 1갤런 3.78541 리터, liter 변수 추가\n",
    "# 38km / 1갤런 -> 38km/3.78541리터 -> 10.../1리터\n",
    "# 3리터로 가는 길을 1리터로 갔을 때 거리\n",
    "mpg3 <- mpg3  %>%  mutate(liter = round(km / 3.78541, 1))\n",
    "mpg3  %>% head()"
   ]
  },
  {
   "cell_type": "code",
   "execution_count": 59,
   "metadata": {},
   "outputs": [
    {
     "data": {
      "text/html": [
       "<table>\n",
       "<thead><tr><th scope=col>manufacturer</th><th scope=col>cty</th><th scope=col>hwy</th><th scope=col>total</th><th scope=col>mean</th><th scope=col>km</th><th scope=col>liter</th></tr></thead>\n",
       "<tbody>\n",
       "\t<tr><td>volkswagen</td><td>35        </td><td>44        </td><td>79        </td><td>39.5      </td><td>63        </td><td>16.6      </td></tr>\n",
       "\t<tr><td>volkswagen</td><td>33        </td><td>44        </td><td>77        </td><td>38.5      </td><td>62        </td><td>16.4      </td></tr>\n",
       "\t<tr><td>volkswagen</td><td>29        </td><td>41        </td><td>70        </td><td>35.0      </td><td>56        </td><td>14.8      </td></tr>\n",
       "\t<tr><td>toyota    </td><td>28        </td><td>37        </td><td>65        </td><td>32.5      </td><td>52        </td><td>13.7      </td></tr>\n",
       "\t<tr><td>honda     </td><td>28        </td><td>33        </td><td>61        </td><td>30.5      </td><td>49        </td><td>12.9      </td></tr>\n",
       "\t<tr><td>honda     </td><td>25        </td><td>36        </td><td>61        </td><td>30.5      </td><td>49        </td><td>12.9      </td></tr>\n",
       "</tbody>\n",
       "</table>\n"
      ],
      "text/latex": [
       "\\begin{tabular}{r|lllllll}\n",
       " manufacturer & cty & hwy & total & mean & km & liter\\\\\n",
       "\\hline\n",
       "\t volkswagen & 35         & 44         & 79         & 39.5       & 63         & 16.6      \\\\\n",
       "\t volkswagen & 33         & 44         & 77         & 38.5       & 62         & 16.4      \\\\\n",
       "\t volkswagen & 29         & 41         & 70         & 35.0       & 56         & 14.8      \\\\\n",
       "\t toyota     & 28         & 37         & 65         & 32.5       & 52         & 13.7      \\\\\n",
       "\t honda      & 28         & 33         & 61         & 30.5       & 49         & 12.9      \\\\\n",
       "\t honda      & 25         & 36         & 61         & 30.5       & 49         & 12.9      \\\\\n",
       "\\end{tabular}\n"
      ],
      "text/markdown": [
       "\n",
       "| manufacturer | cty | hwy | total | mean | km | liter |\n",
       "|---|---|---|---|---|---|---|\n",
       "| volkswagen | 35         | 44         | 79         | 39.5       | 63         | 16.6       |\n",
       "| volkswagen | 33         | 44         | 77         | 38.5       | 62         | 16.4       |\n",
       "| volkswagen | 29         | 41         | 70         | 35.0       | 56         | 14.8       |\n",
       "| toyota     | 28         | 37         | 65         | 32.5       | 52         | 13.7       |\n",
       "| honda      | 28         | 33         | 61         | 30.5       | 49         | 12.9       |\n",
       "| honda      | 25         | 36         | 61         | 30.5       | 49         | 12.9       |\n",
       "\n"
      ],
      "text/plain": [
       "  manufacturer cty hwy total mean km liter\n",
       "1 volkswagen   35  44  79    39.5 63 16.6 \n",
       "2 volkswagen   33  44  77    38.5 62 16.4 \n",
       "3 volkswagen   29  41  70    35.0 56 14.8 \n",
       "4 toyota       28  37  65    32.5 52 13.7 \n",
       "5 honda        28  33  61    30.5 49 12.9 \n",
       "6 honda        25  36  61    30.5 49 12.9 "
      ]
     },
     "metadata": {},
     "output_type": "display_data"
    }
   ],
   "source": [
    "# 7. 리터당 연비 내림차순으로 정렬할 것.\n",
    "mpg3  %>% arrange(-liter)  %>% head()"
   ]
  },
  {
   "cell_type": "code",
   "execution_count": 63,
   "metadata": {},
   "outputs": [
    {
     "data": {
      "text/html": [
       "<table>\n",
       "<thead><tr><th scope=col>manufacturer</th><th scope=col>cty</th><th scope=col>hwy</th><th scope=col>total</th><th scope=col>mean</th><th scope=col>km</th><th scope=col>liter</th></tr></thead>\n",
       "<tbody>\n",
       "\t<tr><td>volkswagen</td><td>35        </td><td>44        </td><td>79        </td><td>39.5      </td><td>63        </td><td>16.6      </td></tr>\n",
       "\t<tr><td>volkswagen</td><td>33        </td><td>44        </td><td>77        </td><td>38.5      </td><td>62        </td><td>16.4      </td></tr>\n",
       "\t<tr><td>volkswagen</td><td>29        </td><td>41        </td><td>70        </td><td>35.0      </td><td>56        </td><td>14.8      </td></tr>\n",
       "\t<tr><td>toyota    </td><td>28        </td><td>37        </td><td>65        </td><td>32.5      </td><td>52        </td><td>13.7      </td></tr>\n",
       "\t<tr><td>honda     </td><td>28        </td><td>33        </td><td>61        </td><td>30.5      </td><td>49        </td><td>12.9      </td></tr>\n",
       "\t<tr><td>honda     </td><td>25        </td><td>36        </td><td>61        </td><td>30.5      </td><td>49        </td><td>12.9      </td></tr>\n",
       "</tbody>\n",
       "</table>\n"
      ],
      "text/latex": [
       "\\begin{tabular}{r|lllllll}\n",
       " manufacturer & cty & hwy & total & mean & km & liter\\\\\n",
       "\\hline\n",
       "\t volkswagen & 35         & 44         & 79         & 39.5       & 63         & 16.6      \\\\\n",
       "\t volkswagen & 33         & 44         & 77         & 38.5       & 62         & 16.4      \\\\\n",
       "\t volkswagen & 29         & 41         & 70         & 35.0       & 56         & 14.8      \\\\\n",
       "\t toyota     & 28         & 37         & 65         & 32.5       & 52         & 13.7      \\\\\n",
       "\t honda      & 28         & 33         & 61         & 30.5       & 49         & 12.9      \\\\\n",
       "\t honda      & 25         & 36         & 61         & 30.5       & 49         & 12.9      \\\\\n",
       "\\end{tabular}\n"
      ],
      "text/markdown": [
       "\n",
       "| manufacturer | cty | hwy | total | mean | km | liter |\n",
       "|---|---|---|---|---|---|---|\n",
       "| volkswagen | 35         | 44         | 79         | 39.5       | 63         | 16.6       |\n",
       "| volkswagen | 33         | 44         | 77         | 38.5       | 62         | 16.4       |\n",
       "| volkswagen | 29         | 41         | 70         | 35.0       | 56         | 14.8       |\n",
       "| toyota     | 28         | 37         | 65         | 32.5       | 52         | 13.7       |\n",
       "| honda      | 28         | 33         | 61         | 30.5       | 49         | 12.9       |\n",
       "| honda      | 25         | 36         | 61         | 30.5       | 49         | 12.9       |\n",
       "\n"
      ],
      "text/plain": [
       "  manufacturer cty hwy total mean km liter\n",
       "1 volkswagen   35  44  79    39.5 63 16.6 \n",
       "2 volkswagen   33  44  77    38.5 62 16.4 \n",
       "3 volkswagen   29  41  70    35.0 56 14.8 \n",
       "4 toyota       28  37  65    32.5 52 13.7 \n",
       "5 honda        28  33  61    30.5 49 12.9 \n",
       "6 honda        25  36  61    30.5 49 12.9 "
      ]
     },
     "metadata": {},
     "output_type": "display_data"
    }
   ],
   "source": [
    "# 8. 실습 3, 4, 5, 6을 통합한 스크립트를 제작하시오, mpg4 생성\n",
    "mpg4 <- mpg %>% \n",
    "        select(manufacturer,cty, hwy) %>% \n",
    "        mutate(total = cty + hwy) %>% \n",
    "        mutate(mean = round(total/2, digits=1)) %>% \n",
    "        mutate(km = round(mean*1.6)) %>%\n",
    "        mutate(liter = round(km / 3.78541, 1)) %>% \n",
    "        arrange(-liter)\n",
    "mpg4  %>% head()"
   ]
  },
  {
   "cell_type": "code",
   "execution_count": 65,
   "metadata": {},
   "outputs": [
    {
     "data": {
      "text/html": [
       "<table>\n",
       "<thead><tr><th scope=col>id</th><th scope=col>class</th><th scope=col>statistic</th><th scope=col>english</th><th scope=col>science</th></tr></thead>\n",
       "<tbody>\n",
       "\t<tr><td>1 </td><td>1 </td><td>50</td><td>98</td><td>50</td></tr>\n",
       "\t<tr><td>2 </td><td>1 </td><td>60</td><td>97</td><td>60</td></tr>\n",
       "\t<tr><td>3 </td><td>1 </td><td>45</td><td>86</td><td>78</td></tr>\n",
       "\t<tr><td>4 </td><td>1 </td><td>30</td><td>98</td><td>58</td></tr>\n",
       "\t<tr><td>5 </td><td>2 </td><td>25</td><td>80</td><td>65</td></tr>\n",
       "\t<tr><td>6 </td><td>2 </td><td>50</td><td>89</td><td>98</td></tr>\n",
       "</tbody>\n",
       "</table>\n"
      ],
      "text/latex": [
       "\\begin{tabular}{r|lllll}\n",
       " id & class & statistic & english & science\\\\\n",
       "\\hline\n",
       "\t 1  & 1  & 50 & 98 & 50\\\\\n",
       "\t 2  & 1  & 60 & 97 & 60\\\\\n",
       "\t 3  & 1  & 45 & 86 & 78\\\\\n",
       "\t 4  & 1  & 30 & 98 & 58\\\\\n",
       "\t 5  & 2  & 25 & 80 & 65\\\\\n",
       "\t 6  & 2  & 50 & 89 & 98\\\\\n",
       "\\end{tabular}\n"
      ],
      "text/markdown": [
       "\n",
       "| id | class | statistic | english | science |\n",
       "|---|---|---|---|---|\n",
       "| 1  | 1  | 50 | 98 | 50 |\n",
       "| 2  | 1  | 60 | 97 | 60 |\n",
       "| 3  | 1  | 45 | 86 | 78 |\n",
       "| 4  | 1  | 30 | 98 | 58 |\n",
       "| 5  | 2  | 25 | 80 | 65 |\n",
       "| 6  | 2  | 50 | 89 | 98 |\n",
       "\n"
      ],
      "text/plain": [
       "  id class statistic english science\n",
       "1 1  1     50        98      50     \n",
       "2 2  1     60        97      60     \n",
       "3 3  1     45        86      78     \n",
       "4 4  1     30        98      58     \n",
       "5 5  2     25        80      65     \n",
       "6 6  2     50        89      98     "
      ]
     },
     "metadata": {},
     "output_type": "display_data"
    }
   ],
   "source": [
    "exam <- exam %>% rename('statistic' = 'math') # 바꿀 이름 = 원래 이름\n",
    "exam  %>% head()"
   ]
  }
 ],
 "metadata": {
  "kernelspec": {
   "display_name": "R",
   "language": "R",
   "name": "ir"
  },
  "language_info": {
   "codemirror_mode": "r",
   "file_extension": ".r",
   "mimetype": "text/x-r-source",
   "name": "R",
   "pygments_lexer": "r",
   "version": "3.6.1"
  }
 },
 "nbformat": 4,
 "nbformat_minor": 2
}
