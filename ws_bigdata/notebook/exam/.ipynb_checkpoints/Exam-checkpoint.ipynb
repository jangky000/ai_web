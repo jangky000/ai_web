{
 "cells": [
  {
   "cell_type": "code",
   "execution_count": 6,
   "metadata": {},
   "outputs": [
    {
     "data": {
      "text/html": [
       "'C:/ai6/ws_bigdata/notebook/exam'"
      ],
      "text/latex": [
       "'C:/ai6/ws\\_bigdata/notebook/exam'"
      ],
      "text/markdown": [
       "'C:/ai6/ws_bigdata/notebook/exam'"
      ],
      "text/plain": [
       "[1] \"C:/ai6/ws_bigdata/notebook/exam\""
      ]
     },
     "metadata": {},
     "output_type": "display_data"
    },
    {
     "data": {
      "text/html": [
       "<table>\n",
       "<thead><tr><th scope=col>주문번호</th><th scope=col>이름</th><th scope=col>날짜</th><th scope=col>가격</th><th scope=col>상태</th><th scope=col>주소</th></tr></thead>\n",
       "<tbody>\n",
       "\t<tr><td>1         </td><td>왕눈이    </td><td>20200405  </td><td>1000      </td><td>승인대기  </td><td>서울특별시</td></tr>\n",
       "\t<tr><td>2         </td><td>아로미    </td><td>20200505  </td><td>2000      </td><td>승인완료  </td><td>경기도    </td></tr>\n",
       "\t<tr><td>3         </td><td>투투      </td><td>20200605  </td><td>3000      </td><td>결제취소  </td><td>강원도    </td></tr>\n",
       "</tbody>\n",
       "</table>\n"
      ],
      "text/latex": [
       "\\begin{tabular}{r|llllll}\n",
       " 주문번호 & 이름 & 날짜 & 가격 & 상태 & 주소\\\\\n",
       "\\hline\n",
       "\t 1          & 왕눈이     & 20200405   & 1000       & 승인대기   & 서울특별시\\\\\n",
       "\t 2          & 아로미     & 20200505   & 2000       & 승인완료   & 경기도    \\\\\n",
       "\t 3          & 투투       & 20200605   & 3000       & 결제취소   & 강원도    \\\\\n",
       "\\end{tabular}\n"
      ],
      "text/markdown": [
       "\n",
       "| 주문번호 | 이름 | 날짜 | 가격 | 상태 | 주소 |\n",
       "|---|---|---|---|---|---|\n",
       "| 1          | 왕눈이     | 20200405   | 1000       | 승인대기   | 서울특별시 |\n",
       "| 2          | 아로미     | 20200505   | 2000       | 승인완료   | 경기도     |\n",
       "| 3          | 투투       | 20200605   | 3000       | 결제취소   | 강원도     |\n",
       "\n"
      ],
      "text/plain": [
       "  주문번호 이름   날짜     가격 상태     주소      \n",
       "1 1        왕눈이 20200405 1000 승인대기 서울특별시\n",
       "2 2        아로미 20200505 2000 승인완료 경기도    \n",
       "3 3        투투   20200605 3000 결제취소 강원도    "
      ]
     },
     "metadata": {},
     "output_type": "display_data"
    }
   ],
   "source": [
    "# 1. 5개 이상의 변수로 이루어진 csv 파일을 제작하고 읽어오는 R 코드를 작성하시오. \n",
    "# - 파일명은 임의로 지정\n",
    "getwd()\n",
    "df <- read.csv('./order.csv', fileEncoding='utf-8', encoding='utf-8')\n",
    "df"
   ]
  },
  {
   "cell_type": "code",
   "execution_count": 11,
   "metadata": {},
   "outputs": [
    {
     "data": {
      "text/html": [
       "<table>\n",
       "<thead><tr><th scope=col>do</th><th scope=col>sigungu</th><th scope=col>dong</th></tr></thead>\n",
       "<tbody>\n",
       "\t<tr><td>서울특별시</td><td>송파구    </td><td>금은동    </td></tr>\n",
       "\t<tr><td>경기도    </td><td>성남시    </td><td>행복동    </td></tr>\n",
       "\t<tr><td>강원도    </td><td>강릉시    </td><td>엄복동    </td></tr>\n",
       "</tbody>\n",
       "</table>\n"
      ],
      "text/latex": [
       "\\begin{tabular}{r|lll}\n",
       " do & sigungu & dong\\\\\n",
       "\\hline\n",
       "\t 서울특별시 & 송파구     & 금은동    \\\\\n",
       "\t 경기도     & 성남시     & 행복동    \\\\\n",
       "\t 강원도     & 강릉시     & 엄복동    \\\\\n",
       "\\end{tabular}\n"
      ],
      "text/markdown": [
       "\n",
       "| do | sigungu | dong |\n",
       "|---|---|---|\n",
       "| 서울특별시 | 송파구     | 금은동     |\n",
       "| 경기도     | 성남시     | 행복동     |\n",
       "| 강원도     | 강릉시     | 엄복동     |\n",
       "\n"
      ],
      "text/plain": [
       "  do         sigungu dong  \n",
       "1 서울특별시 송파구  금은동\n",
       "2 경기도     성남시  행복동\n",
       "3 강원도     강릉시  엄복동"
      ]
     },
     "metadata": {},
     "output_type": "display_data"
    }
   ],
   "source": [
    "# 2. 임의의 데이터를 대상으로 Dataframe을 제작하고 화면에 출력하는 코드를 작성하시오.\n",
    "# - 변수는 3개 이상이어야함.\n",
    "df2 <- data.frame(do=c('서울특별시', '경기도', '강원도'), sigungu=c('송파구', '성남시', '강릉시'), dong=c('금은동', '행복동', '엄복동'))\n",
    "df2"
   ]
  },
  {
   "cell_type": "code",
   "execution_count": 17,
   "metadata": {},
   "outputs": [],
   "source": [
    "# 3. 작업된 Dataframe을 csv 파일로 저장하는 R 코드를 작성하시오.\n",
    "# - 파일명은 임의로 지정\n",
    "write.csv(df2, 'address.csv',fileEncoding='utf-8')"
   ]
  },
  {
   "cell_type": "code",
   "execution_count": 22,
   "metadata": {},
   "outputs": [
    {
     "data": {
      "text/html": [
       "30"
      ],
      "text/latex": [
       "30"
      ],
      "text/markdown": [
       "30"
      ],
      "text/plain": [
       "[1] 30"
      ]
     },
     "metadata": {},
     "output_type": "display_data"
    }
   ],
   "source": [
    "# 4. 2개의 수를 전달받아 합을 구하여 return하는 함수를 제작하시오.\n",
    "f4 <- function(num1, num2){\n",
    "    return (num1 + num2);\n",
    "}\n",
    "f4(10,20);"
   ]
  },
  {
   "cell_type": "code",
   "execution_count": 27,
   "metadata": {},
   "outputs": [
    {
     "data": {
      "text/html": [
       "<ol class=list-inline>\n",
       "\t<li>1</li>\n",
       "\t<li>2</li>\n",
       "\t<li>3</li>\n",
       "\t<li>4</li>\n",
       "\t<li>5</li>\n",
       "\t<li>6</li>\n",
       "\t<li>7</li>\n",
       "\t<li>8</li>\n",
       "\t<li>9</li>\n",
       "\t<li>10</li>\n",
       "</ol>\n"
      ],
      "text/latex": [
       "\\begin{enumerate*}\n",
       "\\item 1\n",
       "\\item 2\n",
       "\\item 3\n",
       "\\item 4\n",
       "\\item 5\n",
       "\\item 6\n",
       "\\item 7\n",
       "\\item 8\n",
       "\\item 9\n",
       "\\item 10\n",
       "\\end{enumerate*}\n"
      ],
      "text/markdown": [
       "1. 1\n",
       "2. 2\n",
       "3. 3\n",
       "4. 4\n",
       "5. 5\n",
       "6. 6\n",
       "7. 7\n",
       "8. 8\n",
       "9. 9\n",
       "10. 10\n",
       "\n",
       "\n"
      ],
      "text/plain": [
       " [1]  1  2  3  4  5  6  7  8  9 10"
      ]
     },
     "metadata": {},
     "output_type": "display_data"
    },
    {
     "data": {
      "text/html": [
       "55"
      ],
      "text/latex": [
       "55"
      ],
      "text/markdown": [
       "55"
      ],
      "text/plain": [
       "[1] 55"
      ]
     },
     "metadata": {},
     "output_type": "display_data"
    },
    {
     "data": {
      "text/html": [
       "5.5"
      ],
      "text/latex": [
       "5.5"
      ],
      "text/markdown": [
       "5.5"
      ],
      "text/plain": [
       "[1] 5.5"
      ]
     },
     "metadata": {},
     "output_type": "display_data"
    },
    {
     "data": {
      "text/html": [
       "9.16666666666667"
      ],
      "text/latex": [
       "9.16666666666667"
      ],
      "text/markdown": [
       "9.16666666666667"
      ],
      "text/plain": [
       "[1] 9.166667"
      ]
     },
     "metadata": {},
     "output_type": "display_data"
    },
    {
     "data": {
      "text/html": [
       "3.02765035409749"
      ],
      "text/latex": [
       "3.02765035409749"
      ],
      "text/markdown": [
       "3.02765035409749"
      ],
      "text/plain": [
       "[1] 3.02765"
      ]
     },
     "metadata": {},
     "output_type": "display_data"
    }
   ],
   "source": [
    "# 5. 1~10까지 vector 데이터를 만들고 합계, 평균, 분산, 표준편차를 산출하는 코드를 작성하시오. \n",
    "v5 <- c(1:10)\n",
    "v5\n",
    "sum(v5) # 합계\n",
    "mean(v5) # 평균\n",
    "var(v5) # 분산\n",
    "sd(v5) # 표준편차"
   ]
  },
  {
   "cell_type": "code",
   "execution_count": 28,
   "metadata": {},
   "outputs": [
    {
     "name": "stdout",
     "output_type": "stream",
     "text": [
      "package 'dplyr' successfully unpacked and MD5 sums checked\n",
      "\n",
      "The downloaded binary packages are in\n",
      "\tC:\\Users\\soldesk\\AppData\\Local\\Temp\\Rtmpqo6OlB\\downloaded_packages\n"
     ]
    }
   ],
   "source": [
    "# 6. dplyr 패키지를 설치하는 스크립트를 제작하시오.\n",
    "options(repos = c(CRAN = \"http://cran.rstudio.com\"))\n",
    "install.packages(\"dplyr\")"
   ]
  },
  {
   "cell_type": "code",
   "execution_count": 29,
   "metadata": {},
   "outputs": [
    {
     "name": "stderr",
     "output_type": "stream",
     "text": [
      "Warning message:\n",
      "\"package 'dplyr' was built under R version 3.6.3\"\n",
      "Attaching package: 'dplyr'\n",
      "\n",
      "The following objects are masked from 'package:stats':\n",
      "\n",
      "    filter, lag\n",
      "\n",
      "The following objects are masked from 'package:base':\n",
      "\n",
      "    intersect, setdiff, setequal, union\n",
      "\n"
     ]
    }
   ],
   "source": [
    "# 7. dplyr 패키지를 메모리에 로딩하는 스크립트를 제작하시오.\n",
    "library(dplyr)"
   ]
  },
  {
   "cell_type": "code",
   "execution_count": 54,
   "metadata": {},
   "outputs": [
    {
     "data": {
      "text/html": [
       "<table>\n",
       "<thead><tr><th scope=col>이름</th><th scope=col>R</th><th scope=col>Python</th><th scope=col>합계</th></tr></thead>\n",
       "<tbody>\n",
       "\t<tr><td>왕눈이</td><td>100   </td><td>30    </td><td>130   </td></tr>\n",
       "\t<tr><td>아로미</td><td> 80   </td><td>60    </td><td>140   </td></tr>\n",
       "\t<tr><td>투투  </td><td> 40   </td><td>70    </td><td>110   </td></tr>\n",
       "</tbody>\n",
       "</table>\n"
      ],
      "text/latex": [
       "\\begin{tabular}{r|llll}\n",
       " 이름 & R & Python & 합계\\\\\n",
       "\\hline\n",
       "\t 왕눈이 & 100    & 30     & 130   \\\\\n",
       "\t 아로미 &  80    & 60     & 140   \\\\\n",
       "\t 투투   &  40    & 70     & 110   \\\\\n",
       "\\end{tabular}\n"
      ],
      "text/markdown": [
       "\n",
       "| 이름 | R | Python | 합계 |\n",
       "|---|---|---|---|\n",
       "| 왕눈이 | 100    | 30     | 130    |\n",
       "| 아로미 |  80    | 60     | 140    |\n",
       "| 투투   |  40    | 70     | 110    |\n",
       "\n"
      ],
      "text/plain": [
       "  이름   R   Python 합계\n",
       "1 왕눈이 100 30     130 \n",
       "2 아로미  80 60     140 \n",
       "3 투투    40 70     110 "
      ]
     },
     "metadata": {},
     "output_type": "display_data"
    }
   ],
   "source": [
    "# 8. 사칙연산중 하나를 이용하여 존재하지 않는 변수를 추가하는 스크립트를 제작하시오.\n",
    "col1 <- c('왕눈이', '아로미', '투투')\n",
    "col2 <- c(100, 80, 40)\n",
    "col3 <- c(30, 60, 70)\n",
    "df8 <- data.frame(col1, col2, col3)\n",
    "names(df8) <- c('이름', 'R', 'Python')\n",
    "df8 <- df8  %>% mutate(합계 = R + Python)\n",
    "df8"
   ]
  },
  {
   "cell_type": "code",
   "execution_count": 58,
   "metadata": {},
   "outputs": [
    {
     "data": {
      "text/html": [
       "<table>\n",
       "<thead><tr><th scope=col>이름</th><th scope=col>R</th><th scope=col>Python</th><th scope=col>합계</th></tr></thead>\n",
       "<tbody>\n",
       "\t<tr><td>아로미</td><td> 80   </td><td>60    </td><td>140   </td></tr>\n",
       "\t<tr><td>왕눈이</td><td>100   </td><td>30    </td><td>130   </td></tr>\n",
       "\t<tr><td>투투  </td><td> 40   </td><td>70    </td><td>110   </td></tr>\n",
       "</tbody>\n",
       "</table>\n"
      ],
      "text/latex": [
       "\\begin{tabular}{r|llll}\n",
       " 이름 & R & Python & 합계\\\\\n",
       "\\hline\n",
       "\t 아로미 &  80    & 60     & 140   \\\\\n",
       "\t 왕눈이 & 100    & 30     & 130   \\\\\n",
       "\t 투투   &  40    & 70     & 110   \\\\\n",
       "\\end{tabular}\n"
      ],
      "text/markdown": [
       "\n",
       "| 이름 | R | Python | 합계 |\n",
       "|---|---|---|---|\n",
       "| 아로미 |  80    | 60     | 140    |\n",
       "| 왕눈이 | 100    | 30     | 130    |\n",
       "| 투투   |  40    | 70     | 110    |\n",
       "\n"
      ],
      "text/plain": [
       "  이름   R   Python 합계\n",
       "1 아로미  80 60     140 \n",
       "2 왕눈이 100 30     130 \n",
       "3 투투    40 70     110 "
      ]
     },
     "metadata": {},
     "output_type": "display_data"
    }
   ],
   "source": [
    "# 9. 정렬 기능을 적용하여 csv 파일로 출력하는 스크립트를 제작하시오.\n",
    "df9 <- df8  %>% arrange(-합계)\n",
    "df9\n",
    "write.csv(df9,'r_python.csv',fileEncoding='utf-8')"
   ]
  },
  {
   "cell_type": "code",
   "execution_count": 61,
   "metadata": {},
   "outputs": [
    {
     "name": "stderr",
     "output_type": "stream",
     "text": [
      "Warning message:\n",
      "\"package 'xlsx' was built under R version 3.6.3\"Warning message:\n",
      "\"package 'rJava' was built under R version 3.6.3\""
     ]
    }
   ],
   "source": [
    "# 10. 최종 작업된 Dataframe을 엑셀 파일로 저장하는 스크립트를 작성하고 엑셀 파일을 읽어와 화면에 출력하는 스크립트를 제작하시오.\n",
    "library(xlsx)\n",
    "library(rJava)\n",
    "\n",
    "write.xlsx(df9, 'write_xlsx.xlsx')"
   ]
  },
  {
   "cell_type": "code",
   "execution_count": 63,
   "metadata": {},
   "outputs": [
    {
     "data": {
      "text/html": [
       "<table>\n",
       "<thead><tr><th scope=col>NA.</th><th scope=col>이름</th><th scope=col>R</th><th scope=col>Python</th><th scope=col>합계</th></tr></thead>\n",
       "<tbody>\n",
       "\t<tr><td>1     </td><td>아로미</td><td> 80   </td><td>60    </td><td>140   </td></tr>\n",
       "\t<tr><td>2     </td><td>왕눈이</td><td>100   </td><td>30    </td><td>130   </td></tr>\n",
       "\t<tr><td>3     </td><td>투투  </td><td> 40   </td><td>70    </td><td>110   </td></tr>\n",
       "</tbody>\n",
       "</table>\n"
      ],
      "text/latex": [
       "\\begin{tabular}{r|lllll}\n",
       " NA. & 이름 & R & Python & 합계\\\\\n",
       "\\hline\n",
       "\t 1      & 아로미 &  80    & 60     & 140   \\\\\n",
       "\t 2      & 왕눈이 & 100    & 30     & 130   \\\\\n",
       "\t 3      & 투투   &  40    & 70     & 110   \\\\\n",
       "\\end{tabular}\n"
      ],
      "text/markdown": [
       "\n",
       "| NA. | 이름 | R | Python | 합계 |\n",
       "|---|---|---|---|---|\n",
       "| 1      | 아로미 |  80    | 60     | 140    |\n",
       "| 2      | 왕눈이 | 100    | 30     | 130    |\n",
       "| 3      | 투투   |  40    | 70     | 110    |\n",
       "\n"
      ],
      "text/plain": [
       "  NA. 이름   R   Python 합계\n",
       "1 1   아로미  80 60     140 \n",
       "2 2   왕눈이 100 30     130 \n",
       "3 3   투투    40 70     110 "
      ]
     },
     "metadata": {},
     "output_type": "display_data"
    }
   ],
   "source": [
    "read_xlsx<- read.xlsx('./write_xlsx.xlsx', sheetIndex=1, encoding=\"UTF-8\")\n",
    "read_xlsx"
   ]
  }
 ],
 "metadata": {
  "kernelspec": {
   "display_name": "R",
   "language": "R",
   "name": "ir"
  },
  "language_info": {
   "codemirror_mode": "r",
   "file_extension": ".r",
   "mimetype": "text/x-r-source",
   "name": "R",
   "pygments_lexer": "r",
   "version": "3.6.1"
  }
 },
 "nbformat": 4,
 "nbformat_minor": 2
}
